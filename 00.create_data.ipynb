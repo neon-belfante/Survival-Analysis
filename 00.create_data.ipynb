{
 "cells": [
  {
   "cell_type": "markdown",
   "id": "a1f45006",
   "metadata": {},
   "source": [
    "# Description\n",
    "The objective of this analysis is to understand the benefits of the use of survival analysis for the modelling of credit risk lifetime default curves.\n",
    "<br> The standard approach used in the industry is to:\n",
    "1. Train a classification model in a single target, usually default in 12 months\n",
    "2. Segment the portfolio in homogeneous risk groups.\n",
    "3. Calibrate the PD in 12 months over each group.\n",
    "4. calibrate the lifetime pd curve over each group.\n",
    "\n",
    "<br> The approach described above breaks down each modelling component in different challenges, the scorecard is only worried with discrimination of the population between clients with low and high risk of defaulting while the calibration of the risk curves deal with both level and shape of the risk curves. This allows for a modular approach, although it implements additional steps in the modelling.\n",
    "<br> An alternative approach would be using survival analysis methods which allows the modelling of the full lifetime curve in one single model.\n",
    "\n",
    "This analysis aims to explore the use of survival models to calibrate pd lifetime risk curves\n",
    "\n",
    "This notebook will create a syntetic set of data upon which the analysis will be done"
   ]
  },
  {
   "cell_type": "markdown",
   "id": "b68390e6",
   "metadata": {},
   "source": [
    "# Setup"
   ]
  },
  {
   "cell_type": "code",
   "execution_count": 1,
   "id": "e387edf3",
   "metadata": {},
   "outputs": [],
   "source": [
    "import pandas as pd\n",
    "import numpy as np\n",
    "import plotly.express as px\n",
    "import scipy\n",
    "from IPython.display import Image"
   ]
  },
  {
   "cell_type": "code",
   "execution_count": 2,
   "id": "6e8ce319",
   "metadata": {},
   "outputs": [],
   "source": [
    "pd.set_option('display.max_rows', 110)\n",
    "output_path = \"data/\""
   ]
  },
  {
   "cell_type": "markdown",
   "id": "0c55b931",
   "metadata": {},
   "source": [
    "# Data Creation"
   ]
  },
  {
   "cell_type": "code",
   "execution_count": 3,
   "id": "9e3c29ce",
   "metadata": {},
   "outputs": [],
   "source": [
    "def fit_power(x, shape, scale):\n",
    "  return (scale * x ** (-shape))\n",
    "\n",
    "def fit_exp(x, shape, scale):\n",
    "  result = scale * np.exp(np.multiply(-shape, x))\n",
    "  return result\n",
    "\n",
    "def fit_weibull(x, shape, scale, d):\n",
    "  result = (shape/scale)*np.power(((x+d)/scale), (shape-1)) * np.exp(-1 * np.power(((x+d)/scale), shape))\n",
    "  return result\n",
    "\n",
    "def fit_gamma(x, shape, scale, d=0):\n",
    "  from scipy.special import gamma\n",
    "  result = ((1 / (gamma(shape) * (scale ** shape))) * ((x+d) ** (shape - 1)) * np.exp(np.multiply(-1, (x+d)) / scale))\n",
    "  return result\n",
    "\n",
    "def logNormFunc(x, a, b, d):\n",
    "  result = (1 / ((x+d) * b * np.power(2* np.pi, 1/2))) * np.exp(-1*(np.power(np.log(x+d) - a, 2) / (2*np.power(b, 2))))\n",
    "  return result\n",
    "\n",
    "def gamma_pdf(x, a, b):\n",
    "  from scipy.special import gamma\n",
    "  return (np.power(x, (a - 1)) * np.exp(np.divide(np.multiply(-1, x), b))) / (np.power(b, a) * gamma(a))\n",
    "\n",
    "def exp_decay(x, a, b):\n",
    "  return a * np.exp(np.multiply(-b, x))\n",
    "\n",
    "def beta_pdf(x, a, b):\n",
    "  from scipy.special import beta\n",
    "  return np.divide((np.divide(x, np.power(60, (a - 1))) * np.power((1 - np.divide(x, 60)), (b - 1))), beta(a, b))"
   ]
  },
  {
   "cell_type": "code",
   "execution_count": 4,
   "id": "b48352d8",
   "metadata": {},
   "outputs": [
    {
     "name": "stderr",
     "output_type": "stream",
     "text": [
      "/home/neon/Documents/Dev/Survival Analysis/Survival-Analysis/.venv/lib/python3.10/site-packages/pandas/core/arraylike.py:399: RuntimeWarning: divide by zero encountered in log\n",
      "  result = getattr(ufunc, method)(*inputs, **kwargs)\n",
      "/home/neon/Documents/Dev/Survival Analysis/Survival-Analysis/.venv/lib/python3.10/site-packages/pandas/core/arraylike.py:399: RuntimeWarning: divide by zero encountered in log\n",
      "  result = getattr(ufunc, method)(*inputs, **kwargs)\n",
      "/home/neon/Documents/Dev/Survival Analysis/Survival-Analysis/.venv/lib/python3.10/site-packages/pandas/core/arraylike.py:399: RuntimeWarning: divide by zero encountered in log\n",
      "  result = getattr(ufunc, method)(*inputs, **kwargs)\n",
      "/home/neon/Documents/Dev/Survival Analysis/Survival-Analysis/.venv/lib/python3.10/site-packages/pandas/core/arraylike.py:399: RuntimeWarning: divide by zero encountered in log\n",
      "  result = getattr(ufunc, method)(*inputs, **kwargs)\n",
      "/home/neon/Documents/Dev/Survival Analysis/Survival-Analysis/.venv/lib/python3.10/site-packages/pandas/core/arraylike.py:399: RuntimeWarning: divide by zero encountered in log\n",
      "  result = getattr(ufunc, method)(*inputs, **kwargs)\n",
      "/home/neon/Documents/Dev/Survival Analysis/Survival-Analysis/.venv/lib/python3.10/site-packages/pandas/core/arraylike.py:399: RuntimeWarning: divide by zero encountered in log\n",
      "  result = getattr(ufunc, method)(*inputs, **kwargs)\n",
      "/home/neon/Documents/Dev/Survival Analysis/Survival-Analysis/.venv/lib/python3.10/site-packages/pandas/core/arraylike.py:399: RuntimeWarning: divide by zero encountered in log\n",
      "  result = getattr(ufunc, method)(*inputs, **kwargs)\n",
      "/home/neon/Documents/Dev/Survival Analysis/Survival-Analysis/.venv/lib/python3.10/site-packages/pandas/core/arraylike.py:399: RuntimeWarning: divide by zero encountered in log\n",
      "  result = getattr(ufunc, method)(*inputs, **kwargs)\n",
      "/home/neon/Documents/Dev/Survival Analysis/Survival-Analysis/.venv/lib/python3.10/site-packages/pandas/core/arraylike.py:399: RuntimeWarning: divide by zero encountered in log\n",
      "  result = getattr(ufunc, method)(*inputs, **kwargs)\n",
      "/home/neon/Documents/Dev/Survival Analysis/Survival-Analysis/.venv/lib/python3.10/site-packages/pandas/core/arraylike.py:399: RuntimeWarning: divide by zero encountered in log\n",
      "  result = getattr(ufunc, method)(*inputs, **kwargs)\n"
     ]
    },
    {
     "data": {
      "application/vnd.plotly.v1+json": {
       "config": {
        "plotlyServerURL": "https://plot.ly"
       },
       "data": [
        {
         "hovertemplate": "risk_band=10<br>variable=p<br>default_month=%{x}<br>value=%{y}<extra></extra>",
         "legendgroup": "10",
         "line": {
          "color": "#1F77B4",
          "dash": "solid"
         },
         "marker": {
          "symbol": "circle"
         },
         "mode": "lines",
         "name": "10",
         "showlegend": true,
         "type": "scattergl",
         "x": {
          "bdata": "AAECAwQFBgcICQoLDA0ODxAREhMUFRYXGBkaGxwdHh8gISIjJCUmJygpKissLS4vMDEyMzQ1Njc4OTo7PD0+P0BBQkNERUZHSElKS0xNTk9QUVJTVFVWV1hZWltcXV5fYGFiYw==",
          "dtype": "i1"
         },
         "xaxis": "x",
         "y": {
          "bdata": "AAAAAAAAAABuk9JfgEN5PCBXSB/qADg90tkg3nBwmT1NJkQYOATYPYXWdR70DAU+snzJNcxRJz5sNIQjKhlDPiVk9vXwTVk+RDbKf++ubD4Wv9M0xN18PpJFSEt9doo+xaAybr+Clj58KrGEaQOiPpB4ChkdZ6s+s5w+pvv4sz6eAaM1hBO8Ps56JMi8IMM+bmCpWyVeyT7H2NsbzW3QPmHt0f2S19Q+CFUOlHf12T769+bAhs7fPk32dPnfM+M++2xrQw/i5j4aSjl6VvLqPtBwmyVQZO8+uU6ZcV4b8j5cAnciy7P0Phh3+HgRevc+Ni/zrYVs+j7ANOE9N4n9PjOHoon9ZgA/N40oqTocAj8h5xdTEeMDPyXw1HwwugU/Lu1WxjugBz9Jdkovz5MJPzvxC3WCkws/0lX0GeydDT/lIv0XpLEPP4rq8yCj5hA/Bxd1K7r3ET+Z/bjmawsTP5/P9qwRIRQ/w7RaGwo4FT+TBR+ZuU8WPwAHV8SKZxc/Acjmxu5+GD+1AguWXZUZP2TktR5Wqho/myDkYF69Gz9HJep7A84cP8G6lK3Z2x0/LrnTRXzmHj+DaIGQje0fPxsOW1tbeCA/ZQB7zNP3ID+FkLNRC3UhP8jFj07g7yE/uqe/OTRoIj9b5TeB690iP9W7JG3tUCM/YYUFAiTBIz/5Ezziey4kP86cUS/kmCQ/MnEqa04AJT8zBVpZrmQlPyPGweD5xSU/Svee7SgkJj+vIyZUNX8mP9ejxbMa1yY/4zMkW9YrJz8EkuwsZ30nP2GQc4XNyyc/aOBCIQsXKD8YHZAEI18oP/8rpWMZpCg/Q/Q8jPPlKD94lNXPtyQpP96s925tYCk/yPlwhRyZKT/nUX/3zc4pP9Yk6F+LASo/cMT3/l4xKj++GWOqU14qP/rYBb50iCo/Bdt2Dc6vKj886mvWa9QqP8wS5rNa9io/BVgfkqcVKz/okzKjXzIrP4k5dlSQTCs/ra+CREdkKz/aA905knkrP4fHPhp/jCs/GgN04hudKz/TS8iedqsrP3cu/GOdtys/g0u8SJ7BKz8=",
          "dtype": "f8"
         },
         "yaxis": "y"
        },
        {
         "hovertemplate": "risk_band=10<br>variable=cum_p<br>default_month=%{x}<br>value=%{y}<extra></extra>",
         "legendgroup": "10",
         "line": {
          "color": "#1F77B4",
          "dash": "solid"
         },
         "marker": {
          "symbol": "circle"
         },
         "mode": "lines",
         "name": "10",
         "showlegend": false,
         "type": "scattergl",
         "x": {
          "bdata": "AAECAwQFBgcICQoLDA0ODxAREhMUFRYXGBkaGxwdHh8gISIjJCUmJygpKissLS4vMDEyMzQ1Njc4OTo7PD0+P0BBQkNERUZHSElKS0xNTk9QUVJTVFVWV1hZWltcXV5fYGFiYw==",
          "dtype": "i1"
         },
         "xaxis": "x2",
         "y": {
          "bdata": "AAAAAAAAAABuk9JfgEN5PElUTld+Ajg9IxN+13rQmT1/B7zFP6HZPXVXLRccQQg+j9KUOxNiLT4QaWnyrnFKPlaMlTdkQ2M+TeGv2yn5dz4y0EEId2uKPuIKxSn6cJo+1NX7y9x5qD4ogFYooz61PjjebdoYecE+kiyNrZZ1yz6wVi9krL/UPheUQcgKUN4+JyILu45/5T6KDvlIdbbtPp0C8WMfEfQ+35f0SH2O+j7vKpd8D0EBP4Jo9HoHDgY/wUPPS4vGCz8kyy51kEERPz454nkaLhU/7IxIFvK0GT+DTebe5OEeP6Q1kp40YCI/i5tQVMWtJT8jwgw87F4pP/BjdZ6reC0/n8NfJN3/MD+DwMJOP3wzP4heXV6FMzY/Ljwo14wnOT/3ihG9Blo8Px4Jswt3zD8/7Ml4RxrAQT8anPiINLtDP2sZF+0I2EU/TLyFMgAXSD//21yvbXhKP/O1++SP/Ew/iwxnKJGjTz+fdsUtxDZRPw/nCto8rVI/j1N5xis1VD+6A9qfgc5VPwBixQEneVc/CqTT5/w0WT9eRpIf3QFbPwqSa7qa31w/nc3IfgLOXj8TcuirbWZgP/UinmHzbWE/+9JlnnB9Yj8DDIFTwZRjP2AIali/s2Q/3AIGnELaZT8ygRlUIQhnP+/M6yowPWg/RSUMa0J5aT+F5i8pKrxqP1IAJWy4BWw/ZafXUr1VbT+4R204CKxuPw2yPOszBHA/x6mpMlW1cD/k2krdTmlxPwMI6bIHIHI/oinCZWbZcj8yjimfUZVzP7UqVQuwU3Q/uEFfZGgUdT+hwoN8Ydd1PwHsoEeCnHY/o9MC5LFjdz9HgIGi1yx4P649+Q3b93g/fMUk8qPEeT8LwOBhGpN6PzIB4LwmY3s/Vr/XtLE0fD8k2CpSpAd9P+wGG/jn230/xL2GaGaxfj8WHTrHCYh/P9ambE7eL4A/NiS17DScgD+G7kFr/giBP2zHk6wwdoE/K9KlycHjgT86Ro0SqFGCP1hB9g7av4I/ZBGAfk4ugz+TMvtY/JyDP00ji87aC4Q/exSuR+F6hD8=",
          "dtype": "f8"
         },
         "yaxis": "y2"
        },
        {
         "hovertemplate": "risk_band=10<br>variable=pd_lifetime<br>default_month=%{x}<br>value=%{y}<extra></extra>",
         "legendgroup": "10",
         "line": {
          "color": "#1F77B4",
          "dash": "solid"
         },
         "marker": {
          "symbol": "circle"
         },
         "mode": "lines",
         "name": "10",
         "showlegend": false,
         "type": "scattergl",
         "x": {
          "bdata": "AAECAwQFBgcICQoLDA0ODxAREhMUFRYXGBkaGxwdHh8gISIjJCUmJygpKissLS4vMDEyMzQ1Njc4OTo7PD0+P0BBQkNERUZHSElKS0xNTk9QUVJTVFVWV1hZWltcXV5fYGFiYw==",
          "dtype": "i1"
         },
         "xaxis": "x3",
         "y": {
          "bdata": "Wc9J7xtfez9Hz0nvG197P6LOSO8bX3s/4c4E7xtfez/YqwHrG197P7VV384bX3s/28s0Uhtfez+B5s65GV97PxRPln8VX3s/Z/kg6gtfez/x2eqf+F57P5jwz0HVXns/Ssr8FZleez/SwGDJOF57P2iOlEqmXXs/oOWQvtBcez+I46ONpFt7PzqYzoULWns/1Y39Du1Xez/j0UhtLlV7P6ubcg2zUXs/TFIc2FxNez/E2IqIDEh7PzZURASiQXs/M29Hsfw5ez9JiA7J+zB7P5VP+6Z+Jns/d08mEWUaez/JfuB6jwx7P9gce0Df/Ho/Iz8k3Dbrej9hldUTetd6P2gheCCOwXo/vTF8zlmpej9pETqYxY56PxXAfrq7cXo/lrOxQyhSej/NFAYe+S96P9HzKxUeC3o/20v114jjeT+9/F/2LLl5P+ehcdz/i3k/stRMyvhbeT8VS+HJECl5PySukaJC83g/pi8jy4q6eD9WAURa5354Px3/7vVXQHg/ljrswd3+dz84tadNe7p3P86FkYE0c3c/xu40jA4pdz+pki7PD9x2P6/9JMw/jHY/uSbiEac5dj8IVqgpT+R1P10J2YRCjHU/oPAAa4wxdT/S9ljoONR0Pyp0ybxUdHQ/ABt6S+0RdD+S6/aKEK1zP4128PXMRXM/he2bfDHccj/n7rV2TXByP16bKZYwAnI/iVBc2uqRcT9YXB2EjB9xPyIZOAomq3A/5iCmDsg0cD+qRb2oBnlvP8u7fmvRhG4/SKYWNxKNbT8cz/Xo6pFsP2DLsVp9k2s/dTBPU+uRaj9CHZJ5Vo1pPwQDS0fghWg/WHmV/al7Zz+Y3P6Z1G5mPzV6isyAX2U/gSGJ7s5NZD+qDjr63jljP0VPK4PQI2I/C/JPr8ILYT/ZGYVhqONfP8/HVYBGrF0/C357L5txWz/Fipzd4DNZP9L60OtQ81Y/0rzZpiOwVD9NWkpBkGpSP1JVls7MIlA/bqrnfRyySz+C0Au4EBtHP0lygozbgEI/Cr36y7/HOz8QEsCs/IgyP8JtV1VUjCI//Knx0k1iNTw=",
          "dtype": "f8"
         },
         "yaxis": "y3"
        },
        {
         "hovertemplate": "risk_band=10<br>variable=p_12m_forward<br>default_month=%{x}<br>value=%{y}<extra></extra>",
         "legendgroup": "10",
         "line": {
          "color": "#1F77B4",
          "dash": "solid"
         },
         "marker": {
          "symbol": "circle"
         },
         "mode": "lines",
         "name": "10",
         "showlegend": false,
         "type": "scattergl",
         "x": {
          "bdata": "AAECAwQFBgcICQoLDA0ODxAREhMUFRYXGBkaGxwdHh8gISIjJCUmJygpKissLS4vMDEyMzQ1Njc4OTo7PD0+P0BBQkNERUZHSElKS0xNTk9QUVJTVFVWV1hZWltcXV5fYGFiYw==",
          "dtype": "i1"
         },
         "xaxis": "x4",
         "y": {
          "bdata": "LdOhoClboD6Irs4hvWSsPraaA0RLWrc+zQdKn4NZwj74e0Lu6rrLPiXo9UIkQdQ+Pxb43Ay53D70OikMmdbjPnDSZkfkxOo+ixunBBKv8T4SLQFgF+z2PpBgnIs9M/0+SoutWjJOAj/nRBwpgJ4GP0Zqn8zRkws/LIqlWuuaED/ML9mwRMUTP5vY3lQRSxc/kKxTtowtGz+kIM9cFm0fP0FIT5+dBCI/0REENGGAJD9q6xgK3ignPz6EsjjJ/Ck/t3O3so36LD+yN4ewKhAwPy689RwJtjE/yDkQk8NtMz/FIAhIKDY1Pxivl0D2DTc/Dad2HeHzOD/HpESflOY6P1A0Z9635Dw/cSGQNfDsPj+VgLDv8X5AP8EHfiQei0E//McrDlSaQj+q/PKC7qtDPxhw05xMv0Q/qOgCXtLTRT+cUIs56ehGP8AhZYIA/kc/ym9Vw40SST9nqMcBDSZKPzgmxe0AOEs/LfgRAfNHTD8hVFiPc1VNP5ZXLMkZYE4/sfyQs4NnTz+XJsMKqzVQPwI9hC6etVA/BQVkPnQzUT8Mj+JhCa9RP0OJ7dc8KFI/wFgX3vCeUj+/5iuWChNTP+vAg+pxhFM/6T5rcRHzUz/1T+lP1l5UPxNZKBywx1Q/cB+7v5AtVT8SEPBZbJBVP3hDXiI58FU/KlXRS+9MVj8YgbPniKZWP3JnEMoB/VY/d09GbldQVz8yuHfciKBXPx1wy4+W7Vc/mECGXYI3WD8AbgZdT35YPwvZptABwlg/eWiND58CWT9fhGZwLUBZP+/ODTW0elk/3eIidzuyWT+9r4cVzOZZPzULxaJvGFo/3TVRVDBHWj/gXrPyGHNaPxeffso0nFo/x20eno/CWj8RNW6YNeZaP2ZlFUAzB1s/1jSha5UlWz9ZFVU2aUFbPxzaqvW7Wls/Cn57L5txWz/Eipzd4DNZP9H60OtQ81Y/0LzZpiOwVD9NWkpBkGpSP1FVls7MIlA/cKrnfRyySz+A0Au4EBtHP0VygozbgEI/+Lz6y7/HOz/5EcCs/IgyP5ltV1VUjCI/AAAAAAAA+H8=",
          "dtype": "f8"
         },
         "yaxis": "y4"
        },
        {
         "hovertemplate": "risk_band=9<br>variable=p<br>default_month=%{x}<br>value=%{y}<extra></extra>",
         "legendgroup": "9",
         "line": {
          "color": "#FF7F0E",
          "dash": "solid"
         },
         "marker": {
          "symbol": "circle"
         },
         "mode": "lines",
         "name": "9",
         "showlegend": true,
         "type": "scattergl",
         "x": {
          "bdata": "AAECAwQFBgcICQoLDA0ODxAREhMUFRYXGBkaGxwdHh8gISIjJCUmJygpKissLS4vMDEyMzQ1Njc4OTo7PD0+P0BBQkNERUZHSElKS0xNTk9QUVJTVFVWV1hZWltcXV5fYGFiYw==",
          "dtype": "i1"
         },
         "xaxis": "x",
         "y": {
          "bdata": "AAAAAAAAAAAgqOxvECIQPbKvbPDAabc9g2pmbR5CDD5zhfwj/+NBPtoFY84nAWc+A05jBnnIgz5XPeeApiiaPj4L7wnRyqw+WKWxAjK2uz57OjmVihfIPg0WXUv/WNM+kfnv0Vsr3T4zQj5mwuLkPqPtZSk3quw+I5TLqcH78j5/7+G71GX4PvIRscQfj/4+3GAGVa+3Aj8AN7tyen0GP5JeFJDSkQo/45dN85/sDj9dmkXRkMIRP0QU1PoZKRQ/e0lQn0alFj9E8vdHeDIZP1JJJI8rzBs/MXc1gQhuHj/Fs1aR94kgPzKBuUsA3SE/YQkGs1IuIz/ErqilSHwkP/ay54RixSU/URCWSkcIJz98Nkb3w0MoP8ih4H3Kdik/4bo0THCgKj83dDiL7L8rPxpbRC2W1Cw/8wGz3OHdLT91ZOHZX9suP+xQm9S5zC8/+sw8ZdhYMD/Lnsp4DcUwPyrsk9rwKjE/g/kZ5H+KMT++c4qov+MxP/p16he8NjI/U/YrMIeDMj+D2WE8OMoyP/ZxBSLrCjM/72YNvL9FMz/vdW9D2XozPw8KisRdqjM/NXXeoHXUMz9/HnccS/kzP0XsTPYJGTQ/SXT7Ct8zND+hKBMB+Ek0P2cJW/6CWzQ/v7dXZa5oND9inHOaqHE0P1G7KtCfdjQ/anSk2cF3ND+iiS0DPHU0P+obDfA6bzQ/+Lc3feplND/34muodVk0P47BS3sGSjQ/R14P+sU3ND9bsHIV3CI0P0zHiZ9vCzQ/IWQsQ6bxMz/qyrB9pNUzP660s5qNtzM/VgOxsYOXMz8HMTalp3UzP2hrfCMZUjM/v+c8qPYsMz+WP5Z/XQYzP9iU3clp3jI/sNw5gDa1Mj+qBOt53YoyP5W0IXJ3XzI/RzxPDhwzMj++y9fk4QUyP8tqE4Te1zE/r0aMeSapMT/N3GpZzXkxPxFNAsblSTE/Drhwd4EZMT9fAElDsegwP++WPCSFtzA/SCm9QQyGMD94G4/3VFQwP9+tRt1sIjA/8RpVm8HgLz/Hqe7beXwvP8VuAGoZGC8/YF5T5LWzLj8=",
          "dtype": "f8"
         },
         "yaxis": "y"
        },
        {
         "hovertemplate": "risk_band=9<br>variable=cum_p<br>default_month=%{x}<br>value=%{y}<extra></extra>",
         "legendgroup": "9",
         "line": {
          "color": "#FF7F0E",
          "dash": "solid"
         },
         "marker": {
          "symbol": "circle"
         },
         "mode": "lines",
         "name": "9",
         "showlegend": false,
         "type": "scattergl",
         "x": {
          "bdata": "AAECAwQFBgcICQoLDA0ODxAREhMUFRYXGBkaGxwdHh8gISIjJCUmJygpKissLS4vMDEyMzQ1Njc4OTo7PD0+P0BBQkNERUZHSElKS0xNTk9QUVJTVFVWV1hZWltcXV5fYGFiYw==",
          "dtype": "i1"
         },
         "xaxis": "x2",
         "y": {
          "bdata": "AAAAAAAAAAAgqOxvECIQPdyqiHTJbbc92q8KuYz9DD5xMI3v17NDPvZRRsod7ms+gOL0eADEij5M17BeU8WjPkXxTzQSSLg+TsuAGyL/yT7kAl1YVgvZPngM3dEqMuY+oIRqXexj8j66pYmQTdX8PkZOnpI0lQU/WBiEZxUTDz8MiLri/6IVP4jM5tPHRh0/e/40v09RIz87zONbrvAoP+Dj6P8ilS8/7CRefiWoMz+Di6+yyRg4P5SQZDEQIz0/eVGc7DBmQT/CT5v1f4xEP+zYf2cFBkg/0oemd8bTSz/DNPxbRPZPP4hKdTfCNlI/tAvWjYycVD+MIYuiFSxXP+sXKPPB5Fk/9dl63MrFXD/EoGNbQ85fP37aj1WOfmE/LCZTWpUoYz9vrQYjlORkPyHz2oXdsWY/QCOmo7uPaD+HOUShcX1qP5bujT49emw/NYg1S1iFbj8Hbif9/E5wP8qs0AqsYXE/YkwSCVR6cj+e85oDkJhzP/6aGcX7u3Q/Y1ocODTkdT/7d+K71xB3PxrPAm6GQXg/iaXDaeJ1eT/onPr9j616P4k9Q9o16Hs/3CRRNH0lfT/ElhjmEWV+P4hlfYWipn8/Zo4WO/B0gD+rJx/7PxeBP/b/ERMcuoE/tL08hmFdgj+XWhDL7gCDP3KwkcmjpIM/FdRe2GFIhD9iQHi4C+yEP0Gp+I+Fj4U/AWfi47Qyhj8ZxiWRgNWGPyUkAMXQd4c/F5/Q9I4ZiD+aNHzVpbqIP9SCeFIBW4k/9eWRhI76iT9MbH+oO5mKP/EJVRX4Nos/DJLiMrTTiz+UQwxwYW+MP+8mKDnyCY0/LQ5q7lmjjT8qwGbajDuOP9GstSiA0o4/tnu33Clojz/b04bIgPyPP8DwC0K+R5A/sS1FsoqQkD/gjNg5otiQP4va6LMBIJE/pgvPTaZmkT8ZtzSDjayRP03ATBq18ZE/LYMqIBs2kj8upzflvXmSP4qZyPmbvJI/L47PKrT+kj+dyq1+BUCTP1TlIjKPgJM/io9ZtVDAkz/ebBGpSf+TP7xt5dt5PZQ/eRSuR+F6lD8=",
          "dtype": "f8"
         },
         "yaxis": "y2"
        },
        {
         "hovertemplate": "risk_band=9<br>variable=pd_lifetime<br>default_month=%{x}<br>value=%{y}<extra></extra>",
         "legendgroup": "9",
         "line": {
          "color": "#FF7F0E",
          "dash": "solid"
         },
         "marker": {
          "symbol": "circle"
         },
         "mode": "lines",
         "name": "9",
         "showlegend": false,
         "type": "scattergl",
         "x": {
          "bdata": "AAECAwQFBgcICQoLDA0ODxAREhMUFRYXGBkaGxwdHh8gISIjJCUmJygpKissLS4vMDEyMzQ1Njc4OTo7PD0+P0BBQkNERUZHSElKS0xNTk9QUVJTVFVWV1hZWltcXV5fYGFiYw==",
          "dtype": "i1"
         },
         "xaxis": "x3",
         "y": {
          "bdata": "V89J7xtfiz/HuUnvG1+LPyyPzO4bX4s//Vvq2xtfiz8GCaEcG1+LPxOixUQXX4s/cyZwDApfiz/rZF0W516LP9ASLCCaXos/wJKa+gVeiz/5dUBjBF2LP23WW6hmW4s/qGNc5vZYiz/C8ieoeVWLP8dJW7evUIs/OZA581dKiz8wPNMPMUKLP6khFSn7N4s/aAD3HXkriz8/hqKucRyLP1oXQV2wCos/C1hqFAb2ij8MLD6YSd6KP2E8VshXw4o/DKAuuROlij/3W6CrZoOKP2KitOg/Xoo/EzyUh5Q1ij8A/LkiXwmKP65t6YCf2Yk/bM3GNVqmiT/NoFE9mG+JPz8B9JRmNYk/ZuZX1NX3iD/6KsLH+baIP9pqUA3pcog/M2oitrwriD+NUzDsj+GHP9Z8U51/lIc/1DLWK6pEhz/e+LYkL/KGP3N5q/sunYY/UPDVzMpFhj9pFwwkJOyFP5+rf8lckIU/4qWNk5YyhT+2lnE989KEPxOTlUKUcYQ/8E00vpoOhD+U4gFPJ6qDP3YakP5ZRIM/v08kLFLdgj+iMbd6LnWCP1ls2cEMDII/pF47AQqigT9Vd5lWQjeBP5Zw0vXQy4A/Ak7wItBfgD+/Z+FbsuZ/P5+kOeAIDX8/+VmJldIyfj9D7GlOPFh9P2r6g+9wfXw/QqSKc5miez9UZt3w3Md6P8NIl6Bg7Xk/TFbX5kcTeT/iLhNctDl4PyoQSdfFYHc/luDqeJqIdj/Qql+2TrF1P3SK/GX92nQ/sFRZy78FdD+DS+ijrTFzP+rsujPdXnI/1XRgUmONcT8B9cx3U71wPyj6c5J/3W8/1GbnS3JDbj9l7g1onqxsP/NljdkgGWs/adw/UhSJaT+s4GpbkfxnP5HWeW2uc2Y/xlAxB4DuZD/QOVPEGG1jP0s4rXOJ72E/tC6MLOF1YD8lBCLHWgBeP5Lvx/3zHFs/GPyJ06JBWD9LLPBOeW5VPym/G8uGo1I/KscjNrDBTz9vJYVX70xKP0ZEnknb6EQ/M/hTIAArPz8m8gZAy6U0P5zZsmVAhCQ//Knx0k1iVTw=",
          "dtype": "f8"
         },
         "yaxis": "y3"
        },
        {
         "hovertemplate": "risk_band=9<br>variable=p_12m_forward<br>default_month=%{x}<br>value=%{y}<extra></extra>",
         "legendgroup": "9",
         "line": {
          "color": "#FF7F0E",
          "dash": "solid"
         },
         "marker": {
          "symbol": "circle"
         },
         "mode": "lines",
         "name": "9",
         "showlegend": false,
         "type": "scattergl",
         "x": {
          "bdata": "AAECAwQFBgcICQoLDA0ODxAREhMUFRYXGBkaGxwdHh8gISIjJCUmJygpKissLS4vMDEyMzQ1Njc4OTo7PD0+P0BBQkNERUZHSElKS0xNTk9QUVJTVFVWV1hZWltcXV5fYGFiYw==",
          "dtype": "i1"
         },
         "xaxis": "x4",
         "y": {
          "bdata": "1L6utSOU6D4OC45DjkTzPi3KiuJu2Pw+QMXLsOjDBD+Q1czNDOoMPwc1QNgNjhM/GwWTPHfIGT8zq7fuWZ0gP5Ddvrpw+iQ/Da0OjPn/KT9Fe5LAsq4vP5xBswDcATM/V3O4pWV8Nj9W2fKQX0I6P63s1NT5TT4/T0JVujZMQT/0ApTRHo1DP6o/u4K65UU/0S8Dg+5RSD8XVw4Vl81KP7Vh0YScVE0/WxonAQTjTz+PCOCDfjpRPzCMLth1g1I/165hGLjKUz9UQ4D7tQ5VP18sCVsCTlY//0nw3VKHVz8XGRjwf7lYP+Ch7ymE41k/2uiGR3sEWz8mSyzKoBtcP/+soltOKF0/IQRSBvopXj8iooRSNCBfPyBf6ypTBWA/BXG434d0YD/iw7l0ot1gP36JDXuWQGE/V4zH/l+dYT/tHP+nAvRhP2g0SOeIRGI/sUZqLgOPYj9OgMo1h9NiPynstE4vEmM/g191whlLYz9ciwM+aH5jPxAD40k/rGM/0oO+zcXUYz/OsTOfJPhjPwd1OBuGFmQ/d/Z7yRUwZD/j+SEJAEVkP+IfN8ZxVWQ/+s0+N5hhZD+Sfz+ioGlkPwSityi4bWQ/3XbrmQtuZD/feQNLx2pkP1c0evQWZGQ/lQpglCVaZD+EQQNVHU1kPwUbkncnPWQ/3V5UQmwqZD+r4iDyEhVkP2KXuq5B/WM/x0XHgR3jYz9jbxhQysZjP2O6BNVqqGM/xeSVnyCIYz/3dFQRDGZjP1k+f15MQmM/nFiBj/8cYz83XX2DQvZiP4qhyPMwzmI/97o0eOWkYj/w5wiMeXpiP2ECkJMFT2I/y2gi4qAiYj9G2JXAYfVhP2WG/3Ndx2E/pOq2RKiYYT9Ul4mFVWlhP4dFEpt3OWE/xtEmAyAJYT+PW1JcX9hgP7IKUm1Fp2A/qi6MLOF1YD8PBCLHWgBeP3jvx/3zHFs//fuJ06JBWD8rLPBOeW5VPwy/G8uGo1I/7cYjNrDBTz80JYVX70xKPwBEnknb6EQ/rPdTIAArPz+y8QZAy6U0P9zYsmVAhCQ/AAAAAAAA+H8=",
          "dtype": "f8"
         },
         "yaxis": "y4"
        },
        {
         "hovertemplate": "risk_band=8<br>variable=p<br>default_month=%{x}<br>value=%{y}<extra></extra>",
         "legendgroup": "8",
         "line": {
          "color": "#2CA02C",
          "dash": "solid"
         },
         "marker": {
          "symbol": "circle"
         },
         "mode": "lines",
         "name": "8",
         "showlegend": true,
         "type": "scattergl",
         "x": {
          "bdata": "AAECAwQFBgcICQoLDA0ODxAREhMUFRYXGBkaGxwdHh8gISIjJCUmJygpKissLS4vMDEyMzQ1Njc4OTo7PD0+P0BBQkNERUZHSElKS0xNTk9QUVJTVFVWV1hZWltcXV5fYGFiYw==",
          "dtype": "i1"
         },
         "xaxis": "x",
         "y": {
          "bdata": "AAAAAAAAAAAWYmTPOGijPeApna2AgjU+aLx0tLOQfT64xakb8xqpPvErjg63rcc+SGfB3G6d3z4YFNEcnN/wPl0exoZK2/4+fO0bTYI3CT/WT5evRvASP0zHQp2OpRo/kajbRuPMIT8klMeRCc8mPw2tRswHPiw/UA4OJZj+MD+J1MIZDvgzPxo5mZb2/TY/+HrWQxAEOj8fdTvBhP88P0KE/84D5z8/kwKb3GJZQT/M+TlTPq5CP92yQGid70M/RcYLH6kbRT988ICvGDFGP6ZuFnkfL0c/pzUJbVsVSD/BGs53xONIP0SAwzqdmkk/VfFWP2U6Sj96f8mwzMNKP1BrqZapN0s/wp6wfe6WSz+6qzN1ouJLP+0PS0PaG0w/NSdUsLJDTD9vtIfKS1tMP/cZnQPFY0w/zYdXDDpeTD9VkCBUwEtMP3zEQxVlLUw/T07U2CsETD8irKdfDdFLP+JwEOD2lEs/+IsYislQSz8X5N9FWgVLPy31eKFxs0o/v6gi5ctbSj/4HhdGGf9JPwy3VTH+nUk/KNrWqBM5ST/eiH2u59BIPzUL4bj9ZUg/o+GzLs/4Rz90bx/my4lHPzPK6KVaGUc/UF6dptmnRj9EH2ASnzVGPwzwO4L5wkU/88QfeDBQRT/TZN7UhN1EP+QjuEkxa0Q/nsAZxWr5Qz+81lnaYIhDP0keVyQ+GEM//77toiipQj8jHEoTQjtCPyVELEOozkE/eCo5X3VjQT+Ndn48wPlAP2NmU52ckUA/RlnFcRsrQD83tYInlow/P6hhW/5uxj4//H5ODNUDPj84Pi0D2EQ9P8KhoPyDiTw/+AflzeHROz8vNWNV9x07P20ihsLHbTo/T10p2FPBOT+bCPgpmhg5P8mhEFWXczg/Fq49NEbSNz8mZA8QoDQ3P39gHsucmjY/hHe7CjMENj/J1ExcWHE1Px/OlFcB4jQ/dikbviFWND84Ee6XrM0zP7CT7E2USDM/s1TJwcrGMj9OCfFjQUgyP4RvfUfpzDE/QbVaNLNUMT9JqsK3j98wP8+nLjNvbTA/5Je904P8Lz8=",
          "dtype": "f8"
         },
         "yaxis": "y"
        },
        {
         "hovertemplate": "risk_band=8<br>variable=cum_p<br>default_month=%{x}<br>value=%{y}<extra></extra>",
         "legendgroup": "8",
         "line": {
          "color": "#2CA02C",
          "dash": "solid"
         },
         "marker": {
          "symbol": "circle"
         },
         "mode": "lines",
         "name": "8",
         "showlegend": false,
         "type": "scattergl",
         "x": {
          "bdata": "AAECAwQFBgcICQoLDA0ODxAREhMUFRYXGBkaGxwdHh8gISIjJCUmJygpKissLS4vMDEyMzQ1Njc4OTo7PD0+P0BBQkNERUZHSElKS0xNTk9QUVJTVFVWV1hZWltcXV5fYGFiYw==",
          "dtype": "i1"
         },
         "xaxis": "x2",
         "y": {
          "bdata": "AAAAAAAAAAAWYmTPOGijPRHcBMo0jDU+KQoVAXfpfj79Zsz7IfisPrBFgY2/684+EAXBUaeJ5z6glrHFb6T8Pn7aOybdvw0//eOrua97Gz/qmaE0+zUnP8h+oUFhRDI/EFMP5dIqOz+RjvnWK0lDP9Q5C8qtWEo/fiBJ7vxrUT+g1bl0AGpWP+YjYBp+KVw/UuGqFUFVYT/2T9KtMfVkP35AsicS8mg/IwHZ3mpIbT/Lv9M5/flwPyfW2+bwd3M/8E69CmYbdj8Aba0gieF4P9U60A9tx3s/imFxfRjKfj9xkjWGSPOAP3XK4VnyjII/ijnXrZgwhD+C0eN41dyFPzdoThJQkIc/I3Ip+r5JiT/frHwh6QeLP95dscWmyYw/UaC28OGNjj/Mja9WyymQP5x2zH7pDJE/2jIvT9vvkT9dN9BROdKSP4FVenqks5M/8/dA2cWTlD9UNT5ETnKVP9u4Pvv1TpY/O32PR3wplz9cfL4ZpwGYPwVEyqZC15g/S1nzBSGqmT9DEiTQGXqaP/u/rsEJR5s/zHb1XtIQnD8TY2mcWdecP21rMIqJmp0/egqmA1Banj/2BddinhafP0hMBjhpz58/nZudAlRCoD8aHOd+KpugP9oL8GQ28qA/7orQJndHoT+BBCQ67ZqhPxHlSv+Z7KE/E0xfqn88oj9us8gtoYqiP+cPWiYC16I/48blyKYhoz9U7zLRk2qjP2WgP3LOsaM/D4W8R1z3oz/pfq5IQzukP4PMI7uJfaQ/6OHqKDa+pD9S5zlVT/2kPxWeNjPcOqU/EztP3eN2pT+PlVWNbbGlP9PWTpWA6qU/46DqWCQipj9NZ5VHYFimP5JzGtc7jaY/TcbKfr7Apj9eth6z7/KmP6LXyOHWI6c//lIxbntTpz/GcVGu5IGnP4eu5+cZr6c/diX9TSLbpz8gv7X+BAaoP7zoZAHJL6g/Dx/hRHVYqD8x+xCeEICoP1jUrMahpqg/AWcwXC/MqD8USfjev/CoP/NDh7FZFKk/XvnvFwM3qT+zfl83wlipPwPcxRWdeak/m5mZmZmZqT8=",
          "dtype": "f8"
         },
         "yaxis": "y2"
        },
        {
         "hovertemplate": "risk_band=8<br>variable=pd_lifetime<br>default_month=%{x}<br>value=%{y}<extra></extra>",
         "legendgroup": "8",
         "line": {
          "color": "#2CA02C",
          "dash": "solid"
         },
         "marker": {
          "symbol": "circle"
         },
         "mode": "lines",
         "name": "8",
         "showlegend": false,
         "type": "scattergl",
         "x": {
          "bdata": "AAECAwQFBgcICQoLDA0ODxAREhMUFRYXGBkaGxwdHh8gISIjJCUmJygpKissLS4vMDEyMzQ1Njc4OTo7PD0+P0BBQkNERUZHSElKS0xNTk9QUVJTVFVWV1hZWltcXV5fYGFiYw==",
          "dtype": "i1"
         },
         "xaxis": "x3",
         "y": {
          "bdata": "mCGOdXEboT+UKYF1cRuhP724wVhxG6E/QZmI4G4boT8+eLkZXhuhPzmXws4eG6E/TFpEy3UaoT/NELv4DBmhP4YYSiJ5FqE/17sUqUISoT9bYO+67guhPzRiOnoHA6E/KX9RViL3oD/H+4Nm5OegP62cvu4E1aA/1cwAXU6+oD8jlgcanqOgP18/BoPjhKA/zwk/Vh5ioD+sTejNXDugPzDuxJa5EKA/tvUBh7PEnz8kumKn1WCfP/T9jrpB9p4/e+hOwmmFnj82ThWexg6eP0vBRHPVkp0/VzF3cxUSnT+IpHP7BY2cP6RvzAMlBJw//w9E2+13mz8NZtAi2OiaPyiqMwNXV5o/yV2ElNjDmT+5kIdwxS6ZP+tTYGmAmJg/ify+XmYBmD/h9GEszmmXP/FpWq0I0pY/0I0d0GA6lj/yaPW3G6OVP71s4eh4DJU/Iw5ne7J2lD8OBTZW/eGTP80d22uJTpM/UboI+4G8kj+zLz7QDSySPz0b0IdPnZE/r5aEz2UQkT9Izh+na4WQPxmIwT7x+I8/VaEXLkLrjj/a13Lr7OGNP1Y4acgO3Yw/FGGLBMDciz8SQKgzFOGKP/wCrJ4a6ok/JOUZn973iD9XiS/1ZwqIP5lizBi7IYc/rNlAhdk9hj9HzS8Awl6FP4UfsttwhIQ/Oo7vM+Cugz/8WmIoCN6CP12G/BDfEYI/icllr1lKgT8+NYlca4eAP1YgUWUMkn8/3a1UaDYefj90baveNLN8Pz8qXD7mUHs/U4s7kyf3eT81/Dq21KV4P9HxB4DIXHc/FRdO99wbdj+ulup66+J0P3VsWujMsXM/L3KpvlmIcj8gvyM+amZxP+f3BoXWS3A/ZqzaUu1wbj/YBFGhRVhsP2irfYhmTWo/c4R0CQFQaD9F4+m0xl9mP3NPGclpfGQ/Nj5GTJ2lYj8kzx0kFdtgP2ggd1QMOV4/6B0dfEzTWj+/Fq+oWIRXP/jq6QihS1Q/hPRaJ5goUT9h/Zj6ZTVMP10eugTSQkY/7Tcdcmh4QD8mjVPiRKo1P1XHJKH5XyU//Knx0k1iVTw=",
          "dtype": "f8"
         },
         "yaxis": "y3"
        },
        {
         "hovertemplate": "risk_band=8<br>variable=p_12m_forward<br>default_month=%{x}<br>value=%{y}<extra></extra>",
         "legendgroup": "8",
         "line": {
          "color": "#2CA02C",
          "dash": "solid"
         },
         "marker": {
          "symbol": "circle"
         },
         "mode": "lines",
         "name": "8",
         "showlegend": false,
         "type": "scattergl",
         "x": {
          "bdata": "AAECAwQFBgcICQoLDA0ODxAREhMUFRYXGBkaGxwdHh8gISIjJCUmJygpKissLS4vMDEyMzQ1Njc4OTo7PD0+P0BBQkNERUZHSElKS0xNTk9QUVJTVFVWV1hZWltcXV5fYGFiYw==",
          "dtype": "i1"
         },
         "xaxis": "x4",
         "y": {
          "bdata": "cjdRno8nMj/U5pZ+h8Y5P/oDx4Aam0E/Bhvz4SBIRz+Vhnjs/+9NPzv7indpx1I/qA+qoO4KVz8lZFhaBbZbP1qlUrj4W2A/yQ88WY7+Yj+XNOBzPrhlP50zLs9pfmg/uq6gUtdGaz+7SpV3EQhuPzfg4ajRXHA/TaEpGh2qcT/8Hm7i2OhyP208AAmIFnQ/eg7oRDsxdT8p1QDkhTd2P97IWKlwKHc/r1/2yWsDeD+ppWzbQMh4PyGoukQFd3k/ya8/jg0Qej9SZc3G4ZN6P2hdqRczA3s/G45mjdJeez9Y7vgNqad7P5gLrGuw3ns/cAd0f+0EfD/7g2kyaxt8P24xYl02I3w/4Y3uZVodfD8WhCWB3gp8P73iQIbD7Hs/ZZfpPALEez9lmggVipF7P5WX5jdAVns/mfRG5P4Sez8U9O8Ilch6P0hCsxLGd3o/Y3aF5Ekhej8SlIfxzMV5PzpxFHLwZXk//R7vrUoCeT8hrJlWZ5t4P8Cnp+3HMXg/ZqeQM+TFdz+Snh+cKlh3PybRHsYA6XY/NSZQ9MN4dj+8+SCGyQd2P/Nj2W5flnU/Fy9LqswkdT+pFT6uUbN0P6HlBtgoQnQ/Zxzf1YbRcz83pbMLm2FzP+6aPPOP8nI/AChGd4uEcj9WniRKrxdyPzlNXDcZrHE/XgWRcONBcT9KH9rVJNlwP0KgnjnxcXA/4CAioFkMcD+6Vt312FBvP+VQlMBrjG4/V6/OfX/LbT8U1gUcJA5tPxmpOvRlVGw/OJICHU6eaz8nFYy34utqPy6U9jYnPWo/9O9VohySaT8vXrfRwepoP7VIeaYTR2g/aVVEPw2nZz/g8u8nqApnP1f6mIXccWY/MjItP6HcZT+Gxaoi7EplP90jTweyvGQ/fDbt7OYxZD+dcZ8YfqpjP/YCBy9qJmM/Iz5GTJ2lYj8Vzx0kFdtgP0Ygd1QMOV4/xx0dfEzTWj+UFq+oWIRXP8Xq6QihS1Q/SfRaJ5goUT/7/Jj6ZTVMP/YdugTSQkY/mzcdcmh4QD+ljFPiRKo1P5fGJKH5XyU/AAAAAAAA+H8=",
          "dtype": "f8"
         },
         "yaxis": "y4"
        },
        {
         "hovertemplate": "risk_band=7<br>variable=p<br>default_month=%{x}<br>value=%{y}<extra></extra>",
         "legendgroup": "7",
         "line": {
          "color": "#D62728",
          "dash": "solid"
         },
         "marker": {
          "symbol": "circle"
         },
         "mode": "lines",
         "name": "7",
         "showlegend": true,
         "type": "scattergl",
         "x": {
          "bdata": "AAECAwQFBgcICQoLDA0ODxAREhMUFRYXGBkaGxwdHh8gISIjJCUmJygpKissLS4vMDEyMzQ1Njc4OTo7PD0+P0BBQkNERUZHSElKS0xNTk9QUVJTVFVWV1hZWltcXV5fYGFiYw==",
          "dtype": "i1"
         },
         "xaxis": "x",
         "y": {
          "bdata": "AAAAAAAAAADY4cRyqR8oPpSIVR13a6Q+9c2i0K323z65H/WIpTMCP4zQowVHLxk/YAq3wIIaKj/EWKpXX342P9a3Cr/mFUE/9Hbiyxq2Rz8NFtk+dcROP+NZFYgV9lI/TRekKfVyVj8/PnaWKb1ZP3eP9VXawFw/OkIUEytxXz9toXRuieNgP5pWt2oT4GE/gzasor2uYj+1n3SGVVFjP8ej6BKFymM/0r4T34AdZD+8WZe6yE1kP0ig8RH4XmQ/SoP8Q6NUZD8BMTROPzJkP7vSgIwR+2M/peVkpyWyYz9ZhwQlSFpjP0TsH2EE9mI/HCQC9KSHYj8d7qPINRFiPx5+30+HlGE/cnD1YjITYT/rYEaEnI5gP9uSakP8B2A/L73nNbsAXz9viWJWTPFdP/iqOn4y41w/2nrcH7fXWz+o2TKC7c9aP+Cc8iS5zFk/Ykr5kdPOWD/Rq0ig0dZXP00Zmi8o5VY/bkQCZTD6VT8+c+pxKxZVP2iJ8O5FOVQ/fNox1JpjUz/zBDoYNpVSP406XP4WzlE/JgqyHDIOUT/oXWIhc1VQP2o/bLx8R08/XSHHQeTxTT/QicO7z6lMPxjeCmbqbks/1ZNBjdlASj/xlcUOPh9JP6hjfKG1CUg/RNxu7tv/Rj+g0jB/SwFGP8AcZYeeDUU/zLQSjm8kRD+qdfP6WUVDPxO2Z4v6b0I/mkFKsu+jQT8xsXzl2eBAPxLBq9tbJkA/Jbv5eDXoPj8wbCGKfJM9P92IEsXhTTw/6AIXiL8WOz9KXwrLde05P+cEqihq0Tg/EKec3QfCNz8B9OG+v742PzlkIikIxzU/Gbgk6lzaND/8l4IlP/gzPw8kjzU1IDM/9WtAicpRMj9tMc9/j4wxPzx9pkIZ0DA/KgAmngEcMD+AFk2zzd8uPzKWPR7Xli0/rRFvBW1cLD//iCP15C8rP+V/6y2cECo/f7QwVvf9KD9VZzctYvcnPx2j0T9P/CY/fHnznjcMJj/Qb0yYmiYlP34qAXH9SiQ/OI+YIut4Iz/O6yga9K8iP5MLzPmt7yE/h2JcXLM3IT8=",
          "dtype": "f8"
         },
         "yaxis": "y"
        },
        {
         "hovertemplate": "risk_band=7<br>variable=cum_p<br>default_month=%{x}<br>value=%{y}<extra></extra>",
         "legendgroup": "7",
         "line": {
          "color": "#D62728",
          "dash": "solid"
         },
         "marker": {
          "symbol": "circle"
         },
         "mode": "lines",
         "name": "7",
         "showlegend": false,
         "type": "scattergl",
         "x": {
          "bdata": "AAECAwQFBgcICQoLDA0ODxAREhMUFRYXGBkaGxwdHh8gISIjJCUmJygpKissLS4vMDEyMzQ1Njc4OTo7PD0+P0BBQkNERUZHSElKS0xNTk9QUVJTVFVWV1hZWltcXV5fYGFiYw==",
          "dtype": "i1"
         },
         "xaxis": "x2",
         "y": {
          "bdata": "AAAAAAAAAADY4cRyqR8oPnZNyMaWg6Q+0uu9VJBD4T6umiSeiYQGP/IOW+rFOCI/qQyJVaQpNj+2spnWAVRGP0Y10kr0tFM/wHDDsAGQXz/j/RcoHnlnP2pVEXYUenA/PVt6wNEWdj/N6hcmHIZ8P1Wnyl0p24E/nC8twE7JhT/3V8obMQKKP54tePY1eo4/n52Rr/KSkT+WMWBgHf2TPw9GvQJudpY/6b2fHh76mD8gqfI114ObPyndMDi2D54/yTZYUCVNoD/ZeTtFSZChPwWHA176z6I/X9V5uBwLpD/VHco6wUClP5kc3IAhcKY/2z4c0JuYpz+9faYsr7moP591pKH30qk/pszTxyrkqj+1MhiQFO2rP+PbTlSU7aw/zBn+LZrlrT8XLrGQJNWuP28DoyQ+vK8/o/PQ7n1NsD8Kv9mkvbiwP36JbYnwH7E/qG611yuDsT9XkTYeh+KxP7z59L4bPrI/zgKJgASWsj+brFAuXeqyP8FuDEZCO7M/KzZdsdCIsz8/Hr6JJdOzPymPt+VdGrQ/UlcqrpZetD/K4K967J+0P0m5KHR73rQ/jEesPF8atT+gziPcslO1P1zk77CQirU/hGcKZBK/tT+w8ifgUPG1P3fraktkIbY/MMlHA2RPtj/VKkaaZnu2Pw71VNeBpbY/eBpxtsrNtj9jAWdqVfS2P8/QfV81Gbc/UmXiPn08tz+0Xq3yPl63Pza2ZKqLfrc/8a/d33Odtz9d0WdcB7u3P+bjLD5V17c/6fq0/Wvytz9IBYBzWQy4P02vqN0qJbg/9EuG5ew8uD/oLUWlq1O4P0xQbq1yabg/BHVYCk1+uD+c931JRZK4P8CGs35lpbg/LMc8Sbe3uD9dlrzYQ8m4P9o8//ET2rg/2mKd8y/quD9lCXfan/m4PzAoBkZrCLk/ud+IfJkWuT99cQNvMSS5Pz1nGr05Mbk/l3/FuLg9uT9LG9xptEm5Px0EfJEyVbk/2n1LrThguT8SpJf6y2q5P6ckUHnxdLk/73Dh7q1+uT9lhe7oBYi5P2tr67/9kLk/nJmZmZmZuT8=",
          "dtype": "f8"
         },
         "yaxis": "y2"
        },
        {
         "hovertemplate": "risk_band=7<br>variable=pd_lifetime<br>default_month=%{x}<br>value=%{y}<extra></extra>",
         "legendgroup": "7",
         "line": {
          "color": "#D62728",
          "dash": "solid"
         },
         "marker": {
          "symbol": "circle"
         },
         "mode": "lines",
         "name": "7",
         "showlegend": false,
         "type": "scattergl",
         "x": {
          "bdata": "AAECAwQFBgcICQoLDA0ODxAREhMUFRYXGBkaGxwdHh8gISIjJCUmJygpKissLS4vMDEyMzQ1Njc4OTo7PD0+P0BBQkNERUZHSElKS0xNTk9QUVJTVFVWV1hZWltcXV5fYGFiYw==",
          "dtype": "i1"
         },
         "xaxis": "x3",
         "y": {
          "bdata": "lyGOdXEbsT8tsH5tcRuxP4833ppqG7E/jjGRKhUbsT+uDq/wjxmxP6bPhddaFbE/n21IDKIMsT/AjP4Dmv2wP5LU40vE5rA/Ux3/mRPHsD/9Zye39J2wPzDlpb9Fa7A/4PB6IUQvsD8GUF6Z7tSvP+4LyXo3O68/BPBIoCCTrj/hi8Vejd6tP1BWnfdtH60/6iAr56xXrD8NxRdkIYmrP3owPCmGtao/Z7Sxq3PeqT+Bm472XAWpP0bjqYOOK6g/RicFhy5Spz+xYVE+PnqmP0CoNO6bpKU/gvM5SwXSpD+DKtkcGgOkP7ZAN/ZeOKM/eMWZ6j9yoj/9d4srE7GhP0fyyYQb9aA/b+2proo+oD+MwAXmBhufP1OkT0Y3xJ0/Lztivrt4nD9dkhpgljibP+UWMe24A5o/+cnrZAfamD8JoE1HWruXP7yc7pOAp5Y/pZafikGelT+TCswzXp+UP/DEQbaSqpM/F5Orf5e/kj8aE6lEIt6RP6FrB93mBZE/ZPg4AJg2kD+wsY7Lz9+OP2H5OpoRY40/9JBe31r2iz/QkmXAEpmKP3W5p7KiSok/p0oN/HYKiD+u6b0a/9eGPzE+NReusoU/2k60w/qZhD8p36vrX42DP3A3a3VcjII/iqgWeHOWgT8NCqlHLKuAP305FfEklH8/kNgquGvlfT9ZqWXuVEl8P5oqLegQv3o/gZjyH9hFeT+amCsL69x3P8ISJOqRg3Y/ms3Jkxw5dT+uT2s+4vxzP7eSP0ZBznI/9qhs8p6scT/aBSg5Z5dwP0Vj5gYZHG8/Dr7F4Q4gbT8phJg3rTlrP+WqSbz8Z2k/sEOmLhGqZz8utUbmCP9lP6f7EGQMZmQ/i9mT5U3eYj8T5Wv7CGdhP4AYrUUE/18/fnEYxQxOXT9R4OLV1blaPzrgTXMZQVg/U030gKDiVT/guWMfQp1TP1qfXAfjb1E/5KBA1+myTj+Iv1rC67FKPyJ6jJvf2kY/jbQzue8rQz9Dl4zjt0Y/P9qPRznxfjg/yFY3PFv9MT8ThCD51X0nP05A3VLkAhc//Knx0k1iZbw=",
          "dtype": "f8"
         },
         "yaxis": "y3"
        },
        {
         "hovertemplate": "risk_band=7<br>variable=p_12m_forward<br>default_month=%{x}<br>value=%{y}<extra></extra>",
         "legendgroup": "7",
         "line": {
          "color": "#D62728",
          "dash": "solid"
         },
         "marker": {
          "symbol": "circle"
         },
         "mode": "lines",
         "name": "7",
         "showlegend": false,
         "type": "scattergl",
         "x": {
          "bdata": "AAECAwQFBgcICQoLDA0ODxAREhMUFRYXGBkaGxwdHh8gISIjJCUmJygpKissLS4vMDEyMzQ1Njc4OTo7PD0+P0BBQkNERUZHSElKS0xNTk9QUVJTVFVWV1hZWltcXV5fYGFiYw==",
          "dtype": "i1"
         },
         "xaxis": "x4",
         "y": {
          "bdata": "4BZmgqqFbT+WgvgMog9zP3YZm9ft3Hc/wZjLpk0YfT/oRWIKSlKBP+sjud0eLYQ/U+mWxVwGhz/RUZWPSsiJP6TiLboJYIw//RgyIc6+jj/xaIDvGG2QPzbOQ/f5VZE/9XThd7MYkj+r3Bm2YLWSP13HKBk3LZM/A/kdqjaCkz+8wtiD5raTPzQrzAIezpM/5rYi+dnKkz8cmhhxHLCTP2Z85EjVgJM/740P+tE/kz92dhcHs++SPzYiBMHlkpI/XROoT6Erkj8FMYgc5ruRP5w5OO9+RZE/Cx2IMQPKkD/7tGTy2UqQP1vJ/7B6ko8/jegnlXyMjj/KypVGkIWNPzk/pKZIf4w/iI9Qu/t6iz/dWrlCyXmKP11xkNKgfIk/joVSfEeEiD8Ac6b0XJGHP2A0J0BgpIY/8gJ56rO9hT84rTXOod2EP/p/NXVeBIQ/muIxGQwygz9tK9pMvWaCP6JLTlV3ooE/SNeiOzTlgD/+Rqad5C6AP5U/R4ni/n4/ZZC2EHmtfT81T8sHR2l8Pza5YEP+MXs/S0mSBkoHej9CfGWS0Oh4P01IIn001nc/0Pwn2BXPdj/MOlAqE9N1P6lpRkTK4XQ/KtCe89j6cz+3buyY3R1zPzXclqR3SnI/L6jA/UeAcT9TDipW8b5wP+cHom0YBnA/M/OPjsiqbj+jzjKl/FhtP2qqEBQlFmw/be0+EZ/haj8WfBAwzbppP+0pN3AXoWg/s8H/QeuTZz9YumqBu5JmP0eZqGkAnWU/TBlNgjeyZD+om16H49FjP0lzP02M+2I/gZdLob4uYj9gp+YnDGthP1pbmzgLsGA/Nzesca36Xz/UCmDrG6VeP2O6W/qoXl0/7tiN7qMmXD9cpPT9Y/xaP5E0W/dH31k/u5sK9rXOWD+vz74WG8pXPwgMIC7r0FY/Y030gKDiVT/buWMfQp1TP1efXAfjb1E/yaBA1+myTj+Jv1rC67FKP0l6jJvf2kY/yrQzue8rQz/Ol4zjt0Y/PzuQRznxfjg/a1c3PFv9MT97hSD51X0nP69D3VLkAhc/AAAAAAAA+H8=",
          "dtype": "f8"
         },
         "yaxis": "y4"
        },
        {
         "hovertemplate": "risk_band=6<br>variable=p<br>default_month=%{x}<br>value=%{y}<extra></extra>",
         "legendgroup": "6",
         "line": {
          "color": "#9467BD",
          "dash": "solid"
         },
         "marker": {
          "symbol": "circle"
         },
         "mode": "lines",
         "name": "6",
         "showlegend": true,
         "type": "scattergl",
         "x": {
          "bdata": "AAECAwQFBgcICQoLDA0ODxAREhMUFRYXGBkaGxwdHh8gISIjJCUmJygpKissLS4vMDEyMzQ1Njc4OTo7PD0+P0BBQkNERUZHSElKS0xNTk9QUVJTVFVWV1hZWltcXV5fYGFiYw==",
          "dtype": "i1"
         },
         "xaxis": "x",
         "y": {
          "bdata": "AAAAAAAAAADH6WMK8QmZPjPq91HCLwA/zd6lg9LaLD9xELB70QlGPzamWV7rXVY/zbdVdyz/YT9lwTlDxwlpPxDUb3oOmW8/6b+uYfSdcj+Iiwt4Wt50P2FAARpRiHY/PWZlffSjdz9uZUoay0B4P85KgECMcXg/9xZDHnBJeD+ZhhN9ntp3Pwk/LNBfNXc/3RgEkcpndj/E3m+du311PzE0OpP4gHQ/BoLO8WZ5cz93WTrtSm1yP9to1UaGYXE/tydU/dJZcD8aqEOq77FuP4P5ExfswWw/A3gwk2Dmaj8kkJumFiFpP6VQUD8Sc2c/15wKKb7cZT/vjTk6EF5kP25lGIem9mI/ISuqxt6lYT+hQcLt6GpgP32AB7yriV4/azphx0VlXD+vzRk8hWZaP757WqZHi1g/dX8qMm3RVj+HA3FV4DZVP1GcpV6buVM/4a5mWqxXUj9KGzKsNw9RPyL68UjzvE8/cuEln46HTT8Liz1aHXtLP4WzVOuslEk/9ZVDGXvRRz9eJ2Fs9C5GP4fmS0eyqkQ/RferyXhCQz9UqVKTNPRBP/oA33j4vUA/NBbHbfY7Pz8X9HVaKiU9P2uuN1N8NDs/Wm3ajBZnOT8/NYXCWbo3Pz6HSlbZKzY/5S+1p1e5ND8rZTahwmAzP+gYQXwwIDI/Fr8Mu9z1MD8ycMSsSsAvP74f1zoQuy0/6q1xikDZKz///AJLSBgqP1zdJ0DGdSg/Y+S+YIfvJj/C+RVBg4MlPy8wNcPYLyQ/u6d1CMvyIj9zGcefvsohP7AoQOw2tiA/1LKkf6dnHz9Hb3FMnoQdP13/7Lj2wBs/47rw4oEaGj9o5UwZOo8YP0le3a4/HRc/Y5gLDtbCFT96cqIHYX4UPxuhOlhiThM/xIziX3cxEj/ny/oHVyYRP2fokNPPKxA/jRWaLYyBDj+bd5mkZMgMP2TECl8/Kgs//5AJN1WlCT8dIDr7/jcIP0iReA+z4AY/p3+9PAOeBT9wd2ysmm4EP6sLkAs8UQM/QE7Q0r9EAj8IezOwEkgBPwQ+9g80WgA/6g4DhGn0/j4=",
          "dtype": "f8"
         },
         "yaxis": "y"
        },
        {
         "hovertemplate": "risk_band=6<br>variable=cum_p<br>default_month=%{x}<br>value=%{y}<extra></extra>",
         "legendgroup": "6",
         "line": {
          "color": "#9467BD",
          "dash": "solid"
         },
         "marker": {
          "symbol": "circle"
         },
         "mode": "lines",
         "name": "6",
         "showlegend": false,
         "type": "scattergl",
         "x": {
          "bdata": "AAECAwQFBgcICQoLDA0ODxAREhMUFRYXGBkaGxwdHh8gISIjJCUmJygpKissLS4vMDEyMzQ1Njc4OTo7PD0+P0BBQkNERUZHSElKS0xNTk9QUVJTVFVWV1hZWltcXV5fYGFiYw==",
          "dtype": "i1"
         },
         "xaxis": "x2",
         "y": {
          "bdata": "AAAAAAAAAADH6WMK8QmZPgeyDDTWYQA/p4VUCKR5MD9EU9p/o0ZOP+xnI4+ewGI/3I88g+Vfcj+OcNkkyeR+P0utCDGoWIc/oAbwMNFTkD+C6fLOZ4uVP5o5cxV8LZs/lUlmmjyLoD9Dlq/9VZOjP52fv4WHoaY/fAKIibWqqT9PcypZCaasPzD7L1O1jK8/Jj+oUtcssT8SPX8Ms4SyP1XgspXCzLM/dcjPBFkEtT8MbqOzLSu2P5rEEBhGQbc/FQfmR+NGuD9WJDjFcjy5PyLE8CWCIro/4keKKrX5uj9jJL/fvcK7P+imuXFWfrw/z/sBYzwtvT8+yNPkLNC9P2mLDBniZ74/wtxBDxH1vj/P7q9WaHi/P9EMoAWP8r8/3cheDhIywD94/NYY32bAP2+xI6j1l8A/bgaIgpjFwD916DJDBvDAP64z8Hl5F8E/DAGl0ig8wT9DZf1BR17BPz1XRjUEfsE/Hn3lw4ubwT+puj/hBrfBP10PK46b0ME/81JECW3owT8atLD9m/7BPwEA+K9GE8I/+KvBKIkmwj+h/lRdfTjCP6LdzVU7ScI/LcEEUdlYwj8n/DHma2fCP/6XWyQGdcI/NQWir7mBwj/QR4Pclo3CPxRtLsmsmMI/rEcCdQmjwj/f4lLWuazCP2sDke7JtcI/y4nu3ES+wj/nupnvNMbCP69wqLOjzcI/Gg3LA5rUwj/Zzd0VINvCP9DXbYc94cI/iQdGafnmwj8HTRZKWuzCP1MaR0Bm8cI/vTcJ8yL2wj+DKbGilfrCP405bDDD/sI/Iy5cJbACwz9RvCW5YAbDP/HZ/NfYCcM/CDg5KBwNwz+lYXwPLhDDP1E9crcRE8M/xP4zEsoVwz8S81TeWRjDP2b6n6rDGsM/uPaL2Qkdwz8R9mykLh/DPy5oZx40IcM/z0EqNxwjwz9mi3S96CTDPxJ8amGbJsM/q+y9tjUowz9NoK02uSnDP9aX3kEnK8M/rmMSIoEswz91Kr0LyC3DP3bjfR/9LsM/exB7ayEwwz+zE6bsNTHDPxcT5487MsM/LzMzMzMzwz8=",
          "dtype": "f8"
         },
         "yaxis": "y2"
        },
        {
         "hovertemplate": "risk_band=6<br>variable=pd_lifetime<br>default_month=%{x}<br>value=%{y}<extra></extra>",
         "legendgroup": "6",
         "line": {
          "color": "#9467BD",
          "dash": "solid"
         },
         "marker": {
          "symbol": "circle"
         },
         "mode": "lines",
         "name": "6",
         "showlegend": false,
         "type": "scattergl",
         "x": {
          "bdata": "AAECAwQFBgcICQoLDA0ODxAREhMUFRYXGBkaGxwdHh8gISIjJCUmJygpKissLS4vMDEyMzQ1Njc4OTo7PD0+P0BBQkNERUZHSElKS0xNTk9QUVJTVFVWV1hZWltcXV5fYGFiYw==",
          "dtype": "i1"
         },
         "xaxis": "x3",
         "y": {
          "bdata": "YTJVMCqpuT/j0HgBJqm5P0QAVN/Lp7k/AhQYwCeeuT942dB1s4C5P+Ir4BPqRLk/RhKHILTkuD8ojq9z2V64PylcBVvttbc/YyvQxN/utj80EIlTvw+2P4FKqXvUHrU/vfTS+hAitD8HTqKPwB6zP57+/ttmGbI/KoE+A7oVsT9EgJIKrhawP48rNrwRPa4/lBkXk/NdrD+Wy9OEYpKqP86954Xu26g/sEwZr347pz8THeYYdLGlP/ixB3fHPaQ/zzv9zCHgoj8c2zm/8JehP2wAFBN3ZKA/NUKn27OJnj9OCqixVnCcPwkyiwTlepo/cbP4RGSnmD/fa+i82vOWPzBiQ+RWXpU/I6RAwfTkkz9CbuW64YWSP+XshjFfP5E/MVeQIcQPkD88dpoP/OqNPz1iaWci3os/ioOzVjH2iT+FBNR6izCIP4mXga++ioY/lXygaIIChT8HII7UtZWDP7orgdxdQoI/NSugE6MGgT8U++9Cn8F/P0/To2Kann0/iELP2kWhez8b0/IV58Z5P/4le9X2DHg/y8zVnx1xdj8HiWBeMPF0P3GYaCwti3M/QQVaVzg9cj+G/2+PmQVxP/hwQI9yxW8/jEYghjymbT/MnjSc1qprP94zeEG60Gk/+itV0JAVaD+vyYfqL3dmP0/IKBuW82Q/oQtkueeIYz9G1YIHbDViP1sMHIqK92A/fdvcJpGbXz+gmTr+jW1dP0dwfjWAYls/oOLJbwt4WT+Jf+vI/qtXP0Pn5oxR/FU/MuTXMCBnVD/n8h6IqepSP1B6IzFMhVE/dcNQNYQ1UD8CsYyw0fNNPy/CBSVVoks/2a4zaCJ0ST/3iZFY9GZHP6B4AOateEU/CGRfI1enQz8w8bORGvFBP81AVaBCVEA/sJvMu26ePT9SuIes+MA6Px2JsjNdDTg/6DUx1gWBNT8nySseiBkzP+goBn2i1DA/mq4N0nJgLT/M0QRkqVQpP1ejgxE6giU/MAtkarPlIT/aUfLeufccP96bzUlmgxY/LRj528doED9pUbyzLEUFP/w18gl9r/Q+/Knx0k1ilTw=",
          "dtype": "f8"
         },
         "yaxis": "y3"
        },
        {
         "hovertemplate": "risk_band=6<br>variable=p_12m_forward<br>default_month=%{x}<br>value=%{y}<extra></extra>",
         "legendgroup": "6",
         "line": {
          "color": "#9467BD",
          "dash": "solid"
         },
         "marker": {
          "symbol": "circle"
         },
         "mode": "lines",
         "name": "6",
         "showlegend": false,
         "type": "scattergl",
         "x": {
          "bdata": "AAECAwQFBgcICQoLDA0ODxAREhMUFRYXGBkaGxwdHh8gISIjJCUmJygpKissLS4vMDEyMzQ1Njc4OTo7PD0+P0BBQkNERUZHSElKS0xNTk9QUVJTVFVWV1hZWltcXV5fYGFiYw==",
          "dtype": "i1"
         },
         "xaxis": "x4",
         "y": {
          "bdata": "kPYI1mQclj9qC1rHlSmaP5UGVA2UOZ4/sCWzedsQoT9msnzWCtSiPzQsimvCTKQ/+Qr3rXRrpT+5UItiUCumP4T6IjDsj6Y/FQqH2kCipj9VAyyOCm6mPwnjSoDh/6U/rK2oKABkpT/1wApgkKWkP9L86aRWzqM/PGGpGJrmoj9k+1C8MPWhP42S8Dmf/6A/3b+acEEKoD9SK79M6jCeP3EZjCeGWZw/QvXxnAiSmj/ny+Z2Bt2YPxB3iLwvPJc/cCBqeH+wlT8ge6Z2YzqUP8JPc/Lc2ZI/eIBNMJuOkT8UCD70EFiQP5TMlFkLa44/WepQIUZMjD+7t0Kl/1GKP6mYBexPeog/Gh3hbkbDhj8A31LU8yqFPyXwuzFxr4M/HQ25VeVOgj+tDKGEiAeBP2WeV/lNr38/OzqRDUV7fT/6f0eX5m97P5+WmjJQink/7vPmeczHdz+XQKwZ0iV2PwkfYnEConQ/JDMw5Cc6cz+nq9X0M+xxP1q550E9tnA/CFlJ5fosbz9a3F1BnhZtP6eDzY9XJms/zo1HhlNZaT+WPD619KxnP1Iktc7PHmY/oJxFG6isZD8gssIfbFRjP744gXQyFGI/OFU7zjbqYD9Pvn1vrqlfP96ACfYipV0/JHTSbwHEWz8aofBMtgNaP9oWLgXgYVg/oFR3PUvcVj/QUr8273BVP2M4tYHqHVQ/zATD8n/hUj8u1fHRE7pRP1I0fkIpplA/5WE0vL9ITz93DiMA42ZNP16OeHlgpEs/+HrJAwn/ST8mCvq51nRIP36wbcjpA0c/YuyIf4WqRT87zXahDWdEP8SuguYDOEM/CESwswUcQj+SVpD/yRFBPwuRn2EfGEA/4sSMkdRbPj+JUKurRqQ8P7UcN66rBzs/G1jOxDyEOT+LLxAWUxg4P+lmE2NlwjY/4zEx1gWBNT9/xCseiBkzP+MjBn2i1DA/ZaQN0nJgLT+SxwRkqVQpP+aYgxE6giU/zwBkarPlIT+bOvLeufccPxGGzUlmgxY/9gL528doED9MKryzLEUFP2rq8Ql9r/Q+AAAAAAAA+H8=",
          "dtype": "f8"
         },
         "yaxis": "y4"
        },
        {
         "hovertemplate": "risk_band=5<br>variable=p<br>default_month=%{x}<br>value=%{y}<extra></extra>",
         "legendgroup": "5",
         "line": {
          "color": "#8C564B",
          "dash": "solid"
         },
         "marker": {
          "symbol": "circle"
         },
         "mode": "lines",
         "name": "5",
         "showlegend": true,
         "type": "scattergl",
         "x": {
          "bdata": "AAECAwQFBgcICQoLDA0ODxAREhMUFRYXGBkaGxwdHh8gISIjJCUmJygpKissLS4vMDEyMzQ1Njc4OTo7PD0+P0BBQkNERUZHSElKS0xNTk9QUVJTVFVWV1hZWltcXV5fYGFiYw==",
          "dtype": "i1"
         },
         "xaxis": "x",
         "y": {
          "bdata": "AAAAAAAAAABdeDmov7D3Pkgv38Z4ZEc/mTwjY6m+Zz8bwBTj61J4P6nhB5GPG4I/AfFV6euehj9e3wuz6GeJP71DHVFwooo/jSYEjSimij8cL6gCNs6JP6sTuzaMaIg/jbq2n4mxhj+9QXB+AtWEP7vpllou8YI/luAWlNcZgT/EMhm+UbZ+P/LrxTzWd3s/eXZkonB+eD+sPeizc8t1P8ObdvcWXXM/sHxjmbMvcT+iFTJSOn1uP4X8HS5lCWs/mNQWOHn5Zz/IZDjpUUNlPy0yTAFb3WI/BSHmPLa+YD/HQaEGl75dP9wW7WKWb1o/ceflh0+DVz/i2vfmFO5UP1HZD1KKpVI/fuQ0uoagUD+9nMaS661NP4dKaSx1g0o/DnkWUyi1Rz9JsplpCDhFPwm//zhwAkM/mbdpq+gLQT+A7iL3B5o+PxivBhx6fjs/03AhOLW5OD8gBw6oq0E2P5mcTiaIDTQ/MsYjxIYVMj9B883E0lIwPzDIOY3Rfi0/4PUyZ/mrKj9OtnwDxiMoP8ScRrD53SU/gULodU3TIz+oKM7WUv0hP0N6Q2ZZViA/eFxxbq+yHT/89KporgMbP/2BzwHFlxg/nJKLHexnFj8FH1tA5W0UP3BEcuwipBI/rHyk6bMFET9tPi4xYhwPPyevOvxacww/0G8HfVAJCj/rJw6UANgHPxt6ywfT2QU/jzgsacYJBD9wYa47X2MCP3UmThmZ4gA/5f81J7MH/z79A7Q2yYf8PtiEJ36kP/o+5I7zLQsq+D7V56JzSUL2PnhASDYjhPQ+j3Tabcfr8j47rujkxHXxPmeNBzoAH/A+77ou91XJ7T4Ytyx6d4jrPqSYXxLOduk+/KZpLjKQ5z5WYm9b4NDlPnTLVz1vNeQ+nhiFl8a64j7i6olHF17hPiOT8xbUHOA+atzLmFbp3T5qkA7OAcfbPhfaTePSztk+/etUukr91z7ZvFunOU/WPrRB0u63wdQ+pHTFAx9S0z4qMn5yA/7RPrdCPmUvw9A+WBABZjs/zz56Cs3T6iLNPiL1HJELLss+lNjgNYVdyT4=",
          "dtype": "f8"
         },
         "yaxis": "y"
        },
        {
         "hovertemplate": "risk_band=5<br>variable=cum_p<br>default_month=%{x}<br>value=%{y}<extra></extra>",
         "legendgroup": "5",
         "line": {
          "color": "#8C564B",
          "dash": "solid"
         },
         "marker": {
          "symbol": "circle"
         },
         "mode": "lines",
         "name": "5",
         "showlegend": false,
         "type": "scattergl",
         "x": {
          "bdata": "AAECAwQFBgcICQoLDA0ODxAREhMUFRYXGBkaGxwdHh8gISIjJCUmJygpKissLS4vMDEyMzQ1Njc4OTo7PD0+P0BBQkNERUZHSElKS0xNTk9QUVJTVFVWV1hZWltcXV5fYGFiYw==",
          "dtype": "i1"
         },
         "xaxis": "x2",
         "y": {
          "bdata": "AAAAAAAAAABdeDmov7D3Pgv7IMT+IUg/XHsrFCnHbT/kPpU2QJuDP0aQzuNn25I/xoh52N0qnj86vP8YaW+lPykNRy0FGKw/ZgtEqMdgsT9KEZlojpq0P79zcO+fp7c/EUtnI9F9uj9JUzVzcRi9P4AwiD6Xdr8/SYaFGOnMwD/fT3amm8LBPz9/XFhansI/86Jv3U1iwz/g5A57qRDEP76ZyjKSq8Q/pLWVzw81xT/7fd64BK/FP+31lk0qG8Y/P1F3MhB7xj/SMhx6HdDGP5tjIeaSG8c/H/wUv41exz+jPiLtCprHP9EY6Bnqzsc/oOT3uPD9xz9W1MXizCfIPwn0afcXTcg/0l3eBFluyD9vJHHwBozIP7qNnWWKpsg/M6TwjT++yD/lPVqWd9PIP6Q9kwZ65sg/XKc+74X3yD/TODrz0gbJPys8SDCSFMk/40zkCu8gyT/nU7jgDyzJPzV7y6QWNsk/GI0taCE/yT8S9I/RSkfJP4RC84WqTsk/QQ9NhFVVyT9v7s11XlvJPxYAOvTVYMk/J3qXx8plyT+xLU0cSmrJP5C+prJfbsk/vIyUCBZyyT8bomF+dnXJPwvcAXeJeMk/fY2FdFZ7yT/hmC0x5H3JPyoni7U4gMk/ulsIbFmCyT+ebisyS4TJP0ky22cShsk/wALj/LKHyT+iQ+x8MInJP1rAHBqOisk/HlODts6LyT8EDnfs9IzJP+aiCBYDjsk/ltyhU/uOyT82kuuR34/JP3KDD4+xkMk/DvNo33KRyT8lkLTxJJLJP2dCzhLJksk/O7EJcWCTyT+A2DAf7JPJP7yoMhdtlMk/d4WKPOSUyT8qbmheUpXJP6i3oDm4lck/T3FpehaWyT8N3+q9bZbJP2zUp5O+lsk/gDLCfgmXyT+oUB/3TpfJP3asb2qPl8k/Dt4cPcuXyT8reiDLApjJP8dAxmg2mMk/cbVbY2aYyT8oBM8Bk5jJP83hPoW8mMk/WOl8KeOYyT9UzoMlB5nJP9GY4qsomck/0v4d60eZyT+f0ggOZZnJP7xjFDyAmck/nZmZmZmZyT8=",
          "dtype": "f8"
         },
         "yaxis": "y2"
        },
        {
         "hovertemplate": "risk_band=5<br>variable=pd_lifetime<br>default_month=%{x}<br>value=%{y}<extra></extra>",
         "legendgroup": "5",
         "line": {
          "color": "#8C564B",
          "dash": "solid"
         },
         "marker": {
          "symbol": "circle"
         },
         "mode": "lines",
         "name": "5",
         "showlegend": false,
         "type": "scattergl",
         "x": {
          "bdata": "AAECAwQFBgcICQoLDA0ODxAREhMUFRYXGBkaGxwdHh8gISIjJCUmJygpKissLS4vMDEyMzQ1Njc4OTo7PD0+P0BBQkNERUZHSElKS0xNTk9QUVJTVFVWV1hZWltcXV5fYGFiYw==",
          "dtype": "i1"
         },
         "xaxis": "x3",
         "y": {
          "bdata": "lyGOdXEbwT8Pq2jP8hrBP+1QkANRC8E/ft1TwNjLwD9PeRmhz0nAP7vlIW1oEL8/utg9XK8svT9vHknFZw27P4h91Eba07g//ILNPf2Ztj9e754GKnK0Pwip5RQ3aLI/oxMD7u+CsD+roeay7YqtP/stP+zPYKo/fa0rX3CFpz9rsyOJsPSkPzeHdrxPqaI/gWbPpYidoD8HazZL85adPyNlHnvOWpo/8OJtC8h7lz9HQ5INze+UP2t88++lrZI/KmcnNPqskD/0IMt/lMyNP3YcqJ/GpYo/7ZnRh6DZhz+5/J8jkl2FP1vxlwxEKIM/AjohHHcxgT8IQ6bIy+N+P3nU+AJRxns/HclN5TX/eD9gw1D4i4R2PxQEbvmUTXQ/MkAnHJ5Scj9Bse6E34xwPyFjzDO/7G0/Gh5IjLMTaz8EAmqgUIVoPxlMrNVhOWY/U+F2XKcoZD9W4t9fuExiPzDKBO7on2A/3ALtRWY6Xj9YDYtbRoBbP3lYSqeLCVk/t2SlQDLPVj+wIuj5/cpUP4cHFN9i91I/8n3cmXBPUT+DSwW5gJ1PPwmj7QLK4kw/sq1+MLpnSj/zmsZCDSZIP6jrS4YoGEY/Ir7Djwc5RD8wPtZ5K4RCP96bVxyM9UA/u58f/RUTPz8O0VOcz3k8PymYqlZsGTo/cLFXQansNz84/FtFye41P8uFae6GGzQ/tARh0gdvMj8+Wfxg0eUwP/XDduJ9+S4/rdTHzvFhLD98SOql2f8pP6RJ08+Mzic/Tw84dNLJJT9e81VJ1u0jPzrkwJMeNyI/66fjNIOiID/UQ9tTS1oePwcs8sDTqBs/M5Sokt8rGT/PQyopG98WP27rDQmVvhQ/rto/jrTGEj/USA+PMfQQPx94cKsZiA4/y2JPsxJnCz+wz4ZITIAIP9H8e54xzwU/MxH4GJFPAz/m+6BSk/0AP6w7jgFmq/0+JdPdO2up+T4I5teNSe/1PiPcGHGQd/I+/mj7doF67j6wLjl/hXfoPiXgWK+63eI+CEw0D7dK2z7olxUcgY7RPsF6jINL88A+fT81XroJkLw=",
          "dtype": "f8"
         },
         "yaxis": "y3"
        },
        {
         "hovertemplate": "risk_band=5<br>variable=p_12m_forward<br>default_month=%{x}<br>value=%{y}<extra></extra>",
         "legendgroup": "5",
         "line": {
          "color": "#8C564B",
          "dash": "solid"
         },
         "marker": {
          "symbol": "circle"
         },
         "mode": "lines",
         "name": "5",
         "showlegend": false,
         "type": "scattergl",
         "x": {
          "bdata": "AAECAwQFBgcICQoLDA0ODxAREhMUFRYXGBkaGxwdHh8gISIjJCUmJygpKissLS4vMDEyMzQ1Njc4OTo7PD0+P0BBQkNERUZHSElKS0xNTk9QUVJTVFVWV1hZWltcXV5fYGFiYw==",
          "dtype": "i1"
         },
         "xaxis": "x4",
         "y": {
          "bdata": "ii8Z/fKzsT9JBV7FbnCzP9wKARE65rQ/PeQRUfnUtT/pGKH9Rhm2Px+i5o7Au7U/eiVWCevdtD+sg3vyqqezP0DkDKgmPbI/PwryOgu7sD8XvXSGbWyuP9eT0TGbeas/sXPywWKvqD9u2fOSyBemP9wmVURet6M/AUc3PQiPoT9zaHcAmDqfP7wVoXJ9vps/+i+OvVWimD882gxZAN6VP/ovYDo6aZM/n3Aakvo7kT/QJPweVJ2OP7j2L2OBNIs/Iy47WqUwiD8+yFO9JIaFP5sDtdKWKoM/T5K/pLMUgT9R+Ar3e3h+P4S8WS7XM3s/QgMHippOeD/AUbaYb711P1Nv9otcdnM/WojSU5xwcT/3/9vC9EhvP+TbNh9kFmw/Es77F6M9aT8XUekMQLRmP1BfQsQNcWQ/Fd9ZP/trYj8Sryhy8J1gP47G4aleAV4/ZWuuoHEdWz/QdlweaoZYPySe45i9M1Y/eCMLfuIdVD8C7p+eMD5SPyGKHpnFjlA/J/i6gtkUTj+qW6YlFFlLP6DB0pIP4kg/DyINk4yoRj+DTFcWHKZEP0vfuIsG1UI/fCpORzYwQT+P25AkSWY/P3F0XBuSszw/mJAjOBZBOj8hV7cgagg4P7aSxdDRAzY/DZkDwywuND/O2Kh35IIyP5Inygzd/TA/Fb3LTc82Lz+EWMrgbLAsP6r5WfyjYio/b8Rt2x9IKD8YlWMtFVwmP7XS710zmiQ/xOqnh5f+Ij/tpWLewIUhP4st92SGLCA/p3DIjhvgHT8+f2huhpsbP+3LQ1ikhhk/iklL3T2dFz99xoqqgdsVP+aZjkD6PRQ/yRuxw4TBEj/2SbTFSGMRP2Wvx+ywIBA/VtTAvsjuDT9bSFC+gcoLP207mv+q0Ak/NNFo0bv9Bz+VGAQlfE4GP2AtQ+b8vwQ/1Cr4GJFPAz8pFKFSk/0AP4VyjgFmq/0+Vw3eO2up+T4QFtiNSe/1PpIWGXGQd/I+qeH7doF67j6Zljl/hXfoPodcWa+63eI+Vz81D7dK2z62hxYcgY7RPqBhjoNL88A+AAAAAAAA+H8=",
          "dtype": "f8"
         },
         "yaxis": "y4"
        },
        {
         "hovertemplate": "risk_band=4<br>variable=p<br>default_month=%{x}<br>value=%{y}<extra></extra>",
         "legendgroup": "4",
         "line": {
          "color": "#E377C2",
          "dash": "solid"
         },
         "marker": {
          "symbol": "circle"
         },
         "mode": "lines",
         "name": "4",
         "showlegend": true,
         "type": "scattergl",
         "x": {
          "bdata": "AAECAwQFBgcICQoLDA0ODxAREhMUFRYXGBkaGxwdHh8gISIjJCUmJygpKissLS4vMDEyMzQ1Njc4OTo7PD0+P0BBQkNERUZHSElKS0xNTk9QUVJTVFVWV1hZWltcXV5fYGFiYw==",
          "dtype": "i1"
         },
         "xaxis": "x",
         "y": {
          "bdata": "AAAAAAAAAAAuqXY1Iw9FPzdvdqALw38/nLkF86pbkj/VGvLqFTmZP1Jg0FvFi5s/A6/YbqO2mj9xgttUVDiYP26DiAHXF5U/RYUCgnbrkT9mfYNvDPuNP7w+ayZt14g/juCB9ZN3hD+7M5hsvs+APzwHQvMVlXs/HRPW/kCgdj+IbtzuUJNyPzDou1Qmi24/TWVqh2EoaT95ng1xF8RkP3gwrJ9VLmE/hcXyMwGAXD9Wquf+w7JXP4vIgLaxwVM/tb+Q42+DUD/J+ZMqTK1LP/WPTEfdQEc/vhaoYSSWQz8A4ODUA4pAP3eZRaUVADw/o1iy60nCNz83aCikGjU0P4ANGBnvOTE/72+AU5BvLT+UclzeWjQpP8MeeB+ioCU/K606Mb6YIj+/15kC3wUgP1a3YUdPqhs/FwRCZuvtFz9t4pUqmLwUP6Im5OGzABI/GDT9dWFQDz+AZbFJ6UcLP+r4/Tatzgc/arRed2fPBD/fwDgtLzgCP+wdUZPQ8/8+PwTDtpkP/D4nmBcoFq74PntVBXPovPU++gSt43Is8z6KWz7bZ+/wPi+dM67Z9O0+0xLmwJmH6j7w691qb4bnPsRa7vMW4+Q+f9/aR06R4j5V0H5RiIbgPhk5S9VYc90+nPtcv79F2j7rQ3++r3bXPtwUi+5k+tQ+LKql+KrG0j6wcUHTpNLQPtXPscE5Lc4+D+5MO7gXyz7zO6CHDlnIPpYUZvYB58U+5HvMn6C4wz7cwByUFcbBPqH0sTeDCMA+2VVawcXzvD6P4crg0Sm6PinjUoLZqbc+9+QbtadrtT4lBBno/2ezPhWqor9+mLE+PyhfG/7urz7qvkuxBACtPj5a+eQ4W6o+MhWZaMP4pz4bbwcEr9GlPpdSXI7N36M+FND+UaAdoj4el7tmQ4agPqQHWDu3Kp4+5CVMUQ2Omz5DV6Nlmi+ZPk5OWFQtCZc+dYn0BD0VlT6uPkWD1U6TPmfwrFeHsZE+RTTo1lg5kD7+yjtVcsWNPtBribjpVIs+bYT0ZVcbiT4wYAd2jxOHPv3u8KXqOIU+PUZWPjiHgz4=",
          "dtype": "f8"
         },
         "yaxis": "y"
        },
        {
         "hovertemplate": "risk_band=4<br>variable=cum_p<br>default_month=%{x}<br>value=%{y}<extra></extra>",
         "legendgroup": "4",
         "line": {
          "color": "#E377C2",
          "dash": "solid"
         },
         "marker": {
          "symbol": "circle"
         },
         "mode": "lines",
         "name": "4",
         "showlegend": false,
         "type": "scattergl",
         "x": {
          "bdata": "AAECAwQFBgcICQoLDA0ODxAREhMUFRYXGBkaGxwdHh8gISIjJCUmJygpKissLS4vMDEyMzQ1Njc4OTo7PD0+P0BBQkNERUZHSElKS0xNTk9QUVJTVFVWV1hZWltcXV5fYGFiYw==",
          "dtype": "i1"
         },
         "xaxis": "x2",
         "y": {
          "bdata": "AAAAAAAAAAAuqXY1Iw9FPy6ikgN4MoE/swrP9Ob0mj/EkuBv/haqP3Zh5I5w7rM/N42aahmcuj/qtug/F1XAP1jHGSAS+MI/ARha8IA1xT/XT1K3MRXHP8MDuYmoosg/zCERySHqyT8IpdqvHffKP0K1dF/G08s/22VrZ8iIzD9PSeLuYh3NP/A4NYiPl80/heJSDjH8zT//GBdsQU/OP8HJlcL6k84/TK/9xPrMzj+hfvtMYPzOPzKAaLDjI88/saEvkOpEzz+rNVrcl2DPPzuCobnYd88/UioD3m6Lzz8yC9jh+JvPP/+tquz4qc8/K4egEdq1zz9fm/Ke9L/PP2Ynf5aRyM8/ggeUeu3Pzz+fnkuROtbPP6d807mi288/Ustf6Ujgzz/IcSBhSuTPP/9dCau/588/QCZ2aL3qzz/8eHv7VO3PP4G19xGV788/VBUPGIrxzz9qsKOWPvPPP0ogd4G79M8/NZbudwj2zz/BaeH6K/fPP0oEZpkr+M8/YrozFgz5zz8f++SG0fnPP0qTKG5/+s8/srC/0Rj7zz+liv5MoPvPP3NDZSAY/M8/C0fMPoL8zz+D8olY4PzPPzzC5eQz/c8/p+EeKn79zz+iJ0BEwP3PPzjS8Sr7/c8/8lBxti/+zz/xzdCjXv7PPwermpiI/s8/UpzwJa7+zz/VQjrLz/7PP4cEdPjt/s8/1D8sEAn/zz90xzppIf/PP9q9PFA3/88/pl3dCEv/zz/D8fLOXP/PP3Updtds/88/IgpZUXv/zz+H+kFmiP/PP7C7LjuU/88/PpYC8Z7/zz9LigKlqP/PPxzqQXGx/88/9HABbbn/zz9HnQKtwP/PP4XW0EPH/88/q7ABQs3/zz+tcW220v/PP0TVYK7X/88/xOnINdz/zz9zw1lX4P/PP96qsBzk/88/CFVyjuf/zz+8oWW06v/PP0dMi5Xt/88/5uwyOPD/zz9PnQ2i8v/PP0WIPtj0/88/IqNp3/b/zz92yMC7+P/PP/9jD3H6/88/XtrEAvz/zz++0f1z/f/PPx18jMf+/88/AQAAAAAA0D8=",
          "dtype": "f8"
         },
         "yaxis": "y2"
        },
        {
         "hovertemplate": "risk_band=4<br>variable=pd_lifetime<br>default_month=%{x}<br>value=%{y}<extra></extra>",
         "legendgroup": "4",
         "line": {
          "color": "#E377C2",
          "dash": "solid"
         },
         "marker": {
          "symbol": "circle"
         },
         "mode": "lines",
         "name": "4",
         "showlegend": false,
         "type": "scattergl",
         "x": {
          "bdata": "AAECAwQFBgcICQoLDA0ODxAREhMUFRYXGBkaGxwdHh8gISIjJCUmJygpKissLS4vMDEyMzQ1Njc4OTo7PD0+P0BBQkNERUZHSElKS0xNTk9QUVJTVFVWV1hZWltcXV5fYGFiYw==",
          "dtype": "i1"
         },
         "xaxis": "x3",
         "y": {
          "bdata": "/Knx0k1ixT9IgUMyO1TFP4qZpqBuqsQ/TyeT7twhwz9KH/WcfgbBP3m4RRbncr0/sukQM2z8uD+cDseClPC0P/Y1zyh4arE/zKgjFyfYrD+Vv+Sc8NWnP2W+faqEr6M/W6NEZS5EoD9BzvbBX+qaP9baGz67TpY/F+TYIBCHkj9ezeyIQdmOP/wUoiP4vok/AYj+7AWLhT9TuFBS5xKCP+eDwLQ2aH4/jF9WLVOleT9BRd2+y691P31tyEfYYnI/xKYAgTJBbz/XYtd/gqFqP6rNYmUCv2Y/EETpkFV5Yz/6bMU2/bVgPx7fqMl1vlw/txNddlbGWD9vdsklG2ZVP2bmXhdfhVI/9651mOoPUD85z9Xf4ulLP+wbRiTsTEg/2qwMsJQxRT/bZ/HcT4RCPyZlt8C3NEA/+oreLQZqPD+WP8E2KPM4PxuE4Tc38TU/WMTp7phTMz84GHT5OAwxP/UvtNFAHi4/5HTXZT6kKj9ckXqQCJknP4ed4mfD7SQ/fyI8S7WVIj/RFMRU84UgP6tqOq02ah0/nXuTIzI2Gj+VKiqC6WEXPwOmNtBS4RQ/jGniOQOqEj/YSqV487IQPxPtqpya6A0/MnzvOoHOCj+9XwjRvQsIP9ttkWv4lQU/TNrWAClkAz82GecEam4BP5yhMQSjW/8+1d4Lcp84/D4+4cDmJGn5PtkrSa3Y4/Y+F7VvP3+g9D4fQeaP15fyPlbMZ097w/A+BgUN7IY77j7DV8fqYEPrPmBToh+rleg+1STkx40q5j78Y/iZE/vjPlyvbYsOAeI+BhVXEAA34D4X/SC4CDDdPlgJ6niAP9o+uA4ybqKU1z4tJvQ4fyjVPlJUPJ/k9NI+RlpGE0j00D4X0cuhZ0POPgBgrXls8co+z1fNeabqxz7B0leT7ifFPqpBoAXYosI+ogVtLJxVwD5AddNBEXa8PuWgzMnenLg+8Me+sjEXtT55OX6Sbt2xPlpEEGFv0a0+AMAKsLJlqD7ZDq6ocGyjPug7q14Jt50+WLm+S4BTlT5kO4RrRjuLPq5HUAZ1GXo+/Knx0k1ihbw=",
          "dtype": "f8"
         },
         "yaxis": "y3"
        },
        {
         "hovertemplate": "risk_band=4<br>variable=p_12m_forward<br>default_month=%{x}<br>value=%{y}<extra></extra>",
         "legendgroup": "4",
         "line": {
          "color": "#E377C2",
          "dash": "solid"
         },
         "marker": {
          "symbol": "circle"
         },
         "mode": "lines",
         "name": "4",
         "showlegend": false,
         "type": "scattergl",
         "x": {
          "bdata": "AAECAwQFBgcICQoLDA0ODxAREhMUFRYXGBkaGxwdHh8gISIjJCUmJygpKissLS4vMDEyMzQ1Njc4OTo7PD0+P0BBQkNERUZHSElKS0xNTk9QUVJTVFVWV1hZWltcXV5fYGFiYw==",
          "dtype": "i1"
         },
         "xaxis": "x4",
         "y": {
          "bdata": "JYGgOUJRwT9/pwQ67/bBPy4e4ziX4ME/ywp46vrQwD/npMwI1TG+P9d10REIO7o/sBhxdQtLtj+Q93yYN66yP21bBnvpB68/2dx4sXyjqT/qFgkl9x+lP7KwhKEpY6E/3TFpejagnD/l4ftxL5aXPx+Bb/HadpM/k7u7buUXkD8Zcjs7wquKPxL5bGopJ4Y/heUyHjtygj8GEy/bR8x+P0bK6O7exnk/xfM4h1ihdT9Qi+JijzJyP9lTf4Z1sm4/Y3v9VM30aT+8CJuIbgBmPzv0NHXUsWI/AuValinYXz/IidpfMC9bP9p9sPsnQlc/XqKiOnDxUz8ycGznDCNRP1DAUPotg00/aoB1l8V2ST/cKre7oANGP690TUp7EUM/RKQ9XSeMQD8hxYAPpsU8PyEvINbhDjk/b6z5pHncNT+1tDbWrRozPzXb04PiuDA/OVXiQDBSLT+TipU2+L4pP412iSoapCY/SJgbF57wIz9mfDgcGZYhP82M/JmKEB8/oN8MFlZ5Gz+eoxSnsVQYP3sLLuxNkxU/DY4QRwooEz+R/HlIoAcRP8rDyEm5UA4/WgIN1MYDCz/IhFcp+xkIP/QS9/TchgU/5kbsf58/Az9kkFaW5ToBP7m0UUcb4f4+Mam7HQuz+z7oGtI8St/4Pmjqer4bW/Y+n2zgaR8d9D4lsri4Ih3yPtDEDo/4U/A+aJPGR6127T4Ck1KDb5vqPmSdMU+EDOg+pv1p4mLB5T6/jVQCh7LjPvsqNwFQ2eE+n+pwKeQv4D6h50TqL2LdPkshCxSxsNo++GV3CjJD2D5OLKxnhBLWPoLUdsZIGNQ+Hz2CAdZO0j4tYFSUI7HQPvusM2Ztdc4+CPCIeiPPyz4VJJ93S2jJPhZ71k2LOsc+SWZUcDZAxT4R1Z4sOnTDPssObV0M0sE+mkBuLJxVwD5PXNVBEXa8PuB6zsnenLg+BjbBsjEXtT5kHYGSbt2xPgMSF2Fv0a0+MnwRsLJlqD74frWocGyjPuBOvF4Jt50+7EnOS4BTlT7Fbp5rRjuLPgdvgwZ1GXo+AAAAAAAA+H8=",
          "dtype": "f8"
         },
         "yaxis": "y4"
        },
        {
         "hovertemplate": "risk_band=3<br>variable=p<br>default_month=%{x}<br>value=%{y}<extra></extra>",
         "legendgroup": "3",
         "line": {
          "color": "#7F7F7F",
          "dash": "solid"
         },
         "marker": {
          "symbol": "circle"
         },
         "mode": "lines",
         "name": "3",
         "showlegend": true,
         "type": "scattergl",
         "x": {
          "bdata": "AAECAwQFBgcICQoLDA0ODxAREhMUFRYXGBkaGxwdHh8gISIjJCUmJygpKissLS4vMDEyMzQ1Njc4OTo7PD0+P0BBQkNERUZHSElKS0xNTk9QUVJTVFVWV1hZWltcXV5fYGFiYw==",
          "dtype": "i1"
         },
         "xaxis": "x",
         "y": {
          "bdata": "AAAAAAAAAACpu5B5+eiNP9Mu+CvfObE/qRiW+HGttj/WBPrZE+W0P4J0swDtvLA/qS9GYKYzqT9nL1oMF3KiP5blTaKZsJo/iujmmLNAkz9lvGN5bdOLP4CMNX+KMoQ/aQKfHDt+fT+LN+nHMK11PwNOErr9CnA/w91dm0vqZz/4sgEXVvNhP4nptTvqIVs/Rp2eNoGkVD9Q1tml3pxPP7kY/YVSW0g/n/UVSsXgQj9ySQInN249P5oq66sCETc/Hybbpl0sMj+iuHpcsccsP7Fgysny5SY/Xiw0jGpNIj/0jvlGHGMdPzdcay1KsRc/a4oLnNQtEz9hcqoq/SsPP+jOOfZGbQk/WwCTF8DQBD8aZ6eachkBP0bwym3zL/w+wZ7wQ6VO9z4a9Cqn7FTzPopyws4QFfA+GneB5dTV6j4iAOaPjXPmPrbZLTOQ1eI+Pr9Bz5Wu3z5kDSBPyrbaPr+xNR18lNY+JuEBeH4h0z5qdobB4T7QPt79sr8Ap8s+3f5QpLOVxz75PShkVSjEPmfBpa5oQ8E+NKbGbaegvT4GFMQr6ni5PiZVFlbO8LU+0xpQq9Dusj66+L/zwF2wPtZja4n3V6w+PALuRZOVqD6YZE0/uFulPjdcXyXGlaI+C0DikWoyoD5Ol+W3I0acPl5tpd7itpg+KMdiw02ilT4CMLnez/aSPqfuII6ApZA+wcDOkWpDjT4dLgbJTMGJPj22LzpGsoY+NhxEZ6QGhD4vyQPj+bCBPlwvhRyLS38+gK0yOFC2ez73CprnSpF4PiRItOjfzXU+kPoV7Xdfcz5AfWVmNDtxPtzDubpfr24+ym+T7o9Zaz5R9po832ZoPi8XlgUQy2U+Sq8Sxn57Yz6MZXdm6W5hPgL0JZZ9Ol8+CKPtwur+Wz6SdBU4zx5ZPrmakO9qj1Y+ReXYl1RHVD62KtGCTD5SPlnP6tEVbVA+m7fM7qmaTT78JbmP5bJKPjF16ekGGUg+G4toxmHERT5vz+HDT61DPgzih7wPzUE+WrHocakdQD6JRVTQqTM9PsqetN/JeTo+4/LU32gFOD4=",
          "dtype": "f8"
         },
         "yaxis": "y"
        },
        {
         "hovertemplate": "risk_band=3<br>variable=cum_p<br>default_month=%{x}<br>value=%{y}<extra></extra>",
         "legendgroup": "3",
         "line": {
          "color": "#7F7F7F",
          "dash": "solid"
         },
         "marker": {
          "symbol": "circle"
         },
         "mode": "lines",
         "name": "3",
         "showlegend": false,
         "type": "scattergl",
         "x": {
          "bdata": "AAECAwQFBgcICQoLDA0ODxAREhMUFRYXGBkaGxwdHh8gISIjJCUmJygpKissLS4vMDEyMzQ1Njc4OTo7PD0+P0BBQkNERUZHSElKS0xNTk9QUVJTVFVWV1hZWltcXV5fYGFiYw==",
          "dtype": "i1"
         },
         "xaxis": "x2",
         "y": {
          "bdata": "AAAAAAAAAACpu5B5+eiNP0hGKlv+9rQ/eC/gKTjSxT/ymG4LYSLQPxJ2m0ucUdQ/BzykFxF41z/0gS/5U8bZP01gVJNdcds/1s7izGil3D+57K04BITdPx2Zp4yYJd4/JxUaeZGb3j8Fujk8RvLePz0DIjNyMt8/+b5YykZi3z9fwoZ2LYbfP0l4wmBPod8/5hb54fO13z/RA0xRwsXfP10Cj/rv0d8/WA00XWDb3z/qzf3qu+LfP7XIqCuA6N8/f38SQwvt3z/WDj45pPDfPyJIl/eA898/qM7opMr13z9BPq3WoPffP/cUUOsb+d8/sNWZyE763z8EK4MoSPvfP9LcupIT/N8/apm7GLr83z+lblDkQv3fP9ElHqSz/d8/kzWz3hD+3z8/0mUyXv7fP0kNqYae/t8/TNhSMtT+3z8Y+G0ZAf/fP3RejsQm/98/ti0kc0b/3z/WfO4pYf/fPwyaar53/98/DhLp34r/3z+U08oem//fP20zS/Ko/98/lQUlvbT/3z+pt0/Rvv/fP/wOBHPH/98/buot287/3z9fdWg51f/fP+UKnLXa/98/uTVQcd//3z+pcsCI4//fP9ZjvxPn/98/lMxxJur/3z9+1OjR7P/fPyqZoSTv/98/ZuvuKvH/3z/kJlHv8v/fP85Uv3r0/98/BDHk1PX/3z/wLlEE9//fP9I3qQ74/98/YIzE+Pj/3z+o8s7G+f/fP3kkYXz6/98/s0eWHPv/3z/LFh6q+//fPz1DTCf8/98/HoQllvz/3z+8r2r4/P/fP18vok/9/98/Ew8gnf3/3z+t4Azi/f/fPyKgax/+/98//78eVv7/3z94fuyG/v/fP4OegrL+/98/D5x52f7/3z/cblf8/v/fP3LskRv//98/NdeQN///3z9tpq9Q///fP10RP2f//98/9WWGe///3z94ssSN///fP0rIMZ7//98/QR3/rP//3z8JkFi6///fP34TZcb//98/YURH0f//3z9D7B3b///fPyF0BOT//98/2kgT7P//3z9OM2Dz///fP8al/vn//98//v//////3z8=",
          "dtype": "f8"
         },
         "yaxis": "y2"
        },
        {
         "hovertemplate": "risk_band=3<br>variable=pd_lifetime<br>default_month=%{x}<br>value=%{y}<extra></extra>",
         "legendgroup": "3",
         "line": {
          "color": "#7F7F7F",
          "dash": "solid"
         },
         "marker": {
          "symbol": "circle"
         },
         "mode": "lines",
         "name": "3",
         "showlegend": false,
         "type": "scattergl",
         "x": {
          "bdata": "AAECAwQFBgcICQoLDA0ODxAREhMUFRYXGBkaGxwdHh8gISIjJCUmJygpKissLS4vMDEyMzQ1Njc4OTo7PD0+P0BBQkNERUZHSElKS0xNTk9QUVJTVFVWV1hZWltcXV5fYGFiYw==",
          "dtype": "i1"
         },
         "xaxis": "x3",
         "y": {
          "bdata": "/Knx0k1i1T8wN2WjZ8LUPw8dHT6u4dE/yXW47J0vzD/YM1I6WzTFP+H4a6FPOb8/lrbcTafNtj/Wd3Sc4qOwP8nB9e/TXKg/28d6hQbuoT/cbWiJ74+aP05WNyRU0JM/Pf5xu+/FjT+XiFYr0IeGP5CyqZOQK4E/v6Pcf4RZej9CDI/QGVp0P/xsn9hlo28/nI7icra9aD9U2r6YsnVjP6uUAqkEyF4/SsHzyUR5WD8v84V2lY5TP+VaDfQnaE8/zxKfMK9VST/Yexm00YZEPxQ+C+WBs0A/E1p3B4BJOz+o+B6kq2A2P2lcLlRjazI/+mI/ZUduLj8zbpU6HzkpP252N3aq+SQ/3vVld25/IT+XPJaRP0gdPweM5se7khg/3J+ASO6tFD+MZPGuJnMRP1JL9Amwhg0/lsdxFP8KCT9Mv/C7y0oFP5pVoR1LJQI/bctSuZz//j7H73ZXG4n6Pq7PHJFnw/Y+AHTrijeR8z6kqLl7bNrwPkyzZCs2Fu0+TJP5vYkl6T6eu66YcMflPt+f4VAf5eI+CBQME5Fr4D4AKOmqu5XcPsmuyhtg69g+WFEPhafB1T7laPghtAXTPhDoH4map9A+a3yGcckzzT6/P7MBVqLJPgDgIod9h8Y+eQmXmMfSwz5QTXA4K3bBPtW46Ctay74+6HsH/xsuuz78qZtlDQO4PlxP33gdO7U+tMi6BlnJsj4v3XvmmaKwPuNlBP2Feq0+9D01wQ0iqj64XgeBbi2nPiOb7ag3kKQ+4fru3J4/oj6281KhRDKgPnuUQKUDwJw+rscxGXmDmT6yHT+yhqKWPpqZRGFbEpQ+Ujgh+YHJkT7o+1G5ZX+PPgrXFGBY24s+jZcjLh+aiD7+1CxfibCFPg4teC+/FIM+QmDc1BW+gD59P/PN0kl9Pq5HP733hHk+ObQ267Ahdj5eupmTdRVzPgrXv33yVnA+mpmFsMi7az4QWIXT7UVnPtV4EeFQP2M+UI1vf8I4Xz7hepwDq6VYPpqZcTQKs1I+6PuJLRuhSj5aZNvWTN9APgrX49RXDTA+/Knx0k1ilTw=",
          "dtype": "f8"
         },
         "yaxis": "y3"
        },
        {
         "hovertemplate": "risk_band=3<br>variable=p_12m_forward<br>default_month=%{x}<br>value=%{y}<extra></extra>",
         "legendgroup": "3",
         "line": {
          "color": "#7F7F7F",
          "dash": "solid"
         },
         "marker": {
          "symbol": "circle"
         },
         "mode": "lines",
         "name": "3",
         "showlegend": false,
         "type": "scattergl",
         "x": {
          "bdata": "AAECAwQFBgcICQoLDA0ODxAREhMUFRYXGBkaGxwdHh8gISIjJCUmJygpKissLS4vMDEyMzQ1Njc4OTo7PD0+P0BBQkNERUZHSElKS0xNTk9QUVJTVFVWV1hZWltcXV5fYGFiYw==",
          "dtype": "i1"
         },
         "xaxis": "x4",
         "y": {
          "bdata": "ChoWVR501D/rggoiKQ7UP3vPf7lRWNE/qZC5yNFcyz92u81ripHEP3b9pnI0PL4/H6JFmrkHtj8Cga4HNQiwPyGtrcqTZqc/zykrXzwqoT+mDgAyBleZP3LrluQS1ZI/Aw1oyJQwjD/K8BQQYz+FP6D+WHVYIIA/AC5lf+ykeD+aHE0WD/RyP0ihGW75VW0/EZiO/NHWZj/jghWlIOJhP9WkO1rPKFw/qQEH+1ZJVj9njmx9EbpRP4uHEHvQVUw/P/6OZ/G/Rj9YTjvebFhCPxfw18gttj0/fx/pJCAoOD9L36AsUrczPxgwevC5JjA/1AYVzlOOKj8RkKbP++clPy7YE4Q9ISI/wQQRDI8aHj8Ey6dypBEZPyH2eQL17xQ/Jm7BED2JET8pIrc3cXQNPzPtuzVozQg/scauzxrwBD/OnpNGFLgBP30DUDS+D/4+AwcP2DKP+T7v4vhOrsf1Pj4C1e6AmfI+EZd1uXzV7z4TjAZ3Q0zrPsfUm8lWdOc+45fT19cw5D7JgpLK5WnhPnkVyRZoF94+fqRWJpsL2j66TIJR+JTWPnI7k72YnNM+D0phQ1EP0T5+fbRQG7rNPvNnAJOT8Mk+VV87AUarxj5yMnRh+tbDPq166pxvY8E+g0m7wr+Fvj4e/DsgNNO6PqgJnEJZm7c+HvS+uD3NtD6Y1A+5a1qyPvAnk6CGNrA+EUztEPGtrD4tqqteWmWpPiPrBeWvg6Y+ESuz9YX7oz6T/kEpTMGhPv6BK7oPlp8+Tp19zzIgnD7UejOPFBKZPvVz+LXFXpY+7n1m3gz7kz57i11NKd2RPtCUp4M9+Y8+8KQkxhGkjD7syWxE6q2JPhP7xyeEC4c+zWYu3gazhD60M7L+05uCPjNp5ehdvoA+qX7/Qwgofj4EwA8z6S17PoVt+D8ihHg+Zkrt6rAhdj6AI1iTdRVzPm7KgX3yVnA+CU3nr8i7az6v4fLS7UVnPonGguBQP2M+fzovfsI4Xz5fPmYCq6VYPjT2DTMKs1I+VEjSKhuhSj6DiAfUTN9APrp+bs9XDTA+AAAAAAAA+H8=",
          "dtype": "f8"
         },
         "yaxis": "y4"
        },
        {
         "hovertemplate": "risk_band=2<br>variable=p<br>default_month=%{x}<br>value=%{y}<extra></extra>",
         "legendgroup": "2",
         "line": {
          "color": "#BCBD22",
          "dash": "solid"
         },
         "marker": {
          "symbol": "circle"
         },
         "mode": "lines",
         "name": "2",
         "showlegend": true,
         "type": "scattergl",
         "x": {
          "bdata": "AAECAwQFBgcICQoLDA0ODxAREhMUFRYXGBkaGxwdHh8gISIjJCUmJygpKissLS4vMDEyMzQ1Njc4OTo7PD0+P0BBQkNERUZHSElKS0xNTk9QUVJTVFVWV1hZWltcXV5fYGFiYw==",
          "dtype": "i1"
         },
         "xaxis": "x",
         "y": {
          "bdata": "AAAAAAAAAADYetL1J2+9P1O+fFGh5Mk/LNSD/Otowz/ROLXdlPy3PwjAWSQrMKw/L/TTIkJ5oD8s/V8zlneTP14BfLBPZoc/krD5FQ2qfD/AnjEm8uRxP1Bj4i6fwWY/4LvP0HRyXT/04oiMmF1TPxO9oa6N3Ek/7I31RrqDQT9+a1gZzQk4P8I4HUc2szA/kfKsEMR4Jz8I1mmDKawgP21JzBG+7Bc/qZ9UbQpUET8eVKItBFMJP/ay9+PoqAI/vCWs2hq3+z4zzln+ZLz0PkC1/MMxP+8+MGBs+TGz5z73C/IB9RbiPuKI4U/xx9s+AN62tUx01T4+bVn2oajQPojC9JkzAco+RKmkG9ZlxD59sQAcZhPAPnkij05HdLk+/7cC51w9tD6GJAUsHimwPtuR/egi6ak+y2ET3AHapD6YNphoqdegPvSRsoMhTps+AozfbrQ1lj4J1opgACCSPgqUy3NrrY0+nJBkDxRfiD4oKOzw2BKEPqjIZirRlIA+doalqyt4ez6RqXtCnNB2PvVS2t+b/3I+JpTBSo24bz6RRcm34ItqPkm+LEvQRGY+/bVgBT25Yj7wgdWyW45fPmdICBtPplo+fuok8r2NVj5ZIWcCYyBTPoUQJMGoQFA+pdZ+SLusSz4YrdijV5tHPuoM/72LLEQ+ovP483pFQT6Wv+xB7Z89PrirT3hFczk+apTFJInmNT5eDEFRZuAyPoiM8jHFSzA+ZVEjdxQuLD6wBc1R9mYoPiMLWG+AKSU+5U63e/hgIj4a3qgl3fcfPmemOVRh1xs+lDm+I61HGD7Q0/cdxDMVPiAzNdLeiRI+9f1C8+Y6ED74dYBUE3QMPurx8Gq4+Ag+OnhsRB/xBT51bFoKYk0DPvOnPhvo/wA+ex0SxRj6/T2UH7L6o3X6PSXFQZNJYfc9Odqhzkeu9D1qRWQU6U/yPcS56oQ3O/A9Sd+fcnjN7D1SLjSokJTpPTkV06iMveY9N/BpviQ85D1DP1bRsAXiPTDQEqruEOA93pkTN6Gr3D1tpoicpprZPbxzhTGz4tY9U1Z8+Rp51D0=",
          "dtype": "f8"
         },
         "yaxis": "y"
        },
        {
         "hovertemplate": "risk_band=2<br>variable=cum_p<br>default_month=%{x}<br>value=%{y}<extra></extra>",
         "legendgroup": "2",
         "line": {
          "color": "#BCBD22",
          "dash": "solid"
         },
         "marker": {
          "symbol": "circle"
         },
         "mode": "lines",
         "name": "2",
         "showlegend": false,
         "type": "scattergl",
         "x": {
          "bdata": "AAECAwQFBgcICQoLDA0ODxAREhMUFRYXGBkaGxwdHh8gISIjJCUmJygpKissLS4vMDEyMzQ1Njc4OTo7PD0+P0BBQkNERUZHSElKS0xNTk9QUVJTVFVWV1hZWltcXV5fYGFiYw==",
          "dtype": "i1"
         },
         "xaxis": "x2",
         "y": {
          "bdata": "AAAAAAAAAADYetL1J2+9P+D9MqYaTtQ/9ud0pJAC3j8VG/Ht2gDiPxa3NqDdw+M/WfZjwnHL5D9C9v5zLmflP0fmwLLHxOU/qNnszBv+5T/mPDmx5SHmP0kfaFCnOOY/J4fQimBH5j+YyxZXD1HmPwd0gnqGV+Y/ajEUaedb5j93XLei6F7mPx5AgAn/YOY/7UrBlXZi5j+KgVlYgWPmP+wPSr5AZOY/kXqdXstk5j8aMa6qMGXmP/nAUU57ZeY/UXaHvLJl5j8Fc1E13GXmPwI3g3T7ZeY/bjC1JxNm5j9gMqo+JWbmP1HaoiIzZuY/LDXJ3D1m5j9ZMBoxRmbmP9YWZ7FMZuY/v53cylFm5j+/JLbPVWbmP5EOP/5YZuY/cavqhVtm5j/ycA6LXWbmP4KfoClfZuY/Q71Ad2Bm5j/NU7uEYWbmP+tfLF9iZuY/YgPaEGNm5j9mBtqhY2bmPzW0jxhkZuY/cwQMemRm5j83aFfKZGbmP+GsqgxlZuY/OASbQ2Vm5j+9PDxxZWbmP310O5dlZuY/yAH0tmVm5j+A4n/RZWbmP8uyxOdlZuY/0O99+mVm5j+pHUUKZmbmPzdFmBdmZuY/MCTfImZm5j+xVW8sZmbmPxKqjzRmZuY/5Nh6O2Zm5j/NrmFBZmbmP7zRbEZmZuY/eTC+SmZm5j8hLnJOZmbmP9CWoFFmZuY/9WddVGZm5j+/dLlWZmbmP2XtwlhmZuY/rM6FWmZm5j8RPgxcZmbmPxjWXl1mZuY/oOWEXmZm5j+JpIRfZmbmP5RfY2BmZuY//ZwlYWZm5j8eO89hZmbmPxWKY2JmZuY/TWHlYmZm5j+aMVdjZmbmP3wUu2NmZuY/+dgSZGZm5j+BDmBkZmbmPyEOpGRmZuY/UwLgZGZm5j+b7RRlZmbmPy6wQ2VmZuY/vgxtZWZm5j+QrJFlZmbmP/8ismVmZuY/d/DOZWZm5j8IhehlZmbmP5VC/2VmZuY/un4TZmZm5j9rhCVmZmbmP1qVNWZmZuY/K+tDZmZm5j9+uFBmZmbmP9gpXGZmZuY/ZWZmZmZm5j8=",
          "dtype": "f8"
         },
         "yaxis": "y2"
        },
        {
         "hovertemplate": "risk_band=2<br>variable=pd_lifetime<br>default_month=%{x}<br>value=%{y}<extra></extra>",
         "legendgroup": "2",
         "line": {
          "color": "#BCBD22",
          "dash": "solid"
         },
         "marker": {
          "symbol": "circle"
         },
         "mode": "lines",
         "name": "2",
         "showlegend": false,
         "type": "scattergl",
         "x": {
          "bdata": "AAECAwQFBgcICQoLDA0ODxAREhMUFRYXGBkaGxwdHh8gISIjJCUmJygpKissLS4vMDEyMzQ1Njc4OTo7PD0+P0BBQkNERUZHSElKS0xNTk9QUVJTVFVWV1hZWltcXV5fYGFiYw==",
          "dtype": "i1"
         },
         "xaxis": "x3",
         "y": {
          "bdata": "x7q4jQbw3T+pA2z/LgXZPyBBQH1kXtA/trGplU3Ewz8PjwicKYG3Px8aXtYeLKw/NQqZBPApoT/6hmjjl1GVP+hOgz4pAIs/zMQxtFVsgT/6vOHUc+N2PyDLlePukW4/m5dufSW7ZD+qbJUiYYVcPx0lvXlJ4VM/D+ACslIOTD9WXp0oLwZEP7j4BD914zw/qeipcscLNT/2TsjbW/MuPxk1NuPt9CY/xkoltbwqIT+ea5IhVt8ZPzEpb2FAoxM/sERZ3tkDDj/6SDwJLxYHP0AdeH3R3QE/VEPdXm/Q+z4AeNDTHcX1PqqV5EP6IPE+ZEsQMNcW6z5/cm6R64XlPp5vFl/ALeE+qPZ/v8GK2z4t4qH9sivWPvJiQMoS69E+ToLphewSzT5SOIcCnKzHPoVroAh2WMM+XE8uR1y5vz7Hi3b6uRi6PitHMA/wiLU+Vg7y1RHTsT6wcmiBzJetPtcj6w6Ooqg+OTSoJz2QpD4vXZrtujWhPnsURy8p4Zw+7nwlUFlKmD59P4IWmnqUPoPAV0MTTpE+f2rowoJPjT6DwMaoLOCIPocW50LIJ4U+x0sTCwMHgj4ZBBrdbsh+PvLS+VmuVHo+6iZp9BqQdj7l0EZJGl5zPgAAkDYDp3A+dZNooG6ubD4v3Qz20LxoPi2yLaoDXmU+7FHAy1l7Yj7TTSob2wFgPqjGKxZBw1s+bxLTw5waWD7hekSyTPNUPjEI/GxaOlI+TDfJFYG/Tz7NzOwB36tLPne+X0vPIkg+yXZ+G8kQRT4zM1NdLWVCPjMzc3bREUA+7FH44ToVPD5I4XoudIo4PqwcmsmYcTU+O9+P7He7Mj4GgZVCBVswPubQIqQOiiw+AACAkKXfKD7jpRuBIKYlPt0khi0WzyI+AisHRg9OID5SuB58fzAcPoPAyrmUSBg+yXa+5xrUFD6/nxpd7sQRPkjhehqAHQ4+TDeJl6tNCT628/2ApgcFPkw3iWsWOwE+9ihc/1uz+z3hehRKz631PTm0yGaTT/A9bxKD+MsK5z3Jdr4fc/ncPTeJQSC+XMs9/Knx0k1ilTw=",
          "dtype": "f8"
         },
         "yaxis": "y3"
        },
        {
         "hovertemplate": "risk_band=2<br>variable=p_12m_forward<br>default_month=%{x}<br>value=%{y}<extra></extra>",
         "legendgroup": "2",
         "line": {
          "color": "#BCBD22",
          "dash": "solid"
         },
         "marker": {
          "symbol": "circle"
         },
         "mode": "lines",
         "name": "2",
         "showlegend": false,
         "type": "scattergl",
         "x": {
          "bdata": "AAECAwQFBgcICQoLDA0ODxAREhMUFRYXGBkaGxwdHh8gISIjJCUmJygpKissLS4vMDEyMzQ1Njc4OTo7PD0+P0BBQkNERUZHSElKS0xNTk9QUVJTVFVWV1hZWltcXV5fYGFiYw==",
          "dtype": "i1"
         },
         "xaxis": "x4",
         "y": {
          "bdata": "l929QpDG3T8+bkmeqejYP/yDxjODStA/2q73Qj+owz9cVLc9HVm3P0gQ4OtX8qs/gLazddj/oD+U9rArsROVP3929oZVpIo/BTBdwaongT9YdFt89nt2P5dTiuDU9G0/hjT1FRZDZD82jUuqr8xbP0hm0e1aUlM/1/kLN88vSz9t3f45BlhDP0yzxppl0Ts/smspuRAzND9/a7Ei/ZotP7DQRN0R4iU/hE8pp2ZOID9fU7jxmnwYP/AqyzSPhBI/Vr76FasyDD+c6BNJZZsFP60v7hxKqAA/moJqmtnU+T7gBSk0kiP0Pqjv4oXWkO8+OopR9XTc6D7s1lfJbqzjPtZOT/wuR98+/viJGrr42D4B+uyf+wTUPlfzSTcAHdA+G7bgW6EJyj4DsbO/SB3FPpzSMaCzLsE+XpHH7msPvD6AeFVltPy2PrVWzgb347I+OV8Z6WIkrz42HsClvr6pPgi6n0P4V6U+njoUyTm+oT6iTOBI75OdPk+Yn2Fot5g+hk8RfIu0lD4ncLn3/2KRPumbN5ylRI0+uP8VUKywiD6cRS3itd+EPpfmTCBgr4E+YpBF5V4Hfj4sYIawm4t5PouA9r4XxnU+qq0L0iqYcj7SlbrSPNFvPjmwMptSRWs+JJcwWjxqZz44hYSfhSNkPuMGyUyPWWE+nDKd32TxXT4He+gqGeFZPoIQV+PaZlY+SslCyL5rUz74wGphi9xQPs3r/i4xUk0+kcy2rpeHST7vJdXeVkJGPgrUbL4Jb0M+AHnnR0X9QD6qjknWOr49PnAH5Lt9ETo+9RjJIjTgNj71iyWTOBk0PrCCvsTorTE+QRsw+YQjLz4apsbjIHQrPjg0/AdJOyg+ObvVCzppJT6RoWyPZvAiPl2rHLAjxSA+6DBR7cS6HT6JkOIx6GAaPtwzsaSubRc+J4XvwBrUFD6OkeMy7sQRPowyaMR/HQ4+1kVQLqtNCT4V4G8mpgcFPpR1ix8WOwE+PKBKfVuz+z0TUprXzq31PclaBBGTT/A9YI8ckMsK5z1H5FbmcfncPTbXZ8G8XMs9AAAAAAAA+H8=",
          "dtype": "f8"
         },
         "yaxis": "y4"
        },
        {
         "hovertemplate": "risk_band=1<br>variable=p<br>default_month=%{x}<br>value=%{y}<extra></extra>",
         "legendgroup": "1",
         "line": {
          "color": "#17BECF",
          "dash": "solid"
         },
         "marker": {
          "symbol": "circle"
         },
         "mode": "lines",
         "name": "1",
         "showlegend": true,
         "type": "scattergl",
         "x": {
          "bdata": "AAECAwQFBgcICQoLDA0ODxAREhMUFRYXGBkaGxwdHh8gISIjJCUmJygpKissLS4vMDEyMzQ1Njc4OTo7PD0+P0BBQkNERUZHSElKS0xNTk9QUVJTVFVWV1hZWltcXV5fYGFiYw==",
          "dtype": "i1"
         },
         "xaxis": "x",
         "y": {
          "bdata": "AAAAAAAAAAASMLIpY3vaP82O9bylytE/jhdMvHVgvj/40wZFtSypP8DfjpY+s5U/XxADKJuwgz9Q6JRaichyP20+bCJ9wWI/+Sa95ieCUz9hIpO2mApFP4t8pezVcDc/d8EoskHhKj+35aWLhaIfP/MtrYyhDhM/wPHj2Tp0Bz80noW/H279PpY8VcB7y/I+JxLKBWVm6D6h+8DV+BPgPlPxJsk3fNU+n0a8QmYVzT7m3dGLG+zDPkuXKXPimbs+0UG5iEJSsz5wqUXsZFGrPlNSFlXOfaM+gIQKqMAOnD7+IvPHZFyUPtY2zFQXyI0+n4LwNALxhT7CnEcvS0eAPiuODzKiUHg+HJnPXUJGcj7bd7Q3gaJrPuFViHDVA2U+ASep2ZYRYD7tw7y3zLNYPhdcD6w1FVM+IFAxfB+gTT6GByB1PxpHPkYcMUeBGEI+9QJfKgV4PD7WuqZvY3w2Pv1zN0qV1DE+bV9QspRiLD4nSQACNq0mPr4zeaEiLiI+7KeRohNAHT6r9aNvr5sXPqZAFlZ2HRM+Gpo6P74MDz4I72TLFksJPkTS0jvmqQQ+oHgkRcLtAD6z+XagLdD7PS4Xq7h+6PY99nkO557q8j21A7D0fFHvPXO7ta7w/Ok9EerpQ5ed5T3OZfRkEwXiPbwiRbd0HN49ezArtlY22T3b7PpPoSfVPbkRcnVlydE9eumkUiz4zT0VoQv3IkzJPfRfb1vuZMU9U7skhHggwj3gHv/VucW+PTjIAyF2Kro9SV1PvolJtj10WU8H+QOzPcyMxgkwQLA9vPyT2gvSqz3sCqX44NmnPT2jdYW8eqQ9pwhlWF+coT2RKmRnJFWePaPkIHvkKJo9Zl4yKbyXlj0T+5Go+omTPU2PvCm765A9GpaSpINYjT0oieGH6nqJPX0gEvTeJoY9lsKQikNIgz3VilfxEM6APU31PvetU309r/R3K6aeeT2MBQ17MGh2PUxtu/qKnnM90byh15AycT28MOKPpi5uPfexIx2Gg2o9gUKelc9QZz2e0vORRYZkPZN01dz2FWI99D0xus7nXz0=",
          "dtype": "f8"
         },
         "yaxis": "y"
        },
        {
         "hovertemplate": "risk_band=1<br>variable=cum_p<br>default_month=%{x}<br>value=%{y}<extra></extra>",
         "legendgroup": "1",
         "line": {
          "color": "#17BECF",
          "dash": "solid"
         },
         "marker": {
          "symbol": "circle"
         },
         "mode": "lines",
         "name": "1",
         "showlegend": false,
         "type": "scattergl",
         "x": {
          "bdata": "AAECAwQFBgcICQoLDA0ODxAREhMUFRYXGBkaGxwdHh8gISIjJCUmJygpKissLS4vMDEyMzQ1Njc4OTo7PD0+P0BBQkNERUZHSElKS0xNTk9QUVJTVFVWV1hZWltcXV5fYGFiYw==",
          "dtype": "i1"
         },
         "xaxis": "x2",
         "y": {
          "bdata": "AAAAAAAAAAASMLIpY3vaP3DfU3MEI+Y/YmLdKhPv6T+izy1/3oHrP6BG4nN4L+w/4VKC4Dp+7D+yfDfzy6PsP/DoWXCNtuw/g0dNhE7A7D9M7HoqkcXsP/yAOEV/yOw/iKNTWS3K7D+3AIBtKsvsPyBmjOLCy+w/sM13syDM7D+7TLePW8zsP2XNriaBzOw/L9MTjZnM7D/wqAyhqczsP4ONKF+0zOw/Mh6CpLvM7D8mAYmfwMzsP4tPxRLEzOw/oqANfcbM7D9m7yMyyMzsP7fUAGrJzOw/99l2SsrM7D83AFrtyszsP4pdemTLzOw/XmY+vMvM7D8bk1v9y8zsP3/X/C3MzOw/O1yJUszM7D9z3StuzMzsP+SyL4PMzOw/vklBk8zM7D8aMJufzMzsP/DKJanMzOw/z9KNsMzM7D+sYlS2zMzsP/6C2rrMzOw/o4NpvszM7D8REDnBzMzsP7qic8PMzOw/Bcw5xczM7D9ln6TGzMzsP4+Bx8fMzOw/LIKxyMzM7D+nX27JzMzsP1pLB8rMzOw/U36DyszM7D+uqujKzMzsP0dSO8vMzOw/UAl/y8zM7D+rqbbLzMzsP6h65MvMzOw/5k8KzMzM7D9joSnMzMzsP1SeQ8zMzOw/6ztZzMzM7D/+QGvMzMzsPzhPeszMzOw/Y+qGzMzM7D80fpHMzMzsP+dimszMzOw/8uChzMzM7D/7M6jMzMzsPzeNrczMzOw/VRWyzMzM7D8M7rXMzMzsP1szuczMzOw/jPy7zMzM7D8LXb7MzMzsPxFlwMzMzOw/MiLCzMzM7D/Qn8PMzMzsP3znxMzMzOw/QgHGzMzM7D/r88bMzMzsPzLFx8zMzOw/8HnIzMzM7D9AFsnMzMzsP56dyczMzOw/ABPKzMzM7D/seMrMzMzsP4fRyszMzOw/qB7LzMzM7D/gYcvMzMzsP4ecy8zMzOw/xM/LzMzM7D+U/MvMzMzsP9EjzMzMzOw/NkbMzMzM7D9lZMzMzMzsP+l+zMzMzOw/OpbMzMzM7D/AqszMzMzsP9a8zMzMzOw/yszMzMzM7D8=",
          "dtype": "f8"
         },
         "yaxis": "y2"
        },
        {
         "hovertemplate": "risk_band=1<br>variable=pd_lifetime<br>default_month=%{x}<br>value=%{y}<extra></extra>",
         "legendgroup": "1",
         "line": {
          "color": "#17BECF",
          "dash": "solid"
         },
         "marker": {
          "symbol": "circle"
         },
         "mode": "lines",
         "name": "1",
         "showlegend": false,
         "type": "scattergl",
         "x": {
          "bdata": "AAECAwQFBgcICQoLDA0ODxAREhMUFRYXGBkaGxwdHh8gISIjJCUmJygpKissLS4vMDEyMzQ1Njc4OTo7PD0+P0BBQkNERUZHSElKS0xNTk9QUVJTVFVWV1hZWltcXV5fYGFiYw==",
          "dtype": "i1"
         },
         "xaxis": "x3",
         "y": {
          "bdata": "yuU/pN8+4z9Q1frta8vUPxPp/5KOz8E/MwAHM/2krj8a3B4yoKSbP/t6ktKqSIo/ktPJhJBAej8Yo6wchWZrPxhUR6PZu10/9RLfZ4GyUD+Yigr4alVDP7l6m/vGADc/lEfjoScLLD/ancV7PHkhP2sipstTNhY/IdzJ+VPADD9CHtYk/eoCP/Zc8DK0Rvk+0Y67lqAf8T5tlxadwYDnPlxHZvn+UuA+L521Qkzu1j4VLux0OUbQPotMMWmPU8c+6qbMH+TewD5g5ZJHHZ24PgDAHDzlGbI+phvei9rTqj5WjqY9QwakPpZD3zggGZ4+wcrRxVfElj6BlcIj8lORPm8SmQUWiIo+d75dcPZshD45tOQJKJ5/PqrxGpSemHg+fT91myo6cz4zM1OvZDNuPpqZSWQf02c+hxaxnhngYj4X2W4iGghePuxRuC9E/Fc+nu8XJLY6Uz4VrmfXEfJOPsP1qKjt/Eg+pHDdh/Q+RD7P9/NEH3VAPn0/9Wwu1zo+jZfuXDT0NT6amVkKiAIyPpLtfOEIoi0+tvN9CBlyKD7sUbhuWjgkPlYOrQOcxCA+BFYOozPhGz556SbgrzsXPsUgsDDzZxM+Ctej+O0+ED78qfEAcEILPtejcAH76gY+sHJob4ZOAz4IrBx62ksAPjEIrNTpj/s9UI2XyqJZ9z3RItsB49DzPajGS0Mv2PA9EVg5FKOu7D0MAit/t3ToPdejcNW54eQ9w/UoRHra4T2DwMpB4pDePe58PyXSMdo9w/Uo/KN41j0pXI+yYkvTPfp+asxflNA9QDVeOuuCzD3b+X4q24bIPYts5zv9GsU9O99PDc8pwj1pke08W0K/PTVeukmP47o9fT813k8dtz228/1UqtmzPV66SQz+BbE9I9v5fu0krT228/3ULeOoPVYOLTLPL6U9sp3vpyX3oT0K16Nw41CePeF6FK6qapk9bxKDwPwilT3dJAaBt2SRPcUgsHJKO4w97nw/NU58hj1aZDvfaXGBPTeJQWDJBno9Rrbz/WQ8cj1WDi2yzcFmPScxCKycV1U9/Knx0k1itTw=",
          "dtype": "f8"
         },
         "yaxis": "y3"
        },
        {
         "hovertemplate": "risk_band=1<br>variable=p_12m_forward<br>default_month=%{x}<br>value=%{y}<extra></extra>",
         "legendgroup": "1",
         "line": {
          "color": "#17BECF",
          "dash": "solid"
         },
         "marker": {
          "symbol": "circle"
         },
         "mode": "lines",
         "name": "1",
         "showlegend": false,
         "type": "scattergl",
         "x": {
          "bdata": "AAECAwQFBgcICQoLDA0ODxAREhMUFRYXGBkaGxwdHh8gISIjJCUmJygpKissLS4vMDEyMzQ1Njc4OTo7PD0+P0BBQkNERUZHSElKS0xNTk9QUVJTVFVWV1hZWltcXV5fYGFiYw==",
          "dtype": "i1"
         },
         "xaxis": "x4",
         "y": {
          "bdata": "lcfF8R494z+bXGvGPMnUP090hsjHzME/vY0IHs2drj8dcYyzKpubPwgDeXgHPIo/Vxgz5HAvej9kjQ9bBE9rP16JVKUzm10/nV6cG5ObUD8atyCF3jRDPzwlydwf0jY/5C9kEazHKz/clDZBAkghPyLotTbs7RU/t+yajwRVDD/E8d8X5JoCPzajDbJPzvg+MfCkN4/E8D4b6/kLIvbmPiofokK90d8+Rm80j+RK1j5crYqpgY/PPuAjkHTKjsY+JFjvyhJFwD4yahIigqu3PvSd8kBMW7E+7V/g8dilqT5qu4dsAhajPmifxPVbmZw+MbB8Y6yQlT67QvCUYVyQPnj/5ipH+Ig+Vr/OJwcpgz5x1EchhI99PgoZfa0r63Y+4LP7VefacT7dzxyvE/NrPgN6DNf++GU+5Jn5DvhYYT4VQRXWDoFbPgnv7rCw41U+VV5J66J8UT5g2/LemwpMPmJVlEbvj0Y+3wniyxY3Qj7GPRSP8IE9Pl4S4Q/P+Tc+C6MYk2OKMz510Vd9GfIvPpXlNrULMCo+IVVpweSGJT658CYbPr4hPhUCd0ssUx0+QfV4VV9LGD4xbT76GC0UPu4Bv+27yxA+3syRXT0HDD6tF8HBU3AHPtVvZcnApAM+9395+nF/AD4B5gVG3MT7PaE6zMHRavc9fT7tDkXJ8z2hAMZqB8DwPZ3nLN2eaew9mQWm4S4k6D2dkRzsa4zkPQTf/x5IheE9RoEeoaDt3T30yUM1d5rZPfBOM0dS8NU9B7o5ugXU0j1HHxzH+y7QPa29UrLK3Ms9MjWbjSEFyD0/OUAFv7zEPWzsfLmp7cE9W+1LYeQKvz1Dq3sdNOm6PR/y83EsXLc98mZh5s1NtD04Nzrug6uxPXbBWR0ty649cuOUbmjdqj1KqT4HH3enPdBMrcwahaQ9dg9XxAH3oT3A2DsAllCeParpzo9Vapk9LVbLQaEilT3PleLoU2SRPfM5Rpd/Oow9jNk1uX17hj2k3EZUqHCBPWpbAARvBXo94l/4zho7cj3TMrbWCr9mPWsnZisjUlU9AAAAAAAA+H8=",
          "dtype": "f8"
         },
         "yaxis": "y4"
        }
       ],
       "layout": {
        "annotations": [
         {
          "font": {},
          "showarrow": false,
          "text": "variable=p",
          "x": 0.1175,
          "xanchor": "center",
          "xref": "paper",
          "y": 1,
          "yanchor": "bottom",
          "yref": "paper"
         },
         {
          "font": {},
          "showarrow": false,
          "text": "variable=cum_p",
          "x": 0.3725,
          "xanchor": "center",
          "xref": "paper",
          "y": 1,
          "yanchor": "bottom",
          "yref": "paper"
         },
         {
          "font": {},
          "showarrow": false,
          "text": "variable=pd_lifetime",
          "x": 0.6275,
          "xanchor": "center",
          "xref": "paper",
          "y": 1,
          "yanchor": "bottom",
          "yref": "paper"
         },
         {
          "font": {},
          "showarrow": false,
          "text": "variable=p_12m_forward",
          "x": 0.8824999999999998,
          "xanchor": "center",
          "xref": "paper",
          "y": 1,
          "yanchor": "bottom",
          "yref": "paper"
         }
        ],
        "legend": {
         "title": {
          "text": "risk_band"
         },
         "tracegroupgap": 0
        },
        "margin": {
         "t": 60
        },
        "template": {
         "data": {
          "scatter": [
           {
            "type": "scatter"
           }
          ]
         }
        },
        "width": 1000,
        "xaxis": {
         "anchor": "y",
         "domain": [
          0,
          0.235
         ],
         "title": {
          "text": "default_month"
         }
        },
        "xaxis2": {
         "anchor": "y2",
         "domain": [
          0.255,
          0.49
         ],
         "matches": "x",
         "title": {
          "text": "default_month"
         }
        },
        "xaxis3": {
         "anchor": "y3",
         "domain": [
          0.51,
          0.745
         ],
         "matches": "x",
         "title": {
          "text": "default_month"
         }
        },
        "xaxis4": {
         "anchor": "y4",
         "domain": [
          0.7649999999999999,
          0.9999999999999999
         ],
         "matches": "x",
         "title": {
          "text": "default_month"
         }
        },
        "yaxis": {
         "anchor": "x",
         "domain": [
          0,
          1
         ],
         "showticklabels": true,
         "title": {
          "text": "value"
         }
        },
        "yaxis2": {
         "anchor": "x2",
         "domain": [
          0,
          1
         ],
         "showticklabels": true
        },
        "yaxis3": {
         "anchor": "x3",
         "domain": [
          0,
          1
         ],
         "showticklabels": true
        },
        "yaxis4": {
         "anchor": "x4",
         "domain": [
          0,
          1
         ],
         "showticklabels": true
        }
       }
      }
     },
     "metadata": {},
     "output_type": "display_data"
    }
   ],
   "source": [
    "func_parameters =  dict(\n",
    "    a = 1.5,\n",
    "    b = 0.6,\n",
    "    d = 0\n",
    ")\n",
    "\n",
    "risk_scores = {\n",
    "    10 : 0.01,\n",
    "     9 : 0.02,\n",
    "     8 : 0.05,\n",
    "     7 : 0.10,\n",
    "     6 : 0.15,\n",
    "     5 : 0.20,\n",
    "     4 : 0.25,\n",
    "     3 : 0.50,\n",
    "     2 : 0.70,\n",
    "     1 : 0.90\n",
    "}\n",
    "\n",
    "roll_rates = {\n",
    "    30  :  0.75  , ## from 1-29    to 30-59\n",
    "    60  :  0.90  , ## from 30-59   to 60-89\n",
    "    90  :  0.99  , ## from 60-89   to 90-119\n",
    "    120 :  0.99  , ## from 90-119  to 120-139\n",
    "    150 :  0.999 , ## from 120-139 to 150-179\n",
    "    180 :  0.999 , ## from 150-179 to 180-209\n",
    "    210 :  0.999 , ## from 180-209 to 210-239\n",
    "    240 :  0.999 , ## from 210-239 to 240-269\n",
    "    270 :  0.999 , ## from 240-269 to 270-299\n",
    "    300 :  0.999 , ## from 270-299 to 300-329\n",
    "    330 :  0.999 , ## from 300-329 to 330-359\n",
    "    360 :  0.9999, ## from 330-359 to 360-389\n",
    "    390 :  1.0000, ## from 360-389 to 390-419\n",
    "}\n",
    "\n",
    "risk_scores_dist = {\n",
    "    10 : 0.025,\n",
    "     9 : 0.05,\n",
    "     8 : 0.055,\n",
    "     7 : 0.07,\n",
    "     6 : 0.10,\n",
    "     5 : 0.10,\n",
    "     4 : 0.15,\n",
    "     3 : 0.20,\n",
    "     2 : 0.15,\n",
    "     1 : 0.10\n",
    "}\n",
    "\n",
    "lifetime_target = 99\n",
    "\n",
    "def generate_pd_curve(func, \n",
    "                      parameters: dict,\n",
    "                      n_default_months: int,\n",
    "                      cumulative_pd: float,\n",
    "                      roll_rates: dict):\n",
    "    df = pd.DataFrame(range(0, n_default_months+1), columns=[\"default_month\"])\n",
    "    # df['date'] = pd.date_range(start='2025-01-31', periods=n_default_months+1, freq='ME')\n",
    "    df['default_month'] = df['default_month']\n",
    "    df['p'] = func(df['default_month'], **parameters) \n",
    "    df['p'] = df['p'].fillna(0)\n",
    "    df['p'] = (df['p'] / df['p'].sum()) * cumulative_pd\n",
    "    df['cum_p'] = df['p'].cumsum() \n",
    "    multiplication_roll_rates = 1\n",
    "    for days_late_i, roll_rate_i in roll_rates.items():\n",
    "        if days_late_i <= 90:\n",
    "            multiplication_roll_rates = multiplication_roll_rates * roll_rate_i\n",
    "    df['pd_lifetime'] = (df['p'].sum() - df['cum_p']) * multiplication_roll_rates\n",
    "    \n",
    "    # Calculate forward-looking 12-month sum using rolling\n",
    "    df['p_12m_forward'] = (df[::-1]['p'].rolling(window=12, min_periods=1, closed='left').sum().iloc[::-1]) * multiplication_roll_rates\n",
    "    return df\n",
    "\n",
    "def generate_pd_curve_by_risk_score(func,\n",
    "                                    risk_scores: dict,\n",
    "                                    parameters: dict,\n",
    "                                    n_default_months: int,\n",
    "                                    roll_rates: dict):\n",
    "    result_dfs = list()\n",
    "    for risk_band_i, lifetime_pd_i in risk_scores.items():\n",
    "        parameters['a'] = risk_band_i / 2\n",
    "        df_temp = generate_pd_curve(func, parameters, n_default_months, lifetime_pd_i, roll_rates)\n",
    "        df_temp['risk_band'] = risk_band_i\n",
    "        result_dfs.append(df_temp)\n",
    "    result = pd.concat(result_dfs)\n",
    "    return result\n",
    "\n",
    "\n",
    "\n",
    "data = generate_pd_curve_by_risk_score(logNormFunc, risk_scores, func_parameters, lifetime_target, roll_rates)\n",
    "\n",
    "data_chart = data.melt(id_vars=['default_month', 'risk_band'])\n",
    "\n",
    "fig = px.line(\n",
    "    data_chart,\n",
    "    x='default_month',\n",
    "    y='value',\n",
    "    facet_col='variable',\n",
    "    color='risk_band',\n",
    "    template = 'none',\n",
    "    width=1000\n",
    ")\n",
    "fig.update_yaxes(matches=None, showticklabels=True)\n",
    "# Image(fig.to_image(\"png\"))\n",
    "fig"
   ]
  },
  {
   "cell_type": "code",
   "execution_count": 5,
   "id": "c1bdcb10",
   "metadata": {},
   "outputs": [
    {
     "data": {
      "application/vnd.plotly.v1+json": {
       "config": {
        "plotlyServerURL": "https://plot.ly"
       },
       "data": [
        {
         "hovertemplate": "variable=p<br>risk_band=10<br>default_month=%{x}<br>value=%{y}<extra></extra>",
         "legendgroup": "p",
         "line": {
          "color": "#1F77B4",
          "dash": "solid"
         },
         "marker": {
          "symbol": "circle"
         },
         "mode": "lines",
         "name": "p",
         "showlegend": true,
         "type": "scattergl",
         "x": {
          "bdata": "AAECAwQFBgcICQoLDA0ODxAREhMUFRYXGBkaGxwdHh8gISIjJCUmJygpKissLS4vMDEyMzQ1Njc4OTo7PD0+P0BBQkNERUZHSElKS0xNTk9QUVJTVFVWV1hZWltcXV5fYGFiYw==",
          "dtype": "i1"
         },
         "xaxis": "x9",
         "y": {
          "bdata": "AAAAAAAAAABuk9JfgEN5PCBXSB/qADg90tkg3nBwmT1NJkQYOATYPYXWdR70DAU+snzJNcxRJz5sNIQjKhlDPiVk9vXwTVk+RDbKf++ubD4Wv9M0xN18PpJFSEt9doo+xaAybr+Clj58KrGEaQOiPpB4ChkdZ6s+s5w+pvv4sz6eAaM1hBO8Ps56JMi8IMM+bmCpWyVeyT7H2NsbzW3QPmHt0f2S19Q+CFUOlHf12T769+bAhs7fPk32dPnfM+M++2xrQw/i5j4aSjl6VvLqPtBwmyVQZO8+uU6ZcV4b8j5cAnciy7P0Phh3+HgRevc+Ni/zrYVs+j7ANOE9N4n9PjOHoon9ZgA/N40oqTocAj8h5xdTEeMDPyXw1HwwugU/Lu1WxjugBz9Jdkovz5MJPzvxC3WCkws/0lX0GeydDT/lIv0XpLEPP4rq8yCj5hA/Bxd1K7r3ET+Z/bjmawsTP5/P9qwRIRQ/w7RaGwo4FT+TBR+ZuU8WPwAHV8SKZxc/Acjmxu5+GD+1AguWXZUZP2TktR5Wqho/myDkYF69Gz9HJep7A84cP8G6lK3Z2x0/LrnTRXzmHj+DaIGQje0fPxsOW1tbeCA/ZQB7zNP3ID+FkLNRC3UhP8jFj07g7yE/uqe/OTRoIj9b5TeB690iP9W7JG3tUCM/YYUFAiTBIz/5Ezziey4kP86cUS/kmCQ/MnEqa04AJT8zBVpZrmQlPyPGweD5xSU/Svee7SgkJj+vIyZUNX8mP9ejxbMa1yY/4zMkW9YrJz8EkuwsZ30nP2GQc4XNyyc/aOBCIQsXKD8YHZAEI18oP/8rpWMZpCg/Q/Q8jPPlKD94lNXPtyQpP96s925tYCk/yPlwhRyZKT/nUX/3zc4pP9Yk6F+LASo/cMT3/l4xKj++GWOqU14qP/rYBb50iCo/Bdt2Dc6vKj886mvWa9QqP8wS5rNa9io/BVgfkqcVKz/okzKjXzIrP4k5dlSQTCs/ra+CREdkKz/aA905knkrP4fHPhp/jCs/GgN04hudKz/TS8iedqsrP3cu/GOdtys/g0u8SJ7BKz8=",
          "dtype": "f8"
         },
         "yaxis": "y9"
        },
        {
         "hovertemplate": "variable=p<br>risk_band=9<br>default_month=%{x}<br>value=%{y}<extra></extra>",
         "legendgroup": "p",
         "line": {
          "color": "#1F77B4",
          "dash": "solid"
         },
         "marker": {
          "symbol": "circle"
         },
         "mode": "lines",
         "name": "p",
         "showlegend": false,
         "type": "scattergl",
         "x": {
          "bdata": "AAECAwQFBgcICQoLDA0ODxAREhMUFRYXGBkaGxwdHh8gISIjJCUmJygpKissLS4vMDEyMzQ1Njc4OTo7PD0+P0BBQkNERUZHSElKS0xNTk9QUVJTVFVWV1hZWltcXV5fYGFiYw==",
          "dtype": "i1"
         },
         "xaxis": "x10",
         "y": {
          "bdata": "AAAAAAAAAAAgqOxvECIQPbKvbPDAabc9g2pmbR5CDD5zhfwj/+NBPtoFY84nAWc+A05jBnnIgz5XPeeApiiaPj4L7wnRyqw+WKWxAjK2uz57OjmVihfIPg0WXUv/WNM+kfnv0Vsr3T4zQj5mwuLkPqPtZSk3quw+I5TLqcH78j5/7+G71GX4PvIRscQfj/4+3GAGVa+3Aj8AN7tyen0GP5JeFJDSkQo/45dN85/sDj9dmkXRkMIRP0QU1PoZKRQ/e0lQn0alFj9E8vdHeDIZP1JJJI8rzBs/MXc1gQhuHj/Fs1aR94kgPzKBuUsA3SE/YQkGs1IuIz/ErqilSHwkP/ay54RixSU/URCWSkcIJz98Nkb3w0MoP8ih4H3Kdik/4bo0THCgKj83dDiL7L8rPxpbRC2W1Cw/8wGz3OHdLT91ZOHZX9suP+xQm9S5zC8/+sw8ZdhYMD/Lnsp4DcUwPyrsk9rwKjE/g/kZ5H+KMT++c4qov+MxP/p16he8NjI/U/YrMIeDMj+D2WE8OMoyP/ZxBSLrCjM/72YNvL9FMz/vdW9D2XozPw8KisRdqjM/NXXeoHXUMz9/HnccS/kzP0XsTPYJGTQ/SXT7Ct8zND+hKBMB+Ek0P2cJW/6CWzQ/v7dXZa5oND9inHOaqHE0P1G7KtCfdjQ/anSk2cF3ND+iiS0DPHU0P+obDfA6bzQ/+Lc3feplND/34muodVk0P47BS3sGSjQ/R14P+sU3ND9bsHIV3CI0P0zHiZ9vCzQ/IWQsQ6bxMz/qyrB9pNUzP660s5qNtzM/VgOxsYOXMz8HMTalp3UzP2hrfCMZUjM/v+c8qPYsMz+WP5Z/XQYzP9iU3clp3jI/sNw5gDa1Mj+qBOt53YoyP5W0IXJ3XzI/RzxPDhwzMj++y9fk4QUyP8tqE4Te1zE/r0aMeSapMT/N3GpZzXkxPxFNAsblSTE/Drhwd4EZMT9fAElDsegwP++WPCSFtzA/SCm9QQyGMD94G4/3VFQwP9+tRt1sIjA/8RpVm8HgLz/Hqe7beXwvP8VuAGoZGC8/YF5T5LWzLj8=",
          "dtype": "f8"
         },
         "yaxis": "y10"
        },
        {
         "hovertemplate": "variable=p<br>risk_band=8<br>default_month=%{x}<br>value=%{y}<extra></extra>",
         "legendgroup": "p",
         "line": {
          "color": "#1F77B4",
          "dash": "solid"
         },
         "marker": {
          "symbol": "circle"
         },
         "mode": "lines",
         "name": "p",
         "showlegend": false,
         "type": "scattergl",
         "x": {
          "bdata": "AAECAwQFBgcICQoLDA0ODxAREhMUFRYXGBkaGxwdHh8gISIjJCUmJygpKissLS4vMDEyMzQ1Njc4OTo7PD0+P0BBQkNERUZHSElKS0xNTk9QUVJTVFVWV1hZWltcXV5fYGFiYw==",
          "dtype": "i1"
         },
         "xaxis": "x11",
         "y": {
          "bdata": "AAAAAAAAAAAWYmTPOGijPeApna2AgjU+aLx0tLOQfT64xakb8xqpPvErjg63rcc+SGfB3G6d3z4YFNEcnN/wPl0exoZK2/4+fO0bTYI3CT/WT5evRvASP0zHQp2OpRo/kajbRuPMIT8klMeRCc8mPw2tRswHPiw/UA4OJZj+MD+J1MIZDvgzPxo5mZb2/TY/+HrWQxAEOj8fdTvBhP88P0KE/84D5z8/kwKb3GJZQT/M+TlTPq5CP92yQGid70M/RcYLH6kbRT988ICvGDFGP6ZuFnkfL0c/pzUJbVsVSD/BGs53xONIP0SAwzqdmkk/VfFWP2U6Sj96f8mwzMNKP1BrqZapN0s/wp6wfe6WSz+6qzN1ouJLP+0PS0PaG0w/NSdUsLJDTD9vtIfKS1tMP/cZnQPFY0w/zYdXDDpeTD9VkCBUwEtMP3zEQxVlLUw/T07U2CsETD8irKdfDdFLP+JwEOD2lEs/+IsYislQSz8X5N9FWgVLPy31eKFxs0o/v6gi5ctbSj/4HhdGGf9JPwy3VTH+nUk/KNrWqBM5ST/eiH2u59BIPzUL4bj9ZUg/o+GzLs/4Rz90bx/my4lHPzPK6KVaGUc/UF6dptmnRj9EH2ASnzVGPwzwO4L5wkU/88QfeDBQRT/TZN7UhN1EP+QjuEkxa0Q/nsAZxWr5Qz+81lnaYIhDP0keVyQ+GEM//77toiipQj8jHEoTQjtCPyVELEOozkE/eCo5X3VjQT+Ndn48wPlAP2NmU52ckUA/RlnFcRsrQD83tYInlow/P6hhW/5uxj4//H5ODNUDPj84Pi0D2EQ9P8KhoPyDiTw/+AflzeHROz8vNWNV9x07P20ihsLHbTo/T10p2FPBOT+bCPgpmhg5P8mhEFWXczg/Fq49NEbSNz8mZA8QoDQ3P39gHsucmjY/hHe7CjMENj/J1ExcWHE1Px/OlFcB4jQ/dikbviFWND84Ee6XrM0zP7CT7E2USDM/s1TJwcrGMj9OCfFjQUgyP4RvfUfpzDE/QbVaNLNUMT9JqsK3j98wP8+nLjNvbTA/5Je904P8Lz8=",
          "dtype": "f8"
         },
         "yaxis": "y11"
        },
        {
         "hovertemplate": "variable=p<br>risk_band=7<br>default_month=%{x}<br>value=%{y}<extra></extra>",
         "legendgroup": "p",
         "line": {
          "color": "#1F77B4",
          "dash": "solid"
         },
         "marker": {
          "symbol": "circle"
         },
         "mode": "lines",
         "name": "p",
         "showlegend": false,
         "type": "scattergl",
         "x": {
          "bdata": "AAECAwQFBgcICQoLDA0ODxAREhMUFRYXGBkaGxwdHh8gISIjJCUmJygpKissLS4vMDEyMzQ1Njc4OTo7PD0+P0BBQkNERUZHSElKS0xNTk9QUVJTVFVWV1hZWltcXV5fYGFiYw==",
          "dtype": "i1"
         },
         "xaxis": "x12",
         "y": {
          "bdata": "AAAAAAAAAADY4cRyqR8oPpSIVR13a6Q+9c2i0K323z65H/WIpTMCP4zQowVHLxk/YAq3wIIaKj/EWKpXX342P9a3Cr/mFUE/9Hbiyxq2Rz8NFtk+dcROP+NZFYgV9lI/TRekKfVyVj8/PnaWKb1ZP3eP9VXawFw/OkIUEytxXz9toXRuieNgP5pWt2oT4GE/gzasor2uYj+1n3SGVVFjP8ej6BKFymM/0r4T34AdZD+8WZe6yE1kP0ig8RH4XmQ/SoP8Q6NUZD8BMTROPzJkP7vSgIwR+2M/peVkpyWyYz9ZhwQlSFpjP0TsH2EE9mI/HCQC9KSHYj8d7qPINRFiPx5+30+HlGE/cnD1YjITYT/rYEaEnI5gP9uSakP8B2A/L73nNbsAXz9viWJWTPFdP/iqOn4y41w/2nrcH7fXWz+o2TKC7c9aP+Cc8iS5zFk/Ykr5kdPOWD/Rq0ig0dZXP00Zmi8o5VY/bkQCZTD6VT8+c+pxKxZVP2iJ8O5FOVQ/fNox1JpjUz/zBDoYNpVSP406XP4WzlE/JgqyHDIOUT/oXWIhc1VQP2o/bLx8R08/XSHHQeTxTT/QicO7z6lMPxjeCmbqbks/1ZNBjdlASj/xlcUOPh9JP6hjfKG1CUg/RNxu7tv/Rj+g0jB/SwFGP8AcZYeeDUU/zLQSjm8kRD+qdfP6WUVDPxO2Z4v6b0I/mkFKsu+jQT8xsXzl2eBAPxLBq9tbJkA/Jbv5eDXoPj8wbCGKfJM9P92IEsXhTTw/6AIXiL8WOz9KXwrLde05P+cEqihq0Tg/EKec3QfCNz8B9OG+v742PzlkIikIxzU/Gbgk6lzaND/8l4IlP/gzPw8kjzU1IDM/9WtAicpRMj9tMc9/j4wxPzx9pkIZ0DA/KgAmngEcMD+AFk2zzd8uPzKWPR7Xli0/rRFvBW1cLD//iCP15C8rP+V/6y2cECo/f7QwVvf9KD9VZzctYvcnPx2j0T9P/CY/fHnznjcMJj/Qb0yYmiYlP34qAXH9SiQ/OI+YIut4Iz/O6yga9K8iP5MLzPmt7yE/h2JcXLM3IT8=",
          "dtype": "f8"
         },
         "yaxis": "y12"
        },
        {
         "hovertemplate": "variable=p<br>risk_band=6<br>default_month=%{x}<br>value=%{y}<extra></extra>",
         "legendgroup": "p",
         "line": {
          "color": "#1F77B4",
          "dash": "solid"
         },
         "marker": {
          "symbol": "circle"
         },
         "mode": "lines",
         "name": "p",
         "showlegend": false,
         "type": "scattergl",
         "x": {
          "bdata": "AAECAwQFBgcICQoLDA0ODxAREhMUFRYXGBkaGxwdHh8gISIjJCUmJygpKissLS4vMDEyMzQ1Njc4OTo7PD0+P0BBQkNERUZHSElKS0xNTk9QUVJTVFVWV1hZWltcXV5fYGFiYw==",
          "dtype": "i1"
         },
         "xaxis": "x5",
         "y": {
          "bdata": "AAAAAAAAAADH6WMK8QmZPjPq91HCLwA/zd6lg9LaLD9xELB70QlGPzamWV7rXVY/zbdVdyz/YT9lwTlDxwlpPxDUb3oOmW8/6b+uYfSdcj+Iiwt4Wt50P2FAARpRiHY/PWZlffSjdz9uZUoay0B4P85KgECMcXg/9xZDHnBJeD+ZhhN9ntp3Pwk/LNBfNXc/3RgEkcpndj/E3m+du311PzE0OpP4gHQ/BoLO8WZ5cz93WTrtSm1yP9to1UaGYXE/tydU/dJZcD8aqEOq77FuP4P5ExfswWw/A3gwk2Dmaj8kkJumFiFpP6VQUD8Sc2c/15wKKb7cZT/vjTk6EF5kP25lGIem9mI/ISuqxt6lYT+hQcLt6GpgP32AB7yriV4/azphx0VlXD+vzRk8hWZaP757WqZHi1g/dX8qMm3RVj+HA3FV4DZVP1GcpV6buVM/4a5mWqxXUj9KGzKsNw9RPyL68UjzvE8/cuEln46HTT8Liz1aHXtLP4WzVOuslEk/9ZVDGXvRRz9eJ2Fs9C5GP4fmS0eyqkQ/RferyXhCQz9UqVKTNPRBP/oA33j4vUA/NBbHbfY7Pz8X9HVaKiU9P2uuN1N8NDs/Wm3ajBZnOT8/NYXCWbo3Pz6HSlbZKzY/5S+1p1e5ND8rZTahwmAzP+gYQXwwIDI/Fr8Mu9z1MD8ycMSsSsAvP74f1zoQuy0/6q1xikDZKz///AJLSBgqP1zdJ0DGdSg/Y+S+YIfvJj/C+RVBg4MlPy8wNcPYLyQ/u6d1CMvyIj9zGcefvsohP7AoQOw2tiA/1LKkf6dnHz9Hb3FMnoQdP13/7Lj2wBs/47rw4oEaGj9o5UwZOo8YP0le3a4/HRc/Y5gLDtbCFT96cqIHYX4UPxuhOlhiThM/xIziX3cxEj/ny/oHVyYRP2fokNPPKxA/jRWaLYyBDj+bd5mkZMgMP2TECl8/Kgs//5AJN1WlCT8dIDr7/jcIP0iReA+z4AY/p3+9PAOeBT9wd2ysmm4EP6sLkAs8UQM/QE7Q0r9EAj8IezOwEkgBPwQ+9g80WgA/6g4DhGn0/j4=",
          "dtype": "f8"
         },
         "yaxis": "y5"
        },
        {
         "hovertemplate": "variable=p<br>risk_band=5<br>default_month=%{x}<br>value=%{y}<extra></extra>",
         "legendgroup": "p",
         "line": {
          "color": "#1F77B4",
          "dash": "solid"
         },
         "marker": {
          "symbol": "circle"
         },
         "mode": "lines",
         "name": "p",
         "showlegend": false,
         "type": "scattergl",
         "x": {
          "bdata": "AAECAwQFBgcICQoLDA0ODxAREhMUFRYXGBkaGxwdHh8gISIjJCUmJygpKissLS4vMDEyMzQ1Njc4OTo7PD0+P0BBQkNERUZHSElKS0xNTk9QUVJTVFVWV1hZWltcXV5fYGFiYw==",
          "dtype": "i1"
         },
         "xaxis": "x6",
         "y": {
          "bdata": "AAAAAAAAAABdeDmov7D3Pkgv38Z4ZEc/mTwjY6m+Zz8bwBTj61J4P6nhB5GPG4I/AfFV6euehj9e3wuz6GeJP71DHVFwooo/jSYEjSimij8cL6gCNs6JP6sTuzaMaIg/jbq2n4mxhj+9QXB+AtWEP7vpllou8YI/luAWlNcZgT/EMhm+UbZ+P/LrxTzWd3s/eXZkonB+eD+sPeizc8t1P8ObdvcWXXM/sHxjmbMvcT+iFTJSOn1uP4X8HS5lCWs/mNQWOHn5Zz/IZDjpUUNlPy0yTAFb3WI/BSHmPLa+YD/HQaEGl75dP9wW7WKWb1o/ceflh0+DVz/i2vfmFO5UP1HZD1KKpVI/fuQ0uoagUD+9nMaS661NP4dKaSx1g0o/DnkWUyi1Rz9JsplpCDhFPwm//zhwAkM/mbdpq+gLQT+A7iL3B5o+PxivBhx6fjs/03AhOLW5OD8gBw6oq0E2P5mcTiaIDTQ/MsYjxIYVMj9B883E0lIwPzDIOY3Rfi0/4PUyZ/mrKj9OtnwDxiMoP8ScRrD53SU/gULodU3TIz+oKM7WUv0hP0N6Q2ZZViA/eFxxbq+yHT/89KporgMbP/2BzwHFlxg/nJKLHexnFj8FH1tA5W0UP3BEcuwipBI/rHyk6bMFET9tPi4xYhwPPyevOvxacww/0G8HfVAJCj/rJw6UANgHPxt6ywfT2QU/jzgsacYJBD9wYa47X2MCP3UmThmZ4gA/5f81J7MH/z79A7Q2yYf8PtiEJ36kP/o+5I7zLQsq+D7V56JzSUL2PnhASDYjhPQ+j3Tabcfr8j47rujkxHXxPmeNBzoAH/A+77ou91XJ7T4Ytyx6d4jrPqSYXxLOduk+/KZpLjKQ5z5WYm9b4NDlPnTLVz1vNeQ+nhiFl8a64j7i6olHF17hPiOT8xbUHOA+atzLmFbp3T5qkA7OAcfbPhfaTePSztk+/etUukr91z7ZvFunOU/WPrRB0u63wdQ+pHTFAx9S0z4qMn5yA/7RPrdCPmUvw9A+WBABZjs/zz56Cs3T6iLNPiL1HJELLss+lNjgNYVdyT4=",
          "dtype": "f8"
         },
         "yaxis": "y6"
        },
        {
         "hovertemplate": "variable=p<br>risk_band=4<br>default_month=%{x}<br>value=%{y}<extra></extra>",
         "legendgroup": "p",
         "line": {
          "color": "#1F77B4",
          "dash": "solid"
         },
         "marker": {
          "symbol": "circle"
         },
         "mode": "lines",
         "name": "p",
         "showlegend": false,
         "type": "scattergl",
         "x": {
          "bdata": "AAECAwQFBgcICQoLDA0ODxAREhMUFRYXGBkaGxwdHh8gISIjJCUmJygpKissLS4vMDEyMzQ1Njc4OTo7PD0+P0BBQkNERUZHSElKS0xNTk9QUVJTVFVWV1hZWltcXV5fYGFiYw==",
          "dtype": "i1"
         },
         "xaxis": "x7",
         "y": {
          "bdata": "AAAAAAAAAAAuqXY1Iw9FPzdvdqALw38/nLkF86pbkj/VGvLqFTmZP1Jg0FvFi5s/A6/YbqO2mj9xgttUVDiYP26DiAHXF5U/RYUCgnbrkT9mfYNvDPuNP7w+ayZt14g/juCB9ZN3hD+7M5hsvs+APzwHQvMVlXs/HRPW/kCgdj+IbtzuUJNyPzDou1Qmi24/TWVqh2EoaT95ng1xF8RkP3gwrJ9VLmE/hcXyMwGAXD9Wquf+w7JXP4vIgLaxwVM/tb+Q42+DUD/J+ZMqTK1LP/WPTEfdQEc/vhaoYSSWQz8A4ODUA4pAP3eZRaUVADw/o1iy60nCNz83aCikGjU0P4ANGBnvOTE/72+AU5BvLT+UclzeWjQpP8MeeB+ioCU/K606Mb6YIj+/15kC3wUgP1a3YUdPqhs/FwRCZuvtFz9t4pUqmLwUP6Im5OGzABI/GDT9dWFQDz+AZbFJ6UcLP+r4/Tatzgc/arRed2fPBD/fwDgtLzgCP+wdUZPQ8/8+PwTDtpkP/D4nmBcoFq74PntVBXPovPU++gSt43Is8z6KWz7bZ+/wPi+dM67Z9O0+0xLmwJmH6j7w691qb4bnPsRa7vMW4+Q+f9/aR06R4j5V0H5RiIbgPhk5S9VYc90+nPtcv79F2j7rQ3++r3bXPtwUi+5k+tQ+LKql+KrG0j6wcUHTpNLQPtXPscE5Lc4+D+5MO7gXyz7zO6CHDlnIPpYUZvYB58U+5HvMn6C4wz7cwByUFcbBPqH0sTeDCMA+2VVawcXzvD6P4crg0Sm6PinjUoLZqbc+9+QbtadrtT4lBBno/2ezPhWqor9+mLE+PyhfG/7urz7qvkuxBACtPj5a+eQ4W6o+MhWZaMP4pz4bbwcEr9GlPpdSXI7N36M+FND+UaAdoj4el7tmQ4agPqQHWDu3Kp4+5CVMUQ2Omz5DV6Nlmi+ZPk5OWFQtCZc+dYn0BD0VlT6uPkWD1U6TPmfwrFeHsZE+RTTo1lg5kD7+yjtVcsWNPtBribjpVIs+bYT0ZVcbiT4wYAd2jxOHPv3u8KXqOIU+PUZWPjiHgz4=",
          "dtype": "f8"
         },
         "yaxis": "y7"
        },
        {
         "hovertemplate": "variable=p<br>risk_band=3<br>default_month=%{x}<br>value=%{y}<extra></extra>",
         "legendgroup": "p",
         "line": {
          "color": "#1F77B4",
          "dash": "solid"
         },
         "marker": {
          "symbol": "circle"
         },
         "mode": "lines",
         "name": "p",
         "showlegend": false,
         "type": "scattergl",
         "x": {
          "bdata": "AAECAwQFBgcICQoLDA0ODxAREhMUFRYXGBkaGxwdHh8gISIjJCUmJygpKissLS4vMDEyMzQ1Njc4OTo7PD0+P0BBQkNERUZHSElKS0xNTk9QUVJTVFVWV1hZWltcXV5fYGFiYw==",
          "dtype": "i1"
         },
         "xaxis": "x8",
         "y": {
          "bdata": "AAAAAAAAAACpu5B5+eiNP9Mu+CvfObE/qRiW+HGttj/WBPrZE+W0P4J0swDtvLA/qS9GYKYzqT9nL1oMF3KiP5blTaKZsJo/iujmmLNAkz9lvGN5bdOLP4CMNX+KMoQ/aQKfHDt+fT+LN+nHMK11PwNOErr9CnA/w91dm0vqZz/4sgEXVvNhP4nptTvqIVs/Rp2eNoGkVD9Q1tml3pxPP7kY/YVSW0g/n/UVSsXgQj9ySQInN249P5oq66sCETc/Hybbpl0sMj+iuHpcsccsP7Fgysny5SY/Xiw0jGpNIj/0jvlGHGMdPzdcay1KsRc/a4oLnNQtEz9hcqoq/SsPP+jOOfZGbQk/WwCTF8DQBD8aZ6eachkBP0bwym3zL/w+wZ7wQ6VO9z4a9Cqn7FTzPopyws4QFfA+GneB5dTV6j4iAOaPjXPmPrbZLTOQ1eI+Pr9Bz5Wu3z5kDSBPyrbaPr+xNR18lNY+JuEBeH4h0z5qdobB4T7QPt79sr8Ap8s+3f5QpLOVxz75PShkVSjEPmfBpa5oQ8E+NKbGbaegvT4GFMQr6ni5PiZVFlbO8LU+0xpQq9Dusj66+L/zwF2wPtZja4n3V6w+PALuRZOVqD6YZE0/uFulPjdcXyXGlaI+C0DikWoyoD5Ol+W3I0acPl5tpd7itpg+KMdiw02ilT4CMLnez/aSPqfuII6ApZA+wcDOkWpDjT4dLgbJTMGJPj22LzpGsoY+NhxEZ6QGhD4vyQPj+bCBPlwvhRyLS38+gK0yOFC2ez73CprnSpF4PiRItOjfzXU+kPoV7Xdfcz5AfWVmNDtxPtzDubpfr24+ym+T7o9Zaz5R9po832ZoPi8XlgUQy2U+Sq8Sxn57Yz6MZXdm6W5hPgL0JZZ9Ol8+CKPtwur+Wz6SdBU4zx5ZPrmakO9qj1Y+ReXYl1RHVD62KtGCTD5SPlnP6tEVbVA+m7fM7qmaTT78JbmP5bJKPjF16ekGGUg+G4toxmHERT5vz+HDT61DPgzih7wPzUE+WrHocakdQD6JRVTQqTM9PsqetN/JeTo+4/LU32gFOD4=",
          "dtype": "f8"
         },
         "yaxis": "y8"
        },
        {
         "hovertemplate": "variable=p<br>risk_band=2<br>default_month=%{x}<br>value=%{y}<extra></extra>",
         "legendgroup": "p",
         "line": {
          "color": "#1F77B4",
          "dash": "solid"
         },
         "marker": {
          "symbol": "circle"
         },
         "mode": "lines",
         "name": "p",
         "showlegend": false,
         "type": "scattergl",
         "x": {
          "bdata": "AAECAwQFBgcICQoLDA0ODxAREhMUFRYXGBkaGxwdHh8gISIjJCUmJygpKissLS4vMDEyMzQ1Njc4OTo7PD0+P0BBQkNERUZHSElKS0xNTk9QUVJTVFVWV1hZWltcXV5fYGFiYw==",
          "dtype": "i1"
         },
         "xaxis": "x",
         "y": {
          "bdata": "AAAAAAAAAADYetL1J2+9P1O+fFGh5Mk/LNSD/Otowz/ROLXdlPy3PwjAWSQrMKw/L/TTIkJ5oD8s/V8zlneTP14BfLBPZoc/krD5FQ2qfD/AnjEm8uRxP1Bj4i6fwWY/4LvP0HRyXT/04oiMmF1TPxO9oa6N3Ek/7I31RrqDQT9+a1gZzQk4P8I4HUc2szA/kfKsEMR4Jz8I1mmDKawgP21JzBG+7Bc/qZ9UbQpUET8eVKItBFMJP/ay9+PoqAI/vCWs2hq3+z4zzln+ZLz0PkC1/MMxP+8+MGBs+TGz5z73C/IB9RbiPuKI4U/xx9s+AN62tUx01T4+bVn2oajQPojC9JkzAco+RKmkG9ZlxD59sQAcZhPAPnkij05HdLk+/7cC51w9tD6GJAUsHimwPtuR/egi6ak+y2ET3AHapD6YNphoqdegPvSRsoMhTps+AozfbrQ1lj4J1opgACCSPgqUy3NrrY0+nJBkDxRfiD4oKOzw2BKEPqjIZirRlIA+doalqyt4ez6RqXtCnNB2PvVS2t+b/3I+JpTBSo24bz6RRcm34ItqPkm+LEvQRGY+/bVgBT25Yj7wgdWyW45fPmdICBtPplo+fuok8r2NVj5ZIWcCYyBTPoUQJMGoQFA+pdZ+SLusSz4YrdijV5tHPuoM/72LLEQ+ovP483pFQT6Wv+xB7Z89PrirT3hFczk+apTFJInmNT5eDEFRZuAyPoiM8jHFSzA+ZVEjdxQuLD6wBc1R9mYoPiMLWG+AKSU+5U63e/hgIj4a3qgl3fcfPmemOVRh1xs+lDm+I61HGD7Q0/cdxDMVPiAzNdLeiRI+9f1C8+Y6ED74dYBUE3QMPurx8Gq4+Ag+OnhsRB/xBT51bFoKYk0DPvOnPhvo/wA+ex0SxRj6/T2UH7L6o3X6PSXFQZNJYfc9Odqhzkeu9D1qRWQU6U/yPcS56oQ3O/A9Sd+fcnjN7D1SLjSokJTpPTkV06iMveY9N/BpviQ85D1DP1bRsAXiPTDQEqruEOA93pkTN6Gr3D1tpoicpprZPbxzhTGz4tY9U1Z8+Rp51D0=",
          "dtype": "f8"
         },
         "yaxis": "y"
        },
        {
         "hovertemplate": "variable=p<br>risk_band=1<br>default_month=%{x}<br>value=%{y}<extra></extra>",
         "legendgroup": "p",
         "line": {
          "color": "#1F77B4",
          "dash": "solid"
         },
         "marker": {
          "symbol": "circle"
         },
         "mode": "lines",
         "name": "p",
         "showlegend": false,
         "type": "scattergl",
         "x": {
          "bdata": "AAECAwQFBgcICQoLDA0ODxAREhMUFRYXGBkaGxwdHh8gISIjJCUmJygpKissLS4vMDEyMzQ1Njc4OTo7PD0+P0BBQkNERUZHSElKS0xNTk9QUVJTVFVWV1hZWltcXV5fYGFiYw==",
          "dtype": "i1"
         },
         "xaxis": "x2",
         "y": {
          "bdata": "AAAAAAAAAAASMLIpY3vaP82O9bylytE/jhdMvHVgvj/40wZFtSypP8DfjpY+s5U/XxADKJuwgz9Q6JRaichyP20+bCJ9wWI/+Sa95ieCUz9hIpO2mApFP4t8pezVcDc/d8EoskHhKj+35aWLhaIfP/MtrYyhDhM/wPHj2Tp0Bz80noW/H279PpY8VcB7y/I+JxLKBWVm6D6h+8DV+BPgPlPxJsk3fNU+n0a8QmYVzT7m3dGLG+zDPkuXKXPimbs+0UG5iEJSsz5wqUXsZFGrPlNSFlXOfaM+gIQKqMAOnD7+IvPHZFyUPtY2zFQXyI0+n4LwNALxhT7CnEcvS0eAPiuODzKiUHg+HJnPXUJGcj7bd7Q3gaJrPuFViHDVA2U+ASep2ZYRYD7tw7y3zLNYPhdcD6w1FVM+IFAxfB+gTT6GByB1PxpHPkYcMUeBGEI+9QJfKgV4PD7WuqZvY3w2Pv1zN0qV1DE+bV9QspRiLD4nSQACNq0mPr4zeaEiLiI+7KeRohNAHT6r9aNvr5sXPqZAFlZ2HRM+Gpo6P74MDz4I72TLFksJPkTS0jvmqQQ+oHgkRcLtAD6z+XagLdD7PS4Xq7h+6PY99nkO557q8j21A7D0fFHvPXO7ta7w/Ok9EerpQ5ed5T3OZfRkEwXiPbwiRbd0HN49ezArtlY22T3b7PpPoSfVPbkRcnVlydE9eumkUiz4zT0VoQv3IkzJPfRfb1vuZMU9U7skhHggwj3gHv/VucW+PTjIAyF2Kro9SV1PvolJtj10WU8H+QOzPcyMxgkwQLA9vPyT2gvSqz3sCqX44NmnPT2jdYW8eqQ9pwhlWF+coT2RKmRnJFWePaPkIHvkKJo9Zl4yKbyXlj0T+5Go+omTPU2PvCm765A9GpaSpINYjT0oieGH6nqJPX0gEvTeJoY9lsKQikNIgz3VilfxEM6APU31PvetU309r/R3K6aeeT2MBQ17MGh2PUxtu/qKnnM90byh15AycT28MOKPpi5uPfexIx2Gg2o9gUKelc9QZz2e0vORRYZkPZN01dz2FWI99D0xus7nXz0=",
          "dtype": "f8"
         },
         "yaxis": "y2"
        },
        {
         "hovertemplate": "variable=cum_p<br>risk_band=10<br>default_month=%{x}<br>value=%{y}<extra></extra>",
         "legendgroup": "cum_p",
         "line": {
          "color": "#FF7F0E",
          "dash": "solid"
         },
         "marker": {
          "symbol": "circle"
         },
         "mode": "lines",
         "name": "cum_p",
         "showlegend": true,
         "type": "scattergl",
         "x": {
          "bdata": "AAECAwQFBgcICQoLDA0ODxAREhMUFRYXGBkaGxwdHh8gISIjJCUmJygpKissLS4vMDEyMzQ1Njc4OTo7PD0+P0BBQkNERUZHSElKS0xNTk9QUVJTVFVWV1hZWltcXV5fYGFiYw==",
          "dtype": "i1"
         },
         "xaxis": "x9",
         "y": {
          "bdata": "AAAAAAAAAABuk9JfgEN5PElUTld+Ajg9IxN+13rQmT1/B7zFP6HZPXVXLRccQQg+j9KUOxNiLT4QaWnyrnFKPlaMlTdkQ2M+TeGv2yn5dz4y0EEId2uKPuIKxSn6cJo+1NX7y9x5qD4ogFYooz61PjjebdoYecE+kiyNrZZ1yz6wVi9krL/UPheUQcgKUN4+JyILu45/5T6KDvlIdbbtPp0C8WMfEfQ+35f0SH2O+j7vKpd8D0EBP4Jo9HoHDgY/wUPPS4vGCz8kyy51kEERPz454nkaLhU/7IxIFvK0GT+DTebe5OEeP6Q1kp40YCI/i5tQVMWtJT8jwgw87F4pP/BjdZ6reC0/n8NfJN3/MD+DwMJOP3wzP4heXV6FMzY/Ljwo14wnOT/3ihG9Blo8Px4Jswt3zD8/7Ml4RxrAQT8anPiINLtDP2sZF+0I2EU/TLyFMgAXSD//21yvbXhKP/O1++SP/Ew/iwxnKJGjTz+fdsUtxDZRPw/nCto8rVI/j1N5xis1VD+6A9qfgc5VPwBixQEneVc/CqTT5/w0WT9eRpIf3QFbPwqSa7qa31w/nc3IfgLOXj8TcuirbWZgP/UinmHzbWE/+9JlnnB9Yj8DDIFTwZRjP2AIali/s2Q/3AIGnELaZT8ygRlUIQhnP+/M6yowPWg/RSUMa0J5aT+F5i8pKrxqP1IAJWy4BWw/ZafXUr1VbT+4R204CKxuPw2yPOszBHA/x6mpMlW1cD/k2krdTmlxPwMI6bIHIHI/oinCZWbZcj8yjimfUZVzP7UqVQuwU3Q/uEFfZGgUdT+hwoN8Ydd1PwHsoEeCnHY/o9MC5LFjdz9HgIGi1yx4P649+Q3b93g/fMUk8qPEeT8LwOBhGpN6PzIB4LwmY3s/Vr/XtLE0fD8k2CpSpAd9P+wGG/jn230/xL2GaGaxfj8WHTrHCYh/P9ambE7eL4A/NiS17DScgD+G7kFr/giBP2zHk6wwdoE/K9KlycHjgT86Ro0SqFGCP1hB9g7av4I/ZBGAfk4ugz+TMvtY/JyDP00ji87aC4Q/exSuR+F6hD8=",
          "dtype": "f8"
         },
         "yaxis": "y9"
        },
        {
         "hovertemplate": "variable=cum_p<br>risk_band=9<br>default_month=%{x}<br>value=%{y}<extra></extra>",
         "legendgroup": "cum_p",
         "line": {
          "color": "#FF7F0E",
          "dash": "solid"
         },
         "marker": {
          "symbol": "circle"
         },
         "mode": "lines",
         "name": "cum_p",
         "showlegend": false,
         "type": "scattergl",
         "x": {
          "bdata": "AAECAwQFBgcICQoLDA0ODxAREhMUFRYXGBkaGxwdHh8gISIjJCUmJygpKissLS4vMDEyMzQ1Njc4OTo7PD0+P0BBQkNERUZHSElKS0xNTk9QUVJTVFVWV1hZWltcXV5fYGFiYw==",
          "dtype": "i1"
         },
         "xaxis": "x10",
         "y": {
          "bdata": "AAAAAAAAAAAgqOxvECIQPdyqiHTJbbc92q8KuYz9DD5xMI3v17NDPvZRRsod7ms+gOL0eADEij5M17BeU8WjPkXxTzQSSLg+TsuAGyL/yT7kAl1YVgvZPngM3dEqMuY+oIRqXexj8j66pYmQTdX8PkZOnpI0lQU/WBiEZxUTDz8MiLri/6IVP4jM5tPHRh0/e/40v09RIz87zONbrvAoP+Dj6P8ilS8/7CRefiWoMz+Di6+yyRg4P5SQZDEQIz0/eVGc7DBmQT/CT5v1f4xEP+zYf2cFBkg/0oemd8bTSz/DNPxbRPZPP4hKdTfCNlI/tAvWjYycVD+MIYuiFSxXP+sXKPPB5Fk/9dl63MrFXD/EoGNbQ85fP37aj1WOfmE/LCZTWpUoYz9vrQYjlORkPyHz2oXdsWY/QCOmo7uPaD+HOUShcX1qP5bujT49emw/NYg1S1iFbj8Hbif9/E5wP8qs0AqsYXE/YkwSCVR6cj+e85oDkJhzP/6aGcX7u3Q/Y1ocODTkdT/7d+K71xB3PxrPAm6GQXg/iaXDaeJ1eT/onPr9j616P4k9Q9o16Hs/3CRRNH0lfT/ElhjmEWV+P4hlfYWipn8/Zo4WO/B0gD+rJx/7PxeBP/b/ERMcuoE/tL08hmFdgj+XWhDL7gCDP3KwkcmjpIM/FdRe2GFIhD9iQHi4C+yEP0Gp+I+Fj4U/AWfi47Qyhj8ZxiWRgNWGPyUkAMXQd4c/F5/Q9I4ZiD+aNHzVpbqIP9SCeFIBW4k/9eWRhI76iT9MbH+oO5mKP/EJVRX4Nos/DJLiMrTTiz+UQwxwYW+MP+8mKDnyCY0/LQ5q7lmjjT8qwGbajDuOP9GstSiA0o4/tnu33Clojz/b04bIgPyPP8DwC0K+R5A/sS1FsoqQkD/gjNg5otiQP4va6LMBIJE/pgvPTaZmkT8ZtzSDjayRP03ATBq18ZE/LYMqIBs2kj8upzflvXmSP4qZyPmbvJI/L47PKrT+kj+dyq1+BUCTP1TlIjKPgJM/io9ZtVDAkz/ebBGpSf+TP7xt5dt5PZQ/eRSuR+F6lD8=",
          "dtype": "f8"
         },
         "yaxis": "y10"
        },
        {
         "hovertemplate": "variable=cum_p<br>risk_band=8<br>default_month=%{x}<br>value=%{y}<extra></extra>",
         "legendgroup": "cum_p",
         "line": {
          "color": "#FF7F0E",
          "dash": "solid"
         },
         "marker": {
          "symbol": "circle"
         },
         "mode": "lines",
         "name": "cum_p",
         "showlegend": false,
         "type": "scattergl",
         "x": {
          "bdata": "AAECAwQFBgcICQoLDA0ODxAREhMUFRYXGBkaGxwdHh8gISIjJCUmJygpKissLS4vMDEyMzQ1Njc4OTo7PD0+P0BBQkNERUZHSElKS0xNTk9QUVJTVFVWV1hZWltcXV5fYGFiYw==",
          "dtype": "i1"
         },
         "xaxis": "x11",
         "y": {
          "bdata": "AAAAAAAAAAAWYmTPOGijPRHcBMo0jDU+KQoVAXfpfj79Zsz7IfisPrBFgY2/684+EAXBUaeJ5z6glrHFb6T8Pn7aOybdvw0//eOrua97Gz/qmaE0+zUnP8h+oUFhRDI/EFMP5dIqOz+RjvnWK0lDP9Q5C8qtWEo/fiBJ7vxrUT+g1bl0AGpWP+YjYBp+KVw/UuGqFUFVYT/2T9KtMfVkP35AsicS8mg/IwHZ3mpIbT/Lv9M5/flwPyfW2+bwd3M/8E69CmYbdj8Aba0gieF4P9U60A9tx3s/imFxfRjKfj9xkjWGSPOAP3XK4VnyjII/ijnXrZgwhD+C0eN41dyFPzdoThJQkIc/I3Ip+r5JiT/frHwh6QeLP95dscWmyYw/UaC28OGNjj/Mja9WyymQP5x2zH7pDJE/2jIvT9vvkT9dN9BROdKSP4FVenqks5M/8/dA2cWTlD9UNT5ETnKVP9u4Pvv1TpY/O32PR3wplz9cfL4ZpwGYPwVEyqZC15g/S1nzBSGqmT9DEiTQGXqaP/u/rsEJR5s/zHb1XtIQnD8TY2mcWdecP21rMIqJmp0/egqmA1Banj/2BddinhafP0hMBjhpz58/nZudAlRCoD8aHOd+KpugP9oL8GQ28qA/7orQJndHoT+BBCQ67ZqhPxHlSv+Z7KE/E0xfqn88oj9us8gtoYqiP+cPWiYC16I/48blyKYhoz9U7zLRk2qjP2WgP3LOsaM/D4W8R1z3oz/pfq5IQzukP4PMI7uJfaQ/6OHqKDa+pD9S5zlVT/2kPxWeNjPcOqU/EztP3eN2pT+PlVWNbbGlP9PWTpWA6qU/46DqWCQipj9NZ5VHYFimP5JzGtc7jaY/TcbKfr7Apj9eth6z7/KmP6LXyOHWI6c//lIxbntTpz/GcVGu5IGnP4eu5+cZr6c/diX9TSLbpz8gv7X+BAaoP7zoZAHJL6g/Dx/hRHVYqD8x+xCeEICoP1jUrMahpqg/AWcwXC/MqD8USfjev/CoP/NDh7FZFKk/XvnvFwM3qT+zfl83wlipPwPcxRWdeak/m5mZmZmZqT8=",
          "dtype": "f8"
         },
         "yaxis": "y11"
        },
        {
         "hovertemplate": "variable=cum_p<br>risk_band=7<br>default_month=%{x}<br>value=%{y}<extra></extra>",
         "legendgroup": "cum_p",
         "line": {
          "color": "#FF7F0E",
          "dash": "solid"
         },
         "marker": {
          "symbol": "circle"
         },
         "mode": "lines",
         "name": "cum_p",
         "showlegend": false,
         "type": "scattergl",
         "x": {
          "bdata": "AAECAwQFBgcICQoLDA0ODxAREhMUFRYXGBkaGxwdHh8gISIjJCUmJygpKissLS4vMDEyMzQ1Njc4OTo7PD0+P0BBQkNERUZHSElKS0xNTk9QUVJTVFVWV1hZWltcXV5fYGFiYw==",
          "dtype": "i1"
         },
         "xaxis": "x12",
         "y": {
          "bdata": "AAAAAAAAAADY4cRyqR8oPnZNyMaWg6Q+0uu9VJBD4T6umiSeiYQGP/IOW+rFOCI/qQyJVaQpNj+2spnWAVRGP0Y10kr0tFM/wHDDsAGQXz/j/RcoHnlnP2pVEXYUenA/PVt6wNEWdj/N6hcmHIZ8P1Wnyl0p24E/nC8twE7JhT/3V8obMQKKP54tePY1eo4/n52Rr/KSkT+WMWBgHf2TPw9GvQJudpY/6b2fHh76mD8gqfI114ObPyndMDi2D54/yTZYUCVNoD/ZeTtFSZChPwWHA176z6I/X9V5uBwLpD/VHco6wUClP5kc3IAhcKY/2z4c0JuYpz+9faYsr7moP591pKH30qk/pszTxyrkqj+1MhiQFO2rP+PbTlSU7aw/zBn+LZrlrT8XLrGQJNWuP28DoyQ+vK8/o/PQ7n1NsD8Kv9mkvbiwP36JbYnwH7E/qG611yuDsT9XkTYeh+KxP7z59L4bPrI/zgKJgASWsj+brFAuXeqyP8FuDEZCO7M/KzZdsdCIsz8/Hr6JJdOzPymPt+VdGrQ/UlcqrpZetD/K4K967J+0P0m5KHR73rQ/jEesPF8atT+gziPcslO1P1zk77CQirU/hGcKZBK/tT+w8ifgUPG1P3fraktkIbY/MMlHA2RPtj/VKkaaZnu2Pw71VNeBpbY/eBpxtsrNtj9jAWdqVfS2P8/QfV81Gbc/UmXiPn08tz+0Xq3yPl63Pza2ZKqLfrc/8a/d33Odtz9d0WdcB7u3P+bjLD5V17c/6fq0/Wvytz9IBYBzWQy4P02vqN0qJbg/9EuG5ew8uD/oLUWlq1O4P0xQbq1yabg/BHVYCk1+uD+c931JRZK4P8CGs35lpbg/LMc8Sbe3uD9dlrzYQ8m4P9o8//ET2rg/2mKd8y/quD9lCXfan/m4PzAoBkZrCLk/ud+IfJkWuT99cQNvMSS5Pz1nGr05Mbk/l3/FuLg9uT9LG9xptEm5Px0EfJEyVbk/2n1LrThguT8SpJf6y2q5P6ckUHnxdLk/73Dh7q1+uT9lhe7oBYi5P2tr67/9kLk/nJmZmZmZuT8=",
          "dtype": "f8"
         },
         "yaxis": "y12"
        },
        {
         "hovertemplate": "variable=cum_p<br>risk_band=6<br>default_month=%{x}<br>value=%{y}<extra></extra>",
         "legendgroup": "cum_p",
         "line": {
          "color": "#FF7F0E",
          "dash": "solid"
         },
         "marker": {
          "symbol": "circle"
         },
         "mode": "lines",
         "name": "cum_p",
         "showlegend": false,
         "type": "scattergl",
         "x": {
          "bdata": "AAECAwQFBgcICQoLDA0ODxAREhMUFRYXGBkaGxwdHh8gISIjJCUmJygpKissLS4vMDEyMzQ1Njc4OTo7PD0+P0BBQkNERUZHSElKS0xNTk9QUVJTVFVWV1hZWltcXV5fYGFiYw==",
          "dtype": "i1"
         },
         "xaxis": "x5",
         "y": {
          "bdata": "AAAAAAAAAADH6WMK8QmZPgeyDDTWYQA/p4VUCKR5MD9EU9p/o0ZOP+xnI4+ewGI/3I88g+Vfcj+OcNkkyeR+P0utCDGoWIc/oAbwMNFTkD+C6fLOZ4uVP5o5cxV8LZs/lUlmmjyLoD9Dlq/9VZOjP52fv4WHoaY/fAKIibWqqT9PcypZCaasPzD7L1O1jK8/Jj+oUtcssT8SPX8Ms4SyP1XgspXCzLM/dcjPBFkEtT8MbqOzLSu2P5rEEBhGQbc/FQfmR+NGuD9WJDjFcjy5PyLE8CWCIro/4keKKrX5uj9jJL/fvcK7P+imuXFWfrw/z/sBYzwtvT8+yNPkLNC9P2mLDBniZ74/wtxBDxH1vj/P7q9WaHi/P9EMoAWP8r8/3cheDhIywD94/NYY32bAP2+xI6j1l8A/bgaIgpjFwD916DJDBvDAP64z8Hl5F8E/DAGl0ig8wT9DZf1BR17BPz1XRjUEfsE/Hn3lw4ubwT+puj/hBrfBP10PK46b0ME/81JECW3owT8atLD9m/7BPwEA+K9GE8I/+KvBKIkmwj+h/lRdfTjCP6LdzVU7ScI/LcEEUdlYwj8n/DHma2fCP/6XWyQGdcI/NQWir7mBwj/QR4Pclo3CPxRtLsmsmMI/rEcCdQmjwj/f4lLWuazCP2sDke7JtcI/y4nu3ES+wj/nupnvNMbCP69wqLOjzcI/Gg3LA5rUwj/Zzd0VINvCP9DXbYc94cI/iQdGafnmwj8HTRZKWuzCP1MaR0Bm8cI/vTcJ8yL2wj+DKbGilfrCP405bDDD/sI/Iy5cJbACwz9RvCW5YAbDP/HZ/NfYCcM/CDg5KBwNwz+lYXwPLhDDP1E9crcRE8M/xP4zEsoVwz8S81TeWRjDP2b6n6rDGsM/uPaL2Qkdwz8R9mykLh/DPy5oZx40IcM/z0EqNxwjwz9mi3S96CTDPxJ8amGbJsM/q+y9tjUowz9NoK02uSnDP9aX3kEnK8M/rmMSIoEswz91Kr0LyC3DP3bjfR/9LsM/exB7ayEwwz+zE6bsNTHDPxcT5487MsM/LzMzMzMzwz8=",
          "dtype": "f8"
         },
         "yaxis": "y5"
        },
        {
         "hovertemplate": "variable=cum_p<br>risk_band=5<br>default_month=%{x}<br>value=%{y}<extra></extra>",
         "legendgroup": "cum_p",
         "line": {
          "color": "#FF7F0E",
          "dash": "solid"
         },
         "marker": {
          "symbol": "circle"
         },
         "mode": "lines",
         "name": "cum_p",
         "showlegend": false,
         "type": "scattergl",
         "x": {
          "bdata": "AAECAwQFBgcICQoLDA0ODxAREhMUFRYXGBkaGxwdHh8gISIjJCUmJygpKissLS4vMDEyMzQ1Njc4OTo7PD0+P0BBQkNERUZHSElKS0xNTk9QUVJTVFVWV1hZWltcXV5fYGFiYw==",
          "dtype": "i1"
         },
         "xaxis": "x6",
         "y": {
          "bdata": "AAAAAAAAAABdeDmov7D3Pgv7IMT+IUg/XHsrFCnHbT/kPpU2QJuDP0aQzuNn25I/xoh52N0qnj86vP8YaW+lPykNRy0FGKw/ZgtEqMdgsT9KEZlojpq0P79zcO+fp7c/EUtnI9F9uj9JUzVzcRi9P4AwiD6Xdr8/SYaFGOnMwD/fT3amm8LBPz9/XFhansI/86Jv3U1iwz/g5A57qRDEP76ZyjKSq8Q/pLWVzw81xT/7fd64BK/FP+31lk0qG8Y/P1F3MhB7xj/SMhx6HdDGP5tjIeaSG8c/H/wUv41exz+jPiLtCprHP9EY6Bnqzsc/oOT3uPD9xz9W1MXizCfIPwn0afcXTcg/0l3eBFluyD9vJHHwBozIP7qNnWWKpsg/M6TwjT++yD/lPVqWd9PIP6Q9kwZ65sg/XKc+74X3yD/TODrz0gbJPys8SDCSFMk/40zkCu8gyT/nU7jgDyzJPzV7y6QWNsk/GI0taCE/yT8S9I/RSkfJP4RC84WqTsk/QQ9NhFVVyT9v7s11XlvJPxYAOvTVYMk/J3qXx8plyT+xLU0cSmrJP5C+prJfbsk/vIyUCBZyyT8bomF+dnXJPwvcAXeJeMk/fY2FdFZ7yT/hmC0x5H3JPyoni7U4gMk/ulsIbFmCyT+ebisyS4TJP0ky22cShsk/wALj/LKHyT+iQ+x8MInJP1rAHBqOisk/HlODts6LyT8EDnfs9IzJP+aiCBYDjsk/ltyhU/uOyT82kuuR34/JP3KDD4+xkMk/DvNo33KRyT8lkLTxJJLJP2dCzhLJksk/O7EJcWCTyT+A2DAf7JPJP7yoMhdtlMk/d4WKPOSUyT8qbmheUpXJP6i3oDm4lck/T3FpehaWyT8N3+q9bZbJP2zUp5O+lsk/gDLCfgmXyT+oUB/3TpfJP3asb2qPl8k/Dt4cPcuXyT8reiDLApjJP8dAxmg2mMk/cbVbY2aYyT8oBM8Bk5jJP83hPoW8mMk/WOl8KeOYyT9UzoMlB5nJP9GY4qsomck/0v4d60eZyT+f0ggOZZnJP7xjFDyAmck/nZmZmZmZyT8=",
          "dtype": "f8"
         },
         "yaxis": "y6"
        },
        {
         "hovertemplate": "variable=cum_p<br>risk_band=4<br>default_month=%{x}<br>value=%{y}<extra></extra>",
         "legendgroup": "cum_p",
         "line": {
          "color": "#FF7F0E",
          "dash": "solid"
         },
         "marker": {
          "symbol": "circle"
         },
         "mode": "lines",
         "name": "cum_p",
         "showlegend": false,
         "type": "scattergl",
         "x": {
          "bdata": "AAECAwQFBgcICQoLDA0ODxAREhMUFRYXGBkaGxwdHh8gISIjJCUmJygpKissLS4vMDEyMzQ1Njc4OTo7PD0+P0BBQkNERUZHSElKS0xNTk9QUVJTVFVWV1hZWltcXV5fYGFiYw==",
          "dtype": "i1"
         },
         "xaxis": "x7",
         "y": {
          "bdata": "AAAAAAAAAAAuqXY1Iw9FPy6ikgN4MoE/swrP9Ob0mj/EkuBv/haqP3Zh5I5w7rM/N42aahmcuj/qtug/F1XAP1jHGSAS+MI/ARha8IA1xT/XT1K3MRXHP8MDuYmoosg/zCERySHqyT8IpdqvHffKP0K1dF/G08s/22VrZ8iIzD9PSeLuYh3NP/A4NYiPl80/heJSDjH8zT//GBdsQU/OP8HJlcL6k84/TK/9xPrMzj+hfvtMYPzOPzKAaLDjI88/saEvkOpEzz+rNVrcl2DPPzuCobnYd88/UioD3m6Lzz8yC9jh+JvPP/+tquz4qc8/K4egEdq1zz9fm/Ke9L/PP2Ynf5aRyM8/ggeUeu3Pzz+fnkuROtbPP6d807mi288/Ustf6Ujgzz/IcSBhSuTPP/9dCau/588/QCZ2aL3qzz/8eHv7VO3PP4G19xGV788/VBUPGIrxzz9qsKOWPvPPP0ogd4G79M8/NZbudwj2zz/BaeH6K/fPP0oEZpkr+M8/YrozFgz5zz8f++SG0fnPP0qTKG5/+s8/srC/0Rj7zz+liv5MoPvPP3NDZSAY/M8/C0fMPoL8zz+D8olY4PzPPzzC5eQz/c8/p+EeKn79zz+iJ0BEwP3PPzjS8Sr7/c8/8lBxti/+zz/xzdCjXv7PPwermpiI/s8/UpzwJa7+zz/VQjrLz/7PP4cEdPjt/s8/1D8sEAn/zz90xzppIf/PP9q9PFA3/88/pl3dCEv/zz/D8fLOXP/PP3Updtds/88/IgpZUXv/zz+H+kFmiP/PP7C7LjuU/88/PpYC8Z7/zz9LigKlqP/PPxzqQXGx/88/9HABbbn/zz9HnQKtwP/PP4XW0EPH/88/q7ABQs3/zz+tcW220v/PP0TVYK7X/88/xOnINdz/zz9zw1lX4P/PP96qsBzk/88/CFVyjuf/zz+8oWW06v/PP0dMi5Xt/88/5uwyOPD/zz9PnQ2i8v/PP0WIPtj0/88/IqNp3/b/zz92yMC7+P/PP/9jD3H6/88/XtrEAvz/zz++0f1z/f/PPx18jMf+/88/AQAAAAAA0D8=",
          "dtype": "f8"
         },
         "yaxis": "y7"
        },
        {
         "hovertemplate": "variable=cum_p<br>risk_band=3<br>default_month=%{x}<br>value=%{y}<extra></extra>",
         "legendgroup": "cum_p",
         "line": {
          "color": "#FF7F0E",
          "dash": "solid"
         },
         "marker": {
          "symbol": "circle"
         },
         "mode": "lines",
         "name": "cum_p",
         "showlegend": false,
         "type": "scattergl",
         "x": {
          "bdata": "AAECAwQFBgcICQoLDA0ODxAREhMUFRYXGBkaGxwdHh8gISIjJCUmJygpKissLS4vMDEyMzQ1Njc4OTo7PD0+P0BBQkNERUZHSElKS0xNTk9QUVJTVFVWV1hZWltcXV5fYGFiYw==",
          "dtype": "i1"
         },
         "xaxis": "x8",
         "y": {
          "bdata": "AAAAAAAAAACpu5B5+eiNP0hGKlv+9rQ/eC/gKTjSxT/ymG4LYSLQPxJ2m0ucUdQ/BzykFxF41z/0gS/5U8bZP01gVJNdcds/1s7izGil3D+57K04BITdPx2Zp4yYJd4/JxUaeZGb3j8Fujk8RvLePz0DIjNyMt8/+b5YykZi3z9fwoZ2LYbfP0l4wmBPod8/5hb54fO13z/RA0xRwsXfP10Cj/rv0d8/WA00XWDb3z/qzf3qu+LfP7XIqCuA6N8/f38SQwvt3z/WDj45pPDfPyJIl/eA898/qM7opMr13z9BPq3WoPffP/cUUOsb+d8/sNWZyE763z8EK4MoSPvfP9LcupIT/N8/apm7GLr83z+lblDkQv3fP9ElHqSz/d8/kzWz3hD+3z8/0mUyXv7fP0kNqYae/t8/TNhSMtT+3z8Y+G0ZAf/fP3RejsQm/98/ti0kc0b/3z/WfO4pYf/fPwyaar53/98/DhLp34r/3z+U08oem//fP20zS/Ko/98/lQUlvbT/3z+pt0/Rvv/fP/wOBHPH/98/buot287/3z9fdWg51f/fP+UKnLXa/98/uTVQcd//3z+pcsCI4//fP9ZjvxPn/98/lMxxJur/3z9+1OjR7P/fPyqZoSTv/98/ZuvuKvH/3z/kJlHv8v/fP85Uv3r0/98/BDHk1PX/3z/wLlEE9//fP9I3qQ74/98/YIzE+Pj/3z+o8s7G+f/fP3kkYXz6/98/s0eWHPv/3z/LFh6q+//fPz1DTCf8/98/HoQllvz/3z+8r2r4/P/fP18vok/9/98/Ew8gnf3/3z+t4Azi/f/fPyKgax/+/98//78eVv7/3z94fuyG/v/fP4OegrL+/98/D5x52f7/3z/cblf8/v/fP3LskRv//98/NdeQN///3z9tpq9Q///fP10RP2f//98/9WWGe///3z94ssSN///fP0rIMZ7//98/QR3/rP//3z8JkFi6///fP34TZcb//98/YURH0f//3z9D7B3b///fPyF0BOT//98/2kgT7P//3z9OM2Dz///fP8al/vn//98//v//////3z8=",
          "dtype": "f8"
         },
         "yaxis": "y8"
        },
        {
         "hovertemplate": "variable=cum_p<br>risk_band=2<br>default_month=%{x}<br>value=%{y}<extra></extra>",
         "legendgroup": "cum_p",
         "line": {
          "color": "#FF7F0E",
          "dash": "solid"
         },
         "marker": {
          "symbol": "circle"
         },
         "mode": "lines",
         "name": "cum_p",
         "showlegend": false,
         "type": "scattergl",
         "x": {
          "bdata": "AAECAwQFBgcICQoLDA0ODxAREhMUFRYXGBkaGxwdHh8gISIjJCUmJygpKissLS4vMDEyMzQ1Njc4OTo7PD0+P0BBQkNERUZHSElKS0xNTk9QUVJTVFVWV1hZWltcXV5fYGFiYw==",
          "dtype": "i1"
         },
         "xaxis": "x",
         "y": {
          "bdata": "AAAAAAAAAADYetL1J2+9P+D9MqYaTtQ/9ud0pJAC3j8VG/Ht2gDiPxa3NqDdw+M/WfZjwnHL5D9C9v5zLmflP0fmwLLHxOU/qNnszBv+5T/mPDmx5SHmP0kfaFCnOOY/J4fQimBH5j+YyxZXD1HmPwd0gnqGV+Y/ajEUaedb5j93XLei6F7mPx5AgAn/YOY/7UrBlXZi5j+KgVlYgWPmP+wPSr5AZOY/kXqdXstk5j8aMa6qMGXmP/nAUU57ZeY/UXaHvLJl5j8Fc1E13GXmPwI3g3T7ZeY/bjC1JxNm5j9gMqo+JWbmP1HaoiIzZuY/LDXJ3D1m5j9ZMBoxRmbmP9YWZ7FMZuY/v53cylFm5j+/JLbPVWbmP5EOP/5YZuY/cavqhVtm5j/ycA6LXWbmP4KfoClfZuY/Q71Ad2Bm5j/NU7uEYWbmP+tfLF9iZuY/YgPaEGNm5j9mBtqhY2bmPzW0jxhkZuY/cwQMemRm5j83aFfKZGbmP+GsqgxlZuY/OASbQ2Vm5j+9PDxxZWbmP310O5dlZuY/yAH0tmVm5j+A4n/RZWbmP8uyxOdlZuY/0O99+mVm5j+pHUUKZmbmPzdFmBdmZuY/MCTfImZm5j+xVW8sZmbmPxKqjzRmZuY/5Nh6O2Zm5j/NrmFBZmbmP7zRbEZmZuY/eTC+SmZm5j8hLnJOZmbmP9CWoFFmZuY/9WddVGZm5j+/dLlWZmbmP2XtwlhmZuY/rM6FWmZm5j8RPgxcZmbmPxjWXl1mZuY/oOWEXmZm5j+JpIRfZmbmP5RfY2BmZuY//ZwlYWZm5j8eO89hZmbmPxWKY2JmZuY/TWHlYmZm5j+aMVdjZmbmP3wUu2NmZuY/+dgSZGZm5j+BDmBkZmbmPyEOpGRmZuY/UwLgZGZm5j+b7RRlZmbmPy6wQ2VmZuY/vgxtZWZm5j+QrJFlZmbmP/8ismVmZuY/d/DOZWZm5j8IhehlZmbmP5VC/2VmZuY/un4TZmZm5j9rhCVmZmbmP1qVNWZmZuY/K+tDZmZm5j9+uFBmZmbmP9gpXGZmZuY/ZWZmZmZm5j8=",
          "dtype": "f8"
         },
         "yaxis": "y"
        },
        {
         "hovertemplate": "variable=cum_p<br>risk_band=1<br>default_month=%{x}<br>value=%{y}<extra></extra>",
         "legendgroup": "cum_p",
         "line": {
          "color": "#FF7F0E",
          "dash": "solid"
         },
         "marker": {
          "symbol": "circle"
         },
         "mode": "lines",
         "name": "cum_p",
         "showlegend": false,
         "type": "scattergl",
         "x": {
          "bdata": "AAECAwQFBgcICQoLDA0ODxAREhMUFRYXGBkaGxwdHh8gISIjJCUmJygpKissLS4vMDEyMzQ1Njc4OTo7PD0+P0BBQkNERUZHSElKS0xNTk9QUVJTVFVWV1hZWltcXV5fYGFiYw==",
          "dtype": "i1"
         },
         "xaxis": "x2",
         "y": {
          "bdata": "AAAAAAAAAAASMLIpY3vaP3DfU3MEI+Y/YmLdKhPv6T+izy1/3oHrP6BG4nN4L+w/4VKC4Dp+7D+yfDfzy6PsP/DoWXCNtuw/g0dNhE7A7D9M7HoqkcXsP/yAOEV/yOw/iKNTWS3K7D+3AIBtKsvsPyBmjOLCy+w/sM13syDM7D+7TLePW8zsP2XNriaBzOw/L9MTjZnM7D/wqAyhqczsP4ONKF+0zOw/Mh6CpLvM7D8mAYmfwMzsP4tPxRLEzOw/oqANfcbM7D9m7yMyyMzsP7fUAGrJzOw/99l2SsrM7D83AFrtyszsP4pdemTLzOw/XmY+vMvM7D8bk1v9y8zsP3/X/C3MzOw/O1yJUszM7D9z3StuzMzsP+SyL4PMzOw/vklBk8zM7D8aMJufzMzsP/DKJanMzOw/z9KNsMzM7D+sYlS2zMzsP/6C2rrMzOw/o4NpvszM7D8REDnBzMzsP7qic8PMzOw/Bcw5xczM7D9ln6TGzMzsP4+Bx8fMzOw/LIKxyMzM7D+nX27JzMzsP1pLB8rMzOw/U36DyszM7D+uqujKzMzsP0dSO8vMzOw/UAl/y8zM7D+rqbbLzMzsP6h65MvMzOw/5k8KzMzM7D9joSnMzMzsP1SeQ8zMzOw/6ztZzMzM7D/+QGvMzMzsPzhPeszMzOw/Y+qGzMzM7D80fpHMzMzsP+dimszMzOw/8uChzMzM7D/7M6jMzMzsPzeNrczMzOw/VRWyzMzM7D8M7rXMzMzsP1szuczMzOw/jPy7zMzM7D8LXb7MzMzsPxFlwMzMzOw/MiLCzMzM7D/Qn8PMzMzsP3znxMzMzOw/QgHGzMzM7D/r88bMzMzsPzLFx8zMzOw/8HnIzMzM7D9AFsnMzMzsP56dyczMzOw/ABPKzMzM7D/seMrMzMzsP4fRyszMzOw/qB7LzMzM7D/gYcvMzMzsP4ecy8zMzOw/xM/LzMzM7D+U/MvMzMzsP9EjzMzMzOw/NkbMzMzM7D9lZMzMzMzsP+l+zMzMzOw/OpbMzMzM7D/AqszMzMzsP9a8zMzMzOw/yszMzMzM7D8=",
          "dtype": "f8"
         },
         "yaxis": "y2"
        },
        {
         "hovertemplate": "variable=pd_lifetime<br>risk_band=10<br>default_month=%{x}<br>value=%{y}<extra></extra>",
         "legendgroup": "pd_lifetime",
         "line": {
          "color": "#2CA02C",
          "dash": "solid"
         },
         "marker": {
          "symbol": "circle"
         },
         "mode": "lines",
         "name": "pd_lifetime",
         "showlegend": true,
         "type": "scattergl",
         "x": {
          "bdata": "AAECAwQFBgcICQoLDA0ODxAREhMUFRYXGBkaGxwdHh8gISIjJCUmJygpKissLS4vMDEyMzQ1Njc4OTo7PD0+P0BBQkNERUZHSElKS0xNTk9QUVJTVFVWV1hZWltcXV5fYGFiYw==",
          "dtype": "i1"
         },
         "xaxis": "x9",
         "y": {
          "bdata": "Wc9J7xtfez9Hz0nvG197P6LOSO8bX3s/4c4E7xtfez/YqwHrG197P7VV384bX3s/28s0Uhtfez+B5s65GV97PxRPln8VX3s/Z/kg6gtfez/x2eqf+F57P5jwz0HVXns/Ssr8FZleez/SwGDJOF57P2iOlEqmXXs/oOWQvtBcez+I46ONpFt7PzqYzoULWns/1Y39Du1Xez/j0UhtLlV7P6ubcg2zUXs/TFIc2FxNez/E2IqIDEh7PzZURASiQXs/M29Hsfw5ez9JiA7J+zB7P5VP+6Z+Jns/d08mEWUaez/JfuB6jwx7P9gce0Df/Ho/Iz8k3Dbrej9hldUTetd6P2gheCCOwXo/vTF8zlmpej9pETqYxY56PxXAfrq7cXo/lrOxQyhSej/NFAYe+S96P9HzKxUeC3o/20v114jjeT+9/F/2LLl5P+ehcdz/i3k/stRMyvhbeT8VS+HJECl5PySukaJC83g/pi8jy4q6eD9WAURa5354Px3/7vVXQHg/ljrswd3+dz84tadNe7p3P86FkYE0c3c/xu40jA4pdz+pki7PD9x2P6/9JMw/jHY/uSbiEac5dj8IVqgpT+R1P10J2YRCjHU/oPAAa4wxdT/S9ljoONR0Pyp0ybxUdHQ/ABt6S+0RdD+S6/aKEK1zP4128PXMRXM/he2bfDHccj/n7rV2TXByP16bKZYwAnI/iVBc2uqRcT9YXB2EjB9xPyIZOAomq3A/5iCmDsg0cD+qRb2oBnlvP8u7fmvRhG4/SKYWNxKNbT8cz/Xo6pFsP2DLsVp9k2s/dTBPU+uRaj9CHZJ5Vo1pPwQDS0fghWg/WHmV/al7Zz+Y3P6Z1G5mPzV6isyAX2U/gSGJ7s5NZD+qDjr63jljP0VPK4PQI2I/C/JPr8ILYT/ZGYVhqONfP8/HVYBGrF0/C357L5txWz/Fipzd4DNZP9L60OtQ81Y/0rzZpiOwVD9NWkpBkGpSP1JVls7MIlA/bqrnfRyySz+C0Au4EBtHP0lygozbgEI/Cr36y7/HOz8QEsCs/IgyP8JtV1VUjCI//Knx0k1iNTw=",
          "dtype": "f8"
         },
         "yaxis": "y9"
        },
        {
         "hovertemplate": "variable=pd_lifetime<br>risk_band=9<br>default_month=%{x}<br>value=%{y}<extra></extra>",
         "legendgroup": "pd_lifetime",
         "line": {
          "color": "#2CA02C",
          "dash": "solid"
         },
         "marker": {
          "symbol": "circle"
         },
         "mode": "lines",
         "name": "pd_lifetime",
         "showlegend": false,
         "type": "scattergl",
         "x": {
          "bdata": "AAECAwQFBgcICQoLDA0ODxAREhMUFRYXGBkaGxwdHh8gISIjJCUmJygpKissLS4vMDEyMzQ1Njc4OTo7PD0+P0BBQkNERUZHSElKS0xNTk9QUVJTVFVWV1hZWltcXV5fYGFiYw==",
          "dtype": "i1"
         },
         "xaxis": "x10",
         "y": {
          "bdata": "V89J7xtfiz/HuUnvG1+LPyyPzO4bX4s//Vvq2xtfiz8GCaEcG1+LPxOixUQXX4s/cyZwDApfiz/rZF0W516LP9ASLCCaXos/wJKa+gVeiz/5dUBjBF2LP23WW6hmW4s/qGNc5vZYiz/C8ieoeVWLP8dJW7evUIs/OZA581dKiz8wPNMPMUKLP6khFSn7N4s/aAD3HXkriz8/hqKucRyLP1oXQV2wCos/C1hqFAb2ij8MLD6YSd6KP2E8VshXw4o/DKAuuROlij/3W6CrZoOKP2KitOg/Xoo/EzyUh5Q1ij8A/LkiXwmKP65t6YCf2Yk/bM3GNVqmiT/NoFE9mG+JPz8B9JRmNYk/ZuZX1NX3iD/6KsLH+baIP9pqUA3pcog/M2oitrwriD+NUzDsj+GHP9Z8U51/lIc/1DLWK6pEhz/e+LYkL/KGP3N5q/sunYY/UPDVzMpFhj9pFwwkJOyFP5+rf8lckIU/4qWNk5YyhT+2lnE989KEPxOTlUKUcYQ/8E00vpoOhD+U4gFPJ6qDP3YakP5ZRIM/v08kLFLdgj+iMbd6LnWCP1ls2cEMDII/pF47AQqigT9Vd5lWQjeBP5Zw0vXQy4A/Ak7wItBfgD+/Z+FbsuZ/P5+kOeAIDX8/+VmJldIyfj9D7GlOPFh9P2r6g+9wfXw/QqSKc5miez9UZt3w3Md6P8NIl6Bg7Xk/TFbX5kcTeT/iLhNctDl4PyoQSdfFYHc/luDqeJqIdj/Qql+2TrF1P3SK/GX92nQ/sFRZy78FdD+DS+ijrTFzP+rsujPdXnI/1XRgUmONcT8B9cx3U71wPyj6c5J/3W8/1GbnS3JDbj9l7g1onqxsP/NljdkgGWs/adw/UhSJaT+s4GpbkfxnP5HWeW2uc2Y/xlAxB4DuZD/QOVPEGG1jP0s4rXOJ72E/tC6MLOF1YD8lBCLHWgBeP5Lvx/3zHFs/GPyJ06JBWD9LLPBOeW5VPym/G8uGo1I/KscjNrDBTz9vJYVX70xKP0ZEnknb6EQ/M/hTIAArPz8m8gZAy6U0P5zZsmVAhCQ//Knx0k1iVTw=",
          "dtype": "f8"
         },
         "yaxis": "y10"
        },
        {
         "hovertemplate": "variable=pd_lifetime<br>risk_band=8<br>default_month=%{x}<br>value=%{y}<extra></extra>",
         "legendgroup": "pd_lifetime",
         "line": {
          "color": "#2CA02C",
          "dash": "solid"
         },
         "marker": {
          "symbol": "circle"
         },
         "mode": "lines",
         "name": "pd_lifetime",
         "showlegend": false,
         "type": "scattergl",
         "x": {
          "bdata": "AAECAwQFBgcICQoLDA0ODxAREhMUFRYXGBkaGxwdHh8gISIjJCUmJygpKissLS4vMDEyMzQ1Njc4OTo7PD0+P0BBQkNERUZHSElKS0xNTk9QUVJTVFVWV1hZWltcXV5fYGFiYw==",
          "dtype": "i1"
         },
         "xaxis": "x11",
         "y": {
          "bdata": "mCGOdXEboT+UKYF1cRuhP724wVhxG6E/QZmI4G4boT8+eLkZXhuhPzmXws4eG6E/TFpEy3UaoT/NELv4DBmhP4YYSiJ5FqE/17sUqUISoT9bYO+67guhPzRiOnoHA6E/KX9RViL3oD/H+4Nm5OegP62cvu4E1aA/1cwAXU6+oD8jlgcanqOgP18/BoPjhKA/zwk/Vh5ioD+sTejNXDugPzDuxJa5EKA/tvUBh7PEnz8kumKn1WCfP/T9jrpB9p4/e+hOwmmFnj82ThWexg6eP0vBRHPVkp0/VzF3cxUSnT+IpHP7BY2cP6RvzAMlBJw//w9E2+13mz8NZtAi2OiaPyiqMwNXV5o/yV2ElNjDmT+5kIdwxS6ZP+tTYGmAmJg/ify+XmYBmD/h9GEszmmXP/FpWq0I0pY/0I0d0GA6lj/yaPW3G6OVP71s4eh4DJU/Iw5ne7J2lD8OBTZW/eGTP80d22uJTpM/UboI+4G8kj+zLz7QDSySPz0b0IdPnZE/r5aEz2UQkT9Izh+na4WQPxmIwT7x+I8/VaEXLkLrjj/a13Lr7OGNP1Y4acgO3Yw/FGGLBMDciz8SQKgzFOGKP/wCrJ4a6ok/JOUZn973iD9XiS/1ZwqIP5lizBi7IYc/rNlAhdk9hj9HzS8Awl6FP4UfsttwhIQ/Oo7vM+Cugz/8WmIoCN6CP12G/BDfEYI/icllr1lKgT8+NYlca4eAP1YgUWUMkn8/3a1UaDYefj90baveNLN8Pz8qXD7mUHs/U4s7kyf3eT81/Dq21KV4P9HxB4DIXHc/FRdO99wbdj+ulup66+J0P3VsWujMsXM/L3KpvlmIcj8gvyM+amZxP+f3BoXWS3A/ZqzaUu1wbj/YBFGhRVhsP2irfYhmTWo/c4R0CQFQaD9F4+m0xl9mP3NPGclpfGQ/Nj5GTJ2lYj8kzx0kFdtgP2ggd1QMOV4/6B0dfEzTWj+/Fq+oWIRXP/jq6QihS1Q/hPRaJ5goUT9h/Zj6ZTVMP10eugTSQkY/7Tcdcmh4QD8mjVPiRKo1P1XHJKH5XyU//Knx0k1iVTw=",
          "dtype": "f8"
         },
         "yaxis": "y11"
        },
        {
         "hovertemplate": "variable=pd_lifetime<br>risk_band=7<br>default_month=%{x}<br>value=%{y}<extra></extra>",
         "legendgroup": "pd_lifetime",
         "line": {
          "color": "#2CA02C",
          "dash": "solid"
         },
         "marker": {
          "symbol": "circle"
         },
         "mode": "lines",
         "name": "pd_lifetime",
         "showlegend": false,
         "type": "scattergl",
         "x": {
          "bdata": "AAECAwQFBgcICQoLDA0ODxAREhMUFRYXGBkaGxwdHh8gISIjJCUmJygpKissLS4vMDEyMzQ1Njc4OTo7PD0+P0BBQkNERUZHSElKS0xNTk9QUVJTVFVWV1hZWltcXV5fYGFiYw==",
          "dtype": "i1"
         },
         "xaxis": "x12",
         "y": {
          "bdata": "lyGOdXEbsT8tsH5tcRuxP4833ppqG7E/jjGRKhUbsT+uDq/wjxmxP6bPhddaFbE/n21IDKIMsT/AjP4Dmv2wP5LU40vE5rA/Ux3/mRPHsD/9Zye39J2wPzDlpb9Fa7A/4PB6IUQvsD8GUF6Z7tSvP+4LyXo3O68/BPBIoCCTrj/hi8Vejd6tP1BWnfdtH60/6iAr56xXrD8NxRdkIYmrP3owPCmGtao/Z7Sxq3PeqT+Bm472XAWpP0bjqYOOK6g/RicFhy5Spz+xYVE+PnqmP0CoNO6bpKU/gvM5SwXSpD+DKtkcGgOkP7ZAN/ZeOKM/eMWZ6j9yoj/9d4srE7GhP0fyyYQb9aA/b+2proo+oD+MwAXmBhufP1OkT0Y3xJ0/Lztivrt4nD9dkhpgljibP+UWMe24A5o/+cnrZAfamD8JoE1HWruXP7yc7pOAp5Y/pZafikGelT+TCswzXp+UP/DEQbaSqpM/F5Orf5e/kj8aE6lEIt6RP6FrB93mBZE/ZPg4AJg2kD+wsY7Lz9+OP2H5OpoRY40/9JBe31r2iz/QkmXAEpmKP3W5p7KiSok/p0oN/HYKiD+u6b0a/9eGPzE+NReusoU/2k60w/qZhD8p36vrX42DP3A3a3VcjII/iqgWeHOWgT8NCqlHLKuAP305FfEklH8/kNgquGvlfT9ZqWXuVEl8P5oqLegQv3o/gZjyH9hFeT+amCsL69x3P8ISJOqRg3Y/ms3Jkxw5dT+uT2s+4vxzP7eSP0ZBznI/9qhs8p6scT/aBSg5Z5dwP0Vj5gYZHG8/Dr7F4Q4gbT8phJg3rTlrP+WqSbz8Z2k/sEOmLhGqZz8utUbmCP9lP6f7EGQMZmQ/i9mT5U3eYj8T5Wv7CGdhP4AYrUUE/18/fnEYxQxOXT9R4OLV1blaPzrgTXMZQVg/U030gKDiVT/guWMfQp1TP1qfXAfjb1E/5KBA1+myTj+Iv1rC67FKPyJ6jJvf2kY/jbQzue8rQz9Dl4zjt0Y/P9qPRznxfjg/yFY3PFv9MT8ThCD51X0nP05A3VLkAhc//Knx0k1iZbw=",
          "dtype": "f8"
         },
         "yaxis": "y12"
        },
        {
         "hovertemplate": "variable=pd_lifetime<br>risk_band=6<br>default_month=%{x}<br>value=%{y}<extra></extra>",
         "legendgroup": "pd_lifetime",
         "line": {
          "color": "#2CA02C",
          "dash": "solid"
         },
         "marker": {
          "symbol": "circle"
         },
         "mode": "lines",
         "name": "pd_lifetime",
         "showlegend": false,
         "type": "scattergl",
         "x": {
          "bdata": "AAECAwQFBgcICQoLDA0ODxAREhMUFRYXGBkaGxwdHh8gISIjJCUmJygpKissLS4vMDEyMzQ1Njc4OTo7PD0+P0BBQkNERUZHSElKS0xNTk9QUVJTVFVWV1hZWltcXV5fYGFiYw==",
          "dtype": "i1"
         },
         "xaxis": "x5",
         "y": {
          "bdata": "YTJVMCqpuT/j0HgBJqm5P0QAVN/Lp7k/AhQYwCeeuT942dB1s4C5P+Ir4BPqRLk/RhKHILTkuD8ojq9z2V64PylcBVvttbc/YyvQxN/utj80EIlTvw+2P4FKqXvUHrU/vfTS+hAitD8HTqKPwB6zP57+/ttmGbI/KoE+A7oVsT9EgJIKrhawP48rNrwRPa4/lBkXk/NdrD+Wy9OEYpKqP86954Xu26g/sEwZr347pz8THeYYdLGlP/ixB3fHPaQ/zzv9zCHgoj8c2zm/8JehP2wAFBN3ZKA/NUKn27OJnj9OCqixVnCcPwkyiwTlepo/cbP4RGSnmD/fa+i82vOWPzBiQ+RWXpU/I6RAwfTkkz9CbuW64YWSP+XshjFfP5E/MVeQIcQPkD88dpoP/OqNPz1iaWci3os/ioOzVjH2iT+FBNR6izCIP4mXga++ioY/lXygaIIChT8HII7UtZWDP7orgdxdQoI/NSugE6MGgT8U++9Cn8F/P0/To2Kann0/iELP2kWhez8b0/IV58Z5P/4le9X2DHg/y8zVnx1xdj8HiWBeMPF0P3GYaCwti3M/QQVaVzg9cj+G/2+PmQVxP/hwQI9yxW8/jEYghjymbT/MnjSc1qprP94zeEG60Gk/+itV0JAVaD+vyYfqL3dmP0/IKBuW82Q/oQtkueeIYz9G1YIHbDViP1sMHIqK92A/fdvcJpGbXz+gmTr+jW1dP0dwfjWAYls/oOLJbwt4WT+Jf+vI/qtXP0Pn5oxR/FU/MuTXMCBnVD/n8h6IqepSP1B6IzFMhVE/dcNQNYQ1UD8CsYyw0fNNPy/CBSVVoks/2a4zaCJ0ST/3iZFY9GZHP6B4AOateEU/CGRfI1enQz8w8bORGvFBP81AVaBCVEA/sJvMu26ePT9SuIes+MA6Px2JsjNdDTg/6DUx1gWBNT8nySseiBkzP+goBn2i1DA/mq4N0nJgLT/M0QRkqVQpP1ejgxE6giU/MAtkarPlIT/aUfLeufccP96bzUlmgxY/LRj528doED9pUbyzLEUFP/w18gl9r/Q+/Knx0k1ilTw=",
          "dtype": "f8"
         },
         "yaxis": "y5"
        },
        {
         "hovertemplate": "variable=pd_lifetime<br>risk_band=5<br>default_month=%{x}<br>value=%{y}<extra></extra>",
         "legendgroup": "pd_lifetime",
         "line": {
          "color": "#2CA02C",
          "dash": "solid"
         },
         "marker": {
          "symbol": "circle"
         },
         "mode": "lines",
         "name": "pd_lifetime",
         "showlegend": false,
         "type": "scattergl",
         "x": {
          "bdata": "AAECAwQFBgcICQoLDA0ODxAREhMUFRYXGBkaGxwdHh8gISIjJCUmJygpKissLS4vMDEyMzQ1Njc4OTo7PD0+P0BBQkNERUZHSElKS0xNTk9QUVJTVFVWV1hZWltcXV5fYGFiYw==",
          "dtype": "i1"
         },
         "xaxis": "x6",
         "y": {
          "bdata": "lyGOdXEbwT8Pq2jP8hrBP+1QkANRC8E/ft1TwNjLwD9PeRmhz0nAP7vlIW1oEL8/utg9XK8svT9vHknFZw27P4h91Eba07g//ILNPf2Ztj9e754GKnK0Pwip5RQ3aLI/oxMD7u+CsD+roeay7YqtP/stP+zPYKo/fa0rX3CFpz9rsyOJsPSkPzeHdrxPqaI/gWbPpYidoD8HazZL85adPyNlHnvOWpo/8OJtC8h7lz9HQ5INze+UP2t88++lrZI/KmcnNPqskD/0IMt/lMyNP3YcqJ/GpYo/7ZnRh6DZhz+5/J8jkl2FP1vxlwxEKIM/AjohHHcxgT8IQ6bIy+N+P3nU+AJRxns/HclN5TX/eD9gw1D4i4R2PxQEbvmUTXQ/MkAnHJ5Scj9Bse6E34xwPyFjzDO/7G0/Gh5IjLMTaz8EAmqgUIVoPxlMrNVhOWY/U+F2XKcoZD9W4t9fuExiPzDKBO7on2A/3ALtRWY6Xj9YDYtbRoBbP3lYSqeLCVk/t2SlQDLPVj+wIuj5/cpUP4cHFN9i91I/8n3cmXBPUT+DSwW5gJ1PPwmj7QLK4kw/sq1+MLpnSj/zmsZCDSZIP6jrS4YoGEY/Ir7Djwc5RD8wPtZ5K4RCP96bVxyM9UA/u58f/RUTPz8O0VOcz3k8PymYqlZsGTo/cLFXQansNz84/FtFye41P8uFae6GGzQ/tARh0gdvMj8+Wfxg0eUwP/XDduJ9+S4/rdTHzvFhLD98SOql2f8pP6RJ08+Mzic/Tw84dNLJJT9e81VJ1u0jPzrkwJMeNyI/66fjNIOiID/UQ9tTS1oePwcs8sDTqBs/M5Sokt8rGT/PQyopG98WP27rDQmVvhQ/rto/jrTGEj/USA+PMfQQPx94cKsZiA4/y2JPsxJnCz+wz4ZITIAIP9H8e54xzwU/MxH4GJFPAz/m+6BSk/0AP6w7jgFmq/0+JdPdO2up+T4I5teNSe/1PiPcGHGQd/I+/mj7doF67j6wLjl/hXfoPiXgWK+63eI+CEw0D7dK2z7olxUcgY7RPsF6jINL88A+fT81XroJkLw=",
          "dtype": "f8"
         },
         "yaxis": "y6"
        },
        {
         "hovertemplate": "variable=pd_lifetime<br>risk_band=4<br>default_month=%{x}<br>value=%{y}<extra></extra>",
         "legendgroup": "pd_lifetime",
         "line": {
          "color": "#2CA02C",
          "dash": "solid"
         },
         "marker": {
          "symbol": "circle"
         },
         "mode": "lines",
         "name": "pd_lifetime",
         "showlegend": false,
         "type": "scattergl",
         "x": {
          "bdata": "AAECAwQFBgcICQoLDA0ODxAREhMUFRYXGBkaGxwdHh8gISIjJCUmJygpKissLS4vMDEyMzQ1Njc4OTo7PD0+P0BBQkNERUZHSElKS0xNTk9QUVJTVFVWV1hZWltcXV5fYGFiYw==",
          "dtype": "i1"
         },
         "xaxis": "x7",
         "y": {
          "bdata": "/Knx0k1ixT9IgUMyO1TFP4qZpqBuqsQ/TyeT7twhwz9KH/WcfgbBP3m4RRbncr0/sukQM2z8uD+cDseClPC0P/Y1zyh4arE/zKgjFyfYrD+Vv+Sc8NWnP2W+faqEr6M/W6NEZS5EoD9BzvbBX+qaP9baGz67TpY/F+TYIBCHkj9ezeyIQdmOP/wUoiP4vok/AYj+7AWLhT9TuFBS5xKCP+eDwLQ2aH4/jF9WLVOleT9BRd2+y691P31tyEfYYnI/xKYAgTJBbz/XYtd/gqFqP6rNYmUCv2Y/EETpkFV5Yz/6bMU2/bVgPx7fqMl1vlw/txNddlbGWD9vdsklG2ZVP2bmXhdfhVI/9651mOoPUD85z9Xf4ulLP+wbRiTsTEg/2qwMsJQxRT/bZ/HcT4RCPyZlt8C3NEA/+oreLQZqPD+WP8E2KPM4PxuE4Tc38TU/WMTp7phTMz84GHT5OAwxP/UvtNFAHi4/5HTXZT6kKj9ckXqQCJknP4ed4mfD7SQ/fyI8S7WVIj/RFMRU84UgP6tqOq02ah0/nXuTIzI2Gj+VKiqC6WEXPwOmNtBS4RQ/jGniOQOqEj/YSqV487IQPxPtqpya6A0/MnzvOoHOCj+9XwjRvQsIP9ttkWv4lQU/TNrWAClkAz82GecEam4BP5yhMQSjW/8+1d4Lcp84/D4+4cDmJGn5PtkrSa3Y4/Y+F7VvP3+g9D4fQeaP15fyPlbMZ097w/A+BgUN7IY77j7DV8fqYEPrPmBToh+rleg+1STkx40q5j78Y/iZE/vjPlyvbYsOAeI+BhVXEAA34D4X/SC4CDDdPlgJ6niAP9o+uA4ybqKU1z4tJvQ4fyjVPlJUPJ/k9NI+RlpGE0j00D4X0cuhZ0POPgBgrXls8co+z1fNeabqxz7B0leT7ifFPqpBoAXYosI+ogVtLJxVwD5AddNBEXa8PuWgzMnenLg+8Me+sjEXtT55OX6Sbt2xPlpEEGFv0a0+AMAKsLJlqD7ZDq6ocGyjPug7q14Jt50+WLm+S4BTlT5kO4RrRjuLPq5HUAZ1GXo+/Knx0k1ihbw=",
          "dtype": "f8"
         },
         "yaxis": "y7"
        },
        {
         "hovertemplate": "variable=pd_lifetime<br>risk_band=3<br>default_month=%{x}<br>value=%{y}<extra></extra>",
         "legendgroup": "pd_lifetime",
         "line": {
          "color": "#2CA02C",
          "dash": "solid"
         },
         "marker": {
          "symbol": "circle"
         },
         "mode": "lines",
         "name": "pd_lifetime",
         "showlegend": false,
         "type": "scattergl",
         "x": {
          "bdata": "AAECAwQFBgcICQoLDA0ODxAREhMUFRYXGBkaGxwdHh8gISIjJCUmJygpKissLS4vMDEyMzQ1Njc4OTo7PD0+P0BBQkNERUZHSElKS0xNTk9QUVJTVFVWV1hZWltcXV5fYGFiYw==",
          "dtype": "i1"
         },
         "xaxis": "x8",
         "y": {
          "bdata": "/Knx0k1i1T8wN2WjZ8LUPw8dHT6u4dE/yXW47J0vzD/YM1I6WzTFP+H4a6FPOb8/lrbcTafNtj/Wd3Sc4qOwP8nB9e/TXKg/28d6hQbuoT/cbWiJ74+aP05WNyRU0JM/Pf5xu+/FjT+XiFYr0IeGP5CyqZOQK4E/v6Pcf4RZej9CDI/QGVp0P/xsn9hlo28/nI7icra9aD9U2r6YsnVjP6uUAqkEyF4/SsHzyUR5WD8v84V2lY5TP+VaDfQnaE8/zxKfMK9VST/Yexm00YZEPxQ+C+WBs0A/E1p3B4BJOz+o+B6kq2A2P2lcLlRjazI/+mI/ZUduLj8zbpU6HzkpP252N3aq+SQ/3vVld25/IT+XPJaRP0gdPweM5se7khg/3J+ASO6tFD+MZPGuJnMRP1JL9Amwhg0/lsdxFP8KCT9Mv/C7y0oFP5pVoR1LJQI/bctSuZz//j7H73ZXG4n6Pq7PHJFnw/Y+AHTrijeR8z6kqLl7bNrwPkyzZCs2Fu0+TJP5vYkl6T6eu66YcMflPt+f4VAf5eI+CBQME5Fr4D4AKOmqu5XcPsmuyhtg69g+WFEPhafB1T7laPghtAXTPhDoH4map9A+a3yGcckzzT6/P7MBVqLJPgDgIod9h8Y+eQmXmMfSwz5QTXA4K3bBPtW46Ctay74+6HsH/xsuuz78qZtlDQO4PlxP33gdO7U+tMi6BlnJsj4v3XvmmaKwPuNlBP2Feq0+9D01wQ0iqj64XgeBbi2nPiOb7ag3kKQ+4fru3J4/oj6281KhRDKgPnuUQKUDwJw+rscxGXmDmT6yHT+yhqKWPpqZRGFbEpQ+Ujgh+YHJkT7o+1G5ZX+PPgrXFGBY24s+jZcjLh+aiD7+1CxfibCFPg4teC+/FIM+QmDc1BW+gD59P/PN0kl9Pq5HP733hHk+ObQ267Ahdj5eupmTdRVzPgrXv33yVnA+mpmFsMi7az4QWIXT7UVnPtV4EeFQP2M+UI1vf8I4Xz7hepwDq6VYPpqZcTQKs1I+6PuJLRuhSj5aZNvWTN9APgrX49RXDTA+/Knx0k1ilTw=",
          "dtype": "f8"
         },
         "yaxis": "y8"
        },
        {
         "hovertemplate": "variable=pd_lifetime<br>risk_band=2<br>default_month=%{x}<br>value=%{y}<extra></extra>",
         "legendgroup": "pd_lifetime",
         "line": {
          "color": "#2CA02C",
          "dash": "solid"
         },
         "marker": {
          "symbol": "circle"
         },
         "mode": "lines",
         "name": "pd_lifetime",
         "showlegend": false,
         "type": "scattergl",
         "x": {
          "bdata": "AAECAwQFBgcICQoLDA0ODxAREhMUFRYXGBkaGxwdHh8gISIjJCUmJygpKissLS4vMDEyMzQ1Njc4OTo7PD0+P0BBQkNERUZHSElKS0xNTk9QUVJTVFVWV1hZWltcXV5fYGFiYw==",
          "dtype": "i1"
         },
         "xaxis": "x",
         "y": {
          "bdata": "x7q4jQbw3T+pA2z/LgXZPyBBQH1kXtA/trGplU3Ewz8PjwicKYG3Px8aXtYeLKw/NQqZBPApoT/6hmjjl1GVP+hOgz4pAIs/zMQxtFVsgT/6vOHUc+N2PyDLlePukW4/m5dufSW7ZD+qbJUiYYVcPx0lvXlJ4VM/D+ACslIOTD9WXp0oLwZEP7j4BD914zw/qeipcscLNT/2TsjbW/MuPxk1NuPt9CY/xkoltbwqIT+ea5IhVt8ZPzEpb2FAoxM/sERZ3tkDDj/6SDwJLxYHP0AdeH3R3QE/VEPdXm/Q+z4AeNDTHcX1PqqV5EP6IPE+ZEsQMNcW6z5/cm6R64XlPp5vFl/ALeE+qPZ/v8GK2z4t4qH9sivWPvJiQMoS69E+ToLphewSzT5SOIcCnKzHPoVroAh2WMM+XE8uR1y5vz7Hi3b6uRi6PitHMA/wiLU+Vg7y1RHTsT6wcmiBzJetPtcj6w6Ooqg+OTSoJz2QpD4vXZrtujWhPnsURy8p4Zw+7nwlUFlKmD59P4IWmnqUPoPAV0MTTpE+f2rowoJPjT6DwMaoLOCIPocW50LIJ4U+x0sTCwMHgj4ZBBrdbsh+PvLS+VmuVHo+6iZp9BqQdj7l0EZJGl5zPgAAkDYDp3A+dZNooG6ubD4v3Qz20LxoPi2yLaoDXmU+7FHAy1l7Yj7TTSob2wFgPqjGKxZBw1s+bxLTw5waWD7hekSyTPNUPjEI/GxaOlI+TDfJFYG/Tz7NzOwB36tLPne+X0vPIkg+yXZ+G8kQRT4zM1NdLWVCPjMzc3bREUA+7FH44ToVPD5I4XoudIo4PqwcmsmYcTU+O9+P7He7Mj4GgZVCBVswPubQIqQOiiw+AACAkKXfKD7jpRuBIKYlPt0khi0WzyI+AisHRg9OID5SuB58fzAcPoPAyrmUSBg+yXa+5xrUFD6/nxpd7sQRPkjhehqAHQ4+TDeJl6tNCT628/2ApgcFPkw3iWsWOwE+9ihc/1uz+z3hehRKz631PTm0yGaTT/A9bxKD+MsK5z3Jdr4fc/ncPTeJQSC+XMs9/Knx0k1ilTw=",
          "dtype": "f8"
         },
         "yaxis": "y"
        },
        {
         "hovertemplate": "variable=pd_lifetime<br>risk_band=1<br>default_month=%{x}<br>value=%{y}<extra></extra>",
         "legendgroup": "pd_lifetime",
         "line": {
          "color": "#2CA02C",
          "dash": "solid"
         },
         "marker": {
          "symbol": "circle"
         },
         "mode": "lines",
         "name": "pd_lifetime",
         "showlegend": false,
         "type": "scattergl",
         "x": {
          "bdata": "AAECAwQFBgcICQoLDA0ODxAREhMUFRYXGBkaGxwdHh8gISIjJCUmJygpKissLS4vMDEyMzQ1Njc4OTo7PD0+P0BBQkNERUZHSElKS0xNTk9QUVJTVFVWV1hZWltcXV5fYGFiYw==",
          "dtype": "i1"
         },
         "xaxis": "x2",
         "y": {
          "bdata": "yuU/pN8+4z9Q1frta8vUPxPp/5KOz8E/MwAHM/2krj8a3B4yoKSbP/t6ktKqSIo/ktPJhJBAej8Yo6wchWZrPxhUR6PZu10/9RLfZ4GyUD+Yigr4alVDP7l6m/vGADc/lEfjoScLLD/ancV7PHkhP2sipstTNhY/IdzJ+VPADD9CHtYk/eoCP/Zc8DK0Rvk+0Y67lqAf8T5tlxadwYDnPlxHZvn+UuA+L521Qkzu1j4VLux0OUbQPotMMWmPU8c+6qbMH+TewD5g5ZJHHZ24PgDAHDzlGbI+phvei9rTqj5WjqY9QwakPpZD3zggGZ4+wcrRxVfElj6BlcIj8lORPm8SmQUWiIo+d75dcPZshD45tOQJKJ5/PqrxGpSemHg+fT91myo6cz4zM1OvZDNuPpqZSWQf02c+hxaxnhngYj4X2W4iGghePuxRuC9E/Fc+nu8XJLY6Uz4VrmfXEfJOPsP1qKjt/Eg+pHDdh/Q+RD7P9/NEH3VAPn0/9Wwu1zo+jZfuXDT0NT6amVkKiAIyPpLtfOEIoi0+tvN9CBlyKD7sUbhuWjgkPlYOrQOcxCA+BFYOozPhGz556SbgrzsXPsUgsDDzZxM+Ctej+O0+ED78qfEAcEILPtejcAH76gY+sHJob4ZOAz4IrBx62ksAPjEIrNTpj/s9UI2XyqJZ9z3RItsB49DzPajGS0Mv2PA9EVg5FKOu7D0MAit/t3ToPdejcNW54eQ9w/UoRHra4T2DwMpB4pDePe58PyXSMdo9w/Uo/KN41j0pXI+yYkvTPfp+asxflNA9QDVeOuuCzD3b+X4q24bIPYts5zv9GsU9O99PDc8pwj1pke08W0K/PTVeukmP47o9fT813k8dtz228/1UqtmzPV66SQz+BbE9I9v5fu0krT228/3ULeOoPVYOLTLPL6U9sp3vpyX3oT0K16Nw41CePeF6FK6qapk9bxKDwPwilT3dJAaBt2SRPcUgsHJKO4w97nw/NU58hj1aZDvfaXGBPTeJQWDJBno9Rrbz/WQ8cj1WDi2yzcFmPScxCKycV1U9/Knx0k1itTw=",
          "dtype": "f8"
         },
         "yaxis": "y2"
        },
        {
         "hovertemplate": "variable=p_12m_forward<br>risk_band=10<br>default_month=%{x}<br>value=%{y}<extra></extra>",
         "legendgroup": "p_12m_forward",
         "line": {
          "color": "#D62728",
          "dash": "solid"
         },
         "marker": {
          "symbol": "circle"
         },
         "mode": "lines",
         "name": "p_12m_forward",
         "showlegend": true,
         "type": "scattergl",
         "x": {
          "bdata": "AAECAwQFBgcICQoLDA0ODxAREhMUFRYXGBkaGxwdHh8gISIjJCUmJygpKissLS4vMDEyMzQ1Njc4OTo7PD0+P0BBQkNERUZHSElKS0xNTk9QUVJTVFVWV1hZWltcXV5fYGFiYw==",
          "dtype": "i1"
         },
         "xaxis": "x9",
         "y": {
          "bdata": "LdOhoClboD6Irs4hvWSsPraaA0RLWrc+zQdKn4NZwj74e0Lu6rrLPiXo9UIkQdQ+Pxb43Ay53D70OikMmdbjPnDSZkfkxOo+ixunBBKv8T4SLQFgF+z2PpBgnIs9M/0+SoutWjJOAj/nRBwpgJ4GP0Zqn8zRkws/LIqlWuuaED/ML9mwRMUTP5vY3lQRSxc/kKxTtowtGz+kIM9cFm0fP0FIT5+dBCI/0REENGGAJD9q6xgK3ignPz6EsjjJ/Ck/t3O3so36LD+yN4ewKhAwPy689RwJtjE/yDkQk8NtMz/FIAhIKDY1Pxivl0D2DTc/Dad2HeHzOD/HpESflOY6P1A0Z9635Dw/cSGQNfDsPj+VgLDv8X5AP8EHfiQei0E//McrDlSaQj+q/PKC7qtDPxhw05xMv0Q/qOgCXtLTRT+cUIs56ehGP8AhZYIA/kc/ym9Vw40SST9nqMcBDSZKPzgmxe0AOEs/LfgRAfNHTD8hVFiPc1VNP5ZXLMkZYE4/sfyQs4NnTz+XJsMKqzVQPwI9hC6etVA/BQVkPnQzUT8Mj+JhCa9RP0OJ7dc8KFI/wFgX3vCeUj+/5iuWChNTP+vAg+pxhFM/6T5rcRHzUz/1T+lP1l5UPxNZKBywx1Q/cB+7v5AtVT8SEPBZbJBVP3hDXiI58FU/KlXRS+9MVj8YgbPniKZWP3JnEMoB/VY/d09GbldQVz8yuHfciKBXPx1wy4+W7Vc/mECGXYI3WD8AbgZdT35YPwvZptABwlg/eWiND58CWT9fhGZwLUBZP+/ODTW0elk/3eIidzuyWT+9r4cVzOZZPzULxaJvGFo/3TVRVDBHWj/gXrPyGHNaPxeffso0nFo/x20eno/CWj8RNW6YNeZaP2ZlFUAzB1s/1jSha5UlWz9ZFVU2aUFbPxzaqvW7Wls/Cn57L5txWz/Eipzd4DNZP9H60OtQ81Y/0LzZpiOwVD9NWkpBkGpSP1FVls7MIlA/cKrnfRyySz+A0Au4EBtHP0VygozbgEI/+Lz6y7/HOz/5EcCs/IgyP5ltV1VUjCI/AAAAAAAA+H8=",
          "dtype": "f8"
         },
         "yaxis": "y9"
        },
        {
         "hovertemplate": "variable=p_12m_forward<br>risk_band=9<br>default_month=%{x}<br>value=%{y}<extra></extra>",
         "legendgroup": "p_12m_forward",
         "line": {
          "color": "#D62728",
          "dash": "solid"
         },
         "marker": {
          "symbol": "circle"
         },
         "mode": "lines",
         "name": "p_12m_forward",
         "showlegend": false,
         "type": "scattergl",
         "x": {
          "bdata": "AAECAwQFBgcICQoLDA0ODxAREhMUFRYXGBkaGxwdHh8gISIjJCUmJygpKissLS4vMDEyMzQ1Njc4OTo7PD0+P0BBQkNERUZHSElKS0xNTk9QUVJTVFVWV1hZWltcXV5fYGFiYw==",
          "dtype": "i1"
         },
         "xaxis": "x10",
         "y": {
          "bdata": "1L6utSOU6D4OC45DjkTzPi3KiuJu2Pw+QMXLsOjDBD+Q1czNDOoMPwc1QNgNjhM/GwWTPHfIGT8zq7fuWZ0gP5Ddvrpw+iQ/Da0OjPn/KT9Fe5LAsq4vP5xBswDcATM/V3O4pWV8Nj9W2fKQX0I6P63s1NT5TT4/T0JVujZMQT/0ApTRHo1DP6o/u4K65UU/0S8Dg+5RSD8XVw4Vl81KP7Vh0YScVE0/WxonAQTjTz+PCOCDfjpRPzCMLth1g1I/165hGLjKUz9UQ4D7tQ5VP18sCVsCTlY//0nw3VKHVz8XGRjwf7lYP+Ch7ymE41k/2uiGR3sEWz8mSyzKoBtcP/+soltOKF0/IQRSBvopXj8iooRSNCBfPyBf6ypTBWA/BXG434d0YD/iw7l0ot1gP36JDXuWQGE/V4zH/l+dYT/tHP+nAvRhP2g0SOeIRGI/sUZqLgOPYj9OgMo1h9NiPynstE4vEmM/g191whlLYz9ciwM+aH5jPxAD40k/rGM/0oO+zcXUYz/OsTOfJPhjPwd1OBuGFmQ/d/Z7yRUwZD/j+SEJAEVkP+IfN8ZxVWQ/+s0+N5hhZD+Sfz+ioGlkPwSityi4bWQ/3XbrmQtuZD/feQNLx2pkP1c0evQWZGQ/lQpglCVaZD+EQQNVHU1kPwUbkncnPWQ/3V5UQmwqZD+r4iDyEhVkP2KXuq5B/WM/x0XHgR3jYz9jbxhQysZjP2O6BNVqqGM/xeSVnyCIYz/3dFQRDGZjP1k+f15MQmM/nFiBj/8cYz83XX2DQvZiP4qhyPMwzmI/97o0eOWkYj/w5wiMeXpiP2ECkJMFT2I/y2gi4qAiYj9G2JXAYfVhP2WG/3Ndx2E/pOq2RKiYYT9Ul4mFVWlhP4dFEpt3OWE/xtEmAyAJYT+PW1JcX9hgP7IKUm1Fp2A/qi6MLOF1YD8PBCLHWgBeP3jvx/3zHFs//fuJ06JBWD8rLPBOeW5VPwy/G8uGo1I/7cYjNrDBTz80JYVX70xKPwBEnknb6EQ/rPdTIAArPz+y8QZAy6U0P9zYsmVAhCQ/AAAAAAAA+H8=",
          "dtype": "f8"
         },
         "yaxis": "y10"
        },
        {
         "hovertemplate": "variable=p_12m_forward<br>risk_band=8<br>default_month=%{x}<br>value=%{y}<extra></extra>",
         "legendgroup": "p_12m_forward",
         "line": {
          "color": "#D62728",
          "dash": "solid"
         },
         "marker": {
          "symbol": "circle"
         },
         "mode": "lines",
         "name": "p_12m_forward",
         "showlegend": false,
         "type": "scattergl",
         "x": {
          "bdata": "AAECAwQFBgcICQoLDA0ODxAREhMUFRYXGBkaGxwdHh8gISIjJCUmJygpKissLS4vMDEyMzQ1Njc4OTo7PD0+P0BBQkNERUZHSElKS0xNTk9QUVJTVFVWV1hZWltcXV5fYGFiYw==",
          "dtype": "i1"
         },
         "xaxis": "x11",
         "y": {
          "bdata": "cjdRno8nMj/U5pZ+h8Y5P/oDx4Aam0E/Bhvz4SBIRz+Vhnjs/+9NPzv7indpx1I/qA+qoO4KVz8lZFhaBbZbP1qlUrj4W2A/yQ88WY7+Yj+XNOBzPrhlP50zLs9pfmg/uq6gUtdGaz+7SpV3EQhuPzfg4ajRXHA/TaEpGh2qcT/8Hm7i2OhyP208AAmIFnQ/eg7oRDsxdT8p1QDkhTd2P97IWKlwKHc/r1/2yWsDeD+ppWzbQMh4PyGoukQFd3k/ya8/jg0Qej9SZc3G4ZN6P2hdqRczA3s/G45mjdJeez9Y7vgNqad7P5gLrGuw3ns/cAd0f+0EfD/7g2kyaxt8P24xYl02I3w/4Y3uZVodfD8WhCWB3gp8P73iQIbD7Hs/ZZfpPALEez9lmggVipF7P5WX5jdAVns/mfRG5P4Sez8U9O8Ilch6P0hCsxLGd3o/Y3aF5Ekhej8SlIfxzMV5PzpxFHLwZXk//R7vrUoCeT8hrJlWZ5t4P8Cnp+3HMXg/ZqeQM+TFdz+Snh+cKlh3PybRHsYA6XY/NSZQ9MN4dj+8+SCGyQd2P/Nj2W5flnU/Fy9LqswkdT+pFT6uUbN0P6HlBtgoQnQ/Zxzf1YbRcz83pbMLm2FzP+6aPPOP8nI/AChGd4uEcj9WniRKrxdyPzlNXDcZrHE/XgWRcONBcT9KH9rVJNlwP0KgnjnxcXA/4CAioFkMcD+6Vt312FBvP+VQlMBrjG4/V6/OfX/LbT8U1gUcJA5tPxmpOvRlVGw/OJICHU6eaz8nFYy34utqPy6U9jYnPWo/9O9VohySaT8vXrfRwepoP7VIeaYTR2g/aVVEPw2nZz/g8u8nqApnP1f6mIXccWY/MjItP6HcZT+Gxaoi7EplP90jTweyvGQ/fDbt7OYxZD+dcZ8YfqpjP/YCBy9qJmM/Iz5GTJ2lYj8Vzx0kFdtgP0Ygd1QMOV4/xx0dfEzTWj+UFq+oWIRXP8Xq6QihS1Q/SfRaJ5goUT/7/Jj6ZTVMP/YdugTSQkY/mzcdcmh4QD+ljFPiRKo1P5fGJKH5XyU/AAAAAAAA+H8=",
          "dtype": "f8"
         },
         "yaxis": "y11"
        },
        {
         "hovertemplate": "variable=p_12m_forward<br>risk_band=7<br>default_month=%{x}<br>value=%{y}<extra></extra>",
         "legendgroup": "p_12m_forward",
         "line": {
          "color": "#D62728",
          "dash": "solid"
         },
         "marker": {
          "symbol": "circle"
         },
         "mode": "lines",
         "name": "p_12m_forward",
         "showlegend": false,
         "type": "scattergl",
         "x": {
          "bdata": "AAECAwQFBgcICQoLDA0ODxAREhMUFRYXGBkaGxwdHh8gISIjJCUmJygpKissLS4vMDEyMzQ1Njc4OTo7PD0+P0BBQkNERUZHSElKS0xNTk9QUVJTVFVWV1hZWltcXV5fYGFiYw==",
          "dtype": "i1"
         },
         "xaxis": "x12",
         "y": {
          "bdata": "4BZmgqqFbT+WgvgMog9zP3YZm9ft3Hc/wZjLpk0YfT/oRWIKSlKBP+sjud0eLYQ/U+mWxVwGhz/RUZWPSsiJP6TiLboJYIw//RgyIc6+jj/xaIDvGG2QPzbOQ/f5VZE/9XThd7MYkj+r3Bm2YLWSP13HKBk3LZM/A/kdqjaCkz+8wtiD5raTPzQrzAIezpM/5rYi+dnKkz8cmhhxHLCTP2Z85EjVgJM/740P+tE/kz92dhcHs++SPzYiBMHlkpI/XROoT6Erkj8FMYgc5ruRP5w5OO9+RZE/Cx2IMQPKkD/7tGTy2UqQP1vJ/7B6ko8/jegnlXyMjj/KypVGkIWNPzk/pKZIf4w/iI9Qu/t6iz/dWrlCyXmKP11xkNKgfIk/joVSfEeEiD8Ac6b0XJGHP2A0J0BgpIY/8gJ56rO9hT84rTXOod2EP/p/NXVeBIQ/muIxGQwygz9tK9pMvWaCP6JLTlV3ooE/SNeiOzTlgD/+Rqad5C6AP5U/R4ni/n4/ZZC2EHmtfT81T8sHR2l8Pza5YEP+MXs/S0mSBkoHej9CfGWS0Oh4P01IIn001nc/0Pwn2BXPdj/MOlAqE9N1P6lpRkTK4XQ/KtCe89j6cz+3buyY3R1zPzXclqR3SnI/L6jA/UeAcT9TDipW8b5wP+cHom0YBnA/M/OPjsiqbj+jzjKl/FhtP2qqEBQlFmw/be0+EZ/haj8WfBAwzbppP+0pN3AXoWg/s8H/QeuTZz9YumqBu5JmP0eZqGkAnWU/TBlNgjeyZD+om16H49FjP0lzP02M+2I/gZdLob4uYj9gp+YnDGthP1pbmzgLsGA/Nzesca36Xz/UCmDrG6VeP2O6W/qoXl0/7tiN7qMmXD9cpPT9Y/xaP5E0W/dH31k/u5sK9rXOWD+vz74WG8pXPwgMIC7r0FY/Y030gKDiVT/buWMfQp1TP1efXAfjb1E/yaBA1+myTj+Jv1rC67FKP0l6jJvf2kY/yrQzue8rQz/Ol4zjt0Y/PzuQRznxfjg/a1c3PFv9MT97hSD51X0nP69D3VLkAhc/AAAAAAAA+H8=",
          "dtype": "f8"
         },
         "yaxis": "y12"
        },
        {
         "hovertemplate": "variable=p_12m_forward<br>risk_band=6<br>default_month=%{x}<br>value=%{y}<extra></extra>",
         "legendgroup": "p_12m_forward",
         "line": {
          "color": "#D62728",
          "dash": "solid"
         },
         "marker": {
          "symbol": "circle"
         },
         "mode": "lines",
         "name": "p_12m_forward",
         "showlegend": false,
         "type": "scattergl",
         "x": {
          "bdata": "AAECAwQFBgcICQoLDA0ODxAREhMUFRYXGBkaGxwdHh8gISIjJCUmJygpKissLS4vMDEyMzQ1Njc4OTo7PD0+P0BBQkNERUZHSElKS0xNTk9QUVJTVFVWV1hZWltcXV5fYGFiYw==",
          "dtype": "i1"
         },
         "xaxis": "x5",
         "y": {
          "bdata": "kPYI1mQclj9qC1rHlSmaP5UGVA2UOZ4/sCWzedsQoT9msnzWCtSiPzQsimvCTKQ/+Qr3rXRrpT+5UItiUCumP4T6IjDsj6Y/FQqH2kCipj9VAyyOCm6mPwnjSoDh/6U/rK2oKABkpT/1wApgkKWkP9L86aRWzqM/PGGpGJrmoj9k+1C8MPWhP42S8Dmf/6A/3b+acEEKoD9SK79M6jCeP3EZjCeGWZw/QvXxnAiSmj/ny+Z2Bt2YPxB3iLwvPJc/cCBqeH+wlT8ge6Z2YzqUP8JPc/Lc2ZI/eIBNMJuOkT8UCD70EFiQP5TMlFkLa44/WepQIUZMjD+7t0Kl/1GKP6mYBexPeog/Gh3hbkbDhj8A31LU8yqFPyXwuzFxr4M/HQ25VeVOgj+tDKGEiAeBP2WeV/lNr38/OzqRDUV7fT/6f0eX5m97P5+WmjJQink/7vPmeczHdz+XQKwZ0iV2PwkfYnEConQ/JDMw5Cc6cz+nq9X0M+xxP1q550E9tnA/CFlJ5fosbz9a3F1BnhZtP6eDzY9XJms/zo1HhlNZaT+WPD619KxnP1Iktc7PHmY/oJxFG6isZD8gssIfbFRjP744gXQyFGI/OFU7zjbqYD9Pvn1vrqlfP96ACfYipV0/JHTSbwHEWz8aofBMtgNaP9oWLgXgYVg/oFR3PUvcVj/QUr8273BVP2M4tYHqHVQ/zATD8n/hUj8u1fHRE7pRP1I0fkIpplA/5WE0vL9ITz93DiMA42ZNP16OeHlgpEs/+HrJAwn/ST8mCvq51nRIP36wbcjpA0c/YuyIf4WqRT87zXahDWdEP8SuguYDOEM/CESwswUcQj+SVpD/yRFBPwuRn2EfGEA/4sSMkdRbPj+JUKurRqQ8P7UcN66rBzs/G1jOxDyEOT+LLxAWUxg4P+lmE2NlwjY/4zEx1gWBNT9/xCseiBkzP+MjBn2i1DA/ZaQN0nJgLT+SxwRkqVQpP+aYgxE6giU/zwBkarPlIT+bOvLeufccPxGGzUlmgxY/9gL528doED9MKryzLEUFP2rq8Ql9r/Q+AAAAAAAA+H8=",
          "dtype": "f8"
         },
         "yaxis": "y5"
        },
        {
         "hovertemplate": "variable=p_12m_forward<br>risk_band=5<br>default_month=%{x}<br>value=%{y}<extra></extra>",
         "legendgroup": "p_12m_forward",
         "line": {
          "color": "#D62728",
          "dash": "solid"
         },
         "marker": {
          "symbol": "circle"
         },
         "mode": "lines",
         "name": "p_12m_forward",
         "showlegend": false,
         "type": "scattergl",
         "x": {
          "bdata": "AAECAwQFBgcICQoLDA0ODxAREhMUFRYXGBkaGxwdHh8gISIjJCUmJygpKissLS4vMDEyMzQ1Njc4OTo7PD0+P0BBQkNERUZHSElKS0xNTk9QUVJTVFVWV1hZWltcXV5fYGFiYw==",
          "dtype": "i1"
         },
         "xaxis": "x6",
         "y": {
          "bdata": "ii8Z/fKzsT9JBV7FbnCzP9wKARE65rQ/PeQRUfnUtT/pGKH9Rhm2Px+i5o7Au7U/eiVWCevdtD+sg3vyqqezP0DkDKgmPbI/PwryOgu7sD8XvXSGbWyuP9eT0TGbeas/sXPywWKvqD9u2fOSyBemP9wmVURet6M/AUc3PQiPoT9zaHcAmDqfP7wVoXJ9vps/+i+OvVWimD882gxZAN6VP/ovYDo6aZM/n3Aakvo7kT/QJPweVJ2OP7j2L2OBNIs/Iy47WqUwiD8+yFO9JIaFP5sDtdKWKoM/T5K/pLMUgT9R+Ar3e3h+P4S8WS7XM3s/QgMHippOeD/AUbaYb711P1Nv9otcdnM/WojSU5xwcT/3/9vC9EhvP+TbNh9kFmw/Es77F6M9aT8XUekMQLRmP1BfQsQNcWQ/Fd9ZP/trYj8Sryhy8J1gP47G4aleAV4/ZWuuoHEdWz/QdlweaoZYPySe45i9M1Y/eCMLfuIdVD8C7p+eMD5SPyGKHpnFjlA/J/i6gtkUTj+qW6YlFFlLP6DB0pIP4kg/DyINk4yoRj+DTFcWHKZEP0vfuIsG1UI/fCpORzYwQT+P25AkSWY/P3F0XBuSszw/mJAjOBZBOj8hV7cgagg4P7aSxdDRAzY/DZkDwywuND/O2Kh35IIyP5Inygzd/TA/Fb3LTc82Lz+EWMrgbLAsP6r5WfyjYio/b8Rt2x9IKD8YlWMtFVwmP7XS710zmiQ/xOqnh5f+Ij/tpWLewIUhP4st92SGLCA/p3DIjhvgHT8+f2huhpsbP+3LQ1ikhhk/iklL3T2dFz99xoqqgdsVP+aZjkD6PRQ/yRuxw4TBEj/2SbTFSGMRP2Wvx+ywIBA/VtTAvsjuDT9bSFC+gcoLP207mv+q0Ak/NNFo0bv9Bz+VGAQlfE4GP2AtQ+b8vwQ/1Cr4GJFPAz8pFKFSk/0AP4VyjgFmq/0+Vw3eO2up+T4QFtiNSe/1PpIWGXGQd/I+qeH7doF67j6Zljl/hXfoPodcWa+63eI+Vz81D7dK2z62hxYcgY7RPqBhjoNL88A+AAAAAAAA+H8=",
          "dtype": "f8"
         },
         "yaxis": "y6"
        },
        {
         "hovertemplate": "variable=p_12m_forward<br>risk_band=4<br>default_month=%{x}<br>value=%{y}<extra></extra>",
         "legendgroup": "p_12m_forward",
         "line": {
          "color": "#D62728",
          "dash": "solid"
         },
         "marker": {
          "symbol": "circle"
         },
         "mode": "lines",
         "name": "p_12m_forward",
         "showlegend": false,
         "type": "scattergl",
         "x": {
          "bdata": "AAECAwQFBgcICQoLDA0ODxAREhMUFRYXGBkaGxwdHh8gISIjJCUmJygpKissLS4vMDEyMzQ1Njc4OTo7PD0+P0BBQkNERUZHSElKS0xNTk9QUVJTVFVWV1hZWltcXV5fYGFiYw==",
          "dtype": "i1"
         },
         "xaxis": "x7",
         "y": {
          "bdata": "JYGgOUJRwT9/pwQ67/bBPy4e4ziX4ME/ywp46vrQwD/npMwI1TG+P9d10REIO7o/sBhxdQtLtj+Q93yYN66yP21bBnvpB68/2dx4sXyjqT/qFgkl9x+lP7KwhKEpY6E/3TFpejagnD/l4ftxL5aXPx+Bb/HadpM/k7u7buUXkD8Zcjs7wquKPxL5bGopJ4Y/heUyHjtygj8GEy/bR8x+P0bK6O7exnk/xfM4h1ihdT9Qi+JijzJyP9lTf4Z1sm4/Y3v9VM30aT+8CJuIbgBmPzv0NHXUsWI/AuValinYXz/IidpfMC9bP9p9sPsnQlc/XqKiOnDxUz8ycGznDCNRP1DAUPotg00/aoB1l8V2ST/cKre7oANGP690TUp7EUM/RKQ9XSeMQD8hxYAPpsU8PyEvINbhDjk/b6z5pHncNT+1tDbWrRozPzXb04PiuDA/OVXiQDBSLT+TipU2+L4pP412iSoapCY/SJgbF57wIz9mfDgcGZYhP82M/JmKEB8/oN8MFlZ5Gz+eoxSnsVQYP3sLLuxNkxU/DY4QRwooEz+R/HlIoAcRP8rDyEm5UA4/WgIN1MYDCz/IhFcp+xkIP/QS9/TchgU/5kbsf58/Az9kkFaW5ToBP7m0UUcb4f4+Mam7HQuz+z7oGtI8St/4Pmjqer4bW/Y+n2zgaR8d9D4lsri4Ih3yPtDEDo/4U/A+aJPGR6127T4Ck1KDb5vqPmSdMU+EDOg+pv1p4mLB5T6/jVQCh7LjPvsqNwFQ2eE+n+pwKeQv4D6h50TqL2LdPkshCxSxsNo++GV3CjJD2D5OLKxnhBLWPoLUdsZIGNQ+Hz2CAdZO0j4tYFSUI7HQPvusM2Ztdc4+CPCIeiPPyz4VJJ93S2jJPhZ71k2LOsc+SWZUcDZAxT4R1Z4sOnTDPssObV0M0sE+mkBuLJxVwD5PXNVBEXa8PuB6zsnenLg+BjbBsjEXtT5kHYGSbt2xPgMSF2Fv0a0+MnwRsLJlqD74frWocGyjPuBOvF4Jt50+7EnOS4BTlT7Fbp5rRjuLPgdvgwZ1GXo+AAAAAAAA+H8=",
          "dtype": "f8"
         },
         "yaxis": "y7"
        },
        {
         "hovertemplate": "variable=p_12m_forward<br>risk_band=3<br>default_month=%{x}<br>value=%{y}<extra></extra>",
         "legendgroup": "p_12m_forward",
         "line": {
          "color": "#D62728",
          "dash": "solid"
         },
         "marker": {
          "symbol": "circle"
         },
         "mode": "lines",
         "name": "p_12m_forward",
         "showlegend": false,
         "type": "scattergl",
         "x": {
          "bdata": "AAECAwQFBgcICQoLDA0ODxAREhMUFRYXGBkaGxwdHh8gISIjJCUmJygpKissLS4vMDEyMzQ1Njc4OTo7PD0+P0BBQkNERUZHSElKS0xNTk9QUVJTVFVWV1hZWltcXV5fYGFiYw==",
          "dtype": "i1"
         },
         "xaxis": "x8",
         "y": {
          "bdata": "ChoWVR501D/rggoiKQ7UP3vPf7lRWNE/qZC5yNFcyz92u81ripHEP3b9pnI0PL4/H6JFmrkHtj8Cga4HNQiwPyGtrcqTZqc/zykrXzwqoT+mDgAyBleZP3LrluQS1ZI/Aw1oyJQwjD/K8BQQYz+FP6D+WHVYIIA/AC5lf+ykeD+aHE0WD/RyP0ihGW75VW0/EZiO/NHWZj/jghWlIOJhP9WkO1rPKFw/qQEH+1ZJVj9njmx9EbpRP4uHEHvQVUw/P/6OZ/G/Rj9YTjvebFhCPxfw18gttj0/fx/pJCAoOD9L36AsUrczPxgwevC5JjA/1AYVzlOOKj8RkKbP++clPy7YE4Q9ISI/wQQRDI8aHj8Ey6dypBEZPyH2eQL17xQ/Jm7BED2JET8pIrc3cXQNPzPtuzVozQg/scauzxrwBD/OnpNGFLgBP30DUDS+D/4+AwcP2DKP+T7v4vhOrsf1Pj4C1e6AmfI+EZd1uXzV7z4TjAZ3Q0zrPsfUm8lWdOc+45fT19cw5D7JgpLK5WnhPnkVyRZoF94+fqRWJpsL2j66TIJR+JTWPnI7k72YnNM+D0phQ1EP0T5+fbRQG7rNPvNnAJOT8Mk+VV87AUarxj5yMnRh+tbDPq166pxvY8E+g0m7wr+Fvj4e/DsgNNO6PqgJnEJZm7c+HvS+uD3NtD6Y1A+5a1qyPvAnk6CGNrA+EUztEPGtrD4tqqteWmWpPiPrBeWvg6Y+ESuz9YX7oz6T/kEpTMGhPv6BK7oPlp8+Tp19zzIgnD7UejOPFBKZPvVz+LXFXpY+7n1m3gz7kz57i11NKd2RPtCUp4M9+Y8+8KQkxhGkjD7syWxE6q2JPhP7xyeEC4c+zWYu3gazhD60M7L+05uCPjNp5ehdvoA+qX7/Qwgofj4EwA8z6S17PoVt+D8ihHg+Zkrt6rAhdj6AI1iTdRVzPm7KgX3yVnA+CU3nr8i7az6v4fLS7UVnPonGguBQP2M+fzovfsI4Xz5fPmYCq6VYPjT2DTMKs1I+VEjSKhuhSj6DiAfUTN9APrp+bs9XDTA+AAAAAAAA+H8=",
          "dtype": "f8"
         },
         "yaxis": "y8"
        },
        {
         "hovertemplate": "variable=p_12m_forward<br>risk_band=2<br>default_month=%{x}<br>value=%{y}<extra></extra>",
         "legendgroup": "p_12m_forward",
         "line": {
          "color": "#D62728",
          "dash": "solid"
         },
         "marker": {
          "symbol": "circle"
         },
         "mode": "lines",
         "name": "p_12m_forward",
         "showlegend": false,
         "type": "scattergl",
         "x": {
          "bdata": "AAECAwQFBgcICQoLDA0ODxAREhMUFRYXGBkaGxwdHh8gISIjJCUmJygpKissLS4vMDEyMzQ1Njc4OTo7PD0+P0BBQkNERUZHSElKS0xNTk9QUVJTVFVWV1hZWltcXV5fYGFiYw==",
          "dtype": "i1"
         },
         "xaxis": "x",
         "y": {
          "bdata": "l929QpDG3T8+bkmeqejYP/yDxjODStA/2q73Qj+owz9cVLc9HVm3P0gQ4OtX8qs/gLazddj/oD+U9rArsROVP3929oZVpIo/BTBdwaongT9YdFt89nt2P5dTiuDU9G0/hjT1FRZDZD82jUuqr8xbP0hm0e1aUlM/1/kLN88vSz9t3f45BlhDP0yzxppl0Ts/smspuRAzND9/a7Ei/ZotP7DQRN0R4iU/hE8pp2ZOID9fU7jxmnwYP/AqyzSPhBI/Vr76FasyDD+c6BNJZZsFP60v7hxKqAA/moJqmtnU+T7gBSk0kiP0Pqjv4oXWkO8+OopR9XTc6D7s1lfJbqzjPtZOT/wuR98+/viJGrr42D4B+uyf+wTUPlfzSTcAHdA+G7bgW6EJyj4DsbO/SB3FPpzSMaCzLsE+XpHH7msPvD6AeFVltPy2PrVWzgb347I+OV8Z6WIkrz42HsClvr6pPgi6n0P4V6U+njoUyTm+oT6iTOBI75OdPk+Yn2Fot5g+hk8RfIu0lD4ncLn3/2KRPumbN5ylRI0+uP8VUKywiD6cRS3itd+EPpfmTCBgr4E+YpBF5V4Hfj4sYIawm4t5PouA9r4XxnU+qq0L0iqYcj7SlbrSPNFvPjmwMptSRWs+JJcwWjxqZz44hYSfhSNkPuMGyUyPWWE+nDKd32TxXT4He+gqGeFZPoIQV+PaZlY+SslCyL5rUz74wGphi9xQPs3r/i4xUk0+kcy2rpeHST7vJdXeVkJGPgrUbL4Jb0M+AHnnR0X9QD6qjknWOr49PnAH5Lt9ETo+9RjJIjTgNj71iyWTOBk0PrCCvsTorTE+QRsw+YQjLz4apsbjIHQrPjg0/AdJOyg+ObvVCzppJT6RoWyPZvAiPl2rHLAjxSA+6DBR7cS6HT6JkOIx6GAaPtwzsaSubRc+J4XvwBrUFD6OkeMy7sQRPowyaMR/HQ4+1kVQLqtNCT4V4G8mpgcFPpR1ix8WOwE+PKBKfVuz+z0TUprXzq31PclaBBGTT/A9YI8ckMsK5z1H5FbmcfncPTbXZ8G8XMs9AAAAAAAA+H8=",
          "dtype": "f8"
         },
         "yaxis": "y"
        },
        {
         "hovertemplate": "variable=p_12m_forward<br>risk_band=1<br>default_month=%{x}<br>value=%{y}<extra></extra>",
         "legendgroup": "p_12m_forward",
         "line": {
          "color": "#D62728",
          "dash": "solid"
         },
         "marker": {
          "symbol": "circle"
         },
         "mode": "lines",
         "name": "p_12m_forward",
         "showlegend": false,
         "type": "scattergl",
         "x": {
          "bdata": "AAECAwQFBgcICQoLDA0ODxAREhMUFRYXGBkaGxwdHh8gISIjJCUmJygpKissLS4vMDEyMzQ1Njc4OTo7PD0+P0BBQkNERUZHSElKS0xNTk9QUVJTVFVWV1hZWltcXV5fYGFiYw==",
          "dtype": "i1"
         },
         "xaxis": "x2",
         "y": {
          "bdata": "lcfF8R494z+bXGvGPMnUP090hsjHzME/vY0IHs2drj8dcYyzKpubPwgDeXgHPIo/Vxgz5HAvej9kjQ9bBE9rP16JVKUzm10/nV6cG5ObUD8atyCF3jRDPzwlydwf0jY/5C9kEazHKz/clDZBAkghPyLotTbs7RU/t+yajwRVDD/E8d8X5JoCPzajDbJPzvg+MfCkN4/E8D4b6/kLIvbmPiofokK90d8+Rm80j+RK1j5crYqpgY/PPuAjkHTKjsY+JFjvyhJFwD4yahIigqu3PvSd8kBMW7E+7V/g8dilqT5qu4dsAhajPmifxPVbmZw+MbB8Y6yQlT67QvCUYVyQPnj/5ipH+Ig+Vr/OJwcpgz5x1EchhI99PgoZfa0r63Y+4LP7VefacT7dzxyvE/NrPgN6DNf++GU+5Jn5DvhYYT4VQRXWDoFbPgnv7rCw41U+VV5J66J8UT5g2/LemwpMPmJVlEbvj0Y+3wniyxY3Qj7GPRSP8IE9Pl4S4Q/P+Tc+C6MYk2OKMz510Vd9GfIvPpXlNrULMCo+IVVpweSGJT658CYbPr4hPhUCd0ssUx0+QfV4VV9LGD4xbT76GC0UPu4Bv+27yxA+3syRXT0HDD6tF8HBU3AHPtVvZcnApAM+9395+nF/AD4B5gVG3MT7PaE6zMHRavc9fT7tDkXJ8z2hAMZqB8DwPZ3nLN2eaew9mQWm4S4k6D2dkRzsa4zkPQTf/x5IheE9RoEeoaDt3T30yUM1d5rZPfBOM0dS8NU9B7o5ugXU0j1HHxzH+y7QPa29UrLK3Ms9MjWbjSEFyD0/OUAFv7zEPWzsfLmp7cE9W+1LYeQKvz1Dq3sdNOm6PR/y83EsXLc98mZh5s1NtD04Nzrug6uxPXbBWR0ty649cuOUbmjdqj1KqT4HH3enPdBMrcwahaQ9dg9XxAH3oT3A2DsAllCeParpzo9Vapk9LVbLQaEilT3PleLoU2SRPfM5Rpd/Oow9jNk1uX17hj2k3EZUqHCBPWpbAARvBXo94l/4zho7cj3TMrbWCr9mPWsnZisjUlU9AAAAAAAA+H8=",
          "dtype": "f8"
         },
         "yaxis": "y2"
        }
       ],
       "layout": {
        "annotations": [
         {
          "font": {},
          "showarrow": false,
          "text": "risk_band=2",
          "x": 0.1175,
          "xanchor": "center",
          "xref": "paper",
          "y": 0.2866666666666666,
          "yanchor": "bottom",
          "yref": "paper"
         },
         {
          "font": {},
          "showarrow": false,
          "text": "risk_band=1",
          "x": 0.3725,
          "xanchor": "center",
          "xref": "paper",
          "y": 0.2866666666666666,
          "yanchor": "bottom",
          "yref": "paper"
         },
         {
          "font": {},
          "showarrow": false,
          "text": "risk_band=6",
          "x": 0.1175,
          "xanchor": "center",
          "xref": "paper",
          "y": 0.6433333333333333,
          "yanchor": "bottom",
          "yref": "paper"
         },
         {
          "font": {},
          "showarrow": false,
          "text": "risk_band=5",
          "x": 0.3725,
          "xanchor": "center",
          "xref": "paper",
          "y": 0.6433333333333333,
          "yanchor": "bottom",
          "yref": "paper"
         },
         {
          "font": {},
          "showarrow": false,
          "text": "risk_band=4",
          "x": 0.6275,
          "xanchor": "center",
          "xref": "paper",
          "y": 0.6433333333333333,
          "yanchor": "bottom",
          "yref": "paper"
         },
         {
          "font": {},
          "showarrow": false,
          "text": "risk_band=3",
          "x": 0.8824999999999998,
          "xanchor": "center",
          "xref": "paper",
          "y": 0.6433333333333333,
          "yanchor": "bottom",
          "yref": "paper"
         },
         {
          "font": {},
          "showarrow": false,
          "text": "risk_band=10",
          "x": 0.1175,
          "xanchor": "center",
          "xref": "paper",
          "y": 0.9999999999999999,
          "yanchor": "bottom",
          "yref": "paper"
         },
         {
          "font": {},
          "showarrow": false,
          "text": "risk_band=9",
          "x": 0.3725,
          "xanchor": "center",
          "xref": "paper",
          "y": 0.9999999999999999,
          "yanchor": "bottom",
          "yref": "paper"
         },
         {
          "font": {},
          "showarrow": false,
          "text": "risk_band=8",
          "x": 0.6275,
          "xanchor": "center",
          "xref": "paper",
          "y": 0.9999999999999999,
          "yanchor": "bottom",
          "yref": "paper"
         },
         {
          "font": {},
          "showarrow": false,
          "text": "risk_band=7",
          "x": 0.8824999999999998,
          "xanchor": "center",
          "xref": "paper",
          "y": 0.9999999999999999,
          "yanchor": "bottom",
          "yref": "paper"
         }
        ],
        "legend": {
         "title": {
          "text": "variable"
         },
         "tracegroupgap": 0
        },
        "margin": {
         "t": 60
        },
        "template": {
         "data": {
          "scatter": [
           {
            "type": "scatter"
           }
          ]
         }
        },
        "width": 1000,
        "xaxis": {
         "anchor": "y",
         "domain": [
          0,
          0.235
         ],
         "title": {
          "text": "default_month"
         }
        },
        "xaxis10": {
         "anchor": "y10",
         "domain": [
          0.255,
          0.49
         ],
         "matches": "x",
         "showticklabels": false
        },
        "xaxis11": {
         "anchor": "y11",
         "domain": [
          0.51,
          0.745
         ],
         "matches": "x",
         "showticklabels": false
        },
        "xaxis12": {
         "anchor": "y12",
         "domain": [
          0.7649999999999999,
          0.9999999999999999
         ],
         "matches": "x",
         "showticklabels": false
        },
        "xaxis2": {
         "anchor": "y2",
         "domain": [
          0.255,
          0.49
         ],
         "matches": "x",
         "title": {
          "text": "default_month"
         }
        },
        "xaxis3": {
         "anchor": "y3",
         "domain": [
          0.51,
          0.745
         ],
         "matches": "x",
         "title": {
          "text": "default_month"
         }
        },
        "xaxis4": {
         "anchor": "y4",
         "domain": [
          0.7649999999999999,
          0.9999999999999999
         ],
         "matches": "x",
         "title": {
          "text": "default_month"
         }
        },
        "xaxis5": {
         "anchor": "y5",
         "domain": [
          0,
          0.235
         ],
         "matches": "x",
         "showticklabels": false
        },
        "xaxis6": {
         "anchor": "y6",
         "domain": [
          0.255,
          0.49
         ],
         "matches": "x",
         "showticklabels": false
        },
        "xaxis7": {
         "anchor": "y7",
         "domain": [
          0.51,
          0.745
         ],
         "matches": "x",
         "showticklabels": false
        },
        "xaxis8": {
         "anchor": "y8",
         "domain": [
          0.7649999999999999,
          0.9999999999999999
         ],
         "matches": "x",
         "showticklabels": false
        },
        "xaxis9": {
         "anchor": "y9",
         "domain": [
          0,
          0.235
         ],
         "matches": "x",
         "showticklabels": false
        },
        "yaxis": {
         "anchor": "x",
         "domain": [
          0,
          0.2866666666666666
         ],
         "showticklabels": true,
         "title": {
          "text": "value"
         }
        },
        "yaxis10": {
         "anchor": "x10",
         "domain": [
          0.7133333333333333,
          0.9999999999999999
         ],
         "showticklabels": true
        },
        "yaxis11": {
         "anchor": "x11",
         "domain": [
          0.7133333333333333,
          0.9999999999999999
         ],
         "showticklabels": true
        },
        "yaxis12": {
         "anchor": "x12",
         "domain": [
          0.7133333333333333,
          0.9999999999999999
         ],
         "showticklabels": true
        },
        "yaxis2": {
         "anchor": "x2",
         "domain": [
          0,
          0.2866666666666666
         ],
         "showticklabels": true
        },
        "yaxis3": {
         "anchor": "x3",
         "domain": [
          0,
          0.2866666666666666
         ],
         "showticklabels": true
        },
        "yaxis4": {
         "anchor": "x4",
         "domain": [
          0,
          0.2866666666666666
         ],
         "showticklabels": true
        },
        "yaxis5": {
         "anchor": "x5",
         "domain": [
          0.35666666666666663,
          0.6433333333333333
         ],
         "showticklabels": true,
         "title": {
          "text": "value"
         }
        },
        "yaxis6": {
         "anchor": "x6",
         "domain": [
          0.35666666666666663,
          0.6433333333333333
         ],
         "showticklabels": true
        },
        "yaxis7": {
         "anchor": "x7",
         "domain": [
          0.35666666666666663,
          0.6433333333333333
         ],
         "showticklabels": true
        },
        "yaxis8": {
         "anchor": "x8",
         "domain": [
          0.35666666666666663,
          0.6433333333333333
         ],
         "showticklabels": true
        },
        "yaxis9": {
         "anchor": "x9",
         "domain": [
          0.7133333333333333,
          0.9999999999999999
         ],
         "showticklabels": true,
         "title": {
          "text": "value"
         }
        }
       }
      }
     },
     "metadata": {},
     "output_type": "display_data"
    }
   ],
   "source": [
    "data_chart = data.melt(id_vars=['default_month', 'risk_band'])\n",
    "\n",
    "fig = px.line(\n",
    "    data_chart,\n",
    "    x='default_month',\n",
    "    y='value',\n",
    "    facet_col='risk_band',\n",
    "    facet_col_wrap=4,\n",
    "    color='variable',\n",
    "    template = 'none',\n",
    "    width=1000\n",
    ")\n",
    "fig.update_yaxes(matches=None, showticklabels=True)\n",
    "# Image(fig.to_image(\"png\"))\n",
    "fig"
   ]
  },
  {
   "cell_type": "code",
   "execution_count": 69,
   "id": "2f134c43",
   "metadata": {},
   "outputs": [
    {
     "name": "stderr",
     "output_type": "stream",
     "text": [
      "/tmp/ipykernel_295199/3937478368.py:31: PerformanceWarning:\n",
      "\n",
      "Adding/subtracting object-dtype array to DatetimeArray not vectorized.\n",
      "\n",
      "/tmp/ipykernel_295199/3937478368.py:52: FutureWarning:\n",
      "\n",
      "Downcasting object dtype arrays on .fillna, .ffill, .bfill is deprecated and will change in a future version. Call result.infer_objects(copy=False) instead. To opt-in to the future behavior, set `pd.set_option('future.no_silent_downcasting', True)`\n",
      "\n"
     ]
    },
    {
     "data": {
      "text/html": [
       "<div>\n",
       "<style scoped>\n",
       "    .dataframe tbody tr th:only-of-type {\n",
       "        vertical-align: middle;\n",
       "    }\n",
       "\n",
       "    .dataframe tbody tr th {\n",
       "        vertical-align: top;\n",
       "    }\n",
       "\n",
       "    .dataframe thead th {\n",
       "        text-align: right;\n",
       "    }\n",
       "</style>\n",
       "<table border=\"1\" class=\"dataframe\">\n",
       "  <thead>\n",
       "    <tr style=\"text-align: right;\">\n",
       "      <th></th>\n",
       "      <th>date</th>\n",
       "      <th>id</th>\n",
       "      <th>default_month</th>\n",
       "      <th>created_date</th>\n",
       "      <th>risk_band</th>\n",
       "      <th>tenure</th>\n",
       "      <th>p</th>\n",
       "      <th>cum_p</th>\n",
       "      <th>pd_lifetime</th>\n",
       "      <th>p_12m_forward</th>\n",
       "      <th>...</th>\n",
       "      <th>late_start_date</th>\n",
       "      <th>days_late</th>\n",
       "      <th>days_late_last_month</th>\n",
       "      <th>prob_rr</th>\n",
       "      <th>rgn</th>\n",
       "      <th>is_default</th>\n",
       "      <th>n_late_status</th>\n",
       "      <th>default_date</th>\n",
       "      <th>default_flag</th>\n",
       "      <th>cum_defaults</th>\n",
       "    </tr>\n",
       "  </thead>\n",
       "  <tbody>\n",
       "    <tr>\n",
       "      <th>0</th>\n",
       "      <td>2025-01-31</td>\n",
       "      <td>50</td>\n",
       "      <td>1</td>\n",
       "      <td>2025-01-31</td>\n",
       "      <td>7</td>\n",
       "      <td>0</td>\n",
       "      <td>0.000000e+00</td>\n",
       "      <td>0.0</td>\n",
       "      <td>6.682500e-02</td>\n",
       "      <td>0.003604</td>\n",
       "      <td>...</td>\n",
       "      <td>NaT</td>\n",
       "      <td>0</td>\n",
       "      <td>NaN</td>\n",
       "      <td>1.0</td>\n",
       "      <td>1</td>\n",
       "      <td>0</td>\n",
       "      <td>0</td>\n",
       "      <td>NaT</td>\n",
       "      <td>0</td>\n",
       "      <td>0</td>\n",
       "    </tr>\n",
       "    <tr>\n",
       "      <th>1</th>\n",
       "      <td>2025-01-31</td>\n",
       "      <td>50</td>\n",
       "      <td>2</td>\n",
       "      <td>2025-01-31</td>\n",
       "      <td>7</td>\n",
       "      <td>0</td>\n",
       "      <td>0.000000e+00</td>\n",
       "      <td>0.0</td>\n",
       "      <td>6.682500e-02</td>\n",
       "      <td>0.003604</td>\n",
       "      <td>...</td>\n",
       "      <td>NaT</td>\n",
       "      <td>0</td>\n",
       "      <td>NaN</td>\n",
       "      <td>1.0</td>\n",
       "      <td>1</td>\n",
       "      <td>0</td>\n",
       "      <td>0</td>\n",
       "      <td>NaT</td>\n",
       "      <td>0</td>\n",
       "      <td>0</td>\n",
       "    </tr>\n",
       "    <tr>\n",
       "      <th>2</th>\n",
       "      <td>2025-01-31</td>\n",
       "      <td>50</td>\n",
       "      <td>3</td>\n",
       "      <td>2025-01-31</td>\n",
       "      <td>7</td>\n",
       "      <td>0</td>\n",
       "      <td>0.000000e+00</td>\n",
       "      <td>0.0</td>\n",
       "      <td>6.682500e-02</td>\n",
       "      <td>0.003604</td>\n",
       "      <td>...</td>\n",
       "      <td>NaT</td>\n",
       "      <td>0</td>\n",
       "      <td>NaN</td>\n",
       "      <td>1.0</td>\n",
       "      <td>1</td>\n",
       "      <td>0</td>\n",
       "      <td>0</td>\n",
       "      <td>NaT</td>\n",
       "      <td>0</td>\n",
       "      <td>0</td>\n",
       "    </tr>\n",
       "    <tr>\n",
       "      <th>3</th>\n",
       "      <td>2025-01-31</td>\n",
       "      <td>50</td>\n",
       "      <td>4</td>\n",
       "      <td>2025-01-31</td>\n",
       "      <td>7</td>\n",
       "      <td>0</td>\n",
       "      <td>0.000000e+00</td>\n",
       "      <td>0.0</td>\n",
       "      <td>6.682500e-02</td>\n",
       "      <td>0.003604</td>\n",
       "      <td>...</td>\n",
       "      <td>NaT</td>\n",
       "      <td>0</td>\n",
       "      <td>NaN</td>\n",
       "      <td>1.0</td>\n",
       "      <td>1</td>\n",
       "      <td>0</td>\n",
       "      <td>0</td>\n",
       "      <td>NaT</td>\n",
       "      <td>0</td>\n",
       "      <td>0</td>\n",
       "    </tr>\n",
       "    <tr>\n",
       "      <th>4</th>\n",
       "      <td>2025-01-31</td>\n",
       "      <td>50</td>\n",
       "      <td>5</td>\n",
       "      <td>2025-01-31</td>\n",
       "      <td>7</td>\n",
       "      <td>0</td>\n",
       "      <td>0.000000e+00</td>\n",
       "      <td>0.0</td>\n",
       "      <td>6.682500e-02</td>\n",
       "      <td>0.003604</td>\n",
       "      <td>...</td>\n",
       "      <td>NaT</td>\n",
       "      <td>0</td>\n",
       "      <td>NaN</td>\n",
       "      <td>1.0</td>\n",
       "      <td>1</td>\n",
       "      <td>0</td>\n",
       "      <td>0</td>\n",
       "      <td>NaT</td>\n",
       "      <td>0</td>\n",
       "      <td>0</td>\n",
       "    </tr>\n",
       "    <tr>\n",
       "      <th>...</th>\n",
       "      <td>...</td>\n",
       "      <td>...</td>\n",
       "      <td>...</td>\n",
       "      <td>...</td>\n",
       "      <td>...</td>\n",
       "      <td>...</td>\n",
       "      <td>...</td>\n",
       "      <td>...</td>\n",
       "      <td>...</td>\n",
       "      <td>...</td>\n",
       "      <td>...</td>\n",
       "      <td>...</td>\n",
       "      <td>...</td>\n",
       "      <td>...</td>\n",
       "      <td>...</td>\n",
       "      <td>...</td>\n",
       "      <td>...</td>\n",
       "      <td>...</td>\n",
       "      <td>...</td>\n",
       "      <td>...</td>\n",
       "      <td>...</td>\n",
       "    </tr>\n",
       "    <tr>\n",
       "      <th>19580515</th>\n",
       "      <td>2035-03-31</td>\n",
       "      <td>9927</td>\n",
       "      <td>20</td>\n",
       "      <td>2026-12-31</td>\n",
       "      <td>3</td>\n",
       "      <td>99</td>\n",
       "      <td>5.592856e-09</td>\n",
       "      <td>0.5</td>\n",
       "      <td>7.419065e-17</td>\n",
       "      <td>NaN</td>\n",
       "      <td>...</td>\n",
       "      <td>2027-04-30</td>\n",
       "      <td>0</td>\n",
       "      <td>None</td>\n",
       "      <td>1.0</td>\n",
       "      <td>1</td>\n",
       "      <td>0</td>\n",
       "      <td>1</td>\n",
       "      <td>NaT</td>\n",
       "      <td>0</td>\n",
       "      <td>0</td>\n",
       "    </tr>\n",
       "    <tr>\n",
       "      <th>19580516</th>\n",
       "      <td>2035-03-31</td>\n",
       "      <td>9927</td>\n",
       "      <td>21</td>\n",
       "      <td>2026-12-31</td>\n",
       "      <td>3</td>\n",
       "      <td>99</td>\n",
       "      <td>5.592856e-09</td>\n",
       "      <td>0.5</td>\n",
       "      <td>7.419065e-17</td>\n",
       "      <td>NaN</td>\n",
       "      <td>...</td>\n",
       "      <td>2027-04-30</td>\n",
       "      <td>0</td>\n",
       "      <td>None</td>\n",
       "      <td>1.0</td>\n",
       "      <td>1</td>\n",
       "      <td>0</td>\n",
       "      <td>1</td>\n",
       "      <td>NaT</td>\n",
       "      <td>0</td>\n",
       "      <td>0</td>\n",
       "    </tr>\n",
       "    <tr>\n",
       "      <th>19580517</th>\n",
       "      <td>2035-03-31</td>\n",
       "      <td>9927</td>\n",
       "      <td>22</td>\n",
       "      <td>2026-12-31</td>\n",
       "      <td>3</td>\n",
       "      <td>99</td>\n",
       "      <td>5.592856e-09</td>\n",
       "      <td>0.5</td>\n",
       "      <td>7.419065e-17</td>\n",
       "      <td>NaN</td>\n",
       "      <td>...</td>\n",
       "      <td>2027-04-30</td>\n",
       "      <td>0</td>\n",
       "      <td>None</td>\n",
       "      <td>1.0</td>\n",
       "      <td>1</td>\n",
       "      <td>0</td>\n",
       "      <td>1</td>\n",
       "      <td>NaT</td>\n",
       "      <td>0</td>\n",
       "      <td>0</td>\n",
       "    </tr>\n",
       "    <tr>\n",
       "      <th>19580518</th>\n",
       "      <td>2035-03-31</td>\n",
       "      <td>9927</td>\n",
       "      <td>23</td>\n",
       "      <td>2026-12-31</td>\n",
       "      <td>3</td>\n",
       "      <td>99</td>\n",
       "      <td>5.592856e-09</td>\n",
       "      <td>0.5</td>\n",
       "      <td>7.419065e-17</td>\n",
       "      <td>NaN</td>\n",
       "      <td>...</td>\n",
       "      <td>2027-04-30</td>\n",
       "      <td>0</td>\n",
       "      <td>None</td>\n",
       "      <td>1.0</td>\n",
       "      <td>1</td>\n",
       "      <td>0</td>\n",
       "      <td>1</td>\n",
       "      <td>NaT</td>\n",
       "      <td>0</td>\n",
       "      <td>0</td>\n",
       "    </tr>\n",
       "    <tr>\n",
       "      <th>19580519</th>\n",
       "      <td>2035-03-31</td>\n",
       "      <td>9927</td>\n",
       "      <td>24</td>\n",
       "      <td>2026-12-31</td>\n",
       "      <td>3</td>\n",
       "      <td>99</td>\n",
       "      <td>5.592856e-09</td>\n",
       "      <td>0.5</td>\n",
       "      <td>7.419065e-17</td>\n",
       "      <td>NaN</td>\n",
       "      <td>...</td>\n",
       "      <td>2027-04-30</td>\n",
       "      <td>0</td>\n",
       "      <td>None</td>\n",
       "      <td>1.0</td>\n",
       "      <td>1</td>\n",
       "      <td>0</td>\n",
       "      <td>1</td>\n",
       "      <td>NaT</td>\n",
       "      <td>0</td>\n",
       "      <td>0</td>\n",
       "    </tr>\n",
       "  </tbody>\n",
       "</table>\n",
       "<p>19580520 rows × 21 columns</p>\n",
       "</div>"
      ],
      "text/plain": [
       "               date    id  default_month created_date  risk_band  tenure  \\\n",
       "0        2025-01-31    50              1   2025-01-31          7       0   \n",
       "1        2025-01-31    50              2   2025-01-31          7       0   \n",
       "2        2025-01-31    50              3   2025-01-31          7       0   \n",
       "3        2025-01-31    50              4   2025-01-31          7       0   \n",
       "4        2025-01-31    50              5   2025-01-31          7       0   \n",
       "...             ...   ...            ...          ...        ...     ...   \n",
       "19580515 2035-03-31  9927             20   2026-12-31          3      99   \n",
       "19580516 2035-03-31  9927             21   2026-12-31          3      99   \n",
       "19580517 2035-03-31  9927             22   2026-12-31          3      99   \n",
       "19580518 2035-03-31  9927             23   2026-12-31          3      99   \n",
       "19580519 2035-03-31  9927             24   2026-12-31          3      99   \n",
       "\n",
       "                     p  cum_p   pd_lifetime  p_12m_forward  ...  \\\n",
       "0         0.000000e+00    0.0  6.682500e-02       0.003604  ...   \n",
       "1         0.000000e+00    0.0  6.682500e-02       0.003604  ...   \n",
       "2         0.000000e+00    0.0  6.682500e-02       0.003604  ...   \n",
       "3         0.000000e+00    0.0  6.682500e-02       0.003604  ...   \n",
       "4         0.000000e+00    0.0  6.682500e-02       0.003604  ...   \n",
       "...                ...    ...           ...            ...  ...   \n",
       "19580515  5.592856e-09    0.5  7.419065e-17            NaN  ...   \n",
       "19580516  5.592856e-09    0.5  7.419065e-17            NaN  ...   \n",
       "19580517  5.592856e-09    0.5  7.419065e-17            NaN  ...   \n",
       "19580518  5.592856e-09    0.5  7.419065e-17            NaN  ...   \n",
       "19580519  5.592856e-09    0.5  7.419065e-17            NaN  ...   \n",
       "\n",
       "          late_start_date days_late  days_late_last_month prob_rr  rgn  \\\n",
       "0                     NaT         0                   NaN     1.0    1   \n",
       "1                     NaT         0                   NaN     1.0    1   \n",
       "2                     NaT         0                   NaN     1.0    1   \n",
       "3                     NaT         0                   NaN     1.0    1   \n",
       "4                     NaT         0                   NaN     1.0    1   \n",
       "...                   ...       ...                   ...     ...  ...   \n",
       "19580515       2027-04-30         0                  None     1.0    1   \n",
       "19580516       2027-04-30         0                  None     1.0    1   \n",
       "19580517       2027-04-30         0                  None     1.0    1   \n",
       "19580518       2027-04-30         0                  None     1.0    1   \n",
       "19580519       2027-04-30         0                  None     1.0    1   \n",
       "\n",
       "          is_default  n_late_status  default_date default_flag  cum_defaults  \n",
       "0                  0              0           NaT            0             0  \n",
       "1                  0              0           NaT            0             0  \n",
       "2                  0              0           NaT            0             0  \n",
       "3                  0              0           NaT            0             0  \n",
       "4                  0              0           NaT            0             0  \n",
       "...              ...            ...           ...          ...           ...  \n",
       "19580515           0              1           NaT            0             0  \n",
       "19580516           0              1           NaT            0             0  \n",
       "19580517           0              1           NaT            0             0  \n",
       "19580518           0              1           NaT            0             0  \n",
       "19580519           0              1           NaT            0             0  \n",
       "\n",
       "[19580520 rows x 21 columns]"
      ]
     },
     "execution_count": 69,
     "metadata": {},
     "output_type": "execute_result"
    }
   ],
   "source": [
    "start_date = \"2025-01-31\"\n",
    "n_months = 24\n",
    "n_sample = 10000\n",
    "risk_scores_dist = {\n",
    "    10 : 0.025,\n",
    "     9 : 0.05,\n",
    "     8 : 0.055,\n",
    "     7 : 0.07,\n",
    "     6 : 0.10,\n",
    "     5 : 0.10,\n",
    "     4 : 0.15,\n",
    "     3 : 0.20,\n",
    "     2 : 0.15,\n",
    "     1 : 0.10\n",
    "}\n",
    "\n",
    "def generate_origination_sample(start_date: str,\n",
    "                                n_months: int, \n",
    "                                n_sample: int,\n",
    "                                risk_scores_dist: dict):\n",
    "    id_list = range(1, n_sample+1)\n",
    "    df_sample = pd.DataFrame(id_list, columns=['id'])\n",
    "    df_sample['create_date_aux'] = np.random.randint(0,n_months, size=n_sample)\n",
    "    df_sample['created_date'] = pd.to_datetime(pd.to_datetime(start_date) + df_sample['create_date_aux'].apply(lambda x : pd.offsets.MonthEnd(x)))\n",
    "    df_sample['risk_band'] = np.random.choice(list(risk_scores_dist.keys()), size=n_sample, p=list(risk_scores_dist.values()))\n",
    "    df_sample = df_sample.drop(\"create_date_aux\", axis=\"columns\")\n",
    "    return df_sample\n",
    "\n",
    "def withRiskCurves(df: pd.DataFrame, risk_curves: pd.DataFrame):\n",
    "    result= df.merge(risk_curves, on=['risk_band'], how='left')\n",
    "    result['date'] = pd.to_datetime(result['created_date'] + result['default_month'].apply(lambda x: pd.offsets.MonthEnd(int(x))))\n",
    "    result = result.rename({'default_month':'tenure'}, axis='columns')\n",
    "    return result\n",
    "\n",
    "def withDefaultsFromRiskCurves(df: pd.DataFrame, roll_rates: dict):\n",
    "    result = df.copy()\n",
    "    result = result.sort_values(['id', 'date'])\n",
    "    result['is_late'] = np.random.binomial(1, p=result['p'])\n",
    "    result['late_start_date'] = pd.to_datetime(np.where(result['is_late'] == 1, result['date'], None))\n",
    "    result['late_start_date'] = result.groupby('id')['late_start_date'].transform('min')\n",
    "    result['days_late'] = np.where(result['late_start_date'] == result['date'], 1, None)\n",
    "    for days_late_i, roll_rate_i in roll_rates.items():\n",
    "        result['days_late_last_month'] = result.groupby('id')['days_late'].transform('shift', 1)\n",
    "        result['prob_rr'] = roll_rate_i\n",
    "        result['rgn'] = np.random.binomial(1, p=result['prob_rr'])\n",
    "        result['days_late'] = np.where(result['days_late_last_month']==np.max([1, days_late_i-30]), \n",
    "                                       result['rgn'] *days_late_i, \n",
    "                                       result['days_late'])\n",
    "        if days_late_i != list(roll_rates.keys())[-1]:\n",
    "            result = result.drop(['days_late_last_month', 'rgn', 'prob_rr'], axis='columns')\n",
    "    result['days_late'] = result.groupby('id')['days_late'].transform('ffill')\n",
    "    result['days_late'] = result['days_late'].fillna(0)\n",
    "    result['is_default'] = np.where(result['days_late'] == 90, 1, 0)\n",
    "    result['n_late_status'] = result.groupby('id')['is_late'].transform('sum')\n",
    "    return result\n",
    "\n",
    "def withDefaultFlag(df: pd.DataFrame):\n",
    "    result = df.copy()\n",
    "    result['default_date_aux'] = pd.to_datetime(np.where(result['is_default']==1, result['date'], None))\n",
    "    result = result.sort_values(['id', 'date'])\n",
    "    result['default_date'] = result.groupby('id')['default_date_aux'].transform('min')\n",
    "    result = result.drop('default_date_aux', axis='columns')\n",
    "    result['default_month'] = pd.to_numeric(np.where(result['default_date'].isnull(), None,\n",
    "                                       (result['default_date'].dt.to_period('M').astype(int) \n",
    "                                        - result['date'].dt.to_period('M').astype(int))))\n",
    "    result['default_flag'] = np.where(result['default_month'].isnull(),0,1)\n",
    "    return result\n",
    "\n",
    "def filterAlreadyDefaulted(df: pd.DataFrame):\n",
    "    filter_df = (df['default_month']>0) | (df['default_month'].isnull())\n",
    "    result = df[filter_df]\n",
    "    return result\n",
    "\n",
    "def withCompleteDefaultMonths(df: pd.DataFrame, lifetime: int):\n",
    "    default_months = pd.DataFrame(range(1,lifetime+1), columns=['complete_default_months'])\n",
    "    id_df = df[['date', 'id']].drop_duplicates()\\\n",
    "                .merge(default_months, how='cross')\n",
    "    \n",
    "    result = id_df.merge(df, on=['date', 'id'], how='outer')\n",
    "    result['default_flag'] = np.where(result['default_month'] == result['complete_default_months'], 1, 0)\n",
    "    result = result\\\n",
    "                .drop('default_month', axis='columns')\\\n",
    "                .rename({'complete_default_months':'default_month'}, axis='columns')\n",
    "    result['cum_defaults'] = result.sort_values(['date', 'id']).groupby(['date', 'id'])['default_flag'].transform('cumsum')\n",
    "    return result\n",
    "\n",
    "df_sample = generate_origination_sample(start_date, n_months, n_sample, risk_scores_dist)\\\n",
    "                    .pipe(withRiskCurves, data)\\\n",
    "                    .pipe(withDefaultsFromRiskCurves, roll_rates)\\\n",
    "                    .pipe(withDefaultFlag)\\\n",
    "                    .pipe(filterAlreadyDefaulted)\\\n",
    "                    .pipe(withCompleteDefaultMonths, 24)\n",
    "df_sample\n",
    "\n"
   ]
  },
  {
   "cell_type": "code",
   "execution_count": 67,
   "id": "34fcdfa5",
   "metadata": {},
   "outputs": [
    {
     "data": {
      "text/html": [
       "<div>\n",
       "<style scoped>\n",
       "    .dataframe tbody tr th:only-of-type {\n",
       "        vertical-align: middle;\n",
       "    }\n",
       "\n",
       "    .dataframe tbody tr th {\n",
       "        vertical-align: top;\n",
       "    }\n",
       "\n",
       "    .dataframe thead th {\n",
       "        text-align: right;\n",
       "    }\n",
       "</style>\n",
       "<table border=\"1\" class=\"dataframe\">\n",
       "  <thead>\n",
       "    <tr style=\"text-align: right;\">\n",
       "      <th></th>\n",
       "      <th>id</th>\n",
       "      <th>created_date</th>\n",
       "      <th>risk_band</th>\n",
       "      <th>tenure</th>\n",
       "      <th>p</th>\n",
       "      <th>cum_p</th>\n",
       "      <th>pd_lifetime</th>\n",
       "      <th>p_12m_forward</th>\n",
       "      <th>date</th>\n",
       "      <th>is_late</th>\n",
       "      <th>late_start_date</th>\n",
       "      <th>days_late</th>\n",
       "      <th>days_late_last_month</th>\n",
       "      <th>prob_rr</th>\n",
       "      <th>rgn</th>\n",
       "      <th>is_default</th>\n",
       "      <th>n_late_status</th>\n",
       "      <th>default_date</th>\n",
       "      <th>default_month</th>\n",
       "      <th>default_flag</th>\n",
       "    </tr>\n",
       "  </thead>\n",
       "  <tbody>\n",
       "    <tr>\n",
       "      <th>2200</th>\n",
       "      <td>23</td>\n",
       "      <td>2025-01-31</td>\n",
       "      <td>9</td>\n",
       "      <td>0</td>\n",
       "      <td>0.000000e+00</td>\n",
       "      <td>0.000000e+00</td>\n",
       "      <td>1.336500e-02</td>\n",
       "      <td>1.172002e-05</td>\n",
       "      <td>2025-01-31</td>\n",
       "      <td>0</td>\n",
       "      <td>2029-12-31</td>\n",
       "      <td>0</td>\n",
       "      <td>NaN</td>\n",
       "      <td>1.0</td>\n",
       "      <td>1</td>\n",
       "      <td>0</td>\n",
       "      <td>1</td>\n",
       "      <td>2030-03-31</td>\n",
       "      <td>62.0</td>\n",
       "      <td>1</td>\n",
       "    </tr>\n",
       "    <tr>\n",
       "      <th>2201</th>\n",
       "      <td>23</td>\n",
       "      <td>2025-01-31</td>\n",
       "      <td>9</td>\n",
       "      <td>1</td>\n",
       "      <td>1.432904e-14</td>\n",
       "      <td>1.432904e-14</td>\n",
       "      <td>1.336500e-02</td>\n",
       "      <td>1.837520e-05</td>\n",
       "      <td>2025-02-28</td>\n",
       "      <td>0</td>\n",
       "      <td>2029-12-31</td>\n",
       "      <td>0</td>\n",
       "      <td>None</td>\n",
       "      <td>1.0</td>\n",
       "      <td>1</td>\n",
       "      <td>0</td>\n",
       "      <td>1</td>\n",
       "      <td>2030-03-31</td>\n",
       "      <td>61.0</td>\n",
       "      <td>1</td>\n",
       "    </tr>\n",
       "    <tr>\n",
       "      <th>2202</th>\n",
       "      <td>23</td>\n",
       "      <td>2025-01-31</td>\n",
       "      <td>9</td>\n",
       "      <td>2</td>\n",
       "      <td>2.129409e-11</td>\n",
       "      <td>2.130842e-11</td>\n",
       "      <td>1.336500e-02</td>\n",
       "      <td>2.750916e-05</td>\n",
       "      <td>2025-03-31</td>\n",
       "      <td>0</td>\n",
       "      <td>2029-12-31</td>\n",
       "      <td>0</td>\n",
       "      <td>None</td>\n",
       "      <td>1.0</td>\n",
       "      <td>1</td>\n",
       "      <td>0</td>\n",
       "      <td>1</td>\n",
       "      <td>2030-03-31</td>\n",
       "      <td>60.0</td>\n",
       "      <td>1</td>\n",
       "    </tr>\n",
       "    <tr>\n",
       "      <th>2203</th>\n",
       "      <td>23</td>\n",
       "      <td>2025-01-31</td>\n",
       "      <td>9</td>\n",
       "      <td>3</td>\n",
       "      <td>8.224241e-10</td>\n",
       "      <td>8.437325e-10</td>\n",
       "      <td>1.336500e-02</td>\n",
       "      <td>3.960661e-05</td>\n",
       "      <td>2025-04-30</td>\n",
       "      <td>0</td>\n",
       "      <td>2029-12-31</td>\n",
       "      <td>0</td>\n",
       "      <td>None</td>\n",
       "      <td>1.0</td>\n",
       "      <td>1</td>\n",
       "      <td>0</td>\n",
       "      <td>1</td>\n",
       "      <td>2030-03-31</td>\n",
       "      <td>59.0</td>\n",
       "      <td>1</td>\n",
       "    </tr>\n",
       "    <tr>\n",
       "      <th>2204</th>\n",
       "      <td>23</td>\n",
       "      <td>2025-01-31</td>\n",
       "      <td>9</td>\n",
       "      <td>4</td>\n",
       "      <td>8.330965e-09</td>\n",
       "      <td>9.174698e-09</td>\n",
       "      <td>1.336499e-02</td>\n",
       "      <td>5.514957e-05</td>\n",
       "      <td>2025-05-31</td>\n",
       "      <td>0</td>\n",
       "      <td>2029-12-31</td>\n",
       "      <td>0</td>\n",
       "      <td>None</td>\n",
       "      <td>1.0</td>\n",
       "      <td>1</td>\n",
       "      <td>0</td>\n",
       "      <td>1</td>\n",
       "      <td>2030-03-31</td>\n",
       "      <td>58.0</td>\n",
       "      <td>1</td>\n",
       "    </tr>\n",
       "    <tr>\n",
       "      <th>...</th>\n",
       "      <td>...</td>\n",
       "      <td>...</td>\n",
       "      <td>...</td>\n",
       "      <td>...</td>\n",
       "      <td>...</td>\n",
       "      <td>...</td>\n",
       "      <td>...</td>\n",
       "      <td>...</td>\n",
       "      <td>...</td>\n",
       "      <td>...</td>\n",
       "      <td>...</td>\n",
       "      <td>...</td>\n",
       "      <td>...</td>\n",
       "      <td>...</td>\n",
       "      <td>...</td>\n",
       "      <td>...</td>\n",
       "      <td>...</td>\n",
       "      <td>...</td>\n",
       "      <td>...</td>\n",
       "      <td>...</td>\n",
       "    </tr>\n",
       "    <tr>\n",
       "      <th>999695</th>\n",
       "      <td>9997</td>\n",
       "      <td>2026-10-31</td>\n",
       "      <td>2</td>\n",
       "      <td>95</td>\n",
       "      <td>1.168966e-10</td>\n",
       "      <td>7.000000e-01</td>\n",
       "      <td>2.373540e-10</td>\n",
       "      <td>2.373539e-10</td>\n",
       "      <td>2034-09-30</td>\n",
       "      <td>0</td>\n",
       "      <td>2027-02-28</td>\n",
       "      <td>390</td>\n",
       "      <td>None</td>\n",
       "      <td>1.0</td>\n",
       "      <td>1</td>\n",
       "      <td>0</td>\n",
       "      <td>1</td>\n",
       "      <td>2027-05-31</td>\n",
       "      <td>-88.0</td>\n",
       "      <td>1</td>\n",
       "    </tr>\n",
       "    <tr>\n",
       "      <th>999696</th>\n",
       "      <td>9997</td>\n",
       "      <td>2026-10-31</td>\n",
       "      <td>2</td>\n",
       "      <td>96</td>\n",
       "      <td>1.043024e-10</td>\n",
       "      <td>7.000000e-01</td>\n",
       "      <td>1.676539e-10</td>\n",
       "      <td>1.676538e-10</td>\n",
       "      <td>2034-10-31</td>\n",
       "      <td>0</td>\n",
       "      <td>2027-02-28</td>\n",
       "      <td>390</td>\n",
       "      <td>None</td>\n",
       "      <td>1.0</td>\n",
       "      <td>1</td>\n",
       "      <td>0</td>\n",
       "      <td>1</td>\n",
       "      <td>2027-05-31</td>\n",
       "      <td>-89.0</td>\n",
       "      <td>1</td>\n",
       "    </tr>\n",
       "    <tr>\n",
       "      <th>999697</th>\n",
       "      <td>9997</td>\n",
       "      <td>2026-10-31</td>\n",
       "      <td>2</td>\n",
       "      <td>97</td>\n",
       "      <td>9.314719e-11</td>\n",
       "      <td>7.000000e-01</td>\n",
       "      <td>1.054083e-10</td>\n",
       "      <td>1.054082e-10</td>\n",
       "      <td>2034-11-30</td>\n",
       "      <td>0</td>\n",
       "      <td>2027-02-28</td>\n",
       "      <td>390</td>\n",
       "      <td>None</td>\n",
       "      <td>1.0</td>\n",
       "      <td>1</td>\n",
       "      <td>0</td>\n",
       "      <td>1</td>\n",
       "      <td>2027-05-31</td>\n",
       "      <td>-90.0</td>\n",
       "      <td>1</td>\n",
       "    </tr>\n",
       "    <tr>\n",
       "      <th>999698</th>\n",
       "      <td>9997</td>\n",
       "      <td>2026-10-31</td>\n",
       "      <td>2</td>\n",
       "      <td>98</td>\n",
       "      <td>8.325713e-11</td>\n",
       "      <td>7.000000e-01</td>\n",
       "      <td>4.977169e-11</td>\n",
       "      <td>4.977165e-11</td>\n",
       "      <td>2034-12-31</td>\n",
       "      <td>0</td>\n",
       "      <td>2027-02-28</td>\n",
       "      <td>390</td>\n",
       "      <td>None</td>\n",
       "      <td>1.0</td>\n",
       "      <td>1</td>\n",
       "      <td>0</td>\n",
       "      <td>1</td>\n",
       "      <td>2027-05-31</td>\n",
       "      <td>-91.0</td>\n",
       "      <td>1</td>\n",
       "    </tr>\n",
       "    <tr>\n",
       "      <th>999699</th>\n",
       "      <td>9997</td>\n",
       "      <td>2026-10-31</td>\n",
       "      <td>2</td>\n",
       "      <td>99</td>\n",
       "      <td>7.448059e-11</td>\n",
       "      <td>7.000000e-01</td>\n",
       "      <td>7.419065e-17</td>\n",
       "      <td>NaN</td>\n",
       "      <td>2035-01-31</td>\n",
       "      <td>0</td>\n",
       "      <td>2027-02-28</td>\n",
       "      <td>390</td>\n",
       "      <td>None</td>\n",
       "      <td>1.0</td>\n",
       "      <td>1</td>\n",
       "      <td>0</td>\n",
       "      <td>1</td>\n",
       "      <td>2027-05-31</td>\n",
       "      <td>-92.0</td>\n",
       "      <td>1</td>\n",
       "    </tr>\n",
       "  </tbody>\n",
       "</table>\n",
       "<p>201600 rows × 20 columns</p>\n",
       "</div>"
      ],
      "text/plain": [
       "          id created_date  risk_band  tenure             p         cum_p  \\\n",
       "2200      23   2025-01-31          9       0  0.000000e+00  0.000000e+00   \n",
       "2201      23   2025-01-31          9       1  1.432904e-14  1.432904e-14   \n",
       "2202      23   2025-01-31          9       2  2.129409e-11  2.130842e-11   \n",
       "2203      23   2025-01-31          9       3  8.224241e-10  8.437325e-10   \n",
       "2204      23   2025-01-31          9       4  8.330965e-09  9.174698e-09   \n",
       "...      ...          ...        ...     ...           ...           ...   \n",
       "999695  9997   2026-10-31          2      95  1.168966e-10  7.000000e-01   \n",
       "999696  9997   2026-10-31          2      96  1.043024e-10  7.000000e-01   \n",
       "999697  9997   2026-10-31          2      97  9.314719e-11  7.000000e-01   \n",
       "999698  9997   2026-10-31          2      98  8.325713e-11  7.000000e-01   \n",
       "999699  9997   2026-10-31          2      99  7.448059e-11  7.000000e-01   \n",
       "\n",
       "         pd_lifetime  p_12m_forward       date  is_late late_start_date  \\\n",
       "2200    1.336500e-02   1.172002e-05 2025-01-31        0      2029-12-31   \n",
       "2201    1.336500e-02   1.837520e-05 2025-02-28        0      2029-12-31   \n",
       "2202    1.336500e-02   2.750916e-05 2025-03-31        0      2029-12-31   \n",
       "2203    1.336500e-02   3.960661e-05 2025-04-30        0      2029-12-31   \n",
       "2204    1.336499e-02   5.514957e-05 2025-05-31        0      2029-12-31   \n",
       "...              ...            ...        ...      ...             ...   \n",
       "999695  2.373540e-10   2.373539e-10 2034-09-30        0      2027-02-28   \n",
       "999696  1.676539e-10   1.676538e-10 2034-10-31        0      2027-02-28   \n",
       "999697  1.054083e-10   1.054082e-10 2034-11-30        0      2027-02-28   \n",
       "999698  4.977169e-11   4.977165e-11 2034-12-31        0      2027-02-28   \n",
       "999699  7.419065e-17            NaN 2035-01-31        0      2027-02-28   \n",
       "\n",
       "        days_late days_late_last_month  prob_rr  rgn  is_default  \\\n",
       "2200            0                  NaN      1.0    1           0   \n",
       "2201            0                 None      1.0    1           0   \n",
       "2202            0                 None      1.0    1           0   \n",
       "2203            0                 None      1.0    1           0   \n",
       "2204            0                 None      1.0    1           0   \n",
       "...           ...                  ...      ...  ...         ...   \n",
       "999695        390                 None      1.0    1           0   \n",
       "999696        390                 None      1.0    1           0   \n",
       "999697        390                 None      1.0    1           0   \n",
       "999698        390                 None      1.0    1           0   \n",
       "999699        390                 None      1.0    1           0   \n",
       "\n",
       "        n_late_status default_date  default_month  default_flag  \n",
       "2200                1   2030-03-31           62.0             1  \n",
       "2201                1   2030-03-31           61.0             1  \n",
       "2202                1   2030-03-31           60.0             1  \n",
       "2203                1   2030-03-31           59.0             1  \n",
       "2204                1   2030-03-31           58.0             1  \n",
       "...               ...          ...            ...           ...  \n",
       "999695              1   2027-05-31          -88.0             1  \n",
       "999696              1   2027-05-31          -89.0             1  \n",
       "999697              1   2027-05-31          -90.0             1  \n",
       "999698              1   2027-05-31          -91.0             1  \n",
       "999699              1   2027-05-31          -92.0             1  \n",
       "\n",
       "[201600 rows x 20 columns]"
      ]
     },
     "execution_count": 67,
     "metadata": {},
     "output_type": "execute_result"
    }
   ],
   "source": [
    "df_sample[df_sample['default_flag']==1]"
   ]
  },
  {
   "cell_type": "code",
   "execution_count": 68,
   "id": "7380db1f",
   "metadata": {},
   "outputs": [
    {
     "data": {
      "text/html": [
       "<div>\n",
       "<style scoped>\n",
       "    .dataframe tbody tr th:only-of-type {\n",
       "        vertical-align: middle;\n",
       "    }\n",
       "\n",
       "    .dataframe tbody tr th {\n",
       "        vertical-align: top;\n",
       "    }\n",
       "\n",
       "    .dataframe thead th {\n",
       "        text-align: right;\n",
       "    }\n",
       "</style>\n",
       "<table border=\"1\" class=\"dataframe\">\n",
       "  <thead>\n",
       "    <tr style=\"text-align: right;\">\n",
       "      <th></th>\n",
       "      <th>id</th>\n",
       "      <th>created_date</th>\n",
       "      <th>risk_band</th>\n",
       "      <th>tenure</th>\n",
       "      <th>p</th>\n",
       "      <th>cum_p</th>\n",
       "      <th>pd_lifetime</th>\n",
       "      <th>p_12m_forward</th>\n",
       "      <th>date</th>\n",
       "      <th>is_late</th>\n",
       "      <th>late_start_date</th>\n",
       "      <th>days_late</th>\n",
       "      <th>days_late_last_month</th>\n",
       "      <th>prob_rr</th>\n",
       "      <th>rgn</th>\n",
       "      <th>is_default</th>\n",
       "      <th>n_late_status</th>\n",
       "      <th>default_date</th>\n",
       "      <th>default_month</th>\n",
       "      <th>default_flag</th>\n",
       "    </tr>\n",
       "  </thead>\n",
       "  <tbody>\n",
       "    <tr>\n",
       "      <th>2200</th>\n",
       "      <td>23</td>\n",
       "      <td>2025-01-31</td>\n",
       "      <td>9</td>\n",
       "      <td>0</td>\n",
       "      <td>0.000000e+00</td>\n",
       "      <td>0.000000e+00</td>\n",
       "      <td>1.336500e-02</td>\n",
       "      <td>0.000012</td>\n",
       "      <td>2025-01-31</td>\n",
       "      <td>0</td>\n",
       "      <td>2029-12-31</td>\n",
       "      <td>0</td>\n",
       "      <td>NaN</td>\n",
       "      <td>1.0</td>\n",
       "      <td>1</td>\n",
       "      <td>0</td>\n",
       "      <td>1</td>\n",
       "      <td>2030-03-31</td>\n",
       "      <td>62.0</td>\n",
       "      <td>1</td>\n",
       "    </tr>\n",
       "    <tr>\n",
       "      <th>2201</th>\n",
       "      <td>23</td>\n",
       "      <td>2025-01-31</td>\n",
       "      <td>9</td>\n",
       "      <td>1</td>\n",
       "      <td>1.432904e-14</td>\n",
       "      <td>1.432904e-14</td>\n",
       "      <td>1.336500e-02</td>\n",
       "      <td>0.000018</td>\n",
       "      <td>2025-02-28</td>\n",
       "      <td>0</td>\n",
       "      <td>2029-12-31</td>\n",
       "      <td>0</td>\n",
       "      <td>None</td>\n",
       "      <td>1.0</td>\n",
       "      <td>1</td>\n",
       "      <td>0</td>\n",
       "      <td>1</td>\n",
       "      <td>2030-03-31</td>\n",
       "      <td>61.0</td>\n",
       "      <td>1</td>\n",
       "    </tr>\n",
       "    <tr>\n",
       "      <th>2202</th>\n",
       "      <td>23</td>\n",
       "      <td>2025-01-31</td>\n",
       "      <td>9</td>\n",
       "      <td>2</td>\n",
       "      <td>2.129409e-11</td>\n",
       "      <td>2.130842e-11</td>\n",
       "      <td>1.336500e-02</td>\n",
       "      <td>0.000028</td>\n",
       "      <td>2025-03-31</td>\n",
       "      <td>0</td>\n",
       "      <td>2029-12-31</td>\n",
       "      <td>0</td>\n",
       "      <td>None</td>\n",
       "      <td>1.0</td>\n",
       "      <td>1</td>\n",
       "      <td>0</td>\n",
       "      <td>1</td>\n",
       "      <td>2030-03-31</td>\n",
       "      <td>60.0</td>\n",
       "      <td>1</td>\n",
       "    </tr>\n",
       "    <tr>\n",
       "      <th>2203</th>\n",
       "      <td>23</td>\n",
       "      <td>2025-01-31</td>\n",
       "      <td>9</td>\n",
       "      <td>3</td>\n",
       "      <td>8.224241e-10</td>\n",
       "      <td>8.437325e-10</td>\n",
       "      <td>1.336500e-02</td>\n",
       "      <td>0.000040</td>\n",
       "      <td>2025-04-30</td>\n",
       "      <td>0</td>\n",
       "      <td>2029-12-31</td>\n",
       "      <td>0</td>\n",
       "      <td>None</td>\n",
       "      <td>1.0</td>\n",
       "      <td>1</td>\n",
       "      <td>0</td>\n",
       "      <td>1</td>\n",
       "      <td>2030-03-31</td>\n",
       "      <td>59.0</td>\n",
       "      <td>1</td>\n",
       "    </tr>\n",
       "    <tr>\n",
       "      <th>2204</th>\n",
       "      <td>23</td>\n",
       "      <td>2025-01-31</td>\n",
       "      <td>9</td>\n",
       "      <td>4</td>\n",
       "      <td>8.330965e-09</td>\n",
       "      <td>9.174698e-09</td>\n",
       "      <td>1.336499e-02</td>\n",
       "      <td>0.000055</td>\n",
       "      <td>2025-05-31</td>\n",
       "      <td>0</td>\n",
       "      <td>2029-12-31</td>\n",
       "      <td>0</td>\n",
       "      <td>None</td>\n",
       "      <td>1.0</td>\n",
       "      <td>1</td>\n",
       "      <td>0</td>\n",
       "      <td>1</td>\n",
       "      <td>2030-03-31</td>\n",
       "      <td>58.0</td>\n",
       "      <td>1</td>\n",
       "    </tr>\n",
       "    <tr>\n",
       "      <th>2205</th>\n",
       "      <td>23</td>\n",
       "      <td>2025-01-31</td>\n",
       "      <td>9</td>\n",
       "      <td>5</td>\n",
       "      <td>4.284925e-08</td>\n",
       "      <td>5.202394e-08</td>\n",
       "      <td>1.336497e-02</td>\n",
       "      <td>0.000075</td>\n",
       "      <td>2025-06-30</td>\n",
       "      <td>0</td>\n",
       "      <td>2029-12-31</td>\n",
       "      <td>0</td>\n",
       "      <td>None</td>\n",
       "      <td>1.0</td>\n",
       "      <td>1</td>\n",
       "      <td>0</td>\n",
       "      <td>1</td>\n",
       "      <td>2030-03-31</td>\n",
       "      <td>57.0</td>\n",
       "      <td>1</td>\n",
       "    </tr>\n",
       "    <tr>\n",
       "      <th>2206</th>\n",
       "      <td>23</td>\n",
       "      <td>2025-01-31</td>\n",
       "      <td>9</td>\n",
       "      <td>6</td>\n",
       "      <td>1.473956e-07</td>\n",
       "      <td>1.994195e-07</td>\n",
       "      <td>1.336487e-02</td>\n",
       "      <td>0.000098</td>\n",
       "      <td>2025-07-31</td>\n",
       "      <td>0</td>\n",
       "      <td>2029-12-31</td>\n",
       "      <td>0</td>\n",
       "      <td>None</td>\n",
       "      <td>1.0</td>\n",
       "      <td>1</td>\n",
       "      <td>0</td>\n",
       "      <td>1</td>\n",
       "      <td>2030-03-31</td>\n",
       "      <td>56.0</td>\n",
       "      <td>1</td>\n",
       "    </tr>\n",
       "    <tr>\n",
       "      <th>2207</th>\n",
       "      <td>23</td>\n",
       "      <td>2025-01-31</td>\n",
       "      <td>9</td>\n",
       "      <td>7</td>\n",
       "      <td>3.897964e-07</td>\n",
       "      <td>5.892159e-07</td>\n",
       "      <td>1.336461e-02</td>\n",
       "      <td>0.000127</td>\n",
       "      <td>2025-08-31</td>\n",
       "      <td>0</td>\n",
       "      <td>2029-12-31</td>\n",
       "      <td>0</td>\n",
       "      <td>None</td>\n",
       "      <td>1.0</td>\n",
       "      <td>1</td>\n",
       "      <td>0</td>\n",
       "      <td>1</td>\n",
       "      <td>2030-03-31</td>\n",
       "      <td>55.0</td>\n",
       "      <td>1</td>\n",
       "    </tr>\n",
       "    <tr>\n",
       "      <th>2208</th>\n",
       "      <td>23</td>\n",
       "      <td>2025-01-31</td>\n",
       "      <td>9</td>\n",
       "      <td>8</td>\n",
       "      <td>8.580760e-07</td>\n",
       "      <td>1.447292e-06</td>\n",
       "      <td>1.336403e-02</td>\n",
       "      <td>0.000160</td>\n",
       "      <td>2025-09-30</td>\n",
       "      <td>0</td>\n",
       "      <td>2029-12-31</td>\n",
       "      <td>0</td>\n",
       "      <td>None</td>\n",
       "      <td>1.0</td>\n",
       "      <td>1</td>\n",
       "      <td>0</td>\n",
       "      <td>1</td>\n",
       "      <td>2030-03-31</td>\n",
       "      <td>54.0</td>\n",
       "      <td>1</td>\n",
       "    </tr>\n",
       "    <tr>\n",
       "      <th>2209</th>\n",
       "      <td>23</td>\n",
       "      <td>2025-01-31</td>\n",
       "      <td>9</td>\n",
       "      <td>9</td>\n",
       "      <td>1.651746e-06</td>\n",
       "      <td>3.099038e-06</td>\n",
       "      <td>1.336293e-02</td>\n",
       "      <td>0.000198</td>\n",
       "      <td>2025-10-31</td>\n",
       "      <td>0</td>\n",
       "      <td>2029-12-31</td>\n",
       "      <td>0</td>\n",
       "      <td>None</td>\n",
       "      <td>1.0</td>\n",
       "      <td>1</td>\n",
       "      <td>0</td>\n",
       "      <td>1</td>\n",
       "      <td>2030-03-31</td>\n",
       "      <td>53.0</td>\n",
       "      <td>1</td>\n",
       "    </tr>\n",
       "    <tr>\n",
       "      <th>2210</th>\n",
       "      <td>23</td>\n",
       "      <td>2025-01-31</td>\n",
       "      <td>9</td>\n",
       "      <td>10</td>\n",
       "      <td>2.871985e-06</td>\n",
       "      <td>5.971023e-06</td>\n",
       "      <td>1.336101e-02</td>\n",
       "      <td>0.000242</td>\n",
       "      <td>2025-11-30</td>\n",
       "      <td>0</td>\n",
       "      <td>2029-12-31</td>\n",
       "      <td>0</td>\n",
       "      <td>None</td>\n",
       "      <td>1.0</td>\n",
       "      <td>1</td>\n",
       "      <td>0</td>\n",
       "      <td>1</td>\n",
       "      <td>2030-03-31</td>\n",
       "      <td>52.0</td>\n",
       "      <td>1</td>\n",
       "    </tr>\n",
       "    <tr>\n",
       "      <th>2211</th>\n",
       "      <td>23</td>\n",
       "      <td>2025-01-31</td>\n",
       "      <td>9</td>\n",
       "      <td>11</td>\n",
       "      <td>4.612838e-06</td>\n",
       "      <td>1.058386e-05</td>\n",
       "      <td>1.335793e-02</td>\n",
       "      <td>0.000290</td>\n",
       "      <td>2025-12-31</td>\n",
       "      <td>0</td>\n",
       "      <td>2029-12-31</td>\n",
       "      <td>0</td>\n",
       "      <td>None</td>\n",
       "      <td>1.0</td>\n",
       "      <td>1</td>\n",
       "      <td>0</td>\n",
       "      <td>1</td>\n",
       "      <td>2030-03-31</td>\n",
       "      <td>51.0</td>\n",
       "      <td>1</td>\n",
       "    </tr>\n",
       "    <tr>\n",
       "      <th>2212</th>\n",
       "      <td>23</td>\n",
       "      <td>2025-01-31</td>\n",
       "      <td>9</td>\n",
       "      <td>12</td>\n",
       "      <td>6.954520e-06</td>\n",
       "      <td>1.753838e-05</td>\n",
       "      <td>1.335328e-02</td>\n",
       "      <td>0.000343</td>\n",
       "      <td>2026-01-31</td>\n",
       "      <td>0</td>\n",
       "      <td>2029-12-31</td>\n",
       "      <td>0</td>\n",
       "      <td>None</td>\n",
       "      <td>1.0</td>\n",
       "      <td>1</td>\n",
       "      <td>0</td>\n",
       "      <td>1</td>\n",
       "      <td>2030-03-31</td>\n",
       "      <td>50.0</td>\n",
       "      <td>1</td>\n",
       "    </tr>\n",
       "    <tr>\n",
       "      <th>2213</th>\n",
       "      <td>23</td>\n",
       "      <td>2025-01-31</td>\n",
       "      <td>9</td>\n",
       "      <td>13</td>\n",
       "      <td>9.959115e-06</td>\n",
       "      <td>2.749750e-05</td>\n",
       "      <td>1.334662e-02</td>\n",
       "      <td>0.000401</td>\n",
       "      <td>2026-02-28</td>\n",
       "      <td>0</td>\n",
       "      <td>2029-12-31</td>\n",
       "      <td>0</td>\n",
       "      <td>None</td>\n",
       "      <td>1.0</td>\n",
       "      <td>1</td>\n",
       "      <td>0</td>\n",
       "      <td>1</td>\n",
       "      <td>2030-03-31</td>\n",
       "      <td>49.0</td>\n",
       "      <td>1</td>\n",
       "    </tr>\n",
       "    <tr>\n",
       "      <th>2214</th>\n",
       "      <td>23</td>\n",
       "      <td>2025-01-31</td>\n",
       "      <td>9</td>\n",
       "      <td>14</td>\n",
       "      <td>1.366849e-05</td>\n",
       "      <td>4.116599e-05</td>\n",
       "      <td>1.333749e-02</td>\n",
       "      <td>0.000462</td>\n",
       "      <td>2026-03-31</td>\n",
       "      <td>0</td>\n",
       "      <td>2029-12-31</td>\n",
       "      <td>0</td>\n",
       "      <td>None</td>\n",
       "      <td>1.0</td>\n",
       "      <td>1</td>\n",
       "      <td>0</td>\n",
       "      <td>1</td>\n",
       "      <td>2030-03-31</td>\n",
       "      <td>48.0</td>\n",
       "      <td>1</td>\n",
       "    </tr>\n",
       "    <tr>\n",
       "      <th>2215</th>\n",
       "      <td>23</td>\n",
       "      <td>2025-01-31</td>\n",
       "      <td>9</td>\n",
       "      <td>15</td>\n",
       "      <td>1.810400e-05</td>\n",
       "      <td>5.926999e-05</td>\n",
       "      <td>1.332539e-02</td>\n",
       "      <td>0.000528</td>\n",
       "      <td>2026-04-30</td>\n",
       "      <td>0</td>\n",
       "      <td>2029-12-31</td>\n",
       "      <td>0</td>\n",
       "      <td>None</td>\n",
       "      <td>1.0</td>\n",
       "      <td>1</td>\n",
       "      <td>0</td>\n",
       "      <td>1</td>\n",
       "      <td>2030-03-31</td>\n",
       "      <td>47.0</td>\n",
       "      <td>1</td>\n",
       "    </tr>\n",
       "    <tr>\n",
       "      <th>2216</th>\n",
       "      <td>23</td>\n",
       "      <td>2025-01-31</td>\n",
       "      <td>9</td>\n",
       "      <td>16</td>\n",
       "      <td>2.326753e-05</td>\n",
       "      <td>8.253753e-05</td>\n",
       "      <td>1.330984e-02</td>\n",
       "      <td>0.000597</td>\n",
       "      <td>2026-05-31</td>\n",
       "      <td>0</td>\n",
       "      <td>2029-12-31</td>\n",
       "      <td>0</td>\n",
       "      <td>None</td>\n",
       "      <td>1.0</td>\n",
       "      <td>1</td>\n",
       "      <td>0</td>\n",
       "      <td>1</td>\n",
       "      <td>2030-03-31</td>\n",
       "      <td>46.0</td>\n",
       "      <td>1</td>\n",
       "    </tr>\n",
       "    <tr>\n",
       "      <th>2217</th>\n",
       "      <td>23</td>\n",
       "      <td>2025-01-31</td>\n",
       "      <td>9</td>\n",
       "      <td>17</td>\n",
       "      <td>2.914341e-05</td>\n",
       "      <td>1.116809e-04</td>\n",
       "      <td>1.329037e-02</td>\n",
       "      <td>0.000668</td>\n",
       "      <td>2026-06-30</td>\n",
       "      <td>0</td>\n",
       "      <td>2029-12-31</td>\n",
       "      <td>0</td>\n",
       "      <td>None</td>\n",
       "      <td>1.0</td>\n",
       "      <td>1</td>\n",
       "      <td>0</td>\n",
       "      <td>1</td>\n",
       "      <td>2030-03-31</td>\n",
       "      <td>45.0</td>\n",
       "      <td>1</td>\n",
       "    </tr>\n",
       "    <tr>\n",
       "      <th>2218</th>\n",
       "      <td>23</td>\n",
       "      <td>2025-01-31</td>\n",
       "      <td>9</td>\n",
       "      <td>18</td>\n",
       "      <td>3.570083e-05</td>\n",
       "      <td>1.473818e-04</td>\n",
       "      <td>1.326651e-02</td>\n",
       "      <td>0.000742</td>\n",
       "      <td>2026-07-31</td>\n",
       "      <td>0</td>\n",
       "      <td>2029-12-31</td>\n",
       "      <td>0</td>\n",
       "      <td>None</td>\n",
       "      <td>1.0</td>\n",
       "      <td>1</td>\n",
       "      <td>0</td>\n",
       "      <td>1</td>\n",
       "      <td>2030-03-31</td>\n",
       "      <td>44.0</td>\n",
       "      <td>1</td>\n",
       "    </tr>\n",
       "    <tr>\n",
       "      <th>2219</th>\n",
       "      <td>23</td>\n",
       "      <td>2025-01-31</td>\n",
       "      <td>9</td>\n",
       "      <td>19</td>\n",
       "      <td>4.289656e-05</td>\n",
       "      <td>1.902783e-04</td>\n",
       "      <td>1.323785e-02</td>\n",
       "      <td>0.000818</td>\n",
       "      <td>2026-08-31</td>\n",
       "      <td>0</td>\n",
       "      <td>2029-12-31</td>\n",
       "      <td>0</td>\n",
       "      <td>None</td>\n",
       "      <td>1.0</td>\n",
       "      <td>1</td>\n",
       "      <td>0</td>\n",
       "      <td>1</td>\n",
       "      <td>2030-03-31</td>\n",
       "      <td>43.0</td>\n",
       "      <td>1</td>\n",
       "    </tr>\n",
       "    <tr>\n",
       "      <th>2220</th>\n",
       "      <td>23</td>\n",
       "      <td>2025-01-31</td>\n",
       "      <td>9</td>\n",
       "      <td>20</td>\n",
       "      <td>5.067753e-05</td>\n",
       "      <td>2.409559e-04</td>\n",
       "      <td>1.320398e-02</td>\n",
       "      <td>0.000895</td>\n",
       "      <td>2026-09-30</td>\n",
       "      <td>0</td>\n",
       "      <td>2029-12-31</td>\n",
       "      <td>0</td>\n",
       "      <td>None</td>\n",
       "      <td>1.0</td>\n",
       "      <td>1</td>\n",
       "      <td>0</td>\n",
       "      <td>1</td>\n",
       "      <td>2030-03-31</td>\n",
       "      <td>42.0</td>\n",
       "      <td>1</td>\n",
       "    </tr>\n",
       "    <tr>\n",
       "      <th>2221</th>\n",
       "      <td>23</td>\n",
       "      <td>2025-01-31</td>\n",
       "      <td>9</td>\n",
       "      <td>21</td>\n",
       "      <td>5.898345e-05</td>\n",
       "      <td>2.999393e-04</td>\n",
       "      <td>1.316457e-02</td>\n",
       "      <td>0.000973</td>\n",
       "      <td>2026-10-31</td>\n",
       "      <td>0</td>\n",
       "      <td>2029-12-31</td>\n",
       "      <td>0</td>\n",
       "      <td>None</td>\n",
       "      <td>1.0</td>\n",
       "      <td>1</td>\n",
       "      <td>0</td>\n",
       "      <td>1</td>\n",
       "      <td>2030-03-31</td>\n",
       "      <td>41.0</td>\n",
       "      <td>1</td>\n",
       "    </tr>\n",
       "    <tr>\n",
       "      <th>2222</th>\n",
       "      <td>23</td>\n",
       "      <td>2025-01-31</td>\n",
       "      <td>9</td>\n",
       "      <td>22</td>\n",
       "      <td>6.774911e-05</td>\n",
       "      <td>3.676884e-04</td>\n",
       "      <td>1.311929e-02</td>\n",
       "      <td>0.001052</td>\n",
       "      <td>2026-11-30</td>\n",
       "      <td>0</td>\n",
       "      <td>2029-12-31</td>\n",
       "      <td>0</td>\n",
       "      <td>None</td>\n",
       "      <td>1.0</td>\n",
       "      <td>1</td>\n",
       "      <td>0</td>\n",
       "      <td>1</td>\n",
       "      <td>2030-03-31</td>\n",
       "      <td>40.0</td>\n",
       "      <td>1</td>\n",
       "    </tr>\n",
       "    <tr>\n",
       "      <th>2223</th>\n",
       "      <td>23</td>\n",
       "      <td>2025-01-31</td>\n",
       "      <td>9</td>\n",
       "      <td>23</td>\n",
       "      <td>7.690641e-05</td>\n",
       "      <td>4.445948e-04</td>\n",
       "      <td>1.306790e-02</td>\n",
       "      <td>0.001130</td>\n",
       "      <td>2026-12-31</td>\n",
       "      <td>0</td>\n",
       "      <td>2029-12-31</td>\n",
       "      <td>0</td>\n",
       "      <td>None</td>\n",
       "      <td>1.0</td>\n",
       "      <td>1</td>\n",
       "      <td>0</td>\n",
       "      <td>1</td>\n",
       "      <td>2030-03-31</td>\n",
       "      <td>39.0</td>\n",
       "      <td>1</td>\n",
       "    </tr>\n",
       "    <tr>\n",
       "      <th>2224</th>\n",
       "      <td>23</td>\n",
       "      <td>2025-01-31</td>\n",
       "      <td>9</td>\n",
       "      <td>24</td>\n",
       "      <td>8.638614e-05</td>\n",
       "      <td>5.309810e-04</td>\n",
       "      <td>1.301017e-02</td>\n",
       "      <td>0.001208</td>\n",
       "      <td>2027-01-31</td>\n",
       "      <td>0</td>\n",
       "      <td>2029-12-31</td>\n",
       "      <td>0</td>\n",
       "      <td>None</td>\n",
       "      <td>1.0</td>\n",
       "      <td>1</td>\n",
       "      <td>0</td>\n",
       "      <td>1</td>\n",
       "      <td>2030-03-31</td>\n",
       "      <td>38.0</td>\n",
       "      <td>1</td>\n",
       "    </tr>\n",
       "    <tr>\n",
       "      <th>2225</th>\n",
       "      <td>23</td>\n",
       "      <td>2025-01-31</td>\n",
       "      <td>9</td>\n",
       "      <td>25</td>\n",
       "      <td>9.611949e-05</td>\n",
       "      <td>6.271004e-04</td>\n",
       "      <td>1.294594e-02</td>\n",
       "      <td>0.001285</td>\n",
       "      <td>2027-02-28</td>\n",
       "      <td>0</td>\n",
       "      <td>2029-12-31</td>\n",
       "      <td>0</td>\n",
       "      <td>None</td>\n",
       "      <td>1.0</td>\n",
       "      <td>1</td>\n",
       "      <td>0</td>\n",
       "      <td>1</td>\n",
       "      <td>2030-03-31</td>\n",
       "      <td>37.0</td>\n",
       "      <td>1</td>\n",
       "    </tr>\n",
       "    <tr>\n",
       "      <th>2226</th>\n",
       "      <td>23</td>\n",
       "      <td>2025-01-31</td>\n",
       "      <td>9</td>\n",
       "      <td>26</td>\n",
       "      <td>1.060392e-04</td>\n",
       "      <td>7.331396e-04</td>\n",
       "      <td>1.287508e-02</td>\n",
       "      <td>0.001361</td>\n",
       "      <td>2027-03-31</td>\n",
       "      <td>0</td>\n",
       "      <td>2029-12-31</td>\n",
       "      <td>0</td>\n",
       "      <td>None</td>\n",
       "      <td>1.0</td>\n",
       "      <td>1</td>\n",
       "      <td>0</td>\n",
       "      <td>1</td>\n",
       "      <td>2030-03-31</td>\n",
       "      <td>36.0</td>\n",
       "      <td>1</td>\n",
       "    </tr>\n",
       "    <tr>\n",
       "      <th>2227</th>\n",
       "      <td>23</td>\n",
       "      <td>2025-01-31</td>\n",
       "      <td>9</td>\n",
       "      <td>27</td>\n",
       "      <td>1.160805e-04</td>\n",
       "      <td>8.492202e-04</td>\n",
       "      <td>1.279751e-02</td>\n",
       "      <td>0.001436</td>\n",
       "      <td>2027-04-30</td>\n",
       "      <td>0</td>\n",
       "      <td>2029-12-31</td>\n",
       "      <td>0</td>\n",
       "      <td>None</td>\n",
       "      <td>1.0</td>\n",
       "      <td>1</td>\n",
       "      <td>0</td>\n",
       "      <td>1</td>\n",
       "      <td>2030-03-31</td>\n",
       "      <td>35.0</td>\n",
       "      <td>1</td>\n",
       "    </tr>\n",
       "    <tr>\n",
       "      <th>2228</th>\n",
       "      <td>23</td>\n",
       "      <td>2025-01-31</td>\n",
       "      <td>9</td>\n",
       "      <td>28</td>\n",
       "      <td>1.261821e-04</td>\n",
       "      <td>9.754022e-04</td>\n",
       "      <td>1.271319e-02</td>\n",
       "      <td>0.001509</td>\n",
       "      <td>2027-05-31</td>\n",
       "      <td>0</td>\n",
       "      <td>2029-12-31</td>\n",
       "      <td>0</td>\n",
       "      <td>None</td>\n",
       "      <td>1.0</td>\n",
       "      <td>1</td>\n",
       "      <td>0</td>\n",
       "      <td>1</td>\n",
       "      <td>2030-03-31</td>\n",
       "      <td>34.0</td>\n",
       "      <td>1</td>\n",
       "    </tr>\n",
       "    <tr>\n",
       "      <th>2229</th>\n",
       "      <td>23</td>\n",
       "      <td>2025-01-31</td>\n",
       "      <td>9</td>\n",
       "      <td>29</td>\n",
       "      <td>1.362861e-04</td>\n",
       "      <td>1.111688e-03</td>\n",
       "      <td>1.262211e-02</td>\n",
       "      <td>0.001580</td>\n",
       "      <td>2027-06-30</td>\n",
       "      <td>0</td>\n",
       "      <td>2029-12-31</td>\n",
       "      <td>0</td>\n",
       "      <td>None</td>\n",
       "      <td>1.0</td>\n",
       "      <td>1</td>\n",
       "      <td>0</td>\n",
       "      <td>1</td>\n",
       "      <td>2030-03-31</td>\n",
       "      <td>33.0</td>\n",
       "      <td>1</td>\n",
       "    </tr>\n",
       "    <tr>\n",
       "      <th>2230</th>\n",
       "      <td>23</td>\n",
       "      <td>2025-01-31</td>\n",
       "      <td>9</td>\n",
       "      <td>30</td>\n",
       "      <td>1.463390e-04</td>\n",
       "      <td>1.258027e-03</td>\n",
       "      <td>1.252432e-02</td>\n",
       "      <td>0.001649</td>\n",
       "      <td>2027-07-31</td>\n",
       "      <td>0</td>\n",
       "      <td>2029-12-31</td>\n",
       "      <td>0</td>\n",
       "      <td>None</td>\n",
       "      <td>1.0</td>\n",
       "      <td>1</td>\n",
       "      <td>0</td>\n",
       "      <td>1</td>\n",
       "      <td>2030-03-31</td>\n",
       "      <td>32.0</td>\n",
       "      <td>1</td>\n",
       "    </tr>\n",
       "    <tr>\n",
       "      <th>2231</th>\n",
       "      <td>23</td>\n",
       "      <td>2025-01-31</td>\n",
       "      <td>9</td>\n",
       "      <td>31</td>\n",
       "      <td>1.562918e-04</td>\n",
       "      <td>1.414319e-03</td>\n",
       "      <td>1.241988e-02</td>\n",
       "      <td>0.001716</td>\n",
       "      <td>2027-08-31</td>\n",
       "      <td>0</td>\n",
       "      <td>2029-12-31</td>\n",
       "      <td>0</td>\n",
       "      <td>None</td>\n",
       "      <td>1.0</td>\n",
       "      <td>1</td>\n",
       "      <td>0</td>\n",
       "      <td>1</td>\n",
       "      <td>2030-03-31</td>\n",
       "      <td>31.0</td>\n",
       "      <td>1</td>\n",
       "    </tr>\n",
       "    <tr>\n",
       "      <th>2232</th>\n",
       "      <td>23</td>\n",
       "      <td>2025-01-31</td>\n",
       "      <td>9</td>\n",
       "      <td>32</td>\n",
       "      <td>1.660998e-04</td>\n",
       "      <td>1.580419e-03</td>\n",
       "      <td>1.230889e-02</td>\n",
       "      <td>0.001780</td>\n",
       "      <td>2027-09-30</td>\n",
       "      <td>0</td>\n",
       "      <td>2029-12-31</td>\n",
       "      <td>0</td>\n",
       "      <td>None</td>\n",
       "      <td>1.0</td>\n",
       "      <td>1</td>\n",
       "      <td>0</td>\n",
       "      <td>1</td>\n",
       "      <td>2030-03-31</td>\n",
       "      <td>30.0</td>\n",
       "      <td>1</td>\n",
       "    </tr>\n",
       "    <tr>\n",
       "      <th>2233</th>\n",
       "      <td>23</td>\n",
       "      <td>2025-01-31</td>\n",
       "      <td>9</td>\n",
       "      <td>33</td>\n",
       "      <td>1.757228e-04</td>\n",
       "      <td>1.756142e-03</td>\n",
       "      <td>1.219146e-02</td>\n",
       "      <td>0.001841</td>\n",
       "      <td>2027-10-31</td>\n",
       "      <td>0</td>\n",
       "      <td>2029-12-31</td>\n",
       "      <td>0</td>\n",
       "      <td>None</td>\n",
       "      <td>1.0</td>\n",
       "      <td>1</td>\n",
       "      <td>0</td>\n",
       "      <td>1</td>\n",
       "      <td>2030-03-31</td>\n",
       "      <td>29.0</td>\n",
       "      <td>1</td>\n",
       "    </tr>\n",
       "    <tr>\n",
       "      <th>2234</th>\n",
       "      <td>23</td>\n",
       "      <td>2025-01-31</td>\n",
       "      <td>9</td>\n",
       "      <td>34</td>\n",
       "      <td>1.851250e-04</td>\n",
       "      <td>1.941267e-03</td>\n",
       "      <td>1.206775e-02</td>\n",
       "      <td>0.001900</td>\n",
       "      <td>2027-11-30</td>\n",
       "      <td>0</td>\n",
       "      <td>2029-12-31</td>\n",
       "      <td>0</td>\n",
       "      <td>None</td>\n",
       "      <td>1.0</td>\n",
       "      <td>1</td>\n",
       "      <td>0</td>\n",
       "      <td>1</td>\n",
       "      <td>2030-03-31</td>\n",
       "      <td>28.0</td>\n",
       "      <td>1</td>\n",
       "    </tr>\n",
       "    <tr>\n",
       "      <th>2235</th>\n",
       "      <td>23</td>\n",
       "      <td>2025-01-31</td>\n",
       "      <td>9</td>\n",
       "      <td>35</td>\n",
       "      <td>1.942751e-04</td>\n",
       "      <td>2.135542e-03</td>\n",
       "      <td>1.193792e-02</td>\n",
       "      <td>0.001956</td>\n",
       "      <td>2027-12-31</td>\n",
       "      <td>0</td>\n",
       "      <td>2029-12-31</td>\n",
       "      <td>0</td>\n",
       "      <td>None</td>\n",
       "      <td>1.0</td>\n",
       "      <td>1</td>\n",
       "      <td>0</td>\n",
       "      <td>1</td>\n",
       "      <td>2030-03-31</td>\n",
       "      <td>27.0</td>\n",
       "      <td>1</td>\n",
       "    </tr>\n",
       "    <tr>\n",
       "      <th>2236</th>\n",
       "      <td>23</td>\n",
       "      <td>2025-01-31</td>\n",
       "      <td>9</td>\n",
       "      <td>36</td>\n",
       "      <td>2.031457e-04</td>\n",
       "      <td>2.338688e-03</td>\n",
       "      <td>1.180217e-02</td>\n",
       "      <td>0.002009</td>\n",
       "      <td>2028-01-31</td>\n",
       "      <td>0</td>\n",
       "      <td>2029-12-31</td>\n",
       "      <td>0</td>\n",
       "      <td>None</td>\n",
       "      <td>1.0</td>\n",
       "      <td>1</td>\n",
       "      <td>0</td>\n",
       "      <td>1</td>\n",
       "      <td>2030-03-31</td>\n",
       "      <td>26.0</td>\n",
       "      <td>1</td>\n",
       "    </tr>\n",
       "    <tr>\n",
       "      <th>2237</th>\n",
       "      <td>23</td>\n",
       "      <td>2025-01-31</td>\n",
       "      <td>9</td>\n",
       "      <td>37</td>\n",
       "      <td>2.117134e-04</td>\n",
       "      <td>2.550401e-03</td>\n",
       "      <td>1.166069e-02</td>\n",
       "      <td>0.002059</td>\n",
       "      <td>2028-02-29</td>\n",
       "      <td>0</td>\n",
       "      <td>2029-12-31</td>\n",
       "      <td>0</td>\n",
       "      <td>None</td>\n",
       "      <td>1.0</td>\n",
       "      <td>1</td>\n",
       "      <td>0</td>\n",
       "      <td>1</td>\n",
       "      <td>2030-03-31</td>\n",
       "      <td>25.0</td>\n",
       "      <td>1</td>\n",
       "    </tr>\n",
       "    <tr>\n",
       "      <th>2238</th>\n",
       "      <td>23</td>\n",
       "      <td>2025-01-31</td>\n",
       "      <td>9</td>\n",
       "      <td>38</td>\n",
       "      <td>2.199586e-04</td>\n",
       "      <td>2.770360e-03</td>\n",
       "      <td>1.151371e-02</td>\n",
       "      <td>0.002106</td>\n",
       "      <td>2028-03-31</td>\n",
       "      <td>0</td>\n",
       "      <td>2029-12-31</td>\n",
       "      <td>0</td>\n",
       "      <td>None</td>\n",
       "      <td>1.0</td>\n",
       "      <td>1</td>\n",
       "      <td>0</td>\n",
       "      <td>1</td>\n",
       "      <td>2030-03-31</td>\n",
       "      <td>24.0</td>\n",
       "      <td>1</td>\n",
       "    </tr>\n",
       "    <tr>\n",
       "      <th>2239</th>\n",
       "      <td>23</td>\n",
       "      <td>2025-01-31</td>\n",
       "      <td>9</td>\n",
       "      <td>39</td>\n",
       "      <td>2.278650e-04</td>\n",
       "      <td>2.998225e-03</td>\n",
       "      <td>1.136144e-02</td>\n",
       "      <td>0.002150</td>\n",
       "      <td>2028-04-30</td>\n",
       "      <td>0</td>\n",
       "      <td>2029-12-31</td>\n",
       "      <td>0</td>\n",
       "      <td>None</td>\n",
       "      <td>1.0</td>\n",
       "      <td>1</td>\n",
       "      <td>0</td>\n",
       "      <td>1</td>\n",
       "      <td>2030-03-31</td>\n",
       "      <td>23.0</td>\n",
       "      <td>1</td>\n",
       "    </tr>\n",
       "    <tr>\n",
       "      <th>2240</th>\n",
       "      <td>23</td>\n",
       "      <td>2025-01-31</td>\n",
       "      <td>9</td>\n",
       "      <td>40</td>\n",
       "      <td>2.354197e-04</td>\n",
       "      <td>3.233644e-03</td>\n",
       "      <td>1.120412e-02</td>\n",
       "      <td>0.002192</td>\n",
       "      <td>2028-05-31</td>\n",
       "      <td>0</td>\n",
       "      <td>2029-12-31</td>\n",
       "      <td>0</td>\n",
       "      <td>None</td>\n",
       "      <td>1.0</td>\n",
       "      <td>1</td>\n",
       "      <td>0</td>\n",
       "      <td>1</td>\n",
       "      <td>2030-03-31</td>\n",
       "      <td>22.0</td>\n",
       "      <td>1</td>\n",
       "    </tr>\n",
       "    <tr>\n",
       "      <th>2241</th>\n",
       "      <td>23</td>\n",
       "      <td>2025-01-31</td>\n",
       "      <td>9</td>\n",
       "      <td>41</td>\n",
       "      <td>2.426125e-04</td>\n",
       "      <td>3.476257e-03</td>\n",
       "      <td>1.104199e-02</td>\n",
       "      <td>0.002230</td>\n",
       "      <td>2028-06-30</td>\n",
       "      <td>0</td>\n",
       "      <td>2029-12-31</td>\n",
       "      <td>0</td>\n",
       "      <td>None</td>\n",
       "      <td>1.0</td>\n",
       "      <td>1</td>\n",
       "      <td>0</td>\n",
       "      <td>1</td>\n",
       "      <td>2030-03-31</td>\n",
       "      <td>21.0</td>\n",
       "      <td>1</td>\n",
       "    </tr>\n",
       "    <tr>\n",
       "      <th>2242</th>\n",
       "      <td>23</td>\n",
       "      <td>2025-01-31</td>\n",
       "      <td>9</td>\n",
       "      <td>42</td>\n",
       "      <td>2.494362e-04</td>\n",
       "      <td>3.725693e-03</td>\n",
       "      <td>1.087531e-02</td>\n",
       "      <td>0.002265</td>\n",
       "      <td>2028-07-31</td>\n",
       "      <td>0</td>\n",
       "      <td>2029-12-31</td>\n",
       "      <td>0</td>\n",
       "      <td>None</td>\n",
       "      <td>1.0</td>\n",
       "      <td>1</td>\n",
       "      <td>0</td>\n",
       "      <td>1</td>\n",
       "      <td>2030-03-31</td>\n",
       "      <td>20.0</td>\n",
       "      <td>1</td>\n",
       "    </tr>\n",
       "    <tr>\n",
       "      <th>2243</th>\n",
       "      <td>23</td>\n",
       "      <td>2025-01-31</td>\n",
       "      <td>9</td>\n",
       "      <td>43</td>\n",
       "      <td>2.558859e-04</td>\n",
       "      <td>3.981579e-03</td>\n",
       "      <td>1.070431e-02</td>\n",
       "      <td>0.002298</td>\n",
       "      <td>2028-08-31</td>\n",
       "      <td>0</td>\n",
       "      <td>2029-12-31</td>\n",
       "      <td>0</td>\n",
       "      <td>None</td>\n",
       "      <td>1.0</td>\n",
       "      <td>1</td>\n",
       "      <td>0</td>\n",
       "      <td>1</td>\n",
       "      <td>2030-03-31</td>\n",
       "      <td>19.0</td>\n",
       "      <td>1</td>\n",
       "    </tr>\n",
       "    <tr>\n",
       "      <th>2244</th>\n",
       "      <td>23</td>\n",
       "      <td>2025-01-31</td>\n",
       "      <td>9</td>\n",
       "      <td>44</td>\n",
       "      <td>2.619589e-04</td>\n",
       "      <td>4.243538e-03</td>\n",
       "      <td>1.052926e-02</td>\n",
       "      <td>0.002328</td>\n",
       "      <td>2028-09-30</td>\n",
       "      <td>0</td>\n",
       "      <td>2029-12-31</td>\n",
       "      <td>0</td>\n",
       "      <td>None</td>\n",
       "      <td>1.0</td>\n",
       "      <td>1</td>\n",
       "      <td>0</td>\n",
       "      <td>1</td>\n",
       "      <td>2030-03-31</td>\n",
       "      <td>18.0</td>\n",
       "      <td>1</td>\n",
       "    </tr>\n",
       "    <tr>\n",
       "      <th>2245</th>\n",
       "      <td>23</td>\n",
       "      <td>2025-01-31</td>\n",
       "      <td>9</td>\n",
       "      <td>45</td>\n",
       "      <td>2.676546e-04</td>\n",
       "      <td>4.511193e-03</td>\n",
       "      <td>1.035040e-02</td>\n",
       "      <td>0.002355</td>\n",
       "      <td>2028-10-31</td>\n",
       "      <td>0</td>\n",
       "      <td>2029-12-31</td>\n",
       "      <td>0</td>\n",
       "      <td>None</td>\n",
       "      <td>1.0</td>\n",
       "      <td>1</td>\n",
       "      <td>0</td>\n",
       "      <td>1</td>\n",
       "      <td>2030-03-31</td>\n",
       "      <td>17.0</td>\n",
       "      <td>1</td>\n",
       "    </tr>\n",
       "    <tr>\n",
       "      <th>2246</th>\n",
       "      <td>23</td>\n",
       "      <td>2025-01-31</td>\n",
       "      <td>9</td>\n",
       "      <td>46</td>\n",
       "      <td>2.729743e-04</td>\n",
       "      <td>4.784167e-03</td>\n",
       "      <td>1.016798e-02</td>\n",
       "      <td>0.002380</td>\n",
       "      <td>2028-11-30</td>\n",
       "      <td>0</td>\n",
       "      <td>2029-12-31</td>\n",
       "      <td>0</td>\n",
       "      <td>None</td>\n",
       "      <td>1.0</td>\n",
       "      <td>1</td>\n",
       "      <td>0</td>\n",
       "      <td>1</td>\n",
       "      <td>2030-03-31</td>\n",
       "      <td>16.0</td>\n",
       "      <td>1</td>\n",
       "    </tr>\n",
       "    <tr>\n",
       "      <th>2247</th>\n",
       "      <td>23</td>\n",
       "      <td>2025-01-31</td>\n",
       "      <td>9</td>\n",
       "      <td>47</td>\n",
       "      <td>2.779206e-04</td>\n",
       "      <td>5.062088e-03</td>\n",
       "      <td>9.982260e-03</td>\n",
       "      <td>0.002401</td>\n",
       "      <td>2028-12-31</td>\n",
       "      <td>0</td>\n",
       "      <td>2029-12-31</td>\n",
       "      <td>0</td>\n",
       "      <td>None</td>\n",
       "      <td>1.0</td>\n",
       "      <td>1</td>\n",
       "      <td>0</td>\n",
       "      <td>1</td>\n",
       "      <td>2030-03-31</td>\n",
       "      <td>15.0</td>\n",
       "      <td>1</td>\n",
       "    </tr>\n",
       "    <tr>\n",
       "      <th>2248</th>\n",
       "      <td>23</td>\n",
       "      <td>2025-01-31</td>\n",
       "      <td>9</td>\n",
       "      <td>48</td>\n",
       "      <td>2.824979e-04</td>\n",
       "      <td>5.344585e-03</td>\n",
       "      <td>9.793481e-03</td>\n",
       "      <td>0.002421</td>\n",
       "      <td>2029-01-31</td>\n",
       "      <td>0</td>\n",
       "      <td>2029-12-31</td>\n",
       "      <td>0</td>\n",
       "      <td>None</td>\n",
       "      <td>1.0</td>\n",
       "      <td>1</td>\n",
       "      <td>0</td>\n",
       "      <td>1</td>\n",
       "      <td>2030-03-31</td>\n",
       "      <td>14.0</td>\n",
       "      <td>1</td>\n",
       "    </tr>\n",
       "    <tr>\n",
       "      <th>2249</th>\n",
       "      <td>23</td>\n",
       "      <td>2025-01-31</td>\n",
       "      <td>9</td>\n",
       "      <td>49</td>\n",
       "      <td>2.867114e-04</td>\n",
       "      <td>5.631297e-03</td>\n",
       "      <td>9.601886e-03</td>\n",
       "      <td>0.002438</td>\n",
       "      <td>2029-02-28</td>\n",
       "      <td>0</td>\n",
       "      <td>2029-12-31</td>\n",
       "      <td>0</td>\n",
       "      <td>None</td>\n",
       "      <td>1.0</td>\n",
       "      <td>1</td>\n",
       "      <td>0</td>\n",
       "      <td>1</td>\n",
       "      <td>2030-03-31</td>\n",
       "      <td>13.0</td>\n",
       "      <td>1</td>\n",
       "    </tr>\n",
       "    <tr>\n",
       "      <th>2250</th>\n",
       "      <td>23</td>\n",
       "      <td>2025-01-31</td>\n",
       "      <td>9</td>\n",
       "      <td>50</td>\n",
       "      <td>2.905678e-04</td>\n",
       "      <td>5.921865e-03</td>\n",
       "      <td>9.407714e-03</td>\n",
       "      <td>0.002452</td>\n",
       "      <td>2029-03-31</td>\n",
       "      <td>0</td>\n",
       "      <td>2029-12-31</td>\n",
       "      <td>0</td>\n",
       "      <td>None</td>\n",
       "      <td>1.0</td>\n",
       "      <td>1</td>\n",
       "      <td>0</td>\n",
       "      <td>1</td>\n",
       "      <td>2030-03-31</td>\n",
       "      <td>12.0</td>\n",
       "      <td>1</td>\n",
       "    </tr>\n",
       "    <tr>\n",
       "      <th>2251</th>\n",
       "      <td>23</td>\n",
       "      <td>2025-01-31</td>\n",
       "      <td>9</td>\n",
       "      <td>51</td>\n",
       "      <td>2.940744e-04</td>\n",
       "      <td>6.215939e-03</td>\n",
       "      <td>9.211199e-03</td>\n",
       "      <td>0.002464</td>\n",
       "      <td>2029-04-30</td>\n",
       "      <td>0</td>\n",
       "      <td>2029-12-31</td>\n",
       "      <td>0</td>\n",
       "      <td>None</td>\n",
       "      <td>1.0</td>\n",
       "      <td>1</td>\n",
       "      <td>0</td>\n",
       "      <td>1</td>\n",
       "      <td>2030-03-31</td>\n",
       "      <td>11.0</td>\n",
       "      <td>1</td>\n",
       "    </tr>\n",
       "    <tr>\n",
       "      <th>2252</th>\n",
       "      <td>23</td>\n",
       "      <td>2025-01-31</td>\n",
       "      <td>9</td>\n",
       "      <td>52</td>\n",
       "      <td>2.972393e-04</td>\n",
       "      <td>6.513178e-03</td>\n",
       "      <td>9.012569e-03</td>\n",
       "      <td>0.002474</td>\n",
       "      <td>2029-05-31</td>\n",
       "      <td>0</td>\n",
       "      <td>2029-12-31</td>\n",
       "      <td>0</td>\n",
       "      <td>None</td>\n",
       "      <td>1.0</td>\n",
       "      <td>1</td>\n",
       "      <td>0</td>\n",
       "      <td>1</td>\n",
       "      <td>2030-03-31</td>\n",
       "      <td>10.0</td>\n",
       "      <td>1</td>\n",
       "    </tr>\n",
       "    <tr>\n",
       "      <th>2253</th>\n",
       "      <td>23</td>\n",
       "      <td>2025-01-31</td>\n",
       "      <td>9</td>\n",
       "      <td>53</td>\n",
       "      <td>3.000716e-04</td>\n",
       "      <td>6.813250e-03</td>\n",
       "      <td>8.812046e-03</td>\n",
       "      <td>0.002482</td>\n",
       "      <td>2029-06-30</td>\n",
       "      <td>0</td>\n",
       "      <td>2029-12-31</td>\n",
       "      <td>0</td>\n",
       "      <td>None</td>\n",
       "      <td>1.0</td>\n",
       "      <td>1</td>\n",
       "      <td>0</td>\n",
       "      <td>1</td>\n",
       "      <td>2030-03-31</td>\n",
       "      <td>9.0</td>\n",
       "      <td>1</td>\n",
       "    </tr>\n",
       "    <tr>\n",
       "      <th>2254</th>\n",
       "      <td>23</td>\n",
       "      <td>2025-01-31</td>\n",
       "      <td>9</td>\n",
       "      <td>54</td>\n",
       "      <td>3.025806e-04</td>\n",
       "      <td>7.115830e-03</td>\n",
       "      <td>8.609846e-03</td>\n",
       "      <td>0.002488</td>\n",
       "      <td>2029-07-31</td>\n",
       "      <td>0</td>\n",
       "      <td>2029-12-31</td>\n",
       "      <td>0</td>\n",
       "      <td>None</td>\n",
       "      <td>1.0</td>\n",
       "      <td>1</td>\n",
       "      <td>0</td>\n",
       "      <td>1</td>\n",
       "      <td>2030-03-31</td>\n",
       "      <td>8.0</td>\n",
       "      <td>1</td>\n",
       "    </tr>\n",
       "    <tr>\n",
       "      <th>2255</th>\n",
       "      <td>23</td>\n",
       "      <td>2025-01-31</td>\n",
       "      <td>9</td>\n",
       "      <td>55</td>\n",
       "      <td>3.047760e-04</td>\n",
       "      <td>7.420607e-03</td>\n",
       "      <td>8.406180e-03</td>\n",
       "      <td>0.002492</td>\n",
       "      <td>2029-08-31</td>\n",
       "      <td>0</td>\n",
       "      <td>2029-12-31</td>\n",
       "      <td>0</td>\n",
       "      <td>None</td>\n",
       "      <td>1.0</td>\n",
       "      <td>1</td>\n",
       "      <td>0</td>\n",
       "      <td>1</td>\n",
       "      <td>2030-03-31</td>\n",
       "      <td>7.0</td>\n",
       "      <td>1</td>\n",
       "    </tr>\n",
       "    <tr>\n",
       "      <th>2256</th>\n",
       "      <td>23</td>\n",
       "      <td>2025-01-31</td>\n",
       "      <td>9</td>\n",
       "      <td>56</td>\n",
       "      <td>3.066682e-04</td>\n",
       "      <td>7.727275e-03</td>\n",
       "      <td>8.201249e-03</td>\n",
       "      <td>0.002494</td>\n",
       "      <td>2029-09-30</td>\n",
       "      <td>0</td>\n",
       "      <td>2029-12-31</td>\n",
       "      <td>0</td>\n",
       "      <td>None</td>\n",
       "      <td>1.0</td>\n",
       "      <td>1</td>\n",
       "      <td>0</td>\n",
       "      <td>1</td>\n",
       "      <td>2030-03-31</td>\n",
       "      <td>6.0</td>\n",
       "      <td>1</td>\n",
       "    </tr>\n",
       "    <tr>\n",
       "      <th>2257</th>\n",
       "      <td>23</td>\n",
       "      <td>2025-01-31</td>\n",
       "      <td>9</td>\n",
       "      <td>57</td>\n",
       "      <td>3.082675e-04</td>\n",
       "      <td>8.035542e-03</td>\n",
       "      <td>7.995249e-03</td>\n",
       "      <td>0.002494</td>\n",
       "      <td>2029-10-31</td>\n",
       "      <td>0</td>\n",
       "      <td>2029-12-31</td>\n",
       "      <td>0</td>\n",
       "      <td>None</td>\n",
       "      <td>1.0</td>\n",
       "      <td>1</td>\n",
       "      <td>0</td>\n",
       "      <td>1</td>\n",
       "      <td>2030-03-31</td>\n",
       "      <td>5.0</td>\n",
       "      <td>1</td>\n",
       "    </tr>\n",
       "    <tr>\n",
       "      <th>2258</th>\n",
       "      <td>23</td>\n",
       "      <td>2025-01-31</td>\n",
       "      <td>9</td>\n",
       "      <td>58</td>\n",
       "      <td>3.095847e-04</td>\n",
       "      <td>8.345127e-03</td>\n",
       "      <td>7.788369e-03</td>\n",
       "      <td>0.002492</td>\n",
       "      <td>2029-11-30</td>\n",
       "      <td>0</td>\n",
       "      <td>2029-12-31</td>\n",
       "      <td>0</td>\n",
       "      <td>None</td>\n",
       "      <td>1.0</td>\n",
       "      <td>1</td>\n",
       "      <td>0</td>\n",
       "      <td>1</td>\n",
       "      <td>2030-03-31</td>\n",
       "      <td>4.0</td>\n",
       "      <td>1</td>\n",
       "    </tr>\n",
       "    <tr>\n",
       "      <th>2259</th>\n",
       "      <td>23</td>\n",
       "      <td>2025-01-31</td>\n",
       "      <td>9</td>\n",
       "      <td>59</td>\n",
       "      <td>3.106303e-04</td>\n",
       "      <td>8.655757e-03</td>\n",
       "      <td>7.580790e-03</td>\n",
       "      <td>0.002489</td>\n",
       "      <td>2029-12-31</td>\n",
       "      <td>1</td>\n",
       "      <td>2029-12-31</td>\n",
       "      <td>1</td>\n",
       "      <td>None</td>\n",
       "      <td>1.0</td>\n",
       "      <td>1</td>\n",
       "      <td>0</td>\n",
       "      <td>1</td>\n",
       "      <td>2030-03-31</td>\n",
       "      <td>3.0</td>\n",
       "      <td>1</td>\n",
       "    </tr>\n",
       "    <tr>\n",
       "      <th>2260</th>\n",
       "      <td>23</td>\n",
       "      <td>2025-01-31</td>\n",
       "      <td>9</td>\n",
       "      <td>60</td>\n",
       "      <td>3.114153e-04</td>\n",
       "      <td>8.967173e-03</td>\n",
       "      <td>7.372687e-03</td>\n",
       "      <td>0.002484</td>\n",
       "      <td>2030-01-31</td>\n",
       "      <td>0</td>\n",
       "      <td>2029-12-31</td>\n",
       "      <td>30</td>\n",
       "      <td>1</td>\n",
       "      <td>1.0</td>\n",
       "      <td>1</td>\n",
       "      <td>0</td>\n",
       "      <td>1</td>\n",
       "      <td>2030-03-31</td>\n",
       "      <td>2.0</td>\n",
       "      <td>1</td>\n",
       "    </tr>\n",
       "    <tr>\n",
       "      <th>2261</th>\n",
       "      <td>23</td>\n",
       "      <td>2025-01-31</td>\n",
       "      <td>9</td>\n",
       "      <td>61</td>\n",
       "      <td>3.119504e-04</td>\n",
       "      <td>9.279123e-03</td>\n",
       "      <td>7.164226e-03</td>\n",
       "      <td>0.002478</td>\n",
       "      <td>2030-02-28</td>\n",
       "      <td>0</td>\n",
       "      <td>2029-12-31</td>\n",
       "      <td>60</td>\n",
       "      <td>30</td>\n",
       "      <td>1.0</td>\n",
       "      <td>1</td>\n",
       "      <td>0</td>\n",
       "      <td>1</td>\n",
       "      <td>2030-03-31</td>\n",
       "      <td>1.0</td>\n",
       "      <td>1</td>\n",
       "    </tr>\n",
       "    <tr>\n",
       "      <th>2262</th>\n",
       "      <td>23</td>\n",
       "      <td>2025-01-31</td>\n",
       "      <td>9</td>\n",
       "      <td>62</td>\n",
       "      <td>3.122463e-04</td>\n",
       "      <td>9.591369e-03</td>\n",
       "      <td>6.955568e-03</td>\n",
       "      <td>0.002471</td>\n",
       "      <td>2030-03-31</td>\n",
       "      <td>0</td>\n",
       "      <td>2029-12-31</td>\n",
       "      <td>90</td>\n",
       "      <td>60</td>\n",
       "      <td>1.0</td>\n",
       "      <td>1</td>\n",
       "      <td>1</td>\n",
       "      <td>1</td>\n",
       "      <td>2030-03-31</td>\n",
       "      <td>0.0</td>\n",
       "      <td>1</td>\n",
       "    </tr>\n",
       "    <tr>\n",
       "      <th>2263</th>\n",
       "      <td>23</td>\n",
       "      <td>2025-01-31</td>\n",
       "      <td>9</td>\n",
       "      <td>63</td>\n",
       "      <td>3.123139e-04</td>\n",
       "      <td>9.903683e-03</td>\n",
       "      <td>6.746864e-03</td>\n",
       "      <td>0.002462</td>\n",
       "      <td>2030-04-30</td>\n",
       "      <td>0</td>\n",
       "      <td>2029-12-31</td>\n",
       "      <td>120</td>\n",
       "      <td>90</td>\n",
       "      <td>1.0</td>\n",
       "      <td>1</td>\n",
       "      <td>0</td>\n",
       "      <td>1</td>\n",
       "      <td>2030-03-31</td>\n",
       "      <td>-1.0</td>\n",
       "      <td>1</td>\n",
       "    </tr>\n",
       "    <tr>\n",
       "      <th>2264</th>\n",
       "      <td>23</td>\n",
       "      <td>2025-01-31</td>\n",
       "      <td>9</td>\n",
       "      <td>64</td>\n",
       "      <td>3.121635e-04</td>\n",
       "      <td>1.021585e-02</td>\n",
       "      <td>6.538261e-03</td>\n",
       "      <td>0.002451</td>\n",
       "      <td>2030-05-31</td>\n",
       "      <td>0</td>\n",
       "      <td>2029-12-31</td>\n",
       "      <td>150</td>\n",
       "      <td>120</td>\n",
       "      <td>1.0</td>\n",
       "      <td>1</td>\n",
       "      <td>0</td>\n",
       "      <td>1</td>\n",
       "      <td>2030-03-31</td>\n",
       "      <td>-2.0</td>\n",
       "      <td>1</td>\n",
       "    </tr>\n",
       "    <tr>\n",
       "      <th>2265</th>\n",
       "      <td>23</td>\n",
       "      <td>2025-01-31</td>\n",
       "      <td>9</td>\n",
       "      <td>65</td>\n",
       "      <td>3.118056e-04</td>\n",
       "      <td>1.052765e-02</td>\n",
       "      <td>6.329896e-03</td>\n",
       "      <td>0.002440</td>\n",
       "      <td>2030-06-30</td>\n",
       "      <td>0</td>\n",
       "      <td>2029-12-31</td>\n",
       "      <td>180</td>\n",
       "      <td>150</td>\n",
       "      <td>1.0</td>\n",
       "      <td>1</td>\n",
       "      <td>0</td>\n",
       "      <td>1</td>\n",
       "      <td>2030-03-31</td>\n",
       "      <td>-3.0</td>\n",
       "      <td>1</td>\n",
       "    </tr>\n",
       "    <tr>\n",
       "      <th>2266</th>\n",
       "      <td>23</td>\n",
       "      <td>2025-01-31</td>\n",
       "      <td>9</td>\n",
       "      <td>66</td>\n",
       "      <td>3.112504e-04</td>\n",
       "      <td>1.083890e-02</td>\n",
       "      <td>6.121903e-03</td>\n",
       "      <td>0.002428</td>\n",
       "      <td>2030-07-31</td>\n",
       "      <td>0</td>\n",
       "      <td>2029-12-31</td>\n",
       "      <td>210</td>\n",
       "      <td>180</td>\n",
       "      <td>1.0</td>\n",
       "      <td>1</td>\n",
       "      <td>0</td>\n",
       "      <td>1</td>\n",
       "      <td>2030-03-31</td>\n",
       "      <td>-4.0</td>\n",
       "      <td>1</td>\n",
       "    </tr>\n",
       "    <tr>\n",
       "      <th>2267</th>\n",
       "      <td>23</td>\n",
       "      <td>2025-01-31</td>\n",
       "      <td>9</td>\n",
       "      <td>67</td>\n",
       "      <td>3.105080e-04</td>\n",
       "      <td>1.114941e-02</td>\n",
       "      <td>5.914406e-03</td>\n",
       "      <td>0.002414</td>\n",
       "      <td>2030-08-31</td>\n",
       "      <td>0</td>\n",
       "      <td>2029-12-31</td>\n",
       "      <td>240</td>\n",
       "      <td>210</td>\n",
       "      <td>1.0</td>\n",
       "      <td>1</td>\n",
       "      <td>0</td>\n",
       "      <td>1</td>\n",
       "      <td>2030-03-31</td>\n",
       "      <td>-5.0</td>\n",
       "      <td>1</td>\n",
       "    </tr>\n",
       "    <tr>\n",
       "      <th>2268</th>\n",
       "      <td>23</td>\n",
       "      <td>2025-01-31</td>\n",
       "      <td>9</td>\n",
       "      <td>68</td>\n",
       "      <td>3.095880e-04</td>\n",
       "      <td>1.145900e-02</td>\n",
       "      <td>5.707524e-03</td>\n",
       "      <td>0.002400</td>\n",
       "      <td>2030-09-30</td>\n",
       "      <td>0</td>\n",
       "      <td>2029-12-31</td>\n",
       "      <td>270</td>\n",
       "      <td>240</td>\n",
       "      <td>1.0</td>\n",
       "      <td>1</td>\n",
       "      <td>0</td>\n",
       "      <td>1</td>\n",
       "      <td>2030-03-31</td>\n",
       "      <td>-6.0</td>\n",
       "      <td>1</td>\n",
       "    </tr>\n",
       "    <tr>\n",
       "      <th>2269</th>\n",
       "      <td>23</td>\n",
       "      <td>2025-01-31</td>\n",
       "      <td>9</td>\n",
       "      <td>69</td>\n",
       "      <td>3.085001e-04</td>\n",
       "      <td>1.176750e-02</td>\n",
       "      <td>5.501369e-03</td>\n",
       "      <td>0.002384</td>\n",
       "      <td>2030-10-31</td>\n",
       "      <td>0</td>\n",
       "      <td>2029-12-31</td>\n",
       "      <td>300</td>\n",
       "      <td>270</td>\n",
       "      <td>1.0</td>\n",
       "      <td>1</td>\n",
       "      <td>0</td>\n",
       "      <td>1</td>\n",
       "      <td>2030-03-31</td>\n",
       "      <td>-7.0</td>\n",
       "      <td>1</td>\n",
       "    </tr>\n",
       "    <tr>\n",
       "      <th>2270</th>\n",
       "      <td>23</td>\n",
       "      <td>2025-01-31</td>\n",
       "      <td>9</td>\n",
       "      <td>70</td>\n",
       "      <td>3.072536e-04</td>\n",
       "      <td>1.207475e-02</td>\n",
       "      <td>5.296047e-03</td>\n",
       "      <td>0.002368</td>\n",
       "      <td>2030-11-30</td>\n",
       "      <td>0</td>\n",
       "      <td>2029-12-31</td>\n",
       "      <td>330</td>\n",
       "      <td>300</td>\n",
       "      <td>1.0</td>\n",
       "      <td>1</td>\n",
       "      <td>0</td>\n",
       "      <td>1</td>\n",
       "      <td>2030-03-31</td>\n",
       "      <td>-8.0</td>\n",
       "      <td>1</td>\n",
       "    </tr>\n",
       "    <tr>\n",
       "      <th>2271</th>\n",
       "      <td>23</td>\n",
       "      <td>2025-01-31</td>\n",
       "      <td>9</td>\n",
       "      <td>71</td>\n",
       "      <td>3.058574e-04</td>\n",
       "      <td>1.238061e-02</td>\n",
       "      <td>5.091657e-03</td>\n",
       "      <td>0.002351</td>\n",
       "      <td>2030-12-31</td>\n",
       "      <td>0</td>\n",
       "      <td>2029-12-31</td>\n",
       "      <td>360</td>\n",
       "      <td>330</td>\n",
       "      <td>1.0</td>\n",
       "      <td>1</td>\n",
       "      <td>0</td>\n",
       "      <td>1</td>\n",
       "      <td>2030-03-31</td>\n",
       "      <td>-9.0</td>\n",
       "      <td>1</td>\n",
       "    </tr>\n",
       "    <tr>\n",
       "      <th>2272</th>\n",
       "      <td>23</td>\n",
       "      <td>2025-01-31</td>\n",
       "      <td>9</td>\n",
       "      <td>72</td>\n",
       "      <td>3.043204e-04</td>\n",
       "      <td>1.268493e-02</td>\n",
       "      <td>4.888295e-03</td>\n",
       "      <td>0.002333</td>\n",
       "      <td>2031-01-31</td>\n",
       "      <td>0</td>\n",
       "      <td>2029-12-31</td>\n",
       "      <td>390</td>\n",
       "      <td>360</td>\n",
       "      <td>1.0</td>\n",
       "      <td>1</td>\n",
       "      <td>0</td>\n",
       "      <td>1</td>\n",
       "      <td>2030-03-31</td>\n",
       "      <td>-10.0</td>\n",
       "      <td>1</td>\n",
       "    </tr>\n",
       "    <tr>\n",
       "      <th>2273</th>\n",
       "      <td>23</td>\n",
       "      <td>2025-01-31</td>\n",
       "      <td>9</td>\n",
       "      <td>73</td>\n",
       "      <td>3.026511e-04</td>\n",
       "      <td>1.298758e-02</td>\n",
       "      <td>4.686049e-03</td>\n",
       "      <td>0.002315</td>\n",
       "      <td>2031-02-28</td>\n",
       "      <td>0</td>\n",
       "      <td>2029-12-31</td>\n",
       "      <td>390</td>\n",
       "      <td>None</td>\n",
       "      <td>1.0</td>\n",
       "      <td>1</td>\n",
       "      <td>0</td>\n",
       "      <td>1</td>\n",
       "      <td>2030-03-31</td>\n",
       "      <td>-11.0</td>\n",
       "      <td>1</td>\n",
       "    </tr>\n",
       "    <tr>\n",
       "      <th>2274</th>\n",
       "      <td>23</td>\n",
       "      <td>2025-01-31</td>\n",
       "      <td>9</td>\n",
       "      <td>74</td>\n",
       "      <td>3.008576e-04</td>\n",
       "      <td>1.328844e-02</td>\n",
       "      <td>4.485001e-03</td>\n",
       "      <td>0.002296</td>\n",
       "      <td>2031-03-31</td>\n",
       "      <td>0</td>\n",
       "      <td>2029-12-31</td>\n",
       "      <td>390</td>\n",
       "      <td>None</td>\n",
       "      <td>1.0</td>\n",
       "      <td>1</td>\n",
       "      <td>0</td>\n",
       "      <td>1</td>\n",
       "      <td>2030-03-31</td>\n",
       "      <td>-12.0</td>\n",
       "      <td>1</td>\n",
       "    </tr>\n",
       "    <tr>\n",
       "      <th>2275</th>\n",
       "      <td>23</td>\n",
       "      <td>2025-01-31</td>\n",
       "      <td>9</td>\n",
       "      <td>75</td>\n",
       "      <td>2.989480e-04</td>\n",
       "      <td>1.358739e-02</td>\n",
       "      <td>4.285229e-03</td>\n",
       "      <td>0.002276</td>\n",
       "      <td>2031-04-30</td>\n",
       "      <td>0</td>\n",
       "      <td>2029-12-31</td>\n",
       "      <td>390</td>\n",
       "      <td>None</td>\n",
       "      <td>1.0</td>\n",
       "      <td>1</td>\n",
       "      <td>0</td>\n",
       "      <td>1</td>\n",
       "      <td>2030-03-31</td>\n",
       "      <td>-13.0</td>\n",
       "      <td>1</td>\n",
       "    </tr>\n",
       "    <tr>\n",
       "      <th>2276</th>\n",
       "      <td>23</td>\n",
       "      <td>2025-01-31</td>\n",
       "      <td>9</td>\n",
       "      <td>76</td>\n",
       "      <td>2.969298e-04</td>\n",
       "      <td>1.388432e-02</td>\n",
       "      <td>4.086805e-03</td>\n",
       "      <td>0.002256</td>\n",
       "      <td>2031-05-31</td>\n",
       "      <td>0</td>\n",
       "      <td>2029-12-31</td>\n",
       "      <td>390</td>\n",
       "      <td>None</td>\n",
       "      <td>1.0</td>\n",
       "      <td>1</td>\n",
       "      <td>0</td>\n",
       "      <td>1</td>\n",
       "      <td>2030-03-31</td>\n",
       "      <td>-14.0</td>\n",
       "      <td>1</td>\n",
       "    </tr>\n",
       "    <tr>\n",
       "      <th>2277</th>\n",
       "      <td>23</td>\n",
       "      <td>2025-01-31</td>\n",
       "      <td>9</td>\n",
       "      <td>77</td>\n",
       "      <td>2.948104e-04</td>\n",
       "      <td>1.417913e-02</td>\n",
       "      <td>3.889798e-03</td>\n",
       "      <td>0.002235</td>\n",
       "      <td>2031-06-30</td>\n",
       "      <td>0</td>\n",
       "      <td>2029-12-31</td>\n",
       "      <td>390</td>\n",
       "      <td>None</td>\n",
       "      <td>1.0</td>\n",
       "      <td>1</td>\n",
       "      <td>0</td>\n",
       "      <td>1</td>\n",
       "      <td>2030-03-31</td>\n",
       "      <td>-15.0</td>\n",
       "      <td>1</td>\n",
       "    </tr>\n",
       "    <tr>\n",
       "      <th>2278</th>\n",
       "      <td>23</td>\n",
       "      <td>2025-01-31</td>\n",
       "      <td>9</td>\n",
       "      <td>78</td>\n",
       "      <td>2.925970e-04</td>\n",
       "      <td>1.447172e-02</td>\n",
       "      <td>3.694270e-03</td>\n",
       "      <td>0.002214</td>\n",
       "      <td>2031-07-31</td>\n",
       "      <td>0</td>\n",
       "      <td>2029-12-31</td>\n",
       "      <td>390</td>\n",
       "      <td>None</td>\n",
       "      <td>1.0</td>\n",
       "      <td>1</td>\n",
       "      <td>0</td>\n",
       "      <td>1</td>\n",
       "      <td>2030-03-31</td>\n",
       "      <td>-16.0</td>\n",
       "      <td>1</td>\n",
       "    </tr>\n",
       "    <tr>\n",
       "      <th>2279</th>\n",
       "      <td>23</td>\n",
       "      <td>2025-01-31</td>\n",
       "      <td>9</td>\n",
       "      <td>79</td>\n",
       "      <td>2.902964e-04</td>\n",
       "      <td>1.476202e-02</td>\n",
       "      <td>3.500280e-03</td>\n",
       "      <td>0.002192</td>\n",
       "      <td>2031-08-31</td>\n",
       "      <td>0</td>\n",
       "      <td>2029-12-31</td>\n",
       "      <td>390</td>\n",
       "      <td>None</td>\n",
       "      <td>1.0</td>\n",
       "      <td>1</td>\n",
       "      <td>0</td>\n",
       "      <td>1</td>\n",
       "      <td>2030-03-31</td>\n",
       "      <td>-17.0</td>\n",
       "      <td>1</td>\n",
       "    </tr>\n",
       "    <tr>\n",
       "      <th>2280</th>\n",
       "      <td>23</td>\n",
       "      <td>2025-01-31</td>\n",
       "      <td>9</td>\n",
       "      <td>80</td>\n",
       "      <td>2.879151e-04</td>\n",
       "      <td>1.504994e-02</td>\n",
       "      <td>3.307881e-03</td>\n",
       "      <td>0.002170</td>\n",
       "      <td>2031-09-30</td>\n",
       "      <td>0</td>\n",
       "      <td>2029-12-31</td>\n",
       "      <td>390</td>\n",
       "      <td>None</td>\n",
       "      <td>1.0</td>\n",
       "      <td>1</td>\n",
       "      <td>0</td>\n",
       "      <td>1</td>\n",
       "      <td>2030-03-31</td>\n",
       "      <td>-18.0</td>\n",
       "      <td>1</td>\n",
       "    </tr>\n",
       "    <tr>\n",
       "      <th>2281</th>\n",
       "      <td>23</td>\n",
       "      <td>2025-01-31</td>\n",
       "      <td>9</td>\n",
       "      <td>81</td>\n",
       "      <td>2.854593e-04</td>\n",
       "      <td>1.533539e-02</td>\n",
       "      <td>3.117122e-03</td>\n",
       "      <td>0.002148</td>\n",
       "      <td>2031-10-31</td>\n",
       "      <td>0</td>\n",
       "      <td>2029-12-31</td>\n",
       "      <td>390</td>\n",
       "      <td>None</td>\n",
       "      <td>1.0</td>\n",
       "      <td>1</td>\n",
       "      <td>0</td>\n",
       "      <td>1</td>\n",
       "      <td>2030-03-31</td>\n",
       "      <td>-19.0</td>\n",
       "      <td>1</td>\n",
       "    </tr>\n",
       "    <tr>\n",
       "      <th>2282</th>\n",
       "      <td>23</td>\n",
       "      <td>2025-01-31</td>\n",
       "      <td>9</td>\n",
       "      <td>82</td>\n",
       "      <td>2.829352e-04</td>\n",
       "      <td>1.561833e-02</td>\n",
       "      <td>2.928051e-03</td>\n",
       "      <td>0.002125</td>\n",
       "      <td>2031-11-30</td>\n",
       "      <td>0</td>\n",
       "      <td>2029-12-31</td>\n",
       "      <td>390</td>\n",
       "      <td>None</td>\n",
       "      <td>1.0</td>\n",
       "      <td>1</td>\n",
       "      <td>0</td>\n",
       "      <td>1</td>\n",
       "      <td>2030-03-31</td>\n",
       "      <td>-20.0</td>\n",
       "      <td>1</td>\n",
       "    </tr>\n",
       "    <tr>\n",
       "      <th>2283</th>\n",
       "      <td>23</td>\n",
       "      <td>2025-01-31</td>\n",
       "      <td>9</td>\n",
       "      <td>83</td>\n",
       "      <td>2.803485e-04</td>\n",
       "      <td>1.589868e-02</td>\n",
       "      <td>2.740708e-03</td>\n",
       "      <td>0.002103</td>\n",
       "      <td>2031-12-31</td>\n",
       "      <td>0</td>\n",
       "      <td>2029-12-31</td>\n",
       "      <td>390</td>\n",
       "      <td>None</td>\n",
       "      <td>1.0</td>\n",
       "      <td>1</td>\n",
       "      <td>0</td>\n",
       "      <td>1</td>\n",
       "      <td>2030-03-31</td>\n",
       "      <td>-21.0</td>\n",
       "      <td>1</td>\n",
       "    </tr>\n",
       "    <tr>\n",
       "      <th>2284</th>\n",
       "      <td>23</td>\n",
       "      <td>2025-01-31</td>\n",
       "      <td>9</td>\n",
       "      <td>84</td>\n",
       "      <td>2.777046e-04</td>\n",
       "      <td>1.617638e-02</td>\n",
       "      <td>2.555132e-03</td>\n",
       "      <td>0.002080</td>\n",
       "      <td>2032-01-31</td>\n",
       "      <td>0</td>\n",
       "      <td>2029-12-31</td>\n",
       "      <td>390</td>\n",
       "      <td>None</td>\n",
       "      <td>1.0</td>\n",
       "      <td>1</td>\n",
       "      <td>0</td>\n",
       "      <td>1</td>\n",
       "      <td>2030-03-31</td>\n",
       "      <td>-22.0</td>\n",
       "      <td>1</td>\n",
       "    </tr>\n",
       "    <tr>\n",
       "      <th>2285</th>\n",
       "      <td>23</td>\n",
       "      <td>2025-01-31</td>\n",
       "      <td>9</td>\n",
       "      <td>85</td>\n",
       "      <td>2.750088e-04</td>\n",
       "      <td>1.645139e-02</td>\n",
       "      <td>2.371357e-03</td>\n",
       "      <td>0.002056</td>\n",
       "      <td>2032-02-29</td>\n",
       "      <td>0</td>\n",
       "      <td>2029-12-31</td>\n",
       "      <td>390</td>\n",
       "      <td>None</td>\n",
       "      <td>1.0</td>\n",
       "      <td>1</td>\n",
       "      <td>0</td>\n",
       "      <td>1</td>\n",
       "      <td>2030-03-31</td>\n",
       "      <td>-23.0</td>\n",
       "      <td>1</td>\n",
       "    </tr>\n",
       "    <tr>\n",
       "      <th>2286</th>\n",
       "      <td>23</td>\n",
       "      <td>2025-01-31</td>\n",
       "      <td>9</td>\n",
       "      <td>86</td>\n",
       "      <td>2.722662e-04</td>\n",
       "      <td>1.672366e-02</td>\n",
       "      <td>2.189415e-03</td>\n",
       "      <td>0.002033</td>\n",
       "      <td>2032-03-31</td>\n",
       "      <td>0</td>\n",
       "      <td>2029-12-31</td>\n",
       "      <td>390</td>\n",
       "      <td>None</td>\n",
       "      <td>1.0</td>\n",
       "      <td>1</td>\n",
       "      <td>0</td>\n",
       "      <td>1</td>\n",
       "      <td>2030-03-31</td>\n",
       "      <td>-24.0</td>\n",
       "      <td>1</td>\n",
       "    </tr>\n",
       "    <tr>\n",
       "      <th>2287</th>\n",
       "      <td>23</td>\n",
       "      <td>2025-01-31</td>\n",
       "      <td>9</td>\n",
       "      <td>87</td>\n",
       "      <td>2.694816e-04</td>\n",
       "      <td>1.699314e-02</td>\n",
       "      <td>2.009334e-03</td>\n",
       "      <td>0.002009</td>\n",
       "      <td>2032-04-30</td>\n",
       "      <td>0</td>\n",
       "      <td>2029-12-31</td>\n",
       "      <td>390</td>\n",
       "      <td>None</td>\n",
       "      <td>1.0</td>\n",
       "      <td>1</td>\n",
       "      <td>0</td>\n",
       "      <td>1</td>\n",
       "      <td>2030-03-31</td>\n",
       "      <td>-25.0</td>\n",
       "      <td>1</td>\n",
       "    </tr>\n",
       "    <tr>\n",
       "      <th>2288</th>\n",
       "      <td>23</td>\n",
       "      <td>2025-01-31</td>\n",
       "      <td>9</td>\n",
       "      <td>88</td>\n",
       "      <td>2.666594e-04</td>\n",
       "      <td>1.725980e-02</td>\n",
       "      <td>1.831139e-03</td>\n",
       "      <td>0.001831</td>\n",
       "      <td>2032-05-31</td>\n",
       "      <td>0</td>\n",
       "      <td>2029-12-31</td>\n",
       "      <td>390</td>\n",
       "      <td>None</td>\n",
       "      <td>1.0</td>\n",
       "      <td>1</td>\n",
       "      <td>0</td>\n",
       "      <td>1</td>\n",
       "      <td>2030-03-31</td>\n",
       "      <td>-26.0</td>\n",
       "      <td>1</td>\n",
       "    </tr>\n",
       "    <tr>\n",
       "      <th>2289</th>\n",
       "      <td>23</td>\n",
       "      <td>2025-01-31</td>\n",
       "      <td>9</td>\n",
       "      <td>89</td>\n",
       "      <td>2.638041e-04</td>\n",
       "      <td>1.752360e-02</td>\n",
       "      <td>1.654852e-03</td>\n",
       "      <td>0.001655</td>\n",
       "      <td>2032-06-30</td>\n",
       "      <td>0</td>\n",
       "      <td>2029-12-31</td>\n",
       "      <td>390</td>\n",
       "      <td>None</td>\n",
       "      <td>1.0</td>\n",
       "      <td>1</td>\n",
       "      <td>0</td>\n",
       "      <td>1</td>\n",
       "      <td>2030-03-31</td>\n",
       "      <td>-27.0</td>\n",
       "      <td>1</td>\n",
       "    </tr>\n",
       "    <tr>\n",
       "      <th>2290</th>\n",
       "      <td>23</td>\n",
       "      <td>2025-01-31</td>\n",
       "      <td>9</td>\n",
       "      <td>90</td>\n",
       "      <td>2.609197e-04</td>\n",
       "      <td>1.778452e-02</td>\n",
       "      <td>1.480493e-03</td>\n",
       "      <td>0.001480</td>\n",
       "      <td>2032-07-31</td>\n",
       "      <td>0</td>\n",
       "      <td>2029-12-31</td>\n",
       "      <td>390</td>\n",
       "      <td>None</td>\n",
       "      <td>1.0</td>\n",
       "      <td>1</td>\n",
       "      <td>0</td>\n",
       "      <td>1</td>\n",
       "      <td>2030-03-31</td>\n",
       "      <td>-28.0</td>\n",
       "      <td>1</td>\n",
       "    </tr>\n",
       "    <tr>\n",
       "      <th>2291</th>\n",
       "      <td>23</td>\n",
       "      <td>2025-01-31</td>\n",
       "      <td>9</td>\n",
       "      <td>91</td>\n",
       "      <td>2.580102e-04</td>\n",
       "      <td>1.804253e-02</td>\n",
       "      <td>1.308077e-03</td>\n",
       "      <td>0.001308</td>\n",
       "      <td>2032-08-31</td>\n",
       "      <td>0</td>\n",
       "      <td>2029-12-31</td>\n",
       "      <td>390</td>\n",
       "      <td>None</td>\n",
       "      <td>1.0</td>\n",
       "      <td>1</td>\n",
       "      <td>0</td>\n",
       "      <td>1</td>\n",
       "      <td>2030-03-31</td>\n",
       "      <td>-29.0</td>\n",
       "      <td>1</td>\n",
       "    </tr>\n",
       "    <tr>\n",
       "      <th>2292</th>\n",
       "      <td>23</td>\n",
       "      <td>2025-01-31</td>\n",
       "      <td>9</td>\n",
       "      <td>92</td>\n",
       "      <td>2.550793e-04</td>\n",
       "      <td>1.829761e-02</td>\n",
       "      <td>1.137621e-03</td>\n",
       "      <td>0.001138</td>\n",
       "      <td>2032-09-30</td>\n",
       "      <td>0</td>\n",
       "      <td>2029-12-31</td>\n",
       "      <td>390</td>\n",
       "      <td>None</td>\n",
       "      <td>1.0</td>\n",
       "      <td>1</td>\n",
       "      <td>0</td>\n",
       "      <td>1</td>\n",
       "      <td>2030-03-31</td>\n",
       "      <td>-30.0</td>\n",
       "      <td>1</td>\n",
       "    </tr>\n",
       "    <tr>\n",
       "      <th>2293</th>\n",
       "      <td>23</td>\n",
       "      <td>2025-01-31</td>\n",
       "      <td>9</td>\n",
       "      <td>93</td>\n",
       "      <td>2.521305e-04</td>\n",
       "      <td>1.854974e-02</td>\n",
       "      <td>9.691344e-04</td>\n",
       "      <td>0.000969</td>\n",
       "      <td>2032-10-31</td>\n",
       "      <td>0</td>\n",
       "      <td>2029-12-31</td>\n",
       "      <td>390</td>\n",
       "      <td>None</td>\n",
       "      <td>1.0</td>\n",
       "      <td>1</td>\n",
       "      <td>0</td>\n",
       "      <td>1</td>\n",
       "      <td>2030-03-31</td>\n",
       "      <td>-31.0</td>\n",
       "      <td>1</td>\n",
       "    </tr>\n",
       "    <tr>\n",
       "      <th>2294</th>\n",
       "      <td>23</td>\n",
       "      <td>2025-01-31</td>\n",
       "      <td>9</td>\n",
       "      <td>94</td>\n",
       "      <td>2.491672e-04</td>\n",
       "      <td>1.879891e-02</td>\n",
       "      <td>8.026284e-04</td>\n",
       "      <td>0.000803</td>\n",
       "      <td>2032-11-30</td>\n",
       "      <td>0</td>\n",
       "      <td>2029-12-31</td>\n",
       "      <td>390</td>\n",
       "      <td>None</td>\n",
       "      <td>1.0</td>\n",
       "      <td>1</td>\n",
       "      <td>0</td>\n",
       "      <td>1</td>\n",
       "      <td>2030-03-31</td>\n",
       "      <td>-32.0</td>\n",
       "      <td>1</td>\n",
       "    </tr>\n",
       "    <tr>\n",
       "      <th>2295</th>\n",
       "      <td>23</td>\n",
       "      <td>2025-01-31</td>\n",
       "      <td>9</td>\n",
       "      <td>95</td>\n",
       "      <td>2.461925e-04</td>\n",
       "      <td>1.904510e-02</td>\n",
       "      <td>6.381102e-04</td>\n",
       "      <td>0.000638</td>\n",
       "      <td>2032-12-31</td>\n",
       "      <td>0</td>\n",
       "      <td>2029-12-31</td>\n",
       "      <td>390</td>\n",
       "      <td>None</td>\n",
       "      <td>1.0</td>\n",
       "      <td>1</td>\n",
       "      <td>0</td>\n",
       "      <td>1</td>\n",
       "      <td>2030-03-31</td>\n",
       "      <td>-33.0</td>\n",
       "      <td>1</td>\n",
       "    </tr>\n",
       "    <tr>\n",
       "      <th>2296</th>\n",
       "      <td>23</td>\n",
       "      <td>2025-01-31</td>\n",
       "      <td>9</td>\n",
       "      <td>96</td>\n",
       "      <td>2.432095e-04</td>\n",
       "      <td>1.928831e-02</td>\n",
       "      <td>4.755855e-04</td>\n",
       "      <td>0.000476</td>\n",
       "      <td>2033-01-31</td>\n",
       "      <td>0</td>\n",
       "      <td>2029-12-31</td>\n",
       "      <td>390</td>\n",
       "      <td>None</td>\n",
       "      <td>1.0</td>\n",
       "      <td>1</td>\n",
       "      <td>0</td>\n",
       "      <td>1</td>\n",
       "      <td>2030-03-31</td>\n",
       "      <td>-34.0</td>\n",
       "      <td>1</td>\n",
       "    </tr>\n",
       "    <tr>\n",
       "      <th>2297</th>\n",
       "      <td>23</td>\n",
       "      <td>2025-01-31</td>\n",
       "      <td>9</td>\n",
       "      <td>97</td>\n",
       "      <td>2.402209e-04</td>\n",
       "      <td>1.952853e-02</td>\n",
       "      <td>3.150579e-04</td>\n",
       "      <td>0.000315</td>\n",
       "      <td>2033-02-28</td>\n",
       "      <td>0</td>\n",
       "      <td>2029-12-31</td>\n",
       "      <td>390</td>\n",
       "      <td>None</td>\n",
       "      <td>1.0</td>\n",
       "      <td>1</td>\n",
       "      <td>0</td>\n",
       "      <td>1</td>\n",
       "      <td>2030-03-31</td>\n",
       "      <td>-35.0</td>\n",
       "      <td>1</td>\n",
       "    </tr>\n",
       "    <tr>\n",
       "      <th>2298</th>\n",
       "      <td>23</td>\n",
       "      <td>2025-01-31</td>\n",
       "      <td>9</td>\n",
       "      <td>98</td>\n",
       "      <td>2.372294e-04</td>\n",
       "      <td>1.976576e-02</td>\n",
       "      <td>1.565293e-04</td>\n",
       "      <td>0.000157</td>\n",
       "      <td>2033-03-31</td>\n",
       "      <td>0</td>\n",
       "      <td>2029-12-31</td>\n",
       "      <td>390</td>\n",
       "      <td>None</td>\n",
       "      <td>1.0</td>\n",
       "      <td>1</td>\n",
       "      <td>0</td>\n",
       "      <td>1</td>\n",
       "      <td>2030-03-31</td>\n",
       "      <td>-36.0</td>\n",
       "      <td>1</td>\n",
       "    </tr>\n",
       "    <tr>\n",
       "      <th>2299</th>\n",
       "      <td>23</td>\n",
       "      <td>2025-01-31</td>\n",
       "      <td>9</td>\n",
       "      <td>99</td>\n",
       "      <td>2.342376e-04</td>\n",
       "      <td>2.000000e-02</td>\n",
       "      <td>4.636916e-18</td>\n",
       "      <td>NaN</td>\n",
       "      <td>2033-04-30</td>\n",
       "      <td>0</td>\n",
       "      <td>2029-12-31</td>\n",
       "      <td>390</td>\n",
       "      <td>None</td>\n",
       "      <td>1.0</td>\n",
       "      <td>1</td>\n",
       "      <td>0</td>\n",
       "      <td>1</td>\n",
       "      <td>2030-03-31</td>\n",
       "      <td>-37.0</td>\n",
       "      <td>1</td>\n",
       "    </tr>\n",
       "  </tbody>\n",
       "</table>\n",
       "</div>"
      ],
      "text/plain": [
       "      id created_date  risk_band  tenure             p         cum_p  \\\n",
       "2200  23   2025-01-31          9       0  0.000000e+00  0.000000e+00   \n",
       "2201  23   2025-01-31          9       1  1.432904e-14  1.432904e-14   \n",
       "2202  23   2025-01-31          9       2  2.129409e-11  2.130842e-11   \n",
       "2203  23   2025-01-31          9       3  8.224241e-10  8.437325e-10   \n",
       "2204  23   2025-01-31          9       4  8.330965e-09  9.174698e-09   \n",
       "2205  23   2025-01-31          9       5  4.284925e-08  5.202394e-08   \n",
       "2206  23   2025-01-31          9       6  1.473956e-07  1.994195e-07   \n",
       "2207  23   2025-01-31          9       7  3.897964e-07  5.892159e-07   \n",
       "2208  23   2025-01-31          9       8  8.580760e-07  1.447292e-06   \n",
       "2209  23   2025-01-31          9       9  1.651746e-06  3.099038e-06   \n",
       "2210  23   2025-01-31          9      10  2.871985e-06  5.971023e-06   \n",
       "2211  23   2025-01-31          9      11  4.612838e-06  1.058386e-05   \n",
       "2212  23   2025-01-31          9      12  6.954520e-06  1.753838e-05   \n",
       "2213  23   2025-01-31          9      13  9.959115e-06  2.749750e-05   \n",
       "2214  23   2025-01-31          9      14  1.366849e-05  4.116599e-05   \n",
       "2215  23   2025-01-31          9      15  1.810400e-05  5.926999e-05   \n",
       "2216  23   2025-01-31          9      16  2.326753e-05  8.253753e-05   \n",
       "2217  23   2025-01-31          9      17  2.914341e-05  1.116809e-04   \n",
       "2218  23   2025-01-31          9      18  3.570083e-05  1.473818e-04   \n",
       "2219  23   2025-01-31          9      19  4.289656e-05  1.902783e-04   \n",
       "2220  23   2025-01-31          9      20  5.067753e-05  2.409559e-04   \n",
       "2221  23   2025-01-31          9      21  5.898345e-05  2.999393e-04   \n",
       "2222  23   2025-01-31          9      22  6.774911e-05  3.676884e-04   \n",
       "2223  23   2025-01-31          9      23  7.690641e-05  4.445948e-04   \n",
       "2224  23   2025-01-31          9      24  8.638614e-05  5.309810e-04   \n",
       "2225  23   2025-01-31          9      25  9.611949e-05  6.271004e-04   \n",
       "2226  23   2025-01-31          9      26  1.060392e-04  7.331396e-04   \n",
       "2227  23   2025-01-31          9      27  1.160805e-04  8.492202e-04   \n",
       "2228  23   2025-01-31          9      28  1.261821e-04  9.754022e-04   \n",
       "2229  23   2025-01-31          9      29  1.362861e-04  1.111688e-03   \n",
       "2230  23   2025-01-31          9      30  1.463390e-04  1.258027e-03   \n",
       "2231  23   2025-01-31          9      31  1.562918e-04  1.414319e-03   \n",
       "2232  23   2025-01-31          9      32  1.660998e-04  1.580419e-03   \n",
       "2233  23   2025-01-31          9      33  1.757228e-04  1.756142e-03   \n",
       "2234  23   2025-01-31          9      34  1.851250e-04  1.941267e-03   \n",
       "2235  23   2025-01-31          9      35  1.942751e-04  2.135542e-03   \n",
       "2236  23   2025-01-31          9      36  2.031457e-04  2.338688e-03   \n",
       "2237  23   2025-01-31          9      37  2.117134e-04  2.550401e-03   \n",
       "2238  23   2025-01-31          9      38  2.199586e-04  2.770360e-03   \n",
       "2239  23   2025-01-31          9      39  2.278650e-04  2.998225e-03   \n",
       "2240  23   2025-01-31          9      40  2.354197e-04  3.233644e-03   \n",
       "2241  23   2025-01-31          9      41  2.426125e-04  3.476257e-03   \n",
       "2242  23   2025-01-31          9      42  2.494362e-04  3.725693e-03   \n",
       "2243  23   2025-01-31          9      43  2.558859e-04  3.981579e-03   \n",
       "2244  23   2025-01-31          9      44  2.619589e-04  4.243538e-03   \n",
       "2245  23   2025-01-31          9      45  2.676546e-04  4.511193e-03   \n",
       "2246  23   2025-01-31          9      46  2.729743e-04  4.784167e-03   \n",
       "2247  23   2025-01-31          9      47  2.779206e-04  5.062088e-03   \n",
       "2248  23   2025-01-31          9      48  2.824979e-04  5.344585e-03   \n",
       "2249  23   2025-01-31          9      49  2.867114e-04  5.631297e-03   \n",
       "2250  23   2025-01-31          9      50  2.905678e-04  5.921865e-03   \n",
       "2251  23   2025-01-31          9      51  2.940744e-04  6.215939e-03   \n",
       "2252  23   2025-01-31          9      52  2.972393e-04  6.513178e-03   \n",
       "2253  23   2025-01-31          9      53  3.000716e-04  6.813250e-03   \n",
       "2254  23   2025-01-31          9      54  3.025806e-04  7.115830e-03   \n",
       "2255  23   2025-01-31          9      55  3.047760e-04  7.420607e-03   \n",
       "2256  23   2025-01-31          9      56  3.066682e-04  7.727275e-03   \n",
       "2257  23   2025-01-31          9      57  3.082675e-04  8.035542e-03   \n",
       "2258  23   2025-01-31          9      58  3.095847e-04  8.345127e-03   \n",
       "2259  23   2025-01-31          9      59  3.106303e-04  8.655757e-03   \n",
       "2260  23   2025-01-31          9      60  3.114153e-04  8.967173e-03   \n",
       "2261  23   2025-01-31          9      61  3.119504e-04  9.279123e-03   \n",
       "2262  23   2025-01-31          9      62  3.122463e-04  9.591369e-03   \n",
       "2263  23   2025-01-31          9      63  3.123139e-04  9.903683e-03   \n",
       "2264  23   2025-01-31          9      64  3.121635e-04  1.021585e-02   \n",
       "2265  23   2025-01-31          9      65  3.118056e-04  1.052765e-02   \n",
       "2266  23   2025-01-31          9      66  3.112504e-04  1.083890e-02   \n",
       "2267  23   2025-01-31          9      67  3.105080e-04  1.114941e-02   \n",
       "2268  23   2025-01-31          9      68  3.095880e-04  1.145900e-02   \n",
       "2269  23   2025-01-31          9      69  3.085001e-04  1.176750e-02   \n",
       "2270  23   2025-01-31          9      70  3.072536e-04  1.207475e-02   \n",
       "2271  23   2025-01-31          9      71  3.058574e-04  1.238061e-02   \n",
       "2272  23   2025-01-31          9      72  3.043204e-04  1.268493e-02   \n",
       "2273  23   2025-01-31          9      73  3.026511e-04  1.298758e-02   \n",
       "2274  23   2025-01-31          9      74  3.008576e-04  1.328844e-02   \n",
       "2275  23   2025-01-31          9      75  2.989480e-04  1.358739e-02   \n",
       "2276  23   2025-01-31          9      76  2.969298e-04  1.388432e-02   \n",
       "2277  23   2025-01-31          9      77  2.948104e-04  1.417913e-02   \n",
       "2278  23   2025-01-31          9      78  2.925970e-04  1.447172e-02   \n",
       "2279  23   2025-01-31          9      79  2.902964e-04  1.476202e-02   \n",
       "2280  23   2025-01-31          9      80  2.879151e-04  1.504994e-02   \n",
       "2281  23   2025-01-31          9      81  2.854593e-04  1.533539e-02   \n",
       "2282  23   2025-01-31          9      82  2.829352e-04  1.561833e-02   \n",
       "2283  23   2025-01-31          9      83  2.803485e-04  1.589868e-02   \n",
       "2284  23   2025-01-31          9      84  2.777046e-04  1.617638e-02   \n",
       "2285  23   2025-01-31          9      85  2.750088e-04  1.645139e-02   \n",
       "2286  23   2025-01-31          9      86  2.722662e-04  1.672366e-02   \n",
       "2287  23   2025-01-31          9      87  2.694816e-04  1.699314e-02   \n",
       "2288  23   2025-01-31          9      88  2.666594e-04  1.725980e-02   \n",
       "2289  23   2025-01-31          9      89  2.638041e-04  1.752360e-02   \n",
       "2290  23   2025-01-31          9      90  2.609197e-04  1.778452e-02   \n",
       "2291  23   2025-01-31          9      91  2.580102e-04  1.804253e-02   \n",
       "2292  23   2025-01-31          9      92  2.550793e-04  1.829761e-02   \n",
       "2293  23   2025-01-31          9      93  2.521305e-04  1.854974e-02   \n",
       "2294  23   2025-01-31          9      94  2.491672e-04  1.879891e-02   \n",
       "2295  23   2025-01-31          9      95  2.461925e-04  1.904510e-02   \n",
       "2296  23   2025-01-31          9      96  2.432095e-04  1.928831e-02   \n",
       "2297  23   2025-01-31          9      97  2.402209e-04  1.952853e-02   \n",
       "2298  23   2025-01-31          9      98  2.372294e-04  1.976576e-02   \n",
       "2299  23   2025-01-31          9      99  2.342376e-04  2.000000e-02   \n",
       "\n",
       "       pd_lifetime  p_12m_forward       date  is_late late_start_date  \\\n",
       "2200  1.336500e-02       0.000012 2025-01-31        0      2029-12-31   \n",
       "2201  1.336500e-02       0.000018 2025-02-28        0      2029-12-31   \n",
       "2202  1.336500e-02       0.000028 2025-03-31        0      2029-12-31   \n",
       "2203  1.336500e-02       0.000040 2025-04-30        0      2029-12-31   \n",
       "2204  1.336499e-02       0.000055 2025-05-31        0      2029-12-31   \n",
       "2205  1.336497e-02       0.000075 2025-06-30        0      2029-12-31   \n",
       "2206  1.336487e-02       0.000098 2025-07-31        0      2029-12-31   \n",
       "2207  1.336461e-02       0.000127 2025-08-31        0      2029-12-31   \n",
       "2208  1.336403e-02       0.000160 2025-09-30        0      2029-12-31   \n",
       "2209  1.336293e-02       0.000198 2025-10-31        0      2029-12-31   \n",
       "2210  1.336101e-02       0.000242 2025-11-30        0      2029-12-31   \n",
       "2211  1.335793e-02       0.000290 2025-12-31        0      2029-12-31   \n",
       "2212  1.335328e-02       0.000343 2026-01-31        0      2029-12-31   \n",
       "2213  1.334662e-02       0.000401 2026-02-28        0      2029-12-31   \n",
       "2214  1.333749e-02       0.000462 2026-03-31        0      2029-12-31   \n",
       "2215  1.332539e-02       0.000528 2026-04-30        0      2029-12-31   \n",
       "2216  1.330984e-02       0.000597 2026-05-31        0      2029-12-31   \n",
       "2217  1.329037e-02       0.000668 2026-06-30        0      2029-12-31   \n",
       "2218  1.326651e-02       0.000742 2026-07-31        0      2029-12-31   \n",
       "2219  1.323785e-02       0.000818 2026-08-31        0      2029-12-31   \n",
       "2220  1.320398e-02       0.000895 2026-09-30        0      2029-12-31   \n",
       "2221  1.316457e-02       0.000973 2026-10-31        0      2029-12-31   \n",
       "2222  1.311929e-02       0.001052 2026-11-30        0      2029-12-31   \n",
       "2223  1.306790e-02       0.001130 2026-12-31        0      2029-12-31   \n",
       "2224  1.301017e-02       0.001208 2027-01-31        0      2029-12-31   \n",
       "2225  1.294594e-02       0.001285 2027-02-28        0      2029-12-31   \n",
       "2226  1.287508e-02       0.001361 2027-03-31        0      2029-12-31   \n",
       "2227  1.279751e-02       0.001436 2027-04-30        0      2029-12-31   \n",
       "2228  1.271319e-02       0.001509 2027-05-31        0      2029-12-31   \n",
       "2229  1.262211e-02       0.001580 2027-06-30        0      2029-12-31   \n",
       "2230  1.252432e-02       0.001649 2027-07-31        0      2029-12-31   \n",
       "2231  1.241988e-02       0.001716 2027-08-31        0      2029-12-31   \n",
       "2232  1.230889e-02       0.001780 2027-09-30        0      2029-12-31   \n",
       "2233  1.219146e-02       0.001841 2027-10-31        0      2029-12-31   \n",
       "2234  1.206775e-02       0.001900 2027-11-30        0      2029-12-31   \n",
       "2235  1.193792e-02       0.001956 2027-12-31        0      2029-12-31   \n",
       "2236  1.180217e-02       0.002009 2028-01-31        0      2029-12-31   \n",
       "2237  1.166069e-02       0.002059 2028-02-29        0      2029-12-31   \n",
       "2238  1.151371e-02       0.002106 2028-03-31        0      2029-12-31   \n",
       "2239  1.136144e-02       0.002150 2028-04-30        0      2029-12-31   \n",
       "2240  1.120412e-02       0.002192 2028-05-31        0      2029-12-31   \n",
       "2241  1.104199e-02       0.002230 2028-06-30        0      2029-12-31   \n",
       "2242  1.087531e-02       0.002265 2028-07-31        0      2029-12-31   \n",
       "2243  1.070431e-02       0.002298 2028-08-31        0      2029-12-31   \n",
       "2244  1.052926e-02       0.002328 2028-09-30        0      2029-12-31   \n",
       "2245  1.035040e-02       0.002355 2028-10-31        0      2029-12-31   \n",
       "2246  1.016798e-02       0.002380 2028-11-30        0      2029-12-31   \n",
       "2247  9.982260e-03       0.002401 2028-12-31        0      2029-12-31   \n",
       "2248  9.793481e-03       0.002421 2029-01-31        0      2029-12-31   \n",
       "2249  9.601886e-03       0.002438 2029-02-28        0      2029-12-31   \n",
       "2250  9.407714e-03       0.002452 2029-03-31        0      2029-12-31   \n",
       "2251  9.211199e-03       0.002464 2029-04-30        0      2029-12-31   \n",
       "2252  9.012569e-03       0.002474 2029-05-31        0      2029-12-31   \n",
       "2253  8.812046e-03       0.002482 2029-06-30        0      2029-12-31   \n",
       "2254  8.609846e-03       0.002488 2029-07-31        0      2029-12-31   \n",
       "2255  8.406180e-03       0.002492 2029-08-31        0      2029-12-31   \n",
       "2256  8.201249e-03       0.002494 2029-09-30        0      2029-12-31   \n",
       "2257  7.995249e-03       0.002494 2029-10-31        0      2029-12-31   \n",
       "2258  7.788369e-03       0.002492 2029-11-30        0      2029-12-31   \n",
       "2259  7.580790e-03       0.002489 2029-12-31        1      2029-12-31   \n",
       "2260  7.372687e-03       0.002484 2030-01-31        0      2029-12-31   \n",
       "2261  7.164226e-03       0.002478 2030-02-28        0      2029-12-31   \n",
       "2262  6.955568e-03       0.002471 2030-03-31        0      2029-12-31   \n",
       "2263  6.746864e-03       0.002462 2030-04-30        0      2029-12-31   \n",
       "2264  6.538261e-03       0.002451 2030-05-31        0      2029-12-31   \n",
       "2265  6.329896e-03       0.002440 2030-06-30        0      2029-12-31   \n",
       "2266  6.121903e-03       0.002428 2030-07-31        0      2029-12-31   \n",
       "2267  5.914406e-03       0.002414 2030-08-31        0      2029-12-31   \n",
       "2268  5.707524e-03       0.002400 2030-09-30        0      2029-12-31   \n",
       "2269  5.501369e-03       0.002384 2030-10-31        0      2029-12-31   \n",
       "2270  5.296047e-03       0.002368 2030-11-30        0      2029-12-31   \n",
       "2271  5.091657e-03       0.002351 2030-12-31        0      2029-12-31   \n",
       "2272  4.888295e-03       0.002333 2031-01-31        0      2029-12-31   \n",
       "2273  4.686049e-03       0.002315 2031-02-28        0      2029-12-31   \n",
       "2274  4.485001e-03       0.002296 2031-03-31        0      2029-12-31   \n",
       "2275  4.285229e-03       0.002276 2031-04-30        0      2029-12-31   \n",
       "2276  4.086805e-03       0.002256 2031-05-31        0      2029-12-31   \n",
       "2277  3.889798e-03       0.002235 2031-06-30        0      2029-12-31   \n",
       "2278  3.694270e-03       0.002214 2031-07-31        0      2029-12-31   \n",
       "2279  3.500280e-03       0.002192 2031-08-31        0      2029-12-31   \n",
       "2280  3.307881e-03       0.002170 2031-09-30        0      2029-12-31   \n",
       "2281  3.117122e-03       0.002148 2031-10-31        0      2029-12-31   \n",
       "2282  2.928051e-03       0.002125 2031-11-30        0      2029-12-31   \n",
       "2283  2.740708e-03       0.002103 2031-12-31        0      2029-12-31   \n",
       "2284  2.555132e-03       0.002080 2032-01-31        0      2029-12-31   \n",
       "2285  2.371357e-03       0.002056 2032-02-29        0      2029-12-31   \n",
       "2286  2.189415e-03       0.002033 2032-03-31        0      2029-12-31   \n",
       "2287  2.009334e-03       0.002009 2032-04-30        0      2029-12-31   \n",
       "2288  1.831139e-03       0.001831 2032-05-31        0      2029-12-31   \n",
       "2289  1.654852e-03       0.001655 2032-06-30        0      2029-12-31   \n",
       "2290  1.480493e-03       0.001480 2032-07-31        0      2029-12-31   \n",
       "2291  1.308077e-03       0.001308 2032-08-31        0      2029-12-31   \n",
       "2292  1.137621e-03       0.001138 2032-09-30        0      2029-12-31   \n",
       "2293  9.691344e-04       0.000969 2032-10-31        0      2029-12-31   \n",
       "2294  8.026284e-04       0.000803 2032-11-30        0      2029-12-31   \n",
       "2295  6.381102e-04       0.000638 2032-12-31        0      2029-12-31   \n",
       "2296  4.755855e-04       0.000476 2033-01-31        0      2029-12-31   \n",
       "2297  3.150579e-04       0.000315 2033-02-28        0      2029-12-31   \n",
       "2298  1.565293e-04       0.000157 2033-03-31        0      2029-12-31   \n",
       "2299  4.636916e-18            NaN 2033-04-30        0      2029-12-31   \n",
       "\n",
       "      days_late days_late_last_month  prob_rr  rgn  is_default  n_late_status  \\\n",
       "2200          0                  NaN      1.0    1           0              1   \n",
       "2201          0                 None      1.0    1           0              1   \n",
       "2202          0                 None      1.0    1           0              1   \n",
       "2203          0                 None      1.0    1           0              1   \n",
       "2204          0                 None      1.0    1           0              1   \n",
       "2205          0                 None      1.0    1           0              1   \n",
       "2206          0                 None      1.0    1           0              1   \n",
       "2207          0                 None      1.0    1           0              1   \n",
       "2208          0                 None      1.0    1           0              1   \n",
       "2209          0                 None      1.0    1           0              1   \n",
       "2210          0                 None      1.0    1           0              1   \n",
       "2211          0                 None      1.0    1           0              1   \n",
       "2212          0                 None      1.0    1           0              1   \n",
       "2213          0                 None      1.0    1           0              1   \n",
       "2214          0                 None      1.0    1           0              1   \n",
       "2215          0                 None      1.0    1           0              1   \n",
       "2216          0                 None      1.0    1           0              1   \n",
       "2217          0                 None      1.0    1           0              1   \n",
       "2218          0                 None      1.0    1           0              1   \n",
       "2219          0                 None      1.0    1           0              1   \n",
       "2220          0                 None      1.0    1           0              1   \n",
       "2221          0                 None      1.0    1           0              1   \n",
       "2222          0                 None      1.0    1           0              1   \n",
       "2223          0                 None      1.0    1           0              1   \n",
       "2224          0                 None      1.0    1           0              1   \n",
       "2225          0                 None      1.0    1           0              1   \n",
       "2226          0                 None      1.0    1           0              1   \n",
       "2227          0                 None      1.0    1           0              1   \n",
       "2228          0                 None      1.0    1           0              1   \n",
       "2229          0                 None      1.0    1           0              1   \n",
       "2230          0                 None      1.0    1           0              1   \n",
       "2231          0                 None      1.0    1           0              1   \n",
       "2232          0                 None      1.0    1           0              1   \n",
       "2233          0                 None      1.0    1           0              1   \n",
       "2234          0                 None      1.0    1           0              1   \n",
       "2235          0                 None      1.0    1           0              1   \n",
       "2236          0                 None      1.0    1           0              1   \n",
       "2237          0                 None      1.0    1           0              1   \n",
       "2238          0                 None      1.0    1           0              1   \n",
       "2239          0                 None      1.0    1           0              1   \n",
       "2240          0                 None      1.0    1           0              1   \n",
       "2241          0                 None      1.0    1           0              1   \n",
       "2242          0                 None      1.0    1           0              1   \n",
       "2243          0                 None      1.0    1           0              1   \n",
       "2244          0                 None      1.0    1           0              1   \n",
       "2245          0                 None      1.0    1           0              1   \n",
       "2246          0                 None      1.0    1           0              1   \n",
       "2247          0                 None      1.0    1           0              1   \n",
       "2248          0                 None      1.0    1           0              1   \n",
       "2249          0                 None      1.0    1           0              1   \n",
       "2250          0                 None      1.0    1           0              1   \n",
       "2251          0                 None      1.0    1           0              1   \n",
       "2252          0                 None      1.0    1           0              1   \n",
       "2253          0                 None      1.0    1           0              1   \n",
       "2254          0                 None      1.0    1           0              1   \n",
       "2255          0                 None      1.0    1           0              1   \n",
       "2256          0                 None      1.0    1           0              1   \n",
       "2257          0                 None      1.0    1           0              1   \n",
       "2258          0                 None      1.0    1           0              1   \n",
       "2259          1                 None      1.0    1           0              1   \n",
       "2260         30                    1      1.0    1           0              1   \n",
       "2261         60                   30      1.0    1           0              1   \n",
       "2262         90                   60      1.0    1           1              1   \n",
       "2263        120                   90      1.0    1           0              1   \n",
       "2264        150                  120      1.0    1           0              1   \n",
       "2265        180                  150      1.0    1           0              1   \n",
       "2266        210                  180      1.0    1           0              1   \n",
       "2267        240                  210      1.0    1           0              1   \n",
       "2268        270                  240      1.0    1           0              1   \n",
       "2269        300                  270      1.0    1           0              1   \n",
       "2270        330                  300      1.0    1           0              1   \n",
       "2271        360                  330      1.0    1           0              1   \n",
       "2272        390                  360      1.0    1           0              1   \n",
       "2273        390                 None      1.0    1           0              1   \n",
       "2274        390                 None      1.0    1           0              1   \n",
       "2275        390                 None      1.0    1           0              1   \n",
       "2276        390                 None      1.0    1           0              1   \n",
       "2277        390                 None      1.0    1           0              1   \n",
       "2278        390                 None      1.0    1           0              1   \n",
       "2279        390                 None      1.0    1           0              1   \n",
       "2280        390                 None      1.0    1           0              1   \n",
       "2281        390                 None      1.0    1           0              1   \n",
       "2282        390                 None      1.0    1           0              1   \n",
       "2283        390                 None      1.0    1           0              1   \n",
       "2284        390                 None      1.0    1           0              1   \n",
       "2285        390                 None      1.0    1           0              1   \n",
       "2286        390                 None      1.0    1           0              1   \n",
       "2287        390                 None      1.0    1           0              1   \n",
       "2288        390                 None      1.0    1           0              1   \n",
       "2289        390                 None      1.0    1           0              1   \n",
       "2290        390                 None      1.0    1           0              1   \n",
       "2291        390                 None      1.0    1           0              1   \n",
       "2292        390                 None      1.0    1           0              1   \n",
       "2293        390                 None      1.0    1           0              1   \n",
       "2294        390                 None      1.0    1           0              1   \n",
       "2295        390                 None      1.0    1           0              1   \n",
       "2296        390                 None      1.0    1           0              1   \n",
       "2297        390                 None      1.0    1           0              1   \n",
       "2298        390                 None      1.0    1           0              1   \n",
       "2299        390                 None      1.0    1           0              1   \n",
       "\n",
       "     default_date  default_month  default_flag  \n",
       "2200   2030-03-31           62.0             1  \n",
       "2201   2030-03-31           61.0             1  \n",
       "2202   2030-03-31           60.0             1  \n",
       "2203   2030-03-31           59.0             1  \n",
       "2204   2030-03-31           58.0             1  \n",
       "2205   2030-03-31           57.0             1  \n",
       "2206   2030-03-31           56.0             1  \n",
       "2207   2030-03-31           55.0             1  \n",
       "2208   2030-03-31           54.0             1  \n",
       "2209   2030-03-31           53.0             1  \n",
       "2210   2030-03-31           52.0             1  \n",
       "2211   2030-03-31           51.0             1  \n",
       "2212   2030-03-31           50.0             1  \n",
       "2213   2030-03-31           49.0             1  \n",
       "2214   2030-03-31           48.0             1  \n",
       "2215   2030-03-31           47.0             1  \n",
       "2216   2030-03-31           46.0             1  \n",
       "2217   2030-03-31           45.0             1  \n",
       "2218   2030-03-31           44.0             1  \n",
       "2219   2030-03-31           43.0             1  \n",
       "2220   2030-03-31           42.0             1  \n",
       "2221   2030-03-31           41.0             1  \n",
       "2222   2030-03-31           40.0             1  \n",
       "2223   2030-03-31           39.0             1  \n",
       "2224   2030-03-31           38.0             1  \n",
       "2225   2030-03-31           37.0             1  \n",
       "2226   2030-03-31           36.0             1  \n",
       "2227   2030-03-31           35.0             1  \n",
       "2228   2030-03-31           34.0             1  \n",
       "2229   2030-03-31           33.0             1  \n",
       "2230   2030-03-31           32.0             1  \n",
       "2231   2030-03-31           31.0             1  \n",
       "2232   2030-03-31           30.0             1  \n",
       "2233   2030-03-31           29.0             1  \n",
       "2234   2030-03-31           28.0             1  \n",
       "2235   2030-03-31           27.0             1  \n",
       "2236   2030-03-31           26.0             1  \n",
       "2237   2030-03-31           25.0             1  \n",
       "2238   2030-03-31           24.0             1  \n",
       "2239   2030-03-31           23.0             1  \n",
       "2240   2030-03-31           22.0             1  \n",
       "2241   2030-03-31           21.0             1  \n",
       "2242   2030-03-31           20.0             1  \n",
       "2243   2030-03-31           19.0             1  \n",
       "2244   2030-03-31           18.0             1  \n",
       "2245   2030-03-31           17.0             1  \n",
       "2246   2030-03-31           16.0             1  \n",
       "2247   2030-03-31           15.0             1  \n",
       "2248   2030-03-31           14.0             1  \n",
       "2249   2030-03-31           13.0             1  \n",
       "2250   2030-03-31           12.0             1  \n",
       "2251   2030-03-31           11.0             1  \n",
       "2252   2030-03-31           10.0             1  \n",
       "2253   2030-03-31            9.0             1  \n",
       "2254   2030-03-31            8.0             1  \n",
       "2255   2030-03-31            7.0             1  \n",
       "2256   2030-03-31            6.0             1  \n",
       "2257   2030-03-31            5.0             1  \n",
       "2258   2030-03-31            4.0             1  \n",
       "2259   2030-03-31            3.0             1  \n",
       "2260   2030-03-31            2.0             1  \n",
       "2261   2030-03-31            1.0             1  \n",
       "2262   2030-03-31            0.0             1  \n",
       "2263   2030-03-31           -1.0             1  \n",
       "2264   2030-03-31           -2.0             1  \n",
       "2265   2030-03-31           -3.0             1  \n",
       "2266   2030-03-31           -4.0             1  \n",
       "2267   2030-03-31           -5.0             1  \n",
       "2268   2030-03-31           -6.0             1  \n",
       "2269   2030-03-31           -7.0             1  \n",
       "2270   2030-03-31           -8.0             1  \n",
       "2271   2030-03-31           -9.0             1  \n",
       "2272   2030-03-31          -10.0             1  \n",
       "2273   2030-03-31          -11.0             1  \n",
       "2274   2030-03-31          -12.0             1  \n",
       "2275   2030-03-31          -13.0             1  \n",
       "2276   2030-03-31          -14.0             1  \n",
       "2277   2030-03-31          -15.0             1  \n",
       "2278   2030-03-31          -16.0             1  \n",
       "2279   2030-03-31          -17.0             1  \n",
       "2280   2030-03-31          -18.0             1  \n",
       "2281   2030-03-31          -19.0             1  \n",
       "2282   2030-03-31          -20.0             1  \n",
       "2283   2030-03-31          -21.0             1  \n",
       "2284   2030-03-31          -22.0             1  \n",
       "2285   2030-03-31          -23.0             1  \n",
       "2286   2030-03-31          -24.0             1  \n",
       "2287   2030-03-31          -25.0             1  \n",
       "2288   2030-03-31          -26.0             1  \n",
       "2289   2030-03-31          -27.0             1  \n",
       "2290   2030-03-31          -28.0             1  \n",
       "2291   2030-03-31          -29.0             1  \n",
       "2292   2030-03-31          -30.0             1  \n",
       "2293   2030-03-31          -31.0             1  \n",
       "2294   2030-03-31          -32.0             1  \n",
       "2295   2030-03-31          -33.0             1  \n",
       "2296   2030-03-31          -34.0             1  \n",
       "2297   2030-03-31          -35.0             1  \n",
       "2298   2030-03-31          -36.0             1  \n",
       "2299   2030-03-31          -37.0             1  "
      ]
     },
     "execution_count": 68,
     "metadata": {},
     "output_type": "execute_result"
    }
   ],
   "source": [
    "df_sample[df_sample['id']==23]"
   ]
  },
  {
   "cell_type": "code",
   "execution_count": 70,
   "id": "c9c43baa",
   "metadata": {},
   "outputs": [
    {
     "data": {
      "application/vnd.plotly.v1+json": {
       "config": {
        "plotlyServerURL": "https://plot.ly"
       },
       "data": [
        {
         "hovertemplate": "date=2025-01-31 00:00:00<br>variable=id<br>default_month=%{x}<br>value=%{y}<extra></extra>",
         "legendgroup": "2025-01-31 00:00:00",
         "line": {
          "color": "#1F77B4",
          "dash": "solid"
         },
         "marker": {
          "symbol": "circle"
         },
         "mode": "lines",
         "name": "2025-01-31 00:00:00",
         "showlegend": true,
         "type": "scattergl",
         "x": {
          "bdata": "AQIDBAUGBwgJCgsMDQ4PEBESExQVFhcY",
          "dtype": "i1"
         },
         "xaxis": "x",
         "y": {
          "bdata": "AAAAAACAeUAAAAAAAIB5QAAAAAAAgHlAAAAAAACAeUAAAAAAAIB5QAAAAAAAgHlAAAAAAACAeUAAAAAAAIB5QAAAAAAAgHlAAAAAAACAeUAAAAAAAIB5QAAAAAAAgHlAAAAAAACAeUAAAAAAAIB5QAAAAAAAgHlAAAAAAACAeUAAAAAAAIB5QAAAAAAAgHlAAAAAAACAeUAAAAAAAIB5QAAAAAAAgHlAAAAAAACAeUAAAAAAAIB5QAAAAAAAgHlA",
          "dtype": "f8"
         },
         "yaxis": "y"
        },
        {
         "hovertemplate": "date=2025-01-31 00:00:00<br>variable=cum_defaults<br>default_month=%{x}<br>value=%{y}<extra></extra>",
         "legendgroup": "2025-01-31 00:00:00",
         "line": {
          "color": "#1F77B4",
          "dash": "solid"
         },
         "marker": {
          "symbol": "circle"
         },
         "mode": "lines",
         "name": "2025-01-31 00:00:00",
         "showlegend": false,
         "type": "scattergl",
         "x": {
          "bdata": "AQIDBAUGBwgJCgsMDQ4PEBESExQVFhcY",
          "dtype": "i1"
         },
         "xaxis": "x2",
         "y": {
          "bdata": "AAAAAAAAAAAAAAAAAAAAAAAAAAAAAAAA09LS0tLSoj8yMjIyMjKyP5ybm5ubm7s/X19fX19fvz+hoKCgoKDAPzIyMjIyMsI/09LS0tLSwj9zc3Nzc3PDPxQUFBQUFMQ/ZGRkZGRkxD/29fX19fXFP/b19fX19cU/l5aWlpaWxj+XlpaWlpbGP5eWlpaWlsY/5+bm5ubmxj83Nzc3NzfHPzc3Nzc3N8c/Nzc3Nzc3xz+Ih4eHh4fHP4iHh4eHh8c/",
          "dtype": "f8"
         },
         "yaxis": "y2"
        },
        {
         "hovertemplate": "date=2025-01-31 00:00:00<br>variable=default_flag<br>default_month=%{x}<br>value=%{y}<extra></extra>",
         "legendgroup": "2025-01-31 00:00:00",
         "line": {
          "color": "#1F77B4",
          "dash": "solid"
         },
         "marker": {
          "symbol": "circle"
         },
         "mode": "lines",
         "name": "2025-01-31 00:00:00",
         "showlegend": false,
         "type": "scattergl",
         "x": {
          "bdata": "AQIDBAUGBwgJCgsMDQ4PEBESExQVFhcY",
          "dtype": "i1"
         },
         "xaxis": "x3",
         "y": {
          "bdata": "AAAAAAAAAAAAAAAAAAAAAAAAAAAAAAAA09LS0tLSoj+SkZGRkZGhP9PS0tLS0qI/Hh4eHh4ejj8eHh4eHh5+PxkZGRkZGYk/FBQUFBQUdD8UFBQUFBR0PxQUFBQUFHQ/FBQUFBQUZD8ZGRkZGRmJPwAAAAAAAAAAFBQUFBQUdD8AAAAAAAAAAAAAAAAAAAAAFBQUFBQUZD8UFBQUFBRkPwAAAAAAAAAAAAAAAAAAAAAUFBQUFBRkPwAAAAAAAAAA",
          "dtype": "f8"
         },
         "yaxis": "y3"
        },
        {
         "hovertemplate": "date=2025-02-28 00:00:00<br>variable=id<br>default_month=%{x}<br>value=%{y}<extra></extra>",
         "legendgroup": "2025-02-28 00:00:00",
         "line": {
          "color": "#FF7F0E",
          "dash": "solid"
         },
         "marker": {
          "symbol": "circle"
         },
         "mode": "lines",
         "name": "2025-02-28 00:00:00",
         "showlegend": true,
         "type": "scattergl",
         "x": {
          "bdata": "AQIDBAUGBwgJCgsMDQ4PEBESExQVFhcY",
          "dtype": "i1"
         },
         "xaxis": "x",
         "y": {
          "bdata": "AAAAAAAoikAAAAAAACiKQAAAAAAAKIpAAAAAAAAoikAAAAAAACiKQAAAAAAAKIpAAAAAAAAoikAAAAAAACiKQAAAAAAAKIpAAAAAAAAoikAAAAAAACiKQAAAAAAAKIpAAAAAAAAoikAAAAAAACiKQAAAAAAAKIpAAAAAAAAoikAAAAAAACiKQAAAAAAAKIpAAAAAAAAoikAAAAAAACiKQAAAAAAAKIpAAAAAAAAoikAAAAAAACiKQAAAAAAAKIpA",
          "dtype": "f8"
         },
         "yaxis": "y"
        },
        {
         "hovertemplate": "date=2025-02-28 00:00:00<br>variable=cum_defaults<br>default_month=%{x}<br>value=%{y}<extra></extra>",
         "legendgroup": "2025-02-28 00:00:00",
         "line": {
          "color": "#FF7F0E",
          "dash": "solid"
         },
         "marker": {
          "symbol": "circle"
         },
         "mode": "lines",
         "name": "2025-02-28 00:00:00",
         "showlegend": false,
         "type": "scattergl",
         "x": {
          "bdata": "AQIDBAUGBwgJCgsMDQ4PEBESExQVFhcY",
          "dtype": "i1"
         },
         "xaxis": "x2",
         "y": {
          "bdata": "AAAAAAAAAAAAAAAAAAAAAK9nSdDrWZI/FYy+3a9Nqj8pMqzpNLe1P0DjxaV6I7w/lpHUNRDPvz8avEVsBm/BP3o9S4Jez8I/MwWjb/drwz/szPpckAjEP7ei/A4DfsQ/XlyqN8JBxT8pMqzpNLfFP+L5A9fNU8Y/0OtZEvR6xj/Q61kS9HrGP7/dr00aosY/m8FbxGbwxj+Js7H/jBfHP4mzsf+MF8c/eKUHO7M+xz94pQc7sz7HP1SJs7H/jMc/",
          "dtype": "f8"
         },
         "yaxis": "y2"
        },
        {
         "hovertemplate": "date=2025-02-28 00:00:00<br>variable=default_flag<br>default_month=%{x}<br>value=%{y}<extra></extra>",
         "legendgroup": "2025-02-28 00:00:00",
         "line": {
          "color": "#FF7F0E",
          "dash": "solid"
         },
         "marker": {
          "symbol": "circle"
         },
         "mode": "lines",
         "name": "2025-02-28 00:00:00",
         "showlegend": false,
         "type": "scattergl",
         "x": {
          "bdata": "AQIDBAUGBwgJCgsMDQ4PEBESExQVFhcY",
          "dtype": "i1"
         },
         "xaxis": "x3",
         "y": {
          "bdata": "AAAAAAAAAAAAAAAAAAAAAK9nSdDrWZI/PdiZ9bkgoT892Jn1uSChP1zEZvAWsZk/snJ1gKxcjT/qNLcV5XeIPwYWWGCBBYY/Iff4qh2Tcz8h9/iqHZNzP7JydYCsXG0/6jS3FeV3eD+ycnWArFxtPyH3+Kodk3M/Iff4qh2TUz8AAAAAAAAAACH3+Kodk1M/Iff4qh2TYz8h9/iqHZNTPwAAAAAAAAAAIff4qh2TUz8AAAAAAAAAACH3+Kodk2M/",
          "dtype": "f8"
         },
         "yaxis": "y3"
        },
        {
         "hovertemplate": "date=2025-03-31 00:00:00<br>variable=id<br>default_month=%{x}<br>value=%{y}<extra></extra>",
         "legendgroup": "2025-03-31 00:00:00",
         "line": {
          "color": "#2CA02C",
          "dash": "solid"
         },
         "marker": {
          "symbol": "circle"
         },
         "mode": "lines",
         "name": "2025-03-31 00:00:00",
         "showlegend": true,
         "type": "scattergl",
         "x": {
          "bdata": "AQIDBAUGBwgJCgsMDQ4PEBESExQVFhcY",
          "dtype": "i1"
         },
         "xaxis": "x",
         "y": {
          "bdata": "AAAAAADok0AAAAAAAOiTQAAAAAAA6JNAAAAAAADok0AAAAAAAOiTQAAAAAAA6JNAAAAAAADok0AAAAAAAOiTQAAAAAAA6JNAAAAAAADok0AAAAAAAOiTQAAAAAAA6JNAAAAAAADok0AAAAAAAOiTQAAAAAAA6JNAAAAAAADok0AAAAAAAOiTQAAAAAAA6JNAAAAAAADok0AAAAAAAOiTQAAAAAAA6JNAAAAAAADok0AAAAAAAOiTQAAAAAAA6JNA",
          "dtype": "f8"
         },
         "yaxis": "y"
        },
        {
         "hovertemplate": "date=2025-03-31 00:00:00<br>variable=cum_defaults<br>default_month=%{x}<br>value=%{y}<extra></extra>",
         "legendgroup": "2025-03-31 00:00:00",
         "line": {
          "color": "#2CA02C",
          "dash": "solid"
         },
         "marker": {
          "symbol": "circle"
         },
         "mode": "lines",
         "name": "2025-03-31 00:00:00",
         "showlegend": false,
         "type": "scattergl",
         "x": {
          "bdata": "AQIDBAUGBwgJCgsMDQ4PEBESExQVFhcY",
          "dtype": "i1"
         },
         "xaxis": "x2",
         "y": {
          "bdata": "AAAAAAAAAAD0ytOF7xyIP8imtezvR6E/JPOf2mB7sT8GsJJPQre4P7C9SGcrJL4/PzTWh8b6wD/ASj4J3WLCP3fjEuW+ycI/XKLcN1lKwz/L04XvHBjEPwzfOTAozMQ/H8T4+XpmxT/WXM3VXM3FPwSDwkwV58U/BIPCTBXnxT+N9aGxPjTGP+lBjJ+vZ8Y/F2iBFmiBxj8XaIEWaIHGP84AVvJJ6MY//CZLaQICxz9XczVXczXHP1dzNVdzNcc/",
          "dtype": "f8"
         },
         "yaxis": "y2"
        },
        {
         "hovertemplate": "date=2025-03-31 00:00:00<br>variable=default_flag<br>default_month=%{x}<br>value=%{y}<extra></extra>",
         "legendgroup": "2025-03-31 00:00:00",
         "line": {
          "color": "#2CA02C",
          "dash": "solid"
         },
         "marker": {
          "symbol": "circle"
         },
         "mode": "lines",
         "name": "2025-03-31 00:00:00",
         "showlegend": false,
         "type": "scattergl",
         "x": {
          "bdata": "AQIDBAUGBwgJCgsMDQ4PEBESExQVFhcY",
          "dtype": "i1"
         },
         "xaxis": "x3",
         "y": {
          "bdata": "AAAAAAAAAAD0ytOF7xyIPxdogRZogZY/fz+KyNGuoT+L88rThe+cP6g22F6ks5U/aFYdQw2Ljj8XaIEWaIGGP9EtJvV2uGk/otw3WUoTcD/RLSb1drh5PxdogRZogXY/XKLcN1lKcz/RLSb1drhpP9EtJvV2uEk/AAAAAAAAAABcotw3WUpjP9EtJvV2uFk/0S0m9Xa4ST8AAAAAAAAAANEtJvV2uGk/0S0m9Xa4ST/RLSb1drhZPwAAAAAAAAAA",
          "dtype": "f8"
         },
         "yaxis": "y3"
        },
        {
         "hovertemplate": "date=2025-04-30 00:00:00<br>variable=id<br>default_month=%{x}<br>value=%{y}<extra></extra>",
         "legendgroup": "2025-04-30 00:00:00",
         "line": {
          "color": "#D62728",
          "dash": "solid"
         },
         "marker": {
          "symbol": "circle"
         },
         "mode": "lines",
         "name": "2025-04-30 00:00:00",
         "showlegend": true,
         "type": "scattergl",
         "x": {
          "bdata": "AQIDBAUGBwgJCgsMDQ4PEBESExQVFhcY",
          "dtype": "i1"
         },
         "xaxis": "x",
         "y": {
          "bdata": "AAAAAABImkAAAAAAAEiaQAAAAAAASJpAAAAAAABImkAAAAAAAEiaQAAAAAAASJpAAAAAAABImkAAAAAAAEiaQAAAAAAASJpAAAAAAABImkAAAAAAAEiaQAAAAAAASJpAAAAAAABImkAAAAAAAEiaQAAAAAAASJpAAAAAAABImkAAAAAAAEiaQAAAAAAASJpAAAAAAABImkAAAAAAAEiaQAAAAAAASJpAAAAAAABImkAAAAAAAEiaQAAAAAAASJpA",
          "dtype": "f8"
         },
         "yaxis": "y"
        },
        {
         "hovertemplate": "date=2025-04-30 00:00:00<br>variable=cum_defaults<br>default_month=%{x}<br>value=%{y}<extra></extra>",
         "legendgroup": "2025-04-30 00:00:00",
         "line": {
          "color": "#D62728",
          "dash": "solid"
         },
         "marker": {
          "symbol": "circle"
         },
         "mode": "lines",
         "name": "2025-04-30 00:00:00",
         "showlegend": false,
         "type": "scattergl",
         "x": {
          "bdata": "AQIDBAUGBwgJCgsMDQ4PEBESExQVFhcY",
          "dtype": "i1"
         },
         "xaxis": "x2",
         "y": {
          "bdata": "0LQ+opNDgj/EnBXxqC2aP2G5pxGWe6o/B6gYN/PZtD/qABXjZj67P9P6iE4OScA/gqb1EZ0cwj/jZj6b8svCP0QnhyRIe8M/9PUYPpRRxD9WtmHH6QDFP2loYcBIicU/o6GFASMlxj9AvhciEHPGP2dFPGqLhsY/LOny0vPnxj969ztj6g7HP8kFhfPgNcc/yQWF8+A1xz9mIhcUzoPHP7QwYKTEqsc/UU3yxLH4xz951BYNLQzIP6BbO1WoH8g/",
          "dtype": "f8"
         },
         "yaxis": "y2"
        },
        {
         "hovertemplate": "date=2025-04-30 00:00:00<br>variable=default_flag<br>default_month=%{x}<br>value=%{y}<extra></extra>",
         "legendgroup": "2025-04-30 00:00:00",
         "line": {
          "color": "#D62728",
          "dash": "solid"
         },
         "marker": {
          "symbol": "circle"
         },
         "mode": "lines",
         "name": "2025-04-30 00:00:00",
         "showlegend": false,
         "type": "scattergl",
         "x": {
          "bdata": "AQIDBAUGBwgJCgsMDQ4PEBESExQVFhcY",
          "dtype": "i1"
         },
         "xaxis": "x3",
         "y": {
          "bdata": "0LQ+opNDgj9cQvYf3wuRP/7VOTKDyZo/Wy0TuaBwnj+KY/GvzpGZP/PS8+fWTpU/57rKNuw4jT8tDBgpsep1Py0MGCmx6nU//tU5MoPJej8tDBgpsep1P1xC9h/fC3E/RCeHJEh7cz9EJ4ckSHtjP0QnhyRIe0M/FvGoLRpaaD9EJ4ckSHtTP0QnhyRIe1M/AAAAAAAAAABEJ4ckSHtjP0QnhyRIe1M/RCeHJEh7Yz9EJ4ckSHtDP0QnhyRIe0M/",
          "dtype": "f8"
         },
         "yaxis": "y3"
        },
        {
         "hovertemplate": "date=2025-05-31 00:00:00<br>variable=id<br>default_month=%{x}<br>value=%{y}<extra></extra>",
         "legendgroup": "2025-05-31 00:00:00",
         "line": {
          "color": "#9467BD",
          "dash": "solid"
         },
         "marker": {
          "symbol": "circle"
         },
         "mode": "lines",
         "name": "2025-05-31 00:00:00",
         "showlegend": true,
         "type": "scattergl",
         "x": {
          "bdata": "AQIDBAUGBwgJCgsMDQ4PEBESExQVFhcY",
          "dtype": "i1"
         },
         "xaxis": "x",
         "y": {
          "bdata": "AAAAAAA+oEAAAAAAAD6gQAAAAAAAPqBAAAAAAAA+oEAAAAAAAD6gQAAAAAAAPqBAAAAAAAA+oEAAAAAAAD6gQAAAAAAAPqBAAAAAAAA+oEAAAAAAAD6gQAAAAAAAPqBAAAAAAAA+oEAAAAAAAD6gQAAAAAAAPqBAAAAAAAA+oEAAAAAAAD6gQAAAAAAAPqBAAAAAAAA+oEAAAAAAAD6gQAAAAAAAPqBAAAAAAAA+oEAAAAAAAD6gQAAAAAAAPqBA",
          "dtype": "f8"
         },
         "yaxis": "y"
        },
        {
         "hovertemplate": "date=2025-05-31 00:00:00<br>variable=cum_defaults<br>default_month=%{x}<br>value=%{y}<extra></extra>",
         "legendgroup": "2025-05-31 00:00:00",
         "line": {
          "color": "#9467BD",
          "dash": "solid"
         },
         "marker": {
          "symbol": "circle"
         },
         "mode": "lines",
         "name": "2025-05-31 00:00:00",
         "showlegend": false,
         "type": "scattergl",
         "x": {
          "bdata": "AQIDBAUGBwgJCgsMDQ4PEBESExQVFhcY",
          "dtype": "i1"
         },
         "xaxis": "x2",
         "y": {
          "bdata": "I/8YKx6Viz8p7UZASruhP6KDzSWTC64/TU8Egyhptj9DIMZpuzK8P+1GQEq7EcA/w1GYdRu/wD+8GfFmxJvBP2zL9EQwiMI/i+yhg80lwz8+Ovno5KPDP8su/AAIYcQ/W79SoNavxD/Hkqh5XM/EP1cj/xgrHsU/euD/3nNNxT+dnQClvHzFP52dAKW8fMU/LS5XRIvLxT9Q61cK1PrFPyqSA73fOcY/4HuuqaJJxj+WZVmWZVnGPwM5r2/reMY/",
          "dtype": "f8"
         },
         "yaxis": "y2"
        },
        {
         "hovertemplate": "date=2025-05-31 00:00:00<br>variable=default_flag<br>default_month=%{x}<br>value=%{y}<extra></extra>",
         "legendgroup": "2025-05-31 00:00:00",
         "line": {
          "color": "#9467BD",
          "dash": "solid"
         },
         "marker": {
          "symbol": "circle"
         },
         "mode": "lines",
         "name": "2025-05-31 00:00:00",
         "showlegend": false,
         "type": "scattergl",
         "x": {
          "bdata": "AQIDBAUGBwgJCgsMDQ4PEBESExQVFhcY",
          "dtype": "i1"
         },
         "xaxis": "x3",
         "y": {
          "bdata": "I/8YKx6Viz/AWgFrBayVP/IsDcuRoJg/7zV2wHuNnT/ZQwebSyaXP7ts01XZhY8/wFoBawWsdT8j/xgrHpV7P+81dsB7jX0/9SOk1aezcz+7bNNV2YVvP4yRXgBjpHc/9SOk1aezYz+7bNNV2YVPP/UjpNWns2M/jJFeAGOkVz+MkV4AY6RXPwAAAAAAAAAA9SOk1aezYz+MkV4AY6RXP7ts01XZhV8/u2zTVdmFPz+7bNNV2YU/P7ts01XZhU8/",
          "dtype": "f8"
         },
         "yaxis": "y3"
        },
        {
         "hovertemplate": "date=2025-06-30 00:00:00<br>variable=id<br>default_month=%{x}<br>value=%{y}<extra></extra>",
         "legendgroup": "2025-06-30 00:00:00",
         "line": {
          "color": "#8C564B",
          "dash": "solid"
         },
         "marker": {
          "symbol": "circle"
         },
         "mode": "lines",
         "name": "2025-06-30 00:00:00",
         "showlegend": true,
         "type": "scattergl",
         "x": {
          "bdata": "AQIDBAUGBwgJCgsMDQ4PEBESExQVFhcY",
          "dtype": "i1"
         },
         "xaxis": "x",
         "y": {
          "bdata": "AAAAAABCo0AAAAAAAEKjQAAAAAAAQqNAAAAAAABCo0AAAAAAAEKjQAAAAAAAQqNAAAAAAABCo0AAAAAAAEKjQAAAAAAAQqNAAAAAAABCo0AAAAAAAEKjQAAAAAAAQqNAAAAAAABCo0AAAAAAAEKjQAAAAAAAQqNAAAAAAABCo0AAAAAAAEKjQAAAAAAAQqNAAAAAAABCo0AAAAAAAEKjQAAAAAAAQqNAAAAAAABCo0AAAAAAAEKjQAAAAAAAQqNA",
          "dtype": "f8"
         },
         "yaxis": "y"
        },
        {
         "hovertemplate": "date=2025-06-30 00:00:00<br>variable=cum_defaults<br>default_month=%{x}<br>value=%{y}<extra></extra>",
         "legendgroup": "2025-06-30 00:00:00",
         "line": {
          "color": "#8C564B",
          "dash": "solid"
         },
         "marker": {
          "symbol": "circle"
         },
         "mode": "lines",
         "name": "2025-06-30 00:00:00",
         "showlegend": false,
         "type": "scattergl",
         "x": {
          "bdata": "AQIDBAUGBwgJCgsMDQ4PEBESExQVFhcY",
          "dtype": "i1"
         },
         "xaxis": "x2",
         "y": {
          "bdata": "UN2Naj5Hkj/EoHR9SIajP0xDeDqt/K8/nIEgZ7+ttz/oJbNjQBS9PzHHQl2+d78/z1sM6bzFwD9mbjl3BLXBP7+16qwfb8I/qSQ/oFkBwz/SXg/sv8jDP34C6IbNJcQ/jMCC9URoxD+Zfh1kvKrEPwhXeqad0sQ/di/X6H76xD8VFRUVFRXFPyPTr4OMV8U/MJFK8gOaxT8NQgR3xunFP900I40R98U/rCdCo1wExj9LDYDP8h7GP4nY+ycfVMY/",
          "dtype": "f8"
         },
         "yaxis": "y2"
        },
        {
         "hovertemplate": "date=2025-06-30 00:00:00<br>variable=default_flag<br>default_month=%{x}<br>value=%{y}<extra></extra>",
         "legendgroup": "2025-06-30 00:00:00",
         "line": {
          "color": "#8C564B",
          "dash": "solid"
         },
         "marker": {
          "symbol": "circle"
         },
         "mode": "lines",
         "name": "2025-06-30 00:00:00",
         "showlegend": false,
         "type": "scattergl",
         "x": {
          "bdata": "AQIDBAUGBwgJCgsMDQ4PEBESExQVFhcY",
          "dtype": "i1"
         },
         "xaxis": "x3",
         "y": {
          "bdata": "UN2Naj5Hkj84ZFuQUsWUPxBFB3rJ7Jg/2H+RJ6O9nj8wkUryA5qVP0gKfczvG4M/YIOvptudgD/gUqLF8eh9PyDrKLZmQ3c/UN2Naj5Hcj8QRQd6yex4PyDrKLZmQ2c/YIOvptudYD9gg6+m251gP0A3bC6h8FM/QDdsLqHwUz8An+U9LJZKP2CDr6bbnWA/YIOvptudYD9AN2wuofBjPwCf5T0sljo/AJ/lPSyWOj8An+U9LJZKPwCf5T0sllo/",
          "dtype": "f8"
         },
         "yaxis": "y3"
        },
        {
         "hovertemplate": "date=2025-07-31 00:00:00<br>variable=id<br>default_month=%{x}<br>value=%{y}<extra></extra>",
         "legendgroup": "2025-07-31 00:00:00",
         "line": {
          "color": "#E377C2",
          "dash": "solid"
         },
         "marker": {
          "symbol": "circle"
         },
         "mode": "lines",
         "name": "2025-07-31 00:00:00",
         "showlegend": true,
         "type": "scattergl",
         "x": {
          "bdata": "AQIDBAUGBwgJCgsMDQ4PEBESExQVFhcY",
          "dtype": "i1"
         },
         "xaxis": "x",
         "y": {
          "bdata": "AAAAAAAypkAAAAAAADKmQAAAAAAAMqZAAAAAAAAypkAAAAAAADKmQAAAAAAAMqZAAAAAAAAypkAAAAAAADKmQAAAAAAAMqZAAAAAAAAypkAAAAAAADKmQAAAAAAAMqZAAAAAAAAypkAAAAAAADKmQAAAAAAAMqZAAAAAAAAypkAAAAAAADKmQAAAAAAAMqZAAAAAAAAypkAAAAAAADKmQAAAAAAAMqZAAAAAAAAypkAAAAAAADKmQAAAAAAAMqZA",
          "dtype": "f8"
         },
         "yaxis": "y"
        },
        {
         "hovertemplate": "date=2025-07-31 00:00:00<br>variable=cum_defaults<br>default_month=%{x}<br>value=%{y}<extra></extra>",
         "legendgroup": "2025-07-31 00:00:00",
         "line": {
          "color": "#E377C2",
          "dash": "solid"
         },
         "marker": {
          "symbol": "circle"
         },
         "mode": "lines",
         "name": "2025-07-31 00:00:00",
         "showlegend": false,
         "type": "scattergl",
         "x": {
          "bdata": "AQIDBAUGBwgJCgsMDQ4PEBESExQVFhcY",
          "dtype": "i1"
         },
         "xaxis": "x2",
         "y": {
          "bdata": "a+U+NpYFkj/CYngI8tKjP/JNd/R/lLA/C/GVgHUotz/L+M9cCpW6P0WuQnwlYL0/84oKQ9igvz9px5NYkavAP/PcTGOCQcE/415bmqccwj8FCL94ZG3CP1tnTW274MI/fRCxS3gxwz9tA+oTm1/DPxgzMY5GmcM/fp+Gunrewz/lC9zmriPEP5A7I2FaXcQ/suSGPxeuxD8qXqOjKMXEP6LXvwc63MQ/1Y3qHdT+xD/EgCPm9izFP/c2TvyQT8U/",
          "dtype": "f8"
         },
         "yaxis": "y2"
        },
        {
         "hovertemplate": "date=2025-07-31 00:00:00<br>variable=default_flag<br>default_month=%{x}<br>value=%{y}<extra></extra>",
         "legendgroup": "2025-07-31 00:00:00",
         "line": {
          "color": "#E377C2",
          "dash": "solid"
         },
         "marker": {
          "symbol": "circle"
         },
         "mode": "lines",
         "name": "2025-07-31 00:00:00",
         "showlegend": false,
         "type": "scattergl",
         "x": {
          "bdata": "AQIDBAUGBwgJCgsMDQ4PEBESExQVFhcY",
          "dtype": "i1"
         },
         "xaxis": "x3",
         "y": {
          "bdata": "a+U+NpYFkj8a4LHaTaCVP0Jy7MAbrJo/ZIx6MNZPmj//PdDhpmSLP9erlfvYWIY/a+U+NpYFgj//PdDhpmR7PyixIlchvnI//z3Q4aZkez+hSOqYNy9kP3jVlyO91Ww/oUjqmDcvZD+Td3kcZBFXP3jVlyO91Vw/rhlbFQtNYT+uGVsVC01hP3jVlyO91Vw/oUjqmDcvZD+Td3kcZBFHP5N3eRxkEUc/rhlbFQtNUT+Td3kcZBFXP64ZWxULTVE/",
          "dtype": "f8"
         },
         "yaxis": "y3"
        },
        {
         "hovertemplate": "date=2025-08-31 00:00:00<br>variable=id<br>default_month=%{x}<br>value=%{y}<extra></extra>",
         "legendgroup": "2025-08-31 00:00:00",
         "line": {
          "color": "#7F7F7F",
          "dash": "solid"
         },
         "marker": {
          "symbol": "circle"
         },
         "mode": "lines",
         "name": "2025-08-31 00:00:00",
         "showlegend": true,
         "type": "scattergl",
         "x": {
          "bdata": "AQIDBAUGBwgJCgsMDQ4PEBESExQVFhcY",
          "dtype": "i1"
         },
         "xaxis": "x",
         "y": {
          "bdata": "AAAAAADOqEAAAAAAAM6oQAAAAAAAzqhAAAAAAADOqEAAAAAAAM6oQAAAAAAAzqhAAAAAAADOqEAAAAAAAM6oQAAAAAAAzqhAAAAAAADOqEAAAAAAAM6oQAAAAAAAzqhAAAAAAADOqEAAAAAAAM6oQAAAAAAAzqhAAAAAAADOqEAAAAAAAM6oQAAAAAAAzqhAAAAAAADOqEAAAAAAAM6oQAAAAAAAzqhAAAAAAADOqEAAAAAAAM6oQAAAAAAAzqhA",
          "dtype": "f8"
         },
         "yaxis": "y"
        },
        {
         "hovertemplate": "date=2025-08-31 00:00:00<br>variable=cum_defaults<br>default_month=%{x}<br>value=%{y}<extra></extra>",
         "legendgroup": "2025-08-31 00:00:00",
         "line": {
          "color": "#7F7F7F",
          "dash": "solid"
         },
         "marker": {
          "symbol": "circle"
         },
         "mode": "lines",
         "name": "2025-08-31 00:00:00",
         "showlegend": false,
         "type": "scattergl",
         "x": {
          "bdata": "AQIDBAUGBwgJCgsMDQ4PEBESExQVFhcY",
          "dtype": "i1"
         },
         "xaxis": "x2",
         "y": {
          "bdata": "cJ41AedZkz+GiiaO25ulPw0/PqS9sLA/pGtPQbr2tD/uJFoOgtW4P8ETvRE80bs/QlTdIUTVvT++WcEOz0i/Pw0/PqS9sMA/WrJEdPIXwT9ye7OCHZ7BP9F87D0A+8E/QQxY5JBNwj/WtyhhfYvCP1nVxvK708I/ymQymUwmwz9MgtAqi27DP70RPNEbwcM/h2ekDxLgwz9SvQxOCP/DP/j2D7aiMsQ/sb5FCetbxD9phntcM4XEPyFOsa97rsQ/",
          "dtype": "f8"
         },
         "yaxis": "y2"
        },
        {
         "hovertemplate": "date=2025-08-31 00:00:00<br>variable=default_flag<br>default_month=%{x}<br>value=%{y}<extra></extra>",
         "legendgroup": "2025-08-31 00:00:00",
         "line": {
          "color": "#7F7F7F",
          "dash": "solid"
         },
         "marker": {
          "symbol": "circle"
         },
         "mode": "lines",
         "name": "2025-08-31 00:00:00",
         "showlegend": false,
         "type": "scattergl",
         "x": {
          "bdata": "AQIDBAUGBwgJCgsMDQ4PEBESExQVFhcY",
          "dtype": "i1"
         },
         "xaxis": "x3",
         "y": {
          "bdata": "cJ41AedZkz+bdhcb0N2XPyrnq3Q/i5c/WrJEdPIXkT9NylVoPvaOP5t2FxvQ3Yc/CAQCgUAggD+6V0DOrjh3P+oi2c1hxYA/QNOcATTNaT/qItnNYcVwP7pXQM6uOGc/M9zjmimkZD9NylVoPvZeP61gh2ekD2I/M9zjmimkZD+tYIdnpA9iPzPc45oppGQ/TcpVaD72Tj9NylVoPvZOP0DTnAE0zVk/M9zjmimkVD8z3OOaKaRUPzPc45oppFQ/",
          "dtype": "f8"
         },
         "yaxis": "y3"
        },
        {
         "hovertemplate": "date=2025-09-30 00:00:00<br>variable=id<br>default_month=%{x}<br>value=%{y}<extra></extra>",
         "legendgroup": "2025-09-30 00:00:00",
         "line": {
          "color": "#BCBD22",
          "dash": "solid"
         },
         "marker": {
          "symbol": "circle"
         },
         "mode": "lines",
         "name": "2025-09-30 00:00:00",
         "showlegend": true,
         "type": "scattergl",
         "x": {
          "bdata": "AQIDBAUGBwgJCgsMDQ4PEBESExQVFhcY",
          "dtype": "i1"
         },
         "xaxis": "x",
         "y": {
          "bdata": "AAAAAACoq0AAAAAAAKirQAAAAAAAqKtAAAAAAACoq0AAAAAAAKirQAAAAAAAqKtAAAAAAACoq0AAAAAAAKirQAAAAAAAqKtAAAAAAACoq0AAAAAAAKirQAAAAAAAqKtAAAAAAACoq0AAAAAAAKirQAAAAAAAqKtAAAAAAACoq0AAAAAAAKirQAAAAAAAqKtAAAAAAACoq0AAAAAAAKirQAAAAAAAqKtAAAAAAACoq0AAAAAAAKirQAAAAAAAqKtA",
          "dtype": "f8"
         },
         "yaxis": "y"
        },
        {
         "hovertemplate": "date=2025-09-30 00:00:00<br>variable=cum_defaults<br>default_month=%{x}<br>value=%{y}<extra></extra>",
         "legendgroup": "2025-09-30 00:00:00",
         "line": {
          "color": "#BCBD22",
          "dash": "solid"
         },
         "marker": {
          "symbol": "circle"
         },
         "mode": "lines",
         "name": "2025-09-30 00:00:00",
         "showlegend": false,
         "type": "scattergl",
         "x": {
          "bdata": "AQIDBAUGBwgJCgsMDQ4PEBESExQVFhcY",
          "dtype": "i1"
         },
         "xaxis": "x2",
         "y": {
          "bdata": "1FruqNhnlT/WT7wB0kKlP2uWGJ8y7aw/dqU04uoEsz+49KrNNW63Pw7WLDE+Zbo/c2pQAhhZvD/QKjxwDOG+P0NyAa+30b8/WmJ8yrRzwD+UAEYWh9nAP1CZdg7WLME/jCwOs6FtwT+IQnIBr7fBP0Pbovn9CsI/gG46nslLwj87B2uWGJ/CP3qP0JPdusI/uBc2kaLWwj92pTTi6gTDP3SwZonxKcM/MT5l2jlYwz/vy2MrgobDP2zcLiYMvsM/",
          "dtype": "f8"
         },
         "yaxis": "y2"
        },
        {
         "hovertemplate": "date=2025-09-30 00:00:00<br>variable=default_flag<br>default_month=%{x}<br>value=%{y}<extra></extra>",
         "legendgroup": "2025-09-30 00:00:00",
         "line": {
          "color": "#BCBD22",
          "dash": "solid"
         },
         "marker": {
          "symbol": "circle"
         },
         "mode": "lines",
         "name": "2025-09-30 00:00:00",
         "showlegend": false,
         "type": "scattergl",
         "x": {
          "bdata": "AQIDBAUGBwgJCgsMDQ4PEBESExQVFhcY",
          "dtype": "i1"
         },
         "xaxis": "x3",
         "y": {
          "bdata": "1FruqNhnlT/YRIpayx2VP1MacXWCqY4/AWmhSkY5kj8JPdmtK6WRP7QKDxxDuIc/S0Y5Ep09fz/lAl5voz+EP1vuqNhnFW4/DSd1Xx5bcT+cjmfyknRpP9wuJgy+02Q/Hc/kJekyYD/9fgWZU4NiP9wuJgy+02Q/Hc/kJekyYD/cLiYMvtNkP3s+iGX9xEs/ez6IZf3ESz+83kZ/KCRXP/1+BZlTg1I/vN5GfygkVz+83kZ/KCRXP3s+iGX9xFs/",
          "dtype": "f8"
         },
         "yaxis": "y3"
        },
        {
         "hovertemplate": "date=2025-10-31 00:00:00<br>variable=id<br>default_month=%{x}<br>value=%{y}<extra></extra>",
         "legendgroup": "2025-10-31 00:00:00",
         "line": {
          "color": "#17BECF",
          "dash": "solid"
         },
         "marker": {
          "symbol": "circle"
         },
         "mode": "lines",
         "name": "2025-10-31 00:00:00",
         "showlegend": true,
         "type": "scattergl",
         "x": {
          "bdata": "AQIDBAUGBwgJCgsMDQ4PEBESExQVFhcY",
          "dtype": "i1"
         },
         "xaxis": "x",
         "y": {
          "bdata": "AAAAAAA2rkAAAAAAADauQAAAAAAANq5AAAAAAAA2rkAAAAAAADauQAAAAAAANq5AAAAAAAA2rkAAAAAAADauQAAAAAAANq5AAAAAAAA2rkAAAAAAADauQAAAAAAANq5AAAAAAAA2rkAAAAAAADauQAAAAAAANq5AAAAAAAA2rkAAAAAAADauQAAAAAAANq5AAAAAAAA2rkAAAAAAADauQAAAAAAANq5AAAAAAAA2rkAAAAAAADauQAAAAAAANq5A",
          "dtype": "f8"
         },
         "yaxis": "y"
        },
        {
         "hovertemplate": "date=2025-10-31 00:00:00<br>variable=cum_defaults<br>default_month=%{x}<br>value=%{y}<extra></extra>",
         "legendgroup": "2025-10-31 00:00:00",
         "line": {
          "color": "#17BECF",
          "dash": "solid"
         },
         "marker": {
          "symbol": "circle"
         },
         "mode": "lines",
         "name": "2025-10-31 00:00:00",
         "showlegend": false,
         "type": "scattergl",
         "x": {
          "bdata": "AQIDBAUGBwgJCgsMDQ4PEBESExQVFhcY",
          "dtype": "i1"
         },
         "xaxis": "x2",
         "y": {
          "bdata": "fMS426tUkz/tX3Vpxa6gP+MPMB4oBqk/fmRWJSR6sT8xOsMhJkC1P3e0riP/9rc/BhnyleWcuj/gn8Ov8827P0yT3Ze+U70/bwQHItpzvj+4HpBtK1C/P27M0Oq/178/7cfceyM4wD9/NCVK4IzAP3+A8UAxyMA/7PcNV2clwT9/GIou0z7BP+xD2k24YME/NXr+tBaLwT9+sCIcdbXBP6LxGstM6ME/6yc/MqsSwj/rcwsp/E3CP32UhwBoZ8I/",
          "dtype": "f8"
         },
         "yaxis": "y2"
        },
        {
         "hovertemplate": "date=2025-10-31 00:00:00<br>variable=default_flag<br>default_month=%{x}<br>value=%{y}<extra></extra>",
         "legendgroup": "2025-10-31 00:00:00",
         "line": {
          "color": "#17BECF",
          "dash": "solid"
         },
         "marker": {
          "symbol": "circle"
         },
         "mode": "lines",
         "name": "2025-10-31 00:00:00",
         "showlegend": false,
         "type": "scattergl",
         "x": {
          "bdata": "AQIDBAUGBwgJCgsMDQ4PEBESExQVFhcY",
          "dtype": "i1"
         },
         "xaxis": "x3",
         "y": {
          "bdata": "fMS426tUkz+79mPuvRGMP+1fdWnFrpA/MnL5WEDckz+UrWbjDzCOPzDSWw/ItoU/eiQbkjMvhT+hbRid4RBzP8A2n4GuXHg/NRKXorgBcj8FSSNxKYprP8i2FaiP8mA/oW0YneEQYz96JBuSMy9lP97/JWZ7qF0/U9sdh4VNZz8skiB812tJP8i2FaiP8lA/eiQbkjMvVT96JBuSMy9VPyySIHzXa1k/eiQbkjMvVT/e/yVme6hdPyySIHzXa0k/",
          "dtype": "f8"
         },
         "yaxis": "y3"
        },
        {
         "hovertemplate": "date=2025-11-30 00:00:00<br>variable=id<br>default_month=%{x}<br>value=%{y}<extra></extra>",
         "legendgroup": "2025-11-30 00:00:00",
         "line": {
          "color": "#1F77B4",
          "dash": "solid"
         },
         "marker": {
          "symbol": "circle"
         },
         "mode": "lines",
         "name": "2025-11-30 00:00:00",
         "showlegend": true,
         "type": "scattergl",
         "x": {
          "bdata": "AQIDBAUGBwgJCgsMDQ4PEBESExQVFhcY",
          "dtype": "i1"
         },
         "xaxis": "x",
         "y": {
          "bdata": "AAAAAABVsEAAAAAAAFWwQAAAAAAAVbBAAAAAAABVsEAAAAAAAFWwQAAAAAAAVbBAAAAAAABVsEAAAAAAAFWwQAAAAAAAVbBAAAAAAABVsEAAAAAAAFWwQAAAAAAAVbBAAAAAAABVsEAAAAAAAFWwQAAAAAAAVbBAAAAAAABVsEAAAAAAAFWwQAAAAAAAVbBAAAAAAABVsEAAAAAAAFWwQAAAAAAAVbBAAAAAAABVsEAAAAAAAFWwQAAAAAAAVbBA",
          "dtype": "f8"
         },
         "yaxis": "y"
        },
        {
         "hovertemplate": "date=2025-11-30 00:00:00<br>variable=cum_defaults<br>default_month=%{x}<br>value=%{y}<extra></extra>",
         "legendgroup": "2025-11-30 00:00:00",
         "line": {
          "color": "#1F77B4",
          "dash": "solid"
         },
         "marker": {
          "symbol": "circle"
         },
         "mode": "lines",
         "name": "2025-11-30 00:00:00",
         "showlegend": false,
         "type": "scattergl",
         "x": {
          "bdata": "AQIDBAUGBwgJCgsMDQ4PEBESExQVFhcY",
          "dtype": "i1"
         },
         "xaxis": "x2",
         "y": {
          "bdata": "LxUOshT2iT853VfREWmcP7+cAB6+Y6c/caWqqXlJsD9KQE766JezPyOiCKf4l7Y/9eY0ICoQuD8vFQ6yFPa5P81I78w5ELs/0fOquFj7uz9stbmLvni8P6L/7Y0qJb0/P/rlBPDwvT/au/TXVW6+P0PeipRuKr8/3maww3RZvz+rxzetJ5i/P+DYggs09r8/CvXmNCAqwD+lfQxkJlnAPyUaATZWgMA/2Y5XwjK3wD9APxs3jNbAP1orTJRi3sA/",
          "dtype": "f8"
         },
         "yaxis": "y2"
        },
        {
         "hovertemplate": "date=2025-11-30 00:00:00<br>variable=default_flag<br>default_month=%{x}<br>value=%{y}<extra></extra>",
         "legendgroup": "2025-11-30 00:00:00",
         "line": {
          "color": "#1F77B4",
          "dash": "solid"
         },
         "marker": {
          "symbol": "circle"
         },
         "mode": "lines",
         "name": "2025-11-30 00:00:00",
         "showlegend": false,
         "type": "scattergl",
         "x": {
          "bdata": "AQIDBAUGBwgJCgsMDQ4PEBESExQVFhcY",
          "dtype": "i1"
         },
         "xaxis": "x3",
         "y": {
          "bdata": "LxUOshT2iT9CpaHwDtyOP0ZcqWpqXpI/Rlypampekj/L1hyFenOKP8IO02V9AIg/Jk3EkheDdz+n45IdqV5+P905E65RonE/cGB1d91jbT/eZrDDdFlfP7hGiUaAjWU/lFP/3q54aT/eZrDDdFlfPyZNxJIXg2c/Jk3EkheDRz/eZrDDdFlPPyZNxJIXg1c/Jk3EkheDVz8mTcSSF4NXP0pATvrol1M/Alo6K0ZuWz/eZrDDdFlPP95msMN0WS8/",
          "dtype": "f8"
         },
         "yaxis": "y3"
        },
        {
         "hovertemplate": "date=2025-12-31 00:00:00<br>variable=id<br>default_month=%{x}<br>value=%{y}<extra></extra>",
         "legendgroup": "2025-12-31 00:00:00",
         "line": {
          "color": "#FF7F0E",
          "dash": "solid"
         },
         "marker": {
          "symbol": "circle"
         },
         "mode": "lines",
         "name": "2025-12-31 00:00:00",
         "showlegend": true,
         "type": "scattergl",
         "x": {
          "bdata": "AQIDBAUGBwgJCgsMDQ4PEBESExQVFhcY",
          "dtype": "i1"
         },
         "xaxis": "x",
         "y": {
          "bdata": "AAAAAADLsUAAAAAAAMuxQAAAAAAAy7FAAAAAAADLsUAAAAAAAMuxQAAAAAAAy7FAAAAAAADLsUAAAAAAAMuxQAAAAAAAy7FAAAAAAADLsUAAAAAAAMuxQAAAAAAAy7FAAAAAAADLsUAAAAAAAMuxQAAAAAAAy7FAAAAAAADLsUAAAAAAAMuxQAAAAAAAy7FAAAAAAADLsUAAAAAAAMuxQAAAAAAAy7FAAAAAAADLsUAAAAAAAMuxQAAAAAAAy7FA",
          "dtype": "f8"
         },
         "yaxis": "y"
        },
        {
         "hovertemplate": "date=2025-12-31 00:00:00<br>variable=cum_defaults<br>default_month=%{x}<br>value=%{y}<extra></extra>",
         "legendgroup": "2025-12-31 00:00:00",
         "line": {
          "color": "#FF7F0E",
          "dash": "solid"
         },
         "marker": {
          "symbol": "circle"
         },
         "mode": "lines",
         "name": "2025-12-31 00:00:00",
         "showlegend": false,
         "type": "scattergl",
         "x": {
          "bdata": "AQIDBAUGBwgJCgsMDQ4PEBESExQVFhcY",
          "dtype": "i1"
         },
         "xaxis": "x2",
         "y": {
          "bdata": "G7L9WmdTjD+vqgl8AwafPyk+SqUp8ac/EarKfpA/rz+uCoYtwmOzP7lDgYw067U/KT5KpSnxtz+GufE5y6C5P5Z2Bgcpsro/MrU4TaYzuz8IM9zWE/27P2dwkCKr8bw/jW7TKlKevT+ybBYz+Uq+PzssJ/Uidr4/dWuYOBO+vj9gKmr9ySK/P0vpO8KAh78/NqgNhzfsvz+4cz/lExrAPy5TqEdvTMA/y/JgaWdwwD+3ErkJmXfAP6MyEarKfsA/",
          "dtype": "f8"
         },
         "yaxis": "y2"
        },
        {
         "hovertemplate": "date=2025-12-31 00:00:00<br>variable=default_flag<br>default_month=%{x}<br>value=%{y}<extra></extra>",
         "legendgroup": "2025-12-31 00:00:00",
         "line": {
          "color": "#FF7F0E",
          "dash": "solid"
         },
         "marker": {
          "symbol": "circle"
         },
         "mode": "lines",
         "name": "2025-12-31 00:00:00",
         "showlegend": false,
         "type": "scattergl",
         "x": {
          "bdata": "AQIDBAUGBwgJCgsMDQ4PEBESExQVFhcY",
          "dtype": "i1"
         },
         "xaxis": "x3",
         "y": {
          "bdata": "G7L9WmdTjD+i0YrOT9yQP6LRis5P3JA/oq8BZps5jT8prQVxzx+OP1zI2feSO4Q/fdNHxqgvgD/QtXdKGfp6PwTRS9HcFXE/fdNHxqgvYD/Cum80sS1pP+yrh3bpkm4/p8RfCOGUZT+nxF8I4ZRlP6fEXwjhlEU/i85P3BD8UT/Cum80sS1ZP8K6bzSxLVk/wrpvNLEtWT+Lzk/cEPxRP8K6bzSxLVk/i85P3BD8UT/esH9ggcYsP96wf2CBxiw/",
          "dtype": "f8"
         },
         "yaxis": "y3"
        },
        {
         "hovertemplate": "date=2026-01-31 00:00:00<br>variable=id<br>default_month=%{x}<br>value=%{y}<extra></extra>",
         "legendgroup": "2026-01-31 00:00:00",
         "line": {
          "color": "#2CA02C",
          "dash": "solid"
         },
         "marker": {
          "symbol": "circle"
         },
         "mode": "lines",
         "name": "2026-01-31 00:00:00",
         "showlegend": true,
         "type": "scattergl",
         "x": {
          "bdata": "AQIDBAUGBwgJCgsMDQ4PEBESExQVFhcY",
          "dtype": "i1"
         },
         "xaxis": "x",
         "y": {
          "bdata": "AAAAAAAds0AAAAAAAB2zQAAAAAAAHbNAAAAAAAAds0AAAAAAAB2zQAAAAAAAHbNAAAAAAAAds0AAAAAAAB2zQAAAAAAAHbNAAAAAAAAds0AAAAAAAB2zQAAAAAAAHbNAAAAAAAAds0AAAAAAAB2zQAAAAAAAHbNAAAAAAAAds0AAAAAAAB2zQAAAAAAAHbNAAAAAAAAds0AAAAAAAB2zQAAAAAAAHbNAAAAAAAAds0AAAAAAAB2zQAAAAAAAHbNA",
          "dtype": "f8"
         },
         "yaxis": "y"
        },
        {
         "hovertemplate": "date=2026-01-31 00:00:00<br>variable=cum_defaults<br>default_month=%{x}<br>value=%{y}<extra></extra>",
         "legendgroup": "2026-01-31 00:00:00",
         "line": {
          "color": "#2CA02C",
          "dash": "solid"
         },
         "marker": {
          "symbol": "circle"
         },
         "mode": "lines",
         "name": "2026-01-31 00:00:00",
         "showlegend": false,
         "type": "scattergl",
         "x": {
          "bdata": "AQIDBAUGBwgJCgsMDQ4PEBESExQVFhcY",
          "dtype": "i1"
         },
         "xaxis": "x2",
         "y": {
          "bdata": "F5DW90tkjz8XkNb3S2SfP4grwJNYf6Y/VFZmDO8Trz9jKT371k+yPxkBpygj4LQ/aUh4CYentj90Lzm3+ui3Pzu26TF+pLg/QlBqUMt6uT/LEIu2q4a6P/GNU1/KNLs/dwE0NoTVuz86O6Qh4SW8P/10FA0+drw/YLhsyv/TvD9kBa1ZJj+9P8dIBRfonL0/6XiNMODfvT/txc2/Bku+P7D/Patjm74/UAkmfciovj8xJt7y9tC+P7NMfjqKBr8/",
          "dtype": "f8"
         },
         "yaxis": "y2"
        },
        {
         "hovertemplate": "date=2026-01-31 00:00:00<br>variable=default_flag<br>default_month=%{x}<br>value=%{y}<extra></extra>",
         "legendgroup": "2026-01-31 00:00:00",
         "line": {
          "color": "#2CA02C",
          "dash": "solid"
         },
         "marker": {
          "symbol": "circle"
         },
         "mode": "lines",
         "name": "2026-01-31 00:00:00",
         "showlegend": false,
         "type": "scattergl",
         "x": {
          "bdata": "AQIDBAUGBwgJCgsMDQ4PEBESExQVFhcY",
          "dtype": "i1"
         },
         "xaxis": "x3",
         "y": {
          "bdata": "F5DW90tkjz8XkNb3S2SPP/GNU1/KNIs/mFVM8SwpkT/F8U+o+y6GP7a9TmthgoQ//XQUDT52fD+ycA7cOhd0P9DYEFZvcGc/7kAT0KPJaj+VCAxiBr5wP8GkDxnVw2U/snAO3DoXZD+ycA7cOhdUP7JwDtw6F1Q/0NgQVm9wVz/uQBPQo8laP9DYEFZvcFc/lQgMYga+UD/uQBPQo8laP7JwDtw6F1Q/7kAT0KPJKj+ycA7cOhdEP+5AE9CjyUo/",
          "dtype": "f8"
         },
         "yaxis": "y3"
        },
        {
         "hovertemplate": "date=2026-02-28 00:00:00<br>variable=id<br>default_month=%{x}<br>value=%{y}<extra></extra>",
         "legendgroup": "2026-02-28 00:00:00",
         "line": {
          "color": "#D62728",
          "dash": "solid"
         },
         "marker": {
          "symbol": "circle"
         },
         "mode": "lines",
         "name": "2026-02-28 00:00:00",
         "showlegend": true,
         "type": "scattergl",
         "x": {
          "bdata": "AQIDBAUGBwgJCgsMDQ4PEBESExQVFhcY",
          "dtype": "i1"
         },
         "xaxis": "x",
         "y": {
          "bdata": "AAAAAACdtEAAAAAAAJ20QAAAAAAAnbRAAAAAAACdtEAAAAAAAJ20QAAAAAAAnbRAAAAAAACdtEAAAAAAAJ20QAAAAAAAnbRAAAAAAACdtEAAAAAAAJ20QAAAAAAAnbRAAAAAAACdtEAAAAAAAJ20QAAAAAAAnbRAAAAAAACdtEAAAAAAAJ20QAAAAAAAnbRAAAAAAACdtEAAAAAAAJ20QAAAAAAAnbRAAAAAAACdtEAAAAAAAJ20QAAAAAAAnbRA",
          "dtype": "f8"
         },
         "yaxis": "y"
        },
        {
         "hovertemplate": "date=2026-02-28 00:00:00<br>variable=cum_defaults<br>default_month=%{x}<br>value=%{y}<extra></extra>",
         "legendgroup": "2026-02-28 00:00:00",
         "line": {
          "color": "#D62728",
          "dash": "solid"
         },
         "marker": {
          "symbol": "circle"
         },
         "mode": "lines",
         "name": "2026-02-28 00:00:00",
         "showlegend": false,
         "type": "scattergl",
         "x": {
          "bdata": "AQIDBAUGBwgJCgsMDQ4PEBESExQVFhcY",
          "dtype": "i1"
         },
         "xaxis": "x2",
         "y": {
          "bdata": "Hi12rIEbjT9xf6FLvSqbP8mHBWYdiqU/9958GvY7rD9jEgnJEF6xPxZNhxcXdLM/UUJ9cmjDtD8nmeeiyru1P/7vUdMstLY/29Nl8dDRtz9TGe7khZi4P21NlJuNLbk/0usfxnyEuT82iqvwa9u5P/k5GVgIZLo/DeEVIc7Tuj8giBLqk0O7P4UmnhSDmrs/8FHTLLQWvD+sdJemDnq8PwT5z/V5hrw/YgqyMie4vD/AG5Rv1Om8P28kBQ6rAr0/",
          "dtype": "f8"
         },
         "yaxis": "y2"
        },
        {
         "hovertemplate": "date=2026-02-28 00:00:00<br>variable=default_flag<br>default_month=%{x}<br>value=%{y}<extra></extra>",
         "legendgroup": "2026-02-28 00:00:00",
         "line": {
          "color": "#D62728",
          "dash": "solid"
         },
         "marker": {
          "symbol": "circle"
         },
         "mode": "lines",
         "name": "2026-02-28 00:00:00",
         "showlegend": false,
         "type": "scattergl",
         "x": {
          "bdata": "AQIDBAUGBwgJCgsMDQ4PEBESExQVFhcY",
          "dtype": "i1"
         },
         "xaxis": "x3",
         "y": {
          "bdata": "Hi12rIEbjT/F0czq+DmJP0Mg0wD70o8/tVzd0WLHij89F1XerQCKP5rV8XMysIA/r1NfrxX1dD/K2koNRgxvP8raSg1GDG8/zj0+4UHacT8IrwhxntZoP0aDxtT2oGI/J5nnosq7VT8nmeeiyrtVP1b4te2ME2E/6cQpP3LxWz/pxCk/cvFbPyeZ56LKu1U/ytpKDUYMXz8IrwhxntZYPwivCHGe1ig/CK8IcZ7WSD8IrwhxntZIPwivCHGe1jg/",
          "dtype": "f8"
         },
         "yaxis": "y3"
        },
        {
         "hovertemplate": "date=2026-03-31 00:00:00<br>variable=id<br>default_month=%{x}<br>value=%{y}<extra></extra>",
         "legendgroup": "2026-03-31 00:00:00",
         "line": {
          "color": "#9467BD",
          "dash": "solid"
         },
         "marker": {
          "symbol": "circle"
         },
         "mode": "lines",
         "name": "2026-03-31 00:00:00",
         "showlegend": true,
         "type": "scattergl",
         "x": {
          "bdata": "AQIDBAUGBwgJCgsMDQ4PEBESExQVFhcY",
          "dtype": "i1"
         },
         "xaxis": "x",
         "y": {
          "bdata": "AAAAAADntUAAAAAAAOe1QAAAAAAA57VAAAAAAADntUAAAAAAAOe1QAAAAAAA57VAAAAAAADntUAAAAAAAOe1QAAAAAAA57VAAAAAAADntUAAAAAAAOe1QAAAAAAA57VAAAAAAADntUAAAAAAAOe1QAAAAAAA57VAAAAAAADntUAAAAAAAOe1QAAAAAAA57VAAAAAAADntUAAAAAAAOe1QAAAAAAA57VAAAAAAADntUAAAAAAAOe1QAAAAAAA57VA",
          "dtype": "f8"
         },
         "yaxis": "y"
        },
        {
         "hovertemplate": "date=2026-03-31 00:00:00<br>variable=cum_defaults<br>default_month=%{x}<br>value=%{y}<extra></extra>",
         "legendgroup": "2026-03-31 00:00:00",
         "line": {
          "color": "#9467BD",
          "dash": "solid"
         },
         "marker": {
          "symbol": "circle"
         },
         "mode": "lines",
         "name": "2026-03-31 00:00:00",
         "showlegend": false,
         "type": "scattergl",
         "x": {
          "bdata": "AQIDBAUGBwgJCgsMDQ4PEBESExQVFhcY",
          "dtype": "i1"
         },
         "xaxis": "x2",
         "y": {
          "bdata": "uVAoa+O9hz+uwWJrsNiaP6ncCZhSuaM/hJLxY5UIrD+1a8+XhZ6wPxg+0HlMQ7I/zHU0BUKWsz+tedHMdrq0P3gXUvYL9rU/nk1EmB/Utj/+gn1Fwne3P4BR4V9U+Lc/L+x9tiVKuD+xuuHQt8q4P0rvYYnpM7k/2PDTcsuouT+Hi3DJnPq5Pwla1OMue7o/rsFia7DYuj+ijlScYOS6P3TCG2AhE7s/O8PUVJJNuz8kXbi28mS7PxkqqueicLs/",
          "dtype": "f8"
         },
         "yaxis": "y2"
        },
        {
         "hovertemplate": "date=2026-03-31 00:00:00<br>variable=default_flag<br>default_month=%{x}<br>value=%{y}<extra></extra>",
         "legendgroup": "2026-03-31 00:00:00",
         "line": {
          "color": "#9467BD",
          "dash": "solid"
         },
         "marker": {
          "symbol": "circle"
         },
         "mode": "lines",
         "name": "2026-03-31 00:00:00",
         "showlegend": false,
         "type": "scattergl",
         "x": {
          "bdata": "AQIDBAUGBwgJCgsMDQ4PEBESExQVFhcY",
          "dtype": "i1"
         },
         "xaxis": "x3",
         "y": {
          "bdata": "uVAoa+O9hz+iMp1rffONP0rvYYnpM4k/tWvPl4WekD+WE7Uu19GEPzcmDSBuTHo/O3tDtlgvdT8YPtB5TENyP6ncCZhSuXM/yMRGPnTCaz/yqyanVXRkPz7QeUxDEmA/8qsmp1V0VD8+0HlMQxJgPzcmDSBuTFo/WmOAXHo4XT/yqyanVXRUPz7QeUxDEmA/FemZ42FgVz8V6ZnjYWAnPxXpmeNhYEc/WmOAXHo4TT8V6ZnjYWA3PxXpmeNhYCc/",
          "dtype": "f8"
         },
         "yaxis": "y3"
        },
        {
         "hovertemplate": "date=2026-04-30 00:00:00<br>variable=id<br>default_month=%{x}<br>value=%{y}<extra></extra>",
         "legendgroup": "2026-04-30 00:00:00",
         "line": {
          "color": "#8C564B",
          "dash": "solid"
         },
         "marker": {
          "symbol": "circle"
         },
         "mode": "lines",
         "name": "2026-04-30 00:00:00",
         "showlegend": true,
         "type": "scattergl",
         "x": {
          "bdata": "AQIDBAUGBwgJCgsMDQ4PEBESExQVFhcY",
          "dtype": "i1"
         },
         "xaxis": "x",
         "y": {
          "bdata": "AAAAAABAt0AAAAAAAEC3QAAAAAAAQLdAAAAAAABAt0AAAAAAAEC3QAAAAAAAQLdAAAAAAABAt0AAAAAAAEC3QAAAAAAAQLdAAAAAAABAt0AAAAAAAEC3QAAAAAAAQLdAAAAAAABAt0AAAAAAAEC3QAAAAAAAQLdAAAAAAABAt0AAAAAAAEC3QAAAAAAAQLdAAAAAAABAt0AAAAAAAEC3QAAAAAAAQLdAAAAAAABAt0AAAAAAAEC3QAAAAAAAQLdA",
          "dtype": "f8"
         },
         "yaxis": "y"
        },
        {
         "hovertemplate": "date=2026-04-30 00:00:00<br>variable=cum_defaults<br>default_month=%{x}<br>value=%{y}<extra></extra>",
         "legendgroup": "2026-04-30 00:00:00",
         "line": {
          "color": "#8C564B",
          "dash": "solid"
         },
         "marker": {
          "symbol": "circle"
         },
         "mode": "lines",
         "name": "2026-04-30 00:00:00",
         "showlegend": false,
         "type": "scattergl",
         "x": {
          "bdata": "AQIDBAUGBwgJCgsMDQ4PEBESExQVFhcY",
          "dtype": "i1"
         },
         "xaxis": "x2",
         "y": {
          "bdata": "N9xwww03jD/66aeffvqZP9FEE0000aQ/IYQQQgghrD8LLLDAAguwP/rpp59++rE/Zpdddtllsz/ccMMNN9y0PwYWWGCBBbY/ttZaa621tj9QP/3000+3P6iffvrpp7c/IYQQQgghuD+EEEIIIYS4PwghhBBCCLk/YIEFFlhguT/kkUceeeS5P0geeeSRR7o/U0oppZRSuj9/+umnn366P8wuu+yyy7o/7bLLLrvsuj/43nvvvfe6PwMLLLDAArs/",
          "dtype": "f8"
         },
         "yaxis": "y2"
        },
        {
         "hovertemplate": "date=2026-04-30 00:00:00<br>variable=default_flag<br>default_month=%{x}<br>value=%{y}<extra></extra>",
         "legendgroup": "2026-04-30 00:00:00",
         "line": {
          "color": "#8C564B",
          "dash": "solid"
         },
         "marker": {
          "symbol": "circle"
         },
         "mode": "lines",
         "name": "2026-04-30 00:00:00",
         "showlegend": false,
         "type": "scattergl",
         "x": {
          "bdata": "AQIDBAUGBwgJCgsMDQ4PEBESExQVFhcY",
          "dtype": "i1"
         },
         "xaxis": "x3",
         "y": {
          "bdata": "N9xwww03jD++9957772HP1A//fTTT48/P/30008/jT+on3766ad/P/jee++9934/ttZaa621dj9ml1122WV3P5VSSimllHI/BhZYYIEFZj9FE0000URjPwYWWGCBBVY/SB555JFHXj/GGGOMMcZYP4QQQgghhGA/BhZYYIEFVj+EEEIIIYRgP8YYY4wxxlg/BhZYYIEFJj8GFlhggQVGP0UTTTTRRFM/hBBCCCGEQD8GFlhggQUmPwYWWGCBBSY/",
          "dtype": "f8"
         },
         "yaxis": "y3"
        },
        {
         "hovertemplate": "date=2026-05-31 00:00:00<br>variable=id<br>default_month=%{x}<br>value=%{y}<extra></extra>",
         "legendgroup": "2026-05-31 00:00:00",
         "line": {
          "color": "#E377C2",
          "dash": "solid"
         },
         "marker": {
          "symbol": "circle"
         },
         "mode": "lines",
         "name": "2026-05-31 00:00:00",
         "showlegend": true,
         "type": "scattergl",
         "x": {
          "bdata": "AQIDBAUGBwgJCgsMDQ4PEBESExQVFhcY",
          "dtype": "i1"
         },
         "xaxis": "x",
         "y": {
          "bdata": "AAAAAACsuEAAAAAAAKy4QAAAAAAArLhAAAAAAACsuEAAAAAAAKy4QAAAAAAArLhAAAAAAACsuEAAAAAAAKy4QAAAAAAArLhAAAAAAACsuEAAAAAAAKy4QAAAAAAArLhAAAAAAACsuEAAAAAAAKy4QAAAAAAArLhAAAAAAACsuEAAAAAAAKy4QAAAAAAArLhAAAAAAACsuEAAAAAAAKy4QAAAAAAArLhAAAAAAACsuEAAAAAAAKy4QAAAAAAArLhA",
          "dtype": "f8"
         },
         "yaxis": "y"
        },
        {
         "hovertemplate": "date=2026-05-31 00:00:00<br>variable=cum_defaults<br>default_month=%{x}<br>value=%{y}<extra></extra>",
         "legendgroup": "2026-05-31 00:00:00",
         "line": {
          "color": "#E377C2",
          "dash": "solid"
         },
         "marker": {
          "symbol": "circle"
         },
         "mode": "lines",
         "name": "2026-05-31 00:00:00",
         "showlegend": false,
         "type": "scattergl",
         "x": {
          "bdata": "AQIDBAUGBwgJCgsMDQ4PEBESExQVFhcY",
          "dtype": "i1"
         },
         "xaxis": "x2",
         "y": {
          "bdata": "n4Rqzadfhj/AJrONwvCZP6spffRU3KM/SqLFN/iPqD88qrIWXFitP9wW2c/6X7A/7Wf9L4gosj+5pBg48n6zP5Ncz4P5d7Q/bhSGzwBxtT9bcGF1hO21P/ETD2lodLY/3m/qDuzwtj91E5gC0He3P2aY/L4y1bc/VPTXZLZRuD/vwA5vebm4P0FQswo6zrg/jrbOjxsCuT8urI6wvUq5PymDBZreabk/fBKqNZ9+uT8lWnyD/4i5PxsIalZBx7k/",
          "dtype": "f8"
         },
         "yaxis": "y2"
        },
        {
         "hovertemplate": "date=2026-05-31 00:00:00<br>variable=default_flag<br>default_month=%{x}<br>value=%{y}<extra></extra>",
         "legendgroup": "2026-05-31 00:00:00",
         "line": {
          "color": "#E377C2",
          "dash": "solid"
         },
         "marker": {
          "symbol": "circle"
         },
         "mode": "lines",
         "name": "2026-05-31 00:00:00",
         "showlegend": false,
         "type": "scattergl",
         "x": {
          "bdata": "AQIDBAUGBwgJCgsMDQ4PEBESExQVFhcY",
          "dtype": "i1"
         },
         "xaxis": "x3",
         "y": {
          "bdata": "n4Rqzadfhj/gyPtN3YGNPyxZjrbOj4s/fuIhDY3Ogj/HH7R7jyGDP+Mb/EfMPHs/BhFFAtaIfD/EzLOBoGZ1P0z71nbpIG8/TPvWdukgbz9M+9Z26SBfP8lytHV+3GA/TPvWdukgXz/JcrR1ftxgP3k8IRmvWFc/TPvWdukgXz/AJrONwvBZPzNSj6SbwDQ/wCazjcLwST/tZ/0viChSP0z71nbpID8/M1KPpJvAND8zUo+km8AkP0z71nbpIE8/",
          "dtype": "f8"
         },
         "yaxis": "y3"
        },
        {
         "hovertemplate": "date=2026-06-30 00:00:00<br>variable=id<br>default_month=%{x}<br>value=%{y}<extra></extra>",
         "legendgroup": "2026-06-30 00:00:00",
         "line": {
          "color": "#7F7F7F",
          "dash": "solid"
         },
         "marker": {
          "symbol": "circle"
         },
         "mode": "lines",
         "name": "2026-06-30 00:00:00",
         "showlegend": true,
         "type": "scattergl",
         "x": {
          "bdata": "AQIDBAUGBwgJCgsMDQ4PEBESExQVFhcY",
          "dtype": "i1"
         },
         "xaxis": "x",
         "y": {
          "bdata": "AAAAAAAEukAAAAAAAAS6QAAAAAAABLpAAAAAAAAEukAAAAAAAAS6QAAAAAAABLpAAAAAAAAEukAAAAAAAAS6QAAAAAAABLpAAAAAAAAEukAAAAAAAAS6QAAAAAAABLpAAAAAAAAEukAAAAAAAAS6QAAAAAAABLpAAAAAAAAEukAAAAAAAAS6QAAAAAAABLpAAAAAAAAEukAAAAAAAAS6QAAAAAAABLpAAAAAAAAEukAAAAAAAAS6QAAAAAAABLpA",
          "dtype": "f8"
         },
         "yaxis": "y"
        },
        {
         "hovertemplate": "date=2026-06-30 00:00:00<br>variable=cum_defaults<br>default_month=%{x}<br>value=%{y}<extra></extra>",
         "legendgroup": "2026-06-30 00:00:00",
         "line": {
          "color": "#7F7F7F",
          "dash": "solid"
         },
         "marker": {
          "symbol": "circle"
         },
         "mode": "lines",
         "name": "2026-06-30 00:00:00",
         "showlegend": false,
         "type": "scattergl",
         "x": {
          "bdata": "AQIDBAUGBwgJCgsMDQ4PEBESExQVFhcY",
          "dtype": "i1"
         },
         "xaxis": "x2",
         "y": {
          "bdata": "u7+h5LH7iz/4sAF1hw+bP9QfsYA7/aE/xX9BVk/8pz8xwpFMDiOsP8QEYQlDTLA/mR65TI3psT+qMT1ymRqzP0VC0S9JJLQ/fkuVteO3tD9VVVVVVVW1P/JdHcEY37U/K2fhRrNytj9SbblKGtW2P1B1hZwGVbc/FHxZukTBtz9PfVHu8tS3P2KAPXAmBrg/ToUdQN9UuD8mhxGOZHK4P2GICcIShrg/nIkB9sCZuD/qjeWrot64P/2Q0S3WD7k/",
          "dtype": "f8"
         },
         "yaxis": "y2"
        },
        {
         "hovertemplate": "date=2026-06-30 00:00:00<br>variable=default_flag<br>default_month=%{x}<br>value=%{y}<extra></extra>",
         "legendgroup": "2026-06-30 00:00:00",
         "line": {
          "color": "#7F7F7F",
          "dash": "solid"
         },
         "marker": {
          "symbol": "circle"
         },
         "mode": "lines",
         "name": "2026-06-30 00:00:00",
         "showlegend": false,
         "type": "scattergl",
         "x": {
          "bdata": "AQIDBAUGBwgJCgsMDQ4PEBESExQVFhcY",
          "dtype": "i1"
         },
         "xaxis": "x3",
         "y": {
          "bdata": "u7+h5LH7iz82omEFXSOKP14dwRjf1YE/xX9BVk/8hz+wCUHZ+5qAP14dwRjf1YE/Sp2BNaTUeT8MMUFYwhBzP7AJQdn7mnA/NSeBuFBzYj/jOgH4M65jP4cTAXltOGE/NSeBuFBzYj+ciQH2wJlYP7H/AXMU+18/+LABdYcPWz/jOgH4M64zP5yJAfbAmUg/4zoB+DOuUz9V2AH0TYU9P+M6AfgzrjM/4zoB+DOuMz+HEwF5bThRP5yJAfbAmUg/",
          "dtype": "f8"
         },
         "yaxis": "y3"
        },
        {
         "hovertemplate": "date=2026-07-31 00:00:00<br>variable=id<br>default_month=%{x}<br>value=%{y}<extra></extra>",
         "legendgroup": "2026-07-31 00:00:00",
         "line": {
          "color": "#BCBD22",
          "dash": "solid"
         },
         "marker": {
          "symbol": "circle"
         },
         "mode": "lines",
         "name": "2026-07-31 00:00:00",
         "showlegend": true,
         "type": "scattergl",
         "x": {
          "bdata": "AQIDBAUGBwgJCgsMDQ4PEBESExQVFhcY",
          "dtype": "i1"
         },
         "xaxis": "x",
         "y": {
          "bdata": "AAAAAABQu0AAAAAAAFC7QAAAAAAAULtAAAAAAABQu0AAAAAAAFC7QAAAAAAAULtAAAAAAABQu0AAAAAAAFC7QAAAAAAAULtAAAAAAABQu0AAAAAAAFC7QAAAAAAAULtAAAAAAABQu0AAAAAAAFC7QAAAAAAAULtAAAAAAABQu0AAAAAAAFC7QAAAAAAAULtAAAAAAABQu0AAAAAAAFC7QAAAAAAAULtAAAAAAABQu0AAAAAAAFC7QAAAAAAAULtA",
          "dtype": "f8"
         },
         "yaxis": "y"
        },
        {
         "hovertemplate": "date=2026-07-31 00:00:00<br>variable=cum_defaults<br>default_month=%{x}<br>value=%{y}<extra></extra>",
         "legendgroup": "2026-07-31 00:00:00",
         "line": {
          "color": "#BCBD22",
          "dash": "solid"
         },
         "marker": {
          "symbol": "circle"
         },
         "mode": "lines",
         "name": "2026-07-31 00:00:00",
         "showlegend": false,
         "type": "scattergl",
         "x": {
          "bdata": "AQIDBAUGBwgJCgsMDQ4PEBESExQVFhcY",
          "dtype": "i1"
         },
         "xaxis": "x2",
         "y": {
          "bdata": "I9EPcaPliD+FyQjNWvGUP4rh42/dLqA/KtizuZcppT9fCTC2RQWrP1gCjG1Rwa4/eQ3lNZTXsD8G3pFL4wyyP0iR6Ie40bI/OL3pTW96sz8MvCOXxhm0P6lgz+ZeprQ/2FBeQ3kNtT9ZyEIWspC1P78SYGyLCrY/9mzuZUodtj+be5lSh1W2P3jk0jiDoLY/5pjvKwHGtj9UTQwff+u2P6bUYZWdB7c/ZxDU/jlJtz/x8bduF3i3PyhMRmjWirc/",
          "dtype": "f8"
         },
         "yaxis": "y2"
        },
        {
         "hovertemplate": "date=2026-07-31 00:00:00<br>variable=default_flag<br>default_month=%{x}<br>value=%{y}<extra></extra>",
         "legendgroup": "2026-07-31 00:00:00",
         "line": {
          "color": "#BCBD22",
          "dash": "solid"
         },
         "marker": {
          "symbol": "circle"
         },
         "mode": "lines",
         "name": "2026-07-31 00:00:00",
         "showlegend": false,
         "type": "scattergl",
         "x": {
          "bdata": "AQIDBAUGBwgJCgsMDQ4PEBESExQVFhcY",
          "dtype": "i1"
         },
         "xaxis": "x3",
         "y": {
          "bdata": "I9EPcaPliD/nwQEpEv2APx3zfSXA2IY/gto/J+nqgz/VxPDxt26HP8PH37pd4H0/1cTw8bdudz/KCM1a8VRzP0Zo1oqnmmg/830lwNgWZT+C2j8n6epjP6CTdPUJk2E/twu8I5fGWT8v8I5cGmdgP3yZUodVdl4/ETdajvm+Mj+ZUodVdh5MPxE3Wo75vlI/ETdajvm+Qj8RN1qO+b5CP5lSh1V2Hjw/L/COXBpnUD/VxPDxt25HPxE3Wo75vjI/",
          "dtype": "f8"
         },
         "yaxis": "y3"
        },
        {
         "hovertemplate": "date=2026-08-31 00:00:00<br>variable=id<br>default_month=%{x}<br>value=%{y}<extra></extra>",
         "legendgroup": "2026-08-31 00:00:00",
         "line": {
          "color": "#17BECF",
          "dash": "solid"
         },
         "marker": {
          "symbol": "circle"
         },
         "mode": "lines",
         "name": "2026-08-31 00:00:00",
         "showlegend": true,
         "type": "scattergl",
         "x": {
          "bdata": "AQIDBAUGBwgJCgsMDQ4PEBESExQVFhcY",
          "dtype": "i1"
         },
         "xaxis": "x",
         "y": {
          "bdata": "AAAAAACUvEAAAAAAAJS8QAAAAAAAlLxAAAAAAACUvEAAAAAAAJS8QAAAAAAAlLxAAAAAAACUvEAAAAAAAJS8QAAAAAAAlLxAAAAAAACUvEAAAAAAAJS8QAAAAAAAlLxAAAAAAACUvEAAAAAAAJS8QAAAAAAAlLxAAAAAAACUvEAAAAAAAJS8QAAAAAAAlLxAAAAAAACUvEAAAAAAAJS8QAAAAAAAlLxAAAAAAACUvEAAAAAAAJS8QAAAAAAAlLxA",
          "dtype": "f8"
         },
         "yaxis": "y"
        },
        {
         "hovertemplate": "date=2026-08-31 00:00:00<br>variable=cum_defaults<br>default_month=%{x}<br>value=%{y}<extra></extra>",
         "legendgroup": "2026-08-31 00:00:00",
         "line": {
          "color": "#17BECF",
          "dash": "solid"
         },
         "marker": {
          "symbol": "circle"
         },
         "mode": "lines",
         "name": "2026-08-31 00:00:00",
         "showlegend": false,
         "type": "scattergl",
         "x": {
          "bdata": "AQIDBAUGBwgJCgsMDQ4PEBESExQVFhcY",
          "dtype": "i1"
         },
         "xaxis": "x2",
         "y": {
          "bdata": "Vl6GQHc8gD8fVNsNGQmTPy7+yJSljZw/R1ofoOjapD8hfdobhVWpP3OJYkAk+aw/Dc37RRx+rz+b6R/s9aewP1OdbJgTZLE/ClG5RDEgsj/xoR9Gb8GyP8EZqGPYPrM/HH4f8yvOsz/s9acQlUu0P71Yjrt0ZrQ/Xx5bETSctD/TRg4S0+y0Py+W4y6dGbU/0luwhFxPtT+jvpYvPGq1P4v6Wr7wqLU/50kw27rVtT9yNh9Npee1P0SZBfiEArY/",
          "dtype": "f8"
         },
         "yaxis": "y2"
        },
        {
         "hovertemplate": "date=2026-08-31 00:00:00<br>variable=default_flag<br>default_month=%{x}<br>value=%{y}<extra></extra>",
         "legendgroup": "2026-08-31 00:00:00",
         "line": {
          "color": "#17BECF",
          "dash": "solid"
         },
         "marker": {
          "symbol": "circle"
         },
         "mode": "lines",
         "name": "2026-08-31 00:00:00",
         "showlegend": false,
         "type": "scattergl",
         "x": {
          "bdata": "AQIDBAUGBwgJCgsMDQ4PEBESExQVFhcY",
          "dtype": "i1"
         },
         "xaxis": "x3",
         "y": {
          "bdata": "Vl6GQHc8gD/nSTDbutWFPx9U2w0ZCYM/wWzrVldQij9oi+zuceqBP4liQCT5HH0/1RzKLMAndD+JYkAk+RxtP/l2lom1g2c/+XaWibWDZz/VHMoswCdkP/bzHWJHWl8/aIvs7nHqYT/28x1iR1pfPxzRYuaq3zo/HNFi5qrfSj/VHMoswCdUP0Kup2oOZUY/HNFi5qrfSj8c0WLmqt86P/bzHWJHWk8/Qq6nag5lRj9oi+zuceoxPxzRYuaq3zo/",
          "dtype": "f8"
         },
         "yaxis": "y3"
        },
        {
         "hovertemplate": "date=2026-09-30 00:00:00<br>variable=id<br>default_month=%{x}<br>value=%{y}<extra></extra>",
         "legendgroup": "2026-09-30 00:00:00",
         "line": {
          "color": "#1F77B4",
          "dash": "solid"
         },
         "marker": {
          "symbol": "circle"
         },
         "mode": "lines",
         "name": "2026-09-30 00:00:00",
         "showlegend": true,
         "type": "scattergl",
         "x": {
          "bdata": "AQIDBAUGBwgJCgsMDQ4PEBESExQVFhcY",
          "dtype": "i1"
         },
         "xaxis": "x",
         "y": {
          "bdata": "AAAAAAAYvkAAAAAAABi+QAAAAAAAGL5AAAAAAAAYvkAAAAAAABi+QAAAAAAAGL5AAAAAAAAYvkAAAAAAABi+QAAAAAAAGL5AAAAAAAAYvkAAAAAAABi+QAAAAAAAGL5AAAAAAAAYvkAAAAAAABi+QAAAAAAAGL5AAAAAAAAYvkAAAAAAABi+QAAAAAAAGL5AAAAAAAAYvkAAAAAAABi+QAAAAAAAGL5AAAAAAAAYvkAAAAAAABi+QAAAAAAAGL5A",
          "dtype": "f8"
         },
         "yaxis": "y"
        },
        {
         "hovertemplate": "date=2026-09-30 00:00:00<br>variable=cum_defaults<br>default_month=%{x}<br>value=%{y}<extra></extra>",
         "legendgroup": "2026-09-30 00:00:00",
         "line": {
          "color": "#1F77B4",
          "dash": "solid"
         },
         "marker": {
          "symbol": "circle"
         },
         "mode": "lines",
         "name": "2026-09-30 00:00:00",
         "showlegend": false,
         "type": "scattergl",
         "x": {
          "bdata": "AQIDBAUGBwgJCgsMDQ4PEBESExQVFhcY",
          "dtype": "i1"
         },
         "xaxis": "x2",
         "y": {
          "bdata": "z/wDOza8hD/C4vkc8WeTPz9x8tB65p8/2dvXnGaqpT+HgkcRVUCqP6jDYNwBk60/PgiL53PErz8oY5lVatCwP7GNuUKXrbE/OE9yRr1osj898w/s2PCyP4TabjV9o7M/SaSyIBcjtD8KM8BPnDy0P4xQ262mb7Q/ENdd9bfEtD/SztINRAC1P1Ts7WtOM7U/VVVVVVVVtT8YTcpt4ZC1P1mQixFqu7U/Gh+ZQO/UtT8ciAAq9va1P180KbeFQ7Y/",
          "dtype": "f8"
         },
         "yaxis": "y2"
        },
        {
         "hovertemplate": "date=2026-09-30 00:00:00<br>variable=default_flag<br>default_month=%{x}<br>value=%{y}<extra></extra>",
         "legendgroup": "2026-09-30 00:00:00",
         "line": {
          "color": "#1F77B4",
          "dash": "solid"
         },
         "marker": {
          "symbol": "circle"
         },
         "mode": "lines",
         "name": "2026-09-30 00:00:00",
         "showlegend": false,
         "type": "scattergl",
         "x": {
          "bdata": "AQIDBAUGBwgJCgsMDQ4PEBESExQVFhcY",
          "dtype": "i1"
         },
         "xaxis": "x3",
         "y": {
          "bdata": "z/wDOza8hD+1yO/+qxOCP/oc8WcT/Yg/5Yx60aTchj+3mr7RuVeCPwoJylhmlXo/ryRSWZCLcT8q4Xs6DMZtPxRRBaSdpWs/6jAYd8BkZz+qgLSzdANhP9/o3CuJVGY/P3Hy0HrmXz//wI4NL4U5P//Ajg0vhUk/1aCh4FFEVT8q4Xs6DMZNP//Ajg0vhUk/qoC0s3QDQT8q4Xs6DMZNP9WgoeBRREU//8CODS+FOT+qgLSzdANBP78QK0rjI1M/",
          "dtype": "f8"
         },
         "yaxis": "y3"
        },
        {
         "hovertemplate": "date=2026-10-31 00:00:00<br>variable=id<br>default_month=%{x}<br>value=%{y}<extra></extra>",
         "legendgroup": "2026-10-31 00:00:00",
         "line": {
          "color": "#FF7F0E",
          "dash": "solid"
         },
         "marker": {
          "symbol": "circle"
         },
         "mode": "lines",
         "name": "2026-10-31 00:00:00",
         "showlegend": true,
         "type": "scattergl",
         "x": {
          "bdata": "AQIDBAUGBwgJCgsMDQ4PEBESExQVFhcY",
          "dtype": "i1"
         },
         "xaxis": "x",
         "y": {
          "bdata": "AAAAAAA0v0AAAAAAADS/QAAAAAAANL9AAAAAAAA0v0AAAAAAADS/QAAAAAAANL9AAAAAAAA0v0AAAAAAADS/QAAAAAAANL9AAAAAAAA0v0AAAAAAADS/QAAAAAAANL9AAAAAAAA0v0AAAAAAADS/QAAAAAAANL9AAAAAAAA0v0AAAAAAADS/QAAAAAAANL9AAAAAAAA0v0AAAAAAADS/QAAAAAAANL9AAAAAAAA0v0AAAAAAADS/QAAAAAAANL9A",
          "dtype": "f8"
         },
         "yaxis": "y"
        },
        {
         "hovertemplate": "date=2026-10-31 00:00:00<br>variable=cum_defaults<br>default_month=%{x}<br>value=%{y}<extra></extra>",
         "legendgroup": "2026-10-31 00:00:00",
         "line": {
          "color": "#FF7F0E",
          "dash": "solid"
         },
         "marker": {
          "symbol": "circle"
         },
         "mode": "lines",
         "name": "2026-10-31 00:00:00",
         "showlegend": false,
         "type": "scattergl",
         "x": {
          "bdata": "AQIDBAUGBwgJCgsMDQ4PEBESExQVFhcY",
          "dtype": "i1"
         },
         "xaxis": "x2",
         "y": {
          "bdata": "FczoiCRvgT/Op2/9Y8SUP0SStwisyp8/6YgkbxFYpT+msBaLz2GpPxeBVfkDZaw/mppyiuiSrj+wOTa9LC+wP57wV5p8BLE/udEMDCqYsT8yU1NOEV2yP5OZmnKK6LI/rNSZkPghsz/03+GWA3SzP/aFl+pCzrM/hPZxoxkYtD+cMXHBh1G0P0A3lUSNerQ/WXKUYvuztD+3EiYzNeW0P+bibhvS/bQ/0E0lUaMetT9evv8Jemi1P0cptj9LibU/",
          "dtype": "f8"
         },
         "yaxis": "y2"
        },
        {
         "hovertemplate": "date=2026-10-31 00:00:00<br>variable=default_flag<br>default_month=%{x}<br>value=%{y}<extra></extra>",
         "legendgroup": "2026-10-31 00:00:00",
         "line": {
          "color": "#FF7F0E",
          "dash": "solid"
         },
         "marker": {
          "symbol": "circle"
         },
         "mode": "lines",
         "name": "2026-10-31 00:00:00",
         "showlegend": false,
         "type": "scattergl",
         "x": {
          "bdata": "AQIDBAUGBwgJCgsMDQ4PEBESExQVFhcY",
          "dtype": "i1"
         },
         "xaxis": "x3",
         "y": {
          "bdata": "FczoiCRvgT+Gg/ZxoxmIP+3UjxaQDIY/Gv8iq+3KhT/1nshv+CaAP4aD9nGjGXg/FczoiCRvcT9fjJ3/DrdsP8bdNqT7qWo/YiOcNq51Yj8tL9BI6JxoPxXM6Igkb2E/X4yd/w63TD/70QKSwYJUP5SAae3Uj1Y/YiOcNq51Uj9fjJ3/DrdMP/vRApLBgkQ/X4yd/w63TD8tL9BI6JxIPy0v0EjonDg/yHQ125poQD9iI5w2rnVSP8h0NduaaEA/",
          "dtype": "f8"
         },
         "yaxis": "y3"
        },
        {
         "hovertemplate": "date=2026-11-30 00:00:00<br>variable=id<br>default_month=%{x}<br>value=%{y}<extra></extra>",
         "legendgroup": "2026-11-30 00:00:00",
         "line": {
          "color": "#2CA02C",
          "dash": "solid"
         },
         "marker": {
          "symbol": "circle"
         },
         "mode": "lines",
         "name": "2026-11-30 00:00:00",
         "showlegend": true,
         "type": "scattergl",
         "x": {
          "bdata": "AQIDBAUGBwgJCgsMDQ4PEBESExQVFhcY",
          "dtype": "i1"
         },
         "xaxis": "x",
         "y": {
          "bdata": "AAAAAABZwEAAAAAAAFnAQAAAAAAAWcBAAAAAAABZwEAAAAAAAFnAQAAAAAAAWcBAAAAAAABZwEAAAAAAAFnAQAAAAAAAWcBAAAAAAABZwEAAAAAAAFnAQAAAAAAAWcBAAAAAAABZwEAAAAAAAFnAQAAAAAAAWcBAAAAAAABZwEAAAAAAAFnAQAAAAAAAWcBAAAAAAABZwEAAAAAAAFnAQAAAAAAAWcBAAAAAAABZwEAAAAAAAFnAQAAAAAAAWcBA",
          "dtype": "f8"
         },
         "yaxis": "y"
        },
        {
         "hovertemplate": "date=2026-11-30 00:00:00<br>variable=cum_defaults<br>default_month=%{x}<br>value=%{y}<extra></extra>",
         "legendgroup": "2026-11-30 00:00:00",
         "line": {
          "color": "#2CA02C",
          "dash": "solid"
         },
         "marker": {
          "symbol": "circle"
         },
         "mode": "lines",
         "name": "2026-11-30 00:00:00",
         "showlegend": false,
         "type": "scattergl",
         "x": {
          "bdata": "AQIDBAUGBwgJCgsMDQ4PEBESExQVFhcY",
          "dtype": "i1"
         },
         "xaxis": "x2",
         "y": {
          "bdata": "x4jkqA8Ahz8GFlhggQWWP6gslpHUNaA/7BS6TqHrpD/hiYK67xmoPybiJ5SaCas/j1Yh9/iqrT/mdLGjbJCvP+6s/ZVMfLA/7vS8h11fsT89IFnnygOyP9su0rSUabI/TnbCnbW/sj/BvbKG1hWzP52hXv0iZLM/Tb6Bj8aisz9od2CvldmzP4IwP89kELQ/BobZfF8/tD/JsKbT3Fa0P7ei/A4DfrQ/k4aohU/MtD/sFLpOoeu0P0SjyxfzCrU/",
          "dtype": "f8"
         },
         "yaxis": "y2"
        },
        {
         "hovertemplate": "date=2026-11-30 00:00:00<br>variable=default_flag<br>default_month=%{x}<br>value=%{y}<extra></extra>",
         "legendgroup": "2026-11-30 00:00:00",
         "line": {
          "color": "#2CA02C",
          "dash": "solid"
         },
         "marker": {
          "symbol": "circle"
         },
         "mode": "lines",
         "name": "2026-11-30 00:00:00",
         "showlegend": false,
         "type": "scattergl",
         "x": {
          "bdata": "AQIDBAUGBwgJCgsMDQ4PEBESExQVFhcY",
          "dtype": "i1"
         },
         "xaxis": "x3",
         "y": {
          "bdata": "x4jkqA8Ahz9Eo8sX8wqFP5OGqIVPzIQ/EKGP9DLXgj+rp0Nec3J5PyjCKs1WfXc/RKPLF/MKdT905QHJOlduP2ZPnoTIgmY/8P/oNx5ibD/jaYXzq41kP6unQ15zclk/pdwRPDqIVT+l3BE8OohVPyH3+Kodk1M/NViOEclRTz8vjVzvj2dLPy+NXO+PZ0s/KMIqzVZ9Rz8owirNVn03PyH3+Kodk0M/Iff4qh2TUz81WI4RyVE/PzVYjhHJUT8/",
          "dtype": "f8"
         },
         "yaxis": "y3"
        },
        {
         "hovertemplate": "date=2026-12-31 00:00:00<br>variable=id<br>default_month=%{x}<br>value=%{y}<extra></extra>",
         "legendgroup": "2026-12-31 00:00:00",
         "line": {
          "color": "#D62728",
          "dash": "solid"
         },
         "marker": {
          "symbol": "circle"
         },
         "mode": "lines",
         "name": "2026-12-31 00:00:00",
         "showlegend": true,
         "type": "scattergl",
         "x": {
          "bdata": "AQIDBAUGBwgJCgsMDQ4PEBESExQVFhcY",
          "dtype": "i1"
         },
         "xaxis": "x",
         "y": {
          "bdata": "AAAAAAD+wEAAAAAAAP7AQAAAAAAA/sBAAAAAAAD+wEAAAAAAAP7AQAAAAAAA/sBAAAAAAAD+wEAAAAAAAP7AQAAAAAAA/sBAAAAAAAD+wEAAAAAAAP7AQAAAAAAA/sBAAAAAAAD+wEAAAAAAAP7AQAAAAAAA/sBAAAAAAAD+wEAAAAAAAP7AQAAAAAAA/sBAAAAAAAD+wEAAAAAAAP7AQAAAAAAA/sBAAAAAAAD+wEAAAAAAAP7AQAAAAAAA/sBA",
          "dtype": "f8"
         },
         "yaxis": "y"
        },
        {
         "hovertemplate": "date=2026-12-31 00:00:00<br>variable=cum_defaults<br>default_month=%{x}<br>value=%{y}<extra></extra>",
         "legendgroup": "2026-12-31 00:00:00",
         "line": {
          "color": "#D62728",
          "dash": "solid"
         },
         "marker": {
          "symbol": "circle"
         },
         "mode": "lines",
         "name": "2026-12-31 00:00:00",
         "showlegend": false,
         "type": "scattergl",
         "x": {
          "bdata": "AQIDBAUGBwgJCgsMDQ4PEBESExQVFhcY",
          "dtype": "i1"
         },
         "xaxis": "x2",
         "y": {
          "bdata": "Eh139J0+hD9eodtKfCCUP5LWn06cMJ0/VMzIqivzoj/kEZgM602mPwtgMBtnbKk/+ccjMBnWqz+IB0AgEpqtPxdHXBALXq8/2CpsF0dcsD/PWwzpvMWwP7JrEyW7NrE/z97lISCRsT/+clG0/OOxP2dqiAdAILI/4oJY8PpUsj9Leo9DPpGyP7NxxpaBzbI/VMzIqivzsj/jBTIpXiCzPxKanbs6c7M/xhU5ZVyRsz97kdQOfq+zP+OIC2LB67M/",
          "dtype": "f8"
         },
         "yaxis": "y2"
        },
        {
         "hovertemplate": "date=2026-12-31 00:00:00<br>variable=default_flag<br>default_month=%{x}<br>value=%{y}<extra></extra>",
         "legendgroup": "2026-12-31 00:00:00",
         "line": {
          "color": "#D62728",
          "dash": "solid"
         },
         "marker": {
          "symbol": "circle"
         },
         "mode": "lines",
         "name": "2026-12-31 00:00:00",
         "showlegend": false,
         "type": "scattergl",
         "x": {
          "bdata": "AQIDBAUGBwgJCgsMDQ4PEBESExQVFhcY",
          "dtype": "i1"
         },
         "xaxis": "x3",
         "y": {
          "bdata": "Eh139J0+hD+qJUChWgKEP2dqiAdAIII/LoTjDXZrgT9+LHoO+9V6PzpxwnTg83g/cT+bp5BNcz/w+MMBjz9sP/D4wwGPP2w/henA5zGoZT+tPQxodF1aP/D4wwGPP1w/JsecND+ZVj/jC+WaJLdUPzO0e5upIU4/rT0MaHRdSj8ztHubqSFOPzO0e5upIU4/oFAtAQrVQj8mx5w0P5lGP+ML5Zokt1Q/M7R7m6khPj8ztHubqSE+PzO0e5upIU4/",
          "dtype": "f8"
         },
         "yaxis": "y3"
        },
        {
         "hovertemplate": "date=2027-01-31 00:00:00<br>variable=id<br>default_month=%{x}<br>value=%{y}<extra></extra>",
         "legendgroup": "2027-01-31 00:00:00",
         "line": {
          "color": "#9467BD",
          "dash": "solid"
         },
         "marker": {
          "symbol": "circle"
         },
         "mode": "lines",
         "name": "2027-01-31 00:00:00",
         "showlegend": true,
         "type": "scattergl",
         "x": {
          "bdata": "AQIDBAUGBwgJCgsMDQ4PEBESExQVFhcY",
          "dtype": "i1"
         },
         "xaxis": "x",
         "y": {
          "bdata": "AAAAAADTwEAAAAAAANPAQAAAAAAA08BAAAAAAADTwEAAAAAAANPAQAAAAAAA08BAAAAAAADTwEAAAAAAANPAQAAAAAAA08BAAAAAAADTwEAAAAAAANPAQAAAAAAA08BAAAAAAADTwEAAAAAAANPAQAAAAAAA08BAAAAAAADTwEAAAAAAANPAQAAAAAAA08BAAAAAAADTwEAAAAAAANPAQAAAAAAA08BAAAAAAADTwEAAAAAAANPAQAAAAAAA08BA",
          "dtype": "f8"
         },
         "yaxis": "y"
        },
        {
         "hovertemplate": "date=2027-01-31 00:00:00<br>variable=cum_defaults<br>default_month=%{x}<br>value=%{y}<extra></extra>",
         "legendgroup": "2027-01-31 00:00:00",
         "line": {
          "color": "#9467BD",
          "dash": "solid"
         },
         "marker": {
          "symbol": "circle"
         },
         "mode": "lines",
         "name": "2027-01-31 00:00:00",
         "showlegend": false,
         "type": "scattergl",
         "x": {
          "bdata": "AQIDBAUGBwgJCgsMDQ4PEBESExQVFhcY",
          "dtype": "i1"
         },
         "xaxis": "x2",
         "y": {
          "bdata": "AT80i341hD+w4UknCUKTP+DAgQMHDpw/4syztVVqoT8AIqyQypCkPyCxtGCnAKc/GSAMfCPJqD8Rj2OXn5GqPzZ1BFeY76s/3YZxDp/ErD9aPh0c3aitP1cEDSd1X64/fyS+29UGrz8nU7ONkICvP/vbaekT668/UoWvTWcysD+mHKqmRG+wPzu7Rv5OlbA/uqwCAfXCsD/OPFtbpRaxP3iI2AcUNbE/ItRVtIJTsT93a1ANYJCxPwwK7WRqtrE/",
          "dtype": "f8"
         },
         "yaxis": "y2"
        },
        {
         "hovertemplate": "date=2027-01-31 00:00:00<br>variable=default_flag<br>default_month=%{x}<br>value=%{y}<extra></extra>",
         "legendgroup": "2027-01-31 00:00:00",
         "line": {
          "color": "#9467BD",
          "dash": "solid"
         },
         "marker": {
          "symbol": "circle"
         },
         "mode": "lines",
         "name": "2027-01-31 00:00:00",
         "showlegend": false,
         "type": "scattergl",
         "x": {
          "bdata": "AQIDBAUGBwgJCgsMDQ4PEBESExQVFhcY",
          "dtype": "i1"
         },
         "xaxis": "x3",
         "y": {
          "bdata": "AT80i341hD9ehF/Dk06CP2G+b7j7l4E/j2OXn5Eaez/sqMLXpjN5PwR5RIDmfnM/ie92tcGHbD+J73a1wYdsP1BiDvqL32U/5jSi7dagWj+J73a1wYdcP6G/+F0B01Y//gQklhbsVD8sqkt9rG5OP+Y0ou3WoEo/LKpLfaxuTj8sqkt9rG5OP1tKT84rBUM/ob/4XQHTRj/+BCSWFuxUPyyqS32sbj4/LKpLfaxuPj8sqkt9rG5OP1tKT84rBUM/",
          "dtype": "f8"
         },
         "yaxis": "y3"
        },
        {
         "hovertemplate": "date=2027-02-28 00:00:00<br>variable=id<br>default_month=%{x}<br>value=%{y}<extra></extra>",
         "legendgroup": "2027-02-28 00:00:00",
         "line": {
          "color": "#8C564B",
          "dash": "solid"
         },
         "marker": {
          "symbol": "circle"
         },
         "mode": "lines",
         "name": "2027-02-28 00:00:00",
         "showlegend": true,
         "type": "scattergl",
         "x": {
          "bdata": "AQIDBAUGBwgJCgsMDQ4PEBESExQVFhcY",
          "dtype": "i1"
         },
         "xaxis": "x",
         "y": {
          "bdata": "AAAAAICowEAAAAAAgKjAQAAAAACAqMBAAAAAAICowEAAAAAAgKjAQAAAAACAqMBAAAAAAICowEAAAAAAgKjAQAAAAACAqMBAAAAAAICowEAAAAAAgKjAQAAAAACAqMBAAAAAAICowEAAAAAAgKjAQAAAAACAqMBAAAAAAICowEAAAAAAgKjAQAAAAACAqMBAAAAAAICowEAAAAAAgKjAQAAAAACAqMBAAAAAAICowEAAAAAAgKjAQAAAAACAqMBA",
          "dtype": "f8"
         },
         "yaxis": "y"
        },
        {
         "hovertemplate": "date=2027-02-28 00:00:00<br>variable=cum_defaults<br>default_month=%{x}<br>value=%{y}<extra></extra>",
         "legendgroup": "2027-02-28 00:00:00",
         "line": {
          "color": "#8C564B",
          "dash": "solid"
         },
         "marker": {
          "symbol": "circle"
         },
         "mode": "lines",
         "name": "2027-02-28 00:00:00",
         "showlegend": false,
         "type": "scattergl",
         "x": {
          "bdata": "AQIDBAUGBwgJCgsMDQ4PEBESExQVFhcY",
          "dtype": "i1"
         },
         "xaxis": "x2",
         "y": {
          "bdata": "beBbm0h9gj8rr/SoEyGSPwRXnaYB+Zg/ML0RYf5Vnz8rr/SoEyGiP3Kl+GQc7qM/uJv8ICW7pT+I2DLCmhynP3VLzvfA86c/mUbQVUXaqD8bqZ46r5KpP2iDBve6O6o/FcU6Oqy2qj+LfghVPyKrPzjAPJgwnas/5AFx2yEYrD/wqnGl+GSsPzHc2Jctwaw/frZAVDlqrT9U19r1saetPyv4dJcq5a0/1zmp2htgrj/j4qmk8qyuP07zdvWuy64/",
          "dtype": "f8"
         },
         "yaxis": "y2"
        },
        {
         "hovertemplate": "date=2027-02-28 00:00:00<br>variable=default_flag<br>default_month=%{x}<br>value=%{y}<extra></extra>",
         "legendgroup": "2027-02-28 00:00:00",
         "line": {
          "color": "#8C564B",
          "dash": "solid"
         },
         "marker": {
          "symbol": "circle"
         },
         "mode": "lines",
         "name": "2027-02-28 00:00:00",
         "showlegend": false,
         "type": "scattergl",
         "x": {
          "bdata": "AQIDBAUGBwgJCgsMDQ4PEBESExQVFhcY",
          "dtype": "i1"
         },
         "xaxis": "x3",
         "y": {
          "bdata": "beBbm0h9gj/qfY223sSBP2Kfova3X3s/sJjR6fJzeT+bhF7Do7BzP2dkP8CL0Gw/Z2Q/wIvQbD/5zGMTWhdmP7VdbrPG5Fo/Z2Q/wIvQXD9SUMyZPA1XP6FJ+4x3IVU/GGsQzVC8Tj+1XW6zxuRKPxhrEM1QvE4/GGsQzVC8Tj/vQiqAsjVDP1JQzJk8DUc/oUn7jHchVT8YaxDNULw+PxhrEM1QvD4/GGsQzVC8Tj/vQiqAsjVDPxhrEM1QvC4/",
          "dtype": "f8"
         },
         "yaxis": "y3"
        },
        {
         "hovertemplate": "date=2027-03-31 00:00:00<br>variable=id<br>default_month=%{x}<br>value=%{y}<extra></extra>",
         "legendgroup": "2027-03-31 00:00:00",
         "line": {
          "color": "#E377C2",
          "dash": "solid"
         },
         "marker": {
          "symbol": "circle"
         },
         "mode": "lines",
         "name": "2027-03-31 00:00:00",
         "showlegend": true,
         "type": "scattergl",
         "x": {
          "bdata": "AQIDBAUGBwgJCgsMDQ4PEBESExQVFhcY",
          "dtype": "i1"
         },
         "xaxis": "x",
         "y": {
          "bdata": "AAAAAACCwEAAAAAAAILAQAAAAAAAgsBAAAAAAACCwEAAAAAAAILAQAAAAAAAgsBAAAAAAACCwEAAAAAAAILAQAAAAAAAgsBAAAAAAACCwEAAAAAAAILAQAAAAAAAgsBAAAAAAACCwEAAAAAAAILAQAAAAAAAgsBAAAAAAACCwEAAAAAAAILAQAAAAAAAgsBAAAAAAACCwEAAAAAAAILAQAAAAAAAgsBAAAAAAACCwEAAAAAAAILAQAAAAAAAgsBA",
          "dtype": "f8"
         },
         "yaxis": "y"
        },
        {
         "hovertemplate": "date=2027-03-31 00:00:00<br>variable=cum_defaults<br>default_month=%{x}<br>value=%{y}<extra></extra>",
         "legendgroup": "2027-03-31 00:00:00",
         "line": {
          "color": "#E377C2",
          "dash": "solid"
         },
         "marker": {
          "symbol": "circle"
         },
         "mode": "lines",
         "name": "2027-03-31 00:00:00",
         "showlegend": false,
         "type": "scattergl",
         "x": {
          "bdata": "AQIDBAUGBwgJCgsMDQ4PEBESExQVFhcY",
          "dtype": "i1"
         },
         "xaxis": "x2",
         "y": {
          "bdata": "H8FGuE/ugT/8oQeBF76PP2WB1KbfSpY/tPH1koNCmz/uEWyE++SePxQZ8bq5Q6E/K2FetWeooj848fmxg4GjP0d5V64haqQ/UhlvqzkkpT9dwcSoz86lP2WB1KbfSqY/a0kipW23pj9zCTKjfTOnP3vJQaGNr6c/gKELoBf9pz+GcZeeI1qoP5AZ7Zu5BKk/lPn0msFCqT+Y2fyZyYCpP6CZDJjZ/Kk/pXHWlmNKqj+nYVqWZ2mqP6lJoJXtl6o/",
          "dtype": "f8"
         },
         "yaxis": "y2"
        },
        {
         "hovertemplate": "date=2027-03-31 00:00:00<br>variable=default_flag<br>default_month=%{x}<br>value=%{y}<extra></extra>",
         "legendgroup": "2027-03-31 00:00:00",
         "line": {
          "color": "#E377C2",
          "dash": "solid"
         },
         "marker": {
          "symbol": "circle"
         },
         "mode": "lines",
         "name": "2027-03-31 00:00:00",
         "showlegend": false,
         "type": "scattergl",
         "x": {
          "bdata": "AQIDBAUGBwgJCgsMDQ4PEBESExQVFhcY",
          "dtype": "i1"
         },
         "xaxis": "x3",
         "y": {
          "bdata": "H8FGuE/ugT+6wYGRj597P5vBQplPr3k/PsGFsI/ecz/RAbGLvxNtP9EBsYu/E20/ZYHUpt9KZj+yAXKTfyNbP9EBsYu/E10/dAH0ov9CVz9VAbWqv1JVP/AB8IP/A08/sgFyk38jSz/wAfCD/wNPP/AB8IP/A08/NgF2sn9iQz90AfSi/0JHP1UBtaq/UlU/8AHwg/8DPz/wAfCD/wM/P/AB8IP/A08/NgF2sn9iQz/wAfCD/wMvP3QB9KL/Qjc/",
          "dtype": "f8"
         },
         "yaxis": "y3"
        },
        {
         "hovertemplate": "date=2027-04-30 00:00:00<br>variable=id<br>default_month=%{x}<br>value=%{y}<extra></extra>",
         "legendgroup": "2027-04-30 00:00:00",
         "line": {
          "color": "#7F7F7F",
          "dash": "solid"
         },
         "marker": {
          "symbol": "circle"
         },
         "mode": "lines",
         "name": "2027-04-30 00:00:00",
         "showlegend": true,
         "type": "scattergl",
         "x": {
          "bdata": "AQIDBAUGBwgJCgsMDQ4PEBESExQVFhcY",
          "dtype": "i1"
         },
         "xaxis": "x",
         "y": {
          "bdata": "AAAAAABdwEAAAAAAAF3AQAAAAAAAXcBAAAAAAABdwEAAAAAAAF3AQAAAAAAAXcBAAAAAAABdwEAAAAAAAF3AQAAAAAAAXcBAAAAAAABdwEAAAAAAAF3AQAAAAAAAXcBAAAAAAABdwEAAAAAAAF3AQAAAAAAAXcBAAAAAAABdwEAAAAAAAF3AQAAAAAAAXcBAAAAAAABdwEAAAAAAAF3AQAAAAAAAXcBAAAAAAABdwEAAAAAAAF3AQAAAAAAAXcBA",
          "dtype": "f8"
         },
         "yaxis": "y"
        },
        {
         "hovertemplate": "date=2027-04-30 00:00:00<br>variable=cum_defaults<br>default_month=%{x}<br>value=%{y}<extra></extra>",
         "legendgroup": "2027-04-30 00:00:00",
         "line": {
          "color": "#7F7F7F",
          "dash": "solid"
         },
         "marker": {
          "symbol": "circle"
         },
         "mode": "lines",
         "name": "2027-04-30 00:00:00",
         "showlegend": false,
         "type": "scattergl",
         "x": {
          "bdata": "AQIDBAUGBwgJCgsMDQ4PEBESExQVFhcY",
          "dtype": "i1"
         },
         "xaxis": "x2",
         "y": {
          "bdata": "iNIHgAXeez8GCgx3tOOKP6BokIm5dJI/iZhAa2kflj9zyPBMGcqZP+qoxEbCmZw/z0d9FtBPnj/ir6oDlBKgP0SGZ8pQzqA/HaCUgGh6oT9fhBIFkfehPxisAHkUZaI/WZB+/Tzioj+adPyBZV+jP0Mjy9SeraM/dI4pOH0LpD9OqFbulLekP26alTAp9qQ/j4zUcr00pT/QcFL35bGlP3kfIUofAKY/iZhAa2kfpj8izu+cWE6mPzJHD76ibaY/",
          "dtype": "f8"
         },
         "yaxis": "y2"
        },
        {
         "hovertemplate": "date=2027-04-30 00:00:00<br>variable=default_flag<br>default_month=%{x}<br>value=%{y}<extra></extra>",
         "legendgroup": "2027-04-30 00:00:00",
         "line": {
          "color": "#7F7F7F",
          "dash": "solid"
         },
         "marker": {
          "symbol": "circle"
         },
         "mode": "lines",
         "name": "2027-04-30 00:00:00",
         "showlegend": false,
         "type": "scattergl",
         "x": {
          "bdata": "AQIDBAUGBwgJCgsMDQ4PEBESExQVFhcY",
          "dtype": "i1"
         },
         "xaxis": "x3",
         "y": {
          "bdata": "iNIHgAXeez+DQRBuY+l5P3SOKTh9C3Q/TH+BDX9VbT9Mf4ENf1VtP7oDn85HfWY/R+6J+9xgWz9Mf4ENf1VdPz3MmteYd1c/ODujxfaCVT9REHkfIUpPP0fuifvcYEs/URB5HyFKTz9REHkfIUpPPzOqq7NUjkM/Pcya15h3Rz84O6PF9oJVP1EQeR8hSj8/URB5HyFKPz9REHkfIUpPPzOqq7NUjkM/URB5HyFKLz89zJrXmHc3P1EQeR8hSi8/",
          "dtype": "f8"
         },
         "yaxis": "y3"
        },
        {
         "hovertemplate": "date=2027-05-31 00:00:00<br>variable=id<br>default_month=%{x}<br>value=%{y}<extra></extra>",
         "legendgroup": "2027-05-31 00:00:00",
         "line": {
          "color": "#BCBD22",
          "dash": "solid"
         },
         "marker": {
          "symbol": "circle"
         },
         "mode": "lines",
         "name": "2027-05-31 00:00:00",
         "showlegend": true,
         "type": "scattergl",
         "x": {
          "bdata": "AQIDBAUGBwgJCgsMDQ4PEBESExQVFhcY",
          "dtype": "i1"
         },
         "xaxis": "x",
         "y": {
          "bdata": "AAAAAIBAwEAAAAAAgEDAQAAAAACAQMBAAAAAAIBAwEAAAAAAgEDAQAAAAACAQMBAAAAAAIBAwEAAAAAAgEDAQAAAAACAQMBAAAAAAIBAwEAAAAAAgEDAQAAAAACAQMBAAAAAAIBAwEAAAAAAgEDAQAAAAACAQMBAAAAAAIBAwEAAAAAAgEDAQAAAAACAQMBAAAAAAIBAwEAAAAAAgEDAQAAAAACAQMBAAAAAAIBAwEAAAAAAgEDAQAAAAACAQMBA",
          "dtype": "f8"
         },
         "yaxis": "y"
        },
        {
         "hovertemplate": "date=2027-05-31 00:00:00<br>variable=cum_defaults<br>default_month=%{x}<br>value=%{y}<extra></extra>",
         "legendgroup": "2027-05-31 00:00:00",
         "line": {
          "color": "#BCBD22",
          "dash": "solid"
         },
         "marker": {
          "symbol": "circle"
         },
         "mode": "lines",
         "name": "2027-05-31 00:00:00",
         "showlegend": false,
         "type": "scattergl",
         "x": {
          "bdata": "AQIDBAUGBwgJCgsMDQ4PEBESExQVFhcY",
          "dtype": "i1"
         },
         "xaxis": "x2",
         "y": {
          "bdata": "Akt6+dMWej8BUTf6uyKHPwLCXvj3hI4/gRlD+5nzkj/B8436MMiVP0GwH/o+gZc/goyp+c1ZmT+CCUv52dOaP8Jm9PhkLpw/wmS1+GwqnT8CQ3748waePwJBP/j7Ap8/Aj8A+AP/nz/hbux7RE6gPyHO1HvHrKA/wXyp+wxaoT9BvJn7DpmhP8H7ifsQ2KE/wXpq+xRWoj8hylZ716SiP+HpTntYxKI/gRlD+5nzoj9BOTv7GhOjPyFJN3vbIqM/",
          "dtype": "f8"
         },
         "yaxis": "y2"
        },
        {
         "hovertemplate": "date=2027-05-31 00:00:00<br>variable=default_flag<br>default_month=%{x}<br>value=%{y}<extra></extra>",
         "legendgroup": "2027-05-31 00:00:00",
         "line": {
          "color": "#BCBD22",
          "dash": "solid"
         },
         "marker": {
          "symbol": "circle"
         },
         "mode": "lines",
         "name": "2027-05-31 00:00:00",
         "showlegend": false,
         "type": "scattergl",
         "x": {
          "bdata": "AQIDBAUGBwgJCgsMDQ4PEBESExQVFhcY",
          "dtype": "i1"
         },
         "xaxis": "x3",
         "y": {
          "bdata": "Akt6+dMWej8BV/T6oy50PwLEnfjviG0/AsSd+O+IbT8B0lb6t6RmPwLIG/nfkFs/AsSd+O+IXT8B0Bf6v6BXPwHUlfqvqFU/AsAf+P+ATz8CyBv535BLPwLAH/j/gE8/AsAf+P+ATz8B2BP7n7BDPwHQF/q/oEc/AdSV+q+oVT8CwB/4/4A/PwLAH/j/gD8/AsAf+P+ATz8B2BP7n7BDPwLAH/j/gC8/AdAX+r+gNz8CwB/4/4AvPwLAH/j/gB8/",
          "dtype": "f8"
         },
         "yaxis": "y3"
        },
        {
         "hovertemplate": "date=2027-06-30 00:00:00<br>variable=id<br>default_month=%{x}<br>value=%{y}<extra></extra>",
         "legendgroup": "2027-06-30 00:00:00",
         "line": {
          "color": "#17BECF",
          "dash": "solid"
         },
         "marker": {
          "symbol": "circle"
         },
         "mode": "lines",
         "name": "2027-06-30 00:00:00",
         "showlegend": true,
         "type": "scattergl",
         "x": {
          "bdata": "AQIDBAUGBwgJCgsMDQ4PEBESExQVFhcY",
          "dtype": "i1"
         },
         "xaxis": "x",
         "y": {
          "bdata": "AAAAAAAmwEAAAAAAACbAQAAAAAAAJsBAAAAAAAAmwEAAAAAAACbAQAAAAAAAJsBAAAAAAAAmwEAAAAAAACbAQAAAAAAAJsBAAAAAAAAmwEAAAAAAACbAQAAAAAAAJsBAAAAAAAAmwEAAAAAAACbAQAAAAAAAJsBAAAAAAAAmwEAAAAAAACbAQAAAAAAAJsBAAAAAAAAmwEAAAAAAACbAQAAAAAAAJsBAAAAAAAAmwEAAAAAAACbAQAAAAAAAJsBA",
          "dtype": "f8"
         },
         "yaxis": "y"
        },
        {
         "hovertemplate": "date=2027-06-30 00:00:00<br>variable=cum_defaults<br>default_month=%{x}<br>value=%{y}<extra></extra>",
         "legendgroup": "2027-06-30 00:00:00",
         "line": {
          "color": "#17BECF",
          "dash": "solid"
         },
         "marker": {
          "symbol": "circle"
         },
         "mode": "lines",
         "name": "2027-06-30 00:00:00",
         "showlegend": false,
         "type": "scattergl",
         "x": {
          "bdata": "AQIDBAUGBwgJCgsMDQ4PEBESExQVFhcY",
          "dtype": "i1"
         },
         "xaxis": "x2",
         "y": {
          "bdata": "837lkcJPdD/r7WUzO5aBP10c2R2VBIk/+L+GQA23jj/S6ghoaBeRP2+2peL+8pI/ub+8RHdvlD88iPzzOsyVP26OtorgyZY/2VOZbtGnlz8KWlMFd6WYPztgDZwco5k/GqRBGqRBmj+/KE1L4P+aP0PxjPqjXJw/XPTpxXbbnD9090aRSVqdP6b9ACjvV54/hEE1pnb2nj8Rw+ML4DWfP2OFaST+lJ8/8AYYimfUnz+2R+88HPSfPwSFuiqdKaA/",
          "dtype": "f8"
         },
         "yaxis": "y2"
        },
        {
         "hovertemplate": "date=2027-06-30 00:00:00<br>variable=default_flag<br>default_month=%{x}<br>value=%{y}<extra></extra>",
         "legendgroup": "2027-06-30 00:00:00",
         "line": {
          "color": "#17BECF",
          "dash": "solid"
         },
         "marker": {
          "symbol": "circle"
         },
         "mode": "lines",
         "name": "2027-06-30 00:00:00",
         "showlegend": false,
         "type": "scattergl",
         "x": {
          "bdata": "AQIDBAUGBwgJCgsMDQ4PEBESExQVFhcY",
          "dtype": "i1"
         },
         "xaxis": "x3",
         "y": {
          "bdata": "837lkcJPdD/HucypZ7ltP8e5zKlnuW0/bo62iuDJZj9krVh8HL5bP8e5zKlnuV0/n5RwIYbHVz88iPzzOsxVPynGQNeytE8/ZK1YfBy+Sz8pxkDXsrRPPynGQNeytE8/2nuIxu/QQz+flHAhhsdHPzyI/PM6zFU/KcZA17K0Pz8pxkDXsrQ/PynGQNeytE8/2nuIxu/QQz8pxkDXsrQvP5+UcCGGxzc/KcZA17K0Lz8pxkDXsrQfP5+UcCGGxzc/",
          "dtype": "f8"
         },
         "yaxis": "y3"
        },
        {
         "hovertemplate": "date=2027-07-31 00:00:00<br>variable=id<br>default_month=%{x}<br>value=%{y}<extra></extra>",
         "legendgroup": "2027-07-31 00:00:00",
         "line": {
          "color": "#1F77B4",
          "dash": "solid"
         },
         "marker": {
          "symbol": "circle"
         },
         "mode": "lines",
         "name": "2027-07-31 00:00:00",
         "showlegend": true,
         "type": "scattergl",
         "x": {
          "bdata": "AQIDBAUGBwgJCgsMDQ4PEBESExQVFhcY",
          "dtype": "i1"
         },
         "xaxis": "x",
         "y": {
          "bdata": "AAAAAIARwEAAAAAAgBHAQAAAAACAEcBAAAAAAIARwEAAAAAAgBHAQAAAAACAEcBAAAAAAIARwEAAAAAAgBHAQAAAAACAEcBAAAAAAIARwEAAAAAAgBHAQAAAAACAEcBAAAAAAIARwEAAAAAAgBHAQAAAAACAEcBAAAAAAIARwEAAAAAAgBHAQAAAAACAEcBAAAAAAIARwEAAAAAAgBHAQAAAAACAEcBAAAAAAIARwEAAAAAAgBHAQAAAAACAEcBA",
          "dtype": "f8"
         },
         "yaxis": "y"
        },
        {
         "hovertemplate": "date=2027-07-31 00:00:00<br>variable=cum_defaults<br>default_month=%{x}<br>value=%{y}<extra></extra>",
         "legendgroup": "2027-07-31 00:00:00",
         "line": {
          "color": "#1F77B4",
          "dash": "solid"
         },
         "marker": {
          "symbol": "circle"
         },
         "mode": "lines",
         "name": "2027-07-31 00:00:00",
         "showlegend": false,
         "type": "scattergl",
         "x": {
          "bdata": "AQIDBAUGBwgJCgsMDQ4PEBESExQVFhcY",
          "dtype": "i1"
         },
         "xaxis": "x2",
         "y": {
          "bdata": "JuxpvFPfbT8m7Gm8U999PzQhp7dmqYQ/BcH34pYliD+K/oRageGLP/RiXO083o4/1ZT7GZ/NkD+jC+5KiMyRP5gzwlWUq5I/Zqq0hn2qkz80Iae3ZqmUP3SrPna4SJU/j4T0WucHlj/q50H+Z2aXP1Eju5bc5Zc/uF40L1FlmD+G1SZgOmSZP8dfvh6MA5o/e/36akZDmj8I6lXd3aKaP7yHkimY4po/ldawT3UCmz8jwwvCDGKbP4r+hFqB4Zs/",
          "dtype": "f8"
         },
         "yaxis": "y2"
        },
        {
         "hovertemplate": "date=2027-07-31 00:00:00<br>variable=default_flag<br>default_month=%{x}<br>value=%{y}<extra></extra>",
         "legendgroup": "2027-07-31 00:00:00",
         "line": {
          "color": "#1F77B4",
          "dash": "solid"
         },
         "marker": {
          "symbol": "circle"
         },
         "mode": "lines",
         "name": "2027-07-31 00:00:00",
         "showlegend": false,
         "type": "scattergl",
         "x": {
          "bdata": "AQIDBAUGBwgJCgsMDQ4PEBESExQVFhcY",
          "dtype": "i1"
         },
         "xaxis": "x3",
         "y": {
          "bdata": "JuxpvFPfbT8m7Gm8U99tP4OsyGXz5mY/iv6EWoHhWz8m7Gm8U99dP1Eju5bc5Vc/tTXWNAroVT/C2U4eJt1PP4r+hFqB4Us/wtlOHibdTz/C2U4eJt1PPxlI8dI36kM/USO7ltzlRz+1NdY0CuhVP8LZTh4m3T8/wtlOHibdPz/C2U4eJt1PPxlI8dI36kM/wtlOHibdLz9RI7uW3OU3P8LZTh4m3S8/wtlOHibdHz9RI7uW3OU3P8LZTh4m3T8/",
          "dtype": "f8"
         },
         "yaxis": "y3"
        },
        {
         "hovertemplate": "date=2027-08-31 00:00:00<br>variable=id<br>default_month=%{x}<br>value=%{y}<extra></extra>",
         "legendgroup": "2027-08-31 00:00:00",
         "line": {
          "color": "#FF7F0E",
          "dash": "solid"
         },
         "marker": {
          "symbol": "circle"
         },
         "mode": "lines",
         "name": "2027-08-31 00:00:00",
         "showlegend": true,
         "type": "scattergl",
         "x": {
          "bdata": "AQIDBAUGBwgJCgsMDQ4PEBESExQVFhcY",
          "dtype": "i1"
         },
         "xaxis": "x",
         "y": {
          "bdata": "AAAAAIACwEAAAAAAgALAQAAAAACAAsBAAAAAAIACwEAAAAAAgALAQAAAAACAAsBAAAAAAIACwEAAAAAAgALAQAAAAACAAsBAAAAAAIACwEAAAAAAgALAQAAAAACAAsBAAAAAAIACwEAAAAAAgALAQAAAAACAAsBAAAAAAIACwEAAAAAAgALAQAAAAACAAsBAAAAAAIACwEAAAAAAgALAQAAAAACAAsBAAAAAAIACwEAAAAAAgALAQAAAAACAAsBA",
          "dtype": "f8"
         },
         "yaxis": "y"
        },
        {
         "hovertemplate": "date=2027-08-31 00:00:00<br>variable=cum_defaults<br>default_month=%{x}<br>value=%{y}<extra></extra>",
         "legendgroup": "2027-08-31 00:00:00",
         "line": {
          "color": "#FF7F0E",
          "dash": "solid"
         },
         "marker": {
          "symbol": "circle"
         },
         "mode": "lines",
         "name": "2027-08-31 00:00:00",
         "showlegend": false,
         "type": "scattergl",
         "x": {
          "bdata": "AQIDBAUGBwgJCgsMDQ4PEBESExQVFhcY",
          "dtype": "i1"
         },
         "xaxis": "x2",
         "y": {
          "bdata": "k7hiu1D7bT8LI4al3Ht6Pw6nn2hivYA/IP4LgMx8hD+VEMmSVHyHP4Fh9qPmO4o/z210sJY7jD+TuGK7UPuNP+HE4McA+48/mGgvalj9kD9wzBZuP52RPw0RxnIhXZI/g7lce+q8kz+XPHx+1jyUP6q/m4HCvJQ/0cXah5q8lT+pKcKLgVyWPzPrUY13nJY/go2pj2j8lj8MTzmRXjyXP9EvAZJZXJc/H9JYlEq8lz8zVXiXNjyYPzNVeJc2PJg/",
          "dtype": "f8"
         },
         "yaxis": "y2"
        },
        {
         "hovertemplate": "date=2027-08-31 00:00:00<br>variable=default_flag<br>default_month=%{x}<br>value=%{y}<extra></extra>",
         "legendgroup": "2027-08-31 00:00:00",
         "line": {
          "color": "#FF7F0E",
          "dash": "solid"
         },
         "marker": {
          "symbol": "circle"
         },
         "mode": "lines",
         "name": "2027-08-31 00:00:00",
         "showlegend": false,
         "type": "scattergl",
         "x": {
          "bdata": "AQIDBAUGBwgJCgsMDQ4PEBESExQVFhcY",
          "dtype": "i1"
         },
         "xaxis": "x3",
         "y": {
          "bdata": "k7hiu1D7bT+CjamPaPxmP0Ws5K6g+1s/k7hiu1D7XT+pk+iVQPxXP1uHaomQ/FU/4cTgxwD7Tz9FrOSuoPtLP+HE4McA+08/4cTgxwD7Tz8Ne+x84PxDP6mT6JVA/Ec/W4dqiZD8VT/hxODHAPs/P+HE4McA+z8/4cTgxwD7Tz8Ne+x84PxDP+HE4McA+y8/qZPolUD8Nz/hxODHAPsvP+HE4McA+x8/qZPolUD8Nz/hxODHAPs/PwAAAAAAAAAA",
          "dtype": "f8"
         },
         "yaxis": "y3"
        },
        {
         "hovertemplate": "date=2027-09-30 00:00:00<br>variable=id<br>default_month=%{x}<br>value=%{y}<extra></extra>",
         "legendgroup": "2027-09-30 00:00:00",
         "line": {
          "color": "#2CA02C",
          "dash": "solid"
         },
         "marker": {
          "symbol": "circle"
         },
         "mode": "lines",
         "name": "2027-09-30 00:00:00",
         "showlegend": true,
         "type": "scattergl",
         "x": {
          "bdata": "AQIDBAUGBwgJCgsMDQ4PEBESExQVFhcY",
          "dtype": "i1"
         },
         "xaxis": "x",
         "y": {
          "bdata": "AAAAAADnv0AAAAAAAOe/QAAAAAAA579AAAAAAADnv0AAAAAAAOe/QAAAAAAA579AAAAAAADnv0AAAAAAAOe/QAAAAAAA579AAAAAAADnv0AAAAAAAOe/QAAAAAAA579AAAAAAADnv0AAAAAAAOe/QAAAAAAA579AAAAAAADnv0AAAAAAAOe/QAAAAAAA579AAAAAAADnv0AAAAAAAOe/QAAAAAAA579AAAAAAADnv0AAAAAAAOe/QAAAAAAA579A",
          "dtype": "f8"
         },
         "yaxis": "y"
        },
        {
         "hovertemplate": "date=2027-09-30 00:00:00<br>variable=cum_defaults<br>default_month=%{x}<br>value=%{y}<extra></extra>",
         "legendgroup": "2027-09-30 00:00:00",
         "line": {
          "color": "#2CA02C",
          "dash": "solid"
         },
         "marker": {
          "symbol": "circle"
         },
         "mode": "lines",
         "name": "2027-09-30 00:00:00",
         "showlegend": false,
         "type": "scattergl",
         "x": {
          "bdata": "AQIDBAUGBwgJCgsMDQ4PEBESExQVFhcY",
          "dtype": "i1"
         },
         "xaxis": "x2",
         "y": {
          "bdata": "KjbAFAYSZz+zNnlTf45yPyWL7+pfFHo/jRqny4kMgD8d06d6sc6CP2+2HLRC0IQ/Vv1ixqGRhj+o4Nf/MpOIP/nDTDnElIo/DNI1/b7Viz+JfE3o61aNP40ap8uJDJA/YVMEGu6MkD82jGFoUg2RP979GwUbDpI/6IQQZ5iukj9SIT+Oyu6SP/ELBckVT5M/XKgz8EePkz+R9soDYa+TPzDhkD6sD5Q/BBrujBCQlD8EGu6MEJCUPwQa7owQkJQ/",
          "dtype": "f8"
         },
         "yaxis": "y2"
        },
        {
         "hovertemplate": "date=2027-09-30 00:00:00<br>variable=default_flag<br>default_month=%{x}<br>value=%{y}<extra></extra>",
         "legendgroup": "2027-09-30 00:00:00",
         "line": {
          "color": "#2CA02C",
          "dash": "solid"
         },
         "marker": {
          "symbol": "circle"
         },
         "mode": "lines",
         "name": "2027-09-30 00:00:00",
         "showlegend": false,
         "type": "scattergl",
         "x": {
          "bdata": "AQIDBAUGBwgJCgsMDQ4PEBESExQVFhcY",
          "dtype": "i1"
         },
         "xaxis": "x3",
         "y": {
          "bdata": "KjbAFAYSZz92bmQk8RVcP8hR2V2CF14/06d6sc4SWD+CxAV4PRFWP40ap8uJDFA/dm5kJPEVTD+NGqfLiQxQP40ap8uJDFA/MOGQPqwPRD/Tp3qxzhJIP4LEBXg9EVY/jRqny4kMQD+NGqfLiQxAP40ap8uJDFA/MOGQPqwPRD+NGqfLiQwwP9OnerHOEjg/jRqny4kMMD+NGqfLiQwgP9OnerHOEjg/jRqny4kMQD8AAAAAAAAAAAAAAAAAAAAA",
          "dtype": "f8"
         },
         "yaxis": "y3"
        },
        {
         "hovertemplate": "date=2027-10-31 00:00:00<br>variable=id<br>default_month=%{x}<br>value=%{y}<extra></extra>",
         "legendgroup": "2027-10-31 00:00:00",
         "line": {
          "color": "#D62728",
          "dash": "solid"
         },
         "marker": {
          "symbol": "circle"
         },
         "mode": "lines",
         "name": "2027-10-31 00:00:00",
         "showlegend": true,
         "type": "scattergl",
         "x": {
          "bdata": "AQIDBAUGBwgJCgsMDQ4PEBESExQVFhcY",
          "dtype": "i1"
         },
         "xaxis": "x",
         "y": {
          "bdata": "AAAAAADQv0AAAAAAANC/QAAAAAAA0L9AAAAAAADQv0AAAAAAANC/QAAAAAAA0L9AAAAAAADQv0AAAAAAANC/QAAAAAAA0L9AAAAAAADQv0AAAAAAANC/QAAAAAAA0L9AAAAAAADQv0AAAAAAANC/QAAAAAAA0L9AAAAAAADQv0AAAAAAANC/QAAAAAAA0L9AAAAAAADQv0AAAAAAANC/QAAAAAAA0L9AAAAAAADQv0AAAAAAANC/QAAAAAAA0L9A",
          "dtype": "f8"
         },
         "yaxis": "y"
        },
        {
         "hovertemplate": "date=2027-10-31 00:00:00<br>variable=cum_defaults<br>default_month=%{x}<br>value=%{y}<extra></extra>",
         "legendgroup": "2027-10-31 00:00:00",
         "line": {
          "color": "#D62728",
          "dash": "solid"
         },
         "marker": {
          "symbol": "circle"
         },
         "mode": "lines",
         "name": "2027-10-31 00:00:00",
         "showlegend": false,
         "type": "scattergl",
         "x": {
          "bdata": "AQIDBAUGBwgJCgsMDQ4PEBESExQVFhcY",
          "dtype": "i1"
         },
         "xaxis": "x2",
         "y": {
          "bdata": "4ZUOXz8qXD+ErXOiwSttP5dkmGXunnQ/mmZE2Donej8oxdjlQy1+P/JL3ehF2YA/OXunb0rcgj+AqnH2Tt+EPwwIsMoxIYY/gavHL3Wjhz+DrB1pm2eKPybEgqwdaYs/ytvn759qjD8RC7J2pG2OP51o8EqHr48/N3pRNiQYkD8VY5cPtXiQP/2ocKAVuZA/8kvd6EXZkD/PNCPC1jmRP6HA1eOXupE/ocDV45e6kT+hwNXjl7qRP5VjQizI2pE/",
          "dtype": "f8"
         },
         "yaxis": "y2"
        },
        {
         "hovertemplate": "date=2027-10-31 00:00:00<br>variable=default_flag<br>default_month=%{x}<br>value=%{y}<extra></extra>",
         "legendgroup": "2027-10-31 00:00:00",
         "line": {
          "color": "#D62728",
          "dash": "solid"
         },
         "marker": {
          "symbol": "circle"
         },
         "mode": "lines",
         "name": "2027-10-31 00:00:00",
         "showlegend": false,
         "type": "scattergl",
         "x": {
          "bdata": "AQIDBAUGBwgJCgsMDQ4PEBESExQVFhcY",
          "dtype": "i1"
         },
         "xaxis": "x3",
         "y": {
          "bdata": "4ZUOXz8qXD8oxdjlQy1eP1M3elE2JFg/DAiwyjEhVj83elE2JBhQP+GVDl8/Kkw/N3pRNiQYUD83elE2JBhQP8XY5UMtHkQ/Uzd6UTYkSD8MCLDKMSFWPzd6UTYkGEA/N3pRNiQYQD83elE2JBhQP8XY5UMtHkQ/N3pRNiQYMD9TN3pRNiQ4Pzd6UTYkGDA/N3pRNiQYID9TN3pRNiQ4Pzd6UTYkGEA/AAAAAAAAAAAAAAAAAAAAADd6UTYkGCA/",
          "dtype": "f8"
         },
         "yaxis": "y3"
        },
        {
         "hovertemplate": "date=2027-11-30 00:00:00<br>variable=id<br>default_month=%{x}<br>value=%{y}<extra></extra>",
         "legendgroup": "2027-11-30 00:00:00",
         "line": {
          "color": "#9467BD",
          "dash": "solid"
         },
         "marker": {
          "symbol": "circle"
         },
         "mode": "lines",
         "name": "2027-11-30 00:00:00",
         "showlegend": true,
         "type": "scattergl",
         "x": {
          "bdata": "AQIDBAUGBwgJCgsMDQ4PEBESExQVFhcY",
          "dtype": "i1"
         },
         "xaxis": "x",
         "y": {
          "bdata": "AAAAAADCv0AAAAAAAMK/QAAAAAAAwr9AAAAAAADCv0AAAAAAAMK/QAAAAAAAwr9AAAAAAADCv0AAAAAAAMK/QAAAAAAAwr9AAAAAAADCv0AAAAAAAMK/QAAAAAAAwr9AAAAAAADCv0AAAAAAAMK/QAAAAAAAwr9AAAAAAADCv0AAAAAAAMK/QAAAAAAAwr9AAAAAAADCv0AAAAAAAMK/QAAAAAAAwr9AAAAAAADCv0AAAAAAAMK/QAAAAAAAwr9A",
          "dtype": "f8"
         },
         "yaxis": "y"
        },
        {
         "hovertemplate": "date=2027-11-30 00:00:00<br>variable=cum_defaults<br>default_month=%{x}<br>value=%{y}<extra></extra>",
         "legendgroup": "2027-11-30 00:00:00",
         "line": {
          "color": "#9467BD",
          "dash": "solid"
         },
         "marker": {
          "symbol": "circle"
         },
         "mode": "lines",
         "name": "2027-11-30 00:00:00",
         "showlegend": false,
         "type": "scattergl",
         "x": {
          "bdata": "AQIDBAUGBwgJCgsMDQ4PEBESExQVFhcY",
          "dtype": "i1"
         },
         "xaxis": "x2",
         "y": {
          "bdata": "cxrceZE6Xj9osd8gtjRrP0mZPt4XJXM/WCWP/+Ysdz/mn7U8vLN6P/UrBl6Lu34/AlyrP61hgT/HhxT6HaSCP028kqYLJ4Q/lxx6DWrshj+bP87VXe6HP59iIp5R8Ig/p6jKLjn0ij9s1DPpqTaMP+3lXc2jt4w/MACdoxp5jT+yEceHFPqNP3Ma3HmROo4/tjQbUAj8jj+6V28Y/P2PP7pXbxj8/Y8/uldvGPz9jz89MEKFPB+QP1+9YfD3f5A/",
          "dtype": "f8"
         },
         "yaxis": "y2"
        },
        {
         "hovertemplate": "date=2027-11-30 00:00:00<br>variable=default_flag<br>default_month=%{x}<br>value=%{y}<extra></extra>",
         "legendgroup": "2027-11-30 00:00:00",
         "line": {
          "color": "#9467BD",
          "dash": "solid"
         },
         "marker": {
          "symbol": "circle"
         },
         "mode": "lines",
         "name": "2027-11-30 00:00:00",
         "showlegend": false,
         "type": "scattergl",
         "x": {
          "bdata": "AQIDBAUGBwgJCgsMDQ4PEBESExQVFhcY",
          "dtype": "i1"
         },
         "xaxis": "x3",
         "y": {
          "bdata": "cxrceZE6Xj9cSOPH2i5YP1UCOzfzKlY/PTBChTwfUD9s1DPpqTZMPz0wQoU8H1A/PTBChTwfUD9NvJKmCydEP1xI48faLkg/VQI7N/MqVj89MEKFPB9APz0wQoU8H0A/PTBChTwfUD9NvJKmCydEPz0wQoU8HzA/XEjjx9ouOD89MEKFPB8wPz0wQoU8HyA/XEjjx9ouOD89MEKFPB9APwAAAAAAAAAAAAAAAAAAAAA9MEKFPB8gP1xI48faLjg/",
          "dtype": "f8"
         },
         "yaxis": "y3"
        },
        {
         "hovertemplate": "date=2027-12-31 00:00:00<br>variable=id<br>default_month=%{x}<br>value=%{y}<extra></extra>",
         "legendgroup": "2027-12-31 00:00:00",
         "line": {
          "color": "#8C564B",
          "dash": "solid"
         },
         "marker": {
          "symbol": "circle"
         },
         "mode": "lines",
         "name": "2027-12-31 00:00:00",
         "showlegend": true,
         "type": "scattergl",
         "x": {
          "bdata": "AQIDBAUGBwgJCgsMDQ4PEBESExQVFhcY",
          "dtype": "i1"
         },
         "xaxis": "x",
         "y": {
          "bdata": "AAAAAACzv0AAAAAAALO/QAAAAAAAs79AAAAAAACzv0AAAAAAALO/QAAAAAAAs79AAAAAAACzv0AAAAAAALO/QAAAAAAAs79AAAAAAACzv0AAAAAAALO/QAAAAAAAs79AAAAAAACzv0AAAAAAALO/QAAAAAAAs79AAAAAAACzv0AAAAAAALO/QAAAAAAAs79AAAAAAACzv0AAAAAAALO/QAAAAAAAs79AAAAAAACzv0AAAAAAALO/QAAAAAAAs79A",
          "dtype": "f8"
         },
         "yaxis": "y"
        },
        {
         "hovertemplate": "date=2027-12-31 00:00:00<br>variable=cum_defaults<br>default_month=%{x}<br>value=%{y}<extra></extra>",
         "legendgroup": "2027-12-31 00:00:00",
         "line": {
          "color": "#8C564B",
          "dash": "solid"
         },
         "marker": {
          "symbol": "circle"
         },
         "mode": "lines",
         "name": "2027-12-31 00:00:00",
         "showlegend": false,
         "type": "scattergl",
         "x": {
          "bdata": "AQIDBAUGBwgJCgsMDQ4PEBESExQVFhcY",
          "dtype": "i1"
         },
         "xaxis": "x2",
         "y": {
          "bdata": "QymMR0w6WD+Lpztv3jdnP0y1vzFNS28/q6D5DScucz+Lpztv3jd3P2yufdCVQXs/uPJGbajHfT/wOxz7eGeAP6ug+Q0nLoM/YyJK5pQwhD8bpJq+AjOFP4unO2/eN4c/sUmgved6iD+NisipHvyIP9frBAzxvYk/tCwt+Cc/ij8iTUFuw3+KP2yufdCVQYs/JDDOqANEjD8kMM6oA0SMPyQwzqgDRIw/klDiHp+EjD/csR6BcUaNP0rSMvcMh40/",
          "dtype": "f8"
         },
         "yaxis": "y2"
        },
        {
         "hovertemplate": "date=2027-12-31 00:00:00<br>variable=default_flag<br>default_month=%{x}<br>value=%{y}<extra></extra>",
         "legendgroup": "2027-12-31 00:00:00",
         "line": {
          "color": "#8C564B",
          "dash": "solid"
         },
         "marker": {
          "symbol": "circle"
         },
         "mode": "lines",
         "name": "2027-12-31 00:00:00",
         "showlegend": false,
         "type": "scattergl",
         "x": {
          "bdata": "AQIDBAUGBwgJCgsMDQ4PEBESExQVFhcY",
          "dtype": "i1"
         },
         "xaxis": "x3",
         "y": {
          "bdata": "QymMR0w6WD/TJeuWcDVWP4IbCIXdJlA/JDDOqANETD+CGwiF3SZQP4IbCIXdJlA/YyJK5pQwRD9DKYxHTDpIP9Ml65ZwNVY/ghsIhd0mQD+CGwiF3SZAP4IbCIXdJlA/YyJK5pQwRD+CGwiF3SYwP0MpjEdMOjg/ghsIhd0mMD+CGwiF3SYgP0MpjEdMOjg/ghsIhd0mQD8AAAAAAAAAAAAAAAAAAAAAghsIhd0mID9DKYxHTDo4P4IbCIXdJiA/",
          "dtype": "f8"
         },
         "yaxis": "y3"
        },
        {
         "hovertemplate": "date=2028-01-31 00:00:00<br>variable=id<br>default_month=%{x}<br>value=%{y}<extra></extra>",
         "legendgroup": "2028-01-31 00:00:00",
         "line": {
          "color": "#E377C2",
          "dash": "solid"
         },
         "marker": {
          "symbol": "circle"
         },
         "mode": "lines",
         "name": "2028-01-31 00:00:00",
         "showlegend": true,
         "type": "scattergl",
         "x": {
          "bdata": "AQIDBAUGBwgJCgsMDQ4PEBESExQVFhcY",
          "dtype": "i1"
         },
         "xaxis": "x",
         "y": {
          "bdata": "AAAAAACnv0AAAAAAAKe/QAAAAAAAp79AAAAAAACnv0AAAAAAAKe/QAAAAAAAp79AAAAAAACnv0AAAAAAAKe/QAAAAAAAp79AAAAAAACnv0AAAAAAAKe/QAAAAAAAp79AAAAAAACnv0AAAAAAAKe/QAAAAAAAp79AAAAAAACnv0AAAAAAAKe/QAAAAAAAp79AAAAAAACnv0AAAAAAAKe/QAAAAAAAp79AAAAAAACnv0AAAAAAAKe/QAAAAAAAp79A",
          "dtype": "f8"
         },
         "yaxis": "y"
        },
        {
         "hovertemplate": "date=2028-01-31 00:00:00<br>variable=cum_defaults<br>default_month=%{x}<br>value=%{y}<extra></extra>",
         "legendgroup": "2028-01-31 00:00:00",
         "line": {
          "color": "#E377C2",
          "dash": "solid"
         },
         "marker": {
          "symbol": "circle"
         },
         "mode": "lines",
         "name": "2028-01-31 00:00:00",
         "showlegend": false,
         "type": "scattergl",
         "x": {
          "bdata": "AQIDBAUGBwgJCgsMDQ4PEBESExQVFhcY",
          "dtype": "i1"
         },
         "xaxis": "x2",
         "y": {
          "bdata": "3mMBDNw9Vj9XMwGWbDVjP5KkAVQbSWo//RIB8swvcT+xUwE6DDt1PyF8AccTwnc/qKwBPYPKej/QAgEg/SyAP/0SAfLML4E/KiMBxJwygj+EQwFoPDiEP7xXgS7Ae4U/01+BFyj9hT/0awH1Q7+GPwt0Ad6rQIc/FniB0l+Bhz84hAGwe0OIP2WUAYJLRok/ZZQBgktGiT9llAGCS0aJP3CYgXb/hok/kqQBVBtJij+dqIFIz4mKP7+0ASbrS4s/",
          "dtype": "f8"
         },
         "yaxis": "y2"
        },
        {
         "hovertemplate": "date=2028-01-31 00:00:00<br>variable=default_flag<br>default_month=%{x}<br>value=%{y}<extra></extra>",
         "legendgroup": "2028-01-31 00:00:00",
         "line": {
          "color": "#E377C2",
          "dash": "solid"
         },
         "marker": {
          "symbol": "circle"
         },
         "mode": "lines",
         "name": "2028-01-31 00:00:00",
         "showlegend": false,
         "type": "scattergl",
         "x": {
          "bdata": "AQIDBAUGBwgJCgsMDQ4PEBESExQVFhcY",
          "dtype": "i1"
         },
         "xaxis": "x3",
         "y": {
          "bdata": "3mMBDNw9Vj/QAgEg/SxQP+zEAfi6Tkw/0AIBIP0sUD/QAgEg/SxQP4RDAWg8OEQ/OIQBsHtDSD/eYwEM3D1WP9ACASD9LEA/0AIBIP0sQD/QAgEg/SxQP4RDAWg8OEQ/0AIBIP0sMD84hAGwe0M4P9ACASD9LDA/0AIBIP0sID84hAGwe0M4P9ACASD9LEA/AAAAAAAAAAAAAAAAAAAAANACASD9LCA/OIQBsHtDOD/QAgEg/SwgPziEAbB7Qzg/",
          "dtype": "f8"
         },
         "yaxis": "y3"
        },
        {
         "hovertemplate": "date=2028-02-29 00:00:00<br>variable=id<br>default_month=%{x}<br>value=%{y}<extra></extra>",
         "legendgroup": "2028-02-29 00:00:00",
         "line": {
          "color": "#7F7F7F",
          "dash": "solid"
         },
         "marker": {
          "symbol": "circle"
         },
         "mode": "lines",
         "name": "2028-02-29 00:00:00",
         "showlegend": true,
         "type": "scattergl",
         "x": {
          "bdata": "AQIDBAUGBwgJCgsMDQ4PEBESExQVFhcY",
          "dtype": "i1"
         },
         "xaxis": "x",
         "y": {
          "bdata": "AAAAAACcv0AAAAAAAJy/QAAAAAAAnL9AAAAAAACcv0AAAAAAAJy/QAAAAAAAnL9AAAAAAACcv0AAAAAAAJy/QAAAAAAAnL9AAAAAAACcv0AAAAAAAJy/QAAAAAAAnL9AAAAAAACcv0AAAAAAAJy/QAAAAAAAnL9AAAAAAACcv0AAAAAAAJy/QAAAAAAAnL9AAAAAAACcv0AAAAAAAJy/QAAAAAAAnL9AAAAAAACcv0AAAAAAAJy/QAAAAAAAnL9A",
          "dtype": "f8"
         },
         "yaxis": "y"
        },
        {
         "hovertemplate": "date=2028-02-29 00:00:00<br>variable=cum_defaults<br>default_month=%{x}<br>value=%{y}<extra></extra>",
         "legendgroup": "2028-02-29 00:00:00",
         "line": {
          "color": "#7F7F7F",
          "dash": "solid"
         },
         "marker": {
          "symbol": "circle"
         },
         "mode": "lines",
         "name": "2028-02-29 00:00:00",
         "showlegend": false,
         "type": "scattergl",
         "x": {
          "bdata": "AQIDBAUGBwgJCgsMDQ4PEBESExQVFhcY",
          "dtype": "i1"
         },
         "xaxis": "x2",
         "y": {
          "bdata": "TLxQLp4yUD8PYdeW6F5eP64OlGLDSGc/1Gy8eRJibz/W0xr08ThyPyT3yZxvQnU/37e1/NXTej9oz3/CKdp8P/LmSYh94H4/AgvviZJ2gT+4WY3lhrqCP5vf/9YbPIM/bqgrQXv+gz9RLp4yEICEP0JxV6vawIQ/FjqDFTqDhT/aRWj4Y4aGP9pFaPhjhoY/2kVo+GOGhj/LiCFxLseGP59RTduNiYc/kJQGVFjKhz9kXTK+t4yIP0bjpK9MDok/",
          "dtype": "f8"
         },
         "yaxis": "y2"
        },
        {
         "hovertemplate": "date=2028-02-29 00:00:00<br>variable=default_flag<br>default_month=%{x}<br>value=%{y}<extra></extra>",
         "legendgroup": "2028-02-29 00:00:00",
         "line": {
          "color": "#7F7F7F",
          "dash": "solid"
         },
         "marker": {
          "symbol": "circle"
         },
         "mode": "lines",
         "name": "2028-02-29 00:00:00",
         "showlegend": false,
         "type": "scattergl",
         "x": {
          "bdata": "AQIDBAUGBwgJCgsMDQ4PEBESExQVFhcY",
          "dtype": "i1"
         },
         "xaxis": "x3",
         "y": {
          "bdata": "TLxQLp4yUD+GSQ3RlFhMP0y8UC6eMlA/TLxQLp4yUD9g6+S5RT9EP3MaeUXtS0g/6QKvf5lFVj9MvFAunjJAP0y8UC6eMkA/TLxQLp4yUD9g6+S5RT9EP0y8UC6eMjA/cxp5Re1LOD9MvFAunjIwP0y8UC6eMiA/cxp5Re1LOD9MvFAunjJAPwAAAAAAAAAAAAAAAAAAAABMvFAunjIgP3MaeUXtSzg/TLxQLp4yID9zGnlF7Us4P0y8UC6eMjA/",
          "dtype": "f8"
         },
         "yaxis": "y3"
        },
        {
         "hovertemplate": "date=2028-03-31 00:00:00<br>variable=id<br>default_month=%{x}<br>value=%{y}<extra></extra>",
         "legendgroup": "2028-03-31 00:00:00",
         "line": {
          "color": "#BCBD22",
          "dash": "solid"
         },
         "marker": {
          "symbol": "circle"
         },
         "mode": "lines",
         "name": "2028-03-31 00:00:00",
         "showlegend": true,
         "type": "scattergl",
         "x": {
          "bdata": "AQIDBAUGBwgJCgsMDQ4PEBESExQVFhcY",
          "dtype": "i1"
         },
         "xaxis": "x",
         "y": {
          "bdata": "AAAAAACUv0AAAAAAAJS/QAAAAAAAlL9AAAAAAACUv0AAAAAAAJS/QAAAAAAAlL9AAAAAAACUv0AAAAAAAJS/QAAAAAAAlL9AAAAAAACUv0AAAAAAAJS/QAAAAAAAlL9AAAAAAACUv0AAAAAAAJS/QAAAAAAAlL9AAAAAAACUv0AAAAAAAJS/QAAAAAAAlL9AAAAAAACUv0AAAAAAAJS/QAAAAAAAlL9AAAAAAACUv0AAAAAAAJS/QAAAAAAAlL9A",
          "dtype": "f8"
         },
         "yaxis": "y"
        },
        {
         "hovertemplate": "date=2028-03-31 00:00:00<br>variable=cum_defaults<br>default_month=%{x}<br>value=%{y}<extra></extra>",
         "legendgroup": "2028-03-31 00:00:00",
         "line": {
          "color": "#BCBD22",
          "dash": "solid"
         },
         "marker": {
          "symbol": "circle"
         },
         "mode": "lines",
         "name": "2028-03-31 00:00:00",
         "showlegend": false,
         "type": "scattergl",
         "x": {
          "bdata": "AQIDBAUGBwgJCgsMDQ4PEBESExQVFhcY",
          "dtype": "i1"
         },
         "xaxis": "x2",
         "y": {
          "bdata": "lW7LMsNfTD8yZLVImmZeP42IAnypTmc/lW7LMsNfbD+2p0Q6JDpxPyYLiLbzzHY/wwByzMrTeD9g9lviodp6P5nhLw5Q6H4/TyrKdG64gD+2p0Q6JDqBP9FjfOK0/IE/OOH2p2p+gj/sH7SKRb+CPwfc6zLWgYM/1dbgvUGFhD/V1uC9QYWEP9XW4L1BhYQ/iRWeoBzGhD+k0dVIrYiFP1cQkyuIyYU/cszK0xiMhj/ZSUWZzg2HP0DHv16Ej4c/",
          "dtype": "f8"
         },
         "yaxis": "y2"
        },
        {
         "hovertemplate": "date=2028-03-31 00:00:00<br>variable=default_flag<br>default_month=%{x}<br>value=%{y}<extra></extra>",
         "legendgroup": "2028-03-31 00:00:00",
         "line": {
          "color": "#BCBD22",
          "dash": "solid"
         },
         "marker": {
          "symbol": "circle"
         },
         "mode": "lines",
         "name": "2028-03-31 00:00:00",
         "showlegend": false,
         "type": "scattergl",
         "x": {
          "bdata": "AQIDBAUGBwgJCgsMDQ4PEBESExQVFhcY",
          "dtype": "i1"
         },
         "xaxis": "x3",
         "y": {
          "bdata": "lW7LMsNfTD/orE+vuDZQP+isT6+4NlA/IZgj22ZERD9bg/cGFVJIP76NDfE9S1Y/6KxPr7g2QD/orE+vuDZAP+isT6+4NlA/IZgj22ZERD/orE+vuDYwP1uD9wYVUjg/6KxPr7g2MD/orE+vuDYgP1uD9wYVUjg/6KxPr7g2QD8AAAAAAAAAAAAAAAAAAAAA6KxPr7g2ID9bg/cGFVI4P+isT6+4NiA/W4P3BhVSOD/orE+vuDYwP+isT6+4NjA/",
          "dtype": "f8"
         },
         "yaxis": "y3"
        },
        {
         "hovertemplate": "date=2028-04-30 00:00:00<br>variable=id<br>default_month=%{x}<br>value=%{y}<extra></extra>",
         "legendgroup": "2028-04-30 00:00:00",
         "line": {
          "color": "#17BECF",
          "dash": "solid"
         },
         "marker": {
          "symbol": "circle"
         },
         "mode": "lines",
         "name": "2028-04-30 00:00:00",
         "showlegend": true,
         "type": "scattergl",
         "x": {
          "bdata": "AQIDBAUGBwgJCgsMDQ4PEBESExQVFhcY",
          "dtype": "i1"
         },
         "xaxis": "x",
         "y": {
          "bdata": "AAAAAACNv0AAAAAAAI2/QAAAAAAAjb9AAAAAAACNv0AAAAAAAI2/QAAAAAAAjb9AAAAAAACNv0AAAAAAAI2/QAAAAAAAjb9AAAAAAACNv0AAAAAAAI2/QAAAAAAAjb9AAAAAAACNv0AAAAAAAI2/QAAAAAAAjb9AAAAAAACNv0AAAAAAAI2/QAAAAAAAjb9AAAAAAACNv0AAAAAAAI2/QAAAAAAAjb9AAAAAAACNv0AAAAAAAI2/QAAAAAAAjb9A",
          "dtype": "f8"
         },
         "yaxis": "y"
        },
        {
         "hovertemplate": "date=2028-04-30 00:00:00<br>variable=cum_defaults<br>default_month=%{x}<br>value=%{y}<extra></extra>",
         "legendgroup": "2028-04-30 00:00:00",
         "line": {
          "color": "#17BECF",
          "dash": "solid"
         },
         "marker": {
          "symbol": "circle"
         },
         "mode": "lines",
         "name": "2028-04-30 00:00:00",
         "showlegend": false,
         "type": "scattergl",
         "x": {
          "bdata": "AQIDBAUGBwgJCgsMDQ4PEBESExQVFhcY",
          "dtype": "i1"
         },
         "xaxis": "x2",
         "y": {
          "bdata": "BSUwlVE6UD8FJTCVUTpgP5cwzxOLTGU/eT7Bq2liaz/2KynhQEVzP5cwzxOLTHU/NzV1RtVTdz95PsGraWJ7P0HEEGuG630/ksZjhCvvfj8FJTCVUTqAPy2m2SEkvIA/wWYuaA39gD9+qCw7yb+BP86qf1Ruw4I/zqp/VG7Dgj/Oqn9UbsOCP2Jr1JpXBIM/Hq3SbRPHgz+ybSe0/AeEP26vJYe4yoQ/lzDPE4tMhT+/sXigXc6FP+cyIi0wUIY/",
          "dtype": "f8"
         },
         "yaxis": "y2"
        },
        {
         "hovertemplate": "date=2028-04-30 00:00:00<br>variable=default_flag<br>default_month=%{x}<br>value=%{y}<extra></extra>",
         "legendgroup": "2028-04-30 00:00:00",
         "line": {
          "color": "#17BECF",
          "dash": "solid"
         },
         "marker": {
          "symbol": "circle"
         },
         "mode": "lines",
         "name": "2028-04-30 00:00:00",
         "showlegend": false,
         "type": "scattergl",
         "x": {
          "bdata": "AQIDBAUGBwgJCgsMDQ4PEBESExQVFhcY",
          "dtype": "i1"
         },
         "xaxis": "x3",
         "y": {
          "bdata": "BSUwlVE6UD8FJTCVUTpQP0YufPrlSEQ/iDfIX3pXSD/nMiItMFBWPwUlMJVROkA/BSUwlVE6QD8FJTCVUTpQP0YufPrlSEQ/BSUwlVE6MD+IN8hfelc4PwUlMJVROjA/BSUwlVE6ID+IN8hfelc4PwUlMJVROkA/AAAAAAAAAAAAAAAAAAAAAAUlMJVROiA/iDfIX3pXOD8FJTCVUTogP4g3yF96Vzg/BSUwlVE6MD8FJTCVUTowPwUlMJVROjA/",
          "dtype": "f8"
         },
         "yaxis": "y3"
        },
        {
         "hovertemplate": "date=2028-05-31 00:00:00<br>variable=id<br>default_month=%{x}<br>value=%{y}<extra></extra>",
         "legendgroup": "2028-05-31 00:00:00",
         "line": {
          "color": "#1F77B4",
          "dash": "solid"
         },
         "marker": {
          "symbol": "circle"
         },
         "mode": "lines",
         "name": "2028-05-31 00:00:00",
         "showlegend": true,
         "type": "scattergl",
         "x": {
          "bdata": "AQIDBAUGBwgJCgsMDQ4PEBESExQVFhcY",
          "dtype": "i1"
         },
         "xaxis": "x",
         "y": {
          "bdata": "AAAAAACFv0AAAAAAAIW/QAAAAAAAhb9AAAAAAACFv0AAAAAAAIW/QAAAAAAAhb9AAAAAAACFv0AAAAAAAIW/QAAAAAAAhb9AAAAAAACFv0AAAAAAAIW/QAAAAAAAhb9AAAAAAACFv0AAAAAAAIW/QAAAAAAAhb9AAAAAAACFv0AAAAAAAIW/QAAAAAAAhb9AAAAAAACFv0AAAAAAAIW/QAAAAAAAhb9AAAAAAACFv0AAAAAAAIW/QAAAAAAAhb9A",
          "dtype": "f8"
         },
         "yaxis": "y"
        },
        {
         "hovertemplate": "date=2028-05-31 00:00:00<br>variable=cum_defaults<br>default_month=%{x}<br>value=%{y}<extra></extra>",
         "legendgroup": "2028-05-31 00:00:00",
         "line": {
          "color": "#1F77B4",
          "dash": "solid"
         },
         "marker": {
          "symbol": "circle"
         },
         "mode": "lines",
         "name": "2028-05-31 00:00:00",
         "showlegend": false,
         "type": "scattergl",
         "x": {
          "bdata": "AQIDBAUGBwgJCgsMDQ4PEBESExQVFhcY",
          "dtype": "i1"
         },
         "xaxis": "x2",
         "y": {
          "bdata": "gCV6/m8+UD/wfIb9dWVaP4gMMf4kSmM/UAYl/RF1bj/Yx2H+VkJxP4gMMf4kSnM/6JXP/cBZdz/Eq5J9guN5PxxOen1p53o/oMFV/UNtfD/4Yz39KnF9PyQ1MX0e830/qKgM/fh4fz+s9m1+Y8CAP6z2bX5jwIA/rPZtfmPAgD9C32c+XQGBPwSZVX5KxIE/moFPPkQFgj9cOz1+MciCP4gMMf4kSoM/tN0kfhjMgz/grhj+C06EP6JoBj75EIU/",
          "dtype": "f8"
         },
         "yaxis": "y2"
        },
        {
         "hovertemplate": "date=2028-05-31 00:00:00<br>variable=default_flag<br>default_month=%{x}<br>value=%{y}<extra></extra>",
         "legendgroup": "2028-05-31 00:00:00",
         "line": {
          "color": "#1F77B4",
          "dash": "solid"
         },
         "marker": {
          "symbol": "circle"
         },
         "mode": "lines",
         "name": "2028-05-31 00:00:00",
         "showlegend": false,
         "type": "scattergl",
         "x": {
          "bdata": "AQIDBAUGBwgJCgsMDQ4PEBESExQVFhcY",
          "dtype": "i1"
         },
         "xaxis": "x3",
         "y": {
          "bdata": "gCV6/m8+UD/grhj+C05EP0A4t/2nXUg/kPPn/dlVVj+AJXr+bz5AP4Alev5vPkA/gCV6/m8+UD/grhj+C05EP4Alev5vPjA/QDi3/addOD+AJXr+bz4wP4Alev5vPiA/QDi3/addOD+AJXr+bz5APwAAAAAAAAAAAAAAAAAAAACAJXr+bz4gP0A4t/2nXTg/gCV6/m8+ID9AOLf9p104P4Alev5vPjA/gCV6/m8+MD+AJXr+bz4wP0A4t/2nXTg/",
          "dtype": "f8"
         },
         "yaxis": "y3"
        },
        {
         "hovertemplate": "date=2028-06-30 00:00:00<br>variable=id<br>default_month=%{x}<br>value=%{y}<extra></extra>",
         "legendgroup": "2028-06-30 00:00:00",
         "line": {
          "color": "#FF7F0E",
          "dash": "solid"
         },
         "marker": {
          "symbol": "circle"
         },
         "mode": "lines",
         "name": "2028-06-30 00:00:00",
         "showlegend": true,
         "type": "scattergl",
         "x": {
          "bdata": "AQIDBAUGBwgJCgsMDQ4PEBESExQVFhcY",
          "dtype": "i1"
         },
         "xaxis": "x",
         "y": {
          "bdata": "AAAAAAB9v0AAAAAAAH2/QAAAAAAAfb9AAAAAAAB9v0AAAAAAAH2/QAAAAAAAfb9AAAAAAAB9v0AAAAAAAH2/QAAAAAAAfb9AAAAAAAB9v0AAAAAAAH2/QAAAAAAAfb9AAAAAAAB9v0AAAAAAAH2/QAAAAAAAfb9AAAAAAAB9v0AAAAAAAH2/QAAAAAAAfb9AAAAAAAB9v0AAAAAAAH2/QAAAAAAAfb9AAAAAAAB9v0AAAAAAAH2/QAAAAAAAfb9A",
          "dtype": "f8"
         },
         "yaxis": "y"
        },
        {
         "hovertemplate": "date=2028-06-30 00:00:00<br>variable=cum_defaults<br>default_month=%{x}<br>value=%{y}<extra></extra>",
         "legendgroup": "2028-06-30 00:00:00",
         "line": {
          "color": "#FF7F0E",
          "dash": "solid"
         },
         "marker": {
          "symbol": "circle"
         },
         "mode": "lines",
         "name": "2028-06-30 00:00:00",
         "showlegend": false,
         "type": "scattergl",
         "x": {
          "bdata": "AQIDBAUGBwgJCgsMDQ4PEBESExQVFhcY",
          "dtype": "i1"
         },
         "xaxis": "x2",
         "y": {
          "bdata": "wqRsnzRTRD9w6F2vhltWP3DoXa+GW2Y/ym9Azypsaj8k9yLvznxuP+wCdJcLT3M/hJdhK3LZdT9bOVozm912Px0sT7/YY3g/881HxwFoeT/eHkRLFup5P6AROddTcHs/TVUq56V4fT9NVSrnpXh9P01VKueleH0/OKYma7r6fT/6mBv394B/P/P0iz2GAYA/VG6GA6XEgD8/v4KHuUaBPyoQfwvOyIE/FWF7j+JKgj922nVVAQ6DP2IrctkVkIM/",
          "dtype": "f8"
         },
         "yaxis": "y2"
        },
        {
         "hovertemplate": "date=2028-06-30 00:00:00<br>variable=default_flag<br>default_month=%{x}<br>value=%{y}<extra></extra>",
         "legendgroup": "2028-06-30 00:00:00",
         "line": {
          "color": "#FF7F0E",
          "dash": "solid"
         },
         "marker": {
          "symbol": "circle"
         },
         "mode": "lines",
         "name": "2028-06-30 00:00:00",
         "showlegend": false,
         "type": "scattergl",
         "x": {
          "bdata": "AQIDBAUGBwgJCgsMDQ4PEBESExQVFhcY",
          "dtype": "i1"
         },
         "xaxis": "x3",
         "y": {
          "bdata": "wqRsnzRTRD8dLE+/2GNIP3DoXa+GW1Y/aB2Kf5BCQD9oHYp/kEJAP2gdin+QQlA/wqRsnzRTRD9oHYp/kEIwPx0sT7/YYzg/aB2Kf5BCMD9oHYp/kEIgPx0sT7/YYzg/aB2Kf5BCQD8AAAAAAAAAAAAAAAAAAAAAaB2Kf5BCID8dLE+/2GM4P2gdin+QQiA/HSxPv9hjOD9oHYp/kEIwP2gdin+QQjA/aB2Kf5BCMD8dLE+/2GM4P2gdin+QQjA/",
          "dtype": "f8"
         },
         "yaxis": "y3"
        },
        {
         "hovertemplate": "date=2028-07-31 00:00:00<br>variable=id<br>default_month=%{x}<br>value=%{y}<extra></extra>",
         "legendgroup": "2028-07-31 00:00:00",
         "line": {
          "color": "#2CA02C",
          "dash": "solid"
         },
         "marker": {
          "symbol": "circle"
         },
         "mode": "lines",
         "name": "2028-07-31 00:00:00",
         "showlegend": true,
         "type": "scattergl",
         "x": {
          "bdata": "AQIDBAUGBwgJCgsMDQ4PEBESExQVFhcY",
          "dtype": "i1"
         },
         "xaxis": "x",
         "y": {
          "bdata": "AAAAAAB4v0AAAAAAAHi/QAAAAAAAeL9AAAAAAAB4v0AAAAAAAHi/QAAAAAAAeL9AAAAAAAB4v0AAAAAAAHi/QAAAAAAAeL9AAAAAAAB4v0AAAAAAAHi/QAAAAAAAeL9AAAAAAAB4v0AAAAAAAHi/QAAAAAAAeL9AAAAAAAB4v0AAAAAAAHi/QAAAAAAAeL9AAAAAAAB4v0AAAAAAAHi/QAAAAAAAeL9AAAAAAAB4v0AAAAAAAHi/QAAAAAAAeL9A",
          "dtype": "f8"
         },
         "yaxis": "y"
        },
        {
         "hovertemplate": "date=2028-07-31 00:00:00<br>variable=cum_defaults<br>default_month=%{x}<br>value=%{y}<extra></extra>",
         "legendgroup": "2028-07-31 00:00:00",
         "line": {
          "color": "#2CA02C",
          "dash": "solid"
         },
         "marker": {
          "symbol": "circle"
         },
         "mode": "lines",
         "name": "2028-07-31 00:00:00",
         "showlegend": false,
         "type": "scattergl",
         "x": {
          "bdata": "AQIDBAUGBwgJCgsMDQ4PEBESExQVFhcY",
          "dtype": "i1"
         },
         "xaxis": "x2",
         "y": {
          "bdata": "sUd60bhnSD/I8gs/eElhP7v+SrfBWmU/rQqKLwtsaT9JEQQQT8dwP8F4K/scUnM/vjs7WW9WdD854FLm6tx1PzajYkQ94XY/tIRqc2Zjdz8vKYIA4ul4PyivobyG8no/KK+hvIbyej8or6G8hvJ6P6eQqeuvdHs/IjXBeCv7fD+gFsmnVH19Pxu74DTQA38/DD94SREEgD+KIIB4OoaAPwkCiKdjCIE/RtQTbqHLgT/FtRudyk2CP0OXI8zzz4I/",
          "dtype": "f8"
         },
         "yaxis": "y2"
        },
        {
         "hovertemplate": "date=2028-07-31 00:00:00<br>variable=default_flag<br>default_month=%{x}<br>value=%{y}<extra></extra>",
         "legendgroup": "2028-07-31 00:00:00",
         "line": {
          "color": "#2CA02C",
          "dash": "solid"
         },
         "marker": {
          "symbol": "circle"
         },
         "mode": "lines",
         "name": "2028-07-31 00:00:00",
         "showlegend": false,
         "type": "scattergl",
         "x": {
          "bdata": "AQIDBAUGBwgJCgsMDQ4PEBESExQVFhcY",
          "dtype": "i1"
         },
         "xaxis": "x3",
         "y": {
          "bdata": "sUd60bhnSD+3wVoVFF9WP8sv/OAlRUA/yy/84CVFQD/LL/zgJUVQP747O1lvVkQ/yy/84CVFMD+xR3rRuGc4P8sv/OAlRTA/yy/84CVFID+xR3rRuGc4P8sv/OAlRUA/AAAAAAAAAAAAAAAAAAAAAMsv/OAlRSA/sUd60bhnOD/LL/zgJUUgP7FHetG4Zzg/yy/84CVFMD/LL/zgJUUwP8sv/OAlRTA/sUd60bhnOD/LL/zgJUUwP8sv/OAlRTA/",
          "dtype": "f8"
         },
         "yaxis": "y3"
        },
        {
         "hovertemplate": "date=2028-08-31 00:00:00<br>variable=id<br>default_month=%{x}<br>value=%{y}<extra></extra>",
         "legendgroup": "2028-08-31 00:00:00",
         "line": {
          "color": "#D62728",
          "dash": "solid"
         },
         "marker": {
          "symbol": "circle"
         },
         "mode": "lines",
         "name": "2028-08-31 00:00:00",
         "showlegend": true,
         "type": "scattergl",
         "x": {
          "bdata": "AQIDBAUGBwgJCgsMDQ4PEBESExQVFhcY",
          "dtype": "i1"
         },
         "xaxis": "x",
         "y": {
          "bdata": "AAAAAAByv0AAAAAAAHK/QAAAAAAAcr9AAAAAAAByv0AAAAAAAHK/QAAAAAAAcr9AAAAAAAByv0AAAAAAAHK/QAAAAAAAcr9AAAAAAAByv0AAAAAAAHK/QAAAAAAAcr9AAAAAAAByv0AAAAAAAHK/QAAAAAAAcr9AAAAAAAByv0AAAAAAAHK/QAAAAAAAcr9AAAAAAAByv0AAAAAAAHK/QAAAAAAAcr9AAAAAAAByv0AAAAAAAHK/QAAAAAAAcr9A",
          "dtype": "f8"
         },
         "yaxis": "y"
        },
        {
         "hovertemplate": "date=2028-08-31 00:00:00<br>variable=cum_defaults<br>default_month=%{x}<br>value=%{y}<extra></extra>",
         "legendgroup": "2028-08-31 00:00:00",
         "line": {
          "color": "#D62728",
          "dash": "solid"
         },
         "marker": {
          "symbol": "circle"
         },
         "mode": "lines",
         "name": "2028-08-31 00:00:00",
         "showlegend": false,
         "type": "scattergl",
         "x": {
          "bdata": "AQIDBAUGBwgJCgsMDQ4PEBESExQVFhcY",
          "dtype": "i1"
         },
         "xaxis": "x2",
         "y": {
          "bdata": "UKJI2lhjVj9W3agpeYdePy6MhLzMVWM/NMfkC+15az8MdsCeQEhwP219rKjETHE/foiOt4rTcj/ej3rBDthzP4+TcMZQWnQ/oJ5S1RbhdT9hrSrpHup3P2GtKuke6nc/Ya0q6R7qdz8SsSDuYGx4PyO8Av0m83k/07/4AWl1ej/kytoQL/x7P0XSxhqzAH0/ptmyJDcFfj8H4Z4uuwl/Pwx2wJ5ASIA/vHm2o4LKgD9tfayoxEyBP0V/J6vljYE/",
          "dtype": "f8"
         },
         "yaxis": "y2"
        },
        {
         "hovertemplate": "date=2028-08-31 00:00:00<br>variable=default_flag<br>default_month=%{x}<br>value=%{y}<extra></extra>",
         "legendgroup": "2028-08-31 00:00:00",
         "line": {
          "color": "#D62728",
          "dash": "solid"
         },
         "marker": {
          "symbol": "circle"
         },
         "mode": "lines",
         "name": "2028-08-31 00:00:00",
         "showlegend": false,
         "type": "scattergl",
         "x": {
          "bdata": "AQIDBAUGBwgJCgsMDQ4PEBESExQVFhcY",
          "dtype": "i1"
         },
         "xaxis": "x3",
         "y": {
          "bdata": "UKJI2lhjVj8MdsCeQEhAPwx2wJ5ASEA/DHbAnkBIUD+Pk3DGUFpEPwx2wJ5ASDA/ErEg7mBsOD8MdsCeQEgwPwx2wJ5ASCA/ErEg7mBsOD8MdsCeQEhAPwAAAAAAAAAAAAAAAAAAAAAMdsCeQEggPxKxIO5gbDg/DHbAnkBIID8SsSDuYGw4Pwx2wJ5ASDA/DHbAnkBIMD8MdsCeQEgwPxKxIO5gbDg/DHbAnkBIMD8MdsCeQEgwPwx2wJ5ASCA/",
          "dtype": "f8"
         },
         "yaxis": "y3"
        },
        {
         "hovertemplate": "date=2028-09-30 00:00:00<br>variable=id<br>default_month=%{x}<br>value=%{y}<extra></extra>",
         "legendgroup": "2028-09-30 00:00:00",
         "line": {
          "color": "#9467BD",
          "dash": "solid"
         },
         "marker": {
          "symbol": "circle"
         },
         "mode": "lines",
         "name": "2028-09-30 00:00:00",
         "showlegend": true,
         "type": "scattergl",
         "x": {
          "bdata": "AQIDBAUGBwgJCgsMDQ4PEBESExQVFhcY",
          "dtype": "i1"
         },
         "xaxis": "x",
         "y": {
          "bdata": "AAAAAABnv0AAAAAAAGe/QAAAAAAAZ79AAAAAAABnv0AAAAAAAGe/QAAAAAAAZ79AAAAAAABnv0AAAAAAAGe/QAAAAAAAZ79AAAAAAABnv0AAAAAAAGe/QAAAAAAAZ79AAAAAAABnv0AAAAAAAGe/QAAAAAAAZ79AAAAAAABnv0AAAAAAAGe/QAAAAAAAZ79AAAAAAABnv0AAAAAAAGe/QAAAAAAAZ79AAAAAAABnv0AAAAAAAGe/QAAAAAAAZ79A",
          "dtype": "f8"
         },
         "yaxis": "y"
        },
        {
         "hovertemplate": "date=2028-09-30 00:00:00<br>variable=cum_defaults<br>default_month=%{x}<br>value=%{y}<extra></extra>",
         "legendgroup": "2028-09-30 00:00:00",
         "line": {
          "color": "#9467BD",
          "dash": "solid"
         },
         "marker": {
          "symbol": "circle"
         },
         "mode": "lines",
         "name": "2028-09-30 00:00:00",
         "showlegend": false,
         "type": "scattergl",
         "x": {
          "bdata": "AQIDBAUGBwgJCgsMDQ4PEBESExQVFhcY",
          "dtype": "i1"
         },
         "xaxis": "x2",
         "y": {
          "bdata": "VMsZuvRNQD9Uyxm69E1QP1TLGbr0TWA/3tpBNFFmZT9JFIXLD3BnP2nqaa6tfmo/0yOtRWyIbD+JwE6RS41tP1TLGbr0TXA/vwRdUbNXcj+/BF1Rs1dyP78EXVGzV3I/GdMt9yLacj8pPqDocWF0P4QMcY7h43Q/lHfjfzBrdj9JFIXLD3B3P/6wJhfvdHg/tE3IYs55eT/DuDpUHQF7P3lV3J/8BXw/LvJ969sKfT+JwE6RS419P+OOHze7D34/",
          "dtype": "f8"
         },
         "yaxis": "y2"
        },
        {
         "hovertemplate": "date=2028-09-30 00:00:00<br>variable=default_flag<br>default_month=%{x}<br>value=%{y}<extra></extra>",
         "legendgroup": "2028-09-30 00:00:00",
         "line": {
          "color": "#9467BD",
          "dash": "solid"
         },
         "marker": {
          "symbol": "circle"
         },
         "mode": "lines",
         "name": "2028-09-30 00:00:00",
         "showlegend": false,
         "type": "scattergl",
         "x": {
          "bdata": "AQIDBAUGBwgJCgsMDQ4PEBESExQVFhcY",
          "dtype": "i1"
         },
         "xaxis": "x3",
         "y": {
          "bdata": "VMsZuvRNQD9Uyxm69E1AP1TLGbr0TVA/KT6g6HFhRD9Uyxm69E0wP/6wJhfvdDg/VMsZuvRNMD9Uyxm69E0gP/6wJhfvdDg/VMsZuvRNQD8AAAAAAAAAAAAAAAAAAAAAVMsZuvRNID/+sCYX73Q4P1TLGbr0TSA//rAmF+90OD9Uyxm69E0wP1TLGbr0TTA/VMsZuvRNMD/+sCYX73Q4P1TLGbr0TTA/VMsZuvRNMD9Uyxm69E0gP1TLGbr0TSA/",
          "dtype": "f8"
         },
         "yaxis": "y3"
        },
        {
         "hovertemplate": "date=2028-10-31 00:00:00<br>variable=id<br>default_month=%{x}<br>value=%{y}<extra></extra>",
         "legendgroup": "2028-10-31 00:00:00",
         "line": {
          "color": "#8C564B",
          "dash": "solid"
         },
         "marker": {
          "symbol": "circle"
         },
         "mode": "lines",
         "name": "2028-10-31 00:00:00",
         "showlegend": true,
         "type": "scattergl",
         "x": {
          "bdata": "AQIDBAUGBwgJCgsMDQ4PEBESExQVFhcY",
          "dtype": "i1"
         },
         "xaxis": "x",
         "y": {
          "bdata": "AAAAAABjv0AAAAAAAGO/QAAAAAAAY79AAAAAAABjv0AAAAAAAGO/QAAAAAAAY79AAAAAAABjv0AAAAAAAGO/QAAAAAAAY79AAAAAAABjv0AAAAAAAGO/QAAAAAAAY79AAAAAAABjv0AAAAAAAGO/QAAAAAAAY79AAAAAAABjv0AAAAAAAGO/QAAAAAAAY79AAAAAAABjv0AAAAAAAGO/QAAAAAAAY79AAAAAAABjv0AAAAAAAGO/QAAAAAAAY79A",
          "dtype": "f8"
         },
         "yaxis": "y"
        },
        {
         "hovertemplate": "date=2028-10-31 00:00:00<br>variable=cum_defaults<br>default_month=%{x}<br>value=%{y}<extra></extra>",
         "legendgroup": "2028-10-31 00:00:00",
         "line": {
          "color": "#8C564B",
          "dash": "solid"
         },
         "marker": {
          "symbol": "circle"
         },
         "mode": "lines",
         "name": "2028-10-31 00:00:00",
         "showlegend": false,
         "type": "scattergl",
         "x": {
          "bdata": "AQIDBAUGBwgJCgsMDQ4PEBESExQVFhcY",
          "dtype": "i1"
         },
         "xaxis": "x2",
         "y": {
          "bdata": "lpqEqghQQD/i58b/DHhYP0DkLDUJVWE/k3d9SgpfYz+PVHbqC25mP+Lnxv8MeGg/izFvig19aT+HDmgqD4xsP5aahKoIUHA/lpqEqghQcD+WmoSqCFBwP2u/2O+I0nA/6S3Vvwlacj++UikFitxyPzzBJdUKZHQ/5QrOXwtpdT+PVHbqC252PzieHnUMc3c/tgwbRY36eD9gVsPPjf95Pwmga1qOBHs/3sS/nw6Hez+z6RPljgl8P7PpE+WOCXw/",
          "dtype": "f8"
         },
         "yaxis": "y2"
        },
        {
         "hovertemplate": "date=2028-10-31 00:00:00<br>variable=default_flag<br>default_month=%{x}<br>value=%{y}<extra></extra>",
         "legendgroup": "2028-10-31 00:00:00",
         "line": {
          "color": "#8C564B",
          "dash": "solid"
         },
         "marker": {
          "symbol": "circle"
         },
         "mode": "lines",
         "name": "2028-10-31 00:00:00",
         "showlegend": false,
         "type": "scattergl",
         "x": {
          "bdata": "AQIDBAUGBwgJCgsMDQ4PEBESExQVFhcY",
          "dtype": "i1"
         },
         "xaxis": "x3",
         "y": {
          "bdata": "lpqEqghQQD+WmoSqCFBQPzzBJdUKZEQ/lpqEqghQMD/i58b/DHg4P5aahKoIUDA/lpqEqghQID/i58b/DHg4P5aahKoIUEA/AAAAAAAAAAAAAAAAAAAAAJaahKoIUCA/4ufG/wx4OD+WmoSqCFAgP+Lnxv8MeDg/lpqEqghQMD+WmoSqCFAwP5aahKoIUDA/4ufG/wx4OD+WmoSqCFAwP5aahKoIUDA/lpqEqghQID+WmoSqCFAgPwAAAAAAAAAA",
          "dtype": "f8"
         },
         "yaxis": "y3"
        },
        {
         "hovertemplate": "date=2028-11-30 00:00:00<br>variable=id<br>default_month=%{x}<br>value=%{y}<extra></extra>",
         "legendgroup": "2028-11-30 00:00:00",
         "line": {
          "color": "#E377C2",
          "dash": "solid"
         },
         "marker": {
          "symbol": "circle"
         },
         "mode": "lines",
         "name": "2028-11-30 00:00:00",
         "showlegend": true,
         "type": "scattergl",
         "x": {
          "bdata": "AQIDBAUGBwgJCgsMDQ4PEBESExQVFhcY",
          "dtype": "i1"
         },
         "xaxis": "x",
         "y": {
          "bdata": "AAAAAABfv0AAAAAAAF+/QAAAAAAAX79AAAAAAABfv0AAAAAAAF+/QAAAAAAAX79AAAAAAABfv0AAAAAAAF+/QAAAAAAAX79AAAAAAABfv0AAAAAAAF+/QAAAAAAAX79AAAAAAABfv0AAAAAAAF+/QAAAAAAAX79AAAAAAABfv0AAAAAAAF+/QAAAAAAAX79AAAAAAABfv0AAAAAAAF+/QAAAAAAAX79AAAAAAABfv0AAAAAAAF+/QAAAAAAAX79A",
          "dtype": "f8"
         },
         "yaxis": "y"
        },
        {
         "hovertemplate": "date=2028-11-30 00:00:00<br>variable=cum_defaults<br>default_month=%{x}<br>value=%{y}<extra></extra>",
         "legendgroup": "2028-11-30 00:00:00",
         "line": {
          "color": "#E377C2",
          "dash": "solid"
         },
         "marker": {
          "symbol": "circle"
         },
         "mode": "lines",
         "name": "2028-11-30 00:00:00",
         "showlegend": false,
         "type": "scattergl",
         "x": {
          "bdata": "AQIDBAUGBwgJCgsMDQ4PEBESExQVFhcY",
          "dtype": "i1"
         },
         "xaxis": "x2",
         "y": {
          "bdata": "vgKWIh1SUD90xDNYb4VaPyRF2aD2mV4/FsPoxmBcYj9tgztrpGZkP5njZD3Ga2U/HQThsyt7aD/MhIb8so9sP8yEhvyyj2w/zISG/LKPbD/45K/O1JRtP74CliIdUnA/1LKqC67UcD8Ww+jGYFxyP0EjEpmCYXM/bYM7a6RmdD+Z42Q9xmt1P9vzovh483Y/B1TMypr4dz8ztPWcvP14P0lkCoZNgHk/XhQfb94Cej9eFB9v3gJ6P6AkXSqRins/",
          "dtype": "f8"
         },
         "yaxis": "y2"
        },
        {
         "hovertemplate": "date=2028-11-30 00:00:00<br>variable=default_flag<br>default_month=%{x}<br>value=%{y}<extra></extra>",
         "legendgroup": "2028-11-30 00:00:00",
         "line": {
          "color": "#E377C2",
          "dash": "solid"
         },
         "marker": {
          "symbol": "circle"
         },
         "mode": "lines",
         "name": "2028-11-30 00:00:00",
         "showlegend": false,
         "type": "scattergl",
         "x": {
          "bdata": "AQIDBAUGBwgJCgsMDQ4PEBESExQVFhcY",
          "dtype": "i1"
         },
         "xaxis": "x3",
         "y": {
          "bdata": "vgKWIh1SUD9tgztrpGZEP74CliIdUjA/HQThsyt7OD++ApYiHVIwP74CliIdUiA/HQThsyt7OD++ApYiHVJAPwAAAAAAAAAAAAAAAAAAAAC+ApYiHVIgPx0E4bMrezg/vgKWIh1SID8dBOGzK3s4P74CliIdUjA/vgKWIh1SMD++ApYiHVIwPx0E4bMrezg/vgKWIh1SMD++ApYiHVIwP74CliIdUiA/vgKWIh1SID8AAAAAAAAAAB0E4bMrezg/",
          "dtype": "f8"
         },
         "yaxis": "y3"
        },
        {
         "hovertemplate": "date=2028-12-31 00:00:00<br>variable=id<br>default_month=%{x}<br>value=%{y}<extra></extra>",
         "legendgroup": "2028-12-31 00:00:00",
         "line": {
          "color": "#7F7F7F",
          "dash": "solid"
         },
         "marker": {
          "symbol": "circle"
         },
         "mode": "lines",
         "name": "2028-12-31 00:00:00",
         "showlegend": true,
         "type": "scattergl",
         "x": {
          "bdata": "AQIDBAUGBwgJCgsMDQ4PEBESExQVFhcY",
          "dtype": "i1"
         },
         "xaxis": "x",
         "y": {
          "bdata": "AAAAAABXv0AAAAAAAFe/QAAAAAAAV79AAAAAAABXv0AAAAAAAFe/QAAAAAAAV79AAAAAAABXv0AAAAAAAFe/QAAAAAAAV79AAAAAAABXv0AAAAAAAFe/QAAAAAAAV79AAAAAAABXv0AAAAAAAFe/QAAAAAAAV79AAAAAAABXv0AAAAAAAFe/QAAAAAAAV79AAAAAAABXv0AAAAAAAFe/QAAAAAAAV79AAAAAAABXv0AAAAAAAFe/QAAAAAAAV79A",
          "dtype": "f8"
         },
         "yaxis": "y"
        },
        {
         "hovertemplate": "date=2028-12-31 00:00:00<br>variable=cum_defaults<br>default_month=%{x}<br>value=%{y}<extra></extra>",
         "legendgroup": "2028-12-31 00:00:00",
         "line": {
          "color": "#7F7F7F",
          "dash": "solid"
         },
         "marker": {
          "symbol": "circle"
         },
         "mode": "lines",
         "name": "2028-12-31 00:00:00",
         "showlegend": false,
         "type": "scattergl",
         "x": {
          "bdata": "AQIDBAUGBwgJCgsMDQ4PEBESExQVFhcY",
          "dtype": "i1"
         },
         "xaxis": "x2",
         "y": {
          "bdata": "GHkbldlrRD+HqVlq/ZZMPxh5G5XZa1Q/T5G6f2uBWD9rHQp1NIxaP+BgfKpHVmA/GHkbldlrZD8YeRuV2WtkPxh5G5XZa2Q/JT/DDz5xZT9Pkbp/a4FoP11XYvrPhmk/h6lZav2WbD+jNalfxqFuP+BgfKpHVnA/7iYkJaxbcT8D0B/dwuNyPxGWx1cn6XM/H1xv0ovudD8lP8MPPnF1PywiF03w83U/LCIXTfDzdT9ByxIFB3x3P0iuZkK5/nc/",
          "dtype": "f8"
         },
         "yaxis": "y2"
        },
        {
         "hovertemplate": "date=2028-12-31 00:00:00<br>variable=default_flag<br>default_month=%{x}<br>value=%{y}<extra></extra>",
         "legendgroup": "2028-12-31 00:00:00",
         "line": {
          "color": "#7F7F7F",
          "dash": "solid"
         },
         "marker": {
          "symbol": "circle"
         },
         "mode": "lines",
         "name": "2028-12-31 00:00:00",
         "showlegend": false,
         "type": "scattergl",
         "x": {
          "bdata": "AQIDBAUGBwgJCgsMDQ4PEBESExQVFhcY",
          "dtype": "i1"
         },
         "xaxis": "x3",
         "y": {
          "bdata": "GHkbldlrRD/gYHyqR1YwP0+Run9rgTg/4GB8qkdWMD/gYHyqR1YgP0+Run9rgTg/4GB8qkdWQD8AAAAAAAAAAAAAAAAAAAAA4GB8qkdWID9Pkbp/a4E4P+BgfKpHViA/T5G6f2uBOD/gYHyqR1YwP+BgfKpHVjA/4GB8qkdWMD9Pkbp/a4E4P+BgfKpHVjA/4GB8qkdWMD/gYHyqR1YgP+BgfKpHViA/AAAAAAAAAABPkbp/a4E4P+BgfKpHViA/",
          "dtype": "f8"
         },
         "yaxis": "y3"
        },
        {
         "hovertemplate": "date=2029-01-31 00:00:00<br>variable=id<br>default_month=%{x}<br>value=%{y}<extra></extra>",
         "legendgroup": "2029-01-31 00:00:00",
         "line": {
          "color": "#BCBD22",
          "dash": "solid"
         },
         "marker": {
          "symbol": "circle"
         },
         "mode": "lines",
         "name": "2029-01-31 00:00:00",
         "showlegend": true,
         "type": "scattergl",
         "x": {
          "bdata": "AQIDBAUGBwgJCgsMDQ4PEBESExQVFhcY",
          "dtype": "i1"
         },
         "xaxis": "x",
         "y": {
          "bdata": "AAAAAABSv0AAAAAAAFK/QAAAAAAAUr9AAAAAAABSv0AAAAAAAFK/QAAAAAAAUr9AAAAAAABSv0AAAAAAAFK/QAAAAAAAUr9AAAAAAABSv0AAAAAAAFK/QAAAAAAAUr9AAAAAAABSv0AAAAAAAFK/QAAAAAAAUr9AAAAAAABSv0AAAAAAAFK/QAAAAAAAUr9AAAAAAABSv0AAAAAAAFK/QAAAAAAAUr9AAAAAAABSv0AAAAAAAFK/QAAAAAAAUr9A",
          "dtype": "f8"
         },
         "yaxis": "y"
        },
        {
         "hovertemplate": "date=2029-01-31 00:00:00<br>variable=cum_defaults<br>default_month=%{x}<br>value=%{y}<extra></extra>",
         "legendgroup": "2029-01-31 00:00:00",
         "line": {
          "color": "#BCBD22",
          "dash": "solid"
         },
         "marker": {
          "symbol": "circle"
         },
         "mode": "lines",
         "name": "2029-01-31 00:00:00",
         "showlegend": false,
         "type": "scattergl",
         "x": {
          "bdata": "AQIDBAUGBwgJCgsMDQ4PEBESExQVFhcY",
          "dtype": "i1"
         },
         "xaxis": "x2",
         "y": {
          "bdata": "gEkZVONYMD/gmx8pHG9EP59ALNONm0w/gEkZVONYUD8QxaKTOHpWP89prz2qpl4/z2mvPaqmXj/Paa89qqZeP4BJGVTjWGA/SAfe841pYz/gmx8pHG9kP6dZ5MjGf2c/14JnM+OKaT8HrOqd/5VrPzfVbQgcoW0/gEkZVONYcD8Y3lqJcV5xP7BynL7/Y3I//Dw92cbmcj9IB97zjWlzP0gH3vONaXM/LGbAQ+PxdD94MGFeqnR1P8T6AXlx93U/",
          "dtype": "f8"
         },
         "yaxis": "y2"
        },
        {
         "hovertemplate": "date=2029-01-31 00:00:00<br>variable=default_flag<br>default_month=%{x}<br>value=%{y}<extra></extra>",
         "legendgroup": "2029-01-31 00:00:00",
         "line": {
          "color": "#BCBD22",
          "dash": "solid"
         },
         "marker": {
          "symbol": "circle"
         },
         "mode": "lines",
         "name": "2029-01-31 00:00:00",
         "showlegend": false,
         "type": "scattergl",
         "x": {
          "bdata": "AQIDBAUGBwgJCgsMDQ4PEBESExQVFhcY",
          "dtype": "i1"
         },
         "xaxis": "x3",
         "y": {
          "bdata": "gEkZVONYMD8/7iX+VIU4P4BJGVTjWDA/gEkZVONYID8/7iX+VIU4P4BJGVTjWEA/AAAAAAAAAAAAAAAAAAAAAIBJGVTjWCA/P+4l/lSFOD+ASRlU41ggPz/uJf5UhTg/gEkZVONYMD+ASRlU41gwP4BJGVTjWDA/P+4l/lSFOD+ASRlU41gwP4BJGVTjWDA/gEkZVONYID+ASRlU41ggPwAAAAAAAAAAP+4l/lSFOD+ASRlU41ggP4BJGVTjWCA/",
          "dtype": "f8"
         },
         "yaxis": "y3"
        },
        {
         "hovertemplate": "date=2029-02-28 00:00:00<br>variable=id<br>default_month=%{x}<br>value=%{y}<extra></extra>",
         "legendgroup": "2029-02-28 00:00:00",
         "line": {
          "color": "#17BECF",
          "dash": "solid"
         },
         "marker": {
          "symbol": "circle"
         },
         "mode": "lines",
         "name": "2029-02-28 00:00:00",
         "showlegend": true,
         "type": "scattergl",
         "x": {
          "bdata": "AQIDBAUGBwgJCgsMDQ4PEBESExQVFhcY",
          "dtype": "i1"
         },
         "xaxis": "x",
         "y": {
          "bdata": "AAAAAABQv0AAAAAAAFC/QAAAAAAAUL9AAAAAAABQv0AAAAAAAFC/QAAAAAAAUL9AAAAAAABQv0AAAAAAAFC/QAAAAAAAUL9AAAAAAABQv0AAAAAAAFC/QAAAAAAAUL9AAAAAAABQv0AAAAAAAFC/QAAAAAAAUL9AAAAAAABQv0AAAAAAAFC/QAAAAAAAUL9AAAAAAABQv0AAAAAAAFC/QAAAAAAAUL9AAAAAAABQv0AAAAAAAFC/QAAAAAAAUL9A",
          "dtype": "f8"
         },
         "yaxis": "y"
        },
        {
         "hovertemplate": "date=2029-02-28 00:00:00<br>variable=cum_defaults<br>default_month=%{x}<br>value=%{y}<extra></extra>",
         "legendgroup": "2029-02-28 00:00:00",
         "line": {
          "color": "#17BECF",
          "dash": "solid"
         },
         "marker": {
          "symbol": "circle"
         },
         "mode": "lines",
         "name": "2029-02-28 00:00:00",
         "showlegend": false,
         "type": "scattergl",
         "x": {
          "bdata": "AQIDBAUGBwgJCgsMDQ4PEBESExQVFhcY",
          "dtype": "i1"
         },
         "xaxis": "x2",
         "y": {
          "bdata": "SrCr8OWGOD/oEo9IanBEP0qwq/Dlhkg/N8SAdCxlUj/6/rnEI5JaP/r+ucQjklo/+v65xCOSWj+rTciYYZ1cP9+ceYqNX2E/N8SAdCxlYj9AOpYyCXZlP/GIpAZHgWc/otey2oSMaT9TJsGuwpdrP1yc1myfqG4/hnVyoO5ZcD/fnHmKjV9xP4swff9c4nE/N8SAdCxlcj83xIB0LGVyPzx/i9Oa7XM/6BKPSGpwdD+UppK9OfN0P5Smkr0583Q/",
          "dtype": "f8"
         },
         "yaxis": "y2"
        },
        {
         "hovertemplate": "date=2029-02-28 00:00:00<br>variable=default_flag<br>default_month=%{x}<br>value=%{y}<extra></extra>",
         "legendgroup": "2029-02-28 00:00:00",
         "line": {
          "color": "#17BECF",
          "dash": "solid"
         },
         "marker": {
          "symbol": "circle"
         },
         "mode": "lines",
         "name": "2029-02-28 00:00:00",
         "showlegend": false,
         "type": "scattergl",
         "x": {
          "bdata": "AQIDBAUGBwgJCgsMDQ4PEBESExQVFhcY",
          "dtype": "i1"
         },
         "xaxis": "x3",
         "y": {
          "bdata": "SrCr8OWGOD+GdXKg7lkwP4Z1cqDuWSA/SrCr8OWGOD+GdXKg7llAPwAAAAAAAAAAAAAAAAAAAACGdXKg7lkgP0qwq/Dlhjg/hnVyoO5ZID9KsKvw5YY4P4Z1cqDuWTA/hnVyoO5ZMD+GdXKg7lkwP0qwq/Dlhjg/hnVyoO5ZMD+GdXKg7lkwP4Z1cqDuWSA/hnVyoO5ZID8AAAAAAAAAAEqwq/Dlhjg/hnVyoO5ZID+GdXKg7lkgPwAAAAAAAAAA",
          "dtype": "f8"
         },
         "yaxis": "y3"
        },
        {
         "hovertemplate": "date=2029-03-31 00:00:00<br>variable=id<br>default_month=%{x}<br>value=%{y}<extra></extra>",
         "legendgroup": "2029-03-31 00:00:00",
         "line": {
          "color": "#1F77B4",
          "dash": "solid"
         },
         "marker": {
          "symbol": "circle"
         },
         "mode": "lines",
         "name": "2029-03-31 00:00:00",
         "showlegend": true,
         "type": "scattergl",
         "x": {
          "bdata": "AQIDBAUGBwgJCgsMDQ4PEBESExQVFhcY",
          "dtype": "i1"
         },
         "xaxis": "x",
         "y": {
          "bdata": "AAAAAABNv0AAAAAAAE2/QAAAAAAATb9AAAAAAABNv0AAAAAAAE2/QAAAAAAATb9AAAAAAABNv0AAAAAAAE2/QAAAAAAATb9AAAAAAABNv0AAAAAAAE2/QAAAAAAATb9AAAAAAABNv0AAAAAAAE2/QAAAAAAATb9AAAAAAABNv0AAAAAAAE2/QAAAAAAATb9AAAAAAABNv0AAAAAAAE2/QAAAAAAATb9AAAAAAABNv0AAAAAAAE2/QAAAAAAATb9A",
          "dtype": "f8"
         },
         "yaxis": "y"
        },
        {
         "hovertemplate": "date=2029-03-31 00:00:00<br>variable=cum_defaults<br>default_month=%{x}<br>value=%{y}<extra></extra>",
         "legendgroup": "2029-03-31 00:00:00",
         "line": {
          "color": "#1F77B4",
          "dash": "solid"
         },
         "marker": {
          "symbol": "circle"
         },
         "mode": "lines",
         "name": "2029-03-31 00:00:00",
         "showlegend": false,
         "type": "scattergl",
         "x": {
          "bdata": "AQIDBAUGBwgJCgsMDQ4PEBESExQVFhcY",
          "dtype": "i1"
         },
         "xaxis": "x2",
         "y": {
          "bdata": "fGAE039bMD+6kIa8P4k4P7qQhrw/iUg/m3jFx19yVD+beMXHX3JUP5t4xcdfclQ/qgQmws99Vj/YqEexH6BcP+g0qKuPq14/i+xkze9mYj+beMXHX3JkP6oEJsLPfWY/upCGvD+JaD/RYhe0Z5prP+Dud67XpW0/8HrYqEexbz98YATTf1twP4CDnNFb3nA/gIOc0VvecD+L7GTN72ZyP48P/cvL6XI/kzKVyqdscz+TMpXKp2xzP5MylcqnbHM/",
          "dtype": "f8"
         },
         "yaxis": "y2"
        },
        {
         "hovertemplate": "date=2029-03-31 00:00:00<br>variable=default_flag<br>default_month=%{x}<br>value=%{y}<extra></extra>",
         "legendgroup": "2029-03-31 00:00:00",
         "line": {
          "color": "#1F77B4",
          "dash": "solid"
         },
         "marker": {
          "symbol": "circle"
         },
         "mode": "lines",
         "name": "2029-03-31 00:00:00",
         "showlegend": false,
         "type": "scattergl",
         "x": {
          "bdata": "AQIDBAUGBwgJCgsMDQ4PEBESExQVFhcY",
          "dtype": "i1"
         },
         "xaxis": "x3",
         "y": {
          "bdata": "fGAE039bMD98YATTf1sgP7qQhrw/iTg/fGAE039bQD8AAAAAAAAAAAAAAAAAAAAAfGAE039bID+6kIa8P4k4P3xgBNN/WyA/upCGvD+JOD98YATTf1swP3xgBNN/WzA/fGAE039bMD+6kIa8P4k4P3xgBNN/WzA/fGAE039bMD98YATTf1sgP3xgBNN/WyA/AAAAAAAAAAC6kIa8P4k4P3xgBNN/WyA/fGAE039bID8AAAAAAAAAAAAAAAAAAAAA",
          "dtype": "f8"
         },
         "yaxis": "y3"
        },
        {
         "hovertemplate": "date=2029-04-30 00:00:00<br>variable=id<br>default_month=%{x}<br>value=%{y}<extra></extra>",
         "legendgroup": "2029-04-30 00:00:00",
         "line": {
          "color": "#FF7F0E",
          "dash": "solid"
         },
         "marker": {
          "symbol": "circle"
         },
         "mode": "lines",
         "name": "2029-04-30 00:00:00",
         "showlegend": true,
         "type": "scattergl",
         "x": {
          "bdata": "AQIDBAUGBwgJCgsMDQ4PEBESExQVFhcY",
          "dtype": "i1"
         },
         "xaxis": "x",
         "y": {
          "bdata": "AAAAAABLv0AAAAAAAEu/QAAAAAAAS79AAAAAAABLv0AAAAAAAEu/QAAAAAAAS79AAAAAAABLv0AAAAAAAEu/QAAAAAAAS79AAAAAAABLv0AAAAAAAEu/QAAAAAAAS79AAAAAAABLv0AAAAAAAEu/QAAAAAAAS79AAAAAAABLv0AAAAAAAEu/QAAAAAAAS79AAAAAAABLv0AAAAAAAEu/QAAAAAAAS79AAAAAAABLv0AAAAAAAEu/QAAAAAAAS79A",
          "dtype": "f8"
         },
         "yaxis": "y"
        },
        {
         "hovertemplate": "date=2029-04-30 00:00:00<br>variable=cum_defaults<br>default_month=%{x}<br>value=%{y}<extra></extra>",
         "legendgroup": "2029-04-30 00:00:00",
         "line": {
          "color": "#FF7F0E",
          "dash": "solid"
         },
         "marker": {
          "symbol": "circle"
         },
         "mode": "lines",
         "name": "2029-04-30 00:00:00",
         "showlegend": false,
         "type": "scattergl",
         "x": {
          "bdata": "AQIDBAUGBwgJCgsMDQ4PEBESExQVFhcY",
          "dtype": "i1"
         },
         "xaxis": "x2",
         "y": {
          "bdata": "iKXMdItcID+Ipcx0i1xAP4ilzHSLXFA/iKXMdItcUD+Ipcx0i1xQPzk6ZuMcaFI/TPgyL9GKWD/9jMydYpZaP4ilzHSLXGA/OTpm4xxoYj/qzv9RrnNkP5tjmcA/f2Y/pcJ/5pmQaT9WVxlVK5xrPwfsssO8p20/YLb/eoWtbj+4gEwyTrNvP7iATDJOs28/4W8ZLFRicT8N1b+HOOVxPzk6ZuMcaHI/OTpm4xxocj85OmbjHGhyP2afDD8B63I/",
          "dtype": "f8"
         },
         "yaxis": "y2"
        },
        {
         "hovertemplate": "date=2029-04-30 00:00:00<br>variable=default_flag<br>default_month=%{x}<br>value=%{y}<extra></extra>",
         "legendgroup": "2029-04-30 00:00:00",
         "line": {
          "color": "#FF7F0E",
          "dash": "solid"
         },
         "marker": {
          "symbol": "circle"
         },
         "mode": "lines",
         "name": "2029-04-30 00:00:00",
         "showlegend": false,
         "type": "scattergl",
         "x": {
          "bdata": "AQIDBAUGBwgJCgsMDQ4PEBESExQVFhcY",
          "dtype": "i1"
         },
         "xaxis": "x3",
         "y": {
          "bdata": "iKXMdItcID9M+DIv0Yo4P4ilzHSLXEA/AAAAAAAAAAAAAAAAAAAAAIilzHSLXCA/TPgyL9GKOD+Ipcx0i1wgP0z4Mi/Rijg/iKXMdItcMD+Ipcx0i1wwP4ilzHSLXDA/TPgyL9GKOD+Ipcx0i1wwP4ilzHSLXDA/iKXMdItcID+Ipcx0i1wgPwAAAAAAAAAATPgyL9GKOD+Ipcx0i1wgP4ilzHSLXCA/AAAAAAAAAAAAAAAAAAAAAIilzHSLXCA/",
          "dtype": "f8"
         },
         "yaxis": "y3"
        },
        {
         "hovertemplate": "date=2029-05-31 00:00:00<br>variable=id<br>default_month=%{x}<br>value=%{y}<extra></extra>",
         "legendgroup": "2029-05-31 00:00:00",
         "line": {
          "color": "#2CA02C",
          "dash": "solid"
         },
         "marker": {
          "symbol": "circle"
         },
         "mode": "lines",
         "name": "2029-05-31 00:00:00",
         "showlegend": true,
         "type": "scattergl",
         "x": {
          "bdata": "AQIDBAUGBwgJCgsMDQ4PEBESExQVFhcY",
          "dtype": "i1"
         },
         "xaxis": "x",
         "y": {
          "bdata": "AAAAAABKv0AAAAAAAEq/QAAAAAAASr9AAAAAAABKv0AAAAAAAEq/QAAAAAAASr9AAAAAAABKv0AAAAAAAEq/QAAAAAAASr9AAAAAAABKv0AAAAAAAEq/QAAAAAAASr9AAAAAAABKv0AAAAAAAEq/QAAAAAAASr9AAAAAAABKv0AAAAAAAEq/QAAAAAAASr9AAAAAAABKv0AAAAAAAEq/QAAAAAAASr9AAAAAAABKv0AAAAAAAEq/QAAAAAAASr9A",
          "dtype": "f8"
         },
         "yaxis": "y"
        },
        {
         "hovertemplate": "date=2029-05-31 00:00:00<br>variable=cum_defaults<br>default_month=%{x}<br>value=%{y}<extra></extra>",
         "legendgroup": "2029-05-31 00:00:00",
         "line": {
          "color": "#2CA02C",
          "dash": "solid"
         },
         "marker": {
          "symbol": "circle"
         },
         "mode": "lines",
         "name": "2029-05-31 00:00:00",
         "showlegend": false,
         "type": "scattergl",
         "x": {
          "bdata": "AQIDBAUGBwgJCgsMDQ4PEBESExQVFhcY",
          "dtype": "i1"
         },
         "xaxis": "x2",
         "y": {
          "bdata": "iQHI+5mLOD8gV2lQ3qJMPyBXaVDeokw/IFdpUN6iTD9bVoVSEV1QP71Wd9H3f1Y/iQHI+5mLWD/rAbp6gK5eP8GrrWfiYmE/jFb+kYRuYz9YAU+8JnplP4kByPuZi2g/VKwYJjyXaj8gV2lQ3qJsP4WskWWvqG0/6wG6eoCubj/rAbp6gK5uPw6BGd3533A/wautZ+JicT901kHyyuVxP3TWQfLK5XE/dNZB8srlcT8nAdZ8s2hyPycB1nyzaHI/",
          "dtype": "f8"
         },
         "yaxis": "y2"
        },
        {
         "hovertemplate": "date=2029-05-31 00:00:00<br>variable=default_flag<br>default_month=%{x}<br>value=%{y}<extra></extra>",
         "legendgroup": "2029-05-31 00:00:00",
         "line": {
          "color": "#2CA02C",
          "dash": "solid"
         },
         "marker": {
          "symbol": "circle"
         },
         "mode": "lines",
         "name": "2029-05-31 00:00:00",
         "showlegend": false,
         "type": "scattergl",
         "x": {
          "bdata": "AQIDBAUGBwgJCgsMDQ4PEBESExQVFhcY",
          "dtype": "i1"
         },
         "xaxis": "x3",
         "y": {
          "bdata": "iQHI+5mLOD9bVoVSEV1APwAAAAAAAAAAAAAAAAAAAABbVoVSEV0gP4kByPuZizg/W1aFUhFdID+JAcj7mYs4P1tWhVIRXTA/W1aFUhFdMD9bVoVSEV0wP4kByPuZizg/W1aFUhFdMD9bVoVSEV0wP1tWhVIRXSA/W1aFUhFdID8AAAAAAAAAAIkByPuZizg/W1aFUhFdID9bVoVSEV0gPwAAAAAAAAAAAAAAAAAAAABbVoVSEV0gPwAAAAAAAAAA",
          "dtype": "f8"
         },
         "yaxis": "y3"
        },
        {
         "hovertemplate": "date=2029-06-30 00:00:00<br>variable=id<br>default_month=%{x}<br>value=%{y}<extra></extra>",
         "legendgroup": "2029-06-30 00:00:00",
         "line": {
          "color": "#D62728",
          "dash": "solid"
         },
         "marker": {
          "symbol": "circle"
         },
         "mode": "lines",
         "name": "2029-06-30 00:00:00",
         "showlegend": true,
         "type": "scattergl",
         "x": {
          "bdata": "AQIDBAUGBwgJCgsMDQ4PEBESExQVFhcY",
          "dtype": "i1"
         },
         "xaxis": "x",
         "y": {
          "bdata": "AAAAAABHv0AAAAAAAEe/QAAAAAAAR79AAAAAAABHv0AAAAAAAEe/QAAAAAAAR79AAAAAAABHv0AAAAAAAEe/QAAAAAAAR79AAAAAAABHv0AAAAAAAEe/QAAAAAAAR79AAAAAAABHv0AAAAAAAEe/QAAAAAAAR79AAAAAAABHv0AAAAAAAEe/QAAAAAAAR79AAAAAAABHv0AAAAAAAEe/QAAAAAAAR79AAAAAAABHv0AAAAAAAEe/QAAAAAAAR79A",
          "dtype": "f8"
         },
         "yaxis": "y"
        },
        {
         "hovertemplate": "date=2029-06-30 00:00:00<br>variable=cum_defaults<br>default_month=%{x}<br>value=%{y}<extra></extra>",
         "legendgroup": "2029-06-30 00:00:00",
         "line": {
          "color": "#D62728",
          "dash": "solid"
         },
         "marker": {
          "symbol": "circle"
         },
         "mode": "lines",
         "name": "2029-06-30 00:00:00",
         "showlegend": false,
         "type": "scattergl",
         "x": {
          "bdata": "AQIDBAUGBwgJCgsMDQ4PEBESExQVFhcY",
          "dtype": "i1"
         },
         "xaxis": "x2",
         "y": {
          "bdata": "W3oLH6NeQD9begsfo15AP1t6Cx+jXkA/8ljO5kt2RD9begsfo15QP6fp7IJ3alI/iTeRrvSNWD8gFlR2naVcP1t6Cx+jXmA/p+nsgndqYj+YEL8YNnxlP+N/oHwKiGc/L++B4N6TaT/UpnISyZlqP3peY0Szn2s/el5jRLOfaz9rhTXacbFuPxE9Jgxct28/W3oLH6NecD9begsfo15wP1t6Cx+jXnA/LtYDOJjhcD8u1gM4mOFwPwEy/FCNZHE/",
          "dtype": "f8"
         },
         "yaxis": "y2"
        },
        {
         "hovertemplate": "date=2029-06-30 00:00:00<br>variable=default_flag<br>default_month=%{x}<br>value=%{y}<extra></extra>",
         "legendgroup": "2029-06-30 00:00:00",
         "line": {
          "color": "#D62728",
          "dash": "solid"
         },
         "marker": {
          "symbol": "circle"
         },
         "mode": "lines",
         "name": "2029-06-30 00:00:00",
         "showlegend": false,
         "type": "scattergl",
         "x": {
          "bdata": "AQIDBAUGBwgJCgsMDQ4PEBESExQVFhcY",
          "dtype": "i1"
         },
         "xaxis": "x3",
         "y": {
          "bdata": "W3oLH6NeQD8AAAAAAAAAAAAAAAAAAAAAW3oLH6NeID+JN5Gu9I04P1t6Cx+jXiA/iTeRrvSNOD9begsfo14wP1t6Cx+jXjA/W3oLH6NeMD+JN5Gu9I04P1t6Cx+jXjA/W3oLH6NeMD9begsfo14gP1t6Cx+jXiA/AAAAAAAAAACJN5Gu9I04P1t6Cx+jXiA/W3oLH6NeID8AAAAAAAAAAAAAAAAAAAAAW3oLH6NeID8AAAAAAAAAAFt6Cx+jXiA/",
          "dtype": "f8"
         },
         "yaxis": "y3"
        },
        {
         "hovertemplate": "date=2029-07-31 00:00:00<br>variable=id<br>default_month=%{x}<br>value=%{y}<extra></extra>",
         "legendgroup": "2029-07-31 00:00:00",
         "line": {
          "color": "#9467BD",
          "dash": "solid"
         },
         "marker": {
          "symbol": "circle"
         },
         "mode": "lines",
         "name": "2029-07-31 00:00:00",
         "showlegend": true,
         "type": "scattergl",
         "x": {
          "bdata": "AQIDBAUGBwgJCgsMDQ4PEBESExQVFhcY",
          "dtype": "i1"
         },
         "xaxis": "x",
         "y": {
          "bdata": "AAAAAABDv0AAAAAAAEO/QAAAAAAAQ79AAAAAAABDv0AAAAAAAEO/QAAAAAAAQ79AAAAAAABDv0AAAAAAAEO/QAAAAAAAQ79AAAAAAABDv0AAAAAAAEO/QAAAAAAAQ79AAAAAAABDv0AAAAAAAEO/QAAAAAAAQ79AAAAAAABDv0AAAAAAAEO/QAAAAAAAQ79AAAAAAABDv0AAAAAAAEO/QAAAAAAAQ79AAAAAAABDv0AAAAAAAEO/QAAAAAAAQ79A",
          "dtype": "f8"
         },
         "yaxis": "y"
        },
        {
         "hovertemplate": "date=2029-07-31 00:00:00<br>variable=cum_defaults<br>default_month=%{x}<br>value=%{y}<extra></extra>",
         "legendgroup": "2029-07-31 00:00:00",
         "line": {
          "color": "#9467BD",
          "dash": "solid"
         },
         "marker": {
          "symbol": "circle"
         },
         "mode": "lines",
         "name": "2029-07-31 00:00:00",
         "showlegend": false,
         "type": "scattergl",
         "x": {
          "bdata": "AQIDBAUGBwgJCgsMDQ4PEBESExQVFhcY",
          "dtype": "i1"
         },
         "xaxis": "x2",
         "y": {
          "bdata": "AAAAAAAAAAAAAAAAAAAAABl+XlK7YCA/GX5eUrtgQD+fHfYm6nhEPxl+XlK7YFA/nx32Jup4VD8lvY37GJFYP6tcJdBHqVw/+mWEB8dmYT+9NdBx3nJjP4AFHNz1fmU/Yu1BkQGFZj9E1WdGDYtnP0TVZ0YNi2c/6IzZZTCdaj/KdP8aPKNrP6tcJdBHqWw/q1wl0EepbD+rXCXQR6lsP41ES4VTr20/jURLhVOvbT9uLHE6X7VuP24scTpftW4/",
          "dtype": "f8"
         },
         "yaxis": "y2"
        },
        {
         "hovertemplate": "date=2029-07-31 00:00:00<br>variable=default_flag<br>default_month=%{x}<br>value=%{y}<extra></extra>",
         "legendgroup": "2029-07-31 00:00:00",
         "line": {
          "color": "#9467BD",
          "dash": "solid"
         },
         "marker": {
          "symbol": "circle"
         },
         "mode": "lines",
         "name": "2029-07-31 00:00:00",
         "showlegend": false,
         "type": "scattergl",
         "x": {
          "bdata": "AQIDBAUGBwgJCgsMDQ4PEBESExQVFhcY",
          "dtype": "i1"
         },
         "xaxis": "x3",
         "y": {
          "bdata": "AAAAAAAAAAAAAAAAAAAAABl+XlK7YCA/Jb2N+xiROD8Zfl5Su2AgPyW9jfsYkTg/GX5eUrtgMD8Zfl5Su2AwPxl+XlK7YDA/Jb2N+xiROD8Zfl5Su2AwPxl+XlK7YDA/GX5eUrtgID8Zfl5Su2AgPwAAAAAAAAAAJb2N+xiROD8Zfl5Su2AgPxl+XlK7YCA/AAAAAAAAAAAAAAAAAAAAABl+XlK7YCA/AAAAAAAAAAAZfl5Su2AgPwAAAAAAAAAA",
          "dtype": "f8"
         },
         "yaxis": "y3"
        },
        {
         "hovertemplate": "date=2029-08-31 00:00:00<br>variable=id<br>default_month=%{x}<br>value=%{y}<extra></extra>",
         "legendgroup": "2029-08-31 00:00:00",
         "line": {
          "color": "#8C564B",
          "dash": "solid"
         },
         "marker": {
          "symbol": "circle"
         },
         "mode": "lines",
         "name": "2029-08-31 00:00:00",
         "showlegend": true,
         "type": "scattergl",
         "x": {
          "bdata": "AQIDBAUGBwgJCgsMDQ4PEBESExQVFhcY",
          "dtype": "i1"
         },
         "xaxis": "x",
         "y": {
          "bdata": "AAAAAABDv0AAAAAAAEO/QAAAAAAAQ79AAAAAAABDv0AAAAAAAEO/QAAAAAAAQ79AAAAAAABDv0AAAAAAAEO/QAAAAAAAQ79AAAAAAABDv0AAAAAAAEO/QAAAAAAAQ79AAAAAAABDv0AAAAAAAEO/QAAAAAAAQ79AAAAAAABDv0AAAAAAAEO/QAAAAAAAQ79AAAAAAABDv0AAAAAAAEO/QAAAAAAAQ79AAAAAAABDv0AAAAAAAEO/QAAAAAAAQ79A",
          "dtype": "f8"
         },
         "yaxis": "y"
        },
        {
         "hovertemplate": "date=2029-08-31 00:00:00<br>variable=cum_defaults<br>default_month=%{x}<br>value=%{y}<extra></extra>",
         "legendgroup": "2029-08-31 00:00:00",
         "line": {
          "color": "#8C564B",
          "dash": "solid"
         },
         "marker": {
          "symbol": "circle"
         },
         "mode": "lines",
         "name": "2029-08-31 00:00:00",
         "showlegend": false,
         "type": "scattergl",
         "x": {
          "bdata": "AQIDBAUGBwgJCgsMDQ4PEBESExQVFhcY",
          "dtype": "i1"
         },
         "xaxis": "x2",
         "y": {
          "bdata": "AAAAAAAAAAAZfl5Su2AgPxl+XlK7YEA/nx32Jup4RD8Zfl5Su2BQP58d9ibqeFQ/Jb2N+xiRWD+rXCXQR6lcP/plhAfHZmE/vTXQcd5yYz+ABRzc9X5lP2LtQZEBhWY/RNVnRg2LZz9E1WdGDYtnP+iM2WUwnWo/ynT/Gjyjaz+rXCXQR6lsP6tcJdBHqWw/q1wl0EepbD+NREuFU69tP41ES4VTr20/bixxOl+1bj9uLHE6X7VuP24scTpftW4/",
          "dtype": "f8"
         },
         "yaxis": "y2"
        },
        {
         "hovertemplate": "date=2029-08-31 00:00:00<br>variable=default_flag<br>default_month=%{x}<br>value=%{y}<extra></extra>",
         "legendgroup": "2029-08-31 00:00:00",
         "line": {
          "color": "#8C564B",
          "dash": "solid"
         },
         "marker": {
          "symbol": "circle"
         },
         "mode": "lines",
         "name": "2029-08-31 00:00:00",
         "showlegend": false,
         "type": "scattergl",
         "x": {
          "bdata": "AQIDBAUGBwgJCgsMDQ4PEBESExQVFhcY",
          "dtype": "i1"
         },
         "xaxis": "x3",
         "y": {
          "bdata": "AAAAAAAAAAAZfl5Su2AgPyW9jfsYkTg/GX5eUrtgID8lvY37GJE4Pxl+XlK7YDA/GX5eUrtgMD8Zfl5Su2AwPyW9jfsYkTg/GX5eUrtgMD8Zfl5Su2AwPxl+XlK7YCA/GX5eUrtgID8AAAAAAAAAACW9jfsYkTg/GX5eUrtgID8Zfl5Su2AgPwAAAAAAAAAAAAAAAAAAAAAZfl5Su2AgPwAAAAAAAAAAGX5eUrtgID8AAAAAAAAAAAAAAAAAAAAA",
          "dtype": "f8"
         },
         "yaxis": "y3"
        },
        {
         "hovertemplate": "date=2029-09-30 00:00:00<br>variable=id<br>default_month=%{x}<br>value=%{y}<extra></extra>",
         "legendgroup": "2029-09-30 00:00:00",
         "line": {
          "color": "#E377C2",
          "dash": "solid"
         },
         "marker": {
          "symbol": "circle"
         },
         "mode": "lines",
         "name": "2029-09-30 00:00:00",
         "showlegend": true,
         "type": "scattergl",
         "x": {
          "bdata": "AQIDBAUGBwgJCgsMDQ4PEBESExQVFhcY",
          "dtype": "i1"
         },
         "xaxis": "x",
         "y": {
          "bdata": "AAAAAABDv0AAAAAAAEO/QAAAAAAAQ79AAAAAAABDv0AAAAAAAEO/QAAAAAAAQ79AAAAAAABDv0AAAAAAAEO/QAAAAAAAQ79AAAAAAABDv0AAAAAAAEO/QAAAAAAAQ79AAAAAAABDv0AAAAAAAEO/QAAAAAAAQ79AAAAAAABDv0AAAAAAAEO/QAAAAAAAQ79AAAAAAABDv0AAAAAAAEO/QAAAAAAAQ79AAAAAAABDv0AAAAAAAEO/QAAAAAAAQ79A",
          "dtype": "f8"
         },
         "yaxis": "y"
        },
        {
         "hovertemplate": "date=2029-09-30 00:00:00<br>variable=cum_defaults<br>default_month=%{x}<br>value=%{y}<extra></extra>",
         "legendgroup": "2029-09-30 00:00:00",
         "line": {
          "color": "#E377C2",
          "dash": "solid"
         },
         "marker": {
          "symbol": "circle"
         },
         "mode": "lines",
         "name": "2029-09-30 00:00:00",
         "showlegend": false,
         "type": "scattergl",
         "x": {
          "bdata": "AQIDBAUGBwgJCgsMDQ4PEBESExQVFhcY",
          "dtype": "i1"
         },
         "xaxis": "x2",
         "y": {
          "bdata": "GX5eUrtgID8Zfl5Su2BAP58d9ibqeEQ/GX5eUrtgUD+fHfYm6nhUPyW9jfsYkVg/q1wl0EepXD/6ZYQHx2ZhP7010HHecmM/gAUc3PV+ZT9i7UGRAYVmP0TVZ0YNi2c/RNVnRg2LZz/ojNllMJ1qP8p0/xo8o2s/q1wl0EepbD+rXCXQR6lsP6tcJdBHqWw/jURLhVOvbT+NREuFU69tP24scTpftW4/bixxOl+1bj9uLHE6X7VuP1AUl+9qu28/",
          "dtype": "f8"
         },
         "yaxis": "y2"
        },
        {
         "hovertemplate": "date=2029-09-30 00:00:00<br>variable=default_flag<br>default_month=%{x}<br>value=%{y}<extra></extra>",
         "legendgroup": "2029-09-30 00:00:00",
         "line": {
          "color": "#E377C2",
          "dash": "solid"
         },
         "marker": {
          "symbol": "circle"
         },
         "mode": "lines",
         "name": "2029-09-30 00:00:00",
         "showlegend": false,
         "type": "scattergl",
         "x": {
          "bdata": "AQIDBAUGBwgJCgsMDQ4PEBESExQVFhcY",
          "dtype": "i1"
         },
         "xaxis": "x3",
         "y": {
          "bdata": "GX5eUrtgID8lvY37GJE4Pxl+XlK7YCA/Jb2N+xiROD8Zfl5Su2AwPxl+XlK7YDA/GX5eUrtgMD8lvY37GJE4Pxl+XlK7YDA/GX5eUrtgMD8Zfl5Su2AgPxl+XlK7YCA/AAAAAAAAAAAlvY37GJE4Pxl+XlK7YCA/GX5eUrtgID8AAAAAAAAAAAAAAAAAAAAAGX5eUrtgID8AAAAAAAAAABl+XlK7YCA/AAAAAAAAAAAAAAAAAAAAABl+XlK7YCA/",
          "dtype": "f8"
         },
         "yaxis": "y3"
        },
        {
         "hovertemplate": "date=2029-10-31 00:00:00<br>variable=id<br>default_month=%{x}<br>value=%{y}<extra></extra>",
         "legendgroup": "2029-10-31 00:00:00",
         "line": {
          "color": "#7F7F7F",
          "dash": "solid"
         },
         "marker": {
          "symbol": "circle"
         },
         "mode": "lines",
         "name": "2029-10-31 00:00:00",
         "showlegend": true,
         "type": "scattergl",
         "x": {
          "bdata": "AQIDBAUGBwgJCgsMDQ4PEBESExQVFhcY",
          "dtype": "i1"
         },
         "xaxis": "x",
         "y": {
          "bdata": "AAAAAABCv0AAAAAAAEK/QAAAAAAAQr9AAAAAAABCv0AAAAAAAEK/QAAAAAAAQr9AAAAAAABCv0AAAAAAAEK/QAAAAAAAQr9AAAAAAABCv0AAAAAAAEK/QAAAAAAAQr9AAAAAAABCv0AAAAAAAEK/QAAAAAAAQr9AAAAAAABCv0AAAAAAAEK/QAAAAAAAQr9AAAAAAABCv0AAAAAAAEK/QAAAAAAAQr9AAAAAAABCv0AAAAAAAEK/QAAAAAAAQr9A",
          "dtype": "f8"
         },
         "yaxis": "y"
        },
        {
         "hovertemplate": "date=2029-10-31 00:00:00<br>variable=cum_defaults<br>default_month=%{x}<br>value=%{y}<extra></extra>",
         "legendgroup": "2029-10-31 00:00:00",
         "line": {
          "color": "#7F7F7F",
          "dash": "solid"
         },
         "marker": {
          "symbol": "circle"
         },
         "mode": "lines",
         "name": "2029-10-31 00:00:00",
         "showlegend": false,
         "type": "scattergl",
         "x": {
          "bdata": "AQIDBAUGBwgJCgsMDQ4PEBESExQVFhcY",
          "dtype": "i1"
         },
         "xaxis": "x2",
         "y": {
          "bdata": "rNn2LuKROD8ekaR0QWFAP/T9H4wyqkw/QSM5o2ltUj+JR2IAuoVWP9Bri10Knlo/HpGkdEFhYD9BIzmjaW1iP2W1zdGReWQ/d/4X6aV/ZT+JR2IAuoVmP4lHYgC6hWY/viJBRvaXaT/Qa4tdCp5qP+K01XQepGs/4rTVdB6kaz/itNV0HqRrP/T9H4wyqmw/9P0fjDKqbD8GR2qjRrBtPwZHaqNGsG0/Bkdqo0awbT8YkLS6WrZuPynZ/tFuvG8/",
          "dtype": "f8"
         },
         "yaxis": "y2"
        },
        {
         "hovertemplate": "date=2029-10-31 00:00:00<br>variable=default_flag<br>default_month=%{x}<br>value=%{y}<extra></extra>",
         "legendgroup": "2029-10-31 00:00:00",
         "line": {
          "color": "#7F7F7F",
          "dash": "solid"
         },
         "marker": {
          "symbol": "circle"
         },
         "mode": "lines",
         "name": "2029-10-31 00:00:00",
         "showlegend": false,
         "type": "scattergl",
         "x": {
          "bdata": "AQIDBAUGBwgJCgsMDQ4PEBESExQVFhcY",
          "dtype": "i1"
         },
         "xaxis": "x3",
         "y": {
          "bdata": "rNn2LuKROD8ekaR0QWEgP6zZ9i7ikTg/HpGkdEFhMD8ekaR0QWEwPx6RpHRBYTA/rNn2LuKROD8ekaR0QWEwPx6RpHRBYTA/HpGkdEFhID8ekaR0QWEgPwAAAAAAAAAArNn2LuKROD8ekaR0QWEgPx6RpHRBYSA/AAAAAAAAAAAAAAAAAAAAAB6RpHRBYSA/AAAAAAAAAAAekaR0QWEgPwAAAAAAAAAAAAAAAAAAAAAekaR0QWEgPx6RpHRBYSA/",
          "dtype": "f8"
         },
         "yaxis": "y3"
        },
        {
         "hovertemplate": "date=2029-11-30 00:00:00<br>variable=id<br>default_month=%{x}<br>value=%{y}<extra></extra>",
         "legendgroup": "2029-11-30 00:00:00",
         "line": {
          "color": "#BCBD22",
          "dash": "solid"
         },
         "marker": {
          "symbol": "circle"
         },
         "mode": "lines",
         "name": "2029-11-30 00:00:00",
         "showlegend": true,
         "type": "scattergl",
         "x": {
          "bdata": "AQIDBAUGBwgJCgsMDQ4PEBESExQVFhcY",
          "dtype": "i1"
         },
         "xaxis": "x",
         "y": {
          "bdata": "AAAAAAA/v0AAAAAAAD+/QAAAAAAAP79AAAAAAAA/v0AAAAAAAD+/QAAAAAAAP79AAAAAAAA/v0AAAAAAAD+/QAAAAAAAP79AAAAAAAA/v0AAAAAAAD+/QAAAAAAAP79AAAAAAAA/v0AAAAAAAD+/QAAAAAAAP79AAAAAAAA/v0AAAAAAAD+/QAAAAAAAP79AAAAAAAA/v0AAAAAAAD+/QAAAAAAAP79AAAAAAAA/v0AAAAAAAD+/QAAAAAAAP79A",
          "dtype": "f8"
         },
         "yaxis": "y"
        },
        {
         "hovertemplate": "date=2029-11-30 00:00:00<br>variable=cum_defaults<br>default_month=%{x}<br>value=%{y}<extra></extra>",
         "legendgroup": "2029-11-30 00:00:00",
         "line": {
          "color": "#BCBD22",
          "dash": "solid"
         },
         "marker": {
          "symbol": "circle"
         },
         "mode": "lines",
         "name": "2029-11-30 00:00:00",
         "showlegend": false,
         "type": "scattergl",
         "x": {
          "bdata": "AQIDBAUGBwgJCgsMDQ4PEBESExQVFhcY",
          "dtype": "i1"
         },
         "xaxis": "x2",
         "y": {
          "bdata": "1lX6DtRiID/WVfoO1GJAP8GAdxY+lEg/1lX6DtRiUD9L67gSiXtUP3vLVpiYoFo/8WAVnE25Xj8z++lPAWlhP5Cg2ZAub2I/7kXJ0Vt1Yz/uRcnRW3VjPwY2mJTjh2Y/Y9uH1RCOZz/BgHcWPpRoP8GAdxY+lGg/wYB3Fj6UaD8eJmdXa5ppPx4mZ1drmmk/e8tWmJigaj97y1aYmKBqP3vLVpiYoGo/2XBG2cWmaz82FjYa86xsP5O7JVsgs20/",
          "dtype": "f8"
         },
         "yaxis": "y2"
        },
        {
         "hovertemplate": "date=2029-11-30 00:00:00<br>variable=default_flag<br>default_month=%{x}<br>value=%{y}<extra></extra>",
         "legendgroup": "2029-11-30 00:00:00",
         "line": {
          "color": "#BCBD22",
          "dash": "solid"
         },
         "marker": {
          "symbol": "circle"
         },
         "mode": "lines",
         "name": "2029-11-30 00:00:00",
         "showlegend": false,
         "type": "scattergl",
         "x": {
          "bdata": "AQIDBAUGBwgJCgsMDQ4PEBESExQVFhcY",
          "dtype": "i1"
         },
         "xaxis": "x3",
         "y": {
          "bdata": "1lX6DtRiID/BgHcWPpQ4P9ZV+g7UYjA/1lX6DtRiMD/WVfoO1GIwP8GAdxY+lDg/1lX6DtRiMD/WVfoO1GIwP9ZV+g7UYiA/1lX6DtRiID8AAAAAAAAAAMGAdxY+lDg/1lX6DtRiID/WVfoO1GIgPwAAAAAAAAAAAAAAAAAAAADWVfoO1GIgPwAAAAAAAAAA1lX6DtRiID8AAAAAAAAAAAAAAAAAAAAA1lX6DtRiID/WVfoO1GIgP9ZV+g7UYiA/",
          "dtype": "f8"
         },
         "yaxis": "y3"
        },
        {
         "hovertemplate": "date=2029-12-31 00:00:00<br>variable=id<br>default_month=%{x}<br>value=%{y}<extra></extra>",
         "legendgroup": "2029-12-31 00:00:00",
         "line": {
          "color": "#17BECF",
          "dash": "solid"
         },
         "marker": {
          "symbol": "circle"
         },
         "mode": "lines",
         "name": "2029-12-31 00:00:00",
         "showlegend": true,
         "type": "scattergl",
         "x": {
          "bdata": "AQIDBAUGBwgJCgsMDQ4PEBESExQVFhcY",
          "dtype": "i1"
         },
         "xaxis": "x",
         "y": {
          "bdata": "AAAAAAA+v0AAAAAAAD6/QAAAAAAAPr9AAAAAAAA+v0AAAAAAAD6/QAAAAAAAPr9AAAAAAAA+v0AAAAAAAD6/QAAAAAAAPr9AAAAAAAA+v0AAAAAAAD6/QAAAAAAAPr9AAAAAAAA+v0AAAAAAAD6/QAAAAAAAPr9AAAAAAAA+v0AAAAAAAD6/QAAAAAAAPr9AAAAAAAA+v0AAAAAAAD6/QAAAAAAAPr9AAAAAAAA+v0AAAAAAAD6/QAAAAAAAPr9A",
          "dtype": "f8"
         },
         "yaxis": "y"
        },
        {
         "hovertemplate": "date=2029-12-31 00:00:00<br>variable=cum_defaults<br>default_month=%{x}<br>value=%{y}<extra></extra>",
         "legendgroup": "2029-12-31 00:00:00",
         "line": {
          "color": "#17BECF",
          "dash": "solid"
         },
         "marker": {
          "symbol": "circle"
         },
         "mode": "lines",
         "name": "2029-12-31 00:00:00",
         "showlegend": false,
         "type": "scattergl",
         "x": {
          "bdata": "AQIDBAUGBwgJCgsMDQ4PEBESExQVFhcY",
          "dtype": "i1"
         },
         "xaxis": "x2",
         "y": {
          "bdata": "NkhofQeVOD+CkYHoMHxEP+n+ThLerUw/KDYOnsVvUj82SGh9B5VYP+n+ThLerVw/z9qaU1pjYD97iNT4j2lhPyg2Dp7Fb2I/KDYOnsVvYj8vP7uNZoJlP9zs9DKciGY/iZou2NGOZz+Jmi7Y0Y5nP4maLtjRjmc/NkhofQeVaD82SGh9B5VoP+P1oSI9m2k/4/WhIj2baT/j9aEiPZtpP5Cj28dyoWo/PFEVbainaz/p/k4S3q1sP+n+ThLerWw/",
          "dtype": "f8"
         },
         "yaxis": "y2"
        },
        {
         "hovertemplate": "date=2029-12-31 00:00:00<br>variable=default_flag<br>default_month=%{x}<br>value=%{y}<extra></extra>",
         "legendgroup": "2029-12-31 00:00:00",
         "line": {
          "color": "#17BECF",
          "dash": "solid"
         },
         "marker": {
          "symbol": "circle"
         },
         "mode": "lines",
         "name": "2029-12-31 00:00:00",
         "showlegend": false,
         "type": "scattergl",
         "x": {
          "bdata": "AQIDBAUGBwgJCgsMDQ4PEBESExQVFhcY",
          "dtype": "i1"
         },
         "xaxis": "x3",
         "y": {
          "bdata": "NkhofQeVOD/P2ppTWmMwP8/amlNaYzA/z9qaU1pjMD82SGh9B5U4P8/amlNaYzA/z9qaU1pjMD/P2ppTWmMgP8/amlNaYyA/AAAAAAAAAAA2SGh9B5U4P8/amlNaYyA/z9qaU1pjID8AAAAAAAAAAAAAAAAAAAAAz9qaU1pjID8AAAAAAAAAAM/amlNaYyA/AAAAAAAAAAAAAAAAAAAAAM/amlNaYyA/z9qaU1pjID/P2ppTWmMgPwAAAAAAAAAA",
          "dtype": "f8"
         },
         "yaxis": "y3"
        },
        {
         "hovertemplate": "date=2030-01-31 00:00:00<br>variable=id<br>default_month=%{x}<br>value=%{y}<extra></extra>",
         "legendgroup": "2030-01-31 00:00:00",
         "line": {
          "color": "#1F77B4",
          "dash": "solid"
         },
         "marker": {
          "symbol": "circle"
         },
         "mode": "lines",
         "name": "2030-01-31 00:00:00",
         "showlegend": true,
         "type": "scattergl",
         "x": {
          "bdata": "AQIDBAUGBwgJCgsMDQ4PEBESExQVFhcY",
          "dtype": "i1"
         },
         "xaxis": "x",
         "y": {
          "bdata": "AAAAAAA7v0AAAAAAADu/QAAAAAAAO79AAAAAAAA7v0AAAAAAADu/QAAAAAAAO79AAAAAAAA7v0AAAAAAADu/QAAAAAAAO79AAAAAAAA7v0AAAAAAADu/QAAAAAAAO79AAAAAAAA7v0AAAAAAADu/QAAAAAAAO79AAAAAAAA7v0AAAAAAADu/QAAAAAAAO79AAAAAAAA7v0AAAAAAADu/QAAAAAAAO79AAAAAAAA7v0AAAAAAADu/QAAAAAAAO79A",
          "dtype": "f8"
         },
         "yaxis": "y"
        },
        {
         "hovertemplate": "date=2030-01-31 00:00:00<br>variable=cum_defaults<br>default_month=%{x}<br>value=%{y}<extra></extra>",
         "legendgroup": "2030-01-31 00:00:00",
         "line": {
          "color": "#1F77B4",
          "dash": "solid"
         },
         "marker": {
          "symbol": "circle"
         },
         "mode": "lines",
         "name": "2030-01-31 00:00:00",
         "showlegend": false,
         "type": "scattergl",
         "x": {
          "bdata": "AQIDBAUGBwgJCgsMDQ4PEBESExQVFhcY",
          "dtype": "i1"
         },
         "xaxis": "x2",
         "y": {
          "bdata": "oMETVe1kMD+gwRNV7WRAP3Cinf9jl0g/1Dm2/4pxUj88KvtUxopWP6QaQKoBpFo/2JLiVJ+wXD8MC4X/PL1ePwwLhf88vV4/1Dm2/4pxYj/udQfV2XdjPwiyWKoofmQ/CLJYqih+ZD8IsliqKH5kPyLuqX93hGU/Iu6pf3eEZT88KvtUxopmPzwq+1TGimY/PCr7VMaKZj9WZkwqFZFnP3Cinf9jl2g/it7u1LKdaT+K3u7Usp1pP75WkX9Qqms/",
          "dtype": "f8"
         },
         "yaxis": "y2"
        },
        {
         "hovertemplate": "date=2030-01-31 00:00:00<br>variable=default_flag<br>default_month=%{x}<br>value=%{y}<extra></extra>",
         "legendgroup": "2030-01-31 00:00:00",
         "line": {
          "color": "#1F77B4",
          "dash": "solid"
         },
         "marker": {
          "symbol": "circle"
         },
         "mode": "lines",
         "name": "2030-01-31 00:00:00",
         "showlegend": false,
         "type": "scattergl",
         "x": {
          "bdata": "AQIDBAUGBwgJCgsMDQ4PEBESExQVFhcY",
          "dtype": "i1"
         },
         "xaxis": "x3",
         "y": {
          "bdata": "oMETVe1kMD+gwRNV7WQwP6DBE1XtZDA/cKKd/2OXOD+gwRNV7WQwP6DBE1XtZDA/oMETVe1kID+gwRNV7WQgPwAAAAAAAAAAcKKd/2OXOD+gwRNV7WQgP6DBE1XtZCA/AAAAAAAAAAAAAAAAAAAAAKDBE1XtZCA/AAAAAAAAAACgwRNV7WQgPwAAAAAAAAAAAAAAAAAAAACgwRNV7WQgP6DBE1XtZCA/oMETVe1kID8AAAAAAAAAAKDBE1XtZDA/",
          "dtype": "f8"
         },
         "yaxis": "y3"
        },
        {
         "hovertemplate": "date=2030-02-28 00:00:00<br>variable=id<br>default_month=%{x}<br>value=%{y}<extra></extra>",
         "legendgroup": "2030-02-28 00:00:00",
         "line": {
          "color": "#FF7F0E",
          "dash": "solid"
         },
         "marker": {
          "symbol": "circle"
         },
         "mode": "lines",
         "name": "2030-02-28 00:00:00",
         "showlegend": true,
         "type": "scattergl",
         "x": {
          "bdata": "AQIDBAUGBwgJCgsMDQ4PEBESExQVFhcY",
          "dtype": "i1"
         },
         "xaxis": "x",
         "y": {
          "bdata": "AAAAAAA5v0AAAAAAADm/QAAAAAAAOb9AAAAAAAA5v0AAAAAAADm/QAAAAAAAOb9AAAAAAAA5v0AAAAAAADm/QAAAAAAAOb9AAAAAAAA5v0AAAAAAADm/QAAAAAAAOb9AAAAAAAA5v0AAAAAAADm/QAAAAAAAOb9AAAAAAAA5v0AAAAAAADm/QAAAAAAAOb9AAAAAAAA5v0AAAAAAADm/QAAAAAAAOb9AAAAAAAA5v0AAAAAAADm/QAAAAAAAOb9A",
          "dtype": "f8"
         },
         "yaxis": "y"
        },
        {
         "hovertemplate": "date=2030-02-28 00:00:00<br>variable=cum_defaults<br>default_month=%{x}<br>value=%{y}<extra></extra>",
         "legendgroup": "2030-02-28 00:00:00",
         "line": {
          "color": "#FF7F0E",
          "dash": "solid"
         },
         "marker": {
          "symbol": "circle"
         },
         "mode": "lines",
         "name": "2030-02-28 00:00:00",
         "showlegend": false,
         "type": "scattergl",
         "x": {
          "bdata": "AQIDBAUGBwgJCgsMDQ4PEBESExQVFhcY",
          "dtype": "i1"
         },
         "xaxis": "x2",
         "y": {
          "bdata": "cxLAK/plMD9zEsAr+mVAP0kgkMx1skw/wRQ4cblyUj9eGSj8N4xWP6wboEH3mFg/+h0Yh7alWj/6HRiHtqVaP3MSwCv6ZWA/mhN8zllsYT/BFDhxuXJiP8EUOHG5cmI/wRQ4cblyYj/oFfQTGXljP+gV9BMZeWM/Dxewtnh/ZD8PF7C2eH9kPw8XsLZ4f2Q/NxhsWdiFZT9eGSj8N4xmP4Ua5J6Xkmc/hRrknpeSZz/THFzkVp9pP/odGIe2pWo/",
          "dtype": "f8"
         },
         "yaxis": "y2"
        },
        {
         "hovertemplate": "date=2030-02-28 00:00:00<br>variable=default_flag<br>default_month=%{x}<br>value=%{y}<extra></extra>",
         "legendgroup": "2030-02-28 00:00:00",
         "line": {
          "color": "#FF7F0E",
          "dash": "solid"
         },
         "marker": {
          "symbol": "circle"
         },
         "mode": "lines",
         "name": "2030-02-28 00:00:00",
         "showlegend": false,
         "type": "scattergl",
         "x": {
          "bdata": "AQIDBAUGBwgJCgsMDQ4PEBESExQVFhcY",
          "dtype": "i1"
         },
         "xaxis": "x3",
         "y": {
          "bdata": "cxLAK/plMD9zEsAr+mUwP6wboEH3mDg/cxLAK/plMD9zEsAr+mUwP3MSwCv6ZSA/cxLAK/plID8AAAAAAAAAAKwboEH3mDg/cxLAK/plID9zEsAr+mUgPwAAAAAAAAAAAAAAAAAAAABzEsAr+mUgPwAAAAAAAAAAcxLAK/plID8AAAAAAAAAAAAAAAAAAAAAcxLAK/plID9zEsAr+mUgP3MSwCv6ZSA/AAAAAAAAAABzEsAr+mUwP3MSwCv6ZSA/",
          "dtype": "f8"
         },
         "yaxis": "y3"
        },
        {
         "hovertemplate": "date=2030-03-31 00:00:00<br>variable=id<br>default_month=%{x}<br>value=%{y}<extra></extra>",
         "legendgroup": "2030-03-31 00:00:00",
         "line": {
          "color": "#2CA02C",
          "dash": "solid"
         },
         "marker": {
          "symbol": "circle"
         },
         "mode": "lines",
         "name": "2030-03-31 00:00:00",
         "showlegend": true,
         "type": "scattergl",
         "x": {
          "bdata": "AQIDBAUGBwgJCgsMDQ4PEBESExQVFhcY",
          "dtype": "i1"
         },
         "xaxis": "x",
         "y": {
          "bdata": "AAAAAAA3v0AAAAAAADe/QAAAAAAAN79AAAAAAAA3v0AAAAAAADe/QAAAAAAAN79AAAAAAAA3v0AAAAAAADe/QAAAAAAAN79AAAAAAAA3v0AAAAAAADe/QAAAAAAAN79AAAAAAAA3v0AAAAAAADe/QAAAAAAAN79AAAAAAAA3v0AAAAAAADe/QAAAAAAAN79AAAAAAAA3v0AAAAAAADe/QAAAAAAAN79AAAAAAAA3v0AAAAAAADe/QAAAAAAAN79A",
          "dtype": "f8"
         },
         "yaxis": "y"
        },
        {
         "hovertemplate": "date=2030-03-31 00:00:00<br>variable=cum_defaults<br>default_month=%{x}<br>value=%{y}<extra></extra>",
         "legendgroup": "2030-03-31 00:00:00",
         "line": {
          "color": "#2CA02C",
          "dash": "solid"
         },
         "marker": {
          "symbol": "circle"
         },
         "mode": "lines",
         "name": "2030-03-31 00:00:00",
         "showlegend": false,
         "type": "scattergl",
         "x": {
          "bdata": "AQIDBAUGBwgJCgsMDQ4PEBESExQVFhcY",
          "dtype": "i1"
         },
         "xaxis": "x2",
         "y": {
          "bdata": "j5zfJAdnMD+zgxfuyIBEP/tRh4BMtEw/IZB7CehzUj+zgxfuyIBUP0V3s9KpjVY/RXez0qmNVj/7UYeATLRcP41FI2UtwV4/j5zfJAdnYD+PnN8kB2dgP4+c3yQHZ2A/WJYtl3dtYT9Yli2Xd21hPyGQewnoc2I/IZB7CehzYj8hkHsJ6HNiP+qJyXtYemM/s4MX7siAZD98fWVgOYdlP3x9ZWA5h2U/DnEBRRqUZz/Xak+3ippoP6BknSn7oGk/",
          "dtype": "f8"
         },
         "yaxis": "y2"
        },
        {
         "hovertemplate": "date=2030-03-31 00:00:00<br>variable=default_flag<br>default_month=%{x}<br>value=%{y}<extra></extra>",
         "legendgroup": "2030-03-31 00:00:00",
         "line": {
          "color": "#2CA02C",
          "dash": "solid"
         },
         "marker": {
          "symbol": "circle"
         },
         "mode": "lines",
         "name": "2030-03-31 00:00:00",
         "showlegend": false,
         "type": "scattergl",
         "x": {
          "bdata": "AQIDBAUGBwgJCgsMDQ4PEBESExQVFhcY",
          "dtype": "i1"
         },
         "xaxis": "x3",
         "y": {
          "bdata": "j5zfJAdnMD/Xak+3ipo4P4+c3yQHZzA/j5zfJAdnMD+PnN8kB2cgP4+c3yQHZyA/AAAAAAAAAADXak+3ipo4P4+c3yQHZyA/j5zfJAdnID8AAAAAAAAAAAAAAAAAAAAAj5zfJAdnID8AAAAAAAAAAI+c3yQHZyA/AAAAAAAAAAAAAAAAAAAAAI+c3yQHZyA/j5zfJAdnID+PnN8kB2cgPwAAAAAAAAAAj5zfJAdnMD+PnN8kB2cgP4+c3yQHZyA/",
          "dtype": "f8"
         },
         "yaxis": "y3"
        },
        {
         "hovertemplate": "date=2030-04-30 00:00:00<br>variable=id<br>default_month=%{x}<br>value=%{y}<extra></extra>",
         "legendgroup": "2030-04-30 00:00:00",
         "line": {
          "color": "#D62728",
          "dash": "solid"
         },
         "marker": {
          "symbol": "circle"
         },
         "mode": "lines",
         "name": "2030-04-30 00:00:00",
         "showlegend": true,
         "type": "scattergl",
         "x": {
          "bdata": "AQIDBAUGBwgJCgsMDQ4PEBESExQVFhcY",
          "dtype": "i1"
         },
         "xaxis": "x",
         "y": {
          "bdata": "AAAAAAA1v0AAAAAAADW/QAAAAAAANb9AAAAAAAA1v0AAAAAAADW/QAAAAAAANb9AAAAAAAA1v0AAAAAAADW/QAAAAAAANb9AAAAAAAA1v0AAAAAAADW/QAAAAAAANb9AAAAAAAA1v0AAAAAAADW/QAAAAAAANb9AAAAAAAA1v0AAAAAAADW/QAAAAAAANb9AAAAAAAA1v0AAAAAAADW/QAAAAAAANb9AAAAAAAA1v0AAAAAAADW/QAAAAAAANb9A",
          "dtype": "f8"
         },
         "yaxis": "y"
        },
        {
         "hovertemplate": "date=2030-04-30 00:00:00<br>variable=cum_defaults<br>default_month=%{x}<br>value=%{y}<extra></extra>",
         "legendgroup": "2030-04-30 00:00:00",
         "line": {
          "color": "#D62728",
          "dash": "solid"
         },
         "marker": {
          "symbol": "circle"
         },
         "mode": "lines",
         "name": "2030-04-30 00:00:00",
         "showlegend": false,
         "type": "scattergl",
         "x": {
          "bdata": "AQIDBAUGBwgJCgsMDQ4PEBESExQVFhcY",
          "dtype": "i1"
         },
         "xaxis": "x2",
         "y": {
          "bdata": "YH+1YB6cOD97P5dQGYJEP0W/03Ajtkw/lf94QBRoUD+IH4jIFnVSP4gfiMgWdVI/YH+1YB6cWD9Tn8ToIKlaP0W/03Ajtlw/Rb/TcCO2XD9Fv9NwI7ZcPzjf4vglw14/ON/i+CXDXj+V/3hAFGhgP5X/eEAUaGA/lf94QBRoYD+Pj4CElW5hP4gfiMgWdWI/ga+PDJh7Yz+Br48MmHtjP3TPnpSaiGU/bV+m2BuPZj9n760cnZVnP2fvrRydlWc/",
          "dtype": "f8"
         },
         "yaxis": "y2"
        },
        {
         "hovertemplate": "date=2030-04-30 00:00:00<br>variable=default_flag<br>default_month=%{x}<br>value=%{y}<extra></extra>",
         "legendgroup": "2030-04-30 00:00:00",
         "line": {
          "color": "#D62728",
          "dash": "solid"
         },
         "marker": {
          "symbol": "circle"
         },
         "mode": "lines",
         "name": "2030-04-30 00:00:00",
         "showlegend": false,
         "type": "scattergl",
         "x": {
          "bdata": "AQIDBAUGBwgJCgsMDQ4PEBESExQVFhcY",
          "dtype": "i1"
         },
         "xaxis": "x3",
         "y": {
          "bdata": "YH+1YB6cOD+V/3hAFGgwP5X/eEAUaDA/lf94QBRoID+V/3hAFGggPwAAAAAAAAAAYH+1YB6cOD+V/3hAFGggP5X/eEAUaCA/AAAAAAAAAAAAAAAAAAAAAJX/eEAUaCA/AAAAAAAAAACV/3hAFGggPwAAAAAAAAAAAAAAAAAAAACV/3hAFGggP5X/eEAUaCA/lf94QBRoID8AAAAAAAAAAJX/eEAUaDA/lf94QBRoID+V/3hAFGggPwAAAAAAAAAA",
          "dtype": "f8"
         },
         "yaxis": "y3"
        },
        {
         "hovertemplate": "date=2030-05-31 00:00:00<br>variable=id<br>default_month=%{x}<br>value=%{y}<extra></extra>",
         "legendgroup": "2030-05-31 00:00:00",
         "line": {
          "color": "#9467BD",
          "dash": "solid"
         },
         "marker": {
          "symbol": "circle"
         },
         "mode": "lines",
         "name": "2030-05-31 00:00:00",
         "showlegend": true,
         "type": "scattergl",
         "x": {
          "bdata": "AQIDBAUGBwgJCgsMDQ4PEBESExQVFhcY",
          "dtype": "i1"
         },
         "xaxis": "x",
         "y": {
          "bdata": "AAAAAAAyv0AAAAAAADK/QAAAAAAAMr9AAAAAAAAyv0AAAAAAADK/QAAAAAAAMr9AAAAAAAAyv0AAAAAAADK/QAAAAAAAMr9AAAAAAAAyv0AAAAAAADK/QAAAAAAAMr9AAAAAAAAyv0AAAAAAADK/QAAAAAAAMr9AAAAAAAAyv0AAAAAAADK/QAAAAAAAMr9AAAAAAAAyv0AAAAAAADK/QAAAAAAAMr9AAAAAAAAyv0AAAAAAADK/QAAAAAAAMr9A",
          "dtype": "f8"
         },
         "yaxis": "y"
        },
        {
         "hovertemplate": "date=2030-05-31 00:00:00<br>variable=cum_defaults<br>default_month=%{x}<br>value=%{y}<extra></extra>",
         "legendgroup": "2030-05-31 00:00:00",
         "line": {
          "color": "#9467BD",
          "dash": "solid"
         },
         "marker": {
          "symbol": "circle"
         },
         "mode": "lines",
         "name": "2030-05-31 00:00:00",
         "showlegend": false,
         "type": "scattergl",
         "x": {
          "bdata": "AQIDBAUGBwgJCgsMDQ4PEBESExQVFhcY",
          "dtype": "i1"
         },
         "xaxis": "x2",
         "y": {
          "bdata": "LgySKqhpMD8uDJIqqGlAPzqPNjUShEQ/RhLbP3yeSD9GEts/fJ5IP7RN5C/ddlI/Oo82NRKEVD/A0Ig6R5FWP8DQiDpHkVY/wNCIOkeRVj9GEts/fJ5YP0YS2z98nlg/y1MtRbGrWj/LUy1FsataP8tTLUWxq1o/UZV/Sua4XD/X1tFPG8ZePy4MkiqoaWA/LgySKqhpYD+0TeQv3XZiP3dujbJ3fWM/Oo82NRKEZD86jzY1EoRkPzqPNjUShGQ/",
          "dtype": "f8"
         },
         "yaxis": "y2"
        },
        {
         "hovertemplate": "date=2030-05-31 00:00:00<br>variable=default_flag<br>default_month=%{x}<br>value=%{y}<extra></extra>",
         "legendgroup": "2030-05-31 00:00:00",
         "line": {
          "color": "#9467BD",
          "dash": "solid"
         },
         "marker": {
          "symbol": "circle"
         },
         "mode": "lines",
         "name": "2030-05-31 00:00:00",
         "showlegend": false,
         "type": "scattergl",
         "x": {
          "bdata": "AQIDBAUGBwgJCgsMDQ4PEBESExQVFhcY",
          "dtype": "i1"
         },
         "xaxis": "x3",
         "y": {
          "bdata": "LgySKqhpMD8uDJIqqGkwPy4MkiqoaSA/LgySKqhpID8AAAAAAAAAAEYS2z98njg/LgySKqhpID8uDJIqqGkgPwAAAAAAAAAAAAAAAAAAAAAuDJIqqGkgPwAAAAAAAAAALgySKqhpID8AAAAAAAAAAAAAAAAAAAAALgySKqhpID8uDJIqqGkgPy4MkiqoaSA/AAAAAAAAAAAuDJIqqGkwPy4MkiqoaSA/LgySKqhpID8AAAAAAAAAAAAAAAAAAAAA",
          "dtype": "f8"
         },
         "yaxis": "y3"
        },
        {
         "hovertemplate": "date=2030-06-30 00:00:00<br>variable=id<br>default_month=%{x}<br>value=%{y}<extra></extra>",
         "legendgroup": "2030-06-30 00:00:00",
         "line": {
          "color": "#8C564B",
          "dash": "solid"
         },
         "marker": {
          "symbol": "circle"
         },
         "mode": "lines",
         "name": "2030-06-30 00:00:00",
         "showlegend": true,
         "type": "scattergl",
         "x": {
          "bdata": "AQIDBAUGBwgJCgsMDQ4PEBESExQVFhcY",
          "dtype": "i1"
         },
         "xaxis": "x",
         "y": {
          "bdata": "AAAAAAAwv0AAAAAAADC/QAAAAAAAML9AAAAAAAAwv0AAAAAAADC/QAAAAAAAML9AAAAAAAAwv0AAAAAAADC/QAAAAAAAML9AAAAAAAAwv0AAAAAAADC/QAAAAAAAML9AAAAAAAAwv0AAAAAAADC/QAAAAAAAML9AAAAAAAAwv0AAAAAAADC/QAAAAAAAML9AAAAAAAAwv0AAAAAAADC/QAAAAAAAML9AAAAAAAAwv0AAAAAAADC/QAAAAAAAML9A",
          "dtype": "f8"
         },
         "yaxis": "y"
        },
        {
         "hovertemplate": "date=2030-06-30 00:00:00<br>variable=cum_defaults<br>default_month=%{x}<br>value=%{y}<extra></extra>",
         "legendgroup": "2030-06-30 00:00:00",
         "line": {
          "color": "#8C564B",
          "dash": "solid"
         },
         "marker": {
          "symbol": "circle"
         },
         "mode": "lines",
         "name": "2030-06-30 00:00:00",
         "showlegend": false,
         "type": "scattergl",
         "x": {
          "bdata": "AQIDBAUGBwgJCgsMDQ4PEBESExQVFhcY",
          "dtype": "i1"
         },
         "xaxis": "x2",
         "y": {
          "bdata": "+xJ5nLVqMD95nLVqEKA4P/sSeZy1akA/+xJ5nLVqQD844dPRvbpMP/sSeZy1alA/WzUIUAx4Uj9bNQhQDHhSP1s1CFAMeFI/uleXA2OFVD+6V5cDY4VUPxp6Jre5klY/Gnomt7mSVj8aeia3uZJWP3mctWoQoFg/2L5EHmetWj844dPRvbpcPzjh09G9ulw/+xJ5nLVqYD8rpED2YHFhP1s1CFAMeGI/WzUIUAx4Yj9bNQhQDHhiP1s1CFAMeGI/",
          "dtype": "f8"
         },
         "yaxis": "y2"
        },
        {
         "hovertemplate": "date=2030-06-30 00:00:00<br>variable=default_flag<br>default_month=%{x}<br>value=%{y}<extra></extra>",
         "legendgroup": "2030-06-30 00:00:00",
         "line": {
          "color": "#8C564B",
          "dash": "solid"
         },
         "marker": {
          "symbol": "circle"
         },
         "mode": "lines",
         "name": "2030-06-30 00:00:00",
         "showlegend": false,
         "type": "scattergl",
         "x": {
          "bdata": "AQIDBAUGBwgJCgsMDQ4PEBESExQVFhcY",
          "dtype": "i1"
         },
         "xaxis": "x3",
         "y": {
          "bdata": "+xJ5nLVqMD/7EnmctWogP/sSeZy1aiA/AAAAAAAAAAB5nLVqEKA4P/sSeZy1aiA/+xJ5nLVqID8AAAAAAAAAAAAAAAAAAAAA+xJ5nLVqID8AAAAAAAAAAPsSeZy1aiA/AAAAAAAAAAAAAAAAAAAAAPsSeZy1aiA/+xJ5nLVqID/7EnmctWogPwAAAAAAAAAA+xJ5nLVqMD/7EnmctWogP/sSeZy1aiA/AAAAAAAAAAAAAAAAAAAAAAAAAAAAAAAA",
          "dtype": "f8"
         },
         "yaxis": "y3"
        },
        {
         "hovertemplate": "date=2030-07-31 00:00:00<br>variable=id<br>default_month=%{x}<br>value=%{y}<extra></extra>",
         "legendgroup": "2030-07-31 00:00:00",
         "line": {
          "color": "#E377C2",
          "dash": "solid"
         },
         "marker": {
          "symbol": "circle"
         },
         "mode": "lines",
         "name": "2030-07-31 00:00:00",
         "showlegend": true,
         "type": "scattergl",
         "x": {
          "bdata": "AQIDBAUGBwgJCgsMDQ4PEBESExQVFhcY",
          "dtype": "i1"
         },
         "xaxis": "x",
         "y": {
          "bdata": "AAAAAAAuv0AAAAAAAC6/QAAAAAAALr9AAAAAAAAuv0AAAAAAAC6/QAAAAAAALr9AAAAAAAAuv0AAAAAAAC6/QAAAAAAALr9AAAAAAAAuv0AAAAAAAC6/QAAAAAAALr9AAAAAAAAuv0AAAAAAAC6/QAAAAAAALr9AAAAAAAAuv0AAAAAAAC6/QAAAAAAALr9AAAAAAAAuv0AAAAAAAC6/QAAAAAAALr9AAAAAAAAuv0AAAAAAAC6/QAAAAAAALr9A",
          "dtype": "f8"
         },
         "yaxis": "y"
        },
        {
         "hovertemplate": "date=2030-07-31 00:00:00<br>variable=cum_defaults<br>default_month=%{x}<br>value=%{y}<extra></extra>",
         "legendgroup": "2030-07-31 00:00:00",
         "line": {
          "color": "#E377C2",
          "dash": "solid"
         },
         "marker": {
          "symbol": "circle"
         },
         "mode": "lines",
         "name": "2030-07-31 00:00:00",
         "showlegend": false,
         "type": "scattergl",
         "x": {
          "bdata": "AQIDBAUGBwgJCgsMDQ4PEBESExQVFhcY",
          "dtype": "i1"
         },
         "xaxis": "x2",
         "y": {
          "bdata": "wy7xMMNrID/DLvEww2swP8Mu8TDDazA/dHot/bOGRD8kxmnJpKFIP9URppWVvEw/1RGmlZW8TD/VEaaVlbxMP8Mu8TDDa1A/wy7xMMNrUD+bVA+XO3lSP5tUD5c7eVI/m1QPlzt5Uj90ei39s4ZUP0ygS2MslFY/JMZpyaShWD8kxmnJpKFYP9URppWVvFw/rTfE+w3KXj/DLvEww2tgP8Mu8TDDa2A/wy7xMMNrYD/DLvEww2tgP69BAGR/cmE/",
          "dtype": "f8"
         },
         "yaxis": "y2"
        },
        {
         "hovertemplate": "date=2030-07-31 00:00:00<br>variable=default_flag<br>default_month=%{x}<br>value=%{y}<extra></extra>",
         "legendgroup": "2030-07-31 00:00:00",
         "line": {
          "color": "#E377C2",
          "dash": "solid"
         },
         "marker": {
          "symbol": "circle"
         },
         "mode": "lines",
         "name": "2030-07-31 00:00:00",
         "showlegend": false,
         "type": "scattergl",
         "x": {
          "bdata": "AQIDBAUGBwgJCgsMDQ4PEBESExQVFhcY",
          "dtype": "i1"
         },
         "xaxis": "x3",
         "y": {
          "bdata": "wy7xMMNrID/DLvEww2sgPwAAAAAAAAAAJMZpyaShOD/DLvEww2sgP8Mu8TDDayA/AAAAAAAAAAAAAAAAAAAAAMMu8TDDayA/AAAAAAAAAADDLvEww2sgPwAAAAAAAAAAAAAAAAAAAADDLvEww2sgP8Mu8TDDayA/wy7xMMNrID8AAAAAAAAAAMMu8TDDazA/wy7xMMNrID/DLvEww2sgPwAAAAAAAAAAAAAAAAAAAAAAAAAAAAAAAMMu8TDDayA/",
          "dtype": "f8"
         },
         "yaxis": "y3"
        },
        {
         "hovertemplate": "date=2030-08-31 00:00:00<br>variable=id<br>default_month=%{x}<br>value=%{y}<extra></extra>",
         "legendgroup": "2030-08-31 00:00:00",
         "line": {
          "color": "#7F7F7F",
          "dash": "solid"
         },
         "marker": {
          "symbol": "circle"
         },
         "mode": "lines",
         "name": "2030-08-31 00:00:00",
         "showlegend": true,
         "type": "scattergl",
         "x": {
          "bdata": "AQIDBAUGBwgJCgsMDQ4PEBESExQVFhcY",
          "dtype": "i1"
         },
         "xaxis": "x",
         "y": {
          "bdata": "AAAAAAAtv0AAAAAAAC2/QAAAAAAALb9AAAAAAAAtv0AAAAAAAC2/QAAAAAAALb9AAAAAAAAtv0AAAAAAAC2/QAAAAAAALb9AAAAAAAAtv0AAAAAAAC2/QAAAAAAALb9AAAAAAAAtv0AAAAAAAC2/QAAAAAAALb9AAAAAAAAtv0AAAAAAAC2/QAAAAAAALb9AAAAAAAAtv0AAAAAAAC2/QAAAAAAALb9AAAAAAAAtv0AAAAAAAC2/QAAAAAAALb9A",
          "dtype": "f8"
         },
         "yaxis": "y"
        },
        {
         "hovertemplate": "date=2030-08-31 00:00:00<br>variable=cum_defaults<br>default_month=%{x}<br>value=%{y}<extra></extra>",
         "legendgroup": "2030-08-31 00:00:00",
         "line": {
          "color": "#7F7F7F",
          "dash": "solid"
         },
         "marker": {
          "symbol": "circle"
         },
         "mode": "lines",
         "name": "2030-08-31 00:00:00",
         "showlegend": false,
         "type": "scattergl",
         "x": {
          "bdata": "AQIDBAUGBwgJCgsMDQ4PEBESExQVFhcY",
          "dtype": "i1"
         },
         "xaxis": "x2",
         "y": {
          "bdata": "urglCEpsID+6uCUISmwgP7q4JQhKbEA/6SYvilyHRD8XlTgMb6JIPxeVOAxvokg/F5U4DG+iSD9GA0KOgb1MP0YDQo6BvUw/urglCEpsUD+6uCUISmxQP7q4JQhKbFA/0W8qSdN5Uj/pJi+KXIdUPwDeM8vllFY/AN4zy+WUVj8uTD1N+K9aP0YDQo6BvVw/XbpGzwrLXj9dukbPCsteP126Rs8Ky14/XbpGzwrLXj+6uCUISmxgP7q4JQhKbGA/",
          "dtype": "f8"
         },
         "yaxis": "y2"
        },
        {
         "hovertemplate": "date=2030-08-31 00:00:00<br>variable=default_flag<br>default_month=%{x}<br>value=%{y}<extra></extra>",
         "legendgroup": "2030-08-31 00:00:00",
         "line": {
          "color": "#7F7F7F",
          "dash": "solid"
         },
         "marker": {
          "symbol": "circle"
         },
         "mode": "lines",
         "name": "2030-08-31 00:00:00",
         "showlegend": false,
         "type": "scattergl",
         "x": {
          "bdata": "AQIDBAUGBwgJCgsMDQ4PEBESExQVFhcY",
          "dtype": "i1"
         },
         "xaxis": "x3",
         "y": {
          "bdata": "urglCEpsID8AAAAAAAAAABeVOAxvojg/urglCEpsID+6uCUISmwgPwAAAAAAAAAAAAAAAAAAAAC6uCUISmwgPwAAAAAAAAAAurglCEpsID8AAAAAAAAAAAAAAAAAAAAAurglCEpsID+6uCUISmwgP7q4JQhKbCA/AAAAAAAAAAC6uCUISmwwP7q4JQhKbCA/urglCEpsID8AAAAAAAAAAAAAAAAAAAAAAAAAAAAAAAC6uCUISmwgPwAAAAAAAAAA",
          "dtype": "f8"
         },
         "yaxis": "y3"
        },
        {
         "hovertemplate": "date=2030-09-30 00:00:00<br>variable=id<br>default_month=%{x}<br>value=%{y}<extra></extra>",
         "legendgroup": "2030-09-30 00:00:00",
         "line": {
          "color": "#BCBD22",
          "dash": "solid"
         },
         "marker": {
          "symbol": "circle"
         },
         "mode": "lines",
         "name": "2030-09-30 00:00:00",
         "showlegend": true,
         "type": "scattergl",
         "x": {
          "bdata": "AQIDBAUGBwgJCgsMDQ4PEBESExQVFhcY",
          "dtype": "i1"
         },
         "xaxis": "x",
         "y": {
          "bdata": "AAAAAAAsv0AAAAAAACy/QAAAAAAALL9AAAAAAAAsv0AAAAAAACy/QAAAAAAALL9AAAAAAAAsv0AAAAAAACy/QAAAAAAALL9AAAAAAAAsv0AAAAAAACy/QAAAAAAALL9AAAAAAAAsv0AAAAAAACy/QAAAAAAALL9AAAAAAAAsv0AAAAAAACy/QAAAAAAALL9AAAAAAAAsv0AAAAAAACy/QAAAAAAALL9AAAAAAAAsv0AAAAAAACy/QAAAAAAALL9A",
          "dtype": "f8"
         },
         "yaxis": "y"
        },
        {
         "hovertemplate": "date=2030-09-30 00:00:00<br>variable=cum_defaults<br>default_month=%{x}<br>value=%{y}<extra></extra>",
         "legendgroup": "2030-09-30 00:00:00",
         "line": {
          "color": "#BCBD22",
          "dash": "solid"
         },
         "marker": {
          "symbol": "circle"
         },
         "mode": "lines",
         "name": "2030-09-30 00:00:00",
         "showlegend": false,
         "type": "scattergl",
         "x": {
          "bdata": "AQIDBAUGBwgJCgsMDQ4PEBESExQVFhcY",
          "dtype": "i1"
         },
         "xaxis": "x2",
         "y": {
          "bdata": "AAAAAAAAAAA0igFcOaM4P80GAejQbEA/gEgBIgWIRD+ASAEiBYhEP4BIASIFiEQ/NIoBXDmjSD80igFcOaNIP+fLAZZtvkw/58sBlm2+TD/nywGWbb5MP80GAejQbFA/pycBBWt6Uj+ASAEiBYhUP4BIASIFiFQ/NIoBXDmjWD8NqwF507BaP+fLAZZtvlw/58sBlm2+XD/nywGWbb5cP+fLAZZtvlw/wOwBswfMXj/A7AGzB8xePzoXgfadc2E/",
          "dtype": "f8"
         },
         "yaxis": "y2"
        },
        {
         "hovertemplate": "date=2030-09-30 00:00:00<br>variable=default_flag<br>default_month=%{x}<br>value=%{y}<extra></extra>",
         "legendgroup": "2030-09-30 00:00:00",
         "line": {
          "color": "#BCBD22",
          "dash": "solid"
         },
         "marker": {
          "symbol": "circle"
         },
         "mode": "lines",
         "name": "2030-09-30 00:00:00",
         "showlegend": false,
         "type": "scattergl",
         "x": {
          "bdata": "AQIDBAUGBwgJCgsMDQ4PEBESExQVFhcY",
          "dtype": "i1"
         },
         "xaxis": "x3",
         "y": {
          "bdata": "AAAAAAAAAAA0igFcOaM4P80GAejQbCA/zQYB6NBsID8AAAAAAAAAAAAAAAAAAAAAzQYB6NBsID8AAAAAAAAAAM0GAejQbCA/AAAAAAAAAAAAAAAAAAAAAM0GAejQbCA/zQYB6NBsID/NBgHo0GwgPwAAAAAAAAAAzQYB6NBsMD/NBgHo0GwgP80GAejQbCA/AAAAAAAAAAAAAAAAAAAAAAAAAAAAAAAAzQYB6NBsID8AAAAAAAAAAM0GAejQbDA/",
          "dtype": "f8"
         },
         "yaxis": "y3"
        },
        {
         "hovertemplate": "date=2030-10-31 00:00:00<br>variable=id<br>default_month=%{x}<br>value=%{y}<extra></extra>",
         "legendgroup": "2030-10-31 00:00:00",
         "line": {
          "color": "#17BECF",
          "dash": "solid"
         },
         "marker": {
          "symbol": "circle"
         },
         "mode": "lines",
         "name": "2030-10-31 00:00:00",
         "showlegend": true,
         "type": "scattergl",
         "x": {
          "bdata": "AQIDBAUGBwgJCgsMDQ4PEBESExQVFhcY",
          "dtype": "i1"
         },
         "xaxis": "x",
         "y": {
          "bdata": "AAAAAAAsv0AAAAAAACy/QAAAAAAALL9AAAAAAAAsv0AAAAAAACy/QAAAAAAALL9AAAAAAAAsv0AAAAAAACy/QAAAAAAALL9AAAAAAAAsv0AAAAAAACy/QAAAAAAALL9AAAAAAAAsv0AAAAAAACy/QAAAAAAALL9AAAAAAAAsv0AAAAAAACy/QAAAAAAALL9AAAAAAAAsv0AAAAAAACy/QAAAAAAALL9AAAAAAAAsv0AAAAAAACy/QAAAAAAALL9A",
          "dtype": "f8"
         },
         "yaxis": "y"
        },
        {
         "hovertemplate": "date=2030-10-31 00:00:00<br>variable=cum_defaults<br>default_month=%{x}<br>value=%{y}<extra></extra>",
         "legendgroup": "2030-10-31 00:00:00",
         "line": {
          "color": "#17BECF",
          "dash": "solid"
         },
         "marker": {
          "symbol": "circle"
         },
         "mode": "lines",
         "name": "2030-10-31 00:00:00",
         "showlegend": false,
         "type": "scattergl",
         "x": {
          "bdata": "AQIDBAUGBwgJCgsMDQ4PEBESExQVFhcY",
          "dtype": "i1"
         },
         "xaxis": "x2",
         "y": {
          "bdata": "NIoBXDmjOD/NBgHo0GxAP4BIASIFiEQ/gEgBIgWIRD+ASAEiBYhEPzSKAVw5o0g/NIoBXDmjSD/nywGWbb5MP+fLAZZtvkw/58sBlm2+TD/NBgHo0GxQP6cnAQVrelI/gEgBIgWIVD+ASAEiBYhUPzSKAVw5o1g/DasBedOwWj/nywGWbb5cP+fLAZZtvlw/58sBlm2+XD/nywGWbb5cP8DsAbMHzF4/wOwBswfMXj86F4H2nXNhPxQ4gRM4gWM/",
          "dtype": "f8"
         },
         "yaxis": "y2"
        },
        {
         "hovertemplate": "date=2030-10-31 00:00:00<br>variable=default_flag<br>default_month=%{x}<br>value=%{y}<extra></extra>",
         "legendgroup": "2030-10-31 00:00:00",
         "line": {
          "color": "#17BECF",
          "dash": "solid"
         },
         "marker": {
          "symbol": "circle"
         },
         "mode": "lines",
         "name": "2030-10-31 00:00:00",
         "showlegend": false,
         "type": "scattergl",
         "x": {
          "bdata": "AQIDBAUGBwgJCgsMDQ4PEBESExQVFhcY",
          "dtype": "i1"
         },
         "xaxis": "x3",
         "y": {
          "bdata": "NIoBXDmjOD/NBgHo0GwgP80GAejQbCA/AAAAAAAAAAAAAAAAAAAAAM0GAejQbCA/AAAAAAAAAADNBgHo0GwgPwAAAAAAAAAAAAAAAAAAAADNBgHo0GwgP80GAejQbCA/zQYB6NBsID8AAAAAAAAAAM0GAejQbDA/zQYB6NBsID/NBgHo0GwgPwAAAAAAAAAAAAAAAAAAAAAAAAAAAAAAAM0GAejQbCA/AAAAAAAAAADNBgHo0GwwP80GAejQbDA/",
          "dtype": "f8"
         },
         "yaxis": "y3"
        },
        {
         "hovertemplate": "date=2030-11-30 00:00:00<br>variable=id<br>default_month=%{x}<br>value=%{y}<extra></extra>",
         "legendgroup": "2030-11-30 00:00:00",
         "line": {
          "color": "#1F77B4",
          "dash": "solid"
         },
         "marker": {
          "symbol": "circle"
         },
         "mode": "lines",
         "name": "2030-11-30 00:00:00",
         "showlegend": true,
         "type": "scattergl",
         "x": {
          "bdata": "AQIDBAUGBwgJCgsMDQ4PEBESExQVFhcY",
          "dtype": "i1"
         },
         "xaxis": "x",
         "y": {
          "bdata": "AAAAAAApv0AAAAAAACm/QAAAAAAAKb9AAAAAAAApv0AAAAAAACm/QAAAAAAAKb9AAAAAAAApv0AAAAAAACm/QAAAAAAAKb9AAAAAAAApv0AAAAAAACm/QAAAAAAAKb9AAAAAAAApv0AAAAAAACm/QAAAAAAAKb9AAAAAAAApv0AAAAAAACm/QAAAAAAAKb9AAAAAAAApv0AAAAAAACm/QAAAAAAAKb9AAAAAAAApv0AAAAAAACm/QAAAAAAAKb9A",
          "dtype": "f8"
         },
         "yaxis": "y"
        },
        {
         "hovertemplate": "date=2030-11-30 00:00:00<br>variable=cum_defaults<br>default_month=%{x}<br>value=%{y}<extra></extra>",
         "legendgroup": "2030-11-30 00:00:00",
         "line": {
          "color": "#1F77B4",
          "dash": "solid"
         },
         "marker": {
          "symbol": "circle"
         },
         "mode": "lines",
         "name": "2030-11-30 00:00:00",
         "showlegend": false,
         "type": "scattergl",
         "x": {
          "bdata": "AQIDBAUGBwgJCgsMDQ4PEBESExQVFhcY",
          "dtype": "i1"
         },
         "xaxis": "x2",
         "y": {
          "bdata": "+92Du2VuID/73YO7ZW4wP/vdg7tlbjA/+92Du2VuMD/5zEWZmKU4P/nMRZmYpTg/+92Du2VuQD/73YO7ZW5AP/vdg7tlbkA/etVkKv+JRD/5zEWZmKVIP3jEJggywUw/eMQmCDLBTD+7WfRyMnxSP3rVZCr/iVQ/OlHV4cuXVj86UdXhy5dWPzpR1eHLl1Y/OlHV4cuXVj/5zEWZmKVYP/nMRZmYpVg/eMQmCDLBXD/73YO7ZW5gP/vdg7tlbmA/",
          "dtype": "f8"
         },
         "yaxis": "y2"
        },
        {
         "hovertemplate": "date=2030-11-30 00:00:00<br>variable=default_flag<br>default_month=%{x}<br>value=%{y}<extra></extra>",
         "legendgroup": "2030-11-30 00:00:00",
         "line": {
          "color": "#1F77B4",
          "dash": "solid"
         },
         "marker": {
          "symbol": "circle"
         },
         "mode": "lines",
         "name": "2030-11-30 00:00:00",
         "showlegend": false,
         "type": "scattergl",
         "x": {
          "bdata": "AQIDBAUGBwgJCgsMDQ4PEBESExQVFhcY",
          "dtype": "i1"
         },
         "xaxis": "x3",
         "y": {
          "bdata": "+92Du2VuID/73YO7ZW4gPwAAAAAAAAAAAAAAAAAAAAD73YO7ZW4gPwAAAAAAAAAA+92Du2VuID8AAAAAAAAAAAAAAAAAAAAA+92Du2VuID/73YO7ZW4gP/vdg7tlbiA/AAAAAAAAAAD73YO7ZW4wP/vdg7tlbiA/+92Du2VuID8AAAAAAAAAAAAAAAAAAAAAAAAAAAAAAAD73YO7ZW4gPwAAAAAAAAAA+92Du2VuMD/73YO7ZW4wPwAAAAAAAAAA",
          "dtype": "f8"
         },
         "yaxis": "y3"
        },
        {
         "hovertemplate": "date=2030-12-31 00:00:00<br>variable=id<br>default_month=%{x}<br>value=%{y}<extra></extra>",
         "legendgroup": "2030-12-31 00:00:00",
         "line": {
          "color": "#FF7F0E",
          "dash": "solid"
         },
         "marker": {
          "symbol": "circle"
         },
         "mode": "lines",
         "name": "2030-12-31 00:00:00",
         "showlegend": true,
         "type": "scattergl",
         "x": {
          "bdata": "AQIDBAUGBwgJCgsMDQ4PEBESExQVFhcY",
          "dtype": "i1"
         },
         "xaxis": "x",
         "y": {
          "bdata": "AAAAAAAov0AAAAAAACi/QAAAAAAAKL9AAAAAAAAov0AAAAAAACi/QAAAAAAAKL9AAAAAAAAov0AAAAAAACi/QAAAAAAAKL9AAAAAAAAov0AAAAAAACi/QAAAAAAAKL9AAAAAAAAov0AAAAAAACi/QAAAAAAAKL9AAAAAAAAov0AAAAAAACi/QAAAAAAAKL9AAAAAAAAov0AAAAAAACi/QAAAAAAAKL9AAAAAAAAov0AAAAAAACi/QAAAAAAAKL9A",
          "dtype": "f8"
         },
         "yaxis": "y"
        },
        {
         "hovertemplate": "date=2030-12-31 00:00:00<br>variable=cum_defaults<br>default_month=%{x}<br>value=%{y}<extra></extra>",
         "legendgroup": "2030-12-31 00:00:00",
         "line": {
          "color": "#FF7F0E",
          "dash": "solid"
         },
         "marker": {
          "symbol": "circle"
         },
         "mode": "lines",
         "name": "2030-12-31 00:00:00",
         "showlegend": false,
         "type": "scattergl",
         "x": {
          "bdata": "AQIDBAUGBwgJCgsMDQ4PEBESExQVFhcY",
          "dtype": "i1"
         },
         "xaxis": "x2",
         "y": {
          "bdata": "VZECvuxuID9VkQK+7G4gP1WRAr7sbiA/VZECvuxuMD9VkQK+7G4wP//ZAx1jpjg//9kDHWOmOD//2QMdY6Y4P1WRAr7sbkA/qjWD7aeKRD//2QMdY6ZIP//ZAx1jpkg/VZECvuxuUD+A48JVynxSP6o1g+2nilQ/qjWD7aeKVD+qNYPtp4pUP6o1g+2nilQ/1YdDhYWYVj/Vh0OFhZhWPyosxLRAtFo/f9BE5PvPXj9/0ETk+89eP3/QROT7z14/",
          "dtype": "f8"
         },
         "yaxis": "y2"
        },
        {
         "hovertemplate": "date=2030-12-31 00:00:00<br>variable=default_flag<br>default_month=%{x}<br>value=%{y}<extra></extra>",
         "legendgroup": "2030-12-31 00:00:00",
         "line": {
          "color": "#FF7F0E",
          "dash": "solid"
         },
         "marker": {
          "symbol": "circle"
         },
         "mode": "lines",
         "name": "2030-12-31 00:00:00",
         "showlegend": false,
         "type": "scattergl",
         "x": {
          "bdata": "AQIDBAUGBwgJCgsMDQ4PEBESExQVFhcY",
          "dtype": "i1"
         },
         "xaxis": "x3",
         "y": {
          "bdata": "VZECvuxuID8AAAAAAAAAAAAAAAAAAAAAVZECvuxuID8AAAAAAAAAAFWRAr7sbiA/AAAAAAAAAAAAAAAAAAAAAFWRAr7sbiA/VZECvuxuID9VkQK+7G4gPwAAAAAAAAAAVZECvuxuMD9VkQK+7G4gP1WRAr7sbiA/AAAAAAAAAAAAAAAAAAAAAAAAAAAAAAAAVZECvuxuID8AAAAAAAAAAFWRAr7sbjA/VZECvuxuMD8AAAAAAAAAAAAAAAAAAAAA",
          "dtype": "f8"
         },
         "yaxis": "y3"
        },
        {
         "hovertemplate": "date=2031-01-31 00:00:00<br>variable=id<br>default_month=%{x}<br>value=%{y}<extra></extra>",
         "legendgroup": "2031-01-31 00:00:00",
         "line": {
          "color": "#2CA02C",
          "dash": "solid"
         },
         "marker": {
          "symbol": "circle"
         },
         "mode": "lines",
         "name": "2031-01-31 00:00:00",
         "showlegend": true,
         "type": "scattergl",
         "x": {
          "bdata": "AQIDBAUGBwgJCgsMDQ4PEBESExQVFhcY",
          "dtype": "i1"
         },
         "xaxis": "x",
         "y": {
          "bdata": "AAAAAAAnv0AAAAAAACe/QAAAAAAAJ79AAAAAAAAnv0AAAAAAACe/QAAAAAAAJ79AAAAAAAAnv0AAAAAAACe/QAAAAAAAJ79AAAAAAAAnv0AAAAAAACe/QAAAAAAAJ79AAAAAAAAnv0AAAAAAACe/QAAAAAAAJ79AAAAAAAAnv0AAAAAAACe/QAAAAAAAJ79AAAAAAAAnv0AAAAAAACe/QAAAAAAAJ79AAAAAAAAnv0AAAAAAACe/QAAAAAAAJ79A",
          "dtype": "f8"
         },
         "yaxis": "y"
        },
        {
         "hovertemplate": "date=2031-01-31 00:00:00<br>variable=cum_defaults<br>default_month=%{x}<br>value=%{y}<extra></extra>",
         "legendgroup": "2031-01-31 00:00:00",
         "line": {
          "color": "#2CA02C",
          "dash": "solid"
         },
         "marker": {
          "symbol": "circle"
         },
         "mode": "lines",
         "name": "2031-01-31 00:00:00",
         "showlegend": false,
         "type": "scattergl",
         "x": {
          "bdata": "AQIDBAUGBwgJCgsMDQ4PEBESExQVFhcY",
          "dtype": "i1"
         },
         "xaxis": "x2",
         "y": {
          "bdata": "AAAAAAAAAAAAAAAAAAAAAL8zLMlzbyA/vzMsyXNvID+/MyzJc28wP78zLMlzbzA/vzMsyXNvMD+eTcKtLac4P78zLMlzb0A/r0B3u1CLRD+vQHe7UItEP45aDaAKw0w/vzMsyXNvUD83ulFCYn1SPze6UUJifVI/N7pRQmJ9Uj83ulFCYn1SP69Ad7tQi1Q/r0B3u1CLVD+eTcKtLadYP45aDaAKw1w/jloNoArDXD+OWg2gCsNcP45aDaAKw1w/",
          "dtype": "f8"
         },
         "yaxis": "y2"
        },
        {
         "hovertemplate": "date=2031-01-31 00:00:00<br>variable=default_flag<br>default_month=%{x}<br>value=%{y}<extra></extra>",
         "legendgroup": "2031-01-31 00:00:00",
         "line": {
          "color": "#2CA02C",
          "dash": "solid"
         },
         "marker": {
          "symbol": "circle"
         },
         "mode": "lines",
         "name": "2031-01-31 00:00:00",
         "showlegend": false,
         "type": "scattergl",
         "x": {
          "bdata": "AQIDBAUGBwgJCgsMDQ4PEBESExQVFhcY",
          "dtype": "i1"
         },
         "xaxis": "x3",
         "y": {
          "bdata": "AAAAAAAAAAAAAAAAAAAAAL8zLMlzbyA/AAAAAAAAAAC/MyzJc28gPwAAAAAAAAAAAAAAAAAAAAC/MyzJc28gP78zLMlzbyA/vzMsyXNvID8AAAAAAAAAAL8zLMlzbzA/vzMsyXNvID+/MyzJc28gPwAAAAAAAAAAAAAAAAAAAAAAAAAAAAAAAL8zLMlzbyA/AAAAAAAAAAC/MyzJc28wP78zLMlzbzA/AAAAAAAAAAAAAAAAAAAAAAAAAAAAAAAA",
          "dtype": "f8"
         },
         "yaxis": "y3"
        },
        {
         "hovertemplate": "date=2031-02-28 00:00:00<br>variable=id<br>default_month=%{x}<br>value=%{y}<extra></extra>",
         "legendgroup": "2031-02-28 00:00:00",
         "line": {
          "color": "#D62728",
          "dash": "solid"
         },
         "marker": {
          "symbol": "circle"
         },
         "mode": "lines",
         "name": "2031-02-28 00:00:00",
         "showlegend": true,
         "type": "scattergl",
         "x": {
          "bdata": "AQIDBAUGBwgJCgsMDQ4PEBESExQVFhcY",
          "dtype": "i1"
         },
         "xaxis": "x",
         "y": {
          "bdata": "AAAAAAAnv0AAAAAAACe/QAAAAAAAJ79AAAAAAAAnv0AAAAAAACe/QAAAAAAAJ79AAAAAAAAnv0AAAAAAACe/QAAAAAAAJ79AAAAAAAAnv0AAAAAAACe/QAAAAAAAJ79AAAAAAAAnv0AAAAAAACe/QAAAAAAAJ79AAAAAAAAnv0AAAAAAACe/QAAAAAAAJ79AAAAAAAAnv0AAAAAAACe/QAAAAAAAJ79AAAAAAAAnv0AAAAAAACe/QAAAAAAAJ79A",
          "dtype": "f8"
         },
         "yaxis": "y"
        },
        {
         "hovertemplate": "date=2031-02-28 00:00:00<br>variable=cum_defaults<br>default_month=%{x}<br>value=%{y}<extra></extra>",
         "legendgroup": "2031-02-28 00:00:00",
         "line": {
          "color": "#D62728",
          "dash": "solid"
         },
         "marker": {
          "symbol": "circle"
         },
         "mode": "lines",
         "name": "2031-02-28 00:00:00",
         "showlegend": false,
         "type": "scattergl",
         "x": {
          "bdata": "AQIDBAUGBwgJCgsMDQ4PEBESExQVFhcY",
          "dtype": "i1"
         },
         "xaxis": "x2",
         "y": {
          "bdata": "AAAAAAAAAAC/MyzJc28gP78zLMlzbyA/vzMsyXNvMD+/MyzJc28wP78zLMlzbzA/nk3CrS2nOD+/MyzJc29AP69Ad7tQi0Q/r0B3u1CLRD+OWg2gCsNMP78zLMlzb1A/N7pRQmJ9Uj83ulFCYn1SPze6UUJifVI/N7pRQmJ9Uj+vQHe7UItUP69Ad7tQi1Q/nk3CrS2nWD+OWg2gCsNcP45aDaAKw1w/jloNoArDXD+OWg2gCsNcPwbhMhn50F4/",
          "dtype": "f8"
         },
         "yaxis": "y2"
        },
        {
         "hovertemplate": "date=2031-02-28 00:00:00<br>variable=default_flag<br>default_month=%{x}<br>value=%{y}<extra></extra>",
         "legendgroup": "2031-02-28 00:00:00",
         "line": {
          "color": "#D62728",
          "dash": "solid"
         },
         "marker": {
          "symbol": "circle"
         },
         "mode": "lines",
         "name": "2031-02-28 00:00:00",
         "showlegend": false,
         "type": "scattergl",
         "x": {
          "bdata": "AQIDBAUGBwgJCgsMDQ4PEBESExQVFhcY",
          "dtype": "i1"
         },
         "xaxis": "x3",
         "y": {
          "bdata": "AAAAAAAAAAC/MyzJc28gPwAAAAAAAAAAvzMsyXNvID8AAAAAAAAAAAAAAAAAAAAAvzMsyXNvID+/MyzJc28gP78zLMlzbyA/AAAAAAAAAAC/MyzJc28wP78zLMlzbyA/vzMsyXNvID8AAAAAAAAAAAAAAAAAAAAAAAAAAAAAAAC/MyzJc28gPwAAAAAAAAAAvzMsyXNvMD+/MyzJc28wPwAAAAAAAAAAAAAAAAAAAAAAAAAAAAAAAL8zLMlzbyA/",
          "dtype": "f8"
         },
         "yaxis": "y3"
        },
        {
         "hovertemplate": "date=2031-03-31 00:00:00<br>variable=id<br>default_month=%{x}<br>value=%{y}<extra></extra>",
         "legendgroup": "2031-03-31 00:00:00",
         "line": {
          "color": "#9467BD",
          "dash": "solid"
         },
         "marker": {
          "symbol": "circle"
         },
         "mode": "lines",
         "name": "2031-03-31 00:00:00",
         "showlegend": true,
         "type": "scattergl",
         "x": {
          "bdata": "AQIDBAUGBwgJCgsMDQ4PEBESExQVFhcY",
          "dtype": "i1"
         },
         "xaxis": "x",
         "y": {
          "bdata": "AAAAAAAnv0AAAAAAACe/QAAAAAAAJ79AAAAAAAAnv0AAAAAAACe/QAAAAAAAJ79AAAAAAAAnv0AAAAAAACe/QAAAAAAAJ79AAAAAAAAnv0AAAAAAACe/QAAAAAAAJ79AAAAAAAAnv0AAAAAAACe/QAAAAAAAJ79AAAAAAAAnv0AAAAAAACe/QAAAAAAAJ79AAAAAAAAnv0AAAAAAACe/QAAAAAAAJ79AAAAAAAAnv0AAAAAAACe/QAAAAAAAJ79A",
          "dtype": "f8"
         },
         "yaxis": "y"
        },
        {
         "hovertemplate": "date=2031-03-31 00:00:00<br>variable=cum_defaults<br>default_month=%{x}<br>value=%{y}<extra></extra>",
         "legendgroup": "2031-03-31 00:00:00",
         "line": {
          "color": "#9467BD",
          "dash": "solid"
         },
         "marker": {
          "symbol": "circle"
         },
         "mode": "lines",
         "name": "2031-03-31 00:00:00",
         "showlegend": false,
         "type": "scattergl",
         "x": {
          "bdata": "AQIDBAUGBwgJCgsMDQ4PEBESExQVFhcY",
          "dtype": "i1"
         },
         "xaxis": "x2",
         "y": {
          "bdata": "vzMsyXNvID+/MyzJc28gP78zLMlzbzA/vzMsyXNvMD+/MyzJc28wP55Nwq0tpzg/vzMsyXNvQD+vQHe7UItEP69Ad7tQi0Q/jloNoArDTD+/MyzJc29QPze6UUJifVI/N7pRQmJ9Uj83ulFCYn1SPze6UUJifVI/r0B3u1CLVD+vQHe7UItUP55Nwq0tp1g/jloNoArDXD+OWg2gCsNcP45aDaAKw1w/jloNoArDXD8G4TIZ+dBeP78zLMlzb2A/",
          "dtype": "f8"
         },
         "yaxis": "y2"
        },
        {
         "hovertemplate": "date=2031-03-31 00:00:00<br>variable=default_flag<br>default_month=%{x}<br>value=%{y}<extra></extra>",
         "legendgroup": "2031-03-31 00:00:00",
         "line": {
          "color": "#9467BD",
          "dash": "solid"
         },
         "marker": {
          "symbol": "circle"
         },
         "mode": "lines",
         "name": "2031-03-31 00:00:00",
         "showlegend": false,
         "type": "scattergl",
         "x": {
          "bdata": "AQIDBAUGBwgJCgsMDQ4PEBESExQVFhcY",
          "dtype": "i1"
         },
         "xaxis": "x3",
         "y": {
          "bdata": "vzMsyXNvID8AAAAAAAAAAL8zLMlzbyA/AAAAAAAAAAAAAAAAAAAAAL8zLMlzbyA/vzMsyXNvID+/MyzJc28gPwAAAAAAAAAAvzMsyXNvMD+/MyzJc28gP78zLMlzbyA/AAAAAAAAAAAAAAAAAAAAAAAAAAAAAAAAvzMsyXNvID8AAAAAAAAAAL8zLMlzbzA/vzMsyXNvMD8AAAAAAAAAAAAAAAAAAAAAAAAAAAAAAAC/MyzJc28gP78zLMlzbyA/",
          "dtype": "f8"
         },
         "yaxis": "y3"
        },
        {
         "hovertemplate": "date=2031-04-30 00:00:00<br>variable=id<br>default_month=%{x}<br>value=%{y}<extra></extra>",
         "legendgroup": "2031-04-30 00:00:00",
         "line": {
          "color": "#8C564B",
          "dash": "solid"
         },
         "marker": {
          "symbol": "circle"
         },
         "mode": "lines",
         "name": "2031-04-30 00:00:00",
         "showlegend": true,
         "type": "scattergl",
         "x": {
          "bdata": "AQIDBAUGBwgJCgsMDQ4PEBESExQVFhcY",
          "dtype": "i1"
         },
         "xaxis": "x",
         "y": {
          "bdata": "AAAAAAAmv0AAAAAAACa/QAAAAAAAJr9AAAAAAAAmv0AAAAAAACa/QAAAAAAAJr9AAAAAAAAmv0AAAAAAACa/QAAAAAAAJr9AAAAAAAAmv0AAAAAAACa/QAAAAAAAJr9AAAAAAAAmv0AAAAAAACa/QAAAAAAAJr9AAAAAAAAmv0AAAAAAACa/QAAAAAAAJr9AAAAAAAAmv0AAAAAAACa/QAAAAAAAJr9AAAAAAAAmv0AAAAAAACa/QAAAAAAAJr9A",
          "dtype": "f8"
         },
         "yaxis": "y"
        },
        {
         "hovertemplate": "date=2031-04-30 00:00:00<br>variable=cum_defaults<br>default_month=%{x}<br>value=%{y}<extra></extra>",
         "legendgroup": "2031-04-30 00:00:00",
         "line": {
          "color": "#8C564B",
          "dash": "solid"
         },
         "marker": {
          "symbol": "circle"
         },
         "mode": "lines",
         "name": "2031-04-30 00:00:00",
         "showlegend": false,
         "type": "scattergl",
         "x": {
          "bdata": "AQIDBAUGBwgJCgsMDQ4PEBESExQVFhcY",
          "dtype": "i1"
         },
         "xaxis": "x2",
         "y": {
          "bdata": "AAAAAAAAAADvmgHd+m8gP++aAd36byA/75oB3fpvID/vmgHd+m8wP2dogkv4pzg/75oB3fpvQD/vmgHd+m9AP2dogkv4p0g/I8/CAvfDTD/vmgHd+m9QP++aAd36b1A/75oB3fpvUD/vmgHd+m9QP03OoTj6fVI/Tc6hOPp9Uj8JNeLv+JlWP8WbIqf3tVo/xZsip/e1Wj/FmyKn97VaP8WbIqf3tVo/I8/CAvfDXD+BAmNe9tFeP4ECY1720V4/",
          "dtype": "f8"
         },
         "yaxis": "y2"
        },
        {
         "hovertemplate": "date=2031-04-30 00:00:00<br>variable=default_flag<br>default_month=%{x}<br>value=%{y}<extra></extra>",
         "legendgroup": "2031-04-30 00:00:00",
         "line": {
          "color": "#8C564B",
          "dash": "solid"
         },
         "marker": {
          "symbol": "circle"
         },
         "mode": "lines",
         "name": "2031-04-30 00:00:00",
         "showlegend": false,
         "type": "scattergl",
         "x": {
          "bdata": "AQIDBAUGBwgJCgsMDQ4PEBESExQVFhcY",
          "dtype": "i1"
         },
         "xaxis": "x3",
         "y": {
          "bdata": "AAAAAAAAAADvmgHd+m8gPwAAAAAAAAAAAAAAAAAAAADvmgHd+m8gP++aAd36byA/75oB3fpvID8AAAAAAAAAAO+aAd36bzA/75oB3fpvID/vmgHd+m8gPwAAAAAAAAAAAAAAAAAAAAAAAAAAAAAAAO+aAd36byA/AAAAAAAAAADvmgHd+m8wP++aAd36bzA/AAAAAAAAAAAAAAAAAAAAAAAAAAAAAAAA75oB3fpvID/vmgHd+m8gPwAAAAAAAAAA",
          "dtype": "f8"
         },
         "yaxis": "y3"
        },
        {
         "hovertemplate": "date=2031-05-31 00:00:00<br>variable=id<br>default_month=%{x}<br>value=%{y}<extra></extra>",
         "legendgroup": "2031-05-31 00:00:00",
         "line": {
          "color": "#E377C2",
          "dash": "solid"
         },
         "marker": {
          "symbol": "circle"
         },
         "mode": "lines",
         "name": "2031-05-31 00:00:00",
         "showlegend": true,
         "type": "scattergl",
         "x": {
          "bdata": "AQIDBAUGBwgJCgsMDQ4PEBESExQVFhcY",
          "dtype": "i1"
         },
         "xaxis": "x",
         "y": {
          "bdata": "AAAAAAAmv0AAAAAAACa/QAAAAAAAJr9AAAAAAAAmv0AAAAAAACa/QAAAAAAAJr9AAAAAAAAmv0AAAAAAACa/QAAAAAAAJr9AAAAAAAAmv0AAAAAAACa/QAAAAAAAJr9AAAAAAAAmv0AAAAAAACa/QAAAAAAAJr9AAAAAAAAmv0AAAAAAACa/QAAAAAAAJr9AAAAAAAAmv0AAAAAAACa/QAAAAAAAJr9AAAAAAAAmv0AAAAAAACa/QAAAAAAAJr9A",
          "dtype": "f8"
         },
         "yaxis": "y"
        },
        {
         "hovertemplate": "date=2031-05-31 00:00:00<br>variable=cum_defaults<br>default_month=%{x}<br>value=%{y}<extra></extra>",
         "legendgroup": "2031-05-31 00:00:00",
         "line": {
          "color": "#E377C2",
          "dash": "solid"
         },
         "marker": {
          "symbol": "circle"
         },
         "mode": "lines",
         "name": "2031-05-31 00:00:00",
         "showlegend": false,
         "type": "scattergl",
         "x": {
          "bdata": "AQIDBAUGBwgJCgsMDQ4PEBESExQVFhcY",
          "dtype": "i1"
         },
         "xaxis": "x2",
         "y": {
          "bdata": "75oB3fpvID/vmgHd+m8gP++aAd36byA/75oB3fpvMD9naIJL+Kc4P++aAd36b0A/75oB3fpvQD9naIJL+KdIPyPPwgL3w0w/75oB3fpvUD/vmgHd+m9QP++aAd36b1A/75oB3fpvUD9NzqE4+n1SP03OoTj6fVI/CTXi7/iZVj/FmyKn97VaP8WbIqf3tVo/xZsip/e1Wj/FmyKn97VaPyPPwgL3w1w/gQJjXvbRXj+BAmNe9tFeP4ECY1720V4/",
          "dtype": "f8"
         },
         "yaxis": "y2"
        },
        {
         "hovertemplate": "date=2031-05-31 00:00:00<br>variable=default_flag<br>default_month=%{x}<br>value=%{y}<extra></extra>",
         "legendgroup": "2031-05-31 00:00:00",
         "line": {
          "color": "#E377C2",
          "dash": "solid"
         },
         "marker": {
          "symbol": "circle"
         },
         "mode": "lines",
         "name": "2031-05-31 00:00:00",
         "showlegend": false,
         "type": "scattergl",
         "x": {
          "bdata": "AQIDBAUGBwgJCgsMDQ4PEBESExQVFhcY",
          "dtype": "i1"
         },
         "xaxis": "x3",
         "y": {
          "bdata": "75oB3fpvID8AAAAAAAAAAAAAAAAAAAAA75oB3fpvID/vmgHd+m8gP++aAd36byA/AAAAAAAAAADvmgHd+m8wP++aAd36byA/75oB3fpvID8AAAAAAAAAAAAAAAAAAAAAAAAAAAAAAADvmgHd+m8gPwAAAAAAAAAA75oB3fpvMD/vmgHd+m8wPwAAAAAAAAAAAAAAAAAAAAAAAAAAAAAAAO+aAd36byA/75oB3fpvID8AAAAAAAAAAAAAAAAAAAAA",
          "dtype": "f8"
         },
         "yaxis": "y3"
        },
        {
         "hovertemplate": "date=2031-06-30 00:00:00<br>variable=id<br>default_month=%{x}<br>value=%{y}<extra></extra>",
         "legendgroup": "2031-06-30 00:00:00",
         "line": {
          "color": "#7F7F7F",
          "dash": "solid"
         },
         "marker": {
          "symbol": "circle"
         },
         "mode": "lines",
         "name": "2031-06-30 00:00:00",
         "showlegend": true,
         "type": "scattergl",
         "x": {
          "bdata": "AQIDBAUGBwgJCgsMDQ4PEBESExQVFhcY",
          "dtype": "i1"
         },
         "xaxis": "x",
         "y": {
          "bdata": "AAAAAAAlv0AAAAAAACW/QAAAAAAAJb9AAAAAAAAlv0AAAAAAACW/QAAAAAAAJb9AAAAAAAAlv0AAAAAAACW/QAAAAAAAJb9AAAAAAAAlv0AAAAAAACW/QAAAAAAAJb9AAAAAAAAlv0AAAAAAACW/QAAAAAAAJb9AAAAAAAAlv0AAAAAAACW/QAAAAAAAJb9AAAAAAAAlv0AAAAAAACW/QAAAAAAAJb9AAAAAAAAlv0AAAAAAACW/QAAAAAAAJb9A",
          "dtype": "f8"
         },
         "yaxis": "y"
        },
        {
         "hovertemplate": "date=2031-06-30 00:00:00<br>variable=cum_defaults<br>default_month=%{x}<br>value=%{y}<extra></extra>",
         "legendgroup": "2031-06-30 00:00:00",
         "line": {
          "color": "#7F7F7F",
          "dash": "solid"
         },
         "marker": {
          "symbol": "circle"
         },
         "mode": "lines",
         "name": "2031-06-30 00:00:00",
         "showlegend": false,
         "type": "scattergl",
         "x": {
          "bdata": "AQIDBAUGBwgJCgsMDQ4PEBESExQVFhcY",
          "dtype": "i1"
         },
         "xaxis": "x2",
         "y": {
          "bdata": "AAAAAAAAAAAAAAAAAAAAALmcg/mBcCA/uZyD+YFwMD8Va0X2wqg4PxVrRfbCqDg/54Pkd6KMRD8Va0X2wqhIP0NSpnTjxEw/Q1KmdOPETD9DUqZ048RMP0NSpnTjxEw/uZyD+YFwUD+5nIP5gXBQP+eD5HeijFQ/FWtF9sKoWD8Va0X2wqhYPxVrRfbCqFg/FWtF9sKoWD+s3nU107ZaP0NSpnTjxFw/Q1KmdOPEXD9DUqZ048RcP0NSpnTjxFw/",
          "dtype": "f8"
         },
         "yaxis": "y2"
        },
        {
         "hovertemplate": "date=2031-06-30 00:00:00<br>variable=default_flag<br>default_month=%{x}<br>value=%{y}<extra></extra>",
         "legendgroup": "2031-06-30 00:00:00",
         "line": {
          "color": "#7F7F7F",
          "dash": "solid"
         },
         "marker": {
          "symbol": "circle"
         },
         "mode": "lines",
         "name": "2031-06-30 00:00:00",
         "showlegend": false,
         "type": "scattergl",
         "x": {
          "bdata": "AQIDBAUGBwgJCgsMDQ4PEBESExQVFhcY",
          "dtype": "i1"
         },
         "xaxis": "x3",
         "y": {
          "bdata": "AAAAAAAAAAAAAAAAAAAAALmcg/mBcCA/uZyD+YFwID+5nIP5gXAgPwAAAAAAAAAAuZyD+YFwMD+5nIP5gXAgP7mcg/mBcCA/AAAAAAAAAAAAAAAAAAAAAAAAAAAAAAAAuZyD+YFwID8AAAAAAAAAALmcg/mBcDA/uZyD+YFwMD8AAAAAAAAAAAAAAAAAAAAAAAAAAAAAAAC5nIP5gXAgP7mcg/mBcCA/AAAAAAAAAAAAAAAAAAAAAAAAAAAAAAAA",
          "dtype": "f8"
         },
         "yaxis": "y3"
        },
        {
         "hovertemplate": "date=2031-07-31 00:00:00<br>variable=id<br>default_month=%{x}<br>value=%{y}<extra></extra>",
         "legendgroup": "2031-07-31 00:00:00",
         "line": {
          "color": "#BCBD22",
          "dash": "solid"
         },
         "marker": {
          "symbol": "circle"
         },
         "mode": "lines",
         "name": "2031-07-31 00:00:00",
         "showlegend": true,
         "type": "scattergl",
         "x": {
          "bdata": "AQIDBAUGBwgJCgsMDQ4PEBESExQVFhcY",
          "dtype": "i1"
         },
         "xaxis": "x",
         "y": {
          "bdata": "AAAAAAAlv0AAAAAAACW/QAAAAAAAJb9AAAAAAAAlv0AAAAAAACW/QAAAAAAAJb9AAAAAAAAlv0AAAAAAACW/QAAAAAAAJb9AAAAAAAAlv0AAAAAAACW/QAAAAAAAJb9AAAAAAAAlv0AAAAAAACW/QAAAAAAAJb9AAAAAAAAlv0AAAAAAACW/QAAAAAAAJb9AAAAAAAAlv0AAAAAAACW/QAAAAAAAJb9AAAAAAAAlv0AAAAAAACW/QAAAAAAAJb9A",
          "dtype": "f8"
         },
         "yaxis": "y"
        },
        {
         "hovertemplate": "date=2031-07-31 00:00:00<br>variable=cum_defaults<br>default_month=%{x}<br>value=%{y}<extra></extra>",
         "legendgroup": "2031-07-31 00:00:00",
         "line": {
          "color": "#BCBD22",
          "dash": "solid"
         },
         "marker": {
          "symbol": "circle"
         },
         "mode": "lines",
         "name": "2031-07-31 00:00:00",
         "showlegend": false,
         "type": "scattergl",
         "x": {
          "bdata": "AQIDBAUGBwgJCgsMDQ4PEBESExQVFhcY",
          "dtype": "i1"
         },
         "xaxis": "x2",
         "y": {
          "bdata": "AAAAAAAAAAC5nIP5gXAgP7mcg/mBcDA/FWtF9sKoOD8Va0X2wqg4P+eD5HeijEQ/FWtF9sKoSD9DUqZ048RMP0NSpnTjxEw/Q1KmdOPETD9DUqZ048RMP7mcg/mBcFA/uZyD+YFwUD/ng+R3ooxUPxVrRfbCqFg/FWtF9sKoWD8Va0X2wqhYPxVrRfbCqFg/rN51NdO2Wj9DUqZ048RcP0NSpnTjxFw/Q1KmdOPEXD9DUqZ048RcP0NSpnTjxFw/",
          "dtype": "f8"
         },
         "yaxis": "y2"
        },
        {
         "hovertemplate": "date=2031-07-31 00:00:00<br>variable=default_flag<br>default_month=%{x}<br>value=%{y}<extra></extra>",
         "legendgroup": "2031-07-31 00:00:00",
         "line": {
          "color": "#BCBD22",
          "dash": "solid"
         },
         "marker": {
          "symbol": "circle"
         },
         "mode": "lines",
         "name": "2031-07-31 00:00:00",
         "showlegend": false,
         "type": "scattergl",
         "x": {
          "bdata": "AQIDBAUGBwgJCgsMDQ4PEBESExQVFhcY",
          "dtype": "i1"
         },
         "xaxis": "x3",
         "y": {
          "bdata": "AAAAAAAAAAC5nIP5gXAgP7mcg/mBcCA/uZyD+YFwID8AAAAAAAAAALmcg/mBcDA/uZyD+YFwID+5nIP5gXAgPwAAAAAAAAAAAAAAAAAAAAAAAAAAAAAAALmcg/mBcCA/AAAAAAAAAAC5nIP5gXAwP7mcg/mBcDA/AAAAAAAAAAAAAAAAAAAAAAAAAAAAAAAAuZyD+YFwID+5nIP5gXAgPwAAAAAAAAAAAAAAAAAAAAAAAAAAAAAAAAAAAAAAAAAA",
          "dtype": "f8"
         },
         "yaxis": "y3"
        },
        {
         "hovertemplate": "date=2031-08-31 00:00:00<br>variable=id<br>default_month=%{x}<br>value=%{y}<extra></extra>",
         "legendgroup": "2031-08-31 00:00:00",
         "line": {
          "color": "#17BECF",
          "dash": "solid"
         },
         "marker": {
          "symbol": "circle"
         },
         "mode": "lines",
         "name": "2031-08-31 00:00:00",
         "showlegend": true,
         "type": "scattergl",
         "x": {
          "bdata": "AQIDBAUGBwgJCgsMDQ4PEBESExQVFhcY",
          "dtype": "i1"
         },
         "xaxis": "x",
         "y": {
          "bdata": "AAAAAAAlv0AAAAAAACW/QAAAAAAAJb9AAAAAAAAlv0AAAAAAACW/QAAAAAAAJb9AAAAAAAAlv0AAAAAAACW/QAAAAAAAJb9AAAAAAAAlv0AAAAAAACW/QAAAAAAAJb9AAAAAAAAlv0AAAAAAACW/QAAAAAAAJb9AAAAAAAAlv0AAAAAAACW/QAAAAAAAJb9AAAAAAAAlv0AAAAAAACW/QAAAAAAAJb9AAAAAAAAlv0AAAAAAACW/QAAAAAAAJb9A",
          "dtype": "f8"
         },
         "yaxis": "y"
        },
        {
         "hovertemplate": "date=2031-08-31 00:00:00<br>variable=cum_defaults<br>default_month=%{x}<br>value=%{y}<extra></extra>",
         "legendgroup": "2031-08-31 00:00:00",
         "line": {
          "color": "#17BECF",
          "dash": "solid"
         },
         "marker": {
          "symbol": "circle"
         },
         "mode": "lines",
         "name": "2031-08-31 00:00:00",
         "showlegend": false,
         "type": "scattergl",
         "x": {
          "bdata": "AQIDBAUGBwgJCgsMDQ4PEBESExQVFhcY",
          "dtype": "i1"
         },
         "xaxis": "x2",
         "y": {
          "bdata": "uZyD+YFwID+5nIP5gXAwPxVrRfbCqDg/FWtF9sKoOD/ng+R3ooxEPxVrRfbCqEg/Q1KmdOPETD9DUqZ048RMP0NSpnTjxEw/Q1KmdOPETD+5nIP5gXBQP7mcg/mBcFA/54Pkd6KMVD8Va0X2wqhYPxVrRfbCqFg/FWtF9sKoWD8Va0X2wqhYP6zedTXTtlo/Q1KmdOPEXD9DUqZ048RcP0NSpnTjxFw/Q1KmdOPEXD9DUqZ048RcP0NSpnTjxFw/",
          "dtype": "f8"
         },
         "yaxis": "y2"
        },
        {
         "hovertemplate": "date=2031-08-31 00:00:00<br>variable=default_flag<br>default_month=%{x}<br>value=%{y}<extra></extra>",
         "legendgroup": "2031-08-31 00:00:00",
         "line": {
          "color": "#17BECF",
          "dash": "solid"
         },
         "marker": {
          "symbol": "circle"
         },
         "mode": "lines",
         "name": "2031-08-31 00:00:00",
         "showlegend": false,
         "type": "scattergl",
         "x": {
          "bdata": "AQIDBAUGBwgJCgsMDQ4PEBESExQVFhcY",
          "dtype": "i1"
         },
         "xaxis": "x3",
         "y": {
          "bdata": "uZyD+YFwID+5nIP5gXAgP7mcg/mBcCA/AAAAAAAAAAC5nIP5gXAwP7mcg/mBcCA/uZyD+YFwID8AAAAAAAAAAAAAAAAAAAAAAAAAAAAAAAC5nIP5gXAgPwAAAAAAAAAAuZyD+YFwMD+5nIP5gXAwPwAAAAAAAAAAAAAAAAAAAAAAAAAAAAAAALmcg/mBcCA/uZyD+YFwID8AAAAAAAAAAAAAAAAAAAAAAAAAAAAAAAAAAAAAAAAAAAAAAAAAAAAA",
          "dtype": "f8"
         },
         "yaxis": "y3"
        },
        {
         "hovertemplate": "date=2031-09-30 00:00:00<br>variable=id<br>default_month=%{x}<br>value=%{y}<extra></extra>",
         "legendgroup": "2031-09-30 00:00:00",
         "line": {
          "color": "#1F77B4",
          "dash": "solid"
         },
         "marker": {
          "symbol": "circle"
         },
         "mode": "lines",
         "name": "2031-09-30 00:00:00",
         "showlegend": true,
         "type": "scattergl",
         "x": {
          "bdata": "AQIDBAUGBwgJCgsMDQ4PEBESExQVFhcY",
          "dtype": "i1"
         },
         "xaxis": "x",
         "y": {
          "bdata": "AAAAAAAkv0AAAAAAACS/QAAAAAAAJL9AAAAAAAAkv0AAAAAAACS/QAAAAAAAJL9AAAAAAAAkv0AAAAAAACS/QAAAAAAAJL9AAAAAAAAkv0AAAAAAACS/QAAAAAAAJL9AAAAAAAAkv0AAAAAAACS/QAAAAAAAJL9AAAAAAAAkv0AAAAAAACS/QAAAAAAAJL9AAAAAAAAkv0AAAAAAACS/QAAAAAAAJL9AAAAAAAAkv0AAAAAAACS/QAAAAAAAJL9A",
          "dtype": "f8"
         },
         "yaxis": "y"
        },
        {
         "hovertemplate": "date=2031-09-30 00:00:00<br>variable=cum_defaults<br>default_month=%{x}<br>value=%{y}<extra></extra>",
         "legendgroup": "2031-09-30 00:00:00",
         "line": {
          "color": "#1F77B4",
          "dash": "solid"
         },
         "marker": {
          "symbol": "circle"
         },
         "mode": "lines",
         "name": "2031-09-30 00:00:00",
         "showlegend": false,
         "type": "scattergl",
         "x": {
          "bdata": "AQIDBAUGBwgJCgsMDQ4PEBESExQVFhcY",
          "dtype": "i1"
         },
         "xaxis": "x2",
         "y": {
          "bdata": "Bw+zHglxID8HD7MeCXEwPwcPsx4JcTA/Bw+zHglxQD/J0l9mS41EP4uWDK6NqUg/i5YMro2pSD+LlgyujalIP4uWDK6NqUg/TVq59c/FTD9NWrn1z8VMP+hwiUIqf1I/qjQ2imybVj+qNDaKbJtWP6o0Nopsm1Y/qjQ2imybVj+LlgyujalYP2z44tGut1o/bPji0a63Wj9s+OLRrrdaP2z44tGut1o/bPji0a63Wj9s+OLRrrdaP2z44tGut1o/",
          "dtype": "f8"
         },
         "yaxis": "y2"
        },
        {
         "hovertemplate": "date=2031-09-30 00:00:00<br>variable=default_flag<br>default_month=%{x}<br>value=%{y}<extra></extra>",
         "legendgroup": "2031-09-30 00:00:00",
         "line": {
          "color": "#1F77B4",
          "dash": "solid"
         },
         "marker": {
          "symbol": "circle"
         },
         "mode": "lines",
         "name": "2031-09-30 00:00:00",
         "showlegend": false,
         "type": "scattergl",
         "x": {
          "bdata": "AQIDBAUGBwgJCgsMDQ4PEBESExQVFhcY",
          "dtype": "i1"
         },
         "xaxis": "x3",
         "y": {
          "bdata": "Bw+zHglxID8HD7MeCXEgPwAAAAAAAAAABw+zHglxMD8HD7MeCXEgPwcPsx4JcSA/AAAAAAAAAAAAAAAAAAAAAAAAAAAAAAAABw+zHglxID8AAAAAAAAAAAcPsx4JcTA/Bw+zHglxMD8AAAAAAAAAAAAAAAAAAAAAAAAAAAAAAAAHD7MeCXEgPwcPsx4JcSA/AAAAAAAAAAAAAAAAAAAAAAAAAAAAAAAAAAAAAAAAAAAAAAAAAAAAAAAAAAAAAAAA",
          "dtype": "f8"
         },
         "yaxis": "y3"
        },
        {
         "hovertemplate": "date=2031-10-31 00:00:00<br>variable=id<br>default_month=%{x}<br>value=%{y}<extra></extra>",
         "legendgroup": "2031-10-31 00:00:00",
         "line": {
          "color": "#FF7F0E",
          "dash": "solid"
         },
         "marker": {
          "symbol": "circle"
         },
         "mode": "lines",
         "name": "2031-10-31 00:00:00",
         "showlegend": true,
         "type": "scattergl",
         "x": {
          "bdata": "AQIDBAUGBwgJCgsMDQ4PEBESExQVFhcY",
          "dtype": "i1"
         },
         "xaxis": "x",
         "y": {
          "bdata": "AAAAAAAjv0AAAAAAACO/QAAAAAAAI79AAAAAAAAjv0AAAAAAACO/QAAAAAAAI79AAAAAAAAjv0AAAAAAACO/QAAAAAAAI79AAAAAAAAjv0AAAAAAACO/QAAAAAAAI79AAAAAAAAjv0AAAAAAACO/QAAAAAAAI79AAAAAAAAjv0AAAAAAACO/QAAAAAAAI79AAAAAAAAjv0AAAAAAACO/QAAAAAAAI79AAAAAAAAjv0AAAAAAACO/QAAAAAAAI79A",
          "dtype": "f8"
         },
         "yaxis": "y"
        },
        {
         "hovertemplate": "date=2031-10-31 00:00:00<br>variable=cum_defaults<br>default_month=%{x}<br>value=%{y}<extra></extra>",
         "legendgroup": "2031-10-31 00:00:00",
         "line": {
          "color": "#FF7F0E",
          "dash": "solid"
         },
         "marker": {
          "symbol": "circle"
         },
         "mode": "lines",
         "name": "2031-10-31 00:00:00",
         "showlegend": false,
         "type": "scattergl",
         "x": {
          "bdata": "AQIDBAUGBwgJCgsMDQ4PEBESExQVFhcY",
          "dtype": "i1"
         },
         "xaxis": "x2",
         "y": {
          "bdata": "5ceQTJBxID/lx5BMkHEgP9cr2XJYqjg/5ceQTJBxQD/e+bRf9I1EP975tF/0jUQ/3vm0X/SNRD/e+bRf9I1EP9cr2XJYqkg/1yvZcliqSD/lx5BMkHFQP975tF/0jVQ/3vm0X/SNVD/e+bRf9I1UP975tF/0jVQ/2hJHaSacVj/XK9lyWKpYP9cr2XJYqlg/1yvZcliqWD/XK9lyWKpYP9cr2XJYqlg/1yvZcliqWD/XK9lyWKpYP9NEa3yKuFo/",
          "dtype": "f8"
         },
         "yaxis": "y2"
        },
        {
         "hovertemplate": "date=2031-10-31 00:00:00<br>variable=default_flag<br>default_month=%{x}<br>value=%{y}<extra></extra>",
         "legendgroup": "2031-10-31 00:00:00",
         "line": {
          "color": "#FF7F0E",
          "dash": "solid"
         },
         "marker": {
          "symbol": "circle"
         },
         "mode": "lines",
         "name": "2031-10-31 00:00:00",
         "showlegend": false,
         "type": "scattergl",
         "x": {
          "bdata": "AQIDBAUGBwgJCgsMDQ4PEBESExQVFhcY",
          "dtype": "i1"
         },
         "xaxis": "x3",
         "y": {
          "bdata": "5ceQTJBxID8AAAAAAAAAAOXHkEyQcTA/5ceQTJBxID/lx5BMkHEgPwAAAAAAAAAAAAAAAAAAAAAAAAAAAAAAAOXHkEyQcSA/AAAAAAAAAADlx5BMkHEwP+XHkEyQcTA/AAAAAAAAAAAAAAAAAAAAAAAAAAAAAAAA5ceQTJBxID/lx5BMkHEgPwAAAAAAAAAAAAAAAAAAAAAAAAAAAAAAAAAAAAAAAAAAAAAAAAAAAAAAAAAAAAAAAOXHkEyQcSA/",
          "dtype": "f8"
         },
         "yaxis": "y3"
        },
        {
         "hovertemplate": "date=2031-11-30 00:00:00<br>variable=id<br>default_month=%{x}<br>value=%{y}<extra></extra>",
         "legendgroup": "2031-11-30 00:00:00",
         "line": {
          "color": "#2CA02C",
          "dash": "solid"
         },
         "marker": {
          "symbol": "circle"
         },
         "mode": "lines",
         "name": "2031-11-30 00:00:00",
         "showlegend": true,
         "type": "scattergl",
         "x": {
          "bdata": "AQIDBAUGBwgJCgsMDQ4PEBESExQVFhcY",
          "dtype": "i1"
         },
         "xaxis": "x",
         "y": {
          "bdata": "AAAAAAAiv0AAAAAAACK/QAAAAAAAIr9AAAAAAAAiv0AAAAAAACK/QAAAAAAAIr9AAAAAAAAiv0AAAAAAACK/QAAAAAAAIr9AAAAAAAAiv0AAAAAAACK/QAAAAAAAIr9AAAAAAAAiv0AAAAAAACK/QAAAAAAAIr9AAAAAAAAiv0AAAAAAACK/QAAAAAAAIr9AAAAAAAAiv0AAAAAAACK/QAAAAAAAIr9AAAAAAAAiv0AAAAAAACK/QAAAAAAAIr9A",
          "dtype": "f8"
         },
         "yaxis": "y"
        },
        {
         "hovertemplate": "date=2031-11-30 00:00:00<br>variable=cum_defaults<br>default_month=%{x}<br>value=%{y}<extra></extra>",
         "legendgroup": "2031-11-30 00:00:00",
         "line": {
          "color": "#2CA02C",
          "dash": "solid"
         },
         "marker": {
          "symbol": "circle"
         },
         "mode": "lines",
         "name": "2031-11-30 00:00:00",
         "showlegend": false,
         "type": "scattergl",
         "x": {
          "bdata": "AQIDBAUGBwgJCgsMDQ4PEBESExQVFhcY",
          "dtype": "i1"
         },
         "xaxis": "x2",
         "y": {
          "bdata": "AAAAAAAAAAB0nR2DF3IwPy9srEQjqzg/dJ0dgxdyQD90nR2DF3JAP3SdHYMXckA/dJ0dgxdyQD/RBOVjnY5EP9EE5WOdjkQ/jNNzJanHTD8jUYFzWoBSPyNRgXNagFI/I1GBc1qAUj8jUYFzWoBSP9EE5WOdjlQ/gLhIVOCcVj+AuEhU4JxWP4C4SFTgnFY/gLhIVOCcVj+AuEhU4JxWP4C4SFTgnFY/gLhIVOCcVj8vbKxEI6tYPy9srEQjq1g/",
          "dtype": "f8"
         },
         "yaxis": "y2"
        },
        {
         "hovertemplate": "date=2031-11-30 00:00:00<br>variable=default_flag<br>default_month=%{x}<br>value=%{y}<extra></extra>",
         "legendgroup": "2031-11-30 00:00:00",
         "line": {
          "color": "#2CA02C",
          "dash": "solid"
         },
         "marker": {
          "symbol": "circle"
         },
         "mode": "lines",
         "name": "2031-11-30 00:00:00",
         "showlegend": false,
         "type": "scattergl",
         "x": {
          "bdata": "AQIDBAUGBwgJCgsMDQ4PEBESExQVFhcY",
          "dtype": "i1"
         },
         "xaxis": "x3",
         "y": {
          "bdata": "AAAAAAAAAAB0nR2DF3IwP3SdHYMXciA/dJ0dgxdyID8AAAAAAAAAAAAAAAAAAAAAAAAAAAAAAAB0nR2DF3IgPwAAAAAAAAAAdJ0dgxdyMD90nR2DF3IwPwAAAAAAAAAAAAAAAAAAAAAAAAAAAAAAAHSdHYMXciA/dJ0dgxdyID8AAAAAAAAAAAAAAAAAAAAAAAAAAAAAAAAAAAAAAAAAAAAAAAAAAAAAAAAAAAAAAAB0nR2DF3IgPwAAAAAAAAAA",
          "dtype": "f8"
         },
         "yaxis": "y3"
        },
        {
         "hovertemplate": "date=2031-12-31 00:00:00<br>variable=id<br>default_month=%{x}<br>value=%{y}<extra></extra>",
         "legendgroup": "2031-12-31 00:00:00",
         "line": {
          "color": "#D62728",
          "dash": "solid"
         },
         "marker": {
          "symbol": "circle"
         },
         "mode": "lines",
         "name": "2031-12-31 00:00:00",
         "showlegend": true,
         "type": "scattergl",
         "x": {
          "bdata": "AQIDBAUGBwgJCgsMDQ4PEBESExQVFhcY",
          "dtype": "i1"
         },
         "xaxis": "x",
         "y": {
          "bdata": "AAAAAAAiv0AAAAAAACK/QAAAAAAAIr9AAAAAAAAiv0AAAAAAACK/QAAAAAAAIr9AAAAAAAAiv0AAAAAAACK/QAAAAAAAIr9AAAAAAAAiv0AAAAAAACK/QAAAAAAAIr9AAAAAAAAiv0AAAAAAACK/QAAAAAAAIr9AAAAAAAAiv0AAAAAAACK/QAAAAAAAIr9AAAAAAAAiv0AAAAAAACK/QAAAAAAAIr9AAAAAAAAiv0AAAAAAACK/QAAAAAAAIr9A",
          "dtype": "f8"
         },
         "yaxis": "y"
        },
        {
         "hovertemplate": "date=2031-12-31 00:00:00<br>variable=cum_defaults<br>default_month=%{x}<br>value=%{y}<extra></extra>",
         "legendgroup": "2031-12-31 00:00:00",
         "line": {
          "color": "#D62728",
          "dash": "solid"
         },
         "marker": {
          "symbol": "circle"
         },
         "mode": "lines",
         "name": "2031-12-31 00:00:00",
         "showlegend": false,
         "type": "scattergl",
         "x": {
          "bdata": "AQIDBAUGBwgJCgsMDQ4PEBESExQVFhcY",
          "dtype": "i1"
         },
         "xaxis": "x2",
         "y": {
          "bdata": "dJ0dgxdyMD8vbKxEI6s4P3SdHYMXckA/dJ0dgxdyQD90nR2DF3JAP3SdHYMXckA/0QTlY52ORD/RBOVjnY5EP4zTcyWpx0w/I1GBc1qAUj8jUYFzWoBSPyNRgXNagFI/I1GBc1qAUj/RBOVjnY5UP4C4SFTgnFY/gLhIVOCcVj+AuEhU4JxWP4C4SFTgnFY/gLhIVOCcVj+AuEhU4JxWP4C4SFTgnFY/L2ysRCOrWD8vbKxEI6tYP90fEDVmuVo/",
          "dtype": "f8"
         },
         "yaxis": "y2"
        },
        {
         "hovertemplate": "date=2031-12-31 00:00:00<br>variable=default_flag<br>default_month=%{x}<br>value=%{y}<extra></extra>",
         "legendgroup": "2031-12-31 00:00:00",
         "line": {
          "color": "#D62728",
          "dash": "solid"
         },
         "marker": {
          "symbol": "circle"
         },
         "mode": "lines",
         "name": "2031-12-31 00:00:00",
         "showlegend": false,
         "type": "scattergl",
         "x": {
          "bdata": "AQIDBAUGBwgJCgsMDQ4PEBESExQVFhcY",
          "dtype": "i1"
         },
         "xaxis": "x3",
         "y": {
          "bdata": "dJ0dgxdyMD90nR2DF3IgP3SdHYMXciA/AAAAAAAAAAAAAAAAAAAAAAAAAAAAAAAAdJ0dgxdyID8AAAAAAAAAAHSdHYMXcjA/dJ0dgxdyMD8AAAAAAAAAAAAAAAAAAAAAAAAAAAAAAAB0nR2DF3IgP3SdHYMXciA/AAAAAAAAAAAAAAAAAAAAAAAAAAAAAAAAAAAAAAAAAAAAAAAAAAAAAAAAAAAAAAAAdJ0dgxdyID8AAAAAAAAAAHSdHYMXciA/",
          "dtype": "f8"
         },
         "yaxis": "y3"
        },
        {
         "hovertemplate": "date=2032-01-31 00:00:00<br>variable=id<br>default_month=%{x}<br>value=%{y}<extra></extra>",
         "legendgroup": "2032-01-31 00:00:00",
         "line": {
          "color": "#9467BD",
          "dash": "solid"
         },
         "marker": {
          "symbol": "circle"
         },
         "mode": "lines",
         "name": "2032-01-31 00:00:00",
         "showlegend": true,
         "type": "scattergl",
         "x": {
          "bdata": "AQIDBAUGBwgJCgsMDQ4PEBESExQVFhcY",
          "dtype": "i1"
         },
         "xaxis": "x",
         "y": {
          "bdata": "AAAAAAAgv0AAAAAAACC/QAAAAAAAIL9AAAAAAAAgv0AAAAAAACC/QAAAAAAAIL9AAAAAAAAgv0AAAAAAACC/QAAAAAAAIL9AAAAAAAAgv0AAAAAAACC/QAAAAAAAIL9AAAAAAAAgv0AAAAAAACC/QAAAAAAAIL9AAAAAAAAgv0AAAAAAACC/QAAAAAAAIL9AAAAAAAAgv0AAAAAAACC/QAAAAAAAIL9AAAAAAAAgv0AAAAAAACC/QAAAAAAAIL9A",
          "dtype": "f8"
         },
         "yaxis": "y"
        },
        {
         "hovertemplate": "date=2032-01-31 00:00:00<br>variable=cum_defaults<br>default_month=%{x}<br>value=%{y}<extra></extra>",
         "legendgroup": "2032-01-31 00:00:00",
         "line": {
          "color": "#9467BD",
          "dash": "solid"
         },
         "marker": {
          "symbol": "circle"
         },
         "mode": "lines",
         "name": "2032-01-31 00:00:00",
         "showlegend": false,
         "type": "scattergl",
         "x": {
          "bdata": "AQIDBAUGBwgJCgsMDQ4PEBESExQVFhcY",
          "dtype": "i1"
         },
         "xaxis": "x2",
         "y": {
          "bdata": "xvdHCiZzID/G90cKJnMwP8b3RwomczA/xvdHCiZzMD/G90cKJnMwP6rzaw+5rDg/qvNrD7msOD+49dmM749EP5vx/ZGCyUw/m/H9kYLJTD+b8f2RgslMP5vx/ZGCyUw/xvdHCiZzUD+/9pDLioFSP7/2kMuKgVI/v/aQy4qBUj+/9pDLioFSP7/2kMuKgVI/v/aQy4qBUj+/9pDLioFSP7j12Yzvj1Q/uPXZjO+PVD+x9CJOVJ5WP7H0Ik5UnlY/",
          "dtype": "f8"
         },
         "yaxis": "y2"
        },
        {
         "hovertemplate": "date=2032-01-31 00:00:00<br>variable=default_flag<br>default_month=%{x}<br>value=%{y}<extra></extra>",
         "legendgroup": "2032-01-31 00:00:00",
         "line": {
          "color": "#9467BD",
          "dash": "solid"
         },
         "marker": {
          "symbol": "circle"
         },
         "mode": "lines",
         "name": "2032-01-31 00:00:00",
         "showlegend": false,
         "type": "scattergl",
         "x": {
          "bdata": "AQIDBAUGBwgJCgsMDQ4PEBESExQVFhcY",
          "dtype": "i1"
         },
         "xaxis": "x3",
         "y": {
          "bdata": "xvdHCiZzID/G90cKJnMgPwAAAAAAAAAAAAAAAAAAAAAAAAAAAAAAAMb3RwomcyA/AAAAAAAAAADG90cKJnMwP8b3RwomczA/AAAAAAAAAAAAAAAAAAAAAAAAAAAAAAAAxvdHCiZzID/G90cKJnMgPwAAAAAAAAAAAAAAAAAAAAAAAAAAAAAAAAAAAAAAAAAAAAAAAAAAAAAAAAAAAAAAAMb3RwomcyA/AAAAAAAAAADG90cKJnMgPwAAAAAAAAAA",
          "dtype": "f8"
         },
         "yaxis": "y3"
        },
        {
         "hovertemplate": "date=2032-02-29 00:00:00<br>variable=id<br>default_month=%{x}<br>value=%{y}<extra></extra>",
         "legendgroup": "2032-02-29 00:00:00",
         "line": {
          "color": "#8C564B",
          "dash": "solid"
         },
         "marker": {
          "symbol": "circle"
         },
         "mode": "lines",
         "name": "2032-02-29 00:00:00",
         "showlegend": true,
         "type": "scattergl",
         "x": {
          "bdata": "AQIDBAUGBwgJCgsMDQ4PEBESExQVFhcY",
          "dtype": "i1"
         },
         "xaxis": "x",
         "y": {
          "bdata": "AAAAAAAfv0AAAAAAAB+/QAAAAAAAH79AAAAAAAAfv0AAAAAAAB+/QAAAAAAAH79AAAAAAAAfv0AAAAAAAB+/QAAAAAAAH79AAAAAAAAfv0AAAAAAAB+/QAAAAAAAH79AAAAAAAAfv0AAAAAAAB+/QAAAAAAAH79AAAAAAAAfv0AAAAAAAB+/QAAAAAAAH79AAAAAAAAfv0AAAAAAAB+/QAAAAAAAH79AAAAAAAAfv0AAAAAAAB+/QAAAAAAAH79A",
          "dtype": "f8"
         },
         "yaxis": "y"
        },
        {
         "hovertemplate": "date=2032-02-29 00:00:00<br>variable=cum_defaults<br>default_month=%{x}<br>value=%{y}<extra></extra>",
         "legendgroup": "2032-02-29 00:00:00",
         "line": {
          "color": "#8C564B",
          "dash": "solid"
         },
         "marker": {
          "symbol": "circle"
         },
         "mode": "lines",
         "name": "2032-02-29 00:00:00",
         "showlegend": false,
         "type": "scattergl",
         "x": {
          "bdata": "AQIDBAUGBwgJCgsMDQ4PEBESExQVFhcY",
          "dtype": "i1"
         },
         "xaxis": "x2",
         "y": {
          "bdata": "WynnWq1zID9bKedarXMgP1sp51qtcyA/WynnWq1zID9bKedarXMwP1sp51qtczA/WynnWq1zQD8IvloIhK1IPwi+WgiErUg/CL5aCIStSD8IvloIhK1IP1+IFF9vykw/WynnWq1zUD9bKedarXNQP1sp51qtc1A/WynnWq1zUD9bKedarXNQP1sp51qtc1A/WynnWq1zUD+GDkQGI4JSP4YORAYjglI/sfOgsZiQVD+x86CxmJBUP7HzoLGYkFQ/",
          "dtype": "f8"
         },
         "yaxis": "y2"
        },
        {
         "hovertemplate": "date=2032-02-29 00:00:00<br>variable=default_flag<br>default_month=%{x}<br>value=%{y}<extra></extra>",
         "legendgroup": "2032-02-29 00:00:00",
         "line": {
          "color": "#8C564B",
          "dash": "solid"
         },
         "marker": {
          "symbol": "circle"
         },
         "mode": "lines",
         "name": "2032-02-29 00:00:00",
         "showlegend": false,
         "type": "scattergl",
         "x": {
          "bdata": "AQIDBAUGBwgJCgsMDQ4PEBESExQVFhcY",
          "dtype": "i1"
         },
         "xaxis": "x3",
         "y": {
          "bdata": "WynnWq1zID8AAAAAAAAAAAAAAAAAAAAAAAAAAAAAAABbKedarXMgPwAAAAAAAAAAWynnWq1zMD9bKedarXMwPwAAAAAAAAAAAAAAAAAAAAAAAAAAAAAAAFsp51qtcyA/WynnWq1zID8AAAAAAAAAAAAAAAAAAAAAAAAAAAAAAAAAAAAAAAAAAAAAAAAAAAAAAAAAAAAAAABbKedarXMgPwAAAAAAAAAAWynnWq1zID8AAAAAAAAAAAAAAAAAAAAA",
          "dtype": "f8"
         },
         "yaxis": "y3"
        },
        {
         "hovertemplate": "date=2032-03-31 00:00:00<br>variable=id<br>default_month=%{x}<br>value=%{y}<extra></extra>",
         "legendgroup": "2032-03-31 00:00:00",
         "line": {
          "color": "#E377C2",
          "dash": "solid"
         },
         "marker": {
          "symbol": "circle"
         },
         "mode": "lines",
         "name": "2032-03-31 00:00:00",
         "showlegend": true,
         "type": "scattergl",
         "x": {
          "bdata": "AQIDBAUGBwgJCgsMDQ4PEBESExQVFhcY",
          "dtype": "i1"
         },
         "xaxis": "x",
         "y": {
          "bdata": "AAAAAAAev0AAAAAAAB6/QAAAAAAAHr9AAAAAAAAev0AAAAAAAB6/QAAAAAAAHr9AAAAAAAAev0AAAAAAAB6/QAAAAAAAHr9AAAAAAAAev0AAAAAAAB6/QAAAAAAAHr9AAAAAAAAev0AAAAAAAB6/QAAAAAAAHr9AAAAAAAAev0AAAAAAAB6/QAAAAAAAHr9AAAAAAAAev0AAAAAAAB6/QAAAAAAAHr9AAAAAAAAev0AAAAAAAB6/QAAAAAAAHr9A",
          "dtype": "f8"
         },
         "yaxis": "y"
        },
        {
         "hovertemplate": "date=2032-03-31 00:00:00<br>variable=cum_defaults<br>default_month=%{x}<br>value=%{y}<extra></extra>",
         "legendgroup": "2032-03-31 00:00:00",
         "line": {
          "color": "#E377C2",
          "dash": "solid"
         },
         "marker": {
          "symbol": "circle"
         },
         "mode": "lines",
         "name": "2032-03-31 00:00:00",
         "showlegend": false,
         "type": "scattergl",
         "x": {
          "bdata": "AQIDBAUGBwgJCgsMDQ4PEBESExQVFhcY",
          "dtype": "i1"
         },
         "xaxis": "x2",
         "y": {
          "bdata": "AAAAAAAAAAAAAAAAAAAAAAAAAAAAAAAARtE4tDR0ID9G0Ti0NHQgP+k5VQ5Prjg/lwVH4UGRRD+XBUfhQZFEP5cFR+FBkUQ/lwVH4UGRRD/pOVUOT65IPzpuYztcy0w/Om5jO1zLTD86bmM7XMtMPzpuYztcy0w/Om5jO1zLTD86bmM7XMtMPzpuYztcy0w/RtE4tDR0UD9G0Ti0NHRQP2/rv0q7glI/b+u/SruCUj9v679Ku4JSP2/rv0q7glI/",
          "dtype": "f8"
         },
         "yaxis": "y2"
        },
        {
         "hovertemplate": "date=2032-03-31 00:00:00<br>variable=default_flag<br>default_month=%{x}<br>value=%{y}<extra></extra>",
         "legendgroup": "2032-03-31 00:00:00",
         "line": {
          "color": "#E377C2",
          "dash": "solid"
         },
         "marker": {
          "symbol": "circle"
         },
         "mode": "lines",
         "name": "2032-03-31 00:00:00",
         "showlegend": false,
         "type": "scattergl",
         "x": {
          "bdata": "AQIDBAUGBwgJCgsMDQ4PEBESExQVFhcY",
          "dtype": "i1"
         },
         "xaxis": "x3",
         "y": {
          "bdata": "AAAAAAAAAAAAAAAAAAAAAAAAAAAAAAAARtE4tDR0ID8AAAAAAAAAAEbROLQ0dDA/RtE4tDR0MD8AAAAAAAAAAAAAAAAAAAAAAAAAAAAAAABG0Ti0NHQgP0bROLQ0dCA/AAAAAAAAAAAAAAAAAAAAAAAAAAAAAAAAAAAAAAAAAAAAAAAAAAAAAAAAAAAAAAAARtE4tDR0ID8AAAAAAAAAAEbROLQ0dCA/AAAAAAAAAAAAAAAAAAAAAAAAAAAAAAAA",
          "dtype": "f8"
         },
         "yaxis": "y3"
        },
        {
         "hovertemplate": "date=2032-04-30 00:00:00<br>variable=id<br>default_month=%{x}<br>value=%{y}<extra></extra>",
         "legendgroup": "2032-04-30 00:00:00",
         "line": {
          "color": "#7F7F7F",
          "dash": "solid"
         },
         "marker": {
          "symbol": "circle"
         },
         "mode": "lines",
         "name": "2032-04-30 00:00:00",
         "showlegend": true,
         "type": "scattergl",
         "x": {
          "bdata": "AQIDBAUGBwgJCgsMDQ4PEBESExQVFhcY",
          "dtype": "i1"
         },
         "xaxis": "x",
         "y": {
          "bdata": "AAAAAAAev0AAAAAAAB6/QAAAAAAAHr9AAAAAAAAev0AAAAAAAB6/QAAAAAAAHr9AAAAAAAAev0AAAAAAAB6/QAAAAAAAHr9AAAAAAAAev0AAAAAAAB6/QAAAAAAAHr9AAAAAAAAev0AAAAAAAB6/QAAAAAAAHr9AAAAAAAAev0AAAAAAAB6/QAAAAAAAHr9AAAAAAAAev0AAAAAAAB6/QAAAAAAAHr9AAAAAAAAev0AAAAAAAB6/QAAAAAAAHr9A",
          "dtype": "f8"
         },
         "yaxis": "y"
        },
        {
         "hovertemplate": "date=2032-04-30 00:00:00<br>variable=cum_defaults<br>default_month=%{x}<br>value=%{y}<extra></extra>",
         "legendgroup": "2032-04-30 00:00:00",
         "line": {
          "color": "#7F7F7F",
          "dash": "solid"
         },
         "marker": {
          "symbol": "circle"
         },
         "mode": "lines",
         "name": "2032-04-30 00:00:00",
         "showlegend": false,
         "type": "scattergl",
         "x": {
          "bdata": "AQIDBAUGBwgJCgsMDQ4PEBESExQVFhcY",
          "dtype": "i1"
         },
         "xaxis": "x2",
         "y": {
          "bdata": "AAAAAAAAAAAAAAAAAAAAAEbROLQ0dCA/RtE4tDR0ID/pOVUOT644P5cFR+FBkUQ/lwVH4UGRRD+XBUfhQZFEP5cFR+FBkUQ/6TlVDk+uSD86bmM7XMtMPzpuYztcy0w/Om5jO1zLTD86bmM7XMtMPzpuYztcy0w/Om5jO1zLTD86bmM7XMtMP0bROLQ0dFA/RtE4tDR0UD9v679Ku4JSP2/rv0q7glI/b+u/SruCUj9v679Ku4JSP2/rv0q7glI/",
          "dtype": "f8"
         },
         "yaxis": "y2"
        },
        {
         "hovertemplate": "date=2032-04-30 00:00:00<br>variable=default_flag<br>default_month=%{x}<br>value=%{y}<extra></extra>",
         "legendgroup": "2032-04-30 00:00:00",
         "line": {
          "color": "#7F7F7F",
          "dash": "solid"
         },
         "marker": {
          "symbol": "circle"
         },
         "mode": "lines",
         "name": "2032-04-30 00:00:00",
         "showlegend": false,
         "type": "scattergl",
         "x": {
          "bdata": "AQIDBAUGBwgJCgsMDQ4PEBESExQVFhcY",
          "dtype": "i1"
         },
         "xaxis": "x3",
         "y": {
          "bdata": "AAAAAAAAAAAAAAAAAAAAAEbROLQ0dCA/AAAAAAAAAABG0Ti0NHQwP0bROLQ0dDA/AAAAAAAAAAAAAAAAAAAAAAAAAAAAAAAARtE4tDR0ID9G0Ti0NHQgPwAAAAAAAAAAAAAAAAAAAAAAAAAAAAAAAAAAAAAAAAAAAAAAAAAAAAAAAAAAAAAAAEbROLQ0dCA/AAAAAAAAAABG0Ti0NHQgPwAAAAAAAAAAAAAAAAAAAAAAAAAAAAAAAAAAAAAAAAAA",
          "dtype": "f8"
         },
         "yaxis": "y3"
        },
        {
         "hovertemplate": "date=2032-05-31 00:00:00<br>variable=id<br>default_month=%{x}<br>value=%{y}<extra></extra>",
         "legendgroup": "2032-05-31 00:00:00",
         "line": {
          "color": "#BCBD22",
          "dash": "solid"
         },
         "marker": {
          "symbol": "circle"
         },
         "mode": "lines",
         "name": "2032-05-31 00:00:00",
         "showlegend": true,
         "type": "scattergl",
         "x": {
          "bdata": "AQIDBAUGBwgJCgsMDQ4PEBESExQVFhcY",
          "dtype": "i1"
         },
         "xaxis": "x",
         "y": {
          "bdata": "AAAAAAAev0AAAAAAAB6/QAAAAAAAHr9AAAAAAAAev0AAAAAAAB6/QAAAAAAAHr9AAAAAAAAev0AAAAAAAB6/QAAAAAAAHr9AAAAAAAAev0AAAAAAAB6/QAAAAAAAHr9AAAAAAAAev0AAAAAAAB6/QAAAAAAAHr9AAAAAAAAev0AAAAAAAB6/QAAAAAAAHr9AAAAAAAAev0AAAAAAAB6/QAAAAAAAHr9AAAAAAAAev0AAAAAAAB6/QAAAAAAAHr9A",
          "dtype": "f8"
         },
         "yaxis": "y"
        },
        {
         "hovertemplate": "date=2032-05-31 00:00:00<br>variable=cum_defaults<br>default_month=%{x}<br>value=%{y}<extra></extra>",
         "legendgroup": "2032-05-31 00:00:00",
         "line": {
          "color": "#BCBD22",
          "dash": "solid"
         },
         "marker": {
          "symbol": "circle"
         },
         "mode": "lines",
         "name": "2032-05-31 00:00:00",
         "showlegend": false,
         "type": "scattergl",
         "x": {
          "bdata": "AQIDBAUGBwgJCgsMDQ4PEBESExQVFhcY",
          "dtype": "i1"
         },
         "xaxis": "x2",
         "y": {
          "bdata": "AAAAAAAAAABG0Ti0NHQgP0bROLQ0dCA/6TlVDk+uOD+XBUfhQZFEP5cFR+FBkUQ/lwVH4UGRRD+XBUfhQZFEP+k5VQ5Prkg/Om5jO1zLTD86bmM7XMtMPzpuYztcy0w/Om5jO1zLTD86bmM7XMtMPzpuYztcy0w/Om5jO1zLTD9G0Ti0NHRQP0bROLQ0dFA/b+u/SruCUj9v679Ku4JSP2/rv0q7glI/b+u/SruCUj9v679Ku4JSP2/rv0q7glI/",
          "dtype": "f8"
         },
         "yaxis": "y2"
        },
        {
         "hovertemplate": "date=2032-05-31 00:00:00<br>variable=default_flag<br>default_month=%{x}<br>value=%{y}<extra></extra>",
         "legendgroup": "2032-05-31 00:00:00",
         "line": {
          "color": "#BCBD22",
          "dash": "solid"
         },
         "marker": {
          "symbol": "circle"
         },
         "mode": "lines",
         "name": "2032-05-31 00:00:00",
         "showlegend": false,
         "type": "scattergl",
         "x": {
          "bdata": "AQIDBAUGBwgJCgsMDQ4PEBESExQVFhcY",
          "dtype": "i1"
         },
         "xaxis": "x3",
         "y": {
          "bdata": "AAAAAAAAAABG0Ti0NHQgPwAAAAAAAAAARtE4tDR0MD9G0Ti0NHQwPwAAAAAAAAAAAAAAAAAAAAAAAAAAAAAAAEbROLQ0dCA/RtE4tDR0ID8AAAAAAAAAAAAAAAAAAAAAAAAAAAAAAAAAAAAAAAAAAAAAAAAAAAAAAAAAAAAAAABG0Ti0NHQgPwAAAAAAAAAARtE4tDR0ID8AAAAAAAAAAAAAAAAAAAAAAAAAAAAAAAAAAAAAAAAAAAAAAAAAAAAA",
          "dtype": "f8"
         },
         "yaxis": "y3"
        },
        {
         "hovertemplate": "date=2032-06-30 00:00:00<br>variable=id<br>default_month=%{x}<br>value=%{y}<extra></extra>",
         "legendgroup": "2032-06-30 00:00:00",
         "line": {
          "color": "#17BECF",
          "dash": "solid"
         },
         "marker": {
          "symbol": "circle"
         },
         "mode": "lines",
         "name": "2032-06-30 00:00:00",
         "showlegend": true,
         "type": "scattergl",
         "x": {
          "bdata": "AQIDBAUGBwgJCgsMDQ4PEBESExQVFhcY",
          "dtype": "i1"
         },
         "xaxis": "x",
         "y": {
          "bdata": "AAAAAAAev0AAAAAAAB6/QAAAAAAAHr9AAAAAAAAev0AAAAAAAB6/QAAAAAAAHr9AAAAAAAAev0AAAAAAAB6/QAAAAAAAHr9AAAAAAAAev0AAAAAAAB6/QAAAAAAAHr9AAAAAAAAev0AAAAAAAB6/QAAAAAAAHr9AAAAAAAAev0AAAAAAAB6/QAAAAAAAHr9AAAAAAAAev0AAAAAAAB6/QAAAAAAAHr9AAAAAAAAev0AAAAAAAB6/QAAAAAAAHr9A",
          "dtype": "f8"
         },
         "yaxis": "y"
        },
        {
         "hovertemplate": "date=2032-06-30 00:00:00<br>variable=cum_defaults<br>default_month=%{x}<br>value=%{y}<extra></extra>",
         "legendgroup": "2032-06-30 00:00:00",
         "line": {
          "color": "#17BECF",
          "dash": "solid"
         },
         "marker": {
          "symbol": "circle"
         },
         "mode": "lines",
         "name": "2032-06-30 00:00:00",
         "showlegend": false,
         "type": "scattergl",
         "x": {
          "bdata": "AQIDBAUGBwgJCgsMDQ4PEBESExQVFhcY",
          "dtype": "i1"
         },
         "xaxis": "x2",
         "y": {
          "bdata": "RtE4tDR0ID9G0Ti0NHQgP+k5VQ5Prjg/lwVH4UGRRD+XBUfhQZFEP5cFR+FBkUQ/lwVH4UGRRD/pOVUOT65IPzpuYztcy0w/Om5jO1zLTD86bmM7XMtMPzpuYztcy0w/Om5jO1zLTD86bmM7XMtMPzpuYztcy0w/RtE4tDR0UD9G0Ti0NHRQP2/rv0q7glI/b+u/SruCUj9v679Ku4JSP2/rv0q7glI/b+u/SruCUj9v679Ku4JSP2/rv0q7glI/",
          "dtype": "f8"
         },
         "yaxis": "y2"
        },
        {
         "hovertemplate": "date=2032-06-30 00:00:00<br>variable=default_flag<br>default_month=%{x}<br>value=%{y}<extra></extra>",
         "legendgroup": "2032-06-30 00:00:00",
         "line": {
          "color": "#17BECF",
          "dash": "solid"
         },
         "marker": {
          "symbol": "circle"
         },
         "mode": "lines",
         "name": "2032-06-30 00:00:00",
         "showlegend": false,
         "type": "scattergl",
         "x": {
          "bdata": "AQIDBAUGBwgJCgsMDQ4PEBESExQVFhcY",
          "dtype": "i1"
         },
         "xaxis": "x3",
         "y": {
          "bdata": "RtE4tDR0ID8AAAAAAAAAAEbROLQ0dDA/RtE4tDR0MD8AAAAAAAAAAAAAAAAAAAAAAAAAAAAAAABG0Ti0NHQgP0bROLQ0dCA/AAAAAAAAAAAAAAAAAAAAAAAAAAAAAAAAAAAAAAAAAAAAAAAAAAAAAAAAAAAAAAAARtE4tDR0ID8AAAAAAAAAAEbROLQ0dCA/AAAAAAAAAAAAAAAAAAAAAAAAAAAAAAAAAAAAAAAAAAAAAAAAAAAAAAAAAAAAAAAA",
          "dtype": "f8"
         },
         "yaxis": "y3"
        },
        {
         "hovertemplate": "date=2032-07-31 00:00:00<br>variable=id<br>default_month=%{x}<br>value=%{y}<extra></extra>",
         "legendgroup": "2032-07-31 00:00:00",
         "line": {
          "color": "#1F77B4",
          "dash": "solid"
         },
         "marker": {
          "symbol": "circle"
         },
         "mode": "lines",
         "name": "2032-07-31 00:00:00",
         "showlegend": true,
         "type": "scattergl",
         "x": {
          "bdata": "AQIDBAUGBwgJCgsMDQ4PEBESExQVFhcY",
          "dtype": "i1"
         },
         "xaxis": "x",
         "y": {
          "bdata": "AAAAAAAdv0AAAAAAAB2/QAAAAAAAHb9AAAAAAAAdv0AAAAAAAB2/QAAAAAAAHb9AAAAAAAAdv0AAAAAAAB2/QAAAAAAAHb9AAAAAAAAdv0AAAAAAAB2/QAAAAAAAHb9AAAAAAAAdv0AAAAAAAB2/QAAAAAAAHb9AAAAAAAAdv0AAAAAAAB2/QAAAAAAAHb9AAAAAAAAdv0AAAAAAAB2/QAAAAAAAHb9AAAAAAAAdv0AAAAAAAB2/QAAAAAAAHb9A",
          "dtype": "f8"
         },
         "yaxis": "y"
        },
        {
         "hovertemplate": "date=2032-07-31 00:00:00<br>variable=cum_defaults<br>default_month=%{x}<br>value=%{y}<extra></extra>",
         "legendgroup": "2032-07-31 00:00:00",
         "line": {
          "color": "#1F77B4",
          "dash": "solid"
         },
         "marker": {
          "symbol": "circle"
         },
         "mode": "lines",
         "name": "2032-07-31 00:00:00",
         "showlegend": false,
         "type": "scattergl",
         "x": {
          "bdata": "AQIDBAUGBwgJCgsMDQ4PEBESExQVFhcY",
          "dtype": "i1"
         },
         "xaxis": "x2",
         "y": {
          "bdata": "AAAAAAAAAAA2xj0WvHQwPzbGPRa8dEA/NsY9Frx0QD82xj0WvHRAPzbGPRa8dEA/xDfNG+uRRD9RqVwhGq9IP1GpXCEar0g/UalcIRqvSD9RqVwhGq9IP1GpXCEar0g/UalcIRqvSD9RqVwhGq9IP98a7CZJzEw/3xrsJknMTD82xj0WvHRQPzbGPRa8dFA/NsY9Frx0UD82xj0WvHRQPzbGPRa8dFA/NsY9Frx0UD82xj0WvHRQPzbGPRa8dFA/",
          "dtype": "f8"
         },
         "yaxis": "y2"
        },
        {
         "hovertemplate": "date=2032-07-31 00:00:00<br>variable=default_flag<br>default_month=%{x}<br>value=%{y}<extra></extra>",
         "legendgroup": "2032-07-31 00:00:00",
         "line": {
          "color": "#1F77B4",
          "dash": "solid"
         },
         "marker": {
          "symbol": "circle"
         },
         "mode": "lines",
         "name": "2032-07-31 00:00:00",
         "showlegend": false,
         "type": "scattergl",
         "x": {
          "bdata": "AQIDBAUGBwgJCgsMDQ4PEBESExQVFhcY",
          "dtype": "i1"
         },
         "xaxis": "x3",
         "y": {
          "bdata": "AAAAAAAAAAA2xj0WvHQwPzbGPRa8dDA/AAAAAAAAAAAAAAAAAAAAAAAAAAAAAAAANsY9Frx0ID82xj0WvHQgPwAAAAAAAAAAAAAAAAAAAAAAAAAAAAAAAAAAAAAAAAAAAAAAAAAAAAAAAAAAAAAAADbGPRa8dCA/AAAAAAAAAAA2xj0WvHQgPwAAAAAAAAAAAAAAAAAAAAAAAAAAAAAAAAAAAAAAAAAAAAAAAAAAAAAAAAAAAAAAAAAAAAAAAAAA",
          "dtype": "f8"
         },
         "yaxis": "y3"
        },
        {
         "hovertemplate": "date=2032-08-31 00:00:00<br>variable=id<br>default_month=%{x}<br>value=%{y}<extra></extra>",
         "legendgroup": "2032-08-31 00:00:00",
         "line": {
          "color": "#FF7F0E",
          "dash": "solid"
         },
         "marker": {
          "symbol": "circle"
         },
         "mode": "lines",
         "name": "2032-08-31 00:00:00",
         "showlegend": true,
         "type": "scattergl",
         "x": {
          "bdata": "AQIDBAUGBwgJCgsMDQ4PEBESExQVFhcY",
          "dtype": "i1"
         },
         "xaxis": "x",
         "y": {
          "bdata": "AAAAAAAdv0AAAAAAAB2/QAAAAAAAHb9AAAAAAAAdv0AAAAAAAB2/QAAAAAAAHb9AAAAAAAAdv0AAAAAAAB2/QAAAAAAAHb9AAAAAAAAdv0AAAAAAAB2/QAAAAAAAHb9AAAAAAAAdv0AAAAAAAB2/QAAAAAAAHb9AAAAAAAAdv0AAAAAAAB2/QAAAAAAAHb9AAAAAAAAdv0AAAAAAAB2/QAAAAAAAHb9AAAAAAAAdv0AAAAAAAB2/QAAAAAAAHb9A",
          "dtype": "f8"
         },
         "yaxis": "y"
        },
        {
         "hovertemplate": "date=2032-08-31 00:00:00<br>variable=cum_defaults<br>default_month=%{x}<br>value=%{y}<extra></extra>",
         "legendgroup": "2032-08-31 00:00:00",
         "line": {
          "color": "#FF7F0E",
          "dash": "solid"
         },
         "marker": {
          "symbol": "circle"
         },
         "mode": "lines",
         "name": "2032-08-31 00:00:00",
         "showlegend": false,
         "type": "scattergl",
         "x": {
          "bdata": "AQIDBAUGBwgJCgsMDQ4PEBESExQVFhcY",
          "dtype": "i1"
         },
         "xaxis": "x2",
         "y": {
          "bdata": "NsY9Frx0MD82xj0WvHRAPzbGPRa8dEA/NsY9Frx0QD82xj0WvHRAP8Q3zRvrkUQ/UalcIRqvSD9RqVwhGq9IP1GpXCEar0g/UalcIRqvSD9RqVwhGq9IP1GpXCEar0g/UalcIRqvSD/fGuwmScxMP98a7CZJzEw/NsY9Frx0UD82xj0WvHRQPzbGPRa8dFA/NsY9Frx0UD82xj0WvHRQPzbGPRa8dFA/NsY9Frx0UD82xj0WvHRQPzbGPRa8dFA/",
          "dtype": "f8"
         },
         "yaxis": "y2"
        },
        {
         "hovertemplate": "date=2032-08-31 00:00:00<br>variable=default_flag<br>default_month=%{x}<br>value=%{y}<extra></extra>",
         "legendgroup": "2032-08-31 00:00:00",
         "line": {
          "color": "#FF7F0E",
          "dash": "solid"
         },
         "marker": {
          "symbol": "circle"
         },
         "mode": "lines",
         "name": "2032-08-31 00:00:00",
         "showlegend": false,
         "type": "scattergl",
         "x": {
          "bdata": "AQIDBAUGBwgJCgsMDQ4PEBESExQVFhcY",
          "dtype": "i1"
         },
         "xaxis": "x3",
         "y": {
          "bdata": "NsY9Frx0MD82xj0WvHQwPwAAAAAAAAAAAAAAAAAAAAAAAAAAAAAAADbGPRa8dCA/NsY9Frx0ID8AAAAAAAAAAAAAAAAAAAAAAAAAAAAAAAAAAAAAAAAAAAAAAAAAAAAAAAAAAAAAAAA2xj0WvHQgPwAAAAAAAAAANsY9Frx0ID8AAAAAAAAAAAAAAAAAAAAAAAAAAAAAAAAAAAAAAAAAAAAAAAAAAAAAAAAAAAAAAAAAAAAAAAAAAAAAAAAAAAAA",
          "dtype": "f8"
         },
         "yaxis": "y3"
        },
        {
         "hovertemplate": "date=2032-09-30 00:00:00<br>variable=id<br>default_month=%{x}<br>value=%{y}<extra></extra>",
         "legendgroup": "2032-09-30 00:00:00",
         "line": {
          "color": "#2CA02C",
          "dash": "solid"
         },
         "marker": {
          "symbol": "circle"
         },
         "mode": "lines",
         "name": "2032-09-30 00:00:00",
         "showlegend": true,
         "type": "scattergl",
         "x": {
          "bdata": "AQIDBAUGBwgJCgsMDQ4PEBESExQVFhcY",
          "dtype": "i1"
         },
         "xaxis": "x",
         "y": {
          "bdata": "AAAAAAAbv0AAAAAAABu/QAAAAAAAG79AAAAAAAAbv0AAAAAAABu/QAAAAAAAG79AAAAAAAAbv0AAAAAAABu/QAAAAAAAG79AAAAAAAAbv0AAAAAAABu/QAAAAAAAG79AAAAAAAAbv0AAAAAAABu/QAAAAAAAG79AAAAAAAAbv0AAAAAAABu/QAAAAAAAG79AAAAAAAAbv0AAAAAAABu/QAAAAAAAG79AAAAAAAAbv0AAAAAAABu/QAAAAAAAG79A",
          "dtype": "f8"
         },
         "yaxis": "y"
        },
        {
         "hovertemplate": "date=2032-09-30 00:00:00<br>variable=cum_defaults<br>default_month=%{x}<br>value=%{y}<extra></extra>",
         "legendgroup": "2032-09-30 00:00:00",
         "line": {
          "color": "#2CA02C",
          "dash": "solid"
         },
         "marker": {
          "symbol": "circle"
         },
         "mode": "lines",
         "name": "2032-09-30 00:00:00",
         "showlegend": false,
         "type": "scattergl",
         "x": {
          "bdata": "AQIDBAUGBwgJCgsMDQ4PEBESExQVFhcY",
          "dtype": "i1"
         },
         "xaxis": "x2",
         "y": {
          "bdata": "Z/Jk9Mp1MD9n8mT0ynUwP2fyZPTKdTA/Z/Jk9Mp1MD+aa5dusLA4P2fyZPTKdUA/Z/Jk9Mp1QD9n8mT0ynVAP2fyZPTKdUA/Z/Jk9Mp1QD9n8mT0ynVAP2fyZPTKdUA/AC9+sT2TRD8AL36xPZNEP5prl26wsEg/mmuXbrCwSD+aa5dusLBIP5prl26wsEg/mmuXbrCwSD+aa5dusLBIP5prl26wsEg/mmuXbrCwSD+aa5dusLBIP5prl26wsEg/",
          "dtype": "f8"
         },
         "yaxis": "y2"
        },
        {
         "hovertemplate": "date=2032-09-30 00:00:00<br>variable=default_flag<br>default_month=%{x}<br>value=%{y}<extra></extra>",
         "legendgroup": "2032-09-30 00:00:00",
         "line": {
          "color": "#2CA02C",
          "dash": "solid"
         },
         "marker": {
          "symbol": "circle"
         },
         "mode": "lines",
         "name": "2032-09-30 00:00:00",
         "showlegend": false,
         "type": "scattergl",
         "x": {
          "bdata": "AQIDBAUGBwgJCgsMDQ4PEBESExQVFhcY",
          "dtype": "i1"
         },
         "xaxis": "x3",
         "y": {
          "bdata": "Z/Jk9Mp1MD8AAAAAAAAAAAAAAAAAAAAAAAAAAAAAAABn8mT0ynUgP2fyZPTKdSA/AAAAAAAAAAAAAAAAAAAAAAAAAAAAAAAAAAAAAAAAAAAAAAAAAAAAAAAAAAAAAAAAZ/Jk9Mp1ID8AAAAAAAAAAGfyZPTKdSA/AAAAAAAAAAAAAAAAAAAAAAAAAAAAAAAAAAAAAAAAAAAAAAAAAAAAAAAAAAAAAAAAAAAAAAAAAAAAAAAAAAAAAAAAAAAAAAAA",
          "dtype": "f8"
         },
         "yaxis": "y3"
        },
        {
         "hovertemplate": "date=2032-10-31 00:00:00<br>variable=id<br>default_month=%{x}<br>value=%{y}<extra></extra>",
         "legendgroup": "2032-10-31 00:00:00",
         "line": {
          "color": "#D62728",
          "dash": "solid"
         },
         "marker": {
          "symbol": "circle"
         },
         "mode": "lines",
         "name": "2032-10-31 00:00:00",
         "showlegend": true,
         "type": "scattergl",
         "x": {
          "bdata": "AQIDBAUGBwgJCgsMDQ4PEBESExQVFhcY",
          "dtype": "i1"
         },
         "xaxis": "x",
         "y": {
          "bdata": "AAAAAAAZv0AAAAAAABm/QAAAAAAAGb9AAAAAAAAZv0AAAAAAABm/QAAAAAAAGb9AAAAAAAAZv0AAAAAAABm/QAAAAAAAGb9AAAAAAAAZv0AAAAAAABm/QAAAAAAAGb9AAAAAAAAZv0AAAAAAABm/QAAAAAAAGb9AAAAAAAAZv0AAAAAAABm/QAAAAAAAGb9AAAAAAAAZv0AAAAAAABm/QAAAAAAAGb9AAAAAAAAZv0AAAAAAABm/QAAAAAAAGb9A",
          "dtype": "f8"
         },
         "yaxis": "y"
        },
        {
         "hovertemplate": "date=2032-10-31 00:00:00<br>variable=cum_defaults<br>default_month=%{x}<br>value=%{y}<extra></extra>",
         "legendgroup": "2032-10-31 00:00:00",
         "line": {
          "color": "#D62728",
          "dash": "solid"
         },
         "marker": {
          "symbol": "circle"
         },
         "mode": "lines",
         "name": "2032-10-31 00:00:00",
         "showlegend": false,
         "type": "scattergl",
         "x": {
          "bdata": "AQIDBAUGBwgJCgsMDQ4PEBESExQVFhcY",
          "dtype": "i1"
         },
         "xaxis": "x2",
         "y": {
          "bdata": "AAAAAAAAAAAAAAAAAAAAAAAAAAAAAAAAhWVj9dl2ID+FZWP12XYwP4VlY/XZdjA/hWVj9dl2MD+FZWP12XYwP4VlY/XZdjA/hWVj9dl2MD+FZWP12XYwP0cYFfBGsjg/RxgV8EayOD+FZWP12XZAP4VlY/XZdkA/hWVj9dl2QD+FZWP12XZAP4VlY/XZdkA/hWVj9dl2QD+FZWP12XZAP4VlY/XZdkA/hWVj9dl2QD+FZWP12XZAP4VlY/XZdkA/",
          "dtype": "f8"
         },
         "yaxis": "y2"
        },
        {
         "hovertemplate": "date=2032-10-31 00:00:00<br>variable=default_flag<br>default_month=%{x}<br>value=%{y}<extra></extra>",
         "legendgroup": "2032-10-31 00:00:00",
         "line": {
          "color": "#D62728",
          "dash": "solid"
         },
         "marker": {
          "symbol": "circle"
         },
         "mode": "lines",
         "name": "2032-10-31 00:00:00",
         "showlegend": false,
         "type": "scattergl",
         "x": {
          "bdata": "AQIDBAUGBwgJCgsMDQ4PEBESExQVFhcY",
          "dtype": "i1"
         },
         "xaxis": "x3",
         "y": {
          "bdata": "AAAAAAAAAAAAAAAAAAAAAAAAAAAAAAAAhWVj9dl2ID+FZWP12XYgPwAAAAAAAAAAAAAAAAAAAAAAAAAAAAAAAAAAAAAAAAAAAAAAAAAAAAAAAAAAAAAAAIVlY/XZdiA/AAAAAAAAAACFZWP12XYgPwAAAAAAAAAAAAAAAAAAAAAAAAAAAAAAAAAAAAAAAAAAAAAAAAAAAAAAAAAAAAAAAAAAAAAAAAAAAAAAAAAAAAAAAAAAAAAAAAAAAAAAAAAA",
          "dtype": "f8"
         },
         "yaxis": "y3"
        },
        {
         "hovertemplate": "date=2032-11-30 00:00:00<br>variable=id<br>default_month=%{x}<br>value=%{y}<extra></extra>",
         "legendgroup": "2032-11-30 00:00:00",
         "line": {
          "color": "#9467BD",
          "dash": "solid"
         },
         "marker": {
          "symbol": "circle"
         },
         "mode": "lines",
         "name": "2032-11-30 00:00:00",
         "showlegend": true,
         "type": "scattergl",
         "x": {
          "bdata": "AQIDBAUGBwgJCgsMDQ4PEBESExQVFhcY",
          "dtype": "i1"
         },
         "xaxis": "x",
         "y": {
          "bdata": "AAAAAAAZv0AAAAAAABm/QAAAAAAAGb9AAAAAAAAZv0AAAAAAABm/QAAAAAAAGb9AAAAAAAAZv0AAAAAAABm/QAAAAAAAGb9AAAAAAAAZv0AAAAAAABm/QAAAAAAAGb9AAAAAAAAZv0AAAAAAABm/QAAAAAAAGb9AAAAAAAAZv0AAAAAAABm/QAAAAAAAGb9AAAAAAAAZv0AAAAAAABm/QAAAAAAAGb9AAAAAAAAZv0AAAAAAABm/QAAAAAAAGb9A",
          "dtype": "f8"
         },
         "yaxis": "y"
        },
        {
         "hovertemplate": "date=2032-11-30 00:00:00<br>variable=cum_defaults<br>default_month=%{x}<br>value=%{y}<extra></extra>",
         "legendgroup": "2032-11-30 00:00:00",
         "line": {
          "color": "#9467BD",
          "dash": "solid"
         },
         "marker": {
          "symbol": "circle"
         },
         "mode": "lines",
         "name": "2032-11-30 00:00:00",
         "showlegend": false,
         "type": "scattergl",
         "x": {
          "bdata": "AQIDBAUGBwgJCgsMDQ4PEBESExQVFhcY",
          "dtype": "i1"
         },
         "xaxis": "x2",
         "y": {
          "bdata": "AAAAAAAAAAAAAAAAAAAAAIVlY/XZdiA/hWVj9dl2MD+FZWP12XYwP4VlY/XZdjA/hWVj9dl2MD+FZWP12XYwP4VlY/XZdjA/hWVj9dl2MD9HGBXwRrI4P0cYFfBGsjg/hWVj9dl2QD+FZWP12XZAP4VlY/XZdkA/hWVj9dl2QD+FZWP12XZAP4VlY/XZdkA/hWVj9dl2QD+FZWP12XZAP4VlY/XZdkA/hWVj9dl2QD+FZWP12XZAP4VlY/XZdkA/",
          "dtype": "f8"
         },
         "yaxis": "y2"
        },
        {
         "hovertemplate": "date=2032-11-30 00:00:00<br>variable=default_flag<br>default_month=%{x}<br>value=%{y}<extra></extra>",
         "legendgroup": "2032-11-30 00:00:00",
         "line": {
          "color": "#9467BD",
          "dash": "solid"
         },
         "marker": {
          "symbol": "circle"
         },
         "mode": "lines",
         "name": "2032-11-30 00:00:00",
         "showlegend": false,
         "type": "scattergl",
         "x": {
          "bdata": "AQIDBAUGBwgJCgsMDQ4PEBESExQVFhcY",
          "dtype": "i1"
         },
         "xaxis": "x3",
         "y": {
          "bdata": "AAAAAAAAAAAAAAAAAAAAAIVlY/XZdiA/hWVj9dl2ID8AAAAAAAAAAAAAAAAAAAAAAAAAAAAAAAAAAAAAAAAAAAAAAAAAAAAAAAAAAAAAAACFZWP12XYgPwAAAAAAAAAAhWVj9dl2ID8AAAAAAAAAAAAAAAAAAAAAAAAAAAAAAAAAAAAAAAAAAAAAAAAAAAAAAAAAAAAAAAAAAAAAAAAAAAAAAAAAAAAAAAAAAAAAAAAAAAAAAAAAAAAAAAAAAAAA",
          "dtype": "f8"
         },
         "yaxis": "y3"
        },
        {
         "hovertemplate": "date=2032-12-31 00:00:00<br>variable=id<br>default_month=%{x}<br>value=%{y}<extra></extra>",
         "legendgroup": "2032-12-31 00:00:00",
         "line": {
          "color": "#8C564B",
          "dash": "solid"
         },
         "marker": {
          "symbol": "circle"
         },
         "mode": "lines",
         "name": "2032-12-31 00:00:00",
         "showlegend": true,
         "type": "scattergl",
         "x": {
          "bdata": "AQIDBAUGBwgJCgsMDQ4PEBESExQVFhcY",
          "dtype": "i1"
         },
         "xaxis": "x",
         "y": {
          "bdata": "AAAAAAAZv0AAAAAAABm/QAAAAAAAGb9AAAAAAAAZv0AAAAAAABm/QAAAAAAAGb9AAAAAAAAZv0AAAAAAABm/QAAAAAAAGb9AAAAAAAAZv0AAAAAAABm/QAAAAAAAGb9AAAAAAAAZv0AAAAAAABm/QAAAAAAAGb9AAAAAAAAZv0AAAAAAABm/QAAAAAAAGb9AAAAAAAAZv0AAAAAAABm/QAAAAAAAGb9AAAAAAAAZv0AAAAAAABm/QAAAAAAAGb9A",
          "dtype": "f8"
         },
         "yaxis": "y"
        },
        {
         "hovertemplate": "date=2032-12-31 00:00:00<br>variable=cum_defaults<br>default_month=%{x}<br>value=%{y}<extra></extra>",
         "legendgroup": "2032-12-31 00:00:00",
         "line": {
          "color": "#8C564B",
          "dash": "solid"
         },
         "marker": {
          "symbol": "circle"
         },
         "mode": "lines",
         "name": "2032-12-31 00:00:00",
         "showlegend": false,
         "type": "scattergl",
         "x": {
          "bdata": "AQIDBAUGBwgJCgsMDQ4PEBESExQVFhcY",
          "dtype": "i1"
         },
         "xaxis": "x2",
         "y": {
          "bdata": "AAAAAAAAAACFZWP12XYgP4VlY/XZdjA/hWVj9dl2MD+FZWP12XYwP4VlY/XZdjA/hWVj9dl2MD+FZWP12XYwP4VlY/XZdjA/RxgV8EayOD9HGBXwRrI4P4VlY/XZdkA/hWVj9dl2QD+FZWP12XZAP4VlY/XZdkA/hWVj9dl2QD+FZWP12XZAP4VlY/XZdkA/hWVj9dl2QD+FZWP12XZAP4VlY/XZdkA/hWVj9dl2QD+FZWP12XZAP4VlY/XZdkA/",
          "dtype": "f8"
         },
         "yaxis": "y2"
        },
        {
         "hovertemplate": "date=2032-12-31 00:00:00<br>variable=default_flag<br>default_month=%{x}<br>value=%{y}<extra></extra>",
         "legendgroup": "2032-12-31 00:00:00",
         "line": {
          "color": "#8C564B",
          "dash": "solid"
         },
         "marker": {
          "symbol": "circle"
         },
         "mode": "lines",
         "name": "2032-12-31 00:00:00",
         "showlegend": false,
         "type": "scattergl",
         "x": {
          "bdata": "AQIDBAUGBwgJCgsMDQ4PEBESExQVFhcY",
          "dtype": "i1"
         },
         "xaxis": "x3",
         "y": {
          "bdata": "AAAAAAAAAACFZWP12XYgP4VlY/XZdiA/AAAAAAAAAAAAAAAAAAAAAAAAAAAAAAAAAAAAAAAAAAAAAAAAAAAAAAAAAAAAAAAAhWVj9dl2ID8AAAAAAAAAAIVlY/XZdiA/AAAAAAAAAAAAAAAAAAAAAAAAAAAAAAAAAAAAAAAAAAAAAAAAAAAAAAAAAAAAAAAAAAAAAAAAAAAAAAAAAAAAAAAAAAAAAAAAAAAAAAAAAAAAAAAAAAAAAAAAAAAAAAAA",
          "dtype": "f8"
         },
         "yaxis": "y3"
        },
        {
         "hovertemplate": "date=2033-01-31 00:00:00<br>variable=id<br>default_month=%{x}<br>value=%{y}<extra></extra>",
         "legendgroup": "2033-01-31 00:00:00",
         "line": {
          "color": "#E377C2",
          "dash": "solid"
         },
         "marker": {
          "symbol": "circle"
         },
         "mode": "lines",
         "name": "2033-01-31 00:00:00",
         "showlegend": true,
         "type": "scattergl",
         "x": {
          "bdata": "AQIDBAUGBwgJCgsMDQ4PEBESExQVFhcY",
          "dtype": "i1"
         },
         "xaxis": "x",
         "y": {
          "bdata": "AAAAAAAZv0AAAAAAABm/QAAAAAAAGb9AAAAAAAAZv0AAAAAAABm/QAAAAAAAGb9AAAAAAAAZv0AAAAAAABm/QAAAAAAAGb9AAAAAAAAZv0AAAAAAABm/QAAAAAAAGb9AAAAAAAAZv0AAAAAAABm/QAAAAAAAGb9AAAAAAAAZv0AAAAAAABm/QAAAAAAAGb9AAAAAAAAZv0AAAAAAABm/QAAAAAAAGb9AAAAAAAAZv0AAAAAAABm/QAAAAAAAGb9A",
          "dtype": "f8"
         },
         "yaxis": "y"
        },
        {
         "hovertemplate": "date=2033-01-31 00:00:00<br>variable=cum_defaults<br>default_month=%{x}<br>value=%{y}<extra></extra>",
         "legendgroup": "2033-01-31 00:00:00",
         "line": {
          "color": "#E377C2",
          "dash": "solid"
         },
         "marker": {
          "symbol": "circle"
         },
         "mode": "lines",
         "name": "2033-01-31 00:00:00",
         "showlegend": false,
         "type": "scattergl",
         "x": {
          "bdata": "AQIDBAUGBwgJCgsMDQ4PEBESExQVFhcY",
          "dtype": "i1"
         },
         "xaxis": "x2",
         "y": {
          "bdata": "hWVj9dl2ID+FZWP12XYwP4VlY/XZdjA/hWVj9dl2MD+FZWP12XYwP4VlY/XZdjA/hWVj9dl2MD+FZWP12XYwP0cYFfBGsjg/RxgV8EayOD+FZWP12XZAP4VlY/XZdkA/hWVj9dl2QD+FZWP12XZAP4VlY/XZdkA/hWVj9dl2QD+FZWP12XZAP4VlY/XZdkA/hWVj9dl2QD+FZWP12XZAP4VlY/XZdkA/hWVj9dl2QD+FZWP12XZAP4VlY/XZdkA/",
          "dtype": "f8"
         },
         "yaxis": "y2"
        },
        {
         "hovertemplate": "date=2033-01-31 00:00:00<br>variable=default_flag<br>default_month=%{x}<br>value=%{y}<extra></extra>",
         "legendgroup": "2033-01-31 00:00:00",
         "line": {
          "color": "#E377C2",
          "dash": "solid"
         },
         "marker": {
          "symbol": "circle"
         },
         "mode": "lines",
         "name": "2033-01-31 00:00:00",
         "showlegend": false,
         "type": "scattergl",
         "x": {
          "bdata": "AQIDBAUGBwgJCgsMDQ4PEBESExQVFhcY",
          "dtype": "i1"
         },
         "xaxis": "x3",
         "y": {
          "bdata": "hWVj9dl2ID+FZWP12XYgPwAAAAAAAAAAAAAAAAAAAAAAAAAAAAAAAAAAAAAAAAAAAAAAAAAAAAAAAAAAAAAAAIVlY/XZdiA/AAAAAAAAAACFZWP12XYgPwAAAAAAAAAAAAAAAAAAAAAAAAAAAAAAAAAAAAAAAAAAAAAAAAAAAAAAAAAAAAAAAAAAAAAAAAAAAAAAAAAAAAAAAAAAAAAAAAAAAAAAAAAAAAAAAAAAAAAAAAAAAAAAAAAAAAAAAAAA",
          "dtype": "f8"
         },
         "yaxis": "y3"
        },
        {
         "hovertemplate": "date=2033-02-28 00:00:00<br>variable=id<br>default_month=%{x}<br>value=%{y}<extra></extra>",
         "legendgroup": "2033-02-28 00:00:00",
         "line": {
          "color": "#7F7F7F",
          "dash": "solid"
         },
         "marker": {
          "symbol": "circle"
         },
         "mode": "lines",
         "name": "2033-02-28 00:00:00",
         "showlegend": true,
         "type": "scattergl",
         "x": {
          "bdata": "AQIDBAUGBwgJCgsMDQ4PEBESExQVFhcY",
          "dtype": "i1"
         },
         "xaxis": "x",
         "y": {
          "bdata": "AAAAAAAYv0AAAAAAABi/QAAAAAAAGL9AAAAAAAAYv0AAAAAAABi/QAAAAAAAGL9AAAAAAAAYv0AAAAAAABi/QAAAAAAAGL9AAAAAAAAYv0AAAAAAABi/QAAAAAAAGL9AAAAAAAAYv0AAAAAAABi/QAAAAAAAGL9AAAAAAAAYv0AAAAAAABi/QAAAAAAAGL9AAAAAAAAYv0AAAAAAABi/QAAAAAAAGL9AAAAAAAAYv0AAAAAAABi/QAAAAAAAGL9A",
          "dtype": "f8"
         },
         "yaxis": "y"
        },
        {
         "hovertemplate": "date=2033-02-28 00:00:00<br>variable=cum_defaults<br>default_month=%{x}<br>value=%{y}<extra></extra>",
         "legendgroup": "2033-02-28 00:00:00",
         "line": {
          "color": "#7F7F7F",
          "dash": "solid"
         },
         "marker": {
          "symbol": "circle"
         },
         "mode": "lines",
         "name": "2033-02-28 00:00:00",
         "showlegend": false,
         "type": "scattergl",
         "x": {
          "bdata": "AQIDBAUGBwgJCgsMDQ4PEBESExQVFhcY",
          "dtype": "i1"
         },
         "xaxis": "x2",
         "y": {
          "bdata": "hnP1gmF3ID+Gc/WCYXcgP4Zz9YJhdyA/hnP1gmF3ID+Gc/WCYXcgP4Zz9YJhdyA/hnP1gmF3ID+Gc/WCYXcwP4Zz9YJhdzA/SC1wRBKzOD9ILXBEErM4P0gtcEQSszg/SC1wRBKzOD9ILXBEErM4P0gtcEQSszg/SC1wRBKzOD9ILXBEErM4P0gtcEQSszg/SC1wRBKzOD9ILXBEErM4P0gtcEQSszg/SC1wRBKzOD9ILXBEErM4P0gtcEQSszg/",
          "dtype": "f8"
         },
         "yaxis": "y2"
        },
        {
         "hovertemplate": "date=2033-02-28 00:00:00<br>variable=default_flag<br>default_month=%{x}<br>value=%{y}<extra></extra>",
         "legendgroup": "2033-02-28 00:00:00",
         "line": {
          "color": "#7F7F7F",
          "dash": "solid"
         },
         "marker": {
          "symbol": "circle"
         },
         "mode": "lines",
         "name": "2033-02-28 00:00:00",
         "showlegend": false,
         "type": "scattergl",
         "x": {
          "bdata": "AQIDBAUGBwgJCgsMDQ4PEBESExQVFhcY",
          "dtype": "i1"
         },
         "xaxis": "x3",
         "y": {
          "bdata": "hnP1gmF3ID8AAAAAAAAAAAAAAAAAAAAAAAAAAAAAAAAAAAAAAAAAAAAAAAAAAAAAAAAAAAAAAACGc/WCYXcgPwAAAAAAAAAAhnP1gmF3ID8AAAAAAAAAAAAAAAAAAAAAAAAAAAAAAAAAAAAAAAAAAAAAAAAAAAAAAAAAAAAAAAAAAAAAAAAAAAAAAAAAAAAAAAAAAAAAAAAAAAAAAAAAAAAAAAAAAAAAAAAAAAAAAAAAAAAAAAAAAAAAAAAAAAAA",
          "dtype": "f8"
         },
         "yaxis": "y3"
        },
        {
         "hovertemplate": "date=2033-03-31 00:00:00<br>variable=id<br>default_month=%{x}<br>value=%{y}<extra></extra>",
         "legendgroup": "2033-03-31 00:00:00",
         "line": {
          "color": "#BCBD22",
          "dash": "solid"
         },
         "marker": {
          "symbol": "circle"
         },
         "mode": "lines",
         "name": "2033-03-31 00:00:00",
         "showlegend": true,
         "type": "scattergl",
         "x": {
          "bdata": "AQIDBAUGBwgJCgsMDQ4PEBESExQVFhcY",
          "dtype": "i1"
         },
         "xaxis": "x",
         "y": {
          "bdata": "AAAAAAAXv0AAAAAAABe/QAAAAAAAF79AAAAAAAAXv0AAAAAAABe/QAAAAAAAF79AAAAAAAAXv0AAAAAAABe/QAAAAAAAF79AAAAAAAAXv0AAAAAAABe/QAAAAAAAF79AAAAAAAAXv0AAAAAAABe/QAAAAAAAF79AAAAAAAAXv0AAAAAAABe/QAAAAAAAF79AAAAAAAAXv0AAAAAAABe/QAAAAAAAF79AAAAAAAAXv0AAAAAAABe/QAAAAAAAF79A",
          "dtype": "f8"
         },
         "yaxis": "y"
        },
        {
         "hovertemplate": "date=2033-03-31 00:00:00<br>variable=cum_defaults<br>default_month=%{x}<br>value=%{y}<extra></extra>",
         "legendgroup": "2033-03-31 00:00:00",
         "line": {
          "color": "#BCBD22",
          "dash": "solid"
         },
         "marker": {
          "symbol": "circle"
         },
         "mode": "lines",
         "name": "2033-03-31 00:00:00",
         "showlegend": false,
         "type": "scattergl",
         "x": {
          "bdata": "AQIDBAUGBwgJCgsMDQ4PEBESExQVFhcY",
          "dtype": "i1"
         },
         "xaxis": "x2",
         "y": {
          "bdata": "AAAAAAAAAAAAAAAAAAAAAAAAAAAAAAAAAAAAAAAAAAAAAAAAAAAAAAAAAAAAAAAA49g/Gel3ID/j2D8Z6XcgP+PYPxnpdzA/49g/Gel3MD/j2D8Z6XcwP+PYPxnpdzA/49g/Gel3MD/j2D8Z6XcwP+PYPxnpdzA/49g/Gel3MD/j2D8Z6XcwP+PYPxnpdzA/49g/Gel3MD/j2D8Z6XcwP+PYPxnpdzA/49g/Gel3MD/j2D8Z6XcwP+PYPxnpdzA/",
          "dtype": "f8"
         },
         "yaxis": "y2"
        },
        {
         "hovertemplate": "date=2033-03-31 00:00:00<br>variable=default_flag<br>default_month=%{x}<br>value=%{y}<extra></extra>",
         "legendgroup": "2033-03-31 00:00:00",
         "line": {
          "color": "#BCBD22",
          "dash": "solid"
         },
         "marker": {
          "symbol": "circle"
         },
         "mode": "lines",
         "name": "2033-03-31 00:00:00",
         "showlegend": false,
         "type": "scattergl",
         "x": {
          "bdata": "AQIDBAUGBwgJCgsMDQ4PEBESExQVFhcY",
          "dtype": "i1"
         },
         "xaxis": "x3",
         "y": {
          "bdata": "AAAAAAAAAAAAAAAAAAAAAAAAAAAAAAAAAAAAAAAAAAAAAAAAAAAAAAAAAAAAAAAA49g/Gel3ID8AAAAAAAAAAOPYPxnpdyA/AAAAAAAAAAAAAAAAAAAAAAAAAAAAAAAAAAAAAAAAAAAAAAAAAAAAAAAAAAAAAAAAAAAAAAAAAAAAAAAAAAAAAAAAAAAAAAAAAAAAAAAAAAAAAAAAAAAAAAAAAAAAAAAAAAAAAAAAAAAAAAAAAAAAAAAAAAAAAAAA",
          "dtype": "f8"
         },
         "yaxis": "y3"
        },
        {
         "hovertemplate": "date=2033-04-30 00:00:00<br>variable=id<br>default_month=%{x}<br>value=%{y}<extra></extra>",
         "legendgroup": "2033-04-30 00:00:00",
         "line": {
          "color": "#17BECF",
          "dash": "solid"
         },
         "marker": {
          "symbol": "circle"
         },
         "mode": "lines",
         "name": "2033-04-30 00:00:00",
         "showlegend": true,
         "type": "scattergl",
         "x": {
          "bdata": "AQIDBAUGBwgJCgsMDQ4PEBESExQVFhcY",
          "dtype": "i1"
         },
         "xaxis": "x",
         "y": {
          "bdata": "AAAAAAAXv0AAAAAAABe/QAAAAAAAF79AAAAAAAAXv0AAAAAAABe/QAAAAAAAF79AAAAAAAAXv0AAAAAAABe/QAAAAAAAF79AAAAAAAAXv0AAAAAAABe/QAAAAAAAF79AAAAAAAAXv0AAAAAAABe/QAAAAAAAF79AAAAAAAAXv0AAAAAAABe/QAAAAAAAF79AAAAAAAAXv0AAAAAAABe/QAAAAAAAF79AAAAAAAAXv0AAAAAAABe/QAAAAAAAF79A",
          "dtype": "f8"
         },
         "yaxis": "y"
        },
        {
         "hovertemplate": "date=2033-04-30 00:00:00<br>variable=cum_defaults<br>default_month=%{x}<br>value=%{y}<extra></extra>",
         "legendgroup": "2033-04-30 00:00:00",
         "line": {
          "color": "#17BECF",
          "dash": "solid"
         },
         "marker": {
          "symbol": "circle"
         },
         "mode": "lines",
         "name": "2033-04-30 00:00:00",
         "showlegend": false,
         "type": "scattergl",
         "x": {
          "bdata": "AQIDBAUGBwgJCgsMDQ4PEBESExQVFhcY",
          "dtype": "i1"
         },
         "xaxis": "x2",
         "y": {
          "bdata": "AAAAAAAAAAAAAAAAAAAAAAAAAAAAAAAAAAAAAAAAAAAAAAAAAAAAAOPYPxnpdyA/49g/Gel3ID/j2D8Z6XcwP+PYPxnpdzA/49g/Gel3MD/j2D8Z6XcwP+PYPxnpdzA/49g/Gel3MD/j2D8Z6XcwP+PYPxnpdzA/49g/Gel3MD/j2D8Z6XcwP+PYPxnpdzA/49g/Gel3MD/j2D8Z6XcwP+PYPxnpdzA/49g/Gel3MD/j2D8Z6XcwP+PYPxnpdzA/",
          "dtype": "f8"
         },
         "yaxis": "y2"
        },
        {
         "hovertemplate": "date=2033-04-30 00:00:00<br>variable=default_flag<br>default_month=%{x}<br>value=%{y}<extra></extra>",
         "legendgroup": "2033-04-30 00:00:00",
         "line": {
          "color": "#17BECF",
          "dash": "solid"
         },
         "marker": {
          "symbol": "circle"
         },
         "mode": "lines",
         "name": "2033-04-30 00:00:00",
         "showlegend": false,
         "type": "scattergl",
         "x": {
          "bdata": "AQIDBAUGBwgJCgsMDQ4PEBESExQVFhcY",
          "dtype": "i1"
         },
         "xaxis": "x3",
         "y": {
          "bdata": "AAAAAAAAAAAAAAAAAAAAAAAAAAAAAAAAAAAAAAAAAAAAAAAAAAAAAOPYPxnpdyA/AAAAAAAAAADj2D8Z6XcgPwAAAAAAAAAAAAAAAAAAAAAAAAAAAAAAAAAAAAAAAAAAAAAAAAAAAAAAAAAAAAAAAAAAAAAAAAAAAAAAAAAAAAAAAAAAAAAAAAAAAAAAAAAAAAAAAAAAAAAAAAAAAAAAAAAAAAAAAAAAAAAAAAAAAAAAAAAAAAAAAAAAAAAAAAAA",
          "dtype": "f8"
         },
         "yaxis": "y3"
        },
        {
         "hovertemplate": "date=2033-05-31 00:00:00<br>variable=id<br>default_month=%{x}<br>value=%{y}<extra></extra>",
         "legendgroup": "2033-05-31 00:00:00",
         "line": {
          "color": "#1F77B4",
          "dash": "solid"
         },
         "marker": {
          "symbol": "circle"
         },
         "mode": "lines",
         "name": "2033-05-31 00:00:00",
         "showlegend": true,
         "type": "scattergl",
         "x": {
          "bdata": "AQIDBAUGBwgJCgsMDQ4PEBESExQVFhcY",
          "dtype": "i1"
         },
         "xaxis": "x",
         "y": {
          "bdata": "AAAAAADPvUAAAAAAAM+9QAAAAAAAz71AAAAAAADPvUAAAAAAAM+9QAAAAAAAz71AAAAAAADPvUAAAAAAAM+9QAAAAAAAz71AAAAAAADPvUAAAAAAAM+9QAAAAAAAz71AAAAAAADPvUAAAAAAAM+9QAAAAAAAz71AAAAAAADPvUAAAAAAAM+9QAAAAAAAz71AAAAAAADPvUAAAAAAAM+9QAAAAAAAz71AAAAAAADPvUAAAAAAAM+9QAAAAAAAz71A",
          "dtype": "f8"
         },
         "yaxis": "y"
        },
        {
         "hovertemplate": "date=2033-05-31 00:00:00<br>variable=cum_defaults<br>default_month=%{x}<br>value=%{y}<extra></extra>",
         "legendgroup": "2033-05-31 00:00:00",
         "line": {
          "color": "#1F77B4",
          "dash": "solid"
         },
         "marker": {
          "symbol": "circle"
         },
         "mode": "lines",
         "name": "2033-05-31 00:00:00",
         "showlegend": false,
         "type": "scattergl",
         "x": {
          "bdata": "AQIDBAUGBwgJCgsMDQ4PEBESExQVFhcY",
          "dtype": "i1"
         },
         "xaxis": "x2",
         "y": {
          "bdata": "AAAAAAAAAAAAAAAAAAAAAAAAAAAAAAAAAAAAAAAAAAD8jwQIHy0hP/yPBAgfLSE//I8ECB8tMT/8jwQIHy0xP/yPBAgfLTE//I8ECB8tMT/8jwQIHy0xP/yPBAgfLTE//I8ECB8tMT/8jwQIHy0xP/yPBAgfLTE//I8ECB8tMT/8jwQIHy0xP/yPBAgfLTE//I8ECB8tMT/8jwQIHy0xP/yPBAgfLTE//I8ECB8tMT/8jwQIHy0xP/yPBAgfLTE/",
          "dtype": "f8"
         },
         "yaxis": "y2"
        },
        {
         "hovertemplate": "date=2033-05-31 00:00:00<br>variable=default_flag<br>default_month=%{x}<br>value=%{y}<extra></extra>",
         "legendgroup": "2033-05-31 00:00:00",
         "line": {
          "color": "#1F77B4",
          "dash": "solid"
         },
         "marker": {
          "symbol": "circle"
         },
         "mode": "lines",
         "name": "2033-05-31 00:00:00",
         "showlegend": false,
         "type": "scattergl",
         "x": {
          "bdata": "AQIDBAUGBwgJCgsMDQ4PEBESExQVFhcY",
          "dtype": "i1"
         },
         "xaxis": "x3",
         "y": {
          "bdata": "AAAAAAAAAAAAAAAAAAAAAAAAAAAAAAAAAAAAAAAAAAD8jwQIHy0hPwAAAAAAAAAA/I8ECB8tIT8AAAAAAAAAAAAAAAAAAAAAAAAAAAAAAAAAAAAAAAAAAAAAAAAAAAAAAAAAAAAAAAAAAAAAAAAAAAAAAAAAAAAAAAAAAAAAAAAAAAAAAAAAAAAAAAAAAAAAAAAAAAAAAAAAAAAAAAAAAAAAAAAAAAAAAAAAAAAAAAAAAAAAAAAAAAAAAAAAAAAA",
          "dtype": "f8"
         },
         "yaxis": "y3"
        },
        {
         "hovertemplate": "date=2033-06-30 00:00:00<br>variable=id<br>default_month=%{x}<br>value=%{y}<extra></extra>",
         "legendgroup": "2033-06-30 00:00:00",
         "line": {
          "color": "#FF7F0E",
          "dash": "solid"
         },
         "marker": {
          "symbol": "circle"
         },
         "mode": "lines",
         "name": "2033-06-30 00:00:00",
         "showlegend": true,
         "type": "scattergl",
         "x": {
          "bdata": "AQIDBAUGBwgJCgsMDQ4PEBESExQVFhcY",
          "dtype": "i1"
         },
         "xaxis": "x",
         "y": {
          "bdata": "AAAAAAB0vEAAAAAAAHS8QAAAAAAAdLxAAAAAAAB0vEAAAAAAAHS8QAAAAAAAdLxAAAAAAAB0vEAAAAAAAHS8QAAAAAAAdLxAAAAAAAB0vEAAAAAAAHS8QAAAAAAAdLxAAAAAAAB0vEAAAAAAAHS8QAAAAAAAdLxAAAAAAAB0vEAAAAAAAHS8QAAAAAAAdLxAAAAAAAB0vEAAAAAAAHS8QAAAAAAAdLxAAAAAAAB0vEAAAAAAAHS8QAAAAAAAdLxA",
          "dtype": "f8"
         },
         "yaxis": "y"
        },
        {
         "hovertemplate": "date=2033-06-30 00:00:00<br>variable=cum_defaults<br>default_month=%{x}<br>value=%{y}<extra></extra>",
         "legendgroup": "2033-06-30 00:00:00",
         "line": {
          "color": "#FF7F0E",
          "dash": "solid"
         },
         "marker": {
          "symbol": "circle"
         },
         "mode": "lines",
         "name": "2033-06-30 00:00:00",
         "showlegend": false,
         "type": "scattergl",
         "x": {
          "bdata": "AQIDBAUGBwgJCgsMDQ4PEBESExQVFhcY",
          "dtype": "i1"
         },
         "xaxis": "x2",
         "y": {
          "bdata": "AAAAAAAAAAAAAAAAAAAAAAAAAAAAAAAArM0dHJj+IT+szR0cmP4hP6zNHRyY/jE/rM0dHJj+MT+szR0cmP4xP6zNHRyY/jE/rM0dHJj+MT+szR0cmP4xP6zNHRyY/jE/rM0dHJj+MT+szR0cmP4xP6zNHRyY/jE/rM0dHJj+MT+szR0cmP4xP6zNHRyY/jE/rM0dHJj+MT+szR0cmP4xP6zNHRyY/jE/rM0dHJj+MT+szR0cmP4xP6zNHRyY/jE/",
          "dtype": "f8"
         },
         "yaxis": "y2"
        },
        {
         "hovertemplate": "date=2033-06-30 00:00:00<br>variable=default_flag<br>default_month=%{x}<br>value=%{y}<extra></extra>",
         "legendgroup": "2033-06-30 00:00:00",
         "line": {
          "color": "#FF7F0E",
          "dash": "solid"
         },
         "marker": {
          "symbol": "circle"
         },
         "mode": "lines",
         "name": "2033-06-30 00:00:00",
         "showlegend": false,
         "type": "scattergl",
         "x": {
          "bdata": "AQIDBAUGBwgJCgsMDQ4PEBESExQVFhcY",
          "dtype": "i1"
         },
         "xaxis": "x3",
         "y": {
          "bdata": "AAAAAAAAAAAAAAAAAAAAAAAAAAAAAAAArM0dHJj+IT8AAAAAAAAAAKzNHRyY/iE/AAAAAAAAAAAAAAAAAAAAAAAAAAAAAAAAAAAAAAAAAAAAAAAAAAAAAAAAAAAAAAAAAAAAAAAAAAAAAAAAAAAAAAAAAAAAAAAAAAAAAAAAAAAAAAAAAAAAAAAAAAAAAAAAAAAAAAAAAAAAAAAAAAAAAAAAAAAAAAAAAAAAAAAAAAAAAAAAAAAAAAAAAAAAAAAA",
          "dtype": "f8"
         },
         "yaxis": "y3"
        },
        {
         "hovertemplate": "date=2033-07-31 00:00:00<br>variable=id<br>default_month=%{x}<br>value=%{y}<extra></extra>",
         "legendgroup": "2033-07-31 00:00:00",
         "line": {
          "color": "#2CA02C",
          "dash": "solid"
         },
         "marker": {
          "symbol": "circle"
         },
         "mode": "lines",
         "name": "2033-07-31 00:00:00",
         "showlegend": true,
         "type": "scattergl",
         "x": {
          "bdata": "AQIDBAUGBwgJCgsMDQ4PEBESExQVFhcY",
          "dtype": "i1"
         },
         "xaxis": "x",
         "y": {
          "bdata": "AAAAAAAUu0AAAAAAABS7QAAAAAAAFLtAAAAAAAAUu0AAAAAAABS7QAAAAAAAFLtAAAAAAAAUu0AAAAAAABS7QAAAAAAAFLtAAAAAAAAUu0AAAAAAABS7QAAAAAAAFLtAAAAAAAAUu0AAAAAAABS7QAAAAAAAFLtAAAAAAAAUu0AAAAAAABS7QAAAAAAAFLtAAAAAAAAUu0AAAAAAABS7QAAAAAAAFLtAAAAAAAAUu0AAAAAAABS7QAAAAAAAFLtA",
          "dtype": "f8"
         },
         "yaxis": "y"
        },
        {
         "hovertemplate": "date=2033-07-31 00:00:00<br>variable=cum_defaults<br>default_month=%{x}<br>value=%{y}<extra></extra>",
         "legendgroup": "2033-07-31 00:00:00",
         "line": {
          "color": "#2CA02C",
          "dash": "solid"
         },
         "marker": {
          "symbol": "circle"
         },
         "mode": "lines",
         "name": "2033-07-31 00:00:00",
         "showlegend": false,
         "type": "scattergl",
         "x": {
          "bdata": "AQIDBAUGBwgJCgsMDQ4PEBESExQVFhcY",
          "dtype": "i1"
         },
         "xaxis": "x2",
         "y": {
          "bdata": "AAAAAAAAAAAAAAAAAAAAAJEIDi2D6CI/kQgOLYPoIj+RCA4tg+gyP5EIDi2D6DI/kQgOLYPoMj+RCA4tg+gyP5EIDi2D6DI/kQgOLYPoMj+RCA4tg+gyP5EIDi2D6DI/kQgOLYPoMj+RCA4tg+gyP5EIDi2D6DI/kQgOLYPoMj+RCA4tg+gyP5EIDi2D6DI/kQgOLYPoMj+RCA4tg+gyP5EIDi2D6DI/kQgOLYPoMj+RCA4tg+gyP5EIDi2D6DI/",
          "dtype": "f8"
         },
         "yaxis": "y2"
        },
        {
         "hovertemplate": "date=2033-07-31 00:00:00<br>variable=default_flag<br>default_month=%{x}<br>value=%{y}<extra></extra>",
         "legendgroup": "2033-07-31 00:00:00",
         "line": {
          "color": "#2CA02C",
          "dash": "solid"
         },
         "marker": {
          "symbol": "circle"
         },
         "mode": "lines",
         "name": "2033-07-31 00:00:00",
         "showlegend": false,
         "type": "scattergl",
         "x": {
          "bdata": "AQIDBAUGBwgJCgsMDQ4PEBESExQVFhcY",
          "dtype": "i1"
         },
         "xaxis": "x3",
         "y": {
          "bdata": "AAAAAAAAAAAAAAAAAAAAAJEIDi2D6CI/AAAAAAAAAACRCA4tg+giPwAAAAAAAAAAAAAAAAAAAAAAAAAAAAAAAAAAAAAAAAAAAAAAAAAAAAAAAAAAAAAAAAAAAAAAAAAAAAAAAAAAAAAAAAAAAAAAAAAAAAAAAAAAAAAAAAAAAAAAAAAAAAAAAAAAAAAAAAAAAAAAAAAAAAAAAAAAAAAAAAAAAAAAAAAAAAAAAAAAAAAAAAAAAAAAAAAAAAAAAAAA",
          "dtype": "f8"
         },
         "yaxis": "y3"
        },
        {
         "hovertemplate": "date=2033-08-31 00:00:00<br>variable=id<br>default_month=%{x}<br>value=%{y}<extra></extra>",
         "legendgroup": "2033-08-31 00:00:00",
         "line": {
          "color": "#D62728",
          "dash": "solid"
         },
         "marker": {
          "symbol": "circle"
         },
         "mode": "lines",
         "name": "2033-08-31 00:00:00",
         "showlegend": true,
         "type": "scattergl",
         "x": {
          "bdata": "AQIDBAUGBwgJCgsMDQ4PEBESExQVFhcY",
          "dtype": "i1"
         },
         "xaxis": "x",
         "y": {
          "bdata": "AAAAAADZuUAAAAAAANm5QAAAAAAA2blAAAAAAADZuUAAAAAAANm5QAAAAAAA2blAAAAAAADZuUAAAAAAANm5QAAAAAAA2blAAAAAAADZuUAAAAAAANm5QAAAAAAA2blAAAAAAADZuUAAAAAAANm5QAAAAAAA2blAAAAAAADZuUAAAAAAANm5QAAAAAAA2blAAAAAAADZuUAAAAAAANm5QAAAAAAA2blAAAAAAADZuUAAAAAAANm5QAAAAAAA2blA",
          "dtype": "f8"
         },
         "yaxis": "y"
        },
        {
         "hovertemplate": "date=2033-08-31 00:00:00<br>variable=cum_defaults<br>default_month=%{x}<br>value=%{y}<extra></extra>",
         "legendgroup": "2033-08-31 00:00:00",
         "line": {
          "color": "#D62728",
          "dash": "solid"
         },
         "marker": {
          "symbol": "circle"
         },
         "mode": "lines",
         "name": "2033-08-31 00:00:00",
         "showlegend": false,
         "type": "scattergl",
         "x": {
          "bdata": "AQIDBAUGBwgJCgsMDQ4PEBESExQVFhcY",
          "dtype": "i1"
         },
         "xaxis": "x2",
         "y": {
          "bdata": "AAAAAAAAAABEIO598c4jP0Qg7n3xziM/RCDuffHOMz9EIO598c4zP0Qg7n3xzjM/RCDuffHOMz9EIO598c4zP0Qg7n3xzjM/RCDuffHOMz9EIO598c4zP0Qg7n3xzjM/RCDuffHOMz9EIO598c4zP0Qg7n3xzjM/RCDuffHOMz9EIO598c4zP0Qg7n3xzjM/RCDuffHOMz9EIO598c4zP0Qg7n3xzjM/RCDuffHOMz9EIO598c4zP0Qg7n3xzjM/",
          "dtype": "f8"
         },
         "yaxis": "y2"
        },
        {
         "hovertemplate": "date=2033-08-31 00:00:00<br>variable=default_flag<br>default_month=%{x}<br>value=%{y}<extra></extra>",
         "legendgroup": "2033-08-31 00:00:00",
         "line": {
          "color": "#D62728",
          "dash": "solid"
         },
         "marker": {
          "symbol": "circle"
         },
         "mode": "lines",
         "name": "2033-08-31 00:00:00",
         "showlegend": false,
         "type": "scattergl",
         "x": {
          "bdata": "AQIDBAUGBwgJCgsMDQ4PEBESExQVFhcY",
          "dtype": "i1"
         },
         "xaxis": "x3",
         "y": {
          "bdata": "AAAAAAAAAABEIO598c4jPwAAAAAAAAAARCDuffHOIz8AAAAAAAAAAAAAAAAAAAAAAAAAAAAAAAAAAAAAAAAAAAAAAAAAAAAAAAAAAAAAAAAAAAAAAAAAAAAAAAAAAAAAAAAAAAAAAAAAAAAAAAAAAAAAAAAAAAAAAAAAAAAAAAAAAAAAAAAAAAAAAAAAAAAAAAAAAAAAAAAAAAAAAAAAAAAAAAAAAAAAAAAAAAAAAAAAAAAAAAAAAAAAAAAAAAAA",
          "dtype": "f8"
         },
         "yaxis": "y3"
        },
        {
         "hovertemplate": "date=2033-09-30 00:00:00<br>variable=id<br>default_month=%{x}<br>value=%{y}<extra></extra>",
         "legendgroup": "2033-09-30 00:00:00",
         "line": {
          "color": "#9467BD",
          "dash": "solid"
         },
         "marker": {
          "symbol": "circle"
         },
         "mode": "lines",
         "name": "2033-09-30 00:00:00",
         "showlegend": true,
         "type": "scattergl",
         "x": {
          "bdata": "AQIDBAUGBwgJCgsMDQ4PEBESExQVFhcY",
          "dtype": "i1"
         },
         "xaxis": "x",
         "y": {
          "bdata": "AAAAAACDuEAAAAAAAIO4QAAAAAAAg7hAAAAAAACDuEAAAAAAAIO4QAAAAAAAg7hAAAAAAACDuEAAAAAAAIO4QAAAAAAAg7hAAAAAAACDuEAAAAAAAIO4QAAAAAAAg7hAAAAAAACDuEAAAAAAAIO4QAAAAAAAg7hAAAAAAACDuEAAAAAAAIO4QAAAAAAAg7hAAAAAAACDuEAAAAAAAIO4QAAAAAAAg7hAAAAAAACDuEAAAAAAAIO4QAAAAAAAg7hA",
          "dtype": "f8"
         },
         "yaxis": "y"
        },
        {
         "hovertemplate": "date=2033-09-30 00:00:00<br>variable=cum_defaults<br>default_month=%{x}<br>value=%{y}<extra></extra>",
         "legendgroup": "2033-09-30 00:00:00",
         "line": {
          "color": "#9467BD",
          "dash": "solid"
         },
         "marker": {
          "symbol": "circle"
         },
         "mode": "lines",
         "name": "2033-09-30 00:00:00",
         "showlegend": false,
         "type": "scattergl",
         "x": {
          "bdata": "AQIDBAUGBwgJCgsMDQ4PEBESExQVFhcY",
          "dtype": "i1"
         },
         "xaxis": "x2",
         "y": {
          "bdata": "yHUT4VHjJD/IdRPhUeMkP8h1E+FR4zQ/yHUT4VHjND/IdRPhUeM0P8h1E+FR4zQ/yHUT4VHjND/IdRPhUeM0P8h1E+FR4zQ/yHUT4VHjND/IdRPhUeM0P8h1E+FR4zQ/yHUT4VHjND/IdRPhUeM0P8h1E+FR4zQ/yHUT4VHjND/IdRPhUeM0P8h1E+FR4zQ/yHUT4VHjND/IdRPhUeM0P8h1E+FR4zQ/yHUT4VHjND/IdRPhUeM0P8h1E+FR4zQ/",
          "dtype": "f8"
         },
         "yaxis": "y2"
        },
        {
         "hovertemplate": "date=2033-09-30 00:00:00<br>variable=default_flag<br>default_month=%{x}<br>value=%{y}<extra></extra>",
         "legendgroup": "2033-09-30 00:00:00",
         "line": {
          "color": "#9467BD",
          "dash": "solid"
         },
         "marker": {
          "symbol": "circle"
         },
         "mode": "lines",
         "name": "2033-09-30 00:00:00",
         "showlegend": false,
         "type": "scattergl",
         "x": {
          "bdata": "AQIDBAUGBwgJCgsMDQ4PEBESExQVFhcY",
          "dtype": "i1"
         },
         "xaxis": "x3",
         "y": {
          "bdata": "yHUT4VHjJD8AAAAAAAAAAMh1E+FR4yQ/AAAAAAAAAAAAAAAAAAAAAAAAAAAAAAAAAAAAAAAAAAAAAAAAAAAAAAAAAAAAAAAAAAAAAAAAAAAAAAAAAAAAAAAAAAAAAAAAAAAAAAAAAAAAAAAAAAAAAAAAAAAAAAAAAAAAAAAAAAAAAAAAAAAAAAAAAAAAAAAAAAAAAAAAAAAAAAAAAAAAAAAAAAAAAAAAAAAAAAAAAAAAAAAAAAAAAAAAAAAAAAAA",
          "dtype": "f8"
         },
         "yaxis": "y3"
        },
        {
         "hovertemplate": "date=2033-10-31 00:00:00<br>variable=id<br>default_month=%{x}<br>value=%{y}<extra></extra>",
         "legendgroup": "2033-10-31 00:00:00",
         "line": {
          "color": "#8C564B",
          "dash": "solid"
         },
         "marker": {
          "symbol": "circle"
         },
         "mode": "lines",
         "name": "2033-10-31 00:00:00",
         "showlegend": true,
         "type": "scattergl",
         "x": {
          "bdata": "AQIDBAUGBwgJCgsMDQ4PEBESExQVFhcY",
          "dtype": "i1"
         },
         "xaxis": "x",
         "y": {
          "bdata": "AAAAAABCt0AAAAAAAEK3QAAAAAAAQrdAAAAAAABCt0AAAAAAAEK3QAAAAAAAQrdAAAAAAABCt0AAAAAAAEK3QAAAAAAAQrdAAAAAAABCt0AAAAAAAEK3QAAAAAAAQrdAAAAAAABCt0AAAAAAAEK3QAAAAAAAQrdAAAAAAABCt0AAAAAAAEK3QAAAAAAAQrdAAAAAAABCt0AAAAAAAEK3QAAAAAAAQrdAAAAAAABCt0AAAAAAAEK3QAAAAAAAQrdA",
          "dtype": "f8"
         },
         "yaxis": "y"
        },
        {
         "hovertemplate": "date=2033-10-31 00:00:00<br>variable=cum_defaults<br>default_month=%{x}<br>value=%{y}<extra></extra>",
         "legendgroup": "2033-10-31 00:00:00",
         "line": {
          "color": "#8C564B",
          "dash": "solid"
         },
         "marker": {
          "symbol": "circle"
         },
         "mode": "lines",
         "name": "2033-10-31 00:00:00",
         "showlegend": false,
         "type": "scattergl",
         "x": {
          "bdata": "AQIDBAUGBwgJCgsMDQ4PEBESExQVFhcY",
          "dtype": "i1"
         },
         "xaxis": "x2",
         "y": {
          "bdata": "AAAAAAAAAAAF47CXnAMmPwXjsJecAyY/BeOwl5wDJj8F47CXnAMmPwXjsJecAyY/BeOwl5wDJj8F47CXnAMmPwXjsJecAyY/BeOwl5wDJj8F47CXnAMmPwXjsJecAyY/BeOwl5wDJj8F47CXnAMmPwXjsJecAyY/BeOwl5wDJj8F47CXnAMmPwXjsJecAyY/BeOwl5wDJj8F47CXnAMmPwXjsJecAyY/BeOwl5wDJj8F47CXnAMmPwXjsJecAyY/",
          "dtype": "f8"
         },
         "yaxis": "y2"
        },
        {
         "hovertemplate": "date=2033-10-31 00:00:00<br>variable=default_flag<br>default_month=%{x}<br>value=%{y}<extra></extra>",
         "legendgroup": "2033-10-31 00:00:00",
         "line": {
          "color": "#8C564B",
          "dash": "solid"
         },
         "marker": {
          "symbol": "circle"
         },
         "mode": "lines",
         "name": "2033-10-31 00:00:00",
         "showlegend": false,
         "type": "scattergl",
         "x": {
          "bdata": "AQIDBAUGBwgJCgsMDQ4PEBESExQVFhcY",
          "dtype": "i1"
         },
         "xaxis": "x3",
         "y": {
          "bdata": "AAAAAAAAAAAF47CXnAMmPwAAAAAAAAAAAAAAAAAAAAAAAAAAAAAAAAAAAAAAAAAAAAAAAAAAAAAAAAAAAAAAAAAAAAAAAAAAAAAAAAAAAAAAAAAAAAAAAAAAAAAAAAAAAAAAAAAAAAAAAAAAAAAAAAAAAAAAAAAAAAAAAAAAAAAAAAAAAAAAAAAAAAAAAAAAAAAAAAAAAAAAAAAAAAAAAAAAAAAAAAAAAAAAAAAAAAAAAAAAAAAAAAAAAAAAAAAA",
          "dtype": "f8"
         },
         "yaxis": "y3"
        },
        {
         "hovertemplate": "date=2033-11-30 00:00:00<br>variable=id<br>default_month=%{x}<br>value=%{y}<extra></extra>",
         "legendgroup": "2033-11-30 00:00:00",
         "line": {
          "color": "#E377C2",
          "dash": "solid"
         },
         "marker": {
          "symbol": "circle"
         },
         "mode": "lines",
         "name": "2033-11-30 00:00:00",
         "showlegend": true,
         "type": "scattergl",
         "x": {
          "bdata": "AQIDBAUGBwgJCgsMDQ4PEBESExQVFhcY",
          "dtype": "i1"
         },
         "xaxis": "x",
         "y": {
          "bdata": "AAAAAAD4tUAAAAAAAPi1QAAAAAAA+LVAAAAAAAD4tUAAAAAAAPi1QAAAAAAA+LVAAAAAAAD4tUAAAAAAAPi1QAAAAAAA+LVAAAAAAAD4tUAAAAAAAPi1QAAAAAAA+LVAAAAAAAD4tUAAAAAAAPi1QAAAAAAA+LVAAAAAAAD4tUAAAAAAAPi1QAAAAAAA+LVAAAAAAAD4tUAAAAAAAPi1QAAAAAAA+LVAAAAAAAD4tUAAAAAAAPi1QAAAAAAA+LVA",
          "dtype": "f8"
         },
         "yaxis": "y"
        },
        {
         "hovertemplate": "date=2033-11-30 00:00:00<br>variable=cum_defaults<br>default_month=%{x}<br>value=%{y}<extra></extra>",
         "legendgroup": "2033-11-30 00:00:00",
         "line": {
          "color": "#E377C2",
          "dash": "solid"
         },
         "marker": {
          "symbol": "circle"
         },
         "mode": "lines",
         "name": "2033-11-30 00:00:00",
         "showlegend": false,
         "type": "scattergl",
         "x": {
          "bdata": "AQIDBAUGBwgJCgsMDQ4PEBESExQVFhcY",
          "dtype": "i1"
         },
         "xaxis": "x2",
         "y": {
          "bdata": "5XQBBEtOJz/ldAEES04nP+V0AQRLTic/5XQBBEtOJz/ldAEES04nP+V0AQRLTic/5XQBBEtOJz/ldAEES04nP+V0AQRLTic/5XQBBEtOJz/ldAEES04nP+V0AQRLTic/5XQBBEtOJz/ldAEES04nP+V0AQRLTic/5XQBBEtOJz/ldAEES04nP+V0AQRLTic/5XQBBEtOJz/ldAEES04nP+V0AQRLTic/5XQBBEtOJz/ldAEES04nP+V0AQRLTic/",
          "dtype": "f8"
         },
         "yaxis": "y2"
        },
        {
         "hovertemplate": "date=2033-11-30 00:00:00<br>variable=default_flag<br>default_month=%{x}<br>value=%{y}<extra></extra>",
         "legendgroup": "2033-11-30 00:00:00",
         "line": {
          "color": "#E377C2",
          "dash": "solid"
         },
         "marker": {
          "symbol": "circle"
         },
         "mode": "lines",
         "name": "2033-11-30 00:00:00",
         "showlegend": false,
         "type": "scattergl",
         "x": {
          "bdata": "AQIDBAUGBwgJCgsMDQ4PEBESExQVFhcY",
          "dtype": "i1"
         },
         "xaxis": "x3",
         "y": {
          "bdata": "5XQBBEtOJz8AAAAAAAAAAAAAAAAAAAAAAAAAAAAAAAAAAAAAAAAAAAAAAAAAAAAAAAAAAAAAAAAAAAAAAAAAAAAAAAAAAAAAAAAAAAAAAAAAAAAAAAAAAAAAAAAAAAAAAAAAAAAAAAAAAAAAAAAAAAAAAAAAAAAAAAAAAAAAAAAAAAAAAAAAAAAAAAAAAAAAAAAAAAAAAAAAAAAAAAAAAAAAAAAAAAAAAAAAAAAAAAAAAAAAAAAAAAAAAAAAAAAA",
          "dtype": "f8"
         },
         "yaxis": "y3"
        },
        {
         "hovertemplate": "date=2033-12-31 00:00:00<br>variable=id<br>default_month=%{x}<br>value=%{y}<extra></extra>",
         "legendgroup": "2033-12-31 00:00:00",
         "line": {
          "color": "#7F7F7F",
          "dash": "solid"
         },
         "marker": {
          "symbol": "circle"
         },
         "mode": "lines",
         "name": "2033-12-31 00:00:00",
         "showlegend": true,
         "type": "scattergl",
         "x": {
          "bdata": "AQIDBAUGBwgJCgsMDQ4PEBESExQVFhcY",
          "dtype": "i1"
         },
         "xaxis": "x",
         "y": {
          "bdata": "AAAAAADUtEAAAAAAANS0QAAAAAAA1LRAAAAAAADUtEAAAAAAANS0QAAAAAAA1LRAAAAAAADUtEAAAAAAANS0QAAAAAAA1LRAAAAAAADUtEAAAAAAANS0QAAAAAAA1LRAAAAAAADUtEAAAAAAANS0QAAAAAAA1LRAAAAAAADUtEAAAAAAANS0QAAAAAAA1LRAAAAAAADUtEAAAAAAANS0QAAAAAAA1LRAAAAAAADUtEAAAAAAANS0QAAAAAAA1LRA",
          "dtype": "f8"
         },
         "yaxis": "y"
        },
        {
         "hovertemplate": "date=2033-12-31 00:00:00<br>variable=cum_defaults<br>default_month=%{x}<br>value=%{y}<extra></extra>",
         "legendgroup": "2033-12-31 00:00:00",
         "line": {
          "color": "#7F7F7F",
          "dash": "solid"
         },
         "marker": {
          "symbol": "circle"
         },
         "mode": "lines",
         "name": "2033-12-31 00:00:00",
         "showlegend": false,
         "type": "scattergl",
         "x": {
          "bdata": "AQIDBAUGBwgJCgsMDQ4PEBESExQVFhcY",
          "dtype": "i1"
         },
         "xaxis": "x2",
         "y": {
          "bdata": "AAAAAAAAAAAAAAAAAAAAAAAAAAAAAAAAAAAAAAAAAAAAAAAAAAAAAAAAAAAAAAAAAAAAAAAAAAAAAAAAAAAAAAAAAAAAAAAAAAAAAAAAAAAAAAAAAAAAAAAAAAAAAAAAAAAAAAAAAAAAAAAAAAAAAAAAAAAAAAAAAAAAAAAAAAAAAAAAAAAAAAAAAAAAAAAAAAAAAAAAAAAAAAAAAAAAAAAAAAAAAAAAAAAAAAAAAAAAAAAAAAAAAAAAAAAAAAAA",
          "dtype": "f8"
         },
         "yaxis": "y2"
        },
        {
         "hovertemplate": "date=2033-12-31 00:00:00<br>variable=default_flag<br>default_month=%{x}<br>value=%{y}<extra></extra>",
         "legendgroup": "2033-12-31 00:00:00",
         "line": {
          "color": "#7F7F7F",
          "dash": "solid"
         },
         "marker": {
          "symbol": "circle"
         },
         "mode": "lines",
         "name": "2033-12-31 00:00:00",
         "showlegend": false,
         "type": "scattergl",
         "x": {
          "bdata": "AQIDBAUGBwgJCgsMDQ4PEBESExQVFhcY",
          "dtype": "i1"
         },
         "xaxis": "x3",
         "y": {
          "bdata": "AAAAAAAAAAAAAAAAAAAAAAAAAAAAAAAAAAAAAAAAAAAAAAAAAAAAAAAAAAAAAAAAAAAAAAAAAAAAAAAAAAAAAAAAAAAAAAAAAAAAAAAAAAAAAAAAAAAAAAAAAAAAAAAAAAAAAAAAAAAAAAAAAAAAAAAAAAAAAAAAAAAAAAAAAAAAAAAAAAAAAAAAAAAAAAAAAAAAAAAAAAAAAAAAAAAAAAAAAAAAAAAAAAAAAAAAAAAAAAAAAAAAAAAAAAAAAAAA",
          "dtype": "f8"
         },
         "yaxis": "y3"
        },
        {
         "hovertemplate": "date=2034-01-31 00:00:00<br>variable=id<br>default_month=%{x}<br>value=%{y}<extra></extra>",
         "legendgroup": "2034-01-31 00:00:00",
         "line": {
          "color": "#BCBD22",
          "dash": "solid"
         },
         "marker": {
          "symbol": "circle"
         },
         "mode": "lines",
         "name": "2034-01-31 00:00:00",
         "showlegend": true,
         "type": "scattergl",
         "x": {
          "bdata": "AQIDBAUGBwgJCgsMDQ4PEBESExQVFhcY",
          "dtype": "i1"
         },
         "xaxis": "x",
         "y": {
          "bdata": "AAAAAACMs0AAAAAAAIyzQAAAAAAAjLNAAAAAAACMs0AAAAAAAIyzQAAAAAAAjLNAAAAAAACMs0AAAAAAAIyzQAAAAAAAjLNAAAAAAACMs0AAAAAAAIyzQAAAAAAAjLNAAAAAAACMs0AAAAAAAIyzQAAAAAAAjLNAAAAAAACMs0AAAAAAAIyzQAAAAAAAjLNAAAAAAACMs0AAAAAAAIyzQAAAAAAAjLNAAAAAAACMs0AAAAAAAIyzQAAAAAAAjLNA",
          "dtype": "f8"
         },
         "yaxis": "y"
        },
        {
         "hovertemplate": "date=2034-01-31 00:00:00<br>variable=cum_defaults<br>default_month=%{x}<br>value=%{y}<extra></extra>",
         "legendgroup": "2034-01-31 00:00:00",
         "line": {
          "color": "#BCBD22",
          "dash": "solid"
         },
         "marker": {
          "symbol": "circle"
         },
         "mode": "lines",
         "name": "2034-01-31 00:00:00",
         "showlegend": false,
         "type": "scattergl",
         "x": {
          "bdata": "AQIDBAUGBwgJCgsMDQ4PEBESExQVFhcY",
          "dtype": "i1"
         },
         "xaxis": "x2",
         "y": {
          "bdata": "AAAAAAAAAAAAAAAAAAAAAAAAAAAAAAAAAAAAAAAAAAAAAAAAAAAAAAAAAAAAAAAAAAAAAAAAAAAAAAAAAAAAAAAAAAAAAAAAAAAAAAAAAAAAAAAAAAAAAAAAAAAAAAAAAAAAAAAAAAAAAAAAAAAAAAAAAAAAAAAAAAAAAAAAAAAAAAAAAAAAAAAAAAAAAAAAAAAAAAAAAAAAAAAAAAAAAAAAAAAAAAAAAAAAAAAAAAAAAAAAAAAAAAAAAAAAAAAA",
          "dtype": "f8"
         },
         "yaxis": "y2"
        },
        {
         "hovertemplate": "date=2034-01-31 00:00:00<br>variable=default_flag<br>default_month=%{x}<br>value=%{y}<extra></extra>",
         "legendgroup": "2034-01-31 00:00:00",
         "line": {
          "color": "#BCBD22",
          "dash": "solid"
         },
         "marker": {
          "symbol": "circle"
         },
         "mode": "lines",
         "name": "2034-01-31 00:00:00",
         "showlegend": false,
         "type": "scattergl",
         "x": {
          "bdata": "AQIDBAUGBwgJCgsMDQ4PEBESExQVFhcY",
          "dtype": "i1"
         },
         "xaxis": "x3",
         "y": {
          "bdata": "AAAAAAAAAAAAAAAAAAAAAAAAAAAAAAAAAAAAAAAAAAAAAAAAAAAAAAAAAAAAAAAAAAAAAAAAAAAAAAAAAAAAAAAAAAAAAAAAAAAAAAAAAAAAAAAAAAAAAAAAAAAAAAAAAAAAAAAAAAAAAAAAAAAAAAAAAAAAAAAAAAAAAAAAAAAAAAAAAAAAAAAAAAAAAAAAAAAAAAAAAAAAAAAAAAAAAAAAAAAAAAAAAAAAAAAAAAAAAAAAAAAAAAAAAAAAAAAA",
          "dtype": "f8"
         },
         "yaxis": "y3"
        },
        {
         "hovertemplate": "date=2034-02-28 00:00:00<br>variable=id<br>default_month=%{x}<br>value=%{y}<extra></extra>",
         "legendgroup": "2034-02-28 00:00:00",
         "line": {
          "color": "#17BECF",
          "dash": "solid"
         },
         "marker": {
          "symbol": "circle"
         },
         "mode": "lines",
         "name": "2034-02-28 00:00:00",
         "showlegend": true,
         "type": "scattergl",
         "x": {
          "bdata": "AQIDBAUGBwgJCgsMDQ4PEBESExQVFhcY",
          "dtype": "i1"
         },
         "xaxis": "x",
         "y": {
          "bdata": "AAAAAABRskAAAAAAAFGyQAAAAAAAUbJAAAAAAABRskAAAAAAAFGyQAAAAAAAUbJAAAAAAABRskAAAAAAAFGyQAAAAAAAUbJAAAAAAABRskAAAAAAAFGyQAAAAAAAUbJAAAAAAABRskAAAAAAAFGyQAAAAAAAUbJAAAAAAABRskAAAAAAAFGyQAAAAAAAUbJAAAAAAABRskAAAAAAAFGyQAAAAAAAUbJAAAAAAABRskAAAAAAAFGyQAAAAAAAUbJA",
          "dtype": "f8"
         },
         "yaxis": "y"
        },
        {
         "hovertemplate": "date=2034-02-28 00:00:00<br>variable=cum_defaults<br>default_month=%{x}<br>value=%{y}<extra></extra>",
         "legendgroup": "2034-02-28 00:00:00",
         "line": {
          "color": "#17BECF",
          "dash": "solid"
         },
         "marker": {
          "symbol": "circle"
         },
         "mode": "lines",
         "name": "2034-02-28 00:00:00",
         "showlegend": false,
         "type": "scattergl",
         "x": {
          "bdata": "AQIDBAUGBwgJCgsMDQ4PEBESExQVFhcY",
          "dtype": "i1"
         },
         "xaxis": "x2",
         "y": {
          "bdata": "AAAAAAAAAAAAAAAAAAAAAAAAAAAAAAAAAAAAAAAAAAAAAAAAAAAAAAAAAAAAAAAAAAAAAAAAAAAAAAAAAAAAAAAAAAAAAAAAAAAAAAAAAAAAAAAAAAAAAAAAAAAAAAAAAAAAAAAAAAAAAAAAAAAAAAAAAAAAAAAAAAAAAAAAAAAAAAAAAAAAAAAAAAAAAAAAAAAAAAAAAAAAAAAAAAAAAAAAAAAAAAAAAAAAAAAAAAAAAAAAAAAAAAAAAAAAAAAA",
          "dtype": "f8"
         },
         "yaxis": "y2"
        },
        {
         "hovertemplate": "date=2034-02-28 00:00:00<br>variable=default_flag<br>default_month=%{x}<br>value=%{y}<extra></extra>",
         "legendgroup": "2034-02-28 00:00:00",
         "line": {
          "color": "#17BECF",
          "dash": "solid"
         },
         "marker": {
          "symbol": "circle"
         },
         "mode": "lines",
         "name": "2034-02-28 00:00:00",
         "showlegend": false,
         "type": "scattergl",
         "x": {
          "bdata": "AQIDBAUGBwgJCgsMDQ4PEBESExQVFhcY",
          "dtype": "i1"
         },
         "xaxis": "x3",
         "y": {
          "bdata": "AAAAAAAAAAAAAAAAAAAAAAAAAAAAAAAAAAAAAAAAAAAAAAAAAAAAAAAAAAAAAAAAAAAAAAAAAAAAAAAAAAAAAAAAAAAAAAAAAAAAAAAAAAAAAAAAAAAAAAAAAAAAAAAAAAAAAAAAAAAAAAAAAAAAAAAAAAAAAAAAAAAAAAAAAAAAAAAAAAAAAAAAAAAAAAAAAAAAAAAAAAAAAAAAAAAAAAAAAAAAAAAAAAAAAAAAAAAAAAAAAAAAAAAAAAAAAAAA",
          "dtype": "f8"
         },
         "yaxis": "y3"
        },
        {
         "hovertemplate": "date=2034-03-31 00:00:00<br>variable=id<br>default_month=%{x}<br>value=%{y}<extra></extra>",
         "legendgroup": "2034-03-31 00:00:00",
         "line": {
          "color": "#1F77B4",
          "dash": "solid"
         },
         "marker": {
          "symbol": "circle"
         },
         "mode": "lines",
         "name": "2034-03-31 00:00:00",
         "showlegend": true,
         "type": "scattergl",
         "x": {
          "bdata": "AQIDBAUGBwgJCgsMDQ4PEBESExQVFhcY",
          "dtype": "i1"
         },
         "xaxis": "x",
         "y": {
          "bdata": "AAAAAAATsUAAAAAAABOxQAAAAAAAE7FAAAAAAAATsUAAAAAAABOxQAAAAAAAE7FAAAAAAAATsUAAAAAAABOxQAAAAAAAE7FAAAAAAAATsUAAAAAAABOxQAAAAAAAE7FAAAAAAAATsUAAAAAAABOxQAAAAAAAE7FAAAAAAAATsUAAAAAAABOxQAAAAAAAE7FAAAAAAAATsUAAAAAAABOxQAAAAAAAE7FAAAAAAAATsUAAAAAAABOxQAAAAAAAE7FA",
          "dtype": "f8"
         },
         "yaxis": "y"
        },
        {
         "hovertemplate": "date=2034-03-31 00:00:00<br>variable=cum_defaults<br>default_month=%{x}<br>value=%{y}<extra></extra>",
         "legendgroup": "2034-03-31 00:00:00",
         "line": {
          "color": "#1F77B4",
          "dash": "solid"
         },
         "marker": {
          "symbol": "circle"
         },
         "mode": "lines",
         "name": "2034-03-31 00:00:00",
         "showlegend": false,
         "type": "scattergl",
         "x": {
          "bdata": "AQIDBAUGBwgJCgsMDQ4PEBESExQVFhcY",
          "dtype": "i1"
         },
         "xaxis": "x2",
         "y": {
          "bdata": "AAAAAAAAAAAAAAAAAAAAAAAAAAAAAAAAAAAAAAAAAAAAAAAAAAAAAAAAAAAAAAAAAAAAAAAAAAAAAAAAAAAAAAAAAAAAAAAAAAAAAAAAAAAAAAAAAAAAAAAAAAAAAAAAAAAAAAAAAAAAAAAAAAAAAAAAAAAAAAAAAAAAAAAAAAAAAAAAAAAAAAAAAAAAAAAAAAAAAAAAAAAAAAAAAAAAAAAAAAAAAAAAAAAAAAAAAAAAAAAAAAAAAAAAAAAAAAAA",
          "dtype": "f8"
         },
         "yaxis": "y2"
        },
        {
         "hovertemplate": "date=2034-03-31 00:00:00<br>variable=default_flag<br>default_month=%{x}<br>value=%{y}<extra></extra>",
         "legendgroup": "2034-03-31 00:00:00",
         "line": {
          "color": "#1F77B4",
          "dash": "solid"
         },
         "marker": {
          "symbol": "circle"
         },
         "mode": "lines",
         "name": "2034-03-31 00:00:00",
         "showlegend": false,
         "type": "scattergl",
         "x": {
          "bdata": "AQIDBAUGBwgJCgsMDQ4PEBESExQVFhcY",
          "dtype": "i1"
         },
         "xaxis": "x3",
         "y": {
          "bdata": "AAAAAAAAAAAAAAAAAAAAAAAAAAAAAAAAAAAAAAAAAAAAAAAAAAAAAAAAAAAAAAAAAAAAAAAAAAAAAAAAAAAAAAAAAAAAAAAAAAAAAAAAAAAAAAAAAAAAAAAAAAAAAAAAAAAAAAAAAAAAAAAAAAAAAAAAAAAAAAAAAAAAAAAAAAAAAAAAAAAAAAAAAAAAAAAAAAAAAAAAAAAAAAAAAAAAAAAAAAAAAAAAAAAAAAAAAAAAAAAAAAAAAAAAAAAAAAAA",
          "dtype": "f8"
         },
         "yaxis": "y3"
        },
        {
         "hovertemplate": "date=2034-04-30 00:00:00<br>variable=id<br>default_month=%{x}<br>value=%{y}<extra></extra>",
         "legendgroup": "2034-04-30 00:00:00",
         "line": {
          "color": "#FF7F0E",
          "dash": "solid"
         },
         "marker": {
          "symbol": "circle"
         },
         "mode": "lines",
         "name": "2034-04-30 00:00:00",
         "showlegend": true,
         "type": "scattergl",
         "x": {
          "bdata": "AQIDBAUGBwgJCgsMDQ4PEBESExQVFhcY",
          "dtype": "i1"
         },
         "xaxis": "x",
         "y": {
          "bdata": "AAAAAACQr0AAAAAAAJCvQAAAAAAAkK9AAAAAAACQr0AAAAAAAJCvQAAAAAAAkK9AAAAAAACQr0AAAAAAAJCvQAAAAAAAkK9AAAAAAACQr0AAAAAAAJCvQAAAAAAAkK9AAAAAAACQr0AAAAAAAJCvQAAAAAAAkK9AAAAAAACQr0AAAAAAAJCvQAAAAAAAkK9AAAAAAACQr0AAAAAAAJCvQAAAAAAAkK9AAAAAAACQr0AAAAAAAJCvQAAAAAAAkK9A",
          "dtype": "f8"
         },
         "yaxis": "y"
        },
        {
         "hovertemplate": "date=2034-04-30 00:00:00<br>variable=cum_defaults<br>default_month=%{x}<br>value=%{y}<extra></extra>",
         "legendgroup": "2034-04-30 00:00:00",
         "line": {
          "color": "#FF7F0E",
          "dash": "solid"
         },
         "marker": {
          "symbol": "circle"
         },
         "mode": "lines",
         "name": "2034-04-30 00:00:00",
         "showlegend": false,
         "type": "scattergl",
         "x": {
          "bdata": "AQIDBAUGBwgJCgsMDQ4PEBESExQVFhcY",
          "dtype": "i1"
         },
         "xaxis": "x2",
         "y": {
          "bdata": "AAAAAAAAAAAAAAAAAAAAAAAAAAAAAAAAAAAAAAAAAAAAAAAAAAAAAAAAAAAAAAAAAAAAAAAAAAAAAAAAAAAAAAAAAAAAAAAAAAAAAAAAAAAAAAAAAAAAAAAAAAAAAAAAAAAAAAAAAAAAAAAAAAAAAAAAAAAAAAAAAAAAAAAAAAAAAAAAAAAAAAAAAAAAAAAAAAAAAAAAAAAAAAAAAAAAAAAAAAAAAAAAAAAAAAAAAAAAAAAAAAAAAAAAAAAAAAAA",
          "dtype": "f8"
         },
         "yaxis": "y2"
        },
        {
         "hovertemplate": "date=2034-04-30 00:00:00<br>variable=default_flag<br>default_month=%{x}<br>value=%{y}<extra></extra>",
         "legendgroup": "2034-04-30 00:00:00",
         "line": {
          "color": "#FF7F0E",
          "dash": "solid"
         },
         "marker": {
          "symbol": "circle"
         },
         "mode": "lines",
         "name": "2034-04-30 00:00:00",
         "showlegend": false,
         "type": "scattergl",
         "x": {
          "bdata": "AQIDBAUGBwgJCgsMDQ4PEBESExQVFhcY",
          "dtype": "i1"
         },
         "xaxis": "x3",
         "y": {
          "bdata": "AAAAAAAAAAAAAAAAAAAAAAAAAAAAAAAAAAAAAAAAAAAAAAAAAAAAAAAAAAAAAAAAAAAAAAAAAAAAAAAAAAAAAAAAAAAAAAAAAAAAAAAAAAAAAAAAAAAAAAAAAAAAAAAAAAAAAAAAAAAAAAAAAAAAAAAAAAAAAAAAAAAAAAAAAAAAAAAAAAAAAAAAAAAAAAAAAAAAAAAAAAAAAAAAAAAAAAAAAAAAAAAAAAAAAAAAAAAAAAAAAAAAAAAAAAAAAAAA",
          "dtype": "f8"
         },
         "yaxis": "y3"
        },
        {
         "hovertemplate": "date=2034-05-31 00:00:00<br>variable=id<br>default_month=%{x}<br>value=%{y}<extra></extra>",
         "legendgroup": "2034-05-31 00:00:00",
         "line": {
          "color": "#2CA02C",
          "dash": "solid"
         },
         "marker": {
          "symbol": "circle"
         },
         "mode": "lines",
         "name": "2034-05-31 00:00:00",
         "showlegend": true,
         "type": "scattergl",
         "x": {
          "bdata": "AQIDBAUGBwgJCgsMDQ4PEBESExQVFhcY",
          "dtype": "i1"
         },
         "xaxis": "x",
         "y": {
          "bdata": "AAAAAAD6rEAAAAAAAPqsQAAAAAAA+qxAAAAAAAD6rEAAAAAAAPqsQAAAAAAA+qxAAAAAAAD6rEAAAAAAAPqsQAAAAAAA+qxAAAAAAAD6rEAAAAAAAPqsQAAAAAAA+qxAAAAAAAD6rEAAAAAAAPqsQAAAAAAA+qxAAAAAAAD6rEAAAAAAAPqsQAAAAAAA+qxAAAAAAAD6rEAAAAAAAPqsQAAAAAAA+qxAAAAAAAD6rEAAAAAAAPqsQAAAAAAA+qxA",
          "dtype": "f8"
         },
         "yaxis": "y"
        },
        {
         "hovertemplate": "date=2034-05-31 00:00:00<br>variable=cum_defaults<br>default_month=%{x}<br>value=%{y}<extra></extra>",
         "legendgroup": "2034-05-31 00:00:00",
         "line": {
          "color": "#2CA02C",
          "dash": "solid"
         },
         "marker": {
          "symbol": "circle"
         },
         "mode": "lines",
         "name": "2034-05-31 00:00:00",
         "showlegend": false,
         "type": "scattergl",
         "x": {
          "bdata": "AQIDBAUGBwgJCgsMDQ4PEBESExQVFhcY",
          "dtype": "i1"
         },
         "xaxis": "x2",
         "y": {
          "bdata": "AAAAAAAAAAAAAAAAAAAAAAAAAAAAAAAAAAAAAAAAAAAAAAAAAAAAAAAAAAAAAAAAAAAAAAAAAAAAAAAAAAAAAAAAAAAAAAAAAAAAAAAAAAAAAAAAAAAAAAAAAAAAAAAAAAAAAAAAAAAAAAAAAAAAAAAAAAAAAAAAAAAAAAAAAAAAAAAAAAAAAAAAAAAAAAAAAAAAAAAAAAAAAAAAAAAAAAAAAAAAAAAAAAAAAAAAAAAAAAAAAAAAAAAAAAAAAAAA",
          "dtype": "f8"
         },
         "yaxis": "y2"
        },
        {
         "hovertemplate": "date=2034-05-31 00:00:00<br>variable=default_flag<br>default_month=%{x}<br>value=%{y}<extra></extra>",
         "legendgroup": "2034-05-31 00:00:00",
         "line": {
          "color": "#2CA02C",
          "dash": "solid"
         },
         "marker": {
          "symbol": "circle"
         },
         "mode": "lines",
         "name": "2034-05-31 00:00:00",
         "showlegend": false,
         "type": "scattergl",
         "x": {
          "bdata": "AQIDBAUGBwgJCgsMDQ4PEBESExQVFhcY",
          "dtype": "i1"
         },
         "xaxis": "x3",
         "y": {
          "bdata": "AAAAAAAAAAAAAAAAAAAAAAAAAAAAAAAAAAAAAAAAAAAAAAAAAAAAAAAAAAAAAAAAAAAAAAAAAAAAAAAAAAAAAAAAAAAAAAAAAAAAAAAAAAAAAAAAAAAAAAAAAAAAAAAAAAAAAAAAAAAAAAAAAAAAAAAAAAAAAAAAAAAAAAAAAAAAAAAAAAAAAAAAAAAAAAAAAAAAAAAAAAAAAAAAAAAAAAAAAAAAAAAAAAAAAAAAAAAAAAAAAAAAAAAAAAAAAAAA",
          "dtype": "f8"
         },
         "yaxis": "y3"
        },
        {
         "hovertemplate": "date=2034-06-30 00:00:00<br>variable=id<br>default_month=%{x}<br>value=%{y}<extra></extra>",
         "legendgroup": "2034-06-30 00:00:00",
         "line": {
          "color": "#D62728",
          "dash": "solid"
         },
         "marker": {
          "symbol": "circle"
         },
         "mode": "lines",
         "name": "2034-06-30 00:00:00",
         "showlegend": true,
         "type": "scattergl",
         "x": {
          "bdata": "AQIDBAUGBwgJCgsMDQ4PEBESExQVFhcY",
          "dtype": "i1"
         },
         "xaxis": "x",
         "y": {
          "bdata": "AAAAAAAQqkAAAAAAABCqQAAAAAAAEKpAAAAAAAAQqkAAAAAAABCqQAAAAAAAEKpAAAAAAAAQqkAAAAAAABCqQAAAAAAAEKpAAAAAAAAQqkAAAAAAABCqQAAAAAAAEKpAAAAAAAAQqkAAAAAAABCqQAAAAAAAEKpAAAAAAAAQqkAAAAAAABCqQAAAAAAAEKpAAAAAAAAQqkAAAAAAABCqQAAAAAAAEKpAAAAAAAAQqkAAAAAAABCqQAAAAAAAEKpA",
          "dtype": "f8"
         },
         "yaxis": "y"
        },
        {
         "hovertemplate": "date=2034-06-30 00:00:00<br>variable=cum_defaults<br>default_month=%{x}<br>value=%{y}<extra></extra>",
         "legendgroup": "2034-06-30 00:00:00",
         "line": {
          "color": "#D62728",
          "dash": "solid"
         },
         "marker": {
          "symbol": "circle"
         },
         "mode": "lines",
         "name": "2034-06-30 00:00:00",
         "showlegend": false,
         "type": "scattergl",
         "x": {
          "bdata": "AQIDBAUGBwgJCgsMDQ4PEBESExQVFhcY",
          "dtype": "i1"
         },
         "xaxis": "x2",
         "y": {
          "bdata": "AAAAAAAAAAAAAAAAAAAAAAAAAAAAAAAAAAAAAAAAAAAAAAAAAAAAAAAAAAAAAAAAAAAAAAAAAAAAAAAAAAAAAAAAAAAAAAAAAAAAAAAAAAAAAAAAAAAAAAAAAAAAAAAAAAAAAAAAAAAAAAAAAAAAAAAAAAAAAAAAAAAAAAAAAAAAAAAAAAAAAAAAAAAAAAAAAAAAAAAAAAAAAAAAAAAAAAAAAAAAAAAAAAAAAAAAAAAAAAAAAAAAAAAAAAAAAAAA",
          "dtype": "f8"
         },
         "yaxis": "y2"
        },
        {
         "hovertemplate": "date=2034-06-30 00:00:00<br>variable=default_flag<br>default_month=%{x}<br>value=%{y}<extra></extra>",
         "legendgroup": "2034-06-30 00:00:00",
         "line": {
          "color": "#D62728",
          "dash": "solid"
         },
         "marker": {
          "symbol": "circle"
         },
         "mode": "lines",
         "name": "2034-06-30 00:00:00",
         "showlegend": false,
         "type": "scattergl",
         "x": {
          "bdata": "AQIDBAUGBwgJCgsMDQ4PEBESExQVFhcY",
          "dtype": "i1"
         },
         "xaxis": "x3",
         "y": {
          "bdata": "AAAAAAAAAAAAAAAAAAAAAAAAAAAAAAAAAAAAAAAAAAAAAAAAAAAAAAAAAAAAAAAAAAAAAAAAAAAAAAAAAAAAAAAAAAAAAAAAAAAAAAAAAAAAAAAAAAAAAAAAAAAAAAAAAAAAAAAAAAAAAAAAAAAAAAAAAAAAAAAAAAAAAAAAAAAAAAAAAAAAAAAAAAAAAAAAAAAAAAAAAAAAAAAAAAAAAAAAAAAAAAAAAAAAAAAAAAAAAAAAAAAAAAAAAAAAAAAA",
          "dtype": "f8"
         },
         "yaxis": "y3"
        },
        {
         "hovertemplate": "date=2034-07-31 00:00:00<br>variable=id<br>default_month=%{x}<br>value=%{y}<extra></extra>",
         "legendgroup": "2034-07-31 00:00:00",
         "line": {
          "color": "#9467BD",
          "dash": "solid"
         },
         "marker": {
          "symbol": "circle"
         },
         "mode": "lines",
         "name": "2034-07-31 00:00:00",
         "showlegend": true,
         "type": "scattergl",
         "x": {
          "bdata": "AQIDBAUGBwgJCgsMDQ4PEBESExQVFhcY",
          "dtype": "i1"
         },
         "xaxis": "x",
         "y": {
          "bdata": "AAAAAACKp0AAAAAAAIqnQAAAAAAAiqdAAAAAAACKp0AAAAAAAIqnQAAAAAAAiqdAAAAAAACKp0AAAAAAAIqnQAAAAAAAiqdAAAAAAACKp0AAAAAAAIqnQAAAAAAAiqdAAAAAAACKp0AAAAAAAIqnQAAAAAAAiqdAAAAAAACKp0AAAAAAAIqnQAAAAAAAiqdAAAAAAACKp0AAAAAAAIqnQAAAAAAAiqdAAAAAAACKp0AAAAAAAIqnQAAAAAAAiqdA",
          "dtype": "f8"
         },
         "yaxis": "y"
        },
        {
         "hovertemplate": "date=2034-07-31 00:00:00<br>variable=cum_defaults<br>default_month=%{x}<br>value=%{y}<extra></extra>",
         "legendgroup": "2034-07-31 00:00:00",
         "line": {
          "color": "#9467BD",
          "dash": "solid"
         },
         "marker": {
          "symbol": "circle"
         },
         "mode": "lines",
         "name": "2034-07-31 00:00:00",
         "showlegend": false,
         "type": "scattergl",
         "x": {
          "bdata": "AQIDBAUGBwgJCgsMDQ4PEBESExQVFhcY",
          "dtype": "i1"
         },
         "xaxis": "x2",
         "y": {
          "bdata": "AAAAAAAAAAAAAAAAAAAAAAAAAAAAAAAAAAAAAAAAAAAAAAAAAAAAAAAAAAAAAAAAAAAAAAAAAAAAAAAAAAAAAAAAAAAAAAAAAAAAAAAAAAAAAAAAAAAAAAAAAAAAAAAAAAAAAAAAAAAAAAAAAAAAAAAAAAAAAAAAAAAAAAAAAAAAAAAAAAAAAAAAAAAAAAAAAAAAAAAAAAAAAAAAAAAAAAAAAAAAAAAAAAAAAAAAAAAAAAAAAAAAAAAAAAAAAAAA",
          "dtype": "f8"
         },
         "yaxis": "y2"
        },
        {
         "hovertemplate": "date=2034-07-31 00:00:00<br>variable=default_flag<br>default_month=%{x}<br>value=%{y}<extra></extra>",
         "legendgroup": "2034-07-31 00:00:00",
         "line": {
          "color": "#9467BD",
          "dash": "solid"
         },
         "marker": {
          "symbol": "circle"
         },
         "mode": "lines",
         "name": "2034-07-31 00:00:00",
         "showlegend": false,
         "type": "scattergl",
         "x": {
          "bdata": "AQIDBAUGBwgJCgsMDQ4PEBESExQVFhcY",
          "dtype": "i1"
         },
         "xaxis": "x3",
         "y": {
          "bdata": "AAAAAAAAAAAAAAAAAAAAAAAAAAAAAAAAAAAAAAAAAAAAAAAAAAAAAAAAAAAAAAAAAAAAAAAAAAAAAAAAAAAAAAAAAAAAAAAAAAAAAAAAAAAAAAAAAAAAAAAAAAAAAAAAAAAAAAAAAAAAAAAAAAAAAAAAAAAAAAAAAAAAAAAAAAAAAAAAAAAAAAAAAAAAAAAAAAAAAAAAAAAAAAAAAAAAAAAAAAAAAAAAAAAAAAAAAAAAAAAAAAAAAAAAAAAAAAAA",
          "dtype": "f8"
         },
         "yaxis": "y3"
        },
        {
         "hovertemplate": "date=2034-08-31 00:00:00<br>variable=id<br>default_month=%{x}<br>value=%{y}<extra></extra>",
         "legendgroup": "2034-08-31 00:00:00",
         "line": {
          "color": "#8C564B",
          "dash": "solid"
         },
         "marker": {
          "symbol": "circle"
         },
         "mode": "lines",
         "name": "2034-08-31 00:00:00",
         "showlegend": true,
         "type": "scattergl",
         "x": {
          "bdata": "AQIDBAUGBwgJCgsMDQ4PEBESExQVFhcY",
          "dtype": "i1"
         },
         "xaxis": "x",
         "y": {
          "bdata": "AAAAAAAWpUAAAAAAABalQAAAAAAAFqVAAAAAAAAWpUAAAAAAABalQAAAAAAAFqVAAAAAAAAWpUAAAAAAABalQAAAAAAAFqVAAAAAAAAWpUAAAAAAABalQAAAAAAAFqVAAAAAAAAWpUAAAAAAABalQAAAAAAAFqVAAAAAAAAWpUAAAAAAABalQAAAAAAAFqVAAAAAAAAWpUAAAAAAABalQAAAAAAAFqVAAAAAAAAWpUAAAAAAABalQAAAAAAAFqVA",
          "dtype": "f8"
         },
         "yaxis": "y"
        },
        {
         "hovertemplate": "date=2034-08-31 00:00:00<br>variable=cum_defaults<br>default_month=%{x}<br>value=%{y}<extra></extra>",
         "legendgroup": "2034-08-31 00:00:00",
         "line": {
          "color": "#8C564B",
          "dash": "solid"
         },
         "marker": {
          "symbol": "circle"
         },
         "mode": "lines",
         "name": "2034-08-31 00:00:00",
         "showlegend": false,
         "type": "scattergl",
         "x": {
          "bdata": "AQIDBAUGBwgJCgsMDQ4PEBESExQVFhcY",
          "dtype": "i1"
         },
         "xaxis": "x2",
         "y": {
          "bdata": "AAAAAAAAAAAAAAAAAAAAAAAAAAAAAAAAAAAAAAAAAAAAAAAAAAAAAAAAAAAAAAAAAAAAAAAAAAAAAAAAAAAAAAAAAAAAAAAAAAAAAAAAAAAAAAAAAAAAAAAAAAAAAAAAAAAAAAAAAAAAAAAAAAAAAAAAAAAAAAAAAAAAAAAAAAAAAAAAAAAAAAAAAAAAAAAAAAAAAAAAAAAAAAAAAAAAAAAAAAAAAAAAAAAAAAAAAAAAAAAAAAAAAAAAAAAAAAAA",
          "dtype": "f8"
         },
         "yaxis": "y2"
        },
        {
         "hovertemplate": "date=2034-08-31 00:00:00<br>variable=default_flag<br>default_month=%{x}<br>value=%{y}<extra></extra>",
         "legendgroup": "2034-08-31 00:00:00",
         "line": {
          "color": "#8C564B",
          "dash": "solid"
         },
         "marker": {
          "symbol": "circle"
         },
         "mode": "lines",
         "name": "2034-08-31 00:00:00",
         "showlegend": false,
         "type": "scattergl",
         "x": {
          "bdata": "AQIDBAUGBwgJCgsMDQ4PEBESExQVFhcY",
          "dtype": "i1"
         },
         "xaxis": "x3",
         "y": {
          "bdata": "AAAAAAAAAAAAAAAAAAAAAAAAAAAAAAAAAAAAAAAAAAAAAAAAAAAAAAAAAAAAAAAAAAAAAAAAAAAAAAAAAAAAAAAAAAAAAAAAAAAAAAAAAAAAAAAAAAAAAAAAAAAAAAAAAAAAAAAAAAAAAAAAAAAAAAAAAAAAAAAAAAAAAAAAAAAAAAAAAAAAAAAAAAAAAAAAAAAAAAAAAAAAAAAAAAAAAAAAAAAAAAAAAAAAAAAAAAAAAAAAAAAAAAAAAAAAAAAA",
          "dtype": "f8"
         },
         "yaxis": "y3"
        },
        {
         "hovertemplate": "date=2034-09-30 00:00:00<br>variable=id<br>default_month=%{x}<br>value=%{y}<extra></extra>",
         "legendgroup": "2034-09-30 00:00:00",
         "line": {
          "color": "#E377C2",
          "dash": "solid"
         },
         "marker": {
          "symbol": "circle"
         },
         "mode": "lines",
         "name": "2034-09-30 00:00:00",
         "showlegend": true,
         "type": "scattergl",
         "x": {
          "bdata": "AQIDBAUGBwgJCgsMDQ4PEBESExQVFhcY",
          "dtype": "i1"
         },
         "xaxis": "x",
         "y": {
          "bdata": "AAAAAABWokAAAAAAAFaiQAAAAAAAVqJAAAAAAABWokAAAAAAAFaiQAAAAAAAVqJAAAAAAABWokAAAAAAAFaiQAAAAAAAVqJAAAAAAABWokAAAAAAAFaiQAAAAAAAVqJAAAAAAABWokAAAAAAAFaiQAAAAAAAVqJAAAAAAABWokAAAAAAAFaiQAAAAAAAVqJAAAAAAABWokAAAAAAAFaiQAAAAAAAVqJAAAAAAABWokAAAAAAAFaiQAAAAAAAVqJA",
          "dtype": "f8"
         },
         "yaxis": "y"
        },
        {
         "hovertemplate": "date=2034-09-30 00:00:00<br>variable=cum_defaults<br>default_month=%{x}<br>value=%{y}<extra></extra>",
         "legendgroup": "2034-09-30 00:00:00",
         "line": {
          "color": "#E377C2",
          "dash": "solid"
         },
         "marker": {
          "symbol": "circle"
         },
         "mode": "lines",
         "name": "2034-09-30 00:00:00",
         "showlegend": false,
         "type": "scattergl",
         "x": {
          "bdata": "AQIDBAUGBwgJCgsMDQ4PEBESExQVFhcY",
          "dtype": "i1"
         },
         "xaxis": "x2",
         "y": {
          "bdata": "AAAAAAAAAAAAAAAAAAAAAAAAAAAAAAAAAAAAAAAAAAAAAAAAAAAAAAAAAAAAAAAAAAAAAAAAAAAAAAAAAAAAAAAAAAAAAAAAAAAAAAAAAAAAAAAAAAAAAAAAAAAAAAAAAAAAAAAAAAAAAAAAAAAAAAAAAAAAAAAAAAAAAAAAAAAAAAAAAAAAAAAAAAAAAAAAAAAAAAAAAAAAAAAAAAAAAAAAAAAAAAAAAAAAAAAAAAAAAAAAAAAAAAAAAAAAAAAA",
          "dtype": "f8"
         },
         "yaxis": "y2"
        },
        {
         "hovertemplate": "date=2034-09-30 00:00:00<br>variable=default_flag<br>default_month=%{x}<br>value=%{y}<extra></extra>",
         "legendgroup": "2034-09-30 00:00:00",
         "line": {
          "color": "#E377C2",
          "dash": "solid"
         },
         "marker": {
          "symbol": "circle"
         },
         "mode": "lines",
         "name": "2034-09-30 00:00:00",
         "showlegend": false,
         "type": "scattergl",
         "x": {
          "bdata": "AQIDBAUGBwgJCgsMDQ4PEBESExQVFhcY",
          "dtype": "i1"
         },
         "xaxis": "x3",
         "y": {
          "bdata": "AAAAAAAAAAAAAAAAAAAAAAAAAAAAAAAAAAAAAAAAAAAAAAAAAAAAAAAAAAAAAAAAAAAAAAAAAAAAAAAAAAAAAAAAAAAAAAAAAAAAAAAAAAAAAAAAAAAAAAAAAAAAAAAAAAAAAAAAAAAAAAAAAAAAAAAAAAAAAAAAAAAAAAAAAAAAAAAAAAAAAAAAAAAAAAAAAAAAAAAAAAAAAAAAAAAAAAAAAAAAAAAAAAAAAAAAAAAAAAAAAAAAAAAAAAAAAAAA",
          "dtype": "f8"
         },
         "yaxis": "y3"
        },
        {
         "hovertemplate": "date=2034-10-31 00:00:00<br>variable=id<br>default_month=%{x}<br>value=%{y}<extra></extra>",
         "legendgroup": "2034-10-31 00:00:00",
         "line": {
          "color": "#7F7F7F",
          "dash": "solid"
         },
         "marker": {
          "symbol": "circle"
         },
         "mode": "lines",
         "name": "2034-10-31 00:00:00",
         "showlegend": true,
         "type": "scattergl",
         "x": {
          "bdata": "AQIDBAUGBwgJCgsMDQ4PEBESExQVFhcY",
          "dtype": "i1"
         },
         "xaxis": "x",
         "y": {
          "bdata": "AAAAAAB8n0AAAAAAAHyfQAAAAAAAfJ9AAAAAAAB8n0AAAAAAAHyfQAAAAAAAfJ9AAAAAAAB8n0AAAAAAAHyfQAAAAAAAfJ9AAAAAAAB8n0AAAAAAAHyfQAAAAAAAfJ9AAAAAAAB8n0AAAAAAAHyfQAAAAAAAfJ9AAAAAAAB8n0AAAAAAAHyfQAAAAAAAfJ9AAAAAAAB8n0AAAAAAAHyfQAAAAAAAfJ9AAAAAAAB8n0AAAAAAAHyfQAAAAAAAfJ9A",
          "dtype": "f8"
         },
         "yaxis": "y"
        },
        {
         "hovertemplate": "date=2034-10-31 00:00:00<br>variable=cum_defaults<br>default_month=%{x}<br>value=%{y}<extra></extra>",
         "legendgroup": "2034-10-31 00:00:00",
         "line": {
          "color": "#7F7F7F",
          "dash": "solid"
         },
         "marker": {
          "symbol": "circle"
         },
         "mode": "lines",
         "name": "2034-10-31 00:00:00",
         "showlegend": false,
         "type": "scattergl",
         "x": {
          "bdata": "AQIDBAUGBwgJCgsMDQ4PEBESExQVFhcY",
          "dtype": "i1"
         },
         "xaxis": "x2",
         "y": {
          "bdata": "AAAAAAAAAAAAAAAAAAAAAAAAAAAAAAAAAAAAAAAAAAAAAAAAAAAAAAAAAAAAAAAAAAAAAAAAAAAAAAAAAAAAAAAAAAAAAAAAAAAAAAAAAAAAAAAAAAAAAAAAAAAAAAAAAAAAAAAAAAAAAAAAAAAAAAAAAAAAAAAAAAAAAAAAAAAAAAAAAAAAAAAAAAAAAAAAAAAAAAAAAAAAAAAAAAAAAAAAAAAAAAAAAAAAAAAAAAAAAAAAAAAAAAAAAAAAAAAA",
          "dtype": "f8"
         },
         "yaxis": "y2"
        },
        {
         "hovertemplate": "date=2034-10-31 00:00:00<br>variable=default_flag<br>default_month=%{x}<br>value=%{y}<extra></extra>",
         "legendgroup": "2034-10-31 00:00:00",
         "line": {
          "color": "#7F7F7F",
          "dash": "solid"
         },
         "marker": {
          "symbol": "circle"
         },
         "mode": "lines",
         "name": "2034-10-31 00:00:00",
         "showlegend": false,
         "type": "scattergl",
         "x": {
          "bdata": "AQIDBAUGBwgJCgsMDQ4PEBESExQVFhcY",
          "dtype": "i1"
         },
         "xaxis": "x3",
         "y": {
          "bdata": "AAAAAAAAAAAAAAAAAAAAAAAAAAAAAAAAAAAAAAAAAAAAAAAAAAAAAAAAAAAAAAAAAAAAAAAAAAAAAAAAAAAAAAAAAAAAAAAAAAAAAAAAAAAAAAAAAAAAAAAAAAAAAAAAAAAAAAAAAAAAAAAAAAAAAAAAAAAAAAAAAAAAAAAAAAAAAAAAAAAAAAAAAAAAAAAAAAAAAAAAAAAAAAAAAAAAAAAAAAAAAAAAAAAAAAAAAAAAAAAAAAAAAAAAAAAAAAAA",
          "dtype": "f8"
         },
         "yaxis": "y3"
        },
        {
         "hovertemplate": "date=2034-11-30 00:00:00<br>variable=id<br>default_month=%{x}<br>value=%{y}<extra></extra>",
         "legendgroup": "2034-11-30 00:00:00",
         "line": {
          "color": "#BCBD22",
          "dash": "solid"
         },
         "marker": {
          "symbol": "circle"
         },
         "mode": "lines",
         "name": "2034-11-30 00:00:00",
         "showlegend": true,
         "type": "scattergl",
         "x": {
          "bdata": "AQIDBAUGBwgJCgsMDQ4PEBESExQVFhcY",
          "dtype": "i1"
         },
         "xaxis": "x",
         "y": {
          "bdata": "AAAAAAA0mkAAAAAAADSaQAAAAAAANJpAAAAAAAA0mkAAAAAAADSaQAAAAAAANJpAAAAAAAA0mkAAAAAAADSaQAAAAAAANJpAAAAAAAA0mkAAAAAAADSaQAAAAAAANJpAAAAAAAA0mkAAAAAAADSaQAAAAAAANJpAAAAAAAA0mkAAAAAAADSaQAAAAAAANJpAAAAAAAA0mkAAAAAAADSaQAAAAAAANJpAAAAAAAA0mkAAAAAAADSaQAAAAAAANJpA",
          "dtype": "f8"
         },
         "yaxis": "y"
        },
        {
         "hovertemplate": "date=2034-11-30 00:00:00<br>variable=cum_defaults<br>default_month=%{x}<br>value=%{y}<extra></extra>",
         "legendgroup": "2034-11-30 00:00:00",
         "line": {
          "color": "#BCBD22",
          "dash": "solid"
         },
         "marker": {
          "symbol": "circle"
         },
         "mode": "lines",
         "name": "2034-11-30 00:00:00",
         "showlegend": false,
         "type": "scattergl",
         "x": {
          "bdata": "AQIDBAUGBwgJCgsMDQ4PEBESExQVFhcY",
          "dtype": "i1"
         },
         "xaxis": "x2",
         "y": {
          "bdata": "AAAAAAAAAAAAAAAAAAAAAAAAAAAAAAAAAAAAAAAAAAAAAAAAAAAAAAAAAAAAAAAAAAAAAAAAAAAAAAAAAAAAAAAAAAAAAAAAAAAAAAAAAAAAAAAAAAAAAAAAAAAAAAAAAAAAAAAAAAAAAAAAAAAAAAAAAAAAAAAAAAAAAAAAAAAAAAAAAAAAAAAAAAAAAAAAAAAAAAAAAAAAAAAAAAAAAAAAAAAAAAAAAAAAAAAAAAAAAAAAAAAAAAAAAAAAAAAA",
          "dtype": "f8"
         },
         "yaxis": "y2"
        },
        {
         "hovertemplate": "date=2034-11-30 00:00:00<br>variable=default_flag<br>default_month=%{x}<br>value=%{y}<extra></extra>",
         "legendgroup": "2034-11-30 00:00:00",
         "line": {
          "color": "#BCBD22",
          "dash": "solid"
         },
         "marker": {
          "symbol": "circle"
         },
         "mode": "lines",
         "name": "2034-11-30 00:00:00",
         "showlegend": false,
         "type": "scattergl",
         "x": {
          "bdata": "AQIDBAUGBwgJCgsMDQ4PEBESExQVFhcY",
          "dtype": "i1"
         },
         "xaxis": "x3",
         "y": {
          "bdata": "AAAAAAAAAAAAAAAAAAAAAAAAAAAAAAAAAAAAAAAAAAAAAAAAAAAAAAAAAAAAAAAAAAAAAAAAAAAAAAAAAAAAAAAAAAAAAAAAAAAAAAAAAAAAAAAAAAAAAAAAAAAAAAAAAAAAAAAAAAAAAAAAAAAAAAAAAAAAAAAAAAAAAAAAAAAAAAAAAAAAAAAAAAAAAAAAAAAAAAAAAAAAAAAAAAAAAAAAAAAAAAAAAAAAAAAAAAAAAAAAAAAAAAAAAAAAAAAA",
          "dtype": "f8"
         },
         "yaxis": "y3"
        },
        {
         "hovertemplate": "date=2034-12-31 00:00:00<br>variable=id<br>default_month=%{x}<br>value=%{y}<extra></extra>",
         "legendgroup": "2034-12-31 00:00:00",
         "line": {
          "color": "#17BECF",
          "dash": "solid"
         },
         "marker": {
          "symbol": "circle"
         },
         "mode": "lines",
         "name": "2034-12-31 00:00:00",
         "showlegend": true,
         "type": "scattergl",
         "x": {
          "bdata": "AQIDBAUGBwgJCgsMDQ4PEBESExQVFhcY",
          "dtype": "i1"
         },
         "xaxis": "x",
         "y": {
          "bdata": "AAAAAAD0lEAAAAAAAPSUQAAAAAAA9JRAAAAAAAD0lEAAAAAAAPSUQAAAAAAA9JRAAAAAAAD0lEAAAAAAAPSUQAAAAAAA9JRAAAAAAAD0lEAAAAAAAPSUQAAAAAAA9JRAAAAAAAD0lEAAAAAAAPSUQAAAAAAA9JRAAAAAAAD0lEAAAAAAAPSUQAAAAAAA9JRAAAAAAAD0lEAAAAAAAPSUQAAAAAAA9JRAAAAAAAD0lEAAAAAAAPSUQAAAAAAA9JRA",
          "dtype": "f8"
         },
         "yaxis": "y"
        },
        {
         "hovertemplate": "date=2034-12-31 00:00:00<br>variable=cum_defaults<br>default_month=%{x}<br>value=%{y}<extra></extra>",
         "legendgroup": "2034-12-31 00:00:00",
         "line": {
          "color": "#17BECF",
          "dash": "solid"
         },
         "marker": {
          "symbol": "circle"
         },
         "mode": "lines",
         "name": "2034-12-31 00:00:00",
         "showlegend": false,
         "type": "scattergl",
         "x": {
          "bdata": "AQIDBAUGBwgJCgsMDQ4PEBESExQVFhcY",
          "dtype": "i1"
         },
         "xaxis": "x2",
         "y": {
          "bdata": "AAAAAAAAAAAAAAAAAAAAAAAAAAAAAAAAAAAAAAAAAAAAAAAAAAAAAAAAAAAAAAAAAAAAAAAAAAAAAAAAAAAAAAAAAAAAAAAAAAAAAAAAAAAAAAAAAAAAAAAAAAAAAAAAAAAAAAAAAAAAAAAAAAAAAAAAAAAAAAAAAAAAAAAAAAAAAAAAAAAAAAAAAAAAAAAAAAAAAAAAAAAAAAAAAAAAAAAAAAAAAAAAAAAAAAAAAAAAAAAAAAAAAAAAAAAAAAAA",
          "dtype": "f8"
         },
         "yaxis": "y2"
        },
        {
         "hovertemplate": "date=2034-12-31 00:00:00<br>variable=default_flag<br>default_month=%{x}<br>value=%{y}<extra></extra>",
         "legendgroup": "2034-12-31 00:00:00",
         "line": {
          "color": "#17BECF",
          "dash": "solid"
         },
         "marker": {
          "symbol": "circle"
         },
         "mode": "lines",
         "name": "2034-12-31 00:00:00",
         "showlegend": false,
         "type": "scattergl",
         "x": {
          "bdata": "AQIDBAUGBwgJCgsMDQ4PEBESExQVFhcY",
          "dtype": "i1"
         },
         "xaxis": "x3",
         "y": {
          "bdata": "AAAAAAAAAAAAAAAAAAAAAAAAAAAAAAAAAAAAAAAAAAAAAAAAAAAAAAAAAAAAAAAAAAAAAAAAAAAAAAAAAAAAAAAAAAAAAAAAAAAAAAAAAAAAAAAAAAAAAAAAAAAAAAAAAAAAAAAAAAAAAAAAAAAAAAAAAAAAAAAAAAAAAAAAAAAAAAAAAAAAAAAAAAAAAAAAAAAAAAAAAAAAAAAAAAAAAAAAAAAAAAAAAAAAAAAAAAAAAAAAAAAAAAAAAAAAAAAA",
          "dtype": "f8"
         },
         "yaxis": "y3"
        },
        {
         "hovertemplate": "date=2035-01-31 00:00:00<br>variable=id<br>default_month=%{x}<br>value=%{y}<extra></extra>",
         "legendgroup": "2035-01-31 00:00:00",
         "line": {
          "color": "#1F77B4",
          "dash": "solid"
         },
         "marker": {
          "symbol": "circle"
         },
         "mode": "lines",
         "name": "2035-01-31 00:00:00",
         "showlegend": true,
         "type": "scattergl",
         "x": {
          "bdata": "AQIDBAUGBwgJCgsMDQ4PEBESExQVFhcY",
          "dtype": "i1"
         },
         "xaxis": "x",
         "y": {
          "bdata": "AAAAAADgjkAAAAAAAOCOQAAAAAAA4I5AAAAAAADgjkAAAAAAAOCOQAAAAAAA4I5AAAAAAADgjkAAAAAAAOCOQAAAAAAA4I5AAAAAAADgjkAAAAAAAOCOQAAAAAAA4I5AAAAAAADgjkAAAAAAAOCOQAAAAAAA4I5AAAAAAADgjkAAAAAAAOCOQAAAAAAA4I5AAAAAAADgjkAAAAAAAOCOQAAAAAAA4I5AAAAAAADgjkAAAAAAAOCOQAAAAAAA4I5A",
          "dtype": "f8"
         },
         "yaxis": "y"
        },
        {
         "hovertemplate": "date=2035-01-31 00:00:00<br>variable=cum_defaults<br>default_month=%{x}<br>value=%{y}<extra></extra>",
         "legendgroup": "2035-01-31 00:00:00",
         "line": {
          "color": "#1F77B4",
          "dash": "solid"
         },
         "marker": {
          "symbol": "circle"
         },
         "mode": "lines",
         "name": "2035-01-31 00:00:00",
         "showlegend": false,
         "type": "scattergl",
         "x": {
          "bdata": "AQIDBAUGBwgJCgsMDQ4PEBESExQVFhcY",
          "dtype": "i1"
         },
         "xaxis": "x2",
         "y": {
          "bdata": "AAAAAAAAAAAAAAAAAAAAAAAAAAAAAAAAAAAAAAAAAAAAAAAAAAAAAAAAAAAAAAAAAAAAAAAAAAAAAAAAAAAAAAAAAAAAAAAAAAAAAAAAAAAAAAAAAAAAAAAAAAAAAAAAAAAAAAAAAAAAAAAAAAAAAAAAAAAAAAAAAAAAAAAAAAAAAAAAAAAAAAAAAAAAAAAAAAAAAAAAAAAAAAAAAAAAAAAAAAAAAAAAAAAAAAAAAAAAAAAAAAAAAAAAAAAAAAAA",
          "dtype": "f8"
         },
         "yaxis": "y2"
        },
        {
         "hovertemplate": "date=2035-01-31 00:00:00<br>variable=default_flag<br>default_month=%{x}<br>value=%{y}<extra></extra>",
         "legendgroup": "2035-01-31 00:00:00",
         "line": {
          "color": "#1F77B4",
          "dash": "solid"
         },
         "marker": {
          "symbol": "circle"
         },
         "mode": "lines",
         "name": "2035-01-31 00:00:00",
         "showlegend": false,
         "type": "scattergl",
         "x": {
          "bdata": "AQIDBAUGBwgJCgsMDQ4PEBESExQVFhcY",
          "dtype": "i1"
         },
         "xaxis": "x3",
         "y": {
          "bdata": "AAAAAAAAAAAAAAAAAAAAAAAAAAAAAAAAAAAAAAAAAAAAAAAAAAAAAAAAAAAAAAAAAAAAAAAAAAAAAAAAAAAAAAAAAAAAAAAAAAAAAAAAAAAAAAAAAAAAAAAAAAAAAAAAAAAAAAAAAAAAAAAAAAAAAAAAAAAAAAAAAAAAAAAAAAAAAAAAAAAAAAAAAAAAAAAAAAAAAAAAAAAAAAAAAAAAAAAAAAAAAAAAAAAAAAAAAAAAAAAAAAAAAAAAAAAAAAAA",
          "dtype": "f8"
         },
         "yaxis": "y3"
        },
        {
         "hovertemplate": "date=2035-02-28 00:00:00<br>variable=id<br>default_month=%{x}<br>value=%{y}<extra></extra>",
         "legendgroup": "2035-02-28 00:00:00",
         "line": {
          "color": "#FF7F0E",
          "dash": "solid"
         },
         "marker": {
          "symbol": "circle"
         },
         "mode": "lines",
         "name": "2035-02-28 00:00:00",
         "showlegend": true,
         "type": "scattergl",
         "x": {
          "bdata": "AQIDBAUGBwgJCgsMDQ4PEBESExQVFhcY",
          "dtype": "i1"
         },
         "xaxis": "x",
         "y": {
          "bdata": "AAAAAAAYhkAAAAAAABiGQAAAAAAAGIZAAAAAAAAYhkAAAAAAABiGQAAAAAAAGIZAAAAAAAAYhkAAAAAAABiGQAAAAAAAGIZAAAAAAAAYhkAAAAAAABiGQAAAAAAAGIZAAAAAAAAYhkAAAAAAABiGQAAAAAAAGIZAAAAAAAAYhkAAAAAAABiGQAAAAAAAGIZAAAAAAAAYhkAAAAAAABiGQAAAAAAAGIZAAAAAAAAYhkAAAAAAABiGQAAAAAAAGIZA",
          "dtype": "f8"
         },
         "yaxis": "y"
        },
        {
         "hovertemplate": "date=2035-02-28 00:00:00<br>variable=cum_defaults<br>default_month=%{x}<br>value=%{y}<extra></extra>",
         "legendgroup": "2035-02-28 00:00:00",
         "line": {
          "color": "#FF7F0E",
          "dash": "solid"
         },
         "marker": {
          "symbol": "circle"
         },
         "mode": "lines",
         "name": "2035-02-28 00:00:00",
         "showlegend": false,
         "type": "scattergl",
         "x": {
          "bdata": "AQIDBAUGBwgJCgsMDQ4PEBESExQVFhcY",
          "dtype": "i1"
         },
         "xaxis": "x2",
         "y": {
          "bdata": "AAAAAAAAAAAAAAAAAAAAAAAAAAAAAAAAAAAAAAAAAAAAAAAAAAAAAAAAAAAAAAAAAAAAAAAAAAAAAAAAAAAAAAAAAAAAAAAAAAAAAAAAAAAAAAAAAAAAAAAAAAAAAAAAAAAAAAAAAAAAAAAAAAAAAAAAAAAAAAAAAAAAAAAAAAAAAAAAAAAAAAAAAAAAAAAAAAAAAAAAAAAAAAAAAAAAAAAAAAAAAAAAAAAAAAAAAAAAAAAAAAAAAAAAAAAAAAAA",
          "dtype": "f8"
         },
         "yaxis": "y2"
        },
        {
         "hovertemplate": "date=2035-02-28 00:00:00<br>variable=default_flag<br>default_month=%{x}<br>value=%{y}<extra></extra>",
         "legendgroup": "2035-02-28 00:00:00",
         "line": {
          "color": "#FF7F0E",
          "dash": "solid"
         },
         "marker": {
          "symbol": "circle"
         },
         "mode": "lines",
         "name": "2035-02-28 00:00:00",
         "showlegend": false,
         "type": "scattergl",
         "x": {
          "bdata": "AQIDBAUGBwgJCgsMDQ4PEBESExQVFhcY",
          "dtype": "i1"
         },
         "xaxis": "x3",
         "y": {
          "bdata": "AAAAAAAAAAAAAAAAAAAAAAAAAAAAAAAAAAAAAAAAAAAAAAAAAAAAAAAAAAAAAAAAAAAAAAAAAAAAAAAAAAAAAAAAAAAAAAAAAAAAAAAAAAAAAAAAAAAAAAAAAAAAAAAAAAAAAAAAAAAAAAAAAAAAAAAAAAAAAAAAAAAAAAAAAAAAAAAAAAAAAAAAAAAAAAAAAAAAAAAAAAAAAAAAAAAAAAAAAAAAAAAAAAAAAAAAAAAAAAAAAAAAAAAAAAAAAAAA",
          "dtype": "f8"
         },
         "yaxis": "y3"
        },
        {
         "hovertemplate": "date=2035-03-31 00:00:00<br>variable=id<br>default_month=%{x}<br>value=%{y}<extra></extra>",
         "legendgroup": "2035-03-31 00:00:00",
         "line": {
          "color": "#2CA02C",
          "dash": "solid"
         },
         "marker": {
          "symbol": "circle"
         },
         "mode": "lines",
         "name": "2035-03-31 00:00:00",
         "showlegend": true,
         "type": "scattergl",
         "x": {
          "bdata": "AQIDBAUGBwgJCgsMDQ4PEBESExQVFhcY",
          "dtype": "i1"
         },
         "xaxis": "x",
         "y": {
          "bdata": "AAAAAABwdUAAAAAAAHB1QAAAAAAAcHVAAAAAAABwdUAAAAAAAHB1QAAAAAAAcHVAAAAAAABwdUAAAAAAAHB1QAAAAAAAcHVAAAAAAABwdUAAAAAAAHB1QAAAAAAAcHVAAAAAAABwdUAAAAAAAHB1QAAAAAAAcHVAAAAAAABwdUAAAAAAAHB1QAAAAAAAcHVAAAAAAABwdUAAAAAAAHB1QAAAAAAAcHVAAAAAAABwdUAAAAAAAHB1QAAAAAAAcHVA",
          "dtype": "f8"
         },
         "yaxis": "y"
        },
        {
         "hovertemplate": "date=2035-03-31 00:00:00<br>variable=cum_defaults<br>default_month=%{x}<br>value=%{y}<extra></extra>",
         "legendgroup": "2035-03-31 00:00:00",
         "line": {
          "color": "#2CA02C",
          "dash": "solid"
         },
         "marker": {
          "symbol": "circle"
         },
         "mode": "lines",
         "name": "2035-03-31 00:00:00",
         "showlegend": false,
         "type": "scattergl",
         "x": {
          "bdata": "AQIDBAUGBwgJCgsMDQ4PEBESExQVFhcY",
          "dtype": "i1"
         },
         "xaxis": "x2",
         "y": {
          "bdata": "AAAAAAAAAAAAAAAAAAAAAAAAAAAAAAAAAAAAAAAAAAAAAAAAAAAAAAAAAAAAAAAAAAAAAAAAAAAAAAAAAAAAAAAAAAAAAAAAAAAAAAAAAAAAAAAAAAAAAAAAAAAAAAAAAAAAAAAAAAAAAAAAAAAAAAAAAAAAAAAAAAAAAAAAAAAAAAAAAAAAAAAAAAAAAAAAAAAAAAAAAAAAAAAAAAAAAAAAAAAAAAAAAAAAAAAAAAAAAAAAAAAAAAAAAAAAAAAA",
          "dtype": "f8"
         },
         "yaxis": "y2"
        },
        {
         "hovertemplate": "date=2035-03-31 00:00:00<br>variable=default_flag<br>default_month=%{x}<br>value=%{y}<extra></extra>",
         "legendgroup": "2035-03-31 00:00:00",
         "line": {
          "color": "#2CA02C",
          "dash": "solid"
         },
         "marker": {
          "symbol": "circle"
         },
         "mode": "lines",
         "name": "2035-03-31 00:00:00",
         "showlegend": false,
         "type": "scattergl",
         "x": {
          "bdata": "AQIDBAUGBwgJCgsMDQ4PEBESExQVFhcY",
          "dtype": "i1"
         },
         "xaxis": "x3",
         "y": {
          "bdata": "AAAAAAAAAAAAAAAAAAAAAAAAAAAAAAAAAAAAAAAAAAAAAAAAAAAAAAAAAAAAAAAAAAAAAAAAAAAAAAAAAAAAAAAAAAAAAAAAAAAAAAAAAAAAAAAAAAAAAAAAAAAAAAAAAAAAAAAAAAAAAAAAAAAAAAAAAAAAAAAAAAAAAAAAAAAAAAAAAAAAAAAAAAAAAAAAAAAAAAAAAAAAAAAAAAAAAAAAAAAAAAAAAAAAAAAAAAAAAAAAAAAAAAAAAAAAAAAA",
          "dtype": "f8"
         },
         "yaxis": "y3"
        }
       ],
       "layout": {
        "annotations": [
         {
          "font": {},
          "showarrow": false,
          "text": "variable=id",
          "x": 0.15999999999999998,
          "xanchor": "center",
          "xref": "paper",
          "y": 1,
          "yanchor": "bottom",
          "yref": "paper"
         },
         {
          "font": {},
          "showarrow": false,
          "text": "variable=cum_defaults",
          "x": 0.49999999999999994,
          "xanchor": "center",
          "xref": "paper",
          "y": 1,
          "yanchor": "bottom",
          "yref": "paper"
         },
         {
          "font": {},
          "showarrow": false,
          "text": "variable=default_flag",
          "x": 0.8399999999999999,
          "xanchor": "center",
          "xref": "paper",
          "y": 1,
          "yanchor": "bottom",
          "yref": "paper"
         }
        ],
        "legend": {
         "title": {
          "text": "date"
         },
         "tracegroupgap": 0
        },
        "margin": {
         "t": 60
        },
        "template": {
         "data": {
          "scatter": [
           {
            "type": "scatter"
           }
          ]
         }
        },
        "width": 1000,
        "xaxis": {
         "anchor": "y",
         "domain": [
          0,
          0.31999999999999995
         ],
         "title": {
          "text": "default_month"
         }
        },
        "xaxis2": {
         "anchor": "y2",
         "domain": [
          0.33999999999999997,
          0.6599999999999999
         ],
         "matches": "x",
         "title": {
          "text": "default_month"
         }
        },
        "xaxis3": {
         "anchor": "y3",
         "domain": [
          0.6799999999999999,
          0.9999999999999999
         ],
         "matches": "x",
         "title": {
          "text": "default_month"
         }
        },
        "yaxis": {
         "anchor": "x",
         "domain": [
          0,
          1
         ],
         "showticklabels": true,
         "title": {
          "text": "value"
         }
        },
        "yaxis2": {
         "anchor": "x2",
         "domain": [
          0,
          1
         ],
         "showticklabels": true
        },
        "yaxis3": {
         "anchor": "x3",
         "domain": [
          0,
          1
         ],
         "showticklabels": true
        }
       }
      }
     },
     "metadata": {},
     "output_type": "display_data"
    }
   ],
   "source": [
    "data_chart = df_sample\\\n",
    "    .groupby(['date','default_month'])\\\n",
    "    .agg({\n",
    "        'id' : 'count',\n",
    "        'cum_defaults': 'mean',\n",
    "        'default_flag': 'mean'\n",
    "    }) \\\n",
    "    .reset_index()\\\n",
    "    .melt(id_vars=['date', 'default_month'])\n",
    "\n",
    "\n",
    "fig = px.line(\n",
    "    data_chart,\n",
    "    x='default_month',\n",
    "    y='value',\n",
    "    facet_col='variable',\n",
    "    color='date',\n",
    "    template='none',\n",
    "    width=1000\n",
    ")\n",
    "\n",
    "fig.update_yaxes(matches=None, showticklabels=True)\n",
    "# Image(fig.to_image(\"png\", width=1000))\n"
   ]
  },
  {
   "cell_type": "code",
   "execution_count": 8,
   "id": "bc87db9c",
   "metadata": {},
   "outputs": [],
   "source": [
    "df_sample.to_parquet(f\"{output_path}syntetic_sample.parquet\")"
   ]
  }
 ],
 "metadata": {
  "kernelspec": {
   "display_name": ".venv",
   "language": "python",
   "name": "python3"
  },
  "language_info": {
   "codemirror_mode": {
    "name": "ipython",
    "version": 3
   },
   "file_extension": ".py",
   "mimetype": "text/x-python",
   "name": "python",
   "nbconvert_exporter": "python",
   "pygments_lexer": "ipython3",
   "version": "3.10.12"
  }
 },
 "nbformat": 4,
 "nbformat_minor": 5
}
