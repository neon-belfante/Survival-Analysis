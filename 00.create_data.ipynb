{
 "cells": [
  {
   "cell_type": "markdown",
   "id": "a1f45006",
   "metadata": {},
   "source": [
    "# Description\n",
    "The objective of this analysis is to understand the benefits of the use of survival analysis for the modelling of credit risk lifetime default curves.\n",
    "<br> The standard approach used in the industry is to:\n",
    "1. Train a classification model in a single target, usually default in 12 months\n",
    "2. Segment the portfolio in homogeneous risk groups.\n",
    "3. Calibrate the PD in 12 months over each group.\n",
    "4. calibrate the lifetime pd curve over each group.\n",
    "\n",
    "<br> The approach described above breaks down each modelling component in different challenges, the scorecard is only worried with discrimination of the population between clients with low and high risk of defaulting while the calibration of the risk curves deal with both level and shape of the risk curves. This allows for a modular approach, although it implements additional steps in the modelling.\n",
    "<br> An alternative approach would be using survival analysis methods which allows the modelling of the full lifetime curve in one single model.\n",
    "\n",
    "This analysis aims to explore the use of survival models to calibrate pd lifetime risk curves\n",
    "\n",
    "This notebook will create a syntetic set of data upon which the analysis will be done"
   ]
  },
  {
   "cell_type": "markdown",
   "id": "ab33ce7f",
   "metadata": {},
   "source": [
    "# TO DO\n",
    "1. Include default rate plot inside class\n",
    "2. Check if it is possible to do the default rate by groups inside class\n",
    "3. check impact of changing variables\n",
    "4. Include WO rate (LGD)\n",
    "5. clean notebook"
   ]
  },
  {
   "cell_type": "markdown",
   "id": "b68390e6",
   "metadata": {},
   "source": [
    "# Setup"
   ]
  },
  {
   "cell_type": "code",
   "execution_count": 1,
   "id": "e387edf3",
   "metadata": {},
   "outputs": [],
   "source": [
    "import pandas as pd\n",
    "import numpy as np\n",
    "import plotly.express as px\n",
    "import scipy\n",
    "from IPython.display import Image"
   ]
  },
  {
   "cell_type": "code",
   "execution_count": 2,
   "id": "6e8ce319",
   "metadata": {},
   "outputs": [],
   "source": [
    "pd.set_option('display.max_rows', 110)\n",
    "output_path = \"data/\""
   ]
  },
  {
   "cell_type": "markdown",
   "id": "0c55b931",
   "metadata": {},
   "source": [
    "# Data Creation"
   ]
  },
  {
   "cell_type": "code",
   "execution_count": 3,
   "id": "9e3c29ce",
   "metadata": {},
   "outputs": [],
   "source": [
    "def fit_power(x, shape, scale):\n",
    "  return (scale * x ** (-shape))\n",
    "\n",
    "def fit_exp(x, shape, scale):\n",
    "  result = scale * np.exp(np.multiply(-shape, x))\n",
    "  return result\n",
    "\n",
    "def fit_weibull(x, shape, scale, d):\n",
    "  result = (shape/scale)*np.power(((x+d)/scale), (shape-1)) * np.exp(-1 * np.power(((x+d)/scale), shape))\n",
    "  return result\n",
    "\n",
    "def fit_gamma(x, shape, scale, d=0):\n",
    "  from scipy.special import gamma\n",
    "  result = ((1 / (gamma(shape) * (scale ** shape))) * ((x+d) ** (shape - 1)) * np.exp(np.multiply(-1, (x+d)) / scale))\n",
    "  return result\n",
    "\n",
    "def logNormFunc(x, a, b, d):\n",
    "  result = (1 / ((x+d) * b * np.power(2* np.pi, 1/2))) * np.exp(-1*(np.power(np.log(x+d) - a, 2) / (2*np.power(b, 2))))\n",
    "  return result\n",
    "\n",
    "def gamma_pdf(x, a, b):\n",
    "  from scipy.special import gamma\n",
    "  return (np.power(x, (a - 1)) * np.exp(np.divide(np.multiply(-1, x), b))) / (np.power(b, a) * gamma(a))\n",
    "\n",
    "def exp_decay(x, a, b):\n",
    "  return a * np.exp(np.multiply(-b, x))\n",
    "\n",
    "def beta_pdf(x, a, b):\n",
    "  from scipy.special import beta\n",
    "  return np.divide((np.divide(x, np.power(60, (a - 1))) * np.power((1 - np.divide(x, 60)), (b - 1))), beta(a, b))"
   ]
  },
  {
   "cell_type": "code",
   "execution_count": null,
   "id": "b48352d8",
   "metadata": {},
   "outputs": [
    {
     "name": "stderr",
     "output_type": "stream",
     "text": [
      "/home/neon/Documents/Dev/Survival Analysis/Survival-Analysis/.venv/lib/python3.10/site-packages/pandas/core/arraylike.py:399: RuntimeWarning: divide by zero encountered in log\n",
      "  result = getattr(ufunc, method)(*inputs, **kwargs)\n",
      "/home/neon/Documents/Dev/Survival Analysis/Survival-Analysis/.venv/lib/python3.10/site-packages/pandas/core/arraylike.py:399: RuntimeWarning: divide by zero encountered in log\n",
      "  result = getattr(ufunc, method)(*inputs, **kwargs)\n",
      "/home/neon/Documents/Dev/Survival Analysis/Survival-Analysis/.venv/lib/python3.10/site-packages/pandas/core/arraylike.py:399: RuntimeWarning: divide by zero encountered in log\n",
      "  result = getattr(ufunc, method)(*inputs, **kwargs)\n",
      "/home/neon/Documents/Dev/Survival Analysis/Survival-Analysis/.venv/lib/python3.10/site-packages/pandas/core/arraylike.py:399: RuntimeWarning: divide by zero encountered in log\n",
      "  result = getattr(ufunc, method)(*inputs, **kwargs)\n",
      "/home/neon/Documents/Dev/Survival Analysis/Survival-Analysis/.venv/lib/python3.10/site-packages/pandas/core/arraylike.py:399: RuntimeWarning: divide by zero encountered in log\n",
      "  result = getattr(ufunc, method)(*inputs, **kwargs)\n",
      "/home/neon/Documents/Dev/Survival Analysis/Survival-Analysis/.venv/lib/python3.10/site-packages/pandas/core/arraylike.py:399: RuntimeWarning: divide by zero encountered in log\n",
      "  result = getattr(ufunc, method)(*inputs, **kwargs)\n",
      "/home/neon/Documents/Dev/Survival Analysis/Survival-Analysis/.venv/lib/python3.10/site-packages/pandas/core/arraylike.py:399: RuntimeWarning: divide by zero encountered in log\n",
      "  result = getattr(ufunc, method)(*inputs, **kwargs)\n",
      "/home/neon/Documents/Dev/Survival Analysis/Survival-Analysis/.venv/lib/python3.10/site-packages/pandas/core/arraylike.py:399: RuntimeWarning: divide by zero encountered in log\n",
      "  result = getattr(ufunc, method)(*inputs, **kwargs)\n",
      "/home/neon/Documents/Dev/Survival Analysis/Survival-Analysis/.venv/lib/python3.10/site-packages/pandas/core/arraylike.py:399: RuntimeWarning: divide by zero encountered in log\n",
      "  result = getattr(ufunc, method)(*inputs, **kwargs)\n",
      "/home/neon/Documents/Dev/Survival Analysis/Survival-Analysis/.venv/lib/python3.10/site-packages/pandas/core/arraylike.py:399: RuntimeWarning: divide by zero encountered in log\n",
      "  result = getattr(ufunc, method)(*inputs, **kwargs)\n"
     ]
    },
    {
     "data": {
      "application/vnd.plotly.v1+json": {
       "config": {
        "plotlyServerURL": "https://plot.ly"
       },
       "data": [
        {
         "hovertemplate": "risk_band=10<br>variable=p<br>default_month=%{x}<br>value=%{y}<extra></extra>",
         "legendgroup": "10",
         "line": {
          "color": "#1F77B4",
          "dash": "solid"
         },
         "marker": {
          "symbol": "circle"
         },
         "mode": "lines",
         "name": "10",
         "showlegend": true,
         "type": "scattergl",
         "x": {
          "bdata": "AAECAwQFBgcICQoLDA0ODxAREhMUFRYXGBkaGxwdHh8gISIjJCUmJygpKissLS4vMDEyMzQ1Njc4OTo7PD0+P0BBQkNERUZHSElKS0xNTk9QUVJTVFVWV1hZWltcXV5fYGFiYw==",
          "dtype": "i1"
         },
         "xaxis": "x",
         "y": {
          "bdata": "AAAAAAAAAABuk9JfgEN5PCBXSB/qADg90tkg3nBwmT1NJkQYOATYPYXWdR70DAU+snzJNcxRJz5sNIQjKhlDPiVk9vXwTVk+RDbKf++ubD4Wv9M0xN18PpJFSEt9doo+xaAybr+Clj58KrGEaQOiPpB4ChkdZ6s+s5w+pvv4sz6eAaM1hBO8Ps56JMi8IMM+bmCpWyVeyT7H2NsbzW3QPmHt0f2S19Q+CFUOlHf12T769+bAhs7fPk32dPnfM+M++2xrQw/i5j4aSjl6VvLqPtBwmyVQZO8+uU6ZcV4b8j5cAnciy7P0Phh3+HgRevc+Ni/zrYVs+j7ANOE9N4n9PjOHoon9ZgA/N40oqTocAj8h5xdTEeMDPyXw1HwwugU/Lu1WxjugBz9Jdkovz5MJPzvxC3WCkws/0lX0GeydDT/lIv0XpLEPP4rq8yCj5hA/Bxd1K7r3ET+Z/bjmawsTP5/P9qwRIRQ/w7RaGwo4FT+TBR+ZuU8WPwAHV8SKZxc/Acjmxu5+GD+1AguWXZUZP2TktR5Wqho/myDkYF69Gz9HJep7A84cP8G6lK3Z2x0/LrnTRXzmHj+DaIGQje0fPxsOW1tbeCA/ZQB7zNP3ID+FkLNRC3UhP8jFj07g7yE/uqe/OTRoIj9b5TeB690iP9W7JG3tUCM/YYUFAiTBIz/5Ezziey4kP86cUS/kmCQ/MnEqa04AJT8zBVpZrmQlPyPGweD5xSU/Svee7SgkJj+vIyZUNX8mP9ejxbMa1yY/4zMkW9YrJz8EkuwsZ30nP2GQc4XNyyc/aOBCIQsXKD8YHZAEI18oP/8rpWMZpCg/Q/Q8jPPlKD94lNXPtyQpP96s925tYCk/yPlwhRyZKT/nUX/3zc4pP9Yk6F+LASo/cMT3/l4xKj++GWOqU14qP/rYBb50iCo/Bdt2Dc6vKj886mvWa9QqP8wS5rNa9io/BVgfkqcVKz/okzKjXzIrP4k5dlSQTCs/ra+CREdkKz/aA905knkrP4fHPhp/jCs/GgN04hudKz/TS8iedqsrP3cu/GOdtys/g0u8SJ7BKz8=",
          "dtype": "f8"
         },
         "yaxis": "y"
        },
        {
         "hovertemplate": "risk_band=10<br>variable=cum_p<br>default_month=%{x}<br>value=%{y}<extra></extra>",
         "legendgroup": "10",
         "line": {
          "color": "#1F77B4",
          "dash": "solid"
         },
         "marker": {
          "symbol": "circle"
         },
         "mode": "lines",
         "name": "10",
         "showlegend": false,
         "type": "scattergl",
         "x": {
          "bdata": "AAECAwQFBgcICQoLDA0ODxAREhMUFRYXGBkaGxwdHh8gISIjJCUmJygpKissLS4vMDEyMzQ1Njc4OTo7PD0+P0BBQkNERUZHSElKS0xNTk9QUVJTVFVWV1hZWltcXV5fYGFiYw==",
          "dtype": "i1"
         },
         "xaxis": "x2",
         "y": {
          "bdata": "AAAAAAAAAABuk9JfgEN5PElUTld+Ajg9IxN+13rQmT1/B7zFP6HZPXVXLRccQQg+j9KUOxNiLT4QaWnyrnFKPlaMlTdkQ2M+TeGv2yn5dz4y0EEId2uKPuIKxSn6cJo+1NX7y9x5qD4ogFYooz61PjjebdoYecE+kiyNrZZ1yz6wVi9krL/UPheUQcgKUN4+JyILu45/5T6KDvlIdbbtPp0C8WMfEfQ+35f0SH2O+j7vKpd8D0EBP4Jo9HoHDgY/wUPPS4vGCz8kyy51kEERPz454nkaLhU/7IxIFvK0GT+DTebe5OEeP6Q1kp40YCI/i5tQVMWtJT8jwgw87F4pP/BjdZ6reC0/n8NfJN3/MD+DwMJOP3wzP4heXV6FMzY/Ljwo14wnOT/3ihG9Blo8Px4Jswt3zD8/7Ml4RxrAQT8anPiINLtDP2sZF+0I2EU/TLyFMgAXSD//21yvbXhKP/O1++SP/Ew/iwxnKJGjTz+fdsUtxDZRPw/nCto8rVI/j1N5xis1VD+6A9qfgc5VPwBixQEneVc/CqTT5/w0WT9eRpIf3QFbPwqSa7qa31w/nc3IfgLOXj8TcuirbWZgP/UinmHzbWE/+9JlnnB9Yj8DDIFTwZRjP2AIali/s2Q/3AIGnELaZT8ygRlUIQhnP+/M6yowPWg/RSUMa0J5aT+F5i8pKrxqP1IAJWy4BWw/ZafXUr1VbT+4R204CKxuPw2yPOszBHA/x6mpMlW1cD/k2krdTmlxPwMI6bIHIHI/oinCZWbZcj8yjimfUZVzP7UqVQuwU3Q/uEFfZGgUdT+hwoN8Ydd1PwHsoEeCnHY/o9MC5LFjdz9HgIGi1yx4P649+Q3b93g/fMUk8qPEeT8LwOBhGpN6PzIB4LwmY3s/Vr/XtLE0fD8k2CpSpAd9P+wGG/jn230/xL2GaGaxfj8WHTrHCYh/P9ambE7eL4A/NiS17DScgD+G7kFr/giBP2zHk6wwdoE/K9KlycHjgT86Ro0SqFGCP1hB9g7av4I/ZBGAfk4ugz+TMvtY/JyDP00ji87aC4Q/exSuR+F6hD8=",
          "dtype": "f8"
         },
         "yaxis": "y2"
        },
        {
         "hovertemplate": "risk_band=10<br>variable=pd_lifetime<br>default_month=%{x}<br>value=%{y}<extra></extra>",
         "legendgroup": "10",
         "line": {
          "color": "#1F77B4",
          "dash": "solid"
         },
         "marker": {
          "symbol": "circle"
         },
         "mode": "lines",
         "name": "10",
         "showlegend": false,
         "type": "scattergl",
         "x": {
          "bdata": "AAECAwQFBgcICQoLDA0ODxAREhMUFRYXGBkaGxwdHh8gISIjJCUmJygpKissLS4vMDEyMzQ1Njc4OTo7PD0+P0BBQkNERUZHSElKS0xNTk9QUVJTVFVWV1hZWltcXV5fYGFiYw==",
          "dtype": "i1"
         },
         "xaxis": "x3",
         "y": {
          "bdata": "Wc9J7xtfez9Hz0nvG197P6LOSO8bX3s/4c4E7xtfez/YqwHrG197P7VV384bX3s/28s0Uhtfez+B5s65GV97PxRPln8VX3s/Z/kg6gtfez/x2eqf+F57P5jwz0HVXns/Ssr8FZleez/SwGDJOF57P2iOlEqmXXs/oOWQvtBcez+I46ONpFt7PzqYzoULWns/1Y39Du1Xez/j0UhtLlV7P6ubcg2zUXs/TFIc2FxNez/E2IqIDEh7PzZURASiQXs/M29Hsfw5ez9JiA7J+zB7P5VP+6Z+Jns/d08mEWUaez/JfuB6jwx7P9gce0Df/Ho/Iz8k3Dbrej9hldUTetd6P2gheCCOwXo/vTF8zlmpej9pETqYxY56PxXAfrq7cXo/lrOxQyhSej/NFAYe+S96P9HzKxUeC3o/20v114jjeT+9/F/2LLl5P+ehcdz/i3k/stRMyvhbeT8VS+HJECl5PySukaJC83g/pi8jy4q6eD9WAURa5354Px3/7vVXQHg/ljrswd3+dz84tadNe7p3P86FkYE0c3c/xu40jA4pdz+pki7PD9x2P6/9JMw/jHY/uSbiEac5dj8IVqgpT+R1P10J2YRCjHU/oPAAa4wxdT/S9ljoONR0Pyp0ybxUdHQ/ABt6S+0RdD+S6/aKEK1zP4128PXMRXM/he2bfDHccj/n7rV2TXByP16bKZYwAnI/iVBc2uqRcT9YXB2EjB9xPyIZOAomq3A/5iCmDsg0cD+qRb2oBnlvP8u7fmvRhG4/SKYWNxKNbT8cz/Xo6pFsP2DLsVp9k2s/dTBPU+uRaj9CHZJ5Vo1pPwQDS0fghWg/WHmV/al7Zz+Y3P6Z1G5mPzV6isyAX2U/gSGJ7s5NZD+qDjr63jljP0VPK4PQI2I/C/JPr8ILYT/ZGYVhqONfP8/HVYBGrF0/C357L5txWz/Fipzd4DNZP9L60OtQ81Y/0rzZpiOwVD9NWkpBkGpSP1JVls7MIlA/bqrnfRyySz+C0Au4EBtHP0lygozbgEI/Cr36y7/HOz8QEsCs/IgyP8JtV1VUjCI//Knx0k1iNTw=",
          "dtype": "f8"
         },
         "yaxis": "y3"
        },
        {
         "hovertemplate": "risk_band=10<br>variable=p_12m_forward<br>default_month=%{x}<br>value=%{y}<extra></extra>",
         "legendgroup": "10",
         "line": {
          "color": "#1F77B4",
          "dash": "solid"
         },
         "marker": {
          "symbol": "circle"
         },
         "mode": "lines",
         "name": "10",
         "showlegend": false,
         "type": "scattergl",
         "x": {
          "bdata": "AAECAwQFBgcICQoLDA0ODxAREhMUFRYXGBkaGxwdHh8gISIjJCUmJygpKissLS4vMDEyMzQ1Njc4OTo7PD0+P0BBQkNERUZHSElKS0xNTk9QUVJTVFVWV1hZWltcXV5fYGFiYw==",
          "dtype": "i1"
         },
         "xaxis": "x4",
         "y": {
          "bdata": "LdOhoClboD6Irs4hvWSsPraaA0RLWrc+zQdKn4NZwj74e0Lu6rrLPiXo9UIkQdQ+Pxb43Ay53D70OikMmdbjPnDSZkfkxOo+ixunBBKv8T4SLQFgF+z2PpBgnIs9M/0+SoutWjJOAj/nRBwpgJ4GP0Zqn8zRkws/LIqlWuuaED/ML9mwRMUTP5vY3lQRSxc/kKxTtowtGz+kIM9cFm0fP0FIT5+dBCI/0REENGGAJD9q6xgK3ignPz6EsjjJ/Ck/t3O3so36LD+yN4ewKhAwPy689RwJtjE/yDkQk8NtMz/FIAhIKDY1Pxivl0D2DTc/Dad2HeHzOD/HpESflOY6P1A0Z9635Dw/cSGQNfDsPj+VgLDv8X5AP8EHfiQei0E//McrDlSaQj+q/PKC7qtDPxhw05xMv0Q/qOgCXtLTRT+cUIs56ehGP8AhZYIA/kc/ym9Vw40SST9nqMcBDSZKPzgmxe0AOEs/LfgRAfNHTD8hVFiPc1VNP5ZXLMkZYE4/sfyQs4NnTz+XJsMKqzVQPwI9hC6etVA/BQVkPnQzUT8Mj+JhCa9RP0OJ7dc8KFI/wFgX3vCeUj+/5iuWChNTP+vAg+pxhFM/6T5rcRHzUz/1T+lP1l5UPxNZKBywx1Q/cB+7v5AtVT8SEPBZbJBVP3hDXiI58FU/KlXRS+9MVj8YgbPniKZWP3JnEMoB/VY/d09GbldQVz8yuHfciKBXPx1wy4+W7Vc/mECGXYI3WD8AbgZdT35YPwvZptABwlg/eWiND58CWT9fhGZwLUBZP+/ODTW0elk/3eIidzuyWT+9r4cVzOZZPzULxaJvGFo/3TVRVDBHWj/gXrPyGHNaPxeffso0nFo/x20eno/CWj8RNW6YNeZaP2ZlFUAzB1s/1jSha5UlWz9ZFVU2aUFbPxzaqvW7Wls/Cn57L5txWz/Eipzd4DNZP9H60OtQ81Y/0LzZpiOwVD9NWkpBkGpSP1FVls7MIlA/cKrnfRyySz+A0Au4EBtHP0VygozbgEI/+Lz6y7/HOz/5EcCs/IgyP5ltV1VUjCI/AAAAAAAA+H8=",
          "dtype": "f8"
         },
         "yaxis": "y4"
        },
        {
         "hovertemplate": "risk_band=9<br>variable=p<br>default_month=%{x}<br>value=%{y}<extra></extra>",
         "legendgroup": "9",
         "line": {
          "color": "#FF7F0E",
          "dash": "solid"
         },
         "marker": {
          "symbol": "circle"
         },
         "mode": "lines",
         "name": "9",
         "showlegend": true,
         "type": "scattergl",
         "x": {
          "bdata": "AAECAwQFBgcICQoLDA0ODxAREhMUFRYXGBkaGxwdHh8gISIjJCUmJygpKissLS4vMDEyMzQ1Njc4OTo7PD0+P0BBQkNERUZHSElKS0xNTk9QUVJTVFVWV1hZWltcXV5fYGFiYw==",
          "dtype": "i1"
         },
         "xaxis": "x",
         "y": {
          "bdata": "AAAAAAAAAAAgqOxvECIQPbKvbPDAabc9g2pmbR5CDD5zhfwj/+NBPtoFY84nAWc+A05jBnnIgz5XPeeApiiaPj4L7wnRyqw+WKWxAjK2uz57OjmVihfIPg0WXUv/WNM+kfnv0Vsr3T4zQj5mwuLkPqPtZSk3quw+I5TLqcH78j5/7+G71GX4PvIRscQfj/4+3GAGVa+3Aj8AN7tyen0GP5JeFJDSkQo/45dN85/sDj9dmkXRkMIRP0QU1PoZKRQ/e0lQn0alFj9E8vdHeDIZP1JJJI8rzBs/MXc1gQhuHj/Fs1aR94kgPzKBuUsA3SE/YQkGs1IuIz/ErqilSHwkP/ay54RixSU/URCWSkcIJz98Nkb3w0MoP8ih4H3Kdik/4bo0THCgKj83dDiL7L8rPxpbRC2W1Cw/8wGz3OHdLT91ZOHZX9suP+xQm9S5zC8/+sw8ZdhYMD/Lnsp4DcUwPyrsk9rwKjE/g/kZ5H+KMT++c4qov+MxP/p16he8NjI/U/YrMIeDMj+D2WE8OMoyP/ZxBSLrCjM/72YNvL9FMz/vdW9D2XozPw8KisRdqjM/NXXeoHXUMz9/HnccS/kzP0XsTPYJGTQ/SXT7Ct8zND+hKBMB+Ek0P2cJW/6CWzQ/v7dXZa5oND9inHOaqHE0P1G7KtCfdjQ/anSk2cF3ND+iiS0DPHU0P+obDfA6bzQ/+Lc3feplND/34muodVk0P47BS3sGSjQ/R14P+sU3ND9bsHIV3CI0P0zHiZ9vCzQ/IWQsQ6bxMz/qyrB9pNUzP660s5qNtzM/VgOxsYOXMz8HMTalp3UzP2hrfCMZUjM/v+c8qPYsMz+WP5Z/XQYzP9iU3clp3jI/sNw5gDa1Mj+qBOt53YoyP5W0IXJ3XzI/RzxPDhwzMj++y9fk4QUyP8tqE4Te1zE/r0aMeSapMT/N3GpZzXkxPxFNAsblSTE/Drhwd4EZMT9fAElDsegwP++WPCSFtzA/SCm9QQyGMD94G4/3VFQwP9+tRt1sIjA/8RpVm8HgLz/Hqe7beXwvP8VuAGoZGC8/YF5T5LWzLj8=",
          "dtype": "f8"
         },
         "yaxis": "y"
        },
        {
         "hovertemplate": "risk_band=9<br>variable=cum_p<br>default_month=%{x}<br>value=%{y}<extra></extra>",
         "legendgroup": "9",
         "line": {
          "color": "#FF7F0E",
          "dash": "solid"
         },
         "marker": {
          "symbol": "circle"
         },
         "mode": "lines",
         "name": "9",
         "showlegend": false,
         "type": "scattergl",
         "x": {
          "bdata": "AAECAwQFBgcICQoLDA0ODxAREhMUFRYXGBkaGxwdHh8gISIjJCUmJygpKissLS4vMDEyMzQ1Njc4OTo7PD0+P0BBQkNERUZHSElKS0xNTk9QUVJTVFVWV1hZWltcXV5fYGFiYw==",
          "dtype": "i1"
         },
         "xaxis": "x2",
         "y": {
          "bdata": "AAAAAAAAAAAgqOxvECIQPdyqiHTJbbc92q8KuYz9DD5xMI3v17NDPvZRRsod7ms+gOL0eADEij5M17BeU8WjPkXxTzQSSLg+TsuAGyL/yT7kAl1YVgvZPngM3dEqMuY+oIRqXexj8j66pYmQTdX8PkZOnpI0lQU/WBiEZxUTDz8MiLri/6IVP4jM5tPHRh0/e/40v09RIz87zONbrvAoP+Dj6P8ilS8/7CRefiWoMz+Di6+yyRg4P5SQZDEQIz0/eVGc7DBmQT/CT5v1f4xEP+zYf2cFBkg/0oemd8bTSz/DNPxbRPZPP4hKdTfCNlI/tAvWjYycVD+MIYuiFSxXP+sXKPPB5Fk/9dl63MrFXD/EoGNbQ85fP37aj1WOfmE/LCZTWpUoYz9vrQYjlORkPyHz2oXdsWY/QCOmo7uPaD+HOUShcX1qP5bujT49emw/NYg1S1iFbj8Hbif9/E5wP8qs0AqsYXE/YkwSCVR6cj+e85oDkJhzP/6aGcX7u3Q/Y1ocODTkdT/7d+K71xB3PxrPAm6GQXg/iaXDaeJ1eT/onPr9j616P4k9Q9o16Hs/3CRRNH0lfT/ElhjmEWV+P4hlfYWipn8/Zo4WO/B0gD+rJx/7PxeBP/b/ERMcuoE/tL08hmFdgj+XWhDL7gCDP3KwkcmjpIM/FdRe2GFIhD9iQHi4C+yEP0Gp+I+Fj4U/AWfi47Qyhj8ZxiWRgNWGPyUkAMXQd4c/F5/Q9I4ZiD+aNHzVpbqIP9SCeFIBW4k/9eWRhI76iT9MbH+oO5mKP/EJVRX4Nos/DJLiMrTTiz+UQwxwYW+MP+8mKDnyCY0/LQ5q7lmjjT8qwGbajDuOP9GstSiA0o4/tnu33Clojz/b04bIgPyPP8DwC0K+R5A/sS1FsoqQkD/gjNg5otiQP4va6LMBIJE/pgvPTaZmkT8ZtzSDjayRP03ATBq18ZE/LYMqIBs2kj8upzflvXmSP4qZyPmbvJI/L47PKrT+kj+dyq1+BUCTP1TlIjKPgJM/io9ZtVDAkz/ebBGpSf+TP7xt5dt5PZQ/eRSuR+F6lD8=",
          "dtype": "f8"
         },
         "yaxis": "y2"
        },
        {
         "hovertemplate": "risk_band=9<br>variable=pd_lifetime<br>default_month=%{x}<br>value=%{y}<extra></extra>",
         "legendgroup": "9",
         "line": {
          "color": "#FF7F0E",
          "dash": "solid"
         },
         "marker": {
          "symbol": "circle"
         },
         "mode": "lines",
         "name": "9",
         "showlegend": false,
         "type": "scattergl",
         "x": {
          "bdata": "AAECAwQFBgcICQoLDA0ODxAREhMUFRYXGBkaGxwdHh8gISIjJCUmJygpKissLS4vMDEyMzQ1Njc4OTo7PD0+P0BBQkNERUZHSElKS0xNTk9QUVJTVFVWV1hZWltcXV5fYGFiYw==",
          "dtype": "i1"
         },
         "xaxis": "x3",
         "y": {
          "bdata": "V89J7xtfiz/HuUnvG1+LPyyPzO4bX4s//Vvq2xtfiz8GCaEcG1+LPxOixUQXX4s/cyZwDApfiz/rZF0W516LP9ASLCCaXos/wJKa+gVeiz/5dUBjBF2LP23WW6hmW4s/qGNc5vZYiz/C8ieoeVWLP8dJW7evUIs/OZA581dKiz8wPNMPMUKLP6khFSn7N4s/aAD3HXkriz8/hqKucRyLP1oXQV2wCos/C1hqFAb2ij8MLD6YSd6KP2E8VshXw4o/DKAuuROlij/3W6CrZoOKP2KitOg/Xoo/EzyUh5Q1ij8A/LkiXwmKP65t6YCf2Yk/bM3GNVqmiT/NoFE9mG+JPz8B9JRmNYk/ZuZX1NX3iD/6KsLH+baIP9pqUA3pcog/M2oitrwriD+NUzDsj+GHP9Z8U51/lIc/1DLWK6pEhz/e+LYkL/KGP3N5q/sunYY/UPDVzMpFhj9pFwwkJOyFP5+rf8lckIU/4qWNk5YyhT+2lnE989KEPxOTlUKUcYQ/8E00vpoOhD+U4gFPJ6qDP3YakP5ZRIM/v08kLFLdgj+iMbd6LnWCP1ls2cEMDII/pF47AQqigT9Vd5lWQjeBP5Zw0vXQy4A/Ak7wItBfgD+/Z+FbsuZ/P5+kOeAIDX8/+VmJldIyfj9D7GlOPFh9P2r6g+9wfXw/QqSKc5miez9UZt3w3Md6P8NIl6Bg7Xk/TFbX5kcTeT/iLhNctDl4PyoQSdfFYHc/luDqeJqIdj/Qql+2TrF1P3SK/GX92nQ/sFRZy78FdD+DS+ijrTFzP+rsujPdXnI/1XRgUmONcT8B9cx3U71wPyj6c5J/3W8/1GbnS3JDbj9l7g1onqxsP/NljdkgGWs/adw/UhSJaT+s4GpbkfxnP5HWeW2uc2Y/xlAxB4DuZD/QOVPEGG1jP0s4rXOJ72E/tC6MLOF1YD8lBCLHWgBeP5Lvx/3zHFs/GPyJ06JBWD9LLPBOeW5VPym/G8uGo1I/KscjNrDBTz9vJYVX70xKP0ZEnknb6EQ/M/hTIAArPz8m8gZAy6U0P5zZsmVAhCQ//Knx0k1iVTw=",
          "dtype": "f8"
         },
         "yaxis": "y3"
        },
        {
         "hovertemplate": "risk_band=9<br>variable=p_12m_forward<br>default_month=%{x}<br>value=%{y}<extra></extra>",
         "legendgroup": "9",
         "line": {
          "color": "#FF7F0E",
          "dash": "solid"
         },
         "marker": {
          "symbol": "circle"
         },
         "mode": "lines",
         "name": "9",
         "showlegend": false,
         "type": "scattergl",
         "x": {
          "bdata": "AAECAwQFBgcICQoLDA0ODxAREhMUFRYXGBkaGxwdHh8gISIjJCUmJygpKissLS4vMDEyMzQ1Njc4OTo7PD0+P0BBQkNERUZHSElKS0xNTk9QUVJTVFVWV1hZWltcXV5fYGFiYw==",
          "dtype": "i1"
         },
         "xaxis": "x4",
         "y": {
          "bdata": "1L6utSOU6D4OC45DjkTzPi3KiuJu2Pw+QMXLsOjDBD+Q1czNDOoMPwc1QNgNjhM/GwWTPHfIGT8zq7fuWZ0gP5Ddvrpw+iQ/Da0OjPn/KT9Fe5LAsq4vP5xBswDcATM/V3O4pWV8Nj9W2fKQX0I6P63s1NT5TT4/T0JVujZMQT/0ApTRHo1DP6o/u4K65UU/0S8Dg+5RSD8XVw4Vl81KP7Vh0YScVE0/WxonAQTjTz+PCOCDfjpRPzCMLth1g1I/165hGLjKUz9UQ4D7tQ5VP18sCVsCTlY//0nw3VKHVz8XGRjwf7lYP+Ch7ymE41k/2uiGR3sEWz8mSyzKoBtcP/+soltOKF0/IQRSBvopXj8iooRSNCBfPyBf6ypTBWA/BXG434d0YD/iw7l0ot1gP36JDXuWQGE/V4zH/l+dYT/tHP+nAvRhP2g0SOeIRGI/sUZqLgOPYj9OgMo1h9NiPynstE4vEmM/g191whlLYz9ciwM+aH5jPxAD40k/rGM/0oO+zcXUYz/OsTOfJPhjPwd1OBuGFmQ/d/Z7yRUwZD/j+SEJAEVkP+IfN8ZxVWQ/+s0+N5hhZD+Sfz+ioGlkPwSityi4bWQ/3XbrmQtuZD/feQNLx2pkP1c0evQWZGQ/lQpglCVaZD+EQQNVHU1kPwUbkncnPWQ/3V5UQmwqZD+r4iDyEhVkP2KXuq5B/WM/x0XHgR3jYz9jbxhQysZjP2O6BNVqqGM/xeSVnyCIYz/3dFQRDGZjP1k+f15MQmM/nFiBj/8cYz83XX2DQvZiP4qhyPMwzmI/97o0eOWkYj/w5wiMeXpiP2ECkJMFT2I/y2gi4qAiYj9G2JXAYfVhP2WG/3Ndx2E/pOq2RKiYYT9Ul4mFVWlhP4dFEpt3OWE/xtEmAyAJYT+PW1JcX9hgP7IKUm1Fp2A/qi6MLOF1YD8PBCLHWgBeP3jvx/3zHFs//fuJ06JBWD8rLPBOeW5VPwy/G8uGo1I/7cYjNrDBTz80JYVX70xKPwBEnknb6EQ/rPdTIAArPz+y8QZAy6U0P9zYsmVAhCQ/AAAAAAAA+H8=",
          "dtype": "f8"
         },
         "yaxis": "y4"
        },
        {
         "hovertemplate": "risk_band=8<br>variable=p<br>default_month=%{x}<br>value=%{y}<extra></extra>",
         "legendgroup": "8",
         "line": {
          "color": "#2CA02C",
          "dash": "solid"
         },
         "marker": {
          "symbol": "circle"
         },
         "mode": "lines",
         "name": "8",
         "showlegend": true,
         "type": "scattergl",
         "x": {
          "bdata": "AAECAwQFBgcICQoLDA0ODxAREhMUFRYXGBkaGxwdHh8gISIjJCUmJygpKissLS4vMDEyMzQ1Njc4OTo7PD0+P0BBQkNERUZHSElKS0xNTk9QUVJTVFVWV1hZWltcXV5fYGFiYw==",
          "dtype": "i1"
         },
         "xaxis": "x",
         "y": {
          "bdata": "AAAAAAAAAAAWYmTPOGijPeApna2AgjU+aLx0tLOQfT64xakb8xqpPvErjg63rcc+SGfB3G6d3z4YFNEcnN/wPl0exoZK2/4+fO0bTYI3CT/WT5evRvASP0zHQp2OpRo/kajbRuPMIT8klMeRCc8mPw2tRswHPiw/UA4OJZj+MD+J1MIZDvgzPxo5mZb2/TY/+HrWQxAEOj8fdTvBhP88P0KE/84D5z8/kwKb3GJZQT/M+TlTPq5CP92yQGid70M/RcYLH6kbRT988ICvGDFGP6ZuFnkfL0c/pzUJbVsVSD/BGs53xONIP0SAwzqdmkk/VfFWP2U6Sj96f8mwzMNKP1BrqZapN0s/wp6wfe6WSz+6qzN1ouJLP+0PS0PaG0w/NSdUsLJDTD9vtIfKS1tMP/cZnQPFY0w/zYdXDDpeTD9VkCBUwEtMP3zEQxVlLUw/T07U2CsETD8irKdfDdFLP+JwEOD2lEs/+IsYislQSz8X5N9FWgVLPy31eKFxs0o/v6gi5ctbSj/4HhdGGf9JPwy3VTH+nUk/KNrWqBM5ST/eiH2u59BIPzUL4bj9ZUg/o+GzLs/4Rz90bx/my4lHPzPK6KVaGUc/UF6dptmnRj9EH2ASnzVGPwzwO4L5wkU/88QfeDBQRT/TZN7UhN1EP+QjuEkxa0Q/nsAZxWr5Qz+81lnaYIhDP0keVyQ+GEM//77toiipQj8jHEoTQjtCPyVELEOozkE/eCo5X3VjQT+Ndn48wPlAP2NmU52ckUA/RlnFcRsrQD83tYInlow/P6hhW/5uxj4//H5ODNUDPj84Pi0D2EQ9P8KhoPyDiTw/+AflzeHROz8vNWNV9x07P20ihsLHbTo/T10p2FPBOT+bCPgpmhg5P8mhEFWXczg/Fq49NEbSNz8mZA8QoDQ3P39gHsucmjY/hHe7CjMENj/J1ExcWHE1Px/OlFcB4jQ/dikbviFWND84Ee6XrM0zP7CT7E2USDM/s1TJwcrGMj9OCfFjQUgyP4RvfUfpzDE/QbVaNLNUMT9JqsK3j98wP8+nLjNvbTA/5Je904P8Lz8=",
          "dtype": "f8"
         },
         "yaxis": "y"
        },
        {
         "hovertemplate": "risk_band=8<br>variable=cum_p<br>default_month=%{x}<br>value=%{y}<extra></extra>",
         "legendgroup": "8",
         "line": {
          "color": "#2CA02C",
          "dash": "solid"
         },
         "marker": {
          "symbol": "circle"
         },
         "mode": "lines",
         "name": "8",
         "showlegend": false,
         "type": "scattergl",
         "x": {
          "bdata": "AAECAwQFBgcICQoLDA0ODxAREhMUFRYXGBkaGxwdHh8gISIjJCUmJygpKissLS4vMDEyMzQ1Njc4OTo7PD0+P0BBQkNERUZHSElKS0xNTk9QUVJTVFVWV1hZWltcXV5fYGFiYw==",
          "dtype": "i1"
         },
         "xaxis": "x2",
         "y": {
          "bdata": "AAAAAAAAAAAWYmTPOGijPRHcBMo0jDU+KQoVAXfpfj79Zsz7IfisPrBFgY2/684+EAXBUaeJ5z6glrHFb6T8Pn7aOybdvw0//eOrua97Gz/qmaE0+zUnP8h+oUFhRDI/EFMP5dIqOz+RjvnWK0lDP9Q5C8qtWEo/fiBJ7vxrUT+g1bl0AGpWP+YjYBp+KVw/UuGqFUFVYT/2T9KtMfVkP35AsicS8mg/IwHZ3mpIbT/Lv9M5/flwPyfW2+bwd3M/8E69CmYbdj8Aba0gieF4P9U60A9tx3s/imFxfRjKfj9xkjWGSPOAP3XK4VnyjII/ijnXrZgwhD+C0eN41dyFPzdoThJQkIc/I3Ip+r5JiT/frHwh6QeLP95dscWmyYw/UaC28OGNjj/Mja9WyymQP5x2zH7pDJE/2jIvT9vvkT9dN9BROdKSP4FVenqks5M/8/dA2cWTlD9UNT5ETnKVP9u4Pvv1TpY/O32PR3wplz9cfL4ZpwGYPwVEyqZC15g/S1nzBSGqmT9DEiTQGXqaP/u/rsEJR5s/zHb1XtIQnD8TY2mcWdecP21rMIqJmp0/egqmA1Banj/2BddinhafP0hMBjhpz58/nZudAlRCoD8aHOd+KpugP9oL8GQ28qA/7orQJndHoT+BBCQ67ZqhPxHlSv+Z7KE/E0xfqn88oj9us8gtoYqiP+cPWiYC16I/48blyKYhoz9U7zLRk2qjP2WgP3LOsaM/D4W8R1z3oz/pfq5IQzukP4PMI7uJfaQ/6OHqKDa+pD9S5zlVT/2kPxWeNjPcOqU/EztP3eN2pT+PlVWNbbGlP9PWTpWA6qU/46DqWCQipj9NZ5VHYFimP5JzGtc7jaY/TcbKfr7Apj9eth6z7/KmP6LXyOHWI6c//lIxbntTpz/GcVGu5IGnP4eu5+cZr6c/diX9TSLbpz8gv7X+BAaoP7zoZAHJL6g/Dx/hRHVYqD8x+xCeEICoP1jUrMahpqg/AWcwXC/MqD8USfjev/CoP/NDh7FZFKk/XvnvFwM3qT+zfl83wlipPwPcxRWdeak/m5mZmZmZqT8=",
          "dtype": "f8"
         },
         "yaxis": "y2"
        },
        {
         "hovertemplate": "risk_band=8<br>variable=pd_lifetime<br>default_month=%{x}<br>value=%{y}<extra></extra>",
         "legendgroup": "8",
         "line": {
          "color": "#2CA02C",
          "dash": "solid"
         },
         "marker": {
          "symbol": "circle"
         },
         "mode": "lines",
         "name": "8",
         "showlegend": false,
         "type": "scattergl",
         "x": {
          "bdata": "AAECAwQFBgcICQoLDA0ODxAREhMUFRYXGBkaGxwdHh8gISIjJCUmJygpKissLS4vMDEyMzQ1Njc4OTo7PD0+P0BBQkNERUZHSElKS0xNTk9QUVJTVFVWV1hZWltcXV5fYGFiYw==",
          "dtype": "i1"
         },
         "xaxis": "x3",
         "y": {
          "bdata": "mCGOdXEboT+UKYF1cRuhP724wVhxG6E/QZmI4G4boT8+eLkZXhuhPzmXws4eG6E/TFpEy3UaoT/NELv4DBmhP4YYSiJ5FqE/17sUqUISoT9bYO+67guhPzRiOnoHA6E/KX9RViL3oD/H+4Nm5OegP62cvu4E1aA/1cwAXU6+oD8jlgcanqOgP18/BoPjhKA/zwk/Vh5ioD+sTejNXDugPzDuxJa5EKA/tvUBh7PEnz8kumKn1WCfP/T9jrpB9p4/e+hOwmmFnj82ThWexg6eP0vBRHPVkp0/VzF3cxUSnT+IpHP7BY2cP6RvzAMlBJw//w9E2+13mz8NZtAi2OiaPyiqMwNXV5o/yV2ElNjDmT+5kIdwxS6ZP+tTYGmAmJg/ify+XmYBmD/h9GEszmmXP/FpWq0I0pY/0I0d0GA6lj/yaPW3G6OVP71s4eh4DJU/Iw5ne7J2lD8OBTZW/eGTP80d22uJTpM/UboI+4G8kj+zLz7QDSySPz0b0IdPnZE/r5aEz2UQkT9Izh+na4WQPxmIwT7x+I8/VaEXLkLrjj/a13Lr7OGNP1Y4acgO3Yw/FGGLBMDciz8SQKgzFOGKP/wCrJ4a6ok/JOUZn973iD9XiS/1ZwqIP5lizBi7IYc/rNlAhdk9hj9HzS8Awl6FP4UfsttwhIQ/Oo7vM+Cugz/8WmIoCN6CP12G/BDfEYI/icllr1lKgT8+NYlca4eAP1YgUWUMkn8/3a1UaDYefj90baveNLN8Pz8qXD7mUHs/U4s7kyf3eT81/Dq21KV4P9HxB4DIXHc/FRdO99wbdj+ulup66+J0P3VsWujMsXM/L3KpvlmIcj8gvyM+amZxP+f3BoXWS3A/ZqzaUu1wbj/YBFGhRVhsP2irfYhmTWo/c4R0CQFQaD9F4+m0xl9mP3NPGclpfGQ/Nj5GTJ2lYj8kzx0kFdtgP2ggd1QMOV4/6B0dfEzTWj+/Fq+oWIRXP/jq6QihS1Q/hPRaJ5goUT9h/Zj6ZTVMP10eugTSQkY/7Tcdcmh4QD8mjVPiRKo1P1XHJKH5XyU//Knx0k1iVTw=",
          "dtype": "f8"
         },
         "yaxis": "y3"
        },
        {
         "hovertemplate": "risk_band=8<br>variable=p_12m_forward<br>default_month=%{x}<br>value=%{y}<extra></extra>",
         "legendgroup": "8",
         "line": {
          "color": "#2CA02C",
          "dash": "solid"
         },
         "marker": {
          "symbol": "circle"
         },
         "mode": "lines",
         "name": "8",
         "showlegend": false,
         "type": "scattergl",
         "x": {
          "bdata": "AAECAwQFBgcICQoLDA0ODxAREhMUFRYXGBkaGxwdHh8gISIjJCUmJygpKissLS4vMDEyMzQ1Njc4OTo7PD0+P0BBQkNERUZHSElKS0xNTk9QUVJTVFVWV1hZWltcXV5fYGFiYw==",
          "dtype": "i1"
         },
         "xaxis": "x4",
         "y": {
          "bdata": "cjdRno8nMj/U5pZ+h8Y5P/oDx4Aam0E/Bhvz4SBIRz+Vhnjs/+9NPzv7indpx1I/qA+qoO4KVz8lZFhaBbZbP1qlUrj4W2A/yQ88WY7+Yj+XNOBzPrhlP50zLs9pfmg/uq6gUtdGaz+7SpV3EQhuPzfg4ajRXHA/TaEpGh2qcT/8Hm7i2OhyP208AAmIFnQ/eg7oRDsxdT8p1QDkhTd2P97IWKlwKHc/r1/2yWsDeD+ppWzbQMh4PyGoukQFd3k/ya8/jg0Qej9SZc3G4ZN6P2hdqRczA3s/G45mjdJeez9Y7vgNqad7P5gLrGuw3ns/cAd0f+0EfD/7g2kyaxt8P24xYl02I3w/4Y3uZVodfD8WhCWB3gp8P73iQIbD7Hs/ZZfpPALEez9lmggVipF7P5WX5jdAVns/mfRG5P4Sez8U9O8Ilch6P0hCsxLGd3o/Y3aF5Ekhej8SlIfxzMV5PzpxFHLwZXk//R7vrUoCeT8hrJlWZ5t4P8Cnp+3HMXg/ZqeQM+TFdz+Snh+cKlh3PybRHsYA6XY/NSZQ9MN4dj+8+SCGyQd2P/Nj2W5flnU/Fy9LqswkdT+pFT6uUbN0P6HlBtgoQnQ/Zxzf1YbRcz83pbMLm2FzP+6aPPOP8nI/AChGd4uEcj9WniRKrxdyPzlNXDcZrHE/XgWRcONBcT9KH9rVJNlwP0KgnjnxcXA/4CAioFkMcD+6Vt312FBvP+VQlMBrjG4/V6/OfX/LbT8U1gUcJA5tPxmpOvRlVGw/OJICHU6eaz8nFYy34utqPy6U9jYnPWo/9O9VohySaT8vXrfRwepoP7VIeaYTR2g/aVVEPw2nZz/g8u8nqApnP1f6mIXccWY/MjItP6HcZT+Gxaoi7EplP90jTweyvGQ/fDbt7OYxZD+dcZ8YfqpjP/YCBy9qJmM/Iz5GTJ2lYj8Vzx0kFdtgP0Ygd1QMOV4/xx0dfEzTWj+UFq+oWIRXP8Xq6QihS1Q/SfRaJ5goUT/7/Jj6ZTVMP/YdugTSQkY/mzcdcmh4QD+ljFPiRKo1P5fGJKH5XyU/AAAAAAAA+H8=",
          "dtype": "f8"
         },
         "yaxis": "y4"
        },
        {
         "hovertemplate": "risk_band=7<br>variable=p<br>default_month=%{x}<br>value=%{y}<extra></extra>",
         "legendgroup": "7",
         "line": {
          "color": "#D62728",
          "dash": "solid"
         },
         "marker": {
          "symbol": "circle"
         },
         "mode": "lines",
         "name": "7",
         "showlegend": true,
         "type": "scattergl",
         "x": {
          "bdata": "AAECAwQFBgcICQoLDA0ODxAREhMUFRYXGBkaGxwdHh8gISIjJCUmJygpKissLS4vMDEyMzQ1Njc4OTo7PD0+P0BBQkNERUZHSElKS0xNTk9QUVJTVFVWV1hZWltcXV5fYGFiYw==",
          "dtype": "i1"
         },
         "xaxis": "x",
         "y": {
          "bdata": "AAAAAAAAAADY4cRyqR8oPpSIVR13a6Q+9c2i0K323z65H/WIpTMCP4zQowVHLxk/YAq3wIIaKj/EWKpXX342P9a3Cr/mFUE/9Hbiyxq2Rz8NFtk+dcROP+NZFYgV9lI/TRekKfVyVj8/PnaWKb1ZP3eP9VXawFw/OkIUEytxXz9toXRuieNgP5pWt2oT4GE/gzasor2uYj+1n3SGVVFjP8ej6BKFymM/0r4T34AdZD+8WZe6yE1kP0ig8RH4XmQ/SoP8Q6NUZD8BMTROPzJkP7vSgIwR+2M/peVkpyWyYz9ZhwQlSFpjP0TsH2EE9mI/HCQC9KSHYj8d7qPINRFiPx5+30+HlGE/cnD1YjITYT/rYEaEnI5gP9uSakP8B2A/L73nNbsAXz9viWJWTPFdP/iqOn4y41w/2nrcH7fXWz+o2TKC7c9aP+Cc8iS5zFk/Ykr5kdPOWD/Rq0ig0dZXP00Zmi8o5VY/bkQCZTD6VT8+c+pxKxZVP2iJ8O5FOVQ/fNox1JpjUz/zBDoYNpVSP406XP4WzlE/JgqyHDIOUT/oXWIhc1VQP2o/bLx8R08/XSHHQeTxTT/QicO7z6lMPxjeCmbqbks/1ZNBjdlASj/xlcUOPh9JP6hjfKG1CUg/RNxu7tv/Rj+g0jB/SwFGP8AcZYeeDUU/zLQSjm8kRD+qdfP6WUVDPxO2Z4v6b0I/mkFKsu+jQT8xsXzl2eBAPxLBq9tbJkA/Jbv5eDXoPj8wbCGKfJM9P92IEsXhTTw/6AIXiL8WOz9KXwrLde05P+cEqihq0Tg/EKec3QfCNz8B9OG+v742PzlkIikIxzU/Gbgk6lzaND/8l4IlP/gzPw8kjzU1IDM/9WtAicpRMj9tMc9/j4wxPzx9pkIZ0DA/KgAmngEcMD+AFk2zzd8uPzKWPR7Xli0/rRFvBW1cLD//iCP15C8rP+V/6y2cECo/f7QwVvf9KD9VZzctYvcnPx2j0T9P/CY/fHnznjcMJj/Qb0yYmiYlP34qAXH9SiQ/OI+YIut4Iz/O6yga9K8iP5MLzPmt7yE/h2JcXLM3IT8=",
          "dtype": "f8"
         },
         "yaxis": "y"
        },
        {
         "hovertemplate": "risk_band=7<br>variable=cum_p<br>default_month=%{x}<br>value=%{y}<extra></extra>",
         "legendgroup": "7",
         "line": {
          "color": "#D62728",
          "dash": "solid"
         },
         "marker": {
          "symbol": "circle"
         },
         "mode": "lines",
         "name": "7",
         "showlegend": false,
         "type": "scattergl",
         "x": {
          "bdata": "AAECAwQFBgcICQoLDA0ODxAREhMUFRYXGBkaGxwdHh8gISIjJCUmJygpKissLS4vMDEyMzQ1Njc4OTo7PD0+P0BBQkNERUZHSElKS0xNTk9QUVJTVFVWV1hZWltcXV5fYGFiYw==",
          "dtype": "i1"
         },
         "xaxis": "x2",
         "y": {
          "bdata": "AAAAAAAAAADY4cRyqR8oPnZNyMaWg6Q+0uu9VJBD4T6umiSeiYQGP/IOW+rFOCI/qQyJVaQpNj+2spnWAVRGP0Y10kr0tFM/wHDDsAGQXz/j/RcoHnlnP2pVEXYUenA/PVt6wNEWdj/N6hcmHIZ8P1Wnyl0p24E/nC8twE7JhT/3V8obMQKKP54tePY1eo4/n52Rr/KSkT+WMWBgHf2TPw9GvQJudpY/6b2fHh76mD8gqfI114ObPyndMDi2D54/yTZYUCVNoD/ZeTtFSZChPwWHA176z6I/X9V5uBwLpD/VHco6wUClP5kc3IAhcKY/2z4c0JuYpz+9faYsr7moP591pKH30qk/pszTxyrkqj+1MhiQFO2rP+PbTlSU7aw/zBn+LZrlrT8XLrGQJNWuP28DoyQ+vK8/o/PQ7n1NsD8Kv9mkvbiwP36JbYnwH7E/qG611yuDsT9XkTYeh+KxP7z59L4bPrI/zgKJgASWsj+brFAuXeqyP8FuDEZCO7M/KzZdsdCIsz8/Hr6JJdOzPymPt+VdGrQ/UlcqrpZetD/K4K967J+0P0m5KHR73rQ/jEesPF8atT+gziPcslO1P1zk77CQirU/hGcKZBK/tT+w8ifgUPG1P3fraktkIbY/MMlHA2RPtj/VKkaaZnu2Pw71VNeBpbY/eBpxtsrNtj9jAWdqVfS2P8/QfV81Gbc/UmXiPn08tz+0Xq3yPl63Pza2ZKqLfrc/8a/d33Odtz9d0WdcB7u3P+bjLD5V17c/6fq0/Wvytz9IBYBzWQy4P02vqN0qJbg/9EuG5ew8uD/oLUWlq1O4P0xQbq1yabg/BHVYCk1+uD+c931JRZK4P8CGs35lpbg/LMc8Sbe3uD9dlrzYQ8m4P9o8//ET2rg/2mKd8y/quD9lCXfan/m4PzAoBkZrCLk/ud+IfJkWuT99cQNvMSS5Pz1nGr05Mbk/l3/FuLg9uT9LG9xptEm5Px0EfJEyVbk/2n1LrThguT8SpJf6y2q5P6ckUHnxdLk/73Dh7q1+uT9lhe7oBYi5P2tr67/9kLk/nJmZmZmZuT8=",
          "dtype": "f8"
         },
         "yaxis": "y2"
        },
        {
         "hovertemplate": "risk_band=7<br>variable=pd_lifetime<br>default_month=%{x}<br>value=%{y}<extra></extra>",
         "legendgroup": "7",
         "line": {
          "color": "#D62728",
          "dash": "solid"
         },
         "marker": {
          "symbol": "circle"
         },
         "mode": "lines",
         "name": "7",
         "showlegend": false,
         "type": "scattergl",
         "x": {
          "bdata": "AAECAwQFBgcICQoLDA0ODxAREhMUFRYXGBkaGxwdHh8gISIjJCUmJygpKissLS4vMDEyMzQ1Njc4OTo7PD0+P0BBQkNERUZHSElKS0xNTk9QUVJTVFVWV1hZWltcXV5fYGFiYw==",
          "dtype": "i1"
         },
         "xaxis": "x3",
         "y": {
          "bdata": "lyGOdXEbsT8tsH5tcRuxP4833ppqG7E/jjGRKhUbsT+uDq/wjxmxP6bPhddaFbE/n21IDKIMsT/AjP4Dmv2wP5LU40vE5rA/Ux3/mRPHsD/9Zye39J2wPzDlpb9Fa7A/4PB6IUQvsD8GUF6Z7tSvP+4LyXo3O68/BPBIoCCTrj/hi8Vejd6tP1BWnfdtH60/6iAr56xXrD8NxRdkIYmrP3owPCmGtao/Z7Sxq3PeqT+Bm472XAWpP0bjqYOOK6g/RicFhy5Spz+xYVE+PnqmP0CoNO6bpKU/gvM5SwXSpD+DKtkcGgOkP7ZAN/ZeOKM/eMWZ6j9yoj/9d4srE7GhP0fyyYQb9aA/b+2proo+oD+MwAXmBhufP1OkT0Y3xJ0/Lztivrt4nD9dkhpgljibP+UWMe24A5o/+cnrZAfamD8JoE1HWruXP7yc7pOAp5Y/pZafikGelT+TCswzXp+UP/DEQbaSqpM/F5Orf5e/kj8aE6lEIt6RP6FrB93mBZE/ZPg4AJg2kD+wsY7Lz9+OP2H5OpoRY40/9JBe31r2iz/QkmXAEpmKP3W5p7KiSok/p0oN/HYKiD+u6b0a/9eGPzE+NReusoU/2k60w/qZhD8p36vrX42DP3A3a3VcjII/iqgWeHOWgT8NCqlHLKuAP305FfEklH8/kNgquGvlfT9ZqWXuVEl8P5oqLegQv3o/gZjyH9hFeT+amCsL69x3P8ISJOqRg3Y/ms3Jkxw5dT+uT2s+4vxzP7eSP0ZBznI/9qhs8p6scT/aBSg5Z5dwP0Vj5gYZHG8/Dr7F4Q4gbT8phJg3rTlrP+WqSbz8Z2k/sEOmLhGqZz8utUbmCP9lP6f7EGQMZmQ/i9mT5U3eYj8T5Wv7CGdhP4AYrUUE/18/fnEYxQxOXT9R4OLV1blaPzrgTXMZQVg/U030gKDiVT/guWMfQp1TP1qfXAfjb1E/5KBA1+myTj+Iv1rC67FKPyJ6jJvf2kY/jbQzue8rQz9Dl4zjt0Y/P9qPRznxfjg/yFY3PFv9MT8ThCD51X0nP05A3VLkAhc//Knx0k1iZbw=",
          "dtype": "f8"
         },
         "yaxis": "y3"
        },
        {
         "hovertemplate": "risk_band=7<br>variable=p_12m_forward<br>default_month=%{x}<br>value=%{y}<extra></extra>",
         "legendgroup": "7",
         "line": {
          "color": "#D62728",
          "dash": "solid"
         },
         "marker": {
          "symbol": "circle"
         },
         "mode": "lines",
         "name": "7",
         "showlegend": false,
         "type": "scattergl",
         "x": {
          "bdata": "AAECAwQFBgcICQoLDA0ODxAREhMUFRYXGBkaGxwdHh8gISIjJCUmJygpKissLS4vMDEyMzQ1Njc4OTo7PD0+P0BBQkNERUZHSElKS0xNTk9QUVJTVFVWV1hZWltcXV5fYGFiYw==",
          "dtype": "i1"
         },
         "xaxis": "x4",
         "y": {
          "bdata": "4BZmgqqFbT+WgvgMog9zP3YZm9ft3Hc/wZjLpk0YfT/oRWIKSlKBP+sjud0eLYQ/U+mWxVwGhz/RUZWPSsiJP6TiLboJYIw//RgyIc6+jj/xaIDvGG2QPzbOQ/f5VZE/9XThd7MYkj+r3Bm2YLWSP13HKBk3LZM/A/kdqjaCkz+8wtiD5raTPzQrzAIezpM/5rYi+dnKkz8cmhhxHLCTP2Z85EjVgJM/740P+tE/kz92dhcHs++SPzYiBMHlkpI/XROoT6Erkj8FMYgc5ruRP5w5OO9+RZE/Cx2IMQPKkD/7tGTy2UqQP1vJ/7B6ko8/jegnlXyMjj/KypVGkIWNPzk/pKZIf4w/iI9Qu/t6iz/dWrlCyXmKP11xkNKgfIk/joVSfEeEiD8Ac6b0XJGHP2A0J0BgpIY/8gJ56rO9hT84rTXOod2EP/p/NXVeBIQ/muIxGQwygz9tK9pMvWaCP6JLTlV3ooE/SNeiOzTlgD/+Rqad5C6AP5U/R4ni/n4/ZZC2EHmtfT81T8sHR2l8Pza5YEP+MXs/S0mSBkoHej9CfGWS0Oh4P01IIn001nc/0Pwn2BXPdj/MOlAqE9N1P6lpRkTK4XQ/KtCe89j6cz+3buyY3R1zPzXclqR3SnI/L6jA/UeAcT9TDipW8b5wP+cHom0YBnA/M/OPjsiqbj+jzjKl/FhtP2qqEBQlFmw/be0+EZ/haj8WfBAwzbppP+0pN3AXoWg/s8H/QeuTZz9YumqBu5JmP0eZqGkAnWU/TBlNgjeyZD+om16H49FjP0lzP02M+2I/gZdLob4uYj9gp+YnDGthP1pbmzgLsGA/Nzesca36Xz/UCmDrG6VeP2O6W/qoXl0/7tiN7qMmXD9cpPT9Y/xaP5E0W/dH31k/u5sK9rXOWD+vz74WG8pXPwgMIC7r0FY/Y030gKDiVT/buWMfQp1TP1efXAfjb1E/yaBA1+myTj+Jv1rC67FKP0l6jJvf2kY/yrQzue8rQz/Ol4zjt0Y/PzuQRznxfjg/a1c3PFv9MT97hSD51X0nP69D3VLkAhc/AAAAAAAA+H8=",
          "dtype": "f8"
         },
         "yaxis": "y4"
        },
        {
         "hovertemplate": "risk_band=6<br>variable=p<br>default_month=%{x}<br>value=%{y}<extra></extra>",
         "legendgroup": "6",
         "line": {
          "color": "#9467BD",
          "dash": "solid"
         },
         "marker": {
          "symbol": "circle"
         },
         "mode": "lines",
         "name": "6",
         "showlegend": true,
         "type": "scattergl",
         "x": {
          "bdata": "AAECAwQFBgcICQoLDA0ODxAREhMUFRYXGBkaGxwdHh8gISIjJCUmJygpKissLS4vMDEyMzQ1Njc4OTo7PD0+P0BBQkNERUZHSElKS0xNTk9QUVJTVFVWV1hZWltcXV5fYGFiYw==",
          "dtype": "i1"
         },
         "xaxis": "x",
         "y": {
          "bdata": "AAAAAAAAAADH6WMK8QmZPjPq91HCLwA/zd6lg9LaLD9xELB70QlGPzamWV7rXVY/zbdVdyz/YT9lwTlDxwlpPxDUb3oOmW8/6b+uYfSdcj+Iiwt4Wt50P2FAARpRiHY/PWZlffSjdz9uZUoay0B4P85KgECMcXg/9xZDHnBJeD+ZhhN9ntp3Pwk/LNBfNXc/3RgEkcpndj/E3m+du311PzE0OpP4gHQ/BoLO8WZ5cz93WTrtSm1yP9to1UaGYXE/tydU/dJZcD8aqEOq77FuP4P5ExfswWw/A3gwk2Dmaj8kkJumFiFpP6VQUD8Sc2c/15wKKb7cZT/vjTk6EF5kP25lGIem9mI/ISuqxt6lYT+hQcLt6GpgP32AB7yriV4/azphx0VlXD+vzRk8hWZaP757WqZHi1g/dX8qMm3RVj+HA3FV4DZVP1GcpV6buVM/4a5mWqxXUj9KGzKsNw9RPyL68UjzvE8/cuEln46HTT8Liz1aHXtLP4WzVOuslEk/9ZVDGXvRRz9eJ2Fs9C5GP4fmS0eyqkQ/RferyXhCQz9UqVKTNPRBP/oA33j4vUA/NBbHbfY7Pz8X9HVaKiU9P2uuN1N8NDs/Wm3ajBZnOT8/NYXCWbo3Pz6HSlbZKzY/5S+1p1e5ND8rZTahwmAzP+gYQXwwIDI/Fr8Mu9z1MD8ycMSsSsAvP74f1zoQuy0/6q1xikDZKz///AJLSBgqP1zdJ0DGdSg/Y+S+YIfvJj/C+RVBg4MlPy8wNcPYLyQ/u6d1CMvyIj9zGcefvsohP7AoQOw2tiA/1LKkf6dnHz9Hb3FMnoQdP13/7Lj2wBs/47rw4oEaGj9o5UwZOo8YP0le3a4/HRc/Y5gLDtbCFT96cqIHYX4UPxuhOlhiThM/xIziX3cxEj/ny/oHVyYRP2fokNPPKxA/jRWaLYyBDj+bd5mkZMgMP2TECl8/Kgs//5AJN1WlCT8dIDr7/jcIP0iReA+z4AY/p3+9PAOeBT9wd2ysmm4EP6sLkAs8UQM/QE7Q0r9EAj8IezOwEkgBPwQ+9g80WgA/6g4DhGn0/j4=",
          "dtype": "f8"
         },
         "yaxis": "y"
        },
        {
         "hovertemplate": "risk_band=6<br>variable=cum_p<br>default_month=%{x}<br>value=%{y}<extra></extra>",
         "legendgroup": "6",
         "line": {
          "color": "#9467BD",
          "dash": "solid"
         },
         "marker": {
          "symbol": "circle"
         },
         "mode": "lines",
         "name": "6",
         "showlegend": false,
         "type": "scattergl",
         "x": {
          "bdata": "AAECAwQFBgcICQoLDA0ODxAREhMUFRYXGBkaGxwdHh8gISIjJCUmJygpKissLS4vMDEyMzQ1Njc4OTo7PD0+P0BBQkNERUZHSElKS0xNTk9QUVJTVFVWV1hZWltcXV5fYGFiYw==",
          "dtype": "i1"
         },
         "xaxis": "x2",
         "y": {
          "bdata": "AAAAAAAAAADH6WMK8QmZPgeyDDTWYQA/p4VUCKR5MD9EU9p/o0ZOP+xnI4+ewGI/3I88g+Vfcj+OcNkkyeR+P0utCDGoWIc/oAbwMNFTkD+C6fLOZ4uVP5o5cxV8LZs/lUlmmjyLoD9Dlq/9VZOjP52fv4WHoaY/fAKIibWqqT9PcypZCaasPzD7L1O1jK8/Jj+oUtcssT8SPX8Ms4SyP1XgspXCzLM/dcjPBFkEtT8MbqOzLSu2P5rEEBhGQbc/FQfmR+NGuD9WJDjFcjy5PyLE8CWCIro/4keKKrX5uj9jJL/fvcK7P+imuXFWfrw/z/sBYzwtvT8+yNPkLNC9P2mLDBniZ74/wtxBDxH1vj/P7q9WaHi/P9EMoAWP8r8/3cheDhIywD94/NYY32bAP2+xI6j1l8A/bgaIgpjFwD916DJDBvDAP64z8Hl5F8E/DAGl0ig8wT9DZf1BR17BPz1XRjUEfsE/Hn3lw4ubwT+puj/hBrfBP10PK46b0ME/81JECW3owT8atLD9m/7BPwEA+K9GE8I/+KvBKIkmwj+h/lRdfTjCP6LdzVU7ScI/LcEEUdlYwj8n/DHma2fCP/6XWyQGdcI/NQWir7mBwj/QR4Pclo3CPxRtLsmsmMI/rEcCdQmjwj/f4lLWuazCP2sDke7JtcI/y4nu3ES+wj/nupnvNMbCP69wqLOjzcI/Gg3LA5rUwj/Zzd0VINvCP9DXbYc94cI/iQdGafnmwj8HTRZKWuzCP1MaR0Bm8cI/vTcJ8yL2wj+DKbGilfrCP405bDDD/sI/Iy5cJbACwz9RvCW5YAbDP/HZ/NfYCcM/CDg5KBwNwz+lYXwPLhDDP1E9crcRE8M/xP4zEsoVwz8S81TeWRjDP2b6n6rDGsM/uPaL2Qkdwz8R9mykLh/DPy5oZx40IcM/z0EqNxwjwz9mi3S96CTDPxJ8amGbJsM/q+y9tjUowz9NoK02uSnDP9aX3kEnK8M/rmMSIoEswz91Kr0LyC3DP3bjfR/9LsM/exB7ayEwwz+zE6bsNTHDPxcT5487MsM/LzMzMzMzwz8=",
          "dtype": "f8"
         },
         "yaxis": "y2"
        },
        {
         "hovertemplate": "risk_band=6<br>variable=pd_lifetime<br>default_month=%{x}<br>value=%{y}<extra></extra>",
         "legendgroup": "6",
         "line": {
          "color": "#9467BD",
          "dash": "solid"
         },
         "marker": {
          "symbol": "circle"
         },
         "mode": "lines",
         "name": "6",
         "showlegend": false,
         "type": "scattergl",
         "x": {
          "bdata": "AAECAwQFBgcICQoLDA0ODxAREhMUFRYXGBkaGxwdHh8gISIjJCUmJygpKissLS4vMDEyMzQ1Njc4OTo7PD0+P0BBQkNERUZHSElKS0xNTk9QUVJTVFVWV1hZWltcXV5fYGFiYw==",
          "dtype": "i1"
         },
         "xaxis": "x3",
         "y": {
          "bdata": "YTJVMCqpuT/j0HgBJqm5P0QAVN/Lp7k/AhQYwCeeuT942dB1s4C5P+Ir4BPqRLk/RhKHILTkuD8ojq9z2V64PylcBVvttbc/YyvQxN/utj80EIlTvw+2P4FKqXvUHrU/vfTS+hAitD8HTqKPwB6zP57+/ttmGbI/KoE+A7oVsT9EgJIKrhawP48rNrwRPa4/lBkXk/NdrD+Wy9OEYpKqP86954Xu26g/sEwZr347pz8THeYYdLGlP/ixB3fHPaQ/zzv9zCHgoj8c2zm/8JehP2wAFBN3ZKA/NUKn27OJnj9OCqixVnCcPwkyiwTlepo/cbP4RGSnmD/fa+i82vOWPzBiQ+RWXpU/I6RAwfTkkz9CbuW64YWSP+XshjFfP5E/MVeQIcQPkD88dpoP/OqNPz1iaWci3os/ioOzVjH2iT+FBNR6izCIP4mXga++ioY/lXygaIIChT8HII7UtZWDP7orgdxdQoI/NSugE6MGgT8U++9Cn8F/P0/To2Kann0/iELP2kWhez8b0/IV58Z5P/4le9X2DHg/y8zVnx1xdj8HiWBeMPF0P3GYaCwti3M/QQVaVzg9cj+G/2+PmQVxP/hwQI9yxW8/jEYghjymbT/MnjSc1qprP94zeEG60Gk/+itV0JAVaD+vyYfqL3dmP0/IKBuW82Q/oQtkueeIYz9G1YIHbDViP1sMHIqK92A/fdvcJpGbXz+gmTr+jW1dP0dwfjWAYls/oOLJbwt4WT+Jf+vI/qtXP0Pn5oxR/FU/MuTXMCBnVD/n8h6IqepSP1B6IzFMhVE/dcNQNYQ1UD8CsYyw0fNNPy/CBSVVoks/2a4zaCJ0ST/3iZFY9GZHP6B4AOateEU/CGRfI1enQz8w8bORGvFBP81AVaBCVEA/sJvMu26ePT9SuIes+MA6Px2JsjNdDTg/6DUx1gWBNT8nySseiBkzP+goBn2i1DA/mq4N0nJgLT/M0QRkqVQpP1ejgxE6giU/MAtkarPlIT/aUfLeufccP96bzUlmgxY/LRj528doED9pUbyzLEUFP/w18gl9r/Q+/Knx0k1ilTw=",
          "dtype": "f8"
         },
         "yaxis": "y3"
        },
        {
         "hovertemplate": "risk_band=6<br>variable=p_12m_forward<br>default_month=%{x}<br>value=%{y}<extra></extra>",
         "legendgroup": "6",
         "line": {
          "color": "#9467BD",
          "dash": "solid"
         },
         "marker": {
          "symbol": "circle"
         },
         "mode": "lines",
         "name": "6",
         "showlegend": false,
         "type": "scattergl",
         "x": {
          "bdata": "AAECAwQFBgcICQoLDA0ODxAREhMUFRYXGBkaGxwdHh8gISIjJCUmJygpKissLS4vMDEyMzQ1Njc4OTo7PD0+P0BBQkNERUZHSElKS0xNTk9QUVJTVFVWV1hZWltcXV5fYGFiYw==",
          "dtype": "i1"
         },
         "xaxis": "x4",
         "y": {
          "bdata": "kPYI1mQclj9qC1rHlSmaP5UGVA2UOZ4/sCWzedsQoT9msnzWCtSiPzQsimvCTKQ/+Qr3rXRrpT+5UItiUCumP4T6IjDsj6Y/FQqH2kCipj9VAyyOCm6mPwnjSoDh/6U/rK2oKABkpT/1wApgkKWkP9L86aRWzqM/PGGpGJrmoj9k+1C8MPWhP42S8Dmf/6A/3b+acEEKoD9SK79M6jCeP3EZjCeGWZw/QvXxnAiSmj/ny+Z2Bt2YPxB3iLwvPJc/cCBqeH+wlT8ge6Z2YzqUP8JPc/Lc2ZI/eIBNMJuOkT8UCD70EFiQP5TMlFkLa44/WepQIUZMjD+7t0Kl/1GKP6mYBexPeog/Gh3hbkbDhj8A31LU8yqFPyXwuzFxr4M/HQ25VeVOgj+tDKGEiAeBP2WeV/lNr38/OzqRDUV7fT/6f0eX5m97P5+WmjJQink/7vPmeczHdz+XQKwZ0iV2PwkfYnEConQ/JDMw5Cc6cz+nq9X0M+xxP1q550E9tnA/CFlJ5fosbz9a3F1BnhZtP6eDzY9XJms/zo1HhlNZaT+WPD619KxnP1Iktc7PHmY/oJxFG6isZD8gssIfbFRjP744gXQyFGI/OFU7zjbqYD9Pvn1vrqlfP96ACfYipV0/JHTSbwHEWz8aofBMtgNaP9oWLgXgYVg/oFR3PUvcVj/QUr8273BVP2M4tYHqHVQ/zATD8n/hUj8u1fHRE7pRP1I0fkIpplA/5WE0vL9ITz93DiMA42ZNP16OeHlgpEs/+HrJAwn/ST8mCvq51nRIP36wbcjpA0c/YuyIf4WqRT87zXahDWdEP8SuguYDOEM/CESwswUcQj+SVpD/yRFBPwuRn2EfGEA/4sSMkdRbPj+JUKurRqQ8P7UcN66rBzs/G1jOxDyEOT+LLxAWUxg4P+lmE2NlwjY/4zEx1gWBNT9/xCseiBkzP+MjBn2i1DA/ZaQN0nJgLT+SxwRkqVQpP+aYgxE6giU/zwBkarPlIT+bOvLeufccPxGGzUlmgxY/9gL528doED9MKryzLEUFP2rq8Ql9r/Q+AAAAAAAA+H8=",
          "dtype": "f8"
         },
         "yaxis": "y4"
        },
        {
         "hovertemplate": "risk_band=5<br>variable=p<br>default_month=%{x}<br>value=%{y}<extra></extra>",
         "legendgroup": "5",
         "line": {
          "color": "#8C564B",
          "dash": "solid"
         },
         "marker": {
          "symbol": "circle"
         },
         "mode": "lines",
         "name": "5",
         "showlegend": true,
         "type": "scattergl",
         "x": {
          "bdata": "AAECAwQFBgcICQoLDA0ODxAREhMUFRYXGBkaGxwdHh8gISIjJCUmJygpKissLS4vMDEyMzQ1Njc4OTo7PD0+P0BBQkNERUZHSElKS0xNTk9QUVJTVFVWV1hZWltcXV5fYGFiYw==",
          "dtype": "i1"
         },
         "xaxis": "x",
         "y": {
          "bdata": "AAAAAAAAAABdeDmov7D3Pkgv38Z4ZEc/mTwjY6m+Zz8bwBTj61J4P6nhB5GPG4I/AfFV6euehj9e3wuz6GeJP71DHVFwooo/jSYEjSimij8cL6gCNs6JP6sTuzaMaIg/jbq2n4mxhj+9QXB+AtWEP7vpllou8YI/luAWlNcZgT/EMhm+UbZ+P/LrxTzWd3s/eXZkonB+eD+sPeizc8t1P8ObdvcWXXM/sHxjmbMvcT+iFTJSOn1uP4X8HS5lCWs/mNQWOHn5Zz/IZDjpUUNlPy0yTAFb3WI/BSHmPLa+YD/HQaEGl75dP9wW7WKWb1o/ceflh0+DVz/i2vfmFO5UP1HZD1KKpVI/fuQ0uoagUD+9nMaS661NP4dKaSx1g0o/DnkWUyi1Rz9JsplpCDhFPwm//zhwAkM/mbdpq+gLQT+A7iL3B5o+PxivBhx6fjs/03AhOLW5OD8gBw6oq0E2P5mcTiaIDTQ/MsYjxIYVMj9B883E0lIwPzDIOY3Rfi0/4PUyZ/mrKj9OtnwDxiMoP8ScRrD53SU/gULodU3TIz+oKM7WUv0hP0N6Q2ZZViA/eFxxbq+yHT/89KporgMbP/2BzwHFlxg/nJKLHexnFj8FH1tA5W0UP3BEcuwipBI/rHyk6bMFET9tPi4xYhwPPyevOvxacww/0G8HfVAJCj/rJw6UANgHPxt6ywfT2QU/jzgsacYJBD9wYa47X2MCP3UmThmZ4gA/5f81J7MH/z79A7Q2yYf8PtiEJ36kP/o+5I7zLQsq+D7V56JzSUL2PnhASDYjhPQ+j3Tabcfr8j47rujkxHXxPmeNBzoAH/A+77ou91XJ7T4Ytyx6d4jrPqSYXxLOduk+/KZpLjKQ5z5WYm9b4NDlPnTLVz1vNeQ+nhiFl8a64j7i6olHF17hPiOT8xbUHOA+atzLmFbp3T5qkA7OAcfbPhfaTePSztk+/etUukr91z7ZvFunOU/WPrRB0u63wdQ+pHTFAx9S0z4qMn5yA/7RPrdCPmUvw9A+WBABZjs/zz56Cs3T6iLNPiL1HJELLss+lNjgNYVdyT4=",
          "dtype": "f8"
         },
         "yaxis": "y"
        },
        {
         "hovertemplate": "risk_band=5<br>variable=cum_p<br>default_month=%{x}<br>value=%{y}<extra></extra>",
         "legendgroup": "5",
         "line": {
          "color": "#8C564B",
          "dash": "solid"
         },
         "marker": {
          "symbol": "circle"
         },
         "mode": "lines",
         "name": "5",
         "showlegend": false,
         "type": "scattergl",
         "x": {
          "bdata": "AAECAwQFBgcICQoLDA0ODxAREhMUFRYXGBkaGxwdHh8gISIjJCUmJygpKissLS4vMDEyMzQ1Njc4OTo7PD0+P0BBQkNERUZHSElKS0xNTk9QUVJTVFVWV1hZWltcXV5fYGFiYw==",
          "dtype": "i1"
         },
         "xaxis": "x2",
         "y": {
          "bdata": "AAAAAAAAAABdeDmov7D3Pgv7IMT+IUg/XHsrFCnHbT/kPpU2QJuDP0aQzuNn25I/xoh52N0qnj86vP8YaW+lPykNRy0FGKw/ZgtEqMdgsT9KEZlojpq0P79zcO+fp7c/EUtnI9F9uj9JUzVzcRi9P4AwiD6Xdr8/SYaFGOnMwD/fT3amm8LBPz9/XFhansI/86Jv3U1iwz/g5A57qRDEP76ZyjKSq8Q/pLWVzw81xT/7fd64BK/FP+31lk0qG8Y/P1F3MhB7xj/SMhx6HdDGP5tjIeaSG8c/H/wUv41exz+jPiLtCprHP9EY6Bnqzsc/oOT3uPD9xz9W1MXizCfIPwn0afcXTcg/0l3eBFluyD9vJHHwBozIP7qNnWWKpsg/M6TwjT++yD/lPVqWd9PIP6Q9kwZ65sg/XKc+74X3yD/TODrz0gbJPys8SDCSFMk/40zkCu8gyT/nU7jgDyzJPzV7y6QWNsk/GI0taCE/yT8S9I/RSkfJP4RC84WqTsk/QQ9NhFVVyT9v7s11XlvJPxYAOvTVYMk/J3qXx8plyT+xLU0cSmrJP5C+prJfbsk/vIyUCBZyyT8bomF+dnXJPwvcAXeJeMk/fY2FdFZ7yT/hmC0x5H3JPyoni7U4gMk/ulsIbFmCyT+ebisyS4TJP0ky22cShsk/wALj/LKHyT+iQ+x8MInJP1rAHBqOisk/HlODts6LyT8EDnfs9IzJP+aiCBYDjsk/ltyhU/uOyT82kuuR34/JP3KDD4+xkMk/DvNo33KRyT8lkLTxJJLJP2dCzhLJksk/O7EJcWCTyT+A2DAf7JPJP7yoMhdtlMk/d4WKPOSUyT8qbmheUpXJP6i3oDm4lck/T3FpehaWyT8N3+q9bZbJP2zUp5O+lsk/gDLCfgmXyT+oUB/3TpfJP3asb2qPl8k/Dt4cPcuXyT8reiDLApjJP8dAxmg2mMk/cbVbY2aYyT8oBM8Bk5jJP83hPoW8mMk/WOl8KeOYyT9UzoMlB5nJP9GY4qsomck/0v4d60eZyT+f0ggOZZnJP7xjFDyAmck/nZmZmZmZyT8=",
          "dtype": "f8"
         },
         "yaxis": "y2"
        },
        {
         "hovertemplate": "risk_band=5<br>variable=pd_lifetime<br>default_month=%{x}<br>value=%{y}<extra></extra>",
         "legendgroup": "5",
         "line": {
          "color": "#8C564B",
          "dash": "solid"
         },
         "marker": {
          "symbol": "circle"
         },
         "mode": "lines",
         "name": "5",
         "showlegend": false,
         "type": "scattergl",
         "x": {
          "bdata": "AAECAwQFBgcICQoLDA0ODxAREhMUFRYXGBkaGxwdHh8gISIjJCUmJygpKissLS4vMDEyMzQ1Njc4OTo7PD0+P0BBQkNERUZHSElKS0xNTk9QUVJTVFVWV1hZWltcXV5fYGFiYw==",
          "dtype": "i1"
         },
         "xaxis": "x3",
         "y": {
          "bdata": "lyGOdXEbwT8Pq2jP8hrBP+1QkANRC8E/ft1TwNjLwD9PeRmhz0nAP7vlIW1oEL8/utg9XK8svT9vHknFZw27P4h91Eba07g//ILNPf2Ztj9e754GKnK0Pwip5RQ3aLI/oxMD7u+CsD+roeay7YqtP/stP+zPYKo/fa0rX3CFpz9rsyOJsPSkPzeHdrxPqaI/gWbPpYidoD8HazZL85adPyNlHnvOWpo/8OJtC8h7lz9HQ5INze+UP2t88++lrZI/KmcnNPqskD/0IMt/lMyNP3YcqJ/GpYo/7ZnRh6DZhz+5/J8jkl2FP1vxlwxEKIM/AjohHHcxgT8IQ6bIy+N+P3nU+AJRxns/HclN5TX/eD9gw1D4i4R2PxQEbvmUTXQ/MkAnHJ5Scj9Bse6E34xwPyFjzDO/7G0/Gh5IjLMTaz8EAmqgUIVoPxlMrNVhOWY/U+F2XKcoZD9W4t9fuExiPzDKBO7on2A/3ALtRWY6Xj9YDYtbRoBbP3lYSqeLCVk/t2SlQDLPVj+wIuj5/cpUP4cHFN9i91I/8n3cmXBPUT+DSwW5gJ1PPwmj7QLK4kw/sq1+MLpnSj/zmsZCDSZIP6jrS4YoGEY/Ir7Djwc5RD8wPtZ5K4RCP96bVxyM9UA/u58f/RUTPz8O0VOcz3k8PymYqlZsGTo/cLFXQansNz84/FtFye41P8uFae6GGzQ/tARh0gdvMj8+Wfxg0eUwP/XDduJ9+S4/rdTHzvFhLD98SOql2f8pP6RJ08+Mzic/Tw84dNLJJT9e81VJ1u0jPzrkwJMeNyI/66fjNIOiID/UQ9tTS1oePwcs8sDTqBs/M5Sokt8rGT/PQyopG98WP27rDQmVvhQ/rto/jrTGEj/USA+PMfQQPx94cKsZiA4/y2JPsxJnCz+wz4ZITIAIP9H8e54xzwU/MxH4GJFPAz/m+6BSk/0AP6w7jgFmq/0+JdPdO2up+T4I5teNSe/1PiPcGHGQd/I+/mj7doF67j6wLjl/hXfoPiXgWK+63eI+CEw0D7dK2z7olxUcgY7RPsF6jINL88A+fT81XroJkLw=",
          "dtype": "f8"
         },
         "yaxis": "y3"
        },
        {
         "hovertemplate": "risk_band=5<br>variable=p_12m_forward<br>default_month=%{x}<br>value=%{y}<extra></extra>",
         "legendgroup": "5",
         "line": {
          "color": "#8C564B",
          "dash": "solid"
         },
         "marker": {
          "symbol": "circle"
         },
         "mode": "lines",
         "name": "5",
         "showlegend": false,
         "type": "scattergl",
         "x": {
          "bdata": "AAECAwQFBgcICQoLDA0ODxAREhMUFRYXGBkaGxwdHh8gISIjJCUmJygpKissLS4vMDEyMzQ1Njc4OTo7PD0+P0BBQkNERUZHSElKS0xNTk9QUVJTVFVWV1hZWltcXV5fYGFiYw==",
          "dtype": "i1"
         },
         "xaxis": "x4",
         "y": {
          "bdata": "ii8Z/fKzsT9JBV7FbnCzP9wKARE65rQ/PeQRUfnUtT/pGKH9Rhm2Px+i5o7Au7U/eiVWCevdtD+sg3vyqqezP0DkDKgmPbI/PwryOgu7sD8XvXSGbWyuP9eT0TGbeas/sXPywWKvqD9u2fOSyBemP9wmVURet6M/AUc3PQiPoT9zaHcAmDqfP7wVoXJ9vps/+i+OvVWimD882gxZAN6VP/ovYDo6aZM/n3Aakvo7kT/QJPweVJ2OP7j2L2OBNIs/Iy47WqUwiD8+yFO9JIaFP5sDtdKWKoM/T5K/pLMUgT9R+Ar3e3h+P4S8WS7XM3s/QgMHippOeD/AUbaYb711P1Nv9otcdnM/WojSU5xwcT/3/9vC9EhvP+TbNh9kFmw/Es77F6M9aT8XUekMQLRmP1BfQsQNcWQ/Fd9ZP/trYj8Sryhy8J1gP47G4aleAV4/ZWuuoHEdWz/QdlweaoZYPySe45i9M1Y/eCMLfuIdVD8C7p+eMD5SPyGKHpnFjlA/J/i6gtkUTj+qW6YlFFlLP6DB0pIP4kg/DyINk4yoRj+DTFcWHKZEP0vfuIsG1UI/fCpORzYwQT+P25AkSWY/P3F0XBuSszw/mJAjOBZBOj8hV7cgagg4P7aSxdDRAzY/DZkDwywuND/O2Kh35IIyP5Inygzd/TA/Fb3LTc82Lz+EWMrgbLAsP6r5WfyjYio/b8Rt2x9IKD8YlWMtFVwmP7XS710zmiQ/xOqnh5f+Ij/tpWLewIUhP4st92SGLCA/p3DIjhvgHT8+f2huhpsbP+3LQ1ikhhk/iklL3T2dFz99xoqqgdsVP+aZjkD6PRQ/yRuxw4TBEj/2SbTFSGMRP2Wvx+ywIBA/VtTAvsjuDT9bSFC+gcoLP207mv+q0Ak/NNFo0bv9Bz+VGAQlfE4GP2AtQ+b8vwQ/1Cr4GJFPAz8pFKFSk/0AP4VyjgFmq/0+Vw3eO2up+T4QFtiNSe/1PpIWGXGQd/I+qeH7doF67j6Zljl/hXfoPodcWa+63eI+Vz81D7dK2z62hxYcgY7RPqBhjoNL88A+AAAAAAAA+H8=",
          "dtype": "f8"
         },
         "yaxis": "y4"
        },
        {
         "hovertemplate": "risk_band=4<br>variable=p<br>default_month=%{x}<br>value=%{y}<extra></extra>",
         "legendgroup": "4",
         "line": {
          "color": "#E377C2",
          "dash": "solid"
         },
         "marker": {
          "symbol": "circle"
         },
         "mode": "lines",
         "name": "4",
         "showlegend": true,
         "type": "scattergl",
         "x": {
          "bdata": "AAECAwQFBgcICQoLDA0ODxAREhMUFRYXGBkaGxwdHh8gISIjJCUmJygpKissLS4vMDEyMzQ1Njc4OTo7PD0+P0BBQkNERUZHSElKS0xNTk9QUVJTVFVWV1hZWltcXV5fYGFiYw==",
          "dtype": "i1"
         },
         "xaxis": "x",
         "y": {
          "bdata": "AAAAAAAAAAAuqXY1Iw9FPzdvdqALw38/nLkF86pbkj/VGvLqFTmZP1Jg0FvFi5s/A6/YbqO2mj9xgttUVDiYP26DiAHXF5U/RYUCgnbrkT9mfYNvDPuNP7w+ayZt14g/juCB9ZN3hD+7M5hsvs+APzwHQvMVlXs/HRPW/kCgdj+IbtzuUJNyPzDou1Qmi24/TWVqh2EoaT95ng1xF8RkP3gwrJ9VLmE/hcXyMwGAXD9Wquf+w7JXP4vIgLaxwVM/tb+Q42+DUD/J+ZMqTK1LP/WPTEfdQEc/vhaoYSSWQz8A4ODUA4pAP3eZRaUVADw/o1iy60nCNz83aCikGjU0P4ANGBnvOTE/72+AU5BvLT+UclzeWjQpP8MeeB+ioCU/K606Mb6YIj+/15kC3wUgP1a3YUdPqhs/FwRCZuvtFz9t4pUqmLwUP6Im5OGzABI/GDT9dWFQDz+AZbFJ6UcLP+r4/Tatzgc/arRed2fPBD/fwDgtLzgCP+wdUZPQ8/8+PwTDtpkP/D4nmBcoFq74PntVBXPovPU++gSt43Is8z6KWz7bZ+/wPi+dM67Z9O0+0xLmwJmH6j7w691qb4bnPsRa7vMW4+Q+f9/aR06R4j5V0H5RiIbgPhk5S9VYc90+nPtcv79F2j7rQ3++r3bXPtwUi+5k+tQ+LKql+KrG0j6wcUHTpNLQPtXPscE5Lc4+D+5MO7gXyz7zO6CHDlnIPpYUZvYB58U+5HvMn6C4wz7cwByUFcbBPqH0sTeDCMA+2VVawcXzvD6P4crg0Sm6PinjUoLZqbc+9+QbtadrtT4lBBno/2ezPhWqor9+mLE+PyhfG/7urz7qvkuxBACtPj5a+eQ4W6o+MhWZaMP4pz4bbwcEr9GlPpdSXI7N36M+FND+UaAdoj4el7tmQ4agPqQHWDu3Kp4+5CVMUQ2Omz5DV6Nlmi+ZPk5OWFQtCZc+dYn0BD0VlT6uPkWD1U6TPmfwrFeHsZE+RTTo1lg5kD7+yjtVcsWNPtBribjpVIs+bYT0ZVcbiT4wYAd2jxOHPv3u8KXqOIU+PUZWPjiHgz4=",
          "dtype": "f8"
         },
         "yaxis": "y"
        },
        {
         "hovertemplate": "risk_band=4<br>variable=cum_p<br>default_month=%{x}<br>value=%{y}<extra></extra>",
         "legendgroup": "4",
         "line": {
          "color": "#E377C2",
          "dash": "solid"
         },
         "marker": {
          "symbol": "circle"
         },
         "mode": "lines",
         "name": "4",
         "showlegend": false,
         "type": "scattergl",
         "x": {
          "bdata": "AAECAwQFBgcICQoLDA0ODxAREhMUFRYXGBkaGxwdHh8gISIjJCUmJygpKissLS4vMDEyMzQ1Njc4OTo7PD0+P0BBQkNERUZHSElKS0xNTk9QUVJTVFVWV1hZWltcXV5fYGFiYw==",
          "dtype": "i1"
         },
         "xaxis": "x2",
         "y": {
          "bdata": "AAAAAAAAAAAuqXY1Iw9FPy6ikgN4MoE/swrP9Ob0mj/EkuBv/haqP3Zh5I5w7rM/N42aahmcuj/qtug/F1XAP1jHGSAS+MI/ARha8IA1xT/XT1K3MRXHP8MDuYmoosg/zCERySHqyT8IpdqvHffKP0K1dF/G08s/22VrZ8iIzD9PSeLuYh3NP/A4NYiPl80/heJSDjH8zT//GBdsQU/OP8HJlcL6k84/TK/9xPrMzj+hfvtMYPzOPzKAaLDjI88/saEvkOpEzz+rNVrcl2DPPzuCobnYd88/UioD3m6Lzz8yC9jh+JvPP/+tquz4qc8/K4egEdq1zz9fm/Ke9L/PP2Ynf5aRyM8/ggeUeu3Pzz+fnkuROtbPP6d807mi288/Ustf6Ujgzz/IcSBhSuTPP/9dCau/588/QCZ2aL3qzz/8eHv7VO3PP4G19xGV788/VBUPGIrxzz9qsKOWPvPPP0ogd4G79M8/NZbudwj2zz/BaeH6K/fPP0oEZpkr+M8/YrozFgz5zz8f++SG0fnPP0qTKG5/+s8/srC/0Rj7zz+liv5MoPvPP3NDZSAY/M8/C0fMPoL8zz+D8olY4PzPPzzC5eQz/c8/p+EeKn79zz+iJ0BEwP3PPzjS8Sr7/c8/8lBxti/+zz/xzdCjXv7PPwermpiI/s8/UpzwJa7+zz/VQjrLz/7PP4cEdPjt/s8/1D8sEAn/zz90xzppIf/PP9q9PFA3/88/pl3dCEv/zz/D8fLOXP/PP3Updtds/88/IgpZUXv/zz+H+kFmiP/PP7C7LjuU/88/PpYC8Z7/zz9LigKlqP/PPxzqQXGx/88/9HABbbn/zz9HnQKtwP/PP4XW0EPH/88/q7ABQs3/zz+tcW220v/PP0TVYK7X/88/xOnINdz/zz9zw1lX4P/PP96qsBzk/88/CFVyjuf/zz+8oWW06v/PP0dMi5Xt/88/5uwyOPD/zz9PnQ2i8v/PP0WIPtj0/88/IqNp3/b/zz92yMC7+P/PP/9jD3H6/88/XtrEAvz/zz++0f1z/f/PPx18jMf+/88/AQAAAAAA0D8=",
          "dtype": "f8"
         },
         "yaxis": "y2"
        },
        {
         "hovertemplate": "risk_band=4<br>variable=pd_lifetime<br>default_month=%{x}<br>value=%{y}<extra></extra>",
         "legendgroup": "4",
         "line": {
          "color": "#E377C2",
          "dash": "solid"
         },
         "marker": {
          "symbol": "circle"
         },
         "mode": "lines",
         "name": "4",
         "showlegend": false,
         "type": "scattergl",
         "x": {
          "bdata": "AAECAwQFBgcICQoLDA0ODxAREhMUFRYXGBkaGxwdHh8gISIjJCUmJygpKissLS4vMDEyMzQ1Njc4OTo7PD0+P0BBQkNERUZHSElKS0xNTk9QUVJTVFVWV1hZWltcXV5fYGFiYw==",
          "dtype": "i1"
         },
         "xaxis": "x3",
         "y": {
          "bdata": "/Knx0k1ixT9IgUMyO1TFP4qZpqBuqsQ/TyeT7twhwz9KH/WcfgbBP3m4RRbncr0/sukQM2z8uD+cDseClPC0P/Y1zyh4arE/zKgjFyfYrD+Vv+Sc8NWnP2W+faqEr6M/W6NEZS5EoD9BzvbBX+qaP9baGz67TpY/F+TYIBCHkj9ezeyIQdmOP/wUoiP4vok/AYj+7AWLhT9TuFBS5xKCP+eDwLQ2aH4/jF9WLVOleT9BRd2+y691P31tyEfYYnI/xKYAgTJBbz/XYtd/gqFqP6rNYmUCv2Y/EETpkFV5Yz/6bMU2/bVgPx7fqMl1vlw/txNddlbGWD9vdsklG2ZVP2bmXhdfhVI/9651mOoPUD85z9Xf4ulLP+wbRiTsTEg/2qwMsJQxRT/bZ/HcT4RCPyZlt8C3NEA/+oreLQZqPD+WP8E2KPM4PxuE4Tc38TU/WMTp7phTMz84GHT5OAwxP/UvtNFAHi4/5HTXZT6kKj9ckXqQCJknP4ed4mfD7SQ/fyI8S7WVIj/RFMRU84UgP6tqOq02ah0/nXuTIzI2Gj+VKiqC6WEXPwOmNtBS4RQ/jGniOQOqEj/YSqV487IQPxPtqpya6A0/MnzvOoHOCj+9XwjRvQsIP9ttkWv4lQU/TNrWAClkAz82GecEam4BP5yhMQSjW/8+1d4Lcp84/D4+4cDmJGn5PtkrSa3Y4/Y+F7VvP3+g9D4fQeaP15fyPlbMZ097w/A+BgUN7IY77j7DV8fqYEPrPmBToh+rleg+1STkx40q5j78Y/iZE/vjPlyvbYsOAeI+BhVXEAA34D4X/SC4CDDdPlgJ6niAP9o+uA4ybqKU1z4tJvQ4fyjVPlJUPJ/k9NI+RlpGE0j00D4X0cuhZ0POPgBgrXls8co+z1fNeabqxz7B0leT7ifFPqpBoAXYosI+ogVtLJxVwD5AddNBEXa8PuWgzMnenLg+8Me+sjEXtT55OX6Sbt2xPlpEEGFv0a0+AMAKsLJlqD7ZDq6ocGyjPug7q14Jt50+WLm+S4BTlT5kO4RrRjuLPq5HUAZ1GXo+/Knx0k1ihbw=",
          "dtype": "f8"
         },
         "yaxis": "y3"
        },
        {
         "hovertemplate": "risk_band=4<br>variable=p_12m_forward<br>default_month=%{x}<br>value=%{y}<extra></extra>",
         "legendgroup": "4",
         "line": {
          "color": "#E377C2",
          "dash": "solid"
         },
         "marker": {
          "symbol": "circle"
         },
         "mode": "lines",
         "name": "4",
         "showlegend": false,
         "type": "scattergl",
         "x": {
          "bdata": "AAECAwQFBgcICQoLDA0ODxAREhMUFRYXGBkaGxwdHh8gISIjJCUmJygpKissLS4vMDEyMzQ1Njc4OTo7PD0+P0BBQkNERUZHSElKS0xNTk9QUVJTVFVWV1hZWltcXV5fYGFiYw==",
          "dtype": "i1"
         },
         "xaxis": "x4",
         "y": {
          "bdata": "JYGgOUJRwT9/pwQ67/bBPy4e4ziX4ME/ywp46vrQwD/npMwI1TG+P9d10REIO7o/sBhxdQtLtj+Q93yYN66yP21bBnvpB68/2dx4sXyjqT/qFgkl9x+lP7KwhKEpY6E/3TFpejagnD/l4ftxL5aXPx+Bb/HadpM/k7u7buUXkD8Zcjs7wquKPxL5bGopJ4Y/heUyHjtygj8GEy/bR8x+P0bK6O7exnk/xfM4h1ihdT9Qi+JijzJyP9lTf4Z1sm4/Y3v9VM30aT+8CJuIbgBmPzv0NHXUsWI/AuValinYXz/IidpfMC9bP9p9sPsnQlc/XqKiOnDxUz8ycGznDCNRP1DAUPotg00/aoB1l8V2ST/cKre7oANGP690TUp7EUM/RKQ9XSeMQD8hxYAPpsU8PyEvINbhDjk/b6z5pHncNT+1tDbWrRozPzXb04PiuDA/OVXiQDBSLT+TipU2+L4pP412iSoapCY/SJgbF57wIz9mfDgcGZYhP82M/JmKEB8/oN8MFlZ5Gz+eoxSnsVQYP3sLLuxNkxU/DY4QRwooEz+R/HlIoAcRP8rDyEm5UA4/WgIN1MYDCz/IhFcp+xkIP/QS9/TchgU/5kbsf58/Az9kkFaW5ToBP7m0UUcb4f4+Mam7HQuz+z7oGtI8St/4Pmjqer4bW/Y+n2zgaR8d9D4lsri4Ih3yPtDEDo/4U/A+aJPGR6127T4Ck1KDb5vqPmSdMU+EDOg+pv1p4mLB5T6/jVQCh7LjPvsqNwFQ2eE+n+pwKeQv4D6h50TqL2LdPkshCxSxsNo++GV3CjJD2D5OLKxnhBLWPoLUdsZIGNQ+Hz2CAdZO0j4tYFSUI7HQPvusM2Ztdc4+CPCIeiPPyz4VJJ93S2jJPhZ71k2LOsc+SWZUcDZAxT4R1Z4sOnTDPssObV0M0sE+mkBuLJxVwD5PXNVBEXa8PuB6zsnenLg+BjbBsjEXtT5kHYGSbt2xPgMSF2Fv0a0+MnwRsLJlqD74frWocGyjPuBOvF4Jt50+7EnOS4BTlT7Fbp5rRjuLPgdvgwZ1GXo+AAAAAAAA+H8=",
          "dtype": "f8"
         },
         "yaxis": "y4"
        },
        {
         "hovertemplate": "risk_band=3<br>variable=p<br>default_month=%{x}<br>value=%{y}<extra></extra>",
         "legendgroup": "3",
         "line": {
          "color": "#7F7F7F",
          "dash": "solid"
         },
         "marker": {
          "symbol": "circle"
         },
         "mode": "lines",
         "name": "3",
         "showlegend": true,
         "type": "scattergl",
         "x": {
          "bdata": "AAECAwQFBgcICQoLDA0ODxAREhMUFRYXGBkaGxwdHh8gISIjJCUmJygpKissLS4vMDEyMzQ1Njc4OTo7PD0+P0BBQkNERUZHSElKS0xNTk9QUVJTVFVWV1hZWltcXV5fYGFiYw==",
          "dtype": "i1"
         },
         "xaxis": "x",
         "y": {
          "bdata": "AAAAAAAAAACpu5B5+eiNP9Mu+CvfObE/qRiW+HGttj/WBPrZE+W0P4J0swDtvLA/qS9GYKYzqT9nL1oMF3KiP5blTaKZsJo/iujmmLNAkz9lvGN5bdOLP4CMNX+KMoQ/aQKfHDt+fT+LN+nHMK11PwNOErr9CnA/w91dm0vqZz/4sgEXVvNhP4nptTvqIVs/Rp2eNoGkVD9Q1tml3pxPP7kY/YVSW0g/n/UVSsXgQj9ySQInN249P5oq66sCETc/Hybbpl0sMj+iuHpcsccsP7Fgysny5SY/Xiw0jGpNIj/0jvlGHGMdPzdcay1KsRc/a4oLnNQtEz9hcqoq/SsPP+jOOfZGbQk/WwCTF8DQBD8aZ6eachkBP0bwym3zL/w+wZ7wQ6VO9z4a9Cqn7FTzPopyws4QFfA+GneB5dTV6j4iAOaPjXPmPrbZLTOQ1eI+Pr9Bz5Wu3z5kDSBPyrbaPr+xNR18lNY+JuEBeH4h0z5qdobB4T7QPt79sr8Ap8s+3f5QpLOVxz75PShkVSjEPmfBpa5oQ8E+NKbGbaegvT4GFMQr6ni5PiZVFlbO8LU+0xpQq9Dusj66+L/zwF2wPtZja4n3V6w+PALuRZOVqD6YZE0/uFulPjdcXyXGlaI+C0DikWoyoD5Ol+W3I0acPl5tpd7itpg+KMdiw02ilT4CMLnez/aSPqfuII6ApZA+wcDOkWpDjT4dLgbJTMGJPj22LzpGsoY+NhxEZ6QGhD4vyQPj+bCBPlwvhRyLS38+gK0yOFC2ez73CprnSpF4PiRItOjfzXU+kPoV7Xdfcz5AfWVmNDtxPtzDubpfr24+ym+T7o9Zaz5R9po832ZoPi8XlgUQy2U+Sq8Sxn57Yz6MZXdm6W5hPgL0JZZ9Ol8+CKPtwur+Wz6SdBU4zx5ZPrmakO9qj1Y+ReXYl1RHVD62KtGCTD5SPlnP6tEVbVA+m7fM7qmaTT78JbmP5bJKPjF16ekGGUg+G4toxmHERT5vz+HDT61DPgzih7wPzUE+WrHocakdQD6JRVTQqTM9PsqetN/JeTo+4/LU32gFOD4=",
          "dtype": "f8"
         },
         "yaxis": "y"
        },
        {
         "hovertemplate": "risk_band=3<br>variable=cum_p<br>default_month=%{x}<br>value=%{y}<extra></extra>",
         "legendgroup": "3",
         "line": {
          "color": "#7F7F7F",
          "dash": "solid"
         },
         "marker": {
          "symbol": "circle"
         },
         "mode": "lines",
         "name": "3",
         "showlegend": false,
         "type": "scattergl",
         "x": {
          "bdata": "AAECAwQFBgcICQoLDA0ODxAREhMUFRYXGBkaGxwdHh8gISIjJCUmJygpKissLS4vMDEyMzQ1Njc4OTo7PD0+P0BBQkNERUZHSElKS0xNTk9QUVJTVFVWV1hZWltcXV5fYGFiYw==",
          "dtype": "i1"
         },
         "xaxis": "x2",
         "y": {
          "bdata": "AAAAAAAAAACpu5B5+eiNP0hGKlv+9rQ/eC/gKTjSxT/ymG4LYSLQPxJ2m0ucUdQ/BzykFxF41z/0gS/5U8bZP01gVJNdcds/1s7izGil3D+57K04BITdPx2Zp4yYJd4/JxUaeZGb3j8Fujk8RvLePz0DIjNyMt8/+b5YykZi3z9fwoZ2LYbfP0l4wmBPod8/5hb54fO13z/RA0xRwsXfP10Cj/rv0d8/WA00XWDb3z/qzf3qu+LfP7XIqCuA6N8/f38SQwvt3z/WDj45pPDfPyJIl/eA898/qM7opMr13z9BPq3WoPffP/cUUOsb+d8/sNWZyE763z8EK4MoSPvfP9LcupIT/N8/apm7GLr83z+lblDkQv3fP9ElHqSz/d8/kzWz3hD+3z8/0mUyXv7fP0kNqYae/t8/TNhSMtT+3z8Y+G0ZAf/fP3RejsQm/98/ti0kc0b/3z/WfO4pYf/fPwyaar53/98/DhLp34r/3z+U08oem//fP20zS/Ko/98/lQUlvbT/3z+pt0/Rvv/fP/wOBHPH/98/buot287/3z9fdWg51f/fP+UKnLXa/98/uTVQcd//3z+pcsCI4//fP9ZjvxPn/98/lMxxJur/3z9+1OjR7P/fPyqZoSTv/98/ZuvuKvH/3z/kJlHv8v/fP85Uv3r0/98/BDHk1PX/3z/wLlEE9//fP9I3qQ74/98/YIzE+Pj/3z+o8s7G+f/fP3kkYXz6/98/s0eWHPv/3z/LFh6q+//fPz1DTCf8/98/HoQllvz/3z+8r2r4/P/fP18vok/9/98/Ew8gnf3/3z+t4Azi/f/fPyKgax/+/98//78eVv7/3z94fuyG/v/fP4OegrL+/98/D5x52f7/3z/cblf8/v/fP3LskRv//98/NdeQN///3z9tpq9Q///fP10RP2f//98/9WWGe///3z94ssSN///fP0rIMZ7//98/QR3/rP//3z8JkFi6///fP34TZcb//98/YURH0f//3z9D7B3b///fPyF0BOT//98/2kgT7P//3z9OM2Dz///fP8al/vn//98//v//////3z8=",
          "dtype": "f8"
         },
         "yaxis": "y2"
        },
        {
         "hovertemplate": "risk_band=3<br>variable=pd_lifetime<br>default_month=%{x}<br>value=%{y}<extra></extra>",
         "legendgroup": "3",
         "line": {
          "color": "#7F7F7F",
          "dash": "solid"
         },
         "marker": {
          "symbol": "circle"
         },
         "mode": "lines",
         "name": "3",
         "showlegend": false,
         "type": "scattergl",
         "x": {
          "bdata": "AAECAwQFBgcICQoLDA0ODxAREhMUFRYXGBkaGxwdHh8gISIjJCUmJygpKissLS4vMDEyMzQ1Njc4OTo7PD0+P0BBQkNERUZHSElKS0xNTk9QUVJTVFVWV1hZWltcXV5fYGFiYw==",
          "dtype": "i1"
         },
         "xaxis": "x3",
         "y": {
          "bdata": "/Knx0k1i1T8wN2WjZ8LUPw8dHT6u4dE/yXW47J0vzD/YM1I6WzTFP+H4a6FPOb8/lrbcTafNtj/Wd3Sc4qOwP8nB9e/TXKg/28d6hQbuoT/cbWiJ74+aP05WNyRU0JM/Pf5xu+/FjT+XiFYr0IeGP5CyqZOQK4E/v6Pcf4RZej9CDI/QGVp0P/xsn9hlo28/nI7icra9aD9U2r6YsnVjP6uUAqkEyF4/SsHzyUR5WD8v84V2lY5TP+VaDfQnaE8/zxKfMK9VST/Yexm00YZEPxQ+C+WBs0A/E1p3B4BJOz+o+B6kq2A2P2lcLlRjazI/+mI/ZUduLj8zbpU6HzkpP252N3aq+SQ/3vVld25/IT+XPJaRP0gdPweM5se7khg/3J+ASO6tFD+MZPGuJnMRP1JL9Amwhg0/lsdxFP8KCT9Mv/C7y0oFP5pVoR1LJQI/bctSuZz//j7H73ZXG4n6Pq7PHJFnw/Y+AHTrijeR8z6kqLl7bNrwPkyzZCs2Fu0+TJP5vYkl6T6eu66YcMflPt+f4VAf5eI+CBQME5Fr4D4AKOmqu5XcPsmuyhtg69g+WFEPhafB1T7laPghtAXTPhDoH4map9A+a3yGcckzzT6/P7MBVqLJPgDgIod9h8Y+eQmXmMfSwz5QTXA4K3bBPtW46Ctay74+6HsH/xsuuz78qZtlDQO4PlxP33gdO7U+tMi6BlnJsj4v3XvmmaKwPuNlBP2Feq0+9D01wQ0iqj64XgeBbi2nPiOb7ag3kKQ+4fru3J4/oj6281KhRDKgPnuUQKUDwJw+rscxGXmDmT6yHT+yhqKWPpqZRGFbEpQ+Ujgh+YHJkT7o+1G5ZX+PPgrXFGBY24s+jZcjLh+aiD7+1CxfibCFPg4teC+/FIM+QmDc1BW+gD59P/PN0kl9Pq5HP733hHk+ObQ267Ahdj5eupmTdRVzPgrXv33yVnA+mpmFsMi7az4QWIXT7UVnPtV4EeFQP2M+UI1vf8I4Xz7hepwDq6VYPpqZcTQKs1I+6PuJLRuhSj5aZNvWTN9APgrX49RXDTA+/Knx0k1ilTw=",
          "dtype": "f8"
         },
         "yaxis": "y3"
        },
        {
         "hovertemplate": "risk_band=3<br>variable=p_12m_forward<br>default_month=%{x}<br>value=%{y}<extra></extra>",
         "legendgroup": "3",
         "line": {
          "color": "#7F7F7F",
          "dash": "solid"
         },
         "marker": {
          "symbol": "circle"
         },
         "mode": "lines",
         "name": "3",
         "showlegend": false,
         "type": "scattergl",
         "x": {
          "bdata": "AAECAwQFBgcICQoLDA0ODxAREhMUFRYXGBkaGxwdHh8gISIjJCUmJygpKissLS4vMDEyMzQ1Njc4OTo7PD0+P0BBQkNERUZHSElKS0xNTk9QUVJTVFVWV1hZWltcXV5fYGFiYw==",
          "dtype": "i1"
         },
         "xaxis": "x4",
         "y": {
          "bdata": "ChoWVR501D/rggoiKQ7UP3vPf7lRWNE/qZC5yNFcyz92u81ripHEP3b9pnI0PL4/H6JFmrkHtj8Cga4HNQiwPyGtrcqTZqc/zykrXzwqoT+mDgAyBleZP3LrluQS1ZI/Aw1oyJQwjD/K8BQQYz+FP6D+WHVYIIA/AC5lf+ykeD+aHE0WD/RyP0ihGW75VW0/EZiO/NHWZj/jghWlIOJhP9WkO1rPKFw/qQEH+1ZJVj9njmx9EbpRP4uHEHvQVUw/P/6OZ/G/Rj9YTjvebFhCPxfw18gttj0/fx/pJCAoOD9L36AsUrczPxgwevC5JjA/1AYVzlOOKj8RkKbP++clPy7YE4Q9ISI/wQQRDI8aHj8Ey6dypBEZPyH2eQL17xQ/Jm7BED2JET8pIrc3cXQNPzPtuzVozQg/scauzxrwBD/OnpNGFLgBP30DUDS+D/4+AwcP2DKP+T7v4vhOrsf1Pj4C1e6AmfI+EZd1uXzV7z4TjAZ3Q0zrPsfUm8lWdOc+45fT19cw5D7JgpLK5WnhPnkVyRZoF94+fqRWJpsL2j66TIJR+JTWPnI7k72YnNM+D0phQ1EP0T5+fbRQG7rNPvNnAJOT8Mk+VV87AUarxj5yMnRh+tbDPq166pxvY8E+g0m7wr+Fvj4e/DsgNNO6PqgJnEJZm7c+HvS+uD3NtD6Y1A+5a1qyPvAnk6CGNrA+EUztEPGtrD4tqqteWmWpPiPrBeWvg6Y+ESuz9YX7oz6T/kEpTMGhPv6BK7oPlp8+Tp19zzIgnD7UejOPFBKZPvVz+LXFXpY+7n1m3gz7kz57i11NKd2RPtCUp4M9+Y8+8KQkxhGkjD7syWxE6q2JPhP7xyeEC4c+zWYu3gazhD60M7L+05uCPjNp5ehdvoA+qX7/Qwgofj4EwA8z6S17PoVt+D8ihHg+Zkrt6rAhdj6AI1iTdRVzPm7KgX3yVnA+CU3nr8i7az6v4fLS7UVnPonGguBQP2M+fzovfsI4Xz5fPmYCq6VYPjT2DTMKs1I+VEjSKhuhSj6DiAfUTN9APrp+bs9XDTA+AAAAAAAA+H8=",
          "dtype": "f8"
         },
         "yaxis": "y4"
        },
        {
         "hovertemplate": "risk_band=2<br>variable=p<br>default_month=%{x}<br>value=%{y}<extra></extra>",
         "legendgroup": "2",
         "line": {
          "color": "#BCBD22",
          "dash": "solid"
         },
         "marker": {
          "symbol": "circle"
         },
         "mode": "lines",
         "name": "2",
         "showlegend": true,
         "type": "scattergl",
         "x": {
          "bdata": "AAECAwQFBgcICQoLDA0ODxAREhMUFRYXGBkaGxwdHh8gISIjJCUmJygpKissLS4vMDEyMzQ1Njc4OTo7PD0+P0BBQkNERUZHSElKS0xNTk9QUVJTVFVWV1hZWltcXV5fYGFiYw==",
          "dtype": "i1"
         },
         "xaxis": "x",
         "y": {
          "bdata": "AAAAAAAAAADYetL1J2+9P1O+fFGh5Mk/LNSD/Otowz/ROLXdlPy3PwjAWSQrMKw/L/TTIkJ5oD8s/V8zlneTP14BfLBPZoc/krD5FQ2qfD/AnjEm8uRxP1Bj4i6fwWY/4LvP0HRyXT/04oiMmF1TPxO9oa6N3Ek/7I31RrqDQT9+a1gZzQk4P8I4HUc2szA/kfKsEMR4Jz8I1mmDKawgP21JzBG+7Bc/qZ9UbQpUET8eVKItBFMJP/ay9+PoqAI/vCWs2hq3+z4zzln+ZLz0PkC1/MMxP+8+MGBs+TGz5z73C/IB9RbiPuKI4U/xx9s+AN62tUx01T4+bVn2oajQPojC9JkzAco+RKmkG9ZlxD59sQAcZhPAPnkij05HdLk+/7cC51w9tD6GJAUsHimwPtuR/egi6ak+y2ET3AHapD6YNphoqdegPvSRsoMhTps+AozfbrQ1lj4J1opgACCSPgqUy3NrrY0+nJBkDxRfiD4oKOzw2BKEPqjIZirRlIA+doalqyt4ez6RqXtCnNB2PvVS2t+b/3I+JpTBSo24bz6RRcm34ItqPkm+LEvQRGY+/bVgBT25Yj7wgdWyW45fPmdICBtPplo+fuok8r2NVj5ZIWcCYyBTPoUQJMGoQFA+pdZ+SLusSz4YrdijV5tHPuoM/72LLEQ+ovP483pFQT6Wv+xB7Z89PrirT3hFczk+apTFJInmNT5eDEFRZuAyPoiM8jHFSzA+ZVEjdxQuLD6wBc1R9mYoPiMLWG+AKSU+5U63e/hgIj4a3qgl3fcfPmemOVRh1xs+lDm+I61HGD7Q0/cdxDMVPiAzNdLeiRI+9f1C8+Y6ED74dYBUE3QMPurx8Gq4+Ag+OnhsRB/xBT51bFoKYk0DPvOnPhvo/wA+ex0SxRj6/T2UH7L6o3X6PSXFQZNJYfc9Odqhzkeu9D1qRWQU6U/yPcS56oQ3O/A9Sd+fcnjN7D1SLjSokJTpPTkV06iMveY9N/BpviQ85D1DP1bRsAXiPTDQEqruEOA93pkTN6Gr3D1tpoicpprZPbxzhTGz4tY9U1Z8+Rp51D0=",
          "dtype": "f8"
         },
         "yaxis": "y"
        },
        {
         "hovertemplate": "risk_band=2<br>variable=cum_p<br>default_month=%{x}<br>value=%{y}<extra></extra>",
         "legendgroup": "2",
         "line": {
          "color": "#BCBD22",
          "dash": "solid"
         },
         "marker": {
          "symbol": "circle"
         },
         "mode": "lines",
         "name": "2",
         "showlegend": false,
         "type": "scattergl",
         "x": {
          "bdata": "AAECAwQFBgcICQoLDA0ODxAREhMUFRYXGBkaGxwdHh8gISIjJCUmJygpKissLS4vMDEyMzQ1Njc4OTo7PD0+P0BBQkNERUZHSElKS0xNTk9QUVJTVFVWV1hZWltcXV5fYGFiYw==",
          "dtype": "i1"
         },
         "xaxis": "x2",
         "y": {
          "bdata": "AAAAAAAAAADYetL1J2+9P+D9MqYaTtQ/9ud0pJAC3j8VG/Ht2gDiPxa3NqDdw+M/WfZjwnHL5D9C9v5zLmflP0fmwLLHxOU/qNnszBv+5T/mPDmx5SHmP0kfaFCnOOY/J4fQimBH5j+YyxZXD1HmPwd0gnqGV+Y/ajEUaedb5j93XLei6F7mPx5AgAn/YOY/7UrBlXZi5j+KgVlYgWPmP+wPSr5AZOY/kXqdXstk5j8aMa6qMGXmP/nAUU57ZeY/UXaHvLJl5j8Fc1E13GXmPwI3g3T7ZeY/bjC1JxNm5j9gMqo+JWbmP1HaoiIzZuY/LDXJ3D1m5j9ZMBoxRmbmP9YWZ7FMZuY/v53cylFm5j+/JLbPVWbmP5EOP/5YZuY/cavqhVtm5j/ycA6LXWbmP4KfoClfZuY/Q71Ad2Bm5j/NU7uEYWbmP+tfLF9iZuY/YgPaEGNm5j9mBtqhY2bmPzW0jxhkZuY/cwQMemRm5j83aFfKZGbmP+GsqgxlZuY/OASbQ2Vm5j+9PDxxZWbmP310O5dlZuY/yAH0tmVm5j+A4n/RZWbmP8uyxOdlZuY/0O99+mVm5j+pHUUKZmbmPzdFmBdmZuY/MCTfImZm5j+xVW8sZmbmPxKqjzRmZuY/5Nh6O2Zm5j/NrmFBZmbmP7zRbEZmZuY/eTC+SmZm5j8hLnJOZmbmP9CWoFFmZuY/9WddVGZm5j+/dLlWZmbmP2XtwlhmZuY/rM6FWmZm5j8RPgxcZmbmPxjWXl1mZuY/oOWEXmZm5j+JpIRfZmbmP5RfY2BmZuY//ZwlYWZm5j8eO89hZmbmPxWKY2JmZuY/TWHlYmZm5j+aMVdjZmbmP3wUu2NmZuY/+dgSZGZm5j+BDmBkZmbmPyEOpGRmZuY/UwLgZGZm5j+b7RRlZmbmPy6wQ2VmZuY/vgxtZWZm5j+QrJFlZmbmP/8ismVmZuY/d/DOZWZm5j8IhehlZmbmP5VC/2VmZuY/un4TZmZm5j9rhCVmZmbmP1qVNWZmZuY/K+tDZmZm5j9+uFBmZmbmP9gpXGZmZuY/ZWZmZmZm5j8=",
          "dtype": "f8"
         },
         "yaxis": "y2"
        },
        {
         "hovertemplate": "risk_band=2<br>variable=pd_lifetime<br>default_month=%{x}<br>value=%{y}<extra></extra>",
         "legendgroup": "2",
         "line": {
          "color": "#BCBD22",
          "dash": "solid"
         },
         "marker": {
          "symbol": "circle"
         },
         "mode": "lines",
         "name": "2",
         "showlegend": false,
         "type": "scattergl",
         "x": {
          "bdata": "AAECAwQFBgcICQoLDA0ODxAREhMUFRYXGBkaGxwdHh8gISIjJCUmJygpKissLS4vMDEyMzQ1Njc4OTo7PD0+P0BBQkNERUZHSElKS0xNTk9QUVJTVFVWV1hZWltcXV5fYGFiYw==",
          "dtype": "i1"
         },
         "xaxis": "x3",
         "y": {
          "bdata": "x7q4jQbw3T+pA2z/LgXZPyBBQH1kXtA/trGplU3Ewz8PjwicKYG3Px8aXtYeLKw/NQqZBPApoT/6hmjjl1GVP+hOgz4pAIs/zMQxtFVsgT/6vOHUc+N2PyDLlePukW4/m5dufSW7ZD+qbJUiYYVcPx0lvXlJ4VM/D+ACslIOTD9WXp0oLwZEP7j4BD914zw/qeipcscLNT/2TsjbW/MuPxk1NuPt9CY/xkoltbwqIT+ea5IhVt8ZPzEpb2FAoxM/sERZ3tkDDj/6SDwJLxYHP0AdeH3R3QE/VEPdXm/Q+z4AeNDTHcX1PqqV5EP6IPE+ZEsQMNcW6z5/cm6R64XlPp5vFl/ALeE+qPZ/v8GK2z4t4qH9sivWPvJiQMoS69E+ToLphewSzT5SOIcCnKzHPoVroAh2WMM+XE8uR1y5vz7Hi3b6uRi6PitHMA/wiLU+Vg7y1RHTsT6wcmiBzJetPtcj6w6Ooqg+OTSoJz2QpD4vXZrtujWhPnsURy8p4Zw+7nwlUFlKmD59P4IWmnqUPoPAV0MTTpE+f2rowoJPjT6DwMaoLOCIPocW50LIJ4U+x0sTCwMHgj4ZBBrdbsh+PvLS+VmuVHo+6iZp9BqQdj7l0EZJGl5zPgAAkDYDp3A+dZNooG6ubD4v3Qz20LxoPi2yLaoDXmU+7FHAy1l7Yj7TTSob2wFgPqjGKxZBw1s+bxLTw5waWD7hekSyTPNUPjEI/GxaOlI+TDfJFYG/Tz7NzOwB36tLPne+X0vPIkg+yXZ+G8kQRT4zM1NdLWVCPjMzc3bREUA+7FH44ToVPD5I4XoudIo4PqwcmsmYcTU+O9+P7He7Mj4GgZVCBVswPubQIqQOiiw+AACAkKXfKD7jpRuBIKYlPt0khi0WzyI+AisHRg9OID5SuB58fzAcPoPAyrmUSBg+yXa+5xrUFD6/nxpd7sQRPkjhehqAHQ4+TDeJl6tNCT628/2ApgcFPkw3iWsWOwE+9ihc/1uz+z3hehRKz631PTm0yGaTT/A9bxKD+MsK5z3Jdr4fc/ncPTeJQSC+XMs9/Knx0k1ilTw=",
          "dtype": "f8"
         },
         "yaxis": "y3"
        },
        {
         "hovertemplate": "risk_band=2<br>variable=p_12m_forward<br>default_month=%{x}<br>value=%{y}<extra></extra>",
         "legendgroup": "2",
         "line": {
          "color": "#BCBD22",
          "dash": "solid"
         },
         "marker": {
          "symbol": "circle"
         },
         "mode": "lines",
         "name": "2",
         "showlegend": false,
         "type": "scattergl",
         "x": {
          "bdata": "AAECAwQFBgcICQoLDA0ODxAREhMUFRYXGBkaGxwdHh8gISIjJCUmJygpKissLS4vMDEyMzQ1Njc4OTo7PD0+P0BBQkNERUZHSElKS0xNTk9QUVJTVFVWV1hZWltcXV5fYGFiYw==",
          "dtype": "i1"
         },
         "xaxis": "x4",
         "y": {
          "bdata": "l929QpDG3T8+bkmeqejYP/yDxjODStA/2q73Qj+owz9cVLc9HVm3P0gQ4OtX8qs/gLazddj/oD+U9rArsROVP3929oZVpIo/BTBdwaongT9YdFt89nt2P5dTiuDU9G0/hjT1FRZDZD82jUuqr8xbP0hm0e1aUlM/1/kLN88vSz9t3f45BlhDP0yzxppl0Ts/smspuRAzND9/a7Ei/ZotP7DQRN0R4iU/hE8pp2ZOID9fU7jxmnwYP/AqyzSPhBI/Vr76FasyDD+c6BNJZZsFP60v7hxKqAA/moJqmtnU+T7gBSk0kiP0Pqjv4oXWkO8+OopR9XTc6D7s1lfJbqzjPtZOT/wuR98+/viJGrr42D4B+uyf+wTUPlfzSTcAHdA+G7bgW6EJyj4DsbO/SB3FPpzSMaCzLsE+XpHH7msPvD6AeFVltPy2PrVWzgb347I+OV8Z6WIkrz42HsClvr6pPgi6n0P4V6U+njoUyTm+oT6iTOBI75OdPk+Yn2Fot5g+hk8RfIu0lD4ncLn3/2KRPumbN5ylRI0+uP8VUKywiD6cRS3itd+EPpfmTCBgr4E+YpBF5V4Hfj4sYIawm4t5PouA9r4XxnU+qq0L0iqYcj7SlbrSPNFvPjmwMptSRWs+JJcwWjxqZz44hYSfhSNkPuMGyUyPWWE+nDKd32TxXT4He+gqGeFZPoIQV+PaZlY+SslCyL5rUz74wGphi9xQPs3r/i4xUk0+kcy2rpeHST7vJdXeVkJGPgrUbL4Jb0M+AHnnR0X9QD6qjknWOr49PnAH5Lt9ETo+9RjJIjTgNj71iyWTOBk0PrCCvsTorTE+QRsw+YQjLz4apsbjIHQrPjg0/AdJOyg+ObvVCzppJT6RoWyPZvAiPl2rHLAjxSA+6DBR7cS6HT6JkOIx6GAaPtwzsaSubRc+J4XvwBrUFD6OkeMy7sQRPowyaMR/HQ4+1kVQLqtNCT4V4G8mpgcFPpR1ix8WOwE+PKBKfVuz+z0TUprXzq31PclaBBGTT/A9YI8ckMsK5z1H5FbmcfncPTbXZ8G8XMs9AAAAAAAA+H8=",
          "dtype": "f8"
         },
         "yaxis": "y4"
        },
        {
         "hovertemplate": "risk_band=1<br>variable=p<br>default_month=%{x}<br>value=%{y}<extra></extra>",
         "legendgroup": "1",
         "line": {
          "color": "#17BECF",
          "dash": "solid"
         },
         "marker": {
          "symbol": "circle"
         },
         "mode": "lines",
         "name": "1",
         "showlegend": true,
         "type": "scattergl",
         "x": {
          "bdata": "AAECAwQFBgcICQoLDA0ODxAREhMUFRYXGBkaGxwdHh8gISIjJCUmJygpKissLS4vMDEyMzQ1Njc4OTo7PD0+P0BBQkNERUZHSElKS0xNTk9QUVJTVFVWV1hZWltcXV5fYGFiYw==",
          "dtype": "i1"
         },
         "xaxis": "x",
         "y": {
          "bdata": "AAAAAAAAAAASMLIpY3vaP82O9bylytE/jhdMvHVgvj/40wZFtSypP8DfjpY+s5U/XxADKJuwgz9Q6JRaichyP20+bCJ9wWI/+Sa95ieCUz9hIpO2mApFP4t8pezVcDc/d8EoskHhKj+35aWLhaIfP/MtrYyhDhM/wPHj2Tp0Bz80noW/H279PpY8VcB7y/I+JxLKBWVm6D6h+8DV+BPgPlPxJsk3fNU+n0a8QmYVzT7m3dGLG+zDPkuXKXPimbs+0UG5iEJSsz5wqUXsZFGrPlNSFlXOfaM+gIQKqMAOnD7+IvPHZFyUPtY2zFQXyI0+n4LwNALxhT7CnEcvS0eAPiuODzKiUHg+HJnPXUJGcj7bd7Q3gaJrPuFViHDVA2U+ASep2ZYRYD7tw7y3zLNYPhdcD6w1FVM+IFAxfB+gTT6GByB1PxpHPkYcMUeBGEI+9QJfKgV4PD7WuqZvY3w2Pv1zN0qV1DE+bV9QspRiLD4nSQACNq0mPr4zeaEiLiI+7KeRohNAHT6r9aNvr5sXPqZAFlZ2HRM+Gpo6P74MDz4I72TLFksJPkTS0jvmqQQ+oHgkRcLtAD6z+XagLdD7PS4Xq7h+6PY99nkO557q8j21A7D0fFHvPXO7ta7w/Ok9EerpQ5ed5T3OZfRkEwXiPbwiRbd0HN49ezArtlY22T3b7PpPoSfVPbkRcnVlydE9eumkUiz4zT0VoQv3IkzJPfRfb1vuZMU9U7skhHggwj3gHv/VucW+PTjIAyF2Kro9SV1PvolJtj10WU8H+QOzPcyMxgkwQLA9vPyT2gvSqz3sCqX44NmnPT2jdYW8eqQ9pwhlWF+coT2RKmRnJFWePaPkIHvkKJo9Zl4yKbyXlj0T+5Go+omTPU2PvCm765A9GpaSpINYjT0oieGH6nqJPX0gEvTeJoY9lsKQikNIgz3VilfxEM6APU31PvetU309r/R3K6aeeT2MBQ17MGh2PUxtu/qKnnM90byh15AycT28MOKPpi5uPfexIx2Gg2o9gUKelc9QZz2e0vORRYZkPZN01dz2FWI99D0xus7nXz0=",
          "dtype": "f8"
         },
         "yaxis": "y"
        },
        {
         "hovertemplate": "risk_band=1<br>variable=cum_p<br>default_month=%{x}<br>value=%{y}<extra></extra>",
         "legendgroup": "1",
         "line": {
          "color": "#17BECF",
          "dash": "solid"
         },
         "marker": {
          "symbol": "circle"
         },
         "mode": "lines",
         "name": "1",
         "showlegend": false,
         "type": "scattergl",
         "x": {
          "bdata": "AAECAwQFBgcICQoLDA0ODxAREhMUFRYXGBkaGxwdHh8gISIjJCUmJygpKissLS4vMDEyMzQ1Njc4OTo7PD0+P0BBQkNERUZHSElKS0xNTk9QUVJTVFVWV1hZWltcXV5fYGFiYw==",
          "dtype": "i1"
         },
         "xaxis": "x2",
         "y": {
          "bdata": "AAAAAAAAAAASMLIpY3vaP3DfU3MEI+Y/YmLdKhPv6T+izy1/3oHrP6BG4nN4L+w/4VKC4Dp+7D+yfDfzy6PsP/DoWXCNtuw/g0dNhE7A7D9M7HoqkcXsP/yAOEV/yOw/iKNTWS3K7D+3AIBtKsvsPyBmjOLCy+w/sM13syDM7D+7TLePW8zsP2XNriaBzOw/L9MTjZnM7D/wqAyhqczsP4ONKF+0zOw/Mh6CpLvM7D8mAYmfwMzsP4tPxRLEzOw/oqANfcbM7D9m7yMyyMzsP7fUAGrJzOw/99l2SsrM7D83AFrtyszsP4pdemTLzOw/XmY+vMvM7D8bk1v9y8zsP3/X/C3MzOw/O1yJUszM7D9z3StuzMzsP+SyL4PMzOw/vklBk8zM7D8aMJufzMzsP/DKJanMzOw/z9KNsMzM7D+sYlS2zMzsP/6C2rrMzOw/o4NpvszM7D8REDnBzMzsP7qic8PMzOw/Bcw5xczM7D9ln6TGzMzsP4+Bx8fMzOw/LIKxyMzM7D+nX27JzMzsP1pLB8rMzOw/U36DyszM7D+uqujKzMzsP0dSO8vMzOw/UAl/y8zM7D+rqbbLzMzsP6h65MvMzOw/5k8KzMzM7D9joSnMzMzsP1SeQ8zMzOw/6ztZzMzM7D/+QGvMzMzsPzhPeszMzOw/Y+qGzMzM7D80fpHMzMzsP+dimszMzOw/8uChzMzM7D/7M6jMzMzsPzeNrczMzOw/VRWyzMzM7D8M7rXMzMzsP1szuczMzOw/jPy7zMzM7D8LXb7MzMzsPxFlwMzMzOw/MiLCzMzM7D/Qn8PMzMzsP3znxMzMzOw/QgHGzMzM7D/r88bMzMzsPzLFx8zMzOw/8HnIzMzM7D9AFsnMzMzsP56dyczMzOw/ABPKzMzM7D/seMrMzMzsP4fRyszMzOw/qB7LzMzM7D/gYcvMzMzsP4ecy8zMzOw/xM/LzMzM7D+U/MvMzMzsP9EjzMzMzOw/NkbMzMzM7D9lZMzMzMzsP+l+zMzMzOw/OpbMzMzM7D/AqszMzMzsP9a8zMzMzOw/yszMzMzM7D8=",
          "dtype": "f8"
         },
         "yaxis": "y2"
        },
        {
         "hovertemplate": "risk_band=1<br>variable=pd_lifetime<br>default_month=%{x}<br>value=%{y}<extra></extra>",
         "legendgroup": "1",
         "line": {
          "color": "#17BECF",
          "dash": "solid"
         },
         "marker": {
          "symbol": "circle"
         },
         "mode": "lines",
         "name": "1",
         "showlegend": false,
         "type": "scattergl",
         "x": {
          "bdata": "AAECAwQFBgcICQoLDA0ODxAREhMUFRYXGBkaGxwdHh8gISIjJCUmJygpKissLS4vMDEyMzQ1Njc4OTo7PD0+P0BBQkNERUZHSElKS0xNTk9QUVJTVFVWV1hZWltcXV5fYGFiYw==",
          "dtype": "i1"
         },
         "xaxis": "x3",
         "y": {
          "bdata": "yuU/pN8+4z9Q1frta8vUPxPp/5KOz8E/MwAHM/2krj8a3B4yoKSbP/t6ktKqSIo/ktPJhJBAej8Yo6wchWZrPxhUR6PZu10/9RLfZ4GyUD+Yigr4alVDP7l6m/vGADc/lEfjoScLLD/ancV7PHkhP2sipstTNhY/IdzJ+VPADD9CHtYk/eoCP/Zc8DK0Rvk+0Y67lqAf8T5tlxadwYDnPlxHZvn+UuA+L521Qkzu1j4VLux0OUbQPotMMWmPU8c+6qbMH+TewD5g5ZJHHZ24PgDAHDzlGbI+phvei9rTqj5WjqY9QwakPpZD3zggGZ4+wcrRxVfElj6BlcIj8lORPm8SmQUWiIo+d75dcPZshD45tOQJKJ5/PqrxGpSemHg+fT91myo6cz4zM1OvZDNuPpqZSWQf02c+hxaxnhngYj4X2W4iGghePuxRuC9E/Fc+nu8XJLY6Uz4VrmfXEfJOPsP1qKjt/Eg+pHDdh/Q+RD7P9/NEH3VAPn0/9Wwu1zo+jZfuXDT0NT6amVkKiAIyPpLtfOEIoi0+tvN9CBlyKD7sUbhuWjgkPlYOrQOcxCA+BFYOozPhGz556SbgrzsXPsUgsDDzZxM+Ctej+O0+ED78qfEAcEILPtejcAH76gY+sHJob4ZOAz4IrBx62ksAPjEIrNTpj/s9UI2XyqJZ9z3RItsB49DzPajGS0Mv2PA9EVg5FKOu7D0MAit/t3ToPdejcNW54eQ9w/UoRHra4T2DwMpB4pDePe58PyXSMdo9w/Uo/KN41j0pXI+yYkvTPfp+asxflNA9QDVeOuuCzD3b+X4q24bIPYts5zv9GsU9O99PDc8pwj1pke08W0K/PTVeukmP47o9fT813k8dtz228/1UqtmzPV66SQz+BbE9I9v5fu0krT228/3ULeOoPVYOLTLPL6U9sp3vpyX3oT0K16Nw41CePeF6FK6qapk9bxKDwPwilT3dJAaBt2SRPcUgsHJKO4w97nw/NU58hj1aZDvfaXGBPTeJQWDJBno9Rrbz/WQ8cj1WDi2yzcFmPScxCKycV1U9/Knx0k1itTw=",
          "dtype": "f8"
         },
         "yaxis": "y3"
        },
        {
         "hovertemplate": "risk_band=1<br>variable=p_12m_forward<br>default_month=%{x}<br>value=%{y}<extra></extra>",
         "legendgroup": "1",
         "line": {
          "color": "#17BECF",
          "dash": "solid"
         },
         "marker": {
          "symbol": "circle"
         },
         "mode": "lines",
         "name": "1",
         "showlegend": false,
         "type": "scattergl",
         "x": {
          "bdata": "AAECAwQFBgcICQoLDA0ODxAREhMUFRYXGBkaGxwdHh8gISIjJCUmJygpKissLS4vMDEyMzQ1Njc4OTo7PD0+P0BBQkNERUZHSElKS0xNTk9QUVJTVFVWV1hZWltcXV5fYGFiYw==",
          "dtype": "i1"
         },
         "xaxis": "x4",
         "y": {
          "bdata": "lcfF8R494z+bXGvGPMnUP090hsjHzME/vY0IHs2drj8dcYyzKpubPwgDeXgHPIo/Vxgz5HAvej9kjQ9bBE9rP16JVKUzm10/nV6cG5ObUD8atyCF3jRDPzwlydwf0jY/5C9kEazHKz/clDZBAkghPyLotTbs7RU/t+yajwRVDD/E8d8X5JoCPzajDbJPzvg+MfCkN4/E8D4b6/kLIvbmPiofokK90d8+Rm80j+RK1j5crYqpgY/PPuAjkHTKjsY+JFjvyhJFwD4yahIigqu3PvSd8kBMW7E+7V/g8dilqT5qu4dsAhajPmifxPVbmZw+MbB8Y6yQlT67QvCUYVyQPnj/5ipH+Ig+Vr/OJwcpgz5x1EchhI99PgoZfa0r63Y+4LP7VefacT7dzxyvE/NrPgN6DNf++GU+5Jn5DvhYYT4VQRXWDoFbPgnv7rCw41U+VV5J66J8UT5g2/LemwpMPmJVlEbvj0Y+3wniyxY3Qj7GPRSP8IE9Pl4S4Q/P+Tc+C6MYk2OKMz510Vd9GfIvPpXlNrULMCo+IVVpweSGJT658CYbPr4hPhUCd0ssUx0+QfV4VV9LGD4xbT76GC0UPu4Bv+27yxA+3syRXT0HDD6tF8HBU3AHPtVvZcnApAM+9395+nF/AD4B5gVG3MT7PaE6zMHRavc9fT7tDkXJ8z2hAMZqB8DwPZ3nLN2eaew9mQWm4S4k6D2dkRzsa4zkPQTf/x5IheE9RoEeoaDt3T30yUM1d5rZPfBOM0dS8NU9B7o5ugXU0j1HHxzH+y7QPa29UrLK3Ms9MjWbjSEFyD0/OUAFv7zEPWzsfLmp7cE9W+1LYeQKvz1Dq3sdNOm6PR/y83EsXLc98mZh5s1NtD04Nzrug6uxPXbBWR0ty649cuOUbmjdqj1KqT4HH3enPdBMrcwahaQ9dg9XxAH3oT3A2DsAllCeParpzo9Vapk9LVbLQaEilT3PleLoU2SRPfM5Rpd/Oow9jNk1uX17hj2k3EZUqHCBPWpbAARvBXo94l/4zho7cj3TMrbWCr9mPWsnZisjUlU9AAAAAAAA+H8=",
          "dtype": "f8"
         },
         "yaxis": "y4"
        }
       ],
       "layout": {
        "annotations": [
         {
          "font": {},
          "showarrow": false,
          "text": "variable=p",
          "x": 0.1175,
          "xanchor": "center",
          "xref": "paper",
          "y": 1,
          "yanchor": "bottom",
          "yref": "paper"
         },
         {
          "font": {},
          "showarrow": false,
          "text": "variable=cum_p",
          "x": 0.3725,
          "xanchor": "center",
          "xref": "paper",
          "y": 1,
          "yanchor": "bottom",
          "yref": "paper"
         },
         {
          "font": {},
          "showarrow": false,
          "text": "variable=pd_lifetime",
          "x": 0.6275,
          "xanchor": "center",
          "xref": "paper",
          "y": 1,
          "yanchor": "bottom",
          "yref": "paper"
         },
         {
          "font": {},
          "showarrow": false,
          "text": "variable=p_12m_forward",
          "x": 0.8824999999999998,
          "xanchor": "center",
          "xref": "paper",
          "y": 1,
          "yanchor": "bottom",
          "yref": "paper"
         }
        ],
        "legend": {
         "title": {
          "text": "risk_band"
         },
         "tracegroupgap": 0
        },
        "margin": {
         "t": 60
        },
        "template": {
         "data": {
          "scatter": [
           {
            "type": "scatter"
           }
          ]
         }
        },
        "width": 1000,
        "xaxis": {
         "anchor": "y",
         "domain": [
          0,
          0.235
         ],
         "title": {
          "text": "default_month"
         }
        },
        "xaxis2": {
         "anchor": "y2",
         "domain": [
          0.255,
          0.49
         ],
         "matches": "x",
         "title": {
          "text": "default_month"
         }
        },
        "xaxis3": {
         "anchor": "y3",
         "domain": [
          0.51,
          0.745
         ],
         "matches": "x",
         "title": {
          "text": "default_month"
         }
        },
        "xaxis4": {
         "anchor": "y4",
         "domain": [
          0.7649999999999999,
          0.9999999999999999
         ],
         "matches": "x",
         "title": {
          "text": "default_month"
         }
        },
        "yaxis": {
         "anchor": "x",
         "domain": [
          0,
          1
         ],
         "showticklabels": true,
         "title": {
          "text": "value"
         }
        },
        "yaxis2": {
         "anchor": "x2",
         "domain": [
          0,
          1
         ],
         "showticklabels": true
        },
        "yaxis3": {
         "anchor": "x3",
         "domain": [
          0,
          1
         ],
         "showticklabels": true
        },
        "yaxis4": {
         "anchor": "x4",
         "domain": [
          0,
          1
         ],
         "showticklabels": true
        }
       }
      }
     },
     "metadata": {},
     "output_type": "display_data"
    }
   ],
   "source": [
    "func_parameters =  dict(\n",
    "    a = 1.5,\n",
    "    b = 0.6,\n",
    "    d = 0\n",
    ")\n",
    "\n",
    "risk_scores = {\n",
    "    10 : 0.01,\n",
    "     9 : 0.02,\n",
    "     8 : 0.05,\n",
    "     7 : 0.10,\n",
    "     6 : 0.15,\n",
    "     5 : 0.20,\n",
    "     4 : 0.25,\n",
    "     3 : 0.50,\n",
    "     2 : 0.70,\n",
    "     1 : 0.90\n",
    "}\n",
    "\n",
    "roll_rates = {\n",
    "    30  :  0.75  , ## from 1-29    to 30-59\n",
    "    60  :  0.90  , ## from 30-59   to 60-89\n",
    "    90  :  0.99  , ## from 60-89   to 90-119\n",
    "    120 :  0.99  , ## from 90-119  to 120-139\n",
    "    150 :  0.999 , ## from 120-139 to 150-179\n",
    "    180 :  0.999 , ## from 150-179 to 180-209\n",
    "    210 :  0.999 , ## from 180-209 to 210-239\n",
    "    240 :  0.999 , ## from 210-239 to 240-269\n",
    "    270 :  0.999 , ## from 240-269 to 270-299\n",
    "    300 :  0.999 , ## from 270-299 to 300-329\n",
    "    330 :  0.999 , ## from 300-329 to 330-359\n",
    "    360 :  0.9999, ## from 330-359 to 360-389\n",
    "    390 :  1.0000, ## from 360-389 to 390-419\n",
    "}\n",
    "\n",
    "\n",
    "\n",
    "lifetime_target = 99\n",
    "\n",
    "def generate_pd_curve(func, \n",
    "                      parameters: dict,\n",
    "                      n_default_months: int,\n",
    "                      cumulative_pd: float,\n",
    "                      roll_rates: dict):\n",
    "    df = pd.DataFrame(range(0, n_default_months+1), columns=[\"default_month\"])\n",
    "    # df['date'] = pd.date_range(start='2025-01-31', periods=n_default_months+1, freq='ME')\n",
    "    df['default_month'] = df['default_month']\n",
    "    df['p'] = func(df['default_month'], **parameters) \n",
    "    df['p'] = df['p'].fillna(0)\n",
    "    df['p'] = (df['p'] / df['p'].sum()) * cumulative_pd\n",
    "    df['cum_p'] = df['p'].cumsum() \n",
    "    multiplication_roll_rates = 1\n",
    "    for days_late_i, roll_rate_i in roll_rates.items():\n",
    "        if days_late_i <= 90:\n",
    "            multiplication_roll_rates = multiplication_roll_rates * roll_rate_i\n",
    "    df['pd_lifetime'] = (df['p'].sum() - df['cum_p']) * multiplication_roll_rates\n",
    "    \n",
    "    # Calculate forward-looking 12-month sum using rolling\n",
    "    df['p_12m_forward'] = (df[::-1]['p'].rolling(window=12, min_periods=1, closed='left').sum().iloc[::-1]) * multiplication_roll_rates\n",
    "    return df\n",
    "\n",
    "def generate_pd_curve_by_risk_score(func,\n",
    "                                    risk_scores: dict,\n",
    "                                    parameters: dict,\n",
    "                                    n_default_months: int,\n",
    "                                    roll_rates: dict):\n",
    "    result_dfs = list()\n",
    "    for risk_band_i, lifetime_pd_i in risk_scores.items():\n",
    "        parameters['a'] = risk_band_i / 2\n",
    "        df_temp = generate_pd_curve(func, parameters, n_default_months, lifetime_pd_i, roll_rates)\n",
    "        df_temp['risk_band'] = risk_band_i\n",
    "        result_dfs.append(df_temp)\n",
    "    result = pd.concat(result_dfs)\n",
    "    return result\n",
    "\n",
    "\n",
    "\n",
    "data = generate_pd_curve_by_risk_score(logNormFunc, risk_scores, func_parameters, lifetime_target, roll_rates)\n",
    "\n",
    "data_chart = data.melt(id_vars=['default_month', 'risk_band'])\n",
    "\n",
    "fig = px.line(\n",
    "    data_chart,\n",
    "    x='default_month',\n",
    "    y='value',\n",
    "    facet_col='variable',\n",
    "    color='risk_band',\n",
    "    template = 'none',\n",
    "    width=1000\n",
    ")\n",
    "fig.update_yaxes(matches=None, showticklabels=True)\n",
    "# Image(fig.to_image(\"png\"))\n",
    "fig"
   ]
  },
  {
   "cell_type": "code",
   "execution_count": 5,
   "id": "c1bdcb10",
   "metadata": {},
   "outputs": [
    {
     "data": {
      "application/vnd.plotly.v1+json": {
       "config": {
        "plotlyServerURL": "https://plot.ly"
       },
       "data": [
        {
         "hovertemplate": "variable=p<br>risk_band=10<br>default_month=%{x}<br>value=%{y}<extra></extra>",
         "legendgroup": "p",
         "line": {
          "color": "#1F77B4",
          "dash": "solid"
         },
         "marker": {
          "symbol": "circle"
         },
         "mode": "lines",
         "name": "p",
         "showlegend": true,
         "type": "scattergl",
         "x": {
          "bdata": "AAECAwQFBgcICQoLDA0ODxAREhMUFRYXGBkaGxwdHh8gISIjJCUmJygpKissLS4vMDEyMzQ1Njc4OTo7PD0+P0BBQkNERUZHSElKS0xNTk9QUVJTVFVWV1hZWltcXV5fYGFiYw==",
          "dtype": "i1"
         },
         "xaxis": "x9",
         "y": {
          "bdata": "AAAAAAAAAABuk9JfgEN5PCBXSB/qADg90tkg3nBwmT1NJkQYOATYPYXWdR70DAU+snzJNcxRJz5sNIQjKhlDPiVk9vXwTVk+RDbKf++ubD4Wv9M0xN18PpJFSEt9doo+xaAybr+Clj58KrGEaQOiPpB4ChkdZ6s+s5w+pvv4sz6eAaM1hBO8Ps56JMi8IMM+bmCpWyVeyT7H2NsbzW3QPmHt0f2S19Q+CFUOlHf12T769+bAhs7fPk32dPnfM+M++2xrQw/i5j4aSjl6VvLqPtBwmyVQZO8+uU6ZcV4b8j5cAnciy7P0Phh3+HgRevc+Ni/zrYVs+j7ANOE9N4n9PjOHoon9ZgA/N40oqTocAj8h5xdTEeMDPyXw1HwwugU/Lu1WxjugBz9Jdkovz5MJPzvxC3WCkws/0lX0GeydDT/lIv0XpLEPP4rq8yCj5hA/Bxd1K7r3ET+Z/bjmawsTP5/P9qwRIRQ/w7RaGwo4FT+TBR+ZuU8WPwAHV8SKZxc/Acjmxu5+GD+1AguWXZUZP2TktR5Wqho/myDkYF69Gz9HJep7A84cP8G6lK3Z2x0/LrnTRXzmHj+DaIGQje0fPxsOW1tbeCA/ZQB7zNP3ID+FkLNRC3UhP8jFj07g7yE/uqe/OTRoIj9b5TeB690iP9W7JG3tUCM/YYUFAiTBIz/5Ezziey4kP86cUS/kmCQ/MnEqa04AJT8zBVpZrmQlPyPGweD5xSU/Svee7SgkJj+vIyZUNX8mP9ejxbMa1yY/4zMkW9YrJz8EkuwsZ30nP2GQc4XNyyc/aOBCIQsXKD8YHZAEI18oP/8rpWMZpCg/Q/Q8jPPlKD94lNXPtyQpP96s925tYCk/yPlwhRyZKT/nUX/3zc4pP9Yk6F+LASo/cMT3/l4xKj++GWOqU14qP/rYBb50iCo/Bdt2Dc6vKj886mvWa9QqP8wS5rNa9io/BVgfkqcVKz/okzKjXzIrP4k5dlSQTCs/ra+CREdkKz/aA905knkrP4fHPhp/jCs/GgN04hudKz/TS8iedqsrP3cu/GOdtys/g0u8SJ7BKz8=",
          "dtype": "f8"
         },
         "yaxis": "y9"
        },
        {
         "hovertemplate": "variable=p<br>risk_band=9<br>default_month=%{x}<br>value=%{y}<extra></extra>",
         "legendgroup": "p",
         "line": {
          "color": "#1F77B4",
          "dash": "solid"
         },
         "marker": {
          "symbol": "circle"
         },
         "mode": "lines",
         "name": "p",
         "showlegend": false,
         "type": "scattergl",
         "x": {
          "bdata": "AAECAwQFBgcICQoLDA0ODxAREhMUFRYXGBkaGxwdHh8gISIjJCUmJygpKissLS4vMDEyMzQ1Njc4OTo7PD0+P0BBQkNERUZHSElKS0xNTk9QUVJTVFVWV1hZWltcXV5fYGFiYw==",
          "dtype": "i1"
         },
         "xaxis": "x10",
         "y": {
          "bdata": "AAAAAAAAAAAgqOxvECIQPbKvbPDAabc9g2pmbR5CDD5zhfwj/+NBPtoFY84nAWc+A05jBnnIgz5XPeeApiiaPj4L7wnRyqw+WKWxAjK2uz57OjmVihfIPg0WXUv/WNM+kfnv0Vsr3T4zQj5mwuLkPqPtZSk3quw+I5TLqcH78j5/7+G71GX4PvIRscQfj/4+3GAGVa+3Aj8AN7tyen0GP5JeFJDSkQo/45dN85/sDj9dmkXRkMIRP0QU1PoZKRQ/e0lQn0alFj9E8vdHeDIZP1JJJI8rzBs/MXc1gQhuHj/Fs1aR94kgPzKBuUsA3SE/YQkGs1IuIz/ErqilSHwkP/ay54RixSU/URCWSkcIJz98Nkb3w0MoP8ih4H3Kdik/4bo0THCgKj83dDiL7L8rPxpbRC2W1Cw/8wGz3OHdLT91ZOHZX9suP+xQm9S5zC8/+sw8ZdhYMD/Lnsp4DcUwPyrsk9rwKjE/g/kZ5H+KMT++c4qov+MxP/p16he8NjI/U/YrMIeDMj+D2WE8OMoyP/ZxBSLrCjM/72YNvL9FMz/vdW9D2XozPw8KisRdqjM/NXXeoHXUMz9/HnccS/kzP0XsTPYJGTQ/SXT7Ct8zND+hKBMB+Ek0P2cJW/6CWzQ/v7dXZa5oND9inHOaqHE0P1G7KtCfdjQ/anSk2cF3ND+iiS0DPHU0P+obDfA6bzQ/+Lc3feplND/34muodVk0P47BS3sGSjQ/R14P+sU3ND9bsHIV3CI0P0zHiZ9vCzQ/IWQsQ6bxMz/qyrB9pNUzP660s5qNtzM/VgOxsYOXMz8HMTalp3UzP2hrfCMZUjM/v+c8qPYsMz+WP5Z/XQYzP9iU3clp3jI/sNw5gDa1Mj+qBOt53YoyP5W0IXJ3XzI/RzxPDhwzMj++y9fk4QUyP8tqE4Te1zE/r0aMeSapMT/N3GpZzXkxPxFNAsblSTE/Drhwd4EZMT9fAElDsegwP++WPCSFtzA/SCm9QQyGMD94G4/3VFQwP9+tRt1sIjA/8RpVm8HgLz/Hqe7beXwvP8VuAGoZGC8/YF5T5LWzLj8=",
          "dtype": "f8"
         },
         "yaxis": "y10"
        },
        {
         "hovertemplate": "variable=p<br>risk_band=8<br>default_month=%{x}<br>value=%{y}<extra></extra>",
         "legendgroup": "p",
         "line": {
          "color": "#1F77B4",
          "dash": "solid"
         },
         "marker": {
          "symbol": "circle"
         },
         "mode": "lines",
         "name": "p",
         "showlegend": false,
         "type": "scattergl",
         "x": {
          "bdata": "AAECAwQFBgcICQoLDA0ODxAREhMUFRYXGBkaGxwdHh8gISIjJCUmJygpKissLS4vMDEyMzQ1Njc4OTo7PD0+P0BBQkNERUZHSElKS0xNTk9QUVJTVFVWV1hZWltcXV5fYGFiYw==",
          "dtype": "i1"
         },
         "xaxis": "x11",
         "y": {
          "bdata": "AAAAAAAAAAAWYmTPOGijPeApna2AgjU+aLx0tLOQfT64xakb8xqpPvErjg63rcc+SGfB3G6d3z4YFNEcnN/wPl0exoZK2/4+fO0bTYI3CT/WT5evRvASP0zHQp2OpRo/kajbRuPMIT8klMeRCc8mPw2tRswHPiw/UA4OJZj+MD+J1MIZDvgzPxo5mZb2/TY/+HrWQxAEOj8fdTvBhP88P0KE/84D5z8/kwKb3GJZQT/M+TlTPq5CP92yQGid70M/RcYLH6kbRT988ICvGDFGP6ZuFnkfL0c/pzUJbVsVSD/BGs53xONIP0SAwzqdmkk/VfFWP2U6Sj96f8mwzMNKP1BrqZapN0s/wp6wfe6WSz+6qzN1ouJLP+0PS0PaG0w/NSdUsLJDTD9vtIfKS1tMP/cZnQPFY0w/zYdXDDpeTD9VkCBUwEtMP3zEQxVlLUw/T07U2CsETD8irKdfDdFLP+JwEOD2lEs/+IsYislQSz8X5N9FWgVLPy31eKFxs0o/v6gi5ctbSj/4HhdGGf9JPwy3VTH+nUk/KNrWqBM5ST/eiH2u59BIPzUL4bj9ZUg/o+GzLs/4Rz90bx/my4lHPzPK6KVaGUc/UF6dptmnRj9EH2ASnzVGPwzwO4L5wkU/88QfeDBQRT/TZN7UhN1EP+QjuEkxa0Q/nsAZxWr5Qz+81lnaYIhDP0keVyQ+GEM//77toiipQj8jHEoTQjtCPyVELEOozkE/eCo5X3VjQT+Ndn48wPlAP2NmU52ckUA/RlnFcRsrQD83tYInlow/P6hhW/5uxj4//H5ODNUDPj84Pi0D2EQ9P8KhoPyDiTw/+AflzeHROz8vNWNV9x07P20ihsLHbTo/T10p2FPBOT+bCPgpmhg5P8mhEFWXczg/Fq49NEbSNz8mZA8QoDQ3P39gHsucmjY/hHe7CjMENj/J1ExcWHE1Px/OlFcB4jQ/dikbviFWND84Ee6XrM0zP7CT7E2USDM/s1TJwcrGMj9OCfFjQUgyP4RvfUfpzDE/QbVaNLNUMT9JqsK3j98wP8+nLjNvbTA/5Je904P8Lz8=",
          "dtype": "f8"
         },
         "yaxis": "y11"
        },
        {
         "hovertemplate": "variable=p<br>risk_band=7<br>default_month=%{x}<br>value=%{y}<extra></extra>",
         "legendgroup": "p",
         "line": {
          "color": "#1F77B4",
          "dash": "solid"
         },
         "marker": {
          "symbol": "circle"
         },
         "mode": "lines",
         "name": "p",
         "showlegend": false,
         "type": "scattergl",
         "x": {
          "bdata": "AAECAwQFBgcICQoLDA0ODxAREhMUFRYXGBkaGxwdHh8gISIjJCUmJygpKissLS4vMDEyMzQ1Njc4OTo7PD0+P0BBQkNERUZHSElKS0xNTk9QUVJTVFVWV1hZWltcXV5fYGFiYw==",
          "dtype": "i1"
         },
         "xaxis": "x12",
         "y": {
          "bdata": "AAAAAAAAAADY4cRyqR8oPpSIVR13a6Q+9c2i0K323z65H/WIpTMCP4zQowVHLxk/YAq3wIIaKj/EWKpXX342P9a3Cr/mFUE/9Hbiyxq2Rz8NFtk+dcROP+NZFYgV9lI/TRekKfVyVj8/PnaWKb1ZP3eP9VXawFw/OkIUEytxXz9toXRuieNgP5pWt2oT4GE/gzasor2uYj+1n3SGVVFjP8ej6BKFymM/0r4T34AdZD+8WZe6yE1kP0ig8RH4XmQ/SoP8Q6NUZD8BMTROPzJkP7vSgIwR+2M/peVkpyWyYz9ZhwQlSFpjP0TsH2EE9mI/HCQC9KSHYj8d7qPINRFiPx5+30+HlGE/cnD1YjITYT/rYEaEnI5gP9uSakP8B2A/L73nNbsAXz9viWJWTPFdP/iqOn4y41w/2nrcH7fXWz+o2TKC7c9aP+Cc8iS5zFk/Ykr5kdPOWD/Rq0ig0dZXP00Zmi8o5VY/bkQCZTD6VT8+c+pxKxZVP2iJ8O5FOVQ/fNox1JpjUz/zBDoYNpVSP406XP4WzlE/JgqyHDIOUT/oXWIhc1VQP2o/bLx8R08/XSHHQeTxTT/QicO7z6lMPxjeCmbqbks/1ZNBjdlASj/xlcUOPh9JP6hjfKG1CUg/RNxu7tv/Rj+g0jB/SwFGP8AcZYeeDUU/zLQSjm8kRD+qdfP6WUVDPxO2Z4v6b0I/mkFKsu+jQT8xsXzl2eBAPxLBq9tbJkA/Jbv5eDXoPj8wbCGKfJM9P92IEsXhTTw/6AIXiL8WOz9KXwrLde05P+cEqihq0Tg/EKec3QfCNz8B9OG+v742PzlkIikIxzU/Gbgk6lzaND/8l4IlP/gzPw8kjzU1IDM/9WtAicpRMj9tMc9/j4wxPzx9pkIZ0DA/KgAmngEcMD+AFk2zzd8uPzKWPR7Xli0/rRFvBW1cLD//iCP15C8rP+V/6y2cECo/f7QwVvf9KD9VZzctYvcnPx2j0T9P/CY/fHnznjcMJj/Qb0yYmiYlP34qAXH9SiQ/OI+YIut4Iz/O6yga9K8iP5MLzPmt7yE/h2JcXLM3IT8=",
          "dtype": "f8"
         },
         "yaxis": "y12"
        },
        {
         "hovertemplate": "variable=p<br>risk_band=6<br>default_month=%{x}<br>value=%{y}<extra></extra>",
         "legendgroup": "p",
         "line": {
          "color": "#1F77B4",
          "dash": "solid"
         },
         "marker": {
          "symbol": "circle"
         },
         "mode": "lines",
         "name": "p",
         "showlegend": false,
         "type": "scattergl",
         "x": {
          "bdata": "AAECAwQFBgcICQoLDA0ODxAREhMUFRYXGBkaGxwdHh8gISIjJCUmJygpKissLS4vMDEyMzQ1Njc4OTo7PD0+P0BBQkNERUZHSElKS0xNTk9QUVJTVFVWV1hZWltcXV5fYGFiYw==",
          "dtype": "i1"
         },
         "xaxis": "x5",
         "y": {
          "bdata": "AAAAAAAAAADH6WMK8QmZPjPq91HCLwA/zd6lg9LaLD9xELB70QlGPzamWV7rXVY/zbdVdyz/YT9lwTlDxwlpPxDUb3oOmW8/6b+uYfSdcj+Iiwt4Wt50P2FAARpRiHY/PWZlffSjdz9uZUoay0B4P85KgECMcXg/9xZDHnBJeD+ZhhN9ntp3Pwk/LNBfNXc/3RgEkcpndj/E3m+du311PzE0OpP4gHQ/BoLO8WZ5cz93WTrtSm1yP9to1UaGYXE/tydU/dJZcD8aqEOq77FuP4P5ExfswWw/A3gwk2Dmaj8kkJumFiFpP6VQUD8Sc2c/15wKKb7cZT/vjTk6EF5kP25lGIem9mI/ISuqxt6lYT+hQcLt6GpgP32AB7yriV4/azphx0VlXD+vzRk8hWZaP757WqZHi1g/dX8qMm3RVj+HA3FV4DZVP1GcpV6buVM/4a5mWqxXUj9KGzKsNw9RPyL68UjzvE8/cuEln46HTT8Liz1aHXtLP4WzVOuslEk/9ZVDGXvRRz9eJ2Fs9C5GP4fmS0eyqkQ/RferyXhCQz9UqVKTNPRBP/oA33j4vUA/NBbHbfY7Pz8X9HVaKiU9P2uuN1N8NDs/Wm3ajBZnOT8/NYXCWbo3Pz6HSlbZKzY/5S+1p1e5ND8rZTahwmAzP+gYQXwwIDI/Fr8Mu9z1MD8ycMSsSsAvP74f1zoQuy0/6q1xikDZKz///AJLSBgqP1zdJ0DGdSg/Y+S+YIfvJj/C+RVBg4MlPy8wNcPYLyQ/u6d1CMvyIj9zGcefvsohP7AoQOw2tiA/1LKkf6dnHz9Hb3FMnoQdP13/7Lj2wBs/47rw4oEaGj9o5UwZOo8YP0le3a4/HRc/Y5gLDtbCFT96cqIHYX4UPxuhOlhiThM/xIziX3cxEj/ny/oHVyYRP2fokNPPKxA/jRWaLYyBDj+bd5mkZMgMP2TECl8/Kgs//5AJN1WlCT8dIDr7/jcIP0iReA+z4AY/p3+9PAOeBT9wd2ysmm4EP6sLkAs8UQM/QE7Q0r9EAj8IezOwEkgBPwQ+9g80WgA/6g4DhGn0/j4=",
          "dtype": "f8"
         },
         "yaxis": "y5"
        },
        {
         "hovertemplate": "variable=p<br>risk_band=5<br>default_month=%{x}<br>value=%{y}<extra></extra>",
         "legendgroup": "p",
         "line": {
          "color": "#1F77B4",
          "dash": "solid"
         },
         "marker": {
          "symbol": "circle"
         },
         "mode": "lines",
         "name": "p",
         "showlegend": false,
         "type": "scattergl",
         "x": {
          "bdata": "AAECAwQFBgcICQoLDA0ODxAREhMUFRYXGBkaGxwdHh8gISIjJCUmJygpKissLS4vMDEyMzQ1Njc4OTo7PD0+P0BBQkNERUZHSElKS0xNTk9QUVJTVFVWV1hZWltcXV5fYGFiYw==",
          "dtype": "i1"
         },
         "xaxis": "x6",
         "y": {
          "bdata": "AAAAAAAAAABdeDmov7D3Pkgv38Z4ZEc/mTwjY6m+Zz8bwBTj61J4P6nhB5GPG4I/AfFV6euehj9e3wuz6GeJP71DHVFwooo/jSYEjSimij8cL6gCNs6JP6sTuzaMaIg/jbq2n4mxhj+9QXB+AtWEP7vpllou8YI/luAWlNcZgT/EMhm+UbZ+P/LrxTzWd3s/eXZkonB+eD+sPeizc8t1P8ObdvcWXXM/sHxjmbMvcT+iFTJSOn1uP4X8HS5lCWs/mNQWOHn5Zz/IZDjpUUNlPy0yTAFb3WI/BSHmPLa+YD/HQaEGl75dP9wW7WKWb1o/ceflh0+DVz/i2vfmFO5UP1HZD1KKpVI/fuQ0uoagUD+9nMaS661NP4dKaSx1g0o/DnkWUyi1Rz9JsplpCDhFPwm//zhwAkM/mbdpq+gLQT+A7iL3B5o+PxivBhx6fjs/03AhOLW5OD8gBw6oq0E2P5mcTiaIDTQ/MsYjxIYVMj9B883E0lIwPzDIOY3Rfi0/4PUyZ/mrKj9OtnwDxiMoP8ScRrD53SU/gULodU3TIz+oKM7WUv0hP0N6Q2ZZViA/eFxxbq+yHT/89KporgMbP/2BzwHFlxg/nJKLHexnFj8FH1tA5W0UP3BEcuwipBI/rHyk6bMFET9tPi4xYhwPPyevOvxacww/0G8HfVAJCj/rJw6UANgHPxt6ywfT2QU/jzgsacYJBD9wYa47X2MCP3UmThmZ4gA/5f81J7MH/z79A7Q2yYf8PtiEJ36kP/o+5I7zLQsq+D7V56JzSUL2PnhASDYjhPQ+j3Tabcfr8j47rujkxHXxPmeNBzoAH/A+77ou91XJ7T4Ytyx6d4jrPqSYXxLOduk+/KZpLjKQ5z5WYm9b4NDlPnTLVz1vNeQ+nhiFl8a64j7i6olHF17hPiOT8xbUHOA+atzLmFbp3T5qkA7OAcfbPhfaTePSztk+/etUukr91z7ZvFunOU/WPrRB0u63wdQ+pHTFAx9S0z4qMn5yA/7RPrdCPmUvw9A+WBABZjs/zz56Cs3T6iLNPiL1HJELLss+lNjgNYVdyT4=",
          "dtype": "f8"
         },
         "yaxis": "y6"
        },
        {
         "hovertemplate": "variable=p<br>risk_band=4<br>default_month=%{x}<br>value=%{y}<extra></extra>",
         "legendgroup": "p",
         "line": {
          "color": "#1F77B4",
          "dash": "solid"
         },
         "marker": {
          "symbol": "circle"
         },
         "mode": "lines",
         "name": "p",
         "showlegend": false,
         "type": "scattergl",
         "x": {
          "bdata": "AAECAwQFBgcICQoLDA0ODxAREhMUFRYXGBkaGxwdHh8gISIjJCUmJygpKissLS4vMDEyMzQ1Njc4OTo7PD0+P0BBQkNERUZHSElKS0xNTk9QUVJTVFVWV1hZWltcXV5fYGFiYw==",
          "dtype": "i1"
         },
         "xaxis": "x7",
         "y": {
          "bdata": "AAAAAAAAAAAuqXY1Iw9FPzdvdqALw38/nLkF86pbkj/VGvLqFTmZP1Jg0FvFi5s/A6/YbqO2mj9xgttUVDiYP26DiAHXF5U/RYUCgnbrkT9mfYNvDPuNP7w+ayZt14g/juCB9ZN3hD+7M5hsvs+APzwHQvMVlXs/HRPW/kCgdj+IbtzuUJNyPzDou1Qmi24/TWVqh2EoaT95ng1xF8RkP3gwrJ9VLmE/hcXyMwGAXD9Wquf+w7JXP4vIgLaxwVM/tb+Q42+DUD/J+ZMqTK1LP/WPTEfdQEc/vhaoYSSWQz8A4ODUA4pAP3eZRaUVADw/o1iy60nCNz83aCikGjU0P4ANGBnvOTE/72+AU5BvLT+UclzeWjQpP8MeeB+ioCU/K606Mb6YIj+/15kC3wUgP1a3YUdPqhs/FwRCZuvtFz9t4pUqmLwUP6Im5OGzABI/GDT9dWFQDz+AZbFJ6UcLP+r4/Tatzgc/arRed2fPBD/fwDgtLzgCP+wdUZPQ8/8+PwTDtpkP/D4nmBcoFq74PntVBXPovPU++gSt43Is8z6KWz7bZ+/wPi+dM67Z9O0+0xLmwJmH6j7w691qb4bnPsRa7vMW4+Q+f9/aR06R4j5V0H5RiIbgPhk5S9VYc90+nPtcv79F2j7rQ3++r3bXPtwUi+5k+tQ+LKql+KrG0j6wcUHTpNLQPtXPscE5Lc4+D+5MO7gXyz7zO6CHDlnIPpYUZvYB58U+5HvMn6C4wz7cwByUFcbBPqH0sTeDCMA+2VVawcXzvD6P4crg0Sm6PinjUoLZqbc+9+QbtadrtT4lBBno/2ezPhWqor9+mLE+PyhfG/7urz7qvkuxBACtPj5a+eQ4W6o+MhWZaMP4pz4bbwcEr9GlPpdSXI7N36M+FND+UaAdoj4el7tmQ4agPqQHWDu3Kp4+5CVMUQ2Omz5DV6Nlmi+ZPk5OWFQtCZc+dYn0BD0VlT6uPkWD1U6TPmfwrFeHsZE+RTTo1lg5kD7+yjtVcsWNPtBribjpVIs+bYT0ZVcbiT4wYAd2jxOHPv3u8KXqOIU+PUZWPjiHgz4=",
          "dtype": "f8"
         },
         "yaxis": "y7"
        },
        {
         "hovertemplate": "variable=p<br>risk_band=3<br>default_month=%{x}<br>value=%{y}<extra></extra>",
         "legendgroup": "p",
         "line": {
          "color": "#1F77B4",
          "dash": "solid"
         },
         "marker": {
          "symbol": "circle"
         },
         "mode": "lines",
         "name": "p",
         "showlegend": false,
         "type": "scattergl",
         "x": {
          "bdata": "AAECAwQFBgcICQoLDA0ODxAREhMUFRYXGBkaGxwdHh8gISIjJCUmJygpKissLS4vMDEyMzQ1Njc4OTo7PD0+P0BBQkNERUZHSElKS0xNTk9QUVJTVFVWV1hZWltcXV5fYGFiYw==",
          "dtype": "i1"
         },
         "xaxis": "x8",
         "y": {
          "bdata": "AAAAAAAAAACpu5B5+eiNP9Mu+CvfObE/qRiW+HGttj/WBPrZE+W0P4J0swDtvLA/qS9GYKYzqT9nL1oMF3KiP5blTaKZsJo/iujmmLNAkz9lvGN5bdOLP4CMNX+KMoQ/aQKfHDt+fT+LN+nHMK11PwNOErr9CnA/w91dm0vqZz/4sgEXVvNhP4nptTvqIVs/Rp2eNoGkVD9Q1tml3pxPP7kY/YVSW0g/n/UVSsXgQj9ySQInN249P5oq66sCETc/Hybbpl0sMj+iuHpcsccsP7Fgysny5SY/Xiw0jGpNIj/0jvlGHGMdPzdcay1KsRc/a4oLnNQtEz9hcqoq/SsPP+jOOfZGbQk/WwCTF8DQBD8aZ6eachkBP0bwym3zL/w+wZ7wQ6VO9z4a9Cqn7FTzPopyws4QFfA+GneB5dTV6j4iAOaPjXPmPrbZLTOQ1eI+Pr9Bz5Wu3z5kDSBPyrbaPr+xNR18lNY+JuEBeH4h0z5qdobB4T7QPt79sr8Ap8s+3f5QpLOVxz75PShkVSjEPmfBpa5oQ8E+NKbGbaegvT4GFMQr6ni5PiZVFlbO8LU+0xpQq9Dusj66+L/zwF2wPtZja4n3V6w+PALuRZOVqD6YZE0/uFulPjdcXyXGlaI+C0DikWoyoD5Ol+W3I0acPl5tpd7itpg+KMdiw02ilT4CMLnez/aSPqfuII6ApZA+wcDOkWpDjT4dLgbJTMGJPj22LzpGsoY+NhxEZ6QGhD4vyQPj+bCBPlwvhRyLS38+gK0yOFC2ez73CprnSpF4PiRItOjfzXU+kPoV7Xdfcz5AfWVmNDtxPtzDubpfr24+ym+T7o9Zaz5R9po832ZoPi8XlgUQy2U+Sq8Sxn57Yz6MZXdm6W5hPgL0JZZ9Ol8+CKPtwur+Wz6SdBU4zx5ZPrmakO9qj1Y+ReXYl1RHVD62KtGCTD5SPlnP6tEVbVA+m7fM7qmaTT78JbmP5bJKPjF16ekGGUg+G4toxmHERT5vz+HDT61DPgzih7wPzUE+WrHocakdQD6JRVTQqTM9PsqetN/JeTo+4/LU32gFOD4=",
          "dtype": "f8"
         },
         "yaxis": "y8"
        },
        {
         "hovertemplate": "variable=p<br>risk_band=2<br>default_month=%{x}<br>value=%{y}<extra></extra>",
         "legendgroup": "p",
         "line": {
          "color": "#1F77B4",
          "dash": "solid"
         },
         "marker": {
          "symbol": "circle"
         },
         "mode": "lines",
         "name": "p",
         "showlegend": false,
         "type": "scattergl",
         "x": {
          "bdata": "AAECAwQFBgcICQoLDA0ODxAREhMUFRYXGBkaGxwdHh8gISIjJCUmJygpKissLS4vMDEyMzQ1Njc4OTo7PD0+P0BBQkNERUZHSElKS0xNTk9QUVJTVFVWV1hZWltcXV5fYGFiYw==",
          "dtype": "i1"
         },
         "xaxis": "x",
         "y": {
          "bdata": "AAAAAAAAAADYetL1J2+9P1O+fFGh5Mk/LNSD/Otowz/ROLXdlPy3PwjAWSQrMKw/L/TTIkJ5oD8s/V8zlneTP14BfLBPZoc/krD5FQ2qfD/AnjEm8uRxP1Bj4i6fwWY/4LvP0HRyXT/04oiMmF1TPxO9oa6N3Ek/7I31RrqDQT9+a1gZzQk4P8I4HUc2szA/kfKsEMR4Jz8I1mmDKawgP21JzBG+7Bc/qZ9UbQpUET8eVKItBFMJP/ay9+PoqAI/vCWs2hq3+z4zzln+ZLz0PkC1/MMxP+8+MGBs+TGz5z73C/IB9RbiPuKI4U/xx9s+AN62tUx01T4+bVn2oajQPojC9JkzAco+RKmkG9ZlxD59sQAcZhPAPnkij05HdLk+/7cC51w9tD6GJAUsHimwPtuR/egi6ak+y2ET3AHapD6YNphoqdegPvSRsoMhTps+AozfbrQ1lj4J1opgACCSPgqUy3NrrY0+nJBkDxRfiD4oKOzw2BKEPqjIZirRlIA+doalqyt4ez6RqXtCnNB2PvVS2t+b/3I+JpTBSo24bz6RRcm34ItqPkm+LEvQRGY+/bVgBT25Yj7wgdWyW45fPmdICBtPplo+fuok8r2NVj5ZIWcCYyBTPoUQJMGoQFA+pdZ+SLusSz4YrdijV5tHPuoM/72LLEQ+ovP483pFQT6Wv+xB7Z89PrirT3hFczk+apTFJInmNT5eDEFRZuAyPoiM8jHFSzA+ZVEjdxQuLD6wBc1R9mYoPiMLWG+AKSU+5U63e/hgIj4a3qgl3fcfPmemOVRh1xs+lDm+I61HGD7Q0/cdxDMVPiAzNdLeiRI+9f1C8+Y6ED74dYBUE3QMPurx8Gq4+Ag+OnhsRB/xBT51bFoKYk0DPvOnPhvo/wA+ex0SxRj6/T2UH7L6o3X6PSXFQZNJYfc9Odqhzkeu9D1qRWQU6U/yPcS56oQ3O/A9Sd+fcnjN7D1SLjSokJTpPTkV06iMveY9N/BpviQ85D1DP1bRsAXiPTDQEqruEOA93pkTN6Gr3D1tpoicpprZPbxzhTGz4tY9U1Z8+Rp51D0=",
          "dtype": "f8"
         },
         "yaxis": "y"
        },
        {
         "hovertemplate": "variable=p<br>risk_band=1<br>default_month=%{x}<br>value=%{y}<extra></extra>",
         "legendgroup": "p",
         "line": {
          "color": "#1F77B4",
          "dash": "solid"
         },
         "marker": {
          "symbol": "circle"
         },
         "mode": "lines",
         "name": "p",
         "showlegend": false,
         "type": "scattergl",
         "x": {
          "bdata": "AAECAwQFBgcICQoLDA0ODxAREhMUFRYXGBkaGxwdHh8gISIjJCUmJygpKissLS4vMDEyMzQ1Njc4OTo7PD0+P0BBQkNERUZHSElKS0xNTk9QUVJTVFVWV1hZWltcXV5fYGFiYw==",
          "dtype": "i1"
         },
         "xaxis": "x2",
         "y": {
          "bdata": "AAAAAAAAAAASMLIpY3vaP82O9bylytE/jhdMvHVgvj/40wZFtSypP8DfjpY+s5U/XxADKJuwgz9Q6JRaichyP20+bCJ9wWI/+Sa95ieCUz9hIpO2mApFP4t8pezVcDc/d8EoskHhKj+35aWLhaIfP/MtrYyhDhM/wPHj2Tp0Bz80noW/H279PpY8VcB7y/I+JxLKBWVm6D6h+8DV+BPgPlPxJsk3fNU+n0a8QmYVzT7m3dGLG+zDPkuXKXPimbs+0UG5iEJSsz5wqUXsZFGrPlNSFlXOfaM+gIQKqMAOnD7+IvPHZFyUPtY2zFQXyI0+n4LwNALxhT7CnEcvS0eAPiuODzKiUHg+HJnPXUJGcj7bd7Q3gaJrPuFViHDVA2U+ASep2ZYRYD7tw7y3zLNYPhdcD6w1FVM+IFAxfB+gTT6GByB1PxpHPkYcMUeBGEI+9QJfKgV4PD7WuqZvY3w2Pv1zN0qV1DE+bV9QspRiLD4nSQACNq0mPr4zeaEiLiI+7KeRohNAHT6r9aNvr5sXPqZAFlZ2HRM+Gpo6P74MDz4I72TLFksJPkTS0jvmqQQ+oHgkRcLtAD6z+XagLdD7PS4Xq7h+6PY99nkO557q8j21A7D0fFHvPXO7ta7w/Ok9EerpQ5ed5T3OZfRkEwXiPbwiRbd0HN49ezArtlY22T3b7PpPoSfVPbkRcnVlydE9eumkUiz4zT0VoQv3IkzJPfRfb1vuZMU9U7skhHggwj3gHv/VucW+PTjIAyF2Kro9SV1PvolJtj10WU8H+QOzPcyMxgkwQLA9vPyT2gvSqz3sCqX44NmnPT2jdYW8eqQ9pwhlWF+coT2RKmRnJFWePaPkIHvkKJo9Zl4yKbyXlj0T+5Go+omTPU2PvCm765A9GpaSpINYjT0oieGH6nqJPX0gEvTeJoY9lsKQikNIgz3VilfxEM6APU31PvetU309r/R3K6aeeT2MBQ17MGh2PUxtu/qKnnM90byh15AycT28MOKPpi5uPfexIx2Gg2o9gUKelc9QZz2e0vORRYZkPZN01dz2FWI99D0xus7nXz0=",
          "dtype": "f8"
         },
         "yaxis": "y2"
        },
        {
         "hovertemplate": "variable=cum_p<br>risk_band=10<br>default_month=%{x}<br>value=%{y}<extra></extra>",
         "legendgroup": "cum_p",
         "line": {
          "color": "#FF7F0E",
          "dash": "solid"
         },
         "marker": {
          "symbol": "circle"
         },
         "mode": "lines",
         "name": "cum_p",
         "showlegend": true,
         "type": "scattergl",
         "x": {
          "bdata": "AAECAwQFBgcICQoLDA0ODxAREhMUFRYXGBkaGxwdHh8gISIjJCUmJygpKissLS4vMDEyMzQ1Njc4OTo7PD0+P0BBQkNERUZHSElKS0xNTk9QUVJTVFVWV1hZWltcXV5fYGFiYw==",
          "dtype": "i1"
         },
         "xaxis": "x9",
         "y": {
          "bdata": "AAAAAAAAAABuk9JfgEN5PElUTld+Ajg9IxN+13rQmT1/B7zFP6HZPXVXLRccQQg+j9KUOxNiLT4QaWnyrnFKPlaMlTdkQ2M+TeGv2yn5dz4y0EEId2uKPuIKxSn6cJo+1NX7y9x5qD4ogFYooz61PjjebdoYecE+kiyNrZZ1yz6wVi9krL/UPheUQcgKUN4+JyILu45/5T6KDvlIdbbtPp0C8WMfEfQ+35f0SH2O+j7vKpd8D0EBP4Jo9HoHDgY/wUPPS4vGCz8kyy51kEERPz454nkaLhU/7IxIFvK0GT+DTebe5OEeP6Q1kp40YCI/i5tQVMWtJT8jwgw87F4pP/BjdZ6reC0/n8NfJN3/MD+DwMJOP3wzP4heXV6FMzY/Ljwo14wnOT/3ihG9Blo8Px4Jswt3zD8/7Ml4RxrAQT8anPiINLtDP2sZF+0I2EU/TLyFMgAXSD//21yvbXhKP/O1++SP/Ew/iwxnKJGjTz+fdsUtxDZRPw/nCto8rVI/j1N5xis1VD+6A9qfgc5VPwBixQEneVc/CqTT5/w0WT9eRpIf3QFbPwqSa7qa31w/nc3IfgLOXj8TcuirbWZgP/UinmHzbWE/+9JlnnB9Yj8DDIFTwZRjP2AIali/s2Q/3AIGnELaZT8ygRlUIQhnP+/M6yowPWg/RSUMa0J5aT+F5i8pKrxqP1IAJWy4BWw/ZafXUr1VbT+4R204CKxuPw2yPOszBHA/x6mpMlW1cD/k2krdTmlxPwMI6bIHIHI/oinCZWbZcj8yjimfUZVzP7UqVQuwU3Q/uEFfZGgUdT+hwoN8Ydd1PwHsoEeCnHY/o9MC5LFjdz9HgIGi1yx4P649+Q3b93g/fMUk8qPEeT8LwOBhGpN6PzIB4LwmY3s/Vr/XtLE0fD8k2CpSpAd9P+wGG/jn230/xL2GaGaxfj8WHTrHCYh/P9ambE7eL4A/NiS17DScgD+G7kFr/giBP2zHk6wwdoE/K9KlycHjgT86Ro0SqFGCP1hB9g7av4I/ZBGAfk4ugz+TMvtY/JyDP00ji87aC4Q/exSuR+F6hD8=",
          "dtype": "f8"
         },
         "yaxis": "y9"
        },
        {
         "hovertemplate": "variable=cum_p<br>risk_band=9<br>default_month=%{x}<br>value=%{y}<extra></extra>",
         "legendgroup": "cum_p",
         "line": {
          "color": "#FF7F0E",
          "dash": "solid"
         },
         "marker": {
          "symbol": "circle"
         },
         "mode": "lines",
         "name": "cum_p",
         "showlegend": false,
         "type": "scattergl",
         "x": {
          "bdata": "AAECAwQFBgcICQoLDA0ODxAREhMUFRYXGBkaGxwdHh8gISIjJCUmJygpKissLS4vMDEyMzQ1Njc4OTo7PD0+P0BBQkNERUZHSElKS0xNTk9QUVJTVFVWV1hZWltcXV5fYGFiYw==",
          "dtype": "i1"
         },
         "xaxis": "x10",
         "y": {
          "bdata": "AAAAAAAAAAAgqOxvECIQPdyqiHTJbbc92q8KuYz9DD5xMI3v17NDPvZRRsod7ms+gOL0eADEij5M17BeU8WjPkXxTzQSSLg+TsuAGyL/yT7kAl1YVgvZPngM3dEqMuY+oIRqXexj8j66pYmQTdX8PkZOnpI0lQU/WBiEZxUTDz8MiLri/6IVP4jM5tPHRh0/e/40v09RIz87zONbrvAoP+Dj6P8ilS8/7CRefiWoMz+Di6+yyRg4P5SQZDEQIz0/eVGc7DBmQT/CT5v1f4xEP+zYf2cFBkg/0oemd8bTSz/DNPxbRPZPP4hKdTfCNlI/tAvWjYycVD+MIYuiFSxXP+sXKPPB5Fk/9dl63MrFXD/EoGNbQ85fP37aj1WOfmE/LCZTWpUoYz9vrQYjlORkPyHz2oXdsWY/QCOmo7uPaD+HOUShcX1qP5bujT49emw/NYg1S1iFbj8Hbif9/E5wP8qs0AqsYXE/YkwSCVR6cj+e85oDkJhzP/6aGcX7u3Q/Y1ocODTkdT/7d+K71xB3PxrPAm6GQXg/iaXDaeJ1eT/onPr9j616P4k9Q9o16Hs/3CRRNH0lfT/ElhjmEWV+P4hlfYWipn8/Zo4WO/B0gD+rJx/7PxeBP/b/ERMcuoE/tL08hmFdgj+XWhDL7gCDP3KwkcmjpIM/FdRe2GFIhD9iQHi4C+yEP0Gp+I+Fj4U/AWfi47Qyhj8ZxiWRgNWGPyUkAMXQd4c/F5/Q9I4ZiD+aNHzVpbqIP9SCeFIBW4k/9eWRhI76iT9MbH+oO5mKP/EJVRX4Nos/DJLiMrTTiz+UQwxwYW+MP+8mKDnyCY0/LQ5q7lmjjT8qwGbajDuOP9GstSiA0o4/tnu33Clojz/b04bIgPyPP8DwC0K+R5A/sS1FsoqQkD/gjNg5otiQP4va6LMBIJE/pgvPTaZmkT8ZtzSDjayRP03ATBq18ZE/LYMqIBs2kj8upzflvXmSP4qZyPmbvJI/L47PKrT+kj+dyq1+BUCTP1TlIjKPgJM/io9ZtVDAkz/ebBGpSf+TP7xt5dt5PZQ/eRSuR+F6lD8=",
          "dtype": "f8"
         },
         "yaxis": "y10"
        },
        {
         "hovertemplate": "variable=cum_p<br>risk_band=8<br>default_month=%{x}<br>value=%{y}<extra></extra>",
         "legendgroup": "cum_p",
         "line": {
          "color": "#FF7F0E",
          "dash": "solid"
         },
         "marker": {
          "symbol": "circle"
         },
         "mode": "lines",
         "name": "cum_p",
         "showlegend": false,
         "type": "scattergl",
         "x": {
          "bdata": "AAECAwQFBgcICQoLDA0ODxAREhMUFRYXGBkaGxwdHh8gISIjJCUmJygpKissLS4vMDEyMzQ1Njc4OTo7PD0+P0BBQkNERUZHSElKS0xNTk9QUVJTVFVWV1hZWltcXV5fYGFiYw==",
          "dtype": "i1"
         },
         "xaxis": "x11",
         "y": {
          "bdata": "AAAAAAAAAAAWYmTPOGijPRHcBMo0jDU+KQoVAXfpfj79Zsz7IfisPrBFgY2/684+EAXBUaeJ5z6glrHFb6T8Pn7aOybdvw0//eOrua97Gz/qmaE0+zUnP8h+oUFhRDI/EFMP5dIqOz+RjvnWK0lDP9Q5C8qtWEo/fiBJ7vxrUT+g1bl0AGpWP+YjYBp+KVw/UuGqFUFVYT/2T9KtMfVkP35AsicS8mg/IwHZ3mpIbT/Lv9M5/flwPyfW2+bwd3M/8E69CmYbdj8Aba0gieF4P9U60A9tx3s/imFxfRjKfj9xkjWGSPOAP3XK4VnyjII/ijnXrZgwhD+C0eN41dyFPzdoThJQkIc/I3Ip+r5JiT/frHwh6QeLP95dscWmyYw/UaC28OGNjj/Mja9WyymQP5x2zH7pDJE/2jIvT9vvkT9dN9BROdKSP4FVenqks5M/8/dA2cWTlD9UNT5ETnKVP9u4Pvv1TpY/O32PR3wplz9cfL4ZpwGYPwVEyqZC15g/S1nzBSGqmT9DEiTQGXqaP/u/rsEJR5s/zHb1XtIQnD8TY2mcWdecP21rMIqJmp0/egqmA1Banj/2BddinhafP0hMBjhpz58/nZudAlRCoD8aHOd+KpugP9oL8GQ28qA/7orQJndHoT+BBCQ67ZqhPxHlSv+Z7KE/E0xfqn88oj9us8gtoYqiP+cPWiYC16I/48blyKYhoz9U7zLRk2qjP2WgP3LOsaM/D4W8R1z3oz/pfq5IQzukP4PMI7uJfaQ/6OHqKDa+pD9S5zlVT/2kPxWeNjPcOqU/EztP3eN2pT+PlVWNbbGlP9PWTpWA6qU/46DqWCQipj9NZ5VHYFimP5JzGtc7jaY/TcbKfr7Apj9eth6z7/KmP6LXyOHWI6c//lIxbntTpz/GcVGu5IGnP4eu5+cZr6c/diX9TSLbpz8gv7X+BAaoP7zoZAHJL6g/Dx/hRHVYqD8x+xCeEICoP1jUrMahpqg/AWcwXC/MqD8USfjev/CoP/NDh7FZFKk/XvnvFwM3qT+zfl83wlipPwPcxRWdeak/m5mZmZmZqT8=",
          "dtype": "f8"
         },
         "yaxis": "y11"
        },
        {
         "hovertemplate": "variable=cum_p<br>risk_band=7<br>default_month=%{x}<br>value=%{y}<extra></extra>",
         "legendgroup": "cum_p",
         "line": {
          "color": "#FF7F0E",
          "dash": "solid"
         },
         "marker": {
          "symbol": "circle"
         },
         "mode": "lines",
         "name": "cum_p",
         "showlegend": false,
         "type": "scattergl",
         "x": {
          "bdata": "AAECAwQFBgcICQoLDA0ODxAREhMUFRYXGBkaGxwdHh8gISIjJCUmJygpKissLS4vMDEyMzQ1Njc4OTo7PD0+P0BBQkNERUZHSElKS0xNTk9QUVJTVFVWV1hZWltcXV5fYGFiYw==",
          "dtype": "i1"
         },
         "xaxis": "x12",
         "y": {
          "bdata": "AAAAAAAAAADY4cRyqR8oPnZNyMaWg6Q+0uu9VJBD4T6umiSeiYQGP/IOW+rFOCI/qQyJVaQpNj+2spnWAVRGP0Y10kr0tFM/wHDDsAGQXz/j/RcoHnlnP2pVEXYUenA/PVt6wNEWdj/N6hcmHIZ8P1Wnyl0p24E/nC8twE7JhT/3V8obMQKKP54tePY1eo4/n52Rr/KSkT+WMWBgHf2TPw9GvQJudpY/6b2fHh76mD8gqfI114ObPyndMDi2D54/yTZYUCVNoD/ZeTtFSZChPwWHA176z6I/X9V5uBwLpD/VHco6wUClP5kc3IAhcKY/2z4c0JuYpz+9faYsr7moP591pKH30qk/pszTxyrkqj+1MhiQFO2rP+PbTlSU7aw/zBn+LZrlrT8XLrGQJNWuP28DoyQ+vK8/o/PQ7n1NsD8Kv9mkvbiwP36JbYnwH7E/qG611yuDsT9XkTYeh+KxP7z59L4bPrI/zgKJgASWsj+brFAuXeqyP8FuDEZCO7M/KzZdsdCIsz8/Hr6JJdOzPymPt+VdGrQ/UlcqrpZetD/K4K967J+0P0m5KHR73rQ/jEesPF8atT+gziPcslO1P1zk77CQirU/hGcKZBK/tT+w8ifgUPG1P3fraktkIbY/MMlHA2RPtj/VKkaaZnu2Pw71VNeBpbY/eBpxtsrNtj9jAWdqVfS2P8/QfV81Gbc/UmXiPn08tz+0Xq3yPl63Pza2ZKqLfrc/8a/d33Odtz9d0WdcB7u3P+bjLD5V17c/6fq0/Wvytz9IBYBzWQy4P02vqN0qJbg/9EuG5ew8uD/oLUWlq1O4P0xQbq1yabg/BHVYCk1+uD+c931JRZK4P8CGs35lpbg/LMc8Sbe3uD9dlrzYQ8m4P9o8//ET2rg/2mKd8y/quD9lCXfan/m4PzAoBkZrCLk/ud+IfJkWuT99cQNvMSS5Pz1nGr05Mbk/l3/FuLg9uT9LG9xptEm5Px0EfJEyVbk/2n1LrThguT8SpJf6y2q5P6ckUHnxdLk/73Dh7q1+uT9lhe7oBYi5P2tr67/9kLk/nJmZmZmZuT8=",
          "dtype": "f8"
         },
         "yaxis": "y12"
        },
        {
         "hovertemplate": "variable=cum_p<br>risk_band=6<br>default_month=%{x}<br>value=%{y}<extra></extra>",
         "legendgroup": "cum_p",
         "line": {
          "color": "#FF7F0E",
          "dash": "solid"
         },
         "marker": {
          "symbol": "circle"
         },
         "mode": "lines",
         "name": "cum_p",
         "showlegend": false,
         "type": "scattergl",
         "x": {
          "bdata": "AAECAwQFBgcICQoLDA0ODxAREhMUFRYXGBkaGxwdHh8gISIjJCUmJygpKissLS4vMDEyMzQ1Njc4OTo7PD0+P0BBQkNERUZHSElKS0xNTk9QUVJTVFVWV1hZWltcXV5fYGFiYw==",
          "dtype": "i1"
         },
         "xaxis": "x5",
         "y": {
          "bdata": "AAAAAAAAAADH6WMK8QmZPgeyDDTWYQA/p4VUCKR5MD9EU9p/o0ZOP+xnI4+ewGI/3I88g+Vfcj+OcNkkyeR+P0utCDGoWIc/oAbwMNFTkD+C6fLOZ4uVP5o5cxV8LZs/lUlmmjyLoD9Dlq/9VZOjP52fv4WHoaY/fAKIibWqqT9PcypZCaasPzD7L1O1jK8/Jj+oUtcssT8SPX8Ms4SyP1XgspXCzLM/dcjPBFkEtT8MbqOzLSu2P5rEEBhGQbc/FQfmR+NGuD9WJDjFcjy5PyLE8CWCIro/4keKKrX5uj9jJL/fvcK7P+imuXFWfrw/z/sBYzwtvT8+yNPkLNC9P2mLDBniZ74/wtxBDxH1vj/P7q9WaHi/P9EMoAWP8r8/3cheDhIywD94/NYY32bAP2+xI6j1l8A/bgaIgpjFwD916DJDBvDAP64z8Hl5F8E/DAGl0ig8wT9DZf1BR17BPz1XRjUEfsE/Hn3lw4ubwT+puj/hBrfBP10PK46b0ME/81JECW3owT8atLD9m/7BPwEA+K9GE8I/+KvBKIkmwj+h/lRdfTjCP6LdzVU7ScI/LcEEUdlYwj8n/DHma2fCP/6XWyQGdcI/NQWir7mBwj/QR4Pclo3CPxRtLsmsmMI/rEcCdQmjwj/f4lLWuazCP2sDke7JtcI/y4nu3ES+wj/nupnvNMbCP69wqLOjzcI/Gg3LA5rUwj/Zzd0VINvCP9DXbYc94cI/iQdGafnmwj8HTRZKWuzCP1MaR0Bm8cI/vTcJ8yL2wj+DKbGilfrCP405bDDD/sI/Iy5cJbACwz9RvCW5YAbDP/HZ/NfYCcM/CDg5KBwNwz+lYXwPLhDDP1E9crcRE8M/xP4zEsoVwz8S81TeWRjDP2b6n6rDGsM/uPaL2Qkdwz8R9mykLh/DPy5oZx40IcM/z0EqNxwjwz9mi3S96CTDPxJ8amGbJsM/q+y9tjUowz9NoK02uSnDP9aX3kEnK8M/rmMSIoEswz91Kr0LyC3DP3bjfR/9LsM/exB7ayEwwz+zE6bsNTHDPxcT5487MsM/LzMzMzMzwz8=",
          "dtype": "f8"
         },
         "yaxis": "y5"
        },
        {
         "hovertemplate": "variable=cum_p<br>risk_band=5<br>default_month=%{x}<br>value=%{y}<extra></extra>",
         "legendgroup": "cum_p",
         "line": {
          "color": "#FF7F0E",
          "dash": "solid"
         },
         "marker": {
          "symbol": "circle"
         },
         "mode": "lines",
         "name": "cum_p",
         "showlegend": false,
         "type": "scattergl",
         "x": {
          "bdata": "AAECAwQFBgcICQoLDA0ODxAREhMUFRYXGBkaGxwdHh8gISIjJCUmJygpKissLS4vMDEyMzQ1Njc4OTo7PD0+P0BBQkNERUZHSElKS0xNTk9QUVJTVFVWV1hZWltcXV5fYGFiYw==",
          "dtype": "i1"
         },
         "xaxis": "x6",
         "y": {
          "bdata": "AAAAAAAAAABdeDmov7D3Pgv7IMT+IUg/XHsrFCnHbT/kPpU2QJuDP0aQzuNn25I/xoh52N0qnj86vP8YaW+lPykNRy0FGKw/ZgtEqMdgsT9KEZlojpq0P79zcO+fp7c/EUtnI9F9uj9JUzVzcRi9P4AwiD6Xdr8/SYaFGOnMwD/fT3amm8LBPz9/XFhansI/86Jv3U1iwz/g5A57qRDEP76ZyjKSq8Q/pLWVzw81xT/7fd64BK/FP+31lk0qG8Y/P1F3MhB7xj/SMhx6HdDGP5tjIeaSG8c/H/wUv41exz+jPiLtCprHP9EY6Bnqzsc/oOT3uPD9xz9W1MXizCfIPwn0afcXTcg/0l3eBFluyD9vJHHwBozIP7qNnWWKpsg/M6TwjT++yD/lPVqWd9PIP6Q9kwZ65sg/XKc+74X3yD/TODrz0gbJPys8SDCSFMk/40zkCu8gyT/nU7jgDyzJPzV7y6QWNsk/GI0taCE/yT8S9I/RSkfJP4RC84WqTsk/QQ9NhFVVyT9v7s11XlvJPxYAOvTVYMk/J3qXx8plyT+xLU0cSmrJP5C+prJfbsk/vIyUCBZyyT8bomF+dnXJPwvcAXeJeMk/fY2FdFZ7yT/hmC0x5H3JPyoni7U4gMk/ulsIbFmCyT+ebisyS4TJP0ky22cShsk/wALj/LKHyT+iQ+x8MInJP1rAHBqOisk/HlODts6LyT8EDnfs9IzJP+aiCBYDjsk/ltyhU/uOyT82kuuR34/JP3KDD4+xkMk/DvNo33KRyT8lkLTxJJLJP2dCzhLJksk/O7EJcWCTyT+A2DAf7JPJP7yoMhdtlMk/d4WKPOSUyT8qbmheUpXJP6i3oDm4lck/T3FpehaWyT8N3+q9bZbJP2zUp5O+lsk/gDLCfgmXyT+oUB/3TpfJP3asb2qPl8k/Dt4cPcuXyT8reiDLApjJP8dAxmg2mMk/cbVbY2aYyT8oBM8Bk5jJP83hPoW8mMk/WOl8KeOYyT9UzoMlB5nJP9GY4qsomck/0v4d60eZyT+f0ggOZZnJP7xjFDyAmck/nZmZmZmZyT8=",
          "dtype": "f8"
         },
         "yaxis": "y6"
        },
        {
         "hovertemplate": "variable=cum_p<br>risk_band=4<br>default_month=%{x}<br>value=%{y}<extra></extra>",
         "legendgroup": "cum_p",
         "line": {
          "color": "#FF7F0E",
          "dash": "solid"
         },
         "marker": {
          "symbol": "circle"
         },
         "mode": "lines",
         "name": "cum_p",
         "showlegend": false,
         "type": "scattergl",
         "x": {
          "bdata": "AAECAwQFBgcICQoLDA0ODxAREhMUFRYXGBkaGxwdHh8gISIjJCUmJygpKissLS4vMDEyMzQ1Njc4OTo7PD0+P0BBQkNERUZHSElKS0xNTk9QUVJTVFVWV1hZWltcXV5fYGFiYw==",
          "dtype": "i1"
         },
         "xaxis": "x7",
         "y": {
          "bdata": "AAAAAAAAAAAuqXY1Iw9FPy6ikgN4MoE/swrP9Ob0mj/EkuBv/haqP3Zh5I5w7rM/N42aahmcuj/qtug/F1XAP1jHGSAS+MI/ARha8IA1xT/XT1K3MRXHP8MDuYmoosg/zCERySHqyT8IpdqvHffKP0K1dF/G08s/22VrZ8iIzD9PSeLuYh3NP/A4NYiPl80/heJSDjH8zT//GBdsQU/OP8HJlcL6k84/TK/9xPrMzj+hfvtMYPzOPzKAaLDjI88/saEvkOpEzz+rNVrcl2DPPzuCobnYd88/UioD3m6Lzz8yC9jh+JvPP/+tquz4qc8/K4egEdq1zz9fm/Ke9L/PP2Ynf5aRyM8/ggeUeu3Pzz+fnkuROtbPP6d807mi288/Ustf6Ujgzz/IcSBhSuTPP/9dCau/588/QCZ2aL3qzz/8eHv7VO3PP4G19xGV788/VBUPGIrxzz9qsKOWPvPPP0ogd4G79M8/NZbudwj2zz/BaeH6K/fPP0oEZpkr+M8/YrozFgz5zz8f++SG0fnPP0qTKG5/+s8/srC/0Rj7zz+liv5MoPvPP3NDZSAY/M8/C0fMPoL8zz+D8olY4PzPPzzC5eQz/c8/p+EeKn79zz+iJ0BEwP3PPzjS8Sr7/c8/8lBxti/+zz/xzdCjXv7PPwermpiI/s8/UpzwJa7+zz/VQjrLz/7PP4cEdPjt/s8/1D8sEAn/zz90xzppIf/PP9q9PFA3/88/pl3dCEv/zz/D8fLOXP/PP3Updtds/88/IgpZUXv/zz+H+kFmiP/PP7C7LjuU/88/PpYC8Z7/zz9LigKlqP/PPxzqQXGx/88/9HABbbn/zz9HnQKtwP/PP4XW0EPH/88/q7ABQs3/zz+tcW220v/PP0TVYK7X/88/xOnINdz/zz9zw1lX4P/PP96qsBzk/88/CFVyjuf/zz+8oWW06v/PP0dMi5Xt/88/5uwyOPD/zz9PnQ2i8v/PP0WIPtj0/88/IqNp3/b/zz92yMC7+P/PP/9jD3H6/88/XtrEAvz/zz++0f1z/f/PPx18jMf+/88/AQAAAAAA0D8=",
          "dtype": "f8"
         },
         "yaxis": "y7"
        },
        {
         "hovertemplate": "variable=cum_p<br>risk_band=3<br>default_month=%{x}<br>value=%{y}<extra></extra>",
         "legendgroup": "cum_p",
         "line": {
          "color": "#FF7F0E",
          "dash": "solid"
         },
         "marker": {
          "symbol": "circle"
         },
         "mode": "lines",
         "name": "cum_p",
         "showlegend": false,
         "type": "scattergl",
         "x": {
          "bdata": "AAECAwQFBgcICQoLDA0ODxAREhMUFRYXGBkaGxwdHh8gISIjJCUmJygpKissLS4vMDEyMzQ1Njc4OTo7PD0+P0BBQkNERUZHSElKS0xNTk9QUVJTVFVWV1hZWltcXV5fYGFiYw==",
          "dtype": "i1"
         },
         "xaxis": "x8",
         "y": {
          "bdata": "AAAAAAAAAACpu5B5+eiNP0hGKlv+9rQ/eC/gKTjSxT/ymG4LYSLQPxJ2m0ucUdQ/BzykFxF41z/0gS/5U8bZP01gVJNdcds/1s7izGil3D+57K04BITdPx2Zp4yYJd4/JxUaeZGb3j8Fujk8RvLePz0DIjNyMt8/+b5YykZi3z9fwoZ2LYbfP0l4wmBPod8/5hb54fO13z/RA0xRwsXfP10Cj/rv0d8/WA00XWDb3z/qzf3qu+LfP7XIqCuA6N8/f38SQwvt3z/WDj45pPDfPyJIl/eA898/qM7opMr13z9BPq3WoPffP/cUUOsb+d8/sNWZyE763z8EK4MoSPvfP9LcupIT/N8/apm7GLr83z+lblDkQv3fP9ElHqSz/d8/kzWz3hD+3z8/0mUyXv7fP0kNqYae/t8/TNhSMtT+3z8Y+G0ZAf/fP3RejsQm/98/ti0kc0b/3z/WfO4pYf/fPwyaar53/98/DhLp34r/3z+U08oem//fP20zS/Ko/98/lQUlvbT/3z+pt0/Rvv/fP/wOBHPH/98/buot287/3z9fdWg51f/fP+UKnLXa/98/uTVQcd//3z+pcsCI4//fP9ZjvxPn/98/lMxxJur/3z9+1OjR7P/fPyqZoSTv/98/ZuvuKvH/3z/kJlHv8v/fP85Uv3r0/98/BDHk1PX/3z/wLlEE9//fP9I3qQ74/98/YIzE+Pj/3z+o8s7G+f/fP3kkYXz6/98/s0eWHPv/3z/LFh6q+//fPz1DTCf8/98/HoQllvz/3z+8r2r4/P/fP18vok/9/98/Ew8gnf3/3z+t4Azi/f/fPyKgax/+/98//78eVv7/3z94fuyG/v/fP4OegrL+/98/D5x52f7/3z/cblf8/v/fP3LskRv//98/NdeQN///3z9tpq9Q///fP10RP2f//98/9WWGe///3z94ssSN///fP0rIMZ7//98/QR3/rP//3z8JkFi6///fP34TZcb//98/YURH0f//3z9D7B3b///fPyF0BOT//98/2kgT7P//3z9OM2Dz///fP8al/vn//98//v//////3z8=",
          "dtype": "f8"
         },
         "yaxis": "y8"
        },
        {
         "hovertemplate": "variable=cum_p<br>risk_band=2<br>default_month=%{x}<br>value=%{y}<extra></extra>",
         "legendgroup": "cum_p",
         "line": {
          "color": "#FF7F0E",
          "dash": "solid"
         },
         "marker": {
          "symbol": "circle"
         },
         "mode": "lines",
         "name": "cum_p",
         "showlegend": false,
         "type": "scattergl",
         "x": {
          "bdata": "AAECAwQFBgcICQoLDA0ODxAREhMUFRYXGBkaGxwdHh8gISIjJCUmJygpKissLS4vMDEyMzQ1Njc4OTo7PD0+P0BBQkNERUZHSElKS0xNTk9QUVJTVFVWV1hZWltcXV5fYGFiYw==",
          "dtype": "i1"
         },
         "xaxis": "x",
         "y": {
          "bdata": "AAAAAAAAAADYetL1J2+9P+D9MqYaTtQ/9ud0pJAC3j8VG/Ht2gDiPxa3NqDdw+M/WfZjwnHL5D9C9v5zLmflP0fmwLLHxOU/qNnszBv+5T/mPDmx5SHmP0kfaFCnOOY/J4fQimBH5j+YyxZXD1HmPwd0gnqGV+Y/ajEUaedb5j93XLei6F7mPx5AgAn/YOY/7UrBlXZi5j+KgVlYgWPmP+wPSr5AZOY/kXqdXstk5j8aMa6qMGXmP/nAUU57ZeY/UXaHvLJl5j8Fc1E13GXmPwI3g3T7ZeY/bjC1JxNm5j9gMqo+JWbmP1HaoiIzZuY/LDXJ3D1m5j9ZMBoxRmbmP9YWZ7FMZuY/v53cylFm5j+/JLbPVWbmP5EOP/5YZuY/cavqhVtm5j/ycA6LXWbmP4KfoClfZuY/Q71Ad2Bm5j/NU7uEYWbmP+tfLF9iZuY/YgPaEGNm5j9mBtqhY2bmPzW0jxhkZuY/cwQMemRm5j83aFfKZGbmP+GsqgxlZuY/OASbQ2Vm5j+9PDxxZWbmP310O5dlZuY/yAH0tmVm5j+A4n/RZWbmP8uyxOdlZuY/0O99+mVm5j+pHUUKZmbmPzdFmBdmZuY/MCTfImZm5j+xVW8sZmbmPxKqjzRmZuY/5Nh6O2Zm5j/NrmFBZmbmP7zRbEZmZuY/eTC+SmZm5j8hLnJOZmbmP9CWoFFmZuY/9WddVGZm5j+/dLlWZmbmP2XtwlhmZuY/rM6FWmZm5j8RPgxcZmbmPxjWXl1mZuY/oOWEXmZm5j+JpIRfZmbmP5RfY2BmZuY//ZwlYWZm5j8eO89hZmbmPxWKY2JmZuY/TWHlYmZm5j+aMVdjZmbmP3wUu2NmZuY/+dgSZGZm5j+BDmBkZmbmPyEOpGRmZuY/UwLgZGZm5j+b7RRlZmbmPy6wQ2VmZuY/vgxtZWZm5j+QrJFlZmbmP/8ismVmZuY/d/DOZWZm5j8IhehlZmbmP5VC/2VmZuY/un4TZmZm5j9rhCVmZmbmP1qVNWZmZuY/K+tDZmZm5j9+uFBmZmbmP9gpXGZmZuY/ZWZmZmZm5j8=",
          "dtype": "f8"
         },
         "yaxis": "y"
        },
        {
         "hovertemplate": "variable=cum_p<br>risk_band=1<br>default_month=%{x}<br>value=%{y}<extra></extra>",
         "legendgroup": "cum_p",
         "line": {
          "color": "#FF7F0E",
          "dash": "solid"
         },
         "marker": {
          "symbol": "circle"
         },
         "mode": "lines",
         "name": "cum_p",
         "showlegend": false,
         "type": "scattergl",
         "x": {
          "bdata": "AAECAwQFBgcICQoLDA0ODxAREhMUFRYXGBkaGxwdHh8gISIjJCUmJygpKissLS4vMDEyMzQ1Njc4OTo7PD0+P0BBQkNERUZHSElKS0xNTk9QUVJTVFVWV1hZWltcXV5fYGFiYw==",
          "dtype": "i1"
         },
         "xaxis": "x2",
         "y": {
          "bdata": "AAAAAAAAAAASMLIpY3vaP3DfU3MEI+Y/YmLdKhPv6T+izy1/3oHrP6BG4nN4L+w/4VKC4Dp+7D+yfDfzy6PsP/DoWXCNtuw/g0dNhE7A7D9M7HoqkcXsP/yAOEV/yOw/iKNTWS3K7D+3AIBtKsvsPyBmjOLCy+w/sM13syDM7D+7TLePW8zsP2XNriaBzOw/L9MTjZnM7D/wqAyhqczsP4ONKF+0zOw/Mh6CpLvM7D8mAYmfwMzsP4tPxRLEzOw/oqANfcbM7D9m7yMyyMzsP7fUAGrJzOw/99l2SsrM7D83AFrtyszsP4pdemTLzOw/XmY+vMvM7D8bk1v9y8zsP3/X/C3MzOw/O1yJUszM7D9z3StuzMzsP+SyL4PMzOw/vklBk8zM7D8aMJufzMzsP/DKJanMzOw/z9KNsMzM7D+sYlS2zMzsP/6C2rrMzOw/o4NpvszM7D8REDnBzMzsP7qic8PMzOw/Bcw5xczM7D9ln6TGzMzsP4+Bx8fMzOw/LIKxyMzM7D+nX27JzMzsP1pLB8rMzOw/U36DyszM7D+uqujKzMzsP0dSO8vMzOw/UAl/y8zM7D+rqbbLzMzsP6h65MvMzOw/5k8KzMzM7D9joSnMzMzsP1SeQ8zMzOw/6ztZzMzM7D/+QGvMzMzsPzhPeszMzOw/Y+qGzMzM7D80fpHMzMzsP+dimszMzOw/8uChzMzM7D/7M6jMzMzsPzeNrczMzOw/VRWyzMzM7D8M7rXMzMzsP1szuczMzOw/jPy7zMzM7D8LXb7MzMzsPxFlwMzMzOw/MiLCzMzM7D/Qn8PMzMzsP3znxMzMzOw/QgHGzMzM7D/r88bMzMzsPzLFx8zMzOw/8HnIzMzM7D9AFsnMzMzsP56dyczMzOw/ABPKzMzM7D/seMrMzMzsP4fRyszMzOw/qB7LzMzM7D/gYcvMzMzsP4ecy8zMzOw/xM/LzMzM7D+U/MvMzMzsP9EjzMzMzOw/NkbMzMzM7D9lZMzMzMzsP+l+zMzMzOw/OpbMzMzM7D/AqszMzMzsP9a8zMzMzOw/yszMzMzM7D8=",
          "dtype": "f8"
         },
         "yaxis": "y2"
        },
        {
         "hovertemplate": "variable=pd_lifetime<br>risk_band=10<br>default_month=%{x}<br>value=%{y}<extra></extra>",
         "legendgroup": "pd_lifetime",
         "line": {
          "color": "#2CA02C",
          "dash": "solid"
         },
         "marker": {
          "symbol": "circle"
         },
         "mode": "lines",
         "name": "pd_lifetime",
         "showlegend": true,
         "type": "scattergl",
         "x": {
          "bdata": "AAECAwQFBgcICQoLDA0ODxAREhMUFRYXGBkaGxwdHh8gISIjJCUmJygpKissLS4vMDEyMzQ1Njc4OTo7PD0+P0BBQkNERUZHSElKS0xNTk9QUVJTVFVWV1hZWltcXV5fYGFiYw==",
          "dtype": "i1"
         },
         "xaxis": "x9",
         "y": {
          "bdata": "Wc9J7xtfez9Hz0nvG197P6LOSO8bX3s/4c4E7xtfez/YqwHrG197P7VV384bX3s/28s0Uhtfez+B5s65GV97PxRPln8VX3s/Z/kg6gtfez/x2eqf+F57P5jwz0HVXns/Ssr8FZleez/SwGDJOF57P2iOlEqmXXs/oOWQvtBcez+I46ONpFt7PzqYzoULWns/1Y39Du1Xez/j0UhtLlV7P6ubcg2zUXs/TFIc2FxNez/E2IqIDEh7PzZURASiQXs/M29Hsfw5ez9JiA7J+zB7P5VP+6Z+Jns/d08mEWUaez/JfuB6jwx7P9gce0Df/Ho/Iz8k3Dbrej9hldUTetd6P2gheCCOwXo/vTF8zlmpej9pETqYxY56PxXAfrq7cXo/lrOxQyhSej/NFAYe+S96P9HzKxUeC3o/20v114jjeT+9/F/2LLl5P+ehcdz/i3k/stRMyvhbeT8VS+HJECl5PySukaJC83g/pi8jy4q6eD9WAURa5354Px3/7vVXQHg/ljrswd3+dz84tadNe7p3P86FkYE0c3c/xu40jA4pdz+pki7PD9x2P6/9JMw/jHY/uSbiEac5dj8IVqgpT+R1P10J2YRCjHU/oPAAa4wxdT/S9ljoONR0Pyp0ybxUdHQ/ABt6S+0RdD+S6/aKEK1zP4128PXMRXM/he2bfDHccj/n7rV2TXByP16bKZYwAnI/iVBc2uqRcT9YXB2EjB9xPyIZOAomq3A/5iCmDsg0cD+qRb2oBnlvP8u7fmvRhG4/SKYWNxKNbT8cz/Xo6pFsP2DLsVp9k2s/dTBPU+uRaj9CHZJ5Vo1pPwQDS0fghWg/WHmV/al7Zz+Y3P6Z1G5mPzV6isyAX2U/gSGJ7s5NZD+qDjr63jljP0VPK4PQI2I/C/JPr8ILYT/ZGYVhqONfP8/HVYBGrF0/C357L5txWz/Fipzd4DNZP9L60OtQ81Y/0rzZpiOwVD9NWkpBkGpSP1JVls7MIlA/bqrnfRyySz+C0Au4EBtHP0lygozbgEI/Cr36y7/HOz8QEsCs/IgyP8JtV1VUjCI//Knx0k1iNTw=",
          "dtype": "f8"
         },
         "yaxis": "y9"
        },
        {
         "hovertemplate": "variable=pd_lifetime<br>risk_band=9<br>default_month=%{x}<br>value=%{y}<extra></extra>",
         "legendgroup": "pd_lifetime",
         "line": {
          "color": "#2CA02C",
          "dash": "solid"
         },
         "marker": {
          "symbol": "circle"
         },
         "mode": "lines",
         "name": "pd_lifetime",
         "showlegend": false,
         "type": "scattergl",
         "x": {
          "bdata": "AAECAwQFBgcICQoLDA0ODxAREhMUFRYXGBkaGxwdHh8gISIjJCUmJygpKissLS4vMDEyMzQ1Njc4OTo7PD0+P0BBQkNERUZHSElKS0xNTk9QUVJTVFVWV1hZWltcXV5fYGFiYw==",
          "dtype": "i1"
         },
         "xaxis": "x10",
         "y": {
          "bdata": "V89J7xtfiz/HuUnvG1+LPyyPzO4bX4s//Vvq2xtfiz8GCaEcG1+LPxOixUQXX4s/cyZwDApfiz/rZF0W516LP9ASLCCaXos/wJKa+gVeiz/5dUBjBF2LP23WW6hmW4s/qGNc5vZYiz/C8ieoeVWLP8dJW7evUIs/OZA581dKiz8wPNMPMUKLP6khFSn7N4s/aAD3HXkriz8/hqKucRyLP1oXQV2wCos/C1hqFAb2ij8MLD6YSd6KP2E8VshXw4o/DKAuuROlij/3W6CrZoOKP2KitOg/Xoo/EzyUh5Q1ij8A/LkiXwmKP65t6YCf2Yk/bM3GNVqmiT/NoFE9mG+JPz8B9JRmNYk/ZuZX1NX3iD/6KsLH+baIP9pqUA3pcog/M2oitrwriD+NUzDsj+GHP9Z8U51/lIc/1DLWK6pEhz/e+LYkL/KGP3N5q/sunYY/UPDVzMpFhj9pFwwkJOyFP5+rf8lckIU/4qWNk5YyhT+2lnE989KEPxOTlUKUcYQ/8E00vpoOhD+U4gFPJ6qDP3YakP5ZRIM/v08kLFLdgj+iMbd6LnWCP1ls2cEMDII/pF47AQqigT9Vd5lWQjeBP5Zw0vXQy4A/Ak7wItBfgD+/Z+FbsuZ/P5+kOeAIDX8/+VmJldIyfj9D7GlOPFh9P2r6g+9wfXw/QqSKc5miez9UZt3w3Md6P8NIl6Bg7Xk/TFbX5kcTeT/iLhNctDl4PyoQSdfFYHc/luDqeJqIdj/Qql+2TrF1P3SK/GX92nQ/sFRZy78FdD+DS+ijrTFzP+rsujPdXnI/1XRgUmONcT8B9cx3U71wPyj6c5J/3W8/1GbnS3JDbj9l7g1onqxsP/NljdkgGWs/adw/UhSJaT+s4GpbkfxnP5HWeW2uc2Y/xlAxB4DuZD/QOVPEGG1jP0s4rXOJ72E/tC6MLOF1YD8lBCLHWgBeP5Lvx/3zHFs/GPyJ06JBWD9LLPBOeW5VPym/G8uGo1I/KscjNrDBTz9vJYVX70xKP0ZEnknb6EQ/M/hTIAArPz8m8gZAy6U0P5zZsmVAhCQ//Knx0k1iVTw=",
          "dtype": "f8"
         },
         "yaxis": "y10"
        },
        {
         "hovertemplate": "variable=pd_lifetime<br>risk_band=8<br>default_month=%{x}<br>value=%{y}<extra></extra>",
         "legendgroup": "pd_lifetime",
         "line": {
          "color": "#2CA02C",
          "dash": "solid"
         },
         "marker": {
          "symbol": "circle"
         },
         "mode": "lines",
         "name": "pd_lifetime",
         "showlegend": false,
         "type": "scattergl",
         "x": {
          "bdata": "AAECAwQFBgcICQoLDA0ODxAREhMUFRYXGBkaGxwdHh8gISIjJCUmJygpKissLS4vMDEyMzQ1Njc4OTo7PD0+P0BBQkNERUZHSElKS0xNTk9QUVJTVFVWV1hZWltcXV5fYGFiYw==",
          "dtype": "i1"
         },
         "xaxis": "x11",
         "y": {
          "bdata": "mCGOdXEboT+UKYF1cRuhP724wVhxG6E/QZmI4G4boT8+eLkZXhuhPzmXws4eG6E/TFpEy3UaoT/NELv4DBmhP4YYSiJ5FqE/17sUqUISoT9bYO+67guhPzRiOnoHA6E/KX9RViL3oD/H+4Nm5OegP62cvu4E1aA/1cwAXU6+oD8jlgcanqOgP18/BoPjhKA/zwk/Vh5ioD+sTejNXDugPzDuxJa5EKA/tvUBh7PEnz8kumKn1WCfP/T9jrpB9p4/e+hOwmmFnj82ThWexg6eP0vBRHPVkp0/VzF3cxUSnT+IpHP7BY2cP6RvzAMlBJw//w9E2+13mz8NZtAi2OiaPyiqMwNXV5o/yV2ElNjDmT+5kIdwxS6ZP+tTYGmAmJg/ify+XmYBmD/h9GEszmmXP/FpWq0I0pY/0I0d0GA6lj/yaPW3G6OVP71s4eh4DJU/Iw5ne7J2lD8OBTZW/eGTP80d22uJTpM/UboI+4G8kj+zLz7QDSySPz0b0IdPnZE/r5aEz2UQkT9Izh+na4WQPxmIwT7x+I8/VaEXLkLrjj/a13Lr7OGNP1Y4acgO3Yw/FGGLBMDciz8SQKgzFOGKP/wCrJ4a6ok/JOUZn973iD9XiS/1ZwqIP5lizBi7IYc/rNlAhdk9hj9HzS8Awl6FP4UfsttwhIQ/Oo7vM+Cugz/8WmIoCN6CP12G/BDfEYI/icllr1lKgT8+NYlca4eAP1YgUWUMkn8/3a1UaDYefj90baveNLN8Pz8qXD7mUHs/U4s7kyf3eT81/Dq21KV4P9HxB4DIXHc/FRdO99wbdj+ulup66+J0P3VsWujMsXM/L3KpvlmIcj8gvyM+amZxP+f3BoXWS3A/ZqzaUu1wbj/YBFGhRVhsP2irfYhmTWo/c4R0CQFQaD9F4+m0xl9mP3NPGclpfGQ/Nj5GTJ2lYj8kzx0kFdtgP2ggd1QMOV4/6B0dfEzTWj+/Fq+oWIRXP/jq6QihS1Q/hPRaJ5goUT9h/Zj6ZTVMP10eugTSQkY/7Tcdcmh4QD8mjVPiRKo1P1XHJKH5XyU//Knx0k1iVTw=",
          "dtype": "f8"
         },
         "yaxis": "y11"
        },
        {
         "hovertemplate": "variable=pd_lifetime<br>risk_band=7<br>default_month=%{x}<br>value=%{y}<extra></extra>",
         "legendgroup": "pd_lifetime",
         "line": {
          "color": "#2CA02C",
          "dash": "solid"
         },
         "marker": {
          "symbol": "circle"
         },
         "mode": "lines",
         "name": "pd_lifetime",
         "showlegend": false,
         "type": "scattergl",
         "x": {
          "bdata": "AAECAwQFBgcICQoLDA0ODxAREhMUFRYXGBkaGxwdHh8gISIjJCUmJygpKissLS4vMDEyMzQ1Njc4OTo7PD0+P0BBQkNERUZHSElKS0xNTk9QUVJTVFVWV1hZWltcXV5fYGFiYw==",
          "dtype": "i1"
         },
         "xaxis": "x12",
         "y": {
          "bdata": "lyGOdXEbsT8tsH5tcRuxP4833ppqG7E/jjGRKhUbsT+uDq/wjxmxP6bPhddaFbE/n21IDKIMsT/AjP4Dmv2wP5LU40vE5rA/Ux3/mRPHsD/9Zye39J2wPzDlpb9Fa7A/4PB6IUQvsD8GUF6Z7tSvP+4LyXo3O68/BPBIoCCTrj/hi8Vejd6tP1BWnfdtH60/6iAr56xXrD8NxRdkIYmrP3owPCmGtao/Z7Sxq3PeqT+Bm472XAWpP0bjqYOOK6g/RicFhy5Spz+xYVE+PnqmP0CoNO6bpKU/gvM5SwXSpD+DKtkcGgOkP7ZAN/ZeOKM/eMWZ6j9yoj/9d4srE7GhP0fyyYQb9aA/b+2proo+oD+MwAXmBhufP1OkT0Y3xJ0/Lztivrt4nD9dkhpgljibP+UWMe24A5o/+cnrZAfamD8JoE1HWruXP7yc7pOAp5Y/pZafikGelT+TCswzXp+UP/DEQbaSqpM/F5Orf5e/kj8aE6lEIt6RP6FrB93mBZE/ZPg4AJg2kD+wsY7Lz9+OP2H5OpoRY40/9JBe31r2iz/QkmXAEpmKP3W5p7KiSok/p0oN/HYKiD+u6b0a/9eGPzE+NReusoU/2k60w/qZhD8p36vrX42DP3A3a3VcjII/iqgWeHOWgT8NCqlHLKuAP305FfEklH8/kNgquGvlfT9ZqWXuVEl8P5oqLegQv3o/gZjyH9hFeT+amCsL69x3P8ISJOqRg3Y/ms3Jkxw5dT+uT2s+4vxzP7eSP0ZBznI/9qhs8p6scT/aBSg5Z5dwP0Vj5gYZHG8/Dr7F4Q4gbT8phJg3rTlrP+WqSbz8Z2k/sEOmLhGqZz8utUbmCP9lP6f7EGQMZmQ/i9mT5U3eYj8T5Wv7CGdhP4AYrUUE/18/fnEYxQxOXT9R4OLV1blaPzrgTXMZQVg/U030gKDiVT/guWMfQp1TP1qfXAfjb1E/5KBA1+myTj+Iv1rC67FKPyJ6jJvf2kY/jbQzue8rQz9Dl4zjt0Y/P9qPRznxfjg/yFY3PFv9MT8ThCD51X0nP05A3VLkAhc//Knx0k1iZbw=",
          "dtype": "f8"
         },
         "yaxis": "y12"
        },
        {
         "hovertemplate": "variable=pd_lifetime<br>risk_band=6<br>default_month=%{x}<br>value=%{y}<extra></extra>",
         "legendgroup": "pd_lifetime",
         "line": {
          "color": "#2CA02C",
          "dash": "solid"
         },
         "marker": {
          "symbol": "circle"
         },
         "mode": "lines",
         "name": "pd_lifetime",
         "showlegend": false,
         "type": "scattergl",
         "x": {
          "bdata": "AAECAwQFBgcICQoLDA0ODxAREhMUFRYXGBkaGxwdHh8gISIjJCUmJygpKissLS4vMDEyMzQ1Njc4OTo7PD0+P0BBQkNERUZHSElKS0xNTk9QUVJTVFVWV1hZWltcXV5fYGFiYw==",
          "dtype": "i1"
         },
         "xaxis": "x5",
         "y": {
          "bdata": "YTJVMCqpuT/j0HgBJqm5P0QAVN/Lp7k/AhQYwCeeuT942dB1s4C5P+Ir4BPqRLk/RhKHILTkuD8ojq9z2V64PylcBVvttbc/YyvQxN/utj80EIlTvw+2P4FKqXvUHrU/vfTS+hAitD8HTqKPwB6zP57+/ttmGbI/KoE+A7oVsT9EgJIKrhawP48rNrwRPa4/lBkXk/NdrD+Wy9OEYpKqP86954Xu26g/sEwZr347pz8THeYYdLGlP/ixB3fHPaQ/zzv9zCHgoj8c2zm/8JehP2wAFBN3ZKA/NUKn27OJnj9OCqixVnCcPwkyiwTlepo/cbP4RGSnmD/fa+i82vOWPzBiQ+RWXpU/I6RAwfTkkz9CbuW64YWSP+XshjFfP5E/MVeQIcQPkD88dpoP/OqNPz1iaWci3os/ioOzVjH2iT+FBNR6izCIP4mXga++ioY/lXygaIIChT8HII7UtZWDP7orgdxdQoI/NSugE6MGgT8U++9Cn8F/P0/To2Kann0/iELP2kWhez8b0/IV58Z5P/4le9X2DHg/y8zVnx1xdj8HiWBeMPF0P3GYaCwti3M/QQVaVzg9cj+G/2+PmQVxP/hwQI9yxW8/jEYghjymbT/MnjSc1qprP94zeEG60Gk/+itV0JAVaD+vyYfqL3dmP0/IKBuW82Q/oQtkueeIYz9G1YIHbDViP1sMHIqK92A/fdvcJpGbXz+gmTr+jW1dP0dwfjWAYls/oOLJbwt4WT+Jf+vI/qtXP0Pn5oxR/FU/MuTXMCBnVD/n8h6IqepSP1B6IzFMhVE/dcNQNYQ1UD8CsYyw0fNNPy/CBSVVoks/2a4zaCJ0ST/3iZFY9GZHP6B4AOateEU/CGRfI1enQz8w8bORGvFBP81AVaBCVEA/sJvMu26ePT9SuIes+MA6Px2JsjNdDTg/6DUx1gWBNT8nySseiBkzP+goBn2i1DA/mq4N0nJgLT/M0QRkqVQpP1ejgxE6giU/MAtkarPlIT/aUfLeufccP96bzUlmgxY/LRj528doED9pUbyzLEUFP/w18gl9r/Q+/Knx0k1ilTw=",
          "dtype": "f8"
         },
         "yaxis": "y5"
        },
        {
         "hovertemplate": "variable=pd_lifetime<br>risk_band=5<br>default_month=%{x}<br>value=%{y}<extra></extra>",
         "legendgroup": "pd_lifetime",
         "line": {
          "color": "#2CA02C",
          "dash": "solid"
         },
         "marker": {
          "symbol": "circle"
         },
         "mode": "lines",
         "name": "pd_lifetime",
         "showlegend": false,
         "type": "scattergl",
         "x": {
          "bdata": "AAECAwQFBgcICQoLDA0ODxAREhMUFRYXGBkaGxwdHh8gISIjJCUmJygpKissLS4vMDEyMzQ1Njc4OTo7PD0+P0BBQkNERUZHSElKS0xNTk9QUVJTVFVWV1hZWltcXV5fYGFiYw==",
          "dtype": "i1"
         },
         "xaxis": "x6",
         "y": {
          "bdata": "lyGOdXEbwT8Pq2jP8hrBP+1QkANRC8E/ft1TwNjLwD9PeRmhz0nAP7vlIW1oEL8/utg9XK8svT9vHknFZw27P4h91Eba07g//ILNPf2Ztj9e754GKnK0Pwip5RQ3aLI/oxMD7u+CsD+roeay7YqtP/stP+zPYKo/fa0rX3CFpz9rsyOJsPSkPzeHdrxPqaI/gWbPpYidoD8HazZL85adPyNlHnvOWpo/8OJtC8h7lz9HQ5INze+UP2t88++lrZI/KmcnNPqskD/0IMt/lMyNP3YcqJ/GpYo/7ZnRh6DZhz+5/J8jkl2FP1vxlwxEKIM/AjohHHcxgT8IQ6bIy+N+P3nU+AJRxns/HclN5TX/eD9gw1D4i4R2PxQEbvmUTXQ/MkAnHJ5Scj9Bse6E34xwPyFjzDO/7G0/Gh5IjLMTaz8EAmqgUIVoPxlMrNVhOWY/U+F2XKcoZD9W4t9fuExiPzDKBO7on2A/3ALtRWY6Xj9YDYtbRoBbP3lYSqeLCVk/t2SlQDLPVj+wIuj5/cpUP4cHFN9i91I/8n3cmXBPUT+DSwW5gJ1PPwmj7QLK4kw/sq1+MLpnSj/zmsZCDSZIP6jrS4YoGEY/Ir7Djwc5RD8wPtZ5K4RCP96bVxyM9UA/u58f/RUTPz8O0VOcz3k8PymYqlZsGTo/cLFXQansNz84/FtFye41P8uFae6GGzQ/tARh0gdvMj8+Wfxg0eUwP/XDduJ9+S4/rdTHzvFhLD98SOql2f8pP6RJ08+Mzic/Tw84dNLJJT9e81VJ1u0jPzrkwJMeNyI/66fjNIOiID/UQ9tTS1oePwcs8sDTqBs/M5Sokt8rGT/PQyopG98WP27rDQmVvhQ/rto/jrTGEj/USA+PMfQQPx94cKsZiA4/y2JPsxJnCz+wz4ZITIAIP9H8e54xzwU/MxH4GJFPAz/m+6BSk/0AP6w7jgFmq/0+JdPdO2up+T4I5teNSe/1PiPcGHGQd/I+/mj7doF67j6wLjl/hXfoPiXgWK+63eI+CEw0D7dK2z7olxUcgY7RPsF6jINL88A+fT81XroJkLw=",
          "dtype": "f8"
         },
         "yaxis": "y6"
        },
        {
         "hovertemplate": "variable=pd_lifetime<br>risk_band=4<br>default_month=%{x}<br>value=%{y}<extra></extra>",
         "legendgroup": "pd_lifetime",
         "line": {
          "color": "#2CA02C",
          "dash": "solid"
         },
         "marker": {
          "symbol": "circle"
         },
         "mode": "lines",
         "name": "pd_lifetime",
         "showlegend": false,
         "type": "scattergl",
         "x": {
          "bdata": "AAECAwQFBgcICQoLDA0ODxAREhMUFRYXGBkaGxwdHh8gISIjJCUmJygpKissLS4vMDEyMzQ1Njc4OTo7PD0+P0BBQkNERUZHSElKS0xNTk9QUVJTVFVWV1hZWltcXV5fYGFiYw==",
          "dtype": "i1"
         },
         "xaxis": "x7",
         "y": {
          "bdata": "/Knx0k1ixT9IgUMyO1TFP4qZpqBuqsQ/TyeT7twhwz9KH/WcfgbBP3m4RRbncr0/sukQM2z8uD+cDseClPC0P/Y1zyh4arE/zKgjFyfYrD+Vv+Sc8NWnP2W+faqEr6M/W6NEZS5EoD9BzvbBX+qaP9baGz67TpY/F+TYIBCHkj9ezeyIQdmOP/wUoiP4vok/AYj+7AWLhT9TuFBS5xKCP+eDwLQ2aH4/jF9WLVOleT9BRd2+y691P31tyEfYYnI/xKYAgTJBbz/XYtd/gqFqP6rNYmUCv2Y/EETpkFV5Yz/6bMU2/bVgPx7fqMl1vlw/txNddlbGWD9vdsklG2ZVP2bmXhdfhVI/9651mOoPUD85z9Xf4ulLP+wbRiTsTEg/2qwMsJQxRT/bZ/HcT4RCPyZlt8C3NEA/+oreLQZqPD+WP8E2KPM4PxuE4Tc38TU/WMTp7phTMz84GHT5OAwxP/UvtNFAHi4/5HTXZT6kKj9ckXqQCJknP4ed4mfD7SQ/fyI8S7WVIj/RFMRU84UgP6tqOq02ah0/nXuTIzI2Gj+VKiqC6WEXPwOmNtBS4RQ/jGniOQOqEj/YSqV487IQPxPtqpya6A0/MnzvOoHOCj+9XwjRvQsIP9ttkWv4lQU/TNrWAClkAz82GecEam4BP5yhMQSjW/8+1d4Lcp84/D4+4cDmJGn5PtkrSa3Y4/Y+F7VvP3+g9D4fQeaP15fyPlbMZ097w/A+BgUN7IY77j7DV8fqYEPrPmBToh+rleg+1STkx40q5j78Y/iZE/vjPlyvbYsOAeI+BhVXEAA34D4X/SC4CDDdPlgJ6niAP9o+uA4ybqKU1z4tJvQ4fyjVPlJUPJ/k9NI+RlpGE0j00D4X0cuhZ0POPgBgrXls8co+z1fNeabqxz7B0leT7ifFPqpBoAXYosI+ogVtLJxVwD5AddNBEXa8PuWgzMnenLg+8Me+sjEXtT55OX6Sbt2xPlpEEGFv0a0+AMAKsLJlqD7ZDq6ocGyjPug7q14Jt50+WLm+S4BTlT5kO4RrRjuLPq5HUAZ1GXo+/Knx0k1ihbw=",
          "dtype": "f8"
         },
         "yaxis": "y7"
        },
        {
         "hovertemplate": "variable=pd_lifetime<br>risk_band=3<br>default_month=%{x}<br>value=%{y}<extra></extra>",
         "legendgroup": "pd_lifetime",
         "line": {
          "color": "#2CA02C",
          "dash": "solid"
         },
         "marker": {
          "symbol": "circle"
         },
         "mode": "lines",
         "name": "pd_lifetime",
         "showlegend": false,
         "type": "scattergl",
         "x": {
          "bdata": "AAECAwQFBgcICQoLDA0ODxAREhMUFRYXGBkaGxwdHh8gISIjJCUmJygpKissLS4vMDEyMzQ1Njc4OTo7PD0+P0BBQkNERUZHSElKS0xNTk9QUVJTVFVWV1hZWltcXV5fYGFiYw==",
          "dtype": "i1"
         },
         "xaxis": "x8",
         "y": {
          "bdata": "/Knx0k1i1T8wN2WjZ8LUPw8dHT6u4dE/yXW47J0vzD/YM1I6WzTFP+H4a6FPOb8/lrbcTafNtj/Wd3Sc4qOwP8nB9e/TXKg/28d6hQbuoT/cbWiJ74+aP05WNyRU0JM/Pf5xu+/FjT+XiFYr0IeGP5CyqZOQK4E/v6Pcf4RZej9CDI/QGVp0P/xsn9hlo28/nI7icra9aD9U2r6YsnVjP6uUAqkEyF4/SsHzyUR5WD8v84V2lY5TP+VaDfQnaE8/zxKfMK9VST/Yexm00YZEPxQ+C+WBs0A/E1p3B4BJOz+o+B6kq2A2P2lcLlRjazI/+mI/ZUduLj8zbpU6HzkpP252N3aq+SQ/3vVld25/IT+XPJaRP0gdPweM5se7khg/3J+ASO6tFD+MZPGuJnMRP1JL9Amwhg0/lsdxFP8KCT9Mv/C7y0oFP5pVoR1LJQI/bctSuZz//j7H73ZXG4n6Pq7PHJFnw/Y+AHTrijeR8z6kqLl7bNrwPkyzZCs2Fu0+TJP5vYkl6T6eu66YcMflPt+f4VAf5eI+CBQME5Fr4D4AKOmqu5XcPsmuyhtg69g+WFEPhafB1T7laPghtAXTPhDoH4map9A+a3yGcckzzT6/P7MBVqLJPgDgIod9h8Y+eQmXmMfSwz5QTXA4K3bBPtW46Ctay74+6HsH/xsuuz78qZtlDQO4PlxP33gdO7U+tMi6BlnJsj4v3XvmmaKwPuNlBP2Feq0+9D01wQ0iqj64XgeBbi2nPiOb7ag3kKQ+4fru3J4/oj6281KhRDKgPnuUQKUDwJw+rscxGXmDmT6yHT+yhqKWPpqZRGFbEpQ+Ujgh+YHJkT7o+1G5ZX+PPgrXFGBY24s+jZcjLh+aiD7+1CxfibCFPg4teC+/FIM+QmDc1BW+gD59P/PN0kl9Pq5HP733hHk+ObQ267Ahdj5eupmTdRVzPgrXv33yVnA+mpmFsMi7az4QWIXT7UVnPtV4EeFQP2M+UI1vf8I4Xz7hepwDq6VYPpqZcTQKs1I+6PuJLRuhSj5aZNvWTN9APgrX49RXDTA+/Knx0k1ilTw=",
          "dtype": "f8"
         },
         "yaxis": "y8"
        },
        {
         "hovertemplate": "variable=pd_lifetime<br>risk_band=2<br>default_month=%{x}<br>value=%{y}<extra></extra>",
         "legendgroup": "pd_lifetime",
         "line": {
          "color": "#2CA02C",
          "dash": "solid"
         },
         "marker": {
          "symbol": "circle"
         },
         "mode": "lines",
         "name": "pd_lifetime",
         "showlegend": false,
         "type": "scattergl",
         "x": {
          "bdata": "AAECAwQFBgcICQoLDA0ODxAREhMUFRYXGBkaGxwdHh8gISIjJCUmJygpKissLS4vMDEyMzQ1Njc4OTo7PD0+P0BBQkNERUZHSElKS0xNTk9QUVJTVFVWV1hZWltcXV5fYGFiYw==",
          "dtype": "i1"
         },
         "xaxis": "x",
         "y": {
          "bdata": "x7q4jQbw3T+pA2z/LgXZPyBBQH1kXtA/trGplU3Ewz8PjwicKYG3Px8aXtYeLKw/NQqZBPApoT/6hmjjl1GVP+hOgz4pAIs/zMQxtFVsgT/6vOHUc+N2PyDLlePukW4/m5dufSW7ZD+qbJUiYYVcPx0lvXlJ4VM/D+ACslIOTD9WXp0oLwZEP7j4BD914zw/qeipcscLNT/2TsjbW/MuPxk1NuPt9CY/xkoltbwqIT+ea5IhVt8ZPzEpb2FAoxM/sERZ3tkDDj/6SDwJLxYHP0AdeH3R3QE/VEPdXm/Q+z4AeNDTHcX1PqqV5EP6IPE+ZEsQMNcW6z5/cm6R64XlPp5vFl/ALeE+qPZ/v8GK2z4t4qH9sivWPvJiQMoS69E+ToLphewSzT5SOIcCnKzHPoVroAh2WMM+XE8uR1y5vz7Hi3b6uRi6PitHMA/wiLU+Vg7y1RHTsT6wcmiBzJetPtcj6w6Ooqg+OTSoJz2QpD4vXZrtujWhPnsURy8p4Zw+7nwlUFlKmD59P4IWmnqUPoPAV0MTTpE+f2rowoJPjT6DwMaoLOCIPocW50LIJ4U+x0sTCwMHgj4ZBBrdbsh+PvLS+VmuVHo+6iZp9BqQdj7l0EZJGl5zPgAAkDYDp3A+dZNooG6ubD4v3Qz20LxoPi2yLaoDXmU+7FHAy1l7Yj7TTSob2wFgPqjGKxZBw1s+bxLTw5waWD7hekSyTPNUPjEI/GxaOlI+TDfJFYG/Tz7NzOwB36tLPne+X0vPIkg+yXZ+G8kQRT4zM1NdLWVCPjMzc3bREUA+7FH44ToVPD5I4XoudIo4PqwcmsmYcTU+O9+P7He7Mj4GgZVCBVswPubQIqQOiiw+AACAkKXfKD7jpRuBIKYlPt0khi0WzyI+AisHRg9OID5SuB58fzAcPoPAyrmUSBg+yXa+5xrUFD6/nxpd7sQRPkjhehqAHQ4+TDeJl6tNCT628/2ApgcFPkw3iWsWOwE+9ihc/1uz+z3hehRKz631PTm0yGaTT/A9bxKD+MsK5z3Jdr4fc/ncPTeJQSC+XMs9/Knx0k1ilTw=",
          "dtype": "f8"
         },
         "yaxis": "y"
        },
        {
         "hovertemplate": "variable=pd_lifetime<br>risk_band=1<br>default_month=%{x}<br>value=%{y}<extra></extra>",
         "legendgroup": "pd_lifetime",
         "line": {
          "color": "#2CA02C",
          "dash": "solid"
         },
         "marker": {
          "symbol": "circle"
         },
         "mode": "lines",
         "name": "pd_lifetime",
         "showlegend": false,
         "type": "scattergl",
         "x": {
          "bdata": "AAECAwQFBgcICQoLDA0ODxAREhMUFRYXGBkaGxwdHh8gISIjJCUmJygpKissLS4vMDEyMzQ1Njc4OTo7PD0+P0BBQkNERUZHSElKS0xNTk9QUVJTVFVWV1hZWltcXV5fYGFiYw==",
          "dtype": "i1"
         },
         "xaxis": "x2",
         "y": {
          "bdata": "yuU/pN8+4z9Q1frta8vUPxPp/5KOz8E/MwAHM/2krj8a3B4yoKSbP/t6ktKqSIo/ktPJhJBAej8Yo6wchWZrPxhUR6PZu10/9RLfZ4GyUD+Yigr4alVDP7l6m/vGADc/lEfjoScLLD/ancV7PHkhP2sipstTNhY/IdzJ+VPADD9CHtYk/eoCP/Zc8DK0Rvk+0Y67lqAf8T5tlxadwYDnPlxHZvn+UuA+L521Qkzu1j4VLux0OUbQPotMMWmPU8c+6qbMH+TewD5g5ZJHHZ24PgDAHDzlGbI+phvei9rTqj5WjqY9QwakPpZD3zggGZ4+wcrRxVfElj6BlcIj8lORPm8SmQUWiIo+d75dcPZshD45tOQJKJ5/PqrxGpSemHg+fT91myo6cz4zM1OvZDNuPpqZSWQf02c+hxaxnhngYj4X2W4iGghePuxRuC9E/Fc+nu8XJLY6Uz4VrmfXEfJOPsP1qKjt/Eg+pHDdh/Q+RD7P9/NEH3VAPn0/9Wwu1zo+jZfuXDT0NT6amVkKiAIyPpLtfOEIoi0+tvN9CBlyKD7sUbhuWjgkPlYOrQOcxCA+BFYOozPhGz556SbgrzsXPsUgsDDzZxM+Ctej+O0+ED78qfEAcEILPtejcAH76gY+sHJob4ZOAz4IrBx62ksAPjEIrNTpj/s9UI2XyqJZ9z3RItsB49DzPajGS0Mv2PA9EVg5FKOu7D0MAit/t3ToPdejcNW54eQ9w/UoRHra4T2DwMpB4pDePe58PyXSMdo9w/Uo/KN41j0pXI+yYkvTPfp+asxflNA9QDVeOuuCzD3b+X4q24bIPYts5zv9GsU9O99PDc8pwj1pke08W0K/PTVeukmP47o9fT813k8dtz228/1UqtmzPV66SQz+BbE9I9v5fu0krT228/3ULeOoPVYOLTLPL6U9sp3vpyX3oT0K16Nw41CePeF6FK6qapk9bxKDwPwilT3dJAaBt2SRPcUgsHJKO4w97nw/NU58hj1aZDvfaXGBPTeJQWDJBno9Rrbz/WQ8cj1WDi2yzcFmPScxCKycV1U9/Knx0k1itTw=",
          "dtype": "f8"
         },
         "yaxis": "y2"
        },
        {
         "hovertemplate": "variable=p_12m_forward<br>risk_band=10<br>default_month=%{x}<br>value=%{y}<extra></extra>",
         "legendgroup": "p_12m_forward",
         "line": {
          "color": "#D62728",
          "dash": "solid"
         },
         "marker": {
          "symbol": "circle"
         },
         "mode": "lines",
         "name": "p_12m_forward",
         "showlegend": true,
         "type": "scattergl",
         "x": {
          "bdata": "AAECAwQFBgcICQoLDA0ODxAREhMUFRYXGBkaGxwdHh8gISIjJCUmJygpKissLS4vMDEyMzQ1Njc4OTo7PD0+P0BBQkNERUZHSElKS0xNTk9QUVJTVFVWV1hZWltcXV5fYGFiYw==",
          "dtype": "i1"
         },
         "xaxis": "x9",
         "y": {
          "bdata": "LdOhoClboD6Irs4hvWSsPraaA0RLWrc+zQdKn4NZwj74e0Lu6rrLPiXo9UIkQdQ+Pxb43Ay53D70OikMmdbjPnDSZkfkxOo+ixunBBKv8T4SLQFgF+z2PpBgnIs9M/0+SoutWjJOAj/nRBwpgJ4GP0Zqn8zRkws/LIqlWuuaED/ML9mwRMUTP5vY3lQRSxc/kKxTtowtGz+kIM9cFm0fP0FIT5+dBCI/0REENGGAJD9q6xgK3ignPz6EsjjJ/Ck/t3O3so36LD+yN4ewKhAwPy689RwJtjE/yDkQk8NtMz/FIAhIKDY1Pxivl0D2DTc/Dad2HeHzOD/HpESflOY6P1A0Z9635Dw/cSGQNfDsPj+VgLDv8X5AP8EHfiQei0E//McrDlSaQj+q/PKC7qtDPxhw05xMv0Q/qOgCXtLTRT+cUIs56ehGP8AhZYIA/kc/ym9Vw40SST9nqMcBDSZKPzgmxe0AOEs/LfgRAfNHTD8hVFiPc1VNP5ZXLMkZYE4/sfyQs4NnTz+XJsMKqzVQPwI9hC6etVA/BQVkPnQzUT8Mj+JhCa9RP0OJ7dc8KFI/wFgX3vCeUj+/5iuWChNTP+vAg+pxhFM/6T5rcRHzUz/1T+lP1l5UPxNZKBywx1Q/cB+7v5AtVT8SEPBZbJBVP3hDXiI58FU/KlXRS+9MVj8YgbPniKZWP3JnEMoB/VY/d09GbldQVz8yuHfciKBXPx1wy4+W7Vc/mECGXYI3WD8AbgZdT35YPwvZptABwlg/eWiND58CWT9fhGZwLUBZP+/ODTW0elk/3eIidzuyWT+9r4cVzOZZPzULxaJvGFo/3TVRVDBHWj/gXrPyGHNaPxeffso0nFo/x20eno/CWj8RNW6YNeZaP2ZlFUAzB1s/1jSha5UlWz9ZFVU2aUFbPxzaqvW7Wls/Cn57L5txWz/Eipzd4DNZP9H60OtQ81Y/0LzZpiOwVD9NWkpBkGpSP1FVls7MIlA/cKrnfRyySz+A0Au4EBtHP0VygozbgEI/+Lz6y7/HOz/5EcCs/IgyP5ltV1VUjCI/AAAAAAAA+H8=",
          "dtype": "f8"
         },
         "yaxis": "y9"
        },
        {
         "hovertemplate": "variable=p_12m_forward<br>risk_band=9<br>default_month=%{x}<br>value=%{y}<extra></extra>",
         "legendgroup": "p_12m_forward",
         "line": {
          "color": "#D62728",
          "dash": "solid"
         },
         "marker": {
          "symbol": "circle"
         },
         "mode": "lines",
         "name": "p_12m_forward",
         "showlegend": false,
         "type": "scattergl",
         "x": {
          "bdata": "AAECAwQFBgcICQoLDA0ODxAREhMUFRYXGBkaGxwdHh8gISIjJCUmJygpKissLS4vMDEyMzQ1Njc4OTo7PD0+P0BBQkNERUZHSElKS0xNTk9QUVJTVFVWV1hZWltcXV5fYGFiYw==",
          "dtype": "i1"
         },
         "xaxis": "x10",
         "y": {
          "bdata": "1L6utSOU6D4OC45DjkTzPi3KiuJu2Pw+QMXLsOjDBD+Q1czNDOoMPwc1QNgNjhM/GwWTPHfIGT8zq7fuWZ0gP5Ddvrpw+iQ/Da0OjPn/KT9Fe5LAsq4vP5xBswDcATM/V3O4pWV8Nj9W2fKQX0I6P63s1NT5TT4/T0JVujZMQT/0ApTRHo1DP6o/u4K65UU/0S8Dg+5RSD8XVw4Vl81KP7Vh0YScVE0/WxonAQTjTz+PCOCDfjpRPzCMLth1g1I/165hGLjKUz9UQ4D7tQ5VP18sCVsCTlY//0nw3VKHVz8XGRjwf7lYP+Ch7ymE41k/2uiGR3sEWz8mSyzKoBtcP/+soltOKF0/IQRSBvopXj8iooRSNCBfPyBf6ypTBWA/BXG434d0YD/iw7l0ot1gP36JDXuWQGE/V4zH/l+dYT/tHP+nAvRhP2g0SOeIRGI/sUZqLgOPYj9OgMo1h9NiPynstE4vEmM/g191whlLYz9ciwM+aH5jPxAD40k/rGM/0oO+zcXUYz/OsTOfJPhjPwd1OBuGFmQ/d/Z7yRUwZD/j+SEJAEVkP+IfN8ZxVWQ/+s0+N5hhZD+Sfz+ioGlkPwSityi4bWQ/3XbrmQtuZD/feQNLx2pkP1c0evQWZGQ/lQpglCVaZD+EQQNVHU1kPwUbkncnPWQ/3V5UQmwqZD+r4iDyEhVkP2KXuq5B/WM/x0XHgR3jYz9jbxhQysZjP2O6BNVqqGM/xeSVnyCIYz/3dFQRDGZjP1k+f15MQmM/nFiBj/8cYz83XX2DQvZiP4qhyPMwzmI/97o0eOWkYj/w5wiMeXpiP2ECkJMFT2I/y2gi4qAiYj9G2JXAYfVhP2WG/3Ndx2E/pOq2RKiYYT9Ul4mFVWlhP4dFEpt3OWE/xtEmAyAJYT+PW1JcX9hgP7IKUm1Fp2A/qi6MLOF1YD8PBCLHWgBeP3jvx/3zHFs//fuJ06JBWD8rLPBOeW5VPwy/G8uGo1I/7cYjNrDBTz80JYVX70xKPwBEnknb6EQ/rPdTIAArPz+y8QZAy6U0P9zYsmVAhCQ/AAAAAAAA+H8=",
          "dtype": "f8"
         },
         "yaxis": "y10"
        },
        {
         "hovertemplate": "variable=p_12m_forward<br>risk_band=8<br>default_month=%{x}<br>value=%{y}<extra></extra>",
         "legendgroup": "p_12m_forward",
         "line": {
          "color": "#D62728",
          "dash": "solid"
         },
         "marker": {
          "symbol": "circle"
         },
         "mode": "lines",
         "name": "p_12m_forward",
         "showlegend": false,
         "type": "scattergl",
         "x": {
          "bdata": "AAECAwQFBgcICQoLDA0ODxAREhMUFRYXGBkaGxwdHh8gISIjJCUmJygpKissLS4vMDEyMzQ1Njc4OTo7PD0+P0BBQkNERUZHSElKS0xNTk9QUVJTVFVWV1hZWltcXV5fYGFiYw==",
          "dtype": "i1"
         },
         "xaxis": "x11",
         "y": {
          "bdata": "cjdRno8nMj/U5pZ+h8Y5P/oDx4Aam0E/Bhvz4SBIRz+Vhnjs/+9NPzv7indpx1I/qA+qoO4KVz8lZFhaBbZbP1qlUrj4W2A/yQ88WY7+Yj+XNOBzPrhlP50zLs9pfmg/uq6gUtdGaz+7SpV3EQhuPzfg4ajRXHA/TaEpGh2qcT/8Hm7i2OhyP208AAmIFnQ/eg7oRDsxdT8p1QDkhTd2P97IWKlwKHc/r1/2yWsDeD+ppWzbQMh4PyGoukQFd3k/ya8/jg0Qej9SZc3G4ZN6P2hdqRczA3s/G45mjdJeez9Y7vgNqad7P5gLrGuw3ns/cAd0f+0EfD/7g2kyaxt8P24xYl02I3w/4Y3uZVodfD8WhCWB3gp8P73iQIbD7Hs/ZZfpPALEez9lmggVipF7P5WX5jdAVns/mfRG5P4Sez8U9O8Ilch6P0hCsxLGd3o/Y3aF5Ekhej8SlIfxzMV5PzpxFHLwZXk//R7vrUoCeT8hrJlWZ5t4P8Cnp+3HMXg/ZqeQM+TFdz+Snh+cKlh3PybRHsYA6XY/NSZQ9MN4dj+8+SCGyQd2P/Nj2W5flnU/Fy9LqswkdT+pFT6uUbN0P6HlBtgoQnQ/Zxzf1YbRcz83pbMLm2FzP+6aPPOP8nI/AChGd4uEcj9WniRKrxdyPzlNXDcZrHE/XgWRcONBcT9KH9rVJNlwP0KgnjnxcXA/4CAioFkMcD+6Vt312FBvP+VQlMBrjG4/V6/OfX/LbT8U1gUcJA5tPxmpOvRlVGw/OJICHU6eaz8nFYy34utqPy6U9jYnPWo/9O9VohySaT8vXrfRwepoP7VIeaYTR2g/aVVEPw2nZz/g8u8nqApnP1f6mIXccWY/MjItP6HcZT+Gxaoi7EplP90jTweyvGQ/fDbt7OYxZD+dcZ8YfqpjP/YCBy9qJmM/Iz5GTJ2lYj8Vzx0kFdtgP0Ygd1QMOV4/xx0dfEzTWj+UFq+oWIRXP8Xq6QihS1Q/SfRaJ5goUT/7/Jj6ZTVMP/YdugTSQkY/mzcdcmh4QD+ljFPiRKo1P5fGJKH5XyU/AAAAAAAA+H8=",
          "dtype": "f8"
         },
         "yaxis": "y11"
        },
        {
         "hovertemplate": "variable=p_12m_forward<br>risk_band=7<br>default_month=%{x}<br>value=%{y}<extra></extra>",
         "legendgroup": "p_12m_forward",
         "line": {
          "color": "#D62728",
          "dash": "solid"
         },
         "marker": {
          "symbol": "circle"
         },
         "mode": "lines",
         "name": "p_12m_forward",
         "showlegend": false,
         "type": "scattergl",
         "x": {
          "bdata": "AAECAwQFBgcICQoLDA0ODxAREhMUFRYXGBkaGxwdHh8gISIjJCUmJygpKissLS4vMDEyMzQ1Njc4OTo7PD0+P0BBQkNERUZHSElKS0xNTk9QUVJTVFVWV1hZWltcXV5fYGFiYw==",
          "dtype": "i1"
         },
         "xaxis": "x12",
         "y": {
          "bdata": "4BZmgqqFbT+WgvgMog9zP3YZm9ft3Hc/wZjLpk0YfT/oRWIKSlKBP+sjud0eLYQ/U+mWxVwGhz/RUZWPSsiJP6TiLboJYIw//RgyIc6+jj/xaIDvGG2QPzbOQ/f5VZE/9XThd7MYkj+r3Bm2YLWSP13HKBk3LZM/A/kdqjaCkz+8wtiD5raTPzQrzAIezpM/5rYi+dnKkz8cmhhxHLCTP2Z85EjVgJM/740P+tE/kz92dhcHs++SPzYiBMHlkpI/XROoT6Erkj8FMYgc5ruRP5w5OO9+RZE/Cx2IMQPKkD/7tGTy2UqQP1vJ/7B6ko8/jegnlXyMjj/KypVGkIWNPzk/pKZIf4w/iI9Qu/t6iz/dWrlCyXmKP11xkNKgfIk/joVSfEeEiD8Ac6b0XJGHP2A0J0BgpIY/8gJ56rO9hT84rTXOod2EP/p/NXVeBIQ/muIxGQwygz9tK9pMvWaCP6JLTlV3ooE/SNeiOzTlgD/+Rqad5C6AP5U/R4ni/n4/ZZC2EHmtfT81T8sHR2l8Pza5YEP+MXs/S0mSBkoHej9CfGWS0Oh4P01IIn001nc/0Pwn2BXPdj/MOlAqE9N1P6lpRkTK4XQ/KtCe89j6cz+3buyY3R1zPzXclqR3SnI/L6jA/UeAcT9TDipW8b5wP+cHom0YBnA/M/OPjsiqbj+jzjKl/FhtP2qqEBQlFmw/be0+EZ/haj8WfBAwzbppP+0pN3AXoWg/s8H/QeuTZz9YumqBu5JmP0eZqGkAnWU/TBlNgjeyZD+om16H49FjP0lzP02M+2I/gZdLob4uYj9gp+YnDGthP1pbmzgLsGA/Nzesca36Xz/UCmDrG6VeP2O6W/qoXl0/7tiN7qMmXD9cpPT9Y/xaP5E0W/dH31k/u5sK9rXOWD+vz74WG8pXPwgMIC7r0FY/Y030gKDiVT/buWMfQp1TP1efXAfjb1E/yaBA1+myTj+Jv1rC67FKP0l6jJvf2kY/yrQzue8rQz/Ol4zjt0Y/PzuQRznxfjg/a1c3PFv9MT97hSD51X0nP69D3VLkAhc/AAAAAAAA+H8=",
          "dtype": "f8"
         },
         "yaxis": "y12"
        },
        {
         "hovertemplate": "variable=p_12m_forward<br>risk_band=6<br>default_month=%{x}<br>value=%{y}<extra></extra>",
         "legendgroup": "p_12m_forward",
         "line": {
          "color": "#D62728",
          "dash": "solid"
         },
         "marker": {
          "symbol": "circle"
         },
         "mode": "lines",
         "name": "p_12m_forward",
         "showlegend": false,
         "type": "scattergl",
         "x": {
          "bdata": "AAECAwQFBgcICQoLDA0ODxAREhMUFRYXGBkaGxwdHh8gISIjJCUmJygpKissLS4vMDEyMzQ1Njc4OTo7PD0+P0BBQkNERUZHSElKS0xNTk9QUVJTVFVWV1hZWltcXV5fYGFiYw==",
          "dtype": "i1"
         },
         "xaxis": "x5",
         "y": {
          "bdata": "kPYI1mQclj9qC1rHlSmaP5UGVA2UOZ4/sCWzedsQoT9msnzWCtSiPzQsimvCTKQ/+Qr3rXRrpT+5UItiUCumP4T6IjDsj6Y/FQqH2kCipj9VAyyOCm6mPwnjSoDh/6U/rK2oKABkpT/1wApgkKWkP9L86aRWzqM/PGGpGJrmoj9k+1C8MPWhP42S8Dmf/6A/3b+acEEKoD9SK79M6jCeP3EZjCeGWZw/QvXxnAiSmj/ny+Z2Bt2YPxB3iLwvPJc/cCBqeH+wlT8ge6Z2YzqUP8JPc/Lc2ZI/eIBNMJuOkT8UCD70EFiQP5TMlFkLa44/WepQIUZMjD+7t0Kl/1GKP6mYBexPeog/Gh3hbkbDhj8A31LU8yqFPyXwuzFxr4M/HQ25VeVOgj+tDKGEiAeBP2WeV/lNr38/OzqRDUV7fT/6f0eX5m97P5+WmjJQink/7vPmeczHdz+XQKwZ0iV2PwkfYnEConQ/JDMw5Cc6cz+nq9X0M+xxP1q550E9tnA/CFlJ5fosbz9a3F1BnhZtP6eDzY9XJms/zo1HhlNZaT+WPD619KxnP1Iktc7PHmY/oJxFG6isZD8gssIfbFRjP744gXQyFGI/OFU7zjbqYD9Pvn1vrqlfP96ACfYipV0/JHTSbwHEWz8aofBMtgNaP9oWLgXgYVg/oFR3PUvcVj/QUr8273BVP2M4tYHqHVQ/zATD8n/hUj8u1fHRE7pRP1I0fkIpplA/5WE0vL9ITz93DiMA42ZNP16OeHlgpEs/+HrJAwn/ST8mCvq51nRIP36wbcjpA0c/YuyIf4WqRT87zXahDWdEP8SuguYDOEM/CESwswUcQj+SVpD/yRFBPwuRn2EfGEA/4sSMkdRbPj+JUKurRqQ8P7UcN66rBzs/G1jOxDyEOT+LLxAWUxg4P+lmE2NlwjY/4zEx1gWBNT9/xCseiBkzP+MjBn2i1DA/ZaQN0nJgLT+SxwRkqVQpP+aYgxE6giU/zwBkarPlIT+bOvLeufccPxGGzUlmgxY/9gL528doED9MKryzLEUFP2rq8Ql9r/Q+AAAAAAAA+H8=",
          "dtype": "f8"
         },
         "yaxis": "y5"
        },
        {
         "hovertemplate": "variable=p_12m_forward<br>risk_band=5<br>default_month=%{x}<br>value=%{y}<extra></extra>",
         "legendgroup": "p_12m_forward",
         "line": {
          "color": "#D62728",
          "dash": "solid"
         },
         "marker": {
          "symbol": "circle"
         },
         "mode": "lines",
         "name": "p_12m_forward",
         "showlegend": false,
         "type": "scattergl",
         "x": {
          "bdata": "AAECAwQFBgcICQoLDA0ODxAREhMUFRYXGBkaGxwdHh8gISIjJCUmJygpKissLS4vMDEyMzQ1Njc4OTo7PD0+P0BBQkNERUZHSElKS0xNTk9QUVJTVFVWV1hZWltcXV5fYGFiYw==",
          "dtype": "i1"
         },
         "xaxis": "x6",
         "y": {
          "bdata": "ii8Z/fKzsT9JBV7FbnCzP9wKARE65rQ/PeQRUfnUtT/pGKH9Rhm2Px+i5o7Au7U/eiVWCevdtD+sg3vyqqezP0DkDKgmPbI/PwryOgu7sD8XvXSGbWyuP9eT0TGbeas/sXPywWKvqD9u2fOSyBemP9wmVURet6M/AUc3PQiPoT9zaHcAmDqfP7wVoXJ9vps/+i+OvVWimD882gxZAN6VP/ovYDo6aZM/n3Aakvo7kT/QJPweVJ2OP7j2L2OBNIs/Iy47WqUwiD8+yFO9JIaFP5sDtdKWKoM/T5K/pLMUgT9R+Ar3e3h+P4S8WS7XM3s/QgMHippOeD/AUbaYb711P1Nv9otcdnM/WojSU5xwcT/3/9vC9EhvP+TbNh9kFmw/Es77F6M9aT8XUekMQLRmP1BfQsQNcWQ/Fd9ZP/trYj8Sryhy8J1gP47G4aleAV4/ZWuuoHEdWz/QdlweaoZYPySe45i9M1Y/eCMLfuIdVD8C7p+eMD5SPyGKHpnFjlA/J/i6gtkUTj+qW6YlFFlLP6DB0pIP4kg/DyINk4yoRj+DTFcWHKZEP0vfuIsG1UI/fCpORzYwQT+P25AkSWY/P3F0XBuSszw/mJAjOBZBOj8hV7cgagg4P7aSxdDRAzY/DZkDwywuND/O2Kh35IIyP5Inygzd/TA/Fb3LTc82Lz+EWMrgbLAsP6r5WfyjYio/b8Rt2x9IKD8YlWMtFVwmP7XS710zmiQ/xOqnh5f+Ij/tpWLewIUhP4st92SGLCA/p3DIjhvgHT8+f2huhpsbP+3LQ1ikhhk/iklL3T2dFz99xoqqgdsVP+aZjkD6PRQ/yRuxw4TBEj/2SbTFSGMRP2Wvx+ywIBA/VtTAvsjuDT9bSFC+gcoLP207mv+q0Ak/NNFo0bv9Bz+VGAQlfE4GP2AtQ+b8vwQ/1Cr4GJFPAz8pFKFSk/0AP4VyjgFmq/0+Vw3eO2up+T4QFtiNSe/1PpIWGXGQd/I+qeH7doF67j6Zljl/hXfoPodcWa+63eI+Vz81D7dK2z62hxYcgY7RPqBhjoNL88A+AAAAAAAA+H8=",
          "dtype": "f8"
         },
         "yaxis": "y6"
        },
        {
         "hovertemplate": "variable=p_12m_forward<br>risk_band=4<br>default_month=%{x}<br>value=%{y}<extra></extra>",
         "legendgroup": "p_12m_forward",
         "line": {
          "color": "#D62728",
          "dash": "solid"
         },
         "marker": {
          "symbol": "circle"
         },
         "mode": "lines",
         "name": "p_12m_forward",
         "showlegend": false,
         "type": "scattergl",
         "x": {
          "bdata": "AAECAwQFBgcICQoLDA0ODxAREhMUFRYXGBkaGxwdHh8gISIjJCUmJygpKissLS4vMDEyMzQ1Njc4OTo7PD0+P0BBQkNERUZHSElKS0xNTk9QUVJTVFVWV1hZWltcXV5fYGFiYw==",
          "dtype": "i1"
         },
         "xaxis": "x7",
         "y": {
          "bdata": "JYGgOUJRwT9/pwQ67/bBPy4e4ziX4ME/ywp46vrQwD/npMwI1TG+P9d10REIO7o/sBhxdQtLtj+Q93yYN66yP21bBnvpB68/2dx4sXyjqT/qFgkl9x+lP7KwhKEpY6E/3TFpejagnD/l4ftxL5aXPx+Bb/HadpM/k7u7buUXkD8Zcjs7wquKPxL5bGopJ4Y/heUyHjtygj8GEy/bR8x+P0bK6O7exnk/xfM4h1ihdT9Qi+JijzJyP9lTf4Z1sm4/Y3v9VM30aT+8CJuIbgBmPzv0NHXUsWI/AuValinYXz/IidpfMC9bP9p9sPsnQlc/XqKiOnDxUz8ycGznDCNRP1DAUPotg00/aoB1l8V2ST/cKre7oANGP690TUp7EUM/RKQ9XSeMQD8hxYAPpsU8PyEvINbhDjk/b6z5pHncNT+1tDbWrRozPzXb04PiuDA/OVXiQDBSLT+TipU2+L4pP412iSoapCY/SJgbF57wIz9mfDgcGZYhP82M/JmKEB8/oN8MFlZ5Gz+eoxSnsVQYP3sLLuxNkxU/DY4QRwooEz+R/HlIoAcRP8rDyEm5UA4/WgIN1MYDCz/IhFcp+xkIP/QS9/TchgU/5kbsf58/Az9kkFaW5ToBP7m0UUcb4f4+Mam7HQuz+z7oGtI8St/4Pmjqer4bW/Y+n2zgaR8d9D4lsri4Ih3yPtDEDo/4U/A+aJPGR6127T4Ck1KDb5vqPmSdMU+EDOg+pv1p4mLB5T6/jVQCh7LjPvsqNwFQ2eE+n+pwKeQv4D6h50TqL2LdPkshCxSxsNo++GV3CjJD2D5OLKxnhBLWPoLUdsZIGNQ+Hz2CAdZO0j4tYFSUI7HQPvusM2Ztdc4+CPCIeiPPyz4VJJ93S2jJPhZ71k2LOsc+SWZUcDZAxT4R1Z4sOnTDPssObV0M0sE+mkBuLJxVwD5PXNVBEXa8PuB6zsnenLg+BjbBsjEXtT5kHYGSbt2xPgMSF2Fv0a0+MnwRsLJlqD74frWocGyjPuBOvF4Jt50+7EnOS4BTlT7Fbp5rRjuLPgdvgwZ1GXo+AAAAAAAA+H8=",
          "dtype": "f8"
         },
         "yaxis": "y7"
        },
        {
         "hovertemplate": "variable=p_12m_forward<br>risk_band=3<br>default_month=%{x}<br>value=%{y}<extra></extra>",
         "legendgroup": "p_12m_forward",
         "line": {
          "color": "#D62728",
          "dash": "solid"
         },
         "marker": {
          "symbol": "circle"
         },
         "mode": "lines",
         "name": "p_12m_forward",
         "showlegend": false,
         "type": "scattergl",
         "x": {
          "bdata": "AAECAwQFBgcICQoLDA0ODxAREhMUFRYXGBkaGxwdHh8gISIjJCUmJygpKissLS4vMDEyMzQ1Njc4OTo7PD0+P0BBQkNERUZHSElKS0xNTk9QUVJTVFVWV1hZWltcXV5fYGFiYw==",
          "dtype": "i1"
         },
         "xaxis": "x8",
         "y": {
          "bdata": "ChoWVR501D/rggoiKQ7UP3vPf7lRWNE/qZC5yNFcyz92u81ripHEP3b9pnI0PL4/H6JFmrkHtj8Cga4HNQiwPyGtrcqTZqc/zykrXzwqoT+mDgAyBleZP3LrluQS1ZI/Aw1oyJQwjD/K8BQQYz+FP6D+WHVYIIA/AC5lf+ykeD+aHE0WD/RyP0ihGW75VW0/EZiO/NHWZj/jghWlIOJhP9WkO1rPKFw/qQEH+1ZJVj9njmx9EbpRP4uHEHvQVUw/P/6OZ/G/Rj9YTjvebFhCPxfw18gttj0/fx/pJCAoOD9L36AsUrczPxgwevC5JjA/1AYVzlOOKj8RkKbP++clPy7YE4Q9ISI/wQQRDI8aHj8Ey6dypBEZPyH2eQL17xQ/Jm7BED2JET8pIrc3cXQNPzPtuzVozQg/scauzxrwBD/OnpNGFLgBP30DUDS+D/4+AwcP2DKP+T7v4vhOrsf1Pj4C1e6AmfI+EZd1uXzV7z4TjAZ3Q0zrPsfUm8lWdOc+45fT19cw5D7JgpLK5WnhPnkVyRZoF94+fqRWJpsL2j66TIJR+JTWPnI7k72YnNM+D0phQ1EP0T5+fbRQG7rNPvNnAJOT8Mk+VV87AUarxj5yMnRh+tbDPq166pxvY8E+g0m7wr+Fvj4e/DsgNNO6PqgJnEJZm7c+HvS+uD3NtD6Y1A+5a1qyPvAnk6CGNrA+EUztEPGtrD4tqqteWmWpPiPrBeWvg6Y+ESuz9YX7oz6T/kEpTMGhPv6BK7oPlp8+Tp19zzIgnD7UejOPFBKZPvVz+LXFXpY+7n1m3gz7kz57i11NKd2RPtCUp4M9+Y8+8KQkxhGkjD7syWxE6q2JPhP7xyeEC4c+zWYu3gazhD60M7L+05uCPjNp5ehdvoA+qX7/Qwgofj4EwA8z6S17PoVt+D8ihHg+Zkrt6rAhdj6AI1iTdRVzPm7KgX3yVnA+CU3nr8i7az6v4fLS7UVnPonGguBQP2M+fzovfsI4Xz5fPmYCq6VYPjT2DTMKs1I+VEjSKhuhSj6DiAfUTN9APrp+bs9XDTA+AAAAAAAA+H8=",
          "dtype": "f8"
         },
         "yaxis": "y8"
        },
        {
         "hovertemplate": "variable=p_12m_forward<br>risk_band=2<br>default_month=%{x}<br>value=%{y}<extra></extra>",
         "legendgroup": "p_12m_forward",
         "line": {
          "color": "#D62728",
          "dash": "solid"
         },
         "marker": {
          "symbol": "circle"
         },
         "mode": "lines",
         "name": "p_12m_forward",
         "showlegend": false,
         "type": "scattergl",
         "x": {
          "bdata": "AAECAwQFBgcICQoLDA0ODxAREhMUFRYXGBkaGxwdHh8gISIjJCUmJygpKissLS4vMDEyMzQ1Njc4OTo7PD0+P0BBQkNERUZHSElKS0xNTk9QUVJTVFVWV1hZWltcXV5fYGFiYw==",
          "dtype": "i1"
         },
         "xaxis": "x",
         "y": {
          "bdata": "l929QpDG3T8+bkmeqejYP/yDxjODStA/2q73Qj+owz9cVLc9HVm3P0gQ4OtX8qs/gLazddj/oD+U9rArsROVP3929oZVpIo/BTBdwaongT9YdFt89nt2P5dTiuDU9G0/hjT1FRZDZD82jUuqr8xbP0hm0e1aUlM/1/kLN88vSz9t3f45BlhDP0yzxppl0Ts/smspuRAzND9/a7Ei/ZotP7DQRN0R4iU/hE8pp2ZOID9fU7jxmnwYP/AqyzSPhBI/Vr76FasyDD+c6BNJZZsFP60v7hxKqAA/moJqmtnU+T7gBSk0kiP0Pqjv4oXWkO8+OopR9XTc6D7s1lfJbqzjPtZOT/wuR98+/viJGrr42D4B+uyf+wTUPlfzSTcAHdA+G7bgW6EJyj4DsbO/SB3FPpzSMaCzLsE+XpHH7msPvD6AeFVltPy2PrVWzgb347I+OV8Z6WIkrz42HsClvr6pPgi6n0P4V6U+njoUyTm+oT6iTOBI75OdPk+Yn2Fot5g+hk8RfIu0lD4ncLn3/2KRPumbN5ylRI0+uP8VUKywiD6cRS3itd+EPpfmTCBgr4E+YpBF5V4Hfj4sYIawm4t5PouA9r4XxnU+qq0L0iqYcj7SlbrSPNFvPjmwMptSRWs+JJcwWjxqZz44hYSfhSNkPuMGyUyPWWE+nDKd32TxXT4He+gqGeFZPoIQV+PaZlY+SslCyL5rUz74wGphi9xQPs3r/i4xUk0+kcy2rpeHST7vJdXeVkJGPgrUbL4Jb0M+AHnnR0X9QD6qjknWOr49PnAH5Lt9ETo+9RjJIjTgNj71iyWTOBk0PrCCvsTorTE+QRsw+YQjLz4apsbjIHQrPjg0/AdJOyg+ObvVCzppJT6RoWyPZvAiPl2rHLAjxSA+6DBR7cS6HT6JkOIx6GAaPtwzsaSubRc+J4XvwBrUFD6OkeMy7sQRPowyaMR/HQ4+1kVQLqtNCT4V4G8mpgcFPpR1ix8WOwE+PKBKfVuz+z0TUprXzq31PclaBBGTT/A9YI8ckMsK5z1H5FbmcfncPTbXZ8G8XMs9AAAAAAAA+H8=",
          "dtype": "f8"
         },
         "yaxis": "y"
        },
        {
         "hovertemplate": "variable=p_12m_forward<br>risk_band=1<br>default_month=%{x}<br>value=%{y}<extra></extra>",
         "legendgroup": "p_12m_forward",
         "line": {
          "color": "#D62728",
          "dash": "solid"
         },
         "marker": {
          "symbol": "circle"
         },
         "mode": "lines",
         "name": "p_12m_forward",
         "showlegend": false,
         "type": "scattergl",
         "x": {
          "bdata": "AAECAwQFBgcICQoLDA0ODxAREhMUFRYXGBkaGxwdHh8gISIjJCUmJygpKissLS4vMDEyMzQ1Njc4OTo7PD0+P0BBQkNERUZHSElKS0xNTk9QUVJTVFVWV1hZWltcXV5fYGFiYw==",
          "dtype": "i1"
         },
         "xaxis": "x2",
         "y": {
          "bdata": "lcfF8R494z+bXGvGPMnUP090hsjHzME/vY0IHs2drj8dcYyzKpubPwgDeXgHPIo/Vxgz5HAvej9kjQ9bBE9rP16JVKUzm10/nV6cG5ObUD8atyCF3jRDPzwlydwf0jY/5C9kEazHKz/clDZBAkghPyLotTbs7RU/t+yajwRVDD/E8d8X5JoCPzajDbJPzvg+MfCkN4/E8D4b6/kLIvbmPiofokK90d8+Rm80j+RK1j5crYqpgY/PPuAjkHTKjsY+JFjvyhJFwD4yahIigqu3PvSd8kBMW7E+7V/g8dilqT5qu4dsAhajPmifxPVbmZw+MbB8Y6yQlT67QvCUYVyQPnj/5ipH+Ig+Vr/OJwcpgz5x1EchhI99PgoZfa0r63Y+4LP7VefacT7dzxyvE/NrPgN6DNf++GU+5Jn5DvhYYT4VQRXWDoFbPgnv7rCw41U+VV5J66J8UT5g2/LemwpMPmJVlEbvj0Y+3wniyxY3Qj7GPRSP8IE9Pl4S4Q/P+Tc+C6MYk2OKMz510Vd9GfIvPpXlNrULMCo+IVVpweSGJT658CYbPr4hPhUCd0ssUx0+QfV4VV9LGD4xbT76GC0UPu4Bv+27yxA+3syRXT0HDD6tF8HBU3AHPtVvZcnApAM+9395+nF/AD4B5gVG3MT7PaE6zMHRavc9fT7tDkXJ8z2hAMZqB8DwPZ3nLN2eaew9mQWm4S4k6D2dkRzsa4zkPQTf/x5IheE9RoEeoaDt3T30yUM1d5rZPfBOM0dS8NU9B7o5ugXU0j1HHxzH+y7QPa29UrLK3Ms9MjWbjSEFyD0/OUAFv7zEPWzsfLmp7cE9W+1LYeQKvz1Dq3sdNOm6PR/y83EsXLc98mZh5s1NtD04Nzrug6uxPXbBWR0ty649cuOUbmjdqj1KqT4HH3enPdBMrcwahaQ9dg9XxAH3oT3A2DsAllCeParpzo9Vapk9LVbLQaEilT3PleLoU2SRPfM5Rpd/Oow9jNk1uX17hj2k3EZUqHCBPWpbAARvBXo94l/4zho7cj3TMrbWCr9mPWsnZisjUlU9AAAAAAAA+H8=",
          "dtype": "f8"
         },
         "yaxis": "y2"
        }
       ],
       "layout": {
        "annotations": [
         {
          "font": {},
          "showarrow": false,
          "text": "risk_band=2",
          "x": 0.1175,
          "xanchor": "center",
          "xref": "paper",
          "y": 0.2866666666666666,
          "yanchor": "bottom",
          "yref": "paper"
         },
         {
          "font": {},
          "showarrow": false,
          "text": "risk_band=1",
          "x": 0.3725,
          "xanchor": "center",
          "xref": "paper",
          "y": 0.2866666666666666,
          "yanchor": "bottom",
          "yref": "paper"
         },
         {
          "font": {},
          "showarrow": false,
          "text": "risk_band=6",
          "x": 0.1175,
          "xanchor": "center",
          "xref": "paper",
          "y": 0.6433333333333333,
          "yanchor": "bottom",
          "yref": "paper"
         },
         {
          "font": {},
          "showarrow": false,
          "text": "risk_band=5",
          "x": 0.3725,
          "xanchor": "center",
          "xref": "paper",
          "y": 0.6433333333333333,
          "yanchor": "bottom",
          "yref": "paper"
         },
         {
          "font": {},
          "showarrow": false,
          "text": "risk_band=4",
          "x": 0.6275,
          "xanchor": "center",
          "xref": "paper",
          "y": 0.6433333333333333,
          "yanchor": "bottom",
          "yref": "paper"
         },
         {
          "font": {},
          "showarrow": false,
          "text": "risk_band=3",
          "x": 0.8824999999999998,
          "xanchor": "center",
          "xref": "paper",
          "y": 0.6433333333333333,
          "yanchor": "bottom",
          "yref": "paper"
         },
         {
          "font": {},
          "showarrow": false,
          "text": "risk_band=10",
          "x": 0.1175,
          "xanchor": "center",
          "xref": "paper",
          "y": 0.9999999999999999,
          "yanchor": "bottom",
          "yref": "paper"
         },
         {
          "font": {},
          "showarrow": false,
          "text": "risk_band=9",
          "x": 0.3725,
          "xanchor": "center",
          "xref": "paper",
          "y": 0.9999999999999999,
          "yanchor": "bottom",
          "yref": "paper"
         },
         {
          "font": {},
          "showarrow": false,
          "text": "risk_band=8",
          "x": 0.6275,
          "xanchor": "center",
          "xref": "paper",
          "y": 0.9999999999999999,
          "yanchor": "bottom",
          "yref": "paper"
         },
         {
          "font": {},
          "showarrow": false,
          "text": "risk_band=7",
          "x": 0.8824999999999998,
          "xanchor": "center",
          "xref": "paper",
          "y": 0.9999999999999999,
          "yanchor": "bottom",
          "yref": "paper"
         }
        ],
        "legend": {
         "title": {
          "text": "variable"
         },
         "tracegroupgap": 0
        },
        "margin": {
         "t": 60
        },
        "template": {
         "data": {
          "scatter": [
           {
            "type": "scatter"
           }
          ]
         }
        },
        "width": 1000,
        "xaxis": {
         "anchor": "y",
         "domain": [
          0,
          0.235
         ],
         "title": {
          "text": "default_month"
         }
        },
        "xaxis10": {
         "anchor": "y10",
         "domain": [
          0.255,
          0.49
         ],
         "matches": "x",
         "showticklabels": false
        },
        "xaxis11": {
         "anchor": "y11",
         "domain": [
          0.51,
          0.745
         ],
         "matches": "x",
         "showticklabels": false
        },
        "xaxis12": {
         "anchor": "y12",
         "domain": [
          0.7649999999999999,
          0.9999999999999999
         ],
         "matches": "x",
         "showticklabels": false
        },
        "xaxis2": {
         "anchor": "y2",
         "domain": [
          0.255,
          0.49
         ],
         "matches": "x",
         "title": {
          "text": "default_month"
         }
        },
        "xaxis3": {
         "anchor": "y3",
         "domain": [
          0.51,
          0.745
         ],
         "matches": "x",
         "title": {
          "text": "default_month"
         }
        },
        "xaxis4": {
         "anchor": "y4",
         "domain": [
          0.7649999999999999,
          0.9999999999999999
         ],
         "matches": "x",
         "title": {
          "text": "default_month"
         }
        },
        "xaxis5": {
         "anchor": "y5",
         "domain": [
          0,
          0.235
         ],
         "matches": "x",
         "showticklabels": false
        },
        "xaxis6": {
         "anchor": "y6",
         "domain": [
          0.255,
          0.49
         ],
         "matches": "x",
         "showticklabels": false
        },
        "xaxis7": {
         "anchor": "y7",
         "domain": [
          0.51,
          0.745
         ],
         "matches": "x",
         "showticklabels": false
        },
        "xaxis8": {
         "anchor": "y8",
         "domain": [
          0.7649999999999999,
          0.9999999999999999
         ],
         "matches": "x",
         "showticklabels": false
        },
        "xaxis9": {
         "anchor": "y9",
         "domain": [
          0,
          0.235
         ],
         "matches": "x",
         "showticklabels": false
        },
        "yaxis": {
         "anchor": "x",
         "domain": [
          0,
          0.2866666666666666
         ],
         "showticklabels": true,
         "title": {
          "text": "value"
         }
        },
        "yaxis10": {
         "anchor": "x10",
         "domain": [
          0.7133333333333333,
          0.9999999999999999
         ],
         "showticklabels": true
        },
        "yaxis11": {
         "anchor": "x11",
         "domain": [
          0.7133333333333333,
          0.9999999999999999
         ],
         "showticklabels": true
        },
        "yaxis12": {
         "anchor": "x12",
         "domain": [
          0.7133333333333333,
          0.9999999999999999
         ],
         "showticklabels": true
        },
        "yaxis2": {
         "anchor": "x2",
         "domain": [
          0,
          0.2866666666666666
         ],
         "showticklabels": true
        },
        "yaxis3": {
         "anchor": "x3",
         "domain": [
          0,
          0.2866666666666666
         ],
         "showticklabels": true
        },
        "yaxis4": {
         "anchor": "x4",
         "domain": [
          0,
          0.2866666666666666
         ],
         "showticklabels": true
        },
        "yaxis5": {
         "anchor": "x5",
         "domain": [
          0.35666666666666663,
          0.6433333333333333
         ],
         "showticklabels": true,
         "title": {
          "text": "value"
         }
        },
        "yaxis6": {
         "anchor": "x6",
         "domain": [
          0.35666666666666663,
          0.6433333333333333
         ],
         "showticklabels": true
        },
        "yaxis7": {
         "anchor": "x7",
         "domain": [
          0.35666666666666663,
          0.6433333333333333
         ],
         "showticklabels": true
        },
        "yaxis8": {
         "anchor": "x8",
         "domain": [
          0.35666666666666663,
          0.6433333333333333
         ],
         "showticklabels": true
        },
        "yaxis9": {
         "anchor": "x9",
         "domain": [
          0.7133333333333333,
          0.9999999999999999
         ],
         "showticklabels": true,
         "title": {
          "text": "value"
         }
        }
       }
      }
     },
     "metadata": {},
     "output_type": "display_data"
    }
   ],
   "source": [
    "data_chart = data.melt(id_vars=['default_month', 'risk_band'])\n",
    "\n",
    "fig = px.line(\n",
    "    data_chart,\n",
    "    x='default_month',\n",
    "    y='value',\n",
    "    facet_col='risk_band',\n",
    "    facet_col_wrap=4,\n",
    "    color='variable',\n",
    "    template = 'none',\n",
    "    width=1000\n",
    ")\n",
    "fig.update_yaxes(matches=None, showticklabels=True)\n",
    "# Image(fig.to_image(\"png\"))\n",
    "fig"
   ]
  },
  {
   "cell_type": "code",
   "execution_count": 678,
   "id": "2f134c43",
   "metadata": {},
   "outputs": [],
   "source": [
    "func_parameters =  dict(\n",
    "    a = 1.5,\n",
    "    b = 0.6,\n",
    "    d = 0\n",
    ")\n",
    "\n",
    "risk_scores = {\n",
    "    10 : 0.01,\n",
    "     9 : 0.02,\n",
    "     8 : 0.05,\n",
    "     7 : 0.10,\n",
    "     6 : 0.15,\n",
    "     5 : 0.20,\n",
    "     4 : 0.25,\n",
    "     3 : 0.50,\n",
    "     2 : 0.70,\n",
    "     1 : 0.90\n",
    "}\n",
    "\n",
    "roll_rates = {\n",
    "    30  :  0.75  , ## from 1-29    to 30-59\n",
    "    60  :  0.90  , ## from 30-59   to 60-89\n",
    "    90  :  0.99  , ## from 60-89   to 90-119\n",
    "    120 :  0.99  , ## from 90-119  to 120-139\n",
    "    150 :  0.999 , ## from 120-139 to 150-179\n",
    "    180 :  0.999 , ## from 150-179 to 180-209\n",
    "    210 :  0.999 , ## from 180-209 to 210-239\n",
    "    240 :  0.999 , ## from 210-239 to 240-269\n",
    "    270 :  0.999 , ## from 240-269 to 270-299\n",
    "    300 :  0.999 , ## from 270-299 to 300-329\n",
    "    330 :  0.999 , ## from 300-329 to 330-359\n",
    "    360 :  0.9999, ## from 330-359 to 360-389\n",
    "    390 :  1.0000, ## from 360-389 to 390-419\n",
    "}\n",
    "\n",
    "\n",
    "\n",
    "lifetime_target = 60\n",
    "start_date = \"2025-01-31\"\n",
    "n_months = 36\n",
    "n_sample = 10000\n",
    "risk_scores_dist = {\n",
    "    10 : 0.1  , \n",
    "     9 : 0.15 , \n",
    "     8 : 0.2  ,  \n",
    "     7 : 0.15 ,\n",
    "     6 : 0.1  ,\n",
    "     5 : 0.1  ,\n",
    "     4 : 0.07 ,\n",
    "     3 : 0.055, \n",
    "     2 : 0.05 ,\n",
    "     1 : 0.025,\n",
    "}\n",
    "\n",
    "\n",
    "risk_scores_limits_dist = {\n",
    "    10 : [15000, 30000],\n",
    "     9 : [10000, 15000],\n",
    "     8 : [7000 , 10000],\n",
    "     7 : [5000 , 7000 ],\n",
    "     6 : [3000 , 5000 ],\n",
    "     5 : [1000 , 3000 ],\n",
    "     4 : [700  , 2000 ],\n",
    "     3 : [700  , 1000 ],\n",
    "     2 : [500  , 700  ],\n",
    "     1 : [100  , 500  ],\n",
    "}\n",
    "\n",
    "class generate_sample:\n",
    "    def __init__(self,\n",
    "                 func,\n",
    "                 func_parameters: dict,\n",
    "                 risk_scores: dict,\n",
    "                 risk_scores_dist: dict,\n",
    "                 risk_scores_limits_dist: dict,\n",
    "                 roll_rates: dict,\n",
    "                 lifetime_target: int,\n",
    "                 start_date: str = \"2025-01-31\",\n",
    "                 n_months: int = 24,\n",
    "                 n_sample: int = 10000,\n",
    "                 wo_target: int = 360,\n",
    "                 ccf: float = 0.5\n",
    "                 ):\n",
    "        self.func = func\n",
    "        self.func_parameters = func_parameters\n",
    "        self.risk_scores = risk_scores\n",
    "        self.risk_scores_dist = risk_scores_dist\n",
    "        self.roll_rates = roll_rates\n",
    "        self.lifetime_target = lifetime_target\n",
    "        self.start_date = start_date\n",
    "        self.n_months = n_months\n",
    "        self.n_sample = n_sample\n",
    "        self.risk_scores_limits_dist = risk_scores_limits_dist\n",
    "        self.wo_target = wo_target\n",
    "        self.ccf = ccf\n",
    "        self.risk_curves = None\n",
    "    \n",
    "    def generate_pd_curve(self,\n",
    "                          func, \n",
    "                          parameters: dict,\n",
    "                          n_default_months: int,\n",
    "                          cumulative_pd: float,\n",
    "                          roll_rates: dict):\n",
    "        \"\"\"\n",
    "        Generates a probability distribution curve for default lifetime risk.\n",
    "        \n",
    "        Parameters:\n",
    "            func (callable): Function to calculate PD for given risk-band\n",
    "            parameters (dict): Dictionary of parameters specific for the function.\n",
    "            n_default_months (int): Number of months to simulate default progression\n",
    "            cumulative_pd (float): Cumulative probability of default for the entire curve\n",
    "            roll_rates (dict): Roll rates between credit states\n",
    "            \n",
    "        Returns:\n",
    "            pd.DataFrame: DataFrame containing PD curves with additional columns\n",
    "        \"\"\"\n",
    "        \n",
    "        df = pd.DataFrame(range(0, n_default_months+1), columns=[\"default_month\"])\n",
    "        df['p'] = func(df['default_month'], **parameters) \n",
    "        df['p'] = df['p'].fillna(0)\n",
    "        df['p'] = (df['p'] / df['p'].sum()) * cumulative_pd\n",
    "        df['cum_p'] = df['p'].cumsum() \n",
    "        \n",
    "        multiplication_roll_rates = 1\n",
    "        for days_late_i, roll_rate_i in roll_rates.items():\n",
    "            if days_late_i <= 90:\n",
    "                multiplication_roll_rates = multiplication_roll_rates * roll_rate_i\n",
    "                \n",
    "        df['pd_lifetime'] = (df['p'].sum() - df['cum_p']) * multiplication_roll_rates\n",
    "        \n",
    "        # Calculate forward-looking 12-month sum using rolling\n",
    "        df['pd_12m'] = (df[::-1]['p'].rolling(window=12, min_periods=1, closed='left').sum().iloc[::-1]) * multiplication_roll_rates\n",
    "        \n",
    "        return df\n",
    "\n",
    "    def generate_pd_curve_by_risk_score(self):\n",
    "        result_dfs = list()\n",
    "        for risk_band_i, lifetime_pd_i in self.risk_scores.items():\n",
    "            self.func_parameters['a'] = risk_band_i / 2\n",
    "            df_temp = self.generate_pd_curve(self.func, \n",
    "                                        self.func_parameters, \n",
    "                                        self.lifetime_target, \n",
    "                                        lifetime_pd_i, \n",
    "                                        self.roll_rates)\n",
    "            df_temp['risk_band'] = risk_band_i\n",
    "            result_dfs.append(df_temp)\n",
    "        result = pd.concat(result_dfs)\n",
    "        self.risk_curves = result\n",
    "        return self.risk_curves\n",
    "        \n",
    "    def generate_origination_sample(self,\n",
    "                                    start_date: str,\n",
    "                                    n_months: int, \n",
    "                                    n_sample: int,\n",
    "                                    risk_scores_dist: dict,):\n",
    "        id_list = range(1, n_sample+1)\n",
    "        df_sample = pd.DataFrame(id_list, columns=['id'])\n",
    "        df_sample['create_date_aux'] = np.random.randint(0,n_months, size=n_sample)\n",
    "        df_sample['created_date'] = pd.to_datetime(pd.to_datetime(start_date) + df_sample['create_date_aux'].apply(lambda x : pd.offsets.MonthEnd(x)))\n",
    "        df_sample['risk_band'] = np.random.choice(list(risk_scores_dist.keys()), size=n_sample, p=list(risk_scores_dist.values()))\n",
    "        df_sample = df_sample.drop(\"create_date_aux\", axis=\"columns\")\n",
    "        return df_sample\n",
    "\n",
    "    def withRiskCurves(self, df: pd.DataFrame, risk_curves: pd.DataFrame):\n",
    "        result= df.merge(risk_curves, on=['risk_band'], how='left')\n",
    "        result['date'] = pd.to_datetime(result['created_date'] + result['default_month'].apply(lambda x: pd.offsets.MonthEnd(int(x))))\n",
    "        result = result.rename({'default_month':'tenure'}, axis='columns')\n",
    "        return result\n",
    "\n",
    "    def withDefaultsFromRiskCurves(self, df: pd.DataFrame, roll_rates: dict):\n",
    "        result = df.copy()\n",
    "        result = result.sort_values(['id', 'date'])\n",
    "        result['is_late'] = np.random.binomial(1, p=result['p'])\n",
    "        result['late_start_date'] = pd.to_datetime(np.where(result['is_late'] == 1, result['date'], None))\n",
    "        result['late_start_date'] = result.groupby('id')['late_start_date'].transform('min')\n",
    "        result['days_late'] = np.where(result['late_start_date'] == result['date'], 1, None)\n",
    "        for days_late_i, roll_rate_i in roll_rates.items():\n",
    "            result['days_late_last_month'] = result.groupby('id')['days_late'].transform('shift', 1)\n",
    "            result['prob_rr'] = roll_rate_i\n",
    "            result['rgn'] = np.random.binomial(1, p=result['prob_rr'], size=result.shape[0])\n",
    "            result['days_late'] = np.where(result['days_late_last_month']==np.max([1, days_late_i-30]), \n",
    "                                        result['rgn'] *days_late_i, \n",
    "                                        result['days_late'])\n",
    "            if days_late_i != list(roll_rates.keys())[-1]:\n",
    "                result = result.drop(['days_late_last_month', 'rgn', 'prob_rr'], axis='columns')\n",
    "        result['days_late'] = result.groupby('id')['days_late'].transform('ffill')\n",
    "        result['days_late'] = result['days_late'].fillna(0)\n",
    "        result['is_default'] = np.where(result['days_late'] == 90, 1, 0)\n",
    "        result['n_late_status'] = result.groupby('id')['is_late'].transform('sum')\n",
    "        return result\n",
    "    \n",
    "    def withMaxCreditLimit(self, df: pd.DataFrame, risk_scores_limits_dist: dict):\n",
    "        result = df.copy()\n",
    "        result['credit_card_max_limit'] = result.groupby('id')['risk_band']\\\n",
    "                                                .transform(lambda x: \n",
    "                                                    np.repeat(\n",
    "                                                        np.random.randint(\n",
    "                                                            risk_scores_limits_dist[x.max()][0] /100,\n",
    "                                                            risk_scores_limits_dist[x.max()][1] /100\n",
    "                                                            ) * 100\n",
    "                                                        ,x.shape))\n",
    "        return result\n",
    "    \n",
    "    def withBalance(self, df: pd.DataFrame):\n",
    "        def _expit(x):\n",
    "            return 1 / (1+np.exp(-1 * x))\n",
    "\n",
    "        def min_max_normalization(X, min_: float = None, max_: float = None):\n",
    "            if min_ is None:\n",
    "                min_ = X.min(axis=0)\n",
    "            if max_ is None:\n",
    "                max_ = X.max(axis=0)\n",
    "            X_std = (X - X.min(axis=0)) / (X.max(axis=0) - X.min(axis=0))\n",
    "            X_scaled = X_std * (max_ - min_) + min_\n",
    "            return X_scaled\n",
    "        \n",
    "        result = df.copy()\n",
    "        \n",
    "        result['utilisation'] = np.where(result['default_flag']==1, \n",
    "                                         np.random.normal(0.01, 0.5, size=result.shape[0]),\n",
    "                                         np.random.normal(0.00, 0.5, size=result.shape[0]))\n",
    "        result['utilisation'] = result.groupby('id')['utilisation'].transform('cumsum')\n",
    "        result['utilisation'] = result.groupby('id')['utilisation'].transform(min_max_normalization, -4, 5)\n",
    "        result['utilisation'] = _expit(result['utilisation'])\n",
    "        result['balance'] = result['utilisation'] * result['credit_card_max_limit']\n",
    "        result['balance'] = np.where(result['days_late']>30, np.nan, result['balance'])\n",
    "        result['balance'] = result.groupby('id')['balance'].transform('ffill')\n",
    "        result['utilisation'] = result['balance'] / result['credit_card_max_limit']\n",
    "        return result\n",
    "\n",
    "\n",
    "    def withDefaultFlag(self, df: pd.DataFrame):\n",
    "        result = df.copy()\n",
    "        result['default_date_aux'] = pd.to_datetime(np.where(result['is_default']==1, result['date'], None))\n",
    "        result = result.sort_values(['id', 'date'])\n",
    "        result['default_date'] = result.groupby('id')['default_date_aux'].transform('bfill')\n",
    "        result = result.drop('default_date_aux', axis='columns')\n",
    "        result['default_month'] = pd.to_numeric(np.where(result['default_date'].isnull(), None,\n",
    "                                        (result['default_date'].dt.to_period('M').astype(int) \n",
    "                                            - result['date'].dt.to_period('M').astype(int))))\n",
    "        result['default_flag'] = np.where(result['default_month'].isnull(),0,1)\n",
    "        return result\n",
    "    \n",
    "    def withDefaultBalance(self, df: pd.DataFrame):\n",
    "        result = df.copy()\n",
    "        result['default_balance'] = np.where(result['date'] == result['default_date'], result['balance'], np.nan)\n",
    "        result['default_balance'] = result['default_balance'].bfill()\n",
    "        \n",
    "        result['default_limit'] = np.where(result['date'] == result['default_date'], result['credit_card_max_limit'], np.nan)\n",
    "        result['default_limit'] = result['default_limit'].bfill()\n",
    "        return result\n",
    "    \n",
    "    def withLGD(self, df: pd.DataFrame, roll_rates: dict, wo_target: int):\n",
    "        rr_df = pd.DataFrame(roll_rates.values(), index=roll_rates.keys(), columns=['roll_rates']).reset_index(names='days_late')\n",
    "        rr_df['cum_rr'] = np.where(rr_df['days_late'].between(90, wo_target), rr_df['roll_rates'][::-1].cumprod()[::-1], np.nan)\n",
    "        rr_df['cum_rr'] = rr_df['cum_rr'].bfill()\n",
    "        lgd_dict = rr_df.set_index('days_late')[['cum_rr']].to_dict()['cum_rr']\n",
    "\n",
    "        result = df.copy()\n",
    "        result['lgd'] = result['days_late'].apply(lambda x: lgd_dict[np.max([90, x])]).fillna(1.0)\n",
    "        return result\n",
    "    \n",
    "    def withEAD(self, df: pd.DataFrame, ccf: float):\n",
    "        result = df.copy()\n",
    "        result['ead'] = result['balance'] + ccf * (result['credit_card_max_limit'] - result['balance'])\n",
    "        return result\n",
    "    \n",
    "    def withStages(self, df: pd.DataFrame):\n",
    "        df['stage'] = np.where(df['days_late'] >= 90, 3,\n",
    "                               np.where(df['days_late'] >= 30, 2, 1))\n",
    "        return df\n",
    "    \n",
    "    def withECL(self, df: pd.DataFrame):\n",
    "        result = df.copy()\n",
    "        result['ecl_12m'] = result['pd_12m'] * result['ead'] * result['lgd']\n",
    "        result['ecl_lifetime'] = result['pd_lifetime'] * result['ead'] * result['lgd']\n",
    "        result['ecl'] = np.where(result['stage']==1, result['ecl_12m'], result['ecl_lifetime'])\n",
    "        result['pd'] = np.where(result['stage']==1, result['pd_12m'], result['pd_lifetime'])\n",
    "        return result\n",
    "    \n",
    "    def filterFutureDates(self, df: pd.DataFrame):\n",
    "        result = df[df['date'] <= df['created_date'].max(axis='rows')]\n",
    "        return result\n",
    "\n",
    "    def filterAlreadyDefaulted(self, df: pd.DataFrame):\n",
    "        filter_df = (df['default_month']>0) | (df['default_month'].isnull())\n",
    "        result = df[filter_df]\n",
    "        return result\n",
    "\n",
    "    def withCompleteDefaultMonths(self, df: pd.DataFrame, lifetime: int):\n",
    "        default_months = pd.DataFrame(range(1,lifetime+1), columns=['complete_default_months'])\n",
    "        id_df = df[['date', 'id']].drop_duplicates()\\\n",
    "                    .merge(default_months, how='cross')\n",
    "        \n",
    "        result = id_df.merge(df, on=['date', 'id'], how='outer')\n",
    "        result['default_flag'] = np.where(result['default_month'] == result['complete_default_months'], 1, 0)\n",
    "        result = result\\\n",
    "                    .drop('default_month', axis='columns')\\\n",
    "                    .rename({'complete_default_months':'default_month'}, axis='columns')\n",
    "        result['cum_defaults'] = result.sort_values(['date', 'id']).groupby(['date', 'id'])['default_flag'].transform('cumsum')\n",
    "        return result\n",
    "    \n",
    "    def plot_default_rates(self):\n",
    "        data_chart = self.df_sample\\\n",
    "            .groupby(['date','default_month'])\\\n",
    "            .agg({\n",
    "                'id' : 'count',\n",
    "                'cum_defaults': 'mean',\n",
    "                'default_flag': 'mean'\n",
    "            }) \\\n",
    "            .reset_index()\\\n",
    "            .melt(id_vars=['date', 'default_month'])\n",
    "\n",
    "\n",
    "        fig = px.line(\n",
    "            data_chart,\n",
    "            x='default_month',\n",
    "            y='value',\n",
    "            facet_col='variable',\n",
    "            color='date',\n",
    "            template='none',\n",
    "            width=1000\n",
    "        )\n",
    "\n",
    "        fig.update_yaxes(matches=None, showticklabels=True)\n",
    "\n",
    "    def plot_risk_curves(self, plot_as_png: bool = False):\n",
    "        if self.risk_curves is None:\n",
    "            self.generate_pd_curve_by_risk_score()\n",
    "        data_chart = data.melt(id_vars=['default_month', 'risk_band'])\n",
    "        fig = px.line(\n",
    "            data_chart,\n",
    "            x='default_month',\n",
    "            y='value',\n",
    "            facet_col='variable',\n",
    "            color='risk_band',\n",
    "            template = 'none',\n",
    "            width=1000\n",
    "        )\n",
    "        fig.update_yaxes(matches=None, showticklabels=True)\n",
    "\n",
    "        if plot_as_png:\n",
    "            return Image(fig.to_image('png'))\n",
    "        else:\n",
    "            return fig\n",
    "        \n",
    "    def plot_risk_curves2(self, plot_as_png: bool = False):\n",
    "        if self.risk_curves is None:\n",
    "            self.generate_pd_curve_by_risk_score()\n",
    "        data_chart = data.melt(id_vars=['default_month', 'risk_band'])\n",
    "        fig = px.line(\n",
    "            data_chart,\n",
    "            x='default_month',\n",
    "            y='value',\n",
    "            facet_col='risk_band',\n",
    "            facet_col_wrap=4,\n",
    "            color='variable',\n",
    "            template = 'none',\n",
    "            width=1000\n",
    "        )\n",
    "        fig.update_yaxes(matches=None, showticklabels=True)\n",
    "\n",
    "        if plot_as_png:\n",
    "            return Image(fig.to_image('png'))\n",
    "        else:\n",
    "            return fig\n",
    "\n",
    "    def withSelectedDF(self):\n",
    "        return self.df_sample[self.selected_cols]\n",
    "    \n",
    "    def run(self):\n",
    "        self.generate_pd_curve_by_risk_score()\n",
    "\n",
    "        self.df_sample = self.generate_origination_sample(start_date, n_months, n_sample, risk_scores_dist)\\\n",
    "                            .pipe(self.withRiskCurves, self.risk_curves)\\\n",
    "                            .pipe(self.filterFutureDates)\\\n",
    "                            .pipe(self.withDefaultsFromRiskCurves, self.roll_rates)\\\n",
    "                            .pipe(self.withDefaultFlag)\\\n",
    "                            .pipe(self.withMaxCreditLimit, self.risk_scores_limits_dist)\\\n",
    "                            .pipe(self.withBalance)\\\n",
    "                            .pipe(self.withDefaultBalance)\\\n",
    "                            .pipe(self.withLGD, self.roll_rates, self.wo_target)\\\n",
    "                            .pipe(self.withStages)\\\n",
    "                            .pipe(self.withEAD, self.ccf)\\\n",
    "                            .pipe(self.withECL)\n",
    "        \n",
    "        return self.df_sample\n",
    "    \n",
    "    \n",
    "\n"
   ]
  },
  {
   "cell_type": "code",
   "execution_count": 679,
   "id": "4355539e",
   "metadata": {},
   "outputs": [
    {
     "name": "stderr",
     "output_type": "stream",
     "text": [
      "/home/neon/Documents/Dev/Survival Analysis/Survival-Analysis/.venv/lib/python3.10/site-packages/pandas/core/arraylike.py:399: RuntimeWarning:\n",
      "\n",
      "divide by zero encountered in log\n",
      "\n",
      "/home/neon/Documents/Dev/Survival Analysis/Survival-Analysis/.venv/lib/python3.10/site-packages/pandas/core/arraylike.py:399: RuntimeWarning:\n",
      "\n",
      "divide by zero encountered in log\n",
      "\n",
      "/home/neon/Documents/Dev/Survival Analysis/Survival-Analysis/.venv/lib/python3.10/site-packages/pandas/core/arraylike.py:399: RuntimeWarning:\n",
      "\n",
      "divide by zero encountered in log\n",
      "\n",
      "/home/neon/Documents/Dev/Survival Analysis/Survival-Analysis/.venv/lib/python3.10/site-packages/pandas/core/arraylike.py:399: RuntimeWarning:\n",
      "\n",
      "divide by zero encountered in log\n",
      "\n",
      "/home/neon/Documents/Dev/Survival Analysis/Survival-Analysis/.venv/lib/python3.10/site-packages/pandas/core/arraylike.py:399: RuntimeWarning:\n",
      "\n",
      "divide by zero encountered in log\n",
      "\n",
      "/home/neon/Documents/Dev/Survival Analysis/Survival-Analysis/.venv/lib/python3.10/site-packages/pandas/core/arraylike.py:399: RuntimeWarning:\n",
      "\n",
      "divide by zero encountered in log\n",
      "\n",
      "/home/neon/Documents/Dev/Survival Analysis/Survival-Analysis/.venv/lib/python3.10/site-packages/pandas/core/arraylike.py:399: RuntimeWarning:\n",
      "\n",
      "divide by zero encountered in log\n",
      "\n",
      "/home/neon/Documents/Dev/Survival Analysis/Survival-Analysis/.venv/lib/python3.10/site-packages/pandas/core/arraylike.py:399: RuntimeWarning:\n",
      "\n",
      "divide by zero encountered in log\n",
      "\n",
      "/home/neon/Documents/Dev/Survival Analysis/Survival-Analysis/.venv/lib/python3.10/site-packages/pandas/core/arraylike.py:399: RuntimeWarning:\n",
      "\n",
      "divide by zero encountered in log\n",
      "\n",
      "/home/neon/Documents/Dev/Survival Analysis/Survival-Analysis/.venv/lib/python3.10/site-packages/pandas/core/arraylike.py:399: RuntimeWarning:\n",
      "\n",
      "divide by zero encountered in log\n",
      "\n",
      "/tmp/ipykernel_4857/3243885876.py:166: PerformanceWarning:\n",
      "\n",
      "Adding/subtracting object-dtype array to DatetimeArray not vectorized.\n",
      "\n",
      "/tmp/ipykernel_4857/3243885876.py:187: FutureWarning:\n",
      "\n",
      "Downcasting object dtype arrays on .fillna, .ffill, .bfill is deprecated and will change in a future version. Call result.infer_objects(copy=False) instead. To opt-in to the future behavior, set `pd.set_option('future.no_silent_downcasting', True)`\n",
      "\n"
     ]
    },
    {
     "data": {
      "text/html": [
       "<div>\n",
       "<style scoped>\n",
       "    .dataframe tbody tr th:only-of-type {\n",
       "        vertical-align: middle;\n",
       "    }\n",
       "\n",
       "    .dataframe tbody tr th {\n",
       "        vertical-align: top;\n",
       "    }\n",
       "\n",
       "    .dataframe thead th {\n",
       "        text-align: right;\n",
       "    }\n",
       "</style>\n",
       "<table border=\"1\" class=\"dataframe\">\n",
       "  <thead>\n",
       "    <tr style=\"text-align: right;\">\n",
       "      <th></th>\n",
       "      <th>id</th>\n",
       "      <th>created_date</th>\n",
       "      <th>risk_band</th>\n",
       "      <th>tenure</th>\n",
       "      <th>p</th>\n",
       "      <th>cum_p</th>\n",
       "      <th>pd_lifetime</th>\n",
       "      <th>pd_12m</th>\n",
       "      <th>date</th>\n",
       "      <th>is_late</th>\n",
       "      <th>...</th>\n",
       "      <th>balance</th>\n",
       "      <th>default_balance</th>\n",
       "      <th>default_limit</th>\n",
       "      <th>lgd</th>\n",
       "      <th>stage</th>\n",
       "      <th>ead</th>\n",
       "      <th>ecl_12m</th>\n",
       "      <th>ecl_lifetime</th>\n",
       "      <th>ecl</th>\n",
       "      <th>pd</th>\n",
       "    </tr>\n",
       "  </thead>\n",
       "  <tbody>\n",
       "    <tr>\n",
       "      <th>0</th>\n",
       "      <td>1</td>\n",
       "      <td>2027-01-31</td>\n",
       "      <td>6</td>\n",
       "      <td>0</td>\n",
       "      <td>0.000000e+00</td>\n",
       "      <td>0.000000e+00</td>\n",
       "      <td>0.100238</td>\n",
       "      <td>0.022245</td>\n",
       "      <td>2027-01-31</td>\n",
       "      <td>0</td>\n",
       "      <td>...</td>\n",
       "      <td>4767.874316</td>\n",
       "      <td>468.124165</td>\n",
       "      <td>500.0</td>\n",
       "      <td>0.973163</td>\n",
       "      <td>1</td>\n",
       "      <td>4783.937158</td>\n",
       "      <td>103.563326</td>\n",
       "      <td>466.660528</td>\n",
       "      <td>103.563326</td>\n",
       "      <td>0.022245</td>\n",
       "    </tr>\n",
       "    <tr>\n",
       "      <th>1</th>\n",
       "      <td>1</td>\n",
       "      <td>2027-01-31</td>\n",
       "      <td>6</td>\n",
       "      <td>1</td>\n",
       "      <td>3.843816e-07</td>\n",
       "      <td>3.843816e-07</td>\n",
       "      <td>0.100237</td>\n",
       "      <td>0.026321</td>\n",
       "      <td>2027-02-28</td>\n",
       "      <td>0</td>\n",
       "      <td>...</td>\n",
       "      <td>4753.603485</td>\n",
       "      <td>468.124165</td>\n",
       "      <td>500.0</td>\n",
       "      <td>0.973163</td>\n",
       "      <td>1</td>\n",
       "      <td>4776.801742</td>\n",
       "      <td>122.357142</td>\n",
       "      <td>465.963292</td>\n",
       "      <td>122.357142</td>\n",
       "      <td>0.026321</td>\n",
       "    </tr>\n",
       "    <tr>\n",
       "      <th>2</th>\n",
       "      <td>1</td>\n",
       "      <td>2027-01-31</td>\n",
       "      <td>6</td>\n",
       "      <td>2</td>\n",
       "      <td>3.180629e-05</td>\n",
       "      <td>3.219067e-05</td>\n",
       "      <td>0.100216</td>\n",
       "      <td>0.030408</td>\n",
       "      <td>2027-03-31</td>\n",
       "      <td>0</td>\n",
       "      <td>...</td>\n",
       "      <td>4677.875509</td>\n",
       "      <td>468.124165</td>\n",
       "      <td>500.0</td>\n",
       "      <td>0.973163</td>\n",
       "      <td>1</td>\n",
       "      <td>4738.937755</td>\n",
       "      <td>140.236134</td>\n",
       "      <td>462.171748</td>\n",
       "      <td>140.236134</td>\n",
       "      <td>0.030408</td>\n",
       "    </tr>\n",
       "    <tr>\n",
       "      <th>3</th>\n",
       "      <td>1</td>\n",
       "      <td>2027-01-31</td>\n",
       "      <td>6</td>\n",
       "      <td>3</td>\n",
       "      <td>2.267964e-04</td>\n",
       "      <td>2.589871e-04</td>\n",
       "      <td>0.100064</td>\n",
       "      <td>0.034339</td>\n",
       "      <td>2027-04-30</td>\n",
       "      <td>0</td>\n",
       "      <td>...</td>\n",
       "      <td>3986.035193</td>\n",
       "      <td>468.124165</td>\n",
       "      <td>500.0</td>\n",
       "      <td>0.973163</td>\n",
       "      <td>1</td>\n",
       "      <td>4393.017597</td>\n",
       "      <td>146.802911</td>\n",
       "      <td>427.787462</td>\n",
       "      <td>146.802911</td>\n",
       "      <td>0.034339</td>\n",
       "    </tr>\n",
       "    <tr>\n",
       "      <th>4</th>\n",
       "      <td>1</td>\n",
       "      <td>2027-01-31</td>\n",
       "      <td>6</td>\n",
       "      <td>4</td>\n",
       "      <td>6.928793e-04</td>\n",
       "      <td>9.518664e-04</td>\n",
       "      <td>0.099601</td>\n",
       "      <td>0.037885</td>\n",
       "      <td>2027-05-31</td>\n",
       "      <td>0</td>\n",
       "      <td>...</td>\n",
       "      <td>3595.943363</td>\n",
       "      <td>468.124165</td>\n",
       "      <td>500.0</td>\n",
       "      <td>0.973163</td>\n",
       "      <td>1</td>\n",
       "      <td>4197.971682</td>\n",
       "      <td>154.772651</td>\n",
       "      <td>406.902529</td>\n",
       "      <td>154.772651</td>\n",
       "      <td>0.037885</td>\n",
       "    </tr>\n",
       "    <tr>\n",
       "      <th>...</th>\n",
       "      <td>...</td>\n",
       "      <td>...</td>\n",
       "      <td>...</td>\n",
       "      <td>...</td>\n",
       "      <td>...</td>\n",
       "      <td>...</td>\n",
       "      <td>...</td>\n",
       "      <td>...</td>\n",
       "      <td>...</td>\n",
       "      <td>...</td>\n",
       "      <td>...</td>\n",
       "      <td>...</td>\n",
       "      <td>...</td>\n",
       "      <td>...</td>\n",
       "      <td>...</td>\n",
       "      <td>...</td>\n",
       "      <td>...</td>\n",
       "      <td>...</td>\n",
       "      <td>...</td>\n",
       "      <td>...</td>\n",
       "      <td>...</td>\n",
       "    </tr>\n",
       "    <tr>\n",
       "      <th>609962</th>\n",
       "      <td>10000</td>\n",
       "      <td>2025-09-30</td>\n",
       "      <td>9</td>\n",
       "      <td>23</td>\n",
       "      <td>1.715288e-04</td>\n",
       "      <td>9.916054e-04</td>\n",
       "      <td>0.012702</td>\n",
       "      <td>0.002520</td>\n",
       "      <td>2027-08-31</td>\n",
       "      <td>0</td>\n",
       "      <td>...</td>\n",
       "      <td>1843.631079</td>\n",
       "      <td>NaN</td>\n",
       "      <td>NaN</td>\n",
       "      <td>0.973163</td>\n",
       "      <td>1</td>\n",
       "      <td>7621.815539</td>\n",
       "      <td>18.693356</td>\n",
       "      <td>94.216771</td>\n",
       "      <td>18.693356</td>\n",
       "      <td>0.002520</td>\n",
       "    </tr>\n",
       "    <tr>\n",
       "      <th>609963</th>\n",
       "      <td>10000</td>\n",
       "      <td>2025-09-30</td>\n",
       "      <td>9</td>\n",
       "      <td>24</td>\n",
       "      <td>1.926720e-04</td>\n",
       "      <td>1.184277e-03</td>\n",
       "      <td>0.012574</td>\n",
       "      <td>0.002694</td>\n",
       "      <td>2027-09-30</td>\n",
       "      <td>0</td>\n",
       "      <td>...</td>\n",
       "      <td>2403.951156</td>\n",
       "      <td>NaN</td>\n",
       "      <td>NaN</td>\n",
       "      <td>0.973163</td>\n",
       "      <td>1</td>\n",
       "      <td>7901.975578</td>\n",
       "      <td>20.718698</td>\n",
       "      <td>96.689859</td>\n",
       "      <td>20.718698</td>\n",
       "      <td>0.002694</td>\n",
       "    </tr>\n",
       "    <tr>\n",
       "      <th>609964</th>\n",
       "      <td>10000</td>\n",
       "      <td>2025-09-30</td>\n",
       "      <td>9</td>\n",
       "      <td>25</td>\n",
       "      <td>2.143808e-04</td>\n",
       "      <td>1.398658e-03</td>\n",
       "      <td>0.012430</td>\n",
       "      <td>0.002867</td>\n",
       "      <td>2027-10-31</td>\n",
       "      <td>0</td>\n",
       "      <td>...</td>\n",
       "      <td>1848.444752</td>\n",
       "      <td>NaN</td>\n",
       "      <td>NaN</td>\n",
       "      <td>0.973163</td>\n",
       "      <td>1</td>\n",
       "      <td>7624.222376</td>\n",
       "      <td>21.268729</td>\n",
       "      <td>92.228293</td>\n",
       "      <td>21.268729</td>\n",
       "      <td>0.002867</td>\n",
       "    </tr>\n",
       "    <tr>\n",
       "      <th>609965</th>\n",
       "      <td>10000</td>\n",
       "      <td>2025-09-30</td>\n",
       "      <td>9</td>\n",
       "      <td>26</td>\n",
       "      <td>2.365053e-04</td>\n",
       "      <td>1.635163e-03</td>\n",
       "      <td>0.012272</td>\n",
       "      <td>0.003036</td>\n",
       "      <td>2027-11-30</td>\n",
       "      <td>0</td>\n",
       "      <td>...</td>\n",
       "      <td>632.163220</td>\n",
       "      <td>NaN</td>\n",
       "      <td>NaN</td>\n",
       "      <td>0.973163</td>\n",
       "      <td>1</td>\n",
       "      <td>7016.081610</td>\n",
       "      <td>20.731531</td>\n",
       "      <td>83.792672</td>\n",
       "      <td>20.731531</td>\n",
       "      <td>0.003036</td>\n",
       "    </tr>\n",
       "    <tr>\n",
       "      <th>609966</th>\n",
       "      <td>10000</td>\n",
       "      <td>2025-09-30</td>\n",
       "      <td>9</td>\n",
       "      <td>27</td>\n",
       "      <td>2.589011e-04</td>\n",
       "      <td>1.894065e-03</td>\n",
       "      <td>0.012099</td>\n",
       "      <td>0.003203</td>\n",
       "      <td>2027-12-31</td>\n",
       "      <td>0</td>\n",
       "      <td>...</td>\n",
       "      <td>241.015213</td>\n",
       "      <td>NaN</td>\n",
       "      <td>NaN</td>\n",
       "      <td>0.973163</td>\n",
       "      <td>1</td>\n",
       "      <td>6820.507607</td>\n",
       "      <td>21.259490</td>\n",
       "      <td>80.308591</td>\n",
       "      <td>21.259490</td>\n",
       "      <td>0.003203</td>\n",
       "    </tr>\n",
       "  </tbody>\n",
       "</table>\n",
       "<p>186776 rows × 32 columns</p>\n",
       "</div>"
      ],
      "text/plain": [
       "           id created_date  risk_band  tenure             p         cum_p  \\\n",
       "0           1   2027-01-31          6       0  0.000000e+00  0.000000e+00   \n",
       "1           1   2027-01-31          6       1  3.843816e-07  3.843816e-07   \n",
       "2           1   2027-01-31          6       2  3.180629e-05  3.219067e-05   \n",
       "3           1   2027-01-31          6       3  2.267964e-04  2.589871e-04   \n",
       "4           1   2027-01-31          6       4  6.928793e-04  9.518664e-04   \n",
       "...       ...          ...        ...     ...           ...           ...   \n",
       "609962  10000   2025-09-30          9      23  1.715288e-04  9.916054e-04   \n",
       "609963  10000   2025-09-30          9      24  1.926720e-04  1.184277e-03   \n",
       "609964  10000   2025-09-30          9      25  2.143808e-04  1.398658e-03   \n",
       "609965  10000   2025-09-30          9      26  2.365053e-04  1.635163e-03   \n",
       "609966  10000   2025-09-30          9      27  2.589011e-04  1.894065e-03   \n",
       "\n",
       "        pd_lifetime    pd_12m       date  is_late  ...      balance  \\\n",
       "0          0.100238  0.022245 2027-01-31        0  ...  4767.874316   \n",
       "1          0.100237  0.026321 2027-02-28        0  ...  4753.603485   \n",
       "2          0.100216  0.030408 2027-03-31        0  ...  4677.875509   \n",
       "3          0.100064  0.034339 2027-04-30        0  ...  3986.035193   \n",
       "4          0.099601  0.037885 2027-05-31        0  ...  3595.943363   \n",
       "...             ...       ...        ...      ...  ...          ...   \n",
       "609962     0.012702  0.002520 2027-08-31        0  ...  1843.631079   \n",
       "609963     0.012574  0.002694 2027-09-30        0  ...  2403.951156   \n",
       "609964     0.012430  0.002867 2027-10-31        0  ...  1848.444752   \n",
       "609965     0.012272  0.003036 2027-11-30        0  ...   632.163220   \n",
       "609966     0.012099  0.003203 2027-12-31        0  ...   241.015213   \n",
       "\n",
       "        default_balance default_limit       lgd  stage          ead  \\\n",
       "0            468.124165         500.0  0.973163      1  4783.937158   \n",
       "1            468.124165         500.0  0.973163      1  4776.801742   \n",
       "2            468.124165         500.0  0.973163      1  4738.937755   \n",
       "3            468.124165         500.0  0.973163      1  4393.017597   \n",
       "4            468.124165         500.0  0.973163      1  4197.971682   \n",
       "...                 ...           ...       ...    ...          ...   \n",
       "609962              NaN           NaN  0.973163      1  7621.815539   \n",
       "609963              NaN           NaN  0.973163      1  7901.975578   \n",
       "609964              NaN           NaN  0.973163      1  7624.222376   \n",
       "609965              NaN           NaN  0.973163      1  7016.081610   \n",
       "609966              NaN           NaN  0.973163      1  6820.507607   \n",
       "\n",
       "           ecl_12m ecl_lifetime         ecl        pd  \n",
       "0       103.563326   466.660528  103.563326  0.022245  \n",
       "1       122.357142   465.963292  122.357142  0.026321  \n",
       "2       140.236134   462.171748  140.236134  0.030408  \n",
       "3       146.802911   427.787462  146.802911  0.034339  \n",
       "4       154.772651   406.902529  154.772651  0.037885  \n",
       "...            ...          ...         ...       ...  \n",
       "609962   18.693356    94.216771   18.693356  0.002520  \n",
       "609963   20.718698    96.689859   20.718698  0.002694  \n",
       "609964   21.268729    92.228293   21.268729  0.002867  \n",
       "609965   20.731531    83.792672   20.731531  0.003036  \n",
       "609966   21.259490    80.308591   21.259490  0.003203  \n",
       "\n",
       "[186776 rows x 32 columns]"
      ]
     },
     "execution_count": 679,
     "metadata": {},
     "output_type": "execute_result"
    }
   ],
   "source": [
    "sample_generator = \\\n",
    "    generate_sample(func = logNormFunc,\n",
    "                    func_parameters = func_parameters,\n",
    "                    risk_scores = risk_scores,\n",
    "                    risk_scores_dist = risk_scores_dist,\n",
    "                    risk_scores_limits_dist = risk_scores_limits_dist,\n",
    "                    roll_rates = roll_rates,\n",
    "                    lifetime_target = lifetime_target,\n",
    "                    start_date = start_date,\n",
    "                    n_months = n_months,\n",
    "                    n_sample = n_sample)\n",
    "\n",
    "df_sample = sample_generator.run()\n",
    "df_sample\n",
    "                "
   ]
  },
  {
   "cell_type": "code",
   "execution_count": 681,
   "id": "a3a17ee5",
   "metadata": {},
   "outputs": [
    {
     "data": {
      "text/html": [
       "<div>\n",
       "<style scoped>\n",
       "    .dataframe tbody tr th:only-of-type {\n",
       "        vertical-align: middle;\n",
       "    }\n",
       "\n",
       "    .dataframe tbody tr th {\n",
       "        vertical-align: top;\n",
       "    }\n",
       "\n",
       "    .dataframe thead th {\n",
       "        text-align: right;\n",
       "    }\n",
       "</style>\n",
       "<table border=\"1\" class=\"dataframe\">\n",
       "  <thead>\n",
       "    <tr style=\"text-align: right;\">\n",
       "      <th></th>\n",
       "      <th>id</th>\n",
       "      <th>date</th>\n",
       "      <th>default_date</th>\n",
       "      <th>default_month</th>\n",
       "      <th>days_late</th>\n",
       "      <th>is_default</th>\n",
       "      <th>default_flag</th>\n",
       "      <th>stage</th>\n",
       "    </tr>\n",
       "  </thead>\n",
       "  <tbody>\n",
       "  </tbody>\n",
       "</table>\n",
       "</div>"
      ],
      "text/plain": [
       "Empty DataFrame\n",
       "Columns: [id, date, default_date, default_month, days_late, is_default, default_flag, stage]\n",
       "Index: []"
      ]
     },
     "execution_count": 681,
     "metadata": {},
     "output_type": "execute_result"
    }
   ],
   "source": [
    "filter_df = (df_sample['days_late']<90) & (df_sample['default_month']<0)\n",
    "df_sample[filter_df][['id', 'date', 'default_date', 'default_month', 'days_late', 'is_default', 'default_flag', 'stage']]"
   ]
  },
  {
   "cell_type": "code",
   "execution_count": 674,
   "id": "069b9d8e",
   "metadata": {},
   "outputs": [
    {
     "data": {
      "text/html": [
       "<div>\n",
       "<style scoped>\n",
       "    .dataframe tbody tr th:only-of-type {\n",
       "        vertical-align: middle;\n",
       "    }\n",
       "\n",
       "    .dataframe tbody tr th {\n",
       "        vertical-align: top;\n",
       "    }\n",
       "\n",
       "    .dataframe thead th {\n",
       "        text-align: right;\n",
       "    }\n",
       "</style>\n",
       "<table border=\"1\" class=\"dataframe\">\n",
       "  <thead>\n",
       "    <tr style=\"text-align: right;\">\n",
       "      <th></th>\n",
       "      <th>id</th>\n",
       "      <th>date</th>\n",
       "      <th>default_date</th>\n",
       "      <th>default_month</th>\n",
       "      <th>days_late</th>\n",
       "      <th>is_default</th>\n",
       "      <th>default_flag</th>\n",
       "      <th>stage</th>\n",
       "    </tr>\n",
       "  </thead>\n",
       "  <tbody>\n",
       "    <tr>\n",
       "      <th>237900</th>\n",
       "      <td>3901</td>\n",
       "      <td>2026-02-28</td>\n",
       "      <td>2026-09-30</td>\n",
       "      <td>7.0</td>\n",
       "      <td>0</td>\n",
       "      <td>0</td>\n",
       "      <td>1</td>\n",
       "      <td>1</td>\n",
       "    </tr>\n",
       "    <tr>\n",
       "      <th>237901</th>\n",
       "      <td>3901</td>\n",
       "      <td>2026-03-31</td>\n",
       "      <td>2026-09-30</td>\n",
       "      <td>6.0</td>\n",
       "      <td>0</td>\n",
       "      <td>0</td>\n",
       "      <td>1</td>\n",
       "      <td>1</td>\n",
       "    </tr>\n",
       "    <tr>\n",
       "      <th>237902</th>\n",
       "      <td>3901</td>\n",
       "      <td>2026-04-30</td>\n",
       "      <td>2026-09-30</td>\n",
       "      <td>5.0</td>\n",
       "      <td>0</td>\n",
       "      <td>0</td>\n",
       "      <td>1</td>\n",
       "      <td>1</td>\n",
       "    </tr>\n",
       "    <tr>\n",
       "      <th>237903</th>\n",
       "      <td>3901</td>\n",
       "      <td>2026-05-31</td>\n",
       "      <td>2026-09-30</td>\n",
       "      <td>4.0</td>\n",
       "      <td>0</td>\n",
       "      <td>0</td>\n",
       "      <td>1</td>\n",
       "      <td>1</td>\n",
       "    </tr>\n",
       "    <tr>\n",
       "      <th>237904</th>\n",
       "      <td>3901</td>\n",
       "      <td>2026-06-30</td>\n",
       "      <td>2026-09-30</td>\n",
       "      <td>3.0</td>\n",
       "      <td>1</td>\n",
       "      <td>0</td>\n",
       "      <td>1</td>\n",
       "      <td>1</td>\n",
       "    </tr>\n",
       "    <tr>\n",
       "      <th>237905</th>\n",
       "      <td>3901</td>\n",
       "      <td>2026-07-31</td>\n",
       "      <td>2026-09-30</td>\n",
       "      <td>2.0</td>\n",
       "      <td>30</td>\n",
       "      <td>0</td>\n",
       "      <td>1</td>\n",
       "      <td>2</td>\n",
       "    </tr>\n",
       "    <tr>\n",
       "      <th>237906</th>\n",
       "      <td>3901</td>\n",
       "      <td>2026-08-31</td>\n",
       "      <td>2026-09-30</td>\n",
       "      <td>1.0</td>\n",
       "      <td>60</td>\n",
       "      <td>0</td>\n",
       "      <td>1</td>\n",
       "      <td>2</td>\n",
       "    </tr>\n",
       "    <tr>\n",
       "      <th>237907</th>\n",
       "      <td>3901</td>\n",
       "      <td>2026-09-30</td>\n",
       "      <td>2026-09-30</td>\n",
       "      <td>0.0</td>\n",
       "      <td>90</td>\n",
       "      <td>1</td>\n",
       "      <td>1</td>\n",
       "      <td>3</td>\n",
       "    </tr>\n",
       "    <tr>\n",
       "      <th>237908</th>\n",
       "      <td>3901</td>\n",
       "      <td>2026-10-31</td>\n",
       "      <td>2026-09-30</td>\n",
       "      <td>-1.0</td>\n",
       "      <td>0</td>\n",
       "      <td>0</td>\n",
       "      <td>1</td>\n",
       "      <td>1</td>\n",
       "    </tr>\n",
       "    <tr>\n",
       "      <th>237909</th>\n",
       "      <td>3901</td>\n",
       "      <td>2026-11-30</td>\n",
       "      <td>2026-09-30</td>\n",
       "      <td>-2.0</td>\n",
       "      <td>0</td>\n",
       "      <td>0</td>\n",
       "      <td>1</td>\n",
       "      <td>1</td>\n",
       "    </tr>\n",
       "    <tr>\n",
       "      <th>237910</th>\n",
       "      <td>3901</td>\n",
       "      <td>2026-12-31</td>\n",
       "      <td>2026-09-30</td>\n",
       "      <td>-3.0</td>\n",
       "      <td>0</td>\n",
       "      <td>0</td>\n",
       "      <td>1</td>\n",
       "      <td>1</td>\n",
       "    </tr>\n",
       "    <tr>\n",
       "      <th>237911</th>\n",
       "      <td>3901</td>\n",
       "      <td>2027-01-31</td>\n",
       "      <td>2026-09-30</td>\n",
       "      <td>-4.0</td>\n",
       "      <td>0</td>\n",
       "      <td>0</td>\n",
       "      <td>1</td>\n",
       "      <td>1</td>\n",
       "    </tr>\n",
       "    <tr>\n",
       "      <th>237912</th>\n",
       "      <td>3901</td>\n",
       "      <td>2027-02-28</td>\n",
       "      <td>2026-09-30</td>\n",
       "      <td>-5.0</td>\n",
       "      <td>0</td>\n",
       "      <td>0</td>\n",
       "      <td>1</td>\n",
       "      <td>1</td>\n",
       "    </tr>\n",
       "    <tr>\n",
       "      <th>237913</th>\n",
       "      <td>3901</td>\n",
       "      <td>2027-03-31</td>\n",
       "      <td>2026-09-30</td>\n",
       "      <td>-6.0</td>\n",
       "      <td>0</td>\n",
       "      <td>0</td>\n",
       "      <td>1</td>\n",
       "      <td>1</td>\n",
       "    </tr>\n",
       "    <tr>\n",
       "      <th>237914</th>\n",
       "      <td>3901</td>\n",
       "      <td>2027-04-30</td>\n",
       "      <td>2026-09-30</td>\n",
       "      <td>-7.0</td>\n",
       "      <td>0</td>\n",
       "      <td>0</td>\n",
       "      <td>1</td>\n",
       "      <td>1</td>\n",
       "    </tr>\n",
       "    <tr>\n",
       "      <th>237915</th>\n",
       "      <td>3901</td>\n",
       "      <td>2027-05-31</td>\n",
       "      <td>2026-09-30</td>\n",
       "      <td>-8.0</td>\n",
       "      <td>0</td>\n",
       "      <td>0</td>\n",
       "      <td>1</td>\n",
       "      <td>1</td>\n",
       "    </tr>\n",
       "    <tr>\n",
       "      <th>237916</th>\n",
       "      <td>3901</td>\n",
       "      <td>2027-06-30</td>\n",
       "      <td>2026-09-30</td>\n",
       "      <td>-9.0</td>\n",
       "      <td>0</td>\n",
       "      <td>0</td>\n",
       "      <td>1</td>\n",
       "      <td>1</td>\n",
       "    </tr>\n",
       "    <tr>\n",
       "      <th>237917</th>\n",
       "      <td>3901</td>\n",
       "      <td>2027-07-31</td>\n",
       "      <td>2026-09-30</td>\n",
       "      <td>-10.0</td>\n",
       "      <td>0</td>\n",
       "      <td>0</td>\n",
       "      <td>1</td>\n",
       "      <td>1</td>\n",
       "    </tr>\n",
       "    <tr>\n",
       "      <th>237918</th>\n",
       "      <td>3901</td>\n",
       "      <td>2027-08-31</td>\n",
       "      <td>2026-09-30</td>\n",
       "      <td>-11.0</td>\n",
       "      <td>0</td>\n",
       "      <td>0</td>\n",
       "      <td>1</td>\n",
       "      <td>1</td>\n",
       "    </tr>\n",
       "    <tr>\n",
       "      <th>237919</th>\n",
       "      <td>3901</td>\n",
       "      <td>2027-09-30</td>\n",
       "      <td>2026-09-30</td>\n",
       "      <td>-12.0</td>\n",
       "      <td>0</td>\n",
       "      <td>0</td>\n",
       "      <td>1</td>\n",
       "      <td>1</td>\n",
       "    </tr>\n",
       "    <tr>\n",
       "      <th>237920</th>\n",
       "      <td>3901</td>\n",
       "      <td>2027-10-31</td>\n",
       "      <td>2026-09-30</td>\n",
       "      <td>-13.0</td>\n",
       "      <td>0</td>\n",
       "      <td>0</td>\n",
       "      <td>1</td>\n",
       "      <td>1</td>\n",
       "    </tr>\n",
       "    <tr>\n",
       "      <th>237921</th>\n",
       "      <td>3901</td>\n",
       "      <td>2027-11-30</td>\n",
       "      <td>2026-09-30</td>\n",
       "      <td>-14.0</td>\n",
       "      <td>0</td>\n",
       "      <td>0</td>\n",
       "      <td>1</td>\n",
       "      <td>1</td>\n",
       "    </tr>\n",
       "    <tr>\n",
       "      <th>237922</th>\n",
       "      <td>3901</td>\n",
       "      <td>2027-12-31</td>\n",
       "      <td>2026-09-30</td>\n",
       "      <td>-15.0</td>\n",
       "      <td>0</td>\n",
       "      <td>0</td>\n",
       "      <td>1</td>\n",
       "      <td>1</td>\n",
       "    </tr>\n",
       "  </tbody>\n",
       "</table>\n",
       "</div>"
      ],
      "text/plain": [
       "          id       date default_date  default_month  days_late  is_default  \\\n",
       "237900  3901 2026-02-28   2026-09-30            7.0          0           0   \n",
       "237901  3901 2026-03-31   2026-09-30            6.0          0           0   \n",
       "237902  3901 2026-04-30   2026-09-30            5.0          0           0   \n",
       "237903  3901 2026-05-31   2026-09-30            4.0          0           0   \n",
       "237904  3901 2026-06-30   2026-09-30            3.0          1           0   \n",
       "237905  3901 2026-07-31   2026-09-30            2.0         30           0   \n",
       "237906  3901 2026-08-31   2026-09-30            1.0         60           0   \n",
       "237907  3901 2026-09-30   2026-09-30            0.0         90           1   \n",
       "237908  3901 2026-10-31   2026-09-30           -1.0          0           0   \n",
       "237909  3901 2026-11-30   2026-09-30           -2.0          0           0   \n",
       "237910  3901 2026-12-31   2026-09-30           -3.0          0           0   \n",
       "237911  3901 2027-01-31   2026-09-30           -4.0          0           0   \n",
       "237912  3901 2027-02-28   2026-09-30           -5.0          0           0   \n",
       "237913  3901 2027-03-31   2026-09-30           -6.0          0           0   \n",
       "237914  3901 2027-04-30   2026-09-30           -7.0          0           0   \n",
       "237915  3901 2027-05-31   2026-09-30           -8.0          0           0   \n",
       "237916  3901 2027-06-30   2026-09-30           -9.0          0           0   \n",
       "237917  3901 2027-07-31   2026-09-30          -10.0          0           0   \n",
       "237918  3901 2027-08-31   2026-09-30          -11.0          0           0   \n",
       "237919  3901 2027-09-30   2026-09-30          -12.0          0           0   \n",
       "237920  3901 2027-10-31   2026-09-30          -13.0          0           0   \n",
       "237921  3901 2027-11-30   2026-09-30          -14.0          0           0   \n",
       "237922  3901 2027-12-31   2026-09-30          -15.0          0           0   \n",
       "\n",
       "        default_flag  stage  \n",
       "237900             1      1  \n",
       "237901             1      1  \n",
       "237902             1      1  \n",
       "237903             1      1  \n",
       "237904             1      1  \n",
       "237905             1      2  \n",
       "237906             1      2  \n",
       "237907             1      3  \n",
       "237908             1      1  \n",
       "237909             1      1  \n",
       "237910             1      1  \n",
       "237911             1      1  \n",
       "237912             1      1  \n",
       "237913             1      1  \n",
       "237914             1      1  \n",
       "237915             1      1  \n",
       "237916             1      1  \n",
       "237917             1      1  \n",
       "237918             1      1  \n",
       "237919             1      1  \n",
       "237920             1      1  \n",
       "237921             1      1  \n",
       "237922             1      1  "
      ]
     },
     "execution_count": 674,
     "metadata": {},
     "output_type": "execute_result"
    }
   ],
   "source": [
    "df_sample[df_sample['id']==3901][['id', 'date', 'default_date', 'default_month', 'days_late', 'is_default', 'default_flag', 'stage']]"
   ]
  },
  {
   "cell_type": "code",
   "execution_count": 698,
   "id": "4bb51e10",
   "metadata": {},
   "outputs": [
    {
     "data": {
      "application/vnd.plotly.v1+json": {
       "config": {
        "plotlyServerURL": "https://plot.ly"
       },
       "data": [
        {
         "hovertemplate": "color=2025-Jan<br>variable=id<br>default_month=%{x}<br>value=%{y}<extra></extra>",
         "legendgroup": "2025-Jan",
         "line": {
          "color": "#bfd1e2",
          "dash": "solid"
         },
         "marker": {
          "symbol": "circle"
         },
         "mode": "lines",
         "name": "2025-Jan",
         "showlegend": true,
         "type": "scattergl",
         "x": {
          "bdata": "AAAAAAAAEEAAAAAAAAAUQAAAAAAAABhAAAAAAAAAHEAAAAAAAAAgQAAAAAAAACJAAAAAAAAAJEAAAAAAAAAmQAAAAAAAAChAAAAAAAAALkAAAAAAAAAxQAAAAAAAADpA",
          "dtype": "f8"
         },
         "xaxis": "x5",
         "y": {
          "bdata": "AAAAAADQcUAAAAAAANBxQAAAAAAA0HFAAAAAAADQcUAAAAAAANBxQAAAAAAA0HFAAAAAAADQcUAAAAAAANBxQAAAAAAA0HFAAAAAAADQcUAAAAAAANBxQAAAAAAA0HFA",
          "dtype": "f8"
         },
         "yaxis": "y5"
        },
        {
         "hovertemplate": "color=2025-Jan<br>variable=balance<br>default_month=%{x}<br>value=%{y}<extra></extra>",
         "legendgroup": "2025-Jan",
         "line": {
          "color": "#bfd1e2",
          "dash": "solid"
         },
         "marker": {
          "symbol": "circle"
         },
         "mode": "lines",
         "name": "2025-Jan",
         "showlegend": false,
         "type": "scattergl",
         "x": {
          "bdata": "AAAAAAAAEEAAAAAAAAAUQAAAAAAAABhAAAAAAAAAHEAAAAAAAAAgQAAAAAAAACJAAAAAAAAAJEAAAAAAAAAmQAAAAAAAAChAAAAAAAAALkAAAAAAAAAxQAAAAAAAADpA",
          "dtype": "f8"
         },
         "xaxis": "x6",
         "y": {
          "bdata": "67AxT4wOMEHrsDFPjA4wQeuwMU+MDjBB67AxT4wOMEHrsDFPjA4wQeuwMU+MDjBB67AxT4wOMEHrsDFPjA4wQeuwMU+MDjBB67AxT4wOMEHrsDFPjA4wQeuwMU+MDjBB",
          "dtype": "f8"
         },
         "yaxis": "y6"
        },
        {
         "hovertemplate": "color=2025-Jan<br>variable=default_rate<br>default_month=%{x}<br>value=%{y}<extra></extra>",
         "legendgroup": "2025-Jan",
         "line": {
          "color": "#bfd1e2",
          "dash": "solid"
         },
         "marker": {
          "symbol": "circle"
         },
         "mode": "lines",
         "name": "2025-Jan",
         "showlegend": false,
         "type": "scattergl",
         "x": {
          "bdata": "AAAAAAAAEEAAAAAAAAAUQAAAAAAAABhAAAAAAAAAHEAAAAAAAAAgQAAAAAAAACJAAAAAAAAAJEAAAAAAAAAmQAAAAAAAAChAAAAAAAAALkAAAAAAAAAxQAAAAAAAADpA",
          "dtype": "f8"
         },
         "xaxis": "x3",
         "y": {
          "bdata": "58sBlm2+fD/tWIEw0o6FP+fLAZZtvnw/58sBlm2+bD/nywGWbb6MP+1YgTDSjoU/58sBlm2+fD/nywGWbb58P+fLAZZtvmw/58sBlm2+bD/nywGWbb5sP+fLAZZtvnw/",
          "dtype": "f8"
         },
         "yaxis": "y3"
        },
        {
         "hovertemplate": "color=2025-Jan<br>variable=cum_default<br>default_month=%{x}<br>value=%{y}<extra></extra>",
         "legendgroup": "2025-Jan",
         "line": {
          "color": "#bfd1e2",
          "dash": "solid"
         },
         "marker": {
          "symbol": "circle"
         },
         "mode": "lines",
         "name": "2025-Jan",
         "showlegend": false,
         "type": "scattergl",
         "x": {
          "bdata": "AAAAAAAAEEAAAAAAAAAUQAAAAAAAABhAAAAAAAAAHEAAAAAAAAAgQAAAAAAAACJAAAAAAAAAJEAAAAAAAAAmQAAAAAAAAChAAAAAAAAALkAAAAAAAAAxQAAAAAAAADpA",
          "dtype": "f8"
         },
         "xaxis": "x4",
         "y": {
          "bdata": "58sBlm2+fD9wH8F9BPeRP2qSQeOfJpk/58sBlm2+nD/tWIEw0o6lPyivobyG8qo/pehhb1SKrj8RERERERGxP3AfwX0E97E/0C1x6vfcsj8vPCFX68KzP+1YgTDSjrU/",
          "dtype": "f8"
         },
         "yaxis": "y4"
        },
        {
         "hovertemplate": "color=2025-Jan<br>variable=default_rate_bal<br>default_month=%{x}<br>value=%{y}<extra></extra>",
         "legendgroup": "2025-Jan",
         "line": {
          "color": "#bfd1e2",
          "dash": "solid"
         },
         "marker": {
          "symbol": "circle"
         },
         "mode": "lines",
         "name": "2025-Jan",
         "showlegend": false,
         "type": "scattergl",
         "x": {
          "bdata": "AAAAAAAAEEAAAAAAAAAUQAAAAAAAABhAAAAAAAAAHEAAAAAAAAAgQAAAAAAAACJAAAAAAAAAJEAAAAAAAAAmQAAAAAAAAChAAAAAAAAALkAAAAAAAAAxQAAAAAAAADpA",
          "dtype": "f8"
         },
         "xaxis": "x",
         "y": {
          "bdata": "+0KbIvRHKz+f2WY5nqtcPzxNLJ0nb1U/3Jz4kM/J+D7eYyrbfPRqP6Eg74H7d1I/POmkr8VKXT8s2I1HxqxcP8TsYnSInDs/LP3Ti1Vq/D63bZWXe5N8P/MyD0tj9Hg/",
          "dtype": "f8"
         },
         "yaxis": "y"
        },
        {
         "hovertemplate": "color=2025-Jan<br>variable=cum_default_rate_bal<br>default_month=%{x}<br>value=%{y}<extra></extra>",
         "legendgroup": "2025-Jan",
         "line": {
          "color": "#bfd1e2",
          "dash": "solid"
         },
         "marker": {
          "symbol": "circle"
         },
         "mode": "lines",
         "name": "2025-Jan",
         "showlegend": false,
         "type": "scattergl",
         "x": {
          "bdata": "AAAAAAAAEEAAAAAAAAAUQAAAAAAAABhAAAAAAAAAHEAAAAAAAAAgQAAAAAAAACJAAAAAAAAAJEAAAAAAAAAmQAAAAAAAAChAAAAAAAAALkAAAAAAAAAxQAAAAAAAADpA",
          "dtype": "f8"
         },
         "xaxis": "x2",
         "y": {
          "bdata": "+0KbIvRHKz//IN1eTgpgP51Hcy3iwWo/1ziVzHXzaj9azt9T+fN6P4OWWzT4kX8/aWgi0FRygz9uIxSZ7QeHP9Q6t9zR5Ic/0yR9Bwfzhz/X7aNpYh6TP5S6Zzx7W5k/",
          "dtype": "f8"
         },
         "yaxis": "y2"
        },
        {
         "hovertemplate": "color=2025-Feb<br>variable=id<br>default_month=%{x}<br>value=%{y}<extra></extra>",
         "legendgroup": "2025-Feb",
         "line": {
          "color": "#b9cde0",
          "dash": "solid"
         },
         "marker": {
          "symbol": "circle"
         },
         "mode": "lines",
         "name": "2025-Feb",
         "showlegend": true,
         "type": "scattergl",
         "x": {
          "bdata": "AAAAAAAACEAAAAAAAAAQQAAAAAAAABRAAAAAAAAAGEAAAAAAAAAcQAAAAAAAACBAAAAAAAAAIkAAAAAAAAAkQAAAAAAAACZAAAAAAAAAKEAAAAAAAAAsQAAAAAAAAC5AAAAAAAAAMEAAAAAAAAAyQAAAAAAAADNAAAAAAAAAOUAAAAAAAAA8QAAAAAAAgEBA",
          "dtype": "f8"
         },
         "xaxis": "x5",
         "y": {
          "bdata": "AAAAAABQgUAAAAAAAFCBQAAAAAAAUIFAAAAAAABQgUAAAAAAAFCBQAAAAAAAUIFAAAAAAABQgUAAAAAAAFCBQAAAAAAAUIFAAAAAAABQgUAAAAAAAFCBQAAAAAAAUIFAAAAAAABQgUAAAAAAAFCBQAAAAAAAUIFAAAAAAABQgUAAAAAAAFCBQAAAAAAAUIFA",
          "dtype": "f8"
         },
         "yaxis": "y5"
        },
        {
         "hovertemplate": "color=2025-Feb<br>variable=balance<br>default_month=%{x}<br>value=%{y}<extra></extra>",
         "legendgroup": "2025-Feb",
         "line": {
          "color": "#b9cde0",
          "dash": "solid"
         },
         "marker": {
          "symbol": "circle"
         },
         "mode": "lines",
         "name": "2025-Feb",
         "showlegend": false,
         "type": "scattergl",
         "x": {
          "bdata": "AAAAAAAACEAAAAAAAAAQQAAAAAAAABRAAAAAAAAAGEAAAAAAAAAcQAAAAAAAACBAAAAAAAAAIkAAAAAAAAAkQAAAAAAAACZAAAAAAAAAKEAAAAAAAAAsQAAAAAAAAC5AAAAAAAAAMEAAAAAAAAAyQAAAAAAAADNAAAAAAAAAOUAAAAAAAAA8QAAAAAAAgEBA",
          "dtype": "f8"
         },
         "xaxis": "x6",
         "y": {
          "bdata": "4AqpN7B7QEHgCqk3sHtAQeAKqTewe0BB4AqpN7B7QEHgCqk3sHtAQeAKqTewe0BB4AqpN7B7QEHgCqk3sHtAQeAKqTewe0BB4AqpN7B7QEHgCqk3sHtAQeAKqTewe0BB4AqpN7B7QEHgCqk3sHtAQeAKqTewe0BB4AqpN7B7QEHgCqk3sHtAQeAKqTewe0BB",
          "dtype": "f8"
         },
         "yaxis": "y6"
        },
        {
         "hovertemplate": "color=2025-Feb<br>variable=default_rate<br>default_month=%{x}<br>value=%{y}<extra></extra>",
         "legendgroup": "2025-Feb",
         "line": {
          "color": "#b9cde0",
          "dash": "solid"
         },
         "marker": {
          "symbol": "circle"
         },
         "mode": "lines",
         "name": "2025-Feb",
         "showlegend": false,
         "type": "scattergl",
         "x": {
          "bdata": "AAAAAAAACEAAAAAAAAAQQAAAAAAAABRAAAAAAAAAGEAAAAAAAAAcQAAAAAAAACBAAAAAAAAAIkAAAAAAAAAkQAAAAAAAACZAAAAAAAAAKEAAAAAAAAAsQAAAAAAAAC5AAAAAAAAAMEAAAAAAAAAyQAAAAAAAADNAAAAAAAAAOUAAAAAAAAA8QAAAAAAAgEBA",
          "dtype": "f8"
         },
         "xaxis": "x3",
         "y": {
          "bdata": "in8eI/KSbT+n31aaNS6GP6ffVpo1LoY/in8eI/KSXT+2D/NV13uCP6ffVpo1LoY/in8eI/KSbT+n31aaNS6GP6ffVpo1LnY/in8eI/KSXT+Kfx4j8pJtP4p/HiPykl0/in8eI/KSXT+Kfx4j8pJdP4p/HiPykl0/in8eI/KSbT+Kfx4j8pJdP4p/HiPykl0/",
          "dtype": "f8"
         },
         "yaxis": "y3"
        },
        {
         "hovertemplate": "color=2025-Feb<br>variable=cum_default<br>default_month=%{x}<br>value=%{y}<extra></extra>",
         "legendgroup": "2025-Feb",
         "line": {
          "color": "#b9cde0",
          "dash": "solid"
         },
         "marker": {
          "symbol": "circle"
         },
         "mode": "lines",
         "name": "2025-Feb",
         "showlegend": false,
         "type": "scattergl",
         "x": {
          "bdata": "AAAAAAAACEAAAAAAAAAQQAAAAAAAABRAAAAAAAAAGEAAAAAAAAAcQAAAAAAAACBAAAAAAAAAIkAAAAAAAAAkQAAAAAAAACZAAAAAAAAAKEAAAAAAAAAsQAAAAAAAAC5AAAAAAAAAMEAAAAAAAAAyQAAAAAAAADNAAAAAAAAAOUAAAAAAAAA8QAAAAAAAgEBA",
          "dtype": "f8"
         },
         "xaxis": "x4",
         "y": {
          "bdata": "in8eI/KSbT+Kfx4j8pKNP5ivut6T4Jk/kZfsAMO5mz+2D/NV13uiP6DHiLxkB6g/mK+63pPgqT+CZ1BFIWyvP7uhTfzzGLE/uhvaxD+PsT+2D/NV13uyP7SJfx4j8rI/sgMM525osz+wfZivut6zP6/3JHgGVbQ/q+s9CZ5BtT+pZcrR6be1P6ffVpo1LrY/",
          "dtype": "f8"
         },
         "yaxis": "y4"
        },
        {
         "hovertemplate": "color=2025-Feb<br>variable=default_rate_bal<br>default_month=%{x}<br>value=%{y}<extra></extra>",
         "legendgroup": "2025-Feb",
         "line": {
          "color": "#b9cde0",
          "dash": "solid"
         },
         "marker": {
          "symbol": "circle"
         },
         "mode": "lines",
         "name": "2025-Feb",
         "showlegend": false,
         "type": "scattergl",
         "x": {
          "bdata": "AAAAAAAACEAAAAAAAAAQQAAAAAAAABRAAAAAAAAAGEAAAAAAAAAcQAAAAAAAACBAAAAAAAAAIkAAAAAAAAAkQAAAAAAAACZAAAAAAAAAKEAAAAAAAAAsQAAAAAAAAC5AAAAAAAAAMEAAAAAAAAAyQAAAAAAAADNAAAAAAAAAOUAAAAAAAAA8QAAAAAAAgEBA",
          "dtype": "f8"
         },
         "xaxis": "x",
         "y": {
          "bdata": "iCgkJFGTGj+lgiSZgFxSP8zIVF4ZxlU/DNij660l6D6RGX85I65eP51pNtWZQlM/bNPd6dGITD8r4xxIvY5jP50jxy4eJ1w/fi8KCwuHOT+99NA0bZBPPwoc9QoAizY/kdIEcEXWaz9mfcRvhyEuP5UT41vicTw/0jUluydPaD9QIXeKhZhKP3s4xKBjAQY/",
          "dtype": "f8"
         },
         "yaxis": "y"
        },
        {
         "hovertemplate": "color=2025-Feb<br>variable=cum_default_rate_bal<br>default_month=%{x}<br>value=%{y}<extra></extra>",
         "legendgroup": "2025-Feb",
         "line": {
          "color": "#b9cde0",
          "dash": "solid"
         },
         "marker": {
          "symbol": "circle"
         },
         "mode": "lines",
         "name": "2025-Feb",
         "showlegend": false,
         "type": "scattergl",
         "x": {
          "bdata": "AAAAAAAACEAAAAAAAAAQQAAAAAAAABRAAAAAAAAAGEAAAAAAAAAcQAAAAAAAACBAAAAAAAAAIkAAAAAAAAAkQAAAAAAAACZAAAAAAAAAKEAAAAAAAAAsQAAAAAAAAC5AAAAAAAAAMEAAAAAAAAAyQAAAAAAAADNAAAAAAAAAOUAAAAAAAAA8QAAAAAAAgEBA",
          "dtype": "f8"
         },
         "xaxis": "x2",
         "y": {
          "bdata": "iCgkJFGTGj8uxWartQVUP/zG3YTn5WQ/1WrJMg3+ZD/Oe8RnjypyPzYWEt01+3Y/o9BNGlCMej8cIS5f1ymCP5AFByW7roU/DFdfffN6hj9YZqxQ+nOIPzgPBFFSKIk/7qGC1vEOkD/pKmLlNEuQPze30W78vJA/8l02ZuHGkz/8FoqSpZuUPxh5WkSmppQ/",
          "dtype": "f8"
         },
         "yaxis": "y2"
        },
        {
         "hovertemplate": "color=2025-Mar<br>variable=id<br>default_month=%{x}<br>value=%{y}<extra></extra>",
         "legendgroup": "2025-Mar",
         "line": {
          "color": "#b4c9dd",
          "dash": "solid"
         },
         "marker": {
          "symbol": "circle"
         },
         "mode": "lines",
         "name": "2025-Mar",
         "showlegend": true,
         "type": "scattergl",
         "x": {
          "bdata": "AAAAAAAAAEAAAAAAAAAIQAAAAAAAABBAAAAAAAAAFEAAAAAAAAAYQAAAAAAAABxAAAAAAAAAIEAAAAAAAAAiQAAAAAAAACRAAAAAAAAAJkAAAAAAAAAoQAAAAAAAACpAAAAAAAAALEAAAAAAAAAuQAAAAAAAADBAAAAAAAAAMUAAAAAAAAAyQAAAAAAAADNAAAAAAAAAOEAAAAAAAAA7QAAAAAAAAEBA",
          "dtype": "f8"
         },
         "xaxis": "x5",
         "y": {
          "bdata": "AAAAAABgikAAAAAAAGCKQAAAAAAAYIpAAAAAAABgikAAAAAAAGCKQAAAAAAAYIpAAAAAAABgikAAAAAAAGCKQAAAAAAAYIpAAAAAAABgikAAAAAAAGCKQAAAAAAAYIpAAAAAAABgikAAAAAAAGCKQAAAAAAAYIpAAAAAAABgikAAAAAAAGCKQAAAAAAAYIpAAAAAAABgikAAAAAAAGCKQAAAAAAAYIpA",
          "dtype": "f8"
         },
         "yaxis": "y5"
        },
        {
         "hovertemplate": "color=2025-Mar<br>variable=balance<br>default_month=%{x}<br>value=%{y}<extra></extra>",
         "legendgroup": "2025-Mar",
         "line": {
          "color": "#b4c9dd",
          "dash": "solid"
         },
         "marker": {
          "symbol": "circle"
         },
         "mode": "lines",
         "name": "2025-Mar",
         "showlegend": false,
         "type": "scattergl",
         "x": {
          "bdata": "AAAAAAAAAEAAAAAAAAAIQAAAAAAAABBAAAAAAAAAFEAAAAAAAAAYQAAAAAAAABxAAAAAAAAAIEAAAAAAAAAiQAAAAAAAACRAAAAAAAAAJkAAAAAAAAAoQAAAAAAAACpAAAAAAAAALEAAAAAAAAAuQAAAAAAAADBAAAAAAAAAMUAAAAAAAAAyQAAAAAAAADNAAAAAAAAAOEAAAAAAAAA7QAAAAAAAAEBA",
          "dtype": "f8"
         },
         "xaxis": "x6",
         "y": {
          "bdata": "+7yTJu83SkH7vJMm7zdKQfu8kybvN0pB+7yTJu83SkH7vJMm7zdKQfu8kybvN0pB+7yTJu83SkH7vJMm7zdKQfu8kybvN0pB+7yTJu83SkH7vJMm7zdKQfu8kybvN0pB+7yTJu83SkH7vJMm7zdKQfu8kybvN0pB+7yTJu83SkH7vJMm7zdKQfu8kybvN0pB+7yTJu83SkH7vJMm7zdKQfu8kybvN0pB",
          "dtype": "f8"
         },
         "yaxis": "y6"
        },
        {
         "hovertemplate": "color=2025-Mar<br>variable=default_rate<br>default_month=%{x}<br>value=%{y}<extra></extra>",
         "legendgroup": "2025-Mar",
         "line": {
          "color": "#b4c9dd",
          "dash": "solid"
         },
         "marker": {
          "symbol": "circle"
         },
         "mode": "lines",
         "name": "2025-Mar",
         "showlegend": false,
         "type": "scattergl",
         "x": {
          "bdata": "AAAAAAAAAEAAAAAAAAAIQAAAAAAAABBAAAAAAAAAFEAAAAAAAAAYQAAAAAAAABxAAAAAAAAAIEAAAAAAAAAiQAAAAAAAACRAAAAAAAAAJkAAAAAAAAAoQAAAAAAAACpAAAAAAAAALEAAAAAAAAAuQAAAAAAAADBAAAAAAAAAMUAAAAAAAAAyQAAAAAAAADNAAAAAAAAAOEAAAAAAAAA7QAAAAAAAAEBA",
          "dtype": "f8"
         },
         "xaxis": "x3",
         "y": {
          "bdata": "SAfe841pYz/rCs3tVB59P0gH3vONaYM/SAfe841pcz9fRmI1XPyAP19GYjVc/IA/6wrN7VQebT9fRmI1XPyAP0gH3vONaXM/SAfe841pUz9IB97zjWlTP0gH3vONaWM/SAfe841pYz9IB97zjWlTP0gH3vONaVM/6wrN7VQebT9IB97zjWlTP0gH3vONaVM/SAfe841pYz9IB97zjWlTP0gH3vONaVM/",
          "dtype": "f8"
         },
         "yaxis": "y3"
        },
        {
         "hovertemplate": "color=2025-Mar<br>variable=cum_default<br>default_month=%{x}<br>value=%{y}<extra></extra>",
         "legendgroup": "2025-Mar",
         "line": {
          "color": "#b4c9dd",
          "dash": "solid"
         },
         "marker": {
          "symbol": "circle"
         },
         "mode": "lines",
         "name": "2025-Mar",
         "showlegend": false,
         "type": "scattergl",
         "x": {
          "bdata": "AAAAAAAAAEAAAAAAAAAIQAAAAAAAABBAAAAAAAAAFEAAAAAAAAAYQAAAAAAAABxAAAAAAAAAIEAAAAAAAAAiQAAAAAAAACRAAAAAAAAAJkAAAAAAAAAoQAAAAAAAACpAAAAAAAAALEAAAAAAAAAuQAAAAAAAADBAAAAAAAAAMUAAAAAAAAAyQAAAAAAAADNAAAAAAAAAOEAAAAAAAAA7QAAAAAAAAEBA",
          "dtype": "f8"
         },
         "xaxis": "x4",
         "y": {
          "bdata": "SAfe841pYz9IB97zjWmDP0gH3vONaZM/GonVcPFDmD8lVsPFD2GgP7znG9MmoKQ/a7j4IQxypj8DSlEvI7GqP+wKze1UHq0/JvtrXaG5rT9g6wrN7VSuP9XLSKyGi68/JVbDxQ9hsD9CzpL9ta6wP19GYjVc/LA/tq7Q3E7lsT/TJqAU9TKyP/Geb0ybgLI/K48OvOcbsz9IB97zjWmzP2V/rSs0t7M/",
          "dtype": "f8"
         },
         "yaxis": "y4"
        },
        {
         "hovertemplate": "color=2025-Mar<br>variable=default_rate_bal<br>default_month=%{x}<br>value=%{y}<extra></extra>",
         "legendgroup": "2025-Mar",
         "line": {
          "color": "#b4c9dd",
          "dash": "solid"
         },
         "marker": {
          "symbol": "circle"
         },
         "mode": "lines",
         "name": "2025-Mar",
         "showlegend": false,
         "type": "scattergl",
         "x": {
          "bdata": "AAAAAAAAAEAAAAAAAAAIQAAAAAAAABBAAAAAAAAAFEAAAAAAAAAYQAAAAAAAABxAAAAAAAAAIEAAAAAAAAAiQAAAAAAAACRAAAAAAAAAJkAAAAAAAAAoQAAAAAAAACpAAAAAAAAALEAAAAAAAAAuQAAAAAAAADBAAAAAAAAAMUAAAAAAAAAyQAAAAAAAADNAAAAAAAAAOEAAAAAAAAA7QAAAAAAAAEBA",
          "dtype": "f8"
         },
         "xaxis": "x",
         "y": {
          "bdata": "5tuHpyO1ED9B0BzZQxZHP29Uop3J/kw/H6ySHRoeNj84UYn1bdxYP0lTFbU4XEg/lZYKo2wuSj/Zrhe1SOVaP2wz5K8sEVQ/ywIhznoMMD+Jt92f+ngsP6jdWcYJ2EM/WjZP4aCXPT8XYuDzLIBhP/1XpwbI9zQ/jRW3uYsgUD+ZV8nNAeIxP0Auuz0eg1M/+w27Hs2QXj95hTZQabhAPyMPjnI/q/s+",
          "dtype": "f8"
         },
         "yaxis": "y"
        },
        {
         "hovertemplate": "color=2025-Mar<br>variable=cum_default_rate_bal<br>default_month=%{x}<br>value=%{y}<extra></extra>",
         "legendgroup": "2025-Mar",
         "line": {
          "color": "#b4c9dd",
          "dash": "solid"
         },
         "marker": {
          "symbol": "circle"
         },
         "mode": "lines",
         "name": "2025-Mar",
         "showlegend": false,
         "type": "scattergl",
         "x": {
          "bdata": "AAAAAAAAAEAAAAAAAAAIQAAAAAAAABBAAAAAAAAAFEAAAAAAAAAYQAAAAAAAABxAAAAAAAAAIEAAAAAAAAAiQAAAAAAAACRAAAAAAAAAJkAAAAAAAAAoQAAAAAAAACpAAAAAAAAALEAAAAAAAAAuQAAAAAAAADBAAAAAAAAAMUAAAAAAAAAyQAAAAAAAADNAAAAAAAAAOEAAAAAAAAA7QAAAAAAAAEBA",
          "dtype": "f8"
         },
         "xaxis": "x2",
         "y": {
          "bdata": "5tuHpyO1ED++yw1O6CxJPxYQ2PXYFVs/j12evq9OYD8rBmO55rxsP38tVHP6aXE/UYC1B8ivdD8IbPs0Gml7P3E8erCyNoA/iETrhha3gD9mu2px+iiBP0BZ0A17ZoI/89LaFDhTgz9569JRQ7OHPzkmCJIBW4g/6gg/CRNfij+nU60XI+6KP2+5ZN+GXo0/lw2eQVCYkD/DwR+MEx6RP0dl/Fv+JJE/",
          "dtype": "f8"
         },
         "yaxis": "y2"
        },
        {
         "hovertemplate": "color=2025-Apr<br>variable=id<br>default_month=%{x}<br>value=%{y}<extra></extra>",
         "legendgroup": "2025-Apr",
         "line": {
          "color": "#aec5db",
          "dash": "solid"
         },
         "marker": {
          "symbol": "circle"
         },
         "mode": "lines",
         "name": "2025-Apr",
         "showlegend": true,
         "type": "scattergl",
         "x": {
          "bdata": "AAAAAAAA8D8AAAAAAAAAQAAAAAAAAAhAAAAAAAAAEEAAAAAAAAAUQAAAAAAAABhAAAAAAAAAHEAAAAAAAAAgQAAAAAAAACJAAAAAAAAAJEAAAAAAAAAmQAAAAAAAAChAAAAAAAAAKkAAAAAAAAAsQAAAAAAAAC5AAAAAAAAAMEAAAAAAAAAxQAAAAAAAADJAAAAAAAAANUAAAAAAAAA3QAAAAAAAADlAAAAAAAAAOkAAAAAAAAA8QAAAAAAAAD9A",
          "dtype": "f8"
         },
         "xaxis": "x5",
         "y": {
          "bdata": "AAAAAAAAkkAAAAAAAACSQAAAAAAAAJJAAAAAAAAAkkAAAAAAAACSQAAAAAAAAJJAAAAAAAAAkkAAAAAAAACSQAAAAAAAAJJAAAAAAAAAkkAAAAAAAACSQAAAAAAAAJJAAAAAAAAAkkAAAAAAAACSQAAAAAAAAJJAAAAAAAAAkkAAAAAAAACSQAAAAAAAAJJAAAAAAAAAkkAAAAAAAACSQAAAAAAAAJJAAAAAAAAAkkAAAAAAAACSQAAAAAAAAJJA",
          "dtype": "f8"
         },
         "yaxis": "y5"
        },
        {
         "hovertemplate": "color=2025-Apr<br>variable=balance<br>default_month=%{x}<br>value=%{y}<extra></extra>",
         "legendgroup": "2025-Apr",
         "line": {
          "color": "#aec5db",
          "dash": "solid"
         },
         "marker": {
          "symbol": "circle"
         },
         "mode": "lines",
         "name": "2025-Apr",
         "showlegend": false,
         "type": "scattergl",
         "x": {
          "bdata": "AAAAAAAA8D8AAAAAAAAAQAAAAAAAAAhAAAAAAAAAEEAAAAAAAAAUQAAAAAAAABhAAAAAAAAAHEAAAAAAAAAgQAAAAAAAACJAAAAAAAAAJEAAAAAAAAAmQAAAAAAAAChAAAAAAAAAKkAAAAAAAAAsQAAAAAAAAC5AAAAAAAAAMEAAAAAAAAAxQAAAAAAAADJAAAAAAAAANUAAAAAAAAA3QAAAAAAAADlAAAAAAAAAOkAAAAAAAAA8QAAAAAAAAD9A",
          "dtype": "f8"
         },
         "xaxis": "x6",
         "y": {
          "bdata": "6VpsVEEAUkHpWmxUQQBSQelabFRBAFJB6VpsVEEAUkHpWmxUQQBSQelabFRBAFJB6VpsVEEAUkHpWmxUQQBSQelabFRBAFJB6VpsVEEAUkHpWmxUQQBSQelabFRBAFJB6VpsVEEAUkHpWmxUQQBSQelabFRBAFJB6VpsVEEAUkHpWmxUQQBSQelabFRBAFJB6VpsVEEAUkHpWmxUQQBSQelabFRBAFJB6VpsVEEAUkHpWmxUQQBSQelabFRBAFJB",
          "dtype": "f8"
         },
         "yaxis": "y6"
        },
        {
         "hovertemplate": "color=2025-Apr<br>variable=default_rate<br>default_month=%{x}<br>value=%{y}<extra></extra>",
         "legendgroup": "2025-Apr",
         "line": {
          "color": "#aec5db",
          "dash": "solid"
         },
         "marker": {
          "symbol": "circle"
         },
         "mode": "lines",
         "name": "2025-Apr",
         "showlegend": false,
         "type": "scattergl",
         "x": {
          "bdata": "AAAAAAAA8D8AAAAAAAAAQAAAAAAAAAhAAAAAAAAAEEAAAAAAAAAUQAAAAAAAABhAAAAAAAAAHEAAAAAAAAAgQAAAAAAAACJAAAAAAAAAJEAAAAAAAAAmQAAAAAAAAChAAAAAAAAAKkAAAAAAAAAsQAAAAAAAAC5AAAAAAAAAMEAAAAAAAAAxQAAAAAAAADJAAAAAAAAANUAAAAAAAAA3QAAAAAAAADlAAAAAAAAAOkAAAAAAAAA8QAAAAAAAAD9A",
          "dtype": "f8"
         },
         "xaxis": "x3",
         "y": {
          "bdata": "HMdxHMdxXD9VVVVVVVV1PxzHcRzHcXw/AAAAAAAAgD9yHMdxHMeBPwAAAAAAAIA/VVVVVVVVdT85juM4juN4PzmO4ziO43g/HMdxHMdxTD8cx3Ecx3FMPxzHcRzHcWw/VVVVVVVVZT8cx3Ecx3FMPxzHcRzHcUw/VVVVVVVVZT8cx3Ecx3FMPxzHcRzHcUw/HMdxHMdxTD8cx3Ecx3FcPxzHcRzHcUw/HMdxHMdxTD8cx3Ecx3FMP1VVVVVVVWU/",
          "dtype": "f8"
         },
         "yaxis": "y3"
        },
        {
         "hovertemplate": "color=2025-Apr<br>variable=cum_default<br>default_month=%{x}<br>value=%{y}<extra></extra>",
         "legendgroup": "2025-Apr",
         "line": {
          "color": "#aec5db",
          "dash": "solid"
         },
         "marker": {
          "symbol": "circle"
         },
         "mode": "lines",
         "name": "2025-Apr",
         "showlegend": false,
         "type": "scattergl",
         "x": {
          "bdata": "AAAAAAAA8D8AAAAAAAAAQAAAAAAAAAhAAAAAAAAAEEAAAAAAAAAUQAAAAAAAABhAAAAAAAAAHEAAAAAAAAAgQAAAAAAAACJAAAAAAAAAJEAAAAAAAAAmQAAAAAAAAChAAAAAAAAAKkAAAAAAAAAsQAAAAAAAAC5AAAAAAAAAMEAAAAAAAAAxQAAAAAAAADJAAAAAAAAANUAAAAAAAAA3QAAAAAAAADlAAAAAAAAAOkAAAAAAAAA8QAAAAAAAAD9A",
          "dtype": "f8"
         },
         "xaxis": "x4",
         "y": {
          "bdata": "HMdxHMdxXD8cx3Ecx3F8PxzHcRzHcYw/juM4juM4lj/HcRzHcRyfP+Q4juM4jqM/juM4juM4pj9VVVVVVVWpPxzHcRzHcaw/OY7jOI7jrD9VVVVVVVWtP8dxHMdxHK8/juM4juM4sD8cx3Ecx3GwP6uqqqqqqrA/VVVVVVVVsT/jOI7jOI6xP3Icx3Ecx7E/AAAAAAAAsj8cx3Ecx3GyP6uqqqqqqrI/OY7jOI7jsj/HcRzHcRyzP3Icx3Ecx7M/",
          "dtype": "f8"
         },
         "yaxis": "y4"
        },
        {
         "hovertemplate": "color=2025-Apr<br>variable=default_rate_bal<br>default_month=%{x}<br>value=%{y}<extra></extra>",
         "legendgroup": "2025-Apr",
         "line": {
          "color": "#aec5db",
          "dash": "solid"
         },
         "marker": {
          "symbol": "circle"
         },
         "mode": "lines",
         "name": "2025-Apr",
         "showlegend": false,
         "type": "scattergl",
         "x": {
          "bdata": "AAAAAAAA8D8AAAAAAAAAQAAAAAAAAAhAAAAAAAAAEEAAAAAAAAAUQAAAAAAAABhAAAAAAAAAHEAAAAAAAAAgQAAAAAAAACJAAAAAAAAAJEAAAAAAAAAmQAAAAAAAAChAAAAAAAAAKkAAAAAAAAAsQAAAAAAAAC5AAAAAAAAAMEAAAAAAAAAxQAAAAAAAADJAAAAAAAAANUAAAAAAAAA3QAAAAAAAADlAAAAAAAAAOkAAAAAAAAA8QAAAAAAAAD9A",
          "dtype": "f8"
         },
         "xaxis": "x",
         "y": {
          "bdata": "JPVkwKlVCD9Mq7NAKNBAP+fIN0unHUU/Xrnub8YDQj8D9ppTkSxVP9HX+Ju62kI/j5WFv6muSj/G5pFGN5ZTP0sEayfmp1M/8gKFkgJgJz9sZrMONbwkP+pG2HvbxEY/rEB6svPIOT/frwPOYn1ZPymZ7Y0vii4/yR4mgjx9Rz+PbwOw4AsqP7R0N6Nma0w/kmCBPqpIGT9xCoGga0JWP+J9lEJ93WQ/aX+8zW1aOD+xQCJhEQJUP3FBr0uWCmA/",
          "dtype": "f8"
         },
         "yaxis": "y"
        },
        {
         "hovertemplate": "color=2025-Apr<br>variable=cum_default_rate_bal<br>default_month=%{x}<br>value=%{y}<extra></extra>",
         "legendgroup": "2025-Apr",
         "line": {
          "color": "#aec5db",
          "dash": "solid"
         },
         "marker": {
          "symbol": "circle"
         },
         "mode": "lines",
         "name": "2025-Apr",
         "showlegend": false,
         "type": "scattergl",
         "x": {
          "bdata": "AAAAAAAA8D8AAAAAAAAAQAAAAAAAAAhAAAAAAAAAEEAAAAAAAAAUQAAAAAAAABhAAAAAAAAAHEAAAAAAAAAgQAAAAAAAACJAAAAAAAAAJEAAAAAAAAAmQAAAAAAAAChAAAAAAAAAKkAAAAAAAAAsQAAAAAAAAC5AAAAAAAAAMEAAAAAAAAAxQAAAAAAAADJAAAAAAAAANUAAAAAAAAA3QAAAAAAAADlAAAAAAAAAOkAAAAAAAAA8QAAAAAAAAD9A",
          "dtype": "f8"
         },
         "xaxis": "x2",
         "y": {
          "bdata": "JPVkwKlVCD+e+rncglVCP8Lh+BOVuVM/cj7wS3i7XD86msXPBPRoPy7Qw3azqm0/yZpS8y4rcj96FPfEvBB3P43V0U62+ns/pf1lY7a1fD/YmNsLmFt9P9tQq70ZGoA/4CI/W2HogD/cmP+0DRiEP0FPN3M2koQ/LbFZOwoKhj/rvhm+OXKGPzc2TSjwOIg/+DjKfIFriD9GWtrwzjOLP9+8vyCXNZA/3a721wCXkD/o0gjuIdeRPxa7frd02JM/",
          "dtype": "f8"
         },
         "yaxis": "y2"
        },
        {
         "hovertemplate": "color=2025-May<br>variable=id<br>default_month=%{x}<br>value=%{y}<extra></extra>",
         "legendgroup": "2025-May",
         "line": {
          "color": "#a8c1d9",
          "dash": "solid"
         },
         "marker": {
          "symbol": "circle"
         },
         "mode": "lines",
         "name": "2025-May",
         "showlegend": true,
         "type": "scattergl",
         "x": {
          "bdata": "AAAAAAAA8D8AAAAAAAAAQAAAAAAAAAhAAAAAAAAAEEAAAAAAAAAUQAAAAAAAABhAAAAAAAAAHEAAAAAAAAAgQAAAAAAAACJAAAAAAAAAJEAAAAAAAAAmQAAAAAAAAChAAAAAAAAAKkAAAAAAAAAsQAAAAAAAAC5AAAAAAAAAMEAAAAAAAAAxQAAAAAAAADJAAAAAAAAANEAAAAAAAAA1QAAAAAAAADZAAAAAAAAAN0AAAAAAAAA4QAAAAAAAADlAAAAAAAAAO0AAAAAAAAA+QAAAAAAAAD9A",
          "dtype": "f8"
         },
         "xaxis": "x5",
         "y": {
          "bdata": "AAAAAAAklkAAAAAAACSWQAAAAAAAJJZAAAAAAAAklkAAAAAAACSWQAAAAAAAJJZAAAAAAAAklkAAAAAAACSWQAAAAAAAJJZAAAAAAAAklkAAAAAAACSWQAAAAAAAJJZAAAAAAAAklkAAAAAAACSWQAAAAAAAJJZAAAAAAAAklkAAAAAAACSWQAAAAAAAJJZAAAAAAAAklkAAAAAAACSWQAAAAAAAJJZAAAAAAAAklkAAAAAAACSWQAAAAAAAJJZAAAAAAAAklkAAAAAAACSWQAAAAAAAJJZA",
          "dtype": "f8"
         },
         "yaxis": "y5"
        },
        {
         "hovertemplate": "color=2025-May<br>variable=balance<br>default_month=%{x}<br>value=%{y}<extra></extra>",
         "legendgroup": "2025-May",
         "line": {
          "color": "#a8c1d9",
          "dash": "solid"
         },
         "marker": {
          "symbol": "circle"
         },
         "mode": "lines",
         "name": "2025-May",
         "showlegend": false,
         "type": "scattergl",
         "x": {
          "bdata": "AAAAAAAA8D8AAAAAAAAAQAAAAAAAAAhAAAAAAAAAEEAAAAAAAAAUQAAAAAAAABhAAAAAAAAAHEAAAAAAAAAgQAAAAAAAACJAAAAAAAAAJEAAAAAAAAAmQAAAAAAAAChAAAAAAAAAKkAAAAAAAAAsQAAAAAAAAC5AAAAAAAAAMEAAAAAAAAAxQAAAAAAAADJAAAAAAAAANEAAAAAAAAA1QAAAAAAAADZAAAAAAAAAN0AAAAAAAAA4QAAAAAAAADlAAAAAAAAAO0AAAAAAAAA+QAAAAAAAAD9A",
          "dtype": "f8"
         },
         "xaxis": "x6",
         "y": {
          "bdata": "Si8A+A1EVkFKLwD4DURWQUovAPgNRFZBSi8A+A1EVkFKLwD4DURWQUovAPgNRFZBSi8A+A1EVkFKLwD4DURWQUovAPgNRFZBSi8A+A1EVkFKLwD4DURWQUovAPgNRFZBSi8A+A1EVkFKLwD4DURWQUovAPgNRFZBSi8A+A1EVkFKLwD4DURWQUovAPgNRFZBSi8A+A1EVkFKLwD4DURWQUovAPgNRFZBSi8A+A1EVkFKLwD4DURWQUovAPgNRFZBSi8A+A1EVkFKLwD4DURWQUovAPgNRFZB",
          "dtype": "f8"
         },
         "yaxis": "y6"
        },
        {
         "hovertemplate": "color=2025-May<br>variable=default_rate<br>default_month=%{x}<br>value=%{y}<extra></extra>",
         "legendgroup": "2025-May",
         "line": {
          "color": "#a8c1d9",
          "dash": "solid"
         },
         "marker": {
          "symbol": "circle"
         },
         "mode": "lines",
         "name": "2025-May",
         "showlegend": false,
         "type": "scattergl",
         "x": {
          "bdata": "AAAAAAAA8D8AAAAAAAAAQAAAAAAAAAhAAAAAAAAAEEAAAAAAAAAUQAAAAAAAABhAAAAAAAAAHEAAAAAAAAAgQAAAAAAAACJAAAAAAAAAJEAAAAAAAAAmQAAAAAAAAChAAAAAAAAAKkAAAAAAAAAsQAAAAAAAAC5AAAAAAAAAMEAAAAAAAAAxQAAAAAAAADJAAAAAAAAANEAAAAAAAAA1QAAAAAAAADZAAAAAAAAAN0AAAAAAAAA4QAAAAAAAADlAAAAAAAAAO0AAAAAAAAA+QAAAAAAAAD9A",
          "dtype": "f8"
         },
         "xaxis": "x3",
         "y": {
          "bdata": "gBUBqvtXcT8AcgE4+h93P0CgAX/5A3o/oCyBTfvJgj/AQwHx+juEP4AVAar7V3E/QKABf/kDej/AQwHx+jt0P4DOAcb452w/gBUBqvtXYT8AcgE4+h9nP4AVAar7V2E/AHIBOPofVz8AcgE4+h9HPwByATj6H2c/AHIBOPofRz8AcgE4+h9XPwByATj6H0c/AHIBOPofRz8AcgE4+h9XPwByATj6H1c/AHIBOPofRz8AcgE4+h9HPwByATj6H0c/AHIBOPofVz+AFQGq+1dhPwByATj6H0c/",
          "dtype": "f8"
         },
         "yaxis": "y3"
        },
        {
         "hovertemplate": "color=2025-May<br>variable=cum_default<br>default_month=%{x}<br>value=%{y}<extra></extra>",
         "legendgroup": "2025-May",
         "line": {
          "color": "#a8c1d9",
          "dash": "solid"
         },
         "marker": {
          "symbol": "circle"
         },
         "mode": "lines",
         "name": "2025-May",
         "showlegend": false,
         "type": "scattergl",
         "x": {
          "bdata": "AAAAAAAA8D8AAAAAAAAAQAAAAAAAAAhAAAAAAAAAEEAAAAAAAAAUQAAAAAAAABhAAAAAAAAAHEAAAAAAAAAgQAAAAAAAACJAAAAAAAAAJEAAAAAAAAAmQAAAAAAAAChAAAAAAAAAKkAAAAAAAAAsQAAAAAAAAC5AAAAAAAAAMEAAAAAAAAAxQAAAAAAAADJAAAAAAAAANEAAAAAAAAA1QAAAAAAAADZAAAAAAAAAN0AAAAAAAAA4QAAAAAAAADlAAAAAAAAAO0AAAAAAAAA+QAAAAAAAAD9A",
          "dtype": "f8"
         },
         "xaxis": "x4",
         "y": {
          "bdata": "gBUBqvtXcT/AQwHx+juEP/AJQdj7npA/QKABf/kDmj8QIcF7+xCiP8BDAfH6O6Q/yHfhIHp8pz9AoAF/+QOqPyi9YQt50qs/gM4BxvjnrD+g5YFp+FmuP/j2ISR4b68/RAHx+jsUsD8oBGHve0KwP7gPIcF7+7A/nBKRtbspsT9kGHGeO4axP0gb4ZJ7tLE/LB5Rh7visT/0IzFwOz+yP7wpEVm7m7I/oCyBTfvJsj+EL/FBO/iyP2gyYTZ7JrM/MDhBH/uCsz/cQJH8ug20P8BDAfH6O7Q/",
          "dtype": "f8"
         },
         "yaxis": "y4"
        },
        {
         "hovertemplate": "color=2025-May<br>variable=default_rate_bal<br>default_month=%{x}<br>value=%{y}<extra></extra>",
         "legendgroup": "2025-May",
         "line": {
          "color": "#a8c1d9",
          "dash": "solid"
         },
         "marker": {
          "symbol": "circle"
         },
         "mode": "lines",
         "name": "2025-May",
         "showlegend": false,
         "type": "scattergl",
         "x": {
          "bdata": "AAAAAAAA8D8AAAAAAAAAQAAAAAAAAAhAAAAAAAAAEEAAAAAAAAAUQAAAAAAAABhAAAAAAAAAHEAAAAAAAAAgQAAAAAAAACJAAAAAAAAAJEAAAAAAAAAmQAAAAAAAAChAAAAAAAAAKkAAAAAAAAAsQAAAAAAAAC5AAAAAAAAAMEAAAAAAAAAxQAAAAAAAADJAAAAAAAAANEAAAAAAAAA1QAAAAAAAADZAAAAAAAAAN0AAAAAAAAA4QAAAAAAAADlAAAAAAAAAO0AAAAAAAAA+QAAAAAAAAD9A",
          "dtype": "f8"
         },
         "xaxis": "x",
         "y": {
          "bdata": "BAU6IHYvOz9KaDqIPhJBP4nbjZLaID0/x4awbPibUz/nQmgNpv1FPz+YhwZOkkU/AW8IDMwxUD/lH6euKMhPP4TprfVAdCg/I89rq3w0OT/GAdkIY2hCP7s9V8yX2DQ/M1Nm0XhqVz8YrGDsrLAoP1WJSGRNIks/tPpPGrMOJT/lNacv3B5OP6fzG6BWHzI/busp3OBwFD86HsBm2KE9P70ENB7v/lE/HtzqmKbNEz/WA7rFXt5gPxwhIkNGsDM/MdfRNEYmYT+jwSzPAfBZP+OLgTwxp+o+",
          "dtype": "f8"
         },
         "yaxis": "y"
        },
        {
         "hovertemplate": "color=2025-May<br>variable=cum_default_rate_bal<br>default_month=%{x}<br>value=%{y}<extra></extra>",
         "legendgroup": "2025-May",
         "line": {
          "color": "#a8c1d9",
          "dash": "solid"
         },
         "marker": {
          "symbol": "circle"
         },
         "mode": "lines",
         "name": "2025-May",
         "showlegend": false,
         "type": "scattergl",
         "x": {
          "bdata": "AAAAAAAA8D8AAAAAAAAAQAAAAAAAAAhAAAAAAAAAEEAAAAAAAAAUQAAAAAAAABhAAAAAAAAAHEAAAAAAAAAgQAAAAAAAACJAAAAAAAAAJEAAAAAAAAAmQAAAAAAAAChAAAAAAAAAKkAAAAAAAAAsQAAAAAAAAC5AAAAAAAAAMEAAAAAAAAAxQAAAAAAAADJAAAAAAAAANEAAAAAAAAA1QAAAAAAAADZAAAAAAAAAN0AAAAAAAAA4QAAAAAAAADlAAAAAAAAAO0AAAAAAAAA+QAAAAAAAAD9A",
          "dtype": "f8"
         },
         "xaxis": "x2",
         "y": {
          "bdata": "BAU6IHYvOz/MaleY+alOP0gsz3AznVY/iNm/7pUcZT9B6hly/5tqPyjo3XlJAHA/6QPgfLwMdD/l57SSwQV4PzJXYppjyXg/JBQZZatcej9cNDTGt6l8Pzio+UJB930/gp6pu+/ogT8zIVtvskuCP8ipn0XX/YM/s+kIEhJShD8RXQPV/zOGP688BIr6xIY/hZC8S9zthj93kfIO69qHPw8SufLIGoo/x+fqP2RCij+8aFnx+3mOP8V5ciN+F48/yXdT2IewkT/jQ0b1h0+TPxTUbdvcUpM/",
          "dtype": "f8"
         },
         "yaxis": "y2"
        },
        {
         "hovertemplate": "color=2025-Jun<br>variable=id<br>default_month=%{x}<br>value=%{y}<extra></extra>",
         "legendgroup": "2025-Jun",
         "line": {
          "color": "#a3bcd6",
          "dash": "solid"
         },
         "marker": {
          "symbol": "circle"
         },
         "mode": "lines",
         "name": "2025-Jun",
         "showlegend": true,
         "type": "scattergl",
         "x": {
          "bdata": "AAAAAAAA8D8AAAAAAAAAQAAAAAAAAAhAAAAAAAAAEEAAAAAAAAAUQAAAAAAAABhAAAAAAAAAHEAAAAAAAAAgQAAAAAAAACJAAAAAAAAAJEAAAAAAAAAmQAAAAAAAAChAAAAAAAAAKkAAAAAAAAAsQAAAAAAAAC5AAAAAAAAAMEAAAAAAAAAxQAAAAAAAADNAAAAAAAAANEAAAAAAAAA1QAAAAAAAADZAAAAAAAAAN0AAAAAAAAA4QAAAAAAAADlAAAAAAAAAOkAAAAAAAAA7QAAAAAAAAD1AAAAAAAAAPkA=",
          "dtype": "f8"
         },
         "xaxis": "x5",
         "y": {
          "bdata": "AAAAAACUmkAAAAAAAJSaQAAAAAAAlJpAAAAAAACUmkAAAAAAAJSaQAAAAAAAlJpAAAAAAACUmkAAAAAAAJSaQAAAAAAAlJpAAAAAAACUmkAAAAAAAJSaQAAAAAAAlJpAAAAAAACUmkAAAAAAAJSaQAAAAAAAlJpAAAAAAACUmkAAAAAAAJSaQAAAAAAAlJpAAAAAAACUmkAAAAAAAJSaQAAAAAAAlJpAAAAAAACUmkAAAAAAAJSaQAAAAAAAlJpAAAAAAACUmkAAAAAAAJSaQAAAAAAAlJpAAAAAAACUmkA=",
          "dtype": "f8"
         },
         "yaxis": "y5"
        },
        {
         "hovertemplate": "color=2025-Jun<br>variable=balance<br>default_month=%{x}<br>value=%{y}<extra></extra>",
         "legendgroup": "2025-Jun",
         "line": {
          "color": "#a3bcd6",
          "dash": "solid"
         },
         "marker": {
          "symbol": "circle"
         },
         "mode": "lines",
         "name": "2025-Jun",
         "showlegend": false,
         "type": "scattergl",
         "x": {
          "bdata": "AAAAAAAA8D8AAAAAAAAAQAAAAAAAAAhAAAAAAAAAEEAAAAAAAAAUQAAAAAAAABhAAAAAAAAAHEAAAAAAAAAgQAAAAAAAACJAAAAAAAAAJEAAAAAAAAAmQAAAAAAAAChAAAAAAAAAKkAAAAAAAAAsQAAAAAAAAC5AAAAAAAAAMEAAAAAAAAAxQAAAAAAAADNAAAAAAAAANEAAAAAAAAA1QAAAAAAAADZAAAAAAAAAN0AAAAAAAAA4QAAAAAAAADlAAAAAAAAAOkAAAAAAAAA7QAAAAAAAAD1AAAAAAAAAPkA=",
          "dtype": "f8"
         },
         "xaxis": "x6",
         "y": {
          "bdata": "Xx6MtrUwW0FfHoy2tTBbQV8ejLa1MFtBXx6MtrUwW0FfHoy2tTBbQV8ejLa1MFtBXx6MtrUwW0FfHoy2tTBbQV8ejLa1MFtBXx6MtrUwW0FfHoy2tTBbQV8ejLa1MFtBXx6MtrUwW0FfHoy2tTBbQV8ejLa1MFtBXx6MtrUwW0FfHoy2tTBbQV8ejLa1MFtBXx6MtrUwW0FfHoy2tTBbQV8ejLa1MFtBXx6MtrUwW0FfHoy2tTBbQV8ejLa1MFtBXx6MtrUwW0FfHoy2tTBbQV8ejLa1MFtBXx6MtrUwW0E=",
          "dtype": "f8"
         },
         "yaxis": "y6"
        },
        {
         "hovertemplate": "color=2025-Jun<br>variable=default_rate<br>default_month=%{x}<br>value=%{y}<extra></extra>",
         "legendgroup": "2025-Jun",
         "line": {
          "color": "#a3bcd6",
          "dash": "solid"
         },
         "marker": {
          "symbol": "circle"
         },
         "mode": "lines",
         "name": "2025-Jun",
         "showlegend": false,
         "type": "scattergl",
         "x": {
          "bdata": "AAAAAAAA8D8AAAAAAAAAQAAAAAAAAAhAAAAAAAAAEEAAAAAAAAAUQAAAAAAAABhAAAAAAAAAHEAAAAAAAAAgQAAAAAAAACJAAAAAAAAAJEAAAAAAAAAmQAAAAAAAAChAAAAAAAAAKkAAAAAAAAAsQAAAAAAAAC5AAAAAAAAAMEAAAAAAAAAxQAAAAAAAADNAAAAAAAAANEAAAAAAAAA1QAAAAAAAADZAAAAAAAAAN0AAAAAAAAA4QAAAAAAAADlAAAAAAAAAOkAAAAAAAAA7QAAAAAAAAD1AAAAAAAAAPkA=",
          "dtype": "f8"
         },
         "xaxis": "x3",
         "y": {
          "bdata": "q1DICZNDcz/AWgFrBax1PxaD5e/OTX8/wFoBawWshT+WRo+oINtwPxaD5e/OTX8/wFoBawWsdT+WRo+oINtwP9ZkOsx3FGg/1mQ6zHcUaD+rUMgJk0NjPwB5rI5c5Vw/q1DICZNDQz/WZDrMdxRoP6tQyAmTQ0M/q1DICZNDUz+rUMgJk0NDP6tQyAmTQ1M/AHmsjlzlXD+rUMgJk0NTP6tQyAmTQ0M/q1DICZNDQz+rUMgJk0NDP6tQyAmTQ0M/q1DICZNDUz+rUMgJk0NTPwB5rI5c5Vw/q1DICZNDQz8=",
          "dtype": "f8"
         },
         "yaxis": "y3"
        },
        {
         "hovertemplate": "color=2025-Jun<br>variable=cum_default<br>default_month=%{x}<br>value=%{y}<extra></extra>",
         "legendgroup": "2025-Jun",
         "line": {
          "color": "#a3bcd6",
          "dash": "solid"
         },
         "marker": {
          "symbol": "circle"
         },
         "mode": "lines",
         "name": "2025-Jun",
         "showlegend": false,
         "type": "scattergl",
         "x": {
          "bdata": "AAAAAAAA8D8AAAAAAAAAQAAAAAAAAAhAAAAAAAAAEEAAAAAAAAAUQAAAAAAAABhAAAAAAAAAHEAAAAAAAAAgQAAAAAAAACJAAAAAAAAAJEAAAAAAAAAmQAAAAAAAAChAAAAAAAAAKkAAAAAAAAAsQAAAAAAAAC5AAAAAAAAAMEAAAAAAAAAxQAAAAAAAADNAAAAAAAAANEAAAAAAAAA1QAAAAAAAADZAAAAAAAAAN0AAAAAAAAA4QAAAAAAAADlAAAAAAAAAOkAAAAAAAAA7QAAAAAAAAD1AAAAAAAAAPkA=",
          "dtype": "f8"
         },
         "xaxis": "x4",
         "y": {
          "bdata": "q1DICZNDcz+21WQ6zHeEP6DLK9lZD5I/AHmsjlzlnD9TJWhcEo6gP7bVZDrMd6Q/DgHF50wtpz/g6db8sEipPy6Qmnn4yao/ezZe9j9LrD+Gu/omeX+tP04fcAukZq4/kECXV7Kzrj9vcy3qfBqwPxAEQRAEQbA/UyVoXBKOsD/0tXuCmbSwPzfXos6nAbE/G4ndQD11sT9eqgSNS8KxP/86GLPS6LE/oMsr2VkPsj9CXD//4DWyP+PsUiVoXLI/Jg56cXapsj9oL6G9hPayP0zh2y8aarM/7nHvVaGQsz8=",
          "dtype": "f8"
         },
         "yaxis": "y4"
        },
        {
         "hovertemplate": "color=2025-Jun<br>variable=default_rate_bal<br>default_month=%{x}<br>value=%{y}<extra></extra>",
         "legendgroup": "2025-Jun",
         "line": {
          "color": "#a3bcd6",
          "dash": "solid"
         },
         "marker": {
          "symbol": "circle"
         },
         "mode": "lines",
         "name": "2025-Jun",
         "showlegend": false,
         "type": "scattergl",
         "x": {
          "bdata": "AAAAAAAA8D8AAAAAAAAAQAAAAAAAAAhAAAAAAAAAEEAAAAAAAAAUQAAAAAAAABhAAAAAAAAAHEAAAAAAAAAgQAAAAAAAACJAAAAAAAAAJEAAAAAAAAAmQAAAAAAAAChAAAAAAAAAKkAAAAAAAAAsQAAAAAAAAC5AAAAAAAAAMEAAAAAAAAAxQAAAAAAAADNAAAAAAAAANEAAAAAAAAA1QAAAAAAAADZAAAAAAAAAN0AAAAAAAAA4QAAAAAAAADlAAAAAAAAAOkAAAAAAAAA7QAAAAAAAAD1AAAAAAAAAPkA=",
          "dtype": "f8"
         },
         "xaxis": "x",
         "y": {
          "bdata": "hkWVTX/1Oz9mzVmCV9o3P8kLzYLNDlA/HXR06S4hRD9+2PmF9dJBP9+SxH9AOFA/vNI5+4WASz+Jj2mUC4ArPwEpWRW/vD4/kOQTgWPDRj+gB9XqWHpNPwcrFBNUG18/7bfw2+83JD/n5T5dRBJSPxnoLqBjPiE/LSbfUliqSD8ZpqHSNq4tPz9xEQ4ukSQ/mCCmBB54Rj9WF/WbJHlNPwZ4Hkt8NxA/fe52+4mgWz9+X6j3bR8wP3ZlUfxjsys/aGq9TU0WXD+iH+pMpT44P3erAzFvPVU/9NZeYXHT5T4=",
          "dtype": "f8"
         },
         "yaxis": "y"
        },
        {
         "hovertemplate": "color=2025-Jun<br>variable=cum_default_rate_bal<br>default_month=%{x}<br>value=%{y}<extra></extra>",
         "legendgroup": "2025-Jun",
         "line": {
          "color": "#a3bcd6",
          "dash": "solid"
         },
         "marker": {
          "symbol": "circle"
         },
         "mode": "lines",
         "name": "2025-Jun",
         "showlegend": false,
         "type": "scattergl",
         "x": {
          "bdata": "AAAAAAAA8D8AAAAAAAAAQAAAAAAAAAhAAAAAAAAAEEAAAAAAAAAUQAAAAAAAABhAAAAAAAAAHEAAAAAAAAAgQAAAAAAAACJAAAAAAAAAJEAAAAAAAAAmQAAAAAAAAChAAAAAAAAAKkAAAAAAAAAsQAAAAAAAAC5AAAAAAAAAMEAAAAAAAAAxQAAAAAAAADNAAAAAAAAANEAAAAAAAAA1QAAAAAAAADZAAAAAAAAAN0AAAAAAAAA4QAAAAAAAADlAAAAAAAAAOkAAAAAAAAA7QAAAAAAAAD1AAAAAAAAAPkA=",
          "dtype": "f8"
         },
         "xaxis": "x2",
         "y": {
          "bdata": "hkWVTX/1Oz92ifdn6+dJP4TQyDbDAl0/SYXBVa2JYz9p+z+3av5nP2wikXtFDXA/xFz4OlZ9cz9AqZuXVll0P9A78YgiRXY/YrgT+Y4deT9WWW4W2sx8PwyymY3XSYI/63QJTbeagj+oUbHY/9yEP0kNMmf5IYU/rP9f7J6shj9EhqrHVyOHPwnM4n+cdYc/Ei4tYB7diD+If+ypsLSKP3i8gqIf1Yo/SJrx4TBJjj9D3a5RLMqOP9kioOH5OI8/E+irxeFdkT+SkN9a3L6RP0nL702zEpM/JPcbvG0Vkz8=",
          "dtype": "f8"
         },
         "yaxis": "y2"
        },
        {
         "hovertemplate": "color=2025-Jul<br>variable=id<br>default_month=%{x}<br>value=%{y}<extra></extra>",
         "legendgroup": "2025-Jul",
         "line": {
          "color": "#9db8d4",
          "dash": "solid"
         },
         "marker": {
          "symbol": "circle"
         },
         "mode": "lines",
         "name": "2025-Jul",
         "showlegend": true,
         "type": "scattergl",
         "x": {
          "bdata": "AAAAAAAA8D8AAAAAAAAAQAAAAAAAAAhAAAAAAAAAEEAAAAAAAAAUQAAAAAAAABhAAAAAAAAAHEAAAAAAAAAgQAAAAAAAACJAAAAAAAAAJEAAAAAAAAAmQAAAAAAAAChAAAAAAAAAKkAAAAAAAAAsQAAAAAAAAC5AAAAAAAAAMEAAAAAAAAAyQAAAAAAAADNAAAAAAAAANEAAAAAAAAA1QAAAAAAAADZAAAAAAAAAN0AAAAAAAAA4QAAAAAAAADlAAAAAAAAAOkAAAAAAAAA8QAAAAAAAAD1A",
          "dtype": "f8"
         },
         "xaxis": "x5",
         "y": {
          "bdata": "AAAAAAAsn0AAAAAAACyfQAAAAAAALJ9AAAAAAAAsn0AAAAAAACyfQAAAAAAALJ9AAAAAAAAsn0AAAAAAACyfQAAAAAAALJ9AAAAAAAAsn0AAAAAAACyfQAAAAAAALJ9AAAAAAAAsn0AAAAAAACyfQAAAAAAALJ9AAAAAAAAsn0AAAAAAACyfQAAAAAAALJ9AAAAAAAAsn0AAAAAAACyfQAAAAAAALJ9AAAAAAAAsn0AAAAAAACyfQAAAAAAALJ9AAAAAAAAsn0AAAAAAACyfQAAAAAAALJ9A",
          "dtype": "f8"
         },
         "yaxis": "y5"
        },
        {
         "hovertemplate": "color=2025-Jul<br>variable=balance<br>default_month=%{x}<br>value=%{y}<extra></extra>",
         "legendgroup": "2025-Jul",
         "line": {
          "color": "#9db8d4",
          "dash": "solid"
         },
         "marker": {
          "symbol": "circle"
         },
         "mode": "lines",
         "name": "2025-Jul",
         "showlegend": false,
         "type": "scattergl",
         "x": {
          "bdata": "AAAAAAAA8D8AAAAAAAAAQAAAAAAAAAhAAAAAAAAAEEAAAAAAAAAUQAAAAAAAABhAAAAAAAAAHEAAAAAAAAAgQAAAAAAAACJAAAAAAAAAJEAAAAAAAAAmQAAAAAAAAChAAAAAAAAAKkAAAAAAAAAsQAAAAAAAAC5AAAAAAAAAMEAAAAAAAAAyQAAAAAAAADNAAAAAAAAANEAAAAAAAAA1QAAAAAAAADZAAAAAAAAAN0AAAAAAAAA4QAAAAAAAADlAAAAAAAAAOkAAAAAAAAA8QAAAAAAAAD1A",
          "dtype": "f8"
         },
         "xaxis": "x6",
         "y": {
          "bdata": "J1zOAQeTX0EnXM4BB5NfQSdczgEHk19BJ1zOAQeTX0EnXM4BB5NfQSdczgEHk19BJ1zOAQeTX0EnXM4BB5NfQSdczgEHk19BJ1zOAQeTX0EnXM4BB5NfQSdczgEHk19BJ1zOAQeTX0EnXM4BB5NfQSdczgEHk19BJ1zOAQeTX0EnXM4BB5NfQSdczgEHk19BJ1zOAQeTX0EnXM4BB5NfQSdczgEHk19BJ1zOAQeTX0EnXM4BB5NfQSdczgEHk19BJ1zOAQeTX0EnXM4BB5NfQSdczgEHk19B",
          "dtype": "f8"
         },
         "yaxis": "y6"
        },
        {
         "hovertemplate": "color=2025-Jul<br>variable=default_rate<br>default_month=%{x}<br>value=%{y}<extra></extra>",
         "legendgroup": "2025-Jul",
         "line": {
          "color": "#9db8d4",
          "dash": "solid"
         },
         "marker": {
          "symbol": "circle"
         },
         "mode": "lines",
         "name": "2025-Jul",
         "showlegend": false,
         "type": "scattergl",
         "x": {
          "bdata": "AAAAAAAA8D8AAAAAAAAAQAAAAAAAAAhAAAAAAAAAEEAAAAAAAAAUQAAAAAAAABhAAAAAAAAAHEAAAAAAAAAgQAAAAAAAACJAAAAAAAAAJEAAAAAAAAAmQAAAAAAAAChAAAAAAAAAKkAAAAAAAAAsQAAAAAAAAC5AAAAAAAAAMEAAAAAAAAAyQAAAAAAAADNAAAAAAAAANEAAAAAAAAA1QAAAAAAAADZAAAAAAAAAN0AAAAAAAAA4QAAAAAAAADlAAAAAAAAAOkAAAAAAAAA8QAAAAAAAAD1A",
          "dtype": "f8"
         },
         "xaxis": "x3",
         "y": {
          "bdata": "pycBBWt6cj8NqwF507B6P6cnAQVreoI/WmkBP5+Vdj/tWIEw0o6FP+fLAZZtvnw/zQYB6NBscD+ASAEiBYhkP4BIASIFiGQ/NIoBXDmjaD80igFcOaNYP80GAejQbEA/gEgBIgWIZD/NBgHo0GxAPzSKAVw5o1g/zQYB6NBsYD/NBgHo0GxQPzSKAVw5o1g/zQYB6NBsUD/NBgHo0GxQP80GAejQbEA/zQYB6NBsQD/NBgHo0GxAP80GAejQbFA/zQYB6NBsUD80igFcOaNYP80GAejQbFA/",
          "dtype": "f8"
         },
         "yaxis": "y3"
        },
        {
         "hovertemplate": "color=2025-Jul<br>variable=cum_default<br>default_month=%{x}<br>value=%{y}<extra></extra>",
         "legendgroup": "2025-Jul",
         "line": {
          "color": "#9db8d4",
          "dash": "solid"
         },
         "marker": {
          "symbol": "circle"
         },
         "mode": "lines",
         "name": "2025-Jul",
         "showlegend": false,
         "type": "scattergl",
         "x": {
          "bdata": "AAAAAAAA8D8AAAAAAAAAQAAAAAAAAAhAAAAAAAAAEEAAAAAAAAAUQAAAAAAAABhAAAAAAAAAHEAAAAAAAAAgQAAAAAAAACJAAAAAAAAAJEAAAAAAAAAmQAAAAAAAAChAAAAAAAAAKkAAAAAAAAAsQAAAAAAAAC5AAAAAAAAAMEAAAAAAAAAyQAAAAAAAADNAAAAAAAAANEAAAAAAAAA1QAAAAAAAADZAAAAAAAAAN0AAAAAAAAA4QAAAAAAAADlAAAAAAAAAOkAAAAAAAAA8QAAAAAAAAD1A",
          "dtype": "f8"
         },
         "xaxis": "x4",
         "y": {
          "bdata": "pycBBWt6cj9aaQE/n5WGP4BIASIFiJQ/16LB8Wwtmj+nJwEFa3qiPyRhwbc4EqY//YHB1NIfqD+FluEmU2ipPw2rAXnTsKo/sMPBDgc7rD8C0KHZIACtPx3UQR3UQa0/pehhb1SKrj/B7AGzB8yuPxL54X0hka8/vwQxRvdLsD/bCNGJqo2wPwMPQW838LA/HxPhsuoxsT86F4H2nXOxP0cZUZh3lLE/VRshOlG1sT9jHfHbKtaxP34hkR/eF7I/mSUxY5FZsj/CK6FIHryyP90vQYzR/bI/",
          "dtype": "f8"
         },
         "yaxis": "y4"
        },
        {
         "hovertemplate": "color=2025-Jul<br>variable=default_rate_bal<br>default_month=%{x}<br>value=%{y}<extra></extra>",
         "legendgroup": "2025-Jul",
         "line": {
          "color": "#9db8d4",
          "dash": "solid"
         },
         "marker": {
          "symbol": "circle"
         },
         "mode": "lines",
         "name": "2025-Jul",
         "showlegend": false,
         "type": "scattergl",
         "x": {
          "bdata": "AAAAAAAA8D8AAAAAAAAAQAAAAAAAAAhAAAAAAAAAEEAAAAAAAAAUQAAAAAAAABhAAAAAAAAAHEAAAAAAAAAgQAAAAAAAACJAAAAAAAAAJEAAAAAAAAAmQAAAAAAAAChAAAAAAAAAKkAAAAAAAAAsQAAAAAAAAC5AAAAAAAAAMEAAAAAAAAAyQAAAAAAAADNAAAAAAAAANEAAAAAAAAA1QAAAAAAAADZAAAAAAAAAN0AAAAAAAAA4QAAAAAAAADlAAAAAAAAAOkAAAAAAAAA8QAAAAAAAAD1A",
          "dtype": "f8"
         },
         "xaxis": "x",
         "y": {
          "bdata": "McpHA3yKND8skD3uC6hLP1uN8q6rVUE/JtU25bawRD/KV31k67FQPzHgU4JLDk0/oI2qtYAXMj8pqA12Lng6P51zJ3hDmkM/L/g8P6UqTD8W3MOCoclaPxhZLthDaSE/qhQjBNUfTz+oWRwM6rIdPzY94Q0UwEs/7ApRtN6XTj8j8mHgHbYhP9p9lIZxWUM/PYrJjYJhST+H4W5HSyotP/c2LMKGylc/OjJE1q7EKz/J+n2twtonP+3+ICrwL1g/a3MgetzgND9FJDsvdEpSP8gPryFwDwI/",
          "dtype": "f8"
         },
         "yaxis": "y"
        },
        {
         "hovertemplate": "color=2025-Jul<br>variable=cum_default_rate_bal<br>default_month=%{x}<br>value=%{y}<extra></extra>",
         "legendgroup": "2025-Jul",
         "line": {
          "color": "#9db8d4",
          "dash": "solid"
         },
         "marker": {
          "symbol": "circle"
         },
         "mode": "lines",
         "name": "2025-Jul",
         "showlegend": false,
         "type": "scattergl",
         "x": {
          "bdata": "AAAAAAAA8D8AAAAAAAAAQAAAAAAAAAhAAAAAAAAAEEAAAAAAAAAUQAAAAAAAABhAAAAAAAAAHEAAAAAAAAAgQAAAAAAAACJAAAAAAAAAJEAAAAAAAAAmQAAAAAAAAChAAAAAAAAAKkAAAAAAAAAsQAAAAAAAAC5AAAAAAAAAMEAAAAAAAAAyQAAAAAAAADNAAAAAAAAANEAAAAAAAAA1QAAAAAAAADZAAAAAAAAAN0AAAAAAAAA4QAAAAAAAADlAAAAAAAAAOkAAAAAAAAA8QAAAAAAAAD1A",
          "dtype": "f8"
         },
         "xaxis": "x2",
         "y": {
          "bdata": "McpHA3yKND+iuvD3pPZSP1ABas96oVs/8bUCIev8Yj/WYUHT4FVrP/Es69m5THE/y9VF5TFucj9OsKbMtBV0P8Geqzv9iHY/xz2T41EOej9mGiIiXWCAP8vTgjECpoA/FQXFgf+Xgj/JPd1VZdOCP5xRu5Zmj4Q/S2IAguR4hj8T6oH5vL+GP/Ex6xFU9Yc/lcrHOmyLiT8bhuVnFQCKP/oMK0Bm+Yw/wx2E+3hojT+uFToG5MeNP8YavwXxZpA/k5ynd3S6kD/YTpu6G9+RP2AmrHIj6JE/",
          "dtype": "f8"
         },
         "yaxis": "y2"
        },
        {
         "hovertemplate": "color=2025-Aug<br>variable=id<br>default_month=%{x}<br>value=%{y}<extra></extra>",
         "legendgroup": "2025-Aug",
         "line": {
          "color": "#97b4d2",
          "dash": "solid"
         },
         "marker": {
          "symbol": "circle"
         },
         "mode": "lines",
         "name": "2025-Aug",
         "showlegend": true,
         "type": "scattergl",
         "x": {
          "bdata": "AAAAAAAA8D8AAAAAAAAAQAAAAAAAAAhAAAAAAAAAEEAAAAAAAAAUQAAAAAAAABhAAAAAAAAAHEAAAAAAAAAgQAAAAAAAACJAAAAAAAAAJEAAAAAAAAAmQAAAAAAAAChAAAAAAAAAKkAAAAAAAAAsQAAAAAAAAC5AAAAAAAAAMUAAAAAAAAAyQAAAAAAAADNAAAAAAAAANEAAAAAAAAA1QAAAAAAAADZAAAAAAAAAN0AAAAAAAAA4QAAAAAAAADlAAAAAAAAAO0AAAAAAAAA8QA==",
          "dtype": "f8"
         },
         "xaxis": "x5",
         "y": {
          "bdata": "AAAAAACQoUAAAAAAAJChQAAAAAAAkKFAAAAAAACQoUAAAAAAAJChQAAAAAAAkKFAAAAAAACQoUAAAAAAAJChQAAAAAAAkKFAAAAAAACQoUAAAAAAAJChQAAAAAAAkKFAAAAAAACQoUAAAAAAAJChQAAAAAAAkKFAAAAAAACQoUAAAAAAAJChQAAAAAAAkKFAAAAAAACQoUAAAAAAAJChQAAAAAAAkKFAAAAAAACQoUAAAAAAAJChQAAAAAAAkKFAAAAAAACQoUAAAAAAAJChQA==",
          "dtype": "f8"
         },
         "yaxis": "y5"
        },
        {
         "hovertemplate": "color=2025-Aug<br>variable=balance<br>default_month=%{x}<br>value=%{y}<extra></extra>",
         "legendgroup": "2025-Aug",
         "line": {
          "color": "#97b4d2",
          "dash": "solid"
         },
         "marker": {
          "symbol": "circle"
         },
         "mode": "lines",
         "name": "2025-Aug",
         "showlegend": false,
         "type": "scattergl",
         "x": {
          "bdata": "AAAAAAAA8D8AAAAAAAAAQAAAAAAAAAhAAAAAAAAAEEAAAAAAAAAUQAAAAAAAABhAAAAAAAAAHEAAAAAAAAAgQAAAAAAAACJAAAAAAAAAJEAAAAAAAAAmQAAAAAAAAChAAAAAAAAAKkAAAAAAAAAsQAAAAAAAAC5AAAAAAAAAMUAAAAAAAAAyQAAAAAAAADNAAAAAAAAANEAAAAAAAAA1QAAAAAAAADZAAAAAAAAAN0AAAAAAAAA4QAAAAAAAADlAAAAAAAAAO0AAAAAAAAA8QA==",
          "dtype": "f8"
         },
         "xaxis": "x6",
         "y": {
          "bdata": "vX7wNRMCYkG9fvA1EwJiQb1+8DUTAmJBvX7wNRMCYkG9fvA1EwJiQb1+8DUTAmJBvX7wNRMCYkG9fvA1EwJiQb1+8DUTAmJBvX7wNRMCYkG9fvA1EwJiQb1+8DUTAmJBvX7wNRMCYkG9fvA1EwJiQb1+8DUTAmJBvX7wNRMCYkG9fvA1EwJiQb1+8DUTAmJBvX7wNRMCYkG9fvA1EwJiQb1+8DUTAmJBvX7wNRMCYkG9fvA1EwJiQb1+8DUTAmJBvX7wNRMCYkG9fvA1EwJiQQ==",
          "dtype": "f8"
         },
         "yaxis": "y6"
        },
        {
         "hovertemplate": "color=2025-Aug<br>variable=default_rate<br>default_month=%{x}<br>value=%{y}<extra></extra>",
         "legendgroup": "2025-Aug",
         "line": {
          "color": "#97b4d2",
          "dash": "solid"
         },
         "marker": {
          "symbol": "circle"
         },
         "mode": "lines",
         "name": "2025-Aug",
         "showlegend": false,
         "type": "scattergl",
         "x": {
          "bdata": "AAAAAAAA8D8AAAAAAAAAQAAAAAAAAAhAAAAAAAAAEEAAAAAAAAAUQAAAAAAAABhAAAAAAAAAHEAAAAAAAAAgQAAAAAAAACJAAAAAAAAAJEAAAAAAAAAmQAAAAAAAAChAAAAAAAAAKkAAAAAAAAAsQAAAAAAAAC5AAAAAAAAAMUAAAAAAAAAyQAAAAAAAADNAAAAAAAAANEAAAAAAAAA1QAAAAAAAADZAAAAAAAAAN0AAAAAAAAA4QAAAAAAAADlAAAAAAAAAO0AAAAAAAAA8QA==",
          "dtype": "f8"
         },
         "xaxis": "x3",
         "y": {
          "bdata": "BQo9RdSvdz8/8z0cCWaAP6J+vbDuCnQ/on69sO4KhD/MIDxun/l+P1RE/Xph3XU/8bh95ns4Yj/xuH3mezhiPz/zPRwJZnA/Glv8oywnXT8aW/yjLCc9Pxpb/KMsJ20/Glv8oywnPT8aW/yjLCddPxpb/KMsJ10/Glv8oywnTT9URP16Yd1VP1RE/Xph3VU/Glv8oywnTT8aW/yjLCc9Pxpb/KMsJ00/Glv8oywnPT9URP16Yd1VPxpb/KMsJ00/VET9emHdVT8aW/yjLCdNPw==",
          "dtype": "f8"
         },
         "yaxis": "y3"
        },
        {
         "hovertemplate": "color=2025-Aug<br>variable=cum_default<br>default_month=%{x}<br>value=%{y}<extra></extra>",
         "legendgroup": "2025-Aug",
         "line": {
          "color": "#97b4d2",
          "dash": "solid"
         },
         "marker": {
          "symbol": "circle"
         },
         "mode": "lines",
         "name": "2025-Aug",
         "showlegend": false,
         "type": "scattergl",
         "x": {
          "bdata": "AAAAAAAA8D8AAAAAAAAAQAAAAAAAAAhAAAAAAAAAEEAAAAAAAAAUQAAAAAAAABhAAAAAAAAAHEAAAAAAAAAgQAAAAAAAACJAAAAAAAAAJEAAAAAAAAAmQAAAAAAAAChAAAAAAAAAKkAAAAAAAAAsQAAAAAAAAC5AAAAAAAAAMUAAAAAAAAAyQAAAAAAAADNAAAAAAAAANEAAAAAAAAA1QAAAAAAAADZAAAAAAAAAN0AAAAAAAAA4QAAAAAAAADlAAAAAAAAAO0AAAAAAAAA8QA==",
          "dtype": "f8"
         },
         "xaxis": "x4",
         "y": {
          "bdata": "BQo9RdSvdz9CeNw+8z2MP8mbnUu1IZM/Glv8oywnnT+mscU/ynKiPzFaJW92LqU/wDWNLf5Rpj9PEfXrhXWnP7fPfA9Hgqk/kLKcdIBrqj9Gq+TNzqWqP/hwJJhBeKw/rmls8Y+yrD+HTIxWyZutP18vrLsCha4/zCA8bp/5rj/uChR6iqivP4n69cK6K7A/P/M9HAlmsD+a7+FIMIOwP1DoKaJ+vbA/q+TNzqXasD+82blUGzKxP3PSAa5pbLE/hMftM9/DsT86wDWNLf6xPw==",
          "dtype": "f8"
         },
         "yaxis": "y4"
        },
        {
         "hovertemplate": "color=2025-Aug<br>variable=default_rate_bal<br>default_month=%{x}<br>value=%{y}<extra></extra>",
         "legendgroup": "2025-Aug",
         "line": {
          "color": "#97b4d2",
          "dash": "solid"
         },
         "marker": {
          "symbol": "circle"
         },
         "mode": "lines",
         "name": "2025-Aug",
         "showlegend": false,
         "type": "scattergl",
         "x": {
          "bdata": "AAAAAAAA8D8AAAAAAAAAQAAAAAAAAAhAAAAAAAAAEEAAAAAAAAAUQAAAAAAAABhAAAAAAAAAHEAAAAAAAAAgQAAAAAAAACJAAAAAAAAAJEAAAAAAAAAmQAAAAAAAAChAAAAAAAAAKkAAAAAAAAAsQAAAAAAAAC5AAAAAAAAAMUAAAAAAAAAyQAAAAAAAADNAAAAAAAAANEAAAAAAAAA1QAAAAAAAADZAAAAAAAAAN0AAAAAAAAA4QAAAAAAAADlAAAAAAAAAO0AAAAAAAAA8QA==",
          "dtype": "f8"
         },
         "xaxis": "x",
         "y": {
          "bdata": "TeVd/Nw+SD80OttvvmQ+P4k5xz94I0I/u87LN2VcTT9XsfdnAJRNP+VcVapjLzc/XzMcTnk0Nz9gl244XC9BP0XheHlR31E/Xe7KzSZRWT+XTJZ4GYceP1OnyI0XRFI/Hg/c2T4JGj+ns5FaakdJP5PVg8z20Uo/8wBGu9gNHz9624zPiPZAP/0Mo88vtEY/mO/ohnmRKT81xet2YdtUP+7749F460o/Cw5h1ZzpJD+i8suV9IhaPwoE9ratTTI/rjS3S/cIUD/SHBQLdar/Pg==",
          "dtype": "f8"
         },
         "yaxis": "y"
        },
        {
         "hovertemplate": "color=2025-Aug<br>variable=cum_default_rate_bal<br>default_month=%{x}<br>value=%{y}<extra></extra>",
         "legendgroup": "2025-Aug",
         "line": {
          "color": "#97b4d2",
          "dash": "solid"
         },
         "marker": {
          "symbol": "circle"
         },
         "mode": "lines",
         "name": "2025-Aug",
         "showlegend": false,
         "type": "scattergl",
         "x": {
          "bdata": "AAAAAAAA8D8AAAAAAAAAQAAAAAAAAAhAAAAAAAAAEEAAAAAAAAAUQAAAAAAAABhAAAAAAAAAHEAAAAAAAAAgQAAAAAAAACJAAAAAAAAAJEAAAAAAAAAmQAAAAAAAAChAAAAAAAAAKkAAAAAAAAAsQAAAAAAAAC5AAAAAAAAAMUAAAAAAAAAyQAAAAAAAADNAAAAAAAAANEAAAAAAAAA1QAAAAAAAADZAAAAAAAAAN0AAAAAAAAA4QAAAAAAAADlAAAAAAAAAO0AAAAAAAAA8QA==",
          "dtype": "f8"
         },
         "xaxis": "x2",
         "y": {
          "bdata": "TeVd/Nw+SD80wSUanrhTP/hdCTpaylw/q6L3aka8ZT8Aj/WERiFtP08dIH2ZA3A/hOABEuF2cT9wsw+ZzJxzP8LrbfegFHg/Wafgqupofj+LAMMQB+N+PzCVGnoGuoE/Tk3O9xjugT+JaHedj4KDP+KlPwqvL4U/5DG2u8pthT+b/65IM32GP2swqUV26Ic/KtTEK7xOiD/QTKJaKOqKP4+MwOffmIw/xxAWW4bsjD+Ox+d20h6QP56fwy0JaJA/6RJ/ophokT/w18E/g3CRPw==",
          "dtype": "f8"
         },
         "yaxis": "y2"
        },
        {
         "hovertemplate": "color=2025-Sep<br>variable=id<br>default_month=%{x}<br>value=%{y}<extra></extra>",
         "legendgroup": "2025-Sep",
         "line": {
          "color": "#92b0cf",
          "dash": "solid"
         },
         "marker": {
          "symbol": "circle"
         },
         "mode": "lines",
         "name": "2025-Sep",
         "showlegend": true,
         "type": "scattergl",
         "x": {
          "bdata": "AAAAAAAA8D8AAAAAAAAAQAAAAAAAAAhAAAAAAAAAEEAAAAAAAAAUQAAAAAAAABhAAAAAAAAAHEAAAAAAAAAgQAAAAAAAACJAAAAAAAAAJEAAAAAAAAAmQAAAAAAAAChAAAAAAAAAKkAAAAAAAAAsQAAAAAAAAC5AAAAAAAAAMEAAAAAAAAAxQAAAAAAAADJAAAAAAAAAM0AAAAAAAAA0QAAAAAAAADVAAAAAAAAANkAAAAAAAAA3QAAAAAAAADhAAAAAAAAAOkAAAAAAAAA7QA==",
          "dtype": "f8"
         },
         "xaxis": "x5",
         "y": {
          "bdata": "AAAAAACGo0AAAAAAAIajQAAAAAAAhqNAAAAAAACGo0AAAAAAAIajQAAAAAAAhqNAAAAAAACGo0AAAAAAAIajQAAAAAAAhqNAAAAAAACGo0AAAAAAAIajQAAAAAAAhqNAAAAAAACGo0AAAAAAAIajQAAAAAAAhqNAAAAAAACGo0AAAAAAAIajQAAAAAAAhqNAAAAAAACGo0AAAAAAAIajQAAAAAAAhqNAAAAAAACGo0AAAAAAAIajQAAAAAAAhqNAAAAAAACGo0AAAAAAAIajQA==",
          "dtype": "f8"
         },
         "yaxis": "y5"
        },
        {
         "hovertemplate": "color=2025-Sep<br>variable=balance<br>default_month=%{x}<br>value=%{y}<extra></extra>",
         "legendgroup": "2025-Sep",
         "line": {
          "color": "#92b0cf",
          "dash": "solid"
         },
         "marker": {
          "symbol": "circle"
         },
         "mode": "lines",
         "name": "2025-Sep",
         "showlegend": false,
         "type": "scattergl",
         "x": {
          "bdata": "AAAAAAAA8D8AAAAAAAAAQAAAAAAAAAhAAAAAAAAAEEAAAAAAAAAUQAAAAAAAABhAAAAAAAAAHEAAAAAAAAAgQAAAAAAAACJAAAAAAAAAJEAAAAAAAAAmQAAAAAAAAChAAAAAAAAAKkAAAAAAAAAsQAAAAAAAAC5AAAAAAAAAMEAAAAAAAAAxQAAAAAAAADJAAAAAAAAAM0AAAAAAAAA0QAAAAAAAADVAAAAAAAAANkAAAAAAAAA3QAAAAAAAADhAAAAAAAAAOkAAAAAAAAA7QA==",
          "dtype": "f8"
         },
         "xaxis": "x6",
         "y": {
          "bdata": "Lv1mGwT2Y0Eu/WYbBPZjQS79ZhsE9mNBLv1mGwT2Y0Eu/WYbBPZjQS79ZhsE9mNBLv1mGwT2Y0Eu/WYbBPZjQS79ZhsE9mNBLv1mGwT2Y0Eu/WYbBPZjQS79ZhsE9mNBLv1mGwT2Y0Eu/WYbBPZjQS79ZhsE9mNBLv1mGwT2Y0Eu/WYbBPZjQS79ZhsE9mNBLv1mGwT2Y0Eu/WYbBPZjQS79ZhsE9mNBLv1mGwT2Y0Eu/WYbBPZjQS79ZhsE9mNBLv1mGwT2Y0Eu/WYbBPZjQQ==",
          "dtype": "f8"
         },
         "yaxis": "y6"
        },
        {
         "hovertemplate": "color=2025-Sep<br>variable=default_rate<br>default_month=%{x}<br>value=%{y}<extra></extra>",
         "legendgroup": "2025-Sep",
         "line": {
          "color": "#92b0cf",
          "dash": "solid"
         },
         "marker": {
          "symbol": "circle"
         },
         "mode": "lines",
         "name": "2025-Sep",
         "showlegend": false,
         "type": "scattergl",
         "x": {
          "bdata": "AAAAAAAA8D8AAAAAAAAAQAAAAAAAAAhAAAAAAAAAEEAAAAAAAAAUQAAAAAAAABhAAAAAAAAAHEAAAAAAAAAgQAAAAAAAACJAAAAAAAAAJEAAAAAAAAAmQAAAAAAAAChAAAAAAAAAKkAAAAAAAAAsQAAAAAAAAC5AAAAAAAAAMEAAAAAAAAAxQAAAAAAAADJAAAAAAAAAM0AAAAAAAAA0QAAAAAAAADVAAAAAAAAANkAAAAAAAAA3QAAAAAAAADhAAAAAAAAAOkAAAAAAAAA7QA==",
          "dtype": "f8"
         },
         "xaxis": "x3",
         "y": {
          "bdata": "QunJr8SAfT83uVCklAdyPze5UKSUB4I/jcv/1V0kfz9iQig9+ZV4Pxdg8hZg8mY/F2DyFmDyZj/Mfbzwxk51P+zWGn77Y2A/gZuGyi2rUz/s1hp++2NwP60kXmOSOTo/rSReY5I5Wj+tJF5jkjlaP60kXmOSOTo/rSReY5I5Sj+Bm4bKLatTP4Gbhsotq1M/rSReY5I5Sj+tJF5jkjk6P60kXmOSOUo/rSReY5I5Oj+tJF5jkjlaP60kXmOSOUo/gZuGyi2rUz+tJF5jkjlKPw==",
          "dtype": "f8"
         },
         "yaxis": "y3"
        },
        {
         "hovertemplate": "color=2025-Sep<br>variable=cum_default<br>default_month=%{x}<br>value=%{y}<extra></extra>",
         "legendgroup": "2025-Sep",
         "line": {
          "color": "#92b0cf",
          "dash": "solid"
         },
         "marker": {
          "symbol": "circle"
         },
         "mode": "lines",
         "name": "2025-Sep",
         "showlegend": false,
         "type": "scattergl",
         "x": {
          "bdata": "AAAAAAAA8D8AAAAAAAAAQAAAAAAAAAhAAAAAAAAAEEAAAAAAAAAUQAAAAAAAABhAAAAAAAAAHEAAAAAAAAAgQAAAAAAAACJAAAAAAAAAJEAAAAAAAAAmQAAAAAAAAChAAAAAAAAAKkAAAAAAAAAsQAAAAAAAAC5AAAAAAAAAMEAAAAAAAAAxQAAAAAAAADJAAAAAAAAAM0AAAAAAAAA0QAAAAAAAADVAAAAAAAAANkAAAAAAAAA3QAAAAAAAADhAAAAAAAAAOkAAAAAAAAA7QA==",
          "dtype": "f8"
         },
         "xaxis": "x4",
         "y": {
          "bdata": "QunJr8SAfT88UQ2qLMSHPzoFL6fg5ZQ/HfiuHPiunD9bhPw1O2qhP1yqazdh2aI/XtDaOIdIpD8XYPIWYPKmP4YN1M6f+Kc/YkIoPfmVqD9AneuseKKqP4lZstHr1qo/rkrNZLioqz/UO+j3hHqsPx34rhz4rqw/sHA8Zt4XrT+MpZDUN7WtP2ja5EKRUq4/+lJyjHe7rj9EDzmx6u+uP9eHxvrQWK8/IESNH0SNrz+jGlRZiC+wP+zWGn77Y7A/WvFENaiysD+jrQtaG+ewPw==",
          "dtype": "f8"
         },
         "yaxis": "y4"
        },
        {
         "hovertemplate": "color=2025-Sep<br>variable=default_rate_bal<br>default_month=%{x}<br>value=%{y}<extra></extra>",
         "legendgroup": "2025-Sep",
         "line": {
          "color": "#92b0cf",
          "dash": "solid"
         },
         "marker": {
          "symbol": "circle"
         },
         "mode": "lines",
         "name": "2025-Sep",
         "showlegend": false,
         "type": "scattergl",
         "x": {
          "bdata": "AAAAAAAA8D8AAAAAAAAAQAAAAAAAAAhAAAAAAAAAEEAAAAAAAAAUQAAAAAAAABhAAAAAAAAAHEAAAAAAAAAgQAAAAAAAACJAAAAAAAAAJEAAAAAAAAAmQAAAAAAAAChAAAAAAAAAKkAAAAAAAAAsQAAAAAAAAC5AAAAAAAAAMEAAAAAAAAAxQAAAAAAAADJAAAAAAAAAM0AAAAAAAAA0QAAAAAAAADVAAAAAAAAANkAAAAAAAAA3QAAAAAAAADhAAAAAAAAAOkAAAAAAAAA7QA==",
          "dtype": "f8"
         },
         "xaxis": "x",
         "y": {
          "bdata": "7WlQyYJrOz/BfJhrLF1AP9c0NWkGfUo/8TT8L2KcSz9ljsZNU185P+zrDtg0gDw/SRh2vxUhQz+3XhG3OpZSP+KihqU3blg/9xpZb9n4Mz9pJ6spi3xRP0YwedklfRc/bl2q/0fORj+R3nSfOjJIP4iPIITxnfc+u6DNwBEEHD9elDtZXJs+P67Vs2yMe0Q/0/OmShgRJz/RHQXt/9BSP4IXpsY9SUg//9gP2NbdIj9PRVNp3itdP8qnSLpAgzA/ME8Qi7XuTD8CUwGdW5H8Pg==",
          "dtype": "f8"
         },
         "yaxis": "y"
        },
        {
         "hovertemplate": "color=2025-Sep<br>variable=cum_default_rate_bal<br>default_month=%{x}<br>value=%{y}<extra></extra>",
         "legendgroup": "2025-Sep",
         "line": {
          "color": "#92b0cf",
          "dash": "solid"
         },
         "marker": {
          "symbol": "circle"
         },
         "mode": "lines",
         "name": "2025-Sep",
         "showlegend": false,
         "type": "scattergl",
         "x": {
          "bdata": "AAAAAAAA8D8AAAAAAAAAQAAAAAAAAAhAAAAAAAAAEEAAAAAAAAAUQAAAAAAAABhAAAAAAAAAHEAAAAAAAAAgQAAAAAAAACJAAAAAAAAAJEAAAAAAAAAmQAAAAAAAAChAAAAAAAAAKkAAAAAAAAAsQAAAAAAAAC5AAAAAAAAAMEAAAAAAAAAxQAAAAAAAADJAAAAAAAAAM0AAAAAAAAA0QAAAAAAAADVAAAAAAAAANkAAAAAAAAA3QAAAAAAAADhAAAAAAAAAOkAAAAAAAAA7QA==",
          "dtype": "f8"
         },
         "xaxis": "x2",
         "y": {
          "bdata": "7WlQyYJrOz+4sUDQ7RJOP0fzuhz6R1w/4IZcmhULZT+sWBUEADdoPyo2F58Gx2s/Hl56B6ZHcD/MtT61NO10P4ReoJ7CCHs/NPCVNVBIfD8HXQCAuVOAP2hPs8uzgoA/PvWtS5jvgT8oQ6X1u3KDP29TZ+6KfoM/se7oEZO2gz9Uy7L0bauEP64Ifrsm84U/fqSoHGtPhj84SEkai6mIP7Cps/YeLoo/FOkTUpZ5ij++UT4fEh+OP/yWECUso44/+M3gvgs5kD9MDsgVMECQPw==",
          "dtype": "f8"
         },
         "yaxis": "y2"
        },
        {
         "hovertemplate": "color=2025-Oct<br>variable=id<br>default_month=%{x}<br>value=%{y}<extra></extra>",
         "legendgroup": "2025-Oct",
         "line": {
          "color": "#8caccd",
          "dash": "solid"
         },
         "marker": {
          "symbol": "circle"
         },
         "mode": "lines",
         "name": "2025-Oct",
         "showlegend": true,
         "type": "scattergl",
         "x": {
          "bdata": "AAAAAAAA8D8AAAAAAAAAQAAAAAAAAAhAAAAAAAAAEEAAAAAAAAAUQAAAAAAAABhAAAAAAAAAHEAAAAAAAAAgQAAAAAAAACJAAAAAAAAAJEAAAAAAAAAmQAAAAAAAAChAAAAAAAAAKkAAAAAAAAAsQAAAAAAAAC5AAAAAAAAAMEAAAAAAAAAxQAAAAAAAADJAAAAAAAAAM0AAAAAAAAA0QAAAAAAAADVAAAAAAAAANkAAAAAAAAA3QAAAAAAAADlAAAAAAAAAOkA=",
          "dtype": "f8"
         },
         "xaxis": "x5",
         "y": {
          "bdata": "AAAAAADCpUAAAAAAAMKlQAAAAAAAwqVAAAAAAADCpUAAAAAAAMKlQAAAAAAAwqVAAAAAAADCpUAAAAAAAMKlQAAAAAAAwqVAAAAAAADCpUAAAAAAAMKlQAAAAAAAwqVAAAAAAADCpUAAAAAAAMKlQAAAAAAAwqVAAAAAAADCpUAAAAAAAMKlQAAAAAAAwqVAAAAAAADCpUAAAAAAAMKlQAAAAAAAwqVAAAAAAADCpUAAAAAAAMKlQAAAAAAAwqVAAAAAAADCpUA=",
          "dtype": "f8"
         },
         "yaxis": "y5"
        },
        {
         "hovertemplate": "color=2025-Oct<br>variable=balance<br>default_month=%{x}<br>value=%{y}<extra></extra>",
         "legendgroup": "2025-Oct",
         "line": {
          "color": "#8caccd",
          "dash": "solid"
         },
         "marker": {
          "symbol": "circle"
         },
         "mode": "lines",
         "name": "2025-Oct",
         "showlegend": false,
         "type": "scattergl",
         "x": {
          "bdata": "AAAAAAAA8D8AAAAAAAAAQAAAAAAAAAhAAAAAAAAAEEAAAAAAAAAUQAAAAAAAABhAAAAAAAAAHEAAAAAAAAAgQAAAAAAAACJAAAAAAAAAJEAAAAAAAAAmQAAAAAAAAChAAAAAAAAAKkAAAAAAAAAsQAAAAAAAAC5AAAAAAAAAMEAAAAAAAAAxQAAAAAAAADJAAAAAAAAAM0AAAAAAAAA0QAAAAAAAADVAAAAAAAAANkAAAAAAAAA3QAAAAAAAADlAAAAAAAAAOkA=",
          "dtype": "f8"
         },
         "xaxis": "x6",
         "y": {
          "bdata": "f9jFAf2LZkF/2MUB/YtmQX/YxQH9i2ZBf9jFAf2LZkF/2MUB/YtmQX/YxQH9i2ZBf9jFAf2LZkF/2MUB/YtmQX/YxQH9i2ZBf9jFAf2LZkF/2MUB/YtmQX/YxQH9i2ZBf9jFAf2LZkF/2MUB/YtmQX/YxQH9i2ZBf9jFAf2LZkF/2MUB/YtmQX/YxQH9i2ZBf9jFAf2LZkF/2MUB/YtmQX/YxQH9i2ZBf9jFAf2LZkF/2MUB/YtmQX/YxQH9i2ZBf9jFAf2LZkE=",
          "dtype": "f8"
         },
         "yaxis": "y6"
        },
        {
         "hovertemplate": "color=2025-Oct<br>variable=default_rate<br>default_month=%{x}<br>value=%{y}<extra></extra>",
         "legendgroup": "2025-Oct",
         "line": {
          "color": "#8caccd",
          "dash": "solid"
         },
         "marker": {
          "symbol": "circle"
         },
         "mode": "lines",
         "name": "2025-Oct",
         "showlegend": false,
         "type": "scattergl",
         "x": {
          "bdata": "AAAAAAAA8D8AAAAAAAAAQAAAAAAAAAhAAAAAAAAAEEAAAAAAAAAUQAAAAAAAABhAAAAAAAAAHEAAAAAAAAAgQAAAAAAAACJAAAAAAAAAJEAAAAAAAAAmQAAAAAAAAChAAAAAAAAAKkAAAAAAAAAsQAAAAAAAAC5AAAAAAAAAMEAAAAAAAAAxQAAAAAAAADJAAAAAAAAAM0AAAAAAAAA0QAAAAAAAADVAAAAAAAAANkAAAAAAAAA3QAAAAAAAADlAAAAAAAAAOkA=",
          "dtype": "f8"
         },
         "xaxis": "x3",
         "y": {
          "bdata": "W+b2wpctcD9b5vbCly2APxFI8Aqp8Xs/EUjwCqnxez9b5vbCly1wP23D8o8iiGc/yD71FJwecz//avQ9HpdkP23D8o8iiFc/W+b2wpctcD9tw/KPIohHP/9q9D0el2Q/kRL26xmmYT9tw/KPIohHP5ES9usZplE/kRL26xmmUT+REvbrGaZRP5ES9usZplE/bcPyjyKINz9tw/KPIohHP23D8o8iiDc/kRL26xmmYT9tw/KPIohHP5ES9usZplE/bcPyjyKIRz8=",
          "dtype": "f8"
         },
         "yaxis": "y3"
        },
        {
         "hovertemplate": "color=2025-Oct<br>variable=cum_default<br>default_month=%{x}<br>value=%{y}<extra></extra>",
         "legendgroup": "2025-Oct",
         "line": {
          "color": "#8caccd",
          "dash": "solid"
         },
         "marker": {
          "symbol": "circle"
         },
         "mode": "lines",
         "name": "2025-Oct",
         "showlegend": false,
         "type": "scattergl",
         "x": {
          "bdata": "AAAAAAAA8D8AAAAAAAAAQAAAAAAAAAhAAAAAAAAAEEAAAAAAAAAUQAAAAAAAABhAAAAAAAAAHEAAAAAAAAAgQAAAAAAAACJAAAAAAAAAJEAAAAAAAAAmQAAAAAAAAChAAAAAAAAAKkAAAAAAAAAsQAAAAAAAAC5AAAAAAAAAMEAAAAAAAAAxQAAAAAAAADJAAAAAAAAAM0AAAAAAAAA0QAAAAAAAADVAAAAAAAAANkAAAAAAAAA3QAAAAAAAADlAAAAAAAAAOkA=",
          "dtype": "f8"
         },
         "xaxis": "x4",
         "y": {
          "bdata": "W+b2wpctcD+IWXKkY0SIP8k+9RScHpM/zVCxVwYbmj9kCm9IbCaeP2mxNk24i6A/QlnVz4vvoj/yn7Sz/TikPw02NMg+9aQ/2BKTwPH6pj/m3dJKElmnP5Yksi6Eoqg/v4VxzeW8qT/NULFXBhuqP2EBESc3qKo/9rFw9mc1qz+KYtDFmMKrPx8TMJXJT6w/pvhP2tl+rD+0w49k+tysPzqpr6kKDK0/ZApvSGwmrj9x1a7SjISuPwaGDqK9Ea8/E1FOLN5vrz8=",
          "dtype": "f8"
         },
         "yaxis": "y4"
        },
        {
         "hovertemplate": "color=2025-Oct<br>variable=default_rate_bal<br>default_month=%{x}<br>value=%{y}<extra></extra>",
         "legendgroup": "2025-Oct",
         "line": {
          "color": "#8caccd",
          "dash": "solid"
         },
         "marker": {
          "symbol": "circle"
         },
         "mode": "lines",
         "name": "2025-Oct",
         "showlegend": false,
         "type": "scattergl",
         "x": {
          "bdata": "AAAAAAAA8D8AAAAAAAAAQAAAAAAAAAhAAAAAAAAAEEAAAAAAAAAUQAAAAAAAABhAAAAAAAAAHEAAAAAAAAAgQAAAAAAAACJAAAAAAAAAJEAAAAAAAAAmQAAAAAAAAChAAAAAAAAAKkAAAAAAAAAsQAAAAAAAAC5AAAAAAAAAMEAAAAAAAAAxQAAAAAAAADJAAAAAAAAAM0AAAAAAAAA0QAAAAAAAADVAAAAAAAAANkAAAAAAAAA3QAAAAAAAADlAAAAAAAAAOkA=",
          "dtype": "f8"
         },
         "xaxis": "x",
         "y": {
          "bdata": "wr7djXX5PD8o4pVPVHNHP2QOg0a7cUg/zRLevZUxOT8KxR2BbRw+P+UwTtOJEUE/qJ3AqIV0UD8TJ9i9X3JWPxeDvqb53TI/RLx2FOw5UD8YkTjE6S4YP6aWOIURrlA/nw2vlizgRT9Lcd6zZRsWPxY2jdE5YSA/P0Z+E78YOz8bal10LiJCP7Q8OnVYCis/ZccUYY2oUD9SS9NMNIBFP1+Xl1TrsyA//IFcCOl8YT/0buso4jwtPyFfV25BnUk/F+azSJxK+T4=",
          "dtype": "f8"
         },
         "yaxis": "y"
        },
        {
         "hovertemplate": "color=2025-Oct<br>variable=cum_default_rate_bal<br>default_month=%{x}<br>value=%{y}<extra></extra>",
         "legendgroup": "2025-Oct",
         "line": {
          "color": "#8caccd",
          "dash": "solid"
         },
         "marker": {
          "symbol": "circle"
         },
         "mode": "lines",
         "name": "2025-Oct",
         "showlegend": false,
         "type": "scattergl",
         "x": {
          "bdata": "AAAAAAAA8D8AAAAAAAAAQAAAAAAAAAhAAAAAAAAAEEAAAAAAAAAUQAAAAAAAABhAAAAAAAAAHEAAAAAAAAAgQAAAAAAAACJAAAAAAAAAJEAAAAAAAAAmQAAAAAAAAChAAAAAAAAAKkAAAAAAAAAsQAAAAAAAAC5AAAAAAAAAMEAAAAAAAAAxQAAAAAAAADJAAAAAAAAAM0AAAAAAAAA0QAAAAAAAADVAAAAAAAAANkAAAAAAAAA3QAAAAAAAADlAAAAAAAAAOkA=",
          "dtype": "f8"
         },
         "xaxis": "x2",
         "y": {
          "bdata": "wr7djXX5PD/EYEKLB/hSP/bngy7lMF8/Vbb9TqW+Yj/2biH/MoJmPzD79HOVxmo/AqUqJGyAcT/GrqATBB13P/iWDK7jSng/CUYqs15ZfD9NKDtaGrp8P/ymxF3PcoA/1ZcvJ9LQgT+4VJfyCP2BP5CJ3dmNPoI/wnt50lMXgz9kUr+5djmEP1c7lBugpYQ/RNS2x7G6hj/5CIQMtRKIP1Zn1rmEVYg/1Yft+760jD+RNZGEsimNP4OrdpuGw44/dgWb6SvQjj8=",
          "dtype": "f8"
         },
         "yaxis": "y2"
        },
        {
         "hovertemplate": "color=2025-Nov<br>variable=id<br>default_month=%{x}<br>value=%{y}<extra></extra>",
         "legendgroup": "2025-Nov",
         "line": {
          "color": "#86a7cb",
          "dash": "solid"
         },
         "marker": {
          "symbol": "circle"
         },
         "mode": "lines",
         "name": "2025-Nov",
         "showlegend": true,
         "type": "scattergl",
         "x": {
          "bdata": "AAAAAAAA8D8AAAAAAAAAQAAAAAAAAAhAAAAAAAAAEEAAAAAAAAAUQAAAAAAAABhAAAAAAAAAHEAAAAAAAAAgQAAAAAAAACJAAAAAAAAAJEAAAAAAAAAmQAAAAAAAAChAAAAAAAAAKkAAAAAAAAAsQAAAAAAAAC5AAAAAAAAAMEAAAAAAAAAxQAAAAAAAADJAAAAAAAAAM0AAAAAAAAA0QAAAAAAAADVAAAAAAAAANkAAAAAAAAA4QAAAAAAAADlA",
          "dtype": "f8"
         },
         "xaxis": "x5",
         "y": {
          "bdata": "AAAAAADUp0AAAAAAANSnQAAAAAAA1KdAAAAAAADUp0AAAAAAANSnQAAAAAAA1KdAAAAAAADUp0AAAAAAANSnQAAAAAAA1KdAAAAAAADUp0AAAAAAANSnQAAAAAAA1KdAAAAAAADUp0AAAAAAANSnQAAAAAAA1KdAAAAAAADUp0AAAAAAANSnQAAAAAAA1KdAAAAAAADUp0AAAAAAANSnQAAAAAAA1KdAAAAAAADUp0AAAAAAANSnQAAAAAAA1KdA",
          "dtype": "f8"
         },
         "yaxis": "y5"
        },
        {
         "hovertemplate": "color=2025-Nov<br>variable=balance<br>default_month=%{x}<br>value=%{y}<extra></extra>",
         "legendgroup": "2025-Nov",
         "line": {
          "color": "#86a7cb",
          "dash": "solid"
         },
         "marker": {
          "symbol": "circle"
         },
         "mode": "lines",
         "name": "2025-Nov",
         "showlegend": false,
         "type": "scattergl",
         "x": {
          "bdata": "AAAAAAAA8D8AAAAAAAAAQAAAAAAAAAhAAAAAAAAAEEAAAAAAAAAUQAAAAAAAABhAAAAAAAAAHEAAAAAAAAAgQAAAAAAAACJAAAAAAAAAJEAAAAAAAAAmQAAAAAAAAChAAAAAAAAAKkAAAAAAAAAsQAAAAAAAAC5AAAAAAAAAMEAAAAAAAAAxQAAAAAAAADJAAAAAAAAAM0AAAAAAAAA0QAAAAAAAADVAAAAAAAAANkAAAAAAAAA4QAAAAAAAADlA",
          "dtype": "f8"
         },
         "xaxis": "x6",
         "y": {
          "bdata": "iyvyct1QaEGLK/Jy3VBoQYsr8nLdUGhBiyvyct1QaEGLK/Jy3VBoQYsr8nLdUGhBiyvyct1QaEGLK/Jy3VBoQYsr8nLdUGhBiyvyct1QaEGLK/Jy3VBoQYsr8nLdUGhBiyvyct1QaEGLK/Jy3VBoQYsr8nLdUGhBiyvyct1QaEGLK/Jy3VBoQYsr8nLdUGhBiyvyct1QaEGLK/Jy3VBoQYsr8nLdUGhBiyvyct1QaEGLK/Jy3VBoQYsr8nLdUGhB",
          "dtype": "f8"
         },
         "yaxis": "y6"
        },
        {
         "hovertemplate": "color=2025-Nov<br>variable=default_rate<br>default_month=%{x}<br>value=%{y}<extra></extra>",
         "legendgroup": "2025-Nov",
         "line": {
          "color": "#86a7cb",
          "dash": "solid"
         },
         "marker": {
          "symbol": "circle"
         },
         "mode": "lines",
         "name": "2025-Nov",
         "showlegend": false,
         "type": "scattergl",
         "x": {
          "bdata": "AAAAAAAA8D8AAAAAAAAAQAAAAAAAAAhAAAAAAAAAEEAAAAAAAAAUQAAAAAAAABhAAAAAAAAAHEAAAAAAAAAgQAAAAAAAACJAAAAAAAAAJEAAAAAAAAAmQAAAAAAAAChAAAAAAAAAKkAAAAAAAAAsQAAAAAAAAC5AAAAAAAAAMEAAAAAAAAAxQAAAAAAAADJAAAAAAAAAM0AAAAAAAAA0QAAAAAAAADVAAAAAAAAANkAAAAAAAAA4QAAAAAAAADlA",
          "dtype": "f8"
         },
         "xaxis": "x3",
         "y": {
          "bdata": "AdKJv3+LfT+N75nfHIR5P43vmd8chHk/dcu0vyLNcj9ekJR/6NtqP0dsr1/uJHQ/u06fP1EsaD9ekJR/6NtaP6Qquh9XdXE/0om/f4sdUD91y7S/Is1iP3XLtL8izWI/GA2q/7l8RT8YDar/uXxVP9KJv3+LHVA/0om/f4sdUD/Sib9/ix1QP9KJv3+LHVA/GA2q/7l8RT8YDar/uXxFP3XLtL8izWI/GA2q/7l8RT/Sib9/ix1QPxgNqv+5fEU/",
          "dtype": "f8"
         },
         "yaxis": "y3"
        },
        {
         "hovertemplate": "color=2025-Nov<br>variable=cum_default<br>default_month=%{x}<br>value=%{y}<extra></extra>",
         "legendgroup": "2025-Nov",
         "line": {
          "color": "#86a7cb",
          "dash": "solid"
         },
         "marker": {
          "symbol": "circle"
         },
         "mode": "lines",
         "name": "2025-Nov",
         "showlegend": false,
         "type": "scattergl",
         "x": {
          "bdata": "AAAAAAAA8D8AAAAAAAAAQAAAAAAAAAhAAAAAAAAAEEAAAAAAAAAUQAAAAAAAABhAAAAAAAAAHEAAAAAAAAAgQAAAAAAAACJAAAAAAAAAJEAAAAAAAAAmQAAAAAAAAChAAAAAAAAAKkAAAAAAAAAsQAAAAAAAAC5AAAAAAAAAMEAAAAAAAAAxQAAAAAAAADJAAAAAAAAAM0AAAAAAAAA0QAAAAAAAADVAAAAAAAAANkAAAAAAAAA4QAAAAAAAADlA",
          "dtype": "f8"
         },
         "xaxis": "x4",
         "y": {
          "bdata": "AdKJv3+LfT/H4JFPzoeLP0dsr1/uJJQ/JJ+cDzfYmD8wMY8ftDOcPyGGvdt3nqA/DHu37zwhoj+PH7QzHPiiP+RkqxfHJqU/MmGpc7OnpT/qraSfhdSmP6H6n8tXAag/1aKes0pXqD8+85uDMAOpP43vmd8chKk/2+uXOwkFqj8q6JWX9YWqP3jkk/PhBqs/rYyS29Rcqz/hNJHDx7KrP5iBjO+Z36w/zSmL14w1rT8bJokzebatP1DOhxtsDK4/",
          "dtype": "f8"
         },
         "yaxis": "y4"
        },
        {
         "hovertemplate": "color=2025-Nov<br>variable=default_rate_bal<br>default_month=%{x}<br>value=%{y}<extra></extra>",
         "legendgroup": "2025-Nov",
         "line": {
          "color": "#86a7cb",
          "dash": "solid"
         },
         "marker": {
          "symbol": "circle"
         },
         "mode": "lines",
         "name": "2025-Nov",
         "showlegend": false,
         "type": "scattergl",
         "x": {
          "bdata": "AAAAAAAA8D8AAAAAAAAAQAAAAAAAAAhAAAAAAAAAEEAAAAAAAAAUQAAAAAAAABhAAAAAAAAAHEAAAAAAAAAgQAAAAAAAACJAAAAAAAAAJEAAAAAAAAAmQAAAAAAAAChAAAAAAAAAKkAAAAAAAAAsQAAAAAAAAC5AAAAAAAAAMEAAAAAAAAAxQAAAAAAAADJAAAAAAAAAM0AAAAAAAAA0QAAAAAAAADVAAAAAAAAANkAAAAAAAAA4QAAAAAAAADlA",
          "dtype": "f8"
         },
         "xaxis": "x",
         "y": {
          "bdata": "uf5m6ZG+RT8O5RO0dqpGP2Nyq/NbXDc/oQKK1EOgQD+46IQtfwdCP1mVstxP8VA/9xNYqVI0WT8iwI88hHU9P28rLQL/rU4/I+vb9DUNGj82nw5I0e5OP0/4RQkmhEQ/F7En8qh/FD8aJKgRnXRLP3D94QgUIDk/WWfREXPQQD9glOSguRIpP33Vjj4S1VA/33KU+MHvQz/AsoTXKbFFP9yJ7hlcfmA/CsKANlYcKz9+EdJNMsBHP2xAX2aQc/c+",
          "dtype": "f8"
         },
         "yaxis": "y"
        },
        {
         "hovertemplate": "color=2025-Nov<br>variable=cum_default_rate_bal<br>default_month=%{x}<br>value=%{y}<extra></extra>",
         "legendgroup": "2025-Nov",
         "line": {
          "color": "#86a7cb",
          "dash": "solid"
         },
         "marker": {
          "symbol": "circle"
         },
         "mode": "lines",
         "name": "2025-Nov",
         "showlegend": false,
         "type": "scattergl",
         "x": {
          "bdata": "AAAAAAAA8D8AAAAAAAAAQAAAAAAAAAhAAAAAAAAAEEAAAAAAAAAUQAAAAAAAABhAAAAAAAAAHEAAAAAAAAAgQAAAAAAAACJAAAAAAAAAJEAAAAAAAAAmQAAAAAAAAChAAAAAAAAAKkAAAAAAAAAsQAAAAAAAAC5AAAAAAAAAMEAAAAAAAAAxQAAAAAAAADJAAAAAAAAAM0AAAAAAAAA0QAAAAAAAADVAAAAAAAAANkAAAAAAAAA4QAAAAAAAADlA",
          "dtype": "f8"
         },
         "xaxis": "x2",
         "y": {
          "bdata": "uf5m6ZG+RT/kcb1OhDRWP3xOqEubC1w/5qf2mt4tYj8U4ldmvq9mP8EssVRmKG8/Xpuu1EfhdT9gl3cYoLh3P848vfhfjns/e6yQ0JT2ez9igJL5btR/P7afXd15MoE/GO9BL3lbgT9acVwAwxKDP0WBo6DD24M/u5fA0crohD8MKkS4FU2FP7wEFgC4Z4c/6kufH7SmiD8Wlxe9xgGKP405k8NdIY4/lTxtHM+Njj/WLqUg6QSQP6bGvgTGCpA/",
          "dtype": "f8"
         },
         "yaxis": "y2"
        },
        {
         "hovertemplate": "color=2025-Dec<br>variable=id<br>default_month=%{x}<br>value=%{y}<extra></extra>",
         "legendgroup": "2025-Dec",
         "line": {
          "color": "#80a3c9",
          "dash": "solid"
         },
         "marker": {
          "symbol": "circle"
         },
         "mode": "lines",
         "name": "2025-Dec",
         "showlegend": true,
         "type": "scattergl",
         "x": {
          "bdata": "AAAAAAAA8D8AAAAAAAAAQAAAAAAAAAhAAAAAAAAAEEAAAAAAAAAUQAAAAAAAABhAAAAAAAAAHEAAAAAAAAAgQAAAAAAAACJAAAAAAAAAJEAAAAAAAAAmQAAAAAAAAChAAAAAAAAAKkAAAAAAAAAsQAAAAAAAAC5AAAAAAAAAMEAAAAAAAAAxQAAAAAAAADJAAAAAAAAAM0AAAAAAAAA0QAAAAAAAADVAAAAAAAAAN0AAAAAAAAA4QA==",
          "dtype": "f8"
         },
         "xaxis": "x5",
         "y": {
          "bdata": "AAAAAADoqUAAAAAAAOipQAAAAAAA6KlAAAAAAADoqUAAAAAAAOipQAAAAAAA6KlAAAAAAADoqUAAAAAAAOipQAAAAAAA6KlAAAAAAADoqUAAAAAAAOipQAAAAAAA6KlAAAAAAADoqUAAAAAAAOipQAAAAAAA6KlAAAAAAADoqUAAAAAAAOipQAAAAAAA6KlAAAAAAADoqUAAAAAAAOipQAAAAAAA6KlAAAAAAADoqUAAAAAAAOipQA==",
          "dtype": "f8"
         },
         "yaxis": "y5"
        },
        {
         "hovertemplate": "color=2025-Dec<br>variable=balance<br>default_month=%{x}<br>value=%{y}<extra></extra>",
         "legendgroup": "2025-Dec",
         "line": {
          "color": "#80a3c9",
          "dash": "solid"
         },
         "marker": {
          "symbol": "circle"
         },
         "mode": "lines",
         "name": "2025-Dec",
         "showlegend": false,
         "type": "scattergl",
         "x": {
          "bdata": "AAAAAAAA8D8AAAAAAAAAQAAAAAAAAAhAAAAAAAAAEEAAAAAAAAAUQAAAAAAAABhAAAAAAAAAHEAAAAAAAAAgQAAAAAAAACJAAAAAAAAAJEAAAAAAAAAmQAAAAAAAAChAAAAAAAAAKkAAAAAAAAAsQAAAAAAAAC5AAAAAAAAAMEAAAAAAAAAxQAAAAAAAADJAAAAAAAAAM0AAAAAAAAA0QAAAAAAAADVAAAAAAAAAN0AAAAAAAAA4QA==",
          "dtype": "f8"
         },
         "xaxis": "x6",
         "y": {
          "bdata": "VVkBmk6pakFVWQGaTqlqQVVZAZpOqWpBVVkBmk6pakFVWQGaTqlqQVVZAZpOqWpBVVkBmk6pakFVWQGaTqlqQVVZAZpOqWpBVVkBmk6pakFVWQGaTqlqQVVZAZpOqWpBVVkBmk6pakFVWQGaTqlqQVVZAZpOqWpBVVkBmk6pakFVWQGaTqlqQVVZAZpOqWpBVVkBmk6pakFVWQGaTqlqQVVZAZpOqWpBVVkBmk6pakFVWQGaTqlqQQ==",
          "dtype": "f8"
         },
         "yaxis": "y6"
        },
        {
         "hovertemplate": "color=2025-Dec<br>variable=default_rate<br>default_month=%{x}<br>value=%{y}<extra></extra>",
         "legendgroup": "2025-Dec",
         "line": {
          "color": "#80a3c9",
          "dash": "solid"
         },
         "marker": {
          "symbol": "circle"
         },
         "mode": "lines",
         "name": "2025-Dec",
         "showlegend": false,
         "type": "scattergl",
         "x": {
          "bdata": "AAAAAAAA8D8AAAAAAAAAQAAAAAAAAAhAAAAAAAAAEEAAAAAAAAAUQAAAAAAAABhAAAAAAAAAHEAAAAAAAAAgQAAAAAAAACJAAAAAAAAAJEAAAAAAAAAmQAAAAAAAAChAAAAAAAAAKkAAAAAAAAAsQAAAAAAAAC5AAAAAAAAAMEAAAAAAAAAxQAAAAAAAADJAAAAAAAAAM0AAAAAAAAA0QAAAAAAAADVAAAAAAAAAN0AAAAAAAAA4QA==",
          "dtype": "f8"
         },
         "xaxis": "x3",
         "y": {
          "bdata": "CjalHSB4dz8KNqUdIHh3P5yTyjAKS3E/7D8Fm9IOcD8KNqUdIHh3P1vi34foO2Y/nJPKMApLYT/sPwWb0g5wP3nYfwo2pV0/nJPKMApLYT/7OlVcecNjP/s6VVx5w0M/uolqs1e0WD/7OlVcecNTP/s6VVx5w1M/edh/CjalTT952H8KNqVNP/s6VVx5w0M/+zpVXHnDQz9b4t+H6DtmP/s6VVx5w0M/edh/CjalTT952H8KNqVNPw==",
          "dtype": "f8"
         },
         "yaxis": "y3"
        },
        {
         "hovertemplate": "color=2025-Dec<br>variable=cum_default<br>default_month=%{x}<br>value=%{y}<extra></extra>",
         "legendgroup": "2025-Dec",
         "line": {
          "color": "#80a3c9",
          "dash": "solid"
         },
         "marker": {
          "symbol": "circle"
         },
         "mode": "lines",
         "name": "2025-Dec",
         "showlegend": false,
         "type": "scattergl",
         "x": {
          "bdata": "AAAAAAAA8D8AAAAAAAAAQAAAAAAAAAhAAAAAAAAAEEAAAAAAAAAUQAAAAAAAABhAAAAAAAAAHEAAAAAAAAAgQAAAAAAAACJAAAAAAAAAJEAAAAAAAAAmQAAAAAAAAChAAAAAAAAAKkAAAAAAAAAsQAAAAAAAAC5AAAAAAAAAMEAAAAAAAAAxQAAAAAAAADJAAAAAAAAAM0AAAAAAAAA0QAAAAAAAADVAAAAAAAAAN0AAAAAAAAA4QA==",
          "dtype": "f8"
         },
         "xaxis": "x4",
         "y": {
          "bdata": "CjalHSB4dz8KNqUdIHiHP+w/BZvSDpA/54/GQYcSlD9q3S9Jj/CZP7XZK1oMuJw/KCxFoG3hnj8SPoMjkXKhP9Y819O6X6I/D+bjdmt0oz+/OakMo7CkP6uOGvKw/6Q/+eK1r1PFpT/RjJh6b2OmP6g2e0WLAac/CjalHSB4pz9sNc/1tO6nP1iKQNvCPag/RN+xwNCMqD9q3S9Jj/CpP1YyoS6dP6o/uDHLBjK2qj8ZMfXexiyrPw==",
          "dtype": "f8"
         },
         "yaxis": "y4"
        },
        {
         "hovertemplate": "color=2025-Dec<br>variable=default_rate_bal<br>default_month=%{x}<br>value=%{y}<extra></extra>",
         "legendgroup": "2025-Dec",
         "line": {
          "color": "#80a3c9",
          "dash": "solid"
         },
         "marker": {
          "symbol": "circle"
         },
         "mode": "lines",
         "name": "2025-Dec",
         "showlegend": false,
         "type": "scattergl",
         "x": {
          "bdata": "AAAAAAAA8D8AAAAAAAAAQAAAAAAAAAhAAAAAAAAAEEAAAAAAAAAUQAAAAAAAABhAAAAAAAAAHEAAAAAAAAAgQAAAAAAAACJAAAAAAAAAJEAAAAAAAAAmQAAAAAAAAChAAAAAAAAAKkAAAAAAAAAsQAAAAAAAAC5AAAAAAAAAMEAAAAAAAAAxQAAAAAAAADJAAAAAAAAAM0AAAAAAAAA0QAAAAAAAADVAAAAAAAAAN0AAAAAAAAA4QA==",
          "dtype": "f8"
         },
         "xaxis": "x",
         "y": {
          "bdata": "fHReEQGsRD9/V8DrP041P2u5j3WoUz4/1s4nYJzOQT+HsGrTliBRP4bF34Gx/FY/asKJOwLwOz+PXs2vDvtLP/wcjUb0JSg/C8YOHS02TD9ceiFtS5BEPwR4NBQCshI/cIyz3PleTD/wGqbDZeRFPwB3UsaYuD8/YL7OIQ3eJj+z743H+rNOP1Vbae/DLkI/jOdKtqLIQz8JOk+6LqViP1cZAnjGuSg/3ii11E2pRT/lHqH/NG0fPw==",
          "dtype": "f8"
         },
         "yaxis": "y"
        },
        {
         "hovertemplate": "color=2025-Dec<br>variable=cum_default_rate_bal<br>default_month=%{x}<br>value=%{y}<extra></extra>",
         "legendgroup": "2025-Dec",
         "line": {
          "color": "#80a3c9",
          "dash": "solid"
         },
         "marker": {
          "symbol": "circle"
         },
         "mode": "lines",
         "name": "2025-Dec",
         "showlegend": false,
         "type": "scattergl",
         "x": {
          "bdata": "AAAAAAAA8D8AAAAAAAAAQAAAAAAAAAhAAAAAAAAAEEAAAAAAAAAUQAAAAAAAABhAAAAAAAAAHEAAAAAAAAAgQAAAAAAAACJAAAAAAAAAJEAAAAAAAAAmQAAAAAAAAChAAAAAAAAAKkAAAAAAAAAsQAAAAAAAAC5AAAAAAAAAMEAAAAAAAAAxQAAAAAAAADJAAAAAAAAAM0AAAAAAAAA0QAAAAAAAADVAAAAAAAAAN0AAAAAAAAA4QA==",
          "dtype": "f8"
         },
         "xaxis": "x2",
         "y": {
          "bdata": "fHReEQGsRD88oD4HIVNPP3g+A6F6Plc/8pKLaOQSYD8160DSL6NoP/xmmEnEEHI/IwNRbcTPcz/0rkpDJk93P9wXf+VVEHg/nvAgiRuXez/pH8X2JCl+P8nxFf/sc34/rDFWHeb/gD9bk5B5LF6CPxMnwz/xW4M/DGJKdGm3gz8HQcMgqaKFP73WuV+VxYY/NYUeix8CiD+4U7I5a6uMPx1cklNSDo0/q67dMOdojj/p8NyawaeOPw==",
          "dtype": "f8"
         },
         "yaxis": "y2"
        },
        {
         "hovertemplate": "color=2026-Jan<br>variable=id<br>default_month=%{x}<br>value=%{y}<extra></extra>",
         "legendgroup": "2026-Jan",
         "line": {
          "color": "#7b9fc6",
          "dash": "solid"
         },
         "marker": {
          "symbol": "circle"
         },
         "mode": "lines",
         "name": "2026-Jan",
         "showlegend": true,
         "type": "scattergl",
         "x": {
          "bdata": "AAAAAAAA8D8AAAAAAAAAQAAAAAAAAAhAAAAAAAAAEEAAAAAAAAAUQAAAAAAAABhAAAAAAAAAHEAAAAAAAAAgQAAAAAAAACJAAAAAAAAAJEAAAAAAAAAmQAAAAAAAAChAAAAAAAAAKkAAAAAAAAAsQAAAAAAAAC5AAAAAAAAAMEAAAAAAAAAxQAAAAAAAADJAAAAAAAAAM0AAAAAAAAA0QAAAAAAAADZAAAAAAAAAN0A=",
          "dtype": "f8"
         },
         "xaxis": "x5",
         "y": {
          "bdata": "AAAAAAD0q0AAAAAAAPSrQAAAAAAA9KtAAAAAAAD0q0AAAAAAAPSrQAAAAAAA9KtAAAAAAAD0q0AAAAAAAPSrQAAAAAAA9KtAAAAAAAD0q0AAAAAAAPSrQAAAAAAA9KtAAAAAAAD0q0AAAAAAAPSrQAAAAAAA9KtAAAAAAAD0q0AAAAAAAPSrQAAAAAAA9KtAAAAAAAD0q0AAAAAAAPSrQAAAAAAA9KtAAAAAAAD0q0A=",
          "dtype": "f8"
         },
         "yaxis": "y5"
        },
        {
         "hovertemplate": "color=2026-Jan<br>variable=balance<br>default_month=%{x}<br>value=%{y}<extra></extra>",
         "legendgroup": "2026-Jan",
         "line": {
          "color": "#7b9fc6",
          "dash": "solid"
         },
         "marker": {
          "symbol": "circle"
         },
         "mode": "lines",
         "name": "2026-Jan",
         "showlegend": false,
         "type": "scattergl",
         "x": {
          "bdata": "AAAAAAAA8D8AAAAAAAAAQAAAAAAAAAhAAAAAAAAAEEAAAAAAAAAUQAAAAAAAABhAAAAAAAAAHEAAAAAAAAAgQAAAAAAAACJAAAAAAAAAJEAAAAAAAAAmQAAAAAAAAChAAAAAAAAAKkAAAAAAAAAsQAAAAAAAAC5AAAAAAAAAMEAAAAAAAAAxQAAAAAAAADJAAAAAAAAAM0AAAAAAAAA0QAAAAAAAADZAAAAAAAAAN0A=",
          "dtype": "f8"
         },
         "xaxis": "x6",
         "y": {
          "bdata": "4mrNY6HabEHias1jodpsQeJqzWOh2mxB4mrNY6HabEHias1jodpsQeJqzWOh2mxB4mrNY6HabEHias1jodpsQeJqzWOh2mxB4mrNY6HabEHias1jodpsQeJqzWOh2mxB4mrNY6HabEHias1jodpsQeJqzWOh2mxB4mrNY6HabEHias1jodpsQeJqzWOh2mxB4mrNY6HabEHias1jodpsQeJqzWOh2mxB4mrNY6HabEE=",
          "dtype": "f8"
         },
         "yaxis": "y6"
        },
        {
         "hovertemplate": "color=2026-Jan<br>variable=default_rate<br>default_month=%{x}<br>value=%{y}<extra></extra>",
         "legendgroup": "2026-Jan",
         "line": {
          "color": "#7b9fc6",
          "dash": "solid"
         },
         "marker": {
          "symbol": "circle"
         },
         "mode": "lines",
         "name": "2026-Jan",
         "showlegend": false,
         "type": "scattergl",
         "x": {
          "bdata": "AAAAAAAA8D8AAAAAAAAAQAAAAAAAAAhAAAAAAAAAEEAAAAAAAAAUQAAAAAAAABhAAAAAAAAAHEAAAAAAAAAgQAAAAAAAACJAAAAAAAAAJEAAAAAAAAAmQAAAAAAAAChAAAAAAAAAKkAAAAAAAAAsQAAAAAAAAC5AAAAAAAAAMEAAAAAAAAAxQAAAAAAAADJAAAAAAAAAM0AAAAAAAAA0QAAAAAAAADZAAAAAAAAAN0A=",
          "dtype": "f8"
         },
         "xaxis": "x3",
         "y": {
          "bdata": "b1l7yi3AdT9Sak1f3gZwP5kOIvqcw20/h+VsU21Uej+ZDiL6nMNtP14wxiP+UGI/XjDGI/5Qcj9eMMYj/lBiP3W8t6w95WY/dby3rD3lZj9eMMYj/lBCP41IqTV9eVs/dby3rD3lVj9eMMYj/lBSP41IqTV9eUs/XjDGI/5QUj9eMMYj/lBCP41IqTV9eUs/avY+6B2bZD+NSKk1fXlLP41IqTV9eUs/jUipNX15Sz8=",
          "dtype": "f8"
         },
         "yaxis": "y3"
        },
        {
         "hovertemplate": "color=2026-Jan<br>variable=cum_default<br>default_month=%{x}<br>value=%{y}<extra></extra>",
         "legendgroup": "2026-Jan",
         "line": {
          "color": "#7b9fc6",
          "dash": "solid"
         },
         "marker": {
          "symbol": "circle"
         },
         "mode": "lines",
         "name": "2026-Jan",
         "showlegend": false,
         "type": "scattergl",
         "x": {
          "bdata": "AAAAAAAA8D8AAAAAAAAAQAAAAAAAAAhAAAAAAAAAEEAAAAAAAAAUQAAAAAAAABhAAAAAAAAAHEAAAAAAAAAgQAAAAAAAACJAAAAAAAAAJEAAAAAAAAAmQAAAAAAAAChAAAAAAAAAKkAAAAAAAAAsQAAAAAAAAC5AAAAAAAAAMEAAAAAAAAAxQAAAAAAAADJAAAAAAAAAM0AAAAAAAAA0QAAAAAAAADZAAAAAAAAAN0A=",
          "dtype": "f8"
         },
         "xaxis": "x4",
         "y": {
          "bdata": "b1l7yi3AdT/gYeQUhuOCP4flbFNtVIo/JayR/lG/kz/47dWdxXeXPwS0TmLlwZk/HEBA6yRWnj8Ug9xXIlCgP9v+pzJ2vqE/onpzDcosoz9kkwIGDnajP6jdr+/ZUaQ/jJsV3QMJpT8PzTPOi5ulPzFyCsNxCaY/tKMotPmbpj91vLesPeWmP5hhjqEjU6c//lASgNWcqD8g9uh0uwqpP0Obv2mheKk/ZUCWXofmqT8=",
          "dtype": "f8"
         },
         "yaxis": "y4"
        },
        {
         "hovertemplate": "color=2026-Jan<br>variable=default_rate_bal<br>default_month=%{x}<br>value=%{y}<extra></extra>",
         "legendgroup": "2026-Jan",
         "line": {
          "color": "#7b9fc6",
          "dash": "solid"
         },
         "marker": {
          "symbol": "circle"
         },
         "mode": "lines",
         "name": "2026-Jan",
         "showlegend": false,
         "type": "scattergl",
         "x": {
          "bdata": "AAAAAAAA8D8AAAAAAAAAQAAAAAAAAAhAAAAAAAAAEEAAAAAAAAAUQAAAAAAAABhAAAAAAAAAHEAAAAAAAAAgQAAAAAAAACJAAAAAAAAAJEAAAAAAAAAmQAAAAAAAAChAAAAAAAAAKkAAAAAAAAAsQAAAAAAAAC5AAAAAAAAAMEAAAAAAAAAxQAAAAAAAADJAAAAAAAAAM0AAAAAAAAA0QAAAAAAAADZAAAAAAAAAN0A=",
          "dtype": "f8"
         },
         "xaxis": "x",
         "y": {
          "bdata": "4FKoesWvMz/CszIDrwU8P8q+zJoxdEA/PG2NW1HJUD8L9eMQN3lVPzdMzasjhzs/+CAxwdDQUT/+WkDKGjk6PyMUgyXdVlA/DzPNKrG0Rj/B0yOLT0YRP0lKleuIfFI/4BsB6XhIRD9nigZ6f089P9A5I/0wISU/OpWvMJm6TD+A81uVCs1APwTFo5D/iUc/ydw8s3U6YT+CAJqQG0wsP6O65QboA0Q/gOJLU9YJHT8=",
          "dtype": "f8"
         },
         "yaxis": "y"
        },
        {
         "hovertemplate": "color=2026-Jan<br>variable=cum_default_rate_bal<br>default_month=%{x}<br>value=%{y}<extra></extra>",
         "legendgroup": "2026-Jan",
         "line": {
          "color": "#7b9fc6",
          "dash": "solid"
         },
         "marker": {
          "symbol": "circle"
         },
         "mode": "lines",
         "name": "2026-Jan",
         "showlegend": false,
         "type": "scattergl",
         "x": {
          "bdata": "AAAAAAAA8D8AAAAAAAAAQAAAAAAAAAhAAAAAAAAAEEAAAAAAAAAUQAAAAAAAABhAAAAAAAAAHEAAAAAAAAAgQAAAAAAAACJAAAAAAAAAJEAAAAAAAAAmQAAAAAAAAChAAAAAAAAAKkAAAAAAAAAsQAAAAAAAAC5AAAAAAAAAMEAAAAAAAAAxQAAAAAAAADJAAAAAAAAAM0AAAAAAAAA0QAAAAAAAADZAAAAAAAAAN0A=",
          "dtype": "f8"
         },
         "xaxis": "x2",
         "y": {
          "bdata": "4FKoesWvMz9Rg+0+utpHPw4h3ex1J1Q/JUc1pGN4Yj+qQacs/zRtP5l1ENHxUnA/171cASbHdD+HwwCut2p2P5CIYfdugHo/8S67HAVXfT9AvudaHpx9P2mI5kqgHYE/J5p22Sdigj97zkbVo0yDP2JbO5kooYM/tlRGLNJshT/uE5zVonmGPz5Qps5C8oc/cId1O+BAjD9y77epELKMPxxLJipP8o0/4eLM1mIsjj8=",
          "dtype": "f8"
         },
         "yaxis": "y2"
        },
        {
         "hovertemplate": "color=2026-Feb<br>variable=id<br>default_month=%{x}<br>value=%{y}<extra></extra>",
         "legendgroup": "2026-Feb",
         "line": {
          "color": "#759bc4",
          "dash": "solid"
         },
         "marker": {
          "symbol": "circle"
         },
         "mode": "lines",
         "name": "2026-Feb",
         "showlegend": true,
         "type": "scattergl",
         "x": {
          "bdata": "AAAAAAAA8D8AAAAAAAAAQAAAAAAAAAhAAAAAAAAAEEAAAAAAAAAUQAAAAAAAABhAAAAAAAAAHEAAAAAAAAAgQAAAAAAAACJAAAAAAAAAJEAAAAAAAAAmQAAAAAAAAChAAAAAAAAAKkAAAAAAAAAsQAAAAAAAAC5AAAAAAAAAMEAAAAAAAAAxQAAAAAAAADJAAAAAAAAAM0AAAAAAAAA1QAAAAAAAADZA",
          "dtype": "f8"
         },
         "xaxis": "x5",
         "y": {
          "bdata": "AAAAAAD2rUAAAAAAAPatQAAAAAAA9q1AAAAAAAD2rUAAAAAAAPatQAAAAAAA9q1AAAAAAAD2rUAAAAAAAPatQAAAAAAA9q1AAAAAAAD2rUAAAAAAAPatQAAAAAAA9q1AAAAAAAD2rUAAAAAAAPatQAAAAAAA9q1AAAAAAAD2rUAAAAAAAPatQAAAAAAA9q1AAAAAAAD2rUAAAAAAAPatQAAAAAAA9q1A",
          "dtype": "f8"
         },
         "yaxis": "y5"
        },
        {
         "hovertemplate": "color=2026-Feb<br>variable=balance<br>default_month=%{x}<br>value=%{y}<extra></extra>",
         "legendgroup": "2026-Feb",
         "line": {
          "color": "#759bc4",
          "dash": "solid"
         },
         "marker": {
          "symbol": "circle"
         },
         "mode": "lines",
         "name": "2026-Feb",
         "showlegend": false,
         "type": "scattergl",
         "x": {
          "bdata": "AAAAAAAA8D8AAAAAAAAAQAAAAAAAAAhAAAAAAAAAEEAAAAAAAAAUQAAAAAAAABhAAAAAAAAAHEAAAAAAAAAgQAAAAAAAACJAAAAAAAAAJEAAAAAAAAAmQAAAAAAAAChAAAAAAAAAKkAAAAAAAAAsQAAAAAAAAC5AAAAAAAAAMEAAAAAAAAAxQAAAAAAAADJAAAAAAAAAM0AAAAAAAAA1QAAAAAAAADZA",
          "dtype": "f8"
         },
         "xaxis": "x6",
         "y": {
          "bdata": "MatSXTT4bkExq1JdNPhuQTGrUl00+G5BMatSXTT4bkExq1JdNPhuQTGrUl00+G5BMatSXTT4bkExq1JdNPhuQTGrUl00+G5BMatSXTT4bkExq1JdNPhuQTGrUl00+G5BMatSXTT4bkExq1JdNPhuQTGrUl00+G5BMatSXTT4bkExq1JdNPhuQTGrUl00+G5BMatSXTT4bkExq1JdNPhuQTGrUl00+G5B",
          "dtype": "f8"
         },
         "yaxis": "y6"
        },
        {
         "hovertemplate": "color=2026-Feb<br>variable=default_rate<br>default_month=%{x}<br>value=%{y}<extra></extra>",
         "legendgroup": "2026-Feb",
         "line": {
          "color": "#759bc4",
          "dash": "solid"
         },
         "marker": {
          "symbol": "circle"
         },
         "mode": "lines",
         "name": "2026-Feb",
         "showlegend": false,
         "type": "scattergl",
         "x": {
          "bdata": "AAAAAAAA8D8AAAAAAAAAQAAAAAAAAAhAAAAAAAAAEEAAAAAAAAAUQAAAAAAAABhAAAAAAAAAHEAAAAAAAAAgQAAAAAAAACJAAAAAAAAAJEAAAAAAAAAmQAAAAAAAAChAAAAAAAAAKkAAAAAAAAAsQAAAAAAAAC5AAAAAAAAAMEAAAAAAAAAxQAAAAAAAADJAAAAAAAAAM0AAAAAAAAA1QAAAAAAAADZA",
          "dtype": "f8"
         },
         "xaxis": "x3",
         "y": {
          "bdata": "Is3Nz9XnbT97Pohl/cRrP4HoH8a4kHg/2lnaW+Btdj+GkrcmdFxlP4w8T4cvKHI/OHUsUsMWYT/Ur0L7JKJpP9SvQvskomk/hpK3JnRcVT/Ur0L7JKJZP4aStyZ0XFU/hpK3JnRcVT/Ur0L7JKJJP9SvQvskolk/1K9C+ySiST/Ur0L7JKJJP98DcrybOWM/OHUsUsMWUT84dSxSwxZRP9SvQvskokk/",
          "dtype": "f8"
         },
         "yaxis": "y3"
        },
        {
         "hovertemplate": "color=2026-Feb<br>variable=cum_default<br>default_month=%{x}<br>value=%{y}<extra></extra>",
         "legendgroup": "2026-Feb",
         "line": {
          "color": "#759bc4",
          "dash": "solid"
         },
         "marker": {
          "symbol": "circle"
         },
         "mode": "lines",
         "name": "2026-Feb",
         "showlegend": false,
         "type": "scattergl",
         "x": {
          "bdata": "AAAAAAAA8D8AAAAAAAAAQAAAAAAAAAhAAAAAAAAAEEAAAAAAAAAUQAAAAAAAABhAAAAAAAAAHEAAAAAAAAAgQAAAAAAAACJAAAAAAAAAJEAAAAAAAAAmQAAAAAAAAChAAAAAAAAAKkAAAAAAAAAsQAAAAAAAAC5AAAAAAAAAMEAAAAAAAAAxQAAAAAAAADJAAAAAAAAAM0AAAAAAAAA1QAAAAAAAADZA",
          "dtype": "f8"
         },
         "xaxis": "x4",
         "y": {
          "bdata": "Is3Nz9XnbT/OBauaadZ8Pyh3ZTCRs4o/ClIpr0D1kj9bRAA0z6CVP34T1BXbKpo/JaIZgLNNnD8g+IEf+IGfPw0ndV8eW6E/oeOqAAIGoj8g+YQoE9OiP7S1usn2faM/SHLwatoopD8Ifd3+Yo+kP4aStyZ0XKU/Rp2kuvzCpT8FqJFOhSmmP0PIWAofXac/7SvqJNXlpz+Wj3s/i26oP1aaaNMT1ag/",
          "dtype": "f8"
         },
         "yaxis": "y4"
        },
        {
         "hovertemplate": "color=2026-Feb<br>variable=default_rate_bal<br>default_month=%{x}<br>value=%{y}<extra></extra>",
         "legendgroup": "2026-Feb",
         "line": {
          "color": "#759bc4",
          "dash": "solid"
         },
         "marker": {
          "symbol": "circle"
         },
         "mode": "lines",
         "name": "2026-Feb",
         "showlegend": false,
         "type": "scattergl",
         "x": {
          "bdata": "AAAAAAAA8D8AAAAAAAAAQAAAAAAAAAhAAAAAAAAAEEAAAAAAAAAUQAAAAAAAABhAAAAAAAAAHEAAAAAAAAAgQAAAAAAAACJAAAAAAAAAJEAAAAAAAAAmQAAAAAAAAChAAAAAAAAAKkAAAAAAAAAsQAAAAAAAAC5AAAAAAAAAMEAAAAAAAAAxQAAAAAAAADJAAAAAAAAAM0AAAAAAAAA1QAAAAAAAADZA",
          "dtype": "f8"
         },
         "xaxis": "x",
         "y": {
          "bdata": "1t5ElKYbOj/UfiZU66g+P28CW6eJR08/9KuPBDgxVT9ERf1/D9M7P30GxL0CF1E/ePEEpYhuOD8osXjLtmNQP11eriUoP0s/DjBM7WrWMj9lgCudQTlRP/oV4YjG5UI/48HbKx3ePD/sgqbHsK8jPw3ZUGQIKk0/AnIJ71nART95AsYPXe5FPzhu6Z4uDWA/GUkkZPbmKj9kfaT5clxEPxntgIEIDhs/",
          "dtype": "f8"
         },
         "yaxis": "y"
        },
        {
         "hovertemplate": "color=2026-Feb<br>variable=cum_default_rate_bal<br>default_month=%{x}<br>value=%{y}<extra></extra>",
         "legendgroup": "2026-Feb",
         "line": {
          "color": "#759bc4",
          "dash": "solid"
         },
         "marker": {
          "symbol": "circle"
         },
         "mode": "lines",
         "name": "2026-Feb",
         "showlegend": false,
         "type": "scattergl",
         "x": {
          "bdata": "AAAAAAAA8D8AAAAAAAAAQAAAAAAAAAhAAAAAAAAAEEAAAAAAAAAUQAAAAAAAABhAAAAAAAAAHEAAAAAAAAAgQAAAAAAAACJAAAAAAAAAJEAAAAAAAAAmQAAAAAAAAChAAAAAAAAAKkAAAAAAAAAsQAAAAAAAAC5AAAAAAAAAMEAAAAAAAAAxQAAAAAAAADJAAAAAAAAAM0AAAAAAAAA1QAAAAAAAADZA",
          "dtype": "f8"
         },
         "xaxis": "x2",
         "y": {
          "bdata": "1t5ElKYbOj/VrjX0SGJMP6JYyE3p1F0/SwIsqRCDaT/0qiuZcv1sPxnXBvx5xHI/MCZXhmJLdD96UjU5UGR4P0Ye6z01zHs/R+G/7Jv5fD+wYAUq9qOAPxByk5JS0oE/H1Dye0O5gj8r6hA/AgiDP7v3VcWi2oQ/3I5GZKg2hj8D70I1jpWHP5FK/dzZmIs/tduNtnUEjD+MIyjmPEqNP2YlK/dYgI0/",
          "dtype": "f8"
         },
         "yaxis": "y2"
        },
        {
         "hovertemplate": "color=2026-Mar<br>variable=id<br>default_month=%{x}<br>value=%{y}<extra></extra>",
         "legendgroup": "2026-Mar",
         "line": {
          "color": "#6f96c2",
          "dash": "solid"
         },
         "marker": {
          "symbol": "circle"
         },
         "mode": "lines",
         "name": "2026-Mar",
         "showlegend": true,
         "type": "scattergl",
         "x": {
          "bdata": "AAAAAAAA8D8AAAAAAAAAQAAAAAAAAAhAAAAAAAAAEEAAAAAAAAAUQAAAAAAAABhAAAAAAAAAHEAAAAAAAAAgQAAAAAAAACJAAAAAAAAAJEAAAAAAAAAmQAAAAAAAAChAAAAAAAAAKkAAAAAAAAAsQAAAAAAAAC5AAAAAAAAAMEAAAAAAAAAxQAAAAAAAADJAAAAAAAAANEAAAAAAAAA1QA==",
          "dtype": "f8"
         },
         "xaxis": "x5",
         "y": {
          "bdata": "AAAAAAAFsEAAAAAAAAWwQAAAAAAABbBAAAAAAAAFsEAAAAAAAAWwQAAAAAAABbBAAAAAAAAFsEAAAAAAAAWwQAAAAAAABbBAAAAAAAAFsEAAAAAAAAWwQAAAAAAABbBAAAAAAAAFsEAAAAAAAAWwQAAAAAAABbBAAAAAAAAFsEAAAAAAAAWwQAAAAAAABbBAAAAAAAAFsEAAAAAAAAWwQA==",
          "dtype": "f8"
         },
         "yaxis": "y5"
        },
        {
         "hovertemplate": "color=2026-Mar<br>variable=balance<br>default_month=%{x}<br>value=%{y}<extra></extra>",
         "legendgroup": "2026-Mar",
         "line": {
          "color": "#6f96c2",
          "dash": "solid"
         },
         "marker": {
          "symbol": "circle"
         },
         "mode": "lines",
         "name": "2026-Mar",
         "showlegend": false,
         "type": "scattergl",
         "x": {
          "bdata": "AAAAAAAA8D8AAAAAAAAAQAAAAAAAAAhAAAAAAAAAEEAAAAAAAAAUQAAAAAAAABhAAAAAAAAAHEAAAAAAAAAgQAAAAAAAACJAAAAAAAAAJEAAAAAAAAAmQAAAAAAAAChAAAAAAAAAKkAAAAAAAAAsQAAAAAAAAC5AAAAAAAAAMEAAAAAAAAAxQAAAAAAAADJAAAAAAAAANEAAAAAAAAA1QA==",
          "dtype": "f8"
         },
         "xaxis": "x6",
         "y": {
          "bdata": "n84T/H58cEGfzhP8fnxwQZ/OE/x+fHBBn84T/H58cEGfzhP8fnxwQZ/OE/x+fHBBn84T/H58cEGfzhP8fnxwQZ/OE/x+fHBBn84T/H58cEGfzhP8fnxwQZ/OE/x+fHBBn84T/H58cEGfzhP8fnxwQZ/OE/x+fHBBn84T/H58cEGfzhP8fnxwQZ/OE/x+fHBBn84T/H58cEGfzhP8fnxwQQ==",
          "dtype": "f8"
         },
         "yaxis": "y6"
        },
        {
         "hovertemplate": "color=2026-Mar<br>variable=default_rate<br>default_month=%{x}<br>value=%{y}<extra></extra>",
         "legendgroup": "2026-Mar",
         "line": {
          "color": "#6f96c2",
          "dash": "solid"
         },
         "marker": {
          "symbol": "circle"
         },
         "mode": "lines",
         "name": "2026-Mar",
         "showlegend": false,
         "type": "scattergl",
         "x": {
          "bdata": "AAAAAAAA8D8AAAAAAAAAQAAAAAAAAAhAAAAAAAAAEEAAAAAAAAAUQAAAAAAAABhAAAAAAAAAHEAAAAAAAAAgQAAAAAAAACJAAAAAAAAAJEAAAAAAAAAmQAAAAAAAAChAAAAAAAAAKkAAAAAAAAAsQAAAAAAAAC5AAAAAAAAAMEAAAAAAAAAxQAAAAAAAADJAAAAAAAAANEAAAAAAAAA1QA==",
          "dtype": "f8"
         },
         "xaxis": "x3",
         "y": {
          "bdata": "Zh81ieL3aT8ViEw+0vh2PzUjXAxy+XQ/CE4GHwP2bz8ViEw+0vh2P+SLc8Fh+mE/hrpEV4L4Zz8n6RXtovZtP8XwY/PB+VM/hrpEV4L4Vz+GukRXgvhXP0eEJbtC91s/CE4GHwP2Tz+GukRXgvhXP4a6RFeC+Ec/CE4GHwP2Tz/ki3PBYfphPwhOBh8D9l8/CE4GHwP2Tz+GukRXgvhHPw==",
          "dtype": "f8"
         },
         "yaxis": "y3"
        },
        {
         "hovertemplate": "color=2026-Mar<br>variable=cum_default<br>default_month=%{x}<br>value=%{y}<extra></extra>",
         "legendgroup": "2026-Mar",
         "line": {
          "color": "#6f96c2",
          "dash": "solid"
         },
         "marker": {
          "symbol": "circle"
         },
         "mode": "lines",
         "name": "2026-Mar",
         "showlegend": false,
         "type": "scattergl",
         "x": {
          "bdata": "AAAAAAAA8D8AAAAAAAAAQAAAAAAAAAhAAAAAAAAAEEAAAAAAAAAUQAAAAAAAABhAAAAAAAAAHEAAAAAAAAAgQAAAAAAAACJAAAAAAAAAJEAAAAAAAAAmQAAAAAAAAChAAAAAAAAAKkAAAAAAAAAsQAAAAAAAAC5AAAAAAAAAMEAAAAAAAAAxQAAAAAAAADJAAAAAAAAANEAAAAAAAAA1QA==",
          "dtype": "f8"
         },
         "xaxis": "x4",
         "y": {
          "bdata": "Zh81ieL3aT/ki3PBYfqBP36doccad4w/gJixx006kj+GukRXgviXPwIsc4/ON5o/U8Nb2t42nT88QP+b2XqgP8JfmqunGqE/loVUvmvaoT9qqw7RL5qiP43X5+bpeaM/xfBj88H5oz+ZFh4GhrmkP4Mpew9oGaU/u0L3G0CZpT95ew445rimP+qtBlGWuKc/IseCXW44qD8M2t9mUJioPw==",
          "dtype": "f8"
         },
         "yaxis": "y4"
        },
        {
         "hovertemplate": "color=2026-Mar<br>variable=default_rate_bal<br>default_month=%{x}<br>value=%{y}<extra></extra>",
         "legendgroup": "2026-Mar",
         "line": {
          "color": "#6f96c2",
          "dash": "solid"
         },
         "marker": {
          "symbol": "circle"
         },
         "mode": "lines",
         "name": "2026-Mar",
         "showlegend": false,
         "type": "scattergl",
         "x": {
          "bdata": "AAAAAAAA8D8AAAAAAAAAQAAAAAAAAAhAAAAAAAAAEEAAAAAAAAAUQAAAAAAAABhAAAAAAAAAHEAAAAAAAAAgQAAAAAAAACJAAAAAAAAAJEAAAAAAAAAmQAAAAAAAAChAAAAAAAAAKkAAAAAAAAAsQAAAAAAAAC5AAAAAAAAAMEAAAAAAAAAxQAAAAAAAADJAAAAAAAAANEAAAAAAAAA1QA==",
          "dtype": "f8"
         },
         "xaxis": "x",
         "y": {
          "bdata": "iJdIlxnMPD8zzU4YFWFNP+Lhk3ej51M/0dE9OionPT/nTzSnw0BRPxe4vpGoTDc/8Ba8zKbJTj+UeGelVXFMPzYU2BZ1sTE/2rxAOmUtUD/RtocGIe1DP1+aMNdFCUE/iWwodBOEJz8xLchFeWRLP6Y/CGYTbkQ/Dqj5ISpkSD+ZryTtGSdeP6+5iLZS2UE/xCarZssfQz8VXiZqR2kZPw==",
          "dtype": "f8"
         },
         "yaxis": "y"
        },
        {
         "hovertemplate": "color=2026-Mar<br>variable=cum_default_rate_bal<br>default_month=%{x}<br>value=%{y}<extra></extra>",
         "legendgroup": "2026-Mar",
         "line": {
          "color": "#6f96c2",
          "dash": "solid"
         },
         "marker": {
          "symbol": "circle"
         },
         "mode": "lines",
         "name": "2026-Mar",
         "showlegend": false,
         "type": "scattergl",
         "x": {
          "bdata": "AAAAAAAA8D8AAAAAAAAAQAAAAAAAAAhAAAAAAAAAEEAAAAAAAAAUQAAAAAAAABhAAAAAAAAAHEAAAAAAAAAgQAAAAAAAACJAAAAAAAAAJEAAAAAAAAAmQAAAAAAAAChAAAAAAAAAKkAAAAAAAAAsQAAAAAAAAC5AAAAAAAAAMEAAAAAAAAAxQAAAAAAAADJAAAAAAAAANEAAAAAAAAA1QA==",
          "dtype": "f8"
         },
         "xaxis": "x2",
         "y": {
          "bdata": "iJdIlxnMPD98jPnxkONVPy+3xjSa5WQ/aXEOfH+KaD+uTNSncJVwPzA48DA7CnI/DruHCnDjdT8gqjS/mnF5P2QrohCyjHo/mloyXwuYfj+6qAHA14qAP2CydB1sm4E/ElRFa3z5gT/l1qH/w6+DP+BaAjal9oQ/YPUh2Od8hj9Ui8YVy0GKP+4WL0FgX4s/W8mZ91yRjD8XFm6GL8SMPw==",
          "dtype": "f8"
         },
         "yaxis": "y2"
        },
        {
         "hovertemplate": "color=2026-Apr<br>variable=id<br>default_month=%{x}<br>value=%{y}<extra></extra>",
         "legendgroup": "2026-Apr",
         "line": {
          "color": "#6992c0",
          "dash": "solid"
         },
         "marker": {
          "symbol": "circle"
         },
         "mode": "lines",
         "name": "2026-Apr",
         "showlegend": true,
         "type": "scattergl",
         "x": {
          "bdata": "AAAAAAAA8D8AAAAAAAAAQAAAAAAAAAhAAAAAAAAAEEAAAAAAAAAUQAAAAAAAABhAAAAAAAAAHEAAAAAAAAAgQAAAAAAAACJAAAAAAAAAJEAAAAAAAAAmQAAAAAAAAChAAAAAAAAAKkAAAAAAAAAsQAAAAAAAAC5AAAAAAAAAMEAAAAAAAAAxQAAAAAAAADNAAAAAAAAANEA=",
          "dtype": "f8"
         },
         "xaxis": "x5",
         "y": {
          "bdata": "AAAAAAAosUAAAAAAACixQAAAAAAAKLFAAAAAAAAosUAAAAAAACixQAAAAAAAKLFAAAAAAAAosUAAAAAAACixQAAAAAAAKLFAAAAAAAAosUAAAAAAACixQAAAAAAAKLFAAAAAAAAosUAAAAAAACixQAAAAAAAKLFAAAAAAAAosUAAAAAAACixQAAAAAAAKLFAAAAAAAAosUA=",
          "dtype": "f8"
         },
         "yaxis": "y5"
        },
        {
         "hovertemplate": "color=2026-Apr<br>variable=balance<br>default_month=%{x}<br>value=%{y}<extra></extra>",
         "legendgroup": "2026-Apr",
         "line": {
          "color": "#6992c0",
          "dash": "solid"
         },
         "marker": {
          "symbol": "circle"
         },
         "mode": "lines",
         "name": "2026-Apr",
         "showlegend": false,
         "type": "scattergl",
         "x": {
          "bdata": "AAAAAAAA8D8AAAAAAAAAQAAAAAAAAAhAAAAAAAAAEEAAAAAAAAAUQAAAAAAAABhAAAAAAAAAHEAAAAAAAAAgQAAAAAAAACJAAAAAAAAAJEAAAAAAAAAmQAAAAAAAAChAAAAAAAAAKkAAAAAAAAAsQAAAAAAAAC5AAAAAAAAAMEAAAAAAAAAxQAAAAAAAADNAAAAAAAAANEA=",
          "dtype": "f8"
         },
         "xaxis": "x6",
         "y": {
          "bdata": "u3UlEkh0cUG7dSUSSHRxQbt1JRJIdHFBu3UlEkh0cUG7dSUSSHRxQbt1JRJIdHFBu3UlEkh0cUG7dSUSSHRxQbt1JRJIdHFBu3UlEkh0cUG7dSUSSHRxQbt1JRJIdHFBu3UlEkh0cUG7dSUSSHRxQbt1JRJIdHFBu3UlEkh0cUG7dSUSSHRxQbt1JRJIdHFBu3UlEkh0cUE=",
          "dtype": "f8"
         },
         "yaxis": "y6"
        },
        {
         "hovertemplate": "color=2026-Apr<br>variable=default_rate<br>default_month=%{x}<br>value=%{y}<extra></extra>",
         "legendgroup": "2026-Apr",
         "line": {
          "color": "#6992c0",
          "dash": "solid"
         },
         "marker": {
          "symbol": "circle"
         },
         "mode": "lines",
         "name": "2026-Apr",
         "showlegend": false,
         "type": "scattergl",
         "x": {
          "bdata": "AAAAAAAA8D8AAAAAAAAAQAAAAAAAAAhAAAAAAAAAEEAAAAAAAAAUQAAAAAAAABhAAAAAAAAAHEAAAAAAAAAgQAAAAAAAACJAAAAAAAAAJEAAAAAAAAAmQAAAAAAAAChAAAAAAAAAKkAAAAAAAAAsQAAAAAAAAC5AAAAAAAAAMEAAAAAAAAAxQAAAAAAAADNAAAAAAAAANEA=",
          "dtype": "f8"
         },
         "xaxis": "x3",
         "y": {
          "bdata": "L2w4Oy1zdT+a/gbdrpVzP0zZFuPl120/I/6zJukcej+3a+WEZ/prPyP+sybpHGo/TNkW4+XXbT872rxPcclgPyP+sybpHFo/+SJRauxhVj8j/rMm6RxaP/kiUWrsYVY/+SJRauxhVj/5IlFq7GFGP9BH7q3vplI/0Efure+mYj9M2Rbj5dddP9BH7q3vplI/+SJRauxhRj8=",
          "dtype": "f8"
         },
         "yaxis": "y3"
        },
        {
         "hovertemplate": "color=2026-Apr<br>variable=cum_default<br>default_month=%{x}<br>value=%{y}<extra></extra>",
         "legendgroup": "2026-Apr",
         "line": {
          "color": "#6992c0",
          "dash": "solid"
         },
         "marker": {
          "symbol": "circle"
         },
         "mode": "lines",
         "name": "2026-Apr",
         "showlegend": false,
         "type": "scattergl",
         "x": {
          "bdata": "AAAAAAAA8D8AAAAAAAAAQAAAAAAAAAhAAAAAAAAAEEAAAAAAAAAUQAAAAAAAABhAAAAAAAAAHEAAAAAAAAAgQAAAAAAAACJAAAAAAAAAJEAAAAAAAAAmQAAAAAAAAChAAAAAAAAAKkAAAAAAAAAsQAAAAAAAAC5AAAAAAAAAMEAAAAAAAAAxQAAAAAAAADNAAAAAAAAANEA=",
          "dtype": "f8"
         },
         "xaxis": "x4",
         "y": {
          "bdata": "L2w4Oy1zdT9ktR8MboSEP7hr5YRn+os/ZLUfDG6ElD/bYrz8ugOYP6DikiFYR5s/yb313VQCnz+IrPaDwY2gP3lMLM2oXqE/kdV+MLgRoj+CdbR5n+KiP5r+Bt2ulaM/sodZQL5IpD8+zALyRaKkP3w+cm99N6U/+SJRauxhpj/E2WmZq1CnPwJM2Rbj5ac/jpCCyGo/qD8=",
          "dtype": "f8"
         },
         "yaxis": "y4"
        },
        {
         "hovertemplate": "color=2026-Apr<br>variable=default_rate_bal<br>default_month=%{x}<br>value=%{y}<extra></extra>",
         "legendgroup": "2026-Apr",
         "line": {
          "color": "#6992c0",
          "dash": "solid"
         },
         "marker": {
          "symbol": "circle"
         },
         "mode": "lines",
         "name": "2026-Apr",
         "showlegend": false,
         "type": "scattergl",
         "x": {
          "bdata": "AAAAAAAA8D8AAAAAAAAAQAAAAAAAAAhAAAAAAAAAEEAAAAAAAAAUQAAAAAAAABhAAAAAAAAAHEAAAAAAAAAgQAAAAAAAACJAAAAAAAAAJEAAAAAAAAAmQAAAAAAAAChAAAAAAAAAKkAAAAAAAAAsQAAAAAAAAC5AAAAAAAAAMEAAAAAAAAAxQAAAAAAAADNAAAAAAAAANEA=",
          "dtype": "f8"
         },
         "xaxis": "x",
         "y": {
          "bdata": "UnBohAHASz8YFME6EM1SP2r4Ed1MiTs/JcKoFv1PUT8wIhPBtH1BPywCdvKVEk4/dwgEwhjKSz/Bpywrox8+P09Yzxk+Z08/KaD41z/SQj+LVvbhaxdAP1kLeXxK8jo/3bcFD5rfST+gbCimC0xDP4Sj0jaz70c//Bz09WKCXD/dFLs179tAPzEBxdGhiEQ/pSL5fYgAGD8=",
          "dtype": "f8"
         },
         "yaxis": "y"
        },
        {
         "hovertemplate": "color=2026-Apr<br>variable=cum_default_rate_bal<br>default_month=%{x}<br>value=%{y}<extra></extra>",
         "legendgroup": "2026-Apr",
         "line": {
          "color": "#6992c0",
          "dash": "solid"
         },
         "marker": {
          "symbol": "circle"
         },
         "mode": "lines",
         "name": "2026-Apr",
         "showlegend": false,
         "type": "scattergl",
         "x": {
          "bdata": "AAAAAAAA8D8AAAAAAAAAQAAAAAAAAAhAAAAAAAAAEEAAAAAAAAAUQAAAAAAAABhAAAAAAAAAHEAAAAAAAAAgQAAAAAAAACJAAAAAAAAAJEAAAAAAAAAmQAAAAAAAAChAAAAAAAAAKkAAAAAAAAAsQAAAAAAAAC5AAAAAAAAAMEAAAAAAAAAxQAAAAAAAADNAAAAAAAAANEA=",
          "dtype": "f8"
         },
         "xaxis": "x2",
         "y": {
          "bdata": "UnBohAHASz8gpnp+iFZgPy7lHBqyx2M/QEZxpbBvbD9mB9vqjmdwP6zHKanhKXQ/ukhqwSSjdz82Ex30HoV5P0D+VrcGcn0/RRJWsk7Mfz+LbkoXnueAP+Y2Lmswv4E/ZJIeDCpdgz8uGYHG6pGEP2ZD7vnlEIY/BsesWDKhiT9UeAhM8a6KP2fIJGl794s/rLogenwnjD8=",
          "dtype": "f8"
         },
         "yaxis": "y2"
        },
        {
         "hovertemplate": "color=2026-May<br>variable=id<br>default_month=%{x}<br>value=%{y}<extra></extra>",
         "legendgroup": "2026-May",
         "line": {
          "color": "#638ebe",
          "dash": "solid"
         },
         "marker": {
          "symbol": "circle"
         },
         "mode": "lines",
         "name": "2026-May",
         "showlegend": true,
         "type": "scattergl",
         "x": {
          "bdata": "AAAAAAAA8D8AAAAAAAAAQAAAAAAAAAhAAAAAAAAAEEAAAAAAAAAUQAAAAAAAABhAAAAAAAAAHEAAAAAAAAAgQAAAAAAAACJAAAAAAAAAJEAAAAAAAAAmQAAAAAAAAChAAAAAAAAAKkAAAAAAAAAsQAAAAAAAAC5AAAAAAAAAMEAAAAAAAAAyQAAAAAAAADNA",
          "dtype": "f8"
         },
         "xaxis": "x5",
         "y": {
          "bdata": "AAAAAAA9skAAAAAAAD2yQAAAAAAAPbJAAAAAAAA9skAAAAAAAD2yQAAAAAAAPbJAAAAAAAA9skAAAAAAAD2yQAAAAAAAPbJAAAAAAAA9skAAAAAAAD2yQAAAAAAAPbJAAAAAAAA9skAAAAAAAD2yQAAAAAAAPbJAAAAAAAA9skAAAAAAAD2yQAAAAAAAPbJA",
          "dtype": "f8"
         },
         "yaxis": "y5"
        },
        {
         "hovertemplate": "color=2026-May<br>variable=balance<br>default_month=%{x}<br>value=%{y}<extra></extra>",
         "legendgroup": "2026-May",
         "line": {
          "color": "#638ebe",
          "dash": "solid"
         },
         "marker": {
          "symbol": "circle"
         },
         "mode": "lines",
         "name": "2026-May",
         "showlegend": false,
         "type": "scattergl",
         "x": {
          "bdata": "AAAAAAAA8D8AAAAAAAAAQAAAAAAAAAhAAAAAAAAAEEAAAAAAAAAUQAAAAAAAABhAAAAAAAAAHEAAAAAAAAAgQAAAAAAAACJAAAAAAAAAJEAAAAAAAAAmQAAAAAAAAChAAAAAAAAAKkAAAAAAAAAsQAAAAAAAAC5AAAAAAAAAMEAAAAAAAAAyQAAAAAAAADNA",
          "dtype": "f8"
         },
         "xaxis": "x6",
         "y": {
          "bdata": "Qq0L7aBeckFCrQvtoF5yQUKtC+2gXnJBQq0L7aBeckFCrQvtoF5yQUKtC+2gXnJBQq0L7aBeckFCrQvtoF5yQUKtC+2gXnJBQq0L7aBeckFCrQvtoF5yQUKtC+2gXnJBQq0L7aBeckFCrQvtoF5yQUKtC+2gXnJBQq0L7aBeckFCrQvtoF5yQUKtC+2gXnJB",
          "dtype": "f8"
         },
         "yaxis": "y6"
        },
        {
         "hovertemplate": "color=2026-May<br>variable=default_rate<br>default_month=%{x}<br>value=%{y}<extra></extra>",
         "legendgroup": "2026-May",
         "line": {
          "color": "#638ebe",
          "dash": "solid"
         },
         "marker": {
          "symbol": "circle"
         },
         "mode": "lines",
         "name": "2026-May",
         "showlegend": false,
         "type": "scattergl",
         "x": {
          "bdata": "AAAAAAAA8D8AAAAAAAAAQAAAAAAAAAhAAAAAAAAAEEAAAAAAAAAUQAAAAAAAABhAAAAAAAAAHEAAAAAAAAAgQAAAAAAAACJAAAAAAAAAJEAAAAAAAAAmQAAAAAAAAChAAAAAAAAAKkAAAAAAAAAsQAAAAAAAAC5AAAAAAAAAMEAAAAAAAAAyQAAAAAAAADNA",
          "dtype": "f8"
         },
         "xaxis": "x3",
         "y": {
          "bdata": "OJfC3ztscj/ohChhpBJsP0t0A9VPkHg/mvwVG3pRaj+FlU3t+JRvP+oOsJkRq3A/YNvLAtFMYz/ohChhpBJcP4WVTe34lF8/hZVN7fiUXz9LdAPVT5BYP0t0A9VPkFg/6IQoYaQSTD+uY95I+w1VP65j3kj7DWU/hZVN7fiUXz8RU7m8potRP+iEKGGkEkw/",
          "dtype": "f8"
         },
         "yaxis": "y3"
        },
        {
         "hovertemplate": "color=2026-May<br>variable=cum_default<br>default_month=%{x}<br>value=%{y}<extra></extra>",
         "legendgroup": "2026-May",
         "line": {
          "color": "#638ebe",
          "dash": "solid"
         },
         "marker": {
          "symbol": "circle"
         },
         "mode": "lines",
         "name": "2026-May",
         "showlegend": false,
         "type": "scattergl",
         "x": {
          "bdata": "AAAAAAAA8D8AAAAAAAAAQAAAAAAAAAhAAAAAAAAAEEAAAAAAAAAUQAAAAAAAABhAAAAAAAAAHEAAAAAAAAAgQAAAAAAAACJAAAAAAAAAJEAAAAAAAAAmQAAAAAAAAChAAAAAAAAAKkAAAAAAAAAsQAAAAAAAAC5AAAAAAAAAMEAAAAAAAAAyQAAAAAAAADNA",
          "dtype": "f8"
         },
         "xaxis": "x4",
         "y": {
          "bdata": "OJfC3ztscj/WbCsIxzqAP/wmrfLugow/EVO5vKaLkT/CBWPaRX6VP3wJz0AKqZk/6IQoYaQSnD82DTunztOdP4/mDzYezZ8/9F9y4jbjoD+WexphuaehPziXwt87bKI/TDlHcYbcoj9pLI5L9oSjP6QSHADW1aQ/UH+Gx33SpT/pSWz92l6mP/zr8I4lz6Y/",
          "dtype": "f8"
         },
         "yaxis": "y4"
        },
        {
         "hovertemplate": "color=2026-May<br>variable=default_rate_bal<br>default_month=%{x}<br>value=%{y}<extra></extra>",
         "legendgroup": "2026-May",
         "line": {
          "color": "#638ebe",
          "dash": "solid"
         },
         "marker": {
          "symbol": "circle"
         },
         "mode": "lines",
         "name": "2026-May",
         "showlegend": false,
         "type": "scattergl",
         "x": {
          "bdata": "AAAAAAAA8D8AAAAAAAAAQAAAAAAAAAhAAAAAAAAAEEAAAAAAAAAUQAAAAAAAABhAAAAAAAAAHEAAAAAAAAAgQAAAAAAAACJAAAAAAAAAJEAAAAAAAAAmQAAAAAAAAChAAAAAAAAAKkAAAAAAAAAsQAAAAAAAAC5AAAAAAAAAMEAAAAAAAAAyQAAAAAAAADNA",
          "dtype": "f8"
         },
         "xaxis": "x",
         "y": {
          "bdata": "tbRJhjbdUT+YUxnPAio6Pxkqn94gc1A/HOnVTZGeQD/lv0ZF+ddNP3XcL46DJkw/rrg7c+EpQD+FLll3225QPxRWpvYlBEg/py09kXSkQz8dJUXXF+g+P6ckJBPCREk/xMctHqtjQj8QZeIpWaJIP5Dz/FsO3Vw/w4j7Pf6hQj/xHtNfrYJDP1N4TkoDIyw/",
          "dtype": "f8"
         },
         "yaxis": "y"
        },
        {
         "hovertemplate": "color=2026-May<br>variable=cum_default_rate_bal<br>default_month=%{x}<br>value=%{y}<extra></extra>",
         "legendgroup": "2026-May",
         "line": {
          "color": "#638ebe",
          "dash": "solid"
         },
         "marker": {
          "symbol": "circle"
         },
         "mode": "lines",
         "name": "2026-May",
         "showlegend": false,
         "type": "scattergl",
         "x": {
          "bdata": "AAAAAAAA8D8AAAAAAAAAQAAAAAAAAAhAAAAAAAAAEEAAAAAAAAAUQAAAAAAAABhAAAAAAAAAHEAAAAAAAAAgQAAAAAAAACJAAAAAAAAAJEAAAAAAAAAmQAAAAAAAAChAAAAAAAAAKkAAAAAAAAAsQAAAAAAAAC5AAAAAAAAAMEAAAAAAAAAyQAAAAAAAADNA",
          "dtype": "f8"
         },
         "xaxis": "x2",
         "y": {
          "bdata": "tbRJhjbdUT+bCRA6t2dYP9qZVwxsbWQ/IRTNXxCVaD8NYo9YhwVwP5xdVcpXinM/stS8+JOPdT9TIJPWSqt5PxXrZ5XPq3w/ypCPJ14gfz+O8YHSb4eAP9gztPO7G4I/VRCXpfZBgz+mNjU4HMyEPxjVtAO+Z4g/pI2U592RiT+Tv5G9CMqKP3T5usqUOos/",
          "dtype": "f8"
         },
         "yaxis": "y2"
        },
        {
         "hovertemplate": "color=2026-Jun<br>variable=id<br>default_month=%{x}<br>value=%{y}<extra></extra>",
         "legendgroup": "2026-Jun",
         "line": {
          "color": "#5d89bc",
          "dash": "solid"
         },
         "marker": {
          "symbol": "circle"
         },
         "mode": "lines",
         "name": "2026-Jun",
         "showlegend": true,
         "type": "scattergl",
         "x": {
          "bdata": "AAAAAAAA8D8AAAAAAAAAQAAAAAAAAAhAAAAAAAAAEEAAAAAAAAAUQAAAAAAAABhAAAAAAAAAHEAAAAAAAAAgQAAAAAAAACJAAAAAAAAAJEAAAAAAAAAmQAAAAAAAAChAAAAAAAAAKkAAAAAAAAAsQAAAAAAAAC5AAAAAAAAAMEAAAAAAAAAxQAAAAAAAADJA",
          "dtype": "f8"
         },
         "xaxis": "x5",
         "y": {
          "bdata": "AAAAAABEs0AAAAAAAESzQAAAAAAARLNAAAAAAABEs0AAAAAAAESzQAAAAAAARLNAAAAAAABEs0AAAAAAAESzQAAAAAAARLNAAAAAAABEs0AAAAAAAESzQAAAAAAARLNAAAAAAABEs0AAAAAAAESzQAAAAAAARLNAAAAAAABEs0AAAAAAAESzQAAAAAAARLNA",
          "dtype": "f8"
         },
         "yaxis": "y5"
        },
        {
         "hovertemplate": "color=2026-Jun<br>variable=balance<br>default_month=%{x}<br>value=%{y}<extra></extra>",
         "legendgroup": "2026-Jun",
         "line": {
          "color": "#5d89bc",
          "dash": "solid"
         },
         "marker": {
          "symbol": "circle"
         },
         "mode": "lines",
         "name": "2026-Jun",
         "showlegend": false,
         "type": "scattergl",
         "x": {
          "bdata": "AAAAAAAA8D8AAAAAAAAAQAAAAAAAAAhAAAAAAAAAEEAAAAAAAAAUQAAAAAAAABhAAAAAAAAAHEAAAAAAAAAgQAAAAAAAACJAAAAAAAAAJEAAAAAAAAAmQAAAAAAAAChAAAAAAAAAKkAAAAAAAAAsQAAAAAAAAC5AAAAAAAAAMEAAAAAAAAAxQAAAAAAAADJA",
          "dtype": "f8"
         },
         "xaxis": "x6",
         "y": {
          "bdata": "FXVbHLVrc0EVdVsctWtzQRV1Wxy1a3NBFXVbHLVrc0EVdVsctWtzQRV1Wxy1a3NBFXVbHLVrc0EVdVsctWtzQRV1Wxy1a3NBFXVbHLVrc0EVdVsctWtzQRV1Wxy1a3NBFXVbHLVrc0EVdVsctWtzQRV1Wxy1a3NBFXVbHLVrc0EVdVsctWtzQRV1Wxy1a3NB",
          "dtype": "f8"
         },
         "yaxis": "y6"
        },
        {
         "hovertemplate": "color=2026-Jun<br>variable=default_rate<br>default_month=%{x}<br>value=%{y}<extra></extra>",
         "legendgroup": "2026-Jun",
         "line": {
          "color": "#5d89bc",
          "dash": "solid"
         },
         "marker": {
          "symbol": "circle"
         },
         "mode": "lines",
         "name": "2026-Jun",
         "showlegend": false,
         "type": "scattergl",
         "x": {
          "bdata": "AAAAAAAA8D8AAAAAAAAAQAAAAAAAAAhAAAAAAAAAEEAAAAAAAAAUQAAAAAAAABhAAAAAAAAAHEAAAAAAAAAgQAAAAAAAACJAAAAAAAAAJEAAAAAAAAAmQAAAAAAAAChAAAAAAAAAKkAAAAAAAAAsQAAAAAAAAC5AAAAAAAAAMEAAAAAAAAAxQAAAAAAAADJA",
          "dtype": "f8"
         },
         "xaxis": "x3",
         "y": {
          "bdata": "tD4yrmmTaj/d9mt4/EB3P8kaTxMz6mg/ER009fMZcz8ci8KnWEVyP8kaTxMz6mg/HIvCp1hFYj+Khvjj1uVdP4qG+OPW5V0/iob449blXT/d9mt4/EBXP7Q+Mq5pk0o/3fZrePxAVz8Hr6VCj+5jP4qG+OPW5V0/tD4yrmmTOj8Hr6VCj+5TPzBn3wwinFA/",
          "dtype": "f8"
         },
         "yaxis": "y3"
        },
        {
         "hovertemplate": "color=2026-Jun<br>variable=cum_default<br>default_month=%{x}<br>value=%{y}<extra></extra>",
         "legendgroup": "2026-Jun",
         "line": {
          "color": "#5d89bc",
          "dash": "solid"
         },
         "marker": {
          "symbol": "circle"
         },
         "mode": "lines",
         "name": "2026-Jun",
         "showlegend": false,
         "type": "scattergl",
         "x": {
          "bdata": "AAAAAAAA8D8AAAAAAAAAQAAAAAAAAAhAAAAAAAAAEEAAAAAAAAAUQAAAAAAAABhAAAAAAAAAHEAAAAAAAAAgQAAAAAAAACJAAAAAAAAAJEAAAAAAAAAmQAAAAAAAAChAAAAAAAAAKkAAAAAAAAAsQAAAAAAAAC5AAAAAAAAAMEAAAAAAAAAxQAAAAAAAADJA",
          "dtype": "f8"
         },
         "xaxis": "x4",
         "y": {
          "bdata": "tD4yrmmTaj8ci8KnWEWCP85Rlmzlf4g/KzCYs28GkT/y0ojdxZeVP0u28j8MtZg/rwfrVLf9mj8XkCrDFNycP4AYajFyup4/dNDUz2dMoD8rMJizbwahPyb5UFq9cKE/3VgUPsUqoj/Nsz4yrmmjPwJ4XuncWKQ/f9y6vAOOpD/3CdA2eC2lPzEFN0dZsqU/",
          "dtype": "f8"
         },
         "yaxis": "y4"
        },
        {
         "hovertemplate": "color=2026-Jun<br>variable=default_rate_bal<br>default_month=%{x}<br>value=%{y}<extra></extra>",
         "legendgroup": "2026-Jun",
         "line": {
          "color": "#5d89bc",
          "dash": "solid"
         },
         "marker": {
          "symbol": "circle"
         },
         "mode": "lines",
         "name": "2026-Jun",
         "showlegend": false,
         "type": "scattergl",
         "x": {
          "bdata": "AAAAAAAA8D8AAAAAAAAAQAAAAAAAAAhAAAAAAAAAEEAAAAAAAAAUQAAAAAAAABhAAAAAAAAAHEAAAAAAAAAgQAAAAAAAACJAAAAAAAAAJEAAAAAAAAAmQAAAAAAAAChAAAAAAAAAKkAAAAAAAAAsQAAAAAAAAC5AAAAAAAAAMEAAAAAAAAAxQAAAAAAAADJA",
          "dtype": "f8"
         },
         "xaxis": "x",
         "y": {
          "bdata": "CBCyR4C/OD+mQz5gbR5PP3jgKYaacD8/rC7ww5miTj9R+IP3JMdKP2NPrC1lnUA/dJ1MPWyJUD/454fpZbdGP9ggkyBOlEI/Iwny4I88QD/SCQ7mp+ZHPxUqp0HhZEE/wS7IKcFiST8dyY88JU1bP5QsbtvUn0E/NF4pzgmmDz8hHTY3ufpCP5bZ+e4uUC8/",
          "dtype": "f8"
         },
         "yaxis": "y"
        },
        {
         "hovertemplate": "color=2026-Jun<br>variable=cum_default_rate_bal<br>default_month=%{x}<br>value=%{y}<extra></extra>",
         "legendgroup": "2026-Jun",
         "line": {
          "color": "#5d89bc",
          "dash": "solid"
         },
         "marker": {
          "symbol": "circle"
         },
         "mode": "lines",
         "name": "2026-Jun",
         "showlegend": false,
         "type": "scattergl",
         "x": {
          "bdata": "AAAAAAAA8D8AAAAAAAAAQAAAAAAAAAhAAAAAAAAAEEAAAAAAAAAUQAAAAAAAABhAAAAAAAAAHEAAAAAAAAAgQAAAAAAAACJAAAAAAAAAJEAAAAAAAAAmQAAAAAAAAChAAAAAAAAAKkAAAAAAAAAsQAAAAAAAAC5AAAAAAAAAMEAAAAAAAAAxQAAAAAAAADJA",
          "dtype": "f8"
         },
         "xaxis": "x2",
         "y": {
          "bdata": "CBCyR4C/OD/VpQvCFr9VP/MdlmM9m10/pBrHIkV2Zj+5GKhgDihtP0mWCdazp3A/pr1c5Q7KdD+luo2i+6B3P8AeoGaF83k/5F++Yhf7ez8eIYBf7Pd+PzCD2kNEkoA/HQZ3VnAogj9A/wj+FJKFPwriv0sSrIY/aAuOVbjLhj86bQHpY/uHP6BUvaSkeIg/",
          "dtype": "f8"
         },
         "yaxis": "y2"
        },
        {
         "hovertemplate": "color=2026-Jul<br>variable=id<br>default_month=%{x}<br>value=%{y}<extra></extra>",
         "legendgroup": "2026-Jul",
         "line": {
          "color": "#5785ba",
          "dash": "solid"
         },
         "marker": {
          "symbol": "circle"
         },
         "mode": "lines",
         "name": "2026-Jul",
         "showlegend": true,
         "type": "scattergl",
         "x": {
          "bdata": "AAAAAAAA8D8AAAAAAAAAQAAAAAAAAAhAAAAAAAAAEEAAAAAAAAAUQAAAAAAAABhAAAAAAAAAHEAAAAAAAAAgQAAAAAAAACJAAAAAAAAAJEAAAAAAAAAmQAAAAAAAAChAAAAAAAAAKkAAAAAAAAAsQAAAAAAAAC5AAAAAAAAAMEAAAAAAAAAxQA==",
          "dtype": "f8"
         },
         "xaxis": "x5",
         "y": {
          "bdata": "AAAAAAAwtEAAAAAAADC0QAAAAAAAMLRAAAAAAAAwtEAAAAAAADC0QAAAAAAAMLRAAAAAAAAwtEAAAAAAADC0QAAAAAAAMLRAAAAAAAAwtEAAAAAAADC0QAAAAAAAMLRAAAAAAAAwtEAAAAAAADC0QAAAAAAAMLRAAAAAAAAwtEAAAAAAADC0QA==",
          "dtype": "f8"
         },
         "yaxis": "y5"
        },
        {
         "hovertemplate": "color=2026-Jul<br>variable=balance<br>default_month=%{x}<br>value=%{y}<extra></extra>",
         "legendgroup": "2026-Jul",
         "line": {
          "color": "#5785ba",
          "dash": "solid"
         },
         "marker": {
          "symbol": "circle"
         },
         "mode": "lines",
         "name": "2026-Jul",
         "showlegend": false,
         "type": "scattergl",
         "x": {
          "bdata": "AAAAAAAA8D8AAAAAAAAAQAAAAAAAAAhAAAAAAAAAEEAAAAAAAAAUQAAAAAAAABhAAAAAAAAAHEAAAAAAAAAgQAAAAAAAACJAAAAAAAAAJEAAAAAAAAAmQAAAAAAAAChAAAAAAAAAKkAAAAAAAAAsQAAAAAAAAC5AAAAAAAAAMEAAAAAAAAAxQA==",
          "dtype": "f8"
         },
         "xaxis": "x6",
         "y": {
          "bdata": "Eac74WEzdEERpzvhYTN0QRGnO+FhM3RBEac74WEzdEERpzvhYTN0QRGnO+FhM3RBEac74WEzdEERpzvhYTN0QRGnO+FhM3RBEac74WEzdEERpzvhYTN0QRGnO+FhM3RBEac74WEzdEERpzvhYTN0QRGnO+FhM3RBEac74WEzdEERpzvhYTN0QQ==",
          "dtype": "f8"
         },
         "yaxis": "y6"
        },
        {
         "hovertemplate": "color=2026-Jul<br>variable=default_rate<br>default_month=%{x}<br>value=%{y}<extra></extra>",
         "legendgroup": "2026-Jul",
         "line": {
          "color": "#5785ba",
          "dash": "solid"
         },
         "marker": {
          "symbol": "circle"
         },
         "mode": "lines",
         "name": "2026-Jul",
         "showlegend": false,
         "type": "scattergl",
         "x": {
          "bdata": "AAAAAAAA8D8AAAAAAAAAQAAAAAAAAAhAAAAAAAAAEEAAAAAAAAAUQAAAAAAAABhAAAAAAAAAHEAAAAAAAAAgQAAAAAAAACJAAAAAAAAAJEAAAAAAAAAmQAAAAAAAAChAAAAAAAAAKkAAAAAAAAAsQAAAAAAAAC5AAAAAAAAAMEAAAAAAAAAxQA==",
          "dtype": "f8"
         },
         "xaxis": "x3",
         "y": {
          "bdata": "uAhnqiMxdj8zQCVb78ZnPwV+i3CmOnI/+uwH0j1mdT+j5l9tUohsP8KZ6kiMBWM/R2IsmMBvYT+j5l9tUohcP5lV3M7ps18/uAhnqiMxVj+ud+MLu1xJP7gIZ6ojMVY/rnfjC7tcaT+j5l9tUohcP6534wu7XDk/rnfjC7tcWT+ZVdzO6bNPPw==",
          "dtype": "f8"
         },
         "yaxis": "y3"
        },
        {
         "hovertemplate": "color=2026-Jul<br>variable=cum_default<br>default_month=%{x}<br>value=%{y}<extra></extra>",
         "legendgroup": "2026-Jul",
         "line": {
          "color": "#5785ba",
          "dash": "solid"
         },
         "marker": {
          "symbol": "circle"
         },
         "mode": "lines",
         "name": "2026-Jul",
         "showlegend": false,
         "type": "scattergl",
         "x": {
          "bdata": "AAAAAAAA8D8AAAAAAAAAQAAAAAAAAAhAAAAAAAAAEEAAAAAAAAAUQAAAAAAAABhAAAAAAAAAHEAAAAAAAAAgQAAAAAAAACJAAAAAAAAAJEAAAAAAAAAmQAAAAAAAAChAAAAAAAAAKkAAAAAAAAAsQAAAAAAAAC5AAAAAAAAAMEAAAAAAAAAxQA==",
          "dtype": "f8"
         },
         "xaxis": "x4",
         "y": {
          "bdata": "uAhnqiMxdj9p1PyrTQqBP2uTQuSgJ4o/9ESj5l9tkj/IQU80av6VPwGVbL0bX5g/SiFy0BONmj+0H0j3mFWcPw3lNZTXUJ4/mVXczumznz+ruJ3TZz+gP/Hw8PDw8KA/bCivobyGoj+hJxo1/2qjP5DuMau4naM/TgqRg55opD+ke8wqbuekPw==",
          "dtype": "f8"
         },
         "yaxis": "y4"
        },
        {
         "hovertemplate": "color=2026-Jul<br>variable=default_rate_bal<br>default_month=%{x}<br>value=%{y}<extra></extra>",
         "legendgroup": "2026-Jul",
         "line": {
          "color": "#5785ba",
          "dash": "solid"
         },
         "marker": {
          "symbol": "circle"
         },
         "mode": "lines",
         "name": "2026-Jul",
         "showlegend": false,
         "type": "scattergl",
         "x": {
          "bdata": "AAAAAAAA8D8AAAAAAAAAQAAAAAAAAAhAAAAAAAAAEEAAAAAAAAAUQAAAAAAAABhAAAAAAAAAHEAAAAAAAAAgQAAAAAAAACJAAAAAAAAAJEAAAAAAAAAmQAAAAAAAAChAAAAAAAAAKkAAAAAAAAAsQAAAAAAAAC5AAAAAAAAAMEAAAAAAAAAxQA==",
          "dtype": "f8"
         },
         "xaxis": "x",
         "y": {
          "bdata": "PmUM29TqTT+e+Uy61Tk+P99TBDfJc00/q+TkZVCASz/+IPeZQzpBP7YRcrBW0k8/z6sgxXTNSD97DSk1qNxBP08Yp58lokA/JeS0wmf6Rj+Ig+CO8rhAP0hvBuzTZ0g/hD++tGDQWz9csQZzn/FAPzTEztQ0bQ4/Gl2iaqmlST/DP82YqhouPw==",
          "dtype": "f8"
         },
         "yaxis": "y"
        },
        {
         "hovertemplate": "color=2026-Jul<br>variable=cum_default_rate_bal<br>default_month=%{x}<br>value=%{y}<extra></extra>",
         "legendgroup": "2026-Jul",
         "line": {
          "color": "#5785ba",
          "dash": "solid"
         },
         "marker": {
          "symbol": "circle"
         },
         "mode": "lines",
         "name": "2026-Jul",
         "showlegend": false,
         "type": "scattergl",
         "x": {
          "bdata": "AAAAAAAA8D8AAAAAAAAAQAAAAAAAAAhAAAAAAAAAEEAAAAAAAAAUQAAAAAAAABhAAAAAAAAAHEAAAAAAAAAgQAAAAAAAACJAAAAAAAAAJEAAAAAAAAAmQAAAAAAAAChAAAAAAAAAKkAAAAAAAAAsQAAAAAAAAC5AAAAAAAAAMEAAAAAAAAAxQA==",
          "dtype": "f8"
         },
         "xaxis": "x2",
         "y": {
          "bdata": "PmUM29TqTT8GcRnc34NWP3vNzTvinmI/pgZHVfZ+aT/lzsQ7h81tP6mp8HMO4XI/I7+UDL36dT/T4DkTUjZ4P9zDLseWSno/YWCFv+MpfT/ScGERAkF/P14fcUf+JoE/TucIXgqhhD9kUjlVJLCFPyghDoqRzoU/+ka4IOxohz/5exvLVuGHPw==",
          "dtype": "f8"
         },
         "yaxis": "y2"
        },
        {
         "hovertemplate": "color=2026-Aug<br>variable=id<br>default_month=%{x}<br>value=%{y}<extra></extra>",
         "legendgroup": "2026-Aug",
         "line": {
          "color": "#5180b8",
          "dash": "solid"
         },
         "marker": {
          "symbol": "circle"
         },
         "mode": "lines",
         "name": "2026-Aug",
         "showlegend": true,
         "type": "scattergl",
         "x": {
          "bdata": "AAAAAAAA8D8AAAAAAAAAQAAAAAAAAAhAAAAAAAAAEEAAAAAAAAAUQAAAAAAAABhAAAAAAAAAHEAAAAAAAAAgQAAAAAAAACJAAAAAAAAAJEAAAAAAAAAmQAAAAAAAAChAAAAAAAAAKkAAAAAAAAAsQAAAAAAAAC5AAAAAAAAAMEA=",
          "dtype": "f8"
         },
         "xaxis": "x5",
         "y": {
          "bdata": "AAAAAAAUtUAAAAAAABS1QAAAAAAAFLVAAAAAAAAUtUAAAAAAABS1QAAAAAAAFLVAAAAAAAAUtUAAAAAAABS1QAAAAAAAFLVAAAAAAAAUtUAAAAAAABS1QAAAAAAAFLVAAAAAAAAUtUAAAAAAABS1QAAAAAAAFLVAAAAAAAAUtUA=",
          "dtype": "f8"
         },
         "yaxis": "y5"
        },
        {
         "hovertemplate": "color=2026-Aug<br>variable=balance<br>default_month=%{x}<br>value=%{y}<extra></extra>",
         "legendgroup": "2026-Aug",
         "line": {
          "color": "#5180b8",
          "dash": "solid"
         },
         "marker": {
          "symbol": "circle"
         },
         "mode": "lines",
         "name": "2026-Aug",
         "showlegend": false,
         "type": "scattergl",
         "x": {
          "bdata": "AAAAAAAA8D8AAAAAAAAAQAAAAAAAAAhAAAAAAAAAEEAAAAAAAAAUQAAAAAAAABhAAAAAAAAAHEAAAAAAAAAgQAAAAAAAACJAAAAAAAAAJEAAAAAAAAAmQAAAAAAAAChAAAAAAAAAKkAAAAAAAAAsQAAAAAAAAC5AAAAAAAAAMEA=",
          "dtype": "f8"
         },
         "xaxis": "x6",
         "y": {
          "bdata": "SS2cFJygdUFJLZwUnKB1QUktnBScoHVBSS2cFJygdUFJLZwUnKB1QUktnBScoHVBSS2cFJygdUFJLZwUnKB1QUktnBScoHVBSS2cFJygdUFJLZwUnKB1QUktnBScoHVBSS2cFJygdUFJLZwUnKB1QUktnBScoHVBSS2cFJygdUE=",
          "dtype": "f8"
         },
         "yaxis": "y6"
        },
        {
         "hovertemplate": "color=2026-Aug<br>variable=default_rate<br>default_month=%{x}<br>value=%{y}<extra></extra>",
         "legendgroup": "2026-Aug",
         "line": {
          "color": "#5180b8",
          "dash": "solid"
         },
         "marker": {
          "symbol": "circle"
         },
         "mode": "lines",
         "name": "2026-Aug",
         "showlegend": false,
         "type": "scattergl",
         "x": {
          "bdata": "AAAAAAAA8D8AAAAAAAAAQAAAAAAAAAhAAAAAAAAAEEAAAAAAAAAUQAAAAAAAABhAAAAAAAAAHEAAAAAAAAAgQAAAAAAAACJAAAAAAAAAJEAAAAAAAAAmQAAAAAAAAChAAAAAAAAAKkAAAAAAAAAsQAAAAAAAAC5AAAAAAAAAMEA=",
          "dtype": "f8"
         },
         "xaxis": "x3",
         "y": {
          "bdata": "nQ6XlL3FZj+8E7i+d3VxP/NZ7jjEfnQ/QuE5A6Phbz+B63tXF0FlP2bIYBpxvGM/L4IqoCSzYD9myGAacbxjP7gxstFjSlg/uDGy0WNKSD+B63tXF0FVP7gxstFjSmg/73foS7BTWz+4MbLRY0o4P+936EuwU1s/Jr4exvxcTj8=",
          "dtype": "f8"
         },
         "yaxis": "y3"
        },
        {
         "hovertemplate": "color=2026-Aug<br>variable=cum_default<br>default_month=%{x}<br>value=%{y}<extra></extra>",
         "legendgroup": "2026-Aug",
         "line": {
          "color": "#5180b8",
          "dash": "solid"
         },
         "marker": {
          "symbol": "circle"
         },
         "mode": "lines",
         "name": "2026-Aug",
         "showlegend": false,
         "type": "scattergl",
         "x": {
          "bdata": "AAAAAAAA8D8AAAAAAAAAQAAAAAAAAAhAAAAAAAAAEEAAAAAAAAAUQAAAAAAAABhAAAAAAAAAHEAAAAAAAAAgQAAAAAAAACJAAAAAAAAAJEAAAAAAAAAmQAAAAAAAAChAAAAAAAAAKkAAAAAAAAAsQAAAAAAAAC5AAAAAAAAAMEA=",
          "dtype": "f8"
         },
         "xaxis": "x4",
         "y": {
          "bdata": "nQ6XlL3FZj8KmwOJVth8P376+GCNq4g/aLnjEPtRkD/YNtP7HfqSP+RPHx+scZU/KqAksxCIlz83uXDWnv+ZP1LcixNFhJs/4G0ZMphGnD+YLJGnqZqdP2i54xD7UaA/J/1Ck5gsoT+LYeZaLV2hP0qlRd3KN6I/QyBe0D6xoj8=",
          "dtype": "f8"
         },
         "yaxis": "y4"
        },
        {
         "hovertemplate": "color=2026-Aug<br>variable=default_rate_bal<br>default_month=%{x}<br>value=%{y}<extra></extra>",
         "legendgroup": "2026-Aug",
         "line": {
          "color": "#5180b8",
          "dash": "solid"
         },
         "marker": {
          "symbol": "circle"
         },
         "mode": "lines",
         "name": "2026-Aug",
         "showlegend": false,
         "type": "scattergl",
         "x": {
          "bdata": "AAAAAAAA8D8AAAAAAAAAQAAAAAAAAAhAAAAAAAAAEEAAAAAAAAAUQAAAAAAAABhAAAAAAAAAHEAAAAAAAAAgQAAAAAAAACJAAAAAAAAAJEAAAAAAAAAmQAAAAAAAAChAAAAAAAAAKkAAAAAAAAAsQAAAAAAAAC5AAAAAAAAAMEA=",
          "dtype": "f8"
         },
         "xaxis": "x",
         "y": {
          "bdata": "HikO2mY7PD/Qs9HXaoJLPzrE373kr0k/bvifzRbwQD/0kvcH9sZOP9yEQIImDUk/bGPS8SGKQz+OXPvyJeFAP7WgsxyJCkc/cfcxHho9Pz9tpgYxr8tGP3AMHv6s+lk/jH97t/mmPz9r12BuYmsMP7O2xYHreUo/SQNDEkoeLD8=",
          "dtype": "f8"
         },
         "yaxis": "y"
        },
        {
         "hovertemplate": "color=2026-Aug<br>variable=cum_default_rate_bal<br>default_month=%{x}<br>value=%{y}<extra></extra>",
         "legendgroup": "2026-Aug",
         "line": {
          "color": "#5180b8",
          "dash": "solid"
         },
         "marker": {
          "symbol": "circle"
         },
         "mode": "lines",
         "name": "2026-Aug",
         "showlegend": false,
         "type": "scattergl",
         "x": {
          "bdata": "AAAAAAAA8D8AAAAAAAAAQAAAAAAAAAhAAAAAAAAAEEAAAAAAAAAUQAAAAAAAABhAAAAAAAAAHEAAAAAAAAAgQAAAAAAAACJAAAAAAAAAJEAAAAAAAAAmQAAAAAAAAChAAAAAAAAAKkAAAAAAAAAsQAAAAAAAAC5AAAAAAAAAMEA=",
          "dtype": "f8"
         },
         "xaxis": "x2",
         "y": {
          "bdata": "HikO2mY7PD8wZGwiD9BUPyYjrsAA1GA/QiEWdAYQZT//BRT2w8FsP5sTUsuGgnE/CGCMCcvzcz+ay+vH7w92P7E/gutA8Xg/KF9ljRLlej/2M4ZziL59P4nbhtmZHoI/hbdCp9Ebgz9dGLEJPTiDP8hzzcHb34Q/1X8W6lRQhT8=",
          "dtype": "f8"
         },
         "yaxis": "y2"
        },
        {
         "hovertemplate": "color=2026-Sep<br>variable=id<br>default_month=%{x}<br>value=%{y}<extra></extra>",
         "legendgroup": "2026-Sep",
         "line": {
          "color": "#4c7cb5",
          "dash": "solid"
         },
         "marker": {
          "symbol": "circle"
         },
         "mode": "lines",
         "name": "2026-Sep",
         "showlegend": true,
         "type": "scattergl",
         "x": {
          "bdata": "AAAAAAAA8D8AAAAAAAAAQAAAAAAAAAhAAAAAAAAAEEAAAAAAAAAUQAAAAAAAABhAAAAAAAAAHEAAAAAAAAAgQAAAAAAAACJAAAAAAAAAJEAAAAAAAAAmQAAAAAAAAChAAAAAAAAAKkAAAAAAAAAsQAAAAAAAAC5A",
          "dtype": "f8"
         },
         "xaxis": "x5",
         "y": {
          "bdata": "AAAAAAAQtkAAAAAAABC2QAAAAAAAELZAAAAAAAAQtkAAAAAAABC2QAAAAAAAELZAAAAAAAAQtkAAAAAAABC2QAAAAAAAELZAAAAAAAAQtkAAAAAAABC2QAAAAAAAELZAAAAAAAAQtkAAAAAAABC2QAAAAAAAELZA",
          "dtype": "f8"
         },
         "yaxis": "y5"
        },
        {
         "hovertemplate": "color=2026-Sep<br>variable=balance<br>default_month=%{x}<br>value=%{y}<extra></extra>",
         "legendgroup": "2026-Sep",
         "line": {
          "color": "#4c7cb5",
          "dash": "solid"
         },
         "marker": {
          "symbol": "circle"
         },
         "mode": "lines",
         "name": "2026-Sep",
         "showlegend": false,
         "type": "scattergl",
         "x": {
          "bdata": "AAAAAAAA8D8AAAAAAAAAQAAAAAAAAAhAAAAAAAAAEEAAAAAAAAAUQAAAAAAAABhAAAAAAAAAHEAAAAAAAAAgQAAAAAAAACJAAAAAAAAAJEAAAAAAAAAmQAAAAAAAAChAAAAAAAAAKkAAAAAAAAAsQAAAAAAAAC5A",
          "dtype": "f8"
         },
         "xaxis": "x6",
         "y": {
          "bdata": "wP9bCxord0HA/1sLGit3QcD/WwsaK3dBwP9bCxord0HA/1sLGit3QcD/WwsaK3dBwP9bCxord0HA/1sLGit3QcD/WwsaK3dBwP9bCxord0HA/1sLGit3QcD/WwsaK3dBwP9bCxord0HA/1sLGit3QcD/WwsaK3dB",
          "dtype": "f8"
         },
         "yaxis": "y6"
        },
        {
         "hovertemplate": "color=2026-Sep<br>variable=default_rate<br>default_month=%{x}<br>value=%{y}<extra></extra>",
         "legendgroup": "2026-Sep",
         "line": {
          "color": "#4c7cb5",
          "dash": "solid"
         },
         "marker": {
          "symbol": "circle"
         },
         "mode": "lines",
         "name": "2026-Sep",
         "showlegend": false,
         "type": "scattergl",
         "x": {
          "bdata": "AAAAAAAA8D8AAAAAAAAAQAAAAAAAAAhAAAAAAAAAEEAAAAAAAAAUQAAAAAAAABhAAAAAAAAAHEAAAAAAAAAgQAAAAAAAACJAAAAAAAAAJEAAAAAAAAAmQAAAAAAAAChAAAAAAAAAKkAAAAAAAAAsQAAAAAAAAC5A",
          "dtype": "f8"
         },
         "xaxis": "x3",
         "y": {
          "bdata": "9W7HDQ2ucD/Hrm8mq5RzPxme5gJ8dW4/Xj7q3Y4baj9ePurdjhtqP6Te7bihwWU/u76ZrFJOZD/qfvGTtGdhPzB+kvYsAk0/u76ZrFJOVD9ePurdjhtqPwG+Og/L6F8/6n7xk7RnQT8wfpL2LAJdPzB+kvYsAk0/",
          "dtype": "f8"
         },
         "yaxis": "y3"
        },
        {
         "hovertemplate": "color=2026-Sep<br>variable=cum_default<br>default_month=%{x}<br>value=%{y}<extra></extra>",
         "legendgroup": "2026-Sep",
         "line": {
          "color": "#4c7cb5",
          "dash": "solid"
         },
         "marker": {
          "symbol": "circle"
         },
         "mode": "lines",
         "name": "2026-Sep",
         "showlegend": false,
         "type": "scattergl",
         "x": {
          "bdata": "AAAAAAAA8D8AAAAAAAAAQAAAAAAAAAhAAAAAAAAAEEAAAAAAAAAUQAAAAAAAABhAAAAAAAAAHEAAAAAAAAAgQAAAAAAAACJAAAAAAAAAJEAAAAAAAAAmQAAAAAAAAChAAAAAAAAAKkAAAAAAAAAsQAAAAAAAAC5A",
          "dtype": "f8"
         },
         "xaxis": "x4",
         "y": {
          "bdata": "9W7HDQ2ucD/ejhsaXCGCP2Q21Rq7vok//uInac8ikD/KKuVEQWaTP57mAnx1HpY/dh6W0T+omD9TThRkNtWaP0TiyMtHvZs/MH6S9iwCnT/+4idpzyKgP+64ocEVIqE/6n7xk7RnoT/bEqb7xU+iP9RcgK/Ow6I/",
          "dtype": "f8"
         },
         "yaxis": "y4"
        },
        {
         "hovertemplate": "color=2026-Sep<br>variable=default_rate_bal<br>default_month=%{x}<br>value=%{y}<extra></extra>",
         "legendgroup": "2026-Sep",
         "line": {
          "color": "#4c7cb5",
          "dash": "solid"
         },
         "marker": {
          "symbol": "circle"
         },
         "mode": "lines",
         "name": "2026-Sep",
         "showlegend": false,
         "type": "scattergl",
         "x": {
          "bdata": "AAAAAAAA8D8AAAAAAAAAQAAAAAAAAAhAAAAAAAAAEEAAAAAAAAAUQAAAAAAAABhAAAAAAAAAHEAAAAAAAAAgQAAAAAAAACJAAAAAAAAAJEAAAAAAAAAmQAAAAAAAAChAAAAAAAAAKkAAAAAAAAAsQAAAAAAAAC5A",
          "dtype": "f8"
         },
         "xaxis": "x",
         "y": {
          "bdata": "GuiSTQKuST94eAHKg/pHP4TjHtRenz8/tp0c3W/NTD+qWTEsoLlKP9UvuuqglEM/TqgoxaeOPz9A8oy4/vZIP6+gmkB0ST4/K/jO6olHRT/TUz88KCRZP8FtV86vxEg/EsJ9k08hEz/SUHgQ+9lJP1xRYniDPyo/",
          "dtype": "f8"
         },
         "yaxis": "y"
        },
        {
         "hovertemplate": "color=2026-Sep<br>variable=cum_default_rate_bal<br>default_month=%{x}<br>value=%{y}<extra></extra>",
         "legendgroup": "2026-Sep",
         "line": {
          "color": "#4c7cb5",
          "dash": "solid"
         },
         "marker": {
          "symbol": "circle"
         },
         "mode": "lines",
         "name": "2026-Sep",
         "showlegend": false,
         "type": "scattergl",
         "x": {
          "bdata": "AAAAAAAA8D8AAAAAAAAAQAAAAAAAAAhAAAAAAAAAEEAAAAAAAAAUQAAAAAAAABhAAAAAAAAAHEAAAAAAAAAgQAAAAAAAACJAAAAAAAAAJEAAAAAAAAAmQAAAAAAAAChAAAAAAAAAKkAAAAAAAAAsQAAAAAAAAC5A",
          "dtype": "f8"
         },
         "xaxis": "x2",
         "y": {
          "bdata": "GuiSTQKuST9JMMoLQ9RYP5X0aGANXmA/AhywV2mRZz9tcrxi0T9uPzF/tc58knE/tgkIS2eLcz/+pxkiR6p2PwlSI2bejng/DjF9o883ez8Cg0bZbMCAP975K9a3TII/YvVSdfpygj9velommhCEP7QDPDSYeYQ/",
          "dtype": "f8"
         },
         "yaxis": "y2"
        },
        {
         "hovertemplate": "color=2026-Oct<br>variable=id<br>default_month=%{x}<br>value=%{y}<extra></extra>",
         "legendgroup": "2026-Oct",
         "line": {
          "color": "#4878b1",
          "dash": "solid"
         },
         "marker": {
          "symbol": "circle"
         },
         "mode": "lines",
         "name": "2026-Oct",
         "showlegend": true,
         "type": "scattergl",
         "x": {
          "bdata": "AAAAAAAA8D8AAAAAAAAAQAAAAAAAAAhAAAAAAAAAEEAAAAAAAAAUQAAAAAAAABhAAAAAAAAAHEAAAAAAAAAgQAAAAAAAACJAAAAAAAAAJEAAAAAAAAAmQAAAAAAAAChAAAAAAAAAKkAAAAAAAAAsQA==",
          "dtype": "f8"
         },
         "xaxis": "x5",
         "y": {
          "bdata": "AAAAAAARt0AAAAAAABG3QAAAAAAAEbdAAAAAAAARt0AAAAAAABG3QAAAAAAAEbdAAAAAAAARt0AAAAAAABG3QAAAAAAAEbdAAAAAAAARt0AAAAAAABG3QAAAAAAAEbdAAAAAAAARt0AAAAAAABG3QA==",
          "dtype": "f8"
         },
         "yaxis": "y5"
        },
        {
         "hovertemplate": "color=2026-Oct<br>variable=balance<br>default_month=%{x}<br>value=%{y}<extra></extra>",
         "legendgroup": "2026-Oct",
         "line": {
          "color": "#4878b1",
          "dash": "solid"
         },
         "marker": {
          "symbol": "circle"
         },
         "mode": "lines",
         "name": "2026-Oct",
         "showlegend": false,
         "type": "scattergl",
         "x": {
          "bdata": "AAAAAAAA8D8AAAAAAAAAQAAAAAAAAAhAAAAAAAAAEEAAAAAAAAAUQAAAAAAAABhAAAAAAAAAHEAAAAAAAAAgQAAAAAAAACJAAAAAAAAAJEAAAAAAAAAmQAAAAAAAAChAAAAAAAAAKkAAAAAAAAAsQA==",
          "dtype": "f8"
         },
         "xaxis": "x6",
         "y": {
          "bdata": "hQ1eNAc2eEGFDV40BzZ4QYUNXjQHNnhBhQ1eNAc2eEGFDV40BzZ4QYUNXjQHNnhBhQ1eNAc2eEGFDV40BzZ4QYUNXjQHNnhBhQ1eNAc2eEGFDV40BzZ4QYUNXjQHNnhBhQ1eNAc2eEGFDV40BzZ4QQ==",
          "dtype": "f8"
         },
         "yaxis": "y6"
        },
        {
         "hovertemplate": "color=2026-Oct<br>variable=default_rate<br>default_month=%{x}<br>value=%{y}<extra></extra>",
         "legendgroup": "2026-Oct",
         "line": {
          "color": "#4878b1",
          "dash": "solid"
         },
         "marker": {
          "symbol": "circle"
         },
         "mode": "lines",
         "name": "2026-Oct",
         "showlegend": false,
         "type": "scattergl",
         "x": {
          "bdata": "AAAAAAAA8D8AAAAAAAAAQAAAAAAAAAhAAAAAAAAAEEAAAAAAAAAUQAAAAAAAABhAAAAAAAAAHEAAAAAAAAAgQAAAAAAAACJAAAAAAAAAJEAAAAAAAAAmQAAAAAAAAChAAAAAAAAAKkAAAAAAAAAsQA==",
          "dtype": "f8"
         },
         "xaxis": "x3",
         "y": {
          "bdata": "4AxnR4G6cj8HFBJvHiJtPysRNF+s+Gg/8BWmeWrobz8fEn5k0ltqPx8SfmTSW2o/cgt4P8ilYD9yC3g/yKVQPysRNF+s+Fg/ExPIafi+az9yC3g/yKVgP3ILeD/IpUA//BRcdESFXj8TE8hp+L5LPw==",
          "dtype": "f8"
         },
         "yaxis": "y3"
        },
        {
         "hovertemplate": "color=2026-Oct<br>variable=cum_default<br>default_month=%{x}<br>value=%{y}<extra></extra>",
         "legendgroup": "2026-Oct",
         "line": {
          "color": "#4878b1",
          "dash": "solid"
         },
         "marker": {
          "symbol": "circle"
         },
         "mode": "lines",
         "name": "2026-Oct",
         "showlegend": false,
         "type": "scattergl",
         "x": {
          "bdata": "AAAAAAAA8D8AAAAAAAAAQAAAAAAAAAhAAAAAAAAAEEAAAAAAAAAUQAAAAAAAABhAAAAAAAAAHEAAAAAAAAAgQAAAAAAAACJAAAAAAAAAJEAAAAAAAAAmQAAAAAAAAChAAAAAAAAAKkAAAAAAAAAsQA==",
          "dtype": "f8"
         },
         "xaxis": "x4",
         "y": {
          "bdata": "4AxnR4G6cj9yC3g/yKWAP7wPRVfz44Y/OJWu9Q3ejj/gDGdHgbqSPyTP9pP7BZY/ktDlm7QamD9JUd0fESWZP1yS0OWbtJo/vpQJ83osnj8WS3z9mSCgP0Qreh4xY6A/7AsdQltXoT84LMQjV8ahPw==",
          "dtype": "f8"
         },
         "yaxis": "y4"
        },
        {
         "hovertemplate": "color=2026-Oct<br>variable=default_rate_bal<br>default_month=%{x}<br>value=%{y}<extra></extra>",
         "legendgroup": "2026-Oct",
         "line": {
          "color": "#4878b1",
          "dash": "solid"
         },
         "marker": {
          "symbol": "circle"
         },
         "mode": "lines",
         "name": "2026-Oct",
         "showlegend": false,
         "type": "scattergl",
         "x": {
          "bdata": "AAAAAAAA8D8AAAAAAAAAQAAAAAAAAAhAAAAAAAAAEEAAAAAAAAAUQAAAAAAAABhAAAAAAAAAHEAAAAAAAAAgQAAAAAAAACJAAAAAAAAAJEAAAAAAAAAmQAAAAAAAAChAAAAAAAAAKkAAAAAAAAAsQA==",
          "dtype": "f8"
         },
         "xaxis": "x",
         "y": {
          "bdata": "XhI1wybyRj+e4xmAu0I+P995GNfjj0s/hdJDhzHpSj+dqgoy3PNDPw+Qsoq2bkA/+y+sGsLjRz//Gg4/c989P5obQc8qqUY/q7VnM1xGWD+JdsKXjsxHP+IHnM1mThI/RL+VLaXESD8NQxrxIB4pPw==",
          "dtype": "f8"
         },
         "yaxis": "y"
        },
        {
         "hovertemplate": "color=2026-Oct<br>variable=cum_default_rate_bal<br>default_month=%{x}<br>value=%{y}<extra></extra>",
         "legendgroup": "2026-Oct",
         "line": {
          "color": "#4878b1",
          "dash": "solid"
         },
         "marker": {
          "symbol": "circle"
         },
         "mode": "lines",
         "name": "2026-Oct",
         "showlegend": false,
         "type": "scattergl",
         "x": {
          "bdata": "AAAAAAAA8D8AAAAAAAAAQAAAAAAAAAhAAAAAAAAAEEAAAAAAAAAUQAAAAAAAABhAAAAAAAAAHEAAAAAAAAAgQAAAAAAAACJAAAAAAAAAJEAAAAAAAAAmQAAAAAAAAChAAAAAAAAAKkAAAAAAAAAsQA==",
          "dtype": "f8"
         },
         "xaxis": "x2",
         "y": {
          "bdata": "XhI1wybyRj8WAqFBwglTP4OflhbaaGA/JJRneCYjZz/MPuqEHSBsP2hxy5PlHXA/Z/cg110acz8X2RELVfh0P4r8+WR6zXc/9enTcRHffT9jHGaiUWyAP3NUAXDukIA/Z7Dawjgdgj9zGZ9GsYGCPw==",
          "dtype": "f8"
         },
         "yaxis": "y2"
        },
        {
         "hovertemplate": "color=2026-Nov<br>variable=id<br>default_month=%{x}<br>value=%{y}<extra></extra>",
         "legendgroup": "2026-Nov",
         "line": {
          "color": "#4673ab",
          "dash": "solid"
         },
         "marker": {
          "symbol": "circle"
         },
         "mode": "lines",
         "name": "2026-Nov",
         "showlegend": true,
         "type": "scattergl",
         "x": {
          "bdata": "AAAAAAAA8D8AAAAAAAAAQAAAAAAAAAhAAAAAAAAAEEAAAAAAAAAUQAAAAAAAABhAAAAAAAAAHEAAAAAAAAAgQAAAAAAAACJAAAAAAAAAJEAAAAAAAAAmQAAAAAAAAChAAAAAAAAAKkA=",
          "dtype": "f8"
         },
         "xaxis": "x5",
         "y": {
          "bdata": "AAAAAAAUuEAAAAAAABS4QAAAAAAAFLhAAAAAAAAUuEAAAAAAABS4QAAAAAAAFLhAAAAAAAAUuEAAAAAAABS4QAAAAAAAFLhAAAAAAAAUuEAAAAAAABS4QAAAAAAAFLhAAAAAAAAUuEA=",
          "dtype": "f8"
         },
         "yaxis": "y5"
        },
        {
         "hovertemplate": "color=2026-Nov<br>variable=balance<br>default_month=%{x}<br>value=%{y}<extra></extra>",
         "legendgroup": "2026-Nov",
         "line": {
          "color": "#4673ab",
          "dash": "solid"
         },
         "marker": {
          "symbol": "circle"
         },
         "mode": "lines",
         "name": "2026-Nov",
         "showlegend": false,
         "type": "scattergl",
         "x": {
          "bdata": "AAAAAAAA8D8AAAAAAAAAQAAAAAAAAAhAAAAAAAAAEEAAAAAAAAAUQAAAAAAAABhAAAAAAAAAHEAAAAAAAAAgQAAAAAAAACJAAAAAAAAAJEAAAAAAAAAmQAAAAAAAAChAAAAAAAAAKkA=",
          "dtype": "f8"
         },
         "xaxis": "x6",
         "y": {
          "bdata": "wgBcE1JCeUHCAFwTUkJ5QcIAXBNSQnlBwgBcE1JCeUHCAFwTUkJ5QcIAXBNSQnlBwgBcE1JCeUHCAFwTUkJ5QcIAXBNSQnlBwgBcE1JCeUHCAFwTUkJ5QcIAXBNSQnlBwgBcE1JCeUE=",
          "dtype": "f8"
         },
         "yaxis": "y6"
        },
        {
         "hovertemplate": "color=2026-Nov<br>variable=default_rate<br>default_month=%{x}<br>value=%{y}<extra></extra>",
         "legendgroup": "2026-Nov",
         "line": {
          "color": "#4673ab",
          "dash": "solid"
         },
         "marker": {
          "symbol": "circle"
         },
         "mode": "lines",
         "name": "2026-Nov",
         "showlegend": false,
         "type": "scattergl",
         "x": {
          "bdata": "AAAAAAAA8D8AAAAAAAAAQAAAAAAAAAhAAAAAAAAAEEAAAAAAAAAUQAAAAAAAABhAAAAAAAAAHEAAAAAAAAAgQAAAAAAAACJAAAAAAAAAJEAAAAAAAAAmQAAAAAAAAChAAAAAAAAAKkA=",
          "dtype": "f8"
         },
         "xaxis": "x3",
         "y": {
          "bdata": "whZLDL7oaz/LpdKcEOxnP2e38KsxkW4/Fecd3Pc8bT/CFksMvuhrP9Q0Wi1j72M/y6XSnBDsVz+6h8N7a+VfP8IWSwy+6Gs/uofDe2vlXz+6h8N7a+U/P7qHw3tr5V8/uofDe2vlTz8=",
          "dtype": "f8"
         },
         "yaxis": "y3"
        },
        {
         "hovertemplate": "color=2026-Nov<br>variable=cum_default<br>default_month=%{x}<br>value=%{y}<extra></extra>",
         "legendgroup": "2026-Nov",
         "line": {
          "color": "#4673ab",
          "dash": "solid"
         },
         "marker": {
          "symbol": "circle"
         },
         "mode": "lines",
         "name": "2026-Nov",
         "showlegend": false,
         "type": "scattergl",
         "x": {
          "bdata": "AAAAAAAA8D8AAAAAAAAAQAAAAAAAAAhAAAAAAAAAEEAAAAAAAAAUQAAAAAAAABhAAAAAAAAAHEAAAAAAAAAgQAAAAAAAACJAAAAAAAAAJEAAAAAAAAAmQAAAAAAAAChAAAAAAAAAKkA=",
          "dtype": "f8"
         },
         "xaxis": "x4",
         "y": {
          "bdata": "whZLDL7oaz9G3o5UZ+p5P/2cQxWAmYQ/whZLDL7oiz857q7HdnGRP9Q0Wi1j75M/MV8nNyRulT+sl+PuemyXP4T6bLCS6Zo/ADMpaOnnnD8fQRgWf2edP5t51M3VZZ8/7ErZlIAyoD8=",
          "dtype": "f8"
         },
         "yaxis": "y4"
        },
        {
         "hovertemplate": "color=2026-Nov<br>variable=default_rate_bal<br>default_month=%{x}<br>value=%{y}<extra></extra>",
         "legendgroup": "2026-Nov",
         "line": {
          "color": "#4673ab",
          "dash": "solid"
         },
         "marker": {
          "symbol": "circle"
         },
         "mode": "lines",
         "name": "2026-Nov",
         "showlegend": false,
         "type": "scattergl",
         "x": {
          "bdata": "AAAAAAAA8D8AAAAAAAAAQAAAAAAAAAhAAAAAAAAAEEAAAAAAAAAUQAAAAAAAABhAAAAAAAAAHEAAAAAAAAAgQAAAAAAAACJAAAAAAAAAJEAAAAAAAAAmQAAAAAAAAChAAAAAAAAAKkA=",
          "dtype": "f8"
         },
         "xaxis": "x",
         "y": {
          "bdata": "gmNMkVABPT9ue9jHImtKPwtczg5by0k/1rBgs/2BQz/OWRmwL6FAP1He+kAyUUg/vT5E20GCPT9xwgTUw4RHPxeiSdNDZlc/F9Ros8XPRj//6j6T9YsRPwAAVK96IUg/eMxTe4DULT8=",
          "dtype": "f8"
         },
         "yaxis": "y"
        },
        {
         "hovertemplate": "color=2026-Nov<br>variable=cum_default_rate_bal<br>default_month=%{x}<br>value=%{y}<extra></extra>",
         "legendgroup": "2026-Nov",
         "line": {
          "color": "#4673ab",
          "dash": "solid"
         },
         "marker": {
          "symbol": "circle"
         },
         "mode": "lines",
         "name": "2026-Nov",
         "showlegend": false,
         "type": "scattergl",
         "x": {
          "bdata": "AAAAAAAA8D8AAAAAAAAAQAAAAAAAAAhAAAAAAAAAEEAAAAAAAAAUQAAAAAAAABhAAAAAAAAAHEAAAAAAAAAgQAAAAAAAACJAAAAAAAAAJEAAAAAAAAAmQAAAAAAAAChAAAAAAAAAKkA=",
          "dtype": "f8"
         },
         "xaxis": "x2",
         "y": {
          "bdata": "gmNMkVABPT+YVj+I5XVUP05C04fJrWA/hG6r9EiOZT/4xLHglLZpP4x88HDhym8/MoIs1pS9cT+AGq1QLa50PwaDf0W+h3o/iJ3s+7ZhfT80mTnS5qd9P5oMEhQLVoA/zFv/FV3NgD8=",
          "dtype": "f8"
         },
         "yaxis": "y2"
        },
        {
         "hovertemplate": "color=2026-Dec<br>variable=id<br>default_month=%{x}<br>value=%{y}<extra></extra>",
         "legendgroup": "2026-Dec",
         "line": {
          "color": "#436fa6",
          "dash": "solid"
         },
         "marker": {
          "symbol": "circle"
         },
         "mode": "lines",
         "name": "2026-Dec",
         "showlegend": true,
         "type": "scattergl",
         "x": {
          "bdata": "AAAAAAAA8D8AAAAAAAAAQAAAAAAAAAhAAAAAAAAAEEAAAAAAAAAUQAAAAAAAABhAAAAAAAAAHEAAAAAAAAAgQAAAAAAAACJAAAAAAAAAJEAAAAAAAAAmQAAAAAAAAChA",
          "dtype": "f8"
         },
         "xaxis": "x5",
         "y": {
          "bdata": "AAAAAAANuUAAAAAAAA25QAAAAAAADblAAAAAAAANuUAAAAAAAA25QAAAAAAADblAAAAAAAANuUAAAAAAAA25QAAAAAAADblAAAAAAAANuUAAAAAAAA25QAAAAAAADblA",
          "dtype": "f8"
         },
         "yaxis": "y5"
        },
        {
         "hovertemplate": "color=2026-Dec<br>variable=balance<br>default_month=%{x}<br>value=%{y}<extra></extra>",
         "legendgroup": "2026-Dec",
         "line": {
          "color": "#436fa6",
          "dash": "solid"
         },
         "marker": {
          "symbol": "circle"
         },
         "mode": "lines",
         "name": "2026-Dec",
         "showlegend": false,
         "type": "scattergl",
         "x": {
          "bdata": "AAAAAAAA8D8AAAAAAAAAQAAAAAAAAAhAAAAAAAAAEEAAAAAAAAAUQAAAAAAAABhAAAAAAAAAHEAAAAAAAAAgQAAAAAAAACJAAAAAAAAAJEAAAAAAAAAmQAAAAAAAAChA",
          "dtype": "f8"
         },
         "xaxis": "x6",
         "y": {
          "bdata": "Xb+C8YlKekFdv4LxiUp6QV2/gvGJSnpBXb+C8YlKekFdv4LxiUp6QV2/gvGJSnpBXb+C8YlKekFdv4LxiUp6QV2/gvGJSnpBXb+C8YlKekFdv4LxiUp6QV2/gvGJSnpB",
          "dtype": "f8"
         },
         "yaxis": "y6"
        },
        {
         "hovertemplate": "color=2026-Dec<br>variable=default_rate<br>default_month=%{x}<br>value=%{y}<extra></extra>",
         "legendgroup": "2026-Dec",
         "line": {
          "color": "#436fa6",
          "dash": "solid"
         },
         "marker": {
          "symbol": "circle"
         },
         "mode": "lines",
         "name": "2026-Dec",
         "showlegend": false,
         "type": "scattergl",
         "x": {
          "bdata": "AAAAAAAA8D8AAAAAAAAAQAAAAAAAAAhAAAAAAAAAEEAAAAAAAAAUQAAAAAAAABhAAAAAAAAAHEAAAAAAAAAgQAAAAAAAACJAAAAAAAAAJEAAAAAAAAAmQAAAAAAAAChA",
          "dtype": "f8"
         },
         "xaxis": "x3",
         "y": {
          "bdata": "pg6Vkkj+Zj8qr0y7XGFtP3b1J7NYGmw/3mhxw2Cobj9ayLmaTEVoPw6C3qJQjFk/i+EmejwpYz/COwOrVNNqP9cnAnI44mE/3mhxw2CoPj/XJwJyOOJhP95occNgqE4/",
          "dtype": "f8"
         },
         "yaxis": "y3"
        },
        {
         "hovertemplate": "color=2026-Dec<br>variable=cum_default<br>default_month=%{x}<br>value=%{y}<extra></extra>",
         "legendgroup": "2026-Dec",
         "line": {
          "color": "#436fa6",
          "dash": "solid"
         },
         "marker": {
          "symbol": "circle"
         },
         "mode": "lines",
         "name": "2026-Dec",
         "showlegend": false,
         "type": "scattergl",
         "x": {
          "bdata": "AAAAAAAA8D8AAAAAAAAAQAAAAAAAAAhAAAAAAAAAEEAAAAAAAAAUQAAAAAAAABhAAAAAAAAAHEAAAAAAAAAgQAAAAAAAACJAAAAAAAAAJEAAAAAAAAAmQAAAAAAAAChA",
          "dtype": "f8"
         },
         "xaxis": "x4",
         "y": {
          "bdata": "pg6Vkkj+Zj/o3vCm0i96P9JsQoB/HoQ/CccesZfIiz+QnOZr9eyQP7GEFHa6hZI/4mBZBeLqlD9ayLmaTEWYP1UN+qiTgZo/+dIHLDX8mj/0F0g6fDidPzqjY0C/LZ4/",
          "dtype": "f8"
         },
         "yaxis": "y4"
        },
        {
         "hovertemplate": "color=2026-Dec<br>variable=default_rate_bal<br>default_month=%{x}<br>value=%{y}<extra></extra>",
         "legendgroup": "2026-Dec",
         "line": {
          "color": "#436fa6",
          "dash": "solid"
         },
         "marker": {
          "symbol": "circle"
         },
         "mode": "lines",
         "name": "2026-Dec",
         "showlegend": false,
         "type": "scattergl",
         "x": {
          "bdata": "AAAAAAAA8D8AAAAAAAAAQAAAAAAAAAhAAAAAAAAAEEAAAAAAAAAUQAAAAAAAABhAAAAAAAAAHEAAAAAAAAAgQAAAAAAAACJAAAAAAAAAJEAAAAAAAAAmQAAAAAAAAChA",
          "dtype": "f8"
         },
         "xaxis": "x",
         "y": {
          "bdata": "4l+eUqNhST8kr4xXIchIPxXIOJzxvUI/0XZ5tJwHQD+hwz6ApZ5HPyh8K7BD7zw/okXWx5UVSD/AbSt8G3tWPxQLDSUFv0g/ya5AwJ7bED9aSH1OcEpMPxzTBfa3qCw/",
          "dtype": "f8"
         },
         "yaxis": "y"
        },
        {
         "hovertemplate": "color=2026-Dec<br>variable=cum_default_rate_bal<br>default_month=%{x}<br>value=%{y}<extra></extra>",
         "legendgroup": "2026-Dec",
         "line": {
          "color": "#436fa6",
          "dash": "solid"
         },
         "marker": {
          "symbol": "circle"
         },
         "mode": "lines",
         "name": "2026-Dec",
         "showlegend": false,
         "type": "scattergl",
         "x": {
          "bdata": "AAAAAAAA8D8AAAAAAAAAQAAAAAAAAAhAAAAAAAAAEEAAAAAAAAAUQAAAAAAAABhAAAAAAAAAHEAAAAAAAAAgQAAAAAAAACJAAAAAAAAAJEAAAAAAAAAmQAAAAAAAAChA",
          "dtype": "f8"
         },
         "xaxis": "x2",
         "y": {
          "bdata": "4l+eUqNhST+DhxVV4hRZP8f1mJHtOWE/e1O3vtQ7ZT9jBMcefiNrP+hzzJRmwW4/qAJhA2Zjcj8Y3mviLAJ4P3t/DYcNGns/NoIOAnxdez9BK94LyuZ+P9pZjssPzH8/",
          "dtype": "f8"
         },
         "yaxis": "y2"
        },
        {
         "hovertemplate": "color=2027-Jan<br>variable=id<br>default_month=%{x}<br>value=%{y}<extra></extra>",
         "legendgroup": "2027-Jan",
         "line": {
          "color": "#406ba1",
          "dash": "solid"
         },
         "marker": {
          "symbol": "circle"
         },
         "mode": "lines",
         "name": "2027-Jan",
         "showlegend": true,
         "type": "scattergl",
         "x": {
          "bdata": "AAAAAAAA8D8AAAAAAAAAQAAAAAAAAAhAAAAAAAAAEEAAAAAAAAAUQAAAAAAAABhAAAAAAAAAHEAAAAAAAAAgQAAAAAAAACJAAAAAAAAAJEAAAAAAAAAmQA==",
          "dtype": "f8"
         },
         "xaxis": "x5",
         "y": {
          "bdata": "AAAAAAD9uUAAAAAAAP25QAAAAAAA/blAAAAAAAD9uUAAAAAAAP25QAAAAAAA/blAAAAAAAD9uUAAAAAAAP25QAAAAAAA/blAAAAAAAD9uUAAAAAAAP25QA==",
          "dtype": "f8"
         },
         "yaxis": "y5"
        },
        {
         "hovertemplate": "color=2027-Jan<br>variable=balance<br>default_month=%{x}<br>value=%{y}<extra></extra>",
         "legendgroup": "2027-Jan",
         "line": {
          "color": "#406ba1",
          "dash": "solid"
         },
         "marker": {
          "symbol": "circle"
         },
         "mode": "lines",
         "name": "2027-Jan",
         "showlegend": false,
         "type": "scattergl",
         "x": {
          "bdata": "AAAAAAAA8D8AAAAAAAAAQAAAAAAAAAhAAAAAAAAAEEAAAAAAAAAUQAAAAAAAABhAAAAAAAAAHEAAAAAAAAAgQAAAAAAAACJAAAAAAAAAJEAAAAAAAAAmQA==",
          "dtype": "f8"
         },
         "xaxis": "x6",
         "y": {
          "bdata": "3tmx+9YNe0He2bH71g17Qd7ZsfvWDXtB3tmx+9YNe0He2bH71g17Qd7ZsfvWDXtB3tmx+9YNe0He2bH71g17Qd7ZsfvWDXtB3tmx+9YNe0He2bH71g17QQ==",
          "dtype": "f8"
         },
         "yaxis": "y6"
        },
        {
         "hovertemplate": "color=2027-Jan<br>variable=default_rate<br>default_month=%{x}<br>value=%{y}<extra></extra>",
         "legendgroup": "2027-Jan",
         "line": {
          "color": "#406ba1",
          "dash": "solid"
         },
         "marker": {
          "symbol": "circle"
         },
         "mode": "lines",
         "name": "2027-Jan",
         "showlegend": false,
         "type": "scattergl",
         "x": {
          "bdata": "AAAAAAAA8D8AAAAAAAAAQAAAAAAAAAhAAAAAAAAAEEAAAAAAAAAUQAAAAAAAABhAAAAAAAAAHEAAAAAAAAAgQAAAAAAAACJAAAAAAAAAJEAAAAAAAAAmQA==",
          "dtype": "f8"
         },
         "xaxis": "x3",
         "y": {
          "bdata": "bP0+dwlSbD+UVu5m0RZrP0Skj4dBjW0/lFbuZtEWaz+DbQoFgbNjP6vGufRIeGI/lFbuZtEWaz/SH2nkED1hP4NtCgWBs0M/0h9p5BA9YT/SH2nkED1RPw==",
          "dtype": "f8"
         },
         "yaxis": "y3"
        },
        {
         "hovertemplate": "color=2027-Jan<br>variable=cum_default<br>default_month=%{x}<br>value=%{y}<extra></extra>",
         "legendgroup": "2027-Jan",
         "line": {
          "color": "#406ba1",
          "dash": "solid"
         },
         "marker": {
          "symbol": "circle"
         },
         "mode": "lines",
         "name": "2027-Jan",
         "showlegend": false,
         "type": "scattergl",
         "x": {
          "bdata": "AAAAAAAA8D8AAAAAAAAAQAAAAAAAAAhAAAAAAAAAEEAAAAAAAAAUQAAAAAAAABhAAAAAAAAAHEAAAAAAAAAgQAAAAAAAACJAAAAAAAAAJEAAAAAAAAAmQA==",
          "dtype": "f8"
         },
         "xaxis": "x4",
         "y": {
          "bdata": "bP0+dwlSbD8AqhZvbbR7PxE+bxmHPYU/ttMqczsDjD+LtzbaDXiQP2HwzfgWx5I/M7urJfEplj8u3zhCk1GYP5oyYUov75g/lFbuZtEWmz+R6DR1oiqcPw==",
          "dtype": "f8"
         },
         "yaxis": "y4"
        },
        {
         "hovertemplate": "color=2027-Jan<br>variable=default_rate_bal<br>default_month=%{x}<br>value=%{y}<extra></extra>",
         "legendgroup": "2027-Jan",
         "line": {
          "color": "#406ba1",
          "dash": "solid"
         },
         "marker": {
          "symbol": "circle"
         },
         "mode": "lines",
         "name": "2027-Jan",
         "showlegend": false,
         "type": "scattergl",
         "x": {
          "bdata": "AAAAAAAA8D8AAAAAAAAAQAAAAAAAAAhAAAAAAAAAEEAAAAAAAAAUQAAAAAAAABhAAAAAAAAAHEAAAAAAAAAgQAAAAAAAACJAAAAAAAAAJEAAAAAAAAAmQA==",
          "dtype": "f8"
         },
         "xaxis": "x",
         "y": {
          "bdata": "h+f3nDsVSD+v8QGrpTZCPyKliirKJz8/tG+8p8F5Rz94pbowfkQ/PwaaMvS4Z0c/qI5KD+coVj/6i2YuYQxIP1gqO1WUBRI/0ZU7xDV+Sz9LXEECQU0tPw==",
          "dtype": "f8"
         },
         "yaxis": "y"
        },
        {
         "hovertemplate": "color=2027-Jan<br>variable=cum_default_rate_bal<br>default_month=%{x}<br>value=%{y}<extra></extra>",
         "legendgroup": "2027-Jan",
         "line": {
          "color": "#406ba1",
          "dash": "solid"
         },
         "marker": {
          "symbol": "circle"
         },
         "mode": "lines",
         "name": "2027-Jan",
         "showlegend": false,
         "type": "scattergl",
         "x": {
          "bdata": "AAAAAAAA8D8AAAAAAAAAQAAAAAAAAAhAAAAAAAAAEEAAAAAAAAAUQAAAAAAAABhAAAAAAAAAHEAAAAAAAAAgQAAAAAAAACJAAAAAAAAAJEAAAAAAAAAmQA==",
          "dtype": "f8"
         },
         "xaxis": "x2",
         "y": {
          "bdata": "h+f3nDsVSD+b7Pyj8CVVP+SVny7j71w/3+Y+AWJWZD+OO1bH8T5oPw/iYgTgGG4/shQExqmWdD8x5tDrNZh3P9rSJT1M4Hc/lEWt9RJQez93UL/9fDp8Pw==",
          "dtype": "f8"
         },
         "yaxis": "y2"
        },
        {
         "hovertemplate": "color=2027-Feb<br>variable=id<br>default_month=%{x}<br>value=%{y}<extra></extra>",
         "legendgroup": "2027-Feb",
         "line": {
          "color": "#3e679b",
          "dash": "solid"
         },
         "marker": {
          "symbol": "circle"
         },
         "mode": "lines",
         "name": "2027-Feb",
         "showlegend": true,
         "type": "scattergl",
         "x": {
          "bdata": "AAAAAAAA8D8AAAAAAAAAQAAAAAAAAAhAAAAAAAAAEEAAAAAAAAAUQAAAAAAAABhAAAAAAAAAHEAAAAAAAAAgQAAAAAAAACJAAAAAAAAAJEA=",
          "dtype": "f8"
         },
         "xaxis": "x5",
         "y": {
          "bdata": "AAAAAADyukAAAAAAAPK6QAAAAAAA8rpAAAAAAADyukAAAAAAAPK6QAAAAAAA8rpAAAAAAADyukAAAAAAAPK6QAAAAAAA8rpAAAAAAADyukA=",
          "dtype": "f8"
         },
         "yaxis": "y5"
        },
        {
         "hovertemplate": "color=2027-Feb<br>variable=balance<br>default_month=%{x}<br>value=%{y}<extra></extra>",
         "legendgroup": "2027-Feb",
         "line": {
          "color": "#3e679b",
          "dash": "solid"
         },
         "marker": {
          "symbol": "circle"
         },
         "mode": "lines",
         "name": "2027-Feb",
         "showlegend": false,
         "type": "scattergl",
         "x": {
          "bdata": "AAAAAAAA8D8AAAAAAAAAQAAAAAAAAAhAAAAAAAAAEEAAAAAAAAAUQAAAAAAAABhAAAAAAAAAHEAAAAAAAAAgQAAAAAAAACJAAAAAAAAAJEA=",
          "dtype": "f8"
         },
         "xaxis": "x6",
         "y": {
          "bdata": "kQCE74s0fEGRAITvizR8QZEAhO+LNHxBkQCE74s0fEGRAITvizR8QZEAhO+LNHxBkQCE74s0fEGRAITvizR8QZEAhO+LNHxBkQCE74s0fEE=",
          "dtype": "f8"
         },
         "yaxis": "y6"
        },
        {
         "hovertemplate": "color=2027-Feb<br>variable=default_rate<br>default_month=%{x}<br>value=%{y}<extra></extra>",
         "legendgroup": "2027-Feb",
         "line": {
          "color": "#3e679b",
          "dash": "solid"
         },
         "marker": {
          "symbol": "circle"
         },
         "mode": "lines",
         "name": "2027-Feb",
         "showlegend": false,
         "type": "scattergl",
         "x": {
          "bdata": "AAAAAAAA8D8AAAAAAAAAQAAAAAAAAAhAAAAAAAAAEEAAAAAAAAAUQAAAAAAAABhAAAAAAAAAHEAAAAAAAAAgQAAAAAAAACJAAAAAAAAAJEA=",
          "dtype": "f8"
         },
         "xaxis": "x3",
         "y": {
          "bdata": "wiyNooIgaj/rjciCjoBsP8IsjaKCIGo/BRs00nCQZj9W3aqSiFBrP9TPkClQCHA/HqifIVOgYD+Zy1HCdsBHP0cJ2wFfAGM/HqifIVOgUD8=",
          "dtype": "f8"
         },
         "yaxis": "y3"
        },
        {
         "hovertemplate": "color=2027-Feb<br>variable=cum_default<br>default_month=%{x}<br>value=%{y}<extra></extra>",
         "legendgroup": "2027-Feb",
         "line": {
          "color": "#3e679b",
          "dash": "solid"
         },
         "marker": {
          "symbol": "circle"
         },
         "mode": "lines",
         "name": "2027-Feb",
         "showlegend": false,
         "type": "scattergl",
         "x": {
          "bdata": "AAAAAAAA8D8AAAAAAAAAQAAAAAAAAAhAAAAAAAAAEEAAAAAAAAAUQAAAAAAAABhAAAAAAAAAHEAAAAAAAAAgQAAAAAAAACJAAAAAAAAAJEA=",
          "dtype": "f8"
         },
         "xaxis": "x4",
         "y": {
          "bdata": "wiyNooIgaj9W3aqSiFB7P9y5+PFkMIQ/ncCFJoHUiT/5O5ilUVSQP+5v/K9lVpQ/8mQwFHBqlj9P80LKcyiXP3hUfqp/iJk/+k6Y3ISSmj8=",
          "dtype": "f8"
         },
         "yaxis": "y4"
        },
        {
         "hovertemplate": "color=2027-Feb<br>variable=default_rate_bal<br>default_month=%{x}<br>value=%{y}<extra></extra>",
         "legendgroup": "2027-Feb",
         "line": {
          "color": "#3e679b",
          "dash": "solid"
         },
         "marker": {
          "symbol": "circle"
         },
         "mode": "lines",
         "name": "2027-Feb",
         "showlegend": false,
         "type": "scattergl",
         "x": {
          "bdata": "AAAAAAAA8D8AAAAAAAAAQAAAAAAAAAhAAAAAAAAAEEAAAAAAAAAUQAAAAAAAABhAAAAAAAAAHEAAAAAAAAAgQAAAAAAAACJAAAAAAAAAJEA=",
          "dtype": "f8"
         },
         "xaxis": "x",
         "y": {
          "bdata": "t7nHTld4QT8a9r7xQeI9P29fx9J3hEY/9P3Ja/CqPj9WSbHLOopJPzdHKiWwzFY/RI7uVRsRRz9LK2AmlzYTPz75VWUjK0s/ghJaCxcbLD8=",
          "dtype": "f8"
         },
         "yaxis": "y"
        },
        {
         "hovertemplate": "color=2027-Feb<br>variable=cum_default_rate_bal<br>default_month=%{x}<br>value=%{y}<extra></extra>",
         "legendgroup": "2027-Feb",
         "line": {
          "color": "#3e679b",
          "dash": "solid"
         },
         "marker": {
          "symbol": "circle"
         },
         "mode": "lines",
         "name": "2027-Feb",
         "showlegend": false,
         "type": "scattergl",
         "x": {
          "bdata": "AAAAAAAA8D8AAAAAAAAAQAAAAAAAAAhAAAAAAAAAEEAAAAAAAAAUQAAAAAAAABhAAAAAAAAAHEAAAAAAAAAgQAAAAAAAACJAAAAAAAAAJEA=",
          "dtype": "f8"
         },
         "xaxis": "x2",
         "y": {
          "bdata": "t7nHTld4QT9imtMjvDRQPxpKNw34dls/y+QUFNqQYT8hNwHHaPNnP14ty2zgrHE/Jv+I1wOPdD/UfyI03tt0P/s+zaBCQXg/jw8oWRsieT8=",
          "dtype": "f8"
         },
         "yaxis": "y2"
        },
        {
         "hovertemplate": "color=2027-Mar<br>variable=id<br>default_month=%{x}<br>value=%{y}<extra></extra>",
         "legendgroup": "2027-Mar",
         "line": {
          "color": "#3b6396",
          "dash": "solid"
         },
         "marker": {
          "symbol": "circle"
         },
         "mode": "lines",
         "name": "2027-Mar",
         "showlegend": true,
         "type": "scattergl",
         "x": {
          "bdata": "AAAAAAAA8D8AAAAAAAAAQAAAAAAAAAhAAAAAAAAAEEAAAAAAAAAUQAAAAAAAABhAAAAAAAAAHEAAAAAAAAAgQAAAAAAAACJA",
          "dtype": "f8"
         },
         "xaxis": "x5",
         "y": {
          "bdata": "AAAAAADbu0AAAAAAANu7QAAAAAAA27tAAAAAAADbu0AAAAAAANu7QAAAAAAA27tAAAAAAADbu0AAAAAAANu7QAAAAAAA27tA",
          "dtype": "f8"
         },
         "yaxis": "y5"
        },
        {
         "hovertemplate": "color=2027-Mar<br>variable=balance<br>default_month=%{x}<br>value=%{y}<extra></extra>",
         "legendgroup": "2027-Mar",
         "line": {
          "color": "#3b6396",
          "dash": "solid"
         },
         "marker": {
          "symbol": "circle"
         },
         "mode": "lines",
         "name": "2027-Mar",
         "showlegend": false,
         "type": "scattergl",
         "x": {
          "bdata": "AAAAAAAA8D8AAAAAAAAAQAAAAAAAAAhAAAAAAAAAEEAAAAAAAAAUQAAAAAAAABhAAAAAAAAAHEAAAAAAAAAgQAAAAAAAACJA",
          "dtype": "f8"
         },
         "xaxis": "x6",
         "y": {
          "bdata": "E6lNRCUPfUETqU1EJQ99QROpTUQlD31BE6lNRCUPfUETqU1EJQ99QROpTUQlD31BE6lNRCUPfUETqU1EJQ99QROpTUQlD31B",
          "dtype": "f8"
         },
         "yaxis": "y6"
        },
        {
         "hovertemplate": "color=2027-Mar<br>variable=default_rate<br>default_month=%{x}<br>value=%{y}<extra></extra>",
         "legendgroup": "2027-Mar",
         "line": {
          "color": "#3b6396",
          "dash": "solid"
         },
         "marker": {
          "symbol": "circle"
         },
         "mode": "lines",
         "name": "2027-Mar",
         "showlegend": false,
         "type": "scattergl",
         "x": {
          "bdata": "AAAAAAAA8D8AAAAAAAAAQAAAAAAAAAhAAAAAAAAAEEAAAAAAAAAUQAAAAAAAABhAAAAAAAAAHEAAAAAAAAAgQAAAAAAAACJA",
          "dtype": "f8"
         },
         "xaxis": "x3",
         "y": {
          "bdata": "GonPsSWSaz+tPf7i90VpP4pMxCyz02U/0C44mTy4bD/VYm0bTKhwP9OmW0WcrWQ/+g+5p0AVUD9mW4p2bmFiP0DyLBTK+VY/",
          "dtype": "f8"
         },
         "yaxis": "y3"
        },
        {
         "hovertemplate": "color=2027-Mar<br>variable=cum_default<br>default_month=%{x}<br>value=%{y}<extra></extra>",
         "legendgroup": "2027-Mar",
         "line": {
          "color": "#3b6396",
          "dash": "solid"
         },
         "marker": {
          "symbol": "circle"
         },
         "mode": "lines",
         "name": "2027-Mar",
         "showlegend": false,
         "type": "scattergl",
         "x": {
          "bdata": "AAAAAAAA8D8AAAAAAAAAQAAAAAAAAAhAAAAAAAAAEEAAAAAAAAAUQAAAAAAAABhAAAAAAAAAHEAAAAAAAAAgQAAAAAAAACJA",
          "dtype": "f8"
         },
         "xaxis": "x4",
         "y": {
          "bdata": "GonPsSWSaz9k42bKDmx6P9SEZDD0qoI/iJCyVgPZiT/6oDSylBaRP9QV4DpIrJM/1KZbRZytlD9A8iwUyvmWP2TBb7VmaZg/",
          "dtype": "f8"
         },
         "yaxis": "y4"
        },
        {
         "hovertemplate": "color=2027-Mar<br>variable=default_rate_bal<br>default_month=%{x}<br>value=%{y}<extra></extra>",
         "legendgroup": "2027-Mar",
         "line": {
          "color": "#3b6396",
          "dash": "solid"
         },
         "marker": {
          "symbol": "circle"
         },
         "mode": "lines",
         "name": "2027-Mar",
         "showlegend": false,
         "type": "scattergl",
         "x": {
          "bdata": "AAAAAAAA8D8AAAAAAAAAQAAAAAAAAAhAAAAAAAAAEEAAAAAAAAAUQAAAAAAAABhAAAAAAAAAHEAAAAAAAAAgQAAAAAAAACJA",
          "dtype": "f8"
         },
         "xaxis": "x",
         "y": {
          "bdata": "9SlEg3QBPT81haBVFNtFP5HcVFo9xD0/YGUa0VEEST8NTuWYQ6hWP7cPGC5U4Uc/dpnTI42yFD/biW8Iw15KP4QkHSa8xS0/",
          "dtype": "f8"
         },
         "yaxis": "y"
        },
        {
         "hovertemplate": "color=2027-Mar<br>variable=cum_default_rate_bal<br>default_month=%{x}<br>value=%{y}<extra></extra>",
         "legendgroup": "2027-Mar",
         "line": {
          "color": "#3b6396",
          "dash": "solid"
         },
         "marker": {
          "symbol": "circle"
         },
         "mode": "lines",
         "name": "2027-Mar",
         "showlegend": false,
         "type": "scattergl",
         "x": {
          "bdata": "AAAAAAAA8D8AAAAAAAAAQAAAAAAAAAhAAAAAAAAAEEAAAAAAAAAUQAAAAAAAABhAAAAAAAAAHEAAAAAAAAAgQAAAAAAAACJA",
          "dtype": "f8"
         },
         "xaxis": "x2",
         "y": {
          "bdata": "9SlEg3QBPT8YTaFL5y1SPzyENqL2nlk/dtthxY8QYz98gtSRsWRuPzVDrU6DLnI/m5E8g02Bcj/WgkrkJc11P/pre8VTu3Y/",
          "dtype": "f8"
         },
         "yaxis": "y2"
        },
        {
         "hovertemplate": "color=2027-Apr<br>variable=id<br>default_month=%{x}<br>value=%{y}<extra></extra>",
         "legendgroup": "2027-Apr",
         "line": {
          "color": "#395f90",
          "dash": "solid"
         },
         "marker": {
          "symbol": "circle"
         },
         "mode": "lines",
         "name": "2027-Apr",
         "showlegend": true,
         "type": "scattergl",
         "x": {
          "bdata": "AAAAAAAA8D8AAAAAAAAAQAAAAAAAAAhAAAAAAAAAEEAAAAAAAAAUQAAAAAAAABhAAAAAAAAAHEAAAAAAAAAgQA==",
          "dtype": "f8"
         },
         "xaxis": "x5",
         "y": {
          "bdata": "AAAAAADbvEAAAAAAANu8QAAAAAAA27xAAAAAAADbvEAAAAAAANu8QAAAAAAA27xAAAAAAADbvEAAAAAAANu8QA==",
          "dtype": "f8"
         },
         "yaxis": "y5"
        },
        {
         "hovertemplate": "color=2027-Apr<br>variable=balance<br>default_month=%{x}<br>value=%{y}<extra></extra>",
         "legendgroup": "2027-Apr",
         "line": {
          "color": "#395f90",
          "dash": "solid"
         },
         "marker": {
          "symbol": "circle"
         },
         "mode": "lines",
         "name": "2027-Apr",
         "showlegend": false,
         "type": "scattergl",
         "x": {
          "bdata": "AAAAAAAA8D8AAAAAAAAAQAAAAAAAAAhAAAAAAAAAEEAAAAAAAAAUQAAAAAAAABhAAAAAAAAAHEAAAAAAAAAgQA==",
          "dtype": "f8"
         },
         "xaxis": "x6",
         "y": {
          "bdata": "AvTI5A9NfkEC9MjkD01+QQL0yOQPTX5BAvTI5A9NfkEC9MjkD01+QQL0yOQPTX5BAvTI5A9NfkEC9MjkD01+QQ==",
          "dtype": "f8"
         },
         "yaxis": "y6"
        },
        {
         "hovertemplate": "color=2027-Apr<br>variable=default_rate<br>default_month=%{x}<br>value=%{y}<extra></extra>",
         "legendgroup": "2027-Apr",
         "line": {
          "color": "#395f90",
          "dash": "solid"
         },
         "marker": {
          "symbol": "circle"
         },
         "mode": "lines",
         "name": "2027-Apr",
         "showlegend": false,
         "type": "scattergl",
         "x": {
          "bdata": "AAAAAAAA8D8AAAAAAAAAQAAAAAAAAAhAAAAAAAAAEEAAAAAAAAAUQAAAAAAAABhAAAAAAAAAHEAAAAAAAAAgQA==",
          "dtype": "f8"
         },
         "xaxis": "x3",
         "y": {
          "bdata": "9TUxnL9laD+CUXA1DhJlP2ga8gJxuWs/eOgktU9Mcj8kP0bP2UlnP/U1MZy/ZVg/glFwNQ4SZT/1NTGcv2VYPw==",
          "dtype": "f8"
         },
         "yaxis": "y3"
        },
        {
         "hovertemplate": "color=2027-Apr<br>variable=cum_default<br>default_month=%{x}<br>value=%{y}<extra></extra>",
         "legendgroup": "2027-Apr",
         "line": {
          "color": "#395f90",
          "dash": "solid"
         },
         "marker": {
          "symbol": "circle"
         },
         "mode": "lines",
         "name": "2027-Apr",
         "showlegend": false,
         "type": "scattergl",
         "x": {
          "bdata": "AAAAAAAA8D8AAAAAAAAAQAAAAAAAAAhAAAAAAAAAEEAAAAAAAAAUQAAAAAAAABhAAAAAAAAAHEAAAAAAAAAgQA==",
          "dtype": "f8"
         },
         "xaxis": "x4",
         "y": {
          "bdata": "9TUxnL9laD+8w9Do5rt2P3joJLVPTII/tFy3j3dyiz8+dsQBd6KQP56Jh/vSKJI/zpM1whTLlD8tp/i7cFGWPw==",
          "dtype": "f8"
         },
         "yaxis": "y4"
        },
        {
         "hovertemplate": "color=2027-Apr<br>variable=default_rate_bal<br>default_month=%{x}<br>value=%{y}<extra></extra>",
         "legendgroup": "2027-Apr",
         "line": {
          "color": "#395f90",
          "dash": "solid"
         },
         "marker": {
          "symbol": "circle"
         },
         "mode": "lines",
         "name": "2027-Apr",
         "showlegend": false,
         "type": "scattergl",
         "x": {
          "bdata": "AAAAAAAA8D8AAAAAAAAAQAAAAAAAAAhAAAAAAAAAEEAAAAAAAAAUQAAAAAAAABhAAAAAAAAAHEAAAAAAAAAgQA==",
          "dtype": "f8"
         },
         "xaxis": "x",
         "y": {
          "bdata": "uShZGcX1RD/JZTNC7os8PymeGBXY/Uc/4L+DZmHnVT+bTOf5SB5HPzzgm7JWFxk/xZl8yl31TD9sD4fzwpgsPw==",
          "dtype": "f8"
         },
         "yaxis": "y"
        },
        {
         "hovertemplate": "color=2027-Apr<br>variable=cum_default_rate_bal<br>default_month=%{x}<br>value=%{y}<extra></extra>",
         "legendgroup": "2027-Apr",
         "line": {
          "color": "#395f90",
          "dash": "solid"
         },
         "marker": {
          "symbol": "circle"
         },
         "mode": "lines",
         "name": "2027-Apr",
         "showlegend": false,
         "type": "scattergl",
         "x": {
          "bdata": "AAAAAAAA8D8AAAAAAAAAQAAAAAAAAAhAAAAAAAAAEEAAAAAAAAAUQAAAAAAAABhAAAAAAAAAHEAAAAAAAAAgQA==",
          "dtype": "f8"
         },
         "xaxis": "x2",
         "y": {
          "bdata": "uShZGcX1RD/PbTkd3p1RP+O8xSfKnF0/Yr4kxxXCaT+IkZ4FqIlvP0W4mV0xKXA/fkvpFt3Hcz/5g4Uuo6x0Pw==",
          "dtype": "f8"
         },
         "yaxis": "y2"
        },
        {
         "hovertemplate": "color=2027-May<br>variable=id<br>default_month=%{x}<br>value=%{y}<extra></extra>",
         "legendgroup": "2027-May",
         "line": {
          "color": "#365b8b",
          "dash": "solid"
         },
         "marker": {
          "symbol": "circle"
         },
         "mode": "lines",
         "name": "2027-May",
         "showlegend": true,
         "type": "scattergl",
         "x": {
          "bdata": "AAAAAAAA8D8AAAAAAAAAQAAAAAAAAAhAAAAAAAAAEEAAAAAAAAAUQAAAAAAAABhAAAAAAAAAHEA=",
          "dtype": "f8"
         },
         "xaxis": "x5",
         "y": {
          "bdata": "AAAAAADKvUAAAAAAAMq9QAAAAAAAyr1AAAAAAADKvUAAAAAAAMq9QAAAAAAAyr1AAAAAAADKvUA=",
          "dtype": "f8"
         },
         "yaxis": "y5"
        },
        {
         "hovertemplate": "color=2027-May<br>variable=balance<br>default_month=%{x}<br>value=%{y}<extra></extra>",
         "legendgroup": "2027-May",
         "line": {
          "color": "#365b8b",
          "dash": "solid"
         },
         "marker": {
          "symbol": "circle"
         },
         "mode": "lines",
         "name": "2027-May",
         "showlegend": false,
         "type": "scattergl",
         "x": {
          "bdata": "AAAAAAAA8D8AAAAAAAAAQAAAAAAAAAhAAAAAAAAAEEAAAAAAAAAUQAAAAAAAABhAAAAAAAAAHEA=",
          "dtype": "f8"
         },
         "xaxis": "x6",
         "y": {
          "bdata": "PQEKtng6f0E9AQq2eDp/QT0BCrZ4On9BPQEKtng6f0E9AQq2eDp/QT0BCrZ4On9BPQEKtng6f0E=",
          "dtype": "f8"
         },
         "yaxis": "y6"
        },
        {
         "hovertemplate": "color=2027-May<br>variable=default_rate<br>default_month=%{x}<br>value=%{y}<extra></extra>",
         "legendgroup": "2027-May",
         "line": {
          "color": "#365b8b",
          "dash": "solid"
         },
         "marker": {
          "symbol": "circle"
         },
         "mode": "lines",
         "name": "2027-May",
         "showlegend": false,
         "type": "scattergl",
         "x": {
          "bdata": "AAAAAAAA8D8AAAAAAAAAQAAAAAAAAAhAAAAAAAAAEEAAAAAAAAAUQAAAAAAAABhAAAAAAAAAHEA=",
          "dtype": "f8"
         },
         "xaxis": "x3",
         "y": {
          "bdata": "aRSQRgFpZD/bGrCtAdtqP7oRmBuBuXE/yBmAnAHIaT/IGYCcAchZP3wVwFcBfGU/ohcgegGiVz8=",
          "dtype": "f8"
         },
         "yaxis": "y3"
        },
        {
         "hovertemplate": "color=2027-May<br>variable=cum_default<br>default_month=%{x}<br>value=%{y}<extra></extra>",
         "legendgroup": "2027-May",
         "line": {
          "color": "#365b8b",
          "dash": "solid"
         },
         "marker": {
          "symbol": "circle"
         },
         "mode": "lines",
         "name": "2027-May",
         "showlegend": false,
         "type": "scattergl",
         "x": {
          "bdata": "AAAAAAAA8D8AAAAAAAAAQAAAAAAAAAhAAAAAAAAAEEAAAAAAAAAUQAAAAAAAABhAAAAAAAAAHEA=",
          "dtype": "f8"
         },
         "xaxis": "x4",
         "y": {
          "bdata": "aRSQRgFpZD+iFyB6AaJ3P64U3ErBrYQ/IBv8scEfiz9ZHozlwViOP9wRvh3h25E/VhNgNQFWkz8=",
          "dtype": "f8"
         },
         "yaxis": "y4"
        },
        {
         "hovertemplate": "color=2027-May<br>variable=default_rate_bal<br>default_month=%{x}<br>value=%{y}<extra></extra>",
         "legendgroup": "2027-May",
         "line": {
          "color": "#365b8b",
          "dash": "solid"
         },
         "marker": {
          "symbol": "circle"
         },
         "mode": "lines",
         "name": "2027-May",
         "showlegend": false,
         "type": "scattergl",
         "x": {
          "bdata": "AAAAAAAA8D8AAAAAAAAAQAAAAAAAAAhAAAAAAAAAEEAAAAAAAAAUQAAAAAAAABhAAAAAAAAAHEA=",
          "dtype": "f8"
         },
         "xaxis": "x",
         "y": {
          "bdata": "z0bWxOiyOz/gziKZc0dHPx1yRRncQFU/gshXJyScRj9snDftQKgaPzEJlf4aTkw/Kd3C6lu/Kz8=",
          "dtype": "f8"
         },
         "yaxis": "y"
        },
        {
         "hovertemplate": "color=2027-May<br>variable=cum_default_rate_bal<br>default_month=%{x}<br>value=%{y}<extra></extra>",
         "legendgroup": "2027-May",
         "line": {
          "color": "#365b8b",
          "dash": "solid"
         },
         "marker": {
          "symbol": "circle"
         },
         "mode": "lines",
         "name": "2027-May",
         "showlegend": false,
         "type": "scattergl",
         "x": {
          "bdata": "AAAAAAAA8D8AAAAAAAAAQAAAAAAAAAhAAAAAAAAAEEAAAAAAAAAUQAAAAAAAABhAAAAAAAAAHEA=",
          "dtype": "f8"
         },
         "xaxis": "x2",
         "y": {
          "bdata": "z0bWxOiyOz8k+cb9c5BSP6A1hguo6GM/wSdcFbGPaT+k5MUc82RqP3iTNe48vHA/YqqLzTeacT8=",
          "dtype": "f8"
         },
         "yaxis": "y2"
        },
        {
         "hovertemplate": "color=2027-Jun<br>variable=id<br>default_month=%{x}<br>value=%{y}<extra></extra>",
         "legendgroup": "2027-Jun",
         "line": {
          "color": "#345785",
          "dash": "solid"
         },
         "marker": {
          "symbol": "circle"
         },
         "mode": "lines",
         "name": "2027-Jun",
         "showlegend": true,
         "type": "scattergl",
         "x": {
          "bdata": "AAAAAAAA8D8AAAAAAAAAQAAAAAAAAAhAAAAAAAAAEEAAAAAAAAAUQAAAAAAAABhA",
          "dtype": "f8"
         },
         "xaxis": "x5",
         "y": {
          "bdata": "AAAAAADIvkAAAAAAAMi+QAAAAAAAyL5AAAAAAADIvkAAAAAAAMi+QAAAAAAAyL5A",
          "dtype": "f8"
         },
         "yaxis": "y5"
        },
        {
         "hovertemplate": "color=2027-Jun<br>variable=balance<br>default_month=%{x}<br>value=%{y}<extra></extra>",
         "legendgroup": "2027-Jun",
         "line": {
          "color": "#345785",
          "dash": "solid"
         },
         "marker": {
          "symbol": "circle"
         },
         "mode": "lines",
         "name": "2027-Jun",
         "showlegend": false,
         "type": "scattergl",
         "x": {
          "bdata": "AAAAAAAA8D8AAAAAAAAAQAAAAAAAAAhAAAAAAAAAEEAAAAAAAAAUQAAAAAAAABhA",
          "dtype": "f8"
         },
         "xaxis": "x6",
         "y": {
          "bdata": "US5yDqpAgEFRLnIOqkCAQVEucg6qQIBBUS5yDqpAgEFRLnIOqkCAQVEucg6qQIBB",
          "dtype": "f8"
         },
         "yaxis": "y6"
        },
        {
         "hovertemplate": "color=2027-Jun<br>variable=default_rate<br>default_month=%{x}<br>value=%{y}<extra></extra>",
         "legendgroup": "2027-Jun",
         "line": {
          "color": "#345785",
          "dash": "solid"
         },
         "marker": {
          "symbol": "circle"
         },
         "mode": "lines",
         "name": "2027-Jun",
         "showlegend": false,
         "type": "scattergl",
         "x": {
          "bdata": "AAAAAAAA8D8AAAAAAAAAQAAAAAAAAAhAAAAAAAAAEEAAAAAAAAAUQAAAAAAAABhA",
          "dtype": "f8"
         },
         "xaxis": "x3",
         "y": {
          "bdata": "ShvvqGb9aT9VSrKiPidxPx5sYNVD82g/66F5DFCsYT/yvNEBIelnP+uheQxQrGE/",
          "dtype": "f8"
         },
         "yaxis": "y3"
        },
        {
         "hovertemplate": "color=2027-Jun<br>variable=cum_default<br>default_month=%{x}<br>value=%{y}<extra></extra>",
         "legendgroup": "2027-Jun",
         "line": {
          "color": "#345785",
          "dash": "solid"
         },
         "marker": {
          "symbol": "circle"
         },
         "mode": "lines",
         "name": "2027-Jun",
         "showlegend": false,
         "type": "scattergl",
         "x": {
          "bdata": "AAAAAAAA8D8AAAAAAAAAQAAAAAAAAAhAAAAAAAAAEEAAAAAAAAAUQAAAAAAAABhA",
          "dtype": "f8"
         },
         "xaxis": "x4",
         "y": {
          "bdata": "ShvvqGb9aT/61yn38SV+PwQH7fDJT4U/f28L9N26iT+83n80JrWPP5sjzxsdEJI/",
          "dtype": "f8"
         },
         "yaxis": "y4"
        },
        {
         "hovertemplate": "color=2027-Jun<br>variable=default_rate_bal<br>default_month=%{x}<br>value=%{y}<extra></extra>",
         "legendgroup": "2027-Jun",
         "line": {
          "color": "#345785",
          "dash": "solid"
         },
         "marker": {
          "symbol": "circle"
         },
         "mode": "lines",
         "name": "2027-Jun",
         "showlegend": false,
         "type": "scattergl",
         "x": {
          "bdata": "AAAAAAAA8D8AAAAAAAAAQAAAAAAAAAhAAAAAAAAAEEAAAAAAAAAUQAAAAAAAABhA",
          "dtype": "f8"
         },
         "xaxis": "x",
         "y": {
          "bdata": "LAJ/IV5dRj8HjkhZJWtUP7sLnU3JuEU/02oo0FgkIT9Df5vxLZlLPyiiCPonEjM/",
          "dtype": "f8"
         },
         "yaxis": "y"
        },
        {
         "hovertemplate": "color=2027-Jun<br>variable=cum_default_rate_bal<br>default_month=%{x}<br>value=%{y}<extra></extra>",
         "legendgroup": "2027-Jun",
         "line": {
          "color": "#345785",
          "dash": "solid"
         },
         "marker": {
          "symbol": "circle"
         },
         "mode": "lines",
         "name": "2027-Jun",
         "showlegend": false,
         "type": "scattergl",
         "x": {
          "bdata": "AAAAAAAA8D8AAAAAAAAAQAAAAAAAAAhAAAAAAAAAEEAAAAAAAAAUQAAAAAAAABhA",
          "dtype": "f8"
         },
         "xaxis": "x2",
         "y": {
          "bdata": "LAJ/IV5dRj8dDwhq1JlfP31Ka4gcO2U/KtFtFWJNZj/7sNSRrTNtP0DFFZHylW8/",
          "dtype": "f8"
         },
         "yaxis": "y2"
        },
        {
         "hovertemplate": "color=2027-Jul<br>variable=id<br>default_month=%{x}<br>value=%{y}<extra></extra>",
         "legendgroup": "2027-Jul",
         "line": {
          "color": "#32537f",
          "dash": "solid"
         },
         "marker": {
          "symbol": "circle"
         },
         "mode": "lines",
         "name": "2027-Jul",
         "showlegend": true,
         "type": "scattergl",
         "x": {
          "bdata": "AAAAAAAA8D8AAAAAAAAAQAAAAAAAAAhAAAAAAAAAEEAAAAAAAAAUQA==",
          "dtype": "f8"
         },
         "xaxis": "x5",
         "y": {
          "bdata": "AAAAAADJv0AAAAAAAMm/QAAAAAAAyb9AAAAAAADJv0AAAAAAAMm/QA==",
          "dtype": "f8"
         },
         "yaxis": "y5"
        },
        {
         "hovertemplate": "color=2027-Jul<br>variable=balance<br>default_month=%{x}<br>value=%{y}<extra></extra>",
         "legendgroup": "2027-Jul",
         "line": {
          "color": "#32537f",
          "dash": "solid"
         },
         "marker": {
          "symbol": "circle"
         },
         "mode": "lines",
         "name": "2027-Jul",
         "showlegend": false,
         "type": "scattergl",
         "x": {
          "bdata": "AAAAAAAA8D8AAAAAAAAAQAAAAAAAAAhAAAAAAAAAEEAAAAAAAAAUQA==",
          "dtype": "f8"
         },
         "xaxis": "x6",
         "y": {
          "bdata": "c6axiZvagEFzprGJm9qAQXOmsYmb2oBBc6axiZvagEFzprGJm9qAQQ==",
          "dtype": "f8"
         },
         "yaxis": "y6"
        },
        {
         "hovertemplate": "color=2027-Jul<br>variable=default_rate<br>default_month=%{x}<br>value=%{y}<extra></extra>",
         "legendgroup": "2027-Jul",
         "line": {
          "color": "#32537f",
          "dash": "solid"
         },
         "marker": {
          "symbol": "circle"
         },
         "mode": "lines",
         "name": "2027-Jul",
         "showlegend": false,
         "type": "scattergl",
         "x": {
          "bdata": "AAAAAAAA8D8AAAAAAAAAQAAAAAAAAAhAAAAAAAAAEEAAAAAAAAAUQA==",
          "dtype": "f8"
         },
         "xaxis": "x3",
         "y": {
          "bdata": "zr13Eo2ccD9bK65ghyloP2AJJo9qHWE/ollnU/0saj9gCSaPah1hPw==",
          "dtype": "f8"
         },
         "yaxis": "y3"
        },
        {
         "hovertemplate": "color=2027-Jul<br>variable=cum_default<br>default_month=%{x}<br>value=%{y}<extra></extra>",
         "legendgroup": "2027-Jul",
         "line": {
          "color": "#32537f",
          "dash": "solid"
         },
         "marker": {
          "symbol": "circle"
         },
         "mode": "lines",
         "name": "2027-Jul",
         "showlegend": false,
         "type": "scattergl",
         "x": {
          "bdata": "AAAAAAAA8D8AAAAAAAAAQAAAAAAAAAhAAAAAAAAAEEAAAAAAAAAUQA==",
          "dtype": "f8"
         },
         "xaxis": "x4",
         "y": {
          "bdata": "zr13Eo2ccD98087CULF8PxbsMAUDoII/fsIKWkIriT/WRNT9nHKNPw==",
          "dtype": "f8"
         },
         "yaxis": "y4"
        },
        {
         "hovertemplate": "color=2027-Jul<br>variable=default_rate_bal<br>default_month=%{x}<br>value=%{y}<extra></extra>",
         "legendgroup": "2027-Jul",
         "line": {
          "color": "#32537f",
          "dash": "solid"
         },
         "marker": {
          "symbol": "circle"
         },
         "mode": "lines",
         "name": "2027-Jul",
         "showlegend": false,
         "type": "scattergl",
         "x": {
          "bdata": "AAAAAAAA8D8AAAAAAAAAQAAAAAAAAAhAAAAAAAAAEEAAAAAAAAAUQA==",
          "dtype": "f8"
         },
         "xaxis": "x",
         "y": {
          "bdata": "kj/TxaSwUz+6YDdEYfJEP7UggszFhyA/qAQk1N58Sz8NkoCG9mMyPw==",
          "dtype": "f8"
         },
         "yaxis": "y"
        },
        {
         "hovertemplate": "color=2027-Jul<br>variable=cum_default_rate_bal<br>default_month=%{x}<br>value=%{y}<extra></extra>",
         "legendgroup": "2027-Jul",
         "line": {
          "color": "#32537f",
          "dash": "solid"
         },
         "marker": {
          "symbol": "circle"
         },
         "mode": "lines",
         "name": "2027-Jul",
         "showlegend": false,
         "type": "scattergl",
         "x": {
          "bdata": "AAAAAAAA8D8AAAAAAAAAQAAAAAAAAAhAAAAAAAAAEEAAAAAAAAAUQA==",
          "dtype": "f8"
         },
         "xaxis": "x2",
         "y": {
          "bdata": "kj/TxaSwUz/v7+5n1SlePwOavxBnHWA/LZvIxZ78Zj9urZiWHUlpPw==",
          "dtype": "f8"
         },
         "yaxis": "y2"
        },
        {
         "hovertemplate": "color=2027-Aug<br>variable=id<br>default_month=%{x}<br>value=%{y}<extra></extra>",
         "legendgroup": "2027-Aug",
         "line": {
          "color": "#2f4f7a",
          "dash": "solid"
         },
         "marker": {
          "symbol": "circle"
         },
         "mode": "lines",
         "name": "2027-Aug",
         "showlegend": true,
         "type": "scattergl",
         "x": {
          "bdata": "AAAAAAAA8D8AAAAAAAAAQAAAAAAAAAhAAAAAAAAAEEA=",
          "dtype": "f8"
         },
         "xaxis": "x5",
         "y": {
          "bdata": "AAAAAIBgwEAAAAAAgGDAQAAAAACAYMBAAAAAAIBgwEA=",
          "dtype": "f8"
         },
         "yaxis": "y5"
        },
        {
         "hovertemplate": "color=2027-Aug<br>variable=balance<br>default_month=%{x}<br>value=%{y}<extra></extra>",
         "legendgroup": "2027-Aug",
         "line": {
          "color": "#2f4f7a",
          "dash": "solid"
         },
         "marker": {
          "symbol": "circle"
         },
         "mode": "lines",
         "name": "2027-Aug",
         "showlegend": false,
         "type": "scattergl",
         "x": {
          "bdata": "AAAAAAAA8D8AAAAAAAAAQAAAAAAAAAhAAAAAAAAAEEA=",
          "dtype": "f8"
         },
         "xaxis": "x6",
         "y": {
          "bdata": "IB9QZxc4gUEgH1BnFziBQSAfUGcXOIFBIB9QZxc4gUE=",
          "dtype": "f8"
         },
         "yaxis": "y6"
        },
        {
         "hovertemplate": "color=2027-Aug<br>variable=default_rate<br>default_month=%{x}<br>value=%{y}<extra></extra>",
         "legendgroup": "2027-Aug",
         "line": {
          "color": "#2f4f7a",
          "dash": "solid"
         },
         "marker": {
          "symbol": "circle"
         },
         "mode": "lines",
         "name": "2027-Aug",
         "showlegend": false,
         "type": "scattergl",
         "x": {
          "bdata": "AAAAAAAA8D8AAAAAAAAAQAAAAAAAAAhAAAAAAAAAEEA=",
          "dtype": "f8"
         },
         "xaxis": "x3",
         "y": {
          "bdata": "O+7F7ZRyZz9qM2wo1JtgP8BslgHMZmk/MfEkxiaKYz8=",
          "dtype": "f8"
         },
         "yaxis": "y3"
        },
        {
         "hovertemplate": "color=2027-Aug<br>variable=cum_default<br>default_month=%{x}<br>value=%{y}<extra></extra>",
         "legendgroup": "2027-Aug",
         "line": {
          "color": "#2f4f7a",
          "dash": "solid"
         },
         "marker": {
          "symbol": "circle"
         },
         "mode": "lines",
         "name": "2027-Aug",
         "showlegend": false,
         "type": "scattergl",
         "x": {
          "bdata": "AAAAAAAA8D8AAAAAAAAAQAAAAAAAAAhAAAAAAAAAEEA=",
          "dtype": "f8"
         },
         "xaxis": "x4",
         "y": {
          "bdata": "O+7F7ZRyZz/SEBmLNAd0P5kj8kVNXYA/5l9799Y/hT8=",
          "dtype": "f8"
         },
         "yaxis": "y4"
        },
        {
         "hovertemplate": "color=2027-Aug<br>variable=default_rate_bal<br>default_month=%{x}<br>value=%{y}<extra></extra>",
         "legendgroup": "2027-Aug",
         "line": {
          "color": "#2f4f7a",
          "dash": "solid"
         },
         "marker": {
          "symbol": "circle"
         },
         "mode": "lines",
         "name": "2027-Aug",
         "showlegend": false,
         "type": "scattergl",
         "x": {
          "bdata": "AAAAAAAA8D8AAAAAAAAAQAAAAAAAAAhAAAAAAAAAEEA=",
          "dtype": "f8"
         },
         "xaxis": "x",
         "y": {
          "bdata": "10rNfqiARD+mX2YuBy4gP0tC3R6j50o/kGYuibbkMj8=",
          "dtype": "f8"
         },
         "yaxis": "y"
        },
        {
         "hovertemplate": "color=2027-Aug<br>variable=cum_default_rate_bal<br>default_month=%{x}<br>value=%{y}<extra></extra>",
         "legendgroup": "2027-Aug",
         "line": {
          "color": "#2f4f7a",
          "dash": "solid"
         },
         "marker": {
          "symbol": "circle"
         },
         "mode": "lines",
         "name": "2027-Aug",
         "showlegend": false,
         "type": "scattergl",
         "x": {
          "bdata": "AAAAAAAA8D8AAAAAAAAAQAAAAAAAAAhAAAAAAAAAEEA=",
          "dtype": "f8"
         },
         "xaxis": "x2",
         "y": {
          "bdata": "10rNfqiARD/A4mZKKoxIP4YSorTmuVk/KqztVhRzXj8=",
          "dtype": "f8"
         },
         "yaxis": "y2"
        },
        {
         "hovertemplate": "color=2027-Sep<br>variable=id<br>default_month=%{x}<br>value=%{y}<extra></extra>",
         "legendgroup": "2027-Sep",
         "line": {
          "color": "#2d4b74",
          "dash": "solid"
         },
         "marker": {
          "symbol": "circle"
         },
         "mode": "lines",
         "name": "2027-Sep",
         "showlegend": true,
         "type": "scattergl",
         "x": {
          "bdata": "AAAAAAAA8D8AAAAAAAAAQAAAAAAAAAhA",
          "dtype": "f8"
         },
         "xaxis": "x5",
         "y": {
          "bdata": "AAAAAADiwEAAAAAAAOLAQAAAAAAA4sBA",
          "dtype": "f8"
         },
         "yaxis": "y5"
        },
        {
         "hovertemplate": "color=2027-Sep<br>variable=balance<br>default_month=%{x}<br>value=%{y}<extra></extra>",
         "legendgroup": "2027-Sep",
         "line": {
          "color": "#2d4b74",
          "dash": "solid"
         },
         "marker": {
          "symbol": "circle"
         },
         "mode": "lines",
         "name": "2027-Sep",
         "showlegend": false,
         "type": "scattergl",
         "x": {
          "bdata": "AAAAAAAA8D8AAAAAAAAAQAAAAAAAAAhA",
          "dtype": "f8"
         },
         "xaxis": "x6",
         "y": {
          "bdata": "fnHzjIyegUF+cfOMjJ6BQX5x84yMnoFB",
          "dtype": "f8"
         },
         "yaxis": "y6"
        },
        {
         "hovertemplate": "color=2027-Sep<br>variable=default_rate<br>default_month=%{x}<br>value=%{y}<extra></extra>",
         "legendgroup": "2027-Sep",
         "line": {
          "color": "#2d4b74",
          "dash": "solid"
         },
         "marker": {
          "symbol": "circle"
         },
         "mode": "lines",
         "name": "2027-Sep",
         "showlegend": false,
         "type": "scattergl",
         "x": {
          "bdata": "AAAAAAAA8D8AAAAAAAAAQAAAAAAAAAhA",
          "dtype": "f8"
         },
         "xaxis": "x3",
         "y": {
          "bdata": "YiZ8aG4cYD/wdlQn9KNoP5GWGahF9GI/",
          "dtype": "f8"
         },
         "yaxis": "y3"
        },
        {
         "hovertemplate": "color=2027-Sep<br>variable=cum_default<br>default_month=%{x}<br>value=%{y}<extra></extra>",
         "legendgroup": "2027-Sep",
         "line": {
          "color": "#2d4b74",
          "dash": "solid"
         },
         "marker": {
          "symbol": "circle"
         },
         "mode": "lines",
         "name": "2027-Sep",
         "showlegend": false,
         "type": "scattergl",
         "x": {
          "bdata": "AAAAAAAA8D8AAAAAAAAAQAAAAAAAAAhA",
          "dtype": "f8"
         },
         "xaxis": "x4",
         "y": {
          "bdata": "YiZ8aG4cYD+pTuhHMWB0P/IZ9RtU2n0/",
          "dtype": "f8"
         },
         "yaxis": "y4"
        },
        {
         "hovertemplate": "color=2027-Sep<br>variable=default_rate_bal<br>default_month=%{x}<br>value=%{y}<extra></extra>",
         "legendgroup": "2027-Sep",
         "line": {
          "color": "#2d4b74",
          "dash": "solid"
         },
         "marker": {
          "symbol": "circle"
         },
         "mode": "lines",
         "name": "2027-Sep",
         "showlegend": false,
         "type": "scattergl",
         "x": {
          "bdata": "AAAAAAAA8D8AAAAAAAAAQAAAAAAAAAhA",
          "dtype": "f8"
         },
         "xaxis": "x",
         "y": {
          "bdata": "T2ZiBOKfHz+eBaELL0tKP56LH7nYdjI/",
          "dtype": "f8"
         },
         "yaxis": "y"
        },
        {
         "hovertemplate": "color=2027-Sep<br>variable=cum_default_rate_bal<br>default_month=%{x}<br>value=%{y}<extra></extra>",
         "legendgroup": "2027-Sep",
         "line": {
          "color": "#2d4b74",
          "dash": "solid"
         },
         "marker": {
          "symbol": "circle"
         },
         "mode": "lines",
         "name": "2027-Sep",
         "showlegend": false,
         "type": "scattergl",
         "x": {
          "bdata": "AAAAAAAA8D8AAAAAAAAAQAAAAAAAAAhA",
          "dtype": "f8"
         },
         "xaxis": "x2",
         "y": {
          "bdata": "T2ZiBOKfHz9oUi1MKz9OPxyMXtRLvVM/",
          "dtype": "f8"
         },
         "yaxis": "y2"
        },
        {
         "hovertemplate": "color=2027-Oct<br>variable=id<br>default_month=%{x}<br>value=%{y}<extra></extra>",
         "legendgroup": "2027-Oct",
         "line": {
          "color": "#2a476f",
          "dash": "solid"
         },
         "marker": {
          "symbol": "circle"
         },
         "mode": "lines",
         "name": "2027-Oct",
         "showlegend": true,
         "type": "scattergl",
         "x": {
          "bdata": "AAAAAAAA8D8AAAAAAAAAQA==",
          "dtype": "f8"
         },
         "xaxis": "x5",
         "y": {
          "bdata": "AAAAAIBswUAAAAAAgGzBQA==",
          "dtype": "f8"
         },
         "yaxis": "y5"
        },
        {
         "hovertemplate": "color=2027-Oct<br>variable=balance<br>default_month=%{x}<br>value=%{y}<extra></extra>",
         "legendgroup": "2027-Oct",
         "line": {
          "color": "#2a476f",
          "dash": "solid"
         },
         "marker": {
          "symbol": "circle"
         },
         "mode": "lines",
         "name": "2027-Oct",
         "showlegend": false,
         "type": "scattergl",
         "x": {
          "bdata": "AAAAAAAA8D8AAAAAAAAAQA==",
          "dtype": "f8"
         },
         "xaxis": "x6",
         "y": {
          "bdata": "NEP1jjQlgkE0Q/WONCWCQQ==",
          "dtype": "f8"
         },
         "yaxis": "y6"
        },
        {
         "hovertemplate": "color=2027-Oct<br>variable=default_rate<br>default_month=%{x}<br>value=%{y}<extra></extra>",
         "legendgroup": "2027-Oct",
         "line": {
          "color": "#2a476f",
          "dash": "solid"
         },
         "marker": {
          "symbol": "circle"
         },
         "mode": "lines",
         "name": "2027-Oct",
         "showlegend": false,
         "type": "scattergl",
         "x": {
          "bdata": "AAAAAAAA8D8AAAAAAAAAQA==",
          "dtype": "f8"
         },
         "xaxis": "x3",
         "y": {
          "bdata": "vWEC9RbgZz8vS2SBm11iPw==",
          "dtype": "f8"
         },
         "yaxis": "y3"
        },
        {
         "hovertemplate": "color=2027-Oct<br>variable=cum_default<br>default_month=%{x}<br>value=%{y}<extra></extra>",
         "legendgroup": "2027-Oct",
         "line": {
          "color": "#2a476f",
          "dash": "solid"
         },
         "marker": {
          "symbol": "circle"
         },
         "mode": "lines",
         "name": "2027-Oct",
         "showlegend": false,
         "type": "scattergl",
         "x": {
          "bdata": "AAAAAAAA8D8AAAAAAAAAQA==",
          "dtype": "f8"
         },
         "xaxis": "x4",
         "y": {
          "bdata": "vWEC9RbgZz92VjM72R51Pw==",
          "dtype": "f8"
         },
         "yaxis": "y4"
        },
        {
         "hovertemplate": "color=2027-Oct<br>variable=default_rate_bal<br>default_month=%{x}<br>value=%{y}<extra></extra>",
         "legendgroup": "2027-Oct",
         "line": {
          "color": "#2a476f",
          "dash": "solid"
         },
         "marker": {
          "symbol": "circle"
         },
         "mode": "lines",
         "name": "2027-Oct",
         "showlegend": false,
         "type": "scattergl",
         "x": {
          "bdata": "AAAAAAAA8D8AAAAAAAAAQA==",
          "dtype": "f8"
         },
         "xaxis": "x",
         "y": {
          "bdata": "6sPHBA+IST/LYETb0u0xPw==",
          "dtype": "f8"
         },
         "yaxis": "y"
        },
        {
         "hovertemplate": "color=2027-Oct<br>variable=cum_default_rate_bal<br>default_month=%{x}<br>value=%{y}<extra></extra>",
         "legendgroup": "2027-Oct",
         "line": {
          "color": "#2a476f",
          "dash": "solid"
         },
         "marker": {
          "symbol": "circle"
         },
         "mode": "lines",
         "name": "2027-Oct",
         "showlegend": false,
         "type": "scattergl",
         "x": {
          "bdata": "AAAAAAAA8D8AAAAAAAAAQA==",
          "dtype": "f8"
         },
         "xaxis": "x2",
         "y": {
          "bdata": "6sPHBA+IST8o+jQ5fD9RPw==",
          "dtype": "f8"
         },
         "yaxis": "y2"
        },
        {
         "hovertemplate": "color=2027-Nov<br>variable=id<br>default_month=%{x}<br>value=%{y}<extra></extra>",
         "legendgroup": "2027-Nov",
         "line": {
          "color": "#284369",
          "dash": "solid"
         },
         "marker": {
          "symbol": "circle"
         },
         "mode": "lines",
         "name": "2027-Nov",
         "showlegend": true,
         "type": "scattergl",
         "x": {
          "bdata": "AAAAAAAA8D8=",
          "dtype": "f8"
         },
         "xaxis": "x5",
         "y": {
          "bdata": "AAAAAIDqwUA=",
          "dtype": "f8"
         },
         "yaxis": "y5"
        },
        {
         "hovertemplate": "color=2027-Nov<br>variable=balance<br>default_month=%{x}<br>value=%{y}<extra></extra>",
         "legendgroup": "2027-Nov",
         "line": {
          "color": "#284369",
          "dash": "solid"
         },
         "marker": {
          "symbol": "circle"
         },
         "mode": "lines",
         "name": "2027-Nov",
         "showlegend": false,
         "type": "scattergl",
         "x": {
          "bdata": "AAAAAAAA8D8=",
          "dtype": "f8"
         },
         "xaxis": "x6",
         "y": {
          "bdata": "qppKQp1sgkE=",
          "dtype": "f8"
         },
         "yaxis": "y6"
        },
        {
         "hovertemplate": "color=2027-Nov<br>variable=default_rate<br>default_month=%{x}<br>value=%{y}<extra></extra>",
         "legendgroup": "2027-Nov",
         "line": {
          "color": "#284369",
          "dash": "solid"
         },
         "marker": {
          "symbol": "circle"
         },
         "mode": "lines",
         "name": "2027-Nov",
         "showlegend": false,
         "type": "scattergl",
         "x": {
          "bdata": "AAAAAAAA8D8=",
          "dtype": "f8"
         },
         "xaxis": "x3",
         "y": {
          "bdata": "x4Lq+XHcYT8=",
          "dtype": "f8"
         },
         "yaxis": "y3"
        },
        {
         "hovertemplate": "color=2027-Nov<br>variable=cum_default<br>default_month=%{x}<br>value=%{y}<extra></extra>",
         "legendgroup": "2027-Nov",
         "line": {
          "color": "#284369",
          "dash": "solid"
         },
         "marker": {
          "symbol": "circle"
         },
         "mode": "lines",
         "name": "2027-Nov",
         "showlegend": false,
         "type": "scattergl",
         "x": {
          "bdata": "AAAAAAAA8D8=",
          "dtype": "f8"
         },
         "xaxis": "x4",
         "y": {
          "bdata": "x4Lq+XHcYT8=",
          "dtype": "f8"
         },
         "yaxis": "y4"
        },
        {
         "hovertemplate": "color=2027-Nov<br>variable=default_rate_bal<br>default_month=%{x}<br>value=%{y}<extra></extra>",
         "legendgroup": "2027-Nov",
         "line": {
          "color": "#284369",
          "dash": "solid"
         },
         "marker": {
          "symbol": "circle"
         },
         "mode": "lines",
         "name": "2027-Nov",
         "showlegend": false,
         "type": "scattergl",
         "x": {
          "bdata": "AAAAAAAA8D8=",
          "dtype": "f8"
         },
         "xaxis": "x",
         "y": {
          "bdata": "qEOIklWoMT8=",
          "dtype": "f8"
         },
         "yaxis": "y"
        },
        {
         "hovertemplate": "color=2027-Nov<br>variable=cum_default_rate_bal<br>default_month=%{x}<br>value=%{y}<extra></extra>",
         "legendgroup": "2027-Nov",
         "line": {
          "color": "#284369",
          "dash": "solid"
         },
         "marker": {
          "symbol": "circle"
         },
         "mode": "lines",
         "name": "2027-Nov",
         "showlegend": false,
         "type": "scattergl",
         "x": {
          "bdata": "AAAAAAAA8D8=",
          "dtype": "f8"
         },
         "xaxis": "x2",
         "y": {
          "bdata": "qEOIklWoMT8=",
          "dtype": "f8"
         },
         "yaxis": "y2"
        }
       ],
       "layout": {
        "annotations": [
         {
          "font": {},
          "showarrow": false,
          "text": "variable=default_rate_bal",
          "x": 0.245,
          "xanchor": "center",
          "xref": "paper",
          "y": 0.2866666666666666,
          "yanchor": "bottom",
          "yref": "paper"
         },
         {
          "font": {},
          "showarrow": false,
          "text": "variable=cum_default_rate_bal",
          "x": 0.755,
          "xanchor": "center",
          "xref": "paper",
          "y": 0.2866666666666666,
          "yanchor": "bottom",
          "yref": "paper"
         },
         {
          "font": {},
          "showarrow": false,
          "text": "variable=default_rate",
          "x": 0.245,
          "xanchor": "center",
          "xref": "paper",
          "y": 0.6433333333333333,
          "yanchor": "bottom",
          "yref": "paper"
         },
         {
          "font": {},
          "showarrow": false,
          "text": "variable=cum_default",
          "x": 0.755,
          "xanchor": "center",
          "xref": "paper",
          "y": 0.6433333333333333,
          "yanchor": "bottom",
          "yref": "paper"
         },
         {
          "font": {},
          "showarrow": false,
          "text": "variable=id",
          "x": 0.245,
          "xanchor": "center",
          "xref": "paper",
          "y": 0.9999999999999999,
          "yanchor": "bottom",
          "yref": "paper"
         },
         {
          "font": {},
          "showarrow": false,
          "text": "variable=balance",
          "x": 0.755,
          "xanchor": "center",
          "xref": "paper",
          "y": 0.9999999999999999,
          "yanchor": "bottom",
          "yref": "paper"
         }
        ],
        "height": 1000,
        "legend": {
         "title": {
          "text": "color"
         },
         "tracegroupgap": 0
        },
        "margin": {
         "t": 60
        },
        "template": {
         "data": {
          "scatter": [
           {
            "type": "scatter"
           }
          ]
         }
        },
        "width": 1000,
        "xaxis": {
         "anchor": "y",
         "domain": [
          0,
          0.49
         ],
         "title": {
          "text": "default_month"
         }
        },
        "xaxis2": {
         "anchor": "y2",
         "domain": [
          0.51,
          1
         ],
         "matches": "x",
         "title": {
          "text": "default_month"
         }
        },
        "xaxis3": {
         "anchor": "y3",
         "domain": [
          0,
          0.49
         ],
         "matches": "x",
         "showticklabels": false
        },
        "xaxis4": {
         "anchor": "y4",
         "domain": [
          0.51,
          1
         ],
         "matches": "x",
         "showticklabels": false
        },
        "xaxis5": {
         "anchor": "y5",
         "domain": [
          0,
          0.49
         ],
         "matches": "x",
         "showticklabels": false
        },
        "xaxis6": {
         "anchor": "y6",
         "domain": [
          0.51,
          1
         ],
         "matches": "x",
         "showticklabels": false
        },
        "yaxis": {
         "anchor": "x",
         "domain": [
          0,
          0.2866666666666666
         ],
         "showticklabels": true,
         "title": {
          "text": "value"
         }
        },
        "yaxis2": {
         "anchor": "x2",
         "domain": [
          0,
          0.2866666666666666
         ],
         "showticklabels": true
        },
        "yaxis3": {
         "anchor": "x3",
         "domain": [
          0.35666666666666663,
          0.6433333333333333
         ],
         "showticklabels": true,
         "title": {
          "text": "value"
         }
        },
        "yaxis4": {
         "anchor": "x4",
         "domain": [
          0.35666666666666663,
          0.6433333333333333
         ],
         "showticklabels": true
        },
        "yaxis5": {
         "anchor": "x5",
         "domain": [
          0.7133333333333333,
          0.9999999999999999
         ],
         "showticklabels": true,
         "title": {
          "text": "value"
         }
        },
        "yaxis6": {
         "anchor": "x6",
         "domain": [
          0.7133333333333333,
          0.9999999999999999
         ],
         "showticklabels": true
        }
       }
      }
     },
     "metadata": {},
     "output_type": "display_data"
    }
   ],
   "source": [
    "from utils import colorRampPaletteFromDfColumn\n",
    "\n",
    "data_chart = df_sample[df_sample['days_late']<90]\\\n",
    ".groupby(['date', 'default_month'], dropna=False)\\\n",
    ".agg({'id':'count',\n",
    "      'default_balance':'sum',\n",
    "      'default_flag':'sum',\n",
    "      'balance': 'sum'})\\\n",
    ".reset_index()\n",
    "\n",
    "data_chart['id'] = data_chart.groupby('date')['id'].transform('sum')\n",
    "data_chart['default_rate'] = data_chart['default_flag'] / data_chart['id']\n",
    "data_chart['cum_default'] = data_chart.groupby('date')['default_rate'].transform('cumsum')\n",
    "\n",
    "data_chart['balance'] = data_chart.groupby('date')['balance'].transform('sum')\n",
    "data_chart['default_rate_bal'] = data_chart['default_balance'] / data_chart['balance']\n",
    "data_chart['cum_default_rate_bal'] = data_chart.groupby('date')['default_rate_bal'].transform('cumsum')\n",
    "data_chart = data_chart[['date', \n",
    "                         'default_month', \n",
    "                         'id', \n",
    "                         'balance', \n",
    "                         'default_rate',\n",
    "                         'cum_default',\n",
    "                         'default_rate_bal',\n",
    "                         'cum_default_rate_bal']]\\\n",
    "                  .melt(id_vars=['date', 'default_month'])\n",
    "data_chart = data_chart[~data_chart['default_month'].isnull()]\n",
    "\n",
    "data_chart\n",
    "fig = px.line(data_chart,\n",
    "              y='value',\n",
    "              x='default_month',\n",
    "              facet_col='variable',\n",
    "              facet_col_wrap=2,\n",
    "              color=data_chart['date'].dt.strftime('%Y-%b'),\n",
    "              template='none',\n",
    "              width=1000,\n",
    "              height=1000,\n",
    "              color_discrete_sequence=colorRampPaletteFromDfColumn(data_chart, 'date', ['#bfd1e2', \n",
    "                                                                                        '#284369']))\n",
    "fig.update_yaxes(matches=None, showticklabels=True)"
   ]
  },
  {
   "cell_type": "code",
   "execution_count": 658,
   "id": "289aeb01",
   "metadata": {},
   "outputs": [
    {
     "data": {
      "text/plain": [
       "Index(['id', 'created_date', 'risk_band', 'tenure', 'p', 'cum_p',\n",
       "       'pd_lifetime', 'p_12m_forward', 'date', 'is_late', 'late_start_date',\n",
       "       'days_late', 'days_late_last_month', 'prob_rr', 'rgn', 'is_default',\n",
       "       'n_late_status', 'default_date', 'default_month', 'default_flag',\n",
       "       'credit_card_max_limit', 'utilisation', 'balance', 'lgd'],\n",
       "      dtype='object')"
      ]
     },
     "execution_count": 658,
     "metadata": {},
     "output_type": "execute_result"
    }
   ],
   "source": [
    "df_sample.columns"
   ]
  },
  {
   "cell_type": "code",
   "execution_count": 73,
   "id": "34fcdfa5",
   "metadata": {},
   "outputs": [
    {
     "data": {
      "text/html": [
       "<div>\n",
       "<style scoped>\n",
       "    .dataframe tbody tr th:only-of-type {\n",
       "        vertical-align: middle;\n",
       "    }\n",
       "\n",
       "    .dataframe tbody tr th {\n",
       "        vertical-align: top;\n",
       "    }\n",
       "\n",
       "    .dataframe thead th {\n",
       "        text-align: right;\n",
       "    }\n",
       "</style>\n",
       "<table border=\"1\" class=\"dataframe\">\n",
       "  <thead>\n",
       "    <tr style=\"text-align: right;\">\n",
       "      <th></th>\n",
       "      <th>id</th>\n",
       "      <th>created_date</th>\n",
       "      <th>risk_band</th>\n",
       "      <th>tenure</th>\n",
       "      <th>p</th>\n",
       "      <th>cum_p</th>\n",
       "      <th>pd_lifetime</th>\n",
       "      <th>p_12m_forward</th>\n",
       "      <th>date</th>\n",
       "      <th>is_late</th>\n",
       "      <th>...</th>\n",
       "      <th>prob_rr</th>\n",
       "      <th>rgn</th>\n",
       "      <th>is_default</th>\n",
       "      <th>n_late_status</th>\n",
       "      <th>default_date</th>\n",
       "      <th>default_month</th>\n",
       "      <th>default_flag</th>\n",
       "      <th>credit_card_max_limit</th>\n",
       "      <th>utilisation</th>\n",
       "      <th>balance</th>\n",
       "    </tr>\n",
       "  </thead>\n",
       "  <tbody>\n",
       "    <tr>\n",
       "      <th>800</th>\n",
       "      <td>9</td>\n",
       "      <td>2026-07-31</td>\n",
       "      <td>3</td>\n",
       "      <td>0</td>\n",
       "      <td>0.000000</td>\n",
       "      <td>0.000000</td>\n",
       "      <td>3.341250e-01</td>\n",
       "      <td>0.319587</td>\n",
       "      <td>2026-07-31</td>\n",
       "      <td>0</td>\n",
       "      <td>...</td>\n",
       "      <td>1.0</td>\n",
       "      <td>1</td>\n",
       "      <td>0</td>\n",
       "      <td>1</td>\n",
       "      <td>2027-02-28</td>\n",
       "      <td>7.0</td>\n",
       "      <td>1</td>\n",
       "      <td>700</td>\n",
       "      <td>0.992608</td>\n",
       "      <td>694.825921</td>\n",
       "    </tr>\n",
       "    <tr>\n",
       "      <th>801</th>\n",
       "      <td>9</td>\n",
       "      <td>2026-07-31</td>\n",
       "      <td>3</td>\n",
       "      <td>1</td>\n",
       "      <td>0.014605</td>\n",
       "      <td>0.014605</td>\n",
       "      <td>3.243655e-01</td>\n",
       "      <td>0.313364</td>\n",
       "      <td>2026-08-31</td>\n",
       "      <td>0</td>\n",
       "      <td>...</td>\n",
       "      <td>1.0</td>\n",
       "      <td>1</td>\n",
       "      <td>0</td>\n",
       "      <td>1</td>\n",
       "      <td>2027-02-28</td>\n",
       "      <td>6.0</td>\n",
       "      <td>1</td>\n",
       "      <td>700</td>\n",
       "      <td>0.997762</td>\n",
       "      <td>698.433506</td>\n",
       "    </tr>\n",
       "    <tr>\n",
       "      <th>802</th>\n",
       "      <td>9</td>\n",
       "      <td>2026-07-31</td>\n",
       "      <td>3</td>\n",
       "      <td>2</td>\n",
       "      <td>0.067289</td>\n",
       "      <td>0.081894</td>\n",
       "      <td>2.793995e-01</td>\n",
       "      <td>0.271016</td>\n",
       "      <td>2026-09-30</td>\n",
       "      <td>0</td>\n",
       "      <td>...</td>\n",
       "      <td>1.0</td>\n",
       "      <td>1</td>\n",
       "      <td>0</td>\n",
       "      <td>1</td>\n",
       "      <td>2027-02-28</td>\n",
       "      <td>5.0</td>\n",
       "      <td>1</td>\n",
       "      <td>700</td>\n",
       "      <td>0.999447</td>\n",
       "      <td>699.613055</td>\n",
       "    </tr>\n",
       "    <tr>\n",
       "      <th>803</th>\n",
       "      <td>9</td>\n",
       "      <td>2026-07-31</td>\n",
       "      <td>3</td>\n",
       "      <td>3</td>\n",
       "      <td>0.088584</td>\n",
       "      <td>0.170478</td>\n",
       "      <td>2.202032e-01</td>\n",
       "      <td>0.213770</td>\n",
       "      <td>2026-10-31</td>\n",
       "      <td>0</td>\n",
       "      <td>...</td>\n",
       "      <td>1.0</td>\n",
       "      <td>1</td>\n",
       "      <td>0</td>\n",
       "      <td>1</td>\n",
       "      <td>2027-02-28</td>\n",
       "      <td>4.0</td>\n",
       "      <td>1</td>\n",
       "      <td>700</td>\n",
       "      <td>0.999775</td>\n",
       "      <td>699.842628</td>\n",
       "    </tr>\n",
       "    <tr>\n",
       "      <th>804</th>\n",
       "      <td>9</td>\n",
       "      <td>2026-07-31</td>\n",
       "      <td>3</td>\n",
       "      <td>4</td>\n",
       "      <td>0.081620</td>\n",
       "      <td>0.252098</td>\n",
       "      <td>1.656603e-01</td>\n",
       "      <td>0.160692</td>\n",
       "      <td>2026-11-30</td>\n",
       "      <td>1</td>\n",
       "      <td>...</td>\n",
       "      <td>1.0</td>\n",
       "      <td>1</td>\n",
       "      <td>0</td>\n",
       "      <td>1</td>\n",
       "      <td>2027-02-28</td>\n",
       "      <td>3.0</td>\n",
       "      <td>1</td>\n",
       "      <td>700</td>\n",
       "      <td>0.999816</td>\n",
       "      <td>699.87115</td>\n",
       "    </tr>\n",
       "    <tr>\n",
       "      <th>...</th>\n",
       "      <td>...</td>\n",
       "      <td>...</td>\n",
       "      <td>...</td>\n",
       "      <td>...</td>\n",
       "      <td>...</td>\n",
       "      <td>...</td>\n",
       "      <td>...</td>\n",
       "      <td>...</td>\n",
       "      <td>...</td>\n",
       "      <td>...</td>\n",
       "      <td>...</td>\n",
       "      <td>...</td>\n",
       "      <td>...</td>\n",
       "      <td>...</td>\n",
       "      <td>...</td>\n",
       "      <td>...</td>\n",
       "      <td>...</td>\n",
       "      <td>...</td>\n",
       "      <td>...</td>\n",
       "      <td>...</td>\n",
       "      <td>...</td>\n",
       "    </tr>\n",
       "    <tr>\n",
       "      <th>998195</th>\n",
       "      <td>9982</td>\n",
       "      <td>2025-05-31</td>\n",
       "      <td>5</td>\n",
       "      <td>95</td>\n",
       "      <td>0.000004</td>\n",
       "      <td>0.199987</td>\n",
       "      <td>8.996072e-06</td>\n",
       "      <td>0.000009</td>\n",
       "      <td>2033-04-30</td>\n",
       "      <td>0</td>\n",
       "      <td>...</td>\n",
       "      <td>1.0</td>\n",
       "      <td>1</td>\n",
       "      <td>0</td>\n",
       "      <td>1</td>\n",
       "      <td>2026-09-30</td>\n",
       "      <td>-79.0</td>\n",
       "      <td>1</td>\n",
       "      <td>1700</td>\n",
       "      <td>0.032295</td>\n",
       "      <td>1017.769022</td>\n",
       "    </tr>\n",
       "    <tr>\n",
       "      <th>998196</th>\n",
       "      <td>9982</td>\n",
       "      <td>2025-05-31</td>\n",
       "      <td>5</td>\n",
       "      <td>96</td>\n",
       "      <td>0.000004</td>\n",
       "      <td>0.199990</td>\n",
       "      <td>6.506885e-06</td>\n",
       "      <td>0.000007</td>\n",
       "      <td>2033-05-31</td>\n",
       "      <td>0</td>\n",
       "      <td>...</td>\n",
       "      <td>1.0</td>\n",
       "      <td>1</td>\n",
       "      <td>0</td>\n",
       "      <td>1</td>\n",
       "      <td>2026-09-30</td>\n",
       "      <td>-80.0</td>\n",
       "      <td>1</td>\n",
       "      <td>1700</td>\n",
       "      <td>0.130108</td>\n",
       "      <td>1017.769022</td>\n",
       "    </tr>\n",
       "    <tr>\n",
       "      <th>998197</th>\n",
       "      <td>9982</td>\n",
       "      <td>2025-05-31</td>\n",
       "      <td>5</td>\n",
       "      <td>97</td>\n",
       "      <td>0.000003</td>\n",
       "      <td>0.199994</td>\n",
       "      <td>4.185833e-06</td>\n",
       "      <td>0.000004</td>\n",
       "      <td>2033-06-30</td>\n",
       "      <td>0</td>\n",
       "      <td>...</td>\n",
       "      <td>1.0</td>\n",
       "      <td>1</td>\n",
       "      <td>0</td>\n",
       "      <td>1</td>\n",
       "      <td>2026-09-30</td>\n",
       "      <td>-81.0</td>\n",
       "      <td>1</td>\n",
       "      <td>1700</td>\n",
       "      <td>0.574443</td>\n",
       "      <td>1017.769022</td>\n",
       "    </tr>\n",
       "    <tr>\n",
       "      <th>998198</th>\n",
       "      <td>9982</td>\n",
       "      <td>2025-05-31</td>\n",
       "      <td>5</td>\n",
       "      <td>98</td>\n",
       "      <td>0.000003</td>\n",
       "      <td>0.199997</td>\n",
       "      <td>2.020642e-06</td>\n",
       "      <td>0.000002</td>\n",
       "      <td>2033-07-31</td>\n",
       "      <td>0</td>\n",
       "      <td>...</td>\n",
       "      <td>1.0</td>\n",
       "      <td>1</td>\n",
       "      <td>0</td>\n",
       "      <td>1</td>\n",
       "      <td>2026-09-30</td>\n",
       "      <td>-82.0</td>\n",
       "      <td>1</td>\n",
       "      <td>1700</td>\n",
       "      <td>0.214165</td>\n",
       "      <td>1017.769022</td>\n",
       "    </tr>\n",
       "    <tr>\n",
       "      <th>998199</th>\n",
       "      <td>9982</td>\n",
       "      <td>2025-05-31</td>\n",
       "      <td>5</td>\n",
       "      <td>99</td>\n",
       "      <td>0.000003</td>\n",
       "      <td>0.200000</td>\n",
       "      <td>-5.564299e-17</td>\n",
       "      <td>NaN</td>\n",
       "      <td>2033-08-31</td>\n",
       "      <td>0</td>\n",
       "      <td>...</td>\n",
       "      <td>1.0</td>\n",
       "      <td>1</td>\n",
       "      <td>0</td>\n",
       "      <td>1</td>\n",
       "      <td>2026-09-30</td>\n",
       "      <td>-83.0</td>\n",
       "      <td>1</td>\n",
       "      <td>1700</td>\n",
       "      <td>0.645656</td>\n",
       "      <td>1017.769022</td>\n",
       "    </tr>\n",
       "  </tbody>\n",
       "</table>\n",
       "<p>88500 rows × 23 columns</p>\n",
       "</div>"
      ],
      "text/plain": [
       "          id created_date  risk_band  tenure         p     cum_p  \\\n",
       "800        9   2026-07-31          3       0  0.000000  0.000000   \n",
       "801        9   2026-07-31          3       1  0.014605  0.014605   \n",
       "802        9   2026-07-31          3       2  0.067289  0.081894   \n",
       "803        9   2026-07-31          3       3  0.088584  0.170478   \n",
       "804        9   2026-07-31          3       4  0.081620  0.252098   \n",
       "...      ...          ...        ...     ...       ...       ...   \n",
       "998195  9982   2025-05-31          5      95  0.000004  0.199987   \n",
       "998196  9982   2025-05-31          5      96  0.000004  0.199990   \n",
       "998197  9982   2025-05-31          5      97  0.000003  0.199994   \n",
       "998198  9982   2025-05-31          5      98  0.000003  0.199997   \n",
       "998199  9982   2025-05-31          5      99  0.000003  0.200000   \n",
       "\n",
       "         pd_lifetime  p_12m_forward       date  is_late  ... prob_rr  rgn  \\\n",
       "800     3.341250e-01       0.319587 2026-07-31        0  ...     1.0    1   \n",
       "801     3.243655e-01       0.313364 2026-08-31        0  ...     1.0    1   \n",
       "802     2.793995e-01       0.271016 2026-09-30        0  ...     1.0    1   \n",
       "803     2.202032e-01       0.213770 2026-10-31        0  ...     1.0    1   \n",
       "804     1.656603e-01       0.160692 2026-11-30        1  ...     1.0    1   \n",
       "...              ...            ...        ...      ...  ...     ...  ...   \n",
       "998195  8.996072e-06       0.000009 2033-04-30        0  ...     1.0    1   \n",
       "998196  6.506885e-06       0.000007 2033-05-31        0  ...     1.0    1   \n",
       "998197  4.185833e-06       0.000004 2033-06-30        0  ...     1.0    1   \n",
       "998198  2.020642e-06       0.000002 2033-07-31        0  ...     1.0    1   \n",
       "998199 -5.564299e-17            NaN 2033-08-31        0  ...     1.0    1   \n",
       "\n",
       "       is_default  n_late_status  default_date  default_month  default_flag  \\\n",
       "800             0              1    2027-02-28            7.0             1   \n",
       "801             0              1    2027-02-28            6.0             1   \n",
       "802             0              1    2027-02-28            5.0             1   \n",
       "803             0              1    2027-02-28            4.0             1   \n",
       "804             0              1    2027-02-28            3.0             1   \n",
       "...           ...            ...           ...            ...           ...   \n",
       "998195          0              1    2026-09-30          -79.0             1   \n",
       "998196          0              1    2026-09-30          -80.0             1   \n",
       "998197          0              1    2026-09-30          -81.0             1   \n",
       "998198          0              1    2026-09-30          -82.0             1   \n",
       "998199          0              1    2026-09-30          -83.0             1   \n",
       "\n",
       "       credit_card_max_limit  utilisation      balance  \n",
       "800                      700     0.992608   694.825921  \n",
       "801                      700     0.997762   698.433506  \n",
       "802                      700     0.999447   699.613055  \n",
       "803                      700     0.999775   699.842628  \n",
       "804                      700     0.999816    699.87115  \n",
       "...                      ...          ...          ...  \n",
       "998195                  1700     0.032295  1017.769022  \n",
       "998196                  1700     0.130108  1017.769022  \n",
       "998197                  1700     0.574443  1017.769022  \n",
       "998198                  1700     0.214165  1017.769022  \n",
       "998199                  1700     0.645656  1017.769022  \n",
       "\n",
       "[88500 rows x 23 columns]"
      ]
     },
     "execution_count": 73,
     "metadata": {},
     "output_type": "execute_result"
    }
   ],
   "source": [
    "df_sample[df_sample['default_flag']==1]"
   ]
  },
  {
   "cell_type": "code",
   "execution_count": 76,
   "id": "7380db1f",
   "metadata": {},
   "outputs": [
    {
     "data": {
      "text/html": [
       "<div>\n",
       "<style scoped>\n",
       "    .dataframe tbody tr th:only-of-type {\n",
       "        vertical-align: middle;\n",
       "    }\n",
       "\n",
       "    .dataframe tbody tr th {\n",
       "        vertical-align: top;\n",
       "    }\n",
       "\n",
       "    .dataframe thead th {\n",
       "        text-align: right;\n",
       "    }\n",
       "</style>\n",
       "<table border=\"1\" class=\"dataframe\">\n",
       "  <thead>\n",
       "    <tr style=\"text-align: right;\">\n",
       "      <th></th>\n",
       "      <th>id</th>\n",
       "      <th>created_date</th>\n",
       "      <th>risk_band</th>\n",
       "      <th>tenure</th>\n",
       "      <th>p</th>\n",
       "      <th>cum_p</th>\n",
       "      <th>pd_lifetime</th>\n",
       "      <th>p_12m_forward</th>\n",
       "      <th>date</th>\n",
       "      <th>is_late</th>\n",
       "      <th>...</th>\n",
       "      <th>prob_rr</th>\n",
       "      <th>rgn</th>\n",
       "      <th>is_default</th>\n",
       "      <th>n_late_status</th>\n",
       "      <th>default_date</th>\n",
       "      <th>default_month</th>\n",
       "      <th>default_flag</th>\n",
       "      <th>credit_card_max_limit</th>\n",
       "      <th>utilisation</th>\n",
       "      <th>balance</th>\n",
       "    </tr>\n",
       "  </thead>\n",
       "  <tbody>\n",
       "    <tr>\n",
       "      <th>0</th>\n",
       "      <td>1</td>\n",
       "      <td>2025-03-31</td>\n",
       "      <td>8</td>\n",
       "      <td>0</td>\n",
       "      <td>0.000000e+00</td>\n",
       "      <td>0.000000e+00</td>\n",
       "      <td>3.341250e-02</td>\n",
       "      <td>0.000277</td>\n",
       "      <td>2025-03-31</td>\n",
       "      <td>0</td>\n",
       "      <td>...</td>\n",
       "      <td>1.0</td>\n",
       "      <td>1</td>\n",
       "      <td>0</td>\n",
       "      <td>0</td>\n",
       "      <td>NaT</td>\n",
       "      <td>NaN</td>\n",
       "      <td>0</td>\n",
       "      <td>8100</td>\n",
       "      <td>4.501660e-01</td>\n",
       "      <td>3646.344622</td>\n",
       "    </tr>\n",
       "    <tr>\n",
       "      <th>1</th>\n",
       "      <td>1</td>\n",
       "      <td>2025-03-31</td>\n",
       "      <td>8</td>\n",
       "      <td>1</td>\n",
       "      <td>8.825335e-12</td>\n",
       "      <td>8.825335e-12</td>\n",
       "      <td>3.341250e-02</td>\n",
       "      <td>0.000393</td>\n",
       "      <td>2025-04-30</td>\n",
       "      <td>0</td>\n",
       "      <td>...</td>\n",
       "      <td>1.0</td>\n",
       "      <td>1</td>\n",
       "      <td>0</td>\n",
       "      <td>0</td>\n",
       "      <td>NaT</td>\n",
       "      <td>NaN</td>\n",
       "      <td>0</td>\n",
       "      <td>8100</td>\n",
       "      <td>8.320184e-01</td>\n",
       "      <td>6739.34892</td>\n",
       "    </tr>\n",
       "    <tr>\n",
       "      <th>2</th>\n",
       "      <td>1</td>\n",
       "      <td>2025-03-31</td>\n",
       "      <td>8</td>\n",
       "      <td>2</td>\n",
       "      <td>5.008135e-09</td>\n",
       "      <td>5.016960e-09</td>\n",
       "      <td>3.341250e-02</td>\n",
       "      <td>0.000537</td>\n",
       "      <td>2025-05-31</td>\n",
       "      <td>0</td>\n",
       "      <td>...</td>\n",
       "      <td>1.0</td>\n",
       "      <td>1</td>\n",
       "      <td>0</td>\n",
       "      <td>0</td>\n",
       "      <td>NaT</td>\n",
       "      <td>NaN</td>\n",
       "      <td>0</td>\n",
       "      <td>8100</td>\n",
       "      <td>5.744425e-01</td>\n",
       "      <td>4652.984386</td>\n",
       "    </tr>\n",
       "    <tr>\n",
       "      <th>3</th>\n",
       "      <td>1</td>\n",
       "      <td>2025-03-31</td>\n",
       "      <td>8</td>\n",
       "      <td>3</td>\n",
       "      <td>1.101391e-07</td>\n",
       "      <td>1.151561e-07</td>\n",
       "      <td>3.341242e-02</td>\n",
       "      <td>0.000711</td>\n",
       "      <td>2025-06-30</td>\n",
       "      <td>0</td>\n",
       "      <td>...</td>\n",
       "      <td>1.0</td>\n",
       "      <td>1</td>\n",
       "      <td>0</td>\n",
       "      <td>0</td>\n",
       "      <td>NaT</td>\n",
       "      <td>NaN</td>\n",
       "      <td>0</td>\n",
       "      <td>8100</td>\n",
       "      <td>8.021839e-01</td>\n",
       "      <td>6497.689497</td>\n",
       "    </tr>\n",
       "    <tr>\n",
       "      <th>4</th>\n",
       "      <td>1</td>\n",
       "      <td>2025-03-31</td>\n",
       "      <td>8</td>\n",
       "      <td>4</td>\n",
       "      <td>7.481954e-07</td>\n",
       "      <td>8.633515e-07</td>\n",
       "      <td>3.341192e-02</td>\n",
       "      <td>0.000914</td>\n",
       "      <td>2025-07-31</td>\n",
       "      <td>0</td>\n",
       "      <td>...</td>\n",
       "      <td>1.0</td>\n",
       "      <td>1</td>\n",
       "      <td>0</td>\n",
       "      <td>0</td>\n",
       "      <td>NaT</td>\n",
       "      <td>NaN</td>\n",
       "      <td>0</td>\n",
       "      <td>8100</td>\n",
       "      <td>9.568927e-01</td>\n",
       "      <td>7750.831235</td>\n",
       "    </tr>\n",
       "    <tr>\n",
       "      <th>5</th>\n",
       "      <td>1</td>\n",
       "      <td>2025-03-31</td>\n",
       "      <td>8</td>\n",
       "      <td>5</td>\n",
       "      <td>2.822706e-06</td>\n",
       "      <td>3.686058e-06</td>\n",
       "      <td>3.341004e-02</td>\n",
       "      <td>0.001146</td>\n",
       "      <td>2025-08-31</td>\n",
       "      <td>0</td>\n",
       "      <td>...</td>\n",
       "      <td>1.0</td>\n",
       "      <td>1</td>\n",
       "      <td>0</td>\n",
       "      <td>0</td>\n",
       "      <td>NaT</td>\n",
       "      <td>NaN</td>\n",
       "      <td>0</td>\n",
       "      <td>8100</td>\n",
       "      <td>7.109495e-01</td>\n",
       "      <td>5758.690971</td>\n",
       "    </tr>\n",
       "    <tr>\n",
       "      <th>6</th>\n",
       "      <td>1</td>\n",
       "      <td>2025-03-31</td>\n",
       "      <td>8</td>\n",
       "      <td>6</td>\n",
       "      <td>7.537597e-06</td>\n",
       "      <td>1.122365e-05</td>\n",
       "      <td>3.340500e-02</td>\n",
       "      <td>0.001406</td>\n",
       "      <td>2025-09-30</td>\n",
       "      <td>0</td>\n",
       "      <td>...</td>\n",
       "      <td>1.0</td>\n",
       "      <td>1</td>\n",
       "      <td>0</td>\n",
       "      <td>0</td>\n",
       "      <td>NaT</td>\n",
       "      <td>NaN</td>\n",
       "      <td>0</td>\n",
       "      <td>8100</td>\n",
       "      <td>5.986877e-01</td>\n",
       "      <td>4849.370047</td>\n",
       "    </tr>\n",
       "    <tr>\n",
       "      <th>7</th>\n",
       "      <td>1</td>\n",
       "      <td>2025-03-31</td>\n",
       "      <td>8</td>\n",
       "      <td>7</td>\n",
       "      <td>1.609180e-05</td>\n",
       "      <td>2.731545e-05</td>\n",
       "      <td>3.339425e-02</td>\n",
       "      <td>0.001691</td>\n",
       "      <td>2025-10-31</td>\n",
       "      <td>0</td>\n",
       "      <td>...</td>\n",
       "      <td>1.0</td>\n",
       "      <td>1</td>\n",
       "      <td>0</td>\n",
       "      <td>0</td>\n",
       "      <td>NaT</td>\n",
       "      <td>NaN</td>\n",
       "      <td>0</td>\n",
       "      <td>8100</td>\n",
       "      <td>2.689414e-01</td>\n",
       "      <td>2178.425513</td>\n",
       "    </tr>\n",
       "    <tr>\n",
       "      <th>8</th>\n",
       "      <td>1</td>\n",
       "      <td>2025-03-31</td>\n",
       "      <td>8</td>\n",
       "      <td>8</td>\n",
       "      <td>2.942715e-05</td>\n",
       "      <td>5.674261e-05</td>\n",
       "      <td>3.337458e-02</td>\n",
       "      <td>0.001997</td>\n",
       "      <td>2025-11-30</td>\n",
       "      <td>0</td>\n",
       "      <td>...</td>\n",
       "      <td>1.0</td>\n",
       "      <td>1</td>\n",
       "      <td>0</td>\n",
       "      <td>0</td>\n",
       "      <td>NaT</td>\n",
       "      <td>NaN</td>\n",
       "      <td>0</td>\n",
       "      <td>8100</td>\n",
       "      <td>4.013123e-01</td>\n",
       "      <td>3250.629953</td>\n",
       "    </tr>\n",
       "    <tr>\n",
       "      <th>9</th>\n",
       "      <td>1</td>\n",
       "      <td>2025-03-31</td>\n",
       "      <td>8</td>\n",
       "      <td>9</td>\n",
       "      <td>4.809729e-05</td>\n",
       "      <td>1.048399e-04</td>\n",
       "      <td>3.334244e-02</td>\n",
       "      <td>0.002319</td>\n",
       "      <td>2025-12-31</td>\n",
       "      <td>0</td>\n",
       "      <td>...</td>\n",
       "      <td>1.0</td>\n",
       "      <td>1</td>\n",
       "      <td>0</td>\n",
       "      <td>0</td>\n",
       "      <td>NaT</td>\n",
       "      <td>NaN</td>\n",
       "      <td>0</td>\n",
       "      <td>8100</td>\n",
       "      <td>5.732418e-02</td>\n",
       "      <td>464.325825</td>\n",
       "    </tr>\n",
       "    <tr>\n",
       "      <th>10</th>\n",
       "      <td>1</td>\n",
       "      <td>2025-03-31</td>\n",
       "      <td>8</td>\n",
       "      <td>10</td>\n",
       "      <td>7.224494e-05</td>\n",
       "      <td>1.770848e-04</td>\n",
       "      <td>3.329416e-02</td>\n",
       "      <td>0.002651</td>\n",
       "      <td>2026-01-31</td>\n",
       "      <td>0</td>\n",
       "      <td>...</td>\n",
       "      <td>1.0</td>\n",
       "      <td>1</td>\n",
       "      <td>0</td>\n",
       "      <td>0</td>\n",
       "      <td>NaT</td>\n",
       "      <td>NaN</td>\n",
       "      <td>0</td>\n",
       "      <td>8100</td>\n",
       "      <td>1.338692e-02</td>\n",
       "      <td>108.434034</td>\n",
       "    </tr>\n",
       "    <tr>\n",
       "      <th>11</th>\n",
       "      <td>1</td>\n",
       "      <td>2025-03-31</td>\n",
       "      <td>8</td>\n",
       "      <td>11</td>\n",
       "      <td>1.016491e-04</td>\n",
       "      <td>2.787340e-04</td>\n",
       "      <td>3.322624e-02</td>\n",
       "      <td>0.002990</td>\n",
       "      <td>2026-02-28</td>\n",
       "      <td>0</td>\n",
       "      <td>...</td>\n",
       "      <td>1.0</td>\n",
       "      <td>1</td>\n",
       "      <td>0</td>\n",
       "      <td>0</td>\n",
       "      <td>NaT</td>\n",
       "      <td>NaN</td>\n",
       "      <td>0</td>\n",
       "      <td>8100</td>\n",
       "      <td>9.975049e-02</td>\n",
       "      <td>807.978962</td>\n",
       "    </tr>\n",
       "    <tr>\n",
       "      <th>12</th>\n",
       "      <td>1</td>\n",
       "      <td>2025-03-31</td>\n",
       "      <td>8</td>\n",
       "      <td>12</td>\n",
       "      <td>1.358058e-04</td>\n",
       "      <td>4.145398e-04</td>\n",
       "      <td>3.313548e-02</td>\n",
       "      <td>0.003330</td>\n",
       "      <td>2026-03-31</td>\n",
       "      <td>0</td>\n",
       "      <td>...</td>\n",
       "      <td>1.0</td>\n",
       "      <td>1</td>\n",
       "      <td>0</td>\n",
       "      <td>0</td>\n",
       "      <td>NaT</td>\n",
       "      <td>NaN</td>\n",
       "      <td>0</td>\n",
       "      <td>8100</td>\n",
       "      <td>4.750208e-01</td>\n",
       "      <td>3847.668581</td>\n",
       "    </tr>\n",
       "    <tr>\n",
       "      <th>13</th>\n",
       "      <td>1</td>\n",
       "      <td>2025-03-31</td>\n",
       "      <td>8</td>\n",
       "      <td>13</td>\n",
       "      <td>1.740169e-04</td>\n",
       "      <td>5.885567e-04</td>\n",
       "      <td>3.301920e-02</td>\n",
       "      <td>0.003666</td>\n",
       "      <td>2026-04-30</td>\n",
       "      <td>0</td>\n",
       "      <td>...</td>\n",
       "      <td>1.0</td>\n",
       "      <td>1</td>\n",
       "      <td>0</td>\n",
       "      <td>0</td>\n",
       "      <td>NaT</td>\n",
       "      <td>NaN</td>\n",
       "      <td>0</td>\n",
       "      <td>8100</td>\n",
       "      <td>3.318122e-01</td>\n",
       "      <td>2687.679045</td>\n",
       "    </tr>\n",
       "    <tr>\n",
       "      <th>14</th>\n",
       "      <td>1</td>\n",
       "      <td>2025-03-31</td>\n",
       "      <td>8</td>\n",
       "      <td>14</td>\n",
       "      <td>2.154717e-04</td>\n",
       "      <td>8.040284e-04</td>\n",
       "      <td>3.287521e-02</td>\n",
       "      <td>0.003995</td>\n",
       "      <td>2026-05-31</td>\n",
       "      <td>0</td>\n",
       "      <td>...</td>\n",
       "      <td>1.0</td>\n",
       "      <td>1</td>\n",
       "      <td>0</td>\n",
       "      <td>0</td>\n",
       "      <td>NaT</td>\n",
       "      <td>NaN</td>\n",
       "      <td>0</td>\n",
       "      <td>8100</td>\n",
       "      <td>2.314752e-01</td>\n",
       "      <td>1874.949254</td>\n",
       "    </tr>\n",
       "    <tr>\n",
       "      <th>15</th>\n",
       "      <td>1</td>\n",
       "      <td>2025-03-31</td>\n",
       "      <td>8</td>\n",
       "      <td>15</td>\n",
       "      <td>2.593156e-04</td>\n",
       "      <td>1.063344e-03</td>\n",
       "      <td>3.270192e-02</td>\n",
       "      <td>0.004313</td>\n",
       "      <td>2026-06-30</td>\n",
       "      <td>0</td>\n",
       "      <td>...</td>\n",
       "      <td>1.0</td>\n",
       "      <td>1</td>\n",
       "      <td>0</td>\n",
       "      <td>0</td>\n",
       "      <td>NaT</td>\n",
       "      <td>NaN</td>\n",
       "      <td>0</td>\n",
       "      <td>8100</td>\n",
       "      <td>1.824255e-01</td>\n",
       "      <td>1477.646743</td>\n",
       "    </tr>\n",
       "    <tr>\n",
       "      <th>16</th>\n",
       "      <td>1</td>\n",
       "      <td>2025-03-31</td>\n",
       "      <td>8</td>\n",
       "      <td>16</td>\n",
       "      <td>3.047022e-04</td>\n",
       "      <td>1.368046e-03</td>\n",
       "      <td>3.249830e-02</td>\n",
       "      <td>0.004617</td>\n",
       "      <td>2026-07-31</td>\n",
       "      <td>0</td>\n",
       "      <td>...</td>\n",
       "      <td>1.0</td>\n",
       "      <td>1</td>\n",
       "      <td>0</td>\n",
       "      <td>0</td>\n",
       "      <td>NaT</td>\n",
       "      <td>NaN</td>\n",
       "      <td>0</td>\n",
       "      <td>8100</td>\n",
       "      <td>2.890505e-01</td>\n",
       "      <td>2341.309029</td>\n",
       "    </tr>\n",
       "    <tr>\n",
       "      <th>17</th>\n",
       "      <td>1</td>\n",
       "      <td>2025-03-31</td>\n",
       "      <td>8</td>\n",
       "      <td>17</td>\n",
       "      <td>3.508307e-04</td>\n",
       "      <td>1.718877e-03</td>\n",
       "      <td>3.226386e-02</td>\n",
       "      <td>0.004904</td>\n",
       "      <td>2026-08-31</td>\n",
       "      <td>0</td>\n",
       "      <td>...</td>\n",
       "      <td>1.0</td>\n",
       "      <td>1</td>\n",
       "      <td>0</td>\n",
       "      <td>0</td>\n",
       "      <td>NaT</td>\n",
       "      <td>NaN</td>\n",
       "      <td>0</td>\n",
       "      <td>8100</td>\n",
       "      <td>2.141650e-01</td>\n",
       "      <td>1734.736637</td>\n",
       "    </tr>\n",
       "    <tr>\n",
       "      <th>18</th>\n",
       "      <td>1</td>\n",
       "      <td>2025-03-31</td>\n",
       "      <td>8</td>\n",
       "      <td>18</td>\n",
       "      <td>3.969707e-04</td>\n",
       "      <td>2.115848e-03</td>\n",
       "      <td>3.199858e-02</td>\n",
       "      <td>0.005174</td>\n",
       "      <td>2026-09-30</td>\n",
       "      <td>0</td>\n",
       "      <td>...</td>\n",
       "      <td>1.0</td>\n",
       "      <td>1</td>\n",
       "      <td>0</td>\n",
       "      <td>0</td>\n",
       "      <td>NaT</td>\n",
       "      <td>NaN</td>\n",
       "      <td>0</td>\n",
       "      <td>8100</td>\n",
       "      <td>2.314752e-01</td>\n",
       "      <td>1874.949254</td>\n",
       "    </tr>\n",
       "    <tr>\n",
       "      <th>19</th>\n",
       "      <td>1</td>\n",
       "      <td>2025-03-31</td>\n",
       "      <td>8</td>\n",
       "      <td>19</td>\n",
       "      <td>4.424762e-04</td>\n",
       "      <td>2.558324e-03</td>\n",
       "      <td>3.170290e-02</td>\n",
       "      <td>0.005424</td>\n",
       "      <td>2026-10-31</td>\n",
       "      <td>0</td>\n",
       "      <td>...</td>\n",
       "      <td>1.0</td>\n",
       "      <td>1</td>\n",
       "      <td>0</td>\n",
       "      <td>0</td>\n",
       "      <td>NaT</td>\n",
       "      <td>NaN</td>\n",
       "      <td>0</td>\n",
       "      <td>8100</td>\n",
       "      <td>3.916572e-02</td>\n",
       "      <td>317.242355</td>\n",
       "    </tr>\n",
       "    <tr>\n",
       "      <th>20</th>\n",
       "      <td>1</td>\n",
       "      <td>2025-03-31</td>\n",
       "      <td>8</td>\n",
       "      <td>20</td>\n",
       "      <td>4.867920e-04</td>\n",
       "      <td>3.045116e-03</td>\n",
       "      <td>3.137760e-02</td>\n",
       "      <td>0.005654</td>\n",
       "      <td>2026-11-30</td>\n",
       "      <td>0</td>\n",
       "      <td>...</td>\n",
       "      <td>1.0</td>\n",
       "      <td>1</td>\n",
       "      <td>0</td>\n",
       "      <td>0</td>\n",
       "      <td>NaT</td>\n",
       "      <td>NaN</td>\n",
       "      <td>0</td>\n",
       "      <td>8100</td>\n",
       "      <td>6.297336e-02</td>\n",
       "      <td>510.084184</td>\n",
       "    </tr>\n",
       "    <tr>\n",
       "      <th>21</th>\n",
       "      <td>1</td>\n",
       "      <td>2025-03-31</td>\n",
       "      <td>8</td>\n",
       "      <td>21</td>\n",
       "      <td>5.294545e-04</td>\n",
       "      <td>3.574570e-03</td>\n",
       "      <td>3.102379e-02</td>\n",
       "      <td>0.005863</td>\n",
       "      <td>2026-12-31</td>\n",
       "      <td>0</td>\n",
       "      <td>...</td>\n",
       "      <td>1.0</td>\n",
       "      <td>1</td>\n",
       "      <td>0</td>\n",
       "      <td>0</td>\n",
       "      <td>NaT</td>\n",
       "      <td>NaN</td>\n",
       "      <td>0</td>\n",
       "      <td>8100</td>\n",
       "      <td>3.318122e-01</td>\n",
       "      <td>2687.679045</td>\n",
       "    </tr>\n",
       "    <tr>\n",
       "      <th>22</th>\n",
       "      <td>1</td>\n",
       "      <td>2025-03-31</td>\n",
       "      <td>8</td>\n",
       "      <td>22</td>\n",
       "      <td>5.700878e-04</td>\n",
       "      <td>4.144658e-03</td>\n",
       "      <td>3.064283e-02</td>\n",
       "      <td>0.006050</td>\n",
       "      <td>2027-01-31</td>\n",
       "      <td>0</td>\n",
       "      <td>...</td>\n",
       "      <td>1.0</td>\n",
       "      <td>1</td>\n",
       "      <td>0</td>\n",
       "      <td>0</td>\n",
       "      <td>NaT</td>\n",
       "      <td>NaN</td>\n",
       "      <td>0</td>\n",
       "      <td>8100</td>\n",
       "      <td>2.141650e-01</td>\n",
       "      <td>1734.736637</td>\n",
       "    </tr>\n",
       "    <tr>\n",
       "      <th>23</th>\n",
       "      <td>1</td>\n",
       "      <td>2025-03-31</td>\n",
       "      <td>8</td>\n",
       "      <td>23</td>\n",
       "      <td>6.083983e-04</td>\n",
       "      <td>4.753057e-03</td>\n",
       "      <td>3.023627e-02</td>\n",
       "      <td>0.006217</td>\n",
       "      <td>2027-02-28</td>\n",
       "      <td>0</td>\n",
       "      <td>...</td>\n",
       "      <td>1.0</td>\n",
       "      <td>1</td>\n",
       "      <td>0</td>\n",
       "      <td>0</td>\n",
       "      <td>NaT</td>\n",
       "      <td>NaN</td>\n",
       "      <td>0</td>\n",
       "      <td>8100</td>\n",
       "      <td>4.501660e-01</td>\n",
       "      <td>3646.344622</td>\n",
       "    </tr>\n",
       "    <tr>\n",
       "      <th>24</th>\n",
       "      <td>1</td>\n",
       "      <td>2025-03-31</td>\n",
       "      <td>8</td>\n",
       "      <td>24</td>\n",
       "      <td>6.441665e-04</td>\n",
       "      <td>5.397223e-03</td>\n",
       "      <td>2.980581e-02</td>\n",
       "      <td>0.006363</td>\n",
       "      <td>2027-03-31</td>\n",
       "      <td>0</td>\n",
       "      <td>...</td>\n",
       "      <td>1.0</td>\n",
       "      <td>1</td>\n",
       "      <td>0</td>\n",
       "      <td>0</td>\n",
       "      <td>NaT</td>\n",
       "      <td>NaN</td>\n",
       "      <td>0</td>\n",
       "      <td>8100</td>\n",
       "      <td>1.679816e-01</td>\n",
       "      <td>1360.65108</td>\n",
       "    </tr>\n",
       "    <tr>\n",
       "      <th>25</th>\n",
       "      <td>1</td>\n",
       "      <td>2025-03-31</td>\n",
       "      <td>8</td>\n",
       "      <td>25</td>\n",
       "      <td>6.772395e-04</td>\n",
       "      <td>6.074463e-03</td>\n",
       "      <td>2.935324e-02</td>\n",
       "      <td>0.006489</td>\n",
       "      <td>2027-04-30</td>\n",
       "      <td>0</td>\n",
       "      <td>...</td>\n",
       "      <td>1.0</td>\n",
       "      <td>1</td>\n",
       "      <td>0</td>\n",
       "      <td>0</td>\n",
       "      <td>NaT</td>\n",
       "      <td>NaN</td>\n",
       "      <td>0</td>\n",
       "      <td>8100</td>\n",
       "      <td>8.317270e-02</td>\n",
       "      <td>673.698842</td>\n",
       "    </tr>\n",
       "    <tr>\n",
       "      <th>26</th>\n",
       "      <td>1</td>\n",
       "      <td>2025-03-31</td>\n",
       "      <td>8</td>\n",
       "      <td>26</td>\n",
       "      <td>7.075218e-04</td>\n",
       "      <td>6.781984e-03</td>\n",
       "      <td>2.888044e-02</td>\n",
       "      <td>0.006595</td>\n",
       "      <td>2027-05-31</td>\n",
       "      <td>0</td>\n",
       "      <td>...</td>\n",
       "      <td>1.0</td>\n",
       "      <td>1</td>\n",
       "      <td>0</td>\n",
       "      <td>0</td>\n",
       "      <td>NaT</td>\n",
       "      <td>NaN</td>\n",
       "      <td>0</td>\n",
       "      <td>8100</td>\n",
       "      <td>1.544653e-01</td>\n",
       "      <td>1251.168647</td>\n",
       "    </tr>\n",
       "    <tr>\n",
       "      <th>27</th>\n",
       "      <td>1</td>\n",
       "      <td>2025-03-31</td>\n",
       "      <td>8</td>\n",
       "      <td>27</td>\n",
       "      <td>7.349678e-04</td>\n",
       "      <td>7.516952e-03</td>\n",
       "      <td>2.838930e-02</td>\n",
       "      <td>0.006682</td>\n",
       "      <td>2027-06-30</td>\n",
       "      <td>0</td>\n",
       "      <td>...</td>\n",
       "      <td>1.0</td>\n",
       "      <td>1</td>\n",
       "      <td>0</td>\n",
       "      <td>0</td>\n",
       "      <td>NaT</td>\n",
       "      <td>NaN</td>\n",
       "      <td>0</td>\n",
       "      <td>8100</td>\n",
       "      <td>1.679816e-01</td>\n",
       "      <td>1360.65108</td>\n",
       "    </tr>\n",
       "    <tr>\n",
       "      <th>28</th>\n",
       "      <td>1</td>\n",
       "      <td>2025-03-31</td>\n",
       "      <td>8</td>\n",
       "      <td>28</td>\n",
       "      <td>7.595739e-04</td>\n",
       "      <td>8.276526e-03</td>\n",
       "      <td>2.788171e-02</td>\n",
       "      <td>0.006752</td>\n",
       "      <td>2027-07-31</td>\n",
       "      <td>0</td>\n",
       "      <td>...</td>\n",
       "      <td>1.0</td>\n",
       "      <td>1</td>\n",
       "      <td>0</td>\n",
       "      <td>0</td>\n",
       "      <td>NaT</td>\n",
       "      <td>NaN</td>\n",
       "      <td>0</td>\n",
       "      <td>8100</td>\n",
       "      <td>4.310725e-02</td>\n",
       "      <td>349.168765</td>\n",
       "    </tr>\n",
       "    <tr>\n",
       "      <th>29</th>\n",
       "      <td>1</td>\n",
       "      <td>2025-03-31</td>\n",
       "      <td>8</td>\n",
       "      <td>29</td>\n",
       "      <td>7.813709e-04</td>\n",
       "      <td>9.057897e-03</td>\n",
       "      <td>2.735956e-02</td>\n",
       "      <td>0.006804</td>\n",
       "      <td>2027-08-31</td>\n",
       "      <td>0</td>\n",
       "      <td>...</td>\n",
       "      <td>1.0</td>\n",
       "      <td>1</td>\n",
       "      <td>0</td>\n",
       "      <td>0</td>\n",
       "      <td>NaT</td>\n",
       "      <td>NaN</td>\n",
       "      <td>0</td>\n",
       "      <td>8100</td>\n",
       "      <td>4.966802e-03</td>\n",
       "      <td>40.231093</td>\n",
       "    </tr>\n",
       "    <tr>\n",
       "      <th>30</th>\n",
       "      <td>1</td>\n",
       "      <td>2025-03-31</td>\n",
       "      <td>8</td>\n",
       "      <td>30</td>\n",
       "      <td>8.004183e-04</td>\n",
       "      <td>9.858315e-03</td>\n",
       "      <td>2.682468e-02</td>\n",
       "      <td>0.006841</td>\n",
       "      <td>2027-09-30</td>\n",
       "      <td>0</td>\n",
       "      <td>...</td>\n",
       "      <td>1.0</td>\n",
       "      <td>1</td>\n",
       "      <td>0</td>\n",
       "      <td>0</td>\n",
       "      <td>NaT</td>\n",
       "      <td>NaN</td>\n",
       "      <td>0</td>\n",
       "      <td>8100</td>\n",
       "      <td>1.798621e-02</td>\n",
       "      <td>145.688301</td>\n",
       "    </tr>\n",
       "    <tr>\n",
       "      <th>31</th>\n",
       "      <td>1</td>\n",
       "      <td>2025-03-31</td>\n",
       "      <td>8</td>\n",
       "      <td>31</td>\n",
       "      <td>8.167982e-04</td>\n",
       "      <td>1.067511e-02</td>\n",
       "      <td>2.627886e-02</td>\n",
       "      <td>0.006862</td>\n",
       "      <td>2027-10-31</td>\n",
       "      <td>0</td>\n",
       "      <td>...</td>\n",
       "      <td>1.0</td>\n",
       "      <td>1</td>\n",
       "      <td>0</td>\n",
       "      <td>0</td>\n",
       "      <td>NaT</td>\n",
       "      <td>NaN</td>\n",
       "      <td>0</td>\n",
       "      <td>8100</td>\n",
       "      <td>1.301085e-01</td>\n",
       "      <td>1053.878642</td>\n",
       "    </tr>\n",
       "    <tr>\n",
       "      <th>32</th>\n",
       "      <td>1</td>\n",
       "      <td>2025-03-31</td>\n",
       "      <td>8</td>\n",
       "      <td>32</td>\n",
       "      <td>8.306101e-04</td>\n",
       "      <td>1.150572e-02</td>\n",
       "      <td>2.572380e-02</td>\n",
       "      <td>0.006870</td>\n",
       "      <td>2027-11-30</td>\n",
       "      <td>0</td>\n",
       "      <td>...</td>\n",
       "      <td>1.0</td>\n",
       "      <td>1</td>\n",
       "      <td>0</td>\n",
       "      <td>0</td>\n",
       "      <td>NaT</td>\n",
       "      <td>NaN</td>\n",
       "      <td>0</td>\n",
       "      <td>8100</td>\n",
       "      <td>2.314752e-01</td>\n",
       "      <td>1874.949254</td>\n",
       "    </tr>\n",
       "    <tr>\n",
       "      <th>33</th>\n",
       "      <td>1</td>\n",
       "      <td>2025-03-31</td>\n",
       "      <td>8</td>\n",
       "      <td>33</td>\n",
       "      <td>8.419671e-04</td>\n",
       "      <td>1.234769e-02</td>\n",
       "      <td>2.516116e-02</td>\n",
       "      <td>0.006864</td>\n",
       "      <td>2027-12-31</td>\n",
       "      <td>0</td>\n",
       "      <td>...</td>\n",
       "      <td>1.0</td>\n",
       "      <td>1</td>\n",
       "      <td>0</td>\n",
       "      <td>0</td>\n",
       "      <td>NaT</td>\n",
       "      <td>NaN</td>\n",
       "      <td>0</td>\n",
       "      <td>8100</td>\n",
       "      <td>5.498340e-01</td>\n",
       "      <td>4453.655378</td>\n",
       "    </tr>\n",
       "    <tr>\n",
       "      <th>34</th>\n",
       "      <td>1</td>\n",
       "      <td>2025-03-31</td>\n",
       "      <td>8</td>\n",
       "      <td>34</td>\n",
       "      <td>8.509916e-04</td>\n",
       "      <td>1.319868e-02</td>\n",
       "      <td>2.459248e-02</td>\n",
       "      <td>0.006846</td>\n",
       "      <td>2028-01-31</td>\n",
       "      <td>0</td>\n",
       "      <td>...</td>\n",
       "      <td>1.0</td>\n",
       "      <td>1</td>\n",
       "      <td>0</td>\n",
       "      <td>0</td>\n",
       "      <td>NaT</td>\n",
       "      <td>NaN</td>\n",
       "      <td>0</td>\n",
       "      <td>8100</td>\n",
       "      <td>3.543437e-01</td>\n",
       "      <td>2870.18392</td>\n",
       "    </tr>\n",
       "    <tr>\n",
       "      <th>35</th>\n",
       "      <td>1</td>\n",
       "      <td>2025-03-31</td>\n",
       "      <td>8</td>\n",
       "      <td>35</td>\n",
       "      <td>8.578125e-04</td>\n",
       "      <td>1.405649e-02</td>\n",
       "      <td>2.401925e-02</td>\n",
       "      <td>0.006818</td>\n",
       "      <td>2028-02-29</td>\n",
       "      <td>0</td>\n",
       "      <td>...</td>\n",
       "      <td>1.0</td>\n",
       "      <td>1</td>\n",
       "      <td>0</td>\n",
       "      <td>0</td>\n",
       "      <td>NaT</td>\n",
       "      <td>NaN</td>\n",
       "      <td>0</td>\n",
       "      <td>8100</td>\n",
       "      <td>1.679816e-01</td>\n",
       "      <td>1360.65108</td>\n",
       "    </tr>\n",
       "    <tr>\n",
       "      <th>36</th>\n",
       "      <td>1</td>\n",
       "      <td>2025-03-31</td>\n",
       "      <td>8</td>\n",
       "      <td>36</td>\n",
       "      <td>8.625624e-04</td>\n",
       "      <td>1.491906e-02</td>\n",
       "      <td>2.344284e-02</td>\n",
       "      <td>0.006779</td>\n",
       "      <td>2028-03-31</td>\n",
       "      <td>0</td>\n",
       "      <td>...</td>\n",
       "      <td>1.0</td>\n",
       "      <td>1</td>\n",
       "      <td>0</td>\n",
       "      <td>0</td>\n",
       "      <td>NaT</td>\n",
       "      <td>NaN</td>\n",
       "      <td>0</td>\n",
       "      <td>8100</td>\n",
       "      <td>1.824255e-01</td>\n",
       "      <td>1477.646743</td>\n",
       "    </tr>\n",
       "    <tr>\n",
       "      <th>37</th>\n",
       "      <td>1</td>\n",
       "      <td>2025-03-31</td>\n",
       "      <td>8</td>\n",
       "      <td>37</td>\n",
       "      <td>8.653755e-04</td>\n",
       "      <td>1.578443e-02</td>\n",
       "      <td>2.286455e-02</td>\n",
       "      <td>0.006731</td>\n",
       "      <td>2028-04-30</td>\n",
       "      <td>0</td>\n",
       "      <td>...</td>\n",
       "      <td>1.0</td>\n",
       "      <td>1</td>\n",
       "      <td>0</td>\n",
       "      <td>0</td>\n",
       "      <td>NaT</td>\n",
       "      <td>NaN</td>\n",
       "      <td>0</td>\n",
       "      <td>8100</td>\n",
       "      <td>4.501660e-01</td>\n",
       "      <td>3646.344622</td>\n",
       "    </tr>\n",
       "    <tr>\n",
       "      <th>38</th>\n",
       "      <td>1</td>\n",
       "      <td>2025-03-31</td>\n",
       "      <td>8</td>\n",
       "      <td>38</td>\n",
       "      <td>8.663856e-04</td>\n",
       "      <td>1.665082e-02</td>\n",
       "      <td>2.228559e-02</td>\n",
       "      <td>0.006674</td>\n",
       "      <td>2028-05-31</td>\n",
       "      <td>0</td>\n",
       "      <td>...</td>\n",
       "      <td>1.0</td>\n",
       "      <td>1</td>\n",
       "      <td>0</td>\n",
       "      <td>0</td>\n",
       "      <td>NaT</td>\n",
       "      <td>NaN</td>\n",
       "      <td>0</td>\n",
       "      <td>8100</td>\n",
       "      <td>6.899745e-01</td>\n",
       "      <td>5588.793297</td>\n",
       "    </tr>\n",
       "    <tr>\n",
       "      <th>39</th>\n",
       "      <td>1</td>\n",
       "      <td>2025-03-31</td>\n",
       "      <td>8</td>\n",
       "      <td>39</td>\n",
       "      <td>8.657249e-04</td>\n",
       "      <td>1.751654e-02</td>\n",
       "      <td>2.170707e-02</td>\n",
       "      <td>0.006610</td>\n",
       "      <td>2028-06-30</td>\n",
       "      <td>0</td>\n",
       "      <td>...</td>\n",
       "      <td>1.0</td>\n",
       "      <td>1</td>\n",
       "      <td>0</td>\n",
       "      <td>0</td>\n",
       "      <td>NaT</td>\n",
       "      <td>NaN</td>\n",
       "      <td>0</td>\n",
       "      <td>8100</td>\n",
       "      <td>7.685248e-01</td>\n",
       "      <td>6225.050746</td>\n",
       "    </tr>\n",
       "    <tr>\n",
       "      <th>40</th>\n",
       "      <td>1</td>\n",
       "      <td>2025-03-31</td>\n",
       "      <td>8</td>\n",
       "      <td>40</td>\n",
       "      <td>8.635224e-04</td>\n",
       "      <td>1.838007e-02</td>\n",
       "      <td>2.113002e-02</td>\n",
       "      <td>0.006539</td>\n",
       "      <td>2028-07-31</td>\n",
       "      <td>0</td>\n",
       "      <td>...</td>\n",
       "      <td>1.0</td>\n",
       "      <td>1</td>\n",
       "      <td>0</td>\n",
       "      <td>0</td>\n",
       "      <td>NaT</td>\n",
       "      <td>NaN</td>\n",
       "      <td>0</td>\n",
       "      <td>8100</td>\n",
       "      <td>2.497399e-01</td>\n",
       "      <td>2022.893145</td>\n",
       "    </tr>\n",
       "    <tr>\n",
       "      <th>41</th>\n",
       "      <td>1</td>\n",
       "      <td>2025-03-31</td>\n",
       "      <td>8</td>\n",
       "      <td>41</td>\n",
       "      <td>8.599037e-04</td>\n",
       "      <td>1.923997e-02</td>\n",
       "      <td>2.055539e-02</td>\n",
       "      <td>0.006462</td>\n",
       "      <td>2028-08-31</td>\n",
       "      <td>0</td>\n",
       "      <td>...</td>\n",
       "      <td>1.0</td>\n",
       "      <td>1</td>\n",
       "      <td>0</td>\n",
       "      <td>0</td>\n",
       "      <td>NaT</td>\n",
       "      <td>NaN</td>\n",
       "      <td>0</td>\n",
       "      <td>8100</td>\n",
       "      <td>8.317270e-02</td>\n",
       "      <td>673.698842</td>\n",
       "    </tr>\n",
       "    <tr>\n",
       "      <th>42</th>\n",
       "      <td>1</td>\n",
       "      <td>2025-03-31</td>\n",
       "      <td>8</td>\n",
       "      <td>42</td>\n",
       "      <td>8.549894e-04</td>\n",
       "      <td>2.009496e-02</td>\n",
       "      <td>1.998404e-02</td>\n",
       "      <td>0.006379</td>\n",
       "      <td>2028-09-30</td>\n",
       "      <td>0</td>\n",
       "      <td>...</td>\n",
       "      <td>1.0</td>\n",
       "      <td>1</td>\n",
       "      <td>0</td>\n",
       "      <td>0</td>\n",
       "      <td>NaT</td>\n",
       "      <td>NaN</td>\n",
       "      <td>0</td>\n",
       "      <td>8100</td>\n",
       "      <td>7.585818e-02</td>\n",
       "      <td>614.451258</td>\n",
       "    </tr>\n",
       "    <tr>\n",
       "      <th>43</th>\n",
       "      <td>1</td>\n",
       "      <td>2025-03-31</td>\n",
       "      <td>8</td>\n",
       "      <td>43</td>\n",
       "      <td>8.488956e-04</td>\n",
       "      <td>2.094385e-02</td>\n",
       "      <td>1.941677e-02</td>\n",
       "      <td>0.006292</td>\n",
       "      <td>2028-10-31</td>\n",
       "      <td>0</td>\n",
       "      <td>...</td>\n",
       "      <td>1.0</td>\n",
       "      <td>1</td>\n",
       "      <td>0</td>\n",
       "      <td>0</td>\n",
       "      <td>NaT</td>\n",
       "      <td>NaN</td>\n",
       "      <td>0</td>\n",
       "      <td>8100</td>\n",
       "      <td>1.679816e-01</td>\n",
       "      <td>1360.65108</td>\n",
       "    </tr>\n",
       "    <tr>\n",
       "      <th>44</th>\n",
       "      <td>1</td>\n",
       "      <td>2025-03-31</td>\n",
       "      <td>8</td>\n",
       "      <td>44</td>\n",
       "      <td>8.417325e-04</td>\n",
       "      <td>2.178559e-02</td>\n",
       "      <td>1.885428e-02</td>\n",
       "      <td>0.006201</td>\n",
       "      <td>2028-11-30</td>\n",
       "      <td>0</td>\n",
       "      <td>...</td>\n",
       "      <td>1.0</td>\n",
       "      <td>1</td>\n",
       "      <td>0</td>\n",
       "      <td>0</td>\n",
       "      <td>NaT</td>\n",
       "      <td>NaN</td>\n",
       "      <td>0</td>\n",
       "      <td>8100</td>\n",
       "      <td>8.317270e-02</td>\n",
       "      <td>673.698842</td>\n",
       "    </tr>\n",
       "    <tr>\n",
       "      <th>45</th>\n",
       "      <td>1</td>\n",
       "      <td>2025-03-31</td>\n",
       "      <td>8</td>\n",
       "      <td>45</td>\n",
       "      <td>8.336052e-04</td>\n",
       "      <td>2.261919e-02</td>\n",
       "      <td>1.829722e-02</td>\n",
       "      <td>0.006106</td>\n",
       "      <td>2028-12-31</td>\n",
       "      <td>0</td>\n",
       "      <td>...</td>\n",
       "      <td>1.0</td>\n",
       "      <td>1</td>\n",
       "      <td>0</td>\n",
       "      <td>0</td>\n",
       "      <td>NaT</td>\n",
       "      <td>NaN</td>\n",
       "      <td>0</td>\n",
       "      <td>8100</td>\n",
       "      <td>2.314752e-01</td>\n",
       "      <td>1874.949254</td>\n",
       "    </tr>\n",
       "    <tr>\n",
       "      <th>46</th>\n",
       "      <td>1</td>\n",
       "      <td>2025-03-31</td>\n",
       "      <td>8</td>\n",
       "      <td>46</td>\n",
       "      <td>8.246127e-04</td>\n",
       "      <td>2.344380e-02</td>\n",
       "      <td>1.774618e-02</td>\n",
       "      <td>0.006008</td>\n",
       "      <td>2029-01-31</td>\n",
       "      <td>0</td>\n",
       "      <td>...</td>\n",
       "      <td>1.0</td>\n",
       "      <td>1</td>\n",
       "      <td>0</td>\n",
       "      <td>0</td>\n",
       "      <td>NaT</td>\n",
       "      <td>NaN</td>\n",
       "      <td>0</td>\n",
       "      <td>8100</td>\n",
       "      <td>4.255575e-01</td>\n",
       "      <td>3447.015614</td>\n",
       "    </tr>\n",
       "    <tr>\n",
       "      <th>47</th>\n",
       "      <td>1</td>\n",
       "      <td>2025-03-31</td>\n",
       "      <td>8</td>\n",
       "      <td>47</td>\n",
       "      <td>8.148484e-04</td>\n",
       "      <td>2.425865e-02</td>\n",
       "      <td>1.720166e-02</td>\n",
       "      <td>0.005907</td>\n",
       "      <td>2029-02-28</td>\n",
       "      <td>0</td>\n",
       "      <td>...</td>\n",
       "      <td>1.0</td>\n",
       "      <td>1</td>\n",
       "      <td>0</td>\n",
       "      <td>0</td>\n",
       "      <td>NaT</td>\n",
       "      <td>NaN</td>\n",
       "      <td>0</td>\n",
       "      <td>8100</td>\n",
       "      <td>4.501660e-01</td>\n",
       "      <td>3646.344622</td>\n",
       "    </tr>\n",
       "    <tr>\n",
       "      <th>48</th>\n",
       "      <td>1</td>\n",
       "      <td>2025-03-31</td>\n",
       "      <td>8</td>\n",
       "      <td>48</td>\n",
       "      <td>8.044000e-04</td>\n",
       "      <td>2.506305e-02</td>\n",
       "      <td>1.666411e-02</td>\n",
       "      <td>0.005804</td>\n",
       "      <td>2029-03-31</td>\n",
       "      <td>0</td>\n",
       "      <td>...</td>\n",
       "      <td>1.0</td>\n",
       "      <td>1</td>\n",
       "      <td>0</td>\n",
       "      <td>0</td>\n",
       "      <td>NaT</td>\n",
       "      <td>NaN</td>\n",
       "      <td>0</td>\n",
       "      <td>8100</td>\n",
       "      <td>8.317270e-02</td>\n",
       "      <td>673.698842</td>\n",
       "    </tr>\n",
       "    <tr>\n",
       "      <th>49</th>\n",
       "      <td>1</td>\n",
       "      <td>2025-03-31</td>\n",
       "      <td>8</td>\n",
       "      <td>49</td>\n",
       "      <td>7.933496e-04</td>\n",
       "      <td>2.585640e-02</td>\n",
       "      <td>1.613396e-02</td>\n",
       "      <td>0.005699</td>\n",
       "      <td>2029-04-30</td>\n",
       "      <td>0</td>\n",
       "      <td>...</td>\n",
       "      <td>1.0</td>\n",
       "      <td>1</td>\n",
       "      <td>0</td>\n",
       "      <td>0</td>\n",
       "      <td>NaT</td>\n",
       "      <td>NaN</td>\n",
       "      <td>0</td>\n",
       "      <td>8100</td>\n",
       "      <td>3.543437e-01</td>\n",
       "      <td>2870.18392</td>\n",
       "    </tr>\n",
       "    <tr>\n",
       "      <th>50</th>\n",
       "      <td>1</td>\n",
       "      <td>2025-03-31</td>\n",
       "      <td>8</td>\n",
       "      <td>50</td>\n",
       "      <td>7.817737e-04</td>\n",
       "      <td>2.663818e-02</td>\n",
       "      <td>1.561154e-02</td>\n",
       "      <td>0.005593</td>\n",
       "      <td>2029-05-31</td>\n",
       "      <td>0</td>\n",
       "      <td>...</td>\n",
       "      <td>1.0</td>\n",
       "      <td>1</td>\n",
       "      <td>0</td>\n",
       "      <td>0</td>\n",
       "      <td>NaT</td>\n",
       "      <td>NaN</td>\n",
       "      <td>0</td>\n",
       "      <td>8100</td>\n",
       "      <td>4.255575e-01</td>\n",
       "      <td>3447.015614</td>\n",
       "    </tr>\n",
       "    <tr>\n",
       "      <th>51</th>\n",
       "      <td>1</td>\n",
       "      <td>2025-03-31</td>\n",
       "      <td>8</td>\n",
       "      <td>51</td>\n",
       "      <td>7.697435e-04</td>\n",
       "      <td>2.740792e-02</td>\n",
       "      <td>1.509716e-02</td>\n",
       "      <td>0.005486</td>\n",
       "      <td>2029-06-30</td>\n",
       "      <td>0</td>\n",
       "      <td>...</td>\n",
       "      <td>1.0</td>\n",
       "      <td>1</td>\n",
       "      <td>0</td>\n",
       "      <td>0</td>\n",
       "      <td>NaT</td>\n",
       "      <td>NaN</td>\n",
       "      <td>0</td>\n",
       "      <td>8100</td>\n",
       "      <td>8.317270e-02</td>\n",
       "      <td>673.698842</td>\n",
       "    </tr>\n",
       "    <tr>\n",
       "      <th>52</th>\n",
       "      <td>1</td>\n",
       "      <td>2025-03-31</td>\n",
       "      <td>8</td>\n",
       "      <td>52</td>\n",
       "      <td>7.573253e-04</td>\n",
       "      <td>2.816525e-02</td>\n",
       "      <td>1.459107e-02</td>\n",
       "      <td>0.005379</td>\n",
       "      <td>2029-07-31</td>\n",
       "      <td>0</td>\n",
       "      <td>...</td>\n",
       "      <td>1.0</td>\n",
       "      <td>1</td>\n",
       "      <td>0</td>\n",
       "      <td>0</td>\n",
       "      <td>NaT</td>\n",
       "      <td>NaN</td>\n",
       "      <td>0</td>\n",
       "      <td>8100</td>\n",
       "      <td>9.013299e-03</td>\n",
       "      <td>73.007719</td>\n",
       "    </tr>\n",
       "    <tr>\n",
       "      <th>53</th>\n",
       "      <td>1</td>\n",
       "      <td>2025-03-31</td>\n",
       "      <td>8</td>\n",
       "      <td>53</td>\n",
       "      <td>7.445802e-04</td>\n",
       "      <td>2.890983e-02</td>\n",
       "      <td>1.409351e-02</td>\n",
       "      <td>0.005270</td>\n",
       "      <td>2029-08-31</td>\n",
       "      <td>0</td>\n",
       "      <td>...</td>\n",
       "      <td>1.0</td>\n",
       "      <td>1</td>\n",
       "      <td>0</td>\n",
       "      <td>0</td>\n",
       "      <td>NaT</td>\n",
       "      <td>NaN</td>\n",
       "      <td>0</td>\n",
       "      <td>8100</td>\n",
       "      <td>5.732418e-02</td>\n",
       "      <td>464.325825</td>\n",
       "    </tr>\n",
       "    <tr>\n",
       "      <th>54</th>\n",
       "      <td>1</td>\n",
       "      <td>2025-03-31</td>\n",
       "      <td>8</td>\n",
       "      <td>54</td>\n",
       "      <td>7.315647e-04</td>\n",
       "      <td>2.964139e-02</td>\n",
       "      <td>1.360464e-02</td>\n",
       "      <td>0.005162</td>\n",
       "      <td>2029-09-30</td>\n",
       "      <td>0</td>\n",
       "      <td>...</td>\n",
       "      <td>1.0</td>\n",
       "      <td>1</td>\n",
       "      <td>0</td>\n",
       "      <td>0</td>\n",
       "      <td>NaT</td>\n",
       "      <td>NaN</td>\n",
       "      <td>0</td>\n",
       "      <td>8100</td>\n",
       "      <td>1.798621e-02</td>\n",
       "      <td>145.688301</td>\n",
       "    </tr>\n",
       "    <tr>\n",
       "      <th>55</th>\n",
       "      <td>1</td>\n",
       "      <td>2025-03-31</td>\n",
       "      <td>8</td>\n",
       "      <td>55</td>\n",
       "      <td>7.183309e-04</td>\n",
       "      <td>3.035972e-02</td>\n",
       "      <td>1.312462e-02</td>\n",
       "      <td>0.005054</td>\n",
       "      <td>2029-10-31</td>\n",
       "      <td>0</td>\n",
       "      <td>...</td>\n",
       "      <td>1.0</td>\n",
       "      <td>1</td>\n",
       "      <td>0</td>\n",
       "      <td>0</td>\n",
       "      <td>NaT</td>\n",
       "      <td>NaN</td>\n",
       "      <td>0</td>\n",
       "      <td>8100</td>\n",
       "      <td>1.501182e-03</td>\n",
       "      <td>12.159576</td>\n",
       "    </tr>\n",
       "    <tr>\n",
       "      <th>56</th>\n",
       "      <td>1</td>\n",
       "      <td>2025-03-31</td>\n",
       "      <td>8</td>\n",
       "      <td>56</td>\n",
       "      <td>7.049267e-04</td>\n",
       "      <td>3.106465e-02</td>\n",
       "      <td>1.265355e-02</td>\n",
       "      <td>0.004946</td>\n",
       "      <td>2029-11-30</td>\n",
       "      <td>0</td>\n",
       "      <td>...</td>\n",
       "      <td>1.0</td>\n",
       "      <td>1</td>\n",
       "      <td>0</td>\n",
       "      <td>0</td>\n",
       "      <td>NaT</td>\n",
       "      <td>NaN</td>\n",
       "      <td>0</td>\n",
       "      <td>8100</td>\n",
       "      <td>1.233946e-04</td>\n",
       "      <td>0.999496</td>\n",
       "    </tr>\n",
       "    <tr>\n",
       "      <th>57</th>\n",
       "      <td>1</td>\n",
       "      <td>2025-03-31</td>\n",
       "      <td>8</td>\n",
       "      <td>57</td>\n",
       "      <td>6.913960e-04</td>\n",
       "      <td>3.175604e-02</td>\n",
       "      <td>1.219152e-02</td>\n",
       "      <td>0.004838</td>\n",
       "      <td>2029-12-31</td>\n",
       "      <td>0</td>\n",
       "      <td>...</td>\n",
       "      <td>1.0</td>\n",
       "      <td>1</td>\n",
       "      <td>0</td>\n",
       "      <td>0</td>\n",
       "      <td>NaT</td>\n",
       "      <td>NaN</td>\n",
       "      <td>0</td>\n",
       "      <td>8100</td>\n",
       "      <td>1.845789e-05</td>\n",
       "      <td>0.149509</td>\n",
       "    </tr>\n",
       "    <tr>\n",
       "      <th>58</th>\n",
       "      <td>1</td>\n",
       "      <td>2025-03-31</td>\n",
       "      <td>8</td>\n",
       "      <td>58</td>\n",
       "      <td>6.777789e-04</td>\n",
       "      <td>3.243382e-02</td>\n",
       "      <td>1.173860e-02</td>\n",
       "      <td>0.004732</td>\n",
       "      <td>2030-01-31</td>\n",
       "      <td>0</td>\n",
       "      <td>...</td>\n",
       "      <td>1.0</td>\n",
       "      <td>1</td>\n",
       "      <td>0</td>\n",
       "      <td>0</td>\n",
       "      <td>NaT</td>\n",
       "      <td>NaN</td>\n",
       "      <td>0</td>\n",
       "      <td>8100</td>\n",
       "      <td>1.845789e-05</td>\n",
       "      <td>0.149509</td>\n",
       "    </tr>\n",
       "    <tr>\n",
       "      <th>59</th>\n",
       "      <td>1</td>\n",
       "      <td>2025-03-31</td>\n",
       "      <td>8</td>\n",
       "      <td>59</td>\n",
       "      <td>6.641119e-04</td>\n",
       "      <td>3.309793e-02</td>\n",
       "      <td>1.129481e-02</td>\n",
       "      <td>0.004626</td>\n",
       "      <td>2030-02-28</td>\n",
       "      <td>0</td>\n",
       "      <td>...</td>\n",
       "      <td>1.0</td>\n",
       "      <td>1</td>\n",
       "      <td>0</td>\n",
       "      <td>0</td>\n",
       "      <td>NaT</td>\n",
       "      <td>NaN</td>\n",
       "      <td>0</td>\n",
       "      <td>8100</td>\n",
       "      <td>7.504502e-06</td>\n",
       "      <td>0.060786</td>\n",
       "    </tr>\n",
       "    <tr>\n",
       "      <th>60</th>\n",
       "      <td>1</td>\n",
       "      <td>2025-03-31</td>\n",
       "      <td>8</td>\n",
       "      <td>60</td>\n",
       "      <td>6.504285e-04</td>\n",
       "      <td>3.374836e-02</td>\n",
       "      <td>1.086016e-02</td>\n",
       "      <td>0.004521</td>\n",
       "      <td>2030-03-31</td>\n",
       "      <td>0</td>\n",
       "      <td>...</td>\n",
       "      <td>1.0</td>\n",
       "      <td>1</td>\n",
       "      <td>0</td>\n",
       "      <td>0</td>\n",
       "      <td>NaT</td>\n",
       "      <td>NaN</td>\n",
       "      <td>0</td>\n",
       "      <td>8100</td>\n",
       "      <td>8.293750e-06</td>\n",
       "      <td>0.067179</td>\n",
       "    </tr>\n",
       "    <tr>\n",
       "      <th>61</th>\n",
       "      <td>1</td>\n",
       "      <td>2025-03-31</td>\n",
       "      <td>8</td>\n",
       "      <td>61</td>\n",
       "      <td>6.367587e-04</td>\n",
       "      <td>3.438512e-02</td>\n",
       "      <td>1.043464e-02</td>\n",
       "      <td>0.004417</td>\n",
       "      <td>2030-04-30</td>\n",
       "      <td>0</td>\n",
       "      <td>...</td>\n",
       "      <td>1.0</td>\n",
       "      <td>1</td>\n",
       "      <td>0</td>\n",
       "      <td>0</td>\n",
       "      <td>NaT</td>\n",
       "      <td>NaN</td>\n",
       "      <td>0</td>\n",
       "      <td>8100</td>\n",
       "      <td>5.544852e-05</td>\n",
       "      <td>0.449133</td>\n",
       "    </tr>\n",
       "    <tr>\n",
       "      <th>62</th>\n",
       "      <td>1</td>\n",
       "      <td>2025-03-31</td>\n",
       "      <td>8</td>\n",
       "      <td>62</td>\n",
       "      <td>6.231299e-04</td>\n",
       "      <td>3.500825e-02</td>\n",
       "      <td>1.001824e-02</td>\n",
       "      <td>0.004315</td>\n",
       "      <td>2030-05-31</td>\n",
       "      <td>0</td>\n",
       "      <td>...</td>\n",
       "      <td>1.0</td>\n",
       "      <td>1</td>\n",
       "      <td>0</td>\n",
       "      <td>0</td>\n",
       "      <td>NaT</td>\n",
       "      <td>NaN</td>\n",
       "      <td>0</td>\n",
       "      <td>8100</td>\n",
       "      <td>1.665581e-04</td>\n",
       "      <td>1.34912</td>\n",
       "    </tr>\n",
       "    <tr>\n",
       "      <th>63</th>\n",
       "      <td>1</td>\n",
       "      <td>2025-03-31</td>\n",
       "      <td>8</td>\n",
       "      <td>63</td>\n",
       "      <td>6.095668e-04</td>\n",
       "      <td>3.561782e-02</td>\n",
       "      <td>9.610893e-03</td>\n",
       "      <td>0.004213</td>\n",
       "      <td>2030-06-30</td>\n",
       "      <td>0</td>\n",
       "      <td>...</td>\n",
       "      <td>1.0</td>\n",
       "      <td>1</td>\n",
       "      <td>0</td>\n",
       "      <td>0</td>\n",
       "      <td>NaT</td>\n",
       "      <td>NaN</td>\n",
       "      <td>0</td>\n",
       "      <td>8100</td>\n",
       "      <td>1.363703e-04</td>\n",
       "      <td>1.1046</td>\n",
       "    </tr>\n",
       "    <tr>\n",
       "      <th>64</th>\n",
       "      <td>1</td>\n",
       "      <td>2025-03-31</td>\n",
       "      <td>8</td>\n",
       "      <td>64</td>\n",
       "      <td>5.960915e-04</td>\n",
       "      <td>3.621391e-02</td>\n",
       "      <td>9.212555e-03</td>\n",
       "      <td>0.004113</td>\n",
       "      <td>2030-07-31</td>\n",
       "      <td>0</td>\n",
       "      <td>...</td>\n",
       "      <td>1.0</td>\n",
       "      <td>1</td>\n",
       "      <td>0</td>\n",
       "      <td>0</td>\n",
       "      <td>NaT</td>\n",
       "      <td>NaN</td>\n",
       "      <td>0</td>\n",
       "      <td>8100</td>\n",
       "      <td>2.248168e-04</td>\n",
       "      <td>1.821016</td>\n",
       "    </tr>\n",
       "    <tr>\n",
       "      <th>65</th>\n",
       "      <td>1</td>\n",
       "      <td>2025-03-31</td>\n",
       "      <td>8</td>\n",
       "      <td>65</td>\n",
       "      <td>5.827239e-04</td>\n",
       "      <td>3.679663e-02</td>\n",
       "      <td>8.823149e-03</td>\n",
       "      <td>0.004015</td>\n",
       "      <td>2030-08-31</td>\n",
       "      <td>0</td>\n",
       "      <td>...</td>\n",
       "      <td>1.0</td>\n",
       "      <td>1</td>\n",
       "      <td>0</td>\n",
       "      <td>0</td>\n",
       "      <td>NaT</td>\n",
       "      <td>NaN</td>\n",
       "      <td>0</td>\n",
       "      <td>8100</td>\n",
       "      <td>2.472623e-03</td>\n",
       "      <td>20.028248</td>\n",
       "    </tr>\n",
       "    <tr>\n",
       "      <th>66</th>\n",
       "      <td>1</td>\n",
       "      <td>2025-03-31</td>\n",
       "      <td>8</td>\n",
       "      <td>66</td>\n",
       "      <td>5.694817e-04</td>\n",
       "      <td>3.736612e-02</td>\n",
       "      <td>8.442593e-03</td>\n",
       "      <td>0.003918</td>\n",
       "      <td>2030-09-30</td>\n",
       "      <td>0</td>\n",
       "      <td>...</td>\n",
       "      <td>1.0</td>\n",
       "      <td>1</td>\n",
       "      <td>0</td>\n",
       "      <td>0</td>\n",
       "      <td>NaT</td>\n",
       "      <td>NaN</td>\n",
       "      <td>0</td>\n",
       "      <td>8100</td>\n",
       "      <td>3.034470e-04</td>\n",
       "      <td>2.457921</td>\n",
       "    </tr>\n",
       "    <tr>\n",
       "      <th>67</th>\n",
       "      <td>1</td>\n",
       "      <td>2025-03-31</td>\n",
       "      <td>8</td>\n",
       "      <td>67</td>\n",
       "      <td>5.563805e-04</td>\n",
       "      <td>3.792250e-02</td>\n",
       "      <td>8.070792e-03</td>\n",
       "      <td>0.003823</td>\n",
       "      <td>2030-10-31</td>\n",
       "      <td>0</td>\n",
       "      <td>...</td>\n",
       "      <td>1.0</td>\n",
       "      <td>1</td>\n",
       "      <td>0</td>\n",
       "      <td>0</td>\n",
       "      <td>NaT</td>\n",
       "      <td>NaN</td>\n",
       "      <td>0</td>\n",
       "      <td>8100</td>\n",
       "      <td>6.127974e-05</td>\n",
       "      <td>0.496366</td>\n",
       "    </tr>\n",
       "    <tr>\n",
       "      <th>68</th>\n",
       "      <td>1</td>\n",
       "      <td>2025-03-31</td>\n",
       "      <td>8</td>\n",
       "      <td>68</td>\n",
       "      <td>5.434343e-04</td>\n",
       "      <td>3.846593e-02</td>\n",
       "      <td>7.707642e-03</td>\n",
       "      <td>0.003729</td>\n",
       "      <td>2030-11-30</td>\n",
       "      <td>0</td>\n",
       "      <td>...</td>\n",
       "      <td>1.0</td>\n",
       "      <td>1</td>\n",
       "      <td>0</td>\n",
       "      <td>0</td>\n",
       "      <td>NaT</td>\n",
       "      <td>NaN</td>\n",
       "      <td>0</td>\n",
       "      <td>8100</td>\n",
       "      <td>3.706061e-04</td>\n",
       "      <td>3.00191</td>\n",
       "    </tr>\n",
       "    <tr>\n",
       "      <th>69</th>\n",
       "      <td>1</td>\n",
       "      <td>2025-03-31</td>\n",
       "      <td>8</td>\n",
       "      <td>69</td>\n",
       "      <td>5.306552e-04</td>\n",
       "      <td>3.899659e-02</td>\n",
       "      <td>7.353032e-03</td>\n",
       "      <td>0.003637</td>\n",
       "      <td>2030-12-31</td>\n",
       "      <td>0</td>\n",
       "      <td>...</td>\n",
       "      <td>1.0</td>\n",
       "      <td>1</td>\n",
       "      <td>0</td>\n",
       "      <td>0</td>\n",
       "      <td>NaT</td>\n",
       "      <td>NaN</td>\n",
       "      <td>0</td>\n",
       "      <td>8100</td>\n",
       "      <td>2.237849e-03</td>\n",
       "      <td>18.126573</td>\n",
       "    </tr>\n",
       "    <tr>\n",
       "      <th>70</th>\n",
       "      <td>1</td>\n",
       "      <td>2025-03-31</td>\n",
       "      <td>8</td>\n",
       "      <td>70</td>\n",
       "      <td>5.180539e-04</td>\n",
       "      <td>3.951464e-02</td>\n",
       "      <td>7.006842e-03</td>\n",
       "      <td>0.003547</td>\n",
       "      <td>2031-01-31</td>\n",
       "      <td>0</td>\n",
       "      <td>...</td>\n",
       "      <td>1.0</td>\n",
       "      <td>1</td>\n",
       "      <td>0</td>\n",
       "      <td>0</td>\n",
       "      <td>NaT</td>\n",
       "      <td>NaN</td>\n",
       "      <td>0</td>\n",
       "      <td>8100</td>\n",
       "      <td>2.025320e-03</td>\n",
       "      <td>16.405095</td>\n",
       "    </tr>\n",
       "    <tr>\n",
       "      <th>71</th>\n",
       "      <td>1</td>\n",
       "      <td>2025-03-31</td>\n",
       "      <td>8</td>\n",
       "      <td>71</td>\n",
       "      <td>5.056395e-04</td>\n",
       "      <td>4.002028e-02</td>\n",
       "      <td>6.668949e-03</td>\n",
       "      <td>0.003458</td>\n",
       "      <td>2031-02-28</td>\n",
       "      <td>0</td>\n",
       "      <td>...</td>\n",
       "      <td>1.0</td>\n",
       "      <td>1</td>\n",
       "      <td>0</td>\n",
       "      <td>0</td>\n",
       "      <td>NaT</td>\n",
       "      <td>NaN</td>\n",
       "      <td>0</td>\n",
       "      <td>8100</td>\n",
       "      <td>1.501182e-03</td>\n",
       "      <td>12.159576</td>\n",
       "    </tr>\n",
       "    <tr>\n",
       "      <th>72</th>\n",
       "      <td>1</td>\n",
       "      <td>2025-03-31</td>\n",
       "      <td>8</td>\n",
       "      <td>72</td>\n",
       "      <td>4.934200e-04</td>\n",
       "      <td>4.051370e-02</td>\n",
       "      <td>6.339221e-03</td>\n",
       "      <td>0.003371</td>\n",
       "      <td>2031-03-31</td>\n",
       "      <td>0</td>\n",
       "      <td>...</td>\n",
       "      <td>1.0</td>\n",
       "      <td>1</td>\n",
       "      <td>0</td>\n",
       "      <td>0</td>\n",
       "      <td>NaT</td>\n",
       "      <td>NaN</td>\n",
       "      <td>0</td>\n",
       "      <td>8100</td>\n",
       "      <td>9.013299e-03</td>\n",
       "      <td>73.007719</td>\n",
       "    </tr>\n",
       "    <tr>\n",
       "      <th>73</th>\n",
       "      <td>1</td>\n",
       "      <td>2025-03-31</td>\n",
       "      <td>8</td>\n",
       "      <td>73</td>\n",
       "      <td>4.814021e-04</td>\n",
       "      <td>4.099510e-02</td>\n",
       "      <td>6.017524e-03</td>\n",
       "      <td>0.003286</td>\n",
       "      <td>2031-04-30</td>\n",
       "      <td>0</td>\n",
       "      <td>...</td>\n",
       "      <td>1.0</td>\n",
       "      <td>1</td>\n",
       "      <td>0</td>\n",
       "      <td>0</td>\n",
       "      <td>NaT</td>\n",
       "      <td>NaN</td>\n",
       "      <td>0</td>\n",
       "      <td>8100</td>\n",
       "      <td>6.059801e-03</td>\n",
       "      <td>49.084392</td>\n",
       "    </tr>\n",
       "    <tr>\n",
       "      <th>74</th>\n",
       "      <td>1</td>\n",
       "      <td>2025-03-31</td>\n",
       "      <td>8</td>\n",
       "      <td>74</td>\n",
       "      <td>4.695912e-04</td>\n",
       "      <td>4.146469e-02</td>\n",
       "      <td>5.703719e-03</td>\n",
       "      <td>0.003203</td>\n",
       "      <td>2031-05-31</td>\n",
       "      <td>0</td>\n",
       "      <td>...</td>\n",
       "      <td>1.0</td>\n",
       "      <td>1</td>\n",
       "      <td>0</td>\n",
       "      <td>0</td>\n",
       "      <td>NaT</td>\n",
       "      <td>NaN</td>\n",
       "      <td>0</td>\n",
       "      <td>8100</td>\n",
       "      <td>1.832939e-03</td>\n",
       "      <td>14.846805</td>\n",
       "    </tr>\n",
       "    <tr>\n",
       "      <th>75</th>\n",
       "      <td>1</td>\n",
       "      <td>2025-03-31</td>\n",
       "      <td>8</td>\n",
       "      <td>75</td>\n",
       "      <td>4.579921e-04</td>\n",
       "      <td>4.192268e-02</td>\n",
       "      <td>5.397666e-03</td>\n",
       "      <td>0.003121</td>\n",
       "      <td>2031-06-30</td>\n",
       "      <td>0</td>\n",
       "      <td>...</td>\n",
       "      <td>1.0</td>\n",
       "      <td>1</td>\n",
       "      <td>0</td>\n",
       "      <td>0</td>\n",
       "      <td>NaT</td>\n",
       "      <td>NaN</td>\n",
       "      <td>0</td>\n",
       "      <td>8100</td>\n",
       "      <td>3.684240e-03</td>\n",
       "      <td>29.842343</td>\n",
       "    </tr>\n",
       "    <tr>\n",
       "      <th>76</th>\n",
       "      <td>1</td>\n",
       "      <td>2025-03-31</td>\n",
       "      <td>8</td>\n",
       "      <td>76</td>\n",
       "      <td>4.466083e-04</td>\n",
       "      <td>4.236929e-02</td>\n",
       "      <td>5.099220e-03</td>\n",
       "      <td>0.003042</td>\n",
       "      <td>2031-07-31</td>\n",
       "      <td>0</td>\n",
       "      <td>...</td>\n",
       "      <td>1.0</td>\n",
       "      <td>1</td>\n",
       "      <td>0</td>\n",
       "      <td>0</td>\n",
       "      <td>NaT</td>\n",
       "      <td>NaN</td>\n",
       "      <td>0</td>\n",
       "      <td>8100</td>\n",
       "      <td>1.358520e-03</td>\n",
       "      <td>11.004012</td>\n",
       "    </tr>\n",
       "    <tr>\n",
       "      <th>77</th>\n",
       "      <td>1</td>\n",
       "      <td>2025-03-31</td>\n",
       "      <td>8</td>\n",
       "      <td>77</td>\n",
       "      <td>4.354427e-04</td>\n",
       "      <td>4.280474e-02</td>\n",
       "      <td>4.808236e-03</td>\n",
       "      <td>0.002964</td>\n",
       "      <td>2031-08-31</td>\n",
       "      <td>0</td>\n",
       "      <td>...</td>\n",
       "      <td>1.0</td>\n",
       "      <td>1</td>\n",
       "      <td>0</td>\n",
       "      <td>0</td>\n",
       "      <td>NaT</td>\n",
       "      <td>NaN</td>\n",
       "      <td>0</td>\n",
       "      <td>8100</td>\n",
       "      <td>1.507104e-04</td>\n",
       "      <td>1.220754</td>\n",
       "    </tr>\n",
       "    <tr>\n",
       "      <th>78</th>\n",
       "      <td>1</td>\n",
       "      <td>2025-03-31</td>\n",
       "      <td>8</td>\n",
       "      <td>78</td>\n",
       "      <td>4.244972e-04</td>\n",
       "      <td>4.322923e-02</td>\n",
       "      <td>4.524565e-03</td>\n",
       "      <td>0.002887</td>\n",
       "      <td>2031-09-30</td>\n",
       "      <td>0</td>\n",
       "      <td>...</td>\n",
       "      <td>1.0</td>\n",
       "      <td>1</td>\n",
       "      <td>0</td>\n",
       "      <td>0</td>\n",
       "      <td>NaT</td>\n",
       "      <td>NaN</td>\n",
       "      <td>0</td>\n",
       "      <td>8100</td>\n",
       "      <td>1.006771e-03</td>\n",
       "      <td>8.154844</td>\n",
       "    </tr>\n",
       "    <tr>\n",
       "      <th>79</th>\n",
       "      <td>1</td>\n",
       "      <td>2025-03-31</td>\n",
       "      <td>8</td>\n",
       "      <td>79</td>\n",
       "      <td>4.137734e-04</td>\n",
       "      <td>4.364301e-02</td>\n",
       "      <td>4.248061e-03</td>\n",
       "      <td>0.002813</td>\n",
       "      <td>2031-10-31</td>\n",
       "      <td>0</td>\n",
       "      <td>...</td>\n",
       "      <td>1.0</td>\n",
       "      <td>1</td>\n",
       "      <td>0</td>\n",
       "      <td>0</td>\n",
       "      <td>NaT</td>\n",
       "      <td>NaN</td>\n",
       "      <td>0</td>\n",
       "      <td>8100</td>\n",
       "      <td>9.110512e-04</td>\n",
       "      <td>7.379515</td>\n",
       "    </tr>\n",
       "    <tr>\n",
       "      <th>80</th>\n",
       "      <td>1</td>\n",
       "      <td>2025-03-31</td>\n",
       "      <td>8</td>\n",
       "      <td>80</td>\n",
       "      <td>4.032719e-04</td>\n",
       "      <td>4.404628e-02</td>\n",
       "      <td>3.978575e-03</td>\n",
       "      <td>0.002740</td>\n",
       "      <td>2031-11-30</td>\n",
       "      <td>0</td>\n",
       "      <td>...</td>\n",
       "      <td>1.0</td>\n",
       "      <td>1</td>\n",
       "      <td>0</td>\n",
       "      <td>0</td>\n",
       "      <td>NaT</td>\n",
       "      <td>NaN</td>\n",
       "      <td>0</td>\n",
       "      <td>8100</td>\n",
       "      <td>7.391541e-03</td>\n",
       "      <td>59.871485</td>\n",
       "    </tr>\n",
       "    <tr>\n",
       "      <th>81</th>\n",
       "      <td>1</td>\n",
       "      <td>2025-03-31</td>\n",
       "      <td>8</td>\n",
       "      <td>81</td>\n",
       "      <td>3.929929e-04</td>\n",
       "      <td>4.443927e-02</td>\n",
       "      <td>3.715957e-03</td>\n",
       "      <td>0.002669</td>\n",
       "      <td>2031-12-31</td>\n",
       "      <td>0</td>\n",
       "      <td>...</td>\n",
       "      <td>1.0</td>\n",
       "      <td>1</td>\n",
       "      <td>0</td>\n",
       "      <td>0</td>\n",
       "      <td>NaT</td>\n",
       "      <td>NaN</td>\n",
       "      <td>0</td>\n",
       "      <td>8100</td>\n",
       "      <td>7.460288e-04</td>\n",
       "      <td>6.042834</td>\n",
       "    </tr>\n",
       "    <tr>\n",
       "      <th>82</th>\n",
       "      <td>1</td>\n",
       "      <td>2025-03-31</td>\n",
       "      <td>8</td>\n",
       "      <td>82</td>\n",
       "      <td>3.829361e-04</td>\n",
       "      <td>4.482221e-02</td>\n",
       "      <td>3.460060e-03</td>\n",
       "      <td>0.002599</td>\n",
       "      <td>2032-01-31</td>\n",
       "      <td>0</td>\n",
       "      <td>...</td>\n",
       "      <td>1.0</td>\n",
       "      <td>1</td>\n",
       "      <td>0</td>\n",
       "      <td>0</td>\n",
       "      <td>NaT</td>\n",
       "      <td>NaN</td>\n",
       "      <td>0</td>\n",
       "      <td>8100</td>\n",
       "      <td>2.034270e-04</td>\n",
       "      <td>1.647759</td>\n",
       "    </tr>\n",
       "    <tr>\n",
       "      <th>83</th>\n",
       "      <td>1</td>\n",
       "      <td>2025-03-31</td>\n",
       "      <td>8</td>\n",
       "      <td>83</td>\n",
       "      <td>3.731007e-04</td>\n",
       "      <td>4.519531e-02</td>\n",
       "      <td>3.210736e-03</td>\n",
       "      <td>0.002531</td>\n",
       "      <td>2032-02-29</td>\n",
       "      <td>0</td>\n",
       "      <td>...</td>\n",
       "      <td>1.0</td>\n",
       "      <td>1</td>\n",
       "      <td>0</td>\n",
       "      <td>0</td>\n",
       "      <td>NaT</td>\n",
       "      <td>NaN</td>\n",
       "      <td>0</td>\n",
       "      <td>8100</td>\n",
       "      <td>1.670142e-05</td>\n",
       "      <td>0.135282</td>\n",
       "    </tr>\n",
       "    <tr>\n",
       "      <th>84</th>\n",
       "      <td>1</td>\n",
       "      <td>2025-03-31</td>\n",
       "      <td>8</td>\n",
       "      <td>84</td>\n",
       "      <td>3.634855e-04</td>\n",
       "      <td>4.555879e-02</td>\n",
       "      <td>2.967836e-03</td>\n",
       "      <td>0.002465</td>\n",
       "      <td>2032-03-31</td>\n",
       "      <td>0</td>\n",
       "      <td>...</td>\n",
       "      <td>1.0</td>\n",
       "      <td>1</td>\n",
       "      <td>0</td>\n",
       "      <td>0</td>\n",
       "      <td>NaT</td>\n",
       "      <td>NaN</td>\n",
       "      <td>0</td>\n",
       "      <td>8100</td>\n",
       "      <td>4.551724e-06</td>\n",
       "      <td>0.036869</td>\n",
       "    </tr>\n",
       "    <tr>\n",
       "      <th>85</th>\n",
       "      <td>1</td>\n",
       "      <td>2025-03-31</td>\n",
       "      <td>8</td>\n",
       "      <td>85</td>\n",
       "      <td>3.540889e-04</td>\n",
       "      <td>4.591288e-02</td>\n",
       "      <td>2.731217e-03</td>\n",
       "      <td>0.002401</td>\n",
       "      <td>2032-04-30</td>\n",
       "      <td>0</td>\n",
       "      <td>...</td>\n",
       "      <td>1.0</td>\n",
       "      <td>1</td>\n",
       "      <td>0</td>\n",
       "      <td>0</td>\n",
       "      <td>NaT</td>\n",
       "      <td>NaN</td>\n",
       "      <td>0</td>\n",
       "      <td>8100</td>\n",
       "      <td>6.790359e-06</td>\n",
       "      <td>0.055002</td>\n",
       "    </tr>\n",
       "    <tr>\n",
       "      <th>86</th>\n",
       "      <td>1</td>\n",
       "      <td>2025-03-31</td>\n",
       "      <td>8</td>\n",
       "      <td>86</td>\n",
       "      <td>3.449090e-04</td>\n",
       "      <td>4.625779e-02</td>\n",
       "      <td>2.500731e-03</td>\n",
       "      <td>0.002338</td>\n",
       "      <td>2032-05-31</td>\n",
       "      <td>0</td>\n",
       "      <td>...</td>\n",
       "      <td>1.0</td>\n",
       "      <td>1</td>\n",
       "      <td>0</td>\n",
       "      <td>0</td>\n",
       "      <td>NaT</td>\n",
       "      <td>NaN</td>\n",
       "      <td>0</td>\n",
       "      <td>8100</td>\n",
       "      <td>3.363196e-05</td>\n",
       "      <td>0.272419</td>\n",
       "    </tr>\n",
       "    <tr>\n",
       "      <th>87</th>\n",
       "      <td>1</td>\n",
       "      <td>2025-03-31</td>\n",
       "      <td>8</td>\n",
       "      <td>87</td>\n",
       "      <td>3.359437e-04</td>\n",
       "      <td>4.659373e-02</td>\n",
       "      <td>2.276237e-03</td>\n",
       "      <td>0.002276</td>\n",
       "      <td>2032-06-30</td>\n",
       "      <td>0</td>\n",
       "      <td>...</td>\n",
       "      <td>1.0</td>\n",
       "      <td>1</td>\n",
       "      <td>0</td>\n",
       "      <td>0</td>\n",
       "      <td>NaT</td>\n",
       "      <td>NaN</td>\n",
       "      <td>0</td>\n",
       "      <td>8100</td>\n",
       "      <td>1.012999e-05</td>\n",
       "      <td>0.082053</td>\n",
       "    </tr>\n",
       "    <tr>\n",
       "      <th>88</th>\n",
       "      <td>1</td>\n",
       "      <td>2025-03-31</td>\n",
       "      <td>8</td>\n",
       "      <td>88</td>\n",
       "      <td>3.271905e-04</td>\n",
       "      <td>4.692093e-02</td>\n",
       "      <td>2.057592e-03</td>\n",
       "      <td>0.002058</td>\n",
       "      <td>2032-07-31</td>\n",
       "      <td>0</td>\n",
       "      <td>...</td>\n",
       "      <td>1.0</td>\n",
       "      <td>1</td>\n",
       "      <td>0</td>\n",
       "      <td>0</td>\n",
       "      <td>NaT</td>\n",
       "      <td>NaN</td>\n",
       "      <td>0</td>\n",
       "      <td>8100</td>\n",
       "      <td>4.551724e-06</td>\n",
       "      <td>0.036869</td>\n",
       "    </tr>\n",
       "    <tr>\n",
       "      <th>89</th>\n",
       "      <td>1</td>\n",
       "      <td>2025-03-31</td>\n",
       "      <td>8</td>\n",
       "      <td>89</td>\n",
       "      <td>3.186467e-04</td>\n",
       "      <td>4.723957e-02</td>\n",
       "      <td>1.844656e-03</td>\n",
       "      <td>0.001845</td>\n",
       "      <td>2032-08-31</td>\n",
       "      <td>0</td>\n",
       "      <td>...</td>\n",
       "      <td>1.0</td>\n",
       "      <td>1</td>\n",
       "      <td>0</td>\n",
       "      <td>0</td>\n",
       "      <td>NaT</td>\n",
       "      <td>NaN</td>\n",
       "      <td>0</td>\n",
       "      <td>8100</td>\n",
       "      <td>3.363196e-05</td>\n",
       "      <td>0.272419</td>\n",
       "    </tr>\n",
       "    <tr>\n",
       "      <th>90</th>\n",
       "      <td>1</td>\n",
       "      <td>2025-03-31</td>\n",
       "      <td>8</td>\n",
       "      <td>90</td>\n",
       "      <td>3.103096e-04</td>\n",
       "      <td>4.754988e-02</td>\n",
       "      <td>1.637292e-03</td>\n",
       "      <td>0.001637</td>\n",
       "      <td>2032-09-30</td>\n",
       "      <td>0</td>\n",
       "      <td>...</td>\n",
       "      <td>1.0</td>\n",
       "      <td>1</td>\n",
       "      <td>0</td>\n",
       "      <td>0</td>\n",
       "      <td>NaT</td>\n",
       "      <td>NaN</td>\n",
       "      <td>0</td>\n",
       "      <td>8100</td>\n",
       "      <td>1.507104e-04</td>\n",
       "      <td>1.220754</td>\n",
       "    </tr>\n",
       "    <tr>\n",
       "      <th>91</th>\n",
       "      <td>1</td>\n",
       "      <td>2025-03-31</td>\n",
       "      <td>8</td>\n",
       "      <td>91</td>\n",
       "      <td>3.021761e-04</td>\n",
       "      <td>4.785206e-02</td>\n",
       "      <td>1.435362e-03</td>\n",
       "      <td>0.001435</td>\n",
       "      <td>2032-10-31</td>\n",
       "      <td>0</td>\n",
       "      <td>...</td>\n",
       "      <td>1.0</td>\n",
       "      <td>1</td>\n",
       "      <td>0</td>\n",
       "      <td>0</td>\n",
       "      <td>NaT</td>\n",
       "      <td>NaN</td>\n",
       "      <td>0</td>\n",
       "      <td>8100</td>\n",
       "      <td>5.527786e-04</td>\n",
       "      <td>4.477507</td>\n",
       "    </tr>\n",
       "    <tr>\n",
       "      <th>92</th>\n",
       "      <td>1</td>\n",
       "      <td>2025-03-31</td>\n",
       "      <td>8</td>\n",
       "      <td>92</td>\n",
       "      <td>2.942431e-04</td>\n",
       "      <td>4.814630e-02</td>\n",
       "      <td>1.238734e-03</td>\n",
       "      <td>0.001239</td>\n",
       "      <td>2032-11-30</td>\n",
       "      <td>0</td>\n",
       "      <td>...</td>\n",
       "      <td>1.0</td>\n",
       "      <td>1</td>\n",
       "      <td>0</td>\n",
       "      <td>0</td>\n",
       "      <td>NaT</td>\n",
       "      <td>NaN</td>\n",
       "      <td>0</td>\n",
       "      <td>8100</td>\n",
       "      <td>5.017216e-05</td>\n",
       "      <td>0.406395</td>\n",
       "    </tr>\n",
       "    <tr>\n",
       "      <th>93</th>\n",
       "      <td>1</td>\n",
       "      <td>2025-03-31</td>\n",
       "      <td>8</td>\n",
       "      <td>93</td>\n",
       "      <td>2.865071e-04</td>\n",
       "      <td>4.843281e-02</td>\n",
       "      <td>1.047276e-03</td>\n",
       "      <td>0.001047</td>\n",
       "      <td>2032-12-31</td>\n",
       "      <td>0</td>\n",
       "      <td>...</td>\n",
       "      <td>1.0</td>\n",
       "      <td>1</td>\n",
       "      <td>0</td>\n",
       "      <td>0</td>\n",
       "      <td>NaT</td>\n",
       "      <td>NaN</td>\n",
       "      <td>0</td>\n",
       "      <td>8100</td>\n",
       "      <td>2.484551e-04</td>\n",
       "      <td>2.012486</td>\n",
       "    </tr>\n",
       "    <tr>\n",
       "      <th>94</th>\n",
       "      <td>1</td>\n",
       "      <td>2025-03-31</td>\n",
       "      <td>8</td>\n",
       "      <td>94</td>\n",
       "      <td>2.789650e-04</td>\n",
       "      <td>4.871177e-02</td>\n",
       "      <td>8.608578e-04</td>\n",
       "      <td>0.000861</td>\n",
       "      <td>2033-01-31</td>\n",
       "      <td>0</td>\n",
       "      <td>...</td>\n",
       "      <td>1.0</td>\n",
       "      <td>1</td>\n",
       "      <td>0</td>\n",
       "      <td>0</td>\n",
       "      <td>NaT</td>\n",
       "      <td>NaN</td>\n",
       "      <td>0</td>\n",
       "      <td>8100</td>\n",
       "      <td>2.753569e-05</td>\n",
       "      <td>0.223039</td>\n",
       "    </tr>\n",
       "    <tr>\n",
       "      <th>95</th>\n",
       "      <td>1</td>\n",
       "      <td>2025-03-31</td>\n",
       "      <td>8</td>\n",
       "      <td>95</td>\n",
       "      <td>2.716131e-04</td>\n",
       "      <td>4.898339e-02</td>\n",
       "      <td>6.793523e-04</td>\n",
       "      <td>0.000679</td>\n",
       "      <td>2033-02-28</td>\n",
       "      <td>0</td>\n",
       "      <td>...</td>\n",
       "      <td>1.0</td>\n",
       "      <td>1</td>\n",
       "      <td>0</td>\n",
       "      <td>0</td>\n",
       "      <td>NaT</td>\n",
       "      <td>NaN</td>\n",
       "      <td>0</td>\n",
       "      <td>8100</td>\n",
       "      <td>3.051116e-06</td>\n",
       "      <td>0.024714</td>\n",
       "    </tr>\n",
       "    <tr>\n",
       "      <th>96</th>\n",
       "      <td>1</td>\n",
       "      <td>2025-03-31</td>\n",
       "      <td>8</td>\n",
       "      <td>96</td>\n",
       "      <td>2.644479e-04</td>\n",
       "      <td>4.924783e-02</td>\n",
       "      <td>5.026350e-04</td>\n",
       "      <td>0.000503</td>\n",
       "      <td>2033-03-31</td>\n",
       "      <td>0</td>\n",
       "      <td>...</td>\n",
       "      <td>1.0</td>\n",
       "      <td>1</td>\n",
       "      <td>0</td>\n",
       "      <td>0</td>\n",
       "      <td>NaT</td>\n",
       "      <td>NaN</td>\n",
       "      <td>0</td>\n",
       "      <td>8100</td>\n",
       "      <td>1.237277e-05</td>\n",
       "      <td>0.100219</td>\n",
       "    </tr>\n",
       "    <tr>\n",
       "      <th>97</th>\n",
       "      <td>1</td>\n",
       "      <td>2025-03-31</td>\n",
       "      <td>8</td>\n",
       "      <td>97</td>\n",
       "      <td>2.574659e-04</td>\n",
       "      <td>4.950530e-02</td>\n",
       "      <td>3.305834e-04</td>\n",
       "      <td>0.000331</td>\n",
       "      <td>2033-04-30</td>\n",
       "      <td>0</td>\n",
       "      <td>...</td>\n",
       "      <td>1.0</td>\n",
       "      <td>1</td>\n",
       "      <td>0</td>\n",
       "      <td>0</td>\n",
       "      <td>NaT</td>\n",
       "      <td>NaN</td>\n",
       "      <td>0</td>\n",
       "      <td>8100</td>\n",
       "      <td>3.051116e-06</td>\n",
       "      <td>0.024714</td>\n",
       "    </tr>\n",
       "    <tr>\n",
       "      <th>98</th>\n",
       "      <td>1</td>\n",
       "      <td>2025-03-31</td>\n",
       "      <td>8</td>\n",
       "      <td>98</td>\n",
       "      <td>2.506634e-04</td>\n",
       "      <td>4.975596e-02</td>\n",
       "      <td>1.630776e-04</td>\n",
       "      <td>0.000163</td>\n",
       "      <td>2033-05-31</td>\n",
       "      <td>0</td>\n",
       "      <td>...</td>\n",
       "      <td>1.0</td>\n",
       "      <td>1</td>\n",
       "      <td>0</td>\n",
       "      <td>0</td>\n",
       "      <td>NaT</td>\n",
       "      <td>NaN</td>\n",
       "      <td>0</td>\n",
       "      <td>8100</td>\n",
       "      <td>7.523977e-07</td>\n",
       "      <td>0.006094</td>\n",
       "    </tr>\n",
       "    <tr>\n",
       "      <th>99</th>\n",
       "      <td>1</td>\n",
       "      <td>2025-03-31</td>\n",
       "      <td>8</td>\n",
       "      <td>99</td>\n",
       "      <td>2.440368e-04</td>\n",
       "      <td>5.000000e-02</td>\n",
       "      <td>4.636916e-18</td>\n",
       "      <td>NaN</td>\n",
       "      <td>2033-06-30</td>\n",
       "      <td>0</td>\n",
       "      <td>...</td>\n",
       "      <td>1.0</td>\n",
       "      <td>1</td>\n",
       "      <td>0</td>\n",
       "      <td>0</td>\n",
       "      <td>NaT</td>\n",
       "      <td>NaN</td>\n",
       "      <td>0</td>\n",
       "      <td>8100</td>\n",
       "      <td>8.293750e-06</td>\n",
       "      <td>0.067179</td>\n",
       "    </tr>\n",
       "  </tbody>\n",
       "</table>\n",
       "<p>100 rows × 23 columns</p>\n",
       "</div>"
      ],
      "text/plain": [
       "    id created_date  risk_band  tenure             p         cum_p  \\\n",
       "0    1   2025-03-31          8       0  0.000000e+00  0.000000e+00   \n",
       "1    1   2025-03-31          8       1  8.825335e-12  8.825335e-12   \n",
       "2    1   2025-03-31          8       2  5.008135e-09  5.016960e-09   \n",
       "3    1   2025-03-31          8       3  1.101391e-07  1.151561e-07   \n",
       "4    1   2025-03-31          8       4  7.481954e-07  8.633515e-07   \n",
       "5    1   2025-03-31          8       5  2.822706e-06  3.686058e-06   \n",
       "6    1   2025-03-31          8       6  7.537597e-06  1.122365e-05   \n",
       "7    1   2025-03-31          8       7  1.609180e-05  2.731545e-05   \n",
       "8    1   2025-03-31          8       8  2.942715e-05  5.674261e-05   \n",
       "9    1   2025-03-31          8       9  4.809729e-05  1.048399e-04   \n",
       "10   1   2025-03-31          8      10  7.224494e-05  1.770848e-04   \n",
       "11   1   2025-03-31          8      11  1.016491e-04  2.787340e-04   \n",
       "12   1   2025-03-31          8      12  1.358058e-04  4.145398e-04   \n",
       "13   1   2025-03-31          8      13  1.740169e-04  5.885567e-04   \n",
       "14   1   2025-03-31          8      14  2.154717e-04  8.040284e-04   \n",
       "15   1   2025-03-31          8      15  2.593156e-04  1.063344e-03   \n",
       "16   1   2025-03-31          8      16  3.047022e-04  1.368046e-03   \n",
       "17   1   2025-03-31          8      17  3.508307e-04  1.718877e-03   \n",
       "18   1   2025-03-31          8      18  3.969707e-04  2.115848e-03   \n",
       "19   1   2025-03-31          8      19  4.424762e-04  2.558324e-03   \n",
       "20   1   2025-03-31          8      20  4.867920e-04  3.045116e-03   \n",
       "21   1   2025-03-31          8      21  5.294545e-04  3.574570e-03   \n",
       "22   1   2025-03-31          8      22  5.700878e-04  4.144658e-03   \n",
       "23   1   2025-03-31          8      23  6.083983e-04  4.753057e-03   \n",
       "24   1   2025-03-31          8      24  6.441665e-04  5.397223e-03   \n",
       "25   1   2025-03-31          8      25  6.772395e-04  6.074463e-03   \n",
       "26   1   2025-03-31          8      26  7.075218e-04  6.781984e-03   \n",
       "27   1   2025-03-31          8      27  7.349678e-04  7.516952e-03   \n",
       "28   1   2025-03-31          8      28  7.595739e-04  8.276526e-03   \n",
       "29   1   2025-03-31          8      29  7.813709e-04  9.057897e-03   \n",
       "30   1   2025-03-31          8      30  8.004183e-04  9.858315e-03   \n",
       "31   1   2025-03-31          8      31  8.167982e-04  1.067511e-02   \n",
       "32   1   2025-03-31          8      32  8.306101e-04  1.150572e-02   \n",
       "33   1   2025-03-31          8      33  8.419671e-04  1.234769e-02   \n",
       "34   1   2025-03-31          8      34  8.509916e-04  1.319868e-02   \n",
       "35   1   2025-03-31          8      35  8.578125e-04  1.405649e-02   \n",
       "36   1   2025-03-31          8      36  8.625624e-04  1.491906e-02   \n",
       "37   1   2025-03-31          8      37  8.653755e-04  1.578443e-02   \n",
       "38   1   2025-03-31          8      38  8.663856e-04  1.665082e-02   \n",
       "39   1   2025-03-31          8      39  8.657249e-04  1.751654e-02   \n",
       "40   1   2025-03-31          8      40  8.635224e-04  1.838007e-02   \n",
       "41   1   2025-03-31          8      41  8.599037e-04  1.923997e-02   \n",
       "42   1   2025-03-31          8      42  8.549894e-04  2.009496e-02   \n",
       "43   1   2025-03-31          8      43  8.488956e-04  2.094385e-02   \n",
       "44   1   2025-03-31          8      44  8.417325e-04  2.178559e-02   \n",
       "45   1   2025-03-31          8      45  8.336052e-04  2.261919e-02   \n",
       "46   1   2025-03-31          8      46  8.246127e-04  2.344380e-02   \n",
       "47   1   2025-03-31          8      47  8.148484e-04  2.425865e-02   \n",
       "48   1   2025-03-31          8      48  8.044000e-04  2.506305e-02   \n",
       "49   1   2025-03-31          8      49  7.933496e-04  2.585640e-02   \n",
       "50   1   2025-03-31          8      50  7.817737e-04  2.663818e-02   \n",
       "51   1   2025-03-31          8      51  7.697435e-04  2.740792e-02   \n",
       "52   1   2025-03-31          8      52  7.573253e-04  2.816525e-02   \n",
       "53   1   2025-03-31          8      53  7.445802e-04  2.890983e-02   \n",
       "54   1   2025-03-31          8      54  7.315647e-04  2.964139e-02   \n",
       "55   1   2025-03-31          8      55  7.183309e-04  3.035972e-02   \n",
       "56   1   2025-03-31          8      56  7.049267e-04  3.106465e-02   \n",
       "57   1   2025-03-31          8      57  6.913960e-04  3.175604e-02   \n",
       "58   1   2025-03-31          8      58  6.777789e-04  3.243382e-02   \n",
       "59   1   2025-03-31          8      59  6.641119e-04  3.309793e-02   \n",
       "60   1   2025-03-31          8      60  6.504285e-04  3.374836e-02   \n",
       "61   1   2025-03-31          8      61  6.367587e-04  3.438512e-02   \n",
       "62   1   2025-03-31          8      62  6.231299e-04  3.500825e-02   \n",
       "63   1   2025-03-31          8      63  6.095668e-04  3.561782e-02   \n",
       "64   1   2025-03-31          8      64  5.960915e-04  3.621391e-02   \n",
       "65   1   2025-03-31          8      65  5.827239e-04  3.679663e-02   \n",
       "66   1   2025-03-31          8      66  5.694817e-04  3.736612e-02   \n",
       "67   1   2025-03-31          8      67  5.563805e-04  3.792250e-02   \n",
       "68   1   2025-03-31          8      68  5.434343e-04  3.846593e-02   \n",
       "69   1   2025-03-31          8      69  5.306552e-04  3.899659e-02   \n",
       "70   1   2025-03-31          8      70  5.180539e-04  3.951464e-02   \n",
       "71   1   2025-03-31          8      71  5.056395e-04  4.002028e-02   \n",
       "72   1   2025-03-31          8      72  4.934200e-04  4.051370e-02   \n",
       "73   1   2025-03-31          8      73  4.814021e-04  4.099510e-02   \n",
       "74   1   2025-03-31          8      74  4.695912e-04  4.146469e-02   \n",
       "75   1   2025-03-31          8      75  4.579921e-04  4.192268e-02   \n",
       "76   1   2025-03-31          8      76  4.466083e-04  4.236929e-02   \n",
       "77   1   2025-03-31          8      77  4.354427e-04  4.280474e-02   \n",
       "78   1   2025-03-31          8      78  4.244972e-04  4.322923e-02   \n",
       "79   1   2025-03-31          8      79  4.137734e-04  4.364301e-02   \n",
       "80   1   2025-03-31          8      80  4.032719e-04  4.404628e-02   \n",
       "81   1   2025-03-31          8      81  3.929929e-04  4.443927e-02   \n",
       "82   1   2025-03-31          8      82  3.829361e-04  4.482221e-02   \n",
       "83   1   2025-03-31          8      83  3.731007e-04  4.519531e-02   \n",
       "84   1   2025-03-31          8      84  3.634855e-04  4.555879e-02   \n",
       "85   1   2025-03-31          8      85  3.540889e-04  4.591288e-02   \n",
       "86   1   2025-03-31          8      86  3.449090e-04  4.625779e-02   \n",
       "87   1   2025-03-31          8      87  3.359437e-04  4.659373e-02   \n",
       "88   1   2025-03-31          8      88  3.271905e-04  4.692093e-02   \n",
       "89   1   2025-03-31          8      89  3.186467e-04  4.723957e-02   \n",
       "90   1   2025-03-31          8      90  3.103096e-04  4.754988e-02   \n",
       "91   1   2025-03-31          8      91  3.021761e-04  4.785206e-02   \n",
       "92   1   2025-03-31          8      92  2.942431e-04  4.814630e-02   \n",
       "93   1   2025-03-31          8      93  2.865071e-04  4.843281e-02   \n",
       "94   1   2025-03-31          8      94  2.789650e-04  4.871177e-02   \n",
       "95   1   2025-03-31          8      95  2.716131e-04  4.898339e-02   \n",
       "96   1   2025-03-31          8      96  2.644479e-04  4.924783e-02   \n",
       "97   1   2025-03-31          8      97  2.574659e-04  4.950530e-02   \n",
       "98   1   2025-03-31          8      98  2.506634e-04  4.975596e-02   \n",
       "99   1   2025-03-31          8      99  2.440368e-04  5.000000e-02   \n",
       "\n",
       "     pd_lifetime  p_12m_forward       date  is_late  ... prob_rr  rgn  \\\n",
       "0   3.341250e-02       0.000277 2025-03-31        0  ...     1.0    1   \n",
       "1   3.341250e-02       0.000393 2025-04-30        0  ...     1.0    1   \n",
       "2   3.341250e-02       0.000537 2025-05-31        0  ...     1.0    1   \n",
       "3   3.341242e-02       0.000711 2025-06-30        0  ...     1.0    1   \n",
       "4   3.341192e-02       0.000914 2025-07-31        0  ...     1.0    1   \n",
       "5   3.341004e-02       0.001146 2025-08-31        0  ...     1.0    1   \n",
       "6   3.340500e-02       0.001406 2025-09-30        0  ...     1.0    1   \n",
       "7   3.339425e-02       0.001691 2025-10-31        0  ...     1.0    1   \n",
       "8   3.337458e-02       0.001997 2025-11-30        0  ...     1.0    1   \n",
       "9   3.334244e-02       0.002319 2025-12-31        0  ...     1.0    1   \n",
       "10  3.329416e-02       0.002651 2026-01-31        0  ...     1.0    1   \n",
       "11  3.322624e-02       0.002990 2026-02-28        0  ...     1.0    1   \n",
       "12  3.313548e-02       0.003330 2026-03-31        0  ...     1.0    1   \n",
       "13  3.301920e-02       0.003666 2026-04-30        0  ...     1.0    1   \n",
       "14  3.287521e-02       0.003995 2026-05-31        0  ...     1.0    1   \n",
       "15  3.270192e-02       0.004313 2026-06-30        0  ...     1.0    1   \n",
       "16  3.249830e-02       0.004617 2026-07-31        0  ...     1.0    1   \n",
       "17  3.226386e-02       0.004904 2026-08-31        0  ...     1.0    1   \n",
       "18  3.199858e-02       0.005174 2026-09-30        0  ...     1.0    1   \n",
       "19  3.170290e-02       0.005424 2026-10-31        0  ...     1.0    1   \n",
       "20  3.137760e-02       0.005654 2026-11-30        0  ...     1.0    1   \n",
       "21  3.102379e-02       0.005863 2026-12-31        0  ...     1.0    1   \n",
       "22  3.064283e-02       0.006050 2027-01-31        0  ...     1.0    1   \n",
       "23  3.023627e-02       0.006217 2027-02-28        0  ...     1.0    1   \n",
       "24  2.980581e-02       0.006363 2027-03-31        0  ...     1.0    1   \n",
       "25  2.935324e-02       0.006489 2027-04-30        0  ...     1.0    1   \n",
       "26  2.888044e-02       0.006595 2027-05-31        0  ...     1.0    1   \n",
       "27  2.838930e-02       0.006682 2027-06-30        0  ...     1.0    1   \n",
       "28  2.788171e-02       0.006752 2027-07-31        0  ...     1.0    1   \n",
       "29  2.735956e-02       0.006804 2027-08-31        0  ...     1.0    1   \n",
       "30  2.682468e-02       0.006841 2027-09-30        0  ...     1.0    1   \n",
       "31  2.627886e-02       0.006862 2027-10-31        0  ...     1.0    1   \n",
       "32  2.572380e-02       0.006870 2027-11-30        0  ...     1.0    1   \n",
       "33  2.516116e-02       0.006864 2027-12-31        0  ...     1.0    1   \n",
       "34  2.459248e-02       0.006846 2028-01-31        0  ...     1.0    1   \n",
       "35  2.401925e-02       0.006818 2028-02-29        0  ...     1.0    1   \n",
       "36  2.344284e-02       0.006779 2028-03-31        0  ...     1.0    1   \n",
       "37  2.286455e-02       0.006731 2028-04-30        0  ...     1.0    1   \n",
       "38  2.228559e-02       0.006674 2028-05-31        0  ...     1.0    1   \n",
       "39  2.170707e-02       0.006610 2028-06-30        0  ...     1.0    1   \n",
       "40  2.113002e-02       0.006539 2028-07-31        0  ...     1.0    1   \n",
       "41  2.055539e-02       0.006462 2028-08-31        0  ...     1.0    1   \n",
       "42  1.998404e-02       0.006379 2028-09-30        0  ...     1.0    1   \n",
       "43  1.941677e-02       0.006292 2028-10-31        0  ...     1.0    1   \n",
       "44  1.885428e-02       0.006201 2028-11-30        0  ...     1.0    1   \n",
       "45  1.829722e-02       0.006106 2028-12-31        0  ...     1.0    1   \n",
       "46  1.774618e-02       0.006008 2029-01-31        0  ...     1.0    1   \n",
       "47  1.720166e-02       0.005907 2029-02-28        0  ...     1.0    1   \n",
       "48  1.666411e-02       0.005804 2029-03-31        0  ...     1.0    1   \n",
       "49  1.613396e-02       0.005699 2029-04-30        0  ...     1.0    1   \n",
       "50  1.561154e-02       0.005593 2029-05-31        0  ...     1.0    1   \n",
       "51  1.509716e-02       0.005486 2029-06-30        0  ...     1.0    1   \n",
       "52  1.459107e-02       0.005379 2029-07-31        0  ...     1.0    1   \n",
       "53  1.409351e-02       0.005270 2029-08-31        0  ...     1.0    1   \n",
       "54  1.360464e-02       0.005162 2029-09-30        0  ...     1.0    1   \n",
       "55  1.312462e-02       0.005054 2029-10-31        0  ...     1.0    1   \n",
       "56  1.265355e-02       0.004946 2029-11-30        0  ...     1.0    1   \n",
       "57  1.219152e-02       0.004838 2029-12-31        0  ...     1.0    1   \n",
       "58  1.173860e-02       0.004732 2030-01-31        0  ...     1.0    1   \n",
       "59  1.129481e-02       0.004626 2030-02-28        0  ...     1.0    1   \n",
       "60  1.086016e-02       0.004521 2030-03-31        0  ...     1.0    1   \n",
       "61  1.043464e-02       0.004417 2030-04-30        0  ...     1.0    1   \n",
       "62  1.001824e-02       0.004315 2030-05-31        0  ...     1.0    1   \n",
       "63  9.610893e-03       0.004213 2030-06-30        0  ...     1.0    1   \n",
       "64  9.212555e-03       0.004113 2030-07-31        0  ...     1.0    1   \n",
       "65  8.823149e-03       0.004015 2030-08-31        0  ...     1.0    1   \n",
       "66  8.442593e-03       0.003918 2030-09-30        0  ...     1.0    1   \n",
       "67  8.070792e-03       0.003823 2030-10-31        0  ...     1.0    1   \n",
       "68  7.707642e-03       0.003729 2030-11-30        0  ...     1.0    1   \n",
       "69  7.353032e-03       0.003637 2030-12-31        0  ...     1.0    1   \n",
       "70  7.006842e-03       0.003547 2031-01-31        0  ...     1.0    1   \n",
       "71  6.668949e-03       0.003458 2031-02-28        0  ...     1.0    1   \n",
       "72  6.339221e-03       0.003371 2031-03-31        0  ...     1.0    1   \n",
       "73  6.017524e-03       0.003286 2031-04-30        0  ...     1.0    1   \n",
       "74  5.703719e-03       0.003203 2031-05-31        0  ...     1.0    1   \n",
       "75  5.397666e-03       0.003121 2031-06-30        0  ...     1.0    1   \n",
       "76  5.099220e-03       0.003042 2031-07-31        0  ...     1.0    1   \n",
       "77  4.808236e-03       0.002964 2031-08-31        0  ...     1.0    1   \n",
       "78  4.524565e-03       0.002887 2031-09-30        0  ...     1.0    1   \n",
       "79  4.248061e-03       0.002813 2031-10-31        0  ...     1.0    1   \n",
       "80  3.978575e-03       0.002740 2031-11-30        0  ...     1.0    1   \n",
       "81  3.715957e-03       0.002669 2031-12-31        0  ...     1.0    1   \n",
       "82  3.460060e-03       0.002599 2032-01-31        0  ...     1.0    1   \n",
       "83  3.210736e-03       0.002531 2032-02-29        0  ...     1.0    1   \n",
       "84  2.967836e-03       0.002465 2032-03-31        0  ...     1.0    1   \n",
       "85  2.731217e-03       0.002401 2032-04-30        0  ...     1.0    1   \n",
       "86  2.500731e-03       0.002338 2032-05-31        0  ...     1.0    1   \n",
       "87  2.276237e-03       0.002276 2032-06-30        0  ...     1.0    1   \n",
       "88  2.057592e-03       0.002058 2032-07-31        0  ...     1.0    1   \n",
       "89  1.844656e-03       0.001845 2032-08-31        0  ...     1.0    1   \n",
       "90  1.637292e-03       0.001637 2032-09-30        0  ...     1.0    1   \n",
       "91  1.435362e-03       0.001435 2032-10-31        0  ...     1.0    1   \n",
       "92  1.238734e-03       0.001239 2032-11-30        0  ...     1.0    1   \n",
       "93  1.047276e-03       0.001047 2032-12-31        0  ...     1.0    1   \n",
       "94  8.608578e-04       0.000861 2033-01-31        0  ...     1.0    1   \n",
       "95  6.793523e-04       0.000679 2033-02-28        0  ...     1.0    1   \n",
       "96  5.026350e-04       0.000503 2033-03-31        0  ...     1.0    1   \n",
       "97  3.305834e-04       0.000331 2033-04-30        0  ...     1.0    1   \n",
       "98  1.630776e-04       0.000163 2033-05-31        0  ...     1.0    1   \n",
       "99  4.636916e-18            NaN 2033-06-30        0  ...     1.0    1   \n",
       "\n",
       "   is_default  n_late_status  default_date  default_month  default_flag  \\\n",
       "0           0              0           NaT            NaN             0   \n",
       "1           0              0           NaT            NaN             0   \n",
       "2           0              0           NaT            NaN             0   \n",
       "3           0              0           NaT            NaN             0   \n",
       "4           0              0           NaT            NaN             0   \n",
       "5           0              0           NaT            NaN             0   \n",
       "6           0              0           NaT            NaN             0   \n",
       "7           0              0           NaT            NaN             0   \n",
       "8           0              0           NaT            NaN             0   \n",
       "9           0              0           NaT            NaN             0   \n",
       "10          0              0           NaT            NaN             0   \n",
       "11          0              0           NaT            NaN             0   \n",
       "12          0              0           NaT            NaN             0   \n",
       "13          0              0           NaT            NaN             0   \n",
       "14          0              0           NaT            NaN             0   \n",
       "15          0              0           NaT            NaN             0   \n",
       "16          0              0           NaT            NaN             0   \n",
       "17          0              0           NaT            NaN             0   \n",
       "18          0              0           NaT            NaN             0   \n",
       "19          0              0           NaT            NaN             0   \n",
       "20          0              0           NaT            NaN             0   \n",
       "21          0              0           NaT            NaN             0   \n",
       "22          0              0           NaT            NaN             0   \n",
       "23          0              0           NaT            NaN             0   \n",
       "24          0              0           NaT            NaN             0   \n",
       "25          0              0           NaT            NaN             0   \n",
       "26          0              0           NaT            NaN             0   \n",
       "27          0              0           NaT            NaN             0   \n",
       "28          0              0           NaT            NaN             0   \n",
       "29          0              0           NaT            NaN             0   \n",
       "30          0              0           NaT            NaN             0   \n",
       "31          0              0           NaT            NaN             0   \n",
       "32          0              0           NaT            NaN             0   \n",
       "33          0              0           NaT            NaN             0   \n",
       "34          0              0           NaT            NaN             0   \n",
       "35          0              0           NaT            NaN             0   \n",
       "36          0              0           NaT            NaN             0   \n",
       "37          0              0           NaT            NaN             0   \n",
       "38          0              0           NaT            NaN             0   \n",
       "39          0              0           NaT            NaN             0   \n",
       "40          0              0           NaT            NaN             0   \n",
       "41          0              0           NaT            NaN             0   \n",
       "42          0              0           NaT            NaN             0   \n",
       "43          0              0           NaT            NaN             0   \n",
       "44          0              0           NaT            NaN             0   \n",
       "45          0              0           NaT            NaN             0   \n",
       "46          0              0           NaT            NaN             0   \n",
       "47          0              0           NaT            NaN             0   \n",
       "48          0              0           NaT            NaN             0   \n",
       "49          0              0           NaT            NaN             0   \n",
       "50          0              0           NaT            NaN             0   \n",
       "51          0              0           NaT            NaN             0   \n",
       "52          0              0           NaT            NaN             0   \n",
       "53          0              0           NaT            NaN             0   \n",
       "54          0              0           NaT            NaN             0   \n",
       "55          0              0           NaT            NaN             0   \n",
       "56          0              0           NaT            NaN             0   \n",
       "57          0              0           NaT            NaN             0   \n",
       "58          0              0           NaT            NaN             0   \n",
       "59          0              0           NaT            NaN             0   \n",
       "60          0              0           NaT            NaN             0   \n",
       "61          0              0           NaT            NaN             0   \n",
       "62          0              0           NaT            NaN             0   \n",
       "63          0              0           NaT            NaN             0   \n",
       "64          0              0           NaT            NaN             0   \n",
       "65          0              0           NaT            NaN             0   \n",
       "66          0              0           NaT            NaN             0   \n",
       "67          0              0           NaT            NaN             0   \n",
       "68          0              0           NaT            NaN             0   \n",
       "69          0              0           NaT            NaN             0   \n",
       "70          0              0           NaT            NaN             0   \n",
       "71          0              0           NaT            NaN             0   \n",
       "72          0              0           NaT            NaN             0   \n",
       "73          0              0           NaT            NaN             0   \n",
       "74          0              0           NaT            NaN             0   \n",
       "75          0              0           NaT            NaN             0   \n",
       "76          0              0           NaT            NaN             0   \n",
       "77          0              0           NaT            NaN             0   \n",
       "78          0              0           NaT            NaN             0   \n",
       "79          0              0           NaT            NaN             0   \n",
       "80          0              0           NaT            NaN             0   \n",
       "81          0              0           NaT            NaN             0   \n",
       "82          0              0           NaT            NaN             0   \n",
       "83          0              0           NaT            NaN             0   \n",
       "84          0              0           NaT            NaN             0   \n",
       "85          0              0           NaT            NaN             0   \n",
       "86          0              0           NaT            NaN             0   \n",
       "87          0              0           NaT            NaN             0   \n",
       "88          0              0           NaT            NaN             0   \n",
       "89          0              0           NaT            NaN             0   \n",
       "90          0              0           NaT            NaN             0   \n",
       "91          0              0           NaT            NaN             0   \n",
       "92          0              0           NaT            NaN             0   \n",
       "93          0              0           NaT            NaN             0   \n",
       "94          0              0           NaT            NaN             0   \n",
       "95          0              0           NaT            NaN             0   \n",
       "96          0              0           NaT            NaN             0   \n",
       "97          0              0           NaT            NaN             0   \n",
       "98          0              0           NaT            NaN             0   \n",
       "99          0              0           NaT            NaN             0   \n",
       "\n",
       "   credit_card_max_limit   utilisation      balance  \n",
       "0                   8100  4.501660e-01  3646.344622  \n",
       "1                   8100  8.320184e-01   6739.34892  \n",
       "2                   8100  5.744425e-01  4652.984386  \n",
       "3                   8100  8.021839e-01  6497.689497  \n",
       "4                   8100  9.568927e-01  7750.831235  \n",
       "5                   8100  7.109495e-01  5758.690971  \n",
       "6                   8100  5.986877e-01  4849.370047  \n",
       "7                   8100  2.689414e-01  2178.425513  \n",
       "8                   8100  4.013123e-01  3250.629953  \n",
       "9                   8100  5.732418e-02   464.325825  \n",
       "10                  8100  1.338692e-02   108.434034  \n",
       "11                  8100  9.975049e-02   807.978962  \n",
       "12                  8100  4.750208e-01  3847.668581  \n",
       "13                  8100  3.318122e-01  2687.679045  \n",
       "14                  8100  2.314752e-01  1874.949254  \n",
       "15                  8100  1.824255e-01  1477.646743  \n",
       "16                  8100  2.890505e-01  2341.309029  \n",
       "17                  8100  2.141650e-01  1734.736637  \n",
       "18                  8100  2.314752e-01  1874.949254  \n",
       "19                  8100  3.916572e-02   317.242355  \n",
       "20                  8100  6.297336e-02   510.084184  \n",
       "21                  8100  3.318122e-01  2687.679045  \n",
       "22                  8100  2.141650e-01  1734.736637  \n",
       "23                  8100  4.501660e-01  3646.344622  \n",
       "24                  8100  1.679816e-01   1360.65108  \n",
       "25                  8100  8.317270e-02   673.698842  \n",
       "26                  8100  1.544653e-01  1251.168647  \n",
       "27                  8100  1.679816e-01   1360.65108  \n",
       "28                  8100  4.310725e-02   349.168765  \n",
       "29                  8100  4.966802e-03    40.231093  \n",
       "30                  8100  1.798621e-02   145.688301  \n",
       "31                  8100  1.301085e-01  1053.878642  \n",
       "32                  8100  2.314752e-01  1874.949254  \n",
       "33                  8100  5.498340e-01  4453.655378  \n",
       "34                  8100  3.543437e-01   2870.18392  \n",
       "35                  8100  1.679816e-01   1360.65108  \n",
       "36                  8100  1.824255e-01  1477.646743  \n",
       "37                  8100  4.501660e-01  3646.344622  \n",
       "38                  8100  6.899745e-01  5588.793297  \n",
       "39                  8100  7.685248e-01  6225.050746  \n",
       "40                  8100  2.497399e-01  2022.893145  \n",
       "41                  8100  8.317270e-02   673.698842  \n",
       "42                  8100  7.585818e-02   614.451258  \n",
       "43                  8100  1.679816e-01   1360.65108  \n",
       "44                  8100  8.317270e-02   673.698842  \n",
       "45                  8100  2.314752e-01  1874.949254  \n",
       "46                  8100  4.255575e-01  3447.015614  \n",
       "47                  8100  4.501660e-01  3646.344622  \n",
       "48                  8100  8.317270e-02   673.698842  \n",
       "49                  8100  3.543437e-01   2870.18392  \n",
       "50                  8100  4.255575e-01  3447.015614  \n",
       "51                  8100  8.317270e-02   673.698842  \n",
       "52                  8100  9.013299e-03    73.007719  \n",
       "53                  8100  5.732418e-02   464.325825  \n",
       "54                  8100  1.798621e-02   145.688301  \n",
       "55                  8100  1.501182e-03    12.159576  \n",
       "56                  8100  1.233946e-04     0.999496  \n",
       "57                  8100  1.845789e-05     0.149509  \n",
       "58                  8100  1.845789e-05     0.149509  \n",
       "59                  8100  7.504502e-06     0.060786  \n",
       "60                  8100  8.293750e-06     0.067179  \n",
       "61                  8100  5.544852e-05     0.449133  \n",
       "62                  8100  1.665581e-04      1.34912  \n",
       "63                  8100  1.363703e-04       1.1046  \n",
       "64                  8100  2.248168e-04     1.821016  \n",
       "65                  8100  2.472623e-03    20.028248  \n",
       "66                  8100  3.034470e-04     2.457921  \n",
       "67                  8100  6.127974e-05     0.496366  \n",
       "68                  8100  3.706061e-04      3.00191  \n",
       "69                  8100  2.237849e-03    18.126573  \n",
       "70                  8100  2.025320e-03    16.405095  \n",
       "71                  8100  1.501182e-03    12.159576  \n",
       "72                  8100  9.013299e-03    73.007719  \n",
       "73                  8100  6.059801e-03    49.084392  \n",
       "74                  8100  1.832939e-03    14.846805  \n",
       "75                  8100  3.684240e-03    29.842343  \n",
       "76                  8100  1.358520e-03    11.004012  \n",
       "77                  8100  1.507104e-04     1.220754  \n",
       "78                  8100  1.006771e-03     8.154844  \n",
       "79                  8100  9.110512e-04     7.379515  \n",
       "80                  8100  7.391541e-03    59.871485  \n",
       "81                  8100  7.460288e-04     6.042834  \n",
       "82                  8100  2.034270e-04     1.647759  \n",
       "83                  8100  1.670142e-05     0.135282  \n",
       "84                  8100  4.551724e-06     0.036869  \n",
       "85                  8100  6.790359e-06     0.055002  \n",
       "86                  8100  3.363196e-05     0.272419  \n",
       "87                  8100  1.012999e-05     0.082053  \n",
       "88                  8100  4.551724e-06     0.036869  \n",
       "89                  8100  3.363196e-05     0.272419  \n",
       "90                  8100  1.507104e-04     1.220754  \n",
       "91                  8100  5.527786e-04     4.477507  \n",
       "92                  8100  5.017216e-05     0.406395  \n",
       "93                  8100  2.484551e-04     2.012486  \n",
       "94                  8100  2.753569e-05     0.223039  \n",
       "95                  8100  3.051116e-06     0.024714  \n",
       "96                  8100  1.237277e-05     0.100219  \n",
       "97                  8100  3.051116e-06     0.024714  \n",
       "98                  8100  7.523977e-07     0.006094  \n",
       "99                  8100  8.293750e-06     0.067179  \n",
       "\n",
       "[100 rows x 23 columns]"
      ]
     },
     "execution_count": 76,
     "metadata": {},
     "output_type": "execute_result"
    }
   ],
   "source": [
    "df_sample[df_sample['id']==1]"
   ]
  },
  {
   "cell_type": "code",
   "execution_count": 70,
   "id": "c9c43baa",
   "metadata": {},
   "outputs": [
    {
     "data": {
      "application/vnd.plotly.v1+json": {
       "config": {
        "plotlyServerURL": "https://plot.ly"
       },
       "data": [
        {
         "hovertemplate": "date=2025-01-31 00:00:00<br>variable=id<br>default_month=%{x}<br>value=%{y}<extra></extra>",
         "legendgroup": "2025-01-31 00:00:00",
         "line": {
          "color": "#1F77B4",
          "dash": "solid"
         },
         "marker": {
          "symbol": "circle"
         },
         "mode": "lines",
         "name": "2025-01-31 00:00:00",
         "showlegend": true,
         "type": "scattergl",
         "x": {
          "bdata": "AQIDBAUGBwgJCgsMDQ4PEBESExQVFhcY",
          "dtype": "i1"
         },
         "xaxis": "x",
         "y": {
          "bdata": "AAAAAACAeUAAAAAAAIB5QAAAAAAAgHlAAAAAAACAeUAAAAAAAIB5QAAAAAAAgHlAAAAAAACAeUAAAAAAAIB5QAAAAAAAgHlAAAAAAACAeUAAAAAAAIB5QAAAAAAAgHlAAAAAAACAeUAAAAAAAIB5QAAAAAAAgHlAAAAAAACAeUAAAAAAAIB5QAAAAAAAgHlAAAAAAACAeUAAAAAAAIB5QAAAAAAAgHlAAAAAAACAeUAAAAAAAIB5QAAAAAAAgHlA",
          "dtype": "f8"
         },
         "yaxis": "y"
        },
        {
         "hovertemplate": "date=2025-01-31 00:00:00<br>variable=cum_defaults<br>default_month=%{x}<br>value=%{y}<extra></extra>",
         "legendgroup": "2025-01-31 00:00:00",
         "line": {
          "color": "#1F77B4",
          "dash": "solid"
         },
         "marker": {
          "symbol": "circle"
         },
         "mode": "lines",
         "name": "2025-01-31 00:00:00",
         "showlegend": false,
         "type": "scattergl",
         "x": {
          "bdata": "AQIDBAUGBwgJCgsMDQ4PEBESExQVFhcY",
          "dtype": "i1"
         },
         "xaxis": "x2",
         "y": {
          "bdata": "AAAAAAAAAAAAAAAAAAAAAAAAAAAAAAAA09LS0tLSoj8yMjIyMjKyP5ybm5ubm7s/X19fX19fvz+hoKCgoKDAPzIyMjIyMsI/09LS0tLSwj9zc3Nzc3PDPxQUFBQUFMQ/ZGRkZGRkxD/29fX19fXFP/b19fX19cU/l5aWlpaWxj+XlpaWlpbGP5eWlpaWlsY/5+bm5ubmxj83Nzc3NzfHPzc3Nzc3N8c/Nzc3Nzc3xz+Ih4eHh4fHP4iHh4eHh8c/",
          "dtype": "f8"
         },
         "yaxis": "y2"
        },
        {
         "hovertemplate": "date=2025-01-31 00:00:00<br>variable=default_flag<br>default_month=%{x}<br>value=%{y}<extra></extra>",
         "legendgroup": "2025-01-31 00:00:00",
         "line": {
          "color": "#1F77B4",
          "dash": "solid"
         },
         "marker": {
          "symbol": "circle"
         },
         "mode": "lines",
         "name": "2025-01-31 00:00:00",
         "showlegend": false,
         "type": "scattergl",
         "x": {
          "bdata": "AQIDBAUGBwgJCgsMDQ4PEBESExQVFhcY",
          "dtype": "i1"
         },
         "xaxis": "x3",
         "y": {
          "bdata": "AAAAAAAAAAAAAAAAAAAAAAAAAAAAAAAA09LS0tLSoj+SkZGRkZGhP9PS0tLS0qI/Hh4eHh4ejj8eHh4eHh5+PxkZGRkZGYk/FBQUFBQUdD8UFBQUFBR0PxQUFBQUFHQ/FBQUFBQUZD8ZGRkZGRmJPwAAAAAAAAAAFBQUFBQUdD8AAAAAAAAAAAAAAAAAAAAAFBQUFBQUZD8UFBQUFBRkPwAAAAAAAAAAAAAAAAAAAAAUFBQUFBRkPwAAAAAAAAAA",
          "dtype": "f8"
         },
         "yaxis": "y3"
        },
        {
         "hovertemplate": "date=2025-02-28 00:00:00<br>variable=id<br>default_month=%{x}<br>value=%{y}<extra></extra>",
         "legendgroup": "2025-02-28 00:00:00",
         "line": {
          "color": "#FF7F0E",
          "dash": "solid"
         },
         "marker": {
          "symbol": "circle"
         },
         "mode": "lines",
         "name": "2025-02-28 00:00:00",
         "showlegend": true,
         "type": "scattergl",
         "x": {
          "bdata": "AQIDBAUGBwgJCgsMDQ4PEBESExQVFhcY",
          "dtype": "i1"
         },
         "xaxis": "x",
         "y": {
          "bdata": "AAAAAAAoikAAAAAAACiKQAAAAAAAKIpAAAAAAAAoikAAAAAAACiKQAAAAAAAKIpAAAAAAAAoikAAAAAAACiKQAAAAAAAKIpAAAAAAAAoikAAAAAAACiKQAAAAAAAKIpAAAAAAAAoikAAAAAAACiKQAAAAAAAKIpAAAAAAAAoikAAAAAAACiKQAAAAAAAKIpAAAAAAAAoikAAAAAAACiKQAAAAAAAKIpAAAAAAAAoikAAAAAAACiKQAAAAAAAKIpA",
          "dtype": "f8"
         },
         "yaxis": "y"
        },
        {
         "hovertemplate": "date=2025-02-28 00:00:00<br>variable=cum_defaults<br>default_month=%{x}<br>value=%{y}<extra></extra>",
         "legendgroup": "2025-02-28 00:00:00",
         "line": {
          "color": "#FF7F0E",
          "dash": "solid"
         },
         "marker": {
          "symbol": "circle"
         },
         "mode": "lines",
         "name": "2025-02-28 00:00:00",
         "showlegend": false,
         "type": "scattergl",
         "x": {
          "bdata": "AQIDBAUGBwgJCgsMDQ4PEBESExQVFhcY",
          "dtype": "i1"
         },
         "xaxis": "x2",
         "y": {
          "bdata": "AAAAAAAAAAAAAAAAAAAAAK9nSdDrWZI/FYy+3a9Nqj8pMqzpNLe1P0DjxaV6I7w/lpHUNRDPvz8avEVsBm/BP3o9S4Jez8I/MwWjb/drwz/szPpckAjEP7ei/A4DfsQ/XlyqN8JBxT8pMqzpNLfFP+L5A9fNU8Y/0OtZEvR6xj/Q61kS9HrGP7/dr00aosY/m8FbxGbwxj+Js7H/jBfHP4mzsf+MF8c/eKUHO7M+xz94pQc7sz7HP1SJs7H/jMc/",
          "dtype": "f8"
         },
         "yaxis": "y2"
        },
        {
         "hovertemplate": "date=2025-02-28 00:00:00<br>variable=default_flag<br>default_month=%{x}<br>value=%{y}<extra></extra>",
         "legendgroup": "2025-02-28 00:00:00",
         "line": {
          "color": "#FF7F0E",
          "dash": "solid"
         },
         "marker": {
          "symbol": "circle"
         },
         "mode": "lines",
         "name": "2025-02-28 00:00:00",
         "showlegend": false,
         "type": "scattergl",
         "x": {
          "bdata": "AQIDBAUGBwgJCgsMDQ4PEBESExQVFhcY",
          "dtype": "i1"
         },
         "xaxis": "x3",
         "y": {
          "bdata": "AAAAAAAAAAAAAAAAAAAAAK9nSdDrWZI/PdiZ9bkgoT892Jn1uSChP1zEZvAWsZk/snJ1gKxcjT/qNLcV5XeIPwYWWGCBBYY/Iff4qh2Tcz8h9/iqHZNzP7JydYCsXG0/6jS3FeV3eD+ycnWArFxtPyH3+Kodk3M/Iff4qh2TUz8AAAAAAAAAACH3+Kodk1M/Iff4qh2TYz8h9/iqHZNTPwAAAAAAAAAAIff4qh2TUz8AAAAAAAAAACH3+Kodk2M/",
          "dtype": "f8"
         },
         "yaxis": "y3"
        },
        {
         "hovertemplate": "date=2025-03-31 00:00:00<br>variable=id<br>default_month=%{x}<br>value=%{y}<extra></extra>",
         "legendgroup": "2025-03-31 00:00:00",
         "line": {
          "color": "#2CA02C",
          "dash": "solid"
         },
         "marker": {
          "symbol": "circle"
         },
         "mode": "lines",
         "name": "2025-03-31 00:00:00",
         "showlegend": true,
         "type": "scattergl",
         "x": {
          "bdata": "AQIDBAUGBwgJCgsMDQ4PEBESExQVFhcY",
          "dtype": "i1"
         },
         "xaxis": "x",
         "y": {
          "bdata": "AAAAAADok0AAAAAAAOiTQAAAAAAA6JNAAAAAAADok0AAAAAAAOiTQAAAAAAA6JNAAAAAAADok0AAAAAAAOiTQAAAAAAA6JNAAAAAAADok0AAAAAAAOiTQAAAAAAA6JNAAAAAAADok0AAAAAAAOiTQAAAAAAA6JNAAAAAAADok0AAAAAAAOiTQAAAAAAA6JNAAAAAAADok0AAAAAAAOiTQAAAAAAA6JNAAAAAAADok0AAAAAAAOiTQAAAAAAA6JNA",
          "dtype": "f8"
         },
         "yaxis": "y"
        },
        {
         "hovertemplate": "date=2025-03-31 00:00:00<br>variable=cum_defaults<br>default_month=%{x}<br>value=%{y}<extra></extra>",
         "legendgroup": "2025-03-31 00:00:00",
         "line": {
          "color": "#2CA02C",
          "dash": "solid"
         },
         "marker": {
          "symbol": "circle"
         },
         "mode": "lines",
         "name": "2025-03-31 00:00:00",
         "showlegend": false,
         "type": "scattergl",
         "x": {
          "bdata": "AQIDBAUGBwgJCgsMDQ4PEBESExQVFhcY",
          "dtype": "i1"
         },
         "xaxis": "x2",
         "y": {
          "bdata": "AAAAAAAAAAD0ytOF7xyIP8imtezvR6E/JPOf2mB7sT8GsJJPQre4P7C9SGcrJL4/PzTWh8b6wD/ASj4J3WLCP3fjEuW+ycI/XKLcN1lKwz/L04XvHBjEPwzfOTAozMQ/H8T4+XpmxT/WXM3VXM3FPwSDwkwV58U/BIPCTBXnxT+N9aGxPjTGP+lBjJ+vZ8Y/F2iBFmiBxj8XaIEWaIHGP84AVvJJ6MY//CZLaQICxz9XczVXczXHP1dzNVdzNcc/",
          "dtype": "f8"
         },
         "yaxis": "y2"
        },
        {
         "hovertemplate": "date=2025-03-31 00:00:00<br>variable=default_flag<br>default_month=%{x}<br>value=%{y}<extra></extra>",
         "legendgroup": "2025-03-31 00:00:00",
         "line": {
          "color": "#2CA02C",
          "dash": "solid"
         },
         "marker": {
          "symbol": "circle"
         },
         "mode": "lines",
         "name": "2025-03-31 00:00:00",
         "showlegend": false,
         "type": "scattergl",
         "x": {
          "bdata": "AQIDBAUGBwgJCgsMDQ4PEBESExQVFhcY",
          "dtype": "i1"
         },
         "xaxis": "x3",
         "y": {
          "bdata": "AAAAAAAAAAD0ytOF7xyIPxdogRZogZY/fz+KyNGuoT+L88rThe+cP6g22F6ks5U/aFYdQw2Ljj8XaIEWaIGGP9EtJvV2uGk/otw3WUoTcD/RLSb1drh5PxdogRZogXY/XKLcN1lKcz/RLSb1drhpP9EtJvV2uEk/AAAAAAAAAABcotw3WUpjP9EtJvV2uFk/0S0m9Xa4ST8AAAAAAAAAANEtJvV2uGk/0S0m9Xa4ST/RLSb1drhZPwAAAAAAAAAA",
          "dtype": "f8"
         },
         "yaxis": "y3"
        },
        {
         "hovertemplate": "date=2025-04-30 00:00:00<br>variable=id<br>default_month=%{x}<br>value=%{y}<extra></extra>",
         "legendgroup": "2025-04-30 00:00:00",
         "line": {
          "color": "#D62728",
          "dash": "solid"
         },
         "marker": {
          "symbol": "circle"
         },
         "mode": "lines",
         "name": "2025-04-30 00:00:00",
         "showlegend": true,
         "type": "scattergl",
         "x": {
          "bdata": "AQIDBAUGBwgJCgsMDQ4PEBESExQVFhcY",
          "dtype": "i1"
         },
         "xaxis": "x",
         "y": {
          "bdata": "AAAAAABImkAAAAAAAEiaQAAAAAAASJpAAAAAAABImkAAAAAAAEiaQAAAAAAASJpAAAAAAABImkAAAAAAAEiaQAAAAAAASJpAAAAAAABImkAAAAAAAEiaQAAAAAAASJpAAAAAAABImkAAAAAAAEiaQAAAAAAASJpAAAAAAABImkAAAAAAAEiaQAAAAAAASJpAAAAAAABImkAAAAAAAEiaQAAAAAAASJpAAAAAAABImkAAAAAAAEiaQAAAAAAASJpA",
          "dtype": "f8"
         },
         "yaxis": "y"
        },
        {
         "hovertemplate": "date=2025-04-30 00:00:00<br>variable=cum_defaults<br>default_month=%{x}<br>value=%{y}<extra></extra>",
         "legendgroup": "2025-04-30 00:00:00",
         "line": {
          "color": "#D62728",
          "dash": "solid"
         },
         "marker": {
          "symbol": "circle"
         },
         "mode": "lines",
         "name": "2025-04-30 00:00:00",
         "showlegend": false,
         "type": "scattergl",
         "x": {
          "bdata": "AQIDBAUGBwgJCgsMDQ4PEBESExQVFhcY",
          "dtype": "i1"
         },
         "xaxis": "x2",
         "y": {
          "bdata": "0LQ+opNDgj/EnBXxqC2aP2G5pxGWe6o/B6gYN/PZtD/qABXjZj67P9P6iE4OScA/gqb1EZ0cwj/jZj6b8svCP0QnhyRIe8M/9PUYPpRRxD9WtmHH6QDFP2loYcBIicU/o6GFASMlxj9AvhciEHPGP2dFPGqLhsY/LOny0vPnxj969ztj6g7HP8kFhfPgNcc/yQWF8+A1xz9mIhcUzoPHP7QwYKTEqsc/UU3yxLH4xz951BYNLQzIP6BbO1WoH8g/",
          "dtype": "f8"
         },
         "yaxis": "y2"
        },
        {
         "hovertemplate": "date=2025-04-30 00:00:00<br>variable=default_flag<br>default_month=%{x}<br>value=%{y}<extra></extra>",
         "legendgroup": "2025-04-30 00:00:00",
         "line": {
          "color": "#D62728",
          "dash": "solid"
         },
         "marker": {
          "symbol": "circle"
         },
         "mode": "lines",
         "name": "2025-04-30 00:00:00",
         "showlegend": false,
         "type": "scattergl",
         "x": {
          "bdata": "AQIDBAUGBwgJCgsMDQ4PEBESExQVFhcY",
          "dtype": "i1"
         },
         "xaxis": "x3",
         "y": {
          "bdata": "0LQ+opNDgj9cQvYf3wuRP/7VOTKDyZo/Wy0TuaBwnj+KY/GvzpGZP/PS8+fWTpU/57rKNuw4jT8tDBgpsep1Py0MGCmx6nU//tU5MoPJej8tDBgpsep1P1xC9h/fC3E/RCeHJEh7cz9EJ4ckSHtjP0QnhyRIe0M/FvGoLRpaaD9EJ4ckSHtTP0QnhyRIe1M/AAAAAAAAAABEJ4ckSHtjP0QnhyRIe1M/RCeHJEh7Yz9EJ4ckSHtDP0QnhyRIe0M/",
          "dtype": "f8"
         },
         "yaxis": "y3"
        },
        {
         "hovertemplate": "date=2025-05-31 00:00:00<br>variable=id<br>default_month=%{x}<br>value=%{y}<extra></extra>",
         "legendgroup": "2025-05-31 00:00:00",
         "line": {
          "color": "#9467BD",
          "dash": "solid"
         },
         "marker": {
          "symbol": "circle"
         },
         "mode": "lines",
         "name": "2025-05-31 00:00:00",
         "showlegend": true,
         "type": "scattergl",
         "x": {
          "bdata": "AQIDBAUGBwgJCgsMDQ4PEBESExQVFhcY",
          "dtype": "i1"
         },
         "xaxis": "x",
         "y": {
          "bdata": "AAAAAAA+oEAAAAAAAD6gQAAAAAAAPqBAAAAAAAA+oEAAAAAAAD6gQAAAAAAAPqBAAAAAAAA+oEAAAAAAAD6gQAAAAAAAPqBAAAAAAAA+oEAAAAAAAD6gQAAAAAAAPqBAAAAAAAA+oEAAAAAAAD6gQAAAAAAAPqBAAAAAAAA+oEAAAAAAAD6gQAAAAAAAPqBAAAAAAAA+oEAAAAAAAD6gQAAAAAAAPqBAAAAAAAA+oEAAAAAAAD6gQAAAAAAAPqBA",
          "dtype": "f8"
         },
         "yaxis": "y"
        },
        {
         "hovertemplate": "date=2025-05-31 00:00:00<br>variable=cum_defaults<br>default_month=%{x}<br>value=%{y}<extra></extra>",
         "legendgroup": "2025-05-31 00:00:00",
         "line": {
          "color": "#9467BD",
          "dash": "solid"
         },
         "marker": {
          "symbol": "circle"
         },
         "mode": "lines",
         "name": "2025-05-31 00:00:00",
         "showlegend": false,
         "type": "scattergl",
         "x": {
          "bdata": "AQIDBAUGBwgJCgsMDQ4PEBESExQVFhcY",
          "dtype": "i1"
         },
         "xaxis": "x2",
         "y": {
          "bdata": "I/8YKx6Viz8p7UZASruhP6KDzSWTC64/TU8Egyhptj9DIMZpuzK8P+1GQEq7EcA/w1GYdRu/wD+8GfFmxJvBP2zL9EQwiMI/i+yhg80lwz8+Ovno5KPDP8su/AAIYcQ/W79SoNavxD/Hkqh5XM/EP1cj/xgrHsU/euD/3nNNxT+dnQClvHzFP52dAKW8fMU/LS5XRIvLxT9Q61cK1PrFPyqSA73fOcY/4HuuqaJJxj+WZVmWZVnGPwM5r2/reMY/",
          "dtype": "f8"
         },
         "yaxis": "y2"
        },
        {
         "hovertemplate": "date=2025-05-31 00:00:00<br>variable=default_flag<br>default_month=%{x}<br>value=%{y}<extra></extra>",
         "legendgroup": "2025-05-31 00:00:00",
         "line": {
          "color": "#9467BD",
          "dash": "solid"
         },
         "marker": {
          "symbol": "circle"
         },
         "mode": "lines",
         "name": "2025-05-31 00:00:00",
         "showlegend": false,
         "type": "scattergl",
         "x": {
          "bdata": "AQIDBAUGBwgJCgsMDQ4PEBESExQVFhcY",
          "dtype": "i1"
         },
         "xaxis": "x3",
         "y": {
          "bdata": "I/8YKx6Viz/AWgFrBayVP/IsDcuRoJg/7zV2wHuNnT/ZQwebSyaXP7ts01XZhY8/wFoBawWsdT8j/xgrHpV7P+81dsB7jX0/9SOk1aezcz+7bNNV2YVvP4yRXgBjpHc/9SOk1aezYz+7bNNV2YVPP/UjpNWns2M/jJFeAGOkVz+MkV4AY6RXPwAAAAAAAAAA9SOk1aezYz+MkV4AY6RXP7ts01XZhV8/u2zTVdmFPz+7bNNV2YU/P7ts01XZhU8/",
          "dtype": "f8"
         },
         "yaxis": "y3"
        },
        {
         "hovertemplate": "date=2025-06-30 00:00:00<br>variable=id<br>default_month=%{x}<br>value=%{y}<extra></extra>",
         "legendgroup": "2025-06-30 00:00:00",
         "line": {
          "color": "#8C564B",
          "dash": "solid"
         },
         "marker": {
          "symbol": "circle"
         },
         "mode": "lines",
         "name": "2025-06-30 00:00:00",
         "showlegend": true,
         "type": "scattergl",
         "x": {
          "bdata": "AQIDBAUGBwgJCgsMDQ4PEBESExQVFhcY",
          "dtype": "i1"
         },
         "xaxis": "x",
         "y": {
          "bdata": "AAAAAABCo0AAAAAAAEKjQAAAAAAAQqNAAAAAAABCo0AAAAAAAEKjQAAAAAAAQqNAAAAAAABCo0AAAAAAAEKjQAAAAAAAQqNAAAAAAABCo0AAAAAAAEKjQAAAAAAAQqNAAAAAAABCo0AAAAAAAEKjQAAAAAAAQqNAAAAAAABCo0AAAAAAAEKjQAAAAAAAQqNAAAAAAABCo0AAAAAAAEKjQAAAAAAAQqNAAAAAAABCo0AAAAAAAEKjQAAAAAAAQqNA",
          "dtype": "f8"
         },
         "yaxis": "y"
        },
        {
         "hovertemplate": "date=2025-06-30 00:00:00<br>variable=cum_defaults<br>default_month=%{x}<br>value=%{y}<extra></extra>",
         "legendgroup": "2025-06-30 00:00:00",
         "line": {
          "color": "#8C564B",
          "dash": "solid"
         },
         "marker": {
          "symbol": "circle"
         },
         "mode": "lines",
         "name": "2025-06-30 00:00:00",
         "showlegend": false,
         "type": "scattergl",
         "x": {
          "bdata": "AQIDBAUGBwgJCgsMDQ4PEBESExQVFhcY",
          "dtype": "i1"
         },
         "xaxis": "x2",
         "y": {
          "bdata": "UN2Naj5Hkj/EoHR9SIajP0xDeDqt/K8/nIEgZ7+ttz/oJbNjQBS9PzHHQl2+d78/z1sM6bzFwD9mbjl3BLXBP7+16qwfb8I/qSQ/oFkBwz/SXg/sv8jDP34C6IbNJcQ/jMCC9URoxD+Zfh1kvKrEPwhXeqad0sQ/di/X6H76xD8VFRUVFRXFPyPTr4OMV8U/MJFK8gOaxT8NQgR3xunFP900I40R98U/rCdCo1wExj9LDYDP8h7GP4nY+ycfVMY/",
          "dtype": "f8"
         },
         "yaxis": "y2"
        },
        {
         "hovertemplate": "date=2025-06-30 00:00:00<br>variable=default_flag<br>default_month=%{x}<br>value=%{y}<extra></extra>",
         "legendgroup": "2025-06-30 00:00:00",
         "line": {
          "color": "#8C564B",
          "dash": "solid"
         },
         "marker": {
          "symbol": "circle"
         },
         "mode": "lines",
         "name": "2025-06-30 00:00:00",
         "showlegend": false,
         "type": "scattergl",
         "x": {
          "bdata": "AQIDBAUGBwgJCgsMDQ4PEBESExQVFhcY",
          "dtype": "i1"
         },
         "xaxis": "x3",
         "y": {
          "bdata": "UN2Naj5Hkj84ZFuQUsWUPxBFB3rJ7Jg/2H+RJ6O9nj8wkUryA5qVP0gKfczvG4M/YIOvptudgD/gUqLF8eh9PyDrKLZmQ3c/UN2Naj5Hcj8QRQd6yex4PyDrKLZmQ2c/YIOvptudYD9gg6+m251gP0A3bC6h8FM/QDdsLqHwUz8An+U9LJZKP2CDr6bbnWA/YIOvptudYD9AN2wuofBjPwCf5T0sljo/AJ/lPSyWOj8An+U9LJZKPwCf5T0sllo/",
          "dtype": "f8"
         },
         "yaxis": "y3"
        },
        {
         "hovertemplate": "date=2025-07-31 00:00:00<br>variable=id<br>default_month=%{x}<br>value=%{y}<extra></extra>",
         "legendgroup": "2025-07-31 00:00:00",
         "line": {
          "color": "#E377C2",
          "dash": "solid"
         },
         "marker": {
          "symbol": "circle"
         },
         "mode": "lines",
         "name": "2025-07-31 00:00:00",
         "showlegend": true,
         "type": "scattergl",
         "x": {
          "bdata": "AQIDBAUGBwgJCgsMDQ4PEBESExQVFhcY",
          "dtype": "i1"
         },
         "xaxis": "x",
         "y": {
          "bdata": "AAAAAAAypkAAAAAAADKmQAAAAAAAMqZAAAAAAAAypkAAAAAAADKmQAAAAAAAMqZAAAAAAAAypkAAAAAAADKmQAAAAAAAMqZAAAAAAAAypkAAAAAAADKmQAAAAAAAMqZAAAAAAAAypkAAAAAAADKmQAAAAAAAMqZAAAAAAAAypkAAAAAAADKmQAAAAAAAMqZAAAAAAAAypkAAAAAAADKmQAAAAAAAMqZAAAAAAAAypkAAAAAAADKmQAAAAAAAMqZA",
          "dtype": "f8"
         },
         "yaxis": "y"
        },
        {
         "hovertemplate": "date=2025-07-31 00:00:00<br>variable=cum_defaults<br>default_month=%{x}<br>value=%{y}<extra></extra>",
         "legendgroup": "2025-07-31 00:00:00",
         "line": {
          "color": "#E377C2",
          "dash": "solid"
         },
         "marker": {
          "symbol": "circle"
         },
         "mode": "lines",
         "name": "2025-07-31 00:00:00",
         "showlegend": false,
         "type": "scattergl",
         "x": {
          "bdata": "AQIDBAUGBwgJCgsMDQ4PEBESExQVFhcY",
          "dtype": "i1"
         },
         "xaxis": "x2",
         "y": {
          "bdata": "a+U+NpYFkj/CYngI8tKjP/JNd/R/lLA/C/GVgHUotz/L+M9cCpW6P0WuQnwlYL0/84oKQ9igvz9px5NYkavAP/PcTGOCQcE/415bmqccwj8FCL94ZG3CP1tnTW274MI/fRCxS3gxwz9tA+oTm1/DPxgzMY5GmcM/fp+Gunrewz/lC9zmriPEP5A7I2FaXcQ/suSGPxeuxD8qXqOjKMXEP6LXvwc63MQ/1Y3qHdT+xD/EgCPm9izFP/c2TvyQT8U/",
          "dtype": "f8"
         },
         "yaxis": "y2"
        },
        {
         "hovertemplate": "date=2025-07-31 00:00:00<br>variable=default_flag<br>default_month=%{x}<br>value=%{y}<extra></extra>",
         "legendgroup": "2025-07-31 00:00:00",
         "line": {
          "color": "#E377C2",
          "dash": "solid"
         },
         "marker": {
          "symbol": "circle"
         },
         "mode": "lines",
         "name": "2025-07-31 00:00:00",
         "showlegend": false,
         "type": "scattergl",
         "x": {
          "bdata": "AQIDBAUGBwgJCgsMDQ4PEBESExQVFhcY",
          "dtype": "i1"
         },
         "xaxis": "x3",
         "y": {
          "bdata": "a+U+NpYFkj8a4LHaTaCVP0Jy7MAbrJo/ZIx6MNZPmj//PdDhpmSLP9erlfvYWIY/a+U+NpYFgj//PdDhpmR7PyixIlchvnI//z3Q4aZkez+hSOqYNy9kP3jVlyO91Ww/oUjqmDcvZD+Td3kcZBFXP3jVlyO91Vw/rhlbFQtNYT+uGVsVC01hP3jVlyO91Vw/oUjqmDcvZD+Td3kcZBFHP5N3eRxkEUc/rhlbFQtNUT+Td3kcZBFXP64ZWxULTVE/",
          "dtype": "f8"
         },
         "yaxis": "y3"
        },
        {
         "hovertemplate": "date=2025-08-31 00:00:00<br>variable=id<br>default_month=%{x}<br>value=%{y}<extra></extra>",
         "legendgroup": "2025-08-31 00:00:00",
         "line": {
          "color": "#7F7F7F",
          "dash": "solid"
         },
         "marker": {
          "symbol": "circle"
         },
         "mode": "lines",
         "name": "2025-08-31 00:00:00",
         "showlegend": true,
         "type": "scattergl",
         "x": {
          "bdata": "AQIDBAUGBwgJCgsMDQ4PEBESExQVFhcY",
          "dtype": "i1"
         },
         "xaxis": "x",
         "y": {
          "bdata": "AAAAAADOqEAAAAAAAM6oQAAAAAAAzqhAAAAAAADOqEAAAAAAAM6oQAAAAAAAzqhAAAAAAADOqEAAAAAAAM6oQAAAAAAAzqhAAAAAAADOqEAAAAAAAM6oQAAAAAAAzqhAAAAAAADOqEAAAAAAAM6oQAAAAAAAzqhAAAAAAADOqEAAAAAAAM6oQAAAAAAAzqhAAAAAAADOqEAAAAAAAM6oQAAAAAAAzqhAAAAAAADOqEAAAAAAAM6oQAAAAAAAzqhA",
          "dtype": "f8"
         },
         "yaxis": "y"
        },
        {
         "hovertemplate": "date=2025-08-31 00:00:00<br>variable=cum_defaults<br>default_month=%{x}<br>value=%{y}<extra></extra>",
         "legendgroup": "2025-08-31 00:00:00",
         "line": {
          "color": "#7F7F7F",
          "dash": "solid"
         },
         "marker": {
          "symbol": "circle"
         },
         "mode": "lines",
         "name": "2025-08-31 00:00:00",
         "showlegend": false,
         "type": "scattergl",
         "x": {
          "bdata": "AQIDBAUGBwgJCgsMDQ4PEBESExQVFhcY",
          "dtype": "i1"
         },
         "xaxis": "x2",
         "y": {
          "bdata": "cJ41AedZkz+GiiaO25ulPw0/PqS9sLA/pGtPQbr2tD/uJFoOgtW4P8ETvRE80bs/QlTdIUTVvT++WcEOz0i/Pw0/PqS9sMA/WrJEdPIXwT9ye7OCHZ7BP9F87D0A+8E/QQxY5JBNwj/WtyhhfYvCP1nVxvK708I/ymQymUwmwz9MgtAqi27DP70RPNEbwcM/h2ekDxLgwz9SvQxOCP/DP/j2D7aiMsQ/sb5FCetbxD9phntcM4XEPyFOsa97rsQ/",
          "dtype": "f8"
         },
         "yaxis": "y2"
        },
        {
         "hovertemplate": "date=2025-08-31 00:00:00<br>variable=default_flag<br>default_month=%{x}<br>value=%{y}<extra></extra>",
         "legendgroup": "2025-08-31 00:00:00",
         "line": {
          "color": "#7F7F7F",
          "dash": "solid"
         },
         "marker": {
          "symbol": "circle"
         },
         "mode": "lines",
         "name": "2025-08-31 00:00:00",
         "showlegend": false,
         "type": "scattergl",
         "x": {
          "bdata": "AQIDBAUGBwgJCgsMDQ4PEBESExQVFhcY",
          "dtype": "i1"
         },
         "xaxis": "x3",
         "y": {
          "bdata": "cJ41AedZkz+bdhcb0N2XPyrnq3Q/i5c/WrJEdPIXkT9NylVoPvaOP5t2FxvQ3Yc/CAQCgUAggD+6V0DOrjh3P+oi2c1hxYA/QNOcATTNaT/qItnNYcVwP7pXQM6uOGc/M9zjmimkZD9NylVoPvZeP61gh2ekD2I/M9zjmimkZD+tYIdnpA9iPzPc45oppGQ/TcpVaD72Tj9NylVoPvZOP0DTnAE0zVk/M9zjmimkVD8z3OOaKaRUPzPc45oppFQ/",
          "dtype": "f8"
         },
         "yaxis": "y3"
        },
        {
         "hovertemplate": "date=2025-09-30 00:00:00<br>variable=id<br>default_month=%{x}<br>value=%{y}<extra></extra>",
         "legendgroup": "2025-09-30 00:00:00",
         "line": {
          "color": "#BCBD22",
          "dash": "solid"
         },
         "marker": {
          "symbol": "circle"
         },
         "mode": "lines",
         "name": "2025-09-30 00:00:00",
         "showlegend": true,
         "type": "scattergl",
         "x": {
          "bdata": "AQIDBAUGBwgJCgsMDQ4PEBESExQVFhcY",
          "dtype": "i1"
         },
         "xaxis": "x",
         "y": {
          "bdata": "AAAAAACoq0AAAAAAAKirQAAAAAAAqKtAAAAAAACoq0AAAAAAAKirQAAAAAAAqKtAAAAAAACoq0AAAAAAAKirQAAAAAAAqKtAAAAAAACoq0AAAAAAAKirQAAAAAAAqKtAAAAAAACoq0AAAAAAAKirQAAAAAAAqKtAAAAAAACoq0AAAAAAAKirQAAAAAAAqKtAAAAAAACoq0AAAAAAAKirQAAAAAAAqKtAAAAAAACoq0AAAAAAAKirQAAAAAAAqKtA",
          "dtype": "f8"
         },
         "yaxis": "y"
        },
        {
         "hovertemplate": "date=2025-09-30 00:00:00<br>variable=cum_defaults<br>default_month=%{x}<br>value=%{y}<extra></extra>",
         "legendgroup": "2025-09-30 00:00:00",
         "line": {
          "color": "#BCBD22",
          "dash": "solid"
         },
         "marker": {
          "symbol": "circle"
         },
         "mode": "lines",
         "name": "2025-09-30 00:00:00",
         "showlegend": false,
         "type": "scattergl",
         "x": {
          "bdata": "AQIDBAUGBwgJCgsMDQ4PEBESExQVFhcY",
          "dtype": "i1"
         },
         "xaxis": "x2",
         "y": {
          "bdata": "1FruqNhnlT/WT7wB0kKlP2uWGJ8y7aw/dqU04uoEsz+49KrNNW63Pw7WLDE+Zbo/c2pQAhhZvD/QKjxwDOG+P0NyAa+30b8/WmJ8yrRzwD+UAEYWh9nAP1CZdg7WLME/jCwOs6FtwT+IQnIBr7fBP0Pbovn9CsI/gG46nslLwj87B2uWGJ/CP3qP0JPdusI/uBc2kaLWwj92pTTi6gTDP3SwZonxKcM/MT5l2jlYwz/vy2MrgobDP2zcLiYMvsM/",
          "dtype": "f8"
         },
         "yaxis": "y2"
        },
        {
         "hovertemplate": "date=2025-09-30 00:00:00<br>variable=default_flag<br>default_month=%{x}<br>value=%{y}<extra></extra>",
         "legendgroup": "2025-09-30 00:00:00",
         "line": {
          "color": "#BCBD22",
          "dash": "solid"
         },
         "marker": {
          "symbol": "circle"
         },
         "mode": "lines",
         "name": "2025-09-30 00:00:00",
         "showlegend": false,
         "type": "scattergl",
         "x": {
          "bdata": "AQIDBAUGBwgJCgsMDQ4PEBESExQVFhcY",
          "dtype": "i1"
         },
         "xaxis": "x3",
         "y": {
          "bdata": "1FruqNhnlT/YRIpayx2VP1MacXWCqY4/AWmhSkY5kj8JPdmtK6WRP7QKDxxDuIc/S0Y5Ep09fz/lAl5voz+EP1vuqNhnFW4/DSd1Xx5bcT+cjmfyknRpP9wuJgy+02Q/Hc/kJekyYD/9fgWZU4NiP9wuJgy+02Q/Hc/kJekyYD/cLiYMvtNkP3s+iGX9xEs/ez6IZf3ESz+83kZ/KCRXP/1+BZlTg1I/vN5GfygkVz+83kZ/KCRXP3s+iGX9xFs/",
          "dtype": "f8"
         },
         "yaxis": "y3"
        },
        {
         "hovertemplate": "date=2025-10-31 00:00:00<br>variable=id<br>default_month=%{x}<br>value=%{y}<extra></extra>",
         "legendgroup": "2025-10-31 00:00:00",
         "line": {
          "color": "#17BECF",
          "dash": "solid"
         },
         "marker": {
          "symbol": "circle"
         },
         "mode": "lines",
         "name": "2025-10-31 00:00:00",
         "showlegend": true,
         "type": "scattergl",
         "x": {
          "bdata": "AQIDBAUGBwgJCgsMDQ4PEBESExQVFhcY",
          "dtype": "i1"
         },
         "xaxis": "x",
         "y": {
          "bdata": "AAAAAAA2rkAAAAAAADauQAAAAAAANq5AAAAAAAA2rkAAAAAAADauQAAAAAAANq5AAAAAAAA2rkAAAAAAADauQAAAAAAANq5AAAAAAAA2rkAAAAAAADauQAAAAAAANq5AAAAAAAA2rkAAAAAAADauQAAAAAAANq5AAAAAAAA2rkAAAAAAADauQAAAAAAANq5AAAAAAAA2rkAAAAAAADauQAAAAAAANq5AAAAAAAA2rkAAAAAAADauQAAAAAAANq5A",
          "dtype": "f8"
         },
         "yaxis": "y"
        },
        {
         "hovertemplate": "date=2025-10-31 00:00:00<br>variable=cum_defaults<br>default_month=%{x}<br>value=%{y}<extra></extra>",
         "legendgroup": "2025-10-31 00:00:00",
         "line": {
          "color": "#17BECF",
          "dash": "solid"
         },
         "marker": {
          "symbol": "circle"
         },
         "mode": "lines",
         "name": "2025-10-31 00:00:00",
         "showlegend": false,
         "type": "scattergl",
         "x": {
          "bdata": "AQIDBAUGBwgJCgsMDQ4PEBESExQVFhcY",
          "dtype": "i1"
         },
         "xaxis": "x2",
         "y": {
          "bdata": "fMS426tUkz/tX3Vpxa6gP+MPMB4oBqk/fmRWJSR6sT8xOsMhJkC1P3e0riP/9rc/BhnyleWcuj/gn8Ov8827P0yT3Ze+U70/bwQHItpzvj+4HpBtK1C/P27M0Oq/178/7cfceyM4wD9/NCVK4IzAP3+A8UAxyMA/7PcNV2clwT9/GIou0z7BP+xD2k24YME/NXr+tBaLwT9+sCIcdbXBP6LxGstM6ME/6yc/MqsSwj/rcwsp/E3CP32UhwBoZ8I/",
          "dtype": "f8"
         },
         "yaxis": "y2"
        },
        {
         "hovertemplate": "date=2025-10-31 00:00:00<br>variable=default_flag<br>default_month=%{x}<br>value=%{y}<extra></extra>",
         "legendgroup": "2025-10-31 00:00:00",
         "line": {
          "color": "#17BECF",
          "dash": "solid"
         },
         "marker": {
          "symbol": "circle"
         },
         "mode": "lines",
         "name": "2025-10-31 00:00:00",
         "showlegend": false,
         "type": "scattergl",
         "x": {
          "bdata": "AQIDBAUGBwgJCgsMDQ4PEBESExQVFhcY",
          "dtype": "i1"
         },
         "xaxis": "x3",
         "y": {
          "bdata": "fMS426tUkz+79mPuvRGMP+1fdWnFrpA/MnL5WEDckz+UrWbjDzCOPzDSWw/ItoU/eiQbkjMvhT+hbRid4RBzP8A2n4GuXHg/NRKXorgBcj8FSSNxKYprP8i2FaiP8mA/oW0YneEQYz96JBuSMy9lP97/JWZ7qF0/U9sdh4VNZz8skiB812tJP8i2FaiP8lA/eiQbkjMvVT96JBuSMy9VPyySIHzXa1k/eiQbkjMvVT/e/yVme6hdPyySIHzXa0k/",
          "dtype": "f8"
         },
         "yaxis": "y3"
        },
        {
         "hovertemplate": "date=2025-11-30 00:00:00<br>variable=id<br>default_month=%{x}<br>value=%{y}<extra></extra>",
         "legendgroup": "2025-11-30 00:00:00",
         "line": {
          "color": "#1F77B4",
          "dash": "solid"
         },
         "marker": {
          "symbol": "circle"
         },
         "mode": "lines",
         "name": "2025-11-30 00:00:00",
         "showlegend": true,
         "type": "scattergl",
         "x": {
          "bdata": "AQIDBAUGBwgJCgsMDQ4PEBESExQVFhcY",
          "dtype": "i1"
         },
         "xaxis": "x",
         "y": {
          "bdata": "AAAAAABVsEAAAAAAAFWwQAAAAAAAVbBAAAAAAABVsEAAAAAAAFWwQAAAAAAAVbBAAAAAAABVsEAAAAAAAFWwQAAAAAAAVbBAAAAAAABVsEAAAAAAAFWwQAAAAAAAVbBAAAAAAABVsEAAAAAAAFWwQAAAAAAAVbBAAAAAAABVsEAAAAAAAFWwQAAAAAAAVbBAAAAAAABVsEAAAAAAAFWwQAAAAAAAVbBAAAAAAABVsEAAAAAAAFWwQAAAAAAAVbBA",
          "dtype": "f8"
         },
         "yaxis": "y"
        },
        {
         "hovertemplate": "date=2025-11-30 00:00:00<br>variable=cum_defaults<br>default_month=%{x}<br>value=%{y}<extra></extra>",
         "legendgroup": "2025-11-30 00:00:00",
         "line": {
          "color": "#1F77B4",
          "dash": "solid"
         },
         "marker": {
          "symbol": "circle"
         },
         "mode": "lines",
         "name": "2025-11-30 00:00:00",
         "showlegend": false,
         "type": "scattergl",
         "x": {
          "bdata": "AQIDBAUGBwgJCgsMDQ4PEBESExQVFhcY",
          "dtype": "i1"
         },
         "xaxis": "x2",
         "y": {
          "bdata": "LxUOshT2iT853VfREWmcP7+cAB6+Y6c/caWqqXlJsD9KQE766JezPyOiCKf4l7Y/9eY0ICoQuD8vFQ6yFPa5P81I78w5ELs/0fOquFj7uz9stbmLvni8P6L/7Y0qJb0/P/rlBPDwvT/au/TXVW6+P0PeipRuKr8/3maww3RZvz+rxzetJ5i/P+DYggs09r8/CvXmNCAqwD+lfQxkJlnAPyUaATZWgMA/2Y5XwjK3wD9APxs3jNbAP1orTJRi3sA/",
          "dtype": "f8"
         },
         "yaxis": "y2"
        },
        {
         "hovertemplate": "date=2025-11-30 00:00:00<br>variable=default_flag<br>default_month=%{x}<br>value=%{y}<extra></extra>",
         "legendgroup": "2025-11-30 00:00:00",
         "line": {
          "color": "#1F77B4",
          "dash": "solid"
         },
         "marker": {
          "symbol": "circle"
         },
         "mode": "lines",
         "name": "2025-11-30 00:00:00",
         "showlegend": false,
         "type": "scattergl",
         "x": {
          "bdata": "AQIDBAUGBwgJCgsMDQ4PEBESExQVFhcY",
          "dtype": "i1"
         },
         "xaxis": "x3",
         "y": {
          "bdata": "LxUOshT2iT9CpaHwDtyOP0ZcqWpqXpI/Rlypampekj/L1hyFenOKP8IO02V9AIg/Jk3EkheDdz+n45IdqV5+P905E65RonE/cGB1d91jbT/eZrDDdFlfP7hGiUaAjWU/lFP/3q54aT/eZrDDdFlfPyZNxJIXg2c/Jk3EkheDRz/eZrDDdFlPPyZNxJIXg1c/Jk3EkheDVz8mTcSSF4NXP0pATvrol1M/Alo6K0ZuWz/eZrDDdFlPP95msMN0WS8/",
          "dtype": "f8"
         },
         "yaxis": "y3"
        },
        {
         "hovertemplate": "date=2025-12-31 00:00:00<br>variable=id<br>default_month=%{x}<br>value=%{y}<extra></extra>",
         "legendgroup": "2025-12-31 00:00:00",
         "line": {
          "color": "#FF7F0E",
          "dash": "solid"
         },
         "marker": {
          "symbol": "circle"
         },
         "mode": "lines",
         "name": "2025-12-31 00:00:00",
         "showlegend": true,
         "type": "scattergl",
         "x": {
          "bdata": "AQIDBAUGBwgJCgsMDQ4PEBESExQVFhcY",
          "dtype": "i1"
         },
         "xaxis": "x",
         "y": {
          "bdata": "AAAAAADLsUAAAAAAAMuxQAAAAAAAy7FAAAAAAADLsUAAAAAAAMuxQAAAAAAAy7FAAAAAAADLsUAAAAAAAMuxQAAAAAAAy7FAAAAAAADLsUAAAAAAAMuxQAAAAAAAy7FAAAAAAADLsUAAAAAAAMuxQAAAAAAAy7FAAAAAAADLsUAAAAAAAMuxQAAAAAAAy7FAAAAAAADLsUAAAAAAAMuxQAAAAAAAy7FAAAAAAADLsUAAAAAAAMuxQAAAAAAAy7FA",
          "dtype": "f8"
         },
         "yaxis": "y"
        },
        {
         "hovertemplate": "date=2025-12-31 00:00:00<br>variable=cum_defaults<br>default_month=%{x}<br>value=%{y}<extra></extra>",
         "legendgroup": "2025-12-31 00:00:00",
         "line": {
          "color": "#FF7F0E",
          "dash": "solid"
         },
         "marker": {
          "symbol": "circle"
         },
         "mode": "lines",
         "name": "2025-12-31 00:00:00",
         "showlegend": false,
         "type": "scattergl",
         "x": {
          "bdata": "AQIDBAUGBwgJCgsMDQ4PEBESExQVFhcY",
          "dtype": "i1"
         },
         "xaxis": "x2",
         "y": {
          "bdata": "G7L9WmdTjD+vqgl8AwafPyk+SqUp8ac/EarKfpA/rz+uCoYtwmOzP7lDgYw067U/KT5KpSnxtz+GufE5y6C5P5Z2Bgcpsro/MrU4TaYzuz8IM9zWE/27P2dwkCKr8bw/jW7TKlKevT+ybBYz+Uq+PzssJ/Uidr4/dWuYOBO+vj9gKmr9ySK/P0vpO8KAh78/NqgNhzfsvz+4cz/lExrAPy5TqEdvTMA/y/JgaWdwwD+3ErkJmXfAP6MyEarKfsA/",
          "dtype": "f8"
         },
         "yaxis": "y2"
        },
        {
         "hovertemplate": "date=2025-12-31 00:00:00<br>variable=default_flag<br>default_month=%{x}<br>value=%{y}<extra></extra>",
         "legendgroup": "2025-12-31 00:00:00",
         "line": {
          "color": "#FF7F0E",
          "dash": "solid"
         },
         "marker": {
          "symbol": "circle"
         },
         "mode": "lines",
         "name": "2025-12-31 00:00:00",
         "showlegend": false,
         "type": "scattergl",
         "x": {
          "bdata": "AQIDBAUGBwgJCgsMDQ4PEBESExQVFhcY",
          "dtype": "i1"
         },
         "xaxis": "x3",
         "y": {
          "bdata": "G7L9WmdTjD+i0YrOT9yQP6LRis5P3JA/oq8BZps5jT8prQVxzx+OP1zI2feSO4Q/fdNHxqgvgD/QtXdKGfp6PwTRS9HcFXE/fdNHxqgvYD/Cum80sS1pP+yrh3bpkm4/p8RfCOGUZT+nxF8I4ZRlP6fEXwjhlEU/i85P3BD8UT/Cum80sS1ZP8K6bzSxLVk/wrpvNLEtWT+Lzk/cEPxRP8K6bzSxLVk/i85P3BD8UT/esH9ggcYsP96wf2CBxiw/",
          "dtype": "f8"
         },
         "yaxis": "y3"
        },
        {
         "hovertemplate": "date=2026-01-31 00:00:00<br>variable=id<br>default_month=%{x}<br>value=%{y}<extra></extra>",
         "legendgroup": "2026-01-31 00:00:00",
         "line": {
          "color": "#2CA02C",
          "dash": "solid"
         },
         "marker": {
          "symbol": "circle"
         },
         "mode": "lines",
         "name": "2026-01-31 00:00:00",
         "showlegend": true,
         "type": "scattergl",
         "x": {
          "bdata": "AQIDBAUGBwgJCgsMDQ4PEBESExQVFhcY",
          "dtype": "i1"
         },
         "xaxis": "x",
         "y": {
          "bdata": "AAAAAAAds0AAAAAAAB2zQAAAAAAAHbNAAAAAAAAds0AAAAAAAB2zQAAAAAAAHbNAAAAAAAAds0AAAAAAAB2zQAAAAAAAHbNAAAAAAAAds0AAAAAAAB2zQAAAAAAAHbNAAAAAAAAds0AAAAAAAB2zQAAAAAAAHbNAAAAAAAAds0AAAAAAAB2zQAAAAAAAHbNAAAAAAAAds0AAAAAAAB2zQAAAAAAAHbNAAAAAAAAds0AAAAAAAB2zQAAAAAAAHbNA",
          "dtype": "f8"
         },
         "yaxis": "y"
        },
        {
         "hovertemplate": "date=2026-01-31 00:00:00<br>variable=cum_defaults<br>default_month=%{x}<br>value=%{y}<extra></extra>",
         "legendgroup": "2026-01-31 00:00:00",
         "line": {
          "color": "#2CA02C",
          "dash": "solid"
         },
         "marker": {
          "symbol": "circle"
         },
         "mode": "lines",
         "name": "2026-01-31 00:00:00",
         "showlegend": false,
         "type": "scattergl",
         "x": {
          "bdata": "AQIDBAUGBwgJCgsMDQ4PEBESExQVFhcY",
          "dtype": "i1"
         },
         "xaxis": "x2",
         "y": {
          "bdata": "F5DW90tkjz8XkNb3S2SfP4grwJNYf6Y/VFZmDO8Trz9jKT371k+yPxkBpygj4LQ/aUh4CYentj90Lzm3+ui3Pzu26TF+pLg/QlBqUMt6uT/LEIu2q4a6P/GNU1/KNLs/dwE0NoTVuz86O6Qh4SW8P/10FA0+drw/YLhsyv/TvD9kBa1ZJj+9P8dIBRfonL0/6XiNMODfvT/txc2/Bku+P7D/Patjm74/UAkmfciovj8xJt7y9tC+P7NMfjqKBr8/",
          "dtype": "f8"
         },
         "yaxis": "y2"
        },
        {
         "hovertemplate": "date=2026-01-31 00:00:00<br>variable=default_flag<br>default_month=%{x}<br>value=%{y}<extra></extra>",
         "legendgroup": "2026-01-31 00:00:00",
         "line": {
          "color": "#2CA02C",
          "dash": "solid"
         },
         "marker": {
          "symbol": "circle"
         },
         "mode": "lines",
         "name": "2026-01-31 00:00:00",
         "showlegend": false,
         "type": "scattergl",
         "x": {
          "bdata": "AQIDBAUGBwgJCgsMDQ4PEBESExQVFhcY",
          "dtype": "i1"
         },
         "xaxis": "x3",
         "y": {
          "bdata": "F5DW90tkjz8XkNb3S2SPP/GNU1/KNIs/mFVM8SwpkT/F8U+o+y6GP7a9TmthgoQ//XQUDT52fD+ycA7cOhd0P9DYEFZvcGc/7kAT0KPJaj+VCAxiBr5wP8GkDxnVw2U/snAO3DoXZD+ycA7cOhdUP7JwDtw6F1Q/0NgQVm9wVz/uQBPQo8laP9DYEFZvcFc/lQgMYga+UD/uQBPQo8laP7JwDtw6F1Q/7kAT0KPJKj+ycA7cOhdEP+5AE9CjyUo/",
          "dtype": "f8"
         },
         "yaxis": "y3"
        },
        {
         "hovertemplate": "date=2026-02-28 00:00:00<br>variable=id<br>default_month=%{x}<br>value=%{y}<extra></extra>",
         "legendgroup": "2026-02-28 00:00:00",
         "line": {
          "color": "#D62728",
          "dash": "solid"
         },
         "marker": {
          "symbol": "circle"
         },
         "mode": "lines",
         "name": "2026-02-28 00:00:00",
         "showlegend": true,
         "type": "scattergl",
         "x": {
          "bdata": "AQIDBAUGBwgJCgsMDQ4PEBESExQVFhcY",
          "dtype": "i1"
         },
         "xaxis": "x",
         "y": {
          "bdata": "AAAAAACdtEAAAAAAAJ20QAAAAAAAnbRAAAAAAACdtEAAAAAAAJ20QAAAAAAAnbRAAAAAAACdtEAAAAAAAJ20QAAAAAAAnbRAAAAAAACdtEAAAAAAAJ20QAAAAAAAnbRAAAAAAACdtEAAAAAAAJ20QAAAAAAAnbRAAAAAAACdtEAAAAAAAJ20QAAAAAAAnbRAAAAAAACdtEAAAAAAAJ20QAAAAAAAnbRAAAAAAACdtEAAAAAAAJ20QAAAAAAAnbRA",
          "dtype": "f8"
         },
         "yaxis": "y"
        },
        {
         "hovertemplate": "date=2026-02-28 00:00:00<br>variable=cum_defaults<br>default_month=%{x}<br>value=%{y}<extra></extra>",
         "legendgroup": "2026-02-28 00:00:00",
         "line": {
          "color": "#D62728",
          "dash": "solid"
         },
         "marker": {
          "symbol": "circle"
         },
         "mode": "lines",
         "name": "2026-02-28 00:00:00",
         "showlegend": false,
         "type": "scattergl",
         "x": {
          "bdata": "AQIDBAUGBwgJCgsMDQ4PEBESExQVFhcY",
          "dtype": "i1"
         },
         "xaxis": "x2",
         "y": {
          "bdata": "Hi12rIEbjT9xf6FLvSqbP8mHBWYdiqU/9958GvY7rD9jEgnJEF6xPxZNhxcXdLM/UUJ9cmjDtD8nmeeiyru1P/7vUdMstLY/29Nl8dDRtz9TGe7khZi4P21NlJuNLbk/0usfxnyEuT82iqvwa9u5P/k5GVgIZLo/DeEVIc7Tuj8giBLqk0O7P4UmnhSDmrs/8FHTLLQWvD+sdJemDnq8PwT5z/V5hrw/YgqyMie4vD/AG5Rv1Om8P28kBQ6rAr0/",
          "dtype": "f8"
         },
         "yaxis": "y2"
        },
        {
         "hovertemplate": "date=2026-02-28 00:00:00<br>variable=default_flag<br>default_month=%{x}<br>value=%{y}<extra></extra>",
         "legendgroup": "2026-02-28 00:00:00",
         "line": {
          "color": "#D62728",
          "dash": "solid"
         },
         "marker": {
          "symbol": "circle"
         },
         "mode": "lines",
         "name": "2026-02-28 00:00:00",
         "showlegend": false,
         "type": "scattergl",
         "x": {
          "bdata": "AQIDBAUGBwgJCgsMDQ4PEBESExQVFhcY",
          "dtype": "i1"
         },
         "xaxis": "x3",
         "y": {
          "bdata": "Hi12rIEbjT/F0czq+DmJP0Mg0wD70o8/tVzd0WLHij89F1XerQCKP5rV8XMysIA/r1NfrxX1dD/K2koNRgxvP8raSg1GDG8/zj0+4UHacT8IrwhxntZoP0aDxtT2oGI/J5nnosq7VT8nmeeiyrtVP1b4te2ME2E/6cQpP3LxWz/pxCk/cvFbPyeZ56LKu1U/ytpKDUYMXz8IrwhxntZYPwivCHGe1ig/CK8IcZ7WSD8IrwhxntZIPwivCHGe1jg/",
          "dtype": "f8"
         },
         "yaxis": "y3"
        },
        {
         "hovertemplate": "date=2026-03-31 00:00:00<br>variable=id<br>default_month=%{x}<br>value=%{y}<extra></extra>",
         "legendgroup": "2026-03-31 00:00:00",
         "line": {
          "color": "#9467BD",
          "dash": "solid"
         },
         "marker": {
          "symbol": "circle"
         },
         "mode": "lines",
         "name": "2026-03-31 00:00:00",
         "showlegend": true,
         "type": "scattergl",
         "x": {
          "bdata": "AQIDBAUGBwgJCgsMDQ4PEBESExQVFhcY",
          "dtype": "i1"
         },
         "xaxis": "x",
         "y": {
          "bdata": "AAAAAADntUAAAAAAAOe1QAAAAAAA57VAAAAAAADntUAAAAAAAOe1QAAAAAAA57VAAAAAAADntUAAAAAAAOe1QAAAAAAA57VAAAAAAADntUAAAAAAAOe1QAAAAAAA57VAAAAAAADntUAAAAAAAOe1QAAAAAAA57VAAAAAAADntUAAAAAAAOe1QAAAAAAA57VAAAAAAADntUAAAAAAAOe1QAAAAAAA57VAAAAAAADntUAAAAAAAOe1QAAAAAAA57VA",
          "dtype": "f8"
         },
         "yaxis": "y"
        },
        {
         "hovertemplate": "date=2026-03-31 00:00:00<br>variable=cum_defaults<br>default_month=%{x}<br>value=%{y}<extra></extra>",
         "legendgroup": "2026-03-31 00:00:00",
         "line": {
          "color": "#9467BD",
          "dash": "solid"
         },
         "marker": {
          "symbol": "circle"
         },
         "mode": "lines",
         "name": "2026-03-31 00:00:00",
         "showlegend": false,
         "type": "scattergl",
         "x": {
          "bdata": "AQIDBAUGBwgJCgsMDQ4PEBESExQVFhcY",
          "dtype": "i1"
         },
         "xaxis": "x2",
         "y": {
          "bdata": "uVAoa+O9hz+uwWJrsNiaP6ncCZhSuaM/hJLxY5UIrD+1a8+XhZ6wPxg+0HlMQ7I/zHU0BUKWsz+tedHMdrq0P3gXUvYL9rU/nk1EmB/Utj/+gn1Fwne3P4BR4V9U+Lc/L+x9tiVKuD+xuuHQt8q4P0rvYYnpM7k/2PDTcsuouT+Hi3DJnPq5Pwla1OMue7o/rsFia7DYuj+ijlScYOS6P3TCG2AhE7s/O8PUVJJNuz8kXbi28mS7PxkqqueicLs/",
          "dtype": "f8"
         },
         "yaxis": "y2"
        },
        {
         "hovertemplate": "date=2026-03-31 00:00:00<br>variable=default_flag<br>default_month=%{x}<br>value=%{y}<extra></extra>",
         "legendgroup": "2026-03-31 00:00:00",
         "line": {
          "color": "#9467BD",
          "dash": "solid"
         },
         "marker": {
          "symbol": "circle"
         },
         "mode": "lines",
         "name": "2026-03-31 00:00:00",
         "showlegend": false,
         "type": "scattergl",
         "x": {
          "bdata": "AQIDBAUGBwgJCgsMDQ4PEBESExQVFhcY",
          "dtype": "i1"
         },
         "xaxis": "x3",
         "y": {
          "bdata": "uVAoa+O9hz+iMp1rffONP0rvYYnpM4k/tWvPl4WekD+WE7Uu19GEPzcmDSBuTHo/O3tDtlgvdT8YPtB5TENyP6ncCZhSuXM/yMRGPnTCaz/yqyanVXRkPz7QeUxDEmA/8qsmp1V0VD8+0HlMQxJgPzcmDSBuTFo/WmOAXHo4XT/yqyanVXRUPz7QeUxDEmA/FemZ42FgVz8V6ZnjYWAnPxXpmeNhYEc/WmOAXHo4TT8V6ZnjYWA3PxXpmeNhYCc/",
          "dtype": "f8"
         },
         "yaxis": "y3"
        },
        {
         "hovertemplate": "date=2026-04-30 00:00:00<br>variable=id<br>default_month=%{x}<br>value=%{y}<extra></extra>",
         "legendgroup": "2026-04-30 00:00:00",
         "line": {
          "color": "#8C564B",
          "dash": "solid"
         },
         "marker": {
          "symbol": "circle"
         },
         "mode": "lines",
         "name": "2026-04-30 00:00:00",
         "showlegend": true,
         "type": "scattergl",
         "x": {
          "bdata": "AQIDBAUGBwgJCgsMDQ4PEBESExQVFhcY",
          "dtype": "i1"
         },
         "xaxis": "x",
         "y": {
          "bdata": "AAAAAABAt0AAAAAAAEC3QAAAAAAAQLdAAAAAAABAt0AAAAAAAEC3QAAAAAAAQLdAAAAAAABAt0AAAAAAAEC3QAAAAAAAQLdAAAAAAABAt0AAAAAAAEC3QAAAAAAAQLdAAAAAAABAt0AAAAAAAEC3QAAAAAAAQLdAAAAAAABAt0AAAAAAAEC3QAAAAAAAQLdAAAAAAABAt0AAAAAAAEC3QAAAAAAAQLdAAAAAAABAt0AAAAAAAEC3QAAAAAAAQLdA",
          "dtype": "f8"
         },
         "yaxis": "y"
        },
        {
         "hovertemplate": "date=2026-04-30 00:00:00<br>variable=cum_defaults<br>default_month=%{x}<br>value=%{y}<extra></extra>",
         "legendgroup": "2026-04-30 00:00:00",
         "line": {
          "color": "#8C564B",
          "dash": "solid"
         },
         "marker": {
          "symbol": "circle"
         },
         "mode": "lines",
         "name": "2026-04-30 00:00:00",
         "showlegend": false,
         "type": "scattergl",
         "x": {
          "bdata": "AQIDBAUGBwgJCgsMDQ4PEBESExQVFhcY",
          "dtype": "i1"
         },
         "xaxis": "x2",
         "y": {
          "bdata": "N9xwww03jD/66aeffvqZP9FEE0000aQ/IYQQQgghrD8LLLDAAguwP/rpp59++rE/Zpdddtllsz/ccMMNN9y0PwYWWGCBBbY/ttZaa621tj9QP/3000+3P6iffvrpp7c/IYQQQgghuD+EEEIIIYS4PwghhBBCCLk/YIEFFlhguT/kkUceeeS5P0geeeSRR7o/U0oppZRSuj9/+umnn366P8wuu+yyy7o/7bLLLrvsuj/43nvvvfe6PwMLLLDAArs/",
          "dtype": "f8"
         },
         "yaxis": "y2"
        },
        {
         "hovertemplate": "date=2026-04-30 00:00:00<br>variable=default_flag<br>default_month=%{x}<br>value=%{y}<extra></extra>",
         "legendgroup": "2026-04-30 00:00:00",
         "line": {
          "color": "#8C564B",
          "dash": "solid"
         },
         "marker": {
          "symbol": "circle"
         },
         "mode": "lines",
         "name": "2026-04-30 00:00:00",
         "showlegend": false,
         "type": "scattergl",
         "x": {
          "bdata": "AQIDBAUGBwgJCgsMDQ4PEBESExQVFhcY",
          "dtype": "i1"
         },
         "xaxis": "x3",
         "y": {
          "bdata": "N9xwww03jD++9957772HP1A//fTTT48/P/30008/jT+on3766ad/P/jee++9934/ttZaa621dj9ml1122WV3P5VSSimllHI/BhZYYIEFZj9FE0000URjPwYWWGCBBVY/SB555JFHXj/GGGOMMcZYP4QQQgghhGA/BhZYYIEFVj+EEEIIIYRgP8YYY4wxxlg/BhZYYIEFJj8GFlhggQVGP0UTTTTRRFM/hBBCCCGEQD8GFlhggQUmPwYWWGCBBSY/",
          "dtype": "f8"
         },
         "yaxis": "y3"
        },
        {
         "hovertemplate": "date=2026-05-31 00:00:00<br>variable=id<br>default_month=%{x}<br>value=%{y}<extra></extra>",
         "legendgroup": "2026-05-31 00:00:00",
         "line": {
          "color": "#E377C2",
          "dash": "solid"
         },
         "marker": {
          "symbol": "circle"
         },
         "mode": "lines",
         "name": "2026-05-31 00:00:00",
         "showlegend": true,
         "type": "scattergl",
         "x": {
          "bdata": "AQIDBAUGBwgJCgsMDQ4PEBESExQVFhcY",
          "dtype": "i1"
         },
         "xaxis": "x",
         "y": {
          "bdata": "AAAAAACsuEAAAAAAAKy4QAAAAAAArLhAAAAAAACsuEAAAAAAAKy4QAAAAAAArLhAAAAAAACsuEAAAAAAAKy4QAAAAAAArLhAAAAAAACsuEAAAAAAAKy4QAAAAAAArLhAAAAAAACsuEAAAAAAAKy4QAAAAAAArLhAAAAAAACsuEAAAAAAAKy4QAAAAAAArLhAAAAAAACsuEAAAAAAAKy4QAAAAAAArLhAAAAAAACsuEAAAAAAAKy4QAAAAAAArLhA",
          "dtype": "f8"
         },
         "yaxis": "y"
        },
        {
         "hovertemplate": "date=2026-05-31 00:00:00<br>variable=cum_defaults<br>default_month=%{x}<br>value=%{y}<extra></extra>",
         "legendgroup": "2026-05-31 00:00:00",
         "line": {
          "color": "#E377C2",
          "dash": "solid"
         },
         "marker": {
          "symbol": "circle"
         },
         "mode": "lines",
         "name": "2026-05-31 00:00:00",
         "showlegend": false,
         "type": "scattergl",
         "x": {
          "bdata": "AQIDBAUGBwgJCgsMDQ4PEBESExQVFhcY",
          "dtype": "i1"
         },
         "xaxis": "x2",
         "y": {
          "bdata": "n4Rqzadfhj/AJrONwvCZP6spffRU3KM/SqLFN/iPqD88qrIWXFitP9wW2c/6X7A/7Wf9L4gosj+5pBg48n6zP5Ncz4P5d7Q/bhSGzwBxtT9bcGF1hO21P/ETD2lodLY/3m/qDuzwtj91E5gC0He3P2aY/L4y1bc/VPTXZLZRuD/vwA5vebm4P0FQswo6zrg/jrbOjxsCuT8urI6wvUq5PymDBZreabk/fBKqNZ9+uT8lWnyD/4i5PxsIalZBx7k/",
          "dtype": "f8"
         },
         "yaxis": "y2"
        },
        {
         "hovertemplate": "date=2026-05-31 00:00:00<br>variable=default_flag<br>default_month=%{x}<br>value=%{y}<extra></extra>",
         "legendgroup": "2026-05-31 00:00:00",
         "line": {
          "color": "#E377C2",
          "dash": "solid"
         },
         "marker": {
          "symbol": "circle"
         },
         "mode": "lines",
         "name": "2026-05-31 00:00:00",
         "showlegend": false,
         "type": "scattergl",
         "x": {
          "bdata": "AQIDBAUGBwgJCgsMDQ4PEBESExQVFhcY",
          "dtype": "i1"
         },
         "xaxis": "x3",
         "y": {
          "bdata": "n4Rqzadfhj/gyPtN3YGNPyxZjrbOj4s/fuIhDY3Ogj/HH7R7jyGDP+Mb/EfMPHs/BhFFAtaIfD/EzLOBoGZ1P0z71nbpIG8/TPvWdukgbz9M+9Z26SBfP8lytHV+3GA/TPvWdukgXz/JcrR1ftxgP3k8IRmvWFc/TPvWdukgXz/AJrONwvBZPzNSj6SbwDQ/wCazjcLwST/tZ/0viChSP0z71nbpID8/M1KPpJvAND8zUo+km8AkP0z71nbpIE8/",
          "dtype": "f8"
         },
         "yaxis": "y3"
        },
        {
         "hovertemplate": "date=2026-06-30 00:00:00<br>variable=id<br>default_month=%{x}<br>value=%{y}<extra></extra>",
         "legendgroup": "2026-06-30 00:00:00",
         "line": {
          "color": "#7F7F7F",
          "dash": "solid"
         },
         "marker": {
          "symbol": "circle"
         },
         "mode": "lines",
         "name": "2026-06-30 00:00:00",
         "showlegend": true,
         "type": "scattergl",
         "x": {
          "bdata": "AQIDBAUGBwgJCgsMDQ4PEBESExQVFhcY",
          "dtype": "i1"
         },
         "xaxis": "x",
         "y": {
          "bdata": "AAAAAAAEukAAAAAAAAS6QAAAAAAABLpAAAAAAAAEukAAAAAAAAS6QAAAAAAABLpAAAAAAAAEukAAAAAAAAS6QAAAAAAABLpAAAAAAAAEukAAAAAAAAS6QAAAAAAABLpAAAAAAAAEukAAAAAAAAS6QAAAAAAABLpAAAAAAAAEukAAAAAAAAS6QAAAAAAABLpAAAAAAAAEukAAAAAAAAS6QAAAAAAABLpAAAAAAAAEukAAAAAAAAS6QAAAAAAABLpA",
          "dtype": "f8"
         },
         "yaxis": "y"
        },
        {
         "hovertemplate": "date=2026-06-30 00:00:00<br>variable=cum_defaults<br>default_month=%{x}<br>value=%{y}<extra></extra>",
         "legendgroup": "2026-06-30 00:00:00",
         "line": {
          "color": "#7F7F7F",
          "dash": "solid"
         },
         "marker": {
          "symbol": "circle"
         },
         "mode": "lines",
         "name": "2026-06-30 00:00:00",
         "showlegend": false,
         "type": "scattergl",
         "x": {
          "bdata": "AQIDBAUGBwgJCgsMDQ4PEBESExQVFhcY",
          "dtype": "i1"
         },
         "xaxis": "x2",
         "y": {
          "bdata": "u7+h5LH7iz/4sAF1hw+bP9QfsYA7/aE/xX9BVk/8pz8xwpFMDiOsP8QEYQlDTLA/mR65TI3psT+qMT1ymRqzP0VC0S9JJLQ/fkuVteO3tD9VVVVVVVW1P/JdHcEY37U/K2fhRrNytj9SbblKGtW2P1B1hZwGVbc/FHxZukTBtz9PfVHu8tS3P2KAPXAmBrg/ToUdQN9UuD8mhxGOZHK4P2GICcIShrg/nIkB9sCZuD/qjeWrot64P/2Q0S3WD7k/",
          "dtype": "f8"
         },
         "yaxis": "y2"
        },
        {
         "hovertemplate": "date=2026-06-30 00:00:00<br>variable=default_flag<br>default_month=%{x}<br>value=%{y}<extra></extra>",
         "legendgroup": "2026-06-30 00:00:00",
         "line": {
          "color": "#7F7F7F",
          "dash": "solid"
         },
         "marker": {
          "symbol": "circle"
         },
         "mode": "lines",
         "name": "2026-06-30 00:00:00",
         "showlegend": false,
         "type": "scattergl",
         "x": {
          "bdata": "AQIDBAUGBwgJCgsMDQ4PEBESExQVFhcY",
          "dtype": "i1"
         },
         "xaxis": "x3",
         "y": {
          "bdata": "u7+h5LH7iz82omEFXSOKP14dwRjf1YE/xX9BVk/8hz+wCUHZ+5qAP14dwRjf1YE/Sp2BNaTUeT8MMUFYwhBzP7AJQdn7mnA/NSeBuFBzYj/jOgH4M65jP4cTAXltOGE/NSeBuFBzYj+ciQH2wJlYP7H/AXMU+18/+LABdYcPWz/jOgH4M64zP5yJAfbAmUg/4zoB+DOuUz9V2AH0TYU9P+M6AfgzrjM/4zoB+DOuMz+HEwF5bThRP5yJAfbAmUg/",
          "dtype": "f8"
         },
         "yaxis": "y3"
        },
        {
         "hovertemplate": "date=2026-07-31 00:00:00<br>variable=id<br>default_month=%{x}<br>value=%{y}<extra></extra>",
         "legendgroup": "2026-07-31 00:00:00",
         "line": {
          "color": "#BCBD22",
          "dash": "solid"
         },
         "marker": {
          "symbol": "circle"
         },
         "mode": "lines",
         "name": "2026-07-31 00:00:00",
         "showlegend": true,
         "type": "scattergl",
         "x": {
          "bdata": "AQIDBAUGBwgJCgsMDQ4PEBESExQVFhcY",
          "dtype": "i1"
         },
         "xaxis": "x",
         "y": {
          "bdata": "AAAAAABQu0AAAAAAAFC7QAAAAAAAULtAAAAAAABQu0AAAAAAAFC7QAAAAAAAULtAAAAAAABQu0AAAAAAAFC7QAAAAAAAULtAAAAAAABQu0AAAAAAAFC7QAAAAAAAULtAAAAAAABQu0AAAAAAAFC7QAAAAAAAULtAAAAAAABQu0AAAAAAAFC7QAAAAAAAULtAAAAAAABQu0AAAAAAAFC7QAAAAAAAULtAAAAAAABQu0AAAAAAAFC7QAAAAAAAULtA",
          "dtype": "f8"
         },
         "yaxis": "y"
        },
        {
         "hovertemplate": "date=2026-07-31 00:00:00<br>variable=cum_defaults<br>default_month=%{x}<br>value=%{y}<extra></extra>",
         "legendgroup": "2026-07-31 00:00:00",
         "line": {
          "color": "#BCBD22",
          "dash": "solid"
         },
         "marker": {
          "symbol": "circle"
         },
         "mode": "lines",
         "name": "2026-07-31 00:00:00",
         "showlegend": false,
         "type": "scattergl",
         "x": {
          "bdata": "AQIDBAUGBwgJCgsMDQ4PEBESExQVFhcY",
          "dtype": "i1"
         },
         "xaxis": "x2",
         "y": {
          "bdata": "I9EPcaPliD+FyQjNWvGUP4rh42/dLqA/KtizuZcppT9fCTC2RQWrP1gCjG1Rwa4/eQ3lNZTXsD8G3pFL4wyyP0iR6Ie40bI/OL3pTW96sz8MvCOXxhm0P6lgz+ZeprQ/2FBeQ3kNtT9ZyEIWspC1P78SYGyLCrY/9mzuZUodtj+be5lSh1W2P3jk0jiDoLY/5pjvKwHGtj9UTQwff+u2P6bUYZWdB7c/ZxDU/jlJtz/x8bduF3i3PyhMRmjWirc/",
          "dtype": "f8"
         },
         "yaxis": "y2"
        },
        {
         "hovertemplate": "date=2026-07-31 00:00:00<br>variable=default_flag<br>default_month=%{x}<br>value=%{y}<extra></extra>",
         "legendgroup": "2026-07-31 00:00:00",
         "line": {
          "color": "#BCBD22",
          "dash": "solid"
         },
         "marker": {
          "symbol": "circle"
         },
         "mode": "lines",
         "name": "2026-07-31 00:00:00",
         "showlegend": false,
         "type": "scattergl",
         "x": {
          "bdata": "AQIDBAUGBwgJCgsMDQ4PEBESExQVFhcY",
          "dtype": "i1"
         },
         "xaxis": "x3",
         "y": {
          "bdata": "I9EPcaPliD/nwQEpEv2APx3zfSXA2IY/gto/J+nqgz/VxPDxt26HP8PH37pd4H0/1cTw8bdudz/KCM1a8VRzP0Zo1oqnmmg/830lwNgWZT+C2j8n6epjP6CTdPUJk2E/twu8I5fGWT8v8I5cGmdgP3yZUodVdl4/ETdajvm+Mj+ZUodVdh5MPxE3Wo75vlI/ETdajvm+Qj8RN1qO+b5CP5lSh1V2Hjw/L/COXBpnUD/VxPDxt25HPxE3Wo75vjI/",
          "dtype": "f8"
         },
         "yaxis": "y3"
        },
        {
         "hovertemplate": "date=2026-08-31 00:00:00<br>variable=id<br>default_month=%{x}<br>value=%{y}<extra></extra>",
         "legendgroup": "2026-08-31 00:00:00",
         "line": {
          "color": "#17BECF",
          "dash": "solid"
         },
         "marker": {
          "symbol": "circle"
         },
         "mode": "lines",
         "name": "2026-08-31 00:00:00",
         "showlegend": true,
         "type": "scattergl",
         "x": {
          "bdata": "AQIDBAUGBwgJCgsMDQ4PEBESExQVFhcY",
          "dtype": "i1"
         },
         "xaxis": "x",
         "y": {
          "bdata": "AAAAAACUvEAAAAAAAJS8QAAAAAAAlLxAAAAAAACUvEAAAAAAAJS8QAAAAAAAlLxAAAAAAACUvEAAAAAAAJS8QAAAAAAAlLxAAAAAAACUvEAAAAAAAJS8QAAAAAAAlLxAAAAAAACUvEAAAAAAAJS8QAAAAAAAlLxAAAAAAACUvEAAAAAAAJS8QAAAAAAAlLxAAAAAAACUvEAAAAAAAJS8QAAAAAAAlLxAAAAAAACUvEAAAAAAAJS8QAAAAAAAlLxA",
          "dtype": "f8"
         },
         "yaxis": "y"
        },
        {
         "hovertemplate": "date=2026-08-31 00:00:00<br>variable=cum_defaults<br>default_month=%{x}<br>value=%{y}<extra></extra>",
         "legendgroup": "2026-08-31 00:00:00",
         "line": {
          "color": "#17BECF",
          "dash": "solid"
         },
         "marker": {
          "symbol": "circle"
         },
         "mode": "lines",
         "name": "2026-08-31 00:00:00",
         "showlegend": false,
         "type": "scattergl",
         "x": {
          "bdata": "AQIDBAUGBwgJCgsMDQ4PEBESExQVFhcY",
          "dtype": "i1"
         },
         "xaxis": "x2",
         "y": {
          "bdata": "Vl6GQHc8gD8fVNsNGQmTPy7+yJSljZw/R1ofoOjapD8hfdobhVWpP3OJYkAk+aw/Dc37RRx+rz+b6R/s9aewP1OdbJgTZLE/ClG5RDEgsj/xoR9Gb8GyP8EZqGPYPrM/HH4f8yvOsz/s9acQlUu0P71Yjrt0ZrQ/Xx5bETSctD/TRg4S0+y0Py+W4y6dGbU/0luwhFxPtT+jvpYvPGq1P4v6Wr7wqLU/50kw27rVtT9yNh9Npee1P0SZBfiEArY/",
          "dtype": "f8"
         },
         "yaxis": "y2"
        },
        {
         "hovertemplate": "date=2026-08-31 00:00:00<br>variable=default_flag<br>default_month=%{x}<br>value=%{y}<extra></extra>",
         "legendgroup": "2026-08-31 00:00:00",
         "line": {
          "color": "#17BECF",
          "dash": "solid"
         },
         "marker": {
          "symbol": "circle"
         },
         "mode": "lines",
         "name": "2026-08-31 00:00:00",
         "showlegend": false,
         "type": "scattergl",
         "x": {
          "bdata": "AQIDBAUGBwgJCgsMDQ4PEBESExQVFhcY",
          "dtype": "i1"
         },
         "xaxis": "x3",
         "y": {
          "bdata": "Vl6GQHc8gD/nSTDbutWFPx9U2w0ZCYM/wWzrVldQij9oi+zuceqBP4liQCT5HH0/1RzKLMAndD+JYkAk+RxtP/l2lom1g2c/+XaWibWDZz/VHMoswCdkP/bzHWJHWl8/aIvs7nHqYT/28x1iR1pfPxzRYuaq3zo/HNFi5qrfSj/VHMoswCdUP0Kup2oOZUY/HNFi5qrfSj8c0WLmqt86P/bzHWJHWk8/Qq6nag5lRj9oi+zuceoxPxzRYuaq3zo/",
          "dtype": "f8"
         },
         "yaxis": "y3"
        },
        {
         "hovertemplate": "date=2026-09-30 00:00:00<br>variable=id<br>default_month=%{x}<br>value=%{y}<extra></extra>",
         "legendgroup": "2026-09-30 00:00:00",
         "line": {
          "color": "#1F77B4",
          "dash": "solid"
         },
         "marker": {
          "symbol": "circle"
         },
         "mode": "lines",
         "name": "2026-09-30 00:00:00",
         "showlegend": true,
         "type": "scattergl",
         "x": {
          "bdata": "AQIDBAUGBwgJCgsMDQ4PEBESExQVFhcY",
          "dtype": "i1"
         },
         "xaxis": "x",
         "y": {
          "bdata": "AAAAAAAYvkAAAAAAABi+QAAAAAAAGL5AAAAAAAAYvkAAAAAAABi+QAAAAAAAGL5AAAAAAAAYvkAAAAAAABi+QAAAAAAAGL5AAAAAAAAYvkAAAAAAABi+QAAAAAAAGL5AAAAAAAAYvkAAAAAAABi+QAAAAAAAGL5AAAAAAAAYvkAAAAAAABi+QAAAAAAAGL5AAAAAAAAYvkAAAAAAABi+QAAAAAAAGL5AAAAAAAAYvkAAAAAAABi+QAAAAAAAGL5A",
          "dtype": "f8"
         },
         "yaxis": "y"
        },
        {
         "hovertemplate": "date=2026-09-30 00:00:00<br>variable=cum_defaults<br>default_month=%{x}<br>value=%{y}<extra></extra>",
         "legendgroup": "2026-09-30 00:00:00",
         "line": {
          "color": "#1F77B4",
          "dash": "solid"
         },
         "marker": {
          "symbol": "circle"
         },
         "mode": "lines",
         "name": "2026-09-30 00:00:00",
         "showlegend": false,
         "type": "scattergl",
         "x": {
          "bdata": "AQIDBAUGBwgJCgsMDQ4PEBESExQVFhcY",
          "dtype": "i1"
         },
         "xaxis": "x2",
         "y": {
          "bdata": "z/wDOza8hD/C4vkc8WeTPz9x8tB65p8/2dvXnGaqpT+HgkcRVUCqP6jDYNwBk60/PgiL53PErz8oY5lVatCwP7GNuUKXrbE/OE9yRr1osj898w/s2PCyP4TabjV9o7M/SaSyIBcjtD8KM8BPnDy0P4xQ262mb7Q/ENdd9bfEtD/SztINRAC1P1Ts7WtOM7U/VVVVVVVVtT8YTcpt4ZC1P1mQixFqu7U/Gh+ZQO/UtT8ciAAq9va1P180KbeFQ7Y/",
          "dtype": "f8"
         },
         "yaxis": "y2"
        },
        {
         "hovertemplate": "date=2026-09-30 00:00:00<br>variable=default_flag<br>default_month=%{x}<br>value=%{y}<extra></extra>",
         "legendgroup": "2026-09-30 00:00:00",
         "line": {
          "color": "#1F77B4",
          "dash": "solid"
         },
         "marker": {
          "symbol": "circle"
         },
         "mode": "lines",
         "name": "2026-09-30 00:00:00",
         "showlegend": false,
         "type": "scattergl",
         "x": {
          "bdata": "AQIDBAUGBwgJCgsMDQ4PEBESExQVFhcY",
          "dtype": "i1"
         },
         "xaxis": "x3",
         "y": {
          "bdata": "z/wDOza8hD+1yO/+qxOCP/oc8WcT/Yg/5Yx60aTchj+3mr7RuVeCPwoJylhmlXo/ryRSWZCLcT8q4Xs6DMZtPxRRBaSdpWs/6jAYd8BkZz+qgLSzdANhP9/o3CuJVGY/P3Hy0HrmXz//wI4NL4U5P//Ajg0vhUk/1aCh4FFEVT8q4Xs6DMZNP//Ajg0vhUk/qoC0s3QDQT8q4Xs6DMZNP9WgoeBRREU//8CODS+FOT+qgLSzdANBP78QK0rjI1M/",
          "dtype": "f8"
         },
         "yaxis": "y3"
        },
        {
         "hovertemplate": "date=2026-10-31 00:00:00<br>variable=id<br>default_month=%{x}<br>value=%{y}<extra></extra>",
         "legendgroup": "2026-10-31 00:00:00",
         "line": {
          "color": "#FF7F0E",
          "dash": "solid"
         },
         "marker": {
          "symbol": "circle"
         },
         "mode": "lines",
         "name": "2026-10-31 00:00:00",
         "showlegend": true,
         "type": "scattergl",
         "x": {
          "bdata": "AQIDBAUGBwgJCgsMDQ4PEBESExQVFhcY",
          "dtype": "i1"
         },
         "xaxis": "x",
         "y": {
          "bdata": "AAAAAAA0v0AAAAAAADS/QAAAAAAANL9AAAAAAAA0v0AAAAAAADS/QAAAAAAANL9AAAAAAAA0v0AAAAAAADS/QAAAAAAANL9AAAAAAAA0v0AAAAAAADS/QAAAAAAANL9AAAAAAAA0v0AAAAAAADS/QAAAAAAANL9AAAAAAAA0v0AAAAAAADS/QAAAAAAANL9AAAAAAAA0v0AAAAAAADS/QAAAAAAANL9AAAAAAAA0v0AAAAAAADS/QAAAAAAANL9A",
          "dtype": "f8"
         },
         "yaxis": "y"
        },
        {
         "hovertemplate": "date=2026-10-31 00:00:00<br>variable=cum_defaults<br>default_month=%{x}<br>value=%{y}<extra></extra>",
         "legendgroup": "2026-10-31 00:00:00",
         "line": {
          "color": "#FF7F0E",
          "dash": "solid"
         },
         "marker": {
          "symbol": "circle"
         },
         "mode": "lines",
         "name": "2026-10-31 00:00:00",
         "showlegend": false,
         "type": "scattergl",
         "x": {
          "bdata": "AQIDBAUGBwgJCgsMDQ4PEBESExQVFhcY",
          "dtype": "i1"
         },
         "xaxis": "x2",
         "y": {
          "bdata": "FczoiCRvgT/Op2/9Y8SUP0SStwisyp8/6YgkbxFYpT+msBaLz2GpPxeBVfkDZaw/mppyiuiSrj+wOTa9LC+wP57wV5p8BLE/udEMDCqYsT8yU1NOEV2yP5OZmnKK6LI/rNSZkPghsz/03+GWA3SzP/aFl+pCzrM/hPZxoxkYtD+cMXHBh1G0P0A3lUSNerQ/WXKUYvuztD+3EiYzNeW0P+bibhvS/bQ/0E0lUaMetT9evv8Jemi1P0cptj9LibU/",
          "dtype": "f8"
         },
         "yaxis": "y2"
        },
        {
         "hovertemplate": "date=2026-10-31 00:00:00<br>variable=default_flag<br>default_month=%{x}<br>value=%{y}<extra></extra>",
         "legendgroup": "2026-10-31 00:00:00",
         "line": {
          "color": "#FF7F0E",
          "dash": "solid"
         },
         "marker": {
          "symbol": "circle"
         },
         "mode": "lines",
         "name": "2026-10-31 00:00:00",
         "showlegend": false,
         "type": "scattergl",
         "x": {
          "bdata": "AQIDBAUGBwgJCgsMDQ4PEBESExQVFhcY",
          "dtype": "i1"
         },
         "xaxis": "x3",
         "y": {
          "bdata": "FczoiCRvgT+Gg/ZxoxmIP+3UjxaQDIY/Gv8iq+3KhT/1nshv+CaAP4aD9nGjGXg/FczoiCRvcT9fjJ3/DrdsP8bdNqT7qWo/YiOcNq51Yj8tL9BI6JxoPxXM6Igkb2E/X4yd/w63TD/70QKSwYJUP5SAae3Uj1Y/YiOcNq51Uj9fjJ3/DrdMP/vRApLBgkQ/X4yd/w63TD8tL9BI6JxIPy0v0EjonDg/yHQ125poQD9iI5w2rnVSP8h0NduaaEA/",
          "dtype": "f8"
         },
         "yaxis": "y3"
        },
        {
         "hovertemplate": "date=2026-11-30 00:00:00<br>variable=id<br>default_month=%{x}<br>value=%{y}<extra></extra>",
         "legendgroup": "2026-11-30 00:00:00",
         "line": {
          "color": "#2CA02C",
          "dash": "solid"
         },
         "marker": {
          "symbol": "circle"
         },
         "mode": "lines",
         "name": "2026-11-30 00:00:00",
         "showlegend": true,
         "type": "scattergl",
         "x": {
          "bdata": "AQIDBAUGBwgJCgsMDQ4PEBESExQVFhcY",
          "dtype": "i1"
         },
         "xaxis": "x",
         "y": {
          "bdata": "AAAAAABZwEAAAAAAAFnAQAAAAAAAWcBAAAAAAABZwEAAAAAAAFnAQAAAAAAAWcBAAAAAAABZwEAAAAAAAFnAQAAAAAAAWcBAAAAAAABZwEAAAAAAAFnAQAAAAAAAWcBAAAAAAABZwEAAAAAAAFnAQAAAAAAAWcBAAAAAAABZwEAAAAAAAFnAQAAAAAAAWcBAAAAAAABZwEAAAAAAAFnAQAAAAAAAWcBAAAAAAABZwEAAAAAAAFnAQAAAAAAAWcBA",
          "dtype": "f8"
         },
         "yaxis": "y"
        },
        {
         "hovertemplate": "date=2026-11-30 00:00:00<br>variable=cum_defaults<br>default_month=%{x}<br>value=%{y}<extra></extra>",
         "legendgroup": "2026-11-30 00:00:00",
         "line": {
          "color": "#2CA02C",
          "dash": "solid"
         },
         "marker": {
          "symbol": "circle"
         },
         "mode": "lines",
         "name": "2026-11-30 00:00:00",
         "showlegend": false,
         "type": "scattergl",
         "x": {
          "bdata": "AQIDBAUGBwgJCgsMDQ4PEBESExQVFhcY",
          "dtype": "i1"
         },
         "xaxis": "x2",
         "y": {
          "bdata": "x4jkqA8Ahz8GFlhggQWWP6gslpHUNaA/7BS6TqHrpD/hiYK67xmoPybiJ5SaCas/j1Yh9/iqrT/mdLGjbJCvP+6s/ZVMfLA/7vS8h11fsT89IFnnygOyP9su0rSUabI/TnbCnbW/sj/BvbKG1hWzP52hXv0iZLM/Tb6Bj8aisz9od2CvldmzP4IwP89kELQ/BobZfF8/tD/JsKbT3Fa0P7ei/A4DfrQ/k4aohU/MtD/sFLpOoeu0P0SjyxfzCrU/",
          "dtype": "f8"
         },
         "yaxis": "y2"
        },
        {
         "hovertemplate": "date=2026-11-30 00:00:00<br>variable=default_flag<br>default_month=%{x}<br>value=%{y}<extra></extra>",
         "legendgroup": "2026-11-30 00:00:00",
         "line": {
          "color": "#2CA02C",
          "dash": "solid"
         },
         "marker": {
          "symbol": "circle"
         },
         "mode": "lines",
         "name": "2026-11-30 00:00:00",
         "showlegend": false,
         "type": "scattergl",
         "x": {
          "bdata": "AQIDBAUGBwgJCgsMDQ4PEBESExQVFhcY",
          "dtype": "i1"
         },
         "xaxis": "x3",
         "y": {
          "bdata": "x4jkqA8Ahz9Eo8sX8wqFP5OGqIVPzIQ/EKGP9DLXgj+rp0Nec3J5PyjCKs1WfXc/RKPLF/MKdT905QHJOlduP2ZPnoTIgmY/8P/oNx5ibD/jaYXzq41kP6unQ15zclk/pdwRPDqIVT+l3BE8OohVPyH3+Kodk1M/NViOEclRTz8vjVzvj2dLPy+NXO+PZ0s/KMIqzVZ9Rz8owirNVn03PyH3+Kodk0M/Iff4qh2TUz81WI4RyVE/PzVYjhHJUT8/",
          "dtype": "f8"
         },
         "yaxis": "y3"
        },
        {
         "hovertemplate": "date=2026-12-31 00:00:00<br>variable=id<br>default_month=%{x}<br>value=%{y}<extra></extra>",
         "legendgroup": "2026-12-31 00:00:00",
         "line": {
          "color": "#D62728",
          "dash": "solid"
         },
         "marker": {
          "symbol": "circle"
         },
         "mode": "lines",
         "name": "2026-12-31 00:00:00",
         "showlegend": true,
         "type": "scattergl",
         "x": {
          "bdata": "AQIDBAUGBwgJCgsMDQ4PEBESExQVFhcY",
          "dtype": "i1"
         },
         "xaxis": "x",
         "y": {
          "bdata": "AAAAAAD+wEAAAAAAAP7AQAAAAAAA/sBAAAAAAAD+wEAAAAAAAP7AQAAAAAAA/sBAAAAAAAD+wEAAAAAAAP7AQAAAAAAA/sBAAAAAAAD+wEAAAAAAAP7AQAAAAAAA/sBAAAAAAAD+wEAAAAAAAP7AQAAAAAAA/sBAAAAAAAD+wEAAAAAAAP7AQAAAAAAA/sBAAAAAAAD+wEAAAAAAAP7AQAAAAAAA/sBAAAAAAAD+wEAAAAAAAP7AQAAAAAAA/sBA",
          "dtype": "f8"
         },
         "yaxis": "y"
        },
        {
         "hovertemplate": "date=2026-12-31 00:00:00<br>variable=cum_defaults<br>default_month=%{x}<br>value=%{y}<extra></extra>",
         "legendgroup": "2026-12-31 00:00:00",
         "line": {
          "color": "#D62728",
          "dash": "solid"
         },
         "marker": {
          "symbol": "circle"
         },
         "mode": "lines",
         "name": "2026-12-31 00:00:00",
         "showlegend": false,
         "type": "scattergl",
         "x": {
          "bdata": "AQIDBAUGBwgJCgsMDQ4PEBESExQVFhcY",
          "dtype": "i1"
         },
         "xaxis": "x2",
         "y": {
          "bdata": "Eh139J0+hD9eodtKfCCUP5LWn06cMJ0/VMzIqivzoj/kEZgM602mPwtgMBtnbKk/+ccjMBnWqz+IB0AgEpqtPxdHXBALXq8/2CpsF0dcsD/PWwzpvMWwP7JrEyW7NrE/z97lISCRsT/+clG0/OOxP2dqiAdAILI/4oJY8PpUsj9Leo9DPpGyP7NxxpaBzbI/VMzIqivzsj/jBTIpXiCzPxKanbs6c7M/xhU5ZVyRsz97kdQOfq+zP+OIC2LB67M/",
          "dtype": "f8"
         },
         "yaxis": "y2"
        },
        {
         "hovertemplate": "date=2026-12-31 00:00:00<br>variable=default_flag<br>default_month=%{x}<br>value=%{y}<extra></extra>",
         "legendgroup": "2026-12-31 00:00:00",
         "line": {
          "color": "#D62728",
          "dash": "solid"
         },
         "marker": {
          "symbol": "circle"
         },
         "mode": "lines",
         "name": "2026-12-31 00:00:00",
         "showlegend": false,
         "type": "scattergl",
         "x": {
          "bdata": "AQIDBAUGBwgJCgsMDQ4PEBESExQVFhcY",
          "dtype": "i1"
         },
         "xaxis": "x3",
         "y": {
          "bdata": "Eh139J0+hD+qJUChWgKEP2dqiAdAIII/LoTjDXZrgT9+LHoO+9V6PzpxwnTg83g/cT+bp5BNcz/w+MMBjz9sP/D4wwGPP2w/henA5zGoZT+tPQxodF1aP/D4wwGPP1w/JsecND+ZVj/jC+WaJLdUPzO0e5upIU4/rT0MaHRdSj8ztHubqSFOPzO0e5upIU4/oFAtAQrVQj8mx5w0P5lGP+ML5Zokt1Q/M7R7m6khPj8ztHubqSE+PzO0e5upIU4/",
          "dtype": "f8"
         },
         "yaxis": "y3"
        },
        {
         "hovertemplate": "date=2027-01-31 00:00:00<br>variable=id<br>default_month=%{x}<br>value=%{y}<extra></extra>",
         "legendgroup": "2027-01-31 00:00:00",
         "line": {
          "color": "#9467BD",
          "dash": "solid"
         },
         "marker": {
          "symbol": "circle"
         },
         "mode": "lines",
         "name": "2027-01-31 00:00:00",
         "showlegend": true,
         "type": "scattergl",
         "x": {
          "bdata": "AQIDBAUGBwgJCgsMDQ4PEBESExQVFhcY",
          "dtype": "i1"
         },
         "xaxis": "x",
         "y": {
          "bdata": "AAAAAADTwEAAAAAAANPAQAAAAAAA08BAAAAAAADTwEAAAAAAANPAQAAAAAAA08BAAAAAAADTwEAAAAAAANPAQAAAAAAA08BAAAAAAADTwEAAAAAAANPAQAAAAAAA08BAAAAAAADTwEAAAAAAANPAQAAAAAAA08BAAAAAAADTwEAAAAAAANPAQAAAAAAA08BAAAAAAADTwEAAAAAAANPAQAAAAAAA08BAAAAAAADTwEAAAAAAANPAQAAAAAAA08BA",
          "dtype": "f8"
         },
         "yaxis": "y"
        },
        {
         "hovertemplate": "date=2027-01-31 00:00:00<br>variable=cum_defaults<br>default_month=%{x}<br>value=%{y}<extra></extra>",
         "legendgroup": "2027-01-31 00:00:00",
         "line": {
          "color": "#9467BD",
          "dash": "solid"
         },
         "marker": {
          "symbol": "circle"
         },
         "mode": "lines",
         "name": "2027-01-31 00:00:00",
         "showlegend": false,
         "type": "scattergl",
         "x": {
          "bdata": "AQIDBAUGBwgJCgsMDQ4PEBESExQVFhcY",
          "dtype": "i1"
         },
         "xaxis": "x2",
         "y": {
          "bdata": "AT80i341hD+w4UknCUKTP+DAgQMHDpw/4syztVVqoT8AIqyQypCkPyCxtGCnAKc/GSAMfCPJqD8Rj2OXn5GqPzZ1BFeY76s/3YZxDp/ErD9aPh0c3aitP1cEDSd1X64/fyS+29UGrz8nU7ONkICvP/vbaekT668/UoWvTWcysD+mHKqmRG+wPzu7Rv5OlbA/uqwCAfXCsD/OPFtbpRaxP3iI2AcUNbE/ItRVtIJTsT93a1ANYJCxPwwK7WRqtrE/",
          "dtype": "f8"
         },
         "yaxis": "y2"
        },
        {
         "hovertemplate": "date=2027-01-31 00:00:00<br>variable=default_flag<br>default_month=%{x}<br>value=%{y}<extra></extra>",
         "legendgroup": "2027-01-31 00:00:00",
         "line": {
          "color": "#9467BD",
          "dash": "solid"
         },
         "marker": {
          "symbol": "circle"
         },
         "mode": "lines",
         "name": "2027-01-31 00:00:00",
         "showlegend": false,
         "type": "scattergl",
         "x": {
          "bdata": "AQIDBAUGBwgJCgsMDQ4PEBESExQVFhcY",
          "dtype": "i1"
         },
         "xaxis": "x3",
         "y": {
          "bdata": "AT80i341hD9ehF/Dk06CP2G+b7j7l4E/j2OXn5Eaez/sqMLXpjN5PwR5RIDmfnM/ie92tcGHbD+J73a1wYdsP1BiDvqL32U/5jSi7dagWj+J73a1wYdcP6G/+F0B01Y//gQklhbsVD8sqkt9rG5OP+Y0ou3WoEo/LKpLfaxuTj8sqkt9rG5OP1tKT84rBUM/ob/4XQHTRj/+BCSWFuxUPyyqS32sbj4/LKpLfaxuPj8sqkt9rG5OP1tKT84rBUM/",
          "dtype": "f8"
         },
         "yaxis": "y3"
        },
        {
         "hovertemplate": "date=2027-02-28 00:00:00<br>variable=id<br>default_month=%{x}<br>value=%{y}<extra></extra>",
         "legendgroup": "2027-02-28 00:00:00",
         "line": {
          "color": "#8C564B",
          "dash": "solid"
         },
         "marker": {
          "symbol": "circle"
         },
         "mode": "lines",
         "name": "2027-02-28 00:00:00",
         "showlegend": true,
         "type": "scattergl",
         "x": {
          "bdata": "AQIDBAUGBwgJCgsMDQ4PEBESExQVFhcY",
          "dtype": "i1"
         },
         "xaxis": "x",
         "y": {
          "bdata": "AAAAAICowEAAAAAAgKjAQAAAAACAqMBAAAAAAICowEAAAAAAgKjAQAAAAACAqMBAAAAAAICowEAAAAAAgKjAQAAAAACAqMBAAAAAAICowEAAAAAAgKjAQAAAAACAqMBAAAAAAICowEAAAAAAgKjAQAAAAACAqMBAAAAAAICowEAAAAAAgKjAQAAAAACAqMBAAAAAAICowEAAAAAAgKjAQAAAAACAqMBAAAAAAICowEAAAAAAgKjAQAAAAACAqMBA",
          "dtype": "f8"
         },
         "yaxis": "y"
        },
        {
         "hovertemplate": "date=2027-02-28 00:00:00<br>variable=cum_defaults<br>default_month=%{x}<br>value=%{y}<extra></extra>",
         "legendgroup": "2027-02-28 00:00:00",
         "line": {
          "color": "#8C564B",
          "dash": "solid"
         },
         "marker": {
          "symbol": "circle"
         },
         "mode": "lines",
         "name": "2027-02-28 00:00:00",
         "showlegend": false,
         "type": "scattergl",
         "x": {
          "bdata": "AQIDBAUGBwgJCgsMDQ4PEBESExQVFhcY",
          "dtype": "i1"
         },
         "xaxis": "x2",
         "y": {
          "bdata": "beBbm0h9gj8rr/SoEyGSPwRXnaYB+Zg/ML0RYf5Vnz8rr/SoEyGiP3Kl+GQc7qM/uJv8ICW7pT+I2DLCmhynP3VLzvfA86c/mUbQVUXaqD8bqZ46r5KpP2iDBve6O6o/FcU6Oqy2qj+LfghVPyKrPzjAPJgwnas/5AFx2yEYrD/wqnGl+GSsPzHc2Jctwaw/frZAVDlqrT9U19r1saetPyv4dJcq5a0/1zmp2htgrj/j4qmk8qyuP07zdvWuy64/",
          "dtype": "f8"
         },
         "yaxis": "y2"
        },
        {
         "hovertemplate": "date=2027-02-28 00:00:00<br>variable=default_flag<br>default_month=%{x}<br>value=%{y}<extra></extra>",
         "legendgroup": "2027-02-28 00:00:00",
         "line": {
          "color": "#8C564B",
          "dash": "solid"
         },
         "marker": {
          "symbol": "circle"
         },
         "mode": "lines",
         "name": "2027-02-28 00:00:00",
         "showlegend": false,
         "type": "scattergl",
         "x": {
          "bdata": "AQIDBAUGBwgJCgsMDQ4PEBESExQVFhcY",
          "dtype": "i1"
         },
         "xaxis": "x3",
         "y": {
          "bdata": "beBbm0h9gj/qfY223sSBP2Kfova3X3s/sJjR6fJzeT+bhF7Do7BzP2dkP8CL0Gw/Z2Q/wIvQbD/5zGMTWhdmP7VdbrPG5Fo/Z2Q/wIvQXD9SUMyZPA1XP6FJ+4x3IVU/GGsQzVC8Tj+1XW6zxuRKPxhrEM1QvE4/GGsQzVC8Tj/vQiqAsjVDP1JQzJk8DUc/oUn7jHchVT8YaxDNULw+PxhrEM1QvD4/GGsQzVC8Tj/vQiqAsjVDPxhrEM1QvC4/",
          "dtype": "f8"
         },
         "yaxis": "y3"
        },
        {
         "hovertemplate": "date=2027-03-31 00:00:00<br>variable=id<br>default_month=%{x}<br>value=%{y}<extra></extra>",
         "legendgroup": "2027-03-31 00:00:00",
         "line": {
          "color": "#E377C2",
          "dash": "solid"
         },
         "marker": {
          "symbol": "circle"
         },
         "mode": "lines",
         "name": "2027-03-31 00:00:00",
         "showlegend": true,
         "type": "scattergl",
         "x": {
          "bdata": "AQIDBAUGBwgJCgsMDQ4PEBESExQVFhcY",
          "dtype": "i1"
         },
         "xaxis": "x",
         "y": {
          "bdata": "AAAAAACCwEAAAAAAAILAQAAAAAAAgsBAAAAAAACCwEAAAAAAAILAQAAAAAAAgsBAAAAAAACCwEAAAAAAAILAQAAAAAAAgsBAAAAAAACCwEAAAAAAAILAQAAAAAAAgsBAAAAAAACCwEAAAAAAAILAQAAAAAAAgsBAAAAAAACCwEAAAAAAAILAQAAAAAAAgsBAAAAAAACCwEAAAAAAAILAQAAAAAAAgsBAAAAAAACCwEAAAAAAAILAQAAAAAAAgsBA",
          "dtype": "f8"
         },
         "yaxis": "y"
        },
        {
         "hovertemplate": "date=2027-03-31 00:00:00<br>variable=cum_defaults<br>default_month=%{x}<br>value=%{y}<extra></extra>",
         "legendgroup": "2027-03-31 00:00:00",
         "line": {
          "color": "#E377C2",
          "dash": "solid"
         },
         "marker": {
          "symbol": "circle"
         },
         "mode": "lines",
         "name": "2027-03-31 00:00:00",
         "showlegend": false,
         "type": "scattergl",
         "x": {
          "bdata": "AQIDBAUGBwgJCgsMDQ4PEBESExQVFhcY",
          "dtype": "i1"
         },
         "xaxis": "x2",
         "y": {
          "bdata": "H8FGuE/ugT/8oQeBF76PP2WB1KbfSpY/tPH1koNCmz/uEWyE++SePxQZ8bq5Q6E/K2FetWeooj848fmxg4GjP0d5V64haqQ/UhlvqzkkpT9dwcSoz86lP2WB1KbfSqY/a0kipW23pj9zCTKjfTOnP3vJQaGNr6c/gKELoBf9pz+GcZeeI1qoP5AZ7Zu5BKk/lPn0msFCqT+Y2fyZyYCpP6CZDJjZ/Kk/pXHWlmNKqj+nYVqWZ2mqP6lJoJXtl6o/",
          "dtype": "f8"
         },
         "yaxis": "y2"
        },
        {
         "hovertemplate": "date=2027-03-31 00:00:00<br>variable=default_flag<br>default_month=%{x}<br>value=%{y}<extra></extra>",
         "legendgroup": "2027-03-31 00:00:00",
         "line": {
          "color": "#E377C2",
          "dash": "solid"
         },
         "marker": {
          "symbol": "circle"
         },
         "mode": "lines",
         "name": "2027-03-31 00:00:00",
         "showlegend": false,
         "type": "scattergl",
         "x": {
          "bdata": "AQIDBAUGBwgJCgsMDQ4PEBESExQVFhcY",
          "dtype": "i1"
         },
         "xaxis": "x3",
         "y": {
          "bdata": "H8FGuE/ugT+6wYGRj597P5vBQplPr3k/PsGFsI/ecz/RAbGLvxNtP9EBsYu/E20/ZYHUpt9KZj+yAXKTfyNbP9EBsYu/E10/dAH0ov9CVz9VAbWqv1JVP/AB8IP/A08/sgFyk38jSz/wAfCD/wNPP/AB8IP/A08/NgF2sn9iQz90AfSi/0JHP1UBtaq/UlU/8AHwg/8DPz/wAfCD/wM/P/AB8IP/A08/NgF2sn9iQz/wAfCD/wMvP3QB9KL/Qjc/",
          "dtype": "f8"
         },
         "yaxis": "y3"
        },
        {
         "hovertemplate": "date=2027-04-30 00:00:00<br>variable=id<br>default_month=%{x}<br>value=%{y}<extra></extra>",
         "legendgroup": "2027-04-30 00:00:00",
         "line": {
          "color": "#7F7F7F",
          "dash": "solid"
         },
         "marker": {
          "symbol": "circle"
         },
         "mode": "lines",
         "name": "2027-04-30 00:00:00",
         "showlegend": true,
         "type": "scattergl",
         "x": {
          "bdata": "AQIDBAUGBwgJCgsMDQ4PEBESExQVFhcY",
          "dtype": "i1"
         },
         "xaxis": "x",
         "y": {
          "bdata": "AAAAAABdwEAAAAAAAF3AQAAAAAAAXcBAAAAAAABdwEAAAAAAAF3AQAAAAAAAXcBAAAAAAABdwEAAAAAAAF3AQAAAAAAAXcBAAAAAAABdwEAAAAAAAF3AQAAAAAAAXcBAAAAAAABdwEAAAAAAAF3AQAAAAAAAXcBAAAAAAABdwEAAAAAAAF3AQAAAAAAAXcBAAAAAAABdwEAAAAAAAF3AQAAAAAAAXcBAAAAAAABdwEAAAAAAAF3AQAAAAAAAXcBA",
          "dtype": "f8"
         },
         "yaxis": "y"
        },
        {
         "hovertemplate": "date=2027-04-30 00:00:00<br>variable=cum_defaults<br>default_month=%{x}<br>value=%{y}<extra></extra>",
         "legendgroup": "2027-04-30 00:00:00",
         "line": {
          "color": "#7F7F7F",
          "dash": "solid"
         },
         "marker": {
          "symbol": "circle"
         },
         "mode": "lines",
         "name": "2027-04-30 00:00:00",
         "showlegend": false,
         "type": "scattergl",
         "x": {
          "bdata": "AQIDBAUGBwgJCgsMDQ4PEBESExQVFhcY",
          "dtype": "i1"
         },
         "xaxis": "x2",
         "y": {
          "bdata": "iNIHgAXeez8GCgx3tOOKP6BokIm5dJI/iZhAa2kflj9zyPBMGcqZP+qoxEbCmZw/z0d9FtBPnj/ir6oDlBKgP0SGZ8pQzqA/HaCUgGh6oT9fhBIFkfehPxisAHkUZaI/WZB+/Tzioj+adPyBZV+jP0Mjy9SeraM/dI4pOH0LpD9OqFbulLekP26alTAp9qQ/j4zUcr00pT/QcFL35bGlP3kfIUofAKY/iZhAa2kfpj8izu+cWE6mPzJHD76ibaY/",
          "dtype": "f8"
         },
         "yaxis": "y2"
        },
        {
         "hovertemplate": "date=2027-04-30 00:00:00<br>variable=default_flag<br>default_month=%{x}<br>value=%{y}<extra></extra>",
         "legendgroup": "2027-04-30 00:00:00",
         "line": {
          "color": "#7F7F7F",
          "dash": "solid"
         },
         "marker": {
          "symbol": "circle"
         },
         "mode": "lines",
         "name": "2027-04-30 00:00:00",
         "showlegend": false,
         "type": "scattergl",
         "x": {
          "bdata": "AQIDBAUGBwgJCgsMDQ4PEBESExQVFhcY",
          "dtype": "i1"
         },
         "xaxis": "x3",
         "y": {
          "bdata": "iNIHgAXeez+DQRBuY+l5P3SOKTh9C3Q/TH+BDX9VbT9Mf4ENf1VtP7oDn85HfWY/R+6J+9xgWz9Mf4ENf1VdPz3MmteYd1c/ODujxfaCVT9REHkfIUpPP0fuifvcYEs/URB5HyFKTz9REHkfIUpPPzOqq7NUjkM/Pcya15h3Rz84O6PF9oJVP1EQeR8hSj8/URB5HyFKPz9REHkfIUpPPzOqq7NUjkM/URB5HyFKLz89zJrXmHc3P1EQeR8hSi8/",
          "dtype": "f8"
         },
         "yaxis": "y3"
        },
        {
         "hovertemplate": "date=2027-05-31 00:00:00<br>variable=id<br>default_month=%{x}<br>value=%{y}<extra></extra>",
         "legendgroup": "2027-05-31 00:00:00",
         "line": {
          "color": "#BCBD22",
          "dash": "solid"
         },
         "marker": {
          "symbol": "circle"
         },
         "mode": "lines",
         "name": "2027-05-31 00:00:00",
         "showlegend": true,
         "type": "scattergl",
         "x": {
          "bdata": "AQIDBAUGBwgJCgsMDQ4PEBESExQVFhcY",
          "dtype": "i1"
         },
         "xaxis": "x",
         "y": {
          "bdata": "AAAAAIBAwEAAAAAAgEDAQAAAAACAQMBAAAAAAIBAwEAAAAAAgEDAQAAAAACAQMBAAAAAAIBAwEAAAAAAgEDAQAAAAACAQMBAAAAAAIBAwEAAAAAAgEDAQAAAAACAQMBAAAAAAIBAwEAAAAAAgEDAQAAAAACAQMBAAAAAAIBAwEAAAAAAgEDAQAAAAACAQMBAAAAAAIBAwEAAAAAAgEDAQAAAAACAQMBAAAAAAIBAwEAAAAAAgEDAQAAAAACAQMBA",
          "dtype": "f8"
         },
         "yaxis": "y"
        },
        {
         "hovertemplate": "date=2027-05-31 00:00:00<br>variable=cum_defaults<br>default_month=%{x}<br>value=%{y}<extra></extra>",
         "legendgroup": "2027-05-31 00:00:00",
         "line": {
          "color": "#BCBD22",
          "dash": "solid"
         },
         "marker": {
          "symbol": "circle"
         },
         "mode": "lines",
         "name": "2027-05-31 00:00:00",
         "showlegend": false,
         "type": "scattergl",
         "x": {
          "bdata": "AQIDBAUGBwgJCgsMDQ4PEBESExQVFhcY",
          "dtype": "i1"
         },
         "xaxis": "x2",
         "y": {
          "bdata": "Akt6+dMWej8BUTf6uyKHPwLCXvj3hI4/gRlD+5nzkj/B8436MMiVP0GwH/o+gZc/goyp+c1ZmT+CCUv52dOaP8Jm9PhkLpw/wmS1+GwqnT8CQ3748waePwJBP/j7Ap8/Aj8A+AP/nz/hbux7RE6gPyHO1HvHrKA/wXyp+wxaoT9BvJn7DpmhP8H7ifsQ2KE/wXpq+xRWoj8hylZ716SiP+HpTntYxKI/gRlD+5nzoj9BOTv7GhOjPyFJN3vbIqM/",
          "dtype": "f8"
         },
         "yaxis": "y2"
        },
        {
         "hovertemplate": "date=2027-05-31 00:00:00<br>variable=default_flag<br>default_month=%{x}<br>value=%{y}<extra></extra>",
         "legendgroup": "2027-05-31 00:00:00",
         "line": {
          "color": "#BCBD22",
          "dash": "solid"
         },
         "marker": {
          "symbol": "circle"
         },
         "mode": "lines",
         "name": "2027-05-31 00:00:00",
         "showlegend": false,
         "type": "scattergl",
         "x": {
          "bdata": "AQIDBAUGBwgJCgsMDQ4PEBESExQVFhcY",
          "dtype": "i1"
         },
         "xaxis": "x3",
         "y": {
          "bdata": "Akt6+dMWej8BV/T6oy50PwLEnfjviG0/AsSd+O+IbT8B0lb6t6RmPwLIG/nfkFs/AsSd+O+IXT8B0Bf6v6BXPwHUlfqvqFU/AsAf+P+ATz8CyBv535BLPwLAH/j/gE8/AsAf+P+ATz8B2BP7n7BDPwHQF/q/oEc/AdSV+q+oVT8CwB/4/4A/PwLAH/j/gD8/AsAf+P+ATz8B2BP7n7BDPwLAH/j/gC8/AdAX+r+gNz8CwB/4/4AvPwLAH/j/gB8/",
          "dtype": "f8"
         },
         "yaxis": "y3"
        },
        {
         "hovertemplate": "date=2027-06-30 00:00:00<br>variable=id<br>default_month=%{x}<br>value=%{y}<extra></extra>",
         "legendgroup": "2027-06-30 00:00:00",
         "line": {
          "color": "#17BECF",
          "dash": "solid"
         },
         "marker": {
          "symbol": "circle"
         },
         "mode": "lines",
         "name": "2027-06-30 00:00:00",
         "showlegend": true,
         "type": "scattergl",
         "x": {
          "bdata": "AQIDBAUGBwgJCgsMDQ4PEBESExQVFhcY",
          "dtype": "i1"
         },
         "xaxis": "x",
         "y": {
          "bdata": "AAAAAAAmwEAAAAAAACbAQAAAAAAAJsBAAAAAAAAmwEAAAAAAACbAQAAAAAAAJsBAAAAAAAAmwEAAAAAAACbAQAAAAAAAJsBAAAAAAAAmwEAAAAAAACbAQAAAAAAAJsBAAAAAAAAmwEAAAAAAACbAQAAAAAAAJsBAAAAAAAAmwEAAAAAAACbAQAAAAAAAJsBAAAAAAAAmwEAAAAAAACbAQAAAAAAAJsBAAAAAAAAmwEAAAAAAACbAQAAAAAAAJsBA",
          "dtype": "f8"
         },
         "yaxis": "y"
        },
        {
         "hovertemplate": "date=2027-06-30 00:00:00<br>variable=cum_defaults<br>default_month=%{x}<br>value=%{y}<extra></extra>",
         "legendgroup": "2027-06-30 00:00:00",
         "line": {
          "color": "#17BECF",
          "dash": "solid"
         },
         "marker": {
          "symbol": "circle"
         },
         "mode": "lines",
         "name": "2027-06-30 00:00:00",
         "showlegend": false,
         "type": "scattergl",
         "x": {
          "bdata": "AQIDBAUGBwgJCgsMDQ4PEBESExQVFhcY",
          "dtype": "i1"
         },
         "xaxis": "x2",
         "y": {
          "bdata": "837lkcJPdD/r7WUzO5aBP10c2R2VBIk/+L+GQA23jj/S6ghoaBeRP2+2peL+8pI/ub+8RHdvlD88iPzzOsyVP26OtorgyZY/2VOZbtGnlz8KWlMFd6WYPztgDZwco5k/GqRBGqRBmj+/KE1L4P+aP0PxjPqjXJw/XPTpxXbbnD9090aRSVqdP6b9ACjvV54/hEE1pnb2nj8Rw+ML4DWfP2OFaST+lJ8/8AYYimfUnz+2R+88HPSfPwSFuiqdKaA/",
          "dtype": "f8"
         },
         "yaxis": "y2"
        },
        {
         "hovertemplate": "date=2027-06-30 00:00:00<br>variable=default_flag<br>default_month=%{x}<br>value=%{y}<extra></extra>",
         "legendgroup": "2027-06-30 00:00:00",
         "line": {
          "color": "#17BECF",
          "dash": "solid"
         },
         "marker": {
          "symbol": "circle"
         },
         "mode": "lines",
         "name": "2027-06-30 00:00:00",
         "showlegend": false,
         "type": "scattergl",
         "x": {
          "bdata": "AQIDBAUGBwgJCgsMDQ4PEBESExQVFhcY",
          "dtype": "i1"
         },
         "xaxis": "x3",
         "y": {
          "bdata": "837lkcJPdD/HucypZ7ltP8e5zKlnuW0/bo62iuDJZj9krVh8HL5bP8e5zKlnuV0/n5RwIYbHVz88iPzzOsxVPynGQNeytE8/ZK1YfBy+Sz8pxkDXsrRPPynGQNeytE8/2nuIxu/QQz+flHAhhsdHPzyI/PM6zFU/KcZA17K0Pz8pxkDXsrQ/PynGQNeytE8/2nuIxu/QQz8pxkDXsrQvP5+UcCGGxzc/KcZA17K0Lz8pxkDXsrQfP5+UcCGGxzc/",
          "dtype": "f8"
         },
         "yaxis": "y3"
        },
        {
         "hovertemplate": "date=2027-07-31 00:00:00<br>variable=id<br>default_month=%{x}<br>value=%{y}<extra></extra>",
         "legendgroup": "2027-07-31 00:00:00",
         "line": {
          "color": "#1F77B4",
          "dash": "solid"
         },
         "marker": {
          "symbol": "circle"
         },
         "mode": "lines",
         "name": "2027-07-31 00:00:00",
         "showlegend": true,
         "type": "scattergl",
         "x": {
          "bdata": "AQIDBAUGBwgJCgsMDQ4PEBESExQVFhcY",
          "dtype": "i1"
         },
         "xaxis": "x",
         "y": {
          "bdata": "AAAAAIARwEAAAAAAgBHAQAAAAACAEcBAAAAAAIARwEAAAAAAgBHAQAAAAACAEcBAAAAAAIARwEAAAAAAgBHAQAAAAACAEcBAAAAAAIARwEAAAAAAgBHAQAAAAACAEcBAAAAAAIARwEAAAAAAgBHAQAAAAACAEcBAAAAAAIARwEAAAAAAgBHAQAAAAACAEcBAAAAAAIARwEAAAAAAgBHAQAAAAACAEcBAAAAAAIARwEAAAAAAgBHAQAAAAACAEcBA",
          "dtype": "f8"
         },
         "yaxis": "y"
        },
        {
         "hovertemplate": "date=2027-07-31 00:00:00<br>variable=cum_defaults<br>default_month=%{x}<br>value=%{y}<extra></extra>",
         "legendgroup": "2027-07-31 00:00:00",
         "line": {
          "color": "#1F77B4",
          "dash": "solid"
         },
         "marker": {
          "symbol": "circle"
         },
         "mode": "lines",
         "name": "2027-07-31 00:00:00",
         "showlegend": false,
         "type": "scattergl",
         "x": {
          "bdata": "AQIDBAUGBwgJCgsMDQ4PEBESExQVFhcY",
          "dtype": "i1"
         },
         "xaxis": "x2",
         "y": {
          "bdata": "JuxpvFPfbT8m7Gm8U999PzQhp7dmqYQ/BcH34pYliD+K/oRageGLP/RiXO083o4/1ZT7GZ/NkD+jC+5KiMyRP5gzwlWUq5I/Zqq0hn2qkz80Iae3ZqmUP3SrPna4SJU/j4T0WucHlj/q50H+Z2aXP1Eju5bc5Zc/uF40L1FlmD+G1SZgOmSZP8dfvh6MA5o/e/36akZDmj8I6lXd3aKaP7yHkimY4po/ldawT3UCmz8jwwvCDGKbP4r+hFqB4Zs/",
          "dtype": "f8"
         },
         "yaxis": "y2"
        },
        {
         "hovertemplate": "date=2027-07-31 00:00:00<br>variable=default_flag<br>default_month=%{x}<br>value=%{y}<extra></extra>",
         "legendgroup": "2027-07-31 00:00:00",
         "line": {
          "color": "#1F77B4",
          "dash": "solid"
         },
         "marker": {
          "symbol": "circle"
         },
         "mode": "lines",
         "name": "2027-07-31 00:00:00",
         "showlegend": false,
         "type": "scattergl",
         "x": {
          "bdata": "AQIDBAUGBwgJCgsMDQ4PEBESExQVFhcY",
          "dtype": "i1"
         },
         "xaxis": "x3",
         "y": {
          "bdata": "JuxpvFPfbT8m7Gm8U99tP4OsyGXz5mY/iv6EWoHhWz8m7Gm8U99dP1Eju5bc5Vc/tTXWNAroVT/C2U4eJt1PP4r+hFqB4Us/wtlOHibdTz/C2U4eJt1PPxlI8dI36kM/USO7ltzlRz+1NdY0CuhVP8LZTh4m3T8/wtlOHibdPz/C2U4eJt1PPxlI8dI36kM/wtlOHibdLz9RI7uW3OU3P8LZTh4m3S8/wtlOHibdHz9RI7uW3OU3P8LZTh4m3T8/",
          "dtype": "f8"
         },
         "yaxis": "y3"
        },
        {
         "hovertemplate": "date=2027-08-31 00:00:00<br>variable=id<br>default_month=%{x}<br>value=%{y}<extra></extra>",
         "legendgroup": "2027-08-31 00:00:00",
         "line": {
          "color": "#FF7F0E",
          "dash": "solid"
         },
         "marker": {
          "symbol": "circle"
         },
         "mode": "lines",
         "name": "2027-08-31 00:00:00",
         "showlegend": true,
         "type": "scattergl",
         "x": {
          "bdata": "AQIDBAUGBwgJCgsMDQ4PEBESExQVFhcY",
          "dtype": "i1"
         },
         "xaxis": "x",
         "y": {
          "bdata": "AAAAAIACwEAAAAAAgALAQAAAAACAAsBAAAAAAIACwEAAAAAAgALAQAAAAACAAsBAAAAAAIACwEAAAAAAgALAQAAAAACAAsBAAAAAAIACwEAAAAAAgALAQAAAAACAAsBAAAAAAIACwEAAAAAAgALAQAAAAACAAsBAAAAAAIACwEAAAAAAgALAQAAAAACAAsBAAAAAAIACwEAAAAAAgALAQAAAAACAAsBAAAAAAIACwEAAAAAAgALAQAAAAACAAsBA",
          "dtype": "f8"
         },
         "yaxis": "y"
        },
        {
         "hovertemplate": "date=2027-08-31 00:00:00<br>variable=cum_defaults<br>default_month=%{x}<br>value=%{y}<extra></extra>",
         "legendgroup": "2027-08-31 00:00:00",
         "line": {
          "color": "#FF7F0E",
          "dash": "solid"
         },
         "marker": {
          "symbol": "circle"
         },
         "mode": "lines",
         "name": "2027-08-31 00:00:00",
         "showlegend": false,
         "type": "scattergl",
         "x": {
          "bdata": "AQIDBAUGBwgJCgsMDQ4PEBESExQVFhcY",
          "dtype": "i1"
         },
         "xaxis": "x2",
         "y": {
          "bdata": "k7hiu1D7bT8LI4al3Ht6Pw6nn2hivYA/IP4LgMx8hD+VEMmSVHyHP4Fh9qPmO4o/z210sJY7jD+TuGK7UPuNP+HE4McA+48/mGgvalj9kD9wzBZuP52RPw0RxnIhXZI/g7lce+q8kz+XPHx+1jyUP6q/m4HCvJQ/0cXah5q8lT+pKcKLgVyWPzPrUY13nJY/go2pj2j8lj8MTzmRXjyXP9EvAZJZXJc/H9JYlEq8lz8zVXiXNjyYPzNVeJc2PJg/",
          "dtype": "f8"
         },
         "yaxis": "y2"
        },
        {
         "hovertemplate": "date=2027-08-31 00:00:00<br>variable=default_flag<br>default_month=%{x}<br>value=%{y}<extra></extra>",
         "legendgroup": "2027-08-31 00:00:00",
         "line": {
          "color": "#FF7F0E",
          "dash": "solid"
         },
         "marker": {
          "symbol": "circle"
         },
         "mode": "lines",
         "name": "2027-08-31 00:00:00",
         "showlegend": false,
         "type": "scattergl",
         "x": {
          "bdata": "AQIDBAUGBwgJCgsMDQ4PEBESExQVFhcY",
          "dtype": "i1"
         },
         "xaxis": "x3",
         "y": {
          "bdata": "k7hiu1D7bT+CjamPaPxmP0Ws5K6g+1s/k7hiu1D7XT+pk+iVQPxXP1uHaomQ/FU/4cTgxwD7Tz9FrOSuoPtLP+HE4McA+08/4cTgxwD7Tz8Ne+x84PxDP6mT6JVA/Ec/W4dqiZD8VT/hxODHAPs/P+HE4McA+z8/4cTgxwD7Tz8Ne+x84PxDP+HE4McA+y8/qZPolUD8Nz/hxODHAPsvP+HE4McA+x8/qZPolUD8Nz/hxODHAPs/PwAAAAAAAAAA",
          "dtype": "f8"
         },
         "yaxis": "y3"
        },
        {
         "hovertemplate": "date=2027-09-30 00:00:00<br>variable=id<br>default_month=%{x}<br>value=%{y}<extra></extra>",
         "legendgroup": "2027-09-30 00:00:00",
         "line": {
          "color": "#2CA02C",
          "dash": "solid"
         },
         "marker": {
          "symbol": "circle"
         },
         "mode": "lines",
         "name": "2027-09-30 00:00:00",
         "showlegend": true,
         "type": "scattergl",
         "x": {
          "bdata": "AQIDBAUGBwgJCgsMDQ4PEBESExQVFhcY",
          "dtype": "i1"
         },
         "xaxis": "x",
         "y": {
          "bdata": "AAAAAADnv0AAAAAAAOe/QAAAAAAA579AAAAAAADnv0AAAAAAAOe/QAAAAAAA579AAAAAAADnv0AAAAAAAOe/QAAAAAAA579AAAAAAADnv0AAAAAAAOe/QAAAAAAA579AAAAAAADnv0AAAAAAAOe/QAAAAAAA579AAAAAAADnv0AAAAAAAOe/QAAAAAAA579AAAAAAADnv0AAAAAAAOe/QAAAAAAA579AAAAAAADnv0AAAAAAAOe/QAAAAAAA579A",
          "dtype": "f8"
         },
         "yaxis": "y"
        },
        {
         "hovertemplate": "date=2027-09-30 00:00:00<br>variable=cum_defaults<br>default_month=%{x}<br>value=%{y}<extra></extra>",
         "legendgroup": "2027-09-30 00:00:00",
         "line": {
          "color": "#2CA02C",
          "dash": "solid"
         },
         "marker": {
          "symbol": "circle"
         },
         "mode": "lines",
         "name": "2027-09-30 00:00:00",
         "showlegend": false,
         "type": "scattergl",
         "x": {
          "bdata": "AQIDBAUGBwgJCgsMDQ4PEBESExQVFhcY",
          "dtype": "i1"
         },
         "xaxis": "x2",
         "y": {
          "bdata": "KjbAFAYSZz+zNnlTf45yPyWL7+pfFHo/jRqny4kMgD8d06d6sc6CP2+2HLRC0IQ/Vv1ixqGRhj+o4Nf/MpOIP/nDTDnElIo/DNI1/b7Viz+JfE3o61aNP40ap8uJDJA/YVMEGu6MkD82jGFoUg2RP979GwUbDpI/6IQQZ5iukj9SIT+Oyu6SP/ELBckVT5M/XKgz8EePkz+R9soDYa+TPzDhkD6sD5Q/BBrujBCQlD8EGu6MEJCUPwQa7owQkJQ/",
          "dtype": "f8"
         },
         "yaxis": "y2"
        },
        {
         "hovertemplate": "date=2027-09-30 00:00:00<br>variable=default_flag<br>default_month=%{x}<br>value=%{y}<extra></extra>",
         "legendgroup": "2027-09-30 00:00:00",
         "line": {
          "color": "#2CA02C",
          "dash": "solid"
         },
         "marker": {
          "symbol": "circle"
         },
         "mode": "lines",
         "name": "2027-09-30 00:00:00",
         "showlegend": false,
         "type": "scattergl",
         "x": {
          "bdata": "AQIDBAUGBwgJCgsMDQ4PEBESExQVFhcY",
          "dtype": "i1"
         },
         "xaxis": "x3",
         "y": {
          "bdata": "KjbAFAYSZz92bmQk8RVcP8hR2V2CF14/06d6sc4SWD+CxAV4PRFWP40ap8uJDFA/dm5kJPEVTD+NGqfLiQxQP40ap8uJDFA/MOGQPqwPRD/Tp3qxzhJIP4LEBXg9EVY/jRqny4kMQD+NGqfLiQxAP40ap8uJDFA/MOGQPqwPRD+NGqfLiQwwP9OnerHOEjg/jRqny4kMMD+NGqfLiQwgP9OnerHOEjg/jRqny4kMQD8AAAAAAAAAAAAAAAAAAAAA",
          "dtype": "f8"
         },
         "yaxis": "y3"
        },
        {
         "hovertemplate": "date=2027-10-31 00:00:00<br>variable=id<br>default_month=%{x}<br>value=%{y}<extra></extra>",
         "legendgroup": "2027-10-31 00:00:00",
         "line": {
          "color": "#D62728",
          "dash": "solid"
         },
         "marker": {
          "symbol": "circle"
         },
         "mode": "lines",
         "name": "2027-10-31 00:00:00",
         "showlegend": true,
         "type": "scattergl",
         "x": {
          "bdata": "AQIDBAUGBwgJCgsMDQ4PEBESExQVFhcY",
          "dtype": "i1"
         },
         "xaxis": "x",
         "y": {
          "bdata": "AAAAAADQv0AAAAAAANC/QAAAAAAA0L9AAAAAAADQv0AAAAAAANC/QAAAAAAA0L9AAAAAAADQv0AAAAAAANC/QAAAAAAA0L9AAAAAAADQv0AAAAAAANC/QAAAAAAA0L9AAAAAAADQv0AAAAAAANC/QAAAAAAA0L9AAAAAAADQv0AAAAAAANC/QAAAAAAA0L9AAAAAAADQv0AAAAAAANC/QAAAAAAA0L9AAAAAAADQv0AAAAAAANC/QAAAAAAA0L9A",
          "dtype": "f8"
         },
         "yaxis": "y"
        },
        {
         "hovertemplate": "date=2027-10-31 00:00:00<br>variable=cum_defaults<br>default_month=%{x}<br>value=%{y}<extra></extra>",
         "legendgroup": "2027-10-31 00:00:00",
         "line": {
          "color": "#D62728",
          "dash": "solid"
         },
         "marker": {
          "symbol": "circle"
         },
         "mode": "lines",
         "name": "2027-10-31 00:00:00",
         "showlegend": false,
         "type": "scattergl",
         "x": {
          "bdata": "AQIDBAUGBwgJCgsMDQ4PEBESExQVFhcY",
          "dtype": "i1"
         },
         "xaxis": "x2",
         "y": {
          "bdata": "4ZUOXz8qXD+ErXOiwSttP5dkmGXunnQ/mmZE2Donej8oxdjlQy1+P/JL3ehF2YA/OXunb0rcgj+AqnH2Tt+EPwwIsMoxIYY/gavHL3Wjhz+DrB1pm2eKPybEgqwdaYs/ytvn759qjD8RC7J2pG2OP51o8EqHr48/N3pRNiQYkD8VY5cPtXiQP/2ocKAVuZA/8kvd6EXZkD/PNCPC1jmRP6HA1eOXupE/ocDV45e6kT+hwNXjl7qRP5VjQizI2pE/",
          "dtype": "f8"
         },
         "yaxis": "y2"
        },
        {
         "hovertemplate": "date=2027-10-31 00:00:00<br>variable=default_flag<br>default_month=%{x}<br>value=%{y}<extra></extra>",
         "legendgroup": "2027-10-31 00:00:00",
         "line": {
          "color": "#D62728",
          "dash": "solid"
         },
         "marker": {
          "symbol": "circle"
         },
         "mode": "lines",
         "name": "2027-10-31 00:00:00",
         "showlegend": false,
         "type": "scattergl",
         "x": {
          "bdata": "AQIDBAUGBwgJCgsMDQ4PEBESExQVFhcY",
          "dtype": "i1"
         },
         "xaxis": "x3",
         "y": {
          "bdata": "4ZUOXz8qXD8oxdjlQy1eP1M3elE2JFg/DAiwyjEhVj83elE2JBhQP+GVDl8/Kkw/N3pRNiQYUD83elE2JBhQP8XY5UMtHkQ/Uzd6UTYkSD8MCLDKMSFWPzd6UTYkGEA/N3pRNiQYQD83elE2JBhQP8XY5UMtHkQ/N3pRNiQYMD9TN3pRNiQ4Pzd6UTYkGDA/N3pRNiQYID9TN3pRNiQ4Pzd6UTYkGEA/AAAAAAAAAAAAAAAAAAAAADd6UTYkGCA/",
          "dtype": "f8"
         },
         "yaxis": "y3"
        },
        {
         "hovertemplate": "date=2027-11-30 00:00:00<br>variable=id<br>default_month=%{x}<br>value=%{y}<extra></extra>",
         "legendgroup": "2027-11-30 00:00:00",
         "line": {
          "color": "#9467BD",
          "dash": "solid"
         },
         "marker": {
          "symbol": "circle"
         },
         "mode": "lines",
         "name": "2027-11-30 00:00:00",
         "showlegend": true,
         "type": "scattergl",
         "x": {
          "bdata": "AQIDBAUGBwgJCgsMDQ4PEBESExQVFhcY",
          "dtype": "i1"
         },
         "xaxis": "x",
         "y": {
          "bdata": "AAAAAADCv0AAAAAAAMK/QAAAAAAAwr9AAAAAAADCv0AAAAAAAMK/QAAAAAAAwr9AAAAAAADCv0AAAAAAAMK/QAAAAAAAwr9AAAAAAADCv0AAAAAAAMK/QAAAAAAAwr9AAAAAAADCv0AAAAAAAMK/QAAAAAAAwr9AAAAAAADCv0AAAAAAAMK/QAAAAAAAwr9AAAAAAADCv0AAAAAAAMK/QAAAAAAAwr9AAAAAAADCv0AAAAAAAMK/QAAAAAAAwr9A",
          "dtype": "f8"
         },
         "yaxis": "y"
        },
        {
         "hovertemplate": "date=2027-11-30 00:00:00<br>variable=cum_defaults<br>default_month=%{x}<br>value=%{y}<extra></extra>",
         "legendgroup": "2027-11-30 00:00:00",
         "line": {
          "color": "#9467BD",
          "dash": "solid"
         },
         "marker": {
          "symbol": "circle"
         },
         "mode": "lines",
         "name": "2027-11-30 00:00:00",
         "showlegend": false,
         "type": "scattergl",
         "x": {
          "bdata": "AQIDBAUGBwgJCgsMDQ4PEBESExQVFhcY",
          "dtype": "i1"
         },
         "xaxis": "x2",
         "y": {
          "bdata": "cxrceZE6Xj9osd8gtjRrP0mZPt4XJXM/WCWP/+Ysdz/mn7U8vLN6P/UrBl6Lu34/AlyrP61hgT/HhxT6HaSCP028kqYLJ4Q/lxx6DWrshj+bP87VXe6HP59iIp5R8Ig/p6jKLjn0ij9s1DPpqTaMP+3lXc2jt4w/MACdoxp5jT+yEceHFPqNP3Ma3HmROo4/tjQbUAj8jj+6V28Y/P2PP7pXbxj8/Y8/uldvGPz9jz89MEKFPB+QP1+9YfD3f5A/",
          "dtype": "f8"
         },
         "yaxis": "y2"
        },
        {
         "hovertemplate": "date=2027-11-30 00:00:00<br>variable=default_flag<br>default_month=%{x}<br>value=%{y}<extra></extra>",
         "legendgroup": "2027-11-30 00:00:00",
         "line": {
          "color": "#9467BD",
          "dash": "solid"
         },
         "marker": {
          "symbol": "circle"
         },
         "mode": "lines",
         "name": "2027-11-30 00:00:00",
         "showlegend": false,
         "type": "scattergl",
         "x": {
          "bdata": "AQIDBAUGBwgJCgsMDQ4PEBESExQVFhcY",
          "dtype": "i1"
         },
         "xaxis": "x3",
         "y": {
          "bdata": "cxrceZE6Xj9cSOPH2i5YP1UCOzfzKlY/PTBChTwfUD9s1DPpqTZMPz0wQoU8H1A/PTBChTwfUD9NvJKmCydEP1xI48faLkg/VQI7N/MqVj89MEKFPB9APz0wQoU8H0A/PTBChTwfUD9NvJKmCydEPz0wQoU8HzA/XEjjx9ouOD89MEKFPB8wPz0wQoU8HyA/XEjjx9ouOD89MEKFPB9APwAAAAAAAAAAAAAAAAAAAAA9MEKFPB8gP1xI48faLjg/",
          "dtype": "f8"
         },
         "yaxis": "y3"
        },
        {
         "hovertemplate": "date=2027-12-31 00:00:00<br>variable=id<br>default_month=%{x}<br>value=%{y}<extra></extra>",
         "legendgroup": "2027-12-31 00:00:00",
         "line": {
          "color": "#8C564B",
          "dash": "solid"
         },
         "marker": {
          "symbol": "circle"
         },
         "mode": "lines",
         "name": "2027-12-31 00:00:00",
         "showlegend": true,
         "type": "scattergl",
         "x": {
          "bdata": "AQIDBAUGBwgJCgsMDQ4PEBESExQVFhcY",
          "dtype": "i1"
         },
         "xaxis": "x",
         "y": {
          "bdata": "AAAAAACzv0AAAAAAALO/QAAAAAAAs79AAAAAAACzv0AAAAAAALO/QAAAAAAAs79AAAAAAACzv0AAAAAAALO/QAAAAAAAs79AAAAAAACzv0AAAAAAALO/QAAAAAAAs79AAAAAAACzv0AAAAAAALO/QAAAAAAAs79AAAAAAACzv0AAAAAAALO/QAAAAAAAs79AAAAAAACzv0AAAAAAALO/QAAAAAAAs79AAAAAAACzv0AAAAAAALO/QAAAAAAAs79A",
          "dtype": "f8"
         },
         "yaxis": "y"
        },
        {
         "hovertemplate": "date=2027-12-31 00:00:00<br>variable=cum_defaults<br>default_month=%{x}<br>value=%{y}<extra></extra>",
         "legendgroup": "2027-12-31 00:00:00",
         "line": {
          "color": "#8C564B",
          "dash": "solid"
         },
         "marker": {
          "symbol": "circle"
         },
         "mode": "lines",
         "name": "2027-12-31 00:00:00",
         "showlegend": false,
         "type": "scattergl",
         "x": {
          "bdata": "AQIDBAUGBwgJCgsMDQ4PEBESExQVFhcY",
          "dtype": "i1"
         },
         "xaxis": "x2",
         "y": {
          "bdata": "QymMR0w6WD+Lpztv3jdnP0y1vzFNS28/q6D5DScucz+Lpztv3jd3P2yufdCVQXs/uPJGbajHfT/wOxz7eGeAP6ug+Q0nLoM/YyJK5pQwhD8bpJq+AjOFP4unO2/eN4c/sUmgved6iD+NisipHvyIP9frBAzxvYk/tCwt+Cc/ij8iTUFuw3+KP2yufdCVQYs/JDDOqANEjD8kMM6oA0SMPyQwzqgDRIw/klDiHp+EjD/csR6BcUaNP0rSMvcMh40/",
          "dtype": "f8"
         },
         "yaxis": "y2"
        },
        {
         "hovertemplate": "date=2027-12-31 00:00:00<br>variable=default_flag<br>default_month=%{x}<br>value=%{y}<extra></extra>",
         "legendgroup": "2027-12-31 00:00:00",
         "line": {
          "color": "#8C564B",
          "dash": "solid"
         },
         "marker": {
          "symbol": "circle"
         },
         "mode": "lines",
         "name": "2027-12-31 00:00:00",
         "showlegend": false,
         "type": "scattergl",
         "x": {
          "bdata": "AQIDBAUGBwgJCgsMDQ4PEBESExQVFhcY",
          "dtype": "i1"
         },
         "xaxis": "x3",
         "y": {
          "bdata": "QymMR0w6WD/TJeuWcDVWP4IbCIXdJlA/JDDOqANETD+CGwiF3SZQP4IbCIXdJlA/YyJK5pQwRD9DKYxHTDpIP9Ml65ZwNVY/ghsIhd0mQD+CGwiF3SZAP4IbCIXdJlA/YyJK5pQwRD+CGwiF3SYwP0MpjEdMOjg/ghsIhd0mMD+CGwiF3SYgP0MpjEdMOjg/ghsIhd0mQD8AAAAAAAAAAAAAAAAAAAAAghsIhd0mID9DKYxHTDo4P4IbCIXdJiA/",
          "dtype": "f8"
         },
         "yaxis": "y3"
        },
        {
         "hovertemplate": "date=2028-01-31 00:00:00<br>variable=id<br>default_month=%{x}<br>value=%{y}<extra></extra>",
         "legendgroup": "2028-01-31 00:00:00",
         "line": {
          "color": "#E377C2",
          "dash": "solid"
         },
         "marker": {
          "symbol": "circle"
         },
         "mode": "lines",
         "name": "2028-01-31 00:00:00",
         "showlegend": true,
         "type": "scattergl",
         "x": {
          "bdata": "AQIDBAUGBwgJCgsMDQ4PEBESExQVFhcY",
          "dtype": "i1"
         },
         "xaxis": "x",
         "y": {
          "bdata": "AAAAAACnv0AAAAAAAKe/QAAAAAAAp79AAAAAAACnv0AAAAAAAKe/QAAAAAAAp79AAAAAAACnv0AAAAAAAKe/QAAAAAAAp79AAAAAAACnv0AAAAAAAKe/QAAAAAAAp79AAAAAAACnv0AAAAAAAKe/QAAAAAAAp79AAAAAAACnv0AAAAAAAKe/QAAAAAAAp79AAAAAAACnv0AAAAAAAKe/QAAAAAAAp79AAAAAAACnv0AAAAAAAKe/QAAAAAAAp79A",
          "dtype": "f8"
         },
         "yaxis": "y"
        },
        {
         "hovertemplate": "date=2028-01-31 00:00:00<br>variable=cum_defaults<br>default_month=%{x}<br>value=%{y}<extra></extra>",
         "legendgroup": "2028-01-31 00:00:00",
         "line": {
          "color": "#E377C2",
          "dash": "solid"
         },
         "marker": {
          "symbol": "circle"
         },
         "mode": "lines",
         "name": "2028-01-31 00:00:00",
         "showlegend": false,
         "type": "scattergl",
         "x": {
          "bdata": "AQIDBAUGBwgJCgsMDQ4PEBESExQVFhcY",
          "dtype": "i1"
         },
         "xaxis": "x2",
         "y": {
          "bdata": "3mMBDNw9Vj9XMwGWbDVjP5KkAVQbSWo//RIB8swvcT+xUwE6DDt1PyF8AccTwnc/qKwBPYPKej/QAgEg/SyAP/0SAfLML4E/KiMBxJwygj+EQwFoPDiEP7xXgS7Ae4U/01+BFyj9hT/0awH1Q7+GPwt0Ad6rQIc/FniB0l+Bhz84hAGwe0OIP2WUAYJLRok/ZZQBgktGiT9llAGCS0aJP3CYgXb/hok/kqQBVBtJij+dqIFIz4mKP7+0ASbrS4s/",
          "dtype": "f8"
         },
         "yaxis": "y2"
        },
        {
         "hovertemplate": "date=2028-01-31 00:00:00<br>variable=default_flag<br>default_month=%{x}<br>value=%{y}<extra></extra>",
         "legendgroup": "2028-01-31 00:00:00",
         "line": {
          "color": "#E377C2",
          "dash": "solid"
         },
         "marker": {
          "symbol": "circle"
         },
         "mode": "lines",
         "name": "2028-01-31 00:00:00",
         "showlegend": false,
         "type": "scattergl",
         "x": {
          "bdata": "AQIDBAUGBwgJCgsMDQ4PEBESExQVFhcY",
          "dtype": "i1"
         },
         "xaxis": "x3",
         "y": {
          "bdata": "3mMBDNw9Vj/QAgEg/SxQP+zEAfi6Tkw/0AIBIP0sUD/QAgEg/SxQP4RDAWg8OEQ/OIQBsHtDSD/eYwEM3D1WP9ACASD9LEA/0AIBIP0sQD/QAgEg/SxQP4RDAWg8OEQ/0AIBIP0sMD84hAGwe0M4P9ACASD9LDA/0AIBIP0sID84hAGwe0M4P9ACASD9LEA/AAAAAAAAAAAAAAAAAAAAANACASD9LCA/OIQBsHtDOD/QAgEg/SwgPziEAbB7Qzg/",
          "dtype": "f8"
         },
         "yaxis": "y3"
        },
        {
         "hovertemplate": "date=2028-02-29 00:00:00<br>variable=id<br>default_month=%{x}<br>value=%{y}<extra></extra>",
         "legendgroup": "2028-02-29 00:00:00",
         "line": {
          "color": "#7F7F7F",
          "dash": "solid"
         },
         "marker": {
          "symbol": "circle"
         },
         "mode": "lines",
         "name": "2028-02-29 00:00:00",
         "showlegend": true,
         "type": "scattergl",
         "x": {
          "bdata": "AQIDBAUGBwgJCgsMDQ4PEBESExQVFhcY",
          "dtype": "i1"
         },
         "xaxis": "x",
         "y": {
          "bdata": "AAAAAACcv0AAAAAAAJy/QAAAAAAAnL9AAAAAAACcv0AAAAAAAJy/QAAAAAAAnL9AAAAAAACcv0AAAAAAAJy/QAAAAAAAnL9AAAAAAACcv0AAAAAAAJy/QAAAAAAAnL9AAAAAAACcv0AAAAAAAJy/QAAAAAAAnL9AAAAAAACcv0AAAAAAAJy/QAAAAAAAnL9AAAAAAACcv0AAAAAAAJy/QAAAAAAAnL9AAAAAAACcv0AAAAAAAJy/QAAAAAAAnL9A",
          "dtype": "f8"
         },
         "yaxis": "y"
        },
        {
         "hovertemplate": "date=2028-02-29 00:00:00<br>variable=cum_defaults<br>default_month=%{x}<br>value=%{y}<extra></extra>",
         "legendgroup": "2028-02-29 00:00:00",
         "line": {
          "color": "#7F7F7F",
          "dash": "solid"
         },
         "marker": {
          "symbol": "circle"
         },
         "mode": "lines",
         "name": "2028-02-29 00:00:00",
         "showlegend": false,
         "type": "scattergl",
         "x": {
          "bdata": "AQIDBAUGBwgJCgsMDQ4PEBESExQVFhcY",
          "dtype": "i1"
         },
         "xaxis": "x2",
         "y": {
          "bdata": "TLxQLp4yUD8PYdeW6F5eP64OlGLDSGc/1Gy8eRJibz/W0xr08ThyPyT3yZxvQnU/37e1/NXTej9oz3/CKdp8P/LmSYh94H4/AgvviZJ2gT+4WY3lhrqCP5vf/9YbPIM/bqgrQXv+gz9RLp4yEICEP0JxV6vawIQ/FjqDFTqDhT/aRWj4Y4aGP9pFaPhjhoY/2kVo+GOGhj/LiCFxLseGP59RTduNiYc/kJQGVFjKhz9kXTK+t4yIP0bjpK9MDok/",
          "dtype": "f8"
         },
         "yaxis": "y2"
        },
        {
         "hovertemplate": "date=2028-02-29 00:00:00<br>variable=default_flag<br>default_month=%{x}<br>value=%{y}<extra></extra>",
         "legendgroup": "2028-02-29 00:00:00",
         "line": {
          "color": "#7F7F7F",
          "dash": "solid"
         },
         "marker": {
          "symbol": "circle"
         },
         "mode": "lines",
         "name": "2028-02-29 00:00:00",
         "showlegend": false,
         "type": "scattergl",
         "x": {
          "bdata": "AQIDBAUGBwgJCgsMDQ4PEBESExQVFhcY",
          "dtype": "i1"
         },
         "xaxis": "x3",
         "y": {
          "bdata": "TLxQLp4yUD+GSQ3RlFhMP0y8UC6eMlA/TLxQLp4yUD9g6+S5RT9EP3MaeUXtS0g/6QKvf5lFVj9MvFAunjJAP0y8UC6eMkA/TLxQLp4yUD9g6+S5RT9EP0y8UC6eMjA/cxp5Re1LOD9MvFAunjIwP0y8UC6eMiA/cxp5Re1LOD9MvFAunjJAPwAAAAAAAAAAAAAAAAAAAABMvFAunjIgP3MaeUXtSzg/TLxQLp4yID9zGnlF7Us4P0y8UC6eMjA/",
          "dtype": "f8"
         },
         "yaxis": "y3"
        },
        {
         "hovertemplate": "date=2028-03-31 00:00:00<br>variable=id<br>default_month=%{x}<br>value=%{y}<extra></extra>",
         "legendgroup": "2028-03-31 00:00:00",
         "line": {
          "color": "#BCBD22",
          "dash": "solid"
         },
         "marker": {
          "symbol": "circle"
         },
         "mode": "lines",
         "name": "2028-03-31 00:00:00",
         "showlegend": true,
         "type": "scattergl",
         "x": {
          "bdata": "AQIDBAUGBwgJCgsMDQ4PEBESExQVFhcY",
          "dtype": "i1"
         },
         "xaxis": "x",
         "y": {
          "bdata": "AAAAAACUv0AAAAAAAJS/QAAAAAAAlL9AAAAAAACUv0AAAAAAAJS/QAAAAAAAlL9AAAAAAACUv0AAAAAAAJS/QAAAAAAAlL9AAAAAAACUv0AAAAAAAJS/QAAAAAAAlL9AAAAAAACUv0AAAAAAAJS/QAAAAAAAlL9AAAAAAACUv0AAAAAAAJS/QAAAAAAAlL9AAAAAAACUv0AAAAAAAJS/QAAAAAAAlL9AAAAAAACUv0AAAAAAAJS/QAAAAAAAlL9A",
          "dtype": "f8"
         },
         "yaxis": "y"
        },
        {
         "hovertemplate": "date=2028-03-31 00:00:00<br>variable=cum_defaults<br>default_month=%{x}<br>value=%{y}<extra></extra>",
         "legendgroup": "2028-03-31 00:00:00",
         "line": {
          "color": "#BCBD22",
          "dash": "solid"
         },
         "marker": {
          "symbol": "circle"
         },
         "mode": "lines",
         "name": "2028-03-31 00:00:00",
         "showlegend": false,
         "type": "scattergl",
         "x": {
          "bdata": "AQIDBAUGBwgJCgsMDQ4PEBESExQVFhcY",
          "dtype": "i1"
         },
         "xaxis": "x2",
         "y": {
          "bdata": "lW7LMsNfTD8yZLVImmZeP42IAnypTmc/lW7LMsNfbD+2p0Q6JDpxPyYLiLbzzHY/wwByzMrTeD9g9lviodp6P5nhLw5Q6H4/TyrKdG64gD+2p0Q6JDqBP9FjfOK0/IE/OOH2p2p+gj/sH7SKRb+CPwfc6zLWgYM/1dbgvUGFhD/V1uC9QYWEP9XW4L1BhYQ/iRWeoBzGhD+k0dVIrYiFP1cQkyuIyYU/cszK0xiMhj/ZSUWZzg2HP0DHv16Ej4c/",
          "dtype": "f8"
         },
         "yaxis": "y2"
        },
        {
         "hovertemplate": "date=2028-03-31 00:00:00<br>variable=default_flag<br>default_month=%{x}<br>value=%{y}<extra></extra>",
         "legendgroup": "2028-03-31 00:00:00",
         "line": {
          "color": "#BCBD22",
          "dash": "solid"
         },
         "marker": {
          "symbol": "circle"
         },
         "mode": "lines",
         "name": "2028-03-31 00:00:00",
         "showlegend": false,
         "type": "scattergl",
         "x": {
          "bdata": "AQIDBAUGBwgJCgsMDQ4PEBESExQVFhcY",
          "dtype": "i1"
         },
         "xaxis": "x3",
         "y": {
          "bdata": "lW7LMsNfTD/orE+vuDZQP+isT6+4NlA/IZgj22ZERD9bg/cGFVJIP76NDfE9S1Y/6KxPr7g2QD/orE+vuDZAP+isT6+4NlA/IZgj22ZERD/orE+vuDYwP1uD9wYVUjg/6KxPr7g2MD/orE+vuDYgP1uD9wYVUjg/6KxPr7g2QD8AAAAAAAAAAAAAAAAAAAAA6KxPr7g2ID9bg/cGFVI4P+isT6+4NiA/W4P3BhVSOD/orE+vuDYwP+isT6+4NjA/",
          "dtype": "f8"
         },
         "yaxis": "y3"
        },
        {
         "hovertemplate": "date=2028-04-30 00:00:00<br>variable=id<br>default_month=%{x}<br>value=%{y}<extra></extra>",
         "legendgroup": "2028-04-30 00:00:00",
         "line": {
          "color": "#17BECF",
          "dash": "solid"
         },
         "marker": {
          "symbol": "circle"
         },
         "mode": "lines",
         "name": "2028-04-30 00:00:00",
         "showlegend": true,
         "type": "scattergl",
         "x": {
          "bdata": "AQIDBAUGBwgJCgsMDQ4PEBESExQVFhcY",
          "dtype": "i1"
         },
         "xaxis": "x",
         "y": {
          "bdata": "AAAAAACNv0AAAAAAAI2/QAAAAAAAjb9AAAAAAACNv0AAAAAAAI2/QAAAAAAAjb9AAAAAAACNv0AAAAAAAI2/QAAAAAAAjb9AAAAAAACNv0AAAAAAAI2/QAAAAAAAjb9AAAAAAACNv0AAAAAAAI2/QAAAAAAAjb9AAAAAAACNv0AAAAAAAI2/QAAAAAAAjb9AAAAAAACNv0AAAAAAAI2/QAAAAAAAjb9AAAAAAACNv0AAAAAAAI2/QAAAAAAAjb9A",
          "dtype": "f8"
         },
         "yaxis": "y"
        },
        {
         "hovertemplate": "date=2028-04-30 00:00:00<br>variable=cum_defaults<br>default_month=%{x}<br>value=%{y}<extra></extra>",
         "legendgroup": "2028-04-30 00:00:00",
         "line": {
          "color": "#17BECF",
          "dash": "solid"
         },
         "marker": {
          "symbol": "circle"
         },
         "mode": "lines",
         "name": "2028-04-30 00:00:00",
         "showlegend": false,
         "type": "scattergl",
         "x": {
          "bdata": "AQIDBAUGBwgJCgsMDQ4PEBESExQVFhcY",
          "dtype": "i1"
         },
         "xaxis": "x2",
         "y": {
          "bdata": "BSUwlVE6UD8FJTCVUTpgP5cwzxOLTGU/eT7Bq2liaz/2KynhQEVzP5cwzxOLTHU/NzV1RtVTdz95PsGraWJ7P0HEEGuG630/ksZjhCvvfj8FJTCVUTqAPy2m2SEkvIA/wWYuaA39gD9+qCw7yb+BP86qf1Ruw4I/zqp/VG7Dgj/Oqn9UbsOCP2Jr1JpXBIM/Hq3SbRPHgz+ybSe0/AeEP26vJYe4yoQ/lzDPE4tMhT+/sXigXc6FP+cyIi0wUIY/",
          "dtype": "f8"
         },
         "yaxis": "y2"
        },
        {
         "hovertemplate": "date=2028-04-30 00:00:00<br>variable=default_flag<br>default_month=%{x}<br>value=%{y}<extra></extra>",
         "legendgroup": "2028-04-30 00:00:00",
         "line": {
          "color": "#17BECF",
          "dash": "solid"
         },
         "marker": {
          "symbol": "circle"
         },
         "mode": "lines",
         "name": "2028-04-30 00:00:00",
         "showlegend": false,
         "type": "scattergl",
         "x": {
          "bdata": "AQIDBAUGBwgJCgsMDQ4PEBESExQVFhcY",
          "dtype": "i1"
         },
         "xaxis": "x3",
         "y": {
          "bdata": "BSUwlVE6UD8FJTCVUTpQP0YufPrlSEQ/iDfIX3pXSD/nMiItMFBWPwUlMJVROkA/BSUwlVE6QD8FJTCVUTpQP0YufPrlSEQ/BSUwlVE6MD+IN8hfelc4PwUlMJVROjA/BSUwlVE6ID+IN8hfelc4PwUlMJVROkA/AAAAAAAAAAAAAAAAAAAAAAUlMJVROiA/iDfIX3pXOD8FJTCVUTogP4g3yF96Vzg/BSUwlVE6MD8FJTCVUTowPwUlMJVROjA/",
          "dtype": "f8"
         },
         "yaxis": "y3"
        },
        {
         "hovertemplate": "date=2028-05-31 00:00:00<br>variable=id<br>default_month=%{x}<br>value=%{y}<extra></extra>",
         "legendgroup": "2028-05-31 00:00:00",
         "line": {
          "color": "#1F77B4",
          "dash": "solid"
         },
         "marker": {
          "symbol": "circle"
         },
         "mode": "lines",
         "name": "2028-05-31 00:00:00",
         "showlegend": true,
         "type": "scattergl",
         "x": {
          "bdata": "AQIDBAUGBwgJCgsMDQ4PEBESExQVFhcY",
          "dtype": "i1"
         },
         "xaxis": "x",
         "y": {
          "bdata": "AAAAAACFv0AAAAAAAIW/QAAAAAAAhb9AAAAAAACFv0AAAAAAAIW/QAAAAAAAhb9AAAAAAACFv0AAAAAAAIW/QAAAAAAAhb9AAAAAAACFv0AAAAAAAIW/QAAAAAAAhb9AAAAAAACFv0AAAAAAAIW/QAAAAAAAhb9AAAAAAACFv0AAAAAAAIW/QAAAAAAAhb9AAAAAAACFv0AAAAAAAIW/QAAAAAAAhb9AAAAAAACFv0AAAAAAAIW/QAAAAAAAhb9A",
          "dtype": "f8"
         },
         "yaxis": "y"
        },
        {
         "hovertemplate": "date=2028-05-31 00:00:00<br>variable=cum_defaults<br>default_month=%{x}<br>value=%{y}<extra></extra>",
         "legendgroup": "2028-05-31 00:00:00",
         "line": {
          "color": "#1F77B4",
          "dash": "solid"
         },
         "marker": {
          "symbol": "circle"
         },
         "mode": "lines",
         "name": "2028-05-31 00:00:00",
         "showlegend": false,
         "type": "scattergl",
         "x": {
          "bdata": "AQIDBAUGBwgJCgsMDQ4PEBESExQVFhcY",
          "dtype": "i1"
         },
         "xaxis": "x2",
         "y": {
          "bdata": "gCV6/m8+UD/wfIb9dWVaP4gMMf4kSmM/UAYl/RF1bj/Yx2H+VkJxP4gMMf4kSnM/6JXP/cBZdz/Eq5J9guN5PxxOen1p53o/oMFV/UNtfD/4Yz39KnF9PyQ1MX0e830/qKgM/fh4fz+s9m1+Y8CAP6z2bX5jwIA/rPZtfmPAgD9C32c+XQGBPwSZVX5KxIE/moFPPkQFgj9cOz1+MciCP4gMMf4kSoM/tN0kfhjMgz/grhj+C06EP6JoBj75EIU/",
          "dtype": "f8"
         },
         "yaxis": "y2"
        },
        {
         "hovertemplate": "date=2028-05-31 00:00:00<br>variable=default_flag<br>default_month=%{x}<br>value=%{y}<extra></extra>",
         "legendgroup": "2028-05-31 00:00:00",
         "line": {
          "color": "#1F77B4",
          "dash": "solid"
         },
         "marker": {
          "symbol": "circle"
         },
         "mode": "lines",
         "name": "2028-05-31 00:00:00",
         "showlegend": false,
         "type": "scattergl",
         "x": {
          "bdata": "AQIDBAUGBwgJCgsMDQ4PEBESExQVFhcY",
          "dtype": "i1"
         },
         "xaxis": "x3",
         "y": {
          "bdata": "gCV6/m8+UD/grhj+C05EP0A4t/2nXUg/kPPn/dlVVj+AJXr+bz5AP4Alev5vPkA/gCV6/m8+UD/grhj+C05EP4Alev5vPjA/QDi3/addOD+AJXr+bz4wP4Alev5vPiA/QDi3/addOD+AJXr+bz5APwAAAAAAAAAAAAAAAAAAAACAJXr+bz4gP0A4t/2nXTg/gCV6/m8+ID9AOLf9p104P4Alev5vPjA/gCV6/m8+MD+AJXr+bz4wP0A4t/2nXTg/",
          "dtype": "f8"
         },
         "yaxis": "y3"
        },
        {
         "hovertemplate": "date=2028-06-30 00:00:00<br>variable=id<br>default_month=%{x}<br>value=%{y}<extra></extra>",
         "legendgroup": "2028-06-30 00:00:00",
         "line": {
          "color": "#FF7F0E",
          "dash": "solid"
         },
         "marker": {
          "symbol": "circle"
         },
         "mode": "lines",
         "name": "2028-06-30 00:00:00",
         "showlegend": true,
         "type": "scattergl",
         "x": {
          "bdata": "AQIDBAUGBwgJCgsMDQ4PEBESExQVFhcY",
          "dtype": "i1"
         },
         "xaxis": "x",
         "y": {
          "bdata": "AAAAAAB9v0AAAAAAAH2/QAAAAAAAfb9AAAAAAAB9v0AAAAAAAH2/QAAAAAAAfb9AAAAAAAB9v0AAAAAAAH2/QAAAAAAAfb9AAAAAAAB9v0AAAAAAAH2/QAAAAAAAfb9AAAAAAAB9v0AAAAAAAH2/QAAAAAAAfb9AAAAAAAB9v0AAAAAAAH2/QAAAAAAAfb9AAAAAAAB9v0AAAAAAAH2/QAAAAAAAfb9AAAAAAAB9v0AAAAAAAH2/QAAAAAAAfb9A",
          "dtype": "f8"
         },
         "yaxis": "y"
        },
        {
         "hovertemplate": "date=2028-06-30 00:00:00<br>variable=cum_defaults<br>default_month=%{x}<br>value=%{y}<extra></extra>",
         "legendgroup": "2028-06-30 00:00:00",
         "line": {
          "color": "#FF7F0E",
          "dash": "solid"
         },
         "marker": {
          "symbol": "circle"
         },
         "mode": "lines",
         "name": "2028-06-30 00:00:00",
         "showlegend": false,
         "type": "scattergl",
         "x": {
          "bdata": "AQIDBAUGBwgJCgsMDQ4PEBESExQVFhcY",
          "dtype": "i1"
         },
         "xaxis": "x2",
         "y": {
          "bdata": "wqRsnzRTRD9w6F2vhltWP3DoXa+GW2Y/ym9Azypsaj8k9yLvznxuP+wCdJcLT3M/hJdhK3LZdT9bOVozm912Px0sT7/YY3g/881HxwFoeT/eHkRLFup5P6AROddTcHs/TVUq56V4fT9NVSrnpXh9P01VKueleH0/OKYma7r6fT/6mBv394B/P/P0iz2GAYA/VG6GA6XEgD8/v4KHuUaBPyoQfwvOyIE/FWF7j+JKgj922nVVAQ6DP2IrctkVkIM/",
          "dtype": "f8"
         },
         "yaxis": "y2"
        },
        {
         "hovertemplate": "date=2028-06-30 00:00:00<br>variable=default_flag<br>default_month=%{x}<br>value=%{y}<extra></extra>",
         "legendgroup": "2028-06-30 00:00:00",
         "line": {
          "color": "#FF7F0E",
          "dash": "solid"
         },
         "marker": {
          "symbol": "circle"
         },
         "mode": "lines",
         "name": "2028-06-30 00:00:00",
         "showlegend": false,
         "type": "scattergl",
         "x": {
          "bdata": "AQIDBAUGBwgJCgsMDQ4PEBESExQVFhcY",
          "dtype": "i1"
         },
         "xaxis": "x3",
         "y": {
          "bdata": "wqRsnzRTRD8dLE+/2GNIP3DoXa+GW1Y/aB2Kf5BCQD9oHYp/kEJAP2gdin+QQlA/wqRsnzRTRD9oHYp/kEIwPx0sT7/YYzg/aB2Kf5BCMD9oHYp/kEIgPx0sT7/YYzg/aB2Kf5BCQD8AAAAAAAAAAAAAAAAAAAAAaB2Kf5BCID8dLE+/2GM4P2gdin+QQiA/HSxPv9hjOD9oHYp/kEIwP2gdin+QQjA/aB2Kf5BCMD8dLE+/2GM4P2gdin+QQjA/",
          "dtype": "f8"
         },
         "yaxis": "y3"
        },
        {
         "hovertemplate": "date=2028-07-31 00:00:00<br>variable=id<br>default_month=%{x}<br>value=%{y}<extra></extra>",
         "legendgroup": "2028-07-31 00:00:00",
         "line": {
          "color": "#2CA02C",
          "dash": "solid"
         },
         "marker": {
          "symbol": "circle"
         },
         "mode": "lines",
         "name": "2028-07-31 00:00:00",
         "showlegend": true,
         "type": "scattergl",
         "x": {
          "bdata": "AQIDBAUGBwgJCgsMDQ4PEBESExQVFhcY",
          "dtype": "i1"
         },
         "xaxis": "x",
         "y": {
          "bdata": "AAAAAAB4v0AAAAAAAHi/QAAAAAAAeL9AAAAAAAB4v0AAAAAAAHi/QAAAAAAAeL9AAAAAAAB4v0AAAAAAAHi/QAAAAAAAeL9AAAAAAAB4v0AAAAAAAHi/QAAAAAAAeL9AAAAAAAB4v0AAAAAAAHi/QAAAAAAAeL9AAAAAAAB4v0AAAAAAAHi/QAAAAAAAeL9AAAAAAAB4v0AAAAAAAHi/QAAAAAAAeL9AAAAAAAB4v0AAAAAAAHi/QAAAAAAAeL9A",
          "dtype": "f8"
         },
         "yaxis": "y"
        },
        {
         "hovertemplate": "date=2028-07-31 00:00:00<br>variable=cum_defaults<br>default_month=%{x}<br>value=%{y}<extra></extra>",
         "legendgroup": "2028-07-31 00:00:00",
         "line": {
          "color": "#2CA02C",
          "dash": "solid"
         },
         "marker": {
          "symbol": "circle"
         },
         "mode": "lines",
         "name": "2028-07-31 00:00:00",
         "showlegend": false,
         "type": "scattergl",
         "x": {
          "bdata": "AQIDBAUGBwgJCgsMDQ4PEBESExQVFhcY",
          "dtype": "i1"
         },
         "xaxis": "x2",
         "y": {
          "bdata": "sUd60bhnSD/I8gs/eElhP7v+SrfBWmU/rQqKLwtsaT9JEQQQT8dwP8F4K/scUnM/vjs7WW9WdD854FLm6tx1PzajYkQ94XY/tIRqc2Zjdz8vKYIA4ul4PyivobyG8no/KK+hvIbyej8or6G8hvJ6P6eQqeuvdHs/IjXBeCv7fD+gFsmnVH19Pxu74DTQA38/DD94SREEgD+KIIB4OoaAPwkCiKdjCIE/RtQTbqHLgT/FtRudyk2CP0OXI8zzz4I/",
          "dtype": "f8"
         },
         "yaxis": "y2"
        },
        {
         "hovertemplate": "date=2028-07-31 00:00:00<br>variable=default_flag<br>default_month=%{x}<br>value=%{y}<extra></extra>",
         "legendgroup": "2028-07-31 00:00:00",
         "line": {
          "color": "#2CA02C",
          "dash": "solid"
         },
         "marker": {
          "symbol": "circle"
         },
         "mode": "lines",
         "name": "2028-07-31 00:00:00",
         "showlegend": false,
         "type": "scattergl",
         "x": {
          "bdata": "AQIDBAUGBwgJCgsMDQ4PEBESExQVFhcY",
          "dtype": "i1"
         },
         "xaxis": "x3",
         "y": {
          "bdata": "sUd60bhnSD+3wVoVFF9WP8sv/OAlRUA/yy/84CVFQD/LL/zgJUVQP747O1lvVkQ/yy/84CVFMD+xR3rRuGc4P8sv/OAlRTA/yy/84CVFID+xR3rRuGc4P8sv/OAlRUA/AAAAAAAAAAAAAAAAAAAAAMsv/OAlRSA/sUd60bhnOD/LL/zgJUUgP7FHetG4Zzg/yy/84CVFMD/LL/zgJUUwP8sv/OAlRTA/sUd60bhnOD/LL/zgJUUwP8sv/OAlRTA/",
          "dtype": "f8"
         },
         "yaxis": "y3"
        },
        {
         "hovertemplate": "date=2028-08-31 00:00:00<br>variable=id<br>default_month=%{x}<br>value=%{y}<extra></extra>",
         "legendgroup": "2028-08-31 00:00:00",
         "line": {
          "color": "#D62728",
          "dash": "solid"
         },
         "marker": {
          "symbol": "circle"
         },
         "mode": "lines",
         "name": "2028-08-31 00:00:00",
         "showlegend": true,
         "type": "scattergl",
         "x": {
          "bdata": "AQIDBAUGBwgJCgsMDQ4PEBESExQVFhcY",
          "dtype": "i1"
         },
         "xaxis": "x",
         "y": {
          "bdata": "AAAAAAByv0AAAAAAAHK/QAAAAAAAcr9AAAAAAAByv0AAAAAAAHK/QAAAAAAAcr9AAAAAAAByv0AAAAAAAHK/QAAAAAAAcr9AAAAAAAByv0AAAAAAAHK/QAAAAAAAcr9AAAAAAAByv0AAAAAAAHK/QAAAAAAAcr9AAAAAAAByv0AAAAAAAHK/QAAAAAAAcr9AAAAAAAByv0AAAAAAAHK/QAAAAAAAcr9AAAAAAAByv0AAAAAAAHK/QAAAAAAAcr9A",
          "dtype": "f8"
         },
         "yaxis": "y"
        },
        {
         "hovertemplate": "date=2028-08-31 00:00:00<br>variable=cum_defaults<br>default_month=%{x}<br>value=%{y}<extra></extra>",
         "legendgroup": "2028-08-31 00:00:00",
         "line": {
          "color": "#D62728",
          "dash": "solid"
         },
         "marker": {
          "symbol": "circle"
         },
         "mode": "lines",
         "name": "2028-08-31 00:00:00",
         "showlegend": false,
         "type": "scattergl",
         "x": {
          "bdata": "AQIDBAUGBwgJCgsMDQ4PEBESExQVFhcY",
          "dtype": "i1"
         },
         "xaxis": "x2",
         "y": {
          "bdata": "UKJI2lhjVj9W3agpeYdePy6MhLzMVWM/NMfkC+15az8MdsCeQEhwP219rKjETHE/foiOt4rTcj/ej3rBDthzP4+TcMZQWnQ/oJ5S1RbhdT9hrSrpHup3P2GtKuke6nc/Ya0q6R7qdz8SsSDuYGx4PyO8Av0m83k/07/4AWl1ej/kytoQL/x7P0XSxhqzAH0/ptmyJDcFfj8H4Z4uuwl/Pwx2wJ5ASIA/vHm2o4LKgD9tfayoxEyBP0V/J6vljYE/",
          "dtype": "f8"
         },
         "yaxis": "y2"
        },
        {
         "hovertemplate": "date=2028-08-31 00:00:00<br>variable=default_flag<br>default_month=%{x}<br>value=%{y}<extra></extra>",
         "legendgroup": "2028-08-31 00:00:00",
         "line": {
          "color": "#D62728",
          "dash": "solid"
         },
         "marker": {
          "symbol": "circle"
         },
         "mode": "lines",
         "name": "2028-08-31 00:00:00",
         "showlegend": false,
         "type": "scattergl",
         "x": {
          "bdata": "AQIDBAUGBwgJCgsMDQ4PEBESExQVFhcY",
          "dtype": "i1"
         },
         "xaxis": "x3",
         "y": {
          "bdata": "UKJI2lhjVj8MdsCeQEhAPwx2wJ5ASEA/DHbAnkBIUD+Pk3DGUFpEPwx2wJ5ASDA/ErEg7mBsOD8MdsCeQEgwPwx2wJ5ASCA/ErEg7mBsOD8MdsCeQEhAPwAAAAAAAAAAAAAAAAAAAAAMdsCeQEggPxKxIO5gbDg/DHbAnkBIID8SsSDuYGw4Pwx2wJ5ASDA/DHbAnkBIMD8MdsCeQEgwPxKxIO5gbDg/DHbAnkBIMD8MdsCeQEgwPwx2wJ5ASCA/",
          "dtype": "f8"
         },
         "yaxis": "y3"
        },
        {
         "hovertemplate": "date=2028-09-30 00:00:00<br>variable=id<br>default_month=%{x}<br>value=%{y}<extra></extra>",
         "legendgroup": "2028-09-30 00:00:00",
         "line": {
          "color": "#9467BD",
          "dash": "solid"
         },
         "marker": {
          "symbol": "circle"
         },
         "mode": "lines",
         "name": "2028-09-30 00:00:00",
         "showlegend": true,
         "type": "scattergl",
         "x": {
          "bdata": "AQIDBAUGBwgJCgsMDQ4PEBESExQVFhcY",
          "dtype": "i1"
         },
         "xaxis": "x",
         "y": {
          "bdata": "AAAAAABnv0AAAAAAAGe/QAAAAAAAZ79AAAAAAABnv0AAAAAAAGe/QAAAAAAAZ79AAAAAAABnv0AAAAAAAGe/QAAAAAAAZ79AAAAAAABnv0AAAAAAAGe/QAAAAAAAZ79AAAAAAABnv0AAAAAAAGe/QAAAAAAAZ79AAAAAAABnv0AAAAAAAGe/QAAAAAAAZ79AAAAAAABnv0AAAAAAAGe/QAAAAAAAZ79AAAAAAABnv0AAAAAAAGe/QAAAAAAAZ79A",
          "dtype": "f8"
         },
         "yaxis": "y"
        },
        {
         "hovertemplate": "date=2028-09-30 00:00:00<br>variable=cum_defaults<br>default_month=%{x}<br>value=%{y}<extra></extra>",
         "legendgroup": "2028-09-30 00:00:00",
         "line": {
          "color": "#9467BD",
          "dash": "solid"
         },
         "marker": {
          "symbol": "circle"
         },
         "mode": "lines",
         "name": "2028-09-30 00:00:00",
         "showlegend": false,
         "type": "scattergl",
         "x": {
          "bdata": "AQIDBAUGBwgJCgsMDQ4PEBESExQVFhcY",
          "dtype": "i1"
         },
         "xaxis": "x2",
         "y": {
          "bdata": "VMsZuvRNQD9Uyxm69E1QP1TLGbr0TWA/3tpBNFFmZT9JFIXLD3BnP2nqaa6tfmo/0yOtRWyIbD+JwE6RS41tP1TLGbr0TXA/vwRdUbNXcj+/BF1Rs1dyP78EXVGzV3I/GdMt9yLacj8pPqDocWF0P4QMcY7h43Q/lHfjfzBrdj9JFIXLD3B3P/6wJhfvdHg/tE3IYs55eT/DuDpUHQF7P3lV3J/8BXw/LvJ969sKfT+JwE6RS419P+OOHze7D34/",
          "dtype": "f8"
         },
         "yaxis": "y2"
        },
        {
         "hovertemplate": "date=2028-09-30 00:00:00<br>variable=default_flag<br>default_month=%{x}<br>value=%{y}<extra></extra>",
         "legendgroup": "2028-09-30 00:00:00",
         "line": {
          "color": "#9467BD",
          "dash": "solid"
         },
         "marker": {
          "symbol": "circle"
         },
         "mode": "lines",
         "name": "2028-09-30 00:00:00",
         "showlegend": false,
         "type": "scattergl",
         "x": {
          "bdata": "AQIDBAUGBwgJCgsMDQ4PEBESExQVFhcY",
          "dtype": "i1"
         },
         "xaxis": "x3",
         "y": {
          "bdata": "VMsZuvRNQD9Uyxm69E1AP1TLGbr0TVA/KT6g6HFhRD9Uyxm69E0wP/6wJhfvdDg/VMsZuvRNMD9Uyxm69E0gP/6wJhfvdDg/VMsZuvRNQD8AAAAAAAAAAAAAAAAAAAAAVMsZuvRNID/+sCYX73Q4P1TLGbr0TSA//rAmF+90OD9Uyxm69E0wP1TLGbr0TTA/VMsZuvRNMD/+sCYX73Q4P1TLGbr0TTA/VMsZuvRNMD9Uyxm69E0gP1TLGbr0TSA/",
          "dtype": "f8"
         },
         "yaxis": "y3"
        },
        {
         "hovertemplate": "date=2028-10-31 00:00:00<br>variable=id<br>default_month=%{x}<br>value=%{y}<extra></extra>",
         "legendgroup": "2028-10-31 00:00:00",
         "line": {
          "color": "#8C564B",
          "dash": "solid"
         },
         "marker": {
          "symbol": "circle"
         },
         "mode": "lines",
         "name": "2028-10-31 00:00:00",
         "showlegend": true,
         "type": "scattergl",
         "x": {
          "bdata": "AQIDBAUGBwgJCgsMDQ4PEBESExQVFhcY",
          "dtype": "i1"
         },
         "xaxis": "x",
         "y": {
          "bdata": "AAAAAABjv0AAAAAAAGO/QAAAAAAAY79AAAAAAABjv0AAAAAAAGO/QAAAAAAAY79AAAAAAABjv0AAAAAAAGO/QAAAAAAAY79AAAAAAABjv0AAAAAAAGO/QAAAAAAAY79AAAAAAABjv0AAAAAAAGO/QAAAAAAAY79AAAAAAABjv0AAAAAAAGO/QAAAAAAAY79AAAAAAABjv0AAAAAAAGO/QAAAAAAAY79AAAAAAABjv0AAAAAAAGO/QAAAAAAAY79A",
          "dtype": "f8"
         },
         "yaxis": "y"
        },
        {
         "hovertemplate": "date=2028-10-31 00:00:00<br>variable=cum_defaults<br>default_month=%{x}<br>value=%{y}<extra></extra>",
         "legendgroup": "2028-10-31 00:00:00",
         "line": {
          "color": "#8C564B",
          "dash": "solid"
         },
         "marker": {
          "symbol": "circle"
         },
         "mode": "lines",
         "name": "2028-10-31 00:00:00",
         "showlegend": false,
         "type": "scattergl",
         "x": {
          "bdata": "AQIDBAUGBwgJCgsMDQ4PEBESExQVFhcY",
          "dtype": "i1"
         },
         "xaxis": "x2",
         "y": {
          "bdata": "lpqEqghQQD/i58b/DHhYP0DkLDUJVWE/k3d9SgpfYz+PVHbqC25mP+Lnxv8MeGg/izFvig19aT+HDmgqD4xsP5aahKoIUHA/lpqEqghQcD+WmoSqCFBwP2u/2O+I0nA/6S3Vvwlacj++UikFitxyPzzBJdUKZHQ/5QrOXwtpdT+PVHbqC252PzieHnUMc3c/tgwbRY36eD9gVsPPjf95Pwmga1qOBHs/3sS/nw6Hez+z6RPljgl8P7PpE+WOCXw/",
          "dtype": "f8"
         },
         "yaxis": "y2"
        },
        {
         "hovertemplate": "date=2028-10-31 00:00:00<br>variable=default_flag<br>default_month=%{x}<br>value=%{y}<extra></extra>",
         "legendgroup": "2028-10-31 00:00:00",
         "line": {
          "color": "#8C564B",
          "dash": "solid"
         },
         "marker": {
          "symbol": "circle"
         },
         "mode": "lines",
         "name": "2028-10-31 00:00:00",
         "showlegend": false,
         "type": "scattergl",
         "x": {
          "bdata": "AQIDBAUGBwgJCgsMDQ4PEBESExQVFhcY",
          "dtype": "i1"
         },
         "xaxis": "x3",
         "y": {
          "bdata": "lpqEqghQQD+WmoSqCFBQPzzBJdUKZEQ/lpqEqghQMD/i58b/DHg4P5aahKoIUDA/lpqEqghQID/i58b/DHg4P5aahKoIUEA/AAAAAAAAAAAAAAAAAAAAAJaahKoIUCA/4ufG/wx4OD+WmoSqCFAgP+Lnxv8MeDg/lpqEqghQMD+WmoSqCFAwP5aahKoIUDA/4ufG/wx4OD+WmoSqCFAwP5aahKoIUDA/lpqEqghQID+WmoSqCFAgPwAAAAAAAAAA",
          "dtype": "f8"
         },
         "yaxis": "y3"
        },
        {
         "hovertemplate": "date=2028-11-30 00:00:00<br>variable=id<br>default_month=%{x}<br>value=%{y}<extra></extra>",
         "legendgroup": "2028-11-30 00:00:00",
         "line": {
          "color": "#E377C2",
          "dash": "solid"
         },
         "marker": {
          "symbol": "circle"
         },
         "mode": "lines",
         "name": "2028-11-30 00:00:00",
         "showlegend": true,
         "type": "scattergl",
         "x": {
          "bdata": "AQIDBAUGBwgJCgsMDQ4PEBESExQVFhcY",
          "dtype": "i1"
         },
         "xaxis": "x",
         "y": {
          "bdata": "AAAAAABfv0AAAAAAAF+/QAAAAAAAX79AAAAAAABfv0AAAAAAAF+/QAAAAAAAX79AAAAAAABfv0AAAAAAAF+/QAAAAAAAX79AAAAAAABfv0AAAAAAAF+/QAAAAAAAX79AAAAAAABfv0AAAAAAAF+/QAAAAAAAX79AAAAAAABfv0AAAAAAAF+/QAAAAAAAX79AAAAAAABfv0AAAAAAAF+/QAAAAAAAX79AAAAAAABfv0AAAAAAAF+/QAAAAAAAX79A",
          "dtype": "f8"
         },
         "yaxis": "y"
        },
        {
         "hovertemplate": "date=2028-11-30 00:00:00<br>variable=cum_defaults<br>default_month=%{x}<br>value=%{y}<extra></extra>",
         "legendgroup": "2028-11-30 00:00:00",
         "line": {
          "color": "#E377C2",
          "dash": "solid"
         },
         "marker": {
          "symbol": "circle"
         },
         "mode": "lines",
         "name": "2028-11-30 00:00:00",
         "showlegend": false,
         "type": "scattergl",
         "x": {
          "bdata": "AQIDBAUGBwgJCgsMDQ4PEBESExQVFhcY",
          "dtype": "i1"
         },
         "xaxis": "x2",
         "y": {
          "bdata": "vgKWIh1SUD90xDNYb4VaPyRF2aD2mV4/FsPoxmBcYj9tgztrpGZkP5njZD3Ga2U/HQThsyt7aD/MhIb8so9sP8yEhvyyj2w/zISG/LKPbD/45K/O1JRtP74CliIdUnA/1LKqC67UcD8Ww+jGYFxyP0EjEpmCYXM/bYM7a6RmdD+Z42Q9xmt1P9vzovh483Y/B1TMypr4dz8ztPWcvP14P0lkCoZNgHk/XhQfb94Cej9eFB9v3gJ6P6AkXSqRins/",
          "dtype": "f8"
         },
         "yaxis": "y2"
        },
        {
         "hovertemplate": "date=2028-11-30 00:00:00<br>variable=default_flag<br>default_month=%{x}<br>value=%{y}<extra></extra>",
         "legendgroup": "2028-11-30 00:00:00",
         "line": {
          "color": "#E377C2",
          "dash": "solid"
         },
         "marker": {
          "symbol": "circle"
         },
         "mode": "lines",
         "name": "2028-11-30 00:00:00",
         "showlegend": false,
         "type": "scattergl",
         "x": {
          "bdata": "AQIDBAUGBwgJCgsMDQ4PEBESExQVFhcY",
          "dtype": "i1"
         },
         "xaxis": "x3",
         "y": {
          "bdata": "vgKWIh1SUD9tgztrpGZEP74CliIdUjA/HQThsyt7OD++ApYiHVIwP74CliIdUiA/HQThsyt7OD++ApYiHVJAPwAAAAAAAAAAAAAAAAAAAAC+ApYiHVIgPx0E4bMrezg/vgKWIh1SID8dBOGzK3s4P74CliIdUjA/vgKWIh1SMD++ApYiHVIwPx0E4bMrezg/vgKWIh1SMD++ApYiHVIwP74CliIdUiA/vgKWIh1SID8AAAAAAAAAAB0E4bMrezg/",
          "dtype": "f8"
         },
         "yaxis": "y3"
        },
        {
         "hovertemplate": "date=2028-12-31 00:00:00<br>variable=id<br>default_month=%{x}<br>value=%{y}<extra></extra>",
         "legendgroup": "2028-12-31 00:00:00",
         "line": {
          "color": "#7F7F7F",
          "dash": "solid"
         },
         "marker": {
          "symbol": "circle"
         },
         "mode": "lines",
         "name": "2028-12-31 00:00:00",
         "showlegend": true,
         "type": "scattergl",
         "x": {
          "bdata": "AQIDBAUGBwgJCgsMDQ4PEBESExQVFhcY",
          "dtype": "i1"
         },
         "xaxis": "x",
         "y": {
          "bdata": "AAAAAABXv0AAAAAAAFe/QAAAAAAAV79AAAAAAABXv0AAAAAAAFe/QAAAAAAAV79AAAAAAABXv0AAAAAAAFe/QAAAAAAAV79AAAAAAABXv0AAAAAAAFe/QAAAAAAAV79AAAAAAABXv0AAAAAAAFe/QAAAAAAAV79AAAAAAABXv0AAAAAAAFe/QAAAAAAAV79AAAAAAABXv0AAAAAAAFe/QAAAAAAAV79AAAAAAABXv0AAAAAAAFe/QAAAAAAAV79A",
          "dtype": "f8"
         },
         "yaxis": "y"
        },
        {
         "hovertemplate": "date=2028-12-31 00:00:00<br>variable=cum_defaults<br>default_month=%{x}<br>value=%{y}<extra></extra>",
         "legendgroup": "2028-12-31 00:00:00",
         "line": {
          "color": "#7F7F7F",
          "dash": "solid"
         },
         "marker": {
          "symbol": "circle"
         },
         "mode": "lines",
         "name": "2028-12-31 00:00:00",
         "showlegend": false,
         "type": "scattergl",
         "x": {
          "bdata": "AQIDBAUGBwgJCgsMDQ4PEBESExQVFhcY",
          "dtype": "i1"
         },
         "xaxis": "x2",
         "y": {
          "bdata": "GHkbldlrRD+HqVlq/ZZMPxh5G5XZa1Q/T5G6f2uBWD9rHQp1NIxaP+BgfKpHVmA/GHkbldlrZD8YeRuV2WtkPxh5G5XZa2Q/JT/DDz5xZT9Pkbp/a4FoP11XYvrPhmk/h6lZav2WbD+jNalfxqFuP+BgfKpHVnA/7iYkJaxbcT8D0B/dwuNyPxGWx1cn6XM/H1xv0ovudD8lP8MPPnF1PywiF03w83U/LCIXTfDzdT9ByxIFB3x3P0iuZkK5/nc/",
          "dtype": "f8"
         },
         "yaxis": "y2"
        },
        {
         "hovertemplate": "date=2028-12-31 00:00:00<br>variable=default_flag<br>default_month=%{x}<br>value=%{y}<extra></extra>",
         "legendgroup": "2028-12-31 00:00:00",
         "line": {
          "color": "#7F7F7F",
          "dash": "solid"
         },
         "marker": {
          "symbol": "circle"
         },
         "mode": "lines",
         "name": "2028-12-31 00:00:00",
         "showlegend": false,
         "type": "scattergl",
         "x": {
          "bdata": "AQIDBAUGBwgJCgsMDQ4PEBESExQVFhcY",
          "dtype": "i1"
         },
         "xaxis": "x3",
         "y": {
          "bdata": "GHkbldlrRD/gYHyqR1YwP0+Run9rgTg/4GB8qkdWMD/gYHyqR1YgP0+Run9rgTg/4GB8qkdWQD8AAAAAAAAAAAAAAAAAAAAA4GB8qkdWID9Pkbp/a4E4P+BgfKpHViA/T5G6f2uBOD/gYHyqR1YwP+BgfKpHVjA/4GB8qkdWMD9Pkbp/a4E4P+BgfKpHVjA/4GB8qkdWMD/gYHyqR1YgP+BgfKpHViA/AAAAAAAAAABPkbp/a4E4P+BgfKpHViA/",
          "dtype": "f8"
         },
         "yaxis": "y3"
        },
        {
         "hovertemplate": "date=2029-01-31 00:00:00<br>variable=id<br>default_month=%{x}<br>value=%{y}<extra></extra>",
         "legendgroup": "2029-01-31 00:00:00",
         "line": {
          "color": "#BCBD22",
          "dash": "solid"
         },
         "marker": {
          "symbol": "circle"
         },
         "mode": "lines",
         "name": "2029-01-31 00:00:00",
         "showlegend": true,
         "type": "scattergl",
         "x": {
          "bdata": "AQIDBAUGBwgJCgsMDQ4PEBESExQVFhcY",
          "dtype": "i1"
         },
         "xaxis": "x",
         "y": {
          "bdata": "AAAAAABSv0AAAAAAAFK/QAAAAAAAUr9AAAAAAABSv0AAAAAAAFK/QAAAAAAAUr9AAAAAAABSv0AAAAAAAFK/QAAAAAAAUr9AAAAAAABSv0AAAAAAAFK/QAAAAAAAUr9AAAAAAABSv0AAAAAAAFK/QAAAAAAAUr9AAAAAAABSv0AAAAAAAFK/QAAAAAAAUr9AAAAAAABSv0AAAAAAAFK/QAAAAAAAUr9AAAAAAABSv0AAAAAAAFK/QAAAAAAAUr9A",
          "dtype": "f8"
         },
         "yaxis": "y"
        },
        {
         "hovertemplate": "date=2029-01-31 00:00:00<br>variable=cum_defaults<br>default_month=%{x}<br>value=%{y}<extra></extra>",
         "legendgroup": "2029-01-31 00:00:00",
         "line": {
          "color": "#BCBD22",
          "dash": "solid"
         },
         "marker": {
          "symbol": "circle"
         },
         "mode": "lines",
         "name": "2029-01-31 00:00:00",
         "showlegend": false,
         "type": "scattergl",
         "x": {
          "bdata": "AQIDBAUGBwgJCgsMDQ4PEBESExQVFhcY",
          "dtype": "i1"
         },
         "xaxis": "x2",
         "y": {
          "bdata": "gEkZVONYMD/gmx8pHG9EP59ALNONm0w/gEkZVONYUD8QxaKTOHpWP89prz2qpl4/z2mvPaqmXj/Paa89qqZeP4BJGVTjWGA/SAfe841pYz/gmx8pHG9kP6dZ5MjGf2c/14JnM+OKaT8HrOqd/5VrPzfVbQgcoW0/gEkZVONYcD8Y3lqJcV5xP7BynL7/Y3I//Dw92cbmcj9IB97zjWlzP0gH3vONaXM/LGbAQ+PxdD94MGFeqnR1P8T6AXlx93U/",
          "dtype": "f8"
         },
         "yaxis": "y2"
        },
        {
         "hovertemplate": "date=2029-01-31 00:00:00<br>variable=default_flag<br>default_month=%{x}<br>value=%{y}<extra></extra>",
         "legendgroup": "2029-01-31 00:00:00",
         "line": {
          "color": "#BCBD22",
          "dash": "solid"
         },
         "marker": {
          "symbol": "circle"
         },
         "mode": "lines",
         "name": "2029-01-31 00:00:00",
         "showlegend": false,
         "type": "scattergl",
         "x": {
          "bdata": "AQIDBAUGBwgJCgsMDQ4PEBESExQVFhcY",
          "dtype": "i1"
         },
         "xaxis": "x3",
         "y": {
          "bdata": "gEkZVONYMD8/7iX+VIU4P4BJGVTjWDA/gEkZVONYID8/7iX+VIU4P4BJGVTjWEA/AAAAAAAAAAAAAAAAAAAAAIBJGVTjWCA/P+4l/lSFOD+ASRlU41ggPz/uJf5UhTg/gEkZVONYMD+ASRlU41gwP4BJGVTjWDA/P+4l/lSFOD+ASRlU41gwP4BJGVTjWDA/gEkZVONYID+ASRlU41ggPwAAAAAAAAAAP+4l/lSFOD+ASRlU41ggP4BJGVTjWCA/",
          "dtype": "f8"
         },
         "yaxis": "y3"
        },
        {
         "hovertemplate": "date=2029-02-28 00:00:00<br>variable=id<br>default_month=%{x}<br>value=%{y}<extra></extra>",
         "legendgroup": "2029-02-28 00:00:00",
         "line": {
          "color": "#17BECF",
          "dash": "solid"
         },
         "marker": {
          "symbol": "circle"
         },
         "mode": "lines",
         "name": "2029-02-28 00:00:00",
         "showlegend": true,
         "type": "scattergl",
         "x": {
          "bdata": "AQIDBAUGBwgJCgsMDQ4PEBESExQVFhcY",
          "dtype": "i1"
         },
         "xaxis": "x",
         "y": {
          "bdata": "AAAAAABQv0AAAAAAAFC/QAAAAAAAUL9AAAAAAABQv0AAAAAAAFC/QAAAAAAAUL9AAAAAAABQv0AAAAAAAFC/QAAAAAAAUL9AAAAAAABQv0AAAAAAAFC/QAAAAAAAUL9AAAAAAABQv0AAAAAAAFC/QAAAAAAAUL9AAAAAAABQv0AAAAAAAFC/QAAAAAAAUL9AAAAAAABQv0AAAAAAAFC/QAAAAAAAUL9AAAAAAABQv0AAAAAAAFC/QAAAAAAAUL9A",
          "dtype": "f8"
         },
         "yaxis": "y"
        },
        {
         "hovertemplate": "date=2029-02-28 00:00:00<br>variable=cum_defaults<br>default_month=%{x}<br>value=%{y}<extra></extra>",
         "legendgroup": "2029-02-28 00:00:00",
         "line": {
          "color": "#17BECF",
          "dash": "solid"
         },
         "marker": {
          "symbol": "circle"
         },
         "mode": "lines",
         "name": "2029-02-28 00:00:00",
         "showlegend": false,
         "type": "scattergl",
         "x": {
          "bdata": "AQIDBAUGBwgJCgsMDQ4PEBESExQVFhcY",
          "dtype": "i1"
         },
         "xaxis": "x2",
         "y": {
          "bdata": "SrCr8OWGOD/oEo9IanBEP0qwq/Dlhkg/N8SAdCxlUj/6/rnEI5JaP/r+ucQjklo/+v65xCOSWj+rTciYYZ1cP9+ceYqNX2E/N8SAdCxlYj9AOpYyCXZlP/GIpAZHgWc/otey2oSMaT9TJsGuwpdrP1yc1myfqG4/hnVyoO5ZcD/fnHmKjV9xP4swff9c4nE/N8SAdCxlcj83xIB0LGVyPzx/i9Oa7XM/6BKPSGpwdD+UppK9OfN0P5Smkr0583Q/",
          "dtype": "f8"
         },
         "yaxis": "y2"
        },
        {
         "hovertemplate": "date=2029-02-28 00:00:00<br>variable=default_flag<br>default_month=%{x}<br>value=%{y}<extra></extra>",
         "legendgroup": "2029-02-28 00:00:00",
         "line": {
          "color": "#17BECF",
          "dash": "solid"
         },
         "marker": {
          "symbol": "circle"
         },
         "mode": "lines",
         "name": "2029-02-28 00:00:00",
         "showlegend": false,
         "type": "scattergl",
         "x": {
          "bdata": "AQIDBAUGBwgJCgsMDQ4PEBESExQVFhcY",
          "dtype": "i1"
         },
         "xaxis": "x3",
         "y": {
          "bdata": "SrCr8OWGOD+GdXKg7lkwP4Z1cqDuWSA/SrCr8OWGOD+GdXKg7llAPwAAAAAAAAAAAAAAAAAAAACGdXKg7lkgP0qwq/Dlhjg/hnVyoO5ZID9KsKvw5YY4P4Z1cqDuWTA/hnVyoO5ZMD+GdXKg7lkwP0qwq/Dlhjg/hnVyoO5ZMD+GdXKg7lkwP4Z1cqDuWSA/hnVyoO5ZID8AAAAAAAAAAEqwq/Dlhjg/hnVyoO5ZID+GdXKg7lkgPwAAAAAAAAAA",
          "dtype": "f8"
         },
         "yaxis": "y3"
        },
        {
         "hovertemplate": "date=2029-03-31 00:00:00<br>variable=id<br>default_month=%{x}<br>value=%{y}<extra></extra>",
         "legendgroup": "2029-03-31 00:00:00",
         "line": {
          "color": "#1F77B4",
          "dash": "solid"
         },
         "marker": {
          "symbol": "circle"
         },
         "mode": "lines",
         "name": "2029-03-31 00:00:00",
         "showlegend": true,
         "type": "scattergl",
         "x": {
          "bdata": "AQIDBAUGBwgJCgsMDQ4PEBESExQVFhcY",
          "dtype": "i1"
         },
         "xaxis": "x",
         "y": {
          "bdata": "AAAAAABNv0AAAAAAAE2/QAAAAAAATb9AAAAAAABNv0AAAAAAAE2/QAAAAAAATb9AAAAAAABNv0AAAAAAAE2/QAAAAAAATb9AAAAAAABNv0AAAAAAAE2/QAAAAAAATb9AAAAAAABNv0AAAAAAAE2/QAAAAAAATb9AAAAAAABNv0AAAAAAAE2/QAAAAAAATb9AAAAAAABNv0AAAAAAAE2/QAAAAAAATb9AAAAAAABNv0AAAAAAAE2/QAAAAAAATb9A",
          "dtype": "f8"
         },
         "yaxis": "y"
        },
        {
         "hovertemplate": "date=2029-03-31 00:00:00<br>variable=cum_defaults<br>default_month=%{x}<br>value=%{y}<extra></extra>",
         "legendgroup": "2029-03-31 00:00:00",
         "line": {
          "color": "#1F77B4",
          "dash": "solid"
         },
         "marker": {
          "symbol": "circle"
         },
         "mode": "lines",
         "name": "2029-03-31 00:00:00",
         "showlegend": false,
         "type": "scattergl",
         "x": {
          "bdata": "AQIDBAUGBwgJCgsMDQ4PEBESExQVFhcY",
          "dtype": "i1"
         },
         "xaxis": "x2",
         "y": {
          "bdata": "fGAE039bMD+6kIa8P4k4P7qQhrw/iUg/m3jFx19yVD+beMXHX3JUP5t4xcdfclQ/qgQmws99Vj/YqEexH6BcP+g0qKuPq14/i+xkze9mYj+beMXHX3JkP6oEJsLPfWY/upCGvD+JaD/RYhe0Z5prP+Dud67XpW0/8HrYqEexbz98YATTf1twP4CDnNFb3nA/gIOc0VvecD+L7GTN72ZyP48P/cvL6XI/kzKVyqdscz+TMpXKp2xzP5MylcqnbHM/",
          "dtype": "f8"
         },
         "yaxis": "y2"
        },
        {
         "hovertemplate": "date=2029-03-31 00:00:00<br>variable=default_flag<br>default_month=%{x}<br>value=%{y}<extra></extra>",
         "legendgroup": "2029-03-31 00:00:00",
         "line": {
          "color": "#1F77B4",
          "dash": "solid"
         },
         "marker": {
          "symbol": "circle"
         },
         "mode": "lines",
         "name": "2029-03-31 00:00:00",
         "showlegend": false,
         "type": "scattergl",
         "x": {
          "bdata": "AQIDBAUGBwgJCgsMDQ4PEBESExQVFhcY",
          "dtype": "i1"
         },
         "xaxis": "x3",
         "y": {
          "bdata": "fGAE039bMD98YATTf1sgP7qQhrw/iTg/fGAE039bQD8AAAAAAAAAAAAAAAAAAAAAfGAE039bID+6kIa8P4k4P3xgBNN/WyA/upCGvD+JOD98YATTf1swP3xgBNN/WzA/fGAE039bMD+6kIa8P4k4P3xgBNN/WzA/fGAE039bMD98YATTf1sgP3xgBNN/WyA/AAAAAAAAAAC6kIa8P4k4P3xgBNN/WyA/fGAE039bID8AAAAAAAAAAAAAAAAAAAAA",
          "dtype": "f8"
         },
         "yaxis": "y3"
        },
        {
         "hovertemplate": "date=2029-04-30 00:00:00<br>variable=id<br>default_month=%{x}<br>value=%{y}<extra></extra>",
         "legendgroup": "2029-04-30 00:00:00",
         "line": {
          "color": "#FF7F0E",
          "dash": "solid"
         },
         "marker": {
          "symbol": "circle"
         },
         "mode": "lines",
         "name": "2029-04-30 00:00:00",
         "showlegend": true,
         "type": "scattergl",
         "x": {
          "bdata": "AQIDBAUGBwgJCgsMDQ4PEBESExQVFhcY",
          "dtype": "i1"
         },
         "xaxis": "x",
         "y": {
          "bdata": "AAAAAABLv0AAAAAAAEu/QAAAAAAAS79AAAAAAABLv0AAAAAAAEu/QAAAAAAAS79AAAAAAABLv0AAAAAAAEu/QAAAAAAAS79AAAAAAABLv0AAAAAAAEu/QAAAAAAAS79AAAAAAABLv0AAAAAAAEu/QAAAAAAAS79AAAAAAABLv0AAAAAAAEu/QAAAAAAAS79AAAAAAABLv0AAAAAAAEu/QAAAAAAAS79AAAAAAABLv0AAAAAAAEu/QAAAAAAAS79A",
          "dtype": "f8"
         },
         "yaxis": "y"
        },
        {
         "hovertemplate": "date=2029-04-30 00:00:00<br>variable=cum_defaults<br>default_month=%{x}<br>value=%{y}<extra></extra>",
         "legendgroup": "2029-04-30 00:00:00",
         "line": {
          "color": "#FF7F0E",
          "dash": "solid"
         },
         "marker": {
          "symbol": "circle"
         },
         "mode": "lines",
         "name": "2029-04-30 00:00:00",
         "showlegend": false,
         "type": "scattergl",
         "x": {
          "bdata": "AQIDBAUGBwgJCgsMDQ4PEBESExQVFhcY",
          "dtype": "i1"
         },
         "xaxis": "x2",
         "y": {
          "bdata": "iKXMdItcID+Ipcx0i1xAP4ilzHSLXFA/iKXMdItcUD+Ipcx0i1xQPzk6ZuMcaFI/TPgyL9GKWD/9jMydYpZaP4ilzHSLXGA/OTpm4xxoYj/qzv9RrnNkP5tjmcA/f2Y/pcJ/5pmQaT9WVxlVK5xrPwfsssO8p20/YLb/eoWtbj+4gEwyTrNvP7iATDJOs28/4W8ZLFRicT8N1b+HOOVxPzk6ZuMcaHI/OTpm4xxocj85OmbjHGhyP2afDD8B63I/",
          "dtype": "f8"
         },
         "yaxis": "y2"
        },
        {
         "hovertemplate": "date=2029-04-30 00:00:00<br>variable=default_flag<br>default_month=%{x}<br>value=%{y}<extra></extra>",
         "legendgroup": "2029-04-30 00:00:00",
         "line": {
          "color": "#FF7F0E",
          "dash": "solid"
         },
         "marker": {
          "symbol": "circle"
         },
         "mode": "lines",
         "name": "2029-04-30 00:00:00",
         "showlegend": false,
         "type": "scattergl",
         "x": {
          "bdata": "AQIDBAUGBwgJCgsMDQ4PEBESExQVFhcY",
          "dtype": "i1"
         },
         "xaxis": "x3",
         "y": {
          "bdata": "iKXMdItcID9M+DIv0Yo4P4ilzHSLXEA/AAAAAAAAAAAAAAAAAAAAAIilzHSLXCA/TPgyL9GKOD+Ipcx0i1wgP0z4Mi/Rijg/iKXMdItcMD+Ipcx0i1wwP4ilzHSLXDA/TPgyL9GKOD+Ipcx0i1wwP4ilzHSLXDA/iKXMdItcID+Ipcx0i1wgPwAAAAAAAAAATPgyL9GKOD+Ipcx0i1wgP4ilzHSLXCA/AAAAAAAAAAAAAAAAAAAAAIilzHSLXCA/",
          "dtype": "f8"
         },
         "yaxis": "y3"
        },
        {
         "hovertemplate": "date=2029-05-31 00:00:00<br>variable=id<br>default_month=%{x}<br>value=%{y}<extra></extra>",
         "legendgroup": "2029-05-31 00:00:00",
         "line": {
          "color": "#2CA02C",
          "dash": "solid"
         },
         "marker": {
          "symbol": "circle"
         },
         "mode": "lines",
         "name": "2029-05-31 00:00:00",
         "showlegend": true,
         "type": "scattergl",
         "x": {
          "bdata": "AQIDBAUGBwgJCgsMDQ4PEBESExQVFhcY",
          "dtype": "i1"
         },
         "xaxis": "x",
         "y": {
          "bdata": "AAAAAABKv0AAAAAAAEq/QAAAAAAASr9AAAAAAABKv0AAAAAAAEq/QAAAAAAASr9AAAAAAABKv0AAAAAAAEq/QAAAAAAASr9AAAAAAABKv0AAAAAAAEq/QAAAAAAASr9AAAAAAABKv0AAAAAAAEq/QAAAAAAASr9AAAAAAABKv0AAAAAAAEq/QAAAAAAASr9AAAAAAABKv0AAAAAAAEq/QAAAAAAASr9AAAAAAABKv0AAAAAAAEq/QAAAAAAASr9A",
          "dtype": "f8"
         },
         "yaxis": "y"
        },
        {
         "hovertemplate": "date=2029-05-31 00:00:00<br>variable=cum_defaults<br>default_month=%{x}<br>value=%{y}<extra></extra>",
         "legendgroup": "2029-05-31 00:00:00",
         "line": {
          "color": "#2CA02C",
          "dash": "solid"
         },
         "marker": {
          "symbol": "circle"
         },
         "mode": "lines",
         "name": "2029-05-31 00:00:00",
         "showlegend": false,
         "type": "scattergl",
         "x": {
          "bdata": "AQIDBAUGBwgJCgsMDQ4PEBESExQVFhcY",
          "dtype": "i1"
         },
         "xaxis": "x2",
         "y": {
          "bdata": "iQHI+5mLOD8gV2lQ3qJMPyBXaVDeokw/IFdpUN6iTD9bVoVSEV1QP71Wd9H3f1Y/iQHI+5mLWD/rAbp6gK5eP8GrrWfiYmE/jFb+kYRuYz9YAU+8JnplP4kByPuZi2g/VKwYJjyXaj8gV2lQ3qJsP4WskWWvqG0/6wG6eoCubj/rAbp6gK5uPw6BGd3533A/wautZ+JicT901kHyyuVxP3TWQfLK5XE/dNZB8srlcT8nAdZ8s2hyPycB1nyzaHI/",
          "dtype": "f8"
         },
         "yaxis": "y2"
        },
        {
         "hovertemplate": "date=2029-05-31 00:00:00<br>variable=default_flag<br>default_month=%{x}<br>value=%{y}<extra></extra>",
         "legendgroup": "2029-05-31 00:00:00",
         "line": {
          "color": "#2CA02C",
          "dash": "solid"
         },
         "marker": {
          "symbol": "circle"
         },
         "mode": "lines",
         "name": "2029-05-31 00:00:00",
         "showlegend": false,
         "type": "scattergl",
         "x": {
          "bdata": "AQIDBAUGBwgJCgsMDQ4PEBESExQVFhcY",
          "dtype": "i1"
         },
         "xaxis": "x3",
         "y": {
          "bdata": "iQHI+5mLOD9bVoVSEV1APwAAAAAAAAAAAAAAAAAAAABbVoVSEV0gP4kByPuZizg/W1aFUhFdID+JAcj7mYs4P1tWhVIRXTA/W1aFUhFdMD9bVoVSEV0wP4kByPuZizg/W1aFUhFdMD9bVoVSEV0wP1tWhVIRXSA/W1aFUhFdID8AAAAAAAAAAIkByPuZizg/W1aFUhFdID9bVoVSEV0gPwAAAAAAAAAAAAAAAAAAAABbVoVSEV0gPwAAAAAAAAAA",
          "dtype": "f8"
         },
         "yaxis": "y3"
        },
        {
         "hovertemplate": "date=2029-06-30 00:00:00<br>variable=id<br>default_month=%{x}<br>value=%{y}<extra></extra>",
         "legendgroup": "2029-06-30 00:00:00",
         "line": {
          "color": "#D62728",
          "dash": "solid"
         },
         "marker": {
          "symbol": "circle"
         },
         "mode": "lines",
         "name": "2029-06-30 00:00:00",
         "showlegend": true,
         "type": "scattergl",
         "x": {
          "bdata": "AQIDBAUGBwgJCgsMDQ4PEBESExQVFhcY",
          "dtype": "i1"
         },
         "xaxis": "x",
         "y": {
          "bdata": "AAAAAABHv0AAAAAAAEe/QAAAAAAAR79AAAAAAABHv0AAAAAAAEe/QAAAAAAAR79AAAAAAABHv0AAAAAAAEe/QAAAAAAAR79AAAAAAABHv0AAAAAAAEe/QAAAAAAAR79AAAAAAABHv0AAAAAAAEe/QAAAAAAAR79AAAAAAABHv0AAAAAAAEe/QAAAAAAAR79AAAAAAABHv0AAAAAAAEe/QAAAAAAAR79AAAAAAABHv0AAAAAAAEe/QAAAAAAAR79A",
          "dtype": "f8"
         },
         "yaxis": "y"
        },
        {
         "hovertemplate": "date=2029-06-30 00:00:00<br>variable=cum_defaults<br>default_month=%{x}<br>value=%{y}<extra></extra>",
         "legendgroup": "2029-06-30 00:00:00",
         "line": {
          "color": "#D62728",
          "dash": "solid"
         },
         "marker": {
          "symbol": "circle"
         },
         "mode": "lines",
         "name": "2029-06-30 00:00:00",
         "showlegend": false,
         "type": "scattergl",
         "x": {
          "bdata": "AQIDBAUGBwgJCgsMDQ4PEBESExQVFhcY",
          "dtype": "i1"
         },
         "xaxis": "x2",
         "y": {
          "bdata": "W3oLH6NeQD9begsfo15AP1t6Cx+jXkA/8ljO5kt2RD9begsfo15QP6fp7IJ3alI/iTeRrvSNWD8gFlR2naVcP1t6Cx+jXmA/p+nsgndqYj+YEL8YNnxlP+N/oHwKiGc/L++B4N6TaT/UpnISyZlqP3peY0Szn2s/el5jRLOfaz9rhTXacbFuPxE9Jgxct28/W3oLH6NecD9begsfo15wP1t6Cx+jXnA/LtYDOJjhcD8u1gM4mOFwPwEy/FCNZHE/",
          "dtype": "f8"
         },
         "yaxis": "y2"
        },
        {
         "hovertemplate": "date=2029-06-30 00:00:00<br>variable=default_flag<br>default_month=%{x}<br>value=%{y}<extra></extra>",
         "legendgroup": "2029-06-30 00:00:00",
         "line": {
          "color": "#D62728",
          "dash": "solid"
         },
         "marker": {
          "symbol": "circle"
         },
         "mode": "lines",
         "name": "2029-06-30 00:00:00",
         "showlegend": false,
         "type": "scattergl",
         "x": {
          "bdata": "AQIDBAUGBwgJCgsMDQ4PEBESExQVFhcY",
          "dtype": "i1"
         },
         "xaxis": "x3",
         "y": {
          "bdata": "W3oLH6NeQD8AAAAAAAAAAAAAAAAAAAAAW3oLH6NeID+JN5Gu9I04P1t6Cx+jXiA/iTeRrvSNOD9begsfo14wP1t6Cx+jXjA/W3oLH6NeMD+JN5Gu9I04P1t6Cx+jXjA/W3oLH6NeMD9begsfo14gP1t6Cx+jXiA/AAAAAAAAAACJN5Gu9I04P1t6Cx+jXiA/W3oLH6NeID8AAAAAAAAAAAAAAAAAAAAAW3oLH6NeID8AAAAAAAAAAFt6Cx+jXiA/",
          "dtype": "f8"
         },
         "yaxis": "y3"
        },
        {
         "hovertemplate": "date=2029-07-31 00:00:00<br>variable=id<br>default_month=%{x}<br>value=%{y}<extra></extra>",
         "legendgroup": "2029-07-31 00:00:00",
         "line": {
          "color": "#9467BD",
          "dash": "solid"
         },
         "marker": {
          "symbol": "circle"
         },
         "mode": "lines",
         "name": "2029-07-31 00:00:00",
         "showlegend": true,
         "type": "scattergl",
         "x": {
          "bdata": "AQIDBAUGBwgJCgsMDQ4PEBESExQVFhcY",
          "dtype": "i1"
         },
         "xaxis": "x",
         "y": {
          "bdata": "AAAAAABDv0AAAAAAAEO/QAAAAAAAQ79AAAAAAABDv0AAAAAAAEO/QAAAAAAAQ79AAAAAAABDv0AAAAAAAEO/QAAAAAAAQ79AAAAAAABDv0AAAAAAAEO/QAAAAAAAQ79AAAAAAABDv0AAAAAAAEO/QAAAAAAAQ79AAAAAAABDv0AAAAAAAEO/QAAAAAAAQ79AAAAAAABDv0AAAAAAAEO/QAAAAAAAQ79AAAAAAABDv0AAAAAAAEO/QAAAAAAAQ79A",
          "dtype": "f8"
         },
         "yaxis": "y"
        },
        {
         "hovertemplate": "date=2029-07-31 00:00:00<br>variable=cum_defaults<br>default_month=%{x}<br>value=%{y}<extra></extra>",
         "legendgroup": "2029-07-31 00:00:00",
         "line": {
          "color": "#9467BD",
          "dash": "solid"
         },
         "marker": {
          "symbol": "circle"
         },
         "mode": "lines",
         "name": "2029-07-31 00:00:00",
         "showlegend": false,
         "type": "scattergl",
         "x": {
          "bdata": "AQIDBAUGBwgJCgsMDQ4PEBESExQVFhcY",
          "dtype": "i1"
         },
         "xaxis": "x2",
         "y": {
          "bdata": "AAAAAAAAAAAAAAAAAAAAABl+XlK7YCA/GX5eUrtgQD+fHfYm6nhEPxl+XlK7YFA/nx32Jup4VD8lvY37GJFYP6tcJdBHqVw/+mWEB8dmYT+9NdBx3nJjP4AFHNz1fmU/Yu1BkQGFZj9E1WdGDYtnP0TVZ0YNi2c/6IzZZTCdaj/KdP8aPKNrP6tcJdBHqWw/q1wl0EepbD+rXCXQR6lsP41ES4VTr20/jURLhVOvbT9uLHE6X7VuP24scTpftW4/",
          "dtype": "f8"
         },
         "yaxis": "y2"
        },
        {
         "hovertemplate": "date=2029-07-31 00:00:00<br>variable=default_flag<br>default_month=%{x}<br>value=%{y}<extra></extra>",
         "legendgroup": "2029-07-31 00:00:00",
         "line": {
          "color": "#9467BD",
          "dash": "solid"
         },
         "marker": {
          "symbol": "circle"
         },
         "mode": "lines",
         "name": "2029-07-31 00:00:00",
         "showlegend": false,
         "type": "scattergl",
         "x": {
          "bdata": "AQIDBAUGBwgJCgsMDQ4PEBESExQVFhcY",
          "dtype": "i1"
         },
         "xaxis": "x3",
         "y": {
          "bdata": "AAAAAAAAAAAAAAAAAAAAABl+XlK7YCA/Jb2N+xiROD8Zfl5Su2AgPyW9jfsYkTg/GX5eUrtgMD8Zfl5Su2AwPxl+XlK7YDA/Jb2N+xiROD8Zfl5Su2AwPxl+XlK7YDA/GX5eUrtgID8Zfl5Su2AgPwAAAAAAAAAAJb2N+xiROD8Zfl5Su2AgPxl+XlK7YCA/AAAAAAAAAAAAAAAAAAAAABl+XlK7YCA/AAAAAAAAAAAZfl5Su2AgPwAAAAAAAAAA",
          "dtype": "f8"
         },
         "yaxis": "y3"
        },
        {
         "hovertemplate": "date=2029-08-31 00:00:00<br>variable=id<br>default_month=%{x}<br>value=%{y}<extra></extra>",
         "legendgroup": "2029-08-31 00:00:00",
         "line": {
          "color": "#8C564B",
          "dash": "solid"
         },
         "marker": {
          "symbol": "circle"
         },
         "mode": "lines",
         "name": "2029-08-31 00:00:00",
         "showlegend": true,
         "type": "scattergl",
         "x": {
          "bdata": "AQIDBAUGBwgJCgsMDQ4PEBESExQVFhcY",
          "dtype": "i1"
         },
         "xaxis": "x",
         "y": {
          "bdata": "AAAAAABDv0AAAAAAAEO/QAAAAAAAQ79AAAAAAABDv0AAAAAAAEO/QAAAAAAAQ79AAAAAAABDv0AAAAAAAEO/QAAAAAAAQ79AAAAAAABDv0AAAAAAAEO/QAAAAAAAQ79AAAAAAABDv0AAAAAAAEO/QAAAAAAAQ79AAAAAAABDv0AAAAAAAEO/QAAAAAAAQ79AAAAAAABDv0AAAAAAAEO/QAAAAAAAQ79AAAAAAABDv0AAAAAAAEO/QAAAAAAAQ79A",
          "dtype": "f8"
         },
         "yaxis": "y"
        },
        {
         "hovertemplate": "date=2029-08-31 00:00:00<br>variable=cum_defaults<br>default_month=%{x}<br>value=%{y}<extra></extra>",
         "legendgroup": "2029-08-31 00:00:00",
         "line": {
          "color": "#8C564B",
          "dash": "solid"
         },
         "marker": {
          "symbol": "circle"
         },
         "mode": "lines",
         "name": "2029-08-31 00:00:00",
         "showlegend": false,
         "type": "scattergl",
         "x": {
          "bdata": "AQIDBAUGBwgJCgsMDQ4PEBESExQVFhcY",
          "dtype": "i1"
         },
         "xaxis": "x2",
         "y": {
          "bdata": "AAAAAAAAAAAZfl5Su2AgPxl+XlK7YEA/nx32Jup4RD8Zfl5Su2BQP58d9ibqeFQ/Jb2N+xiRWD+rXCXQR6lcP/plhAfHZmE/vTXQcd5yYz+ABRzc9X5lP2LtQZEBhWY/RNVnRg2LZz9E1WdGDYtnP+iM2WUwnWo/ynT/Gjyjaz+rXCXQR6lsP6tcJdBHqWw/q1wl0EepbD+NREuFU69tP41ES4VTr20/bixxOl+1bj9uLHE6X7VuP24scTpftW4/",
          "dtype": "f8"
         },
         "yaxis": "y2"
        },
        {
         "hovertemplate": "date=2029-08-31 00:00:00<br>variable=default_flag<br>default_month=%{x}<br>value=%{y}<extra></extra>",
         "legendgroup": "2029-08-31 00:00:00",
         "line": {
          "color": "#8C564B",
          "dash": "solid"
         },
         "marker": {
          "symbol": "circle"
         },
         "mode": "lines",
         "name": "2029-08-31 00:00:00",
         "showlegend": false,
         "type": "scattergl",
         "x": {
          "bdata": "AQIDBAUGBwgJCgsMDQ4PEBESExQVFhcY",
          "dtype": "i1"
         },
         "xaxis": "x3",
         "y": {
          "bdata": "AAAAAAAAAAAZfl5Su2AgPyW9jfsYkTg/GX5eUrtgID8lvY37GJE4Pxl+XlK7YDA/GX5eUrtgMD8Zfl5Su2AwPyW9jfsYkTg/GX5eUrtgMD8Zfl5Su2AwPxl+XlK7YCA/GX5eUrtgID8AAAAAAAAAACW9jfsYkTg/GX5eUrtgID8Zfl5Su2AgPwAAAAAAAAAAAAAAAAAAAAAZfl5Su2AgPwAAAAAAAAAAGX5eUrtgID8AAAAAAAAAAAAAAAAAAAAA",
          "dtype": "f8"
         },
         "yaxis": "y3"
        },
        {
         "hovertemplate": "date=2029-09-30 00:00:00<br>variable=id<br>default_month=%{x}<br>value=%{y}<extra></extra>",
         "legendgroup": "2029-09-30 00:00:00",
         "line": {
          "color": "#E377C2",
          "dash": "solid"
         },
         "marker": {
          "symbol": "circle"
         },
         "mode": "lines",
         "name": "2029-09-30 00:00:00",
         "showlegend": true,
         "type": "scattergl",
         "x": {
          "bdata": "AQIDBAUGBwgJCgsMDQ4PEBESExQVFhcY",
          "dtype": "i1"
         },
         "xaxis": "x",
         "y": {
          "bdata": "AAAAAABDv0AAAAAAAEO/QAAAAAAAQ79AAAAAAABDv0AAAAAAAEO/QAAAAAAAQ79AAAAAAABDv0AAAAAAAEO/QAAAAAAAQ79AAAAAAABDv0AAAAAAAEO/QAAAAAAAQ79AAAAAAABDv0AAAAAAAEO/QAAAAAAAQ79AAAAAAABDv0AAAAAAAEO/QAAAAAAAQ79AAAAAAABDv0AAAAAAAEO/QAAAAAAAQ79AAAAAAABDv0AAAAAAAEO/QAAAAAAAQ79A",
          "dtype": "f8"
         },
         "yaxis": "y"
        },
        {
         "hovertemplate": "date=2029-09-30 00:00:00<br>variable=cum_defaults<br>default_month=%{x}<br>value=%{y}<extra></extra>",
         "legendgroup": "2029-09-30 00:00:00",
         "line": {
          "color": "#E377C2",
          "dash": "solid"
         },
         "marker": {
          "symbol": "circle"
         },
         "mode": "lines",
         "name": "2029-09-30 00:00:00",
         "showlegend": false,
         "type": "scattergl",
         "x": {
          "bdata": "AQIDBAUGBwgJCgsMDQ4PEBESExQVFhcY",
          "dtype": "i1"
         },
         "xaxis": "x2",
         "y": {
          "bdata": "GX5eUrtgID8Zfl5Su2BAP58d9ibqeEQ/GX5eUrtgUD+fHfYm6nhUPyW9jfsYkVg/q1wl0EepXD/6ZYQHx2ZhP7010HHecmM/gAUc3PV+ZT9i7UGRAYVmP0TVZ0YNi2c/RNVnRg2LZz/ojNllMJ1qP8p0/xo8o2s/q1wl0EepbD+rXCXQR6lsP6tcJdBHqWw/jURLhVOvbT+NREuFU69tP24scTpftW4/bixxOl+1bj9uLHE6X7VuP1AUl+9qu28/",
          "dtype": "f8"
         },
         "yaxis": "y2"
        },
        {
         "hovertemplate": "date=2029-09-30 00:00:00<br>variable=default_flag<br>default_month=%{x}<br>value=%{y}<extra></extra>",
         "legendgroup": "2029-09-30 00:00:00",
         "line": {
          "color": "#E377C2",
          "dash": "solid"
         },
         "marker": {
          "symbol": "circle"
         },
         "mode": "lines",
         "name": "2029-09-30 00:00:00",
         "showlegend": false,
         "type": "scattergl",
         "x": {
          "bdata": "AQIDBAUGBwgJCgsMDQ4PEBESExQVFhcY",
          "dtype": "i1"
         },
         "xaxis": "x3",
         "y": {
          "bdata": "GX5eUrtgID8lvY37GJE4Pxl+XlK7YCA/Jb2N+xiROD8Zfl5Su2AwPxl+XlK7YDA/GX5eUrtgMD8lvY37GJE4Pxl+XlK7YDA/GX5eUrtgMD8Zfl5Su2AgPxl+XlK7YCA/AAAAAAAAAAAlvY37GJE4Pxl+XlK7YCA/GX5eUrtgID8AAAAAAAAAAAAAAAAAAAAAGX5eUrtgID8AAAAAAAAAABl+XlK7YCA/AAAAAAAAAAAAAAAAAAAAABl+XlK7YCA/",
          "dtype": "f8"
         },
         "yaxis": "y3"
        },
        {
         "hovertemplate": "date=2029-10-31 00:00:00<br>variable=id<br>default_month=%{x}<br>value=%{y}<extra></extra>",
         "legendgroup": "2029-10-31 00:00:00",
         "line": {
          "color": "#7F7F7F",
          "dash": "solid"
         },
         "marker": {
          "symbol": "circle"
         },
         "mode": "lines",
         "name": "2029-10-31 00:00:00",
         "showlegend": true,
         "type": "scattergl",
         "x": {
          "bdata": "AQIDBAUGBwgJCgsMDQ4PEBESExQVFhcY",
          "dtype": "i1"
         },
         "xaxis": "x",
         "y": {
          "bdata": "AAAAAABCv0AAAAAAAEK/QAAAAAAAQr9AAAAAAABCv0AAAAAAAEK/QAAAAAAAQr9AAAAAAABCv0AAAAAAAEK/QAAAAAAAQr9AAAAAAABCv0AAAAAAAEK/QAAAAAAAQr9AAAAAAABCv0AAAAAAAEK/QAAAAAAAQr9AAAAAAABCv0AAAAAAAEK/QAAAAAAAQr9AAAAAAABCv0AAAAAAAEK/QAAAAAAAQr9AAAAAAABCv0AAAAAAAEK/QAAAAAAAQr9A",
          "dtype": "f8"
         },
         "yaxis": "y"
        },
        {
         "hovertemplate": "date=2029-10-31 00:00:00<br>variable=cum_defaults<br>default_month=%{x}<br>value=%{y}<extra></extra>",
         "legendgroup": "2029-10-31 00:00:00",
         "line": {
          "color": "#7F7F7F",
          "dash": "solid"
         },
         "marker": {
          "symbol": "circle"
         },
         "mode": "lines",
         "name": "2029-10-31 00:00:00",
         "showlegend": false,
         "type": "scattergl",
         "x": {
          "bdata": "AQIDBAUGBwgJCgsMDQ4PEBESExQVFhcY",
          "dtype": "i1"
         },
         "xaxis": "x2",
         "y": {
          "bdata": "rNn2LuKROD8ekaR0QWFAP/T9H4wyqkw/QSM5o2ltUj+JR2IAuoVWP9Bri10Knlo/HpGkdEFhYD9BIzmjaW1iP2W1zdGReWQ/d/4X6aV/ZT+JR2IAuoVmP4lHYgC6hWY/viJBRvaXaT/Qa4tdCp5qP+K01XQepGs/4rTVdB6kaz/itNV0HqRrP/T9H4wyqmw/9P0fjDKqbD8GR2qjRrBtPwZHaqNGsG0/Bkdqo0awbT8YkLS6WrZuPynZ/tFuvG8/",
          "dtype": "f8"
         },
         "yaxis": "y2"
        },
        {
         "hovertemplate": "date=2029-10-31 00:00:00<br>variable=default_flag<br>default_month=%{x}<br>value=%{y}<extra></extra>",
         "legendgroup": "2029-10-31 00:00:00",
         "line": {
          "color": "#7F7F7F",
          "dash": "solid"
         },
         "marker": {
          "symbol": "circle"
         },
         "mode": "lines",
         "name": "2029-10-31 00:00:00",
         "showlegend": false,
         "type": "scattergl",
         "x": {
          "bdata": "AQIDBAUGBwgJCgsMDQ4PEBESExQVFhcY",
          "dtype": "i1"
         },
         "xaxis": "x3",
         "y": {
          "bdata": "rNn2LuKROD8ekaR0QWEgP6zZ9i7ikTg/HpGkdEFhMD8ekaR0QWEwPx6RpHRBYTA/rNn2LuKROD8ekaR0QWEwPx6RpHRBYTA/HpGkdEFhID8ekaR0QWEgPwAAAAAAAAAArNn2LuKROD8ekaR0QWEgPx6RpHRBYSA/AAAAAAAAAAAAAAAAAAAAAB6RpHRBYSA/AAAAAAAAAAAekaR0QWEgPwAAAAAAAAAAAAAAAAAAAAAekaR0QWEgPx6RpHRBYSA/",
          "dtype": "f8"
         },
         "yaxis": "y3"
        },
        {
         "hovertemplate": "date=2029-11-30 00:00:00<br>variable=id<br>default_month=%{x}<br>value=%{y}<extra></extra>",
         "legendgroup": "2029-11-30 00:00:00",
         "line": {
          "color": "#BCBD22",
          "dash": "solid"
         },
         "marker": {
          "symbol": "circle"
         },
         "mode": "lines",
         "name": "2029-11-30 00:00:00",
         "showlegend": true,
         "type": "scattergl",
         "x": {
          "bdata": "AQIDBAUGBwgJCgsMDQ4PEBESExQVFhcY",
          "dtype": "i1"
         },
         "xaxis": "x",
         "y": {
          "bdata": "AAAAAAA/v0AAAAAAAD+/QAAAAAAAP79AAAAAAAA/v0AAAAAAAD+/QAAAAAAAP79AAAAAAAA/v0AAAAAAAD+/QAAAAAAAP79AAAAAAAA/v0AAAAAAAD+/QAAAAAAAP79AAAAAAAA/v0AAAAAAAD+/QAAAAAAAP79AAAAAAAA/v0AAAAAAAD+/QAAAAAAAP79AAAAAAAA/v0AAAAAAAD+/QAAAAAAAP79AAAAAAAA/v0AAAAAAAD+/QAAAAAAAP79A",
          "dtype": "f8"
         },
         "yaxis": "y"
        },
        {
         "hovertemplate": "date=2029-11-30 00:00:00<br>variable=cum_defaults<br>default_month=%{x}<br>value=%{y}<extra></extra>",
         "legendgroup": "2029-11-30 00:00:00",
         "line": {
          "color": "#BCBD22",
          "dash": "solid"
         },
         "marker": {
          "symbol": "circle"
         },
         "mode": "lines",
         "name": "2029-11-30 00:00:00",
         "showlegend": false,
         "type": "scattergl",
         "x": {
          "bdata": "AQIDBAUGBwgJCgsMDQ4PEBESExQVFhcY",
          "dtype": "i1"
         },
         "xaxis": "x2",
         "y": {
          "bdata": "1lX6DtRiID/WVfoO1GJAP8GAdxY+lEg/1lX6DtRiUD9L67gSiXtUP3vLVpiYoFo/8WAVnE25Xj8z++lPAWlhP5Cg2ZAub2I/7kXJ0Vt1Yz/uRcnRW3VjPwY2mJTjh2Y/Y9uH1RCOZz/BgHcWPpRoP8GAdxY+lGg/wYB3Fj6UaD8eJmdXa5ppPx4mZ1drmmk/e8tWmJigaj97y1aYmKBqP3vLVpiYoGo/2XBG2cWmaz82FjYa86xsP5O7JVsgs20/",
          "dtype": "f8"
         },
         "yaxis": "y2"
        },
        {
         "hovertemplate": "date=2029-11-30 00:00:00<br>variable=default_flag<br>default_month=%{x}<br>value=%{y}<extra></extra>",
         "legendgroup": "2029-11-30 00:00:00",
         "line": {
          "color": "#BCBD22",
          "dash": "solid"
         },
         "marker": {
          "symbol": "circle"
         },
         "mode": "lines",
         "name": "2029-11-30 00:00:00",
         "showlegend": false,
         "type": "scattergl",
         "x": {
          "bdata": "AQIDBAUGBwgJCgsMDQ4PEBESExQVFhcY",
          "dtype": "i1"
         },
         "xaxis": "x3",
         "y": {
          "bdata": "1lX6DtRiID/BgHcWPpQ4P9ZV+g7UYjA/1lX6DtRiMD/WVfoO1GIwP8GAdxY+lDg/1lX6DtRiMD/WVfoO1GIwP9ZV+g7UYiA/1lX6DtRiID8AAAAAAAAAAMGAdxY+lDg/1lX6DtRiID/WVfoO1GIgPwAAAAAAAAAAAAAAAAAAAADWVfoO1GIgPwAAAAAAAAAA1lX6DtRiID8AAAAAAAAAAAAAAAAAAAAA1lX6DtRiID/WVfoO1GIgP9ZV+g7UYiA/",
          "dtype": "f8"
         },
         "yaxis": "y3"
        },
        {
         "hovertemplate": "date=2029-12-31 00:00:00<br>variable=id<br>default_month=%{x}<br>value=%{y}<extra></extra>",
         "legendgroup": "2029-12-31 00:00:00",
         "line": {
          "color": "#17BECF",
          "dash": "solid"
         },
         "marker": {
          "symbol": "circle"
         },
         "mode": "lines",
         "name": "2029-12-31 00:00:00",
         "showlegend": true,
         "type": "scattergl",
         "x": {
          "bdata": "AQIDBAUGBwgJCgsMDQ4PEBESExQVFhcY",
          "dtype": "i1"
         },
         "xaxis": "x",
         "y": {
          "bdata": "AAAAAAA+v0AAAAAAAD6/QAAAAAAAPr9AAAAAAAA+v0AAAAAAAD6/QAAAAAAAPr9AAAAAAAA+v0AAAAAAAD6/QAAAAAAAPr9AAAAAAAA+v0AAAAAAAD6/QAAAAAAAPr9AAAAAAAA+v0AAAAAAAD6/QAAAAAAAPr9AAAAAAAA+v0AAAAAAAD6/QAAAAAAAPr9AAAAAAAA+v0AAAAAAAD6/QAAAAAAAPr9AAAAAAAA+v0AAAAAAAD6/QAAAAAAAPr9A",
          "dtype": "f8"
         },
         "yaxis": "y"
        },
        {
         "hovertemplate": "date=2029-12-31 00:00:00<br>variable=cum_defaults<br>default_month=%{x}<br>value=%{y}<extra></extra>",
         "legendgroup": "2029-12-31 00:00:00",
         "line": {
          "color": "#17BECF",
          "dash": "solid"
         },
         "marker": {
          "symbol": "circle"
         },
         "mode": "lines",
         "name": "2029-12-31 00:00:00",
         "showlegend": false,
         "type": "scattergl",
         "x": {
          "bdata": "AQIDBAUGBwgJCgsMDQ4PEBESExQVFhcY",
          "dtype": "i1"
         },
         "xaxis": "x2",
         "y": {
          "bdata": "NkhofQeVOD+CkYHoMHxEP+n+ThLerUw/KDYOnsVvUj82SGh9B5VYP+n+ThLerVw/z9qaU1pjYD97iNT4j2lhPyg2Dp7Fb2I/KDYOnsVvYj8vP7uNZoJlP9zs9DKciGY/iZou2NGOZz+Jmi7Y0Y5nP4maLtjRjmc/NkhofQeVaD82SGh9B5VoP+P1oSI9m2k/4/WhIj2baT/j9aEiPZtpP5Cj28dyoWo/PFEVbainaz/p/k4S3q1sP+n+ThLerWw/",
          "dtype": "f8"
         },
         "yaxis": "y2"
        },
        {
         "hovertemplate": "date=2029-12-31 00:00:00<br>variable=default_flag<br>default_month=%{x}<br>value=%{y}<extra></extra>",
         "legendgroup": "2029-12-31 00:00:00",
         "line": {
          "color": "#17BECF",
          "dash": "solid"
         },
         "marker": {
          "symbol": "circle"
         },
         "mode": "lines",
         "name": "2029-12-31 00:00:00",
         "showlegend": false,
         "type": "scattergl",
         "x": {
          "bdata": "AQIDBAUGBwgJCgsMDQ4PEBESExQVFhcY",
          "dtype": "i1"
         },
         "xaxis": "x3",
         "y": {
          "bdata": "NkhofQeVOD/P2ppTWmMwP8/amlNaYzA/z9qaU1pjMD82SGh9B5U4P8/amlNaYzA/z9qaU1pjMD/P2ppTWmMgP8/amlNaYyA/AAAAAAAAAAA2SGh9B5U4P8/amlNaYyA/z9qaU1pjID8AAAAAAAAAAAAAAAAAAAAAz9qaU1pjID8AAAAAAAAAAM/amlNaYyA/AAAAAAAAAAAAAAAAAAAAAM/amlNaYyA/z9qaU1pjID/P2ppTWmMgPwAAAAAAAAAA",
          "dtype": "f8"
         },
         "yaxis": "y3"
        },
        {
         "hovertemplate": "date=2030-01-31 00:00:00<br>variable=id<br>default_month=%{x}<br>value=%{y}<extra></extra>",
         "legendgroup": "2030-01-31 00:00:00",
         "line": {
          "color": "#1F77B4",
          "dash": "solid"
         },
         "marker": {
          "symbol": "circle"
         },
         "mode": "lines",
         "name": "2030-01-31 00:00:00",
         "showlegend": true,
         "type": "scattergl",
         "x": {
          "bdata": "AQIDBAUGBwgJCgsMDQ4PEBESExQVFhcY",
          "dtype": "i1"
         },
         "xaxis": "x",
         "y": {
          "bdata": "AAAAAAA7v0AAAAAAADu/QAAAAAAAO79AAAAAAAA7v0AAAAAAADu/QAAAAAAAO79AAAAAAAA7v0AAAAAAADu/QAAAAAAAO79AAAAAAAA7v0AAAAAAADu/QAAAAAAAO79AAAAAAAA7v0AAAAAAADu/QAAAAAAAO79AAAAAAAA7v0AAAAAAADu/QAAAAAAAO79AAAAAAAA7v0AAAAAAADu/QAAAAAAAO79AAAAAAAA7v0AAAAAAADu/QAAAAAAAO79A",
          "dtype": "f8"
         },
         "yaxis": "y"
        },
        {
         "hovertemplate": "date=2030-01-31 00:00:00<br>variable=cum_defaults<br>default_month=%{x}<br>value=%{y}<extra></extra>",
         "legendgroup": "2030-01-31 00:00:00",
         "line": {
          "color": "#1F77B4",
          "dash": "solid"
         },
         "marker": {
          "symbol": "circle"
         },
         "mode": "lines",
         "name": "2030-01-31 00:00:00",
         "showlegend": false,
         "type": "scattergl",
         "x": {
          "bdata": "AQIDBAUGBwgJCgsMDQ4PEBESExQVFhcY",
          "dtype": "i1"
         },
         "xaxis": "x2",
         "y": {
          "bdata": "oMETVe1kMD+gwRNV7WRAP3Cinf9jl0g/1Dm2/4pxUj88KvtUxopWP6QaQKoBpFo/2JLiVJ+wXD8MC4X/PL1ePwwLhf88vV4/1Dm2/4pxYj/udQfV2XdjPwiyWKoofmQ/CLJYqih+ZD8IsliqKH5kPyLuqX93hGU/Iu6pf3eEZT88KvtUxopmPzwq+1TGimY/PCr7VMaKZj9WZkwqFZFnP3Cinf9jl2g/it7u1LKdaT+K3u7Usp1pP75WkX9Qqms/",
          "dtype": "f8"
         },
         "yaxis": "y2"
        },
        {
         "hovertemplate": "date=2030-01-31 00:00:00<br>variable=default_flag<br>default_month=%{x}<br>value=%{y}<extra></extra>",
         "legendgroup": "2030-01-31 00:00:00",
         "line": {
          "color": "#1F77B4",
          "dash": "solid"
         },
         "marker": {
          "symbol": "circle"
         },
         "mode": "lines",
         "name": "2030-01-31 00:00:00",
         "showlegend": false,
         "type": "scattergl",
         "x": {
          "bdata": "AQIDBAUGBwgJCgsMDQ4PEBESExQVFhcY",
          "dtype": "i1"
         },
         "xaxis": "x3",
         "y": {
          "bdata": "oMETVe1kMD+gwRNV7WQwP6DBE1XtZDA/cKKd/2OXOD+gwRNV7WQwP6DBE1XtZDA/oMETVe1kID+gwRNV7WQgPwAAAAAAAAAAcKKd/2OXOD+gwRNV7WQgP6DBE1XtZCA/AAAAAAAAAAAAAAAAAAAAAKDBE1XtZCA/AAAAAAAAAACgwRNV7WQgPwAAAAAAAAAAAAAAAAAAAACgwRNV7WQgP6DBE1XtZCA/oMETVe1kID8AAAAAAAAAAKDBE1XtZDA/",
          "dtype": "f8"
         },
         "yaxis": "y3"
        },
        {
         "hovertemplate": "date=2030-02-28 00:00:00<br>variable=id<br>default_month=%{x}<br>value=%{y}<extra></extra>",
         "legendgroup": "2030-02-28 00:00:00",
         "line": {
          "color": "#FF7F0E",
          "dash": "solid"
         },
         "marker": {
          "symbol": "circle"
         },
         "mode": "lines",
         "name": "2030-02-28 00:00:00",
         "showlegend": true,
         "type": "scattergl",
         "x": {
          "bdata": "AQIDBAUGBwgJCgsMDQ4PEBESExQVFhcY",
          "dtype": "i1"
         },
         "xaxis": "x",
         "y": {
          "bdata": "AAAAAAA5v0AAAAAAADm/QAAAAAAAOb9AAAAAAAA5v0AAAAAAADm/QAAAAAAAOb9AAAAAAAA5v0AAAAAAADm/QAAAAAAAOb9AAAAAAAA5v0AAAAAAADm/QAAAAAAAOb9AAAAAAAA5v0AAAAAAADm/QAAAAAAAOb9AAAAAAAA5v0AAAAAAADm/QAAAAAAAOb9AAAAAAAA5v0AAAAAAADm/QAAAAAAAOb9AAAAAAAA5v0AAAAAAADm/QAAAAAAAOb9A",
          "dtype": "f8"
         },
         "yaxis": "y"
        },
        {
         "hovertemplate": "date=2030-02-28 00:00:00<br>variable=cum_defaults<br>default_month=%{x}<br>value=%{y}<extra></extra>",
         "legendgroup": "2030-02-28 00:00:00",
         "line": {
          "color": "#FF7F0E",
          "dash": "solid"
         },
         "marker": {
          "symbol": "circle"
         },
         "mode": "lines",
         "name": "2030-02-28 00:00:00",
         "showlegend": false,
         "type": "scattergl",
         "x": {
          "bdata": "AQIDBAUGBwgJCgsMDQ4PEBESExQVFhcY",
          "dtype": "i1"
         },
         "xaxis": "x2",
         "y": {
          "bdata": "cxLAK/plMD9zEsAr+mVAP0kgkMx1skw/wRQ4cblyUj9eGSj8N4xWP6wboEH3mFg/+h0Yh7alWj/6HRiHtqVaP3MSwCv6ZWA/mhN8zllsYT/BFDhxuXJiP8EUOHG5cmI/wRQ4cblyYj/oFfQTGXljP+gV9BMZeWM/Dxewtnh/ZD8PF7C2eH9kPw8XsLZ4f2Q/NxhsWdiFZT9eGSj8N4xmP4Ua5J6Xkmc/hRrknpeSZz/THFzkVp9pP/odGIe2pWo/",
          "dtype": "f8"
         },
         "yaxis": "y2"
        },
        {
         "hovertemplate": "date=2030-02-28 00:00:00<br>variable=default_flag<br>default_month=%{x}<br>value=%{y}<extra></extra>",
         "legendgroup": "2030-02-28 00:00:00",
         "line": {
          "color": "#FF7F0E",
          "dash": "solid"
         },
         "marker": {
          "symbol": "circle"
         },
         "mode": "lines",
         "name": "2030-02-28 00:00:00",
         "showlegend": false,
         "type": "scattergl",
         "x": {
          "bdata": "AQIDBAUGBwgJCgsMDQ4PEBESExQVFhcY",
          "dtype": "i1"
         },
         "xaxis": "x3",
         "y": {
          "bdata": "cxLAK/plMD9zEsAr+mUwP6wboEH3mDg/cxLAK/plMD9zEsAr+mUwP3MSwCv6ZSA/cxLAK/plID8AAAAAAAAAAKwboEH3mDg/cxLAK/plID9zEsAr+mUgPwAAAAAAAAAAAAAAAAAAAABzEsAr+mUgPwAAAAAAAAAAcxLAK/plID8AAAAAAAAAAAAAAAAAAAAAcxLAK/plID9zEsAr+mUgP3MSwCv6ZSA/AAAAAAAAAABzEsAr+mUwP3MSwCv6ZSA/",
          "dtype": "f8"
         },
         "yaxis": "y3"
        },
        {
         "hovertemplate": "date=2030-03-31 00:00:00<br>variable=id<br>default_month=%{x}<br>value=%{y}<extra></extra>",
         "legendgroup": "2030-03-31 00:00:00",
         "line": {
          "color": "#2CA02C",
          "dash": "solid"
         },
         "marker": {
          "symbol": "circle"
         },
         "mode": "lines",
         "name": "2030-03-31 00:00:00",
         "showlegend": true,
         "type": "scattergl",
         "x": {
          "bdata": "AQIDBAUGBwgJCgsMDQ4PEBESExQVFhcY",
          "dtype": "i1"
         },
         "xaxis": "x",
         "y": {
          "bdata": "AAAAAAA3v0AAAAAAADe/QAAAAAAAN79AAAAAAAA3v0AAAAAAADe/QAAAAAAAN79AAAAAAAA3v0AAAAAAADe/QAAAAAAAN79AAAAAAAA3v0AAAAAAADe/QAAAAAAAN79AAAAAAAA3v0AAAAAAADe/QAAAAAAAN79AAAAAAAA3v0AAAAAAADe/QAAAAAAAN79AAAAAAAA3v0AAAAAAADe/QAAAAAAAN79AAAAAAAA3v0AAAAAAADe/QAAAAAAAN79A",
          "dtype": "f8"
         },
         "yaxis": "y"
        },
        {
         "hovertemplate": "date=2030-03-31 00:00:00<br>variable=cum_defaults<br>default_month=%{x}<br>value=%{y}<extra></extra>",
         "legendgroup": "2030-03-31 00:00:00",
         "line": {
          "color": "#2CA02C",
          "dash": "solid"
         },
         "marker": {
          "symbol": "circle"
         },
         "mode": "lines",
         "name": "2030-03-31 00:00:00",
         "showlegend": false,
         "type": "scattergl",
         "x": {
          "bdata": "AQIDBAUGBwgJCgsMDQ4PEBESExQVFhcY",
          "dtype": "i1"
         },
         "xaxis": "x2",
         "y": {
          "bdata": "j5zfJAdnMD+zgxfuyIBEP/tRh4BMtEw/IZB7CehzUj+zgxfuyIBUP0V3s9KpjVY/RXez0qmNVj/7UYeATLRcP41FI2UtwV4/j5zfJAdnYD+PnN8kB2dgP4+c3yQHZ2A/WJYtl3dtYT9Yli2Xd21hPyGQewnoc2I/IZB7CehzYj8hkHsJ6HNiP+qJyXtYemM/s4MX7siAZD98fWVgOYdlP3x9ZWA5h2U/DnEBRRqUZz/Xak+3ippoP6BknSn7oGk/",
          "dtype": "f8"
         },
         "yaxis": "y2"
        },
        {
         "hovertemplate": "date=2030-03-31 00:00:00<br>variable=default_flag<br>default_month=%{x}<br>value=%{y}<extra></extra>",
         "legendgroup": "2030-03-31 00:00:00",
         "line": {
          "color": "#2CA02C",
          "dash": "solid"
         },
         "marker": {
          "symbol": "circle"
         },
         "mode": "lines",
         "name": "2030-03-31 00:00:00",
         "showlegend": false,
         "type": "scattergl",
         "x": {
          "bdata": "AQIDBAUGBwgJCgsMDQ4PEBESExQVFhcY",
          "dtype": "i1"
         },
         "xaxis": "x3",
         "y": {
          "bdata": "j5zfJAdnMD/Xak+3ipo4P4+c3yQHZzA/j5zfJAdnMD+PnN8kB2cgP4+c3yQHZyA/AAAAAAAAAADXak+3ipo4P4+c3yQHZyA/j5zfJAdnID8AAAAAAAAAAAAAAAAAAAAAj5zfJAdnID8AAAAAAAAAAI+c3yQHZyA/AAAAAAAAAAAAAAAAAAAAAI+c3yQHZyA/j5zfJAdnID+PnN8kB2cgPwAAAAAAAAAAj5zfJAdnMD+PnN8kB2cgP4+c3yQHZyA/",
          "dtype": "f8"
         },
         "yaxis": "y3"
        },
        {
         "hovertemplate": "date=2030-04-30 00:00:00<br>variable=id<br>default_month=%{x}<br>value=%{y}<extra></extra>",
         "legendgroup": "2030-04-30 00:00:00",
         "line": {
          "color": "#D62728",
          "dash": "solid"
         },
         "marker": {
          "symbol": "circle"
         },
         "mode": "lines",
         "name": "2030-04-30 00:00:00",
         "showlegend": true,
         "type": "scattergl",
         "x": {
          "bdata": "AQIDBAUGBwgJCgsMDQ4PEBESExQVFhcY",
          "dtype": "i1"
         },
         "xaxis": "x",
         "y": {
          "bdata": "AAAAAAA1v0AAAAAAADW/QAAAAAAANb9AAAAAAAA1v0AAAAAAADW/QAAAAAAANb9AAAAAAAA1v0AAAAAAADW/QAAAAAAANb9AAAAAAAA1v0AAAAAAADW/QAAAAAAANb9AAAAAAAA1v0AAAAAAADW/QAAAAAAANb9AAAAAAAA1v0AAAAAAADW/QAAAAAAANb9AAAAAAAA1v0AAAAAAADW/QAAAAAAANb9AAAAAAAA1v0AAAAAAADW/QAAAAAAANb9A",
          "dtype": "f8"
         },
         "yaxis": "y"
        },
        {
         "hovertemplate": "date=2030-04-30 00:00:00<br>variable=cum_defaults<br>default_month=%{x}<br>value=%{y}<extra></extra>",
         "legendgroup": "2030-04-30 00:00:00",
         "line": {
          "color": "#D62728",
          "dash": "solid"
         },
         "marker": {
          "symbol": "circle"
         },
         "mode": "lines",
         "name": "2030-04-30 00:00:00",
         "showlegend": false,
         "type": "scattergl",
         "x": {
          "bdata": "AQIDBAUGBwgJCgsMDQ4PEBESExQVFhcY",
          "dtype": "i1"
         },
         "xaxis": "x2",
         "y": {
          "bdata": "YH+1YB6cOD97P5dQGYJEP0W/03Ajtkw/lf94QBRoUD+IH4jIFnVSP4gfiMgWdVI/YH+1YB6cWD9Tn8ToIKlaP0W/03Ajtlw/Rb/TcCO2XD9Fv9NwI7ZcPzjf4vglw14/ON/i+CXDXj+V/3hAFGhgP5X/eEAUaGA/lf94QBRoYD+Pj4CElW5hP4gfiMgWdWI/ga+PDJh7Yz+Br48MmHtjP3TPnpSaiGU/bV+m2BuPZj9n760cnZVnP2fvrRydlWc/",
          "dtype": "f8"
         },
         "yaxis": "y2"
        },
        {
         "hovertemplate": "date=2030-04-30 00:00:00<br>variable=default_flag<br>default_month=%{x}<br>value=%{y}<extra></extra>",
         "legendgroup": "2030-04-30 00:00:00",
         "line": {
          "color": "#D62728",
          "dash": "solid"
         },
         "marker": {
          "symbol": "circle"
         },
         "mode": "lines",
         "name": "2030-04-30 00:00:00",
         "showlegend": false,
         "type": "scattergl",
         "x": {
          "bdata": "AQIDBAUGBwgJCgsMDQ4PEBESExQVFhcY",
          "dtype": "i1"
         },
         "xaxis": "x3",
         "y": {
          "bdata": "YH+1YB6cOD+V/3hAFGgwP5X/eEAUaDA/lf94QBRoID+V/3hAFGggPwAAAAAAAAAAYH+1YB6cOD+V/3hAFGggP5X/eEAUaCA/AAAAAAAAAAAAAAAAAAAAAJX/eEAUaCA/AAAAAAAAAACV/3hAFGggPwAAAAAAAAAAAAAAAAAAAACV/3hAFGggP5X/eEAUaCA/lf94QBRoID8AAAAAAAAAAJX/eEAUaDA/lf94QBRoID+V/3hAFGggPwAAAAAAAAAA",
          "dtype": "f8"
         },
         "yaxis": "y3"
        },
        {
         "hovertemplate": "date=2030-05-31 00:00:00<br>variable=id<br>default_month=%{x}<br>value=%{y}<extra></extra>",
         "legendgroup": "2030-05-31 00:00:00",
         "line": {
          "color": "#9467BD",
          "dash": "solid"
         },
         "marker": {
          "symbol": "circle"
         },
         "mode": "lines",
         "name": "2030-05-31 00:00:00",
         "showlegend": true,
         "type": "scattergl",
         "x": {
          "bdata": "AQIDBAUGBwgJCgsMDQ4PEBESExQVFhcY",
          "dtype": "i1"
         },
         "xaxis": "x",
         "y": {
          "bdata": "AAAAAAAyv0AAAAAAADK/QAAAAAAAMr9AAAAAAAAyv0AAAAAAADK/QAAAAAAAMr9AAAAAAAAyv0AAAAAAADK/QAAAAAAAMr9AAAAAAAAyv0AAAAAAADK/QAAAAAAAMr9AAAAAAAAyv0AAAAAAADK/QAAAAAAAMr9AAAAAAAAyv0AAAAAAADK/QAAAAAAAMr9AAAAAAAAyv0AAAAAAADK/QAAAAAAAMr9AAAAAAAAyv0AAAAAAADK/QAAAAAAAMr9A",
          "dtype": "f8"
         },
         "yaxis": "y"
        },
        {
         "hovertemplate": "date=2030-05-31 00:00:00<br>variable=cum_defaults<br>default_month=%{x}<br>value=%{y}<extra></extra>",
         "legendgroup": "2030-05-31 00:00:00",
         "line": {
          "color": "#9467BD",
          "dash": "solid"
         },
         "marker": {
          "symbol": "circle"
         },
         "mode": "lines",
         "name": "2030-05-31 00:00:00",
         "showlegend": false,
         "type": "scattergl",
         "x": {
          "bdata": "AQIDBAUGBwgJCgsMDQ4PEBESExQVFhcY",
          "dtype": "i1"
         },
         "xaxis": "x2",
         "y": {
          "bdata": "LgySKqhpMD8uDJIqqGlAPzqPNjUShEQ/RhLbP3yeSD9GEts/fJ5IP7RN5C/ddlI/Oo82NRKEVD/A0Ig6R5FWP8DQiDpHkVY/wNCIOkeRVj9GEts/fJ5YP0YS2z98nlg/y1MtRbGrWj/LUy1FsataP8tTLUWxq1o/UZV/Sua4XD/X1tFPG8ZePy4MkiqoaWA/LgySKqhpYD+0TeQv3XZiP3dujbJ3fWM/Oo82NRKEZD86jzY1EoRkPzqPNjUShGQ/",
          "dtype": "f8"
         },
         "yaxis": "y2"
        },
        {
         "hovertemplate": "date=2030-05-31 00:00:00<br>variable=default_flag<br>default_month=%{x}<br>value=%{y}<extra></extra>",
         "legendgroup": "2030-05-31 00:00:00",
         "line": {
          "color": "#9467BD",
          "dash": "solid"
         },
         "marker": {
          "symbol": "circle"
         },
         "mode": "lines",
         "name": "2030-05-31 00:00:00",
         "showlegend": false,
         "type": "scattergl",
         "x": {
          "bdata": "AQIDBAUGBwgJCgsMDQ4PEBESExQVFhcY",
          "dtype": "i1"
         },
         "xaxis": "x3",
         "y": {
          "bdata": "LgySKqhpMD8uDJIqqGkwPy4MkiqoaSA/LgySKqhpID8AAAAAAAAAAEYS2z98njg/LgySKqhpID8uDJIqqGkgPwAAAAAAAAAAAAAAAAAAAAAuDJIqqGkgPwAAAAAAAAAALgySKqhpID8AAAAAAAAAAAAAAAAAAAAALgySKqhpID8uDJIqqGkgPy4MkiqoaSA/AAAAAAAAAAAuDJIqqGkwPy4MkiqoaSA/LgySKqhpID8AAAAAAAAAAAAAAAAAAAAA",
          "dtype": "f8"
         },
         "yaxis": "y3"
        },
        {
         "hovertemplate": "date=2030-06-30 00:00:00<br>variable=id<br>default_month=%{x}<br>value=%{y}<extra></extra>",
         "legendgroup": "2030-06-30 00:00:00",
         "line": {
          "color": "#8C564B",
          "dash": "solid"
         },
         "marker": {
          "symbol": "circle"
         },
         "mode": "lines",
         "name": "2030-06-30 00:00:00",
         "showlegend": true,
         "type": "scattergl",
         "x": {
          "bdata": "AQIDBAUGBwgJCgsMDQ4PEBESExQVFhcY",
          "dtype": "i1"
         },
         "xaxis": "x",
         "y": {
          "bdata": "AAAAAAAwv0AAAAAAADC/QAAAAAAAML9AAAAAAAAwv0AAAAAAADC/QAAAAAAAML9AAAAAAAAwv0AAAAAAADC/QAAAAAAAML9AAAAAAAAwv0AAAAAAADC/QAAAAAAAML9AAAAAAAAwv0AAAAAAADC/QAAAAAAAML9AAAAAAAAwv0AAAAAAADC/QAAAAAAAML9AAAAAAAAwv0AAAAAAADC/QAAAAAAAML9AAAAAAAAwv0AAAAAAADC/QAAAAAAAML9A",
          "dtype": "f8"
         },
         "yaxis": "y"
        },
        {
         "hovertemplate": "date=2030-06-30 00:00:00<br>variable=cum_defaults<br>default_month=%{x}<br>value=%{y}<extra></extra>",
         "legendgroup": "2030-06-30 00:00:00",
         "line": {
          "color": "#8C564B",
          "dash": "solid"
         },
         "marker": {
          "symbol": "circle"
         },
         "mode": "lines",
         "name": "2030-06-30 00:00:00",
         "showlegend": false,
         "type": "scattergl",
         "x": {
          "bdata": "AQIDBAUGBwgJCgsMDQ4PEBESExQVFhcY",
          "dtype": "i1"
         },
         "xaxis": "x2",
         "y": {
          "bdata": "+xJ5nLVqMD95nLVqEKA4P/sSeZy1akA/+xJ5nLVqQD844dPRvbpMP/sSeZy1alA/WzUIUAx4Uj9bNQhQDHhSP1s1CFAMeFI/uleXA2OFVD+6V5cDY4VUPxp6Jre5klY/Gnomt7mSVj8aeia3uZJWP3mctWoQoFg/2L5EHmetWj844dPRvbpcPzjh09G9ulw/+xJ5nLVqYD8rpED2YHFhP1s1CFAMeGI/WzUIUAx4Yj9bNQhQDHhiP1s1CFAMeGI/",
          "dtype": "f8"
         },
         "yaxis": "y2"
        },
        {
         "hovertemplate": "date=2030-06-30 00:00:00<br>variable=default_flag<br>default_month=%{x}<br>value=%{y}<extra></extra>",
         "legendgroup": "2030-06-30 00:00:00",
         "line": {
          "color": "#8C564B",
          "dash": "solid"
         },
         "marker": {
          "symbol": "circle"
         },
         "mode": "lines",
         "name": "2030-06-30 00:00:00",
         "showlegend": false,
         "type": "scattergl",
         "x": {
          "bdata": "AQIDBAUGBwgJCgsMDQ4PEBESExQVFhcY",
          "dtype": "i1"
         },
         "xaxis": "x3",
         "y": {
          "bdata": "+xJ5nLVqMD/7EnmctWogP/sSeZy1aiA/AAAAAAAAAAB5nLVqEKA4P/sSeZy1aiA/+xJ5nLVqID8AAAAAAAAAAAAAAAAAAAAA+xJ5nLVqID8AAAAAAAAAAPsSeZy1aiA/AAAAAAAAAAAAAAAAAAAAAPsSeZy1aiA/+xJ5nLVqID/7EnmctWogPwAAAAAAAAAA+xJ5nLVqMD/7EnmctWogP/sSeZy1aiA/AAAAAAAAAAAAAAAAAAAAAAAAAAAAAAAA",
          "dtype": "f8"
         },
         "yaxis": "y3"
        },
        {
         "hovertemplate": "date=2030-07-31 00:00:00<br>variable=id<br>default_month=%{x}<br>value=%{y}<extra></extra>",
         "legendgroup": "2030-07-31 00:00:00",
         "line": {
          "color": "#E377C2",
          "dash": "solid"
         },
         "marker": {
          "symbol": "circle"
         },
         "mode": "lines",
         "name": "2030-07-31 00:00:00",
         "showlegend": true,
         "type": "scattergl",
         "x": {
          "bdata": "AQIDBAUGBwgJCgsMDQ4PEBESExQVFhcY",
          "dtype": "i1"
         },
         "xaxis": "x",
         "y": {
          "bdata": "AAAAAAAuv0AAAAAAAC6/QAAAAAAALr9AAAAAAAAuv0AAAAAAAC6/QAAAAAAALr9AAAAAAAAuv0AAAAAAAC6/QAAAAAAALr9AAAAAAAAuv0AAAAAAAC6/QAAAAAAALr9AAAAAAAAuv0AAAAAAAC6/QAAAAAAALr9AAAAAAAAuv0AAAAAAAC6/QAAAAAAALr9AAAAAAAAuv0AAAAAAAC6/QAAAAAAALr9AAAAAAAAuv0AAAAAAAC6/QAAAAAAALr9A",
          "dtype": "f8"
         },
         "yaxis": "y"
        },
        {
         "hovertemplate": "date=2030-07-31 00:00:00<br>variable=cum_defaults<br>default_month=%{x}<br>value=%{y}<extra></extra>",
         "legendgroup": "2030-07-31 00:00:00",
         "line": {
          "color": "#E377C2",
          "dash": "solid"
         },
         "marker": {
          "symbol": "circle"
         },
         "mode": "lines",
         "name": "2030-07-31 00:00:00",
         "showlegend": false,
         "type": "scattergl",
         "x": {
          "bdata": "AQIDBAUGBwgJCgsMDQ4PEBESExQVFhcY",
          "dtype": "i1"
         },
         "xaxis": "x2",
         "y": {
          "bdata": "wy7xMMNrID/DLvEww2swP8Mu8TDDazA/dHot/bOGRD8kxmnJpKFIP9URppWVvEw/1RGmlZW8TD/VEaaVlbxMP8Mu8TDDa1A/wy7xMMNrUD+bVA+XO3lSP5tUD5c7eVI/m1QPlzt5Uj90ei39s4ZUP0ygS2MslFY/JMZpyaShWD8kxmnJpKFYP9URppWVvFw/rTfE+w3KXj/DLvEww2tgP8Mu8TDDa2A/wy7xMMNrYD/DLvEww2tgP69BAGR/cmE/",
          "dtype": "f8"
         },
         "yaxis": "y2"
        },
        {
         "hovertemplate": "date=2030-07-31 00:00:00<br>variable=default_flag<br>default_month=%{x}<br>value=%{y}<extra></extra>",
         "legendgroup": "2030-07-31 00:00:00",
         "line": {
          "color": "#E377C2",
          "dash": "solid"
         },
         "marker": {
          "symbol": "circle"
         },
         "mode": "lines",
         "name": "2030-07-31 00:00:00",
         "showlegend": false,
         "type": "scattergl",
         "x": {
          "bdata": "AQIDBAUGBwgJCgsMDQ4PEBESExQVFhcY",
          "dtype": "i1"
         },
         "xaxis": "x3",
         "y": {
          "bdata": "wy7xMMNrID/DLvEww2sgPwAAAAAAAAAAJMZpyaShOD/DLvEww2sgP8Mu8TDDayA/AAAAAAAAAAAAAAAAAAAAAMMu8TDDayA/AAAAAAAAAADDLvEww2sgPwAAAAAAAAAAAAAAAAAAAADDLvEww2sgP8Mu8TDDayA/wy7xMMNrID8AAAAAAAAAAMMu8TDDazA/wy7xMMNrID/DLvEww2sgPwAAAAAAAAAAAAAAAAAAAAAAAAAAAAAAAMMu8TDDayA/",
          "dtype": "f8"
         },
         "yaxis": "y3"
        },
        {
         "hovertemplate": "date=2030-08-31 00:00:00<br>variable=id<br>default_month=%{x}<br>value=%{y}<extra></extra>",
         "legendgroup": "2030-08-31 00:00:00",
         "line": {
          "color": "#7F7F7F",
          "dash": "solid"
         },
         "marker": {
          "symbol": "circle"
         },
         "mode": "lines",
         "name": "2030-08-31 00:00:00",
         "showlegend": true,
         "type": "scattergl",
         "x": {
          "bdata": "AQIDBAUGBwgJCgsMDQ4PEBESExQVFhcY",
          "dtype": "i1"
         },
         "xaxis": "x",
         "y": {
          "bdata": "AAAAAAAtv0AAAAAAAC2/QAAAAAAALb9AAAAAAAAtv0AAAAAAAC2/QAAAAAAALb9AAAAAAAAtv0AAAAAAAC2/QAAAAAAALb9AAAAAAAAtv0AAAAAAAC2/QAAAAAAALb9AAAAAAAAtv0AAAAAAAC2/QAAAAAAALb9AAAAAAAAtv0AAAAAAAC2/QAAAAAAALb9AAAAAAAAtv0AAAAAAAC2/QAAAAAAALb9AAAAAAAAtv0AAAAAAAC2/QAAAAAAALb9A",
          "dtype": "f8"
         },
         "yaxis": "y"
        },
        {
         "hovertemplate": "date=2030-08-31 00:00:00<br>variable=cum_defaults<br>default_month=%{x}<br>value=%{y}<extra></extra>",
         "legendgroup": "2030-08-31 00:00:00",
         "line": {
          "color": "#7F7F7F",
          "dash": "solid"
         },
         "marker": {
          "symbol": "circle"
         },
         "mode": "lines",
         "name": "2030-08-31 00:00:00",
         "showlegend": false,
         "type": "scattergl",
         "x": {
          "bdata": "AQIDBAUGBwgJCgsMDQ4PEBESExQVFhcY",
          "dtype": "i1"
         },
         "xaxis": "x2",
         "y": {
          "bdata": "urglCEpsID+6uCUISmwgP7q4JQhKbEA/6SYvilyHRD8XlTgMb6JIPxeVOAxvokg/F5U4DG+iSD9GA0KOgb1MP0YDQo6BvUw/urglCEpsUD+6uCUISmxQP7q4JQhKbFA/0W8qSdN5Uj/pJi+KXIdUPwDeM8vllFY/AN4zy+WUVj8uTD1N+K9aP0YDQo6BvVw/XbpGzwrLXj9dukbPCsteP126Rs8Ky14/XbpGzwrLXj+6uCUISmxgP7q4JQhKbGA/",
          "dtype": "f8"
         },
         "yaxis": "y2"
        },
        {
         "hovertemplate": "date=2030-08-31 00:00:00<br>variable=default_flag<br>default_month=%{x}<br>value=%{y}<extra></extra>",
         "legendgroup": "2030-08-31 00:00:00",
         "line": {
          "color": "#7F7F7F",
          "dash": "solid"
         },
         "marker": {
          "symbol": "circle"
         },
         "mode": "lines",
         "name": "2030-08-31 00:00:00",
         "showlegend": false,
         "type": "scattergl",
         "x": {
          "bdata": "AQIDBAUGBwgJCgsMDQ4PEBESExQVFhcY",
          "dtype": "i1"
         },
         "xaxis": "x3",
         "y": {
          "bdata": "urglCEpsID8AAAAAAAAAABeVOAxvojg/urglCEpsID+6uCUISmwgPwAAAAAAAAAAAAAAAAAAAAC6uCUISmwgPwAAAAAAAAAAurglCEpsID8AAAAAAAAAAAAAAAAAAAAAurglCEpsID+6uCUISmwgP7q4JQhKbCA/AAAAAAAAAAC6uCUISmwwP7q4JQhKbCA/urglCEpsID8AAAAAAAAAAAAAAAAAAAAAAAAAAAAAAAC6uCUISmwgPwAAAAAAAAAA",
          "dtype": "f8"
         },
         "yaxis": "y3"
        },
        {
         "hovertemplate": "date=2030-09-30 00:00:00<br>variable=id<br>default_month=%{x}<br>value=%{y}<extra></extra>",
         "legendgroup": "2030-09-30 00:00:00",
         "line": {
          "color": "#BCBD22",
          "dash": "solid"
         },
         "marker": {
          "symbol": "circle"
         },
         "mode": "lines",
         "name": "2030-09-30 00:00:00",
         "showlegend": true,
         "type": "scattergl",
         "x": {
          "bdata": "AQIDBAUGBwgJCgsMDQ4PEBESExQVFhcY",
          "dtype": "i1"
         },
         "xaxis": "x",
         "y": {
          "bdata": "AAAAAAAsv0AAAAAAACy/QAAAAAAALL9AAAAAAAAsv0AAAAAAACy/QAAAAAAALL9AAAAAAAAsv0AAAAAAACy/QAAAAAAALL9AAAAAAAAsv0AAAAAAACy/QAAAAAAALL9AAAAAAAAsv0AAAAAAACy/QAAAAAAALL9AAAAAAAAsv0AAAAAAACy/QAAAAAAALL9AAAAAAAAsv0AAAAAAACy/QAAAAAAALL9AAAAAAAAsv0AAAAAAACy/QAAAAAAALL9A",
          "dtype": "f8"
         },
         "yaxis": "y"
        },
        {
         "hovertemplate": "date=2030-09-30 00:00:00<br>variable=cum_defaults<br>default_month=%{x}<br>value=%{y}<extra></extra>",
         "legendgroup": "2030-09-30 00:00:00",
         "line": {
          "color": "#BCBD22",
          "dash": "solid"
         },
         "marker": {
          "symbol": "circle"
         },
         "mode": "lines",
         "name": "2030-09-30 00:00:00",
         "showlegend": false,
         "type": "scattergl",
         "x": {
          "bdata": "AQIDBAUGBwgJCgsMDQ4PEBESExQVFhcY",
          "dtype": "i1"
         },
         "xaxis": "x2",
         "y": {
          "bdata": "AAAAAAAAAAA0igFcOaM4P80GAejQbEA/gEgBIgWIRD+ASAEiBYhEP4BIASIFiEQ/NIoBXDmjSD80igFcOaNIP+fLAZZtvkw/58sBlm2+TD/nywGWbb5MP80GAejQbFA/pycBBWt6Uj+ASAEiBYhUP4BIASIFiFQ/NIoBXDmjWD8NqwF507BaP+fLAZZtvlw/58sBlm2+XD/nywGWbb5cP+fLAZZtvlw/wOwBswfMXj/A7AGzB8xePzoXgfadc2E/",
          "dtype": "f8"
         },
         "yaxis": "y2"
        },
        {
         "hovertemplate": "date=2030-09-30 00:00:00<br>variable=default_flag<br>default_month=%{x}<br>value=%{y}<extra></extra>",
         "legendgroup": "2030-09-30 00:00:00",
         "line": {
          "color": "#BCBD22",
          "dash": "solid"
         },
         "marker": {
          "symbol": "circle"
         },
         "mode": "lines",
         "name": "2030-09-30 00:00:00",
         "showlegend": false,
         "type": "scattergl",
         "x": {
          "bdata": "AQIDBAUGBwgJCgsMDQ4PEBESExQVFhcY",
          "dtype": "i1"
         },
         "xaxis": "x3",
         "y": {
          "bdata": "AAAAAAAAAAA0igFcOaM4P80GAejQbCA/zQYB6NBsID8AAAAAAAAAAAAAAAAAAAAAzQYB6NBsID8AAAAAAAAAAM0GAejQbCA/AAAAAAAAAAAAAAAAAAAAAM0GAejQbCA/zQYB6NBsID/NBgHo0GwgPwAAAAAAAAAAzQYB6NBsMD/NBgHo0GwgP80GAejQbCA/AAAAAAAAAAAAAAAAAAAAAAAAAAAAAAAAzQYB6NBsID8AAAAAAAAAAM0GAejQbDA/",
          "dtype": "f8"
         },
         "yaxis": "y3"
        },
        {
         "hovertemplate": "date=2030-10-31 00:00:00<br>variable=id<br>default_month=%{x}<br>value=%{y}<extra></extra>",
         "legendgroup": "2030-10-31 00:00:00",
         "line": {
          "color": "#17BECF",
          "dash": "solid"
         },
         "marker": {
          "symbol": "circle"
         },
         "mode": "lines",
         "name": "2030-10-31 00:00:00",
         "showlegend": true,
         "type": "scattergl",
         "x": {
          "bdata": "AQIDBAUGBwgJCgsMDQ4PEBESExQVFhcY",
          "dtype": "i1"
         },
         "xaxis": "x",
         "y": {
          "bdata": "AAAAAAAsv0AAAAAAACy/QAAAAAAALL9AAAAAAAAsv0AAAAAAACy/QAAAAAAALL9AAAAAAAAsv0AAAAAAACy/QAAAAAAALL9AAAAAAAAsv0AAAAAAACy/QAAAAAAALL9AAAAAAAAsv0AAAAAAACy/QAAAAAAALL9AAAAAAAAsv0AAAAAAACy/QAAAAAAALL9AAAAAAAAsv0AAAAAAACy/QAAAAAAALL9AAAAAAAAsv0AAAAAAACy/QAAAAAAALL9A",
          "dtype": "f8"
         },
         "yaxis": "y"
        },
        {
         "hovertemplate": "date=2030-10-31 00:00:00<br>variable=cum_defaults<br>default_month=%{x}<br>value=%{y}<extra></extra>",
         "legendgroup": "2030-10-31 00:00:00",
         "line": {
          "color": "#17BECF",
          "dash": "solid"
         },
         "marker": {
          "symbol": "circle"
         },
         "mode": "lines",
         "name": "2030-10-31 00:00:00",
         "showlegend": false,
         "type": "scattergl",
         "x": {
          "bdata": "AQIDBAUGBwgJCgsMDQ4PEBESExQVFhcY",
          "dtype": "i1"
         },
         "xaxis": "x2",
         "y": {
          "bdata": "NIoBXDmjOD/NBgHo0GxAP4BIASIFiEQ/gEgBIgWIRD+ASAEiBYhEPzSKAVw5o0g/NIoBXDmjSD/nywGWbb5MP+fLAZZtvkw/58sBlm2+TD/NBgHo0GxQP6cnAQVrelI/gEgBIgWIVD+ASAEiBYhUPzSKAVw5o1g/DasBedOwWj/nywGWbb5cP+fLAZZtvlw/58sBlm2+XD/nywGWbb5cP8DsAbMHzF4/wOwBswfMXj86F4H2nXNhPxQ4gRM4gWM/",
          "dtype": "f8"
         },
         "yaxis": "y2"
        },
        {
         "hovertemplate": "date=2030-10-31 00:00:00<br>variable=default_flag<br>default_month=%{x}<br>value=%{y}<extra></extra>",
         "legendgroup": "2030-10-31 00:00:00",
         "line": {
          "color": "#17BECF",
          "dash": "solid"
         },
         "marker": {
          "symbol": "circle"
         },
         "mode": "lines",
         "name": "2030-10-31 00:00:00",
         "showlegend": false,
         "type": "scattergl",
         "x": {
          "bdata": "AQIDBAUGBwgJCgsMDQ4PEBESExQVFhcY",
          "dtype": "i1"
         },
         "xaxis": "x3",
         "y": {
          "bdata": "NIoBXDmjOD/NBgHo0GwgP80GAejQbCA/AAAAAAAAAAAAAAAAAAAAAM0GAejQbCA/AAAAAAAAAADNBgHo0GwgPwAAAAAAAAAAAAAAAAAAAADNBgHo0GwgP80GAejQbCA/zQYB6NBsID8AAAAAAAAAAM0GAejQbDA/zQYB6NBsID/NBgHo0GwgPwAAAAAAAAAAAAAAAAAAAAAAAAAAAAAAAM0GAejQbCA/AAAAAAAAAADNBgHo0GwwP80GAejQbDA/",
          "dtype": "f8"
         },
         "yaxis": "y3"
        },
        {
         "hovertemplate": "date=2030-11-30 00:00:00<br>variable=id<br>default_month=%{x}<br>value=%{y}<extra></extra>",
         "legendgroup": "2030-11-30 00:00:00",
         "line": {
          "color": "#1F77B4",
          "dash": "solid"
         },
         "marker": {
          "symbol": "circle"
         },
         "mode": "lines",
         "name": "2030-11-30 00:00:00",
         "showlegend": true,
         "type": "scattergl",
         "x": {
          "bdata": "AQIDBAUGBwgJCgsMDQ4PEBESExQVFhcY",
          "dtype": "i1"
         },
         "xaxis": "x",
         "y": {
          "bdata": "AAAAAAApv0AAAAAAACm/QAAAAAAAKb9AAAAAAAApv0AAAAAAACm/QAAAAAAAKb9AAAAAAAApv0AAAAAAACm/QAAAAAAAKb9AAAAAAAApv0AAAAAAACm/QAAAAAAAKb9AAAAAAAApv0AAAAAAACm/QAAAAAAAKb9AAAAAAAApv0AAAAAAACm/QAAAAAAAKb9AAAAAAAApv0AAAAAAACm/QAAAAAAAKb9AAAAAAAApv0AAAAAAACm/QAAAAAAAKb9A",
          "dtype": "f8"
         },
         "yaxis": "y"
        },
        {
         "hovertemplate": "date=2030-11-30 00:00:00<br>variable=cum_defaults<br>default_month=%{x}<br>value=%{y}<extra></extra>",
         "legendgroup": "2030-11-30 00:00:00",
         "line": {
          "color": "#1F77B4",
          "dash": "solid"
         },
         "marker": {
          "symbol": "circle"
         },
         "mode": "lines",
         "name": "2030-11-30 00:00:00",
         "showlegend": false,
         "type": "scattergl",
         "x": {
          "bdata": "AQIDBAUGBwgJCgsMDQ4PEBESExQVFhcY",
          "dtype": "i1"
         },
         "xaxis": "x2",
         "y": {
          "bdata": "+92Du2VuID/73YO7ZW4wP/vdg7tlbjA/+92Du2VuMD/5zEWZmKU4P/nMRZmYpTg/+92Du2VuQD/73YO7ZW5AP/vdg7tlbkA/etVkKv+JRD/5zEWZmKVIP3jEJggywUw/eMQmCDLBTD+7WfRyMnxSP3rVZCr/iVQ/OlHV4cuXVj86UdXhy5dWPzpR1eHLl1Y/OlHV4cuXVj/5zEWZmKVYP/nMRZmYpVg/eMQmCDLBXD/73YO7ZW5gP/vdg7tlbmA/",
          "dtype": "f8"
         },
         "yaxis": "y2"
        },
        {
         "hovertemplate": "date=2030-11-30 00:00:00<br>variable=default_flag<br>default_month=%{x}<br>value=%{y}<extra></extra>",
         "legendgroup": "2030-11-30 00:00:00",
         "line": {
          "color": "#1F77B4",
          "dash": "solid"
         },
         "marker": {
          "symbol": "circle"
         },
         "mode": "lines",
         "name": "2030-11-30 00:00:00",
         "showlegend": false,
         "type": "scattergl",
         "x": {
          "bdata": "AQIDBAUGBwgJCgsMDQ4PEBESExQVFhcY",
          "dtype": "i1"
         },
         "xaxis": "x3",
         "y": {
          "bdata": "+92Du2VuID/73YO7ZW4gPwAAAAAAAAAAAAAAAAAAAAD73YO7ZW4gPwAAAAAAAAAA+92Du2VuID8AAAAAAAAAAAAAAAAAAAAA+92Du2VuID/73YO7ZW4gP/vdg7tlbiA/AAAAAAAAAAD73YO7ZW4wP/vdg7tlbiA/+92Du2VuID8AAAAAAAAAAAAAAAAAAAAAAAAAAAAAAAD73YO7ZW4gPwAAAAAAAAAA+92Du2VuMD/73YO7ZW4wPwAAAAAAAAAA",
          "dtype": "f8"
         },
         "yaxis": "y3"
        },
        {
         "hovertemplate": "date=2030-12-31 00:00:00<br>variable=id<br>default_month=%{x}<br>value=%{y}<extra></extra>",
         "legendgroup": "2030-12-31 00:00:00",
         "line": {
          "color": "#FF7F0E",
          "dash": "solid"
         },
         "marker": {
          "symbol": "circle"
         },
         "mode": "lines",
         "name": "2030-12-31 00:00:00",
         "showlegend": true,
         "type": "scattergl",
         "x": {
          "bdata": "AQIDBAUGBwgJCgsMDQ4PEBESExQVFhcY",
          "dtype": "i1"
         },
         "xaxis": "x",
         "y": {
          "bdata": "AAAAAAAov0AAAAAAACi/QAAAAAAAKL9AAAAAAAAov0AAAAAAACi/QAAAAAAAKL9AAAAAAAAov0AAAAAAACi/QAAAAAAAKL9AAAAAAAAov0AAAAAAACi/QAAAAAAAKL9AAAAAAAAov0AAAAAAACi/QAAAAAAAKL9AAAAAAAAov0AAAAAAACi/QAAAAAAAKL9AAAAAAAAov0AAAAAAACi/QAAAAAAAKL9AAAAAAAAov0AAAAAAACi/QAAAAAAAKL9A",
          "dtype": "f8"
         },
         "yaxis": "y"
        },
        {
         "hovertemplate": "date=2030-12-31 00:00:00<br>variable=cum_defaults<br>default_month=%{x}<br>value=%{y}<extra></extra>",
         "legendgroup": "2030-12-31 00:00:00",
         "line": {
          "color": "#FF7F0E",
          "dash": "solid"
         },
         "marker": {
          "symbol": "circle"
         },
         "mode": "lines",
         "name": "2030-12-31 00:00:00",
         "showlegend": false,
         "type": "scattergl",
         "x": {
          "bdata": "AQIDBAUGBwgJCgsMDQ4PEBESExQVFhcY",
          "dtype": "i1"
         },
         "xaxis": "x2",
         "y": {
          "bdata": "VZECvuxuID9VkQK+7G4gP1WRAr7sbiA/VZECvuxuMD9VkQK+7G4wP//ZAx1jpjg//9kDHWOmOD//2QMdY6Y4P1WRAr7sbkA/qjWD7aeKRD//2QMdY6ZIP//ZAx1jpkg/VZECvuxuUD+A48JVynxSP6o1g+2nilQ/qjWD7aeKVD+qNYPtp4pUP6o1g+2nilQ/1YdDhYWYVj/Vh0OFhZhWPyosxLRAtFo/f9BE5PvPXj9/0ETk+89eP3/QROT7z14/",
          "dtype": "f8"
         },
         "yaxis": "y2"
        },
        {
         "hovertemplate": "date=2030-12-31 00:00:00<br>variable=default_flag<br>default_month=%{x}<br>value=%{y}<extra></extra>",
         "legendgroup": "2030-12-31 00:00:00",
         "line": {
          "color": "#FF7F0E",
          "dash": "solid"
         },
         "marker": {
          "symbol": "circle"
         },
         "mode": "lines",
         "name": "2030-12-31 00:00:00",
         "showlegend": false,
         "type": "scattergl",
         "x": {
          "bdata": "AQIDBAUGBwgJCgsMDQ4PEBESExQVFhcY",
          "dtype": "i1"
         },
         "xaxis": "x3",
         "y": {
          "bdata": "VZECvuxuID8AAAAAAAAAAAAAAAAAAAAAVZECvuxuID8AAAAAAAAAAFWRAr7sbiA/AAAAAAAAAAAAAAAAAAAAAFWRAr7sbiA/VZECvuxuID9VkQK+7G4gPwAAAAAAAAAAVZECvuxuMD9VkQK+7G4gP1WRAr7sbiA/AAAAAAAAAAAAAAAAAAAAAAAAAAAAAAAAVZECvuxuID8AAAAAAAAAAFWRAr7sbjA/VZECvuxuMD8AAAAAAAAAAAAAAAAAAAAA",
          "dtype": "f8"
         },
         "yaxis": "y3"
        },
        {
         "hovertemplate": "date=2031-01-31 00:00:00<br>variable=id<br>default_month=%{x}<br>value=%{y}<extra></extra>",
         "legendgroup": "2031-01-31 00:00:00",
         "line": {
          "color": "#2CA02C",
          "dash": "solid"
         },
         "marker": {
          "symbol": "circle"
         },
         "mode": "lines",
         "name": "2031-01-31 00:00:00",
         "showlegend": true,
         "type": "scattergl",
         "x": {
          "bdata": "AQIDBAUGBwgJCgsMDQ4PEBESExQVFhcY",
          "dtype": "i1"
         },
         "xaxis": "x",
         "y": {
          "bdata": "AAAAAAAnv0AAAAAAACe/QAAAAAAAJ79AAAAAAAAnv0AAAAAAACe/QAAAAAAAJ79AAAAAAAAnv0AAAAAAACe/QAAAAAAAJ79AAAAAAAAnv0AAAAAAACe/QAAAAAAAJ79AAAAAAAAnv0AAAAAAACe/QAAAAAAAJ79AAAAAAAAnv0AAAAAAACe/QAAAAAAAJ79AAAAAAAAnv0AAAAAAACe/QAAAAAAAJ79AAAAAAAAnv0AAAAAAACe/QAAAAAAAJ79A",
          "dtype": "f8"
         },
         "yaxis": "y"
        },
        {
         "hovertemplate": "date=2031-01-31 00:00:00<br>variable=cum_defaults<br>default_month=%{x}<br>value=%{y}<extra></extra>",
         "legendgroup": "2031-01-31 00:00:00",
         "line": {
          "color": "#2CA02C",
          "dash": "solid"
         },
         "marker": {
          "symbol": "circle"
         },
         "mode": "lines",
         "name": "2031-01-31 00:00:00",
         "showlegend": false,
         "type": "scattergl",
         "x": {
          "bdata": "AQIDBAUGBwgJCgsMDQ4PEBESExQVFhcY",
          "dtype": "i1"
         },
         "xaxis": "x2",
         "y": {
          "bdata": "AAAAAAAAAAAAAAAAAAAAAL8zLMlzbyA/vzMsyXNvID+/MyzJc28wP78zLMlzbzA/vzMsyXNvMD+eTcKtLac4P78zLMlzb0A/r0B3u1CLRD+vQHe7UItEP45aDaAKw0w/vzMsyXNvUD83ulFCYn1SPze6UUJifVI/N7pRQmJ9Uj83ulFCYn1SP69Ad7tQi1Q/r0B3u1CLVD+eTcKtLadYP45aDaAKw1w/jloNoArDXD+OWg2gCsNcP45aDaAKw1w/",
          "dtype": "f8"
         },
         "yaxis": "y2"
        },
        {
         "hovertemplate": "date=2031-01-31 00:00:00<br>variable=default_flag<br>default_month=%{x}<br>value=%{y}<extra></extra>",
         "legendgroup": "2031-01-31 00:00:00",
         "line": {
          "color": "#2CA02C",
          "dash": "solid"
         },
         "marker": {
          "symbol": "circle"
         },
         "mode": "lines",
         "name": "2031-01-31 00:00:00",
         "showlegend": false,
         "type": "scattergl",
         "x": {
          "bdata": "AQIDBAUGBwgJCgsMDQ4PEBESExQVFhcY",
          "dtype": "i1"
         },
         "xaxis": "x3",
         "y": {
          "bdata": "AAAAAAAAAAAAAAAAAAAAAL8zLMlzbyA/AAAAAAAAAAC/MyzJc28gPwAAAAAAAAAAAAAAAAAAAAC/MyzJc28gP78zLMlzbyA/vzMsyXNvID8AAAAAAAAAAL8zLMlzbzA/vzMsyXNvID+/MyzJc28gPwAAAAAAAAAAAAAAAAAAAAAAAAAAAAAAAL8zLMlzbyA/AAAAAAAAAAC/MyzJc28wP78zLMlzbzA/AAAAAAAAAAAAAAAAAAAAAAAAAAAAAAAA",
          "dtype": "f8"
         },
         "yaxis": "y3"
        },
        {
         "hovertemplate": "date=2031-02-28 00:00:00<br>variable=id<br>default_month=%{x}<br>value=%{y}<extra></extra>",
         "legendgroup": "2031-02-28 00:00:00",
         "line": {
          "color": "#D62728",
          "dash": "solid"
         },
         "marker": {
          "symbol": "circle"
         },
         "mode": "lines",
         "name": "2031-02-28 00:00:00",
         "showlegend": true,
         "type": "scattergl",
         "x": {
          "bdata": "AQIDBAUGBwgJCgsMDQ4PEBESExQVFhcY",
          "dtype": "i1"
         },
         "xaxis": "x",
         "y": {
          "bdata": "AAAAAAAnv0AAAAAAACe/QAAAAAAAJ79AAAAAAAAnv0AAAAAAACe/QAAAAAAAJ79AAAAAAAAnv0AAAAAAACe/QAAAAAAAJ79AAAAAAAAnv0AAAAAAACe/QAAAAAAAJ79AAAAAAAAnv0AAAAAAACe/QAAAAAAAJ79AAAAAAAAnv0AAAAAAACe/QAAAAAAAJ79AAAAAAAAnv0AAAAAAACe/QAAAAAAAJ79AAAAAAAAnv0AAAAAAACe/QAAAAAAAJ79A",
          "dtype": "f8"
         },
         "yaxis": "y"
        },
        {
         "hovertemplate": "date=2031-02-28 00:00:00<br>variable=cum_defaults<br>default_month=%{x}<br>value=%{y}<extra></extra>",
         "legendgroup": "2031-02-28 00:00:00",
         "line": {
          "color": "#D62728",
          "dash": "solid"
         },
         "marker": {
          "symbol": "circle"
         },
         "mode": "lines",
         "name": "2031-02-28 00:00:00",
         "showlegend": false,
         "type": "scattergl",
         "x": {
          "bdata": "AQIDBAUGBwgJCgsMDQ4PEBESExQVFhcY",
          "dtype": "i1"
         },
         "xaxis": "x2",
         "y": {
          "bdata": "AAAAAAAAAAC/MyzJc28gP78zLMlzbyA/vzMsyXNvMD+/MyzJc28wP78zLMlzbzA/nk3CrS2nOD+/MyzJc29AP69Ad7tQi0Q/r0B3u1CLRD+OWg2gCsNMP78zLMlzb1A/N7pRQmJ9Uj83ulFCYn1SPze6UUJifVI/N7pRQmJ9Uj+vQHe7UItUP69Ad7tQi1Q/nk3CrS2nWD+OWg2gCsNcP45aDaAKw1w/jloNoArDXD+OWg2gCsNcPwbhMhn50F4/",
          "dtype": "f8"
         },
         "yaxis": "y2"
        },
        {
         "hovertemplate": "date=2031-02-28 00:00:00<br>variable=default_flag<br>default_month=%{x}<br>value=%{y}<extra></extra>",
         "legendgroup": "2031-02-28 00:00:00",
         "line": {
          "color": "#D62728",
          "dash": "solid"
         },
         "marker": {
          "symbol": "circle"
         },
         "mode": "lines",
         "name": "2031-02-28 00:00:00",
         "showlegend": false,
         "type": "scattergl",
         "x": {
          "bdata": "AQIDBAUGBwgJCgsMDQ4PEBESExQVFhcY",
          "dtype": "i1"
         },
         "xaxis": "x3",
         "y": {
          "bdata": "AAAAAAAAAAC/MyzJc28gPwAAAAAAAAAAvzMsyXNvID8AAAAAAAAAAAAAAAAAAAAAvzMsyXNvID+/MyzJc28gP78zLMlzbyA/AAAAAAAAAAC/MyzJc28wP78zLMlzbyA/vzMsyXNvID8AAAAAAAAAAAAAAAAAAAAAAAAAAAAAAAC/MyzJc28gPwAAAAAAAAAAvzMsyXNvMD+/MyzJc28wPwAAAAAAAAAAAAAAAAAAAAAAAAAAAAAAAL8zLMlzbyA/",
          "dtype": "f8"
         },
         "yaxis": "y3"
        },
        {
         "hovertemplate": "date=2031-03-31 00:00:00<br>variable=id<br>default_month=%{x}<br>value=%{y}<extra></extra>",
         "legendgroup": "2031-03-31 00:00:00",
         "line": {
          "color": "#9467BD",
          "dash": "solid"
         },
         "marker": {
          "symbol": "circle"
         },
         "mode": "lines",
         "name": "2031-03-31 00:00:00",
         "showlegend": true,
         "type": "scattergl",
         "x": {
          "bdata": "AQIDBAUGBwgJCgsMDQ4PEBESExQVFhcY",
          "dtype": "i1"
         },
         "xaxis": "x",
         "y": {
          "bdata": "AAAAAAAnv0AAAAAAACe/QAAAAAAAJ79AAAAAAAAnv0AAAAAAACe/QAAAAAAAJ79AAAAAAAAnv0AAAAAAACe/QAAAAAAAJ79AAAAAAAAnv0AAAAAAACe/QAAAAAAAJ79AAAAAAAAnv0AAAAAAACe/QAAAAAAAJ79AAAAAAAAnv0AAAAAAACe/QAAAAAAAJ79AAAAAAAAnv0AAAAAAACe/QAAAAAAAJ79AAAAAAAAnv0AAAAAAACe/QAAAAAAAJ79A",
          "dtype": "f8"
         },
         "yaxis": "y"
        },
        {
         "hovertemplate": "date=2031-03-31 00:00:00<br>variable=cum_defaults<br>default_month=%{x}<br>value=%{y}<extra></extra>",
         "legendgroup": "2031-03-31 00:00:00",
         "line": {
          "color": "#9467BD",
          "dash": "solid"
         },
         "marker": {
          "symbol": "circle"
         },
         "mode": "lines",
         "name": "2031-03-31 00:00:00",
         "showlegend": false,
         "type": "scattergl",
         "x": {
          "bdata": "AQIDBAUGBwgJCgsMDQ4PEBESExQVFhcY",
          "dtype": "i1"
         },
         "xaxis": "x2",
         "y": {
          "bdata": "vzMsyXNvID+/MyzJc28gP78zLMlzbzA/vzMsyXNvMD+/MyzJc28wP55Nwq0tpzg/vzMsyXNvQD+vQHe7UItEP69Ad7tQi0Q/jloNoArDTD+/MyzJc29QPze6UUJifVI/N7pRQmJ9Uj83ulFCYn1SPze6UUJifVI/r0B3u1CLVD+vQHe7UItUP55Nwq0tp1g/jloNoArDXD+OWg2gCsNcP45aDaAKw1w/jloNoArDXD8G4TIZ+dBeP78zLMlzb2A/",
          "dtype": "f8"
         },
         "yaxis": "y2"
        },
        {
         "hovertemplate": "date=2031-03-31 00:00:00<br>variable=default_flag<br>default_month=%{x}<br>value=%{y}<extra></extra>",
         "legendgroup": "2031-03-31 00:00:00",
         "line": {
          "color": "#9467BD",
          "dash": "solid"
         },
         "marker": {
          "symbol": "circle"
         },
         "mode": "lines",
         "name": "2031-03-31 00:00:00",
         "showlegend": false,
         "type": "scattergl",
         "x": {
          "bdata": "AQIDBAUGBwgJCgsMDQ4PEBESExQVFhcY",
          "dtype": "i1"
         },
         "xaxis": "x3",
         "y": {
          "bdata": "vzMsyXNvID8AAAAAAAAAAL8zLMlzbyA/AAAAAAAAAAAAAAAAAAAAAL8zLMlzbyA/vzMsyXNvID+/MyzJc28gPwAAAAAAAAAAvzMsyXNvMD+/MyzJc28gP78zLMlzbyA/AAAAAAAAAAAAAAAAAAAAAAAAAAAAAAAAvzMsyXNvID8AAAAAAAAAAL8zLMlzbzA/vzMsyXNvMD8AAAAAAAAAAAAAAAAAAAAAAAAAAAAAAAC/MyzJc28gP78zLMlzbyA/",
          "dtype": "f8"
         },
         "yaxis": "y3"
        },
        {
         "hovertemplate": "date=2031-04-30 00:00:00<br>variable=id<br>default_month=%{x}<br>value=%{y}<extra></extra>",
         "legendgroup": "2031-04-30 00:00:00",
         "line": {
          "color": "#8C564B",
          "dash": "solid"
         },
         "marker": {
          "symbol": "circle"
         },
         "mode": "lines",
         "name": "2031-04-30 00:00:00",
         "showlegend": true,
         "type": "scattergl",
         "x": {
          "bdata": "AQIDBAUGBwgJCgsMDQ4PEBESExQVFhcY",
          "dtype": "i1"
         },
         "xaxis": "x",
         "y": {
          "bdata": "AAAAAAAmv0AAAAAAACa/QAAAAAAAJr9AAAAAAAAmv0AAAAAAACa/QAAAAAAAJr9AAAAAAAAmv0AAAAAAACa/QAAAAAAAJr9AAAAAAAAmv0AAAAAAACa/QAAAAAAAJr9AAAAAAAAmv0AAAAAAACa/QAAAAAAAJr9AAAAAAAAmv0AAAAAAACa/QAAAAAAAJr9AAAAAAAAmv0AAAAAAACa/QAAAAAAAJr9AAAAAAAAmv0AAAAAAACa/QAAAAAAAJr9A",
          "dtype": "f8"
         },
         "yaxis": "y"
        },
        {
         "hovertemplate": "date=2031-04-30 00:00:00<br>variable=cum_defaults<br>default_month=%{x}<br>value=%{y}<extra></extra>",
         "legendgroup": "2031-04-30 00:00:00",
         "line": {
          "color": "#8C564B",
          "dash": "solid"
         },
         "marker": {
          "symbol": "circle"
         },
         "mode": "lines",
         "name": "2031-04-30 00:00:00",
         "showlegend": false,
         "type": "scattergl",
         "x": {
          "bdata": "AQIDBAUGBwgJCgsMDQ4PEBESExQVFhcY",
          "dtype": "i1"
         },
         "xaxis": "x2",
         "y": {
          "bdata": "AAAAAAAAAADvmgHd+m8gP++aAd36byA/75oB3fpvID/vmgHd+m8wP2dogkv4pzg/75oB3fpvQD/vmgHd+m9AP2dogkv4p0g/I8/CAvfDTD/vmgHd+m9QP++aAd36b1A/75oB3fpvUD/vmgHd+m9QP03OoTj6fVI/Tc6hOPp9Uj8JNeLv+JlWP8WbIqf3tVo/xZsip/e1Wj/FmyKn97VaP8WbIqf3tVo/I8/CAvfDXD+BAmNe9tFeP4ECY1720V4/",
          "dtype": "f8"
         },
         "yaxis": "y2"
        },
        {
         "hovertemplate": "date=2031-04-30 00:00:00<br>variable=default_flag<br>default_month=%{x}<br>value=%{y}<extra></extra>",
         "legendgroup": "2031-04-30 00:00:00",
         "line": {
          "color": "#8C564B",
          "dash": "solid"
         },
         "marker": {
          "symbol": "circle"
         },
         "mode": "lines",
         "name": "2031-04-30 00:00:00",
         "showlegend": false,
         "type": "scattergl",
         "x": {
          "bdata": "AQIDBAUGBwgJCgsMDQ4PEBESExQVFhcY",
          "dtype": "i1"
         },
         "xaxis": "x3",
         "y": {
          "bdata": "AAAAAAAAAADvmgHd+m8gPwAAAAAAAAAAAAAAAAAAAADvmgHd+m8gP++aAd36byA/75oB3fpvID8AAAAAAAAAAO+aAd36bzA/75oB3fpvID/vmgHd+m8gPwAAAAAAAAAAAAAAAAAAAAAAAAAAAAAAAO+aAd36byA/AAAAAAAAAADvmgHd+m8wP++aAd36bzA/AAAAAAAAAAAAAAAAAAAAAAAAAAAAAAAA75oB3fpvID/vmgHd+m8gPwAAAAAAAAAA",
          "dtype": "f8"
         },
         "yaxis": "y3"
        },
        {
         "hovertemplate": "date=2031-05-31 00:00:00<br>variable=id<br>default_month=%{x}<br>value=%{y}<extra></extra>",
         "legendgroup": "2031-05-31 00:00:00",
         "line": {
          "color": "#E377C2",
          "dash": "solid"
         },
         "marker": {
          "symbol": "circle"
         },
         "mode": "lines",
         "name": "2031-05-31 00:00:00",
         "showlegend": true,
         "type": "scattergl",
         "x": {
          "bdata": "AQIDBAUGBwgJCgsMDQ4PEBESExQVFhcY",
          "dtype": "i1"
         },
         "xaxis": "x",
         "y": {
          "bdata": "AAAAAAAmv0AAAAAAACa/QAAAAAAAJr9AAAAAAAAmv0AAAAAAACa/QAAAAAAAJr9AAAAAAAAmv0AAAAAAACa/QAAAAAAAJr9AAAAAAAAmv0AAAAAAACa/QAAAAAAAJr9AAAAAAAAmv0AAAAAAACa/QAAAAAAAJr9AAAAAAAAmv0AAAAAAACa/QAAAAAAAJr9AAAAAAAAmv0AAAAAAACa/QAAAAAAAJr9AAAAAAAAmv0AAAAAAACa/QAAAAAAAJr9A",
          "dtype": "f8"
         },
         "yaxis": "y"
        },
        {
         "hovertemplate": "date=2031-05-31 00:00:00<br>variable=cum_defaults<br>default_month=%{x}<br>value=%{y}<extra></extra>",
         "legendgroup": "2031-05-31 00:00:00",
         "line": {
          "color": "#E377C2",
          "dash": "solid"
         },
         "marker": {
          "symbol": "circle"
         },
         "mode": "lines",
         "name": "2031-05-31 00:00:00",
         "showlegend": false,
         "type": "scattergl",
         "x": {
          "bdata": "AQIDBAUGBwgJCgsMDQ4PEBESExQVFhcY",
          "dtype": "i1"
         },
         "xaxis": "x2",
         "y": {
          "bdata": "75oB3fpvID/vmgHd+m8gP++aAd36byA/75oB3fpvMD9naIJL+Kc4P++aAd36b0A/75oB3fpvQD9naIJL+KdIPyPPwgL3w0w/75oB3fpvUD/vmgHd+m9QP++aAd36b1A/75oB3fpvUD9NzqE4+n1SP03OoTj6fVI/CTXi7/iZVj/FmyKn97VaP8WbIqf3tVo/xZsip/e1Wj/FmyKn97VaPyPPwgL3w1w/gQJjXvbRXj+BAmNe9tFeP4ECY1720V4/",
          "dtype": "f8"
         },
         "yaxis": "y2"
        },
        {
         "hovertemplate": "date=2031-05-31 00:00:00<br>variable=default_flag<br>default_month=%{x}<br>value=%{y}<extra></extra>",
         "legendgroup": "2031-05-31 00:00:00",
         "line": {
          "color": "#E377C2",
          "dash": "solid"
         },
         "marker": {
          "symbol": "circle"
         },
         "mode": "lines",
         "name": "2031-05-31 00:00:00",
         "showlegend": false,
         "type": "scattergl",
         "x": {
          "bdata": "AQIDBAUGBwgJCgsMDQ4PEBESExQVFhcY",
          "dtype": "i1"
         },
         "xaxis": "x3",
         "y": {
          "bdata": "75oB3fpvID8AAAAAAAAAAAAAAAAAAAAA75oB3fpvID/vmgHd+m8gP++aAd36byA/AAAAAAAAAADvmgHd+m8wP++aAd36byA/75oB3fpvID8AAAAAAAAAAAAAAAAAAAAAAAAAAAAAAADvmgHd+m8gPwAAAAAAAAAA75oB3fpvMD/vmgHd+m8wPwAAAAAAAAAAAAAAAAAAAAAAAAAAAAAAAO+aAd36byA/75oB3fpvID8AAAAAAAAAAAAAAAAAAAAA",
          "dtype": "f8"
         },
         "yaxis": "y3"
        },
        {
         "hovertemplate": "date=2031-06-30 00:00:00<br>variable=id<br>default_month=%{x}<br>value=%{y}<extra></extra>",
         "legendgroup": "2031-06-30 00:00:00",
         "line": {
          "color": "#7F7F7F",
          "dash": "solid"
         },
         "marker": {
          "symbol": "circle"
         },
         "mode": "lines",
         "name": "2031-06-30 00:00:00",
         "showlegend": true,
         "type": "scattergl",
         "x": {
          "bdata": "AQIDBAUGBwgJCgsMDQ4PEBESExQVFhcY",
          "dtype": "i1"
         },
         "xaxis": "x",
         "y": {
          "bdata": "AAAAAAAlv0AAAAAAACW/QAAAAAAAJb9AAAAAAAAlv0AAAAAAACW/QAAAAAAAJb9AAAAAAAAlv0AAAAAAACW/QAAAAAAAJb9AAAAAAAAlv0AAAAAAACW/QAAAAAAAJb9AAAAAAAAlv0AAAAAAACW/QAAAAAAAJb9AAAAAAAAlv0AAAAAAACW/QAAAAAAAJb9AAAAAAAAlv0AAAAAAACW/QAAAAAAAJb9AAAAAAAAlv0AAAAAAACW/QAAAAAAAJb9A",
          "dtype": "f8"
         },
         "yaxis": "y"
        },
        {
         "hovertemplate": "date=2031-06-30 00:00:00<br>variable=cum_defaults<br>default_month=%{x}<br>value=%{y}<extra></extra>",
         "legendgroup": "2031-06-30 00:00:00",
         "line": {
          "color": "#7F7F7F",
          "dash": "solid"
         },
         "marker": {
          "symbol": "circle"
         },
         "mode": "lines",
         "name": "2031-06-30 00:00:00",
         "showlegend": false,
         "type": "scattergl",
         "x": {
          "bdata": "AQIDBAUGBwgJCgsMDQ4PEBESExQVFhcY",
          "dtype": "i1"
         },
         "xaxis": "x2",
         "y": {
          "bdata": "AAAAAAAAAAAAAAAAAAAAALmcg/mBcCA/uZyD+YFwMD8Va0X2wqg4PxVrRfbCqDg/54Pkd6KMRD8Va0X2wqhIP0NSpnTjxEw/Q1KmdOPETD9DUqZ048RMP0NSpnTjxEw/uZyD+YFwUD+5nIP5gXBQP+eD5HeijFQ/FWtF9sKoWD8Va0X2wqhYPxVrRfbCqFg/FWtF9sKoWD+s3nU107ZaP0NSpnTjxFw/Q1KmdOPEXD9DUqZ048RcP0NSpnTjxFw/",
          "dtype": "f8"
         },
         "yaxis": "y2"
        },
        {
         "hovertemplate": "date=2031-06-30 00:00:00<br>variable=default_flag<br>default_month=%{x}<br>value=%{y}<extra></extra>",
         "legendgroup": "2031-06-30 00:00:00",
         "line": {
          "color": "#7F7F7F",
          "dash": "solid"
         },
         "marker": {
          "symbol": "circle"
         },
         "mode": "lines",
         "name": "2031-06-30 00:00:00",
         "showlegend": false,
         "type": "scattergl",
         "x": {
          "bdata": "AQIDBAUGBwgJCgsMDQ4PEBESExQVFhcY",
          "dtype": "i1"
         },
         "xaxis": "x3",
         "y": {
          "bdata": "AAAAAAAAAAAAAAAAAAAAALmcg/mBcCA/uZyD+YFwID+5nIP5gXAgPwAAAAAAAAAAuZyD+YFwMD+5nIP5gXAgP7mcg/mBcCA/AAAAAAAAAAAAAAAAAAAAAAAAAAAAAAAAuZyD+YFwID8AAAAAAAAAALmcg/mBcDA/uZyD+YFwMD8AAAAAAAAAAAAAAAAAAAAAAAAAAAAAAAC5nIP5gXAgP7mcg/mBcCA/AAAAAAAAAAAAAAAAAAAAAAAAAAAAAAAA",
          "dtype": "f8"
         },
         "yaxis": "y3"
        },
        {
         "hovertemplate": "date=2031-07-31 00:00:00<br>variable=id<br>default_month=%{x}<br>value=%{y}<extra></extra>",
         "legendgroup": "2031-07-31 00:00:00",
         "line": {
          "color": "#BCBD22",
          "dash": "solid"
         },
         "marker": {
          "symbol": "circle"
         },
         "mode": "lines",
         "name": "2031-07-31 00:00:00",
         "showlegend": true,
         "type": "scattergl",
         "x": {
          "bdata": "AQIDBAUGBwgJCgsMDQ4PEBESExQVFhcY",
          "dtype": "i1"
         },
         "xaxis": "x",
         "y": {
          "bdata": "AAAAAAAlv0AAAAAAACW/QAAAAAAAJb9AAAAAAAAlv0AAAAAAACW/QAAAAAAAJb9AAAAAAAAlv0AAAAAAACW/QAAAAAAAJb9AAAAAAAAlv0AAAAAAACW/QAAAAAAAJb9AAAAAAAAlv0AAAAAAACW/QAAAAAAAJb9AAAAAAAAlv0AAAAAAACW/QAAAAAAAJb9AAAAAAAAlv0AAAAAAACW/QAAAAAAAJb9AAAAAAAAlv0AAAAAAACW/QAAAAAAAJb9A",
          "dtype": "f8"
         },
         "yaxis": "y"
        },
        {
         "hovertemplate": "date=2031-07-31 00:00:00<br>variable=cum_defaults<br>default_month=%{x}<br>value=%{y}<extra></extra>",
         "legendgroup": "2031-07-31 00:00:00",
         "line": {
          "color": "#BCBD22",
          "dash": "solid"
         },
         "marker": {
          "symbol": "circle"
         },
         "mode": "lines",
         "name": "2031-07-31 00:00:00",
         "showlegend": false,
         "type": "scattergl",
         "x": {
          "bdata": "AQIDBAUGBwgJCgsMDQ4PEBESExQVFhcY",
          "dtype": "i1"
         },
         "xaxis": "x2",
         "y": {
          "bdata": "AAAAAAAAAAC5nIP5gXAgP7mcg/mBcDA/FWtF9sKoOD8Va0X2wqg4P+eD5HeijEQ/FWtF9sKoSD9DUqZ048RMP0NSpnTjxEw/Q1KmdOPETD9DUqZ048RMP7mcg/mBcFA/uZyD+YFwUD/ng+R3ooxUPxVrRfbCqFg/FWtF9sKoWD8Va0X2wqhYPxVrRfbCqFg/rN51NdO2Wj9DUqZ048RcP0NSpnTjxFw/Q1KmdOPEXD9DUqZ048RcP0NSpnTjxFw/",
          "dtype": "f8"
         },
         "yaxis": "y2"
        },
        {
         "hovertemplate": "date=2031-07-31 00:00:00<br>variable=default_flag<br>default_month=%{x}<br>value=%{y}<extra></extra>",
         "legendgroup": "2031-07-31 00:00:00",
         "line": {
          "color": "#BCBD22",
          "dash": "solid"
         },
         "marker": {
          "symbol": "circle"
         },
         "mode": "lines",
         "name": "2031-07-31 00:00:00",
         "showlegend": false,
         "type": "scattergl",
         "x": {
          "bdata": "AQIDBAUGBwgJCgsMDQ4PEBESExQVFhcY",
          "dtype": "i1"
         },
         "xaxis": "x3",
         "y": {
          "bdata": "AAAAAAAAAAC5nIP5gXAgP7mcg/mBcCA/uZyD+YFwID8AAAAAAAAAALmcg/mBcDA/uZyD+YFwID+5nIP5gXAgPwAAAAAAAAAAAAAAAAAAAAAAAAAAAAAAALmcg/mBcCA/AAAAAAAAAAC5nIP5gXAwP7mcg/mBcDA/AAAAAAAAAAAAAAAAAAAAAAAAAAAAAAAAuZyD+YFwID+5nIP5gXAgPwAAAAAAAAAAAAAAAAAAAAAAAAAAAAAAAAAAAAAAAAAA",
          "dtype": "f8"
         },
         "yaxis": "y3"
        },
        {
         "hovertemplate": "date=2031-08-31 00:00:00<br>variable=id<br>default_month=%{x}<br>value=%{y}<extra></extra>",
         "legendgroup": "2031-08-31 00:00:00",
         "line": {
          "color": "#17BECF",
          "dash": "solid"
         },
         "marker": {
          "symbol": "circle"
         },
         "mode": "lines",
         "name": "2031-08-31 00:00:00",
         "showlegend": true,
         "type": "scattergl",
         "x": {
          "bdata": "AQIDBAUGBwgJCgsMDQ4PEBESExQVFhcY",
          "dtype": "i1"
         },
         "xaxis": "x",
         "y": {
          "bdata": "AAAAAAAlv0AAAAAAACW/QAAAAAAAJb9AAAAAAAAlv0AAAAAAACW/QAAAAAAAJb9AAAAAAAAlv0AAAAAAACW/QAAAAAAAJb9AAAAAAAAlv0AAAAAAACW/QAAAAAAAJb9AAAAAAAAlv0AAAAAAACW/QAAAAAAAJb9AAAAAAAAlv0AAAAAAACW/QAAAAAAAJb9AAAAAAAAlv0AAAAAAACW/QAAAAAAAJb9AAAAAAAAlv0AAAAAAACW/QAAAAAAAJb9A",
          "dtype": "f8"
         },
         "yaxis": "y"
        },
        {
         "hovertemplate": "date=2031-08-31 00:00:00<br>variable=cum_defaults<br>default_month=%{x}<br>value=%{y}<extra></extra>",
         "legendgroup": "2031-08-31 00:00:00",
         "line": {
          "color": "#17BECF",
          "dash": "solid"
         },
         "marker": {
          "symbol": "circle"
         },
         "mode": "lines",
         "name": "2031-08-31 00:00:00",
         "showlegend": false,
         "type": "scattergl",
         "x": {
          "bdata": "AQIDBAUGBwgJCgsMDQ4PEBESExQVFhcY",
          "dtype": "i1"
         },
         "xaxis": "x2",
         "y": {
          "bdata": "uZyD+YFwID+5nIP5gXAwPxVrRfbCqDg/FWtF9sKoOD/ng+R3ooxEPxVrRfbCqEg/Q1KmdOPETD9DUqZ048RMP0NSpnTjxEw/Q1KmdOPETD+5nIP5gXBQP7mcg/mBcFA/54Pkd6KMVD8Va0X2wqhYPxVrRfbCqFg/FWtF9sKoWD8Va0X2wqhYP6zedTXTtlo/Q1KmdOPEXD9DUqZ048RcP0NSpnTjxFw/Q1KmdOPEXD9DUqZ048RcP0NSpnTjxFw/",
          "dtype": "f8"
         },
         "yaxis": "y2"
        },
        {
         "hovertemplate": "date=2031-08-31 00:00:00<br>variable=default_flag<br>default_month=%{x}<br>value=%{y}<extra></extra>",
         "legendgroup": "2031-08-31 00:00:00",
         "line": {
          "color": "#17BECF",
          "dash": "solid"
         },
         "marker": {
          "symbol": "circle"
         },
         "mode": "lines",
         "name": "2031-08-31 00:00:00",
         "showlegend": false,
         "type": "scattergl",
         "x": {
          "bdata": "AQIDBAUGBwgJCgsMDQ4PEBESExQVFhcY",
          "dtype": "i1"
         },
         "xaxis": "x3",
         "y": {
          "bdata": "uZyD+YFwID+5nIP5gXAgP7mcg/mBcCA/AAAAAAAAAAC5nIP5gXAwP7mcg/mBcCA/uZyD+YFwID8AAAAAAAAAAAAAAAAAAAAAAAAAAAAAAAC5nIP5gXAgPwAAAAAAAAAAuZyD+YFwMD+5nIP5gXAwPwAAAAAAAAAAAAAAAAAAAAAAAAAAAAAAALmcg/mBcCA/uZyD+YFwID8AAAAAAAAAAAAAAAAAAAAAAAAAAAAAAAAAAAAAAAAAAAAAAAAAAAAA",
          "dtype": "f8"
         },
         "yaxis": "y3"
        },
        {
         "hovertemplate": "date=2031-09-30 00:00:00<br>variable=id<br>default_month=%{x}<br>value=%{y}<extra></extra>",
         "legendgroup": "2031-09-30 00:00:00",
         "line": {
          "color": "#1F77B4",
          "dash": "solid"
         },
         "marker": {
          "symbol": "circle"
         },
         "mode": "lines",
         "name": "2031-09-30 00:00:00",
         "showlegend": true,
         "type": "scattergl",
         "x": {
          "bdata": "AQIDBAUGBwgJCgsMDQ4PEBESExQVFhcY",
          "dtype": "i1"
         },
         "xaxis": "x",
         "y": {
          "bdata": "AAAAAAAkv0AAAAAAACS/QAAAAAAAJL9AAAAAAAAkv0AAAAAAACS/QAAAAAAAJL9AAAAAAAAkv0AAAAAAACS/QAAAAAAAJL9AAAAAAAAkv0AAAAAAACS/QAAAAAAAJL9AAAAAAAAkv0AAAAAAACS/QAAAAAAAJL9AAAAAAAAkv0AAAAAAACS/QAAAAAAAJL9AAAAAAAAkv0AAAAAAACS/QAAAAAAAJL9AAAAAAAAkv0AAAAAAACS/QAAAAAAAJL9A",
          "dtype": "f8"
         },
         "yaxis": "y"
        },
        {
         "hovertemplate": "date=2031-09-30 00:00:00<br>variable=cum_defaults<br>default_month=%{x}<br>value=%{y}<extra></extra>",
         "legendgroup": "2031-09-30 00:00:00",
         "line": {
          "color": "#1F77B4",
          "dash": "solid"
         },
         "marker": {
          "symbol": "circle"
         },
         "mode": "lines",
         "name": "2031-09-30 00:00:00",
         "showlegend": false,
         "type": "scattergl",
         "x": {
          "bdata": "AQIDBAUGBwgJCgsMDQ4PEBESExQVFhcY",
          "dtype": "i1"
         },
         "xaxis": "x2",
         "y": {
          "bdata": "Bw+zHglxID8HD7MeCXEwPwcPsx4JcTA/Bw+zHglxQD/J0l9mS41EP4uWDK6NqUg/i5YMro2pSD+LlgyujalIP4uWDK6NqUg/TVq59c/FTD9NWrn1z8VMP+hwiUIqf1I/qjQ2imybVj+qNDaKbJtWP6o0Nopsm1Y/qjQ2imybVj+LlgyujalYP2z44tGut1o/bPji0a63Wj9s+OLRrrdaP2z44tGut1o/bPji0a63Wj9s+OLRrrdaP2z44tGut1o/",
          "dtype": "f8"
         },
         "yaxis": "y2"
        },
        {
         "hovertemplate": "date=2031-09-30 00:00:00<br>variable=default_flag<br>default_month=%{x}<br>value=%{y}<extra></extra>",
         "legendgroup": "2031-09-30 00:00:00",
         "line": {
          "color": "#1F77B4",
          "dash": "solid"
         },
         "marker": {
          "symbol": "circle"
         },
         "mode": "lines",
         "name": "2031-09-30 00:00:00",
         "showlegend": false,
         "type": "scattergl",
         "x": {
          "bdata": "AQIDBAUGBwgJCgsMDQ4PEBESExQVFhcY",
          "dtype": "i1"
         },
         "xaxis": "x3",
         "y": {
          "bdata": "Bw+zHglxID8HD7MeCXEgPwAAAAAAAAAABw+zHglxMD8HD7MeCXEgPwcPsx4JcSA/AAAAAAAAAAAAAAAAAAAAAAAAAAAAAAAABw+zHglxID8AAAAAAAAAAAcPsx4JcTA/Bw+zHglxMD8AAAAAAAAAAAAAAAAAAAAAAAAAAAAAAAAHD7MeCXEgPwcPsx4JcSA/AAAAAAAAAAAAAAAAAAAAAAAAAAAAAAAAAAAAAAAAAAAAAAAAAAAAAAAAAAAAAAAA",
          "dtype": "f8"
         },
         "yaxis": "y3"
        },
        {
         "hovertemplate": "date=2031-10-31 00:00:00<br>variable=id<br>default_month=%{x}<br>value=%{y}<extra></extra>",
         "legendgroup": "2031-10-31 00:00:00",
         "line": {
          "color": "#FF7F0E",
          "dash": "solid"
         },
         "marker": {
          "symbol": "circle"
         },
         "mode": "lines",
         "name": "2031-10-31 00:00:00",
         "showlegend": true,
         "type": "scattergl",
         "x": {
          "bdata": "AQIDBAUGBwgJCgsMDQ4PEBESExQVFhcY",
          "dtype": "i1"
         },
         "xaxis": "x",
         "y": {
          "bdata": "AAAAAAAjv0AAAAAAACO/QAAAAAAAI79AAAAAAAAjv0AAAAAAACO/QAAAAAAAI79AAAAAAAAjv0AAAAAAACO/QAAAAAAAI79AAAAAAAAjv0AAAAAAACO/QAAAAAAAI79AAAAAAAAjv0AAAAAAACO/QAAAAAAAI79AAAAAAAAjv0AAAAAAACO/QAAAAAAAI79AAAAAAAAjv0AAAAAAACO/QAAAAAAAI79AAAAAAAAjv0AAAAAAACO/QAAAAAAAI79A",
          "dtype": "f8"
         },
         "yaxis": "y"
        },
        {
         "hovertemplate": "date=2031-10-31 00:00:00<br>variable=cum_defaults<br>default_month=%{x}<br>value=%{y}<extra></extra>",
         "legendgroup": "2031-10-31 00:00:00",
         "line": {
          "color": "#FF7F0E",
          "dash": "solid"
         },
         "marker": {
          "symbol": "circle"
         },
         "mode": "lines",
         "name": "2031-10-31 00:00:00",
         "showlegend": false,
         "type": "scattergl",
         "x": {
          "bdata": "AQIDBAUGBwgJCgsMDQ4PEBESExQVFhcY",
          "dtype": "i1"
         },
         "xaxis": "x2",
         "y": {
          "bdata": "5ceQTJBxID/lx5BMkHEgP9cr2XJYqjg/5ceQTJBxQD/e+bRf9I1EP975tF/0jUQ/3vm0X/SNRD/e+bRf9I1EP9cr2XJYqkg/1yvZcliqSD/lx5BMkHFQP975tF/0jVQ/3vm0X/SNVD/e+bRf9I1UP975tF/0jVQ/2hJHaSacVj/XK9lyWKpYP9cr2XJYqlg/1yvZcliqWD/XK9lyWKpYP9cr2XJYqlg/1yvZcliqWD/XK9lyWKpYP9NEa3yKuFo/",
          "dtype": "f8"
         },
         "yaxis": "y2"
        },
        {
         "hovertemplate": "date=2031-10-31 00:00:00<br>variable=default_flag<br>default_month=%{x}<br>value=%{y}<extra></extra>",
         "legendgroup": "2031-10-31 00:00:00",
         "line": {
          "color": "#FF7F0E",
          "dash": "solid"
         },
         "marker": {
          "symbol": "circle"
         },
         "mode": "lines",
         "name": "2031-10-31 00:00:00",
         "showlegend": false,
         "type": "scattergl",
         "x": {
          "bdata": "AQIDBAUGBwgJCgsMDQ4PEBESExQVFhcY",
          "dtype": "i1"
         },
         "xaxis": "x3",
         "y": {
          "bdata": "5ceQTJBxID8AAAAAAAAAAOXHkEyQcTA/5ceQTJBxID/lx5BMkHEgPwAAAAAAAAAAAAAAAAAAAAAAAAAAAAAAAOXHkEyQcSA/AAAAAAAAAADlx5BMkHEwP+XHkEyQcTA/AAAAAAAAAAAAAAAAAAAAAAAAAAAAAAAA5ceQTJBxID/lx5BMkHEgPwAAAAAAAAAAAAAAAAAAAAAAAAAAAAAAAAAAAAAAAAAAAAAAAAAAAAAAAAAAAAAAAOXHkEyQcSA/",
          "dtype": "f8"
         },
         "yaxis": "y3"
        },
        {
         "hovertemplate": "date=2031-11-30 00:00:00<br>variable=id<br>default_month=%{x}<br>value=%{y}<extra></extra>",
         "legendgroup": "2031-11-30 00:00:00",
         "line": {
          "color": "#2CA02C",
          "dash": "solid"
         },
         "marker": {
          "symbol": "circle"
         },
         "mode": "lines",
         "name": "2031-11-30 00:00:00",
         "showlegend": true,
         "type": "scattergl",
         "x": {
          "bdata": "AQIDBAUGBwgJCgsMDQ4PEBESExQVFhcY",
          "dtype": "i1"
         },
         "xaxis": "x",
         "y": {
          "bdata": "AAAAAAAiv0AAAAAAACK/QAAAAAAAIr9AAAAAAAAiv0AAAAAAACK/QAAAAAAAIr9AAAAAAAAiv0AAAAAAACK/QAAAAAAAIr9AAAAAAAAiv0AAAAAAACK/QAAAAAAAIr9AAAAAAAAiv0AAAAAAACK/QAAAAAAAIr9AAAAAAAAiv0AAAAAAACK/QAAAAAAAIr9AAAAAAAAiv0AAAAAAACK/QAAAAAAAIr9AAAAAAAAiv0AAAAAAACK/QAAAAAAAIr9A",
          "dtype": "f8"
         },
         "yaxis": "y"
        },
        {
         "hovertemplate": "date=2031-11-30 00:00:00<br>variable=cum_defaults<br>default_month=%{x}<br>value=%{y}<extra></extra>",
         "legendgroup": "2031-11-30 00:00:00",
         "line": {
          "color": "#2CA02C",
          "dash": "solid"
         },
         "marker": {
          "symbol": "circle"
         },
         "mode": "lines",
         "name": "2031-11-30 00:00:00",
         "showlegend": false,
         "type": "scattergl",
         "x": {
          "bdata": "AQIDBAUGBwgJCgsMDQ4PEBESExQVFhcY",
          "dtype": "i1"
         },
         "xaxis": "x2",
         "y": {
          "bdata": "AAAAAAAAAAB0nR2DF3IwPy9srEQjqzg/dJ0dgxdyQD90nR2DF3JAP3SdHYMXckA/dJ0dgxdyQD/RBOVjnY5EP9EE5WOdjkQ/jNNzJanHTD8jUYFzWoBSPyNRgXNagFI/I1GBc1qAUj8jUYFzWoBSP9EE5WOdjlQ/gLhIVOCcVj+AuEhU4JxWP4C4SFTgnFY/gLhIVOCcVj+AuEhU4JxWP4C4SFTgnFY/gLhIVOCcVj8vbKxEI6tYPy9srEQjq1g/",
          "dtype": "f8"
         },
         "yaxis": "y2"
        },
        {
         "hovertemplate": "date=2031-11-30 00:00:00<br>variable=default_flag<br>default_month=%{x}<br>value=%{y}<extra></extra>",
         "legendgroup": "2031-11-30 00:00:00",
         "line": {
          "color": "#2CA02C",
          "dash": "solid"
         },
         "marker": {
          "symbol": "circle"
         },
         "mode": "lines",
         "name": "2031-11-30 00:00:00",
         "showlegend": false,
         "type": "scattergl",
         "x": {
          "bdata": "AQIDBAUGBwgJCgsMDQ4PEBESExQVFhcY",
          "dtype": "i1"
         },
         "xaxis": "x3",
         "y": {
          "bdata": "AAAAAAAAAAB0nR2DF3IwP3SdHYMXciA/dJ0dgxdyID8AAAAAAAAAAAAAAAAAAAAAAAAAAAAAAAB0nR2DF3IgPwAAAAAAAAAAdJ0dgxdyMD90nR2DF3IwPwAAAAAAAAAAAAAAAAAAAAAAAAAAAAAAAHSdHYMXciA/dJ0dgxdyID8AAAAAAAAAAAAAAAAAAAAAAAAAAAAAAAAAAAAAAAAAAAAAAAAAAAAAAAAAAAAAAAB0nR2DF3IgPwAAAAAAAAAA",
          "dtype": "f8"
         },
         "yaxis": "y3"
        },
        {
         "hovertemplate": "date=2031-12-31 00:00:00<br>variable=id<br>default_month=%{x}<br>value=%{y}<extra></extra>",
         "legendgroup": "2031-12-31 00:00:00",
         "line": {
          "color": "#D62728",
          "dash": "solid"
         },
         "marker": {
          "symbol": "circle"
         },
         "mode": "lines",
         "name": "2031-12-31 00:00:00",
         "showlegend": true,
         "type": "scattergl",
         "x": {
          "bdata": "AQIDBAUGBwgJCgsMDQ4PEBESExQVFhcY",
          "dtype": "i1"
         },
         "xaxis": "x",
         "y": {
          "bdata": "AAAAAAAiv0AAAAAAACK/QAAAAAAAIr9AAAAAAAAiv0AAAAAAACK/QAAAAAAAIr9AAAAAAAAiv0AAAAAAACK/QAAAAAAAIr9AAAAAAAAiv0AAAAAAACK/QAAAAAAAIr9AAAAAAAAiv0AAAAAAACK/QAAAAAAAIr9AAAAAAAAiv0AAAAAAACK/QAAAAAAAIr9AAAAAAAAiv0AAAAAAACK/QAAAAAAAIr9AAAAAAAAiv0AAAAAAACK/QAAAAAAAIr9A",
          "dtype": "f8"
         },
         "yaxis": "y"
        },
        {
         "hovertemplate": "date=2031-12-31 00:00:00<br>variable=cum_defaults<br>default_month=%{x}<br>value=%{y}<extra></extra>",
         "legendgroup": "2031-12-31 00:00:00",
         "line": {
          "color": "#D62728",
          "dash": "solid"
         },
         "marker": {
          "symbol": "circle"
         },
         "mode": "lines",
         "name": "2031-12-31 00:00:00",
         "showlegend": false,
         "type": "scattergl",
         "x": {
          "bdata": "AQIDBAUGBwgJCgsMDQ4PEBESExQVFhcY",
          "dtype": "i1"
         },
         "xaxis": "x2",
         "y": {
          "bdata": "dJ0dgxdyMD8vbKxEI6s4P3SdHYMXckA/dJ0dgxdyQD90nR2DF3JAP3SdHYMXckA/0QTlY52ORD/RBOVjnY5EP4zTcyWpx0w/I1GBc1qAUj8jUYFzWoBSPyNRgXNagFI/I1GBc1qAUj/RBOVjnY5UP4C4SFTgnFY/gLhIVOCcVj+AuEhU4JxWP4C4SFTgnFY/gLhIVOCcVj+AuEhU4JxWP4C4SFTgnFY/L2ysRCOrWD8vbKxEI6tYP90fEDVmuVo/",
          "dtype": "f8"
         },
         "yaxis": "y2"
        },
        {
         "hovertemplate": "date=2031-12-31 00:00:00<br>variable=default_flag<br>default_month=%{x}<br>value=%{y}<extra></extra>",
         "legendgroup": "2031-12-31 00:00:00",
         "line": {
          "color": "#D62728",
          "dash": "solid"
         },
         "marker": {
          "symbol": "circle"
         },
         "mode": "lines",
         "name": "2031-12-31 00:00:00",
         "showlegend": false,
         "type": "scattergl",
         "x": {
          "bdata": "AQIDBAUGBwgJCgsMDQ4PEBESExQVFhcY",
          "dtype": "i1"
         },
         "xaxis": "x3",
         "y": {
          "bdata": "dJ0dgxdyMD90nR2DF3IgP3SdHYMXciA/AAAAAAAAAAAAAAAAAAAAAAAAAAAAAAAAdJ0dgxdyID8AAAAAAAAAAHSdHYMXcjA/dJ0dgxdyMD8AAAAAAAAAAAAAAAAAAAAAAAAAAAAAAAB0nR2DF3IgP3SdHYMXciA/AAAAAAAAAAAAAAAAAAAAAAAAAAAAAAAAAAAAAAAAAAAAAAAAAAAAAAAAAAAAAAAAdJ0dgxdyID8AAAAAAAAAAHSdHYMXciA/",
          "dtype": "f8"
         },
         "yaxis": "y3"
        },
        {
         "hovertemplate": "date=2032-01-31 00:00:00<br>variable=id<br>default_month=%{x}<br>value=%{y}<extra></extra>",
         "legendgroup": "2032-01-31 00:00:00",
         "line": {
          "color": "#9467BD",
          "dash": "solid"
         },
         "marker": {
          "symbol": "circle"
         },
         "mode": "lines",
         "name": "2032-01-31 00:00:00",
         "showlegend": true,
         "type": "scattergl",
         "x": {
          "bdata": "AQIDBAUGBwgJCgsMDQ4PEBESExQVFhcY",
          "dtype": "i1"
         },
         "xaxis": "x",
         "y": {
          "bdata": "AAAAAAAgv0AAAAAAACC/QAAAAAAAIL9AAAAAAAAgv0AAAAAAACC/QAAAAAAAIL9AAAAAAAAgv0AAAAAAACC/QAAAAAAAIL9AAAAAAAAgv0AAAAAAACC/QAAAAAAAIL9AAAAAAAAgv0AAAAAAACC/QAAAAAAAIL9AAAAAAAAgv0AAAAAAACC/QAAAAAAAIL9AAAAAAAAgv0AAAAAAACC/QAAAAAAAIL9AAAAAAAAgv0AAAAAAACC/QAAAAAAAIL9A",
          "dtype": "f8"
         },
         "yaxis": "y"
        },
        {
         "hovertemplate": "date=2032-01-31 00:00:00<br>variable=cum_defaults<br>default_month=%{x}<br>value=%{y}<extra></extra>",
         "legendgroup": "2032-01-31 00:00:00",
         "line": {
          "color": "#9467BD",
          "dash": "solid"
         },
         "marker": {
          "symbol": "circle"
         },
         "mode": "lines",
         "name": "2032-01-31 00:00:00",
         "showlegend": false,
         "type": "scattergl",
         "x": {
          "bdata": "AQIDBAUGBwgJCgsMDQ4PEBESExQVFhcY",
          "dtype": "i1"
         },
         "xaxis": "x2",
         "y": {
          "bdata": "xvdHCiZzID/G90cKJnMwP8b3RwomczA/xvdHCiZzMD/G90cKJnMwP6rzaw+5rDg/qvNrD7msOD+49dmM749EP5vx/ZGCyUw/m/H9kYLJTD+b8f2RgslMP5vx/ZGCyUw/xvdHCiZzUD+/9pDLioFSP7/2kMuKgVI/v/aQy4qBUj+/9pDLioFSP7/2kMuKgVI/v/aQy4qBUj+/9pDLioFSP7j12Yzvj1Q/uPXZjO+PVD+x9CJOVJ5WP7H0Ik5UnlY/",
          "dtype": "f8"
         },
         "yaxis": "y2"
        },
        {
         "hovertemplate": "date=2032-01-31 00:00:00<br>variable=default_flag<br>default_month=%{x}<br>value=%{y}<extra></extra>",
         "legendgroup": "2032-01-31 00:00:00",
         "line": {
          "color": "#9467BD",
          "dash": "solid"
         },
         "marker": {
          "symbol": "circle"
         },
         "mode": "lines",
         "name": "2032-01-31 00:00:00",
         "showlegend": false,
         "type": "scattergl",
         "x": {
          "bdata": "AQIDBAUGBwgJCgsMDQ4PEBESExQVFhcY",
          "dtype": "i1"
         },
         "xaxis": "x3",
         "y": {
          "bdata": "xvdHCiZzID/G90cKJnMgPwAAAAAAAAAAAAAAAAAAAAAAAAAAAAAAAMb3RwomcyA/AAAAAAAAAADG90cKJnMwP8b3RwomczA/AAAAAAAAAAAAAAAAAAAAAAAAAAAAAAAAxvdHCiZzID/G90cKJnMgPwAAAAAAAAAAAAAAAAAAAAAAAAAAAAAAAAAAAAAAAAAAAAAAAAAAAAAAAAAAAAAAAMb3RwomcyA/AAAAAAAAAADG90cKJnMgPwAAAAAAAAAA",
          "dtype": "f8"
         },
         "yaxis": "y3"
        },
        {
         "hovertemplate": "date=2032-02-29 00:00:00<br>variable=id<br>default_month=%{x}<br>value=%{y}<extra></extra>",
         "legendgroup": "2032-02-29 00:00:00",
         "line": {
          "color": "#8C564B",
          "dash": "solid"
         },
         "marker": {
          "symbol": "circle"
         },
         "mode": "lines",
         "name": "2032-02-29 00:00:00",
         "showlegend": true,
         "type": "scattergl",
         "x": {
          "bdata": "AQIDBAUGBwgJCgsMDQ4PEBESExQVFhcY",
          "dtype": "i1"
         },
         "xaxis": "x",
         "y": {
          "bdata": "AAAAAAAfv0AAAAAAAB+/QAAAAAAAH79AAAAAAAAfv0AAAAAAAB+/QAAAAAAAH79AAAAAAAAfv0AAAAAAAB+/QAAAAAAAH79AAAAAAAAfv0AAAAAAAB+/QAAAAAAAH79AAAAAAAAfv0AAAAAAAB+/QAAAAAAAH79AAAAAAAAfv0AAAAAAAB+/QAAAAAAAH79AAAAAAAAfv0AAAAAAAB+/QAAAAAAAH79AAAAAAAAfv0AAAAAAAB+/QAAAAAAAH79A",
          "dtype": "f8"
         },
         "yaxis": "y"
        },
        {
         "hovertemplate": "date=2032-02-29 00:00:00<br>variable=cum_defaults<br>default_month=%{x}<br>value=%{y}<extra></extra>",
         "legendgroup": "2032-02-29 00:00:00",
         "line": {
          "color": "#8C564B",
          "dash": "solid"
         },
         "marker": {
          "symbol": "circle"
         },
         "mode": "lines",
         "name": "2032-02-29 00:00:00",
         "showlegend": false,
         "type": "scattergl",
         "x": {
          "bdata": "AQIDBAUGBwgJCgsMDQ4PEBESExQVFhcY",
          "dtype": "i1"
         },
         "xaxis": "x2",
         "y": {
          "bdata": "WynnWq1zID9bKedarXMgP1sp51qtcyA/WynnWq1zID9bKedarXMwP1sp51qtczA/WynnWq1zQD8IvloIhK1IPwi+WgiErUg/CL5aCIStSD8IvloIhK1IP1+IFF9vykw/WynnWq1zUD9bKedarXNQP1sp51qtc1A/WynnWq1zUD9bKedarXNQP1sp51qtc1A/WynnWq1zUD+GDkQGI4JSP4YORAYjglI/sfOgsZiQVD+x86CxmJBUP7HzoLGYkFQ/",
          "dtype": "f8"
         },
         "yaxis": "y2"
        },
        {
         "hovertemplate": "date=2032-02-29 00:00:00<br>variable=default_flag<br>default_month=%{x}<br>value=%{y}<extra></extra>",
         "legendgroup": "2032-02-29 00:00:00",
         "line": {
          "color": "#8C564B",
          "dash": "solid"
         },
         "marker": {
          "symbol": "circle"
         },
         "mode": "lines",
         "name": "2032-02-29 00:00:00",
         "showlegend": false,
         "type": "scattergl",
         "x": {
          "bdata": "AQIDBAUGBwgJCgsMDQ4PEBESExQVFhcY",
          "dtype": "i1"
         },
         "xaxis": "x3",
         "y": {
          "bdata": "WynnWq1zID8AAAAAAAAAAAAAAAAAAAAAAAAAAAAAAABbKedarXMgPwAAAAAAAAAAWynnWq1zMD9bKedarXMwPwAAAAAAAAAAAAAAAAAAAAAAAAAAAAAAAFsp51qtcyA/WynnWq1zID8AAAAAAAAAAAAAAAAAAAAAAAAAAAAAAAAAAAAAAAAAAAAAAAAAAAAAAAAAAAAAAABbKedarXMgPwAAAAAAAAAAWynnWq1zID8AAAAAAAAAAAAAAAAAAAAA",
          "dtype": "f8"
         },
         "yaxis": "y3"
        },
        {
         "hovertemplate": "date=2032-03-31 00:00:00<br>variable=id<br>default_month=%{x}<br>value=%{y}<extra></extra>",
         "legendgroup": "2032-03-31 00:00:00",
         "line": {
          "color": "#E377C2",
          "dash": "solid"
         },
         "marker": {
          "symbol": "circle"
         },
         "mode": "lines",
         "name": "2032-03-31 00:00:00",
         "showlegend": true,
         "type": "scattergl",
         "x": {
          "bdata": "AQIDBAUGBwgJCgsMDQ4PEBESExQVFhcY",
          "dtype": "i1"
         },
         "xaxis": "x",
         "y": {
          "bdata": "AAAAAAAev0AAAAAAAB6/QAAAAAAAHr9AAAAAAAAev0AAAAAAAB6/QAAAAAAAHr9AAAAAAAAev0AAAAAAAB6/QAAAAAAAHr9AAAAAAAAev0AAAAAAAB6/QAAAAAAAHr9AAAAAAAAev0AAAAAAAB6/QAAAAAAAHr9AAAAAAAAev0AAAAAAAB6/QAAAAAAAHr9AAAAAAAAev0AAAAAAAB6/QAAAAAAAHr9AAAAAAAAev0AAAAAAAB6/QAAAAAAAHr9A",
          "dtype": "f8"
         },
         "yaxis": "y"
        },
        {
         "hovertemplate": "date=2032-03-31 00:00:00<br>variable=cum_defaults<br>default_month=%{x}<br>value=%{y}<extra></extra>",
         "legendgroup": "2032-03-31 00:00:00",
         "line": {
          "color": "#E377C2",
          "dash": "solid"
         },
         "marker": {
          "symbol": "circle"
         },
         "mode": "lines",
         "name": "2032-03-31 00:00:00",
         "showlegend": false,
         "type": "scattergl",
         "x": {
          "bdata": "AQIDBAUGBwgJCgsMDQ4PEBESExQVFhcY",
          "dtype": "i1"
         },
         "xaxis": "x2",
         "y": {
          "bdata": "AAAAAAAAAAAAAAAAAAAAAAAAAAAAAAAARtE4tDR0ID9G0Ti0NHQgP+k5VQ5Prjg/lwVH4UGRRD+XBUfhQZFEP5cFR+FBkUQ/lwVH4UGRRD/pOVUOT65IPzpuYztcy0w/Om5jO1zLTD86bmM7XMtMPzpuYztcy0w/Om5jO1zLTD86bmM7XMtMPzpuYztcy0w/RtE4tDR0UD9G0Ti0NHRQP2/rv0q7glI/b+u/SruCUj9v679Ku4JSP2/rv0q7glI/",
          "dtype": "f8"
         },
         "yaxis": "y2"
        },
        {
         "hovertemplate": "date=2032-03-31 00:00:00<br>variable=default_flag<br>default_month=%{x}<br>value=%{y}<extra></extra>",
         "legendgroup": "2032-03-31 00:00:00",
         "line": {
          "color": "#E377C2",
          "dash": "solid"
         },
         "marker": {
          "symbol": "circle"
         },
         "mode": "lines",
         "name": "2032-03-31 00:00:00",
         "showlegend": false,
         "type": "scattergl",
         "x": {
          "bdata": "AQIDBAUGBwgJCgsMDQ4PEBESExQVFhcY",
          "dtype": "i1"
         },
         "xaxis": "x3",
         "y": {
          "bdata": "AAAAAAAAAAAAAAAAAAAAAAAAAAAAAAAARtE4tDR0ID8AAAAAAAAAAEbROLQ0dDA/RtE4tDR0MD8AAAAAAAAAAAAAAAAAAAAAAAAAAAAAAABG0Ti0NHQgP0bROLQ0dCA/AAAAAAAAAAAAAAAAAAAAAAAAAAAAAAAAAAAAAAAAAAAAAAAAAAAAAAAAAAAAAAAARtE4tDR0ID8AAAAAAAAAAEbROLQ0dCA/AAAAAAAAAAAAAAAAAAAAAAAAAAAAAAAA",
          "dtype": "f8"
         },
         "yaxis": "y3"
        },
        {
         "hovertemplate": "date=2032-04-30 00:00:00<br>variable=id<br>default_month=%{x}<br>value=%{y}<extra></extra>",
         "legendgroup": "2032-04-30 00:00:00",
         "line": {
          "color": "#7F7F7F",
          "dash": "solid"
         },
         "marker": {
          "symbol": "circle"
         },
         "mode": "lines",
         "name": "2032-04-30 00:00:00",
         "showlegend": true,
         "type": "scattergl",
         "x": {
          "bdata": "AQIDBAUGBwgJCgsMDQ4PEBESExQVFhcY",
          "dtype": "i1"
         },
         "xaxis": "x",
         "y": {
          "bdata": "AAAAAAAev0AAAAAAAB6/QAAAAAAAHr9AAAAAAAAev0AAAAAAAB6/QAAAAAAAHr9AAAAAAAAev0AAAAAAAB6/QAAAAAAAHr9AAAAAAAAev0AAAAAAAB6/QAAAAAAAHr9AAAAAAAAev0AAAAAAAB6/QAAAAAAAHr9AAAAAAAAev0AAAAAAAB6/QAAAAAAAHr9AAAAAAAAev0AAAAAAAB6/QAAAAAAAHr9AAAAAAAAev0AAAAAAAB6/QAAAAAAAHr9A",
          "dtype": "f8"
         },
         "yaxis": "y"
        },
        {
         "hovertemplate": "date=2032-04-30 00:00:00<br>variable=cum_defaults<br>default_month=%{x}<br>value=%{y}<extra></extra>",
         "legendgroup": "2032-04-30 00:00:00",
         "line": {
          "color": "#7F7F7F",
          "dash": "solid"
         },
         "marker": {
          "symbol": "circle"
         },
         "mode": "lines",
         "name": "2032-04-30 00:00:00",
         "showlegend": false,
         "type": "scattergl",
         "x": {
          "bdata": "AQIDBAUGBwgJCgsMDQ4PEBESExQVFhcY",
          "dtype": "i1"
         },
         "xaxis": "x2",
         "y": {
          "bdata": "AAAAAAAAAAAAAAAAAAAAAEbROLQ0dCA/RtE4tDR0ID/pOVUOT644P5cFR+FBkUQ/lwVH4UGRRD+XBUfhQZFEP5cFR+FBkUQ/6TlVDk+uSD86bmM7XMtMPzpuYztcy0w/Om5jO1zLTD86bmM7XMtMPzpuYztcy0w/Om5jO1zLTD86bmM7XMtMP0bROLQ0dFA/RtE4tDR0UD9v679Ku4JSP2/rv0q7glI/b+u/SruCUj9v679Ku4JSP2/rv0q7glI/",
          "dtype": "f8"
         },
         "yaxis": "y2"
        },
        {
         "hovertemplate": "date=2032-04-30 00:00:00<br>variable=default_flag<br>default_month=%{x}<br>value=%{y}<extra></extra>",
         "legendgroup": "2032-04-30 00:00:00",
         "line": {
          "color": "#7F7F7F",
          "dash": "solid"
         },
         "marker": {
          "symbol": "circle"
         },
         "mode": "lines",
         "name": "2032-04-30 00:00:00",
         "showlegend": false,
         "type": "scattergl",
         "x": {
          "bdata": "AQIDBAUGBwgJCgsMDQ4PEBESExQVFhcY",
          "dtype": "i1"
         },
         "xaxis": "x3",
         "y": {
          "bdata": "AAAAAAAAAAAAAAAAAAAAAEbROLQ0dCA/AAAAAAAAAABG0Ti0NHQwP0bROLQ0dDA/AAAAAAAAAAAAAAAAAAAAAAAAAAAAAAAARtE4tDR0ID9G0Ti0NHQgPwAAAAAAAAAAAAAAAAAAAAAAAAAAAAAAAAAAAAAAAAAAAAAAAAAAAAAAAAAAAAAAAEbROLQ0dCA/AAAAAAAAAABG0Ti0NHQgPwAAAAAAAAAAAAAAAAAAAAAAAAAAAAAAAAAAAAAAAAAA",
          "dtype": "f8"
         },
         "yaxis": "y3"
        },
        {
         "hovertemplate": "date=2032-05-31 00:00:00<br>variable=id<br>default_month=%{x}<br>value=%{y}<extra></extra>",
         "legendgroup": "2032-05-31 00:00:00",
         "line": {
          "color": "#BCBD22",
          "dash": "solid"
         },
         "marker": {
          "symbol": "circle"
         },
         "mode": "lines",
         "name": "2032-05-31 00:00:00",
         "showlegend": true,
         "type": "scattergl",
         "x": {
          "bdata": "AQIDBAUGBwgJCgsMDQ4PEBESExQVFhcY",
          "dtype": "i1"
         },
         "xaxis": "x",
         "y": {
          "bdata": "AAAAAAAev0AAAAAAAB6/QAAAAAAAHr9AAAAAAAAev0AAAAAAAB6/QAAAAAAAHr9AAAAAAAAev0AAAAAAAB6/QAAAAAAAHr9AAAAAAAAev0AAAAAAAB6/QAAAAAAAHr9AAAAAAAAev0AAAAAAAB6/QAAAAAAAHr9AAAAAAAAev0AAAAAAAB6/QAAAAAAAHr9AAAAAAAAev0AAAAAAAB6/QAAAAAAAHr9AAAAAAAAev0AAAAAAAB6/QAAAAAAAHr9A",
          "dtype": "f8"
         },
         "yaxis": "y"
        },
        {
         "hovertemplate": "date=2032-05-31 00:00:00<br>variable=cum_defaults<br>default_month=%{x}<br>value=%{y}<extra></extra>",
         "legendgroup": "2032-05-31 00:00:00",
         "line": {
          "color": "#BCBD22",
          "dash": "solid"
         },
         "marker": {
          "symbol": "circle"
         },
         "mode": "lines",
         "name": "2032-05-31 00:00:00",
         "showlegend": false,
         "type": "scattergl",
         "x": {
          "bdata": "AQIDBAUGBwgJCgsMDQ4PEBESExQVFhcY",
          "dtype": "i1"
         },
         "xaxis": "x2",
         "y": {
          "bdata": "AAAAAAAAAABG0Ti0NHQgP0bROLQ0dCA/6TlVDk+uOD+XBUfhQZFEP5cFR+FBkUQ/lwVH4UGRRD+XBUfhQZFEP+k5VQ5Prkg/Om5jO1zLTD86bmM7XMtMPzpuYztcy0w/Om5jO1zLTD86bmM7XMtMPzpuYztcy0w/Om5jO1zLTD9G0Ti0NHRQP0bROLQ0dFA/b+u/SruCUj9v679Ku4JSP2/rv0q7glI/b+u/SruCUj9v679Ku4JSP2/rv0q7glI/",
          "dtype": "f8"
         },
         "yaxis": "y2"
        },
        {
         "hovertemplate": "date=2032-05-31 00:00:00<br>variable=default_flag<br>default_month=%{x}<br>value=%{y}<extra></extra>",
         "legendgroup": "2032-05-31 00:00:00",
         "line": {
          "color": "#BCBD22",
          "dash": "solid"
         },
         "marker": {
          "symbol": "circle"
         },
         "mode": "lines",
         "name": "2032-05-31 00:00:00",
         "showlegend": false,
         "type": "scattergl",
         "x": {
          "bdata": "AQIDBAUGBwgJCgsMDQ4PEBESExQVFhcY",
          "dtype": "i1"
         },
         "xaxis": "x3",
         "y": {
          "bdata": "AAAAAAAAAABG0Ti0NHQgPwAAAAAAAAAARtE4tDR0MD9G0Ti0NHQwPwAAAAAAAAAAAAAAAAAAAAAAAAAAAAAAAEbROLQ0dCA/RtE4tDR0ID8AAAAAAAAAAAAAAAAAAAAAAAAAAAAAAAAAAAAAAAAAAAAAAAAAAAAAAAAAAAAAAABG0Ti0NHQgPwAAAAAAAAAARtE4tDR0ID8AAAAAAAAAAAAAAAAAAAAAAAAAAAAAAAAAAAAAAAAAAAAAAAAAAAAA",
          "dtype": "f8"
         },
         "yaxis": "y3"
        },
        {
         "hovertemplate": "date=2032-06-30 00:00:00<br>variable=id<br>default_month=%{x}<br>value=%{y}<extra></extra>",
         "legendgroup": "2032-06-30 00:00:00",
         "line": {
          "color": "#17BECF",
          "dash": "solid"
         },
         "marker": {
          "symbol": "circle"
         },
         "mode": "lines",
         "name": "2032-06-30 00:00:00",
         "showlegend": true,
         "type": "scattergl",
         "x": {
          "bdata": "AQIDBAUGBwgJCgsMDQ4PEBESExQVFhcY",
          "dtype": "i1"
         },
         "xaxis": "x",
         "y": {
          "bdata": "AAAAAAAev0AAAAAAAB6/QAAAAAAAHr9AAAAAAAAev0AAAAAAAB6/QAAAAAAAHr9AAAAAAAAev0AAAAAAAB6/QAAAAAAAHr9AAAAAAAAev0AAAAAAAB6/QAAAAAAAHr9AAAAAAAAev0AAAAAAAB6/QAAAAAAAHr9AAAAAAAAev0AAAAAAAB6/QAAAAAAAHr9AAAAAAAAev0AAAAAAAB6/QAAAAAAAHr9AAAAAAAAev0AAAAAAAB6/QAAAAAAAHr9A",
          "dtype": "f8"
         },
         "yaxis": "y"
        },
        {
         "hovertemplate": "date=2032-06-30 00:00:00<br>variable=cum_defaults<br>default_month=%{x}<br>value=%{y}<extra></extra>",
         "legendgroup": "2032-06-30 00:00:00",
         "line": {
          "color": "#17BECF",
          "dash": "solid"
         },
         "marker": {
          "symbol": "circle"
         },
         "mode": "lines",
         "name": "2032-06-30 00:00:00",
         "showlegend": false,
         "type": "scattergl",
         "x": {
          "bdata": "AQIDBAUGBwgJCgsMDQ4PEBESExQVFhcY",
          "dtype": "i1"
         },
         "xaxis": "x2",
         "y": {
          "bdata": "RtE4tDR0ID9G0Ti0NHQgP+k5VQ5Prjg/lwVH4UGRRD+XBUfhQZFEP5cFR+FBkUQ/lwVH4UGRRD/pOVUOT65IPzpuYztcy0w/Om5jO1zLTD86bmM7XMtMPzpuYztcy0w/Om5jO1zLTD86bmM7XMtMPzpuYztcy0w/RtE4tDR0UD9G0Ti0NHRQP2/rv0q7glI/b+u/SruCUj9v679Ku4JSP2/rv0q7glI/b+u/SruCUj9v679Ku4JSP2/rv0q7glI/",
          "dtype": "f8"
         },
         "yaxis": "y2"
        },
        {
         "hovertemplate": "date=2032-06-30 00:00:00<br>variable=default_flag<br>default_month=%{x}<br>value=%{y}<extra></extra>",
         "legendgroup": "2032-06-30 00:00:00",
         "line": {
          "color": "#17BECF",
          "dash": "solid"
         },
         "marker": {
          "symbol": "circle"
         },
         "mode": "lines",
         "name": "2032-06-30 00:00:00",
         "showlegend": false,
         "type": "scattergl",
         "x": {
          "bdata": "AQIDBAUGBwgJCgsMDQ4PEBESExQVFhcY",
          "dtype": "i1"
         },
         "xaxis": "x3",
         "y": {
          "bdata": "RtE4tDR0ID8AAAAAAAAAAEbROLQ0dDA/RtE4tDR0MD8AAAAAAAAAAAAAAAAAAAAAAAAAAAAAAABG0Ti0NHQgP0bROLQ0dCA/AAAAAAAAAAAAAAAAAAAAAAAAAAAAAAAAAAAAAAAAAAAAAAAAAAAAAAAAAAAAAAAARtE4tDR0ID8AAAAAAAAAAEbROLQ0dCA/AAAAAAAAAAAAAAAAAAAAAAAAAAAAAAAAAAAAAAAAAAAAAAAAAAAAAAAAAAAAAAAA",
          "dtype": "f8"
         },
         "yaxis": "y3"
        },
        {
         "hovertemplate": "date=2032-07-31 00:00:00<br>variable=id<br>default_month=%{x}<br>value=%{y}<extra></extra>",
         "legendgroup": "2032-07-31 00:00:00",
         "line": {
          "color": "#1F77B4",
          "dash": "solid"
         },
         "marker": {
          "symbol": "circle"
         },
         "mode": "lines",
         "name": "2032-07-31 00:00:00",
         "showlegend": true,
         "type": "scattergl",
         "x": {
          "bdata": "AQIDBAUGBwgJCgsMDQ4PEBESExQVFhcY",
          "dtype": "i1"
         },
         "xaxis": "x",
         "y": {
          "bdata": "AAAAAAAdv0AAAAAAAB2/QAAAAAAAHb9AAAAAAAAdv0AAAAAAAB2/QAAAAAAAHb9AAAAAAAAdv0AAAAAAAB2/QAAAAAAAHb9AAAAAAAAdv0AAAAAAAB2/QAAAAAAAHb9AAAAAAAAdv0AAAAAAAB2/QAAAAAAAHb9AAAAAAAAdv0AAAAAAAB2/QAAAAAAAHb9AAAAAAAAdv0AAAAAAAB2/QAAAAAAAHb9AAAAAAAAdv0AAAAAAAB2/QAAAAAAAHb9A",
          "dtype": "f8"
         },
         "yaxis": "y"
        },
        {
         "hovertemplate": "date=2032-07-31 00:00:00<br>variable=cum_defaults<br>default_month=%{x}<br>value=%{y}<extra></extra>",
         "legendgroup": "2032-07-31 00:00:00",
         "line": {
          "color": "#1F77B4",
          "dash": "solid"
         },
         "marker": {
          "symbol": "circle"
         },
         "mode": "lines",
         "name": "2032-07-31 00:00:00",
         "showlegend": false,
         "type": "scattergl",
         "x": {
          "bdata": "AQIDBAUGBwgJCgsMDQ4PEBESExQVFhcY",
          "dtype": "i1"
         },
         "xaxis": "x2",
         "y": {
          "bdata": "AAAAAAAAAAA2xj0WvHQwPzbGPRa8dEA/NsY9Frx0QD82xj0WvHRAPzbGPRa8dEA/xDfNG+uRRD9RqVwhGq9IP1GpXCEar0g/UalcIRqvSD9RqVwhGq9IP1GpXCEar0g/UalcIRqvSD9RqVwhGq9IP98a7CZJzEw/3xrsJknMTD82xj0WvHRQPzbGPRa8dFA/NsY9Frx0UD82xj0WvHRQPzbGPRa8dFA/NsY9Frx0UD82xj0WvHRQPzbGPRa8dFA/",
          "dtype": "f8"
         },
         "yaxis": "y2"
        },
        {
         "hovertemplate": "date=2032-07-31 00:00:00<br>variable=default_flag<br>default_month=%{x}<br>value=%{y}<extra></extra>",
         "legendgroup": "2032-07-31 00:00:00",
         "line": {
          "color": "#1F77B4",
          "dash": "solid"
         },
         "marker": {
          "symbol": "circle"
         },
         "mode": "lines",
         "name": "2032-07-31 00:00:00",
         "showlegend": false,
         "type": "scattergl",
         "x": {
          "bdata": "AQIDBAUGBwgJCgsMDQ4PEBESExQVFhcY",
          "dtype": "i1"
         },
         "xaxis": "x3",
         "y": {
          "bdata": "AAAAAAAAAAA2xj0WvHQwPzbGPRa8dDA/AAAAAAAAAAAAAAAAAAAAAAAAAAAAAAAANsY9Frx0ID82xj0WvHQgPwAAAAAAAAAAAAAAAAAAAAAAAAAAAAAAAAAAAAAAAAAAAAAAAAAAAAAAAAAAAAAAADbGPRa8dCA/AAAAAAAAAAA2xj0WvHQgPwAAAAAAAAAAAAAAAAAAAAAAAAAAAAAAAAAAAAAAAAAAAAAAAAAAAAAAAAAAAAAAAAAAAAAAAAAA",
          "dtype": "f8"
         },
         "yaxis": "y3"
        },
        {
         "hovertemplate": "date=2032-08-31 00:00:00<br>variable=id<br>default_month=%{x}<br>value=%{y}<extra></extra>",
         "legendgroup": "2032-08-31 00:00:00",
         "line": {
          "color": "#FF7F0E",
          "dash": "solid"
         },
         "marker": {
          "symbol": "circle"
         },
         "mode": "lines",
         "name": "2032-08-31 00:00:00",
         "showlegend": true,
         "type": "scattergl",
         "x": {
          "bdata": "AQIDBAUGBwgJCgsMDQ4PEBESExQVFhcY",
          "dtype": "i1"
         },
         "xaxis": "x",
         "y": {
          "bdata": "AAAAAAAdv0AAAAAAAB2/QAAAAAAAHb9AAAAAAAAdv0AAAAAAAB2/QAAAAAAAHb9AAAAAAAAdv0AAAAAAAB2/QAAAAAAAHb9AAAAAAAAdv0AAAAAAAB2/QAAAAAAAHb9AAAAAAAAdv0AAAAAAAB2/QAAAAAAAHb9AAAAAAAAdv0AAAAAAAB2/QAAAAAAAHb9AAAAAAAAdv0AAAAAAAB2/QAAAAAAAHb9AAAAAAAAdv0AAAAAAAB2/QAAAAAAAHb9A",
          "dtype": "f8"
         },
         "yaxis": "y"
        },
        {
         "hovertemplate": "date=2032-08-31 00:00:00<br>variable=cum_defaults<br>default_month=%{x}<br>value=%{y}<extra></extra>",
         "legendgroup": "2032-08-31 00:00:00",
         "line": {
          "color": "#FF7F0E",
          "dash": "solid"
         },
         "marker": {
          "symbol": "circle"
         },
         "mode": "lines",
         "name": "2032-08-31 00:00:00",
         "showlegend": false,
         "type": "scattergl",
         "x": {
          "bdata": "AQIDBAUGBwgJCgsMDQ4PEBESExQVFhcY",
          "dtype": "i1"
         },
         "xaxis": "x2",
         "y": {
          "bdata": "NsY9Frx0MD82xj0WvHRAPzbGPRa8dEA/NsY9Frx0QD82xj0WvHRAP8Q3zRvrkUQ/UalcIRqvSD9RqVwhGq9IP1GpXCEar0g/UalcIRqvSD9RqVwhGq9IP1GpXCEar0g/UalcIRqvSD/fGuwmScxMP98a7CZJzEw/NsY9Frx0UD82xj0WvHRQPzbGPRa8dFA/NsY9Frx0UD82xj0WvHRQPzbGPRa8dFA/NsY9Frx0UD82xj0WvHRQPzbGPRa8dFA/",
          "dtype": "f8"
         },
         "yaxis": "y2"
        },
        {
         "hovertemplate": "date=2032-08-31 00:00:00<br>variable=default_flag<br>default_month=%{x}<br>value=%{y}<extra></extra>",
         "legendgroup": "2032-08-31 00:00:00",
         "line": {
          "color": "#FF7F0E",
          "dash": "solid"
         },
         "marker": {
          "symbol": "circle"
         },
         "mode": "lines",
         "name": "2032-08-31 00:00:00",
         "showlegend": false,
         "type": "scattergl",
         "x": {
          "bdata": "AQIDBAUGBwgJCgsMDQ4PEBESExQVFhcY",
          "dtype": "i1"
         },
         "xaxis": "x3",
         "y": {
          "bdata": "NsY9Frx0MD82xj0WvHQwPwAAAAAAAAAAAAAAAAAAAAAAAAAAAAAAADbGPRa8dCA/NsY9Frx0ID8AAAAAAAAAAAAAAAAAAAAAAAAAAAAAAAAAAAAAAAAAAAAAAAAAAAAAAAAAAAAAAAA2xj0WvHQgPwAAAAAAAAAANsY9Frx0ID8AAAAAAAAAAAAAAAAAAAAAAAAAAAAAAAAAAAAAAAAAAAAAAAAAAAAAAAAAAAAAAAAAAAAAAAAAAAAAAAAAAAAA",
          "dtype": "f8"
         },
         "yaxis": "y3"
        },
        {
         "hovertemplate": "date=2032-09-30 00:00:00<br>variable=id<br>default_month=%{x}<br>value=%{y}<extra></extra>",
         "legendgroup": "2032-09-30 00:00:00",
         "line": {
          "color": "#2CA02C",
          "dash": "solid"
         },
         "marker": {
          "symbol": "circle"
         },
         "mode": "lines",
         "name": "2032-09-30 00:00:00",
         "showlegend": true,
         "type": "scattergl",
         "x": {
          "bdata": "AQIDBAUGBwgJCgsMDQ4PEBESExQVFhcY",
          "dtype": "i1"
         },
         "xaxis": "x",
         "y": {
          "bdata": "AAAAAAAbv0AAAAAAABu/QAAAAAAAG79AAAAAAAAbv0AAAAAAABu/QAAAAAAAG79AAAAAAAAbv0AAAAAAABu/QAAAAAAAG79AAAAAAAAbv0AAAAAAABu/QAAAAAAAG79AAAAAAAAbv0AAAAAAABu/QAAAAAAAG79AAAAAAAAbv0AAAAAAABu/QAAAAAAAG79AAAAAAAAbv0AAAAAAABu/QAAAAAAAG79AAAAAAAAbv0AAAAAAABu/QAAAAAAAG79A",
          "dtype": "f8"
         },
         "yaxis": "y"
        },
        {
         "hovertemplate": "date=2032-09-30 00:00:00<br>variable=cum_defaults<br>default_month=%{x}<br>value=%{y}<extra></extra>",
         "legendgroup": "2032-09-30 00:00:00",
         "line": {
          "color": "#2CA02C",
          "dash": "solid"
         },
         "marker": {
          "symbol": "circle"
         },
         "mode": "lines",
         "name": "2032-09-30 00:00:00",
         "showlegend": false,
         "type": "scattergl",
         "x": {
          "bdata": "AQIDBAUGBwgJCgsMDQ4PEBESExQVFhcY",
          "dtype": "i1"
         },
         "xaxis": "x2",
         "y": {
          "bdata": "Z/Jk9Mp1MD9n8mT0ynUwP2fyZPTKdTA/Z/Jk9Mp1MD+aa5dusLA4P2fyZPTKdUA/Z/Jk9Mp1QD9n8mT0ynVAP2fyZPTKdUA/Z/Jk9Mp1QD9n8mT0ynVAP2fyZPTKdUA/AC9+sT2TRD8AL36xPZNEP5prl26wsEg/mmuXbrCwSD+aa5dusLBIP5prl26wsEg/mmuXbrCwSD+aa5dusLBIP5prl26wsEg/mmuXbrCwSD+aa5dusLBIP5prl26wsEg/",
          "dtype": "f8"
         },
         "yaxis": "y2"
        },
        {
         "hovertemplate": "date=2032-09-30 00:00:00<br>variable=default_flag<br>default_month=%{x}<br>value=%{y}<extra></extra>",
         "legendgroup": "2032-09-30 00:00:00",
         "line": {
          "color": "#2CA02C",
          "dash": "solid"
         },
         "marker": {
          "symbol": "circle"
         },
         "mode": "lines",
         "name": "2032-09-30 00:00:00",
         "showlegend": false,
         "type": "scattergl",
         "x": {
          "bdata": "AQIDBAUGBwgJCgsMDQ4PEBESExQVFhcY",
          "dtype": "i1"
         },
         "xaxis": "x3",
         "y": {
          "bdata": "Z/Jk9Mp1MD8AAAAAAAAAAAAAAAAAAAAAAAAAAAAAAABn8mT0ynUgP2fyZPTKdSA/AAAAAAAAAAAAAAAAAAAAAAAAAAAAAAAAAAAAAAAAAAAAAAAAAAAAAAAAAAAAAAAAZ/Jk9Mp1ID8AAAAAAAAAAGfyZPTKdSA/AAAAAAAAAAAAAAAAAAAAAAAAAAAAAAAAAAAAAAAAAAAAAAAAAAAAAAAAAAAAAAAAAAAAAAAAAAAAAAAAAAAAAAAAAAAAAAAA",
          "dtype": "f8"
         },
         "yaxis": "y3"
        },
        {
         "hovertemplate": "date=2032-10-31 00:00:00<br>variable=id<br>default_month=%{x}<br>value=%{y}<extra></extra>",
         "legendgroup": "2032-10-31 00:00:00",
         "line": {
          "color": "#D62728",
          "dash": "solid"
         },
         "marker": {
          "symbol": "circle"
         },
         "mode": "lines",
         "name": "2032-10-31 00:00:00",
         "showlegend": true,
         "type": "scattergl",
         "x": {
          "bdata": "AQIDBAUGBwgJCgsMDQ4PEBESExQVFhcY",
          "dtype": "i1"
         },
         "xaxis": "x",
         "y": {
          "bdata": "AAAAAAAZv0AAAAAAABm/QAAAAAAAGb9AAAAAAAAZv0AAAAAAABm/QAAAAAAAGb9AAAAAAAAZv0AAAAAAABm/QAAAAAAAGb9AAAAAAAAZv0AAAAAAABm/QAAAAAAAGb9AAAAAAAAZv0AAAAAAABm/QAAAAAAAGb9AAAAAAAAZv0AAAAAAABm/QAAAAAAAGb9AAAAAAAAZv0AAAAAAABm/QAAAAAAAGb9AAAAAAAAZv0AAAAAAABm/QAAAAAAAGb9A",
          "dtype": "f8"
         },
         "yaxis": "y"
        },
        {
         "hovertemplate": "date=2032-10-31 00:00:00<br>variable=cum_defaults<br>default_month=%{x}<br>value=%{y}<extra></extra>",
         "legendgroup": "2032-10-31 00:00:00",
         "line": {
          "color": "#D62728",
          "dash": "solid"
         },
         "marker": {
          "symbol": "circle"
         },
         "mode": "lines",
         "name": "2032-10-31 00:00:00",
         "showlegend": false,
         "type": "scattergl",
         "x": {
          "bdata": "AQIDBAUGBwgJCgsMDQ4PEBESExQVFhcY",
          "dtype": "i1"
         },
         "xaxis": "x2",
         "y": {
          "bdata": "AAAAAAAAAAAAAAAAAAAAAAAAAAAAAAAAhWVj9dl2ID+FZWP12XYwP4VlY/XZdjA/hWVj9dl2MD+FZWP12XYwP4VlY/XZdjA/hWVj9dl2MD+FZWP12XYwP0cYFfBGsjg/RxgV8EayOD+FZWP12XZAP4VlY/XZdkA/hWVj9dl2QD+FZWP12XZAP4VlY/XZdkA/hWVj9dl2QD+FZWP12XZAP4VlY/XZdkA/hWVj9dl2QD+FZWP12XZAP4VlY/XZdkA/",
          "dtype": "f8"
         },
         "yaxis": "y2"
        },
        {
         "hovertemplate": "date=2032-10-31 00:00:00<br>variable=default_flag<br>default_month=%{x}<br>value=%{y}<extra></extra>",
         "legendgroup": "2032-10-31 00:00:00",
         "line": {
          "color": "#D62728",
          "dash": "solid"
         },
         "marker": {
          "symbol": "circle"
         },
         "mode": "lines",
         "name": "2032-10-31 00:00:00",
         "showlegend": false,
         "type": "scattergl",
         "x": {
          "bdata": "AQIDBAUGBwgJCgsMDQ4PEBESExQVFhcY",
          "dtype": "i1"
         },
         "xaxis": "x3",
         "y": {
          "bdata": "AAAAAAAAAAAAAAAAAAAAAAAAAAAAAAAAhWVj9dl2ID+FZWP12XYgPwAAAAAAAAAAAAAAAAAAAAAAAAAAAAAAAAAAAAAAAAAAAAAAAAAAAAAAAAAAAAAAAIVlY/XZdiA/AAAAAAAAAACFZWP12XYgPwAAAAAAAAAAAAAAAAAAAAAAAAAAAAAAAAAAAAAAAAAAAAAAAAAAAAAAAAAAAAAAAAAAAAAAAAAAAAAAAAAAAAAAAAAAAAAAAAAAAAAAAAAA",
          "dtype": "f8"
         },
         "yaxis": "y3"
        },
        {
         "hovertemplate": "date=2032-11-30 00:00:00<br>variable=id<br>default_month=%{x}<br>value=%{y}<extra></extra>",
         "legendgroup": "2032-11-30 00:00:00",
         "line": {
          "color": "#9467BD",
          "dash": "solid"
         },
         "marker": {
          "symbol": "circle"
         },
         "mode": "lines",
         "name": "2032-11-30 00:00:00",
         "showlegend": true,
         "type": "scattergl",
         "x": {
          "bdata": "AQIDBAUGBwgJCgsMDQ4PEBESExQVFhcY",
          "dtype": "i1"
         },
         "xaxis": "x",
         "y": {
          "bdata": "AAAAAAAZv0AAAAAAABm/QAAAAAAAGb9AAAAAAAAZv0AAAAAAABm/QAAAAAAAGb9AAAAAAAAZv0AAAAAAABm/QAAAAAAAGb9AAAAAAAAZv0AAAAAAABm/QAAAAAAAGb9AAAAAAAAZv0AAAAAAABm/QAAAAAAAGb9AAAAAAAAZv0AAAAAAABm/QAAAAAAAGb9AAAAAAAAZv0AAAAAAABm/QAAAAAAAGb9AAAAAAAAZv0AAAAAAABm/QAAAAAAAGb9A",
          "dtype": "f8"
         },
         "yaxis": "y"
        },
        {
         "hovertemplate": "date=2032-11-30 00:00:00<br>variable=cum_defaults<br>default_month=%{x}<br>value=%{y}<extra></extra>",
         "legendgroup": "2032-11-30 00:00:00",
         "line": {
          "color": "#9467BD",
          "dash": "solid"
         },
         "marker": {
          "symbol": "circle"
         },
         "mode": "lines",
         "name": "2032-11-30 00:00:00",
         "showlegend": false,
         "type": "scattergl",
         "x": {
          "bdata": "AQIDBAUGBwgJCgsMDQ4PEBESExQVFhcY",
          "dtype": "i1"
         },
         "xaxis": "x2",
         "y": {
          "bdata": "AAAAAAAAAAAAAAAAAAAAAIVlY/XZdiA/hWVj9dl2MD+FZWP12XYwP4VlY/XZdjA/hWVj9dl2MD+FZWP12XYwP4VlY/XZdjA/hWVj9dl2MD9HGBXwRrI4P0cYFfBGsjg/hWVj9dl2QD+FZWP12XZAP4VlY/XZdkA/hWVj9dl2QD+FZWP12XZAP4VlY/XZdkA/hWVj9dl2QD+FZWP12XZAP4VlY/XZdkA/hWVj9dl2QD+FZWP12XZAP4VlY/XZdkA/",
          "dtype": "f8"
         },
         "yaxis": "y2"
        },
        {
         "hovertemplate": "date=2032-11-30 00:00:00<br>variable=default_flag<br>default_month=%{x}<br>value=%{y}<extra></extra>",
         "legendgroup": "2032-11-30 00:00:00",
         "line": {
          "color": "#9467BD",
          "dash": "solid"
         },
         "marker": {
          "symbol": "circle"
         },
         "mode": "lines",
         "name": "2032-11-30 00:00:00",
         "showlegend": false,
         "type": "scattergl",
         "x": {
          "bdata": "AQIDBAUGBwgJCgsMDQ4PEBESExQVFhcY",
          "dtype": "i1"
         },
         "xaxis": "x3",
         "y": {
          "bdata": "AAAAAAAAAAAAAAAAAAAAAIVlY/XZdiA/hWVj9dl2ID8AAAAAAAAAAAAAAAAAAAAAAAAAAAAAAAAAAAAAAAAAAAAAAAAAAAAAAAAAAAAAAACFZWP12XYgPwAAAAAAAAAAhWVj9dl2ID8AAAAAAAAAAAAAAAAAAAAAAAAAAAAAAAAAAAAAAAAAAAAAAAAAAAAAAAAAAAAAAAAAAAAAAAAAAAAAAAAAAAAAAAAAAAAAAAAAAAAAAAAAAAAAAAAAAAAA",
          "dtype": "f8"
         },
         "yaxis": "y3"
        },
        {
         "hovertemplate": "date=2032-12-31 00:00:00<br>variable=id<br>default_month=%{x}<br>value=%{y}<extra></extra>",
         "legendgroup": "2032-12-31 00:00:00",
         "line": {
          "color": "#8C564B",
          "dash": "solid"
         },
         "marker": {
          "symbol": "circle"
         },
         "mode": "lines",
         "name": "2032-12-31 00:00:00",
         "showlegend": true,
         "type": "scattergl",
         "x": {
          "bdata": "AQIDBAUGBwgJCgsMDQ4PEBESExQVFhcY",
          "dtype": "i1"
         },
         "xaxis": "x",
         "y": {
          "bdata": "AAAAAAAZv0AAAAAAABm/QAAAAAAAGb9AAAAAAAAZv0AAAAAAABm/QAAAAAAAGb9AAAAAAAAZv0AAAAAAABm/QAAAAAAAGb9AAAAAAAAZv0AAAAAAABm/QAAAAAAAGb9AAAAAAAAZv0AAAAAAABm/QAAAAAAAGb9AAAAAAAAZv0AAAAAAABm/QAAAAAAAGb9AAAAAAAAZv0AAAAAAABm/QAAAAAAAGb9AAAAAAAAZv0AAAAAAABm/QAAAAAAAGb9A",
          "dtype": "f8"
         },
         "yaxis": "y"
        },
        {
         "hovertemplate": "date=2032-12-31 00:00:00<br>variable=cum_defaults<br>default_month=%{x}<br>value=%{y}<extra></extra>",
         "legendgroup": "2032-12-31 00:00:00",
         "line": {
          "color": "#8C564B",
          "dash": "solid"
         },
         "marker": {
          "symbol": "circle"
         },
         "mode": "lines",
         "name": "2032-12-31 00:00:00",
         "showlegend": false,
         "type": "scattergl",
         "x": {
          "bdata": "AQIDBAUGBwgJCgsMDQ4PEBESExQVFhcY",
          "dtype": "i1"
         },
         "xaxis": "x2",
         "y": {
          "bdata": "AAAAAAAAAACFZWP12XYgP4VlY/XZdjA/hWVj9dl2MD+FZWP12XYwP4VlY/XZdjA/hWVj9dl2MD+FZWP12XYwP4VlY/XZdjA/RxgV8EayOD9HGBXwRrI4P4VlY/XZdkA/hWVj9dl2QD+FZWP12XZAP4VlY/XZdkA/hWVj9dl2QD+FZWP12XZAP4VlY/XZdkA/hWVj9dl2QD+FZWP12XZAP4VlY/XZdkA/hWVj9dl2QD+FZWP12XZAP4VlY/XZdkA/",
          "dtype": "f8"
         },
         "yaxis": "y2"
        },
        {
         "hovertemplate": "date=2032-12-31 00:00:00<br>variable=default_flag<br>default_month=%{x}<br>value=%{y}<extra></extra>",
         "legendgroup": "2032-12-31 00:00:00",
         "line": {
          "color": "#8C564B",
          "dash": "solid"
         },
         "marker": {
          "symbol": "circle"
         },
         "mode": "lines",
         "name": "2032-12-31 00:00:00",
         "showlegend": false,
         "type": "scattergl",
         "x": {
          "bdata": "AQIDBAUGBwgJCgsMDQ4PEBESExQVFhcY",
          "dtype": "i1"
         },
         "xaxis": "x3",
         "y": {
          "bdata": "AAAAAAAAAACFZWP12XYgP4VlY/XZdiA/AAAAAAAAAAAAAAAAAAAAAAAAAAAAAAAAAAAAAAAAAAAAAAAAAAAAAAAAAAAAAAAAhWVj9dl2ID8AAAAAAAAAAIVlY/XZdiA/AAAAAAAAAAAAAAAAAAAAAAAAAAAAAAAAAAAAAAAAAAAAAAAAAAAAAAAAAAAAAAAAAAAAAAAAAAAAAAAAAAAAAAAAAAAAAAAAAAAAAAAAAAAAAAAAAAAAAAAAAAAAAAAA",
          "dtype": "f8"
         },
         "yaxis": "y3"
        },
        {
         "hovertemplate": "date=2033-01-31 00:00:00<br>variable=id<br>default_month=%{x}<br>value=%{y}<extra></extra>",
         "legendgroup": "2033-01-31 00:00:00",
         "line": {
          "color": "#E377C2",
          "dash": "solid"
         },
         "marker": {
          "symbol": "circle"
         },
         "mode": "lines",
         "name": "2033-01-31 00:00:00",
         "showlegend": true,
         "type": "scattergl",
         "x": {
          "bdata": "AQIDBAUGBwgJCgsMDQ4PEBESExQVFhcY",
          "dtype": "i1"
         },
         "xaxis": "x",
         "y": {
          "bdata": "AAAAAAAZv0AAAAAAABm/QAAAAAAAGb9AAAAAAAAZv0AAAAAAABm/QAAAAAAAGb9AAAAAAAAZv0AAAAAAABm/QAAAAAAAGb9AAAAAAAAZv0AAAAAAABm/QAAAAAAAGb9AAAAAAAAZv0AAAAAAABm/QAAAAAAAGb9AAAAAAAAZv0AAAAAAABm/QAAAAAAAGb9AAAAAAAAZv0AAAAAAABm/QAAAAAAAGb9AAAAAAAAZv0AAAAAAABm/QAAAAAAAGb9A",
          "dtype": "f8"
         },
         "yaxis": "y"
        },
        {
         "hovertemplate": "date=2033-01-31 00:00:00<br>variable=cum_defaults<br>default_month=%{x}<br>value=%{y}<extra></extra>",
         "legendgroup": "2033-01-31 00:00:00",
         "line": {
          "color": "#E377C2",
          "dash": "solid"
         },
         "marker": {
          "symbol": "circle"
         },
         "mode": "lines",
         "name": "2033-01-31 00:00:00",
         "showlegend": false,
         "type": "scattergl",
         "x": {
          "bdata": "AQIDBAUGBwgJCgsMDQ4PEBESExQVFhcY",
          "dtype": "i1"
         },
         "xaxis": "x2",
         "y": {
          "bdata": "hWVj9dl2ID+FZWP12XYwP4VlY/XZdjA/hWVj9dl2MD+FZWP12XYwP4VlY/XZdjA/hWVj9dl2MD+FZWP12XYwP0cYFfBGsjg/RxgV8EayOD+FZWP12XZAP4VlY/XZdkA/hWVj9dl2QD+FZWP12XZAP4VlY/XZdkA/hWVj9dl2QD+FZWP12XZAP4VlY/XZdkA/hWVj9dl2QD+FZWP12XZAP4VlY/XZdkA/hWVj9dl2QD+FZWP12XZAP4VlY/XZdkA/",
          "dtype": "f8"
         },
         "yaxis": "y2"
        },
        {
         "hovertemplate": "date=2033-01-31 00:00:00<br>variable=default_flag<br>default_month=%{x}<br>value=%{y}<extra></extra>",
         "legendgroup": "2033-01-31 00:00:00",
         "line": {
          "color": "#E377C2",
          "dash": "solid"
         },
         "marker": {
          "symbol": "circle"
         },
         "mode": "lines",
         "name": "2033-01-31 00:00:00",
         "showlegend": false,
         "type": "scattergl",
         "x": {
          "bdata": "AQIDBAUGBwgJCgsMDQ4PEBESExQVFhcY",
          "dtype": "i1"
         },
         "xaxis": "x3",
         "y": {
          "bdata": "hWVj9dl2ID+FZWP12XYgPwAAAAAAAAAAAAAAAAAAAAAAAAAAAAAAAAAAAAAAAAAAAAAAAAAAAAAAAAAAAAAAAIVlY/XZdiA/AAAAAAAAAACFZWP12XYgPwAAAAAAAAAAAAAAAAAAAAAAAAAAAAAAAAAAAAAAAAAAAAAAAAAAAAAAAAAAAAAAAAAAAAAAAAAAAAAAAAAAAAAAAAAAAAAAAAAAAAAAAAAAAAAAAAAAAAAAAAAAAAAAAAAAAAAAAAAA",
          "dtype": "f8"
         },
         "yaxis": "y3"
        },
        {
         "hovertemplate": "date=2033-02-28 00:00:00<br>variable=id<br>default_month=%{x}<br>value=%{y}<extra></extra>",
         "legendgroup": "2033-02-28 00:00:00",
         "line": {
          "color": "#7F7F7F",
          "dash": "solid"
         },
         "marker": {
          "symbol": "circle"
         },
         "mode": "lines",
         "name": "2033-02-28 00:00:00",
         "showlegend": true,
         "type": "scattergl",
         "x": {
          "bdata": "AQIDBAUGBwgJCgsMDQ4PEBESExQVFhcY",
          "dtype": "i1"
         },
         "xaxis": "x",
         "y": {
          "bdata": "AAAAAAAYv0AAAAAAABi/QAAAAAAAGL9AAAAAAAAYv0AAAAAAABi/QAAAAAAAGL9AAAAAAAAYv0AAAAAAABi/QAAAAAAAGL9AAAAAAAAYv0AAAAAAABi/QAAAAAAAGL9AAAAAAAAYv0AAAAAAABi/QAAAAAAAGL9AAAAAAAAYv0AAAAAAABi/QAAAAAAAGL9AAAAAAAAYv0AAAAAAABi/QAAAAAAAGL9AAAAAAAAYv0AAAAAAABi/QAAAAAAAGL9A",
          "dtype": "f8"
         },
         "yaxis": "y"
        },
        {
         "hovertemplate": "date=2033-02-28 00:00:00<br>variable=cum_defaults<br>default_month=%{x}<br>value=%{y}<extra></extra>",
         "legendgroup": "2033-02-28 00:00:00",
         "line": {
          "color": "#7F7F7F",
          "dash": "solid"
         },
         "marker": {
          "symbol": "circle"
         },
         "mode": "lines",
         "name": "2033-02-28 00:00:00",
         "showlegend": false,
         "type": "scattergl",
         "x": {
          "bdata": "AQIDBAUGBwgJCgsMDQ4PEBESExQVFhcY",
          "dtype": "i1"
         },
         "xaxis": "x2",
         "y": {
          "bdata": "hnP1gmF3ID+Gc/WCYXcgP4Zz9YJhdyA/hnP1gmF3ID+Gc/WCYXcgP4Zz9YJhdyA/hnP1gmF3ID+Gc/WCYXcwP4Zz9YJhdzA/SC1wRBKzOD9ILXBEErM4P0gtcEQSszg/SC1wRBKzOD9ILXBEErM4P0gtcEQSszg/SC1wRBKzOD9ILXBEErM4P0gtcEQSszg/SC1wRBKzOD9ILXBEErM4P0gtcEQSszg/SC1wRBKzOD9ILXBEErM4P0gtcEQSszg/",
          "dtype": "f8"
         },
         "yaxis": "y2"
        },
        {
         "hovertemplate": "date=2033-02-28 00:00:00<br>variable=default_flag<br>default_month=%{x}<br>value=%{y}<extra></extra>",
         "legendgroup": "2033-02-28 00:00:00",
         "line": {
          "color": "#7F7F7F",
          "dash": "solid"
         },
         "marker": {
          "symbol": "circle"
         },
         "mode": "lines",
         "name": "2033-02-28 00:00:00",
         "showlegend": false,
         "type": "scattergl",
         "x": {
          "bdata": "AQIDBAUGBwgJCgsMDQ4PEBESExQVFhcY",
          "dtype": "i1"
         },
         "xaxis": "x3",
         "y": {
          "bdata": "hnP1gmF3ID8AAAAAAAAAAAAAAAAAAAAAAAAAAAAAAAAAAAAAAAAAAAAAAAAAAAAAAAAAAAAAAACGc/WCYXcgPwAAAAAAAAAAhnP1gmF3ID8AAAAAAAAAAAAAAAAAAAAAAAAAAAAAAAAAAAAAAAAAAAAAAAAAAAAAAAAAAAAAAAAAAAAAAAAAAAAAAAAAAAAAAAAAAAAAAAAAAAAAAAAAAAAAAAAAAAAAAAAAAAAAAAAAAAAAAAAAAAAAAAAAAAAA",
          "dtype": "f8"
         },
         "yaxis": "y3"
        },
        {
         "hovertemplate": "date=2033-03-31 00:00:00<br>variable=id<br>default_month=%{x}<br>value=%{y}<extra></extra>",
         "legendgroup": "2033-03-31 00:00:00",
         "line": {
          "color": "#BCBD22",
          "dash": "solid"
         },
         "marker": {
          "symbol": "circle"
         },
         "mode": "lines",
         "name": "2033-03-31 00:00:00",
         "showlegend": true,
         "type": "scattergl",
         "x": {
          "bdata": "AQIDBAUGBwgJCgsMDQ4PEBESExQVFhcY",
          "dtype": "i1"
         },
         "xaxis": "x",
         "y": {
          "bdata": "AAAAAAAXv0AAAAAAABe/QAAAAAAAF79AAAAAAAAXv0AAAAAAABe/QAAAAAAAF79AAAAAAAAXv0AAAAAAABe/QAAAAAAAF79AAAAAAAAXv0AAAAAAABe/QAAAAAAAF79AAAAAAAAXv0AAAAAAABe/QAAAAAAAF79AAAAAAAAXv0AAAAAAABe/QAAAAAAAF79AAAAAAAAXv0AAAAAAABe/QAAAAAAAF79AAAAAAAAXv0AAAAAAABe/QAAAAAAAF79A",
          "dtype": "f8"
         },
         "yaxis": "y"
        },
        {
         "hovertemplate": "date=2033-03-31 00:00:00<br>variable=cum_defaults<br>default_month=%{x}<br>value=%{y}<extra></extra>",
         "legendgroup": "2033-03-31 00:00:00",
         "line": {
          "color": "#BCBD22",
          "dash": "solid"
         },
         "marker": {
          "symbol": "circle"
         },
         "mode": "lines",
         "name": "2033-03-31 00:00:00",
         "showlegend": false,
         "type": "scattergl",
         "x": {
          "bdata": "AQIDBAUGBwgJCgsMDQ4PEBESExQVFhcY",
          "dtype": "i1"
         },
         "xaxis": "x2",
         "y": {
          "bdata": "AAAAAAAAAAAAAAAAAAAAAAAAAAAAAAAAAAAAAAAAAAAAAAAAAAAAAAAAAAAAAAAA49g/Gel3ID/j2D8Z6XcgP+PYPxnpdzA/49g/Gel3MD/j2D8Z6XcwP+PYPxnpdzA/49g/Gel3MD/j2D8Z6XcwP+PYPxnpdzA/49g/Gel3MD/j2D8Z6XcwP+PYPxnpdzA/49g/Gel3MD/j2D8Z6XcwP+PYPxnpdzA/49g/Gel3MD/j2D8Z6XcwP+PYPxnpdzA/",
          "dtype": "f8"
         },
         "yaxis": "y2"
        },
        {
         "hovertemplate": "date=2033-03-31 00:00:00<br>variable=default_flag<br>default_month=%{x}<br>value=%{y}<extra></extra>",
         "legendgroup": "2033-03-31 00:00:00",
         "line": {
          "color": "#BCBD22",
          "dash": "solid"
         },
         "marker": {
          "symbol": "circle"
         },
         "mode": "lines",
         "name": "2033-03-31 00:00:00",
         "showlegend": false,
         "type": "scattergl",
         "x": {
          "bdata": "AQIDBAUGBwgJCgsMDQ4PEBESExQVFhcY",
          "dtype": "i1"
         },
         "xaxis": "x3",
         "y": {
          "bdata": "AAAAAAAAAAAAAAAAAAAAAAAAAAAAAAAAAAAAAAAAAAAAAAAAAAAAAAAAAAAAAAAA49g/Gel3ID8AAAAAAAAAAOPYPxnpdyA/AAAAAAAAAAAAAAAAAAAAAAAAAAAAAAAAAAAAAAAAAAAAAAAAAAAAAAAAAAAAAAAAAAAAAAAAAAAAAAAAAAAAAAAAAAAAAAAAAAAAAAAAAAAAAAAAAAAAAAAAAAAAAAAAAAAAAAAAAAAAAAAAAAAAAAAAAAAAAAAA",
          "dtype": "f8"
         },
         "yaxis": "y3"
        },
        {
         "hovertemplate": "date=2033-04-30 00:00:00<br>variable=id<br>default_month=%{x}<br>value=%{y}<extra></extra>",
         "legendgroup": "2033-04-30 00:00:00",
         "line": {
          "color": "#17BECF",
          "dash": "solid"
         },
         "marker": {
          "symbol": "circle"
         },
         "mode": "lines",
         "name": "2033-04-30 00:00:00",
         "showlegend": true,
         "type": "scattergl",
         "x": {
          "bdata": "AQIDBAUGBwgJCgsMDQ4PEBESExQVFhcY",
          "dtype": "i1"
         },
         "xaxis": "x",
         "y": {
          "bdata": "AAAAAAAXv0AAAAAAABe/QAAAAAAAF79AAAAAAAAXv0AAAAAAABe/QAAAAAAAF79AAAAAAAAXv0AAAAAAABe/QAAAAAAAF79AAAAAAAAXv0AAAAAAABe/QAAAAAAAF79AAAAAAAAXv0AAAAAAABe/QAAAAAAAF79AAAAAAAAXv0AAAAAAABe/QAAAAAAAF79AAAAAAAAXv0AAAAAAABe/QAAAAAAAF79AAAAAAAAXv0AAAAAAABe/QAAAAAAAF79A",
          "dtype": "f8"
         },
         "yaxis": "y"
        },
        {
         "hovertemplate": "date=2033-04-30 00:00:00<br>variable=cum_defaults<br>default_month=%{x}<br>value=%{y}<extra></extra>",
         "legendgroup": "2033-04-30 00:00:00",
         "line": {
          "color": "#17BECF",
          "dash": "solid"
         },
         "marker": {
          "symbol": "circle"
         },
         "mode": "lines",
         "name": "2033-04-30 00:00:00",
         "showlegend": false,
         "type": "scattergl",
         "x": {
          "bdata": "AQIDBAUGBwgJCgsMDQ4PEBESExQVFhcY",
          "dtype": "i1"
         },
         "xaxis": "x2",
         "y": {
          "bdata": "AAAAAAAAAAAAAAAAAAAAAAAAAAAAAAAAAAAAAAAAAAAAAAAAAAAAAOPYPxnpdyA/49g/Gel3ID/j2D8Z6XcwP+PYPxnpdzA/49g/Gel3MD/j2D8Z6XcwP+PYPxnpdzA/49g/Gel3MD/j2D8Z6XcwP+PYPxnpdzA/49g/Gel3MD/j2D8Z6XcwP+PYPxnpdzA/49g/Gel3MD/j2D8Z6XcwP+PYPxnpdzA/49g/Gel3MD/j2D8Z6XcwP+PYPxnpdzA/",
          "dtype": "f8"
         },
         "yaxis": "y2"
        },
        {
         "hovertemplate": "date=2033-04-30 00:00:00<br>variable=default_flag<br>default_month=%{x}<br>value=%{y}<extra></extra>",
         "legendgroup": "2033-04-30 00:00:00",
         "line": {
          "color": "#17BECF",
          "dash": "solid"
         },
         "marker": {
          "symbol": "circle"
         },
         "mode": "lines",
         "name": "2033-04-30 00:00:00",
         "showlegend": false,
         "type": "scattergl",
         "x": {
          "bdata": "AQIDBAUGBwgJCgsMDQ4PEBESExQVFhcY",
          "dtype": "i1"
         },
         "xaxis": "x3",
         "y": {
          "bdata": "AAAAAAAAAAAAAAAAAAAAAAAAAAAAAAAAAAAAAAAAAAAAAAAAAAAAAOPYPxnpdyA/AAAAAAAAAADj2D8Z6XcgPwAAAAAAAAAAAAAAAAAAAAAAAAAAAAAAAAAAAAAAAAAAAAAAAAAAAAAAAAAAAAAAAAAAAAAAAAAAAAAAAAAAAAAAAAAAAAAAAAAAAAAAAAAAAAAAAAAAAAAAAAAAAAAAAAAAAAAAAAAAAAAAAAAAAAAAAAAAAAAAAAAAAAAAAAAA",
          "dtype": "f8"
         },
         "yaxis": "y3"
        },
        {
         "hovertemplate": "date=2033-05-31 00:00:00<br>variable=id<br>default_month=%{x}<br>value=%{y}<extra></extra>",
         "legendgroup": "2033-05-31 00:00:00",
         "line": {
          "color": "#1F77B4",
          "dash": "solid"
         },
         "marker": {
          "symbol": "circle"
         },
         "mode": "lines",
         "name": "2033-05-31 00:00:00",
         "showlegend": true,
         "type": "scattergl",
         "x": {
          "bdata": "AQIDBAUGBwgJCgsMDQ4PEBESExQVFhcY",
          "dtype": "i1"
         },
         "xaxis": "x",
         "y": {
          "bdata": "AAAAAADPvUAAAAAAAM+9QAAAAAAAz71AAAAAAADPvUAAAAAAAM+9QAAAAAAAz71AAAAAAADPvUAAAAAAAM+9QAAAAAAAz71AAAAAAADPvUAAAAAAAM+9QAAAAAAAz71AAAAAAADPvUAAAAAAAM+9QAAAAAAAz71AAAAAAADPvUAAAAAAAM+9QAAAAAAAz71AAAAAAADPvUAAAAAAAM+9QAAAAAAAz71AAAAAAADPvUAAAAAAAM+9QAAAAAAAz71A",
          "dtype": "f8"
         },
         "yaxis": "y"
        },
        {
         "hovertemplate": "date=2033-05-31 00:00:00<br>variable=cum_defaults<br>default_month=%{x}<br>value=%{y}<extra></extra>",
         "legendgroup": "2033-05-31 00:00:00",
         "line": {
          "color": "#1F77B4",
          "dash": "solid"
         },
         "marker": {
          "symbol": "circle"
         },
         "mode": "lines",
         "name": "2033-05-31 00:00:00",
         "showlegend": false,
         "type": "scattergl",
         "x": {
          "bdata": "AQIDBAUGBwgJCgsMDQ4PEBESExQVFhcY",
          "dtype": "i1"
         },
         "xaxis": "x2",
         "y": {
          "bdata": "AAAAAAAAAAAAAAAAAAAAAAAAAAAAAAAAAAAAAAAAAAD8jwQIHy0hP/yPBAgfLSE//I8ECB8tMT/8jwQIHy0xP/yPBAgfLTE//I8ECB8tMT/8jwQIHy0xP/yPBAgfLTE//I8ECB8tMT/8jwQIHy0xP/yPBAgfLTE//I8ECB8tMT/8jwQIHy0xP/yPBAgfLTE//I8ECB8tMT/8jwQIHy0xP/yPBAgfLTE//I8ECB8tMT/8jwQIHy0xP/yPBAgfLTE/",
          "dtype": "f8"
         },
         "yaxis": "y2"
        },
        {
         "hovertemplate": "date=2033-05-31 00:00:00<br>variable=default_flag<br>default_month=%{x}<br>value=%{y}<extra></extra>",
         "legendgroup": "2033-05-31 00:00:00",
         "line": {
          "color": "#1F77B4",
          "dash": "solid"
         },
         "marker": {
          "symbol": "circle"
         },
         "mode": "lines",
         "name": "2033-05-31 00:00:00",
         "showlegend": false,
         "type": "scattergl",
         "x": {
          "bdata": "AQIDBAUGBwgJCgsMDQ4PEBESExQVFhcY",
          "dtype": "i1"
         },
         "xaxis": "x3",
         "y": {
          "bdata": "AAAAAAAAAAAAAAAAAAAAAAAAAAAAAAAAAAAAAAAAAAD8jwQIHy0hPwAAAAAAAAAA/I8ECB8tIT8AAAAAAAAAAAAAAAAAAAAAAAAAAAAAAAAAAAAAAAAAAAAAAAAAAAAAAAAAAAAAAAAAAAAAAAAAAAAAAAAAAAAAAAAAAAAAAAAAAAAAAAAAAAAAAAAAAAAAAAAAAAAAAAAAAAAAAAAAAAAAAAAAAAAAAAAAAAAAAAAAAAAAAAAAAAAAAAAAAAAA",
          "dtype": "f8"
         },
         "yaxis": "y3"
        },
        {
         "hovertemplate": "date=2033-06-30 00:00:00<br>variable=id<br>default_month=%{x}<br>value=%{y}<extra></extra>",
         "legendgroup": "2033-06-30 00:00:00",
         "line": {
          "color": "#FF7F0E",
          "dash": "solid"
         },
         "marker": {
          "symbol": "circle"
         },
         "mode": "lines",
         "name": "2033-06-30 00:00:00",
         "showlegend": true,
         "type": "scattergl",
         "x": {
          "bdata": "AQIDBAUGBwgJCgsMDQ4PEBESExQVFhcY",
          "dtype": "i1"
         },
         "xaxis": "x",
         "y": {
          "bdata": "AAAAAAB0vEAAAAAAAHS8QAAAAAAAdLxAAAAAAAB0vEAAAAAAAHS8QAAAAAAAdLxAAAAAAAB0vEAAAAAAAHS8QAAAAAAAdLxAAAAAAAB0vEAAAAAAAHS8QAAAAAAAdLxAAAAAAAB0vEAAAAAAAHS8QAAAAAAAdLxAAAAAAAB0vEAAAAAAAHS8QAAAAAAAdLxAAAAAAAB0vEAAAAAAAHS8QAAAAAAAdLxAAAAAAAB0vEAAAAAAAHS8QAAAAAAAdLxA",
          "dtype": "f8"
         },
         "yaxis": "y"
        },
        {
         "hovertemplate": "date=2033-06-30 00:00:00<br>variable=cum_defaults<br>default_month=%{x}<br>value=%{y}<extra></extra>",
         "legendgroup": "2033-06-30 00:00:00",
         "line": {
          "color": "#FF7F0E",
          "dash": "solid"
         },
         "marker": {
          "symbol": "circle"
         },
         "mode": "lines",
         "name": "2033-06-30 00:00:00",
         "showlegend": false,
         "type": "scattergl",
         "x": {
          "bdata": "AQIDBAUGBwgJCgsMDQ4PEBESExQVFhcY",
          "dtype": "i1"
         },
         "xaxis": "x2",
         "y": {
          "bdata": "AAAAAAAAAAAAAAAAAAAAAAAAAAAAAAAArM0dHJj+IT+szR0cmP4hP6zNHRyY/jE/rM0dHJj+MT+szR0cmP4xP6zNHRyY/jE/rM0dHJj+MT+szR0cmP4xP6zNHRyY/jE/rM0dHJj+MT+szR0cmP4xP6zNHRyY/jE/rM0dHJj+MT+szR0cmP4xP6zNHRyY/jE/rM0dHJj+MT+szR0cmP4xP6zNHRyY/jE/rM0dHJj+MT+szR0cmP4xP6zNHRyY/jE/",
          "dtype": "f8"
         },
         "yaxis": "y2"
        },
        {
         "hovertemplate": "date=2033-06-30 00:00:00<br>variable=default_flag<br>default_month=%{x}<br>value=%{y}<extra></extra>",
         "legendgroup": "2033-06-30 00:00:00",
         "line": {
          "color": "#FF7F0E",
          "dash": "solid"
         },
         "marker": {
          "symbol": "circle"
         },
         "mode": "lines",
         "name": "2033-06-30 00:00:00",
         "showlegend": false,
         "type": "scattergl",
         "x": {
          "bdata": "AQIDBAUGBwgJCgsMDQ4PEBESExQVFhcY",
          "dtype": "i1"
         },
         "xaxis": "x3",
         "y": {
          "bdata": "AAAAAAAAAAAAAAAAAAAAAAAAAAAAAAAArM0dHJj+IT8AAAAAAAAAAKzNHRyY/iE/AAAAAAAAAAAAAAAAAAAAAAAAAAAAAAAAAAAAAAAAAAAAAAAAAAAAAAAAAAAAAAAAAAAAAAAAAAAAAAAAAAAAAAAAAAAAAAAAAAAAAAAAAAAAAAAAAAAAAAAAAAAAAAAAAAAAAAAAAAAAAAAAAAAAAAAAAAAAAAAAAAAAAAAAAAAAAAAAAAAAAAAAAAAAAAAA",
          "dtype": "f8"
         },
         "yaxis": "y3"
        },
        {
         "hovertemplate": "date=2033-07-31 00:00:00<br>variable=id<br>default_month=%{x}<br>value=%{y}<extra></extra>",
         "legendgroup": "2033-07-31 00:00:00",
         "line": {
          "color": "#2CA02C",
          "dash": "solid"
         },
         "marker": {
          "symbol": "circle"
         },
         "mode": "lines",
         "name": "2033-07-31 00:00:00",
         "showlegend": true,
         "type": "scattergl",
         "x": {
          "bdata": "AQIDBAUGBwgJCgsMDQ4PEBESExQVFhcY",
          "dtype": "i1"
         },
         "xaxis": "x",
         "y": {
          "bdata": "AAAAAAAUu0AAAAAAABS7QAAAAAAAFLtAAAAAAAAUu0AAAAAAABS7QAAAAAAAFLtAAAAAAAAUu0AAAAAAABS7QAAAAAAAFLtAAAAAAAAUu0AAAAAAABS7QAAAAAAAFLtAAAAAAAAUu0AAAAAAABS7QAAAAAAAFLtAAAAAAAAUu0AAAAAAABS7QAAAAAAAFLtAAAAAAAAUu0AAAAAAABS7QAAAAAAAFLtAAAAAAAAUu0AAAAAAABS7QAAAAAAAFLtA",
          "dtype": "f8"
         },
         "yaxis": "y"
        },
        {
         "hovertemplate": "date=2033-07-31 00:00:00<br>variable=cum_defaults<br>default_month=%{x}<br>value=%{y}<extra></extra>",
         "legendgroup": "2033-07-31 00:00:00",
         "line": {
          "color": "#2CA02C",
          "dash": "solid"
         },
         "marker": {
          "symbol": "circle"
         },
         "mode": "lines",
         "name": "2033-07-31 00:00:00",
         "showlegend": false,
         "type": "scattergl",
         "x": {
          "bdata": "AQIDBAUGBwgJCgsMDQ4PEBESExQVFhcY",
          "dtype": "i1"
         },
         "xaxis": "x2",
         "y": {
          "bdata": "AAAAAAAAAAAAAAAAAAAAAJEIDi2D6CI/kQgOLYPoIj+RCA4tg+gyP5EIDi2D6DI/kQgOLYPoMj+RCA4tg+gyP5EIDi2D6DI/kQgOLYPoMj+RCA4tg+gyP5EIDi2D6DI/kQgOLYPoMj+RCA4tg+gyP5EIDi2D6DI/kQgOLYPoMj+RCA4tg+gyP5EIDi2D6DI/kQgOLYPoMj+RCA4tg+gyP5EIDi2D6DI/kQgOLYPoMj+RCA4tg+gyP5EIDi2D6DI/",
          "dtype": "f8"
         },
         "yaxis": "y2"
        },
        {
         "hovertemplate": "date=2033-07-31 00:00:00<br>variable=default_flag<br>default_month=%{x}<br>value=%{y}<extra></extra>",
         "legendgroup": "2033-07-31 00:00:00",
         "line": {
          "color": "#2CA02C",
          "dash": "solid"
         },
         "marker": {
          "symbol": "circle"
         },
         "mode": "lines",
         "name": "2033-07-31 00:00:00",
         "showlegend": false,
         "type": "scattergl",
         "x": {
          "bdata": "AQIDBAUGBwgJCgsMDQ4PEBESExQVFhcY",
          "dtype": "i1"
         },
         "xaxis": "x3",
         "y": {
          "bdata": "AAAAAAAAAAAAAAAAAAAAAJEIDi2D6CI/AAAAAAAAAACRCA4tg+giPwAAAAAAAAAAAAAAAAAAAAAAAAAAAAAAAAAAAAAAAAAAAAAAAAAAAAAAAAAAAAAAAAAAAAAAAAAAAAAAAAAAAAAAAAAAAAAAAAAAAAAAAAAAAAAAAAAAAAAAAAAAAAAAAAAAAAAAAAAAAAAAAAAAAAAAAAAAAAAAAAAAAAAAAAAAAAAAAAAAAAAAAAAAAAAAAAAAAAAAAAAA",
          "dtype": "f8"
         },
         "yaxis": "y3"
        },
        {
         "hovertemplate": "date=2033-08-31 00:00:00<br>variable=id<br>default_month=%{x}<br>value=%{y}<extra></extra>",
         "legendgroup": "2033-08-31 00:00:00",
         "line": {
          "color": "#D62728",
          "dash": "solid"
         },
         "marker": {
          "symbol": "circle"
         },
         "mode": "lines",
         "name": "2033-08-31 00:00:00",
         "showlegend": true,
         "type": "scattergl",
         "x": {
          "bdata": "AQIDBAUGBwgJCgsMDQ4PEBESExQVFhcY",
          "dtype": "i1"
         },
         "xaxis": "x",
         "y": {
          "bdata": "AAAAAADZuUAAAAAAANm5QAAAAAAA2blAAAAAAADZuUAAAAAAANm5QAAAAAAA2blAAAAAAADZuUAAAAAAANm5QAAAAAAA2blAAAAAAADZuUAAAAAAANm5QAAAAAAA2blAAAAAAADZuUAAAAAAANm5QAAAAAAA2blAAAAAAADZuUAAAAAAANm5QAAAAAAA2blAAAAAAADZuUAAAAAAANm5QAAAAAAA2blAAAAAAADZuUAAAAAAANm5QAAAAAAA2blA",
          "dtype": "f8"
         },
         "yaxis": "y"
        },
        {
         "hovertemplate": "date=2033-08-31 00:00:00<br>variable=cum_defaults<br>default_month=%{x}<br>value=%{y}<extra></extra>",
         "legendgroup": "2033-08-31 00:00:00",
         "line": {
          "color": "#D62728",
          "dash": "solid"
         },
         "marker": {
          "symbol": "circle"
         },
         "mode": "lines",
         "name": "2033-08-31 00:00:00",
         "showlegend": false,
         "type": "scattergl",
         "x": {
          "bdata": "AQIDBAUGBwgJCgsMDQ4PEBESExQVFhcY",
          "dtype": "i1"
         },
         "xaxis": "x2",
         "y": {
          "bdata": "AAAAAAAAAABEIO598c4jP0Qg7n3xziM/RCDuffHOMz9EIO598c4zP0Qg7n3xzjM/RCDuffHOMz9EIO598c4zP0Qg7n3xzjM/RCDuffHOMz9EIO598c4zP0Qg7n3xzjM/RCDuffHOMz9EIO598c4zP0Qg7n3xzjM/RCDuffHOMz9EIO598c4zP0Qg7n3xzjM/RCDuffHOMz9EIO598c4zP0Qg7n3xzjM/RCDuffHOMz9EIO598c4zP0Qg7n3xzjM/",
          "dtype": "f8"
         },
         "yaxis": "y2"
        },
        {
         "hovertemplate": "date=2033-08-31 00:00:00<br>variable=default_flag<br>default_month=%{x}<br>value=%{y}<extra></extra>",
         "legendgroup": "2033-08-31 00:00:00",
         "line": {
          "color": "#D62728",
          "dash": "solid"
         },
         "marker": {
          "symbol": "circle"
         },
         "mode": "lines",
         "name": "2033-08-31 00:00:00",
         "showlegend": false,
         "type": "scattergl",
         "x": {
          "bdata": "AQIDBAUGBwgJCgsMDQ4PEBESExQVFhcY",
          "dtype": "i1"
         },
         "xaxis": "x3",
         "y": {
          "bdata": "AAAAAAAAAABEIO598c4jPwAAAAAAAAAARCDuffHOIz8AAAAAAAAAAAAAAAAAAAAAAAAAAAAAAAAAAAAAAAAAAAAAAAAAAAAAAAAAAAAAAAAAAAAAAAAAAAAAAAAAAAAAAAAAAAAAAAAAAAAAAAAAAAAAAAAAAAAAAAAAAAAAAAAAAAAAAAAAAAAAAAAAAAAAAAAAAAAAAAAAAAAAAAAAAAAAAAAAAAAAAAAAAAAAAAAAAAAAAAAAAAAAAAAAAAAA",
          "dtype": "f8"
         },
         "yaxis": "y3"
        },
        {
         "hovertemplate": "date=2033-09-30 00:00:00<br>variable=id<br>default_month=%{x}<br>value=%{y}<extra></extra>",
         "legendgroup": "2033-09-30 00:00:00",
         "line": {
          "color": "#9467BD",
          "dash": "solid"
         },
         "marker": {
          "symbol": "circle"
         },
         "mode": "lines",
         "name": "2033-09-30 00:00:00",
         "showlegend": true,
         "type": "scattergl",
         "x": {
          "bdata": "AQIDBAUGBwgJCgsMDQ4PEBESExQVFhcY",
          "dtype": "i1"
         },
         "xaxis": "x",
         "y": {
          "bdata": "AAAAAACDuEAAAAAAAIO4QAAAAAAAg7hAAAAAAACDuEAAAAAAAIO4QAAAAAAAg7hAAAAAAACDuEAAAAAAAIO4QAAAAAAAg7hAAAAAAACDuEAAAAAAAIO4QAAAAAAAg7hAAAAAAACDuEAAAAAAAIO4QAAAAAAAg7hAAAAAAACDuEAAAAAAAIO4QAAAAAAAg7hAAAAAAACDuEAAAAAAAIO4QAAAAAAAg7hAAAAAAACDuEAAAAAAAIO4QAAAAAAAg7hA",
          "dtype": "f8"
         },
         "yaxis": "y"
        },
        {
         "hovertemplate": "date=2033-09-30 00:00:00<br>variable=cum_defaults<br>default_month=%{x}<br>value=%{y}<extra></extra>",
         "legendgroup": "2033-09-30 00:00:00",
         "line": {
          "color": "#9467BD",
          "dash": "solid"
         },
         "marker": {
          "symbol": "circle"
         },
         "mode": "lines",
         "name": "2033-09-30 00:00:00",
         "showlegend": false,
         "type": "scattergl",
         "x": {
          "bdata": "AQIDBAUGBwgJCgsMDQ4PEBESExQVFhcY",
          "dtype": "i1"
         },
         "xaxis": "x2",
         "y": {
          "bdata": "yHUT4VHjJD/IdRPhUeMkP8h1E+FR4zQ/yHUT4VHjND/IdRPhUeM0P8h1E+FR4zQ/yHUT4VHjND/IdRPhUeM0P8h1E+FR4zQ/yHUT4VHjND/IdRPhUeM0P8h1E+FR4zQ/yHUT4VHjND/IdRPhUeM0P8h1E+FR4zQ/yHUT4VHjND/IdRPhUeM0P8h1E+FR4zQ/yHUT4VHjND/IdRPhUeM0P8h1E+FR4zQ/yHUT4VHjND/IdRPhUeM0P8h1E+FR4zQ/",
          "dtype": "f8"
         },
         "yaxis": "y2"
        },
        {
         "hovertemplate": "date=2033-09-30 00:00:00<br>variable=default_flag<br>default_month=%{x}<br>value=%{y}<extra></extra>",
         "legendgroup": "2033-09-30 00:00:00",
         "line": {
          "color": "#9467BD",
          "dash": "solid"
         },
         "marker": {
          "symbol": "circle"
         },
         "mode": "lines",
         "name": "2033-09-30 00:00:00",
         "showlegend": false,
         "type": "scattergl",
         "x": {
          "bdata": "AQIDBAUGBwgJCgsMDQ4PEBESExQVFhcY",
          "dtype": "i1"
         },
         "xaxis": "x3",
         "y": {
          "bdata": "yHUT4VHjJD8AAAAAAAAAAMh1E+FR4yQ/AAAAAAAAAAAAAAAAAAAAAAAAAAAAAAAAAAAAAAAAAAAAAAAAAAAAAAAAAAAAAAAAAAAAAAAAAAAAAAAAAAAAAAAAAAAAAAAAAAAAAAAAAAAAAAAAAAAAAAAAAAAAAAAAAAAAAAAAAAAAAAAAAAAAAAAAAAAAAAAAAAAAAAAAAAAAAAAAAAAAAAAAAAAAAAAAAAAAAAAAAAAAAAAAAAAAAAAAAAAAAAAA",
          "dtype": "f8"
         },
         "yaxis": "y3"
        },
        {
         "hovertemplate": "date=2033-10-31 00:00:00<br>variable=id<br>default_month=%{x}<br>value=%{y}<extra></extra>",
         "legendgroup": "2033-10-31 00:00:00",
         "line": {
          "color": "#8C564B",
          "dash": "solid"
         },
         "marker": {
          "symbol": "circle"
         },
         "mode": "lines",
         "name": "2033-10-31 00:00:00",
         "showlegend": true,
         "type": "scattergl",
         "x": {
          "bdata": "AQIDBAUGBwgJCgsMDQ4PEBESExQVFhcY",
          "dtype": "i1"
         },
         "xaxis": "x",
         "y": {
          "bdata": "AAAAAABCt0AAAAAAAEK3QAAAAAAAQrdAAAAAAABCt0AAAAAAAEK3QAAAAAAAQrdAAAAAAABCt0AAAAAAAEK3QAAAAAAAQrdAAAAAAABCt0AAAAAAAEK3QAAAAAAAQrdAAAAAAABCt0AAAAAAAEK3QAAAAAAAQrdAAAAAAABCt0AAAAAAAEK3QAAAAAAAQrdAAAAAAABCt0AAAAAAAEK3QAAAAAAAQrdAAAAAAABCt0AAAAAAAEK3QAAAAAAAQrdA",
          "dtype": "f8"
         },
         "yaxis": "y"
        },
        {
         "hovertemplate": "date=2033-10-31 00:00:00<br>variable=cum_defaults<br>default_month=%{x}<br>value=%{y}<extra></extra>",
         "legendgroup": "2033-10-31 00:00:00",
         "line": {
          "color": "#8C564B",
          "dash": "solid"
         },
         "marker": {
          "symbol": "circle"
         },
         "mode": "lines",
         "name": "2033-10-31 00:00:00",
         "showlegend": false,
         "type": "scattergl",
         "x": {
          "bdata": "AQIDBAUGBwgJCgsMDQ4PEBESExQVFhcY",
          "dtype": "i1"
         },
         "xaxis": "x2",
         "y": {
          "bdata": "AAAAAAAAAAAF47CXnAMmPwXjsJecAyY/BeOwl5wDJj8F47CXnAMmPwXjsJecAyY/BeOwl5wDJj8F47CXnAMmPwXjsJecAyY/BeOwl5wDJj8F47CXnAMmPwXjsJecAyY/BeOwl5wDJj8F47CXnAMmPwXjsJecAyY/BeOwl5wDJj8F47CXnAMmPwXjsJecAyY/BeOwl5wDJj8F47CXnAMmPwXjsJecAyY/BeOwl5wDJj8F47CXnAMmPwXjsJecAyY/",
          "dtype": "f8"
         },
         "yaxis": "y2"
        },
        {
         "hovertemplate": "date=2033-10-31 00:00:00<br>variable=default_flag<br>default_month=%{x}<br>value=%{y}<extra></extra>",
         "legendgroup": "2033-10-31 00:00:00",
         "line": {
          "color": "#8C564B",
          "dash": "solid"
         },
         "marker": {
          "symbol": "circle"
         },
         "mode": "lines",
         "name": "2033-10-31 00:00:00",
         "showlegend": false,
         "type": "scattergl",
         "x": {
          "bdata": "AQIDBAUGBwgJCgsMDQ4PEBESExQVFhcY",
          "dtype": "i1"
         },
         "xaxis": "x3",
         "y": {
          "bdata": "AAAAAAAAAAAF47CXnAMmPwAAAAAAAAAAAAAAAAAAAAAAAAAAAAAAAAAAAAAAAAAAAAAAAAAAAAAAAAAAAAAAAAAAAAAAAAAAAAAAAAAAAAAAAAAAAAAAAAAAAAAAAAAAAAAAAAAAAAAAAAAAAAAAAAAAAAAAAAAAAAAAAAAAAAAAAAAAAAAAAAAAAAAAAAAAAAAAAAAAAAAAAAAAAAAAAAAAAAAAAAAAAAAAAAAAAAAAAAAAAAAAAAAAAAAAAAAA",
          "dtype": "f8"
         },
         "yaxis": "y3"
        },
        {
         "hovertemplate": "date=2033-11-30 00:00:00<br>variable=id<br>default_month=%{x}<br>value=%{y}<extra></extra>",
         "legendgroup": "2033-11-30 00:00:00",
         "line": {
          "color": "#E377C2",
          "dash": "solid"
         },
         "marker": {
          "symbol": "circle"
         },
         "mode": "lines",
         "name": "2033-11-30 00:00:00",
         "showlegend": true,
         "type": "scattergl",
         "x": {
          "bdata": "AQIDBAUGBwgJCgsMDQ4PEBESExQVFhcY",
          "dtype": "i1"
         },
         "xaxis": "x",
         "y": {
          "bdata": "AAAAAAD4tUAAAAAAAPi1QAAAAAAA+LVAAAAAAAD4tUAAAAAAAPi1QAAAAAAA+LVAAAAAAAD4tUAAAAAAAPi1QAAAAAAA+LVAAAAAAAD4tUAAAAAAAPi1QAAAAAAA+LVAAAAAAAD4tUAAAAAAAPi1QAAAAAAA+LVAAAAAAAD4tUAAAAAAAPi1QAAAAAAA+LVAAAAAAAD4tUAAAAAAAPi1QAAAAAAA+LVAAAAAAAD4tUAAAAAAAPi1QAAAAAAA+LVA",
          "dtype": "f8"
         },
         "yaxis": "y"
        },
        {
         "hovertemplate": "date=2033-11-30 00:00:00<br>variable=cum_defaults<br>default_month=%{x}<br>value=%{y}<extra></extra>",
         "legendgroup": "2033-11-30 00:00:00",
         "line": {
          "color": "#E377C2",
          "dash": "solid"
         },
         "marker": {
          "symbol": "circle"
         },
         "mode": "lines",
         "name": "2033-11-30 00:00:00",
         "showlegend": false,
         "type": "scattergl",
         "x": {
          "bdata": "AQIDBAUGBwgJCgsMDQ4PEBESExQVFhcY",
          "dtype": "i1"
         },
         "xaxis": "x2",
         "y": {
          "bdata": "5XQBBEtOJz/ldAEES04nP+V0AQRLTic/5XQBBEtOJz/ldAEES04nP+V0AQRLTic/5XQBBEtOJz/ldAEES04nP+V0AQRLTic/5XQBBEtOJz/ldAEES04nP+V0AQRLTic/5XQBBEtOJz/ldAEES04nP+V0AQRLTic/5XQBBEtOJz/ldAEES04nP+V0AQRLTic/5XQBBEtOJz/ldAEES04nP+V0AQRLTic/5XQBBEtOJz/ldAEES04nP+V0AQRLTic/",
          "dtype": "f8"
         },
         "yaxis": "y2"
        },
        {
         "hovertemplate": "date=2033-11-30 00:00:00<br>variable=default_flag<br>default_month=%{x}<br>value=%{y}<extra></extra>",
         "legendgroup": "2033-11-30 00:00:00",
         "line": {
          "color": "#E377C2",
          "dash": "solid"
         },
         "marker": {
          "symbol": "circle"
         },
         "mode": "lines",
         "name": "2033-11-30 00:00:00",
         "showlegend": false,
         "type": "scattergl",
         "x": {
          "bdata": "AQIDBAUGBwgJCgsMDQ4PEBESExQVFhcY",
          "dtype": "i1"
         },
         "xaxis": "x3",
         "y": {
          "bdata": "5XQBBEtOJz8AAAAAAAAAAAAAAAAAAAAAAAAAAAAAAAAAAAAAAAAAAAAAAAAAAAAAAAAAAAAAAAAAAAAAAAAAAAAAAAAAAAAAAAAAAAAAAAAAAAAAAAAAAAAAAAAAAAAAAAAAAAAAAAAAAAAAAAAAAAAAAAAAAAAAAAAAAAAAAAAAAAAAAAAAAAAAAAAAAAAAAAAAAAAAAAAAAAAAAAAAAAAAAAAAAAAAAAAAAAAAAAAAAAAAAAAAAAAAAAAAAAAA",
          "dtype": "f8"
         },
         "yaxis": "y3"
        },
        {
         "hovertemplate": "date=2033-12-31 00:00:00<br>variable=id<br>default_month=%{x}<br>value=%{y}<extra></extra>",
         "legendgroup": "2033-12-31 00:00:00",
         "line": {
          "color": "#7F7F7F",
          "dash": "solid"
         },
         "marker": {
          "symbol": "circle"
         },
         "mode": "lines",
         "name": "2033-12-31 00:00:00",
         "showlegend": true,
         "type": "scattergl",
         "x": {
          "bdata": "AQIDBAUGBwgJCgsMDQ4PEBESExQVFhcY",
          "dtype": "i1"
         },
         "xaxis": "x",
         "y": {
          "bdata": "AAAAAADUtEAAAAAAANS0QAAAAAAA1LRAAAAAAADUtEAAAAAAANS0QAAAAAAA1LRAAAAAAADUtEAAAAAAANS0QAAAAAAA1LRAAAAAAADUtEAAAAAAANS0QAAAAAAA1LRAAAAAAADUtEAAAAAAANS0QAAAAAAA1LRAAAAAAADUtEAAAAAAANS0QAAAAAAA1LRAAAAAAADUtEAAAAAAANS0QAAAAAAA1LRAAAAAAADUtEAAAAAAANS0QAAAAAAA1LRA",
          "dtype": "f8"
         },
         "yaxis": "y"
        },
        {
         "hovertemplate": "date=2033-12-31 00:00:00<br>variable=cum_defaults<br>default_month=%{x}<br>value=%{y}<extra></extra>",
         "legendgroup": "2033-12-31 00:00:00",
         "line": {
          "color": "#7F7F7F",
          "dash": "solid"
         },
         "marker": {
          "symbol": "circle"
         },
         "mode": "lines",
         "name": "2033-12-31 00:00:00",
         "showlegend": false,
         "type": "scattergl",
         "x": {
          "bdata": "AQIDBAUGBwgJCgsMDQ4PEBESExQVFhcY",
          "dtype": "i1"
         },
         "xaxis": "x2",
         "y": {
          "bdata": "AAAAAAAAAAAAAAAAAAAAAAAAAAAAAAAAAAAAAAAAAAAAAAAAAAAAAAAAAAAAAAAAAAAAAAAAAAAAAAAAAAAAAAAAAAAAAAAAAAAAAAAAAAAAAAAAAAAAAAAAAAAAAAAAAAAAAAAAAAAAAAAAAAAAAAAAAAAAAAAAAAAAAAAAAAAAAAAAAAAAAAAAAAAAAAAAAAAAAAAAAAAAAAAAAAAAAAAAAAAAAAAAAAAAAAAAAAAAAAAAAAAAAAAAAAAAAAAA",
          "dtype": "f8"
         },
         "yaxis": "y2"
        },
        {
         "hovertemplate": "date=2033-12-31 00:00:00<br>variable=default_flag<br>default_month=%{x}<br>value=%{y}<extra></extra>",
         "legendgroup": "2033-12-31 00:00:00",
         "line": {
          "color": "#7F7F7F",
          "dash": "solid"
         },
         "marker": {
          "symbol": "circle"
         },
         "mode": "lines",
         "name": "2033-12-31 00:00:00",
         "showlegend": false,
         "type": "scattergl",
         "x": {
          "bdata": "AQIDBAUGBwgJCgsMDQ4PEBESExQVFhcY",
          "dtype": "i1"
         },
         "xaxis": "x3",
         "y": {
          "bdata": "AAAAAAAAAAAAAAAAAAAAAAAAAAAAAAAAAAAAAAAAAAAAAAAAAAAAAAAAAAAAAAAAAAAAAAAAAAAAAAAAAAAAAAAAAAAAAAAAAAAAAAAAAAAAAAAAAAAAAAAAAAAAAAAAAAAAAAAAAAAAAAAAAAAAAAAAAAAAAAAAAAAAAAAAAAAAAAAAAAAAAAAAAAAAAAAAAAAAAAAAAAAAAAAAAAAAAAAAAAAAAAAAAAAAAAAAAAAAAAAAAAAAAAAAAAAAAAAA",
          "dtype": "f8"
         },
         "yaxis": "y3"
        },
        {
         "hovertemplate": "date=2034-01-31 00:00:00<br>variable=id<br>default_month=%{x}<br>value=%{y}<extra></extra>",
         "legendgroup": "2034-01-31 00:00:00",
         "line": {
          "color": "#BCBD22",
          "dash": "solid"
         },
         "marker": {
          "symbol": "circle"
         },
         "mode": "lines",
         "name": "2034-01-31 00:00:00",
         "showlegend": true,
         "type": "scattergl",
         "x": {
          "bdata": "AQIDBAUGBwgJCgsMDQ4PEBESExQVFhcY",
          "dtype": "i1"
         },
         "xaxis": "x",
         "y": {
          "bdata": "AAAAAACMs0AAAAAAAIyzQAAAAAAAjLNAAAAAAACMs0AAAAAAAIyzQAAAAAAAjLNAAAAAAACMs0AAAAAAAIyzQAAAAAAAjLNAAAAAAACMs0AAAAAAAIyzQAAAAAAAjLNAAAAAAACMs0AAAAAAAIyzQAAAAAAAjLNAAAAAAACMs0AAAAAAAIyzQAAAAAAAjLNAAAAAAACMs0AAAAAAAIyzQAAAAAAAjLNAAAAAAACMs0AAAAAAAIyzQAAAAAAAjLNA",
          "dtype": "f8"
         },
         "yaxis": "y"
        },
        {
         "hovertemplate": "date=2034-01-31 00:00:00<br>variable=cum_defaults<br>default_month=%{x}<br>value=%{y}<extra></extra>",
         "legendgroup": "2034-01-31 00:00:00",
         "line": {
          "color": "#BCBD22",
          "dash": "solid"
         },
         "marker": {
          "symbol": "circle"
         },
         "mode": "lines",
         "name": "2034-01-31 00:00:00",
         "showlegend": false,
         "type": "scattergl",
         "x": {
          "bdata": "AQIDBAUGBwgJCgsMDQ4PEBESExQVFhcY",
          "dtype": "i1"
         },
         "xaxis": "x2",
         "y": {
          "bdata": "AAAAAAAAAAAAAAAAAAAAAAAAAAAAAAAAAAAAAAAAAAAAAAAAAAAAAAAAAAAAAAAAAAAAAAAAAAAAAAAAAAAAAAAAAAAAAAAAAAAAAAAAAAAAAAAAAAAAAAAAAAAAAAAAAAAAAAAAAAAAAAAAAAAAAAAAAAAAAAAAAAAAAAAAAAAAAAAAAAAAAAAAAAAAAAAAAAAAAAAAAAAAAAAAAAAAAAAAAAAAAAAAAAAAAAAAAAAAAAAAAAAAAAAAAAAAAAAA",
          "dtype": "f8"
         },
         "yaxis": "y2"
        },
        {
         "hovertemplate": "date=2034-01-31 00:00:00<br>variable=default_flag<br>default_month=%{x}<br>value=%{y}<extra></extra>",
         "legendgroup": "2034-01-31 00:00:00",
         "line": {
          "color": "#BCBD22",
          "dash": "solid"
         },
         "marker": {
          "symbol": "circle"
         },
         "mode": "lines",
         "name": "2034-01-31 00:00:00",
         "showlegend": false,
         "type": "scattergl",
         "x": {
          "bdata": "AQIDBAUGBwgJCgsMDQ4PEBESExQVFhcY",
          "dtype": "i1"
         },
         "xaxis": "x3",
         "y": {
          "bdata": "AAAAAAAAAAAAAAAAAAAAAAAAAAAAAAAAAAAAAAAAAAAAAAAAAAAAAAAAAAAAAAAAAAAAAAAAAAAAAAAAAAAAAAAAAAAAAAAAAAAAAAAAAAAAAAAAAAAAAAAAAAAAAAAAAAAAAAAAAAAAAAAAAAAAAAAAAAAAAAAAAAAAAAAAAAAAAAAAAAAAAAAAAAAAAAAAAAAAAAAAAAAAAAAAAAAAAAAAAAAAAAAAAAAAAAAAAAAAAAAAAAAAAAAAAAAAAAAA",
          "dtype": "f8"
         },
         "yaxis": "y3"
        },
        {
         "hovertemplate": "date=2034-02-28 00:00:00<br>variable=id<br>default_month=%{x}<br>value=%{y}<extra></extra>",
         "legendgroup": "2034-02-28 00:00:00",
         "line": {
          "color": "#17BECF",
          "dash": "solid"
         },
         "marker": {
          "symbol": "circle"
         },
         "mode": "lines",
         "name": "2034-02-28 00:00:00",
         "showlegend": true,
         "type": "scattergl",
         "x": {
          "bdata": "AQIDBAUGBwgJCgsMDQ4PEBESExQVFhcY",
          "dtype": "i1"
         },
         "xaxis": "x",
         "y": {
          "bdata": "AAAAAABRskAAAAAAAFGyQAAAAAAAUbJAAAAAAABRskAAAAAAAFGyQAAAAAAAUbJAAAAAAABRskAAAAAAAFGyQAAAAAAAUbJAAAAAAABRskAAAAAAAFGyQAAAAAAAUbJAAAAAAABRskAAAAAAAFGyQAAAAAAAUbJAAAAAAABRskAAAAAAAFGyQAAAAAAAUbJAAAAAAABRskAAAAAAAFGyQAAAAAAAUbJAAAAAAABRskAAAAAAAFGyQAAAAAAAUbJA",
          "dtype": "f8"
         },
         "yaxis": "y"
        },
        {
         "hovertemplate": "date=2034-02-28 00:00:00<br>variable=cum_defaults<br>default_month=%{x}<br>value=%{y}<extra></extra>",
         "legendgroup": "2034-02-28 00:00:00",
         "line": {
          "color": "#17BECF",
          "dash": "solid"
         },
         "marker": {
          "symbol": "circle"
         },
         "mode": "lines",
         "name": "2034-02-28 00:00:00",
         "showlegend": false,
         "type": "scattergl",
         "x": {
          "bdata": "AQIDBAUGBwgJCgsMDQ4PEBESExQVFhcY",
          "dtype": "i1"
         },
         "xaxis": "x2",
         "y": {
          "bdata": "AAAAAAAAAAAAAAAAAAAAAAAAAAAAAAAAAAAAAAAAAAAAAAAAAAAAAAAAAAAAAAAAAAAAAAAAAAAAAAAAAAAAAAAAAAAAAAAAAAAAAAAAAAAAAAAAAAAAAAAAAAAAAAAAAAAAAAAAAAAAAAAAAAAAAAAAAAAAAAAAAAAAAAAAAAAAAAAAAAAAAAAAAAAAAAAAAAAAAAAAAAAAAAAAAAAAAAAAAAAAAAAAAAAAAAAAAAAAAAAAAAAAAAAAAAAAAAAA",
          "dtype": "f8"
         },
         "yaxis": "y2"
        },
        {
         "hovertemplate": "date=2034-02-28 00:00:00<br>variable=default_flag<br>default_month=%{x}<br>value=%{y}<extra></extra>",
         "legendgroup": "2034-02-28 00:00:00",
         "line": {
          "color": "#17BECF",
          "dash": "solid"
         },
         "marker": {
          "symbol": "circle"
         },
         "mode": "lines",
         "name": "2034-02-28 00:00:00",
         "showlegend": false,
         "type": "scattergl",
         "x": {
          "bdata": "AQIDBAUGBwgJCgsMDQ4PEBESExQVFhcY",
          "dtype": "i1"
         },
         "xaxis": "x3",
         "y": {
          "bdata": "AAAAAAAAAAAAAAAAAAAAAAAAAAAAAAAAAAAAAAAAAAAAAAAAAAAAAAAAAAAAAAAAAAAAAAAAAAAAAAAAAAAAAAAAAAAAAAAAAAAAAAAAAAAAAAAAAAAAAAAAAAAAAAAAAAAAAAAAAAAAAAAAAAAAAAAAAAAAAAAAAAAAAAAAAAAAAAAAAAAAAAAAAAAAAAAAAAAAAAAAAAAAAAAAAAAAAAAAAAAAAAAAAAAAAAAAAAAAAAAAAAAAAAAAAAAAAAAA",
          "dtype": "f8"
         },
         "yaxis": "y3"
        },
        {
         "hovertemplate": "date=2034-03-31 00:00:00<br>variable=id<br>default_month=%{x}<br>value=%{y}<extra></extra>",
         "legendgroup": "2034-03-31 00:00:00",
         "line": {
          "color": "#1F77B4",
          "dash": "solid"
         },
         "marker": {
          "symbol": "circle"
         },
         "mode": "lines",
         "name": "2034-03-31 00:00:00",
         "showlegend": true,
         "type": "scattergl",
         "x": {
          "bdata": "AQIDBAUGBwgJCgsMDQ4PEBESExQVFhcY",
          "dtype": "i1"
         },
         "xaxis": "x",
         "y": {
          "bdata": "AAAAAAATsUAAAAAAABOxQAAAAAAAE7FAAAAAAAATsUAAAAAAABOxQAAAAAAAE7FAAAAAAAATsUAAAAAAABOxQAAAAAAAE7FAAAAAAAATsUAAAAAAABOxQAAAAAAAE7FAAAAAAAATsUAAAAAAABOxQAAAAAAAE7FAAAAAAAATsUAAAAAAABOxQAAAAAAAE7FAAAAAAAATsUAAAAAAABOxQAAAAAAAE7FAAAAAAAATsUAAAAAAABOxQAAAAAAAE7FA",
          "dtype": "f8"
         },
         "yaxis": "y"
        },
        {
         "hovertemplate": "date=2034-03-31 00:00:00<br>variable=cum_defaults<br>default_month=%{x}<br>value=%{y}<extra></extra>",
         "legendgroup": "2034-03-31 00:00:00",
         "line": {
          "color": "#1F77B4",
          "dash": "solid"
         },
         "marker": {
          "symbol": "circle"
         },
         "mode": "lines",
         "name": "2034-03-31 00:00:00",
         "showlegend": false,
         "type": "scattergl",
         "x": {
          "bdata": "AQIDBAUGBwgJCgsMDQ4PEBESExQVFhcY",
          "dtype": "i1"
         },
         "xaxis": "x2",
         "y": {
          "bdata": "AAAAAAAAAAAAAAAAAAAAAAAAAAAAAAAAAAAAAAAAAAAAAAAAAAAAAAAAAAAAAAAAAAAAAAAAAAAAAAAAAAAAAAAAAAAAAAAAAAAAAAAAAAAAAAAAAAAAAAAAAAAAAAAAAAAAAAAAAAAAAAAAAAAAAAAAAAAAAAAAAAAAAAAAAAAAAAAAAAAAAAAAAAAAAAAAAAAAAAAAAAAAAAAAAAAAAAAAAAAAAAAAAAAAAAAAAAAAAAAAAAAAAAAAAAAAAAAA",
          "dtype": "f8"
         },
         "yaxis": "y2"
        },
        {
         "hovertemplate": "date=2034-03-31 00:00:00<br>variable=default_flag<br>default_month=%{x}<br>value=%{y}<extra></extra>",
         "legendgroup": "2034-03-31 00:00:00",
         "line": {
          "color": "#1F77B4",
          "dash": "solid"
         },
         "marker": {
          "symbol": "circle"
         },
         "mode": "lines",
         "name": "2034-03-31 00:00:00",
         "showlegend": false,
         "type": "scattergl",
         "x": {
          "bdata": "AQIDBAUGBwgJCgsMDQ4PEBESExQVFhcY",
          "dtype": "i1"
         },
         "xaxis": "x3",
         "y": {
          "bdata": "AAAAAAAAAAAAAAAAAAAAAAAAAAAAAAAAAAAAAAAAAAAAAAAAAAAAAAAAAAAAAAAAAAAAAAAAAAAAAAAAAAAAAAAAAAAAAAAAAAAAAAAAAAAAAAAAAAAAAAAAAAAAAAAAAAAAAAAAAAAAAAAAAAAAAAAAAAAAAAAAAAAAAAAAAAAAAAAAAAAAAAAAAAAAAAAAAAAAAAAAAAAAAAAAAAAAAAAAAAAAAAAAAAAAAAAAAAAAAAAAAAAAAAAAAAAAAAAA",
          "dtype": "f8"
         },
         "yaxis": "y3"
        },
        {
         "hovertemplate": "date=2034-04-30 00:00:00<br>variable=id<br>default_month=%{x}<br>value=%{y}<extra></extra>",
         "legendgroup": "2034-04-30 00:00:00",
         "line": {
          "color": "#FF7F0E",
          "dash": "solid"
         },
         "marker": {
          "symbol": "circle"
         },
         "mode": "lines",
         "name": "2034-04-30 00:00:00",
         "showlegend": true,
         "type": "scattergl",
         "x": {
          "bdata": "AQIDBAUGBwgJCgsMDQ4PEBESExQVFhcY",
          "dtype": "i1"
         },
         "xaxis": "x",
         "y": {
          "bdata": "AAAAAACQr0AAAAAAAJCvQAAAAAAAkK9AAAAAAACQr0AAAAAAAJCvQAAAAAAAkK9AAAAAAACQr0AAAAAAAJCvQAAAAAAAkK9AAAAAAACQr0AAAAAAAJCvQAAAAAAAkK9AAAAAAACQr0AAAAAAAJCvQAAAAAAAkK9AAAAAAACQr0AAAAAAAJCvQAAAAAAAkK9AAAAAAACQr0AAAAAAAJCvQAAAAAAAkK9AAAAAAACQr0AAAAAAAJCvQAAAAAAAkK9A",
          "dtype": "f8"
         },
         "yaxis": "y"
        },
        {
         "hovertemplate": "date=2034-04-30 00:00:00<br>variable=cum_defaults<br>default_month=%{x}<br>value=%{y}<extra></extra>",
         "legendgroup": "2034-04-30 00:00:00",
         "line": {
          "color": "#FF7F0E",
          "dash": "solid"
         },
         "marker": {
          "symbol": "circle"
         },
         "mode": "lines",
         "name": "2034-04-30 00:00:00",
         "showlegend": false,
         "type": "scattergl",
         "x": {
          "bdata": "AQIDBAUGBwgJCgsMDQ4PEBESExQVFhcY",
          "dtype": "i1"
         },
         "xaxis": "x2",
         "y": {
          "bdata": "AAAAAAAAAAAAAAAAAAAAAAAAAAAAAAAAAAAAAAAAAAAAAAAAAAAAAAAAAAAAAAAAAAAAAAAAAAAAAAAAAAAAAAAAAAAAAAAAAAAAAAAAAAAAAAAAAAAAAAAAAAAAAAAAAAAAAAAAAAAAAAAAAAAAAAAAAAAAAAAAAAAAAAAAAAAAAAAAAAAAAAAAAAAAAAAAAAAAAAAAAAAAAAAAAAAAAAAAAAAAAAAAAAAAAAAAAAAAAAAAAAAAAAAAAAAAAAAA",
          "dtype": "f8"
         },
         "yaxis": "y2"
        },
        {
         "hovertemplate": "date=2034-04-30 00:00:00<br>variable=default_flag<br>default_month=%{x}<br>value=%{y}<extra></extra>",
         "legendgroup": "2034-04-30 00:00:00",
         "line": {
          "color": "#FF7F0E",
          "dash": "solid"
         },
         "marker": {
          "symbol": "circle"
         },
         "mode": "lines",
         "name": "2034-04-30 00:00:00",
         "showlegend": false,
         "type": "scattergl",
         "x": {
          "bdata": "AQIDBAUGBwgJCgsMDQ4PEBESExQVFhcY",
          "dtype": "i1"
         },
         "xaxis": "x3",
         "y": {
          "bdata": "AAAAAAAAAAAAAAAAAAAAAAAAAAAAAAAAAAAAAAAAAAAAAAAAAAAAAAAAAAAAAAAAAAAAAAAAAAAAAAAAAAAAAAAAAAAAAAAAAAAAAAAAAAAAAAAAAAAAAAAAAAAAAAAAAAAAAAAAAAAAAAAAAAAAAAAAAAAAAAAAAAAAAAAAAAAAAAAAAAAAAAAAAAAAAAAAAAAAAAAAAAAAAAAAAAAAAAAAAAAAAAAAAAAAAAAAAAAAAAAAAAAAAAAAAAAAAAAA",
          "dtype": "f8"
         },
         "yaxis": "y3"
        },
        {
         "hovertemplate": "date=2034-05-31 00:00:00<br>variable=id<br>default_month=%{x}<br>value=%{y}<extra></extra>",
         "legendgroup": "2034-05-31 00:00:00",
         "line": {
          "color": "#2CA02C",
          "dash": "solid"
         },
         "marker": {
          "symbol": "circle"
         },
         "mode": "lines",
         "name": "2034-05-31 00:00:00",
         "showlegend": true,
         "type": "scattergl",
         "x": {
          "bdata": "AQIDBAUGBwgJCgsMDQ4PEBESExQVFhcY",
          "dtype": "i1"
         },
         "xaxis": "x",
         "y": {
          "bdata": "AAAAAAD6rEAAAAAAAPqsQAAAAAAA+qxAAAAAAAD6rEAAAAAAAPqsQAAAAAAA+qxAAAAAAAD6rEAAAAAAAPqsQAAAAAAA+qxAAAAAAAD6rEAAAAAAAPqsQAAAAAAA+qxAAAAAAAD6rEAAAAAAAPqsQAAAAAAA+qxAAAAAAAD6rEAAAAAAAPqsQAAAAAAA+qxAAAAAAAD6rEAAAAAAAPqsQAAAAAAA+qxAAAAAAAD6rEAAAAAAAPqsQAAAAAAA+qxA",
          "dtype": "f8"
         },
         "yaxis": "y"
        },
        {
         "hovertemplate": "date=2034-05-31 00:00:00<br>variable=cum_defaults<br>default_month=%{x}<br>value=%{y}<extra></extra>",
         "legendgroup": "2034-05-31 00:00:00",
         "line": {
          "color": "#2CA02C",
          "dash": "solid"
         },
         "marker": {
          "symbol": "circle"
         },
         "mode": "lines",
         "name": "2034-05-31 00:00:00",
         "showlegend": false,
         "type": "scattergl",
         "x": {
          "bdata": "AQIDBAUGBwgJCgsMDQ4PEBESExQVFhcY",
          "dtype": "i1"
         },
         "xaxis": "x2",
         "y": {
          "bdata": "AAAAAAAAAAAAAAAAAAAAAAAAAAAAAAAAAAAAAAAAAAAAAAAAAAAAAAAAAAAAAAAAAAAAAAAAAAAAAAAAAAAAAAAAAAAAAAAAAAAAAAAAAAAAAAAAAAAAAAAAAAAAAAAAAAAAAAAAAAAAAAAAAAAAAAAAAAAAAAAAAAAAAAAAAAAAAAAAAAAAAAAAAAAAAAAAAAAAAAAAAAAAAAAAAAAAAAAAAAAAAAAAAAAAAAAAAAAAAAAAAAAAAAAAAAAAAAAA",
          "dtype": "f8"
         },
         "yaxis": "y2"
        },
        {
         "hovertemplate": "date=2034-05-31 00:00:00<br>variable=default_flag<br>default_month=%{x}<br>value=%{y}<extra></extra>",
         "legendgroup": "2034-05-31 00:00:00",
         "line": {
          "color": "#2CA02C",
          "dash": "solid"
         },
         "marker": {
          "symbol": "circle"
         },
         "mode": "lines",
         "name": "2034-05-31 00:00:00",
         "showlegend": false,
         "type": "scattergl",
         "x": {
          "bdata": "AQIDBAUGBwgJCgsMDQ4PEBESExQVFhcY",
          "dtype": "i1"
         },
         "xaxis": "x3",
         "y": {
          "bdata": "AAAAAAAAAAAAAAAAAAAAAAAAAAAAAAAAAAAAAAAAAAAAAAAAAAAAAAAAAAAAAAAAAAAAAAAAAAAAAAAAAAAAAAAAAAAAAAAAAAAAAAAAAAAAAAAAAAAAAAAAAAAAAAAAAAAAAAAAAAAAAAAAAAAAAAAAAAAAAAAAAAAAAAAAAAAAAAAAAAAAAAAAAAAAAAAAAAAAAAAAAAAAAAAAAAAAAAAAAAAAAAAAAAAAAAAAAAAAAAAAAAAAAAAAAAAAAAAA",
          "dtype": "f8"
         },
         "yaxis": "y3"
        },
        {
         "hovertemplate": "date=2034-06-30 00:00:00<br>variable=id<br>default_month=%{x}<br>value=%{y}<extra></extra>",
         "legendgroup": "2034-06-30 00:00:00",
         "line": {
          "color": "#D62728",
          "dash": "solid"
         },
         "marker": {
          "symbol": "circle"
         },
         "mode": "lines",
         "name": "2034-06-30 00:00:00",
         "showlegend": true,
         "type": "scattergl",
         "x": {
          "bdata": "AQIDBAUGBwgJCgsMDQ4PEBESExQVFhcY",
          "dtype": "i1"
         },
         "xaxis": "x",
         "y": {
          "bdata": "AAAAAAAQqkAAAAAAABCqQAAAAAAAEKpAAAAAAAAQqkAAAAAAABCqQAAAAAAAEKpAAAAAAAAQqkAAAAAAABCqQAAAAAAAEKpAAAAAAAAQqkAAAAAAABCqQAAAAAAAEKpAAAAAAAAQqkAAAAAAABCqQAAAAAAAEKpAAAAAAAAQqkAAAAAAABCqQAAAAAAAEKpAAAAAAAAQqkAAAAAAABCqQAAAAAAAEKpAAAAAAAAQqkAAAAAAABCqQAAAAAAAEKpA",
          "dtype": "f8"
         },
         "yaxis": "y"
        },
        {
         "hovertemplate": "date=2034-06-30 00:00:00<br>variable=cum_defaults<br>default_month=%{x}<br>value=%{y}<extra></extra>",
         "legendgroup": "2034-06-30 00:00:00",
         "line": {
          "color": "#D62728",
          "dash": "solid"
         },
         "marker": {
          "symbol": "circle"
         },
         "mode": "lines",
         "name": "2034-06-30 00:00:00",
         "showlegend": false,
         "type": "scattergl",
         "x": {
          "bdata": "AQIDBAUGBwgJCgsMDQ4PEBESExQVFhcY",
          "dtype": "i1"
         },
         "xaxis": "x2",
         "y": {
          "bdata": "AAAAAAAAAAAAAAAAAAAAAAAAAAAAAAAAAAAAAAAAAAAAAAAAAAAAAAAAAAAAAAAAAAAAAAAAAAAAAAAAAAAAAAAAAAAAAAAAAAAAAAAAAAAAAAAAAAAAAAAAAAAAAAAAAAAAAAAAAAAAAAAAAAAAAAAAAAAAAAAAAAAAAAAAAAAAAAAAAAAAAAAAAAAAAAAAAAAAAAAAAAAAAAAAAAAAAAAAAAAAAAAAAAAAAAAAAAAAAAAAAAAAAAAAAAAAAAAA",
          "dtype": "f8"
         },
         "yaxis": "y2"
        },
        {
         "hovertemplate": "date=2034-06-30 00:00:00<br>variable=default_flag<br>default_month=%{x}<br>value=%{y}<extra></extra>",
         "legendgroup": "2034-06-30 00:00:00",
         "line": {
          "color": "#D62728",
          "dash": "solid"
         },
         "marker": {
          "symbol": "circle"
         },
         "mode": "lines",
         "name": "2034-06-30 00:00:00",
         "showlegend": false,
         "type": "scattergl",
         "x": {
          "bdata": "AQIDBAUGBwgJCgsMDQ4PEBESExQVFhcY",
          "dtype": "i1"
         },
         "xaxis": "x3",
         "y": {
          "bdata": "AAAAAAAAAAAAAAAAAAAAAAAAAAAAAAAAAAAAAAAAAAAAAAAAAAAAAAAAAAAAAAAAAAAAAAAAAAAAAAAAAAAAAAAAAAAAAAAAAAAAAAAAAAAAAAAAAAAAAAAAAAAAAAAAAAAAAAAAAAAAAAAAAAAAAAAAAAAAAAAAAAAAAAAAAAAAAAAAAAAAAAAAAAAAAAAAAAAAAAAAAAAAAAAAAAAAAAAAAAAAAAAAAAAAAAAAAAAAAAAAAAAAAAAAAAAAAAAA",
          "dtype": "f8"
         },
         "yaxis": "y3"
        },
        {
         "hovertemplate": "date=2034-07-31 00:00:00<br>variable=id<br>default_month=%{x}<br>value=%{y}<extra></extra>",
         "legendgroup": "2034-07-31 00:00:00",
         "line": {
          "color": "#9467BD",
          "dash": "solid"
         },
         "marker": {
          "symbol": "circle"
         },
         "mode": "lines",
         "name": "2034-07-31 00:00:00",
         "showlegend": true,
         "type": "scattergl",
         "x": {
          "bdata": "AQIDBAUGBwgJCgsMDQ4PEBESExQVFhcY",
          "dtype": "i1"
         },
         "xaxis": "x",
         "y": {
          "bdata": "AAAAAACKp0AAAAAAAIqnQAAAAAAAiqdAAAAAAACKp0AAAAAAAIqnQAAAAAAAiqdAAAAAAACKp0AAAAAAAIqnQAAAAAAAiqdAAAAAAACKp0AAAAAAAIqnQAAAAAAAiqdAAAAAAACKp0AAAAAAAIqnQAAAAAAAiqdAAAAAAACKp0AAAAAAAIqnQAAAAAAAiqdAAAAAAACKp0AAAAAAAIqnQAAAAAAAiqdAAAAAAACKp0AAAAAAAIqnQAAAAAAAiqdA",
          "dtype": "f8"
         },
         "yaxis": "y"
        },
        {
         "hovertemplate": "date=2034-07-31 00:00:00<br>variable=cum_defaults<br>default_month=%{x}<br>value=%{y}<extra></extra>",
         "legendgroup": "2034-07-31 00:00:00",
         "line": {
          "color": "#9467BD",
          "dash": "solid"
         },
         "marker": {
          "symbol": "circle"
         },
         "mode": "lines",
         "name": "2034-07-31 00:00:00",
         "showlegend": false,
         "type": "scattergl",
         "x": {
          "bdata": "AQIDBAUGBwgJCgsMDQ4PEBESExQVFhcY",
          "dtype": "i1"
         },
         "xaxis": "x2",
         "y": {
          "bdata": "AAAAAAAAAAAAAAAAAAAAAAAAAAAAAAAAAAAAAAAAAAAAAAAAAAAAAAAAAAAAAAAAAAAAAAAAAAAAAAAAAAAAAAAAAAAAAAAAAAAAAAAAAAAAAAAAAAAAAAAAAAAAAAAAAAAAAAAAAAAAAAAAAAAAAAAAAAAAAAAAAAAAAAAAAAAAAAAAAAAAAAAAAAAAAAAAAAAAAAAAAAAAAAAAAAAAAAAAAAAAAAAAAAAAAAAAAAAAAAAAAAAAAAAAAAAAAAAA",
          "dtype": "f8"
         },
         "yaxis": "y2"
        },
        {
         "hovertemplate": "date=2034-07-31 00:00:00<br>variable=default_flag<br>default_month=%{x}<br>value=%{y}<extra></extra>",
         "legendgroup": "2034-07-31 00:00:00",
         "line": {
          "color": "#9467BD",
          "dash": "solid"
         },
         "marker": {
          "symbol": "circle"
         },
         "mode": "lines",
         "name": "2034-07-31 00:00:00",
         "showlegend": false,
         "type": "scattergl",
         "x": {
          "bdata": "AQIDBAUGBwgJCgsMDQ4PEBESExQVFhcY",
          "dtype": "i1"
         },
         "xaxis": "x3",
         "y": {
          "bdata": "AAAAAAAAAAAAAAAAAAAAAAAAAAAAAAAAAAAAAAAAAAAAAAAAAAAAAAAAAAAAAAAAAAAAAAAAAAAAAAAAAAAAAAAAAAAAAAAAAAAAAAAAAAAAAAAAAAAAAAAAAAAAAAAAAAAAAAAAAAAAAAAAAAAAAAAAAAAAAAAAAAAAAAAAAAAAAAAAAAAAAAAAAAAAAAAAAAAAAAAAAAAAAAAAAAAAAAAAAAAAAAAAAAAAAAAAAAAAAAAAAAAAAAAAAAAAAAAA",
          "dtype": "f8"
         },
         "yaxis": "y3"
        },
        {
         "hovertemplate": "date=2034-08-31 00:00:00<br>variable=id<br>default_month=%{x}<br>value=%{y}<extra></extra>",
         "legendgroup": "2034-08-31 00:00:00",
         "line": {
          "color": "#8C564B",
          "dash": "solid"
         },
         "marker": {
          "symbol": "circle"
         },
         "mode": "lines",
         "name": "2034-08-31 00:00:00",
         "showlegend": true,
         "type": "scattergl",
         "x": {
          "bdata": "AQIDBAUGBwgJCgsMDQ4PEBESExQVFhcY",
          "dtype": "i1"
         },
         "xaxis": "x",
         "y": {
          "bdata": "AAAAAAAWpUAAAAAAABalQAAAAAAAFqVAAAAAAAAWpUAAAAAAABalQAAAAAAAFqVAAAAAAAAWpUAAAAAAABalQAAAAAAAFqVAAAAAAAAWpUAAAAAAABalQAAAAAAAFqVAAAAAAAAWpUAAAAAAABalQAAAAAAAFqVAAAAAAAAWpUAAAAAAABalQAAAAAAAFqVAAAAAAAAWpUAAAAAAABalQAAAAAAAFqVAAAAAAAAWpUAAAAAAABalQAAAAAAAFqVA",
          "dtype": "f8"
         },
         "yaxis": "y"
        },
        {
         "hovertemplate": "date=2034-08-31 00:00:00<br>variable=cum_defaults<br>default_month=%{x}<br>value=%{y}<extra></extra>",
         "legendgroup": "2034-08-31 00:00:00",
         "line": {
          "color": "#8C564B",
          "dash": "solid"
         },
         "marker": {
          "symbol": "circle"
         },
         "mode": "lines",
         "name": "2034-08-31 00:00:00",
         "showlegend": false,
         "type": "scattergl",
         "x": {
          "bdata": "AQIDBAUGBwgJCgsMDQ4PEBESExQVFhcY",
          "dtype": "i1"
         },
         "xaxis": "x2",
         "y": {
          "bdata": "AAAAAAAAAAAAAAAAAAAAAAAAAAAAAAAAAAAAAAAAAAAAAAAAAAAAAAAAAAAAAAAAAAAAAAAAAAAAAAAAAAAAAAAAAAAAAAAAAAAAAAAAAAAAAAAAAAAAAAAAAAAAAAAAAAAAAAAAAAAAAAAAAAAAAAAAAAAAAAAAAAAAAAAAAAAAAAAAAAAAAAAAAAAAAAAAAAAAAAAAAAAAAAAAAAAAAAAAAAAAAAAAAAAAAAAAAAAAAAAAAAAAAAAAAAAAAAAA",
          "dtype": "f8"
         },
         "yaxis": "y2"
        },
        {
         "hovertemplate": "date=2034-08-31 00:00:00<br>variable=default_flag<br>default_month=%{x}<br>value=%{y}<extra></extra>",
         "legendgroup": "2034-08-31 00:00:00",
         "line": {
          "color": "#8C564B",
          "dash": "solid"
         },
         "marker": {
          "symbol": "circle"
         },
         "mode": "lines",
         "name": "2034-08-31 00:00:00",
         "showlegend": false,
         "type": "scattergl",
         "x": {
          "bdata": "AQIDBAUGBwgJCgsMDQ4PEBESExQVFhcY",
          "dtype": "i1"
         },
         "xaxis": "x3",
         "y": {
          "bdata": "AAAAAAAAAAAAAAAAAAAAAAAAAAAAAAAAAAAAAAAAAAAAAAAAAAAAAAAAAAAAAAAAAAAAAAAAAAAAAAAAAAAAAAAAAAAAAAAAAAAAAAAAAAAAAAAAAAAAAAAAAAAAAAAAAAAAAAAAAAAAAAAAAAAAAAAAAAAAAAAAAAAAAAAAAAAAAAAAAAAAAAAAAAAAAAAAAAAAAAAAAAAAAAAAAAAAAAAAAAAAAAAAAAAAAAAAAAAAAAAAAAAAAAAAAAAAAAAA",
          "dtype": "f8"
         },
         "yaxis": "y3"
        },
        {
         "hovertemplate": "date=2034-09-30 00:00:00<br>variable=id<br>default_month=%{x}<br>value=%{y}<extra></extra>",
         "legendgroup": "2034-09-30 00:00:00",
         "line": {
          "color": "#E377C2",
          "dash": "solid"
         },
         "marker": {
          "symbol": "circle"
         },
         "mode": "lines",
         "name": "2034-09-30 00:00:00",
         "showlegend": true,
         "type": "scattergl",
         "x": {
          "bdata": "AQIDBAUGBwgJCgsMDQ4PEBESExQVFhcY",
          "dtype": "i1"
         },
         "xaxis": "x",
         "y": {
          "bdata": "AAAAAABWokAAAAAAAFaiQAAAAAAAVqJAAAAAAABWokAAAAAAAFaiQAAAAAAAVqJAAAAAAABWokAAAAAAAFaiQAAAAAAAVqJAAAAAAABWokAAAAAAAFaiQAAAAAAAVqJAAAAAAABWokAAAAAAAFaiQAAAAAAAVqJAAAAAAABWokAAAAAAAFaiQAAAAAAAVqJAAAAAAABWokAAAAAAAFaiQAAAAAAAVqJAAAAAAABWokAAAAAAAFaiQAAAAAAAVqJA",
          "dtype": "f8"
         },
         "yaxis": "y"
        },
        {
         "hovertemplate": "date=2034-09-30 00:00:00<br>variable=cum_defaults<br>default_month=%{x}<br>value=%{y}<extra></extra>",
         "legendgroup": "2034-09-30 00:00:00",
         "line": {
          "color": "#E377C2",
          "dash": "solid"
         },
         "marker": {
          "symbol": "circle"
         },
         "mode": "lines",
         "name": "2034-09-30 00:00:00",
         "showlegend": false,
         "type": "scattergl",
         "x": {
          "bdata": "AQIDBAUGBwgJCgsMDQ4PEBESExQVFhcY",
          "dtype": "i1"
         },
         "xaxis": "x2",
         "y": {
          "bdata": "AAAAAAAAAAAAAAAAAAAAAAAAAAAAAAAAAAAAAAAAAAAAAAAAAAAAAAAAAAAAAAAAAAAAAAAAAAAAAAAAAAAAAAAAAAAAAAAAAAAAAAAAAAAAAAAAAAAAAAAAAAAAAAAAAAAAAAAAAAAAAAAAAAAAAAAAAAAAAAAAAAAAAAAAAAAAAAAAAAAAAAAAAAAAAAAAAAAAAAAAAAAAAAAAAAAAAAAAAAAAAAAAAAAAAAAAAAAAAAAAAAAAAAAAAAAAAAAA",
          "dtype": "f8"
         },
         "yaxis": "y2"
        },
        {
         "hovertemplate": "date=2034-09-30 00:00:00<br>variable=default_flag<br>default_month=%{x}<br>value=%{y}<extra></extra>",
         "legendgroup": "2034-09-30 00:00:00",
         "line": {
          "color": "#E377C2",
          "dash": "solid"
         },
         "marker": {
          "symbol": "circle"
         },
         "mode": "lines",
         "name": "2034-09-30 00:00:00",
         "showlegend": false,
         "type": "scattergl",
         "x": {
          "bdata": "AQIDBAUGBwgJCgsMDQ4PEBESExQVFhcY",
          "dtype": "i1"
         },
         "xaxis": "x3",
         "y": {
          "bdata": "AAAAAAAAAAAAAAAAAAAAAAAAAAAAAAAAAAAAAAAAAAAAAAAAAAAAAAAAAAAAAAAAAAAAAAAAAAAAAAAAAAAAAAAAAAAAAAAAAAAAAAAAAAAAAAAAAAAAAAAAAAAAAAAAAAAAAAAAAAAAAAAAAAAAAAAAAAAAAAAAAAAAAAAAAAAAAAAAAAAAAAAAAAAAAAAAAAAAAAAAAAAAAAAAAAAAAAAAAAAAAAAAAAAAAAAAAAAAAAAAAAAAAAAAAAAAAAAA",
          "dtype": "f8"
         },
         "yaxis": "y3"
        },
        {
         "hovertemplate": "date=2034-10-31 00:00:00<br>variable=id<br>default_month=%{x}<br>value=%{y}<extra></extra>",
         "legendgroup": "2034-10-31 00:00:00",
         "line": {
          "color": "#7F7F7F",
          "dash": "solid"
         },
         "marker": {
          "symbol": "circle"
         },
         "mode": "lines",
         "name": "2034-10-31 00:00:00",
         "showlegend": true,
         "type": "scattergl",
         "x": {
          "bdata": "AQIDBAUGBwgJCgsMDQ4PEBESExQVFhcY",
          "dtype": "i1"
         },
         "xaxis": "x",
         "y": {
          "bdata": "AAAAAAB8n0AAAAAAAHyfQAAAAAAAfJ9AAAAAAAB8n0AAAAAAAHyfQAAAAAAAfJ9AAAAAAAB8n0AAAAAAAHyfQAAAAAAAfJ9AAAAAAAB8n0AAAAAAAHyfQAAAAAAAfJ9AAAAAAAB8n0AAAAAAAHyfQAAAAAAAfJ9AAAAAAAB8n0AAAAAAAHyfQAAAAAAAfJ9AAAAAAAB8n0AAAAAAAHyfQAAAAAAAfJ9AAAAAAAB8n0AAAAAAAHyfQAAAAAAAfJ9A",
          "dtype": "f8"
         },
         "yaxis": "y"
        },
        {
         "hovertemplate": "date=2034-10-31 00:00:00<br>variable=cum_defaults<br>default_month=%{x}<br>value=%{y}<extra></extra>",
         "legendgroup": "2034-10-31 00:00:00",
         "line": {
          "color": "#7F7F7F",
          "dash": "solid"
         },
         "marker": {
          "symbol": "circle"
         },
         "mode": "lines",
         "name": "2034-10-31 00:00:00",
         "showlegend": false,
         "type": "scattergl",
         "x": {
          "bdata": "AQIDBAUGBwgJCgsMDQ4PEBESExQVFhcY",
          "dtype": "i1"
         },
         "xaxis": "x2",
         "y": {
          "bdata": "AAAAAAAAAAAAAAAAAAAAAAAAAAAAAAAAAAAAAAAAAAAAAAAAAAAAAAAAAAAAAAAAAAAAAAAAAAAAAAAAAAAAAAAAAAAAAAAAAAAAAAAAAAAAAAAAAAAAAAAAAAAAAAAAAAAAAAAAAAAAAAAAAAAAAAAAAAAAAAAAAAAAAAAAAAAAAAAAAAAAAAAAAAAAAAAAAAAAAAAAAAAAAAAAAAAAAAAAAAAAAAAAAAAAAAAAAAAAAAAAAAAAAAAAAAAAAAAA",
          "dtype": "f8"
         },
         "yaxis": "y2"
        },
        {
         "hovertemplate": "date=2034-10-31 00:00:00<br>variable=default_flag<br>default_month=%{x}<br>value=%{y}<extra></extra>",
         "legendgroup": "2034-10-31 00:00:00",
         "line": {
          "color": "#7F7F7F",
          "dash": "solid"
         },
         "marker": {
          "symbol": "circle"
         },
         "mode": "lines",
         "name": "2034-10-31 00:00:00",
         "showlegend": false,
         "type": "scattergl",
         "x": {
          "bdata": "AQIDBAUGBwgJCgsMDQ4PEBESExQVFhcY",
          "dtype": "i1"
         },
         "xaxis": "x3",
         "y": {
          "bdata": "AAAAAAAAAAAAAAAAAAAAAAAAAAAAAAAAAAAAAAAAAAAAAAAAAAAAAAAAAAAAAAAAAAAAAAAAAAAAAAAAAAAAAAAAAAAAAAAAAAAAAAAAAAAAAAAAAAAAAAAAAAAAAAAAAAAAAAAAAAAAAAAAAAAAAAAAAAAAAAAAAAAAAAAAAAAAAAAAAAAAAAAAAAAAAAAAAAAAAAAAAAAAAAAAAAAAAAAAAAAAAAAAAAAAAAAAAAAAAAAAAAAAAAAAAAAAAAAA",
          "dtype": "f8"
         },
         "yaxis": "y3"
        },
        {
         "hovertemplate": "date=2034-11-30 00:00:00<br>variable=id<br>default_month=%{x}<br>value=%{y}<extra></extra>",
         "legendgroup": "2034-11-30 00:00:00",
         "line": {
          "color": "#BCBD22",
          "dash": "solid"
         },
         "marker": {
          "symbol": "circle"
         },
         "mode": "lines",
         "name": "2034-11-30 00:00:00",
         "showlegend": true,
         "type": "scattergl",
         "x": {
          "bdata": "AQIDBAUGBwgJCgsMDQ4PEBESExQVFhcY",
          "dtype": "i1"
         },
         "xaxis": "x",
         "y": {
          "bdata": "AAAAAAA0mkAAAAAAADSaQAAAAAAANJpAAAAAAAA0mkAAAAAAADSaQAAAAAAANJpAAAAAAAA0mkAAAAAAADSaQAAAAAAANJpAAAAAAAA0mkAAAAAAADSaQAAAAAAANJpAAAAAAAA0mkAAAAAAADSaQAAAAAAANJpAAAAAAAA0mkAAAAAAADSaQAAAAAAANJpAAAAAAAA0mkAAAAAAADSaQAAAAAAANJpAAAAAAAA0mkAAAAAAADSaQAAAAAAANJpA",
          "dtype": "f8"
         },
         "yaxis": "y"
        },
        {
         "hovertemplate": "date=2034-11-30 00:00:00<br>variable=cum_defaults<br>default_month=%{x}<br>value=%{y}<extra></extra>",
         "legendgroup": "2034-11-30 00:00:00",
         "line": {
          "color": "#BCBD22",
          "dash": "solid"
         },
         "marker": {
          "symbol": "circle"
         },
         "mode": "lines",
         "name": "2034-11-30 00:00:00",
         "showlegend": false,
         "type": "scattergl",
         "x": {
          "bdata": "AQIDBAUGBwgJCgsMDQ4PEBESExQVFhcY",
          "dtype": "i1"
         },
         "xaxis": "x2",
         "y": {
          "bdata": "AAAAAAAAAAAAAAAAAAAAAAAAAAAAAAAAAAAAAAAAAAAAAAAAAAAAAAAAAAAAAAAAAAAAAAAAAAAAAAAAAAAAAAAAAAAAAAAAAAAAAAAAAAAAAAAAAAAAAAAAAAAAAAAAAAAAAAAAAAAAAAAAAAAAAAAAAAAAAAAAAAAAAAAAAAAAAAAAAAAAAAAAAAAAAAAAAAAAAAAAAAAAAAAAAAAAAAAAAAAAAAAAAAAAAAAAAAAAAAAAAAAAAAAAAAAAAAAA",
          "dtype": "f8"
         },
         "yaxis": "y2"
        },
        {
         "hovertemplate": "date=2034-11-30 00:00:00<br>variable=default_flag<br>default_month=%{x}<br>value=%{y}<extra></extra>",
         "legendgroup": "2034-11-30 00:00:00",
         "line": {
          "color": "#BCBD22",
          "dash": "solid"
         },
         "marker": {
          "symbol": "circle"
         },
         "mode": "lines",
         "name": "2034-11-30 00:00:00",
         "showlegend": false,
         "type": "scattergl",
         "x": {
          "bdata": "AQIDBAUGBwgJCgsMDQ4PEBESExQVFhcY",
          "dtype": "i1"
         },
         "xaxis": "x3",
         "y": {
          "bdata": "AAAAAAAAAAAAAAAAAAAAAAAAAAAAAAAAAAAAAAAAAAAAAAAAAAAAAAAAAAAAAAAAAAAAAAAAAAAAAAAAAAAAAAAAAAAAAAAAAAAAAAAAAAAAAAAAAAAAAAAAAAAAAAAAAAAAAAAAAAAAAAAAAAAAAAAAAAAAAAAAAAAAAAAAAAAAAAAAAAAAAAAAAAAAAAAAAAAAAAAAAAAAAAAAAAAAAAAAAAAAAAAAAAAAAAAAAAAAAAAAAAAAAAAAAAAAAAAA",
          "dtype": "f8"
         },
         "yaxis": "y3"
        },
        {
         "hovertemplate": "date=2034-12-31 00:00:00<br>variable=id<br>default_month=%{x}<br>value=%{y}<extra></extra>",
         "legendgroup": "2034-12-31 00:00:00",
         "line": {
          "color": "#17BECF",
          "dash": "solid"
         },
         "marker": {
          "symbol": "circle"
         },
         "mode": "lines",
         "name": "2034-12-31 00:00:00",
         "showlegend": true,
         "type": "scattergl",
         "x": {
          "bdata": "AQIDBAUGBwgJCgsMDQ4PEBESExQVFhcY",
          "dtype": "i1"
         },
         "xaxis": "x",
         "y": {
          "bdata": "AAAAAAD0lEAAAAAAAPSUQAAAAAAA9JRAAAAAAAD0lEAAAAAAAPSUQAAAAAAA9JRAAAAAAAD0lEAAAAAAAPSUQAAAAAAA9JRAAAAAAAD0lEAAAAAAAPSUQAAAAAAA9JRAAAAAAAD0lEAAAAAAAPSUQAAAAAAA9JRAAAAAAAD0lEAAAAAAAPSUQAAAAAAA9JRAAAAAAAD0lEAAAAAAAPSUQAAAAAAA9JRAAAAAAAD0lEAAAAAAAPSUQAAAAAAA9JRA",
          "dtype": "f8"
         },
         "yaxis": "y"
        },
        {
         "hovertemplate": "date=2034-12-31 00:00:00<br>variable=cum_defaults<br>default_month=%{x}<br>value=%{y}<extra></extra>",
         "legendgroup": "2034-12-31 00:00:00",
         "line": {
          "color": "#17BECF",
          "dash": "solid"
         },
         "marker": {
          "symbol": "circle"
         },
         "mode": "lines",
         "name": "2034-12-31 00:00:00",
         "showlegend": false,
         "type": "scattergl",
         "x": {
          "bdata": "AQIDBAUGBwgJCgsMDQ4PEBESExQVFhcY",
          "dtype": "i1"
         },
         "xaxis": "x2",
         "y": {
          "bdata": "AAAAAAAAAAAAAAAAAAAAAAAAAAAAAAAAAAAAAAAAAAAAAAAAAAAAAAAAAAAAAAAAAAAAAAAAAAAAAAAAAAAAAAAAAAAAAAAAAAAAAAAAAAAAAAAAAAAAAAAAAAAAAAAAAAAAAAAAAAAAAAAAAAAAAAAAAAAAAAAAAAAAAAAAAAAAAAAAAAAAAAAAAAAAAAAAAAAAAAAAAAAAAAAAAAAAAAAAAAAAAAAAAAAAAAAAAAAAAAAAAAAAAAAAAAAAAAAA",
          "dtype": "f8"
         },
         "yaxis": "y2"
        },
        {
         "hovertemplate": "date=2034-12-31 00:00:00<br>variable=default_flag<br>default_month=%{x}<br>value=%{y}<extra></extra>",
         "legendgroup": "2034-12-31 00:00:00",
         "line": {
          "color": "#17BECF",
          "dash": "solid"
         },
         "marker": {
          "symbol": "circle"
         },
         "mode": "lines",
         "name": "2034-12-31 00:00:00",
         "showlegend": false,
         "type": "scattergl",
         "x": {
          "bdata": "AQIDBAUGBwgJCgsMDQ4PEBESExQVFhcY",
          "dtype": "i1"
         },
         "xaxis": "x3",
         "y": {
          "bdata": "AAAAAAAAAAAAAAAAAAAAAAAAAAAAAAAAAAAAAAAAAAAAAAAAAAAAAAAAAAAAAAAAAAAAAAAAAAAAAAAAAAAAAAAAAAAAAAAAAAAAAAAAAAAAAAAAAAAAAAAAAAAAAAAAAAAAAAAAAAAAAAAAAAAAAAAAAAAAAAAAAAAAAAAAAAAAAAAAAAAAAAAAAAAAAAAAAAAAAAAAAAAAAAAAAAAAAAAAAAAAAAAAAAAAAAAAAAAAAAAAAAAAAAAAAAAAAAAA",
          "dtype": "f8"
         },
         "yaxis": "y3"
        },
        {
         "hovertemplate": "date=2035-01-31 00:00:00<br>variable=id<br>default_month=%{x}<br>value=%{y}<extra></extra>",
         "legendgroup": "2035-01-31 00:00:00",
         "line": {
          "color": "#1F77B4",
          "dash": "solid"
         },
         "marker": {
          "symbol": "circle"
         },
         "mode": "lines",
         "name": "2035-01-31 00:00:00",
         "showlegend": true,
         "type": "scattergl",
         "x": {
          "bdata": "AQIDBAUGBwgJCgsMDQ4PEBESExQVFhcY",
          "dtype": "i1"
         },
         "xaxis": "x",
         "y": {
          "bdata": "AAAAAADgjkAAAAAAAOCOQAAAAAAA4I5AAAAAAADgjkAAAAAAAOCOQAAAAAAA4I5AAAAAAADgjkAAAAAAAOCOQAAAAAAA4I5AAAAAAADgjkAAAAAAAOCOQAAAAAAA4I5AAAAAAADgjkAAAAAAAOCOQAAAAAAA4I5AAAAAAADgjkAAAAAAAOCOQAAAAAAA4I5AAAAAAADgjkAAAAAAAOCOQAAAAAAA4I5AAAAAAADgjkAAAAAAAOCOQAAAAAAA4I5A",
          "dtype": "f8"
         },
         "yaxis": "y"
        },
        {
         "hovertemplate": "date=2035-01-31 00:00:00<br>variable=cum_defaults<br>default_month=%{x}<br>value=%{y}<extra></extra>",
         "legendgroup": "2035-01-31 00:00:00",
         "line": {
          "color": "#1F77B4",
          "dash": "solid"
         },
         "marker": {
          "symbol": "circle"
         },
         "mode": "lines",
         "name": "2035-01-31 00:00:00",
         "showlegend": false,
         "type": "scattergl",
         "x": {
          "bdata": "AQIDBAUGBwgJCgsMDQ4PEBESExQVFhcY",
          "dtype": "i1"
         },
         "xaxis": "x2",
         "y": {
          "bdata": "AAAAAAAAAAAAAAAAAAAAAAAAAAAAAAAAAAAAAAAAAAAAAAAAAAAAAAAAAAAAAAAAAAAAAAAAAAAAAAAAAAAAAAAAAAAAAAAAAAAAAAAAAAAAAAAAAAAAAAAAAAAAAAAAAAAAAAAAAAAAAAAAAAAAAAAAAAAAAAAAAAAAAAAAAAAAAAAAAAAAAAAAAAAAAAAAAAAAAAAAAAAAAAAAAAAAAAAAAAAAAAAAAAAAAAAAAAAAAAAAAAAAAAAAAAAAAAAA",
          "dtype": "f8"
         },
         "yaxis": "y2"
        },
        {
         "hovertemplate": "date=2035-01-31 00:00:00<br>variable=default_flag<br>default_month=%{x}<br>value=%{y}<extra></extra>",
         "legendgroup": "2035-01-31 00:00:00",
         "line": {
          "color": "#1F77B4",
          "dash": "solid"
         },
         "marker": {
          "symbol": "circle"
         },
         "mode": "lines",
         "name": "2035-01-31 00:00:00",
         "showlegend": false,
         "type": "scattergl",
         "x": {
          "bdata": "AQIDBAUGBwgJCgsMDQ4PEBESExQVFhcY",
          "dtype": "i1"
         },
         "xaxis": "x3",
         "y": {
          "bdata": "AAAAAAAAAAAAAAAAAAAAAAAAAAAAAAAAAAAAAAAAAAAAAAAAAAAAAAAAAAAAAAAAAAAAAAAAAAAAAAAAAAAAAAAAAAAAAAAAAAAAAAAAAAAAAAAAAAAAAAAAAAAAAAAAAAAAAAAAAAAAAAAAAAAAAAAAAAAAAAAAAAAAAAAAAAAAAAAAAAAAAAAAAAAAAAAAAAAAAAAAAAAAAAAAAAAAAAAAAAAAAAAAAAAAAAAAAAAAAAAAAAAAAAAAAAAAAAAA",
          "dtype": "f8"
         },
         "yaxis": "y3"
        },
        {
         "hovertemplate": "date=2035-02-28 00:00:00<br>variable=id<br>default_month=%{x}<br>value=%{y}<extra></extra>",
         "legendgroup": "2035-02-28 00:00:00",
         "line": {
          "color": "#FF7F0E",
          "dash": "solid"
         },
         "marker": {
          "symbol": "circle"
         },
         "mode": "lines",
         "name": "2035-02-28 00:00:00",
         "showlegend": true,
         "type": "scattergl",
         "x": {
          "bdata": "AQIDBAUGBwgJCgsMDQ4PEBESExQVFhcY",
          "dtype": "i1"
         },
         "xaxis": "x",
         "y": {
          "bdata": "AAAAAAAYhkAAAAAAABiGQAAAAAAAGIZAAAAAAAAYhkAAAAAAABiGQAAAAAAAGIZAAAAAAAAYhkAAAAAAABiGQAAAAAAAGIZAAAAAAAAYhkAAAAAAABiGQAAAAAAAGIZAAAAAAAAYhkAAAAAAABiGQAAAAAAAGIZAAAAAAAAYhkAAAAAAABiGQAAAAAAAGIZAAAAAAAAYhkAAAAAAABiGQAAAAAAAGIZAAAAAAAAYhkAAAAAAABiGQAAAAAAAGIZA",
          "dtype": "f8"
         },
         "yaxis": "y"
        },
        {
         "hovertemplate": "date=2035-02-28 00:00:00<br>variable=cum_defaults<br>default_month=%{x}<br>value=%{y}<extra></extra>",
         "legendgroup": "2035-02-28 00:00:00",
         "line": {
          "color": "#FF7F0E",
          "dash": "solid"
         },
         "marker": {
          "symbol": "circle"
         },
         "mode": "lines",
         "name": "2035-02-28 00:00:00",
         "showlegend": false,
         "type": "scattergl",
         "x": {
          "bdata": "AQIDBAUGBwgJCgsMDQ4PEBESExQVFhcY",
          "dtype": "i1"
         },
         "xaxis": "x2",
         "y": {
          "bdata": "AAAAAAAAAAAAAAAAAAAAAAAAAAAAAAAAAAAAAAAAAAAAAAAAAAAAAAAAAAAAAAAAAAAAAAAAAAAAAAAAAAAAAAAAAAAAAAAAAAAAAAAAAAAAAAAAAAAAAAAAAAAAAAAAAAAAAAAAAAAAAAAAAAAAAAAAAAAAAAAAAAAAAAAAAAAAAAAAAAAAAAAAAAAAAAAAAAAAAAAAAAAAAAAAAAAAAAAAAAAAAAAAAAAAAAAAAAAAAAAAAAAAAAAAAAAAAAAA",
          "dtype": "f8"
         },
         "yaxis": "y2"
        },
        {
         "hovertemplate": "date=2035-02-28 00:00:00<br>variable=default_flag<br>default_month=%{x}<br>value=%{y}<extra></extra>",
         "legendgroup": "2035-02-28 00:00:00",
         "line": {
          "color": "#FF7F0E",
          "dash": "solid"
         },
         "marker": {
          "symbol": "circle"
         },
         "mode": "lines",
         "name": "2035-02-28 00:00:00",
         "showlegend": false,
         "type": "scattergl",
         "x": {
          "bdata": "AQIDBAUGBwgJCgsMDQ4PEBESExQVFhcY",
          "dtype": "i1"
         },
         "xaxis": "x3",
         "y": {
          "bdata": "AAAAAAAAAAAAAAAAAAAAAAAAAAAAAAAAAAAAAAAAAAAAAAAAAAAAAAAAAAAAAAAAAAAAAAAAAAAAAAAAAAAAAAAAAAAAAAAAAAAAAAAAAAAAAAAAAAAAAAAAAAAAAAAAAAAAAAAAAAAAAAAAAAAAAAAAAAAAAAAAAAAAAAAAAAAAAAAAAAAAAAAAAAAAAAAAAAAAAAAAAAAAAAAAAAAAAAAAAAAAAAAAAAAAAAAAAAAAAAAAAAAAAAAAAAAAAAAA",
          "dtype": "f8"
         },
         "yaxis": "y3"
        },
        {
         "hovertemplate": "date=2035-03-31 00:00:00<br>variable=id<br>default_month=%{x}<br>value=%{y}<extra></extra>",
         "legendgroup": "2035-03-31 00:00:00",
         "line": {
          "color": "#2CA02C",
          "dash": "solid"
         },
         "marker": {
          "symbol": "circle"
         },
         "mode": "lines",
         "name": "2035-03-31 00:00:00",
         "showlegend": true,
         "type": "scattergl",
         "x": {
          "bdata": "AQIDBAUGBwgJCgsMDQ4PEBESExQVFhcY",
          "dtype": "i1"
         },
         "xaxis": "x",
         "y": {
          "bdata": "AAAAAABwdUAAAAAAAHB1QAAAAAAAcHVAAAAAAABwdUAAAAAAAHB1QAAAAAAAcHVAAAAAAABwdUAAAAAAAHB1QAAAAAAAcHVAAAAAAABwdUAAAAAAAHB1QAAAAAAAcHVAAAAAAABwdUAAAAAAAHB1QAAAAAAAcHVAAAAAAABwdUAAAAAAAHB1QAAAAAAAcHVAAAAAAABwdUAAAAAAAHB1QAAAAAAAcHVAAAAAAABwdUAAAAAAAHB1QAAAAAAAcHVA",
          "dtype": "f8"
         },
         "yaxis": "y"
        },
        {
         "hovertemplate": "date=2035-03-31 00:00:00<br>variable=cum_defaults<br>default_month=%{x}<br>value=%{y}<extra></extra>",
         "legendgroup": "2035-03-31 00:00:00",
         "line": {
          "color": "#2CA02C",
          "dash": "solid"
         },
         "marker": {
          "symbol": "circle"
         },
         "mode": "lines",
         "name": "2035-03-31 00:00:00",
         "showlegend": false,
         "type": "scattergl",
         "x": {
          "bdata": "AQIDBAUGBwgJCgsMDQ4PEBESExQVFhcY",
          "dtype": "i1"
         },
         "xaxis": "x2",
         "y": {
          "bdata": "AAAAAAAAAAAAAAAAAAAAAAAAAAAAAAAAAAAAAAAAAAAAAAAAAAAAAAAAAAAAAAAAAAAAAAAAAAAAAAAAAAAAAAAAAAAAAAAAAAAAAAAAAAAAAAAAAAAAAAAAAAAAAAAAAAAAAAAAAAAAAAAAAAAAAAAAAAAAAAAAAAAAAAAAAAAAAAAAAAAAAAAAAAAAAAAAAAAAAAAAAAAAAAAAAAAAAAAAAAAAAAAAAAAAAAAAAAAAAAAAAAAAAAAAAAAAAAAA",
          "dtype": "f8"
         },
         "yaxis": "y2"
        },
        {
         "hovertemplate": "date=2035-03-31 00:00:00<br>variable=default_flag<br>default_month=%{x}<br>value=%{y}<extra></extra>",
         "legendgroup": "2035-03-31 00:00:00",
         "line": {
          "color": "#2CA02C",
          "dash": "solid"
         },
         "marker": {
          "symbol": "circle"
         },
         "mode": "lines",
         "name": "2035-03-31 00:00:00",
         "showlegend": false,
         "type": "scattergl",
         "x": {
          "bdata": "AQIDBAUGBwgJCgsMDQ4PEBESExQVFhcY",
          "dtype": "i1"
         },
         "xaxis": "x3",
         "y": {
          "bdata": "AAAAAAAAAAAAAAAAAAAAAAAAAAAAAAAAAAAAAAAAAAAAAAAAAAAAAAAAAAAAAAAAAAAAAAAAAAAAAAAAAAAAAAAAAAAAAAAAAAAAAAAAAAAAAAAAAAAAAAAAAAAAAAAAAAAAAAAAAAAAAAAAAAAAAAAAAAAAAAAAAAAAAAAAAAAAAAAAAAAAAAAAAAAAAAAAAAAAAAAAAAAAAAAAAAAAAAAAAAAAAAAAAAAAAAAAAAAAAAAAAAAAAAAAAAAAAAAA",
          "dtype": "f8"
         },
         "yaxis": "y3"
        }
       ],
       "layout": {
        "annotations": [
         {
          "font": {},
          "showarrow": false,
          "text": "variable=id",
          "x": 0.15999999999999998,
          "xanchor": "center",
          "xref": "paper",
          "y": 1,
          "yanchor": "bottom",
          "yref": "paper"
         },
         {
          "font": {},
          "showarrow": false,
          "text": "variable=cum_defaults",
          "x": 0.49999999999999994,
          "xanchor": "center",
          "xref": "paper",
          "y": 1,
          "yanchor": "bottom",
          "yref": "paper"
         },
         {
          "font": {},
          "showarrow": false,
          "text": "variable=default_flag",
          "x": 0.8399999999999999,
          "xanchor": "center",
          "xref": "paper",
          "y": 1,
          "yanchor": "bottom",
          "yref": "paper"
         }
        ],
        "legend": {
         "title": {
          "text": "date"
         },
         "tracegroupgap": 0
        },
        "margin": {
         "t": 60
        },
        "template": {
         "data": {
          "scatter": [
           {
            "type": "scatter"
           }
          ]
         }
        },
        "width": 1000,
        "xaxis": {
         "anchor": "y",
         "domain": [
          0,
          0.31999999999999995
         ],
         "title": {
          "text": "default_month"
         }
        },
        "xaxis2": {
         "anchor": "y2",
         "domain": [
          0.33999999999999997,
          0.6599999999999999
         ],
         "matches": "x",
         "title": {
          "text": "default_month"
         }
        },
        "xaxis3": {
         "anchor": "y3",
         "domain": [
          0.6799999999999999,
          0.9999999999999999
         ],
         "matches": "x",
         "title": {
          "text": "default_month"
         }
        },
        "yaxis": {
         "anchor": "x",
         "domain": [
          0,
          1
         ],
         "showticklabels": true,
         "title": {
          "text": "value"
         }
        },
        "yaxis2": {
         "anchor": "x2",
         "domain": [
          0,
          1
         ],
         "showticklabels": true
        },
        "yaxis3": {
         "anchor": "x3",
         "domain": [
          0,
          1
         ],
         "showticklabels": true
        }
       }
      }
     },
     "metadata": {},
     "output_type": "display_data"
    }
   ],
   "source": [
    "data_chart = df_sample\\\n",
    "    .groupby(['date','default_month'])\\\n",
    "    .agg({\n",
    "        'id' : 'count',\n",
    "        'cum_defaults': 'mean',\n",
    "        'default_flag': 'mean'\n",
    "    }) \\\n",
    "    .reset_index()\\\n",
    "    .melt(id_vars=['date', 'default_month'])\n",
    "\n",
    "\n",
    "fig = px.line(\n",
    "    data_chart,\n",
    "    x='default_month',\n",
    "    y='value',\n",
    "    facet_col='variable',\n",
    "    color='date',\n",
    "    template='none',\n",
    "    width=1000\n",
    ")\n",
    "\n",
    "fig.update_yaxes(matches=None, showticklabels=True)\n",
    "# Image(fig.to_image(\"png\", width=1000))\n"
   ]
  },
  {
   "cell_type": "code",
   "execution_count": 8,
   "id": "bc87db9c",
   "metadata": {},
   "outputs": [],
   "source": [
    "df_sample.to_parquet(f\"{output_path}syntetic_sample.parquet\")"
   ]
  }
 ],
 "metadata": {
  "kernelspec": {
   "display_name": ".venv",
   "language": "python",
   "name": "python3"
  },
  "language_info": {
   "codemirror_mode": {
    "name": "ipython",
    "version": 3
   },
   "file_extension": ".py",
   "mimetype": "text/x-python",
   "name": "python",
   "nbconvert_exporter": "python",
   "pygments_lexer": "ipython3",
   "version": "3.10.12"
  }
 },
 "nbformat": 4,
 "nbformat_minor": 5
}
